{
 "cells": [
  {
   "cell_type": "code",
   "execution_count": 1,
   "metadata": {},
   "outputs": [
    {
     "name": "stdout",
     "output_type": "stream",
     "text": [
      "2023-07-03 21:35:10,480 :: matplotlib :: matplotlib data path: /Users/hjavedani/Documents/Lohrasb/.venv/lib/python3.10/site-packages/matplotlib/mpl-data\n",
      "2023-07-03 21:35:10,486 :: matplotlib :: CONFIGDIR=/Users/hjavedani/.matplotlib\n",
      "2023-07-03 21:35:10,489 :: matplotlib :: interactive is False\n",
      "2023-07-03 21:35:10,490 :: matplotlib :: platform is darwin\n",
      "2023-07-03 21:35:10,506 :: graphviz._tools :: deprecate positional args: graphviz.backend.piping.pipe(['renderer', 'formatter', 'neato_no_op', 'quiet'])\n",
      "2023-07-03 21:35:10,508 :: graphviz._tools :: deprecate positional args: graphviz.backend.rendering.render(['renderer', 'formatter', 'neato_no_op', 'quiet'])\n",
      "2023-07-03 21:35:10,510 :: graphviz._tools :: deprecate positional args: graphviz.backend.unflattening.unflatten(['stagger', 'fanout', 'chain', 'encoding'])\n",
      "2023-07-03 21:35:10,512 :: graphviz._tools :: deprecate positional args: graphviz.backend.viewing.view(['quiet'])\n",
      "2023-07-03 21:35:10,516 :: graphviz._tools :: deprecate positional args: graphviz.quoting.quote(['is_html_string', 'is_valid_id', 'dot_keywords', 'endswith_odd_number_of_backslashes', 'escape_unescaped_quotes'])\n",
      "2023-07-03 21:35:10,517 :: graphviz._tools :: deprecate positional args: graphviz.quoting.a_list(['kwargs', 'attributes'])\n",
      "2023-07-03 21:35:10,518 :: graphviz._tools :: deprecate positional args: graphviz.quoting.attr_list(['kwargs', 'attributes'])\n",
      "2023-07-03 21:35:10,521 :: graphviz._tools :: deprecate positional args: graphviz.dot.Dot.clear(['keep_attrs'])\n",
      "2023-07-03 21:35:10,523 :: graphviz._tools :: deprecate positional args: graphviz.dot.Dot.__iter__(['subgraph'])\n",
      "2023-07-03 21:35:10,525 :: graphviz._tools :: deprecate positional args: graphviz.dot.Dot.node(['_attributes'])\n",
      "2023-07-03 21:35:10,525 :: graphviz._tools :: deprecate positional args: graphviz.dot.Dot.edge(['_attributes'])\n",
      "2023-07-03 21:35:10,526 :: graphviz._tools :: deprecate positional args: graphviz.dot.Dot.attr(['_attributes'])\n",
      "2023-07-03 21:35:10,527 :: graphviz._tools :: deprecate positional args: graphviz.dot.Dot.subgraph(['name', 'comment', 'graph_attr', 'node_attr', 'edge_attr', 'body'])\n",
      "2023-07-03 21:35:10,530 :: graphviz._tools :: deprecate positional args: graphviz.piping.Pipe._pipe_legacy(['renderer', 'formatter', 'neato_no_op', 'quiet'])\n",
      "2023-07-03 21:35:10,535 :: graphviz._tools :: deprecate positional args: graphviz.saving.Save.save(['directory'])\n",
      "2023-07-03 21:35:10,536 :: graphviz._tools :: deprecate positional args: graphviz.rendering.Render.render(['directory', 'view', 'cleanup', 'format', 'renderer', 'formatter', 'neato_no_op', 'quiet', 'quiet_view'])\n",
      "2023-07-03 21:35:10,537 :: graphviz._tools :: deprecate positional args: graphviz.rendering.Render.view(['directory', 'cleanup', 'quiet', 'quiet_view'])\n",
      "2023-07-03 21:35:10,540 :: graphviz._tools :: deprecate positional args: graphviz.unflattening.Unflatten.unflatten(['stagger', 'fanout', 'chain'])\n",
      "2023-07-03 21:35:10,542 :: graphviz._tools :: deprecate positional args: graphviz.graphs.BaseGraph.__init__(['comment', 'filename', 'directory', 'format', 'engine', 'encoding', 'graph_attr', 'node_attr', 'edge_attr', 'body', 'strict'])\n",
      "2023-07-03 21:35:10,545 :: graphviz._tools :: deprecate positional args: graphviz.sources.Source.from_file(['directory', 'format', 'engine', 'encoding', 'renderer', 'formatter'])\n",
      "2023-07-03 21:35:10,549 :: graphviz._tools :: deprecate positional args: graphviz.sources.Source.__init__(['filename', 'directory', 'format', 'engine', 'encoding'])\n",
      "2023-07-03 21:35:10,551 :: graphviz._tools :: deprecate positional args: graphviz.sources.Source.save(['directory'])\n"
     ]
    }
   ],
   "source": [
    "from lohrasb.best_estimator import BaseModel\n",
    "from optuna.pruners import HyperbandPruner\n",
    "from optuna.samplers._tpe.sampler import TPESampler\n",
    "from sklearn.model_selection import KFold,train_test_split\n",
    "import pandas as pd\n",
    "import optuna\n",
    "from sklearn.pipeline import Pipeline\n",
    "from feature_engine.imputation import (\n",
    "    CategoricalImputer,\n",
    "    MeanMedianImputer\n",
    "    )\n",
    "from category_encoders import OrdinalEncoder\n",
    "from sklearn.metrics import mean_absolute_error,r2_score\n",
    "from interpret.glassbox import ExplainableBoostingRegressor\n",
    "from interpret import show\n"
   ]
  },
  {
   "attachments": {},
   "cell_type": "markdown",
   "metadata": {},
   "source": [
    "#### Example 2 :Computer Hardware Data Set (a regression problem)\n",
    "  \n",
    "https://archive.ics.uci.edu/ml/datasets/Computer+Hardware"
   ]
  },
  {
   "attachments": {},
   "cell_type": "markdown",
   "metadata": {},
   "source": [
    "#### Part 1: Use BestModel in sklearn pipeline\n"
   ]
  },
  {
   "cell_type": "code",
   "execution_count": 2,
   "metadata": {},
   "outputs": [
    {
     "data": {
      "text/html": [
       "<div>\n",
       "<style scoped>\n",
       "    .dataframe tbody tr th:only-of-type {\n",
       "        vertical-align: middle;\n",
       "    }\n",
       "\n",
       "    .dataframe tbody tr th {\n",
       "        vertical-align: top;\n",
       "    }\n",
       "\n",
       "    .dataframe thead th {\n",
       "        text-align: right;\n",
       "    }\n",
       "</style>\n",
       "<table border=\"1\" class=\"dataframe\">\n",
       "  <thead>\n",
       "    <tr style=\"text-align: right;\">\n",
       "      <th></th>\n",
       "      <th>vendor name</th>\n",
       "      <th>Model Name</th>\n",
       "      <th>MYCT</th>\n",
       "      <th>MMIN</th>\n",
       "      <th>MMAX</th>\n",
       "      <th>CACH</th>\n",
       "      <th>CHMIN</th>\n",
       "      <th>CHMAX</th>\n",
       "      <th>PRP</th>\n",
       "    </tr>\n",
       "  </thead>\n",
       "  <tbody>\n",
       "    <tr>\n",
       "      <th>adviser</th>\n",
       "      <td>32/60</td>\n",
       "      <td>125</td>\n",
       "      <td>256</td>\n",
       "      <td>6000</td>\n",
       "      <td>256</td>\n",
       "      <td>16</td>\n",
       "      <td>128</td>\n",
       "      <td>198</td>\n",
       "      <td>199</td>\n",
       "    </tr>\n",
       "    <tr>\n",
       "      <th>amdahl</th>\n",
       "      <td>470v/7</td>\n",
       "      <td>29</td>\n",
       "      <td>8000</td>\n",
       "      <td>32000</td>\n",
       "      <td>32</td>\n",
       "      <td>8</td>\n",
       "      <td>32</td>\n",
       "      <td>269</td>\n",
       "      <td>253</td>\n",
       "    </tr>\n",
       "    <tr>\n",
       "      <th>amdahl</th>\n",
       "      <td>470v/7a</td>\n",
       "      <td>29</td>\n",
       "      <td>8000</td>\n",
       "      <td>32000</td>\n",
       "      <td>32</td>\n",
       "      <td>8</td>\n",
       "      <td>32</td>\n",
       "      <td>220</td>\n",
       "      <td>253</td>\n",
       "    </tr>\n",
       "    <tr>\n",
       "      <th>amdahl</th>\n",
       "      <td>470v/7b</td>\n",
       "      <td>29</td>\n",
       "      <td>8000</td>\n",
       "      <td>32000</td>\n",
       "      <td>32</td>\n",
       "      <td>8</td>\n",
       "      <td>32</td>\n",
       "      <td>172</td>\n",
       "      <td>253</td>\n",
       "    </tr>\n",
       "    <tr>\n",
       "      <th>amdahl</th>\n",
       "      <td>470v/7c</td>\n",
       "      <td>29</td>\n",
       "      <td>8000</td>\n",
       "      <td>16000</td>\n",
       "      <td>32</td>\n",
       "      <td>8</td>\n",
       "      <td>16</td>\n",
       "      <td>132</td>\n",
       "      <td>132</td>\n",
       "    </tr>\n",
       "    <tr>\n",
       "      <th>...</th>\n",
       "      <td>...</td>\n",
       "      <td>...</td>\n",
       "      <td>...</td>\n",
       "      <td>...</td>\n",
       "      <td>...</td>\n",
       "      <td>...</td>\n",
       "      <td>...</td>\n",
       "      <td>...</td>\n",
       "      <td>...</td>\n",
       "    </tr>\n",
       "    <tr>\n",
       "      <th>sperry</th>\n",
       "      <td>80/8</td>\n",
       "      <td>124</td>\n",
       "      <td>1000</td>\n",
       "      <td>8000</td>\n",
       "      <td>0</td>\n",
       "      <td>1</td>\n",
       "      <td>8</td>\n",
       "      <td>42</td>\n",
       "      <td>37</td>\n",
       "    </tr>\n",
       "    <tr>\n",
       "      <th>sperry</th>\n",
       "      <td>90/80-model-3</td>\n",
       "      <td>98</td>\n",
       "      <td>1000</td>\n",
       "      <td>8000</td>\n",
       "      <td>32</td>\n",
       "      <td>2</td>\n",
       "      <td>8</td>\n",
       "      <td>46</td>\n",
       "      <td>50</td>\n",
       "    </tr>\n",
       "    <tr>\n",
       "      <th>sratus</th>\n",
       "      <td>32</td>\n",
       "      <td>125</td>\n",
       "      <td>2000</td>\n",
       "      <td>8000</td>\n",
       "      <td>0</td>\n",
       "      <td>2</td>\n",
       "      <td>14</td>\n",
       "      <td>52</td>\n",
       "      <td>41</td>\n",
       "    </tr>\n",
       "    <tr>\n",
       "      <th>wang</th>\n",
       "      <td>vs-100</td>\n",
       "      <td>480</td>\n",
       "      <td>512</td>\n",
       "      <td>8000</td>\n",
       "      <td>32</td>\n",
       "      <td>0</td>\n",
       "      <td>0</td>\n",
       "      <td>67</td>\n",
       "      <td>47</td>\n",
       "    </tr>\n",
       "    <tr>\n",
       "      <th>wang</th>\n",
       "      <td>vs-90</td>\n",
       "      <td>480</td>\n",
       "      <td>1000</td>\n",
       "      <td>4000</td>\n",
       "      <td>0</td>\n",
       "      <td>0</td>\n",
       "      <td>0</td>\n",
       "      <td>45</td>\n",
       "      <td>25</td>\n",
       "    </tr>\n",
       "  </tbody>\n",
       "</table>\n",
       "<p>209 rows × 9 columns</p>\n",
       "</div>"
      ],
      "text/plain": [
       "           vendor name  Model Name  MYCT   MMIN  MMAX  CACH  CHMIN  CHMAX  PRP\n",
       "adviser          32/60         125   256   6000   256    16    128    198  199\n",
       "amdahl          470v/7          29  8000  32000    32     8     32    269  253\n",
       "amdahl         470v/7a          29  8000  32000    32     8     32    220  253\n",
       "amdahl         470v/7b          29  8000  32000    32     8     32    172  253\n",
       "amdahl         470v/7c          29  8000  16000    32     8     16    132  132\n",
       "...                ...         ...   ...    ...   ...   ...    ...    ...  ...\n",
       "sperry            80/8         124  1000   8000     0     1      8     42   37\n",
       "sperry   90/80-model-3          98  1000   8000    32     2      8     46   50\n",
       "sratus              32         125  2000   8000     0     2     14     52   41\n",
       "wang            vs-100         480   512   8000    32     0      0     67   47\n",
       "wang             vs-90         480  1000   4000     0     0      0     45   25\n",
       "\n",
       "[209 rows x 9 columns]"
      ]
     },
     "execution_count": 2,
     "metadata": {},
     "output_type": "execute_result"
    }
   ],
   "source": [
    "urldata= \"https://archive.ics.uci.edu/ml/machine-learning-databases/cpu-performance/machine.data\"\n",
    "# column names\n",
    "col_names=[\n",
    "    \"vendor name\",\n",
    "    \"Model Name\",\n",
    "    \"MYCT\",\n",
    "    \"MMIN\",\n",
    "    \"MMAX\",\n",
    "    \"CACH\",\n",
    "    \"CHMIN\",\n",
    "    \"CHMAX\",\n",
    "    \"PRP\"\n",
    "]\n",
    "# read data\n",
    "data = pd.read_csv(urldata,header=None,names=col_names,sep=',')\n",
    "data"
   ]
  },
  {
   "attachments": {},
   "cell_type": "markdown",
   "metadata": {},
   "source": [
    "#### Train test split"
   ]
  },
  {
   "cell_type": "code",
   "execution_count": 3,
   "metadata": {},
   "outputs": [],
   "source": [
    "X = data.loc[:, data.columns != \"PRP\"]\n",
    "y = data.loc[:, data.columns == \"PRP\"]\n",
    "y = y.values.ravel()\n",
    "\n",
    "\n",
    "X_train, X_test, y_train, y_test =train_test_split(X, y, test_size=0.33, random_state=42)\n"
   ]
  },
  {
   "attachments": {},
   "cell_type": "markdown",
   "metadata": {},
   "source": [
    "#### Find feature types for later use"
   ]
  },
  {
   "cell_type": "code",
   "execution_count": 4,
   "metadata": {},
   "outputs": [],
   "source": [
    "int_cols =  X_train.select_dtypes(include=['int']).columns.tolist()\n",
    "float_cols =  X_train.select_dtypes(include=['float']).columns.tolist()\n",
    "cat_cols =  X_train.select_dtypes(include=['object']).columns.tolist()\n"
   ]
  },
  {
   "attachments": {},
   "cell_type": "markdown",
   "metadata": {},
   "source": [
    "####  Define estimator and set its arguments  "
   ]
  },
  {
   "cell_type": "code",
   "execution_count": 5,
   "metadata": {},
   "outputs": [],
   "source": [
    "estimator = ExplainableBoostingRegressor()\n",
    "estimator_params= {\n",
    "                    \"learning_rate\":[0.01,0.1], \n",
    "                    \"validation_size\":[0.15,0.20],\n",
    "                    \"early_stopping_rounds\":[50,200], \n",
    "                    \"early_stopping_tolerance\":[0.00001,0.001], \n",
    "                    \"max_rounds\":[5000,20000], \n",
    "                    \"min_samples_leaf\":[2,5], \n",
    "                    \"max_leaves\":[2,5]  \n",
    "                      }\n",
    "\n",
    "kwargs = {  # params for fit method  \n",
    "            'fit_optuna_kwargs' :{\n",
    "            'sample_weight':None,\n",
    "            },\n",
    "            # params for OptunaSearch\n",
    "            'main_optuna_kwargs' : {\n",
    "            'estimator':estimator,\n",
    "            'estimator_params':estimator_params,\n",
    "            'refit':True,\n",
    "            'measure_of_accuracy':\"mean_absolute_error(y_true, y_pred, multioutput='uniform_average')\",\n",
    "\n",
    "            },\n",
    "            'train_test_split_kwargs':{\n",
    "                'test_size':.3,\n",
    "                            \n",
    "            },\n",
    "            'study_search_kwargs':{\n",
    "                'storage':None,\n",
    "                'sampler':TPESampler(),\n",
    "                'pruner':HyperbandPruner(),\n",
    "                'study_name':\"example of optuna optimizer\",\n",
    "                'direction':\"maximize\",\n",
    "                'load_if_exists':False,\n",
    "            },\n",
    "            'optimize_kwargs':{\n",
    "                # optuna optimization params\n",
    "                'n_trials':20,\n",
    "                'timeout':600,\n",
    "                'catch':(),\n",
    "                'callbacks':None,\n",
    "                'gc_after_trial':False,\n",
    "                'show_progress_bar':False,\n",
    "            }\n",
    "}\n",
    "\n"
   ]
  },
  {
   "cell_type": "code",
   "execution_count": 6,
   "metadata": {},
   "outputs": [],
   "source": [
    "obj = BaseModel().optimize_by_optuna(\n",
    "    kwargs=kwargs\n",
    "        )"
   ]
  },
  {
   "attachments": {},
   "cell_type": "markdown",
   "metadata": {},
   "source": [
    "#### Build sklearn pipeline"
   ]
  },
  {
   "cell_type": "code",
   "execution_count": 7,
   "metadata": {},
   "outputs": [],
   "source": [
    "\n",
    "\n",
    "pipeline =Pipeline([\n",
    "            # int missing values imputers\n",
    "            ('intimputer', MeanMedianImputer(\n",
    "                imputation_method='median', variables=int_cols)),\n",
    "            # category missing values imputers\n",
    "            ('catimputer', CategoricalImputer(variables=cat_cols)),\n",
    "            #\n",
    "            ('catencoder', OrdinalEncoder()),\n",
    "            # regression model \n",
    "            ('obj', obj),\n",
    "\n",
    "\n",
    " ])\n",
    "\n"
   ]
  },
  {
   "attachments": {},
   "cell_type": "markdown",
   "metadata": {},
   "source": [
    "#### Run Pipeline"
   ]
  },
  {
   "cell_type": "code",
   "execution_count": 8,
   "metadata": {},
   "outputs": [
    {
     "name": "stderr",
     "output_type": "stream",
     "text": [
      "[I 2023-07-03 21:35:11,740] A new study created in memory with name: example of optuna optimizer\n"
     ]
    },
    {
     "name": "stdout",
     "output_type": "stream",
     "text": [
      "2023-07-03 21:35:11,744 :: interpret.utils._native :: EBM lib loading.\n",
      "2023-07-03 21:35:11,745 :: interpret.utils._native :: Loading native on Darwin | debug = False\n",
      "2023-07-03 21:35:11,791 :: interpret.utils._binning :: Creating native dataset\n",
      "2023-07-03 21:35:16,088 :: interpret.glassbox.ebm.bin :: eval_terms\n",
      "2023-07-03 21:35:16,093 :: interpret.glassbox.ebm.bin :: eval_terms\n",
      "2023-07-03 21:35:16,096 :: interpret.glassbox.ebm.bin :: eval_terms\n",
      "2023-07-03 21:35:16,098 :: interpret.glassbox.ebm.bin :: eval_terms\n",
      "2023-07-03 21:35:16,100 :: interpret.glassbox.ebm.bin :: eval_terms\n",
      "2023-07-03 21:35:16,102 :: interpret.glassbox.ebm.bin :: eval_terms\n",
      "2023-07-03 21:35:16,105 :: interpret.glassbox.ebm.bin :: eval_terms\n",
      "2023-07-03 21:35:16,108 :: interpret.glassbox.ebm.bin :: eval_terms\n",
      "2023-07-03 21:35:16,112 :: interpret.utils._binning :: Creating native dataset\n",
      "2023-07-03 21:35:16,117 :: interpret.glassbox.ebm.ebm :: Estimating with FAST\n",
      "2023-07-03 21:35:16,314 :: interpret.glassbox.ebm.bin :: eval_terms\n",
      "2023-07-03 21:35:16,325 :: interpret.glassbox.ebm.bin :: eval_terms\n"
     ]
    },
    {
     "name": "stderr",
     "output_type": "stream",
     "text": [
      "[I 2023-07-03 21:35:16,330] Trial 0 finished with value: 16.87398949462853 and parameters: {'learning_rate': 0.06947248706611646, 'validation_size': 0.17512465805463795, 'early_stopping_rounds': 127, 'early_stopping_tolerance': 0.0003001707041208225, 'max_rounds': 13248, 'min_samples_leaf': 4, 'max_leaves': 5}. Best is trial 0 with value: 16.87398949462853.\n"
     ]
    },
    {
     "name": "stdout",
     "output_type": "stream",
     "text": [
      "2023-07-03 21:35:16,341 :: interpret.utils._binning :: Creating native dataset\n",
      "2023-07-03 21:35:17,167 :: interpret.glassbox.ebm.bin :: eval_terms\n",
      "2023-07-03 21:35:17,169 :: interpret.glassbox.ebm.bin :: eval_terms\n",
      "2023-07-03 21:35:17,172 :: interpret.glassbox.ebm.bin :: eval_terms\n",
      "2023-07-03 21:35:17,173 :: interpret.glassbox.ebm.bin :: eval_terms\n",
      "2023-07-03 21:35:17,176 :: interpret.glassbox.ebm.bin :: eval_terms\n",
      "2023-07-03 21:35:17,178 :: interpret.glassbox.ebm.bin :: eval_terms\n",
      "2023-07-03 21:35:17,180 :: interpret.glassbox.ebm.bin :: eval_terms\n",
      "2023-07-03 21:35:17,182 :: interpret.glassbox.ebm.bin :: eval_terms\n",
      "2023-07-03 21:35:17,185 :: interpret.utils._binning :: Creating native dataset\n",
      "2023-07-03 21:35:17,189 :: interpret.glassbox.ebm.ebm :: Estimating with FAST\n",
      "2023-07-03 21:35:17,931 :: interpret.glassbox.ebm.bin :: eval_terms\n",
      "2023-07-03 21:35:17,946 :: interpret.glassbox.ebm.bin :: eval_terms\n"
     ]
    },
    {
     "name": "stderr",
     "output_type": "stream",
     "text": [
      "[I 2023-07-03 21:35:17,949] Trial 1 finished with value: 17.276630235432123 and parameters: {'learning_rate': 0.05376002621321309, 'validation_size': 0.16055152072309012, 'early_stopping_rounds': 149, 'early_stopping_tolerance': 0.0004421058711751661, 'max_rounds': 8791, 'min_samples_leaf': 4, 'max_leaves': 5}. Best is trial 1 with value: 17.276630235432123.\n"
     ]
    },
    {
     "name": "stdout",
     "output_type": "stream",
     "text": [
      "2023-07-03 21:35:17,964 :: interpret.utils._binning :: Creating native dataset\n",
      "2023-07-03 21:35:20,081 :: interpret.glassbox.ebm.bin :: eval_terms\n",
      "2023-07-03 21:35:20,084 :: interpret.glassbox.ebm.bin :: eval_terms\n",
      "2023-07-03 21:35:20,087 :: interpret.glassbox.ebm.bin :: eval_terms\n",
      "2023-07-03 21:35:20,089 :: interpret.glassbox.ebm.bin :: eval_terms\n",
      "2023-07-03 21:35:20,091 :: interpret.glassbox.ebm.bin :: eval_terms\n",
      "2023-07-03 21:35:20,093 :: interpret.glassbox.ebm.bin :: eval_terms\n",
      "2023-07-03 21:35:20,095 :: interpret.glassbox.ebm.bin :: eval_terms\n",
      "2023-07-03 21:35:20,097 :: interpret.glassbox.ebm.bin :: eval_terms\n",
      "2023-07-03 21:35:20,100 :: interpret.utils._binning :: Creating native dataset\n",
      "2023-07-03 21:35:20,104 :: interpret.glassbox.ebm.ebm :: Estimating with FAST\n",
      "2023-07-03 21:35:20,528 :: interpret.glassbox.ebm.bin :: eval_terms\n",
      "2023-07-03 21:35:20,536 :: interpret.glassbox.ebm.bin :: eval_terms\n"
     ]
    },
    {
     "name": "stderr",
     "output_type": "stream",
     "text": [
      "[I 2023-07-03 21:35:20,539] Trial 2 finished with value: 16.481999692140526 and parameters: {'learning_rate': 0.011811848663370702, 'validation_size': 0.19453058881913757, 'early_stopping_rounds': 153, 'early_stopping_tolerance': 0.0006793787666503968, 'max_rounds': 15861, 'min_samples_leaf': 4, 'max_leaves': 5}. Best is trial 1 with value: 17.276630235432123.\n"
     ]
    },
    {
     "name": "stdout",
     "output_type": "stream",
     "text": [
      "2023-07-03 21:35:20,549 :: interpret.utils._binning :: Creating native dataset\n",
      "2023-07-03 21:35:20,680 :: interpret.glassbox.ebm.bin :: eval_terms\n",
      "2023-07-03 21:35:20,681 :: interpret.glassbox.ebm.bin :: eval_terms\n",
      "2023-07-03 21:35:20,683 :: interpret.glassbox.ebm.bin :: eval_terms\n",
      "2023-07-03 21:35:20,686 :: interpret.glassbox.ebm.bin :: eval_terms\n",
      "2023-07-03 21:35:20,688 :: interpret.glassbox.ebm.bin :: eval_terms\n",
      "2023-07-03 21:35:20,691 :: interpret.glassbox.ebm.bin :: eval_terms\n",
      "2023-07-03 21:35:20,693 :: interpret.glassbox.ebm.bin :: eval_terms\n",
      "2023-07-03 21:35:20,695 :: interpret.glassbox.ebm.bin :: eval_terms\n",
      "2023-07-03 21:35:20,697 :: interpret.utils._binning :: Creating native dataset\n",
      "2023-07-03 21:35:20,703 :: interpret.glassbox.ebm.ebm :: Estimating with FAST\n",
      "2023-07-03 21:35:21,395 :: interpret.glassbox.ebm.bin :: eval_terms\n",
      "2023-07-03 21:35:21,405 :: interpret.glassbox.ebm.bin :: eval_terms\n"
     ]
    },
    {
     "name": "stderr",
     "output_type": "stream",
     "text": [
      "[I 2023-07-03 21:35:21,408] Trial 3 finished with value: 16.097571831572814 and parameters: {'learning_rate': 0.0663958123569638, 'validation_size': 0.18942612297189618, 'early_stopping_rounds': 140, 'early_stopping_tolerance': 0.0009033167194177256, 'max_rounds': 18470, 'min_samples_leaf': 3, 'max_leaves': 4}. Best is trial 1 with value: 17.276630235432123.\n"
     ]
    },
    {
     "name": "stdout",
     "output_type": "stream",
     "text": [
      "2023-07-03 21:35:21,418 :: interpret.utils._binning :: Creating native dataset\n",
      "2023-07-03 21:35:21,746 :: interpret.glassbox.ebm.bin :: eval_terms\n",
      "2023-07-03 21:35:21,748 :: interpret.glassbox.ebm.bin :: eval_terms\n",
      "2023-07-03 21:35:21,750 :: interpret.glassbox.ebm.bin :: eval_terms\n",
      "2023-07-03 21:35:21,753 :: interpret.glassbox.ebm.bin :: eval_terms\n",
      "2023-07-03 21:35:21,756 :: interpret.glassbox.ebm.bin :: eval_terms\n",
      "2023-07-03 21:35:21,758 :: interpret.glassbox.ebm.bin :: eval_terms\n",
      "2023-07-03 21:35:21,760 :: interpret.glassbox.ebm.bin :: eval_terms\n",
      "2023-07-03 21:35:21,764 :: interpret.glassbox.ebm.bin :: eval_terms\n",
      "2023-07-03 21:35:21,766 :: interpret.utils._binning :: Creating native dataset\n",
      "2023-07-03 21:35:21,770 :: interpret.glassbox.ebm.ebm :: Estimating with FAST\n",
      "2023-07-03 21:35:22,274 :: interpret.glassbox.ebm.bin :: eval_terms\n",
      "2023-07-03 21:35:22,283 :: interpret.glassbox.ebm.bin :: eval_terms\n"
     ]
    },
    {
     "name": "stderr",
     "output_type": "stream",
     "text": [
      "[I 2023-07-03 21:35:22,286] Trial 4 finished with value: 17.089447125980055 and parameters: {'learning_rate': 0.0373908463885478, 'validation_size': 0.17299930310789657, 'early_stopping_rounds': 87, 'early_stopping_tolerance': 0.0006171478672073588, 'max_rounds': 13391, 'min_samples_leaf': 3, 'max_leaves': 5}. Best is trial 1 with value: 17.276630235432123.\n"
     ]
    },
    {
     "name": "stdout",
     "output_type": "stream",
     "text": [
      "2023-07-03 21:35:22,297 :: interpret.utils._binning :: Creating native dataset\n",
      "2023-07-03 21:35:22,408 :: interpret.glassbox.ebm.bin :: eval_terms\n",
      "2023-07-03 21:35:22,410 :: interpret.glassbox.ebm.bin :: eval_terms\n",
      "2023-07-03 21:35:22,412 :: interpret.glassbox.ebm.bin :: eval_terms\n",
      "2023-07-03 21:35:22,414 :: interpret.glassbox.ebm.bin :: eval_terms\n",
      "2023-07-03 21:35:22,417 :: interpret.glassbox.ebm.bin :: eval_terms\n",
      "2023-07-03 21:35:22,419 :: interpret.glassbox.ebm.bin :: eval_terms\n",
      "2023-07-03 21:35:22,422 :: interpret.glassbox.ebm.bin :: eval_terms\n",
      "2023-07-03 21:35:22,425 :: interpret.glassbox.ebm.bin :: eval_terms\n",
      "2023-07-03 21:35:22,428 :: interpret.utils._binning :: Creating native dataset\n",
      "2023-07-03 21:35:22,431 :: interpret.glassbox.ebm.ebm :: Estimating with FAST\n",
      "2023-07-03 21:35:22,604 :: interpret.glassbox.ebm.bin :: eval_terms\n",
      "2023-07-03 21:35:22,612 :: interpret.glassbox.ebm.bin :: eval_terms\n"
     ]
    },
    {
     "name": "stderr",
     "output_type": "stream",
     "text": [
      "[I 2023-07-03 21:35:22,615] Trial 5 finished with value: 15.974103333650532 and parameters: {'learning_rate': 0.08313269308367591, 'validation_size': 0.16144354634023766, 'early_stopping_rounds': 56, 'early_stopping_tolerance': 0.0005396142145939277, 'max_rounds': 9422, 'min_samples_leaf': 3, 'max_leaves': 3}. Best is trial 1 with value: 17.276630235432123.\n"
     ]
    },
    {
     "name": "stdout",
     "output_type": "stream",
     "text": [
      "2023-07-03 21:35:22,627 :: interpret.utils._binning :: Creating native dataset\n",
      "2023-07-03 21:35:24,344 :: interpret.glassbox.ebm.bin :: eval_terms\n",
      "2023-07-03 21:35:24,349 :: interpret.glassbox.ebm.bin :: eval_terms\n",
      "2023-07-03 21:35:24,353 :: interpret.glassbox.ebm.bin :: eval_terms\n",
      "2023-07-03 21:35:24,355 :: interpret.glassbox.ebm.bin :: eval_terms\n",
      "2023-07-03 21:35:24,359 :: interpret.glassbox.ebm.bin :: eval_terms\n",
      "2023-07-03 21:35:24,363 :: interpret.glassbox.ebm.bin :: eval_terms\n",
      "2023-07-03 21:35:24,368 :: interpret.glassbox.ebm.bin :: eval_terms\n",
      "2023-07-03 21:35:24,371 :: interpret.glassbox.ebm.bin :: eval_terms\n",
      "2023-07-03 21:35:24,376 :: interpret.utils._binning :: Creating native dataset\n",
      "2023-07-03 21:35:24,381 :: interpret.glassbox.ebm.ebm :: Estimating with FAST\n",
      "2023-07-03 21:35:25,058 :: interpret.glassbox.ebm.bin :: eval_terms\n",
      "2023-07-03 21:35:25,067 :: interpret.glassbox.ebm.bin :: eval_terms\n"
     ]
    },
    {
     "name": "stderr",
     "output_type": "stream",
     "text": [
      "[I 2023-07-03 21:35:25,071] Trial 6 finished with value: 13.784420601481255 and parameters: {'learning_rate': 0.09650621444976817, 'validation_size': 0.16007983681741952, 'early_stopping_rounds': 137, 'early_stopping_tolerance': 0.0004959767687898487, 'max_rounds': 11923, 'min_samples_leaf': 4, 'max_leaves': 2}. Best is trial 1 with value: 17.276630235432123.\n"
     ]
    },
    {
     "name": "stdout",
     "output_type": "stream",
     "text": [
      "2023-07-03 21:35:25,083 :: interpret.utils._binning :: Creating native dataset\n",
      "2023-07-03 21:35:25,221 :: interpret.glassbox.ebm.bin :: eval_terms\n",
      "2023-07-03 21:35:25,223 :: interpret.glassbox.ebm.bin :: eval_terms\n",
      "2023-07-03 21:35:25,227 :: interpret.glassbox.ebm.bin :: eval_terms\n",
      "2023-07-03 21:35:25,229 :: interpret.glassbox.ebm.bin :: eval_terms\n",
      "2023-07-03 21:35:25,232 :: interpret.glassbox.ebm.bin :: eval_terms\n",
      "2023-07-03 21:35:25,234 :: interpret.glassbox.ebm.bin :: eval_terms\n",
      "2023-07-03 21:35:25,237 :: interpret.glassbox.ebm.bin :: eval_terms\n",
      "2023-07-03 21:35:25,239 :: interpret.glassbox.ebm.bin :: eval_terms\n",
      "2023-07-03 21:35:25,241 :: interpret.utils._binning :: Creating native dataset\n",
      "2023-07-03 21:35:25,244 :: interpret.glassbox.ebm.ebm :: Estimating with FAST\n",
      "2023-07-03 21:35:25,610 :: interpret.glassbox.ebm.bin :: eval_terms\n",
      "2023-07-03 21:35:25,619 :: interpret.glassbox.ebm.bin :: eval_terms\n"
     ]
    },
    {
     "name": "stderr",
     "output_type": "stream",
     "text": [
      "[I 2023-07-03 21:35:25,622] Trial 7 finished with value: 15.179300337061385 and parameters: {'learning_rate': 0.052510659657334195, 'validation_size': 0.1905550850505424, 'early_stopping_rounds': 144, 'early_stopping_tolerance': 0.0007743389700327338, 'max_rounds': 18803, 'min_samples_leaf': 2, 'max_leaves': 4}. Best is trial 1 with value: 17.276630235432123.\n"
     ]
    },
    {
     "name": "stdout",
     "output_type": "stream",
     "text": [
      "2023-07-03 21:35:25,634 :: interpret.utils._binning :: Creating native dataset\n",
      "2023-07-03 21:35:26,185 :: interpret.glassbox.ebm.bin :: eval_terms\n",
      "2023-07-03 21:35:26,186 :: interpret.glassbox.ebm.bin :: eval_terms\n",
      "2023-07-03 21:35:26,188 :: interpret.glassbox.ebm.bin :: eval_terms\n",
      "2023-07-03 21:35:26,191 :: interpret.glassbox.ebm.bin :: eval_terms\n",
      "2023-07-03 21:35:26,193 :: interpret.glassbox.ebm.bin :: eval_terms\n",
      "2023-07-03 21:35:26,196 :: interpret.glassbox.ebm.bin :: eval_terms\n",
      "2023-07-03 21:35:26,197 :: interpret.glassbox.ebm.bin :: eval_terms\n",
      "2023-07-03 21:35:26,200 :: interpret.glassbox.ebm.bin :: eval_terms\n",
      "2023-07-03 21:35:26,202 :: interpret.utils._binning :: Creating native dataset\n",
      "2023-07-03 21:35:26,206 :: interpret.glassbox.ebm.ebm :: Estimating with FAST\n",
      "2023-07-03 21:35:26,328 :: interpret.glassbox.ebm.bin :: eval_terms\n",
      "2023-07-03 21:35:26,339 :: interpret.glassbox.ebm.bin :: eval_terms\n"
     ]
    },
    {
     "name": "stderr",
     "output_type": "stream",
     "text": [
      "[I 2023-07-03 21:35:26,343] Trial 8 finished with value: 15.468751487658196 and parameters: {'learning_rate': 0.0982400568129906, 'validation_size': 0.17405152690482695, 'early_stopping_rounds': 75, 'early_stopping_tolerance': 3.883474812265785e-05, 'max_rounds': 13353, 'min_samples_leaf': 3, 'max_leaves': 5}. Best is trial 1 with value: 17.276630235432123.\n"
     ]
    },
    {
     "name": "stdout",
     "output_type": "stream",
     "text": [
      "2023-07-03 21:35:26,354 :: interpret.utils._binning :: Creating native dataset\n",
      "2023-07-03 21:35:27,248 :: interpret.glassbox.ebm.bin :: eval_terms\n",
      "2023-07-03 21:35:27,251 :: interpret.glassbox.ebm.bin :: eval_terms\n",
      "2023-07-03 21:35:27,252 :: interpret.glassbox.ebm.bin :: eval_terms\n",
      "2023-07-03 21:35:27,254 :: interpret.glassbox.ebm.bin :: eval_terms\n",
      "2023-07-03 21:35:27,256 :: interpret.glassbox.ebm.bin :: eval_terms\n",
      "2023-07-03 21:35:27,259 :: interpret.glassbox.ebm.bin :: eval_terms\n",
      "2023-07-03 21:35:27,261 :: interpret.glassbox.ebm.bin :: eval_terms\n",
      "2023-07-03 21:35:27,263 :: interpret.glassbox.ebm.bin :: eval_terms\n",
      "2023-07-03 21:35:27,266 :: interpret.utils._binning :: Creating native dataset\n",
      "2023-07-03 21:35:27,269 :: interpret.glassbox.ebm.ebm :: Estimating with FAST\n",
      "2023-07-03 21:35:27,544 :: interpret.glassbox.ebm.bin :: eval_terms\n",
      "2023-07-03 21:35:27,554 :: interpret.glassbox.ebm.bin :: eval_terms\n"
     ]
    },
    {
     "name": "stderr",
     "output_type": "stream",
     "text": [
      "[I 2023-07-03 21:35:27,557] Trial 9 finished with value: 17.971280446987787 and parameters: {'learning_rate': 0.08461009270357911, 'validation_size': 0.1783757449521018, 'early_stopping_rounds': 102, 'early_stopping_tolerance': 0.0002381412094694348, 'max_rounds': 11458, 'min_samples_leaf': 5, 'max_leaves': 3}. Best is trial 9 with value: 17.971280446987787.\n"
     ]
    },
    {
     "name": "stdout",
     "output_type": "stream",
     "text": [
      "2023-07-03 21:35:27,596 :: interpret.utils._binning :: Creating native dataset\n",
      "2023-07-03 21:35:28,375 :: interpret.glassbox.ebm.bin :: eval_terms\n",
      "2023-07-03 21:35:28,377 :: interpret.glassbox.ebm.bin :: eval_terms\n",
      "2023-07-03 21:35:28,379 :: interpret.glassbox.ebm.bin :: eval_terms\n",
      "2023-07-03 21:35:28,381 :: interpret.glassbox.ebm.bin :: eval_terms\n",
      "2023-07-03 21:35:28,383 :: interpret.glassbox.ebm.bin :: eval_terms\n",
      "2023-07-03 21:35:28,386 :: interpret.glassbox.ebm.bin :: eval_terms\n",
      "2023-07-03 21:35:28,388 :: interpret.glassbox.ebm.bin :: eval_terms\n",
      "2023-07-03 21:35:28,390 :: interpret.glassbox.ebm.bin :: eval_terms\n",
      "2023-07-03 21:35:28,392 :: interpret.utils._binning :: Creating native dataset\n",
      "2023-07-03 21:35:28,396 :: interpret.glassbox.ebm.ebm :: Estimating with FAST\n",
      "2023-07-03 21:35:29,309 :: interpret.glassbox.ebm.bin :: eval_terms\n",
      "2023-07-03 21:35:29,319 :: interpret.glassbox.ebm.bin :: eval_terms\n"
     ]
    },
    {
     "name": "stderr",
     "output_type": "stream",
     "text": [
      "[I 2023-07-03 21:35:29,323] Trial 10 finished with value: 17.115423750998428 and parameters: {'learning_rate': 0.08193245166786242, 'validation_size': 0.15144207349266575, 'early_stopping_rounds': 178, 'early_stopping_tolerance': 0.0002206448057660556, 'max_rounds': 5143, 'min_samples_leaf': 5, 'max_leaves': 2}. Best is trial 9 with value: 17.971280446987787.\n"
     ]
    },
    {
     "name": "stdout",
     "output_type": "stream",
     "text": [
      "2023-07-03 21:35:29,363 :: interpret.utils._binning :: Creating native dataset\n",
      "2023-07-03 21:35:30,471 :: interpret.glassbox.ebm.bin :: eval_terms\n",
      "2023-07-03 21:35:30,474 :: interpret.glassbox.ebm.bin :: eval_terms\n",
      "2023-07-03 21:35:30,475 :: interpret.glassbox.ebm.bin :: eval_terms\n",
      "2023-07-03 21:35:30,477 :: interpret.glassbox.ebm.bin :: eval_terms\n",
      "2023-07-03 21:35:30,480 :: interpret.glassbox.ebm.bin :: eval_terms\n",
      "2023-07-03 21:35:30,482 :: interpret.glassbox.ebm.bin :: eval_terms\n",
      "2023-07-03 21:35:30,484 :: interpret.glassbox.ebm.bin :: eval_terms\n",
      "2023-07-03 21:35:30,485 :: interpret.glassbox.ebm.bin :: eval_terms\n",
      "2023-07-03 21:35:30,488 :: interpret.utils._binning :: Creating native dataset\n",
      "2023-07-03 21:35:30,491 :: interpret.glassbox.ebm.ebm :: Estimating with FAST\n",
      "2023-07-03 21:35:30,638 :: interpret.glassbox.ebm.bin :: eval_terms\n",
      "2023-07-03 21:35:30,648 :: interpret.glassbox.ebm.bin :: eval_terms\n"
     ]
    },
    {
     "name": "stderr",
     "output_type": "stream",
     "text": [
      "[I 2023-07-03 21:35:30,651] Trial 11 finished with value: 18.290174506359435 and parameters: {'learning_rate': 0.04737069121309213, 'validation_size': 0.1823544441140356, 'early_stopping_rounds': 98, 'early_stopping_tolerance': 0.00038006567590243684, 'max_rounds': 8196, 'min_samples_leaf': 5, 'max_leaves': 3}. Best is trial 11 with value: 18.290174506359435.\n"
     ]
    },
    {
     "name": "stdout",
     "output_type": "stream",
     "text": [
      "2023-07-03 21:35:30,689 :: interpret.utils._binning :: Creating native dataset\n",
      "2023-07-03 21:35:31,737 :: interpret.glassbox.ebm.bin :: eval_terms\n",
      "2023-07-03 21:35:31,739 :: interpret.glassbox.ebm.bin :: eval_terms\n",
      "2023-07-03 21:35:31,741 :: interpret.glassbox.ebm.bin :: eval_terms\n",
      "2023-07-03 21:35:31,744 :: interpret.glassbox.ebm.bin :: eval_terms\n",
      "2023-07-03 21:35:31,747 :: interpret.glassbox.ebm.bin :: eval_terms\n",
      "2023-07-03 21:35:31,749 :: interpret.glassbox.ebm.bin :: eval_terms\n",
      "2023-07-03 21:35:31,751 :: interpret.glassbox.ebm.bin :: eval_terms\n",
      "2023-07-03 21:35:31,753 :: interpret.glassbox.ebm.bin :: eval_terms\n",
      "2023-07-03 21:35:31,755 :: interpret.utils._binning :: Creating native dataset\n",
      "2023-07-03 21:35:31,758 :: interpret.glassbox.ebm.ebm :: Estimating with FAST\n",
      "2023-07-03 21:35:31,948 :: interpret.glassbox.ebm.bin :: eval_terms\n",
      "2023-07-03 21:35:31,957 :: interpret.glassbox.ebm.bin :: eval_terms\n"
     ]
    },
    {
     "name": "stderr",
     "output_type": "stream",
     "text": [
      "[I 2023-07-03 21:35:31,959] Trial 12 finished with value: 19.456295989931238 and parameters: {'learning_rate': 0.03898416596219829, 'validation_size': 0.18252897500549, 'early_stopping_rounds': 102, 'early_stopping_tolerance': 0.0003277822346275603, 'max_rounds': 7233, 'min_samples_leaf': 5, 'max_leaves': 3}. Best is trial 12 with value: 19.456295989931238.\n"
     ]
    },
    {
     "name": "stdout",
     "output_type": "stream",
     "text": [
      "2023-07-03 21:35:31,999 :: interpret.utils._binning :: Creating native dataset\n",
      "2023-07-03 21:35:32,852 :: interpret.glassbox.ebm.bin :: eval_terms\n",
      "2023-07-03 21:35:32,855 :: interpret.glassbox.ebm.bin :: eval_terms\n",
      "2023-07-03 21:35:32,858 :: interpret.glassbox.ebm.bin :: eval_terms\n",
      "2023-07-03 21:35:32,861 :: interpret.glassbox.ebm.bin :: eval_terms\n",
      "2023-07-03 21:35:32,863 :: interpret.glassbox.ebm.bin :: eval_terms\n",
      "2023-07-03 21:35:32,865 :: interpret.glassbox.ebm.bin :: eval_terms\n",
      "2023-07-03 21:35:32,867 :: interpret.glassbox.ebm.bin :: eval_terms\n",
      "2023-07-03 21:35:32,869 :: interpret.glassbox.ebm.bin :: eval_terms\n",
      "2023-07-03 21:35:32,871 :: interpret.utils._binning :: Creating native dataset\n",
      "2023-07-03 21:35:32,876 :: interpret.glassbox.ebm.ebm :: Estimating with FAST\n",
      "2023-07-03 21:35:33,168 :: interpret.glassbox.ebm.bin :: eval_terms\n",
      "2023-07-03 21:35:33,178 :: interpret.glassbox.ebm.bin :: eval_terms\n"
     ]
    },
    {
     "name": "stderr",
     "output_type": "stream",
     "text": [
      "[I 2023-07-03 21:35:33,180] Trial 13 finished with value: 17.902091538178574 and parameters: {'learning_rate': 0.0364377463490968, 'validation_size': 0.18363285108070593, 'early_stopping_rounds': 108, 'early_stopping_tolerance': 0.0003725902958404637, 'max_rounds': 6009, 'min_samples_leaf': 5, 'max_leaves': 3}. Best is trial 12 with value: 19.456295989931238.\n"
     ]
    },
    {
     "name": "stdout",
     "output_type": "stream",
     "text": [
      "2023-07-03 21:35:33,220 :: interpret.utils._binning :: Creating native dataset\n",
      "2023-07-03 21:35:34,256 :: interpret.glassbox.ebm.bin :: eval_terms\n",
      "2023-07-03 21:35:34,259 :: interpret.glassbox.ebm.bin :: eval_terms\n",
      "2023-07-03 21:35:34,261 :: interpret.glassbox.ebm.bin :: eval_terms\n",
      "2023-07-03 21:35:34,264 :: interpret.glassbox.ebm.bin :: eval_terms\n",
      "2023-07-03 21:35:34,266 :: interpret.glassbox.ebm.bin :: eval_terms\n",
      "2023-07-03 21:35:34,268 :: interpret.glassbox.ebm.bin :: eval_terms\n",
      "2023-07-03 21:35:34,270 :: interpret.glassbox.ebm.bin :: eval_terms\n",
      "2023-07-03 21:35:34,272 :: interpret.glassbox.ebm.bin :: eval_terms\n",
      "2023-07-03 21:35:34,275 :: interpret.utils._binning :: Creating native dataset\n",
      "2023-07-03 21:35:34,278 :: interpret.glassbox.ebm.ebm :: Estimating with FAST\n",
      "2023-07-03 21:35:34,449 :: interpret.glassbox.ebm.bin :: eval_terms\n",
      "2023-07-03 21:35:34,459 :: interpret.glassbox.ebm.bin :: eval_terms\n"
     ]
    },
    {
     "name": "stderr",
     "output_type": "stream",
     "text": [
      "[I 2023-07-03 21:35:34,462] Trial 14 finished with value: 18.602980793356206 and parameters: {'learning_rate': 0.0391778210389462, 'validation_size': 0.1835022943369215, 'early_stopping_rounds': 111, 'early_stopping_tolerance': 0.0003963540330770711, 'max_rounds': 7521, 'min_samples_leaf': 5, 'max_leaves': 3}. Best is trial 12 with value: 19.456295989931238.\n"
     ]
    },
    {
     "name": "stdout",
     "output_type": "stream",
     "text": [
      "2023-07-03 21:35:34,503 :: interpret.utils._binning :: Creating native dataset\n",
      "2023-07-03 21:35:35,545 :: interpret.glassbox.ebm.bin :: eval_terms\n",
      "2023-07-03 21:35:35,547 :: interpret.glassbox.ebm.bin :: eval_terms\n",
      "2023-07-03 21:35:35,550 :: interpret.glassbox.ebm.bin :: eval_terms\n",
      "2023-07-03 21:35:35,552 :: interpret.glassbox.ebm.bin :: eval_terms\n",
      "2023-07-03 21:35:35,553 :: interpret.glassbox.ebm.bin :: eval_terms\n",
      "2023-07-03 21:35:35,556 :: interpret.glassbox.ebm.bin :: eval_terms\n",
      "2023-07-03 21:35:35,559 :: interpret.glassbox.ebm.bin :: eval_terms\n",
      "2023-07-03 21:35:35,561 :: interpret.glassbox.ebm.bin :: eval_terms\n",
      "2023-07-03 21:35:35,562 :: interpret.utils._binning :: Creating native dataset\n",
      "2023-07-03 21:35:35,565 :: interpret.glassbox.ebm.ebm :: Estimating with FAST\n",
      "2023-07-03 21:35:37,318 :: interpret.glassbox.ebm.bin :: eval_terms\n",
      "2023-07-03 21:35:37,327 :: interpret.glassbox.ebm.bin :: eval_terms\n"
     ]
    },
    {
     "name": "stderr",
     "output_type": "stream",
     "text": [
      "[I 2023-07-03 21:35:37,330] Trial 15 finished with value: 20.607124933166315 and parameters: {'learning_rate': 0.025852500989711494, 'validation_size': 0.19950324586816234, 'early_stopping_rounds': 115, 'early_stopping_tolerance': 0.00015463680868392239, 'max_rounds': 7347, 'min_samples_leaf': 5, 'max_leaves': 2}. Best is trial 15 with value: 20.607124933166315.\n"
     ]
    },
    {
     "name": "stdout",
     "output_type": "stream",
     "text": [
      "2023-07-03 21:35:37,369 :: interpret.utils._binning :: Creating native dataset\n",
      "2023-07-03 21:35:38,146 :: interpret.glassbox.ebm.bin :: eval_terms\n",
      "2023-07-03 21:35:38,148 :: interpret.glassbox.ebm.bin :: eval_terms\n",
      "2023-07-03 21:35:38,151 :: interpret.glassbox.ebm.bin :: eval_terms\n",
      "2023-07-03 21:35:38,153 :: interpret.glassbox.ebm.bin :: eval_terms\n",
      "2023-07-03 21:35:38,155 :: interpret.glassbox.ebm.bin :: eval_terms\n",
      "2023-07-03 21:35:38,158 :: interpret.glassbox.ebm.bin :: eval_terms\n",
      "2023-07-03 21:35:38,160 :: interpret.glassbox.ebm.bin :: eval_terms\n",
      "2023-07-03 21:35:38,162 :: interpret.glassbox.ebm.bin :: eval_terms\n",
      "2023-07-03 21:35:38,164 :: interpret.utils._binning :: Creating native dataset\n",
      "2023-07-03 21:35:38,167 :: interpret.glassbox.ebm.ebm :: Estimating with FAST\n",
      "2023-07-03 21:35:38,678 :: interpret.glassbox.ebm.bin :: eval_terms\n",
      "2023-07-03 21:35:38,688 :: interpret.glassbox.ebm.bin :: eval_terms\n"
     ]
    },
    {
     "name": "stderr",
     "output_type": "stream",
     "text": [
      "[I 2023-07-03 21:35:38,690] Trial 16 finished with value: 11.112200602817378 and parameters: {'learning_rate': 0.02077667161714511, 'validation_size': 0.1974118856169047, 'early_stopping_rounds': 72, 'early_stopping_tolerance': 0.00010239608285603522, 'max_rounds': 10596, 'min_samples_leaf': 2, 'max_leaves': 2}. Best is trial 15 with value: 20.607124933166315.\n"
     ]
    },
    {
     "name": "stdout",
     "output_type": "stream",
     "text": [
      "2023-07-03 21:35:38,729 :: interpret.utils._binning :: Creating native dataset\n",
      "2023-07-03 21:35:39,677 :: interpret.glassbox.ebm.bin :: eval_terms\n",
      "2023-07-03 21:35:39,679 :: interpret.glassbox.ebm.bin :: eval_terms\n",
      "2023-07-03 21:35:39,681 :: interpret.glassbox.ebm.bin :: eval_terms\n",
      "2023-07-03 21:35:39,684 :: interpret.glassbox.ebm.bin :: eval_terms\n",
      "2023-07-03 21:35:39,686 :: interpret.glassbox.ebm.bin :: eval_terms\n",
      "2023-07-03 21:35:39,688 :: interpret.glassbox.ebm.bin :: eval_terms\n",
      "2023-07-03 21:35:39,690 :: interpret.glassbox.ebm.bin :: eval_terms\n",
      "2023-07-03 21:35:39,692 :: interpret.glassbox.ebm.bin :: eval_terms\n",
      "2023-07-03 21:35:39,695 :: interpret.utils._binning :: Creating native dataset\n",
      "2023-07-03 21:35:39,697 :: interpret.glassbox.ebm.ebm :: Estimating with FAST\n",
      "2023-07-03 21:35:41,530 :: interpret.glassbox.ebm.bin :: eval_terms\n",
      "2023-07-03 21:35:41,538 :: interpret.glassbox.ebm.bin :: eval_terms\n"
     ]
    },
    {
     "name": "stderr",
     "output_type": "stream",
     "text": [
      "[I 2023-07-03 21:35:41,541] Trial 17 finished with value: 20.696284939063283 and parameters: {'learning_rate': 0.02609035197508329, 'validation_size': 0.19998042352316533, 'early_stopping_rounds': 177, 'early_stopping_tolerance': 0.00014233926859267952, 'max_rounds': 6770, 'min_samples_leaf': 5, 'max_leaves': 2}. Best is trial 17 with value: 20.696284939063283.\n"
     ]
    },
    {
     "name": "stdout",
     "output_type": "stream",
     "text": [
      "2023-07-03 21:35:41,579 :: interpret.utils._binning :: Creating native dataset\n",
      "2023-07-03 21:35:42,546 :: interpret.glassbox.ebm.bin :: eval_terms\n",
      "2023-07-03 21:35:42,547 :: interpret.glassbox.ebm.bin :: eval_terms\n",
      "2023-07-03 21:35:42,549 :: interpret.glassbox.ebm.bin :: eval_terms\n",
      "2023-07-03 21:35:42,551 :: interpret.glassbox.ebm.bin :: eval_terms\n",
      "2023-07-03 21:35:42,553 :: interpret.glassbox.ebm.bin :: eval_terms\n",
      "2023-07-03 21:35:42,556 :: interpret.glassbox.ebm.bin :: eval_terms\n",
      "2023-07-03 21:35:42,558 :: interpret.glassbox.ebm.bin :: eval_terms\n",
      "2023-07-03 21:35:42,560 :: interpret.glassbox.ebm.bin :: eval_terms\n",
      "2023-07-03 21:35:42,563 :: interpret.utils._binning :: Creating native dataset\n",
      "2023-07-03 21:35:42,566 :: interpret.glassbox.ebm.ebm :: Estimating with FAST\n",
      "2023-07-03 21:35:44,186 :: interpret.glassbox.ebm.bin :: eval_terms\n",
      "2023-07-03 21:35:44,195 :: interpret.glassbox.ebm.bin :: eval_terms\n"
     ]
    },
    {
     "name": "stderr",
     "output_type": "stream",
     "text": [
      "[I 2023-07-03 21:35:44,198] Trial 18 finished with value: 13.671903149689467 and parameters: {'learning_rate': 0.026405965615698416, 'validation_size': 0.1999202717864676, 'early_stopping_rounds': 192, 'early_stopping_tolerance': 0.00016376703543045706, 'max_rounds': 6340, 'min_samples_leaf': 4, 'max_leaves': 2}. Best is trial 17 with value: 20.696284939063283.\n"
     ]
    },
    {
     "name": "stdout",
     "output_type": "stream",
     "text": [
      "2023-07-03 21:35:44,239 :: interpret.utils._binning :: Creating native dataset\n",
      "2023-07-03 21:35:45,619 :: interpret.glassbox.ebm.bin :: eval_terms\n",
      "2023-07-03 21:35:45,622 :: interpret.glassbox.ebm.bin :: eval_terms\n",
      "2023-07-03 21:35:45,624 :: interpret.glassbox.ebm.bin :: eval_terms\n",
      "2023-07-03 21:35:45,626 :: interpret.glassbox.ebm.bin :: eval_terms\n",
      "2023-07-03 21:35:45,628 :: interpret.glassbox.ebm.bin :: eval_terms\n",
      "2023-07-03 21:35:45,631 :: interpret.glassbox.ebm.bin :: eval_terms\n",
      "2023-07-03 21:35:45,633 :: interpret.glassbox.ebm.bin :: eval_terms\n",
      "2023-07-03 21:35:45,636 :: interpret.glassbox.ebm.bin :: eval_terms\n",
      "2023-07-03 21:35:45,639 :: interpret.utils._binning :: Creating native dataset\n",
      "2023-07-03 21:35:45,642 :: interpret.glassbox.ebm.ebm :: Estimating with FAST\n",
      "2023-07-03 21:35:50,538 :: interpret.glassbox.ebm.bin :: eval_terms\n",
      "2023-07-03 21:35:50,546 :: interpret.glassbox.ebm.bin :: eval_terms\n"
     ]
    },
    {
     "name": "stderr",
     "output_type": "stream",
     "text": [
      "[I 2023-07-03 21:35:50,549] Trial 19 finished with value: 20.47509722043161 and parameters: {'learning_rate': 0.010513076746714535, 'validation_size': 0.1995127485788442, 'early_stopping_rounds': 167, 'early_stopping_tolerance': 2.2385146335644838e-05, 'max_rounds': 9790, 'min_samples_leaf': 5, 'max_leaves': 2}. Best is trial 17 with value: 20.696284939063283.\n"
     ]
    },
    {
     "name": "stdout",
     "output_type": "stream",
     "text": [
      "2023-07-03 21:35:50,550 :: dev :: If refit is set to True, the optimal model will be refit on the entire dataset, i.e., X_train and y_train!\n",
      "2023-07-03 21:35:50,550 :: dev :: If refit is set to True, the optimal model will be refit on the entire dataset, i.e., X_train and y_train!\n",
      "2023-07-03 21:35:50,560 :: interpret.utils._binning :: Creating native dataset\n",
      "2023-07-03 21:35:51,088 :: interpret.glassbox.ebm.bin :: eval_terms\n",
      "2023-07-03 21:35:51,090 :: interpret.glassbox.ebm.bin :: eval_terms\n",
      "2023-07-03 21:35:51,092 :: interpret.glassbox.ebm.bin :: eval_terms\n",
      "2023-07-03 21:35:51,094 :: interpret.glassbox.ebm.bin :: eval_terms\n",
      "2023-07-03 21:35:51,096 :: interpret.glassbox.ebm.bin :: eval_terms\n",
      "2023-07-03 21:35:51,097 :: interpret.glassbox.ebm.bin :: eval_terms\n",
      "2023-07-03 21:35:51,100 :: interpret.glassbox.ebm.bin :: eval_terms\n",
      "2023-07-03 21:35:51,103 :: interpret.glassbox.ebm.bin :: eval_terms\n",
      "2023-07-03 21:35:51,105 :: interpret.utils._binning :: Creating native dataset\n",
      "2023-07-03 21:35:51,107 :: interpret.glassbox.ebm.ebm :: Estimating with FAST\n",
      "2023-07-03 21:35:51,321 :: interpret.glassbox.ebm.bin :: eval_terms\n",
      "2023-07-03 21:35:51,334 :: interpret.glassbox.ebm.bin :: eval_terms\n"
     ]
    }
   ],
   "source": [
    "pipeline.fit(X_train,y_train)\n",
    "y_pred = pipeline.predict(X_test)\n"
   ]
  },
  {
   "attachments": {},
   "cell_type": "markdown",
   "metadata": {},
   "source": [
    "#### Check performance of the pipeline"
   ]
  },
  {
   "cell_type": "code",
   "execution_count": 9,
   "metadata": {},
   "outputs": [
    {
     "name": "stdout",
     "output_type": "stream",
     "text": [
      "r2 score : \n",
      "0.57528751857482\n"
     ]
    }
   ],
   "source": [
    "print('r2 score : ')\n",
    "print(r2_score(y_test,y_pred))\n"
   ]
  },
  {
   "attachments": {},
   "cell_type": "markdown",
   "metadata": {},
   "source": [
    "#### Part 2: Another way of using it "
   ]
  },
  {
   "cell_type": "code",
   "execution_count": 10,
   "metadata": {},
   "outputs": [],
   "source": [
    "X_train, X_test, y_train, y_test =train_test_split(X, y, test_size=0.33, random_state=42)\n"
   ]
  },
  {
   "attachments": {},
   "cell_type": "markdown",
   "metadata": {},
   "source": [
    "#### Transform features to make them ready for model input"
   ]
  },
  {
   "cell_type": "code",
   "execution_count": 11,
   "metadata": {},
   "outputs": [],
   "source": [
    "transform_pipeline =Pipeline([\n",
    "            # int missing values imputers\n",
    "            ('intimputer', MeanMedianImputer(\n",
    "                imputation_method='median', variables=int_cols)),\n",
    "            # category missing values imputers\n",
    "            ('catimputer', CategoricalImputer(variables=cat_cols)),\n",
    "            #\n",
    "            ('catencoder', OrdinalEncoder()),\n",
    "            # classification model\n",
    "\n",
    " ])"
   ]
  },
  {
   "attachments": {},
   "cell_type": "markdown",
   "metadata": {},
   "source": [
    "#### Transform X_train and X_test"
   ]
  },
  {
   "cell_type": "code",
   "execution_count": 12,
   "metadata": {},
   "outputs": [],
   "source": [
    "X_train=transform_pipeline.fit_transform(X_train,y_train)\n",
    "X_test=transform_pipeline.transform(X_test)\n"
   ]
  },
  {
   "attachments": {},
   "cell_type": "markdown",
   "metadata": {},
   "source": [
    "#### Train model and predict"
   ]
  },
  {
   "cell_type": "code",
   "execution_count": 13,
   "metadata": {},
   "outputs": [
    {
     "name": "stderr",
     "output_type": "stream",
     "text": [
      "[I 2023-07-03 21:35:51,398] A new study created in memory with name: example of optuna optimizer\n"
     ]
    },
    {
     "name": "stdout",
     "output_type": "stream",
     "text": [
      "2023-07-03 21:35:51,410 :: interpret.utils._binning :: Creating native dataset\n",
      "2023-07-03 21:35:51,642 :: interpret.glassbox.ebm.bin :: eval_terms\n",
      "2023-07-03 21:35:51,647 :: interpret.glassbox.ebm.bin :: eval_terms\n",
      "2023-07-03 21:35:51,660 :: interpret.glassbox.ebm.bin :: eval_terms\n",
      "2023-07-03 21:35:51,662 :: interpret.glassbox.ebm.bin :: eval_terms\n",
      "2023-07-03 21:35:51,665 :: interpret.glassbox.ebm.bin :: eval_terms\n",
      "2023-07-03 21:35:51,667 :: interpret.glassbox.ebm.bin :: eval_terms\n",
      "2023-07-03 21:35:51,669 :: interpret.glassbox.ebm.bin :: eval_terms\n",
      "2023-07-03 21:35:51,684 :: interpret.glassbox.ebm.bin :: eval_terms\n",
      "2023-07-03 21:35:51,689 :: interpret.utils._binning :: Creating native dataset\n",
      "2023-07-03 21:35:51,692 :: interpret.glassbox.ebm.ebm :: Estimating with FAST\n",
      "2023-07-03 21:35:51,832 :: interpret.glassbox.ebm.bin :: eval_terms\n",
      "2023-07-03 21:35:51,841 :: interpret.glassbox.ebm.bin :: eval_terms\n"
     ]
    },
    {
     "name": "stderr",
     "output_type": "stream",
     "text": [
      "[I 2023-07-03 21:35:51,844] Trial 0 finished with value: 13.08859825989703 and parameters: {'learning_rate': 0.06989575212117201, 'validation_size': 0.17191775101986767, 'early_stopping_rounds': 81, 'early_stopping_tolerance': 0.0003896138513525824, 'max_rounds': 19315, 'min_samples_leaf': 3, 'max_leaves': 2}. Best is trial 0 with value: 13.08859825989703.\n"
     ]
    },
    {
     "name": "stdout",
     "output_type": "stream",
     "text": [
      "2023-07-03 21:35:51,854 :: interpret.utils._binning :: Creating native dataset\n",
      "2023-07-03 21:35:51,973 :: interpret.glassbox.ebm.bin :: eval_terms\n",
      "2023-07-03 21:35:51,975 :: interpret.glassbox.ebm.bin :: eval_terms\n",
      "2023-07-03 21:35:51,978 :: interpret.glassbox.ebm.bin :: eval_terms\n",
      "2023-07-03 21:35:51,981 :: interpret.glassbox.ebm.bin :: eval_terms\n",
      "2023-07-03 21:35:51,984 :: interpret.glassbox.ebm.bin :: eval_terms\n",
      "2023-07-03 21:35:51,986 :: interpret.glassbox.ebm.bin :: eval_terms\n",
      "2023-07-03 21:35:51,988 :: interpret.glassbox.ebm.bin :: eval_terms\n",
      "2023-07-03 21:35:51,990 :: interpret.glassbox.ebm.bin :: eval_terms\n",
      "2023-07-03 21:35:51,992 :: interpret.utils._binning :: Creating native dataset\n",
      "2023-07-03 21:35:51,995 :: interpret.glassbox.ebm.ebm :: Estimating with FAST\n",
      "2023-07-03 21:35:52,193 :: interpret.glassbox.ebm.bin :: eval_terms\n",
      "2023-07-03 21:35:52,202 :: interpret.glassbox.ebm.bin :: eval_terms\n"
     ]
    },
    {
     "name": "stderr",
     "output_type": "stream",
     "text": [
      "[I 2023-07-03 21:35:52,205] Trial 1 finished with value: 12.381911928292059 and parameters: {'learning_rate': 0.024565060027954326, 'validation_size': 0.1779018044761367, 'early_stopping_rounds': 171, 'early_stopping_tolerance': 0.0003193778222117331, 'max_rounds': 14811, 'min_samples_leaf': 5, 'max_leaves': 4}. Best is trial 0 with value: 13.08859825989703.\n"
     ]
    },
    {
     "name": "stdout",
     "output_type": "stream",
     "text": [
      "2023-07-03 21:35:52,213 :: interpret.utils._binning :: Creating native dataset\n",
      "2023-07-03 21:35:52,298 :: interpret.glassbox.ebm.bin :: eval_terms\n",
      "2023-07-03 21:35:52,300 :: interpret.glassbox.ebm.bin :: eval_terms\n",
      "2023-07-03 21:35:52,302 :: interpret.glassbox.ebm.bin :: eval_terms\n",
      "2023-07-03 21:35:52,304 :: interpret.glassbox.ebm.bin :: eval_terms\n",
      "2023-07-03 21:35:52,307 :: interpret.glassbox.ebm.bin :: eval_terms\n",
      "2023-07-03 21:35:52,308 :: interpret.glassbox.ebm.bin :: eval_terms\n",
      "2023-07-03 21:35:52,310 :: interpret.glassbox.ebm.bin :: eval_terms\n",
      "2023-07-03 21:35:52,312 :: interpret.glassbox.ebm.bin :: eval_terms\n",
      "2023-07-03 21:35:52,315 :: interpret.utils._binning :: Creating native dataset\n",
      "2023-07-03 21:35:52,319 :: interpret.glassbox.ebm.ebm :: Estimating with FAST\n",
      "2023-07-03 21:35:52,515 :: interpret.glassbox.ebm.bin :: eval_terms\n",
      "2023-07-03 21:35:52,523 :: interpret.glassbox.ebm.bin :: eval_terms\n"
     ]
    },
    {
     "name": "stderr",
     "output_type": "stream",
     "text": [
      "[I 2023-07-03 21:35:52,526] Trial 2 finished with value: 13.505282778708901 and parameters: {'learning_rate': 0.08192124271082302, 'validation_size': 0.19985398253172676, 'early_stopping_rounds': 164, 'early_stopping_tolerance': 0.0005096577924935418, 'max_rounds': 12054, 'min_samples_leaf': 5, 'max_leaves': 4}. Best is trial 2 with value: 13.505282778708901.\n"
     ]
    },
    {
     "name": "stdout",
     "output_type": "stream",
     "text": [
      "2023-07-03 21:35:52,538 :: interpret.utils._binning :: Creating native dataset\n",
      "2023-07-03 21:35:52,617 :: interpret.glassbox.ebm.bin :: eval_terms\n",
      "2023-07-03 21:35:52,620 :: interpret.glassbox.ebm.bin :: eval_terms\n",
      "2023-07-03 21:35:52,622 :: interpret.glassbox.ebm.bin :: eval_terms\n",
      "2023-07-03 21:35:52,624 :: interpret.glassbox.ebm.bin :: eval_terms\n",
      "2023-07-03 21:35:52,626 :: interpret.glassbox.ebm.bin :: eval_terms\n",
      "2023-07-03 21:35:52,628 :: interpret.glassbox.ebm.bin :: eval_terms\n",
      "2023-07-03 21:35:52,630 :: interpret.glassbox.ebm.bin :: eval_terms\n",
      "2023-07-03 21:35:52,632 :: interpret.glassbox.ebm.bin :: eval_terms\n",
      "2023-07-03 21:35:52,634 :: interpret.utils._binning :: Creating native dataset\n",
      "2023-07-03 21:35:52,638 :: interpret.glassbox.ebm.ebm :: Estimating with FAST\n",
      "2023-07-03 21:35:52,882 :: interpret.glassbox.ebm.bin :: eval_terms\n",
      "2023-07-03 21:35:52,890 :: interpret.glassbox.ebm.bin :: eval_terms\n"
     ]
    },
    {
     "name": "stderr",
     "output_type": "stream",
     "text": [
      "[I 2023-07-03 21:35:52,892] Trial 3 finished with value: 13.53834735556228 and parameters: {'learning_rate': 0.06599219342885462, 'validation_size': 0.16455479321623775, 'early_stopping_rounds': 186, 'early_stopping_tolerance': 0.000350524982639005, 'max_rounds': 16977, 'min_samples_leaf': 3, 'max_leaves': 4}. Best is trial 3 with value: 13.53834735556228.\n"
     ]
    },
    {
     "name": "stdout",
     "output_type": "stream",
     "text": [
      "2023-07-03 21:35:52,902 :: interpret.utils._binning :: Creating native dataset\n",
      "2023-07-03 21:35:52,984 :: interpret.glassbox.ebm.bin :: eval_terms\n",
      "2023-07-03 21:35:52,988 :: interpret.glassbox.ebm.bin :: eval_terms\n",
      "2023-07-03 21:35:52,990 :: interpret.glassbox.ebm.bin :: eval_terms\n",
      "2023-07-03 21:35:52,992 :: interpret.glassbox.ebm.bin :: eval_terms\n",
      "2023-07-03 21:35:52,994 :: interpret.glassbox.ebm.bin :: eval_terms\n",
      "2023-07-03 21:35:52,997 :: interpret.glassbox.ebm.bin :: eval_terms\n",
      "2023-07-03 21:35:52,999 :: interpret.glassbox.ebm.bin :: eval_terms\n",
      "2023-07-03 21:35:53,001 :: interpret.glassbox.ebm.bin :: eval_terms\n",
      "2023-07-03 21:35:53,004 :: interpret.utils._binning :: Creating native dataset\n",
      "2023-07-03 21:35:53,006 :: interpret.glassbox.ebm.ebm :: Estimating with FAST\n",
      "2023-07-03 21:35:53,298 :: interpret.glassbox.ebm.bin :: eval_terms\n",
      "2023-07-03 21:35:53,307 :: interpret.glassbox.ebm.bin :: eval_terms\n"
     ]
    },
    {
     "name": "stderr",
     "output_type": "stream",
     "text": [
      "[I 2023-07-03 21:35:53,310] Trial 4 finished with value: 14.305184492067703 and parameters: {'learning_rate': 0.07194235569997443, 'validation_size': 0.1978695462709093, 'early_stopping_rounds': 191, 'early_stopping_tolerance': 5.972560009818625e-05, 'max_rounds': 7641, 'min_samples_leaf': 2, 'max_leaves': 3}. Best is trial 4 with value: 14.305184492067703.\n"
     ]
    },
    {
     "name": "stdout",
     "output_type": "stream",
     "text": [
      "2023-07-03 21:35:53,321 :: interpret.utils._binning :: Creating native dataset\n",
      "2023-07-03 21:35:53,350 :: interpret.glassbox.ebm.bin :: eval_terms\n",
      "2023-07-03 21:35:53,352 :: interpret.glassbox.ebm.bin :: eval_terms\n",
      "2023-07-03 21:35:53,355 :: interpret.glassbox.ebm.bin :: eval_terms\n",
      "2023-07-03 21:35:53,357 :: interpret.glassbox.ebm.bin :: eval_terms\n",
      "2023-07-03 21:35:53,359 :: interpret.glassbox.ebm.bin :: eval_terms\n",
      "2023-07-03 21:35:53,361 :: interpret.glassbox.ebm.bin :: eval_terms\n",
      "2023-07-03 21:35:53,363 :: interpret.glassbox.ebm.bin :: eval_terms\n",
      "2023-07-03 21:35:53,365 :: interpret.glassbox.ebm.bin :: eval_terms\n",
      "2023-07-03 21:35:53,367 :: interpret.utils._binning :: Creating native dataset\n",
      "2023-07-03 21:35:53,370 :: interpret.glassbox.ebm.ebm :: Estimating with FAST\n",
      "2023-07-03 21:35:53,482 :: interpret.glassbox.ebm.bin :: eval_terms\n",
      "2023-07-03 21:35:53,491 :: interpret.glassbox.ebm.bin :: eval_terms\n"
     ]
    },
    {
     "name": "stderr",
     "output_type": "stream",
     "text": [
      "[I 2023-07-03 21:35:53,493] Trial 5 finished with value: 11.697444136320355 and parameters: {'learning_rate': 0.03290261034180581, 'validation_size': 0.19641142355892557, 'early_stopping_rounds': 55, 'early_stopping_tolerance': 0.00017810794760175034, 'max_rounds': 11449, 'min_samples_leaf': 5, 'max_leaves': 4}. Best is trial 4 with value: 14.305184492067703.\n"
     ]
    },
    {
     "name": "stdout",
     "output_type": "stream",
     "text": [
      "2023-07-03 21:35:53,504 :: interpret.utils._binning :: Creating native dataset\n",
      "2023-07-03 21:35:53,726 :: interpret.glassbox.ebm.bin :: eval_terms\n",
      "2023-07-03 21:35:53,728 :: interpret.glassbox.ebm.bin :: eval_terms\n",
      "2023-07-03 21:35:53,730 :: interpret.glassbox.ebm.bin :: eval_terms\n",
      "2023-07-03 21:35:53,733 :: interpret.glassbox.ebm.bin :: eval_terms\n",
      "2023-07-03 21:35:53,735 :: interpret.glassbox.ebm.bin :: eval_terms\n",
      "2023-07-03 21:35:53,737 :: interpret.glassbox.ebm.bin :: eval_terms\n",
      "2023-07-03 21:35:53,739 :: interpret.glassbox.ebm.bin :: eval_terms\n",
      "2023-07-03 21:35:53,741 :: interpret.glassbox.ebm.bin :: eval_terms\n",
      "2023-07-03 21:35:53,742 :: interpret.utils._binning :: Creating native dataset\n",
      "2023-07-03 21:35:53,746 :: interpret.glassbox.ebm.ebm :: Estimating with FAST\n",
      "2023-07-03 21:35:54,381 :: interpret.glassbox.ebm.bin :: eval_terms\n",
      "2023-07-03 21:35:54,391 :: interpret.glassbox.ebm.bin :: eval_terms\n"
     ]
    },
    {
     "name": "stderr",
     "output_type": "stream",
     "text": [
      "[I 2023-07-03 21:35:54,394] Trial 6 finished with value: 12.650562783389685 and parameters: {'learning_rate': 0.0763631718395205, 'validation_size': 0.16663558274224285, 'early_stopping_rounds': 168, 'early_stopping_tolerance': 0.00014143840257030394, 'max_rounds': 13845, 'min_samples_leaf': 4, 'max_leaves': 2}. Best is trial 4 with value: 14.305184492067703.\n"
     ]
    },
    {
     "name": "stdout",
     "output_type": "stream",
     "text": [
      "2023-07-03 21:35:54,403 :: interpret.utils._binning :: Creating native dataset\n",
      "2023-07-03 21:35:54,454 :: interpret.glassbox.ebm.bin :: eval_terms\n",
      "2023-07-03 21:35:54,456 :: interpret.glassbox.ebm.bin :: eval_terms\n",
      "2023-07-03 21:35:54,457 :: interpret.glassbox.ebm.bin :: eval_terms\n",
      "2023-07-03 21:35:54,460 :: interpret.glassbox.ebm.bin :: eval_terms\n",
      "2023-07-03 21:35:54,463 :: interpret.glassbox.ebm.bin :: eval_terms\n",
      "2023-07-03 21:35:54,465 :: interpret.glassbox.ebm.bin :: eval_terms\n",
      "2023-07-03 21:35:54,467 :: interpret.glassbox.ebm.bin :: eval_terms\n",
      "2023-07-03 21:35:54,469 :: interpret.glassbox.ebm.bin :: eval_terms\n",
      "2023-07-03 21:35:54,471 :: interpret.utils._binning :: Creating native dataset\n",
      "2023-07-03 21:35:54,474 :: interpret.glassbox.ebm.ebm :: Estimating with FAST\n",
      "2023-07-03 21:35:54,585 :: interpret.glassbox.ebm.bin :: eval_terms\n",
      "2023-07-03 21:35:54,595 :: interpret.glassbox.ebm.bin :: eval_terms\n"
     ]
    },
    {
     "name": "stderr",
     "output_type": "stream",
     "text": [
      "[I 2023-07-03 21:35:54,598] Trial 7 finished with value: 15.009530200618034 and parameters: {'learning_rate': 0.053141964828398676, 'validation_size': 0.15418402942694567, 'early_stopping_rounds': 76, 'early_stopping_tolerance': 0.0009576631986361403, 'max_rounds': 5666, 'min_samples_leaf': 2, 'max_leaves': 5}. Best is trial 7 with value: 15.009530200618034.\n"
     ]
    },
    {
     "name": "stdout",
     "output_type": "stream",
     "text": [
      "2023-07-03 21:35:54,607 :: interpret.utils._binning :: Creating native dataset\n",
      "2023-07-03 21:35:54,701 :: interpret.glassbox.ebm.bin :: eval_terms\n",
      "2023-07-03 21:35:54,703 :: interpret.glassbox.ebm.bin :: eval_terms\n",
      "2023-07-03 21:35:54,705 :: interpret.glassbox.ebm.bin :: eval_terms\n",
      "2023-07-03 21:35:54,707 :: interpret.glassbox.ebm.bin :: eval_terms\n",
      "2023-07-03 21:35:54,709 :: interpret.glassbox.ebm.bin :: eval_terms\n",
      "2023-07-03 21:35:54,712 :: interpret.glassbox.ebm.bin :: eval_terms\n",
      "2023-07-03 21:35:54,714 :: interpret.glassbox.ebm.bin :: eval_terms\n",
      "2023-07-03 21:35:54,716 :: interpret.glassbox.ebm.bin :: eval_terms\n",
      "2023-07-03 21:35:54,718 :: interpret.utils._binning :: Creating native dataset\n",
      "2023-07-03 21:35:54,721 :: interpret.glassbox.ebm.ebm :: Estimating with FAST\n",
      "2023-07-03 21:35:55,183 :: interpret.glassbox.ebm.bin :: eval_terms\n",
      "2023-07-03 21:35:55,191 :: interpret.glassbox.ebm.bin :: eval_terms\n"
     ]
    },
    {
     "name": "stderr",
     "output_type": "stream",
     "text": [
      "[I 2023-07-03 21:35:55,195] Trial 8 finished with value: 12.625220903645248 and parameters: {'learning_rate': 0.09044108552107591, 'validation_size': 0.15065163333738074, 'early_stopping_rounds': 67, 'early_stopping_tolerance': 0.0007378462579147412, 'max_rounds': 17497, 'min_samples_leaf': 4, 'max_leaves': 3}. Best is trial 7 with value: 15.009530200618034.\n"
     ]
    },
    {
     "name": "stdout",
     "output_type": "stream",
     "text": [
      "2023-07-03 21:35:55,205 :: interpret.utils._binning :: Creating native dataset\n",
      "2023-07-03 21:35:55,275 :: interpret.glassbox.ebm.bin :: eval_terms\n",
      "2023-07-03 21:35:55,278 :: interpret.glassbox.ebm.bin :: eval_terms\n",
      "2023-07-03 21:35:55,280 :: interpret.glassbox.ebm.bin :: eval_terms\n",
      "2023-07-03 21:35:55,282 :: interpret.glassbox.ebm.bin :: eval_terms\n",
      "2023-07-03 21:35:55,285 :: interpret.glassbox.ebm.bin :: eval_terms\n",
      "2023-07-03 21:35:55,287 :: interpret.glassbox.ebm.bin :: eval_terms\n",
      "2023-07-03 21:35:55,289 :: interpret.glassbox.ebm.bin :: eval_terms\n",
      "2023-07-03 21:35:55,291 :: interpret.glassbox.ebm.bin :: eval_terms\n",
      "2023-07-03 21:35:55,293 :: interpret.utils._binning :: Creating native dataset\n",
      "2023-07-03 21:35:55,297 :: interpret.glassbox.ebm.ebm :: Estimating with FAST\n",
      "2023-07-03 21:35:55,438 :: interpret.glassbox.ebm.bin :: eval_terms\n",
      "2023-07-03 21:35:55,447 :: interpret.glassbox.ebm.bin :: eval_terms\n"
     ]
    },
    {
     "name": "stderr",
     "output_type": "stream",
     "text": [
      "[I 2023-07-03 21:35:55,451] Trial 9 finished with value: 14.45119096569435 and parameters: {'learning_rate': 0.016056489009289118, 'validation_size': 0.19805350794837148, 'early_stopping_rounds': 71, 'early_stopping_tolerance': 0.00012256966284273754, 'max_rounds': 9897, 'min_samples_leaf': 3, 'max_leaves': 4}. Best is trial 7 with value: 15.009530200618034.\n"
     ]
    },
    {
     "name": "stdout",
     "output_type": "stream",
     "text": [
      "2023-07-03 21:35:55,489 :: interpret.utils._binning :: Creating native dataset\n",
      "2023-07-03 21:35:55,555 :: interpret.glassbox.ebm.bin :: eval_terms\n",
      "2023-07-03 21:35:55,557 :: interpret.glassbox.ebm.bin :: eval_terms\n",
      "2023-07-03 21:35:55,560 :: interpret.glassbox.ebm.bin :: eval_terms\n",
      "2023-07-03 21:35:55,562 :: interpret.glassbox.ebm.bin :: eval_terms\n",
      "2023-07-03 21:35:55,565 :: interpret.glassbox.ebm.bin :: eval_terms\n",
      "2023-07-03 21:35:55,567 :: interpret.glassbox.ebm.bin :: eval_terms\n",
      "2023-07-03 21:35:55,569 :: interpret.glassbox.ebm.bin :: eval_terms\n",
      "2023-07-03 21:35:55,571 :: interpret.glassbox.ebm.bin :: eval_terms\n",
      "2023-07-03 21:35:55,573 :: interpret.utils._binning :: Creating native dataset\n",
      "2023-07-03 21:35:55,576 :: interpret.glassbox.ebm.ebm :: Estimating with FAST\n",
      "2023-07-03 21:35:55,738 :: interpret.glassbox.ebm.bin :: eval_terms\n",
      "2023-07-03 21:35:55,747 :: interpret.glassbox.ebm.bin :: eval_terms\n"
     ]
    },
    {
     "name": "stderr",
     "output_type": "stream",
     "text": [
      "[I 2023-07-03 21:35:55,751] Trial 10 finished with value: 14.278295717492234 and parameters: {'learning_rate': 0.04739010595503971, 'validation_size': 0.15224717600261367, 'early_stopping_rounds': 112, 'early_stopping_tolerance': 0.000978501777955446, 'max_rounds': 5203, 'min_samples_leaf': 2, 'max_leaves': 5}. Best is trial 7 with value: 15.009530200618034.\n"
     ]
    },
    {
     "name": "stdout",
     "output_type": "stream",
     "text": [
      "2023-07-03 21:35:55,874 :: interpret.utils._binning :: Creating native dataset\n",
      "2023-07-03 21:35:55,975 :: interpret.glassbox.ebm.bin :: eval_terms\n",
      "2023-07-03 21:35:55,978 :: interpret.glassbox.ebm.bin :: eval_terms\n",
      "2023-07-03 21:35:55,981 :: interpret.glassbox.ebm.bin :: eval_terms\n",
      "2023-07-03 21:35:55,983 :: interpret.glassbox.ebm.bin :: eval_terms\n",
      "2023-07-03 21:35:55,986 :: interpret.glassbox.ebm.bin :: eval_terms\n",
      "2023-07-03 21:35:55,988 :: interpret.glassbox.ebm.bin :: eval_terms\n",
      "2023-07-03 21:35:55,991 :: interpret.glassbox.ebm.bin :: eval_terms\n",
      "2023-07-03 21:35:55,993 :: interpret.glassbox.ebm.bin :: eval_terms\n",
      "2023-07-03 21:35:55,995 :: interpret.utils._binning :: Creating native dataset\n",
      "2023-07-03 21:35:55,998 :: interpret.glassbox.ebm.ebm :: Estimating with FAST\n",
      "2023-07-03 21:35:57,910 :: interpret.glassbox.ebm.bin :: eval_terms\n",
      "2023-07-03 21:35:57,919 :: interpret.glassbox.ebm.bin :: eval_terms\n"
     ]
    },
    {
     "name": "stderr",
     "output_type": "stream",
     "text": [
      "[I 2023-07-03 21:35:57,921] Trial 11 finished with value: 13.312529440792709 and parameters: {'learning_rate': 0.010971877670884162, 'validation_size': 0.18557154128831496, 'early_stopping_rounds': 98, 'early_stopping_tolerance': 0.0006149090253642949, 'max_rounds': 8681, 'min_samples_leaf': 2, 'max_leaves': 5}. Best is trial 7 with value: 15.009530200618034.\n"
     ]
    },
    {
     "name": "stdout",
     "output_type": "stream",
     "text": [
      "2023-07-03 21:35:57,964 :: interpret.utils._binning :: Creating native dataset\n",
      "2023-07-03 21:35:58,035 :: interpret.glassbox.ebm.bin :: eval_terms\n",
      "2023-07-03 21:35:58,037 :: interpret.glassbox.ebm.bin :: eval_terms\n",
      "2023-07-03 21:35:58,039 :: interpret.glassbox.ebm.bin :: eval_terms\n",
      "2023-07-03 21:35:58,041 :: interpret.glassbox.ebm.bin :: eval_terms\n",
      "2023-07-03 21:35:58,044 :: interpret.glassbox.ebm.bin :: eval_terms\n",
      "2023-07-03 21:35:58,046 :: interpret.glassbox.ebm.bin :: eval_terms\n",
      "2023-07-03 21:35:58,048 :: interpret.glassbox.ebm.bin :: eval_terms\n",
      "2023-07-03 21:35:58,051 :: interpret.glassbox.ebm.bin :: eval_terms\n",
      "2023-07-03 21:35:58,053 :: interpret.utils._binning :: Creating native dataset\n",
      "2023-07-03 21:35:58,055 :: interpret.glassbox.ebm.ebm :: Estimating with FAST\n",
      "2023-07-03 21:35:58,241 :: interpret.glassbox.ebm.bin :: eval_terms\n",
      "2023-07-03 21:35:58,251 :: interpret.glassbox.ebm.bin :: eval_terms\n"
     ]
    },
    {
     "name": "stderr",
     "output_type": "stream",
     "text": [
      "[I 2023-07-03 21:35:58,254] Trial 12 finished with value: 15.347657099546453 and parameters: {'learning_rate': 0.051278292292971685, 'validation_size': 0.18439905964397296, 'early_stopping_rounds': 136, 'early_stopping_tolerance': 0.0008193937209913416, 'max_rounds': 5091, 'min_samples_leaf': 3, 'max_leaves': 5}. Best is trial 12 with value: 15.347657099546453.\n"
     ]
    },
    {
     "name": "stdout",
     "output_type": "stream",
     "text": [
      "2023-07-03 21:35:58,292 :: interpret.utils._binning :: Creating native dataset\n",
      "2023-07-03 21:35:58,362 :: interpret.glassbox.ebm.bin :: eval_terms\n",
      "2023-07-03 21:35:58,364 :: interpret.glassbox.ebm.bin :: eval_terms\n",
      "2023-07-03 21:35:58,366 :: interpret.glassbox.ebm.bin :: eval_terms\n",
      "2023-07-03 21:35:58,369 :: interpret.glassbox.ebm.bin :: eval_terms\n",
      "2023-07-03 21:35:58,371 :: interpret.glassbox.ebm.bin :: eval_terms\n",
      "2023-07-03 21:35:58,373 :: interpret.glassbox.ebm.bin :: eval_terms\n",
      "2023-07-03 21:35:58,375 :: interpret.glassbox.ebm.bin :: eval_terms\n",
      "2023-07-03 21:35:58,378 :: interpret.glassbox.ebm.bin :: eval_terms\n",
      "2023-07-03 21:35:58,380 :: interpret.utils._binning :: Creating native dataset\n",
      "2023-07-03 21:35:58,383 :: interpret.glassbox.ebm.ebm :: Estimating with FAST\n",
      "2023-07-03 21:35:58,580 :: interpret.glassbox.ebm.bin :: eval_terms\n",
      "2023-07-03 21:35:58,589 :: interpret.glassbox.ebm.bin :: eval_terms\n"
     ]
    },
    {
     "name": "stderr",
     "output_type": "stream",
     "text": [
      "[I 2023-07-03 21:35:58,592] Trial 13 finished with value: 13.740008893811854 and parameters: {'learning_rate': 0.0543214212662641, 'validation_size': 0.18276839598172925, 'early_stopping_rounds': 140, 'early_stopping_tolerance': 0.000979703340887132, 'max_rounds': 5102, 'min_samples_leaf': 2, 'max_leaves': 5}. Best is trial 12 with value: 15.347657099546453.\n"
     ]
    },
    {
     "name": "stdout",
     "output_type": "stream",
     "text": [
      "2023-07-03 21:35:58,632 :: interpret.utils._binning :: Creating native dataset\n",
      "2023-07-03 21:35:58,699 :: interpret.glassbox.ebm.bin :: eval_terms\n",
      "2023-07-03 21:35:58,701 :: interpret.glassbox.ebm.bin :: eval_terms\n",
      "2023-07-03 21:35:58,703 :: interpret.glassbox.ebm.bin :: eval_terms\n",
      "2023-07-03 21:35:58,705 :: interpret.glassbox.ebm.bin :: eval_terms\n",
      "2023-07-03 21:35:58,707 :: interpret.glassbox.ebm.bin :: eval_terms\n",
      "2023-07-03 21:35:58,711 :: interpret.glassbox.ebm.bin :: eval_terms\n",
      "2023-07-03 21:35:58,713 :: interpret.glassbox.ebm.bin :: eval_terms\n",
      "2023-07-03 21:35:58,715 :: interpret.glassbox.ebm.bin :: eval_terms\n",
      "2023-07-03 21:35:58,717 :: interpret.utils._binning :: Creating native dataset\n",
      "2023-07-03 21:35:58,720 :: interpret.glassbox.ebm.ebm :: Estimating with FAST\n",
      "2023-07-03 21:35:58,994 :: interpret.glassbox.ebm.bin :: eval_terms\n",
      "2023-07-03 21:35:59,004 :: interpret.glassbox.ebm.bin :: eval_terms\n"
     ]
    },
    {
     "name": "stderr",
     "output_type": "stream",
     "text": [
      "[I 2023-07-03 21:35:59,007] Trial 14 finished with value: 16.050314195986658 and parameters: {'learning_rate': 0.042870332279302696, 'validation_size': 0.159926048317232, 'early_stopping_rounds': 124, 'early_stopping_tolerance': 0.0008269484382500892, 'max_rounds': 7052, 'min_samples_leaf': 3, 'max_leaves': 5}. Best is trial 14 with value: 16.050314195986658.\n"
     ]
    },
    {
     "name": "stdout",
     "output_type": "stream",
     "text": [
      "2023-07-03 21:35:59,048 :: interpret.utils._binning :: Creating native dataset\n",
      "2023-07-03 21:35:59,135 :: interpret.glassbox.ebm.bin :: eval_terms\n",
      "2023-07-03 21:35:59,137 :: interpret.glassbox.ebm.bin :: eval_terms\n",
      "2023-07-03 21:35:59,139 :: interpret.glassbox.ebm.bin :: eval_terms\n",
      "2023-07-03 21:35:59,141 :: interpret.glassbox.ebm.bin :: eval_terms\n",
      "2023-07-03 21:35:59,144 :: interpret.glassbox.ebm.bin :: eval_terms\n",
      "2023-07-03 21:35:59,146 :: interpret.glassbox.ebm.bin :: eval_terms\n",
      "2023-07-03 21:35:59,148 :: interpret.glassbox.ebm.bin :: eval_terms\n",
      "2023-07-03 21:35:59,150 :: interpret.glassbox.ebm.bin :: eval_terms\n",
      "2023-07-03 21:35:59,152 :: interpret.utils._binning :: Creating native dataset\n",
      "2023-07-03 21:35:59,154 :: interpret.glassbox.ebm.ebm :: Estimating with FAST\n",
      "2023-07-03 21:35:59,481 :: interpret.glassbox.ebm.bin :: eval_terms\n",
      "2023-07-03 21:35:59,489 :: interpret.glassbox.ebm.bin :: eval_terms\n"
     ]
    },
    {
     "name": "stderr",
     "output_type": "stream",
     "text": [
      "[I 2023-07-03 21:35:59,494] Trial 15 finished with value: 12.788282817951673 and parameters: {'learning_rate': 0.03976078165511807, 'validation_size': 0.1622774578438509, 'early_stopping_rounds': 136, 'early_stopping_tolerance': 0.0007765915348746216, 'max_rounds': 7361, 'min_samples_leaf': 4, 'max_leaves': 5}. Best is trial 14 with value: 16.050314195986658.\n"
     ]
    },
    {
     "name": "stdout",
     "output_type": "stream",
     "text": [
      "2023-07-03 21:35:59,533 :: interpret.utils._binning :: Creating native dataset\n",
      "2023-07-03 21:35:59,604 :: interpret.glassbox.ebm.bin :: eval_terms\n",
      "2023-07-03 21:35:59,606 :: interpret.glassbox.ebm.bin :: eval_terms\n",
      "2023-07-03 21:35:59,608 :: interpret.glassbox.ebm.bin :: eval_terms\n",
      "2023-07-03 21:35:59,611 :: interpret.glassbox.ebm.bin :: eval_terms\n",
      "2023-07-03 21:35:59,613 :: interpret.glassbox.ebm.bin :: eval_terms\n",
      "2023-07-03 21:35:59,615 :: interpret.glassbox.ebm.bin :: eval_terms\n",
      "2023-07-03 21:35:59,617 :: interpret.glassbox.ebm.bin :: eval_terms\n",
      "2023-07-03 21:35:59,619 :: interpret.glassbox.ebm.bin :: eval_terms\n",
      "2023-07-03 21:35:59,621 :: interpret.utils._binning :: Creating native dataset\n",
      "2023-07-03 21:35:59,625 :: interpret.glassbox.ebm.ebm :: Estimating with FAST\n",
      "2023-07-03 21:35:59,804 :: interpret.glassbox.ebm.bin :: eval_terms\n",
      "2023-07-03 21:35:59,814 :: interpret.glassbox.ebm.bin :: eval_terms\n"
     ]
    },
    {
     "name": "stderr",
     "output_type": "stream",
     "text": [
      "[I 2023-07-03 21:35:59,817] Trial 16 finished with value: 15.8618481729303 and parameters: {'learning_rate': 0.041808161074629514, 'validation_size': 0.15955333751363823, 'early_stopping_rounds': 123, 'early_stopping_tolerance': 0.000818530176618219, 'max_rounds': 10002, 'min_samples_leaf': 3, 'max_leaves': 5}. Best is trial 14 with value: 16.050314195986658.\n"
     ]
    },
    {
     "name": "stdout",
     "output_type": "stream",
     "text": [
      "2023-07-03 21:35:59,856 :: interpret.utils._binning :: Creating native dataset\n",
      "2023-07-03 21:35:59,935 :: interpret.glassbox.ebm.bin :: eval_terms\n",
      "2023-07-03 21:35:59,936 :: interpret.glassbox.ebm.bin :: eval_terms\n",
      "2023-07-03 21:35:59,938 :: interpret.glassbox.ebm.bin :: eval_terms\n",
      "2023-07-03 21:35:59,940 :: interpret.glassbox.ebm.bin :: eval_terms\n",
      "2023-07-03 21:35:59,942 :: interpret.glassbox.ebm.bin :: eval_terms\n",
      "2023-07-03 21:35:59,945 :: interpret.glassbox.ebm.bin :: eval_terms\n",
      "2023-07-03 21:35:59,947 :: interpret.glassbox.ebm.bin :: eval_terms\n",
      "2023-07-03 21:35:59,949 :: interpret.glassbox.ebm.bin :: eval_terms\n",
      "2023-07-03 21:35:59,951 :: interpret.utils._binning :: Creating native dataset\n",
      "2023-07-03 21:35:59,954 :: interpret.glassbox.ebm.ebm :: Estimating with FAST\n",
      "2023-07-03 21:36:00,264 :: interpret.glassbox.ebm.bin :: eval_terms\n",
      "2023-07-03 21:36:00,272 :: interpret.glassbox.ebm.bin :: eval_terms\n"
     ]
    },
    {
     "name": "stderr",
     "output_type": "stream",
     "text": [
      "[I 2023-07-03 21:36:00,276] Trial 17 finished with value: 13.522407274866609 and parameters: {'learning_rate': 0.035385378807246654, 'validation_size': 0.15875396898436447, 'early_stopping_rounds': 109, 'early_stopping_tolerance': 0.000673898894595389, 'max_rounds': 10016, 'min_samples_leaf': 3, 'max_leaves': 3}. Best is trial 14 with value: 16.050314195986658.\n"
     ]
    },
    {
     "name": "stdout",
     "output_type": "stream",
     "text": [
      "2023-07-03 21:36:00,316 :: interpret.utils._binning :: Creating native dataset\n",
      "2023-07-03 21:36:00,396 :: interpret.glassbox.ebm.bin :: eval_terms\n",
      "2023-07-03 21:36:00,399 :: interpret.glassbox.ebm.bin :: eval_terms\n",
      "2023-07-03 21:36:00,400 :: interpret.glassbox.ebm.bin :: eval_terms\n",
      "2023-07-03 21:36:00,403 :: interpret.glassbox.ebm.bin :: eval_terms\n",
      "2023-07-03 21:36:00,405 :: interpret.glassbox.ebm.bin :: eval_terms\n",
      "2023-07-03 21:36:00,407 :: interpret.glassbox.ebm.bin :: eval_terms\n",
      "2023-07-03 21:36:00,409 :: interpret.glassbox.ebm.bin :: eval_terms\n",
      "2023-07-03 21:36:00,412 :: interpret.glassbox.ebm.bin :: eval_terms\n",
      "2023-07-03 21:36:00,414 :: interpret.utils._binning :: Creating native dataset\n",
      "2023-07-03 21:36:00,416 :: interpret.glassbox.ebm.ebm :: Estimating with FAST\n",
      "2023-07-03 21:36:00,680 :: interpret.glassbox.ebm.bin :: eval_terms\n",
      "2023-07-03 21:36:00,688 :: interpret.glassbox.ebm.bin :: eval_terms\n"
     ]
    },
    {
     "name": "stderr",
     "output_type": "stream",
     "text": [
      "[I 2023-07-03 21:36:00,690] Trial 18 finished with value: 13.22382294426842 and parameters: {'learning_rate': 0.061773153574108564, 'validation_size': 0.15785170664909687, 'early_stopping_rounds': 153, 'early_stopping_tolerance': 0.0008447535870680983, 'max_rounds': 9814, 'min_samples_leaf': 4, 'max_leaves': 5}. Best is trial 14 with value: 16.050314195986658.\n"
     ]
    },
    {
     "name": "stdout",
     "output_type": "stream",
     "text": [
      "2023-07-03 21:36:00,731 :: interpret.utils._binning :: Creating native dataset\n",
      "2023-07-03 21:36:00,797 :: interpret.glassbox.ebm.bin :: eval_terms\n",
      "2023-07-03 21:36:00,800 :: interpret.glassbox.ebm.bin :: eval_terms\n",
      "2023-07-03 21:36:00,802 :: interpret.glassbox.ebm.bin :: eval_terms\n",
      "2023-07-03 21:36:00,804 :: interpret.glassbox.ebm.bin :: eval_terms\n",
      "2023-07-03 21:36:00,806 :: interpret.glassbox.ebm.bin :: eval_terms\n",
      "2023-07-03 21:36:00,808 :: interpret.glassbox.ebm.bin :: eval_terms\n",
      "2023-07-03 21:36:00,811 :: interpret.glassbox.ebm.bin :: eval_terms\n",
      "2023-07-03 21:36:00,813 :: interpret.glassbox.ebm.bin :: eval_terms\n",
      "2023-07-03 21:36:00,816 :: interpret.utils._binning :: Creating native dataset\n",
      "2023-07-03 21:36:00,819 :: interpret.glassbox.ebm.ebm :: Estimating with FAST\n",
      "2023-07-03 21:36:01,377 :: interpret.glassbox.ebm.bin :: eval_terms\n",
      "2023-07-03 21:36:01,386 :: interpret.glassbox.ebm.bin :: eval_terms\n"
     ]
    },
    {
     "name": "stderr",
     "output_type": "stream",
     "text": [
      "[I 2023-07-03 21:36:01,389] Trial 19 finished with value: 12.70857853023344 and parameters: {'learning_rate': 0.04283437003756546, 'validation_size': 0.17003770752283, 'early_stopping_rounds': 119, 'early_stopping_tolerance': 0.0008674158949866797, 'max_rounds': 7267, 'min_samples_leaf': 3, 'max_leaves': 4}. Best is trial 14 with value: 16.050314195986658.\n"
     ]
    },
    {
     "name": "stdout",
     "output_type": "stream",
     "text": [
      "2023-07-03 21:36:01,389 :: dev :: If refit is set to True, the optimal model will be refit on the entire dataset, i.e., X_train and y_train!\n",
      "2023-07-03 21:36:01,389 :: dev :: If refit is set to True, the optimal model will be refit on the entire dataset, i.e., X_train and y_train!\n",
      "2023-07-03 21:36:01,398 :: interpret.utils._binning :: Creating native dataset\n",
      "2023-07-03 21:36:01,629 :: interpret.glassbox.ebm.bin :: eval_terms\n",
      "2023-07-03 21:36:01,631 :: interpret.glassbox.ebm.bin :: eval_terms\n",
      "2023-07-03 21:36:01,633 :: interpret.glassbox.ebm.bin :: eval_terms\n",
      "2023-07-03 21:36:01,635 :: interpret.glassbox.ebm.bin :: eval_terms\n",
      "2023-07-03 21:36:01,637 :: interpret.glassbox.ebm.bin :: eval_terms\n",
      "2023-07-03 21:36:01,639 :: interpret.glassbox.ebm.bin :: eval_terms\n",
      "2023-07-03 21:36:01,641 :: interpret.glassbox.ebm.bin :: eval_terms\n",
      "2023-07-03 21:36:01,643 :: interpret.glassbox.ebm.bin :: eval_terms\n",
      "2023-07-03 21:36:01,645 :: interpret.utils._binning :: Creating native dataset\n",
      "2023-07-03 21:36:01,647 :: interpret.glassbox.ebm.ebm :: Estimating with FAST\n",
      "2023-07-03 21:36:01,818 :: interpret.glassbox.ebm.bin :: eval_terms\n",
      "2023-07-03 21:36:01,827 :: interpret.glassbox.ebm.bin :: eval_terms\n"
     ]
    }
   ],
   "source": [
    "obj.fit(X_train,y_train)\n",
    "y_pred = obj.predict(X_test)"
   ]
  },
  {
   "attachments": {},
   "cell_type": "markdown",
   "metadata": {},
   "source": [
    "#### Check performance of the model"
   ]
  },
  {
   "cell_type": "code",
   "execution_count": 14,
   "metadata": {},
   "outputs": [
    {
     "name": "stdout",
     "output_type": "stream",
     "text": [
      "r2 score : \n",
      "0.5740959702103923\n",
      "mean_absolute_error : \n",
      "42.83460423667753\n"
     ]
    }
   ],
   "source": [
    "print('r2 score : ')\n",
    "print(r2_score(y_test,y_pred))\n",
    "print('mean_absolute_error : ')\n",
    "print(mean_absolute_error(y_test,y_pred))\n"
   ]
  },
  {
   "cell_type": "code",
   "execution_count": 15,
   "metadata": {},
   "outputs": [
    {
     "name": "stdout",
     "output_type": "stream",
     "text": [
      "ExplainableBoostingRegressor(early_stopping_rounds=124,\n",
      "                             early_stopping_tolerance=0.0008269484382500892,\n",
      "                             learning_rate=0.042870332279302696, max_leaves=5,\n",
      "                             max_rounds=7052, min_samples_leaf=3,\n",
      "                             validation_size=0.159926048317232)\n"
     ]
    }
   ],
   "source": [
    "ebm=obj.get_best_estimator()\n",
    "print(ebm)"
   ]
  },
  {
   "cell_type": "code",
   "execution_count": 16,
   "metadata": {},
   "outputs": [
    {
     "data": {
      "text/html": [
       "<style>#sk-container-id-1 {color: black;background-color: white;}#sk-container-id-1 pre{padding: 0;}#sk-container-id-1 div.sk-toggleable {background-color: white;}#sk-container-id-1 label.sk-toggleable__label {cursor: pointer;display: block;width: 100%;margin-bottom: 0;padding: 0.3em;box-sizing: border-box;text-align: center;}#sk-container-id-1 label.sk-toggleable__label-arrow:before {content: \"▸\";float: left;margin-right: 0.25em;color: #696969;}#sk-container-id-1 label.sk-toggleable__label-arrow:hover:before {color: black;}#sk-container-id-1 div.sk-estimator:hover label.sk-toggleable__label-arrow:before {color: black;}#sk-container-id-1 div.sk-toggleable__content {max-height: 0;max-width: 0;overflow: hidden;text-align: left;background-color: #f0f8ff;}#sk-container-id-1 div.sk-toggleable__content pre {margin: 0.2em;color: black;border-radius: 0.25em;background-color: #f0f8ff;}#sk-container-id-1 input.sk-toggleable__control:checked~div.sk-toggleable__content {max-height: 200px;max-width: 100%;overflow: auto;}#sk-container-id-1 input.sk-toggleable__control:checked~label.sk-toggleable__label-arrow:before {content: \"▾\";}#sk-container-id-1 div.sk-estimator input.sk-toggleable__control:checked~label.sk-toggleable__label {background-color: #d4ebff;}#sk-container-id-1 div.sk-label input.sk-toggleable__control:checked~label.sk-toggleable__label {background-color: #d4ebff;}#sk-container-id-1 input.sk-hidden--visually {border: 0;clip: rect(1px 1px 1px 1px);clip: rect(1px, 1px, 1px, 1px);height: 1px;margin: -1px;overflow: hidden;padding: 0;position: absolute;width: 1px;}#sk-container-id-1 div.sk-estimator {font-family: monospace;background-color: #f0f8ff;border: 1px dotted black;border-radius: 0.25em;box-sizing: border-box;margin-bottom: 0.5em;}#sk-container-id-1 div.sk-estimator:hover {background-color: #d4ebff;}#sk-container-id-1 div.sk-parallel-item::after {content: \"\";width: 100%;border-bottom: 1px solid gray;flex-grow: 1;}#sk-container-id-1 div.sk-label:hover label.sk-toggleable__label {background-color: #d4ebff;}#sk-container-id-1 div.sk-serial::before {content: \"\";position: absolute;border-left: 1px solid gray;box-sizing: border-box;top: 0;bottom: 0;left: 50%;z-index: 0;}#sk-container-id-1 div.sk-serial {display: flex;flex-direction: column;align-items: center;background-color: white;padding-right: 0.2em;padding-left: 0.2em;position: relative;}#sk-container-id-1 div.sk-item {position: relative;z-index: 1;}#sk-container-id-1 div.sk-parallel {display: flex;align-items: stretch;justify-content: center;background-color: white;position: relative;}#sk-container-id-1 div.sk-item::before, #sk-container-id-1 div.sk-parallel-item::before {content: \"\";position: absolute;border-left: 1px solid gray;box-sizing: border-box;top: 0;bottom: 0;left: 50%;z-index: -1;}#sk-container-id-1 div.sk-parallel-item {display: flex;flex-direction: column;z-index: 1;position: relative;background-color: white;}#sk-container-id-1 div.sk-parallel-item:first-child::after {align-self: flex-end;width: 50%;}#sk-container-id-1 div.sk-parallel-item:last-child::after {align-self: flex-start;width: 50%;}#sk-container-id-1 div.sk-parallel-item:only-child::after {width: 0;}#sk-container-id-1 div.sk-dashed-wrapped {border: 1px dashed gray;margin: 0 0.4em 0.5em 0.4em;box-sizing: border-box;padding-bottom: 0.4em;background-color: white;}#sk-container-id-1 div.sk-label label {font-family: monospace;font-weight: bold;display: inline-block;line-height: 1.2em;}#sk-container-id-1 div.sk-label-container {text-align: center;}#sk-container-id-1 div.sk-container {/* jupyter's `normalize.less` sets `[hidden] { display: none; }` but bootstrap.min.css set `[hidden] { display: none !important; }` so we also need the `!important` here to be able to override the default hidden behavior on the sphinx rendered scikit-learn.org. See: https://github.com/scikit-learn/scikit-learn/issues/21755 */display: inline-block !important;position: relative;}#sk-container-id-1 div.sk-text-repr-fallback {display: none;}</style><div id=\"sk-container-id-1\" class=\"sk-top-container\"><div class=\"sk-text-repr-fallback\"><pre>ExplainableBoostingRegressor(early_stopping_rounds=124,\n",
       "                             early_stopping_tolerance=0.0008269484382500892,\n",
       "                             learning_rate=0.042870332279302696, max_leaves=5,\n",
       "                             max_rounds=7052, min_samples_leaf=3,\n",
       "                             validation_size=0.159926048317232)</pre><b>In a Jupyter environment, please rerun this cell to show the HTML representation or trust the notebook. <br />On GitHub, the HTML representation is unable to render, please try loading this page with nbviewer.org.</b></div><div class=\"sk-container\" hidden><div class=\"sk-item\"><div class=\"sk-estimator sk-toggleable\"><input class=\"sk-toggleable__control sk-hidden--visually\" id=\"sk-estimator-id-1\" type=\"checkbox\" checked><label for=\"sk-estimator-id-1\" class=\"sk-toggleable__label sk-toggleable__label-arrow\">ExplainableBoostingRegressor</label><div class=\"sk-toggleable__content\"><pre>ExplainableBoostingRegressor(early_stopping_rounds=124,\n",
       "                             early_stopping_tolerance=0.0008269484382500892,\n",
       "                             learning_rate=0.042870332279302696, max_leaves=5,\n",
       "                             max_rounds=7052, min_samples_leaf=3,\n",
       "                             validation_size=0.159926048317232)</pre></div></div></div></div></div>"
      ],
      "text/plain": [
       "ExplainableBoostingRegressor(early_stopping_rounds=124,\n",
       "                             early_stopping_tolerance=0.0008269484382500892,\n",
       "                             learning_rate=0.042870332279302696, max_leaves=5,\n",
       "                             max_rounds=7052, min_samples_leaf=3,\n",
       "                             validation_size=0.159926048317232)"
      ]
     },
     "execution_count": 16,
     "metadata": {},
     "output_type": "execute_result"
    }
   ],
   "source": [
    "obj.best_estimator"
   ]
  },
  {
   "attachments": {},
   "cell_type": "markdown",
   "metadata": {},
   "source": [
    "#### Get fitted search object and its attributes"
   ]
  },
  {
   "cell_type": "code",
   "execution_count": 17,
   "metadata": {},
   "outputs": [
    {
     "data": {
      "text/plain": [
       "FrozenTrial(number=14, state=TrialState.COMPLETE, values=[16.050314195986658], datetime_start=datetime.datetime(2023, 7, 3, 21, 35, 58, 593308), datetime_complete=datetime.datetime(2023, 7, 3, 21, 35, 59, 7023), params={'learning_rate': 0.042870332279302696, 'validation_size': 0.159926048317232, 'early_stopping_rounds': 124, 'early_stopping_tolerance': 0.0008269484382500892, 'max_rounds': 7052, 'min_samples_leaf': 3, 'max_leaves': 5}, user_attrs={}, system_attrs={}, intermediate_values={}, distributions={'learning_rate': FloatDistribution(high=0.1, log=False, low=0.01, step=None), 'validation_size': FloatDistribution(high=0.2, log=False, low=0.15, step=None), 'early_stopping_rounds': IntDistribution(high=200, log=False, low=50, step=1), 'early_stopping_tolerance': FloatDistribution(high=0.001, log=False, low=1e-05, step=None), 'max_rounds': IntDistribution(high=20000, log=False, low=5000, step=1), 'min_samples_leaf': IntDistribution(high=5, log=False, low=2, step=1), 'max_leaves': IntDistribution(high=5, log=False, low=2, step=1)}, trial_id=14, value=None)"
      ]
     },
     "execution_count": 17,
     "metadata": {},
     "output_type": "execute_result"
    }
   ],
   "source": [
    "OptunaObj = obj.get_optimized_object()\n",
    "OptunaObj"
   ]
  },
  {
   "attachments": {},
   "cell_type": "markdown",
   "metadata": {},
   "source": [
    "#### This visualizations provided is for global explanations.\n",
    "\n"
   ]
  },
  {
   "cell_type": "code",
   "execution_count": 18,
   "metadata": {},
   "outputs": [
    {
     "name": "stdout",
     "output_type": "stream",
     "text": [
      "2023-07-03 21:36:01,882 :: interpret.provider.visualize :: Detected non-cloud environment.\n",
      "2023-07-03 21:36:02,533 :: interpret.visual.udash :: Generating mini dash\n",
      "2023-07-03 21:36:02,548 :: interpret.visual.udash :: Generated mini dash\n"
     ]
    },
    {
     "data": {
      "text/html": [
       "<!-- http://127.0.0.1:7001/5311248368/ -->\n",
       "<iframe src=\"http://127.0.0.1:7001/5311248368/\" width=100% height=800 frameBorder=\"0\"></iframe>"
      ]
     },
     "metadata": {},
     "output_type": "display_data"
    }
   ],
   "source": [
    "ebm_global = ebm.explain_global()\n",
    "show(ebm_global)\n"
   ]
  },
  {
   "attachments": {},
   "cell_type": "markdown",
   "metadata": {},
   "source": [
    "#### This visualizations provided is for local explanations.\n"
   ]
  },
  {
   "cell_type": "code",
   "execution_count": null,
   "metadata": {},
   "outputs": [
    {
     "name": "stdout",
     "output_type": "stream",
     "text": [
      "2023-07-03 21:36:02,561 :: interpret.utils._binning :: Unifying data\n",
      "2023-07-03 21:36:02,564 :: interpret.glassbox.ebm.bin :: eval_terms\n",
      "2023-07-03 21:36:02,713 :: interpret.glassbox.ebm.bin :: eval_terms\n",
      "2023-07-03 21:36:02,756 :: interpret.visual.udash :: Generating mini dash\n",
      "2023-07-03 21:36:02,784 :: interpret.visual.udash :: Generated mini dash\n"
     ]
    },
    {
     "data": {
      "text/html": [
       "<!-- http://127.0.0.1:7001/5319473904/ -->\n",
       "<iframe src=\"http://127.0.0.1:7001/5319473904/\" width=100% height=800 frameBorder=\"0\"></iframe>"
      ]
     },
     "metadata": {},
     "output_type": "display_data"
    },
    {
     "name": "stdout",
     "output_type": "stream",
     "text": [
      "2023-07-03 21:36:03,331 :: matplotlib :: CACHEDIR=/Users/hjavedani/.matplotlib\n",
      "2023-07-03 21:36:03,336 :: matplotlib.font_manager :: Using fontManager instance from /Users/hjavedani/.matplotlib/fontlist-v330.json\n",
      "2023-07-03 21:36:07,966 :: interpret.visual.udash :: No overall plot to display: -1|ExplainableBoostingRegressor_1\n"
     ]
    }
   ],
   "source": [
    "ebm_local = ebm.explain_local(X_test[:5], y_test[:5])\n",
    "show(ebm_local)\n"
   ]
  }
 ],
 "metadata": {
  "kernelspec": {
   "display_name": "Python 3.10.4 ('.venv': poetry)",
   "language": "python",
   "name": "python3"
  },
  "language_info": {
   "codemirror_mode": {
    "name": "ipython",
    "version": 3
   },
   "file_extension": ".py",
   "mimetype": "text/x-python",
   "name": "python",
   "nbconvert_exporter": "python",
   "pygments_lexer": "ipython3",
   "version": "3.10.11"
  },
  "orig_nbformat": 4,
  "vscode": {
   "interpreter": {
    "hash": "7ced68e88e9060e5bcf2eaa5b2d4f8fc97e4d610a52d347137abf879072ffb6d"
   }
  }
 },
 "nbformat": 4,
 "nbformat_minor": 2
}
