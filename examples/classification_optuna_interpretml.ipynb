{
 "cells": [
  {
   "cell_type": "code",
   "execution_count": 1,
   "metadata": {},
   "outputs": [
    {
     "name": "stdout",
     "output_type": "stream",
     "text": [
      "2023-07-03 19:44:36,736 :: matplotlib :: matplotlib data path: /Users/hjavedani/Documents/Lohrasb/.venv/lib/python3.10/site-packages/matplotlib/mpl-data\n",
      "2023-07-03 19:44:36,742 :: matplotlib :: CONFIGDIR=/Users/hjavedani/.matplotlib\n",
      "2023-07-03 19:44:36,745 :: matplotlib :: interactive is False\n",
      "2023-07-03 19:44:36,745 :: matplotlib :: platform is darwin\n",
      "2023-07-03 19:44:36,762 :: graphviz._tools :: deprecate positional args: graphviz.backend.piping.pipe(['renderer', 'formatter', 'neato_no_op', 'quiet'])\n",
      "2023-07-03 19:44:36,764 :: graphviz._tools :: deprecate positional args: graphviz.backend.rendering.render(['renderer', 'formatter', 'neato_no_op', 'quiet'])\n",
      "2023-07-03 19:44:36,766 :: graphviz._tools :: deprecate positional args: graphviz.backend.unflattening.unflatten(['stagger', 'fanout', 'chain', 'encoding'])\n",
      "2023-07-03 19:44:36,768 :: graphviz._tools :: deprecate positional args: graphviz.backend.viewing.view(['quiet'])\n",
      "2023-07-03 19:44:36,772 :: graphviz._tools :: deprecate positional args: graphviz.quoting.quote(['is_html_string', 'is_valid_id', 'dot_keywords', 'endswith_odd_number_of_backslashes', 'escape_unescaped_quotes'])\n",
      "2023-07-03 19:44:36,773 :: graphviz._tools :: deprecate positional args: graphviz.quoting.a_list(['kwargs', 'attributes'])\n",
      "2023-07-03 19:44:36,773 :: graphviz._tools :: deprecate positional args: graphviz.quoting.attr_list(['kwargs', 'attributes'])\n",
      "2023-07-03 19:44:36,774 :: graphviz._tools :: deprecate positional args: graphviz.dot.Dot.clear(['keep_attrs'])\n",
      "2023-07-03 19:44:36,775 :: graphviz._tools :: deprecate positional args: graphviz.dot.Dot.__iter__(['subgraph'])\n",
      "2023-07-03 19:44:36,775 :: graphviz._tools :: deprecate positional args: graphviz.dot.Dot.node(['_attributes'])\n",
      "2023-07-03 19:44:36,776 :: graphviz._tools :: deprecate positional args: graphviz.dot.Dot.edge(['_attributes'])\n",
      "2023-07-03 19:44:36,777 :: graphviz._tools :: deprecate positional args: graphviz.dot.Dot.attr(['_attributes'])\n",
      "2023-07-03 19:44:36,777 :: graphviz._tools :: deprecate positional args: graphviz.dot.Dot.subgraph(['name', 'comment', 'graph_attr', 'node_attr', 'edge_attr', 'body'])\n",
      "2023-07-03 19:44:36,783 :: graphviz._tools :: deprecate positional args: graphviz.piping.Pipe._pipe_legacy(['renderer', 'formatter', 'neato_no_op', 'quiet'])\n",
      "2023-07-03 19:44:36,787 :: graphviz._tools :: deprecate positional args: graphviz.saving.Save.save(['directory'])\n",
      "2023-07-03 19:44:36,788 :: graphviz._tools :: deprecate positional args: graphviz.rendering.Render.render(['directory', 'view', 'cleanup', 'format', 'renderer', 'formatter', 'neato_no_op', 'quiet', 'quiet_view'])\n",
      "2023-07-03 19:44:36,790 :: graphviz._tools :: deprecate positional args: graphviz.rendering.Render.view(['directory', 'cleanup', 'quiet', 'quiet_view'])\n",
      "2023-07-03 19:44:36,791 :: graphviz._tools :: deprecate positional args: graphviz.unflattening.Unflatten.unflatten(['stagger', 'fanout', 'chain'])\n",
      "2023-07-03 19:44:36,792 :: graphviz._tools :: deprecate positional args: graphviz.graphs.BaseGraph.__init__(['comment', 'filename', 'directory', 'format', 'engine', 'encoding', 'graph_attr', 'node_attr', 'edge_attr', 'body', 'strict'])\n",
      "2023-07-03 19:44:36,794 :: graphviz._tools :: deprecate positional args: graphviz.sources.Source.from_file(['directory', 'format', 'engine', 'encoding', 'renderer', 'formatter'])\n",
      "2023-07-03 19:44:36,795 :: graphviz._tools :: deprecate positional args: graphviz.sources.Source.__init__(['filename', 'directory', 'format', 'engine', 'encoding'])\n",
      "2023-07-03 19:44:36,796 :: graphviz._tools :: deprecate positional args: graphviz.sources.Source.save(['directory'])\n"
     ]
    }
   ],
   "source": [
    "from lohrasb.best_estimator import BaseModel\n",
    "from optuna.pruners import HyperbandPruner\n",
    "from optuna.samplers._tpe.sampler import TPESampler\n",
    "from sklearn.model_selection import train_test_split\n",
    "import pandas as pd\n",
    "import numpy as np\n",
    "import optuna\n",
    "from sklearn.pipeline import Pipeline\n",
    "from feature_engine.imputation import (\n",
    "    CategoricalImputer,\n",
    "    MeanMedianImputer\n",
    "    )\n",
    "from category_encoders import OrdinalEncoder\n",
    "from sklearn.metrics import (\n",
    "    classification_report,\n",
    "    confusion_matrix,\n",
    "    f1_score)\n",
    "from sklearn.metrics import f1_score\n",
    "from interpret.glassbox import LogisticRegression\n",
    "from interpret import show\n",
    "from lohrasb.utils.metrics import f1_plus_tn\n",
    "\n"
   ]
  },
  {
   "attachments": {},
   "cell_type": "markdown",
   "metadata": {},
   "source": [
    "#### Example 1 : Use Adult Data Set (a classification problem)\n",
    "  \n",
    "https://archive.ics.uci.edu/ml/datasets/Adult"
   ]
  },
  {
   "attachments": {},
   "cell_type": "markdown",
   "metadata": {},
   "source": [
    "#### Part 1: Use BestModel in sklearn pipeline\n"
   ]
  },
  {
   "cell_type": "code",
   "execution_count": 2,
   "metadata": {},
   "outputs": [
    {
     "data": {
      "text/html": [
       "<div>\n",
       "<style scoped>\n",
       "    .dataframe tbody tr th:only-of-type {\n",
       "        vertical-align: middle;\n",
       "    }\n",
       "\n",
       "    .dataframe tbody tr th {\n",
       "        vertical-align: top;\n",
       "    }\n",
       "\n",
       "    .dataframe thead th {\n",
       "        text-align: right;\n",
       "    }\n",
       "</style>\n",
       "<table border=\"1\" class=\"dataframe\">\n",
       "  <thead>\n",
       "    <tr style=\"text-align: right;\">\n",
       "      <th></th>\n",
       "      <th>age</th>\n",
       "      <th>workclass</th>\n",
       "      <th>fnlwgt</th>\n",
       "      <th>education</th>\n",
       "      <th>education-num</th>\n",
       "      <th>marital-status</th>\n",
       "      <th>occupation</th>\n",
       "      <th>relationship</th>\n",
       "      <th>race</th>\n",
       "      <th>sex</th>\n",
       "      <th>capital-gain</th>\n",
       "      <th>capital-loss</th>\n",
       "      <th>hours-per-week</th>\n",
       "      <th>native-country</th>\n",
       "      <th>label</th>\n",
       "    </tr>\n",
       "  </thead>\n",
       "  <tbody>\n",
       "    <tr>\n",
       "      <th>0</th>\n",
       "      <td>39</td>\n",
       "      <td>State-gov</td>\n",
       "      <td>77516</td>\n",
       "      <td>Bachelors</td>\n",
       "      <td>13</td>\n",
       "      <td>Never-married</td>\n",
       "      <td>Adm-clerical</td>\n",
       "      <td>Not-in-family</td>\n",
       "      <td>White</td>\n",
       "      <td>Male</td>\n",
       "      <td>2174</td>\n",
       "      <td>0</td>\n",
       "      <td>40</td>\n",
       "      <td>United-States</td>\n",
       "      <td>&lt;=50K</td>\n",
       "    </tr>\n",
       "    <tr>\n",
       "      <th>1</th>\n",
       "      <td>50</td>\n",
       "      <td>Self-emp-not-inc</td>\n",
       "      <td>83311</td>\n",
       "      <td>Bachelors</td>\n",
       "      <td>13</td>\n",
       "      <td>Married-civ-spouse</td>\n",
       "      <td>Exec-managerial</td>\n",
       "      <td>Husband</td>\n",
       "      <td>White</td>\n",
       "      <td>Male</td>\n",
       "      <td>0</td>\n",
       "      <td>0</td>\n",
       "      <td>13</td>\n",
       "      <td>United-States</td>\n",
       "      <td>&lt;=50K</td>\n",
       "    </tr>\n",
       "    <tr>\n",
       "      <th>2</th>\n",
       "      <td>38</td>\n",
       "      <td>Private</td>\n",
       "      <td>215646</td>\n",
       "      <td>HS-grad</td>\n",
       "      <td>9</td>\n",
       "      <td>Divorced</td>\n",
       "      <td>Handlers-cleaners</td>\n",
       "      <td>Not-in-family</td>\n",
       "      <td>White</td>\n",
       "      <td>Male</td>\n",
       "      <td>0</td>\n",
       "      <td>0</td>\n",
       "      <td>40</td>\n",
       "      <td>United-States</td>\n",
       "      <td>&lt;=50K</td>\n",
       "    </tr>\n",
       "    <tr>\n",
       "      <th>3</th>\n",
       "      <td>53</td>\n",
       "      <td>Private</td>\n",
       "      <td>234721</td>\n",
       "      <td>11th</td>\n",
       "      <td>7</td>\n",
       "      <td>Married-civ-spouse</td>\n",
       "      <td>Handlers-cleaners</td>\n",
       "      <td>Husband</td>\n",
       "      <td>Black</td>\n",
       "      <td>Male</td>\n",
       "      <td>0</td>\n",
       "      <td>0</td>\n",
       "      <td>40</td>\n",
       "      <td>United-States</td>\n",
       "      <td>&lt;=50K</td>\n",
       "    </tr>\n",
       "    <tr>\n",
       "      <th>4</th>\n",
       "      <td>28</td>\n",
       "      <td>Private</td>\n",
       "      <td>338409</td>\n",
       "      <td>Bachelors</td>\n",
       "      <td>13</td>\n",
       "      <td>Married-civ-spouse</td>\n",
       "      <td>Prof-specialty</td>\n",
       "      <td>Wife</td>\n",
       "      <td>Black</td>\n",
       "      <td>Female</td>\n",
       "      <td>0</td>\n",
       "      <td>0</td>\n",
       "      <td>40</td>\n",
       "      <td>Cuba</td>\n",
       "      <td>&lt;=50K</td>\n",
       "    </tr>\n",
       "  </tbody>\n",
       "</table>\n",
       "</div>"
      ],
      "text/plain": [
       "   age          workclass  fnlwgt   education  education-num  \\\n",
       "0   39          State-gov   77516   Bachelors             13   \n",
       "1   50   Self-emp-not-inc   83311   Bachelors             13   \n",
       "2   38            Private  215646     HS-grad              9   \n",
       "3   53            Private  234721        11th              7   \n",
       "4   28            Private  338409   Bachelors             13   \n",
       "\n",
       "        marital-status          occupation    relationship    race      sex  \\\n",
       "0        Never-married        Adm-clerical   Not-in-family   White     Male   \n",
       "1   Married-civ-spouse     Exec-managerial         Husband   White     Male   \n",
       "2             Divorced   Handlers-cleaners   Not-in-family   White     Male   \n",
       "3   Married-civ-spouse   Handlers-cleaners         Husband   Black     Male   \n",
       "4   Married-civ-spouse      Prof-specialty            Wife   Black   Female   \n",
       "\n",
       "   capital-gain  capital-loss  hours-per-week  native-country   label  \n",
       "0          2174             0              40   United-States   <=50K  \n",
       "1             0             0              13   United-States   <=50K  \n",
       "2             0             0              40   United-States   <=50K  \n",
       "3             0             0              40   United-States   <=50K  \n",
       "4             0             0              40            Cuba   <=50K  "
      ]
     },
     "execution_count": 2,
     "metadata": {},
     "output_type": "execute_result"
    }
   ],
   "source": [
    "urldata= \"https://archive.ics.uci.edu/ml/machine-learning-databases/adult/adult.data\"\n",
    "# column names\n",
    "col_names=[\"age\", \"workclass\", \"fnlwgt\" , \"education\" ,\"education-num\",\n",
    "\"marital-status\",\"occupation\",\"relationship\",\"race\",\"sex\",\"capital-gain\",\"capital-loss\",\"hours-per-week\",\n",
    "\"native-country\",\"label\"\n",
    "]\n",
    "# read data\n",
    "data = pd.read_csv(urldata,header=None,names=col_names,sep=',')\n",
    "data.head()"
   ]
  },
  {
   "attachments": {},
   "cell_type": "markdown",
   "metadata": {},
   "source": [
    "#### Define labels\n"
   ]
  },
  {
   "cell_type": "code",
   "execution_count": 3,
   "metadata": {},
   "outputs": [],
   "source": [
    "data.loc[data['label']=='<=50K','label']=0\n",
    "data.loc[data['label']==' <=50K','label']=0\n",
    "\n",
    "data.loc[data['label']=='>50K','label']=1\n",
    "data.loc[data['label']==' >50K','label']=1\n",
    "\n",
    "data['label']=data['label'].astype(int)"
   ]
  },
  {
   "attachments": {},
   "cell_type": "markdown",
   "metadata": {},
   "source": [
    "#### Train test split"
   ]
  },
  {
   "cell_type": "code",
   "execution_count": 4,
   "metadata": {},
   "outputs": [],
   "source": [
    "X = data.loc[:, data.columns != \"label\"]\n",
    "y = data.loc[:, data.columns == \"label\"]\n",
    "y = y.values.ravel()\n",
    "\n",
    "\n",
    "X_train, X_test, y_train, y_test =train_test_split(X, y, test_size=0.33, random_state=42)\n",
    "\n",
    "# for sample_weights\n",
    "weights = np.ones(len(y_train))\n"
   ]
  },
  {
   "attachments": {},
   "cell_type": "markdown",
   "metadata": {},
   "source": [
    "#### Find feature types for later use"
   ]
  },
  {
   "cell_type": "code",
   "execution_count": 5,
   "metadata": {},
   "outputs": [],
   "source": [
    "int_cols =  X_train.select_dtypes(include=['int']).columns.tolist()\n",
    "float_cols =  X_train.select_dtypes(include=['float']).columns.tolist()\n",
    "cat_cols =  X_train.select_dtypes(include=['object']).columns.tolist()\n"
   ]
  },
  {
   "attachments": {},
   "cell_type": "markdown",
   "metadata": {},
   "source": [
    "#### Define model and set it argumens "
   ]
  },
  {
   "cell_type": "code",
   "execution_count": 6,
   "metadata": {},
   "outputs": [],
   "source": [
    "estimator = LogisticRegression()\n",
    "estimator_params = {\n",
    "        \"penalty\":[\"l2\"],\n",
    "        \"C\":[0.1,1],\n",
    "        \"max_iter\":[500,700],\n",
    "\n",
    "    }\n",
    "kwargs = {  # params for fit method  \n",
    "            'fit_optuna_kwargs' :{\n",
    "            'sample_weight':None,\n",
    "            },\n",
    "            # params for OptunaSearch\n",
    "            'main_optuna_kwargs' : {\n",
    "            'estimator':estimator,\n",
    "            'estimator_params':estimator_params,\n",
    "            'refit':True,\n",
    "            'measure_of_accuracy' :'f1_score(y_true, y_pred,average=\"weighted\")',\n",
    "\n",
    "            },\n",
    "            'train_test_split_kwargs':{\n",
    "                'test_size':.3,\n",
    "                            \n",
    "            },\n",
    "            'study_search_kwargs':{\n",
    "                'storage':None,\n",
    "                'sampler':TPESampler(),\n",
    "                'pruner':HyperbandPruner(),\n",
    "                'study_name':\"example of optuna optimizer\",\n",
    "                'direction':\"maximize\",\n",
    "                'load_if_exists':False,\n",
    "            },\n",
    "            'optimize_kwargs':{\n",
    "                # optuna optimization params\n",
    "                'n_trials':20,\n",
    "                'timeout':600,\n",
    "                'catch':(),\n",
    "                'callbacks':None,\n",
    "                'gc_after_trial':False,\n",
    "                'show_progress_bar':False,\n",
    "            }\n",
    "}\n"
   ]
  },
  {
   "cell_type": "code",
   "execution_count": 7,
   "metadata": {},
   "outputs": [],
   "source": [
    "obj = BaseModel().optimize_by_optuna(\n",
    "        kwargs=kwargs\n",
    "            \n",
    "        )"
   ]
  },
  {
   "attachments": {},
   "cell_type": "markdown",
   "metadata": {},
   "source": [
    "#### Build sklearn pipeline"
   ]
  },
  {
   "cell_type": "code",
   "execution_count": 8,
   "metadata": {},
   "outputs": [],
   "source": [
    "\n",
    "\n",
    "pipeline =Pipeline([\n",
    "            # int missing values imputers\n",
    "            ('intimputer', MeanMedianImputer(\n",
    "                imputation_method='median', variables=int_cols)),\n",
    "            # category missing values imputers\n",
    "            ('catimputer', CategoricalImputer(variables=cat_cols)),\n",
    "            #\n",
    "            ('catencoder', OrdinalEncoder()),\n",
    "            # classification model\n",
    "            ('obj', obj),\n",
    "\n",
    "\n",
    " ])\n",
    " \n",
    "\n"
   ]
  },
  {
   "attachments": {},
   "cell_type": "markdown",
   "metadata": {},
   "source": [
    "#### Run Pipeline"
   ]
  },
  {
   "cell_type": "code",
   "execution_count": 9,
   "metadata": {},
   "outputs": [
    {
     "name": "stderr",
     "output_type": "stream",
     "text": [
      "[I 2023-07-03 19:44:38,903] A new study created in memory with name: example of optuna optimizer\n",
      "[I 2023-07-03 19:44:39,043] Trial 0 finished with value: 0.792925608717094 and parameters: {'penalty': 'l2', 'C': 0.7879676159004071, 'max_iter': 643}. Best is trial 0 with value: 0.792925608717094.\n",
      "[I 2023-07-03 19:44:39,115] Trial 1 finished with value: 0.77853331583629 and parameters: {'penalty': 'l2', 'C': 0.9359064566651057, 'max_iter': 639}. Best is trial 0 with value: 0.792925608717094.\n",
      "[I 2023-07-03 19:44:39,227] Trial 2 finished with value: 0.792925608717094 and parameters: {'penalty': 'l2', 'C': 0.6961289417765337, 'max_iter': 541}. Best is trial 0 with value: 0.792925608717094.\n",
      "[I 2023-07-03 19:44:39,329] Trial 3 finished with value: 0.7930536503358144 and parameters: {'penalty': 'l2', 'C': 0.5291553342730184, 'max_iter': 509}. Best is trial 3 with value: 0.7930536503358144.\n",
      "[I 2023-07-03 19:44:39,395] Trial 4 finished with value: 0.77853331583629 and parameters: {'penalty': 'l2', 'C': 0.9200473952226811, 'max_iter': 664}. Best is trial 3 with value: 0.7930536503358144.\n",
      "[I 2023-07-03 19:44:39,488] Trial 5 finished with value: 0.792925608717094 and parameters: {'penalty': 'l2', 'C': 0.8395101743987068, 'max_iter': 647}. Best is trial 3 with value: 0.7930536503358144.\n",
      "[I 2023-07-03 19:44:39,582] Trial 6 finished with value: 0.792925608717094 and parameters: {'penalty': 'l2', 'C': 0.9621819985225589, 'max_iter': 583}. Best is trial 3 with value: 0.7930536503358144.\n",
      "[I 2023-07-03 19:44:39,657] Trial 7 finished with value: 0.77853331583629 and parameters: {'penalty': 'l2', 'C': 0.30957238501547213, 'max_iter': 513}. Best is trial 3 with value: 0.7930536503358144.\n",
      "[I 2023-07-03 19:44:39,766] Trial 8 finished with value: 0.792925608717094 and parameters: {'penalty': 'l2', 'C': 0.9585860512300205, 'max_iter': 642}. Best is trial 3 with value: 0.7930536503358144.\n",
      "[I 2023-07-03 19:44:39,869] Trial 9 finished with value: 0.792925608717094 and parameters: {'penalty': 'l2', 'C': 0.2411997347681505, 'max_iter': 620}. Best is trial 3 with value: 0.7930536503358144.\n",
      "[I 2023-07-03 19:44:39,947] Trial 10 finished with value: 0.77853331583629 and parameters: {'penalty': 'l2', 'C': 0.479946470263916, 'max_iter': 578}. Best is trial 3 with value: 0.7930536503358144.\n",
      "[I 2023-07-03 19:44:40,085] Trial 11 finished with value: 0.792925608717094 and parameters: {'penalty': 'l2', 'C': 0.5853864111402929, 'max_iter': 692}. Best is trial 3 with value: 0.7930536503358144.\n",
      "[I 2023-07-03 19:44:40,195] Trial 12 finished with value: 0.792925608717094 and parameters: {'penalty': 'l2', 'C': 0.7091432830928631, 'max_iter': 508}. Best is trial 3 with value: 0.7930536503358144.\n",
      "[I 2023-07-03 19:44:40,298] Trial 13 finished with value: 0.792925608717094 and parameters: {'penalty': 'l2', 'C': 0.49176196870848277, 'max_iter': 552}. Best is trial 3 with value: 0.7930536503358144.\n",
      "[I 2023-07-03 19:44:40,421] Trial 14 finished with value: 0.7930536503358144 and parameters: {'penalty': 'l2', 'C': 0.1028056887741956, 'max_iter': 605}. Best is trial 3 with value: 0.7930536503358144.\n",
      "[I 2023-07-03 19:44:40,542] Trial 15 finished with value: 0.7930536503358144 and parameters: {'penalty': 'l2', 'C': 0.10726379166609545, 'max_iter': 602}. Best is trial 3 with value: 0.7930536503358144.\n",
      "[I 2023-07-03 19:44:40,666] Trial 16 finished with value: 0.792925608717094 and parameters: {'penalty': 'l2', 'C': 0.37757419557773886, 'max_iter': 546}. Best is trial 3 with value: 0.7930536503358144.\n",
      "[I 2023-07-03 19:44:40,770] Trial 17 finished with value: 0.792925608717094 and parameters: {'penalty': 'l2', 'C': 0.11561008348566565, 'max_iter': 579}. Best is trial 3 with value: 0.7930536503358144.\n",
      "[I 2023-07-03 19:44:40,842] Trial 18 finished with value: 0.7602652180128697 and parameters: {'penalty': 'l2', 'C': 0.2088571826777441, 'max_iter': 603}. Best is trial 3 with value: 0.7930536503358144.\n",
      "[I 2023-07-03 19:44:41,037] Trial 19 finished with value: 0.7930536503358144 and parameters: {'penalty': 'l2', 'C': 0.3803826508041389, 'max_iter': 524}. Best is trial 3 with value: 0.7930536503358144.\n"
     ]
    },
    {
     "name": "stdout",
     "output_type": "stream",
     "text": [
      "2023-07-03 19:44:41,038 :: dev :: If refit is set to True, the optimal model will be refit on the entire dataset, i.e., X_train and y_train!\n",
      "2023-07-03 19:44:41,038 :: dev :: If refit is set to True, the optimal model will be refit on the entire dataset, i.e., X_train and y_train!\n"
     ]
    }
   ],
   "source": [
    "pipeline.fit(X_train,y_train)\n",
    "y_preds = pipeline.predict(X_test)\n",
    "pred_labels = np.rint(y_preds)\n",
    "\n",
    "\n"
   ]
  },
  {
   "attachments": {},
   "cell_type": "markdown",
   "metadata": {},
   "source": [
    "#### Check performance of the pipeline"
   ]
  },
  {
   "cell_type": "code",
   "execution_count": 10,
   "metadata": {},
   "outputs": [
    {
     "name": "stdout",
     "output_type": "stream",
     "text": [
      "F1 score : \n",
      "0.4130901287553648\n",
      "Classification report : \n",
      "              precision    recall  f1-score   support\n",
      "\n",
      "           0       0.81      0.95      0.88      8196\n",
      "           1       0.65      0.30      0.41      2550\n",
      "\n",
      "    accuracy                           0.80     10746\n",
      "   macro avg       0.73      0.63      0.64     10746\n",
      "weighted avg       0.78      0.80      0.77     10746\n",
      "\n",
      "Confusion matrix : \n",
      "[[7788  408]\n",
      " [1780  770]]\n"
     ]
    }
   ],
   "source": [
    "print('F1 score : ')\n",
    "print(f1_score(y_test,pred_labels))\n",
    "print('Classification report : ')\n",
    "print(classification_report(y_test,pred_labels))\n",
    "print('Confusion matrix : ')\n",
    "print(confusion_matrix(y_test,pred_labels))\n"
   ]
  },
  {
   "attachments": {},
   "cell_type": "markdown",
   "metadata": {},
   "source": [
    "#### Some estimators have predict_proba method as well"
   ]
  },
  {
   "cell_type": "code",
   "execution_count": 11,
   "metadata": {},
   "outputs": [
    {
     "name": "stdout",
     "output_type": "stream",
     "text": [
      "[[0.90648439 0.09351561]\n",
      " [0.57623669 0.42376331]\n",
      " [0.73076092 0.26923908]\n",
      " ...\n",
      " [0.43376818 0.56623182]\n",
      " [0.82501029 0.17498971]\n",
      " [0.95701578 0.04298422]]\n"
     ]
    }
   ],
   "source": [
    "y_preds = pipeline.predict_proba(X_test)\n",
    "print(y_preds)"
   ]
  },
  {
   "attachments": {},
   "cell_type": "markdown",
   "metadata": {},
   "source": [
    "#### Part 2:  Use BestModel as a standalone estimator "
   ]
  },
  {
   "cell_type": "code",
   "execution_count": 12,
   "metadata": {},
   "outputs": [],
   "source": [
    "X_train, X_test, y_train, y_test =train_test_split(X, y, test_size=0.33, random_state=42)\n"
   ]
  },
  {
   "attachments": {},
   "cell_type": "markdown",
   "metadata": {},
   "source": [
    "#### Transform features to make them ready for model input"
   ]
  },
  {
   "cell_type": "code",
   "execution_count": 13,
   "metadata": {},
   "outputs": [],
   "source": [
    "transform_pipeline =Pipeline([\n",
    "            # int missing values imputers\n",
    "            ('intimputer', MeanMedianImputer(\n",
    "                imputation_method='median', variables=int_cols)),\n",
    "            # category missing values imputers\n",
    "            ('catimputer', CategoricalImputer(variables=cat_cols)),\n",
    "            #\n",
    "            ('catencoder', OrdinalEncoder()),\n",
    "            # classification model\n",
    "\n",
    " ])"
   ]
  },
  {
   "attachments": {},
   "cell_type": "markdown",
   "metadata": {},
   "source": [
    "#### Transform X_train and X_test"
   ]
  },
  {
   "cell_type": "code",
   "execution_count": 14,
   "metadata": {},
   "outputs": [],
   "source": [
    "X_train=transform_pipeline.fit_transform(X_train,y_train)\n",
    "X_test=transform_pipeline.transform(X_test)\n"
   ]
  },
  {
   "attachments": {},
   "cell_type": "markdown",
   "metadata": {},
   "source": [
    "#### Train model and predict"
   ]
  },
  {
   "cell_type": "code",
   "execution_count": 15,
   "metadata": {},
   "outputs": [
    {
     "name": "stderr",
     "output_type": "stream",
     "text": [
      "[I 2023-07-03 19:44:41,755] A new study created in memory with name: example of optuna optimizer\n",
      "[I 2023-07-03 19:44:42,007] Trial 0 finished with value: 0.8130408821130254 and parameters: {'penalty': 'l2', 'C': 0.46989906511435764, 'max_iter': 540}. Best is trial 0 with value: 0.8130408821130254.\n",
      "[I 2023-07-03 19:44:42,100] Trial 1 finished with value: 0.7897439777116065 and parameters: {'penalty': 'l2', 'C': 0.9473060946144338, 'max_iter': 628}. Best is trial 0 with value: 0.8130408821130254.\n",
      "[I 2023-07-03 19:44:42,199] Trial 2 finished with value: 0.7898726711961568 and parameters: {'penalty': 'l2', 'C': 0.3319780241431791, 'max_iter': 653}. Best is trial 0 with value: 0.8130408821130254.\n",
      "[I 2023-07-03 19:44:42,278] Trial 3 finished with value: 0.7898726711961568 and parameters: {'penalty': 'l2', 'C': 0.14491548991355002, 'max_iter': 547}. Best is trial 0 with value: 0.8130408821130254.\n",
      "[I 2023-07-03 19:44:42,409] Trial 4 finished with value: 0.7897439777116065 and parameters: {'penalty': 'l2', 'C': 0.40448111281539556, 'max_iter': 634}. Best is trial 0 with value: 0.8130408821130254.\n",
      "[I 2023-07-03 19:44:42,605] Trial 5 finished with value: 0.8130408821130254 and parameters: {'penalty': 'l2', 'C': 0.26492592306780693, 'max_iter': 618}. Best is trial 0 with value: 0.8130408821130254.\n",
      "[I 2023-07-03 19:44:42,725] Trial 6 finished with value: 0.7897439777116065 and parameters: {'penalty': 'l2', 'C': 0.6295167810392633, 'max_iter': 522}. Best is trial 0 with value: 0.8130408821130254.\n",
      "[I 2023-07-03 19:44:42,785] Trial 7 finished with value: 0.7652363549497162 and parameters: {'penalty': 'l2', 'C': 0.9606027199379253, 'max_iter': 594}. Best is trial 0 with value: 0.8130408821130254.\n",
      "[I 2023-07-03 19:44:43,109] Trial 8 finished with value: 0.7897439777116065 and parameters: {'penalty': 'l2', 'C': 0.8576822823003295, 'max_iter': 617}. Best is trial 0 with value: 0.8130408821130254.\n",
      "[I 2023-07-03 19:44:43,241] Trial 9 finished with value: 0.7898726711961568 and parameters: {'penalty': 'l2', 'C': 0.8530323535219106, 'max_iter': 508}. Best is trial 0 with value: 0.8130408821130254.\n",
      "[I 2023-07-03 19:44:43,366] Trial 10 finished with value: 0.7898726711961568 and parameters: {'penalty': 'l2', 'C': 0.5553374522042052, 'max_iter': 686}. Best is trial 0 with value: 0.8130408821130254.\n",
      "[I 2023-07-03 19:44:43,639] Trial 11 finished with value: 0.818306109115278 and parameters: {'penalty': 'l2', 'C': 0.12433359958022766, 'max_iter': 575}. Best is trial 11 with value: 0.818306109115278.\n",
      "[I 2023-07-03 19:44:43,782] Trial 12 finished with value: 0.8130408821130254 and parameters: {'penalty': 'l2', 'C': 0.11792960628326615, 'max_iter': 567}. Best is trial 11 with value: 0.818306109115278.\n",
      "[I 2023-07-03 19:44:43,899] Trial 13 finished with value: 0.7898726711961568 and parameters: {'penalty': 'l2', 'C': 0.4321976898754196, 'max_iter': 571}. Best is trial 11 with value: 0.818306109115278.\n",
      "[I 2023-07-03 19:44:44,041] Trial 14 finished with value: 0.8130408821130254 and parameters: {'penalty': 'l2', 'C': 0.23038390140795534, 'max_iter': 548}. Best is trial 11 with value: 0.818306109115278.\n",
      "[I 2023-07-03 19:44:44,146] Trial 15 finished with value: 0.7898726711961568 and parameters: {'penalty': 'l2', 'C': 0.10559978241167717, 'max_iter': 585}. Best is trial 11 with value: 0.818306109115278.\n",
      "[I 2023-07-03 19:44:44,346] Trial 16 finished with value: 0.8130408821130254 and parameters: {'penalty': 'l2', 'C': 0.45272646469866207, 'max_iter': 535}. Best is trial 11 with value: 0.818306109115278.\n",
      "[I 2023-07-03 19:44:44,495] Trial 17 finished with value: 0.7898726711961568 and parameters: {'penalty': 'l2', 'C': 0.24173156076281227, 'max_iter': 500}. Best is trial 11 with value: 0.818306109115278.\n",
      "[I 2023-07-03 19:44:44,643] Trial 18 finished with value: 0.7900847492226087 and parameters: {'penalty': 'l2', 'C': 0.6182662849933858, 'max_iter': 564}. Best is trial 11 with value: 0.818306109115278.\n",
      "[I 2023-07-03 19:44:44,796] Trial 19 finished with value: 0.7897439777116065 and parameters: {'penalty': 'l2', 'C': 0.33496925062507044, 'max_iter': 532}. Best is trial 11 with value: 0.818306109115278.\n"
     ]
    },
    {
     "name": "stdout",
     "output_type": "stream",
     "text": [
      "2023-07-03 19:44:44,798 :: dev :: If refit is set to True, the optimal model will be refit on the entire dataset, i.e., X_train and y_train!\n",
      "2023-07-03 19:44:44,798 :: dev :: If refit is set to True, the optimal model will be refit on the entire dataset, i.e., X_train and y_train!\n"
     ]
    }
   ],
   "source": [
    "obj.fit(X_train,y_train)\n",
    "y_pred = obj.predict(X_test)"
   ]
  },
  {
   "attachments": {},
   "cell_type": "markdown",
   "metadata": {},
   "source": [
    "#### Check performance of the model"
   ]
  },
  {
   "cell_type": "code",
   "execution_count": 16,
   "metadata": {},
   "outputs": [
    {
     "name": "stdout",
     "output_type": "stream",
     "text": [
      "F1 score plus TN : \n",
      "7788.413090128755\n",
      "F1 score : \n",
      "0.4130901287553648\n",
      "Classification report : \n",
      "              precision    recall  f1-score   support\n",
      "\n",
      "           0       0.81      0.95      0.88      8196\n",
      "           1       0.65      0.30      0.41      2550\n",
      "\n",
      "    accuracy                           0.80     10746\n",
      "   macro avg       0.73      0.63      0.64     10746\n",
      "weighted avg       0.78      0.80      0.77     10746\n",
      "\n",
      "Confusion matrix : \n",
      "[[7788  408]\n",
      " [1780  770]]\n"
     ]
    }
   ],
   "source": [
    "\n",
    "print('F1 score plus TN : ')\n",
    "print(f1_plus_tn(y_test,pred_labels))\n",
    "print('F1 score : ')\n",
    "print(f1_score(y_test,pred_labels))\n",
    "print('Classification report : ')\n",
    "print(classification_report(y_test,pred_labels))\n",
    "print('Confusion matrix : ')\n",
    "print(confusion_matrix(y_test,pred_labels))"
   ]
  },
  {
   "cell_type": "code",
   "execution_count": 17,
   "metadata": {},
   "outputs": [
    {
     "data": {
      "text/html": [
       "<style>#sk-container-id-1 {color: black;background-color: white;}#sk-container-id-1 pre{padding: 0;}#sk-container-id-1 div.sk-toggleable {background-color: white;}#sk-container-id-1 label.sk-toggleable__label {cursor: pointer;display: block;width: 100%;margin-bottom: 0;padding: 0.3em;box-sizing: border-box;text-align: center;}#sk-container-id-1 label.sk-toggleable__label-arrow:before {content: \"▸\";float: left;margin-right: 0.25em;color: #696969;}#sk-container-id-1 label.sk-toggleable__label-arrow:hover:before {color: black;}#sk-container-id-1 div.sk-estimator:hover label.sk-toggleable__label-arrow:before {color: black;}#sk-container-id-1 div.sk-toggleable__content {max-height: 0;max-width: 0;overflow: hidden;text-align: left;background-color: #f0f8ff;}#sk-container-id-1 div.sk-toggleable__content pre {margin: 0.2em;color: black;border-radius: 0.25em;background-color: #f0f8ff;}#sk-container-id-1 input.sk-toggleable__control:checked~div.sk-toggleable__content {max-height: 200px;max-width: 100%;overflow: auto;}#sk-container-id-1 input.sk-toggleable__control:checked~label.sk-toggleable__label-arrow:before {content: \"▾\";}#sk-container-id-1 div.sk-estimator input.sk-toggleable__control:checked~label.sk-toggleable__label {background-color: #d4ebff;}#sk-container-id-1 div.sk-label input.sk-toggleable__control:checked~label.sk-toggleable__label {background-color: #d4ebff;}#sk-container-id-1 input.sk-hidden--visually {border: 0;clip: rect(1px 1px 1px 1px);clip: rect(1px, 1px, 1px, 1px);height: 1px;margin: -1px;overflow: hidden;padding: 0;position: absolute;width: 1px;}#sk-container-id-1 div.sk-estimator {font-family: monospace;background-color: #f0f8ff;border: 1px dotted black;border-radius: 0.25em;box-sizing: border-box;margin-bottom: 0.5em;}#sk-container-id-1 div.sk-estimator:hover {background-color: #d4ebff;}#sk-container-id-1 div.sk-parallel-item::after {content: \"\";width: 100%;border-bottom: 1px solid gray;flex-grow: 1;}#sk-container-id-1 div.sk-label:hover label.sk-toggleable__label {background-color: #d4ebff;}#sk-container-id-1 div.sk-serial::before {content: \"\";position: absolute;border-left: 1px solid gray;box-sizing: border-box;top: 0;bottom: 0;left: 50%;z-index: 0;}#sk-container-id-1 div.sk-serial {display: flex;flex-direction: column;align-items: center;background-color: white;padding-right: 0.2em;padding-left: 0.2em;position: relative;}#sk-container-id-1 div.sk-item {position: relative;z-index: 1;}#sk-container-id-1 div.sk-parallel {display: flex;align-items: stretch;justify-content: center;background-color: white;position: relative;}#sk-container-id-1 div.sk-item::before, #sk-container-id-1 div.sk-parallel-item::before {content: \"\";position: absolute;border-left: 1px solid gray;box-sizing: border-box;top: 0;bottom: 0;left: 50%;z-index: -1;}#sk-container-id-1 div.sk-parallel-item {display: flex;flex-direction: column;z-index: 1;position: relative;background-color: white;}#sk-container-id-1 div.sk-parallel-item:first-child::after {align-self: flex-end;width: 50%;}#sk-container-id-1 div.sk-parallel-item:last-child::after {align-self: flex-start;width: 50%;}#sk-container-id-1 div.sk-parallel-item:only-child::after {width: 0;}#sk-container-id-1 div.sk-dashed-wrapped {border: 1px dashed gray;margin: 0 0.4em 0.5em 0.4em;box-sizing: border-box;padding-bottom: 0.4em;background-color: white;}#sk-container-id-1 div.sk-label label {font-family: monospace;font-weight: bold;display: inline-block;line-height: 1.2em;}#sk-container-id-1 div.sk-label-container {text-align: center;}#sk-container-id-1 div.sk-container {/* jupyter's `normalize.less` sets `[hidden] { display: none; }` but bootstrap.min.css set `[hidden] { display: none !important; }` so we also need the `!important` here to be able to override the default hidden behavior on the sphinx rendered scikit-learn.org. See: https://github.com/scikit-learn/scikit-learn/issues/21755 */display: inline-block !important;position: relative;}#sk-container-id-1 div.sk-text-repr-fallback {display: none;}</style><div id=\"sk-container-id-1\" class=\"sk-top-container\"><div class=\"sk-text-repr-fallback\"><pre>LogisticRegression(C=0.12433359958022766, max_iter=575)</pre><b>In a Jupyter environment, please rerun this cell to show the HTML representation or trust the notebook. <br />On GitHub, the HTML representation is unable to render, please try loading this page with nbviewer.org.</b></div><div class=\"sk-container\" hidden><div class=\"sk-item\"><div class=\"sk-estimator sk-toggleable\"><input class=\"sk-toggleable__control sk-hidden--visually\" id=\"sk-estimator-id-1\" type=\"checkbox\" checked><label for=\"sk-estimator-id-1\" class=\"sk-toggleable__label sk-toggleable__label-arrow\">LogisticRegression</label><div class=\"sk-toggleable__content\"><pre>LogisticRegression(C=0.12433359958022766, max_iter=575)</pre></div></div></div></div></div>"
      ],
      "text/plain": [
       "LogisticRegression(C=0.12433359958022766, max_iter=575)"
      ]
     },
     "execution_count": 17,
     "metadata": {},
     "output_type": "execute_result"
    }
   ],
   "source": [
    "obj.get_best_estimator()"
   ]
  },
  {
   "cell_type": "code",
   "execution_count": 18,
   "metadata": {},
   "outputs": [
    {
     "data": {
      "text/html": [
       "<style>#sk-container-id-2 {color: black;background-color: white;}#sk-container-id-2 pre{padding: 0;}#sk-container-id-2 div.sk-toggleable {background-color: white;}#sk-container-id-2 label.sk-toggleable__label {cursor: pointer;display: block;width: 100%;margin-bottom: 0;padding: 0.3em;box-sizing: border-box;text-align: center;}#sk-container-id-2 label.sk-toggleable__label-arrow:before {content: \"▸\";float: left;margin-right: 0.25em;color: #696969;}#sk-container-id-2 label.sk-toggleable__label-arrow:hover:before {color: black;}#sk-container-id-2 div.sk-estimator:hover label.sk-toggleable__label-arrow:before {color: black;}#sk-container-id-2 div.sk-toggleable__content {max-height: 0;max-width: 0;overflow: hidden;text-align: left;background-color: #f0f8ff;}#sk-container-id-2 div.sk-toggleable__content pre {margin: 0.2em;color: black;border-radius: 0.25em;background-color: #f0f8ff;}#sk-container-id-2 input.sk-toggleable__control:checked~div.sk-toggleable__content {max-height: 200px;max-width: 100%;overflow: auto;}#sk-container-id-2 input.sk-toggleable__control:checked~label.sk-toggleable__label-arrow:before {content: \"▾\";}#sk-container-id-2 div.sk-estimator input.sk-toggleable__control:checked~label.sk-toggleable__label {background-color: #d4ebff;}#sk-container-id-2 div.sk-label input.sk-toggleable__control:checked~label.sk-toggleable__label {background-color: #d4ebff;}#sk-container-id-2 input.sk-hidden--visually {border: 0;clip: rect(1px 1px 1px 1px);clip: rect(1px, 1px, 1px, 1px);height: 1px;margin: -1px;overflow: hidden;padding: 0;position: absolute;width: 1px;}#sk-container-id-2 div.sk-estimator {font-family: monospace;background-color: #f0f8ff;border: 1px dotted black;border-radius: 0.25em;box-sizing: border-box;margin-bottom: 0.5em;}#sk-container-id-2 div.sk-estimator:hover {background-color: #d4ebff;}#sk-container-id-2 div.sk-parallel-item::after {content: \"\";width: 100%;border-bottom: 1px solid gray;flex-grow: 1;}#sk-container-id-2 div.sk-label:hover label.sk-toggleable__label {background-color: #d4ebff;}#sk-container-id-2 div.sk-serial::before {content: \"\";position: absolute;border-left: 1px solid gray;box-sizing: border-box;top: 0;bottom: 0;left: 50%;z-index: 0;}#sk-container-id-2 div.sk-serial {display: flex;flex-direction: column;align-items: center;background-color: white;padding-right: 0.2em;padding-left: 0.2em;position: relative;}#sk-container-id-2 div.sk-item {position: relative;z-index: 1;}#sk-container-id-2 div.sk-parallel {display: flex;align-items: stretch;justify-content: center;background-color: white;position: relative;}#sk-container-id-2 div.sk-item::before, #sk-container-id-2 div.sk-parallel-item::before {content: \"\";position: absolute;border-left: 1px solid gray;box-sizing: border-box;top: 0;bottom: 0;left: 50%;z-index: -1;}#sk-container-id-2 div.sk-parallel-item {display: flex;flex-direction: column;z-index: 1;position: relative;background-color: white;}#sk-container-id-2 div.sk-parallel-item:first-child::after {align-self: flex-end;width: 50%;}#sk-container-id-2 div.sk-parallel-item:last-child::after {align-self: flex-start;width: 50%;}#sk-container-id-2 div.sk-parallel-item:only-child::after {width: 0;}#sk-container-id-2 div.sk-dashed-wrapped {border: 1px dashed gray;margin: 0 0.4em 0.5em 0.4em;box-sizing: border-box;padding-bottom: 0.4em;background-color: white;}#sk-container-id-2 div.sk-label label {font-family: monospace;font-weight: bold;display: inline-block;line-height: 1.2em;}#sk-container-id-2 div.sk-label-container {text-align: center;}#sk-container-id-2 div.sk-container {/* jupyter's `normalize.less` sets `[hidden] { display: none; }` but bootstrap.min.css set `[hidden] { display: none !important; }` so we also need the `!important` here to be able to override the default hidden behavior on the sphinx rendered scikit-learn.org. See: https://github.com/scikit-learn/scikit-learn/issues/21755 */display: inline-block !important;position: relative;}#sk-container-id-2 div.sk-text-repr-fallback {display: none;}</style><div id=\"sk-container-id-2\" class=\"sk-top-container\"><div class=\"sk-text-repr-fallback\"><pre>LogisticRegression(C=0.12433359958022766, max_iter=575)</pre><b>In a Jupyter environment, please rerun this cell to show the HTML representation or trust the notebook. <br />On GitHub, the HTML representation is unable to render, please try loading this page with nbviewer.org.</b></div><div class=\"sk-container\" hidden><div class=\"sk-item\"><div class=\"sk-estimator sk-toggleable\"><input class=\"sk-toggleable__control sk-hidden--visually\" id=\"sk-estimator-id-2\" type=\"checkbox\" checked><label for=\"sk-estimator-id-2\" class=\"sk-toggleable__label sk-toggleable__label-arrow\">LogisticRegression</label><div class=\"sk-toggleable__content\"><pre>LogisticRegression(C=0.12433359958022766, max_iter=575)</pre></div></div></div></div></div>"
      ],
      "text/plain": [
       "LogisticRegression(C=0.12433359958022766, max_iter=575)"
      ]
     },
     "execution_count": 18,
     "metadata": {},
     "output_type": "execute_result"
    }
   ],
   "source": [
    "obj.best_estimator"
   ]
  },
  {
   "attachments": {},
   "cell_type": "markdown",
   "metadata": {},
   "source": [
    "#### Get fitted Optuna Search object and its attributes"
   ]
  },
  {
   "cell_type": "code",
   "execution_count": 19,
   "metadata": {},
   "outputs": [
    {
     "data": {
      "text/plain": [
       "FrozenTrial(number=11, state=TrialState.COMPLETE, values=[0.818306109115278], datetime_start=datetime.datetime(2023, 7, 3, 19, 44, 43, 367265), datetime_complete=datetime.datetime(2023, 7, 3, 19, 44, 43, 639354), params={'penalty': 'l2', 'C': 0.12433359958022766, 'max_iter': 575}, user_attrs={}, system_attrs={}, intermediate_values={}, distributions={'penalty': CategoricalDistribution(choices=('l2',)), 'C': FloatDistribution(high=1.0, log=False, low=0.1, step=None), 'max_iter': IntDistribution(high=700, log=False, low=500, step=1)}, trial_id=11, value=None)"
      ]
     },
     "execution_count": 19,
     "metadata": {},
     "output_type": "execute_result"
    }
   ],
   "source": [
    "OptunaObj = obj.get_optimized_object()\n",
    "OptunaObj"
   ]
  },
  {
   "cell_type": "code",
   "execution_count": 20,
   "metadata": {},
   "outputs": [
    {
     "name": "stdout",
     "output_type": "stream",
     "text": [
      "LogisticRegression(C=0.12433359958022766, max_iter=575)\n"
     ]
    }
   ],
   "source": [
    "print(obj.get_best_estimator())"
   ]
  }
 ],
 "metadata": {
  "kernelspec": {
   "display_name": "Python 3.10.4 ('.venv': poetry)",
   "language": "python",
   "name": "python3"
  },
  "language_info": {
   "codemirror_mode": {
    "name": "ipython",
    "version": 3
   },
   "file_extension": ".py",
   "mimetype": "text/x-python",
   "name": "python",
   "nbconvert_exporter": "python",
   "pygments_lexer": "ipython3",
   "version": "3.10.11"
  },
  "orig_nbformat": 4,
  "vscode": {
   "interpreter": {
    "hash": "7ced68e88e9060e5bcf2eaa5b2d4f8fc97e4d610a52d347137abf879072ffb6d"
   }
  }
 },
 "nbformat": 4,
 "nbformat_minor": 2
}
