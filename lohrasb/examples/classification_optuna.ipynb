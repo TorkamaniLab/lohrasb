{
 "cells": [
  {
   "cell_type": "code",
   "execution_count": 1,
   "metadata": {},
   "outputs": [
    {
     "name": "stderr",
     "output_type": "stream",
     "text": [
      "/Users/hjavedani/Documents/Lohrasb/.venv/lib/python3.10/site-packages/tqdm/auto.py:22: TqdmWarning: IProgress not found. Please update jupyter and ipywidgets. See https://ipywidgets.readthedocs.io/en/stable/user_install.html\n",
      "  from .autonotebook import tqdm as notebook_tqdm\n",
      "\u001b[32m[I 2022-09-30 14:43:24,292]\u001b[0m A new study created in memory with name: no-name-63e6ebe0-cbfa-4bb0-aad3-799842a79767\u001b[0m\n",
      "\u001b[32m[I 2022-09-30 14:43:24,294]\u001b[0m A new study created in memory with name: no-name-97dacee6-b560-4d0d-a952-9e05603ea983\u001b[0m\n"
     ]
    }
   ],
   "source": [
    "from lohrasb.best_estimator import BaseModel\n",
    "import xgboost\n",
    "from optuna.pruners import HyperbandPruner\n",
    "from optuna.samplers._tpe.sampler import TPESampler\n",
    "from sklearn.model_selection import KFold,train_test_split\n",
    "import pandas as pd\n",
    "import numpy as np\n",
    "import optuna\n",
    "from sklearn.pipeline import Pipeline\n",
    "from feature_engine.imputation import (\n",
    "    CategoricalImputer,\n",
    "    MeanMedianImputer\n",
    "    )\n",
    "from category_encoders import OrdinalEncoder\n",
    "from sklearn.linear_model import LogisticRegression\n",
    "from sklearn.metrics import (\n",
    "    classification_report,\n",
    "    confusion_matrix,\n",
    "    f1_score)\n",
    "from sklearn.metrics import f1_score, mean_absolute_error\n",
    "from sklearn.linear_model import *\n",
    "from sklearn.svm import *\n",
    "from xgboost import *\n",
    "from sklearn.linear_model import *\n",
    "from catboost import *\n",
    "from lightgbm import *\n",
    "from sklearn.neural_network import *\n",
    "from imblearn.ensemble import *\n",
    "from sklearn.ensemble import *\n",
    "\n"
   ]
  },
  {
   "cell_type": "markdown",
   "metadata": {},
   "source": [
    "# Example 1 : Use Adult Data Set (a classification problem)\n",
    "  \n",
    "https://archive.ics.uci.edu/ml/datasets/Adult"
   ]
  },
  {
   "cell_type": "code",
   "execution_count": 2,
   "metadata": {},
   "outputs": [
    {
     "data": {
      "text/html": [
       "<div>\n",
       "<style scoped>\n",
       "    .dataframe tbody tr th:only-of-type {\n",
       "        vertical-align: middle;\n",
       "    }\n",
       "\n",
       "    .dataframe tbody tr th {\n",
       "        vertical-align: top;\n",
       "    }\n",
       "\n",
       "    .dataframe thead th {\n",
       "        text-align: right;\n",
       "    }\n",
       "</style>\n",
       "<table border=\"1\" class=\"dataframe\">\n",
       "  <thead>\n",
       "    <tr style=\"text-align: right;\">\n",
       "      <th></th>\n",
       "      <th>age</th>\n",
       "      <th>workclass</th>\n",
       "      <th>fnlwgt</th>\n",
       "      <th>education</th>\n",
       "      <th>education-num</th>\n",
       "      <th>marital-status</th>\n",
       "      <th>occupation</th>\n",
       "      <th>relationship</th>\n",
       "      <th>race</th>\n",
       "      <th>sex</th>\n",
       "      <th>capital-gain</th>\n",
       "      <th>capital-loss</th>\n",
       "      <th>hours-per-week</th>\n",
       "      <th>native-country</th>\n",
       "      <th>label</th>\n",
       "    </tr>\n",
       "  </thead>\n",
       "  <tbody>\n",
       "    <tr>\n",
       "      <th>0</th>\n",
       "      <td>39</td>\n",
       "      <td>State-gov</td>\n",
       "      <td>77516</td>\n",
       "      <td>Bachelors</td>\n",
       "      <td>13</td>\n",
       "      <td>Never-married</td>\n",
       "      <td>Adm-clerical</td>\n",
       "      <td>Not-in-family</td>\n",
       "      <td>White</td>\n",
       "      <td>Male</td>\n",
       "      <td>2174</td>\n",
       "      <td>0</td>\n",
       "      <td>40</td>\n",
       "      <td>United-States</td>\n",
       "      <td>&lt;=50K</td>\n",
       "    </tr>\n",
       "    <tr>\n",
       "      <th>1</th>\n",
       "      <td>50</td>\n",
       "      <td>Self-emp-not-inc</td>\n",
       "      <td>83311</td>\n",
       "      <td>Bachelors</td>\n",
       "      <td>13</td>\n",
       "      <td>Married-civ-spouse</td>\n",
       "      <td>Exec-managerial</td>\n",
       "      <td>Husband</td>\n",
       "      <td>White</td>\n",
       "      <td>Male</td>\n",
       "      <td>0</td>\n",
       "      <td>0</td>\n",
       "      <td>13</td>\n",
       "      <td>United-States</td>\n",
       "      <td>&lt;=50K</td>\n",
       "    </tr>\n",
       "    <tr>\n",
       "      <th>2</th>\n",
       "      <td>38</td>\n",
       "      <td>Private</td>\n",
       "      <td>215646</td>\n",
       "      <td>HS-grad</td>\n",
       "      <td>9</td>\n",
       "      <td>Divorced</td>\n",
       "      <td>Handlers-cleaners</td>\n",
       "      <td>Not-in-family</td>\n",
       "      <td>White</td>\n",
       "      <td>Male</td>\n",
       "      <td>0</td>\n",
       "      <td>0</td>\n",
       "      <td>40</td>\n",
       "      <td>United-States</td>\n",
       "      <td>&lt;=50K</td>\n",
       "    </tr>\n",
       "    <tr>\n",
       "      <th>3</th>\n",
       "      <td>53</td>\n",
       "      <td>Private</td>\n",
       "      <td>234721</td>\n",
       "      <td>11th</td>\n",
       "      <td>7</td>\n",
       "      <td>Married-civ-spouse</td>\n",
       "      <td>Handlers-cleaners</td>\n",
       "      <td>Husband</td>\n",
       "      <td>Black</td>\n",
       "      <td>Male</td>\n",
       "      <td>0</td>\n",
       "      <td>0</td>\n",
       "      <td>40</td>\n",
       "      <td>United-States</td>\n",
       "      <td>&lt;=50K</td>\n",
       "    </tr>\n",
       "    <tr>\n",
       "      <th>4</th>\n",
       "      <td>28</td>\n",
       "      <td>Private</td>\n",
       "      <td>338409</td>\n",
       "      <td>Bachelors</td>\n",
       "      <td>13</td>\n",
       "      <td>Married-civ-spouse</td>\n",
       "      <td>Prof-specialty</td>\n",
       "      <td>Wife</td>\n",
       "      <td>Black</td>\n",
       "      <td>Female</td>\n",
       "      <td>0</td>\n",
       "      <td>0</td>\n",
       "      <td>40</td>\n",
       "      <td>Cuba</td>\n",
       "      <td>&lt;=50K</td>\n",
       "    </tr>\n",
       "  </tbody>\n",
       "</table>\n",
       "</div>"
      ],
      "text/plain": [
       "   age          workclass  fnlwgt   education  education-num  \\\n",
       "0   39          State-gov   77516   Bachelors             13   \n",
       "1   50   Self-emp-not-inc   83311   Bachelors             13   \n",
       "2   38            Private  215646     HS-grad              9   \n",
       "3   53            Private  234721        11th              7   \n",
       "4   28            Private  338409   Bachelors             13   \n",
       "\n",
       "        marital-status          occupation    relationship    race      sex  \\\n",
       "0        Never-married        Adm-clerical   Not-in-family   White     Male   \n",
       "1   Married-civ-spouse     Exec-managerial         Husband   White     Male   \n",
       "2             Divorced   Handlers-cleaners   Not-in-family   White     Male   \n",
       "3   Married-civ-spouse   Handlers-cleaners         Husband   Black     Male   \n",
       "4   Married-civ-spouse      Prof-specialty            Wife   Black   Female   \n",
       "\n",
       "   capital-gain  capital-loss  hours-per-week  native-country   label  \n",
       "0          2174             0              40   United-States   <=50K  \n",
       "1             0             0              13   United-States   <=50K  \n",
       "2             0             0              40   United-States   <=50K  \n",
       "3             0             0              40   United-States   <=50K  \n",
       "4             0             0              40            Cuba   <=50K  "
      ]
     },
     "execution_count": 2,
     "metadata": {},
     "output_type": "execute_result"
    }
   ],
   "source": [
    "urldata= \"https://archive.ics.uci.edu/ml/machine-learning-databases/adult/adult.data\"\n",
    "# column names\n",
    "col_names=[\"age\", \"workclass\", \"fnlwgt\" , \"education\" ,\"education-num\",\n",
    "\"marital-status\",\"occupation\",\"relationship\",\"race\",\"sex\",\"capital-gain\",\"capital-loss\",\"hours-per-week\",\n",
    "\"native-country\",\"label\"\n",
    "]\n",
    "# read data\n",
    "data = pd.read_csv(urldata,header=None,names=col_names,sep=',')\n",
    "data.head()"
   ]
  },
  {
   "cell_type": "markdown",
   "metadata": {},
   "source": [
    "# Define labels\n"
   ]
  },
  {
   "cell_type": "code",
   "execution_count": 3,
   "metadata": {},
   "outputs": [],
   "source": [
    "data.loc[data['label']=='<=50K','label']=0\n",
    "data.loc[data['label']==' <=50K','label']=0\n",
    "\n",
    "data.loc[data['label']=='>50K','label']=1\n",
    "data.loc[data['label']==' >50K','label']=1\n",
    "\n",
    "data['label']=data['label'].astype(int)"
   ]
  },
  {
   "cell_type": "markdown",
   "metadata": {},
   "source": [
    "# Train test split"
   ]
  },
  {
   "cell_type": "code",
   "execution_count": 4,
   "metadata": {},
   "outputs": [],
   "source": [
    "X = data.loc[:, data.columns != \"label\"]\n",
    "y = data.loc[:, data.columns == \"label\"]\n",
    "y = y.values.ravel()\n",
    "\n",
    "\n",
    "X_train, X_test, y_train, y_test =train_test_split(X, y, test_size=0.33, random_state=42)\n"
   ]
  },
  {
   "cell_type": "markdown",
   "metadata": {},
   "source": [
    "# Find feature types for later use"
   ]
  },
  {
   "cell_type": "code",
   "execution_count": 5,
   "metadata": {},
   "outputs": [],
   "source": [
    "int_cols =  X_train.select_dtypes(include=['int']).columns.tolist()\n",
    "float_cols =  X_train.select_dtypes(include=['float']).columns.tolist()\n",
    "cat_cols =  X_train.select_dtypes(include=['object']).columns.tolist()\n"
   ]
  },
  {
   "cell_type": "markdown",
   "metadata": {},
   "source": [
    "# Define model and set it argumens "
   ]
  },
  {
   "cell_type": "code",
   "execution_count": 6,
   "metadata": {},
   "outputs": [],
   "source": [
    "estimator = LGBMClassifier()\n",
    "estimator_params = {\n",
    "        \"eval_metric\": [\"auc\"],\n",
    "        \"max_depth\": [4, 5],\n",
    "        \n",
    "    }\n"
   ]
  },
  {
   "cell_type": "code",
   "execution_count": 7,
   "metadata": {},
   "outputs": [
    {
     "name": "stderr",
     "output_type": "stream",
     "text": [
      "\u001b[32m[I 2022-09-30 14:43:25,293]\u001b[0m A new study created in memory with name: no-name-8267daa6-e2f9-4fcf-82c9-5d798c6d18d3\u001b[0m\n"
     ]
    }
   ],
   "source": [
    "obj = BaseModel.bestmodel_factory.using_optuna(\n",
    "            estimator=estimator,\n",
    "            estimator_params=estimator_params,\n",
    "            measure_of_accuracy=\"f1_score\",\n",
    "            add_extra_args_for_measure_of_accuracy = False,\n",
    "            verbose=3,\n",
    "            n_jobs=-1,\n",
    "            random_state=42,\n",
    "            # optuna params\n",
    "            # optuna study init params\n",
    "            study=optuna.create_study(\n",
    "                storage=None,\n",
    "                sampler=TPESampler(),\n",
    "                pruner=HyperbandPruner(),\n",
    "                study_name=None,\n",
    "                direction=\"maximize\",\n",
    "                load_if_exists=False,\n",
    "                directions=None,\n",
    "            ),\n",
    "            # optuna optimization params\n",
    "            study_optimize_objective=None,\n",
    "            study_optimize_objective_n_trials=10,\n",
    "            study_optimize_objective_timeout=600,\n",
    "            study_optimize_n_jobs=-1,\n",
    "            study_optimize_catch=(),\n",
    "            study_optimize_callbacks=None,\n",
    "            study_optimize_gc_after_trial=False,\n",
    "            study_optimize_show_progress_bar=False,\n",
    "        )"
   ]
  },
  {
   "cell_type": "markdown",
   "metadata": {},
   "source": [
    "# Build sklearn pipeline"
   ]
  },
  {
   "cell_type": "code",
   "execution_count": 8,
   "metadata": {},
   "outputs": [],
   "source": [
    "\n",
    "\n",
    "pipeline =Pipeline([\n",
    "            # int missing values imputers\n",
    "            ('intimputer', MeanMedianImputer(\n",
    "                imputation_method='median', variables=int_cols)),\n",
    "            # category missing values imputers\n",
    "            ('catimputer', CategoricalImputer(variables=cat_cols)),\n",
    "            #\n",
    "            ('catencoder', OrdinalEncoder()),\n",
    "            # classification model\n",
    "            ('obj', obj),\n",
    "\n",
    "\n",
    " ])\n",
    " \n",
    "\n"
   ]
  },
  {
   "cell_type": "markdown",
   "metadata": {},
   "source": [
    "# Run Pipeline"
   ]
  },
  {
   "cell_type": "code",
   "execution_count": 9,
   "metadata": {},
   "outputs": [
    {
     "name": "stdout",
     "output_type": "stream",
     "text": [
      "Initializing Optuna\n",
      "labels=None Not a float\n",
      "labels=None Not a int\n",
      "average='binary' Not a float\n",
      "average='binary' Not a int\n",
      "sample_weight=None Not a float\n",
      "sample_weight=None Not a int\n",
      "zero_division='warn' Not a float\n",
      "zero_division='warn' Not a int\n",
      "labels=None Not a float\n",
      "labels=None Not a int\n",
      "average='binary' Not a float\n",
      "average='binary' Not a int\n",
      "sample_weight=None Not a float\n",
      "sample_weight=None Not a int\n",
      "zero_division='warn' Not a float\n",
      "zero_division='warn' Not a int\n",
      "labels=None Not a float\n",
      "labels=None Not a int\n",
      "average='binary' Not a float\n",
      "average='binary' Not a int\n",
      "sample_weight=None Not a float\n",
      "sample_weight=None Not a int\n",
      "zero_division='warn' Not a float\n",
      "zero_division='warn' Not a int\n",
      "labels=None Not a float\n",
      "labels=None Not a int\n",
      "average='binary' Not a float\n",
      "average='binary' Not a int\n",
      "sample_weight=None Not a float\n",
      "sample_weight=None Not a int\n",
      "zero_division='warn' Not a float\n",
      "zero_division='warn' Not a int\n",
      "labels=None Not a float\n",
      "labels=None Not a int\n",
      "average='binary' Not a float\n",
      "average='binary' Not a int\n",
      "sample_weight=None Not a float\n",
      "sample_weight=None Not a int\n",
      "zero_division='warn' Not a float\n",
      "zero_division='warn' Not a int\n",
      "{'eval_metric': 'auc', 'max_depth': 4}\n",
      "{'eval_metric': 'auc', 'max_depth': 4}\n",
      "{'eval_metric': 'auc', 'max_depth': 5}\n",
      "{'eval_metric': 'auc', 'max_depth': 4}\n",
      "{'eval_metric': 'auc', 'max_depth': 5}\n",
      "{'eval_metric': 'auc', 'max_depth': 5}\n",
      "{'eval_metric': 'auc', 'max_depth': 4}\n",
      "{'eval_metric': 'auc', 'max_depth': 4}\n",
      "[LightGBM] [Warning] Unknown parameter: eval_metric\n",
      "[LightGBM] [Warning] Unknown parameter: eval_metric\n",
      "[LightGBM] [Warning] Unknown parameter: eval_metric\n",
      "[LightGBM] [Warning] Unknown parameter: eval_metric\n",
      "[LightGBM] [Warning] Unknown parameter: eval_metric\n",
      "[LightGBM] [Warning] Unknown parameter: eval_metric\n",
      "[LightGBM] [Warning] Unknown parameter: eval_metric\n",
      "[LightGBM] [Warning] Unknown parameter: eval_metric\n"
     ]
    },
    {
     "name": "stderr",
     "output_type": "stream",
     "text": [
      "/Users/hjavedani/Documents/Lohrasb/.venv/lib/python3.10/site-packages/optuna/study/study.py:393: FutureWarning: `n_jobs` argument has been deprecated in v2.7.0. This feature will be removed in v4.0.0. See https://github.com/optuna/optuna/releases/tag/v2.7.0.\n",
      "  warnings.warn(\n",
      "\u001b[32m[I 2022-09-30 14:43:27,235]\u001b[0m Trial 6 finished with value: 0.6993630573248407 and parameters: {'eval_metric': 'auc', 'max_depth': 4}. Best is trial 6 with value: 0.6993630573248407.\u001b[0m\n",
      "\u001b[32m[I 2022-09-30 14:43:27,246]\u001b[0m Trial 7 finished with value: 0.6993630573248407 and parameters: {'eval_metric': 'auc', 'max_depth': 4}. Best is trial 6 with value: 0.6993630573248407.\u001b[0m\n",
      "\u001b[32m[I 2022-09-30 14:43:27,253]\u001b[0m Trial 3 finished with value: 0.6993630573248407 and parameters: {'eval_metric': 'auc', 'max_depth': 4}. Best is trial 6 with value: 0.6993630573248407.\u001b[0m\n"
     ]
    },
    {
     "name": "stdout",
     "output_type": "stream",
     "text": [
      "{'eval_metric': 'auc', 'max_depth': 4}\n",
      "[LightGBM] [Warning] Unknown parameter: eval_metric\n",
      "{'eval_metric': 'auc', 'max_depth': 4}\n",
      "[LightGBM] [Warning] Unknown parameter: eval_metric\n"
     ]
    },
    {
     "name": "stderr",
     "output_type": "stream",
     "text": [
      "\u001b[32m[I 2022-09-30 14:43:27,472]\u001b[0m Trial 0 finished with value: 0.6993630573248407 and parameters: {'eval_metric': 'auc', 'max_depth': 4}. Best is trial 6 with value: 0.6993630573248407.\u001b[0m\n",
      "\u001b[32m[I 2022-09-30 14:43:27,478]\u001b[0m Trial 1 finished with value: 0.6993630573248407 and parameters: {'eval_metric': 'auc', 'max_depth': 4}. Best is trial 6 with value: 0.6993630573248407.\u001b[0m\n",
      "\u001b[32m[I 2022-09-30 14:43:27,799]\u001b[0m Trial 5 finished with value: 0.7101449275362318 and parameters: {'eval_metric': 'auc', 'max_depth': 5}. Best is trial 5 with value: 0.7101449275362318.\u001b[0m\n",
      "\u001b[32m[I 2022-09-30 14:43:27,809]\u001b[0m Trial 4 finished with value: 0.7101449275362318 and parameters: {'eval_metric': 'auc', 'max_depth': 5}. Best is trial 5 with value: 0.7101449275362318.\u001b[0m\n",
      "\u001b[32m[I 2022-09-30 14:43:27,819]\u001b[0m Trial 2 finished with value: 0.7101449275362318 and parameters: {'eval_metric': 'auc', 'max_depth': 5}. Best is trial 5 with value: 0.7101449275362318.\u001b[0m\n",
      "\u001b[32m[I 2022-09-30 14:43:27,987]\u001b[0m Trial 9 finished with value: 0.6993630573248407 and parameters: {'eval_metric': 'auc', 'max_depth': 4}. Best is trial 5 with value: 0.7101449275362318.\u001b[0m\n",
      "\u001b[32m[I 2022-09-30 14:43:27,987]\u001b[0m Trial 8 finished with value: 0.6993630573248407 and parameters: {'eval_metric': 'auc', 'max_depth': 4}. Best is trial 5 with value: 0.7101449275362318.\u001b[0m\n",
      "/Users/hjavedani/Documents/Lohrasb/.venv/lib/python3.10/site-packages/optuna/study/study.py:393: FutureWarning: `n_jobs` argument has been deprecated in v2.7.0. This feature will be removed in v4.0.0. See https://github.com/optuna/optuna/releases/tag/v2.7.0.\n",
      "  warnings.warn(\n"
     ]
    },
    {
     "name": "stdout",
     "output_type": "stream",
     "text": [
      "[LightGBM] [Warning] Unknown parameter: eval_metric\n",
      "LGBMClassifier(eval_metric='auc', max_depth=5)\n",
      "Initializing Optuna\n",
      "labels=None Not a float\n",
      "labels=None Not a int\n",
      "average='binary' Not a float\n",
      "average='binary' Not a int\n",
      "sample_weight=None Not a float\n",
      "sample_weight=None Not a int\n",
      "zero_division='warn' Not a float\n",
      "zero_division='warn' Not a int\n",
      "labels=None Not a float\n",
      "labels=None Not a int\n",
      "average='binary' Not a float\n",
      "average='binary' Not a int\n",
      "sample_weight=None Not a float\n",
      "sample_weight=None Not a int\n",
      "zero_division='warn' Not a float\n",
      "zero_division='warn' Not a int\n",
      "labels=None Not a float\n",
      "labels=None Not a int\n",
      "average='binary' Not a float\n",
      "average='binary' Not a int\n",
      "sample_weight=None Not a float\n",
      "sample_weight=None Not a int\n",
      "zero_division='warn' Not a float\n",
      "zero_division='warn' Not a int\n",
      "labels=None Not a float\n",
      "labels=None Not a int\n",
      "average='binary' Not a float\n",
      "average='binary' Not a int\n",
      "sample_weight=None Not a float\n",
      "sample_weight=None Not a int\n",
      "zero_division='warn' Not a float\n",
      "zero_division='warn' Not a int\n",
      "labels=None Not a float\n",
      "labels=None Not a int\n",
      "average='binary' Not a float\n",
      "average='binary' Not a int\n",
      "sample_weight=None Not a float\n",
      "sample_weight=None Not a int\n",
      "zero_division='warn' Not a float\n",
      "zero_division='warn' Not a int\n",
      "{'eval_metric': 'auc', 'max_depth': 5}\n",
      "{'eval_metric': 'auc', 'max_depth': 5}\n",
      "{'eval_metric': 'auc', 'max_depth': 5}\n",
      "{'eval_metric': 'auc', 'max_depth': 5}\n",
      "{'eval_metric': 'auc', 'max_depth': 5}\n",
      "{'eval_metric': 'auc', 'max_depth': 5}\n",
      "{'eval_metric': 'auc', 'max_depth': 5}\n",
      "{'eval_metric': 'auc', 'max_depth': 5}\n",
      "[LightGBM] [Warning] Unknown parameter: eval_metric\n",
      "[LightGBM] [Warning] Unknown parameter: eval_metric\n",
      "[LightGBM] [Warning] Unknown parameter: eval_metric\n",
      "[LightGBM] [Warning] Unknown parameter: eval_metric\n",
      "[LightGBM] [Warning] Unknown parameter: eval_metric\n",
      "[LightGBM] [Warning] Unknown parameter: eval_metric\n",
      "[LightGBM] [Warning] Unknown parameter: eval_metric\n",
      "[LightGBM] [Warning] Unknown parameter: eval_metric\n"
     ]
    },
    {
     "name": "stderr",
     "output_type": "stream",
     "text": [
      "\u001b[32m[I 2022-09-30 14:43:31,257]\u001b[0m Trial 17 finished with value: 0.7101449275362318 and parameters: {'eval_metric': 'auc', 'max_depth': 5}. Best is trial 5 with value: 0.7101449275362318.\u001b[0m\n",
      "\u001b[32m[I 2022-09-30 14:43:31,279]\u001b[0m Trial 11 finished with value: 0.7101449275362318 and parameters: {'eval_metric': 'auc', 'max_depth': 5}. Best is trial 5 with value: 0.7101449275362318.\u001b[0m\n",
      "\u001b[32m[I 2022-09-30 14:43:31,294]\u001b[0m Trial 14 finished with value: 0.7101449275362318 and parameters: {'eval_metric': 'auc', 'max_depth': 5}. Best is trial 5 with value: 0.7101449275362318.\u001b[0m\n",
      "\u001b[32m[I 2022-09-30 14:43:31,305]\u001b[0m Trial 12 finished with value: 0.7101449275362318 and parameters: {'eval_metric': 'auc', 'max_depth': 5}. Best is trial 5 with value: 0.7101449275362318.\u001b[0m\n",
      "\u001b[32m[I 2022-09-30 14:43:31,318]\u001b[0m Trial 16 finished with value: 0.7101449275362318 and parameters: {'eval_metric': 'auc', 'max_depth': 5}. Best is trial 5 with value: 0.7101449275362318.\u001b[0m\n",
      "\u001b[32m[I 2022-09-30 14:43:31,320]\u001b[0m Trial 10 finished with value: 0.7101449275362318 and parameters: {'eval_metric': 'auc', 'max_depth': 5}. Best is trial 5 with value: 0.7101449275362318.\u001b[0m\n",
      "\u001b[32m[I 2022-09-30 14:43:31,323]\u001b[0m Trial 15 finished with value: 0.7101449275362318 and parameters: {'eval_metric': 'auc', 'max_depth': 5}. Best is trial 5 with value: 0.7101449275362318.\u001b[0m\n",
      "\u001b[32m[I 2022-09-30 14:43:31,329]\u001b[0m Trial 13 finished with value: 0.7101449275362318 and parameters: {'eval_metric': 'auc', 'max_depth': 5}. Best is trial 5 with value: 0.7101449275362318.\u001b[0m\n"
     ]
    },
    {
     "name": "stdout",
     "output_type": "stream",
     "text": [
      "{'eval_metric': 'auc', 'max_depth': 5}\n",
      "{'eval_metric': 'auc', 'max_depth': 5}\n",
      "[LightGBM] [Warning] Unknown parameter: eval_metric\n",
      "[LightGBM] [Warning] Unknown parameter: eval_metric\n"
     ]
    },
    {
     "name": "stderr",
     "output_type": "stream",
     "text": [
      "\u001b[32m[I 2022-09-30 14:43:31,810]\u001b[0m Trial 18 finished with value: 0.7101449275362318 and parameters: {'eval_metric': 'auc', 'max_depth': 5}. Best is trial 5 with value: 0.7101449275362318.\u001b[0m\n",
      "\u001b[32m[I 2022-09-30 14:43:31,817]\u001b[0m Trial 19 finished with value: 0.7101449275362318 and parameters: {'eval_metric': 'auc', 'max_depth': 5}. Best is trial 5 with value: 0.7101449275362318.\u001b[0m\n"
     ]
    }
   ],
   "source": [
    "pipeline.fit(X_train,y_train)\n",
    "y_preds = pipeline.predict(X_test)\n",
    "pred_labels = np.rint(y_preds)\n",
    "\n",
    "\n"
   ]
  },
  {
   "cell_type": "markdown",
   "metadata": {},
   "source": [
    "# Check performance of the pipeline"
   ]
  },
  {
   "cell_type": "code",
   "execution_count": 10,
   "metadata": {},
   "outputs": [
    {
     "name": "stdout",
     "output_type": "stream",
     "text": [
      "F1 score : \n",
      "0.7053015668598412\n",
      "Classification report : \n",
      "              precision    recall  f1-score   support\n",
      "\n",
      "           0       0.89      0.94      0.92      8196\n",
      "           1       0.78      0.64      0.71      2550\n",
      "\n",
      "    accuracy                           0.87     10746\n",
      "   macro avg       0.84      0.79      0.81     10746\n",
      "weighted avg       0.87      0.87      0.87     10746\n",
      "\n",
      "Confusion matrix : \n",
      "[[7730  466]\n",
      " [ 907 1643]]\n"
     ]
    }
   ],
   "source": [
    "print('F1 score : ')\n",
    "print(f1_score(y_test,pred_labels))\n",
    "print('Classification report : ')\n",
    "print(classification_report(y_test,pred_labels))\n",
    "print('Confusion matrix : ')\n",
    "print(confusion_matrix(y_test,pred_labels))\n"
   ]
  }
 ],
 "metadata": {
  "kernelspec": {
   "display_name": "Python 3.10.4 ('.venv': poetry)",
   "language": "python",
   "name": "python3"
  },
  "language_info": {
   "codemirror_mode": {
    "name": "ipython",
    "version": 3
   },
   "file_extension": ".py",
   "mimetype": "text/x-python",
   "name": "python",
   "nbconvert_exporter": "python",
   "pygments_lexer": "ipython3",
   "version": "3.10.6"
  },
  "orig_nbformat": 4,
  "vscode": {
   "interpreter": {
    "hash": "7ced68e88e9060e5bcf2eaa5b2d4f8fc97e4d610a52d347137abf879072ffb6d"
   }
  }
 },
 "nbformat": 4,
 "nbformat_minor": 2
}
