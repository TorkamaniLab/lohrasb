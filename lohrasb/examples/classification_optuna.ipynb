{
 "cells": [
  {
   "cell_type": "code",
   "execution_count": 1,
   "metadata": {},
   "outputs": [
    {
     "name": "stderr",
     "output_type": "stream",
     "text": [
      "/Users/hjavedani/Documents/Lohrasb/.venv/lib/python3.10/site-packages/tqdm/auto.py:22: TqdmWarning: IProgress not found. Please update jupyter and ipywidgets. See https://ipywidgets.readthedocs.io/en/stable/user_install.html\n",
      "  from .autonotebook import tqdm as notebook_tqdm\n"
     ]
    }
   ],
   "source": [
    "from lohrasb.best_estimator import BaseModel\n",
    "import xgboost\n",
    "from optuna.pruners import HyperbandPruner\n",
    "from optuna.samplers._tpe.sampler import TPESampler\n",
    "from sklearn.model_selection import KFold,train_test_split\n",
    "import pandas as pd\n",
    "import numpy as np\n",
    "from sklearn.pipeline import Pipeline\n",
    "from feature_engine.imputation import (\n",
    "    CategoricalImputer,\n",
    "    MeanMedianImputer\n",
    "    )\n",
    "from category_encoders import OrdinalEncoder\n",
    "from sklearn.linear_model import LogisticRegression\n",
    "from sklearn.metrics import (\n",
    "    classification_report,\n",
    "    confusion_matrix,\n",
    "    f1_score)"
   ]
  },
  {
   "cell_type": "markdown",
   "metadata": {},
   "source": [
    "# Example 1 : Use Adult Data Set (a classification problem)\n",
    "  \n",
    "https://archive.ics.uci.edu/ml/datasets/Adult"
   ]
  },
  {
   "cell_type": "code",
   "execution_count": 2,
   "metadata": {},
   "outputs": [
    {
     "data": {
      "text/html": [
       "<div>\n",
       "<style scoped>\n",
       "    .dataframe tbody tr th:only-of-type {\n",
       "        vertical-align: middle;\n",
       "    }\n",
       "\n",
       "    .dataframe tbody tr th {\n",
       "        vertical-align: top;\n",
       "    }\n",
       "\n",
       "    .dataframe thead th {\n",
       "        text-align: right;\n",
       "    }\n",
       "</style>\n",
       "<table border=\"1\" class=\"dataframe\">\n",
       "  <thead>\n",
       "    <tr style=\"text-align: right;\">\n",
       "      <th></th>\n",
       "      <th>age</th>\n",
       "      <th>workclass</th>\n",
       "      <th>fnlwgt</th>\n",
       "      <th>education</th>\n",
       "      <th>education-num</th>\n",
       "      <th>marital-status</th>\n",
       "      <th>occupation</th>\n",
       "      <th>relationship</th>\n",
       "      <th>race</th>\n",
       "      <th>sex</th>\n",
       "      <th>capital-gain</th>\n",
       "      <th>capital-loss</th>\n",
       "      <th>hours-per-week</th>\n",
       "      <th>native-country</th>\n",
       "      <th>label</th>\n",
       "    </tr>\n",
       "  </thead>\n",
       "  <tbody>\n",
       "    <tr>\n",
       "      <th>0</th>\n",
       "      <td>39</td>\n",
       "      <td>State-gov</td>\n",
       "      <td>77516</td>\n",
       "      <td>Bachelors</td>\n",
       "      <td>13</td>\n",
       "      <td>Never-married</td>\n",
       "      <td>Adm-clerical</td>\n",
       "      <td>Not-in-family</td>\n",
       "      <td>White</td>\n",
       "      <td>Male</td>\n",
       "      <td>2174</td>\n",
       "      <td>0</td>\n",
       "      <td>40</td>\n",
       "      <td>United-States</td>\n",
       "      <td>&lt;=50K</td>\n",
       "    </tr>\n",
       "    <tr>\n",
       "      <th>1</th>\n",
       "      <td>50</td>\n",
       "      <td>Self-emp-not-inc</td>\n",
       "      <td>83311</td>\n",
       "      <td>Bachelors</td>\n",
       "      <td>13</td>\n",
       "      <td>Married-civ-spouse</td>\n",
       "      <td>Exec-managerial</td>\n",
       "      <td>Husband</td>\n",
       "      <td>White</td>\n",
       "      <td>Male</td>\n",
       "      <td>0</td>\n",
       "      <td>0</td>\n",
       "      <td>13</td>\n",
       "      <td>United-States</td>\n",
       "      <td>&lt;=50K</td>\n",
       "    </tr>\n",
       "    <tr>\n",
       "      <th>2</th>\n",
       "      <td>38</td>\n",
       "      <td>Private</td>\n",
       "      <td>215646</td>\n",
       "      <td>HS-grad</td>\n",
       "      <td>9</td>\n",
       "      <td>Divorced</td>\n",
       "      <td>Handlers-cleaners</td>\n",
       "      <td>Not-in-family</td>\n",
       "      <td>White</td>\n",
       "      <td>Male</td>\n",
       "      <td>0</td>\n",
       "      <td>0</td>\n",
       "      <td>40</td>\n",
       "      <td>United-States</td>\n",
       "      <td>&lt;=50K</td>\n",
       "    </tr>\n",
       "    <tr>\n",
       "      <th>3</th>\n",
       "      <td>53</td>\n",
       "      <td>Private</td>\n",
       "      <td>234721</td>\n",
       "      <td>11th</td>\n",
       "      <td>7</td>\n",
       "      <td>Married-civ-spouse</td>\n",
       "      <td>Handlers-cleaners</td>\n",
       "      <td>Husband</td>\n",
       "      <td>Black</td>\n",
       "      <td>Male</td>\n",
       "      <td>0</td>\n",
       "      <td>0</td>\n",
       "      <td>40</td>\n",
       "      <td>United-States</td>\n",
       "      <td>&lt;=50K</td>\n",
       "    </tr>\n",
       "    <tr>\n",
       "      <th>4</th>\n",
       "      <td>28</td>\n",
       "      <td>Private</td>\n",
       "      <td>338409</td>\n",
       "      <td>Bachelors</td>\n",
       "      <td>13</td>\n",
       "      <td>Married-civ-spouse</td>\n",
       "      <td>Prof-specialty</td>\n",
       "      <td>Wife</td>\n",
       "      <td>Black</td>\n",
       "      <td>Female</td>\n",
       "      <td>0</td>\n",
       "      <td>0</td>\n",
       "      <td>40</td>\n",
       "      <td>Cuba</td>\n",
       "      <td>&lt;=50K</td>\n",
       "    </tr>\n",
       "  </tbody>\n",
       "</table>\n",
       "</div>"
      ],
      "text/plain": [
       "   age          workclass  fnlwgt   education  education-num  \\\n",
       "0   39          State-gov   77516   Bachelors             13   \n",
       "1   50   Self-emp-not-inc   83311   Bachelors             13   \n",
       "2   38            Private  215646     HS-grad              9   \n",
       "3   53            Private  234721        11th              7   \n",
       "4   28            Private  338409   Bachelors             13   \n",
       "\n",
       "        marital-status          occupation    relationship    race      sex  \\\n",
       "0        Never-married        Adm-clerical   Not-in-family   White     Male   \n",
       "1   Married-civ-spouse     Exec-managerial         Husband   White     Male   \n",
       "2             Divorced   Handlers-cleaners   Not-in-family   White     Male   \n",
       "3   Married-civ-spouse   Handlers-cleaners         Husband   Black     Male   \n",
       "4   Married-civ-spouse      Prof-specialty            Wife   Black   Female   \n",
       "\n",
       "   capital-gain  capital-loss  hours-per-week  native-country   label  \n",
       "0          2174             0              40   United-States   <=50K  \n",
       "1             0             0              13   United-States   <=50K  \n",
       "2             0             0              40   United-States   <=50K  \n",
       "3             0             0              40   United-States   <=50K  \n",
       "4             0             0              40            Cuba   <=50K  "
      ]
     },
     "execution_count": 2,
     "metadata": {},
     "output_type": "execute_result"
    }
   ],
   "source": [
    "urldata= \"https://archive.ics.uci.edu/ml/machine-learning-databases/adult/adult.data\"\n",
    "# column names\n",
    "col_names=[\"age\", \"workclass\", \"fnlwgt\" , \"education\" ,\"education-num\",\n",
    "\"marital-status\",\"occupation\",\"relationship\",\"race\",\"sex\",\"capital-gain\",\"capital-loss\",\"hours-per-week\",\n",
    "\"native-country\",\"label\"\n",
    "]\n",
    "# read data\n",
    "data = pd.read_csv(urldata,header=None,names=col_names,sep=',')\n",
    "data.head()"
   ]
  },
  {
   "cell_type": "markdown",
   "metadata": {},
   "source": [
    "# Define labels\n"
   ]
  },
  {
   "cell_type": "code",
   "execution_count": 3,
   "metadata": {},
   "outputs": [],
   "source": [
    "data.loc[data['label']=='<=50K','label']=0\n",
    "data.loc[data['label']==' <=50K','label']=0\n",
    "\n",
    "data.loc[data['label']=='>50K','label']=1\n",
    "data.loc[data['label']==' >50K','label']=1\n",
    "\n",
    "data['label']=data['label'].astype(int)"
   ]
  },
  {
   "cell_type": "markdown",
   "metadata": {},
   "source": [
    "# Train test split"
   ]
  },
  {
   "cell_type": "code",
   "execution_count": 4,
   "metadata": {},
   "outputs": [],
   "source": [
    "X = data.loc[:, data.columns != \"label\"]\n",
    "y = data.loc[:, data.columns == \"label\"]\n",
    "\n",
    "\n",
    "X_train, X_test, y_train, y_test =train_test_split(X, y, test_size=0.33, stratify=y['label'], random_state=42)\n"
   ]
  },
  {
   "cell_type": "markdown",
   "metadata": {},
   "source": [
    "# Find feature types for later use"
   ]
  },
  {
   "cell_type": "code",
   "execution_count": 5,
   "metadata": {},
   "outputs": [],
   "source": [
    "int_cols =  X_train.select_dtypes(include=['int']).columns.tolist()\n",
    "float_cols =  X_train.select_dtypes(include=['float']).columns.tolist()\n",
    "cat_cols =  X_train.select_dtypes(include=['object']).columns.tolist()\n"
   ]
  },
  {
   "cell_type": "markdown",
   "metadata": {},
   "source": [
    "# Define Feature selector and set it argumens "
   ]
  },
  {
   "cell_type": "code",
   "execution_count": 6,
   "metadata": {},
   "outputs": [
    {
     "name": "stdout",
     "output_type": "stream",
     "text": [
      "Setting value for estimator\n",
      "Getting value for estimator\n",
      "XGBClassifier(base_score=None, booster=None, callbacks=None,\n",
      "              colsample_bylevel=None, colsample_bynode=None,\n",
      "              colsample_bytree=None, early_stopping_rounds=None,\n",
      "              enable_categorical=False, eval_metric=None, gamma=None,\n",
      "              gpu_id=None, grow_policy=None, importance_type=None,\n",
      "              interaction_constraints=None, learning_rate=None, max_bin=None,\n",
      "              max_cat_to_onehot=None, max_delta_step=None, max_depth=None,\n",
      "              max_leaves=None, min_child_weight=None, missing=nan,\n",
      "              monotone_constraints=None, n_estimators=100, n_jobs=None,\n",
      "              num_parallel_tree=None, predictor=None, random_state=None,\n",
      "              reg_alpha=None, reg_lambda=None, ...)\n",
      "Getting value for estimator\n",
      "Getting value for estimator\n",
      "Getting value for estimator\n",
      "Getting value for estimator\n",
      "Getting value for estimator\n",
      "Getting value for estimator\n",
      "Getting value for estimator\n",
      "Setting value for estimator_params\n",
      "Getting value for estimator\n",
      "Getting value for estimator\n",
      "Setting value for hyper_parameter_optimization_method\n",
      "Setting value for measure_of_accuracy\n",
      "Setting value for test_size\n",
      "Setting value for Cross Validation object\n",
      "Setting value for with_stratified\n",
      "Setting value for verbose\n",
      "Setting value for random_state\n",
      "Setting value for n_jobs\n",
      "Setting value for n_iter\n",
      "Setting value for eval_metric\n",
      "Setting value for number_of_trials\n",
      "Setting value for sampler\n",
      "Setting value for pruner\n",
      "Setting value for best_estimator\n"
     ]
    }
   ],
   "source": [
    "\n",
    "SFC_XGBCLS_OPTUNA = BaseModel(\n",
    "        estimator=xgboost.XGBClassifier(),\n",
    "        estimator_params={\n",
    "            \"max_depth\": [2, 3],\n",
    "            \"min_child_weight\": [0.1, 0.9],\n",
    "            \"gamma\": [1, 9],\n",
    "        },\n",
    "        hyper_parameter_optimization_method=\"optuna\",\n",
    "        measure_of_accuracy=\"f1\",\n",
    "        test_size=0.33,\n",
    "        cv=KFold(n_splits=3, random_state=42, shuffle=True),\n",
    "        with_stratified=False,\n",
    "        verbose=0,\n",
    "        random_state=42,\n",
    "        n_jobs=-1,\n",
    "        n_iter=100,\n",
    "        eval_metric=\"auc\",\n",
    "        number_of_trials=20,\n",
    "        sampler=TPESampler(),\n",
    "        pruner=HyperbandPruner(),\n",
    "    )\n"
   ]
  },
  {
   "cell_type": "markdown",
   "metadata": {},
   "source": [
    "# Build sklearn Pipeline"
   ]
  },
  {
   "cell_type": "code",
   "execution_count": 7,
   "metadata": {},
   "outputs": [],
   "source": [
    "\n",
    "\n",
    "pipeline =Pipeline([\n",
    "            # int missing values imputers\n",
    "            ('intimputer', MeanMedianImputer(\n",
    "                imputation_method='median', variables=int_cols)),\n",
    "            # category missing values imputers\n",
    "            ('catimputer', CategoricalImputer(variables=cat_cols)),\n",
    "            #\n",
    "            ('catencoder', OrdinalEncoder()),\n",
    "            # classification model\n",
    "            ('SFC_XGBCLS_OPTUNA', SFC_XGBCLS_OPTUNA),\n",
    "\n",
    "\n",
    " ])\n",
    "\n"
   ]
  },
  {
   "cell_type": "markdown",
   "metadata": {},
   "source": [
    "# Run Pipeline"
   ]
  },
  {
   "cell_type": "code",
   "execution_count": 8,
   "metadata": {},
   "outputs": [
    {
     "name": "stderr",
     "output_type": "stream",
     "text": [
      "\u001b[32m[I 2022-08-01 16:40:14,366]\u001b[0m A new study created in memory with name: no-name-66d107d4-468e-4277-93c3-5287abaea1f1\u001b[0m\n"
     ]
    },
    {
     "name": "stdout",
     "output_type": "stream",
     "text": [
      "Getting value for hyper_parameter_optimization_method\n",
      "Getting value for hyper_parameter_optimization_method\n",
      "Getting value for hyper_parameter_optimization_method\n",
      "Getting value for estimator\n",
      "Getting value for measure_of_accuracy\n",
      "Getting value for estimator_params\n",
      "Getting value for verbose\n",
      "Getting value for test_size\n",
      "Getting value for random_state\n",
      "Getting value for eval_metric\n",
      "Getting value for number_of_trials\n",
      "Getting value for sampler\n",
      "Getting value for pruner\n",
      "Getting value for with_stratified\n",
      "       age  workclass  fnlwgt  education  education-num  marital-status  \\\n",
      "27476   35          1  177102          4              9               2   \n",
      "10052   61          1  193479          4              9               4   \n",
      "11713   24          3  169624          4              9               2   \n",
      "2513    47          3  174525          4              9               5   \n",
      "12308   26          1  175789          4              9               2   \n",
      "...    ...        ...     ...        ...            ...             ...   \n",
      "7523    29          1  109621          4              9               5   \n",
      "5490    62          5  200577          9             14               5   \n",
      "12365   30          2  117944          4              9               5   \n",
      "11729   19          1  158118          4              9               1   \n",
      "8964    22          1  199266          1             13               1   \n",
      "\n",
      "       occupation  relationship  race  sex  capital-gain  capital-loss  \\\n",
      "27476           2             3     1    2             0             0   \n",
      "10052           1             3     1    2             0             0   \n",
      "11713          11             3     2    2             0             0   \n",
      "2513           11             4     1    1          3942             0   \n",
      "12308           2             1     1    2             0             0   \n",
      "...           ...           ...   ...  ...           ...           ...   \n",
      "7523           10             4     1    1             0             0   \n",
      "5490            6             4     1    1             0             0   \n",
      "12365           5             4     1    1             0             0   \n",
      "11729           9             2     1    2             0          1719   \n",
      "8964            4             2     1    2             0             0   \n",
      "\n",
      "       hours-per-week  native-country  \n",
      "27476              40               1  \n",
      "10052              24               1  \n",
      "11713              37               1  \n",
      "2513               40               5  \n",
      "12308              40               1  \n",
      "...               ...             ...  \n",
      "7523               40               1  \n",
      "5490               45               1  \n",
      "12365              25               1  \n",
      "11729              40               1  \n",
      "8964               30               1  \n",
      "\n",
      "[14616 rows x 14 columns]\n",
      "[0]\tvalidation-auc:0.82538\n",
      "[1]\tvalidation-auc:0.84194\n",
      "[2]\tvalidation-auc:0.85871\n",
      "[3]\tvalidation-auc:0.87262\n",
      "[4]\tvalidation-auc:0.88612\n",
      "[5]\tvalidation-auc:0.89044\n",
      "[6]\tvalidation-auc:0.89237\n",
      "[7]\tvalidation-auc:0.89322\n",
      "[8]\tvalidation-auc:0.89807\n",
      "[9]\tvalidation-auc:0.90037\n"
     ]
    },
    {
     "name": "stderr",
     "output_type": "stream",
     "text": [
      "/Users/hjavedani/Documents/Lohrasb/.venv/lib/python3.10/site-packages/optuna/distributions.py:560: UserWarning: The distribution is specified by [0.1, 0.9] and step=1, but the range is not divisible by `step`. It will be replaced by [0.1, 0.1].\n",
      "  warnings.warn(\n",
      "\u001b[32m[I 2022-08-01 16:40:14,559]\u001b[0m Trial 0 finished with value: 0.6225839267548322 and parameters: {'max_depth': 2, 'min_child_weight': 0, 'gamma': 8.101243313290928}. Best is trial 0 with value: 0.6225839267548322.\u001b[0m\n"
     ]
    },
    {
     "name": "stdout",
     "output_type": "stream",
     "text": [
      "[0]\tvalidation-auc:0.85926\n"
     ]
    },
    {
     "name": "stderr",
     "output_type": "stream",
     "text": [
      "/Users/hjavedani/Documents/Lohrasb/.venv/lib/python3.10/site-packages/optuna/distributions.py:560: UserWarning: The distribution is specified by [0.1, 0.9] and step=1, but the range is not divisible by `step`. It will be replaced by [0.1, 0.1].\n",
      "  warnings.warn(\n"
     ]
    },
    {
     "name": "stdout",
     "output_type": "stream",
     "text": [
      "[1]\tvalidation-auc:0.87514\n",
      "[2]\tvalidation-auc:0.88917\n",
      "[3]\tvalidation-auc:0.89816\n",
      "[4]\tvalidation-auc:0.89969\n",
      "[5]\tvalidation-auc:0.90345\n",
      "[6]\tvalidation-auc:0.90809\n",
      "[7]\tvalidation-auc:0.90828\n",
      "[8]\tvalidation-auc:0.90894\n",
      "[9]\tvalidation-auc:0.91035\n"
     ]
    },
    {
     "name": "stderr",
     "output_type": "stream",
     "text": [
      "\u001b[32m[I 2022-08-01 16:40:14,799]\u001b[0m Trial 1 finished with value: 0.649182561307902 and parameters: {'max_depth': 3, 'min_child_weight': 0, 'gamma': 1.9810352775284974}. Best is trial 1 with value: 0.649182561307902.\u001b[0m\n"
     ]
    },
    {
     "name": "stdout",
     "output_type": "stream",
     "text": [
      "[0]\tvalidation-auc:0.82538\n"
     ]
    },
    {
     "name": "stderr",
     "output_type": "stream",
     "text": [
      "/Users/hjavedani/Documents/Lohrasb/.venv/lib/python3.10/site-packages/optuna/distributions.py:560: UserWarning: The distribution is specified by [0.1, 0.9] and step=1, but the range is not divisible by `step`. It will be replaced by [0.1, 0.1].\n",
      "  warnings.warn(\n",
      "\u001b[32m[I 2022-08-01 16:40:14,875]\u001b[0m Trial 2 pruned. Trial was pruned at iteration 1.\u001b[0m\n"
     ]
    },
    {
     "name": "stdout",
     "output_type": "stream",
     "text": [
      "[0]\tvalidation-auc:0.82538\n"
     ]
    },
    {
     "name": "stderr",
     "output_type": "stream",
     "text": [
      "/Users/hjavedani/Documents/Lohrasb/.venv/lib/python3.10/site-packages/optuna/distributions.py:560: UserWarning: The distribution is specified by [0.1, 0.9] and step=1, but the range is not divisible by `step`. It will be replaced by [0.1, 0.1].\n",
      "  warnings.warn(\n"
     ]
    },
    {
     "name": "stdout",
     "output_type": "stream",
     "text": [
      "[1]\tvalidation-auc:0.84194\n",
      "[2]\tvalidation-auc:0.85911\n",
      "[3]\tvalidation-auc:0.87281\n",
      "[4]\tvalidation-auc:0.88634\n",
      "[5]\tvalidation-auc:0.89025\n",
      "[6]\tvalidation-auc:0.89155\n",
      "[7]\tvalidation-auc:0.89720\n",
      "[8]\tvalidation-auc:0.89813\n",
      "[9]\tvalidation-auc:0.90243\n"
     ]
    },
    {
     "name": "stderr",
     "output_type": "stream",
     "text": [
      "\u001b[32m[I 2022-08-01 16:40:15,259]\u001b[0m Trial 3 finished with value: 0.6322624743677375 and parameters: {'max_depth': 2, 'min_child_weight': 0, 'gamma': 3.6539375290051552}. Best is trial 1 with value: 0.649182561307902.\u001b[0m\n"
     ]
    },
    {
     "name": "stdout",
     "output_type": "stream",
     "text": [
      "[0]\tvalidation-auc:0.85926\n",
      "[1]\tvalidation-auc:0.87514\n",
      "[2]\tvalidation-auc:0.88917\n",
      "[3]\tvalidation-auc:0.89816\n",
      "[4]\tvalidation-auc:0.89971\n"
     ]
    },
    {
     "name": "stderr",
     "output_type": "stream",
     "text": [
      "/Users/hjavedani/Documents/Lohrasb/.venv/lib/python3.10/site-packages/optuna/distributions.py:560: UserWarning: The distribution is specified by [0.1, 0.9] and step=1, but the range is not divisible by `step`. It will be replaced by [0.1, 0.1].\n",
      "  warnings.warn(\n"
     ]
    },
    {
     "name": "stdout",
     "output_type": "stream",
     "text": [
      "[5]\tvalidation-auc:0.90367\n",
      "[6]\tvalidation-auc:0.90642\n",
      "[7]\tvalidation-auc:0.90934\n",
      "[8]\tvalidation-auc:0.90985\n",
      "[9]\tvalidation-auc:0.91075\n"
     ]
    },
    {
     "name": "stderr",
     "output_type": "stream",
     "text": [
      "\u001b[32m[I 2022-08-01 16:40:15,611]\u001b[0m Trial 4 finished with value: 0.6408304498269897 and parameters: {'max_depth': 3, 'min_child_weight': 0, 'gamma': 1.004312091298833}. Best is trial 1 with value: 0.649182561307902.\u001b[0m\n"
     ]
    },
    {
     "name": "stdout",
     "output_type": "stream",
     "text": [
      "[0]\tvalidation-auc:0.85926\n",
      "[1]\tvalidation-auc:0.87514\n",
      "[2]\tvalidation-auc:0.88917\n"
     ]
    },
    {
     "name": "stderr",
     "output_type": "stream",
     "text": [
      "/Users/hjavedani/Documents/Lohrasb/.venv/lib/python3.10/site-packages/optuna/distributions.py:560: UserWarning: The distribution is specified by [0.1, 0.9] and step=1, but the range is not divisible by `step`. It will be replaced by [0.1, 0.1].\n",
      "  warnings.warn(\n"
     ]
    },
    {
     "name": "stdout",
     "output_type": "stream",
     "text": [
      "[3]\tvalidation-auc:0.89816\n",
      "[4]\tvalidation-auc:0.89969\n",
      "[5]\tvalidation-auc:0.90319\n",
      "[6]\tvalidation-auc:0.90765\n",
      "[7]\tvalidation-auc:0.90821\n",
      "[8]\tvalidation-auc:0.90893\n",
      "[9]\tvalidation-auc:0.91035\n"
     ]
    },
    {
     "name": "stderr",
     "output_type": "stream",
     "text": [
      "\u001b[32m[I 2022-08-01 16:40:16,100]\u001b[0m Trial 5 finished with value: 0.6496598639455783 and parameters: {'max_depth': 3, 'min_child_weight': 0, 'gamma': 2.689765369616926}. Best is trial 5 with value: 0.6496598639455783.\u001b[0m\n"
     ]
    },
    {
     "name": "stdout",
     "output_type": "stream",
     "text": [
      "[0]\tvalidation-auc:0.85926\n",
      "[1]\tvalidation-auc:0.87514\n",
      "[2]\tvalidation-auc:0.88917\n"
     ]
    },
    {
     "name": "stderr",
     "output_type": "stream",
     "text": [
      "/Users/hjavedani/Documents/Lohrasb/.venv/lib/python3.10/site-packages/optuna/distributions.py:560: UserWarning: The distribution is specified by [0.1, 0.9] and step=1, but the range is not divisible by `step`. It will be replaced by [0.1, 0.1].\n",
      "  warnings.warn(\n",
      "\u001b[32m[I 2022-08-01 16:40:16,206]\u001b[0m Trial 6 pruned. Trial was pruned at iteration 3.\u001b[0m\n",
      "/Users/hjavedani/Documents/Lohrasb/.venv/lib/python3.10/site-packages/optuna/distributions.py:560: UserWarning: The distribution is specified by [0.1, 0.9] and step=1, but the range is not divisible by `step`. It will be replaced by [0.1, 0.1].\n",
      "  warnings.warn(\n"
     ]
    },
    {
     "name": "stdout",
     "output_type": "stream",
     "text": [
      "[0]\tvalidation-auc:0.85926\n",
      "[1]\tvalidation-auc:0.87514\n",
      "[2]\tvalidation-auc:0.88917\n",
      "[3]\tvalidation-auc:0.89789\n",
      "[4]\tvalidation-auc:0.89951\n",
      "[5]\tvalidation-auc:0.90225\n",
      "[6]\tvalidation-auc:0.90578\n",
      "[7]\tvalidation-auc:0.90680\n",
      "[8]\tvalidation-auc:0.90638\n",
      "[9]\tvalidation-auc:0.90824\n"
     ]
    },
    {
     "name": "stderr",
     "output_type": "stream",
     "text": [
      "\u001b[32m[I 2022-08-01 16:40:16,596]\u001b[0m Trial 7 finished with value: 0.6368366285119667 and parameters: {'max_depth': 3, 'min_child_weight': 0, 'gamma': 6.8524412773918435}. Best is trial 5 with value: 0.6496598639455783.\u001b[0m\n"
     ]
    },
    {
     "name": "stdout",
     "output_type": "stream",
     "text": [
      "[0]\tvalidation-auc:0.82538\n",
      "[1]\tvalidation-auc:0.84194\n",
      "[2]\tvalidation-auc:0.85911\n"
     ]
    },
    {
     "name": "stderr",
     "output_type": "stream",
     "text": [
      "/Users/hjavedani/Documents/Lohrasb/.venv/lib/python3.10/site-packages/optuna/distributions.py:560: UserWarning: The distribution is specified by [0.1, 0.9] and step=1, but the range is not divisible by `step`. It will be replaced by [0.1, 0.1].\n",
      "  warnings.warn(\n",
      "\u001b[32m[I 2022-08-01 16:40:16,680]\u001b[0m Trial 8 pruned. Trial was pruned at iteration 3.\u001b[0m\n"
     ]
    },
    {
     "name": "stdout",
     "output_type": "stream",
     "text": [
      "[0]\tvalidation-auc:0.82538\n",
      "[1]\tvalidation-auc:0.84194\n",
      "[2]\tvalidation-auc:0.85911\n",
      "[3]\tvalidation-auc:0.87281\n"
     ]
    },
    {
     "name": "stderr",
     "output_type": "stream",
     "text": [
      "/Users/hjavedani/Documents/Lohrasb/.venv/lib/python3.10/site-packages/optuna/distributions.py:560: UserWarning: The distribution is specified by [0.1, 0.9] and step=1, but the range is not divisible by `step`. It will be replaced by [0.1, 0.1].\n",
      "  warnings.warn(\n",
      "\u001b[32m[I 2022-08-01 16:40:16,755]\u001b[0m Trial 9 pruned. Trial was pruned at iteration 3.\u001b[0m\n"
     ]
    },
    {
     "name": "stdout",
     "output_type": "stream",
     "text": [
      "[0]\tvalidation-auc:0.82538\n"
     ]
    },
    {
     "name": "stderr",
     "output_type": "stream",
     "text": [
      "/Users/hjavedani/Documents/Lohrasb/.venv/lib/python3.10/site-packages/optuna/distributions.py:560: UserWarning: The distribution is specified by [0.1, 0.9] and step=1, but the range is not divisible by `step`. It will be replaced by [0.1, 0.1].\n",
      "  warnings.warn(\n"
     ]
    },
    {
     "name": "stdout",
     "output_type": "stream",
     "text": [
      "[1]\tvalidation-auc:0.84194\n"
     ]
    },
    {
     "name": "stderr",
     "output_type": "stream",
     "text": [
      "\u001b[32m[I 2022-08-01 16:40:16,810]\u001b[0m Trial 10 pruned. Trial was pruned at iteration 1.\u001b[0m\n"
     ]
    },
    {
     "name": "stdout",
     "output_type": "stream",
     "text": [
      "[0]\tvalidation-auc:0.82538\n",
      "[1]\tvalidation-auc:0.84194\n"
     ]
    },
    {
     "name": "stderr",
     "output_type": "stream",
     "text": [
      "/Users/hjavedani/Documents/Lohrasb/.venv/lib/python3.10/site-packages/optuna/distributions.py:560: UserWarning: The distribution is specified by [0.1, 0.9] and step=1, but the range is not divisible by `step`. It will be replaced by [0.1, 0.1].\n",
      "  warnings.warn(\n",
      "\u001b[32m[I 2022-08-01 16:40:16,859]\u001b[0m Trial 11 pruned. Trial was pruned at iteration 1.\u001b[0m\n"
     ]
    },
    {
     "name": "stdout",
     "output_type": "stream",
     "text": [
      "[0]\tvalidation-auc:0.82538\n"
     ]
    },
    {
     "name": "stderr",
     "output_type": "stream",
     "text": [
      "/Users/hjavedani/Documents/Lohrasb/.venv/lib/python3.10/site-packages/optuna/distributions.py:560: UserWarning: The distribution is specified by [0.1, 0.9] and step=1, but the range is not divisible by `step`. It will be replaced by [0.1, 0.1].\n",
      "  warnings.warn(\n",
      "\u001b[32m[I 2022-08-01 16:40:16,957]\u001b[0m Trial 12 pruned. Trial was pruned at iteration 1.\u001b[0m\n"
     ]
    },
    {
     "name": "stdout",
     "output_type": "stream",
     "text": [
      "[0]\tvalidation-auc:0.82538\n"
     ]
    },
    {
     "name": "stderr",
     "output_type": "stream",
     "text": [
      "/Users/hjavedani/Documents/Lohrasb/.venv/lib/python3.10/site-packages/optuna/distributions.py:560: UserWarning: The distribution is specified by [0.1, 0.9] and step=1, but the range is not divisible by `step`. It will be replaced by [0.1, 0.1].\n",
      "  warnings.warn(\n"
     ]
    },
    {
     "name": "stdout",
     "output_type": "stream",
     "text": [
      "[1]\tvalidation-auc:0.84194\n"
     ]
    },
    {
     "name": "stderr",
     "output_type": "stream",
     "text": [
      "\u001b[32m[I 2022-08-01 16:40:17,023]\u001b[0m Trial 13 pruned. Trial was pruned at iteration 1.\u001b[0m\n"
     ]
    },
    {
     "name": "stdout",
     "output_type": "stream",
     "text": [
      "[0]\tvalidation-auc:0.82538\n",
      "[1]\tvalidation-auc:0.84194\n"
     ]
    },
    {
     "name": "stderr",
     "output_type": "stream",
     "text": [
      "/Users/hjavedani/Documents/Lohrasb/.venv/lib/python3.10/site-packages/optuna/distributions.py:560: UserWarning: The distribution is specified by [0.1, 0.9] and step=1, but the range is not divisible by `step`. It will be replaced by [0.1, 0.1].\n",
      "  warnings.warn(\n",
      "\u001b[32m[I 2022-08-01 16:40:17,070]\u001b[0m Trial 14 pruned. Trial was pruned at iteration 1.\u001b[0m\n",
      "/Users/hjavedani/Documents/Lohrasb/.venv/lib/python3.10/site-packages/optuna/distributions.py:560: UserWarning: The distribution is specified by [0.1, 0.9] and step=1, but the range is not divisible by `step`. It will be replaced by [0.1, 0.1].\n",
      "  warnings.warn(\n"
     ]
    },
    {
     "name": "stdout",
     "output_type": "stream",
     "text": [
      "[0]\tvalidation-auc:0.85926\n",
      "[1]\tvalidation-auc:0.87514\n",
      "[2]\tvalidation-auc:0.88917\n",
      "[3]\tvalidation-auc:0.89789\n"
     ]
    },
    {
     "name": "stderr",
     "output_type": "stream",
     "text": [
      "\u001b[32m[I 2022-08-01 16:40:17,195]\u001b[0m Trial 15 pruned. Trial was pruned at iteration 3.\u001b[0m\n",
      "/Users/hjavedani/Documents/Lohrasb/.venv/lib/python3.10/site-packages/optuna/distributions.py:560: UserWarning: The distribution is specified by [0.1, 0.9] and step=1, but the range is not divisible by `step`. It will be replaced by [0.1, 0.1].\n",
      "  warnings.warn(\n"
     ]
    },
    {
     "name": "stdout",
     "output_type": "stream",
     "text": [
      "[0]\tvalidation-auc:0.85926\n",
      "[1]\tvalidation-auc:0.87514\n",
      "[2]\tvalidation-auc:0.88917\n",
      "[3]\tvalidation-auc:0.89816\n",
      "[4]\tvalidation-auc:0.89969\n",
      "[5]\tvalidation-auc:0.90319\n",
      "[6]\tvalidation-auc:0.90765\n",
      "[7]\tvalidation-auc:0.90821\n",
      "[8]\tvalidation-auc:0.90893\n",
      "[9]\tvalidation-auc:0.91035\n"
     ]
    },
    {
     "name": "stderr",
     "output_type": "stream",
     "text": [
      "\u001b[32m[I 2022-08-01 16:40:17,582]\u001b[0m Trial 16 finished with value: 0.6496598639455783 and parameters: {'max_depth': 3, 'min_child_weight': 0, 'gamma': 2.859485617169287}. Best is trial 5 with value: 0.6496598639455783.\u001b[0m\n"
     ]
    },
    {
     "name": "stdout",
     "output_type": "stream",
     "text": [
      "[0]\tvalidation-auc:0.85926\n",
      "[1]\tvalidation-auc:0.87514\n",
      "[2]\tvalidation-auc:0.88917\n",
      "[3]\tvalidation-auc:0.89816\n",
      "[4]\tvalidation-auc:0.89969\n",
      "[5]\tvalidation-auc:0.90319\n"
     ]
    },
    {
     "name": "stderr",
     "output_type": "stream",
     "text": [
      "/Users/hjavedani/Documents/Lohrasb/.venv/lib/python3.10/site-packages/optuna/distributions.py:560: UserWarning: The distribution is specified by [0.1, 0.9] and step=1, but the range is not divisible by `step`. It will be replaced by [0.1, 0.1].\n",
      "  warnings.warn(\n"
     ]
    },
    {
     "name": "stdout",
     "output_type": "stream",
     "text": [
      "[6]\tvalidation-auc:0.90765\n",
      "[7]\tvalidation-auc:0.90821\n",
      "[8]\tvalidation-auc:0.90893\n",
      "[9]\tvalidation-auc:0.91035\n"
     ]
    },
    {
     "name": "stderr",
     "output_type": "stream",
     "text": [
      "\u001b[32m[I 2022-08-01 16:40:17,914]\u001b[0m Trial 17 finished with value: 0.6496598639455783 and parameters: {'max_depth': 3, 'min_child_weight': 0, 'gamma': 2.781562248563164}. Best is trial 5 with value: 0.6496598639455783.\u001b[0m\n"
     ]
    },
    {
     "name": "stdout",
     "output_type": "stream",
     "text": [
      "[0]\tvalidation-auc:0.85926\n",
      "[1]\tvalidation-auc:0.87514\n",
      "[2]\tvalidation-auc:0.88917\n"
     ]
    },
    {
     "name": "stderr",
     "output_type": "stream",
     "text": [
      "/Users/hjavedani/Documents/Lohrasb/.venv/lib/python3.10/site-packages/optuna/distributions.py:560: UserWarning: The distribution is specified by [0.1, 0.9] and step=1, but the range is not divisible by `step`. It will be replaced by [0.1, 0.1].\n",
      "  warnings.warn(\n"
     ]
    },
    {
     "name": "stdout",
     "output_type": "stream",
     "text": [
      "[3]\tvalidation-auc:0.89816\n",
      "[4]\tvalidation-auc:0.89971\n",
      "[5]\tvalidation-auc:0.90367\n",
      "[6]\tvalidation-auc:0.90642\n",
      "[7]\tvalidation-auc:0.90934\n",
      "[8]\tvalidation-auc:0.90985\n",
      "[9]\tvalidation-auc:0.91075\n"
     ]
    },
    {
     "name": "stderr",
     "output_type": "stream",
     "text": [
      "\u001b[32m[I 2022-08-01 16:40:18,469]\u001b[0m Trial 18 finished with value: 0.6408304498269897 and parameters: {'max_depth': 3, 'min_child_weight': 0, 'gamma': 1.1362823853623374}. Best is trial 5 with value: 0.6496598639455783.\u001b[0m\n"
     ]
    },
    {
     "name": "stdout",
     "output_type": "stream",
     "text": [
      "[0]\tvalidation-auc:0.85926\n",
      "[1]\tvalidation-auc:0.87514\n",
      "[2]\tvalidation-auc:0.88917\n",
      "[3]\tvalidation-auc:0.89816\n",
      "[4]\tvalidation-auc:0.89969\n",
      "[5]\tvalidation-auc:0.90319\n",
      "[6]\tvalidation-auc:0.90765\n",
      "[7]\tvalidation-auc:0.90821\n",
      "[8]\tvalidation-auc:0.90893\n"
     ]
    },
    {
     "name": "stderr",
     "output_type": "stream",
     "text": [
      "/Users/hjavedani/Documents/Lohrasb/.venv/lib/python3.10/site-packages/optuna/distributions.py:560: UserWarning: The distribution is specified by [0.1, 0.9] and step=1, but the range is not divisible by `step`. It will be replaced by [0.1, 0.1].\n",
      "  warnings.warn(\n"
     ]
    },
    {
     "name": "stdout",
     "output_type": "stream",
     "text": [
      "[9]\tvalidation-auc:0.91035\n"
     ]
    },
    {
     "name": "stderr",
     "output_type": "stream",
     "text": [
      "\u001b[32m[I 2022-08-01 16:40:18,808]\u001b[0m Trial 19 finished with value: 0.6496598639455783 and parameters: {'max_depth': 3, 'min_child_weight': 0, 'gamma': 2.9436954969915923}. Best is trial 5 with value: 0.6496598639455783.\u001b[0m\n"
     ]
    },
    {
     "name": "stdout",
     "output_type": "stream",
     "text": [
      "{'max_depth': 3, 'min_child_weight': 0, 'gamma': 2.689765369616926}\n",
      "[0]\tvalidation-rmse:0.42537\n",
      "[1]\tvalidation-rmse:0.38315\n",
      "[2]\tvalidation-rmse:0.35846\n",
      "[3]\tvalidation-rmse:0.34290\n",
      "[4]\tvalidation-rmse:0.33435\n",
      "[5]\tvalidation-rmse:0.32816\n",
      "[6]\tvalidation-rmse:0.32365\n",
      "[7]\tvalidation-rmse:0.32127\n",
      "[8]\tvalidation-rmse:0.31970\n",
      "[9]\tvalidation-rmse:0.31773\n",
      "Setting value for best_estimator\n",
      "Getting value for estimator\n",
      "Getting value for estimator\n",
      "Getting value for hyper_parameter_optimization_method\n",
      "Getting value for best_estimator\n"
     ]
    }
   ],
   "source": [
    "pipeline.fit(X_train,y_train)\n",
    "y_preds = pipeline.predict(X_test)\n",
    "pred_labels = np.rint(y_preds)\n",
    "\n",
    "\n"
   ]
  },
  {
   "cell_type": "markdown",
   "metadata": {},
   "source": [
    "# Check performance of the Pipeline"
   ]
  },
  {
   "cell_type": "code",
   "execution_count": 9,
   "metadata": {},
   "outputs": [
    {
     "name": "stdout",
     "output_type": "stream",
     "text": [
      "F1 score : \n",
      "0.6481012658227848\n",
      "Classification report : \n",
      "              precision    recall  f1-score   support\n",
      "\n",
      "           0       0.87      0.96      0.91      8158\n",
      "           1       0.80      0.54      0.65      2588\n",
      "\n",
      "    accuracy                           0.86     10746\n",
      "   macro avg       0.84      0.75      0.78     10746\n",
      "weighted avg       0.85      0.86      0.85     10746\n",
      "\n",
      "Confusion matrix : \n",
      "[[7809  349]\n",
      " [1180 1408]]\n"
     ]
    }
   ],
   "source": [
    "print('F1 score : ')\n",
    "print(f1_score(y_test,pred_labels))\n",
    "print('Classification report : ')\n",
    "print(classification_report(y_test,pred_labels))\n",
    "print('Confusion matrix : ')\n",
    "print(confusion_matrix(y_test,pred_labels))\n"
   ]
  }
 ],
 "metadata": {
  "kernelspec": {
   "display_name": "Python 3.10.4 ('.venv': poetry)",
   "language": "python",
   "name": "python3"
  },
  "language_info": {
   "codemirror_mode": {
    "name": "ipython",
    "version": 3
   },
   "file_extension": ".py",
   "mimetype": "text/x-python",
   "name": "python",
   "nbconvert_exporter": "python",
   "pygments_lexer": "ipython3",
   "version": "3.10.4"
  },
  "orig_nbformat": 4,
  "vscode": {
   "interpreter": {
    "hash": "7ced68e88e9060e5bcf2eaa5b2d4f8fc97e4d610a52d347137abf879072ffb6d"
   }
  }
 },
 "nbformat": 4,
 "nbformat_minor": 2
}
