{
 "cells": [
  {
   "cell_type": "code",
   "execution_count": 1,
   "metadata": {},
   "outputs": [],
   "source": [
    "from lohrasb.best_estimator import BaseModel\n",
    "import xgboost\n",
    "from optuna.pruners import HyperbandPruner\n",
    "from optuna.samplers._tpe.sampler import TPESampler\n",
    "from sklearn.model_selection import KFold,train_test_split\n",
    "import pandas as pd\n",
    "import numpy as np\n",
    "import optuna\n",
    "from sklearn.pipeline import Pipeline\n",
    "from feature_engine.imputation import (\n",
    "    CategoricalImputer,\n",
    "    MeanMedianImputer\n",
    "    )\n",
    "from category_encoders import OrdinalEncoder\n",
    "from sklearn.linear_model import LogisticRegression\n",
    "from sklearn.metrics import (\n",
    "    classification_report,\n",
    "    confusion_matrix,\n",
    "    f1_score)\n",
    "from sklearn.metrics import f1_score, mean_absolute_error\n",
    "from sklearn.linear_model import *\n",
    "from sklearn.svm import *\n",
    "from xgboost import *\n",
    "from sklearn.linear_model import *\n",
    "from lightgbm import *\n",
    "from sklearn.neural_network import *\n",
    "from imblearn.ensemble import *\n",
    "from sklearn.ensemble import *\n",
    "\n"
   ]
  },
  {
   "cell_type": "markdown",
   "metadata": {},
   "source": [
    "# Example 1 : Use Adult Data Set (a classification problem)\n",
    "  \n",
    "https://archive.ics.uci.edu/ml/datasets/Adult"
   ]
  },
  {
   "cell_type": "markdown",
   "metadata": {},
   "source": [
    "# Part 1: Use BestModel in sklearn pipeline\n"
   ]
  },
  {
   "cell_type": "code",
   "execution_count": 2,
   "metadata": {},
   "outputs": [
    {
     "data": {
      "text/html": [
       "<div>\n",
       "<style scoped>\n",
       "    .dataframe tbody tr th:only-of-type {\n",
       "        vertical-align: middle;\n",
       "    }\n",
       "\n",
       "    .dataframe tbody tr th {\n",
       "        vertical-align: top;\n",
       "    }\n",
       "\n",
       "    .dataframe thead th {\n",
       "        text-align: right;\n",
       "    }\n",
       "</style>\n",
       "<table border=\"1\" class=\"dataframe\">\n",
       "  <thead>\n",
       "    <tr style=\"text-align: right;\">\n",
       "      <th></th>\n",
       "      <th>age</th>\n",
       "      <th>workclass</th>\n",
       "      <th>fnlwgt</th>\n",
       "      <th>education</th>\n",
       "      <th>education-num</th>\n",
       "      <th>marital-status</th>\n",
       "      <th>occupation</th>\n",
       "      <th>relationship</th>\n",
       "      <th>race</th>\n",
       "      <th>sex</th>\n",
       "      <th>capital-gain</th>\n",
       "      <th>capital-loss</th>\n",
       "      <th>hours-per-week</th>\n",
       "      <th>native-country</th>\n",
       "      <th>label</th>\n",
       "    </tr>\n",
       "  </thead>\n",
       "  <tbody>\n",
       "    <tr>\n",
       "      <th>0</th>\n",
       "      <td>39</td>\n",
       "      <td>State-gov</td>\n",
       "      <td>77516</td>\n",
       "      <td>Bachelors</td>\n",
       "      <td>13</td>\n",
       "      <td>Never-married</td>\n",
       "      <td>Adm-clerical</td>\n",
       "      <td>Not-in-family</td>\n",
       "      <td>White</td>\n",
       "      <td>Male</td>\n",
       "      <td>2174</td>\n",
       "      <td>0</td>\n",
       "      <td>40</td>\n",
       "      <td>United-States</td>\n",
       "      <td>&lt;=50K</td>\n",
       "    </tr>\n",
       "    <tr>\n",
       "      <th>1</th>\n",
       "      <td>50</td>\n",
       "      <td>Self-emp-not-inc</td>\n",
       "      <td>83311</td>\n",
       "      <td>Bachelors</td>\n",
       "      <td>13</td>\n",
       "      <td>Married-civ-spouse</td>\n",
       "      <td>Exec-managerial</td>\n",
       "      <td>Husband</td>\n",
       "      <td>White</td>\n",
       "      <td>Male</td>\n",
       "      <td>0</td>\n",
       "      <td>0</td>\n",
       "      <td>13</td>\n",
       "      <td>United-States</td>\n",
       "      <td>&lt;=50K</td>\n",
       "    </tr>\n",
       "    <tr>\n",
       "      <th>2</th>\n",
       "      <td>38</td>\n",
       "      <td>Private</td>\n",
       "      <td>215646</td>\n",
       "      <td>HS-grad</td>\n",
       "      <td>9</td>\n",
       "      <td>Divorced</td>\n",
       "      <td>Handlers-cleaners</td>\n",
       "      <td>Not-in-family</td>\n",
       "      <td>White</td>\n",
       "      <td>Male</td>\n",
       "      <td>0</td>\n",
       "      <td>0</td>\n",
       "      <td>40</td>\n",
       "      <td>United-States</td>\n",
       "      <td>&lt;=50K</td>\n",
       "    </tr>\n",
       "    <tr>\n",
       "      <th>3</th>\n",
       "      <td>53</td>\n",
       "      <td>Private</td>\n",
       "      <td>234721</td>\n",
       "      <td>11th</td>\n",
       "      <td>7</td>\n",
       "      <td>Married-civ-spouse</td>\n",
       "      <td>Handlers-cleaners</td>\n",
       "      <td>Husband</td>\n",
       "      <td>Black</td>\n",
       "      <td>Male</td>\n",
       "      <td>0</td>\n",
       "      <td>0</td>\n",
       "      <td>40</td>\n",
       "      <td>United-States</td>\n",
       "      <td>&lt;=50K</td>\n",
       "    </tr>\n",
       "    <tr>\n",
       "      <th>4</th>\n",
       "      <td>28</td>\n",
       "      <td>Private</td>\n",
       "      <td>338409</td>\n",
       "      <td>Bachelors</td>\n",
       "      <td>13</td>\n",
       "      <td>Married-civ-spouse</td>\n",
       "      <td>Prof-specialty</td>\n",
       "      <td>Wife</td>\n",
       "      <td>Black</td>\n",
       "      <td>Female</td>\n",
       "      <td>0</td>\n",
       "      <td>0</td>\n",
       "      <td>40</td>\n",
       "      <td>Cuba</td>\n",
       "      <td>&lt;=50K</td>\n",
       "    </tr>\n",
       "  </tbody>\n",
       "</table>\n",
       "</div>"
      ],
      "text/plain": [
       "   age          workclass  fnlwgt   education  education-num  \\\n",
       "0   39          State-gov   77516   Bachelors             13   \n",
       "1   50   Self-emp-not-inc   83311   Bachelors             13   \n",
       "2   38            Private  215646     HS-grad              9   \n",
       "3   53            Private  234721        11th              7   \n",
       "4   28            Private  338409   Bachelors             13   \n",
       "\n",
       "        marital-status          occupation    relationship    race      sex  \\\n",
       "0        Never-married        Adm-clerical   Not-in-family   White     Male   \n",
       "1   Married-civ-spouse     Exec-managerial         Husband   White     Male   \n",
       "2             Divorced   Handlers-cleaners   Not-in-family   White     Male   \n",
       "3   Married-civ-spouse   Handlers-cleaners         Husband   Black     Male   \n",
       "4   Married-civ-spouse      Prof-specialty            Wife   Black   Female   \n",
       "\n",
       "   capital-gain  capital-loss  hours-per-week  native-country   label  \n",
       "0          2174             0              40   United-States   <=50K  \n",
       "1             0             0              13   United-States   <=50K  \n",
       "2             0             0              40   United-States   <=50K  \n",
       "3             0             0              40   United-States   <=50K  \n",
       "4             0             0              40            Cuba   <=50K  "
      ]
     },
     "execution_count": 2,
     "metadata": {},
     "output_type": "execute_result"
    }
   ],
   "source": [
    "urldata= \"https://archive.ics.uci.edu/ml/machine-learning-databases/adult/adult.data\"\n",
    "# column names\n",
    "col_names=[\"age\", \"workclass\", \"fnlwgt\" , \"education\" ,\"education-num\",\n",
    "\"marital-status\",\"occupation\",\"relationship\",\"race\",\"sex\",\"capital-gain\",\"capital-loss\",\"hours-per-week\",\n",
    "\"native-country\",\"label\"\n",
    "]\n",
    "# read data\n",
    "data = pd.read_csv(urldata,header=None,names=col_names,sep=',')\n",
    "data.head()"
   ]
  },
  {
   "cell_type": "markdown",
   "metadata": {},
   "source": [
    "#### Define labels\n"
   ]
  },
  {
   "cell_type": "code",
   "execution_count": 3,
   "metadata": {},
   "outputs": [],
   "source": [
    "data.loc[data['label']=='<=50K','label']=0\n",
    "data.loc[data['label']==' <=50K','label']=0\n",
    "\n",
    "data.loc[data['label']=='>50K','label']=1\n",
    "data.loc[data['label']==' >50K','label']=1\n",
    "\n",
    "data['label']=data['label'].astype(int)"
   ]
  },
  {
   "cell_type": "markdown",
   "metadata": {},
   "source": [
    "#### Train test split"
   ]
  },
  {
   "cell_type": "code",
   "execution_count": 4,
   "metadata": {},
   "outputs": [],
   "source": [
    "X = data.loc[:, data.columns != \"label\"]\n",
    "y = data.loc[:, data.columns == \"label\"]\n",
    "y = y.values.ravel()\n",
    "\n",
    "\n",
    "X_train, X_test, y_train, y_test =train_test_split(X, y, test_size=0.33, random_state=42)\n"
   ]
  },
  {
   "cell_type": "markdown",
   "metadata": {},
   "source": [
    "#### Find feature types for later use"
   ]
  },
  {
   "cell_type": "code",
   "execution_count": 5,
   "metadata": {},
   "outputs": [],
   "source": [
    "int_cols =  X_train.select_dtypes(include=['int']).columns.tolist()\n",
    "float_cols =  X_train.select_dtypes(include=['float']).columns.tolist()\n",
    "cat_cols =  X_train.select_dtypes(include=['object']).columns.tolist()\n"
   ]
  },
  {
   "cell_type": "markdown",
   "metadata": {},
   "source": [
    "#### Define model and set it argumens "
   ]
  },
  {
   "cell_type": "code",
   "execution_count": 6,
   "metadata": {},
   "outputs": [],
   "source": [
    "estimator = LGBMClassifier()\n",
    "estimator_params = {\n",
    "        \"boosting_type\":[\"gbdt\",\"rf\"],\n",
    "        \"boosting_type\":[\"gbdt\"],\n",
    "        \"max_depth\": [4,5],\n",
    "        \"learning_rate\":[0.1, 0.5],\n",
    "        \"random_state\":[42],\n",
    "        \"learning_rate\":[0.1],\n",
    "        \"importance_type\":[\"split\"]\n",
    "\n",
    "    }\n"
   ]
  },
  {
   "cell_type": "code",
   "execution_count": 7,
   "metadata": {},
   "outputs": [
    {
     "name": "stderr",
     "output_type": "stream",
     "text": [
      "\u001b[32m[I 2022-11-11 19:10:15,652]\u001b[0m A new study created in memory with name: example of optuna optimizer\u001b[0m\n"
     ]
    }
   ],
   "source": [
    "obj = BaseModel().optimize_by_optuna(\n",
    "            estimator=estimator,\n",
    "            estimator_params=estimator_params,\n",
    "            measure_of_accuracy=\"f1_score\",\n",
    "            with_stratified=True,\n",
    "            test_size=.3,\n",
    "            add_extra_args_for_measure_of_accuracy = False,\n",
    "            verbose=3,\n",
    "            n_jobs=-1,\n",
    "            random_state=42,\n",
    "            # optuna params\n",
    "            # optuna study init params\n",
    "            study=optuna.create_study(\n",
    "                storage=None,\n",
    "                sampler=TPESampler(),\n",
    "                pruner=HyperbandPruner(),\n",
    "                study_name=\"example of optuna optimizer\",\n",
    "                direction=\"maximize\",\n",
    "                load_if_exists=False,\n",
    "                directions=None,\n",
    "            ),\n",
    "            # optuna optimization params\n",
    "            study_optimize_objective=None,\n",
    "            study_optimize_objective_n_trials=20,\n",
    "            study_optimize_objective_timeout=600,\n",
    "            study_optimize_n_jobs=-1,\n",
    "            study_optimize_catch=(),\n",
    "            study_optimize_callbacks=None,\n",
    "            study_optimize_gc_after_trial=False,\n",
    "            study_optimize_show_progress_bar=False,\n",
    "        )"
   ]
  },
  {
   "cell_type": "markdown",
   "metadata": {},
   "source": [
    "#### Build sklearn pipeline"
   ]
  },
  {
   "cell_type": "code",
   "execution_count": 8,
   "metadata": {},
   "outputs": [],
   "source": [
    "\n",
    "\n",
    "pipeline =Pipeline([\n",
    "            # int missing values imputers\n",
    "            ('intimputer', MeanMedianImputer(\n",
    "                imputation_method='median', variables=int_cols)),\n",
    "            # category missing values imputers\n",
    "            ('catimputer', CategoricalImputer(variables=cat_cols)),\n",
    "            #\n",
    "            ('catencoder', OrdinalEncoder()),\n",
    "            # classification model\n",
    "            ('obj', obj),\n",
    "\n",
    "\n",
    " ])\n",
    " \n",
    "\n"
   ]
  },
  {
   "cell_type": "markdown",
   "metadata": {},
   "source": [
    "#### Run Pipeline"
   ]
  },
  {
   "cell_type": "code",
   "execution_count": 9,
   "metadata": {},
   "outputs": [
    {
     "name": "stdout",
     "output_type": "stream",
     "text": [
      "Warning! labels is not used in f1_score\n",
      "Warning! labels is not used in f1_score\n",
      "Warning! average is not used in f1_score\n",
      "Warning! average is not used in f1_score\n",
      "Warning! sample_weight is not used in f1_score\n",
      "Warning! sample_weight is not used in f1_score\n",
      "Warning! zero_division is not used in f1_score\n",
      "Warning! zero_division is not used in f1_score\n",
      "Warning! labels is not used in f1_score\n",
      "Warning! labels is not used in f1_score\n",
      "Warning! average is not used in f1_score\n",
      "Warning! average is not used in f1_score\n",
      "Warning! sample_weight is not used in f1_score\n",
      "Warning! sample_weight is not used in f1_score\n",
      "Warning! zero_division is not used in f1_score\n",
      "Warning! zero_division is not used in f1_score\n",
      "Warning! labels is not used in f1_score\n",
      "Warning! labels is not used in f1_score\n",
      "Warning! average is not used in f1_score\n",
      "Warning! average is not used in f1_score\n",
      "Warning! sample_weight is not used in f1_score\n",
      "Warning! sample_weight is not used in f1_score\n",
      "Warning! zero_division is not used in f1_score\n",
      "Warning! zero_division is not used in f1_score\n",
      "Warning! labels is not used in f1_score\n",
      "Warning! labels is not used in f1_score\n",
      "Warning! average is not used in f1_score\n",
      "Warning! average is not used in f1_score\n",
      "Warning! sample_weight is not used in f1_score\n",
      "Warning! sample_weight is not used in f1_score\n",
      "Warning! zero_division is not used in f1_score\n",
      "Warning! zero_division is not used in f1_score\n",
      "Warning! labels is not used in f1_score\n",
      "Warning! labels is not used in f1_score\n",
      "Warning! average is not used in f1_score\n",
      "Warning! average is not used in f1_score\n",
      "Warning! sample_weight is not used in f1_score\n",
      "Warning! sample_weight is not used in f1_score\n",
      "Warning! zero_division is not used in f1_score\n",
      "Warning! zero_division is not used in f1_score\n",
      "{'boosting_type': 'gbdt', 'max_depth': 5, 'learning_rate': 0.1, 'random_state': 42, 'importance_type': 'split'}\n",
      "{'boosting_type': 'gbdt', 'max_depth': 4, 'learning_rate': 0.1, 'random_state': 42, 'importance_type': 'split'}\n",
      "{'boosting_type': 'gbdt', 'max_depth': 5, 'learning_rate': 0.1, 'random_state': 42, 'importance_type': 'split'}\n",
      "{'boosting_type': 'gbdt', 'max_depth': 4, 'learning_rate': 0.1, 'random_state': 42, 'importance_type': 'split'}\n",
      "{'boosting_type': 'gbdt', 'max_depth': 5, 'learning_rate': 0.1, 'random_state': 42, 'importance_type': 'split'}\n",
      "{'boosting_type': 'gbdt', 'max_depth': 4, 'learning_rate': 0.1, 'random_state': 42, 'importance_type': 'split'}\n",
      "{'boosting_type': 'gbdt', 'max_depth': 5, 'learning_rate': 0.1, 'random_state': 42, 'importance_type': 'split'}\n",
      "{'boosting_type': 'gbdt', 'max_depth': 5, 'learning_rate': 0.1, 'random_state': 42, 'importance_type': 'split'}\n"
     ]
    },
    {
     "name": "stderr",
     "output_type": "stream",
     "text": [
      "/Users/hjavedani/Documents/Lohrasb/.venv/lib/python3.10/site-packages/optuna/study/study.py:393: FutureWarning: `n_jobs` argument has been deprecated in v2.7.0. This feature will be removed in v4.0.0. See https://github.com/optuna/optuna/releases/tag/v2.7.0.\n",
      "  warnings.warn(\n",
      "\u001b[32m[I 2022-11-11 19:10:17,475]\u001b[0m Trial 1 finished with value: 0.6962384669978708 and parameters: {'boosting_type': 'gbdt', 'max_depth': 4, 'learning_rate': 0.1, 'random_state': 42, 'importance_type': 'split'}. Best is trial 1 with value: 0.6962384669978708.\u001b[0m\n",
      "\u001b[32m[I 2022-11-11 19:10:17,492]\u001b[0m Trial 5 finished with value: 0.6962384669978708 and parameters: {'boosting_type': 'gbdt', 'max_depth': 4, 'learning_rate': 0.1, 'random_state': 42, 'importance_type': 'split'}. Best is trial 1 with value: 0.6962384669978708.\u001b[0m\n",
      "\u001b[32m[I 2022-11-11 19:10:17,498]\u001b[0m Trial 3 finished with value: 0.6962384669978708 and parameters: {'boosting_type': 'gbdt', 'max_depth': 4, 'learning_rate': 0.1, 'random_state': 42, 'importance_type': 'split'}. Best is trial 1 with value: 0.6962384669978708.\u001b[0m\n"
     ]
    },
    {
     "name": "stdout",
     "output_type": "stream",
     "text": [
      "{'boosting_type': 'gbdt', 'max_depth': 5, 'learning_rate': 0.1, 'random_state': 42, 'importance_type': 'split'}\n",
      "{'boosting_type': 'gbdt', 'max_depth': 4, 'learning_rate': 0.1, 'random_state': 42, 'importance_type': 'split'}\n",
      "{'boosting_type': 'gbdt', 'max_depth': 5, 'learning_rate': 0.1, 'random_state': 42, 'importance_type': 'split'}\n"
     ]
    },
    {
     "name": "stderr",
     "output_type": "stream",
     "text": [
      "\u001b[32m[I 2022-11-11 19:10:18,580]\u001b[0m Trial 6 finished with value: 0.7026269702276707 and parameters: {'boosting_type': 'gbdt', 'max_depth': 5, 'learning_rate': 0.1, 'random_state': 42, 'importance_type': 'split'}. Best is trial 6 with value: 0.7026269702276707.\u001b[0m\n",
      "\u001b[32m[I 2022-11-11 19:10:18,603]\u001b[0m Trial 2 finished with value: 0.7026269702276707 and parameters: {'boosting_type': 'gbdt', 'max_depth': 5, 'learning_rate': 0.1, 'random_state': 42, 'importance_type': 'split'}. Best is trial 6 with value: 0.7026269702276707.\u001b[0m\n",
      "\u001b[32m[I 2022-11-11 19:10:18,607]\u001b[0m Trial 7 finished with value: 0.7026269702276707 and parameters: {'boosting_type': 'gbdt', 'max_depth': 5, 'learning_rate': 0.1, 'random_state': 42, 'importance_type': 'split'}. Best is trial 6 with value: 0.7026269702276707.\u001b[0m\n",
      "\u001b[32m[I 2022-11-11 19:10:18,621]\u001b[0m Trial 0 finished with value: 0.7026269702276707 and parameters: {'boosting_type': 'gbdt', 'max_depth': 5, 'learning_rate': 0.1, 'random_state': 42, 'importance_type': 'split'}. Best is trial 6 with value: 0.7026269702276707.\u001b[0m\n"
     ]
    },
    {
     "name": "stdout",
     "output_type": "stream",
     "text": [
      "{'boosting_type': 'gbdt', 'max_depth': 5, 'learning_rate': 0.1, 'random_state': 42, 'importance_type': 'split'}\n",
      "{'boosting_type': 'gbdt', 'max_depth': 5, 'learning_rate': 0.1, 'random_state': 42, 'importance_type': 'split'}\n",
      "{'boosting_type': 'gbdt', 'max_depth': 4, 'learning_rate': 0.1, 'random_state': 42, 'importance_type': 'split'}\n",
      "{'boosting_type': 'gbdt', 'max_depth': 5, 'learning_rate': 0.1, 'random_state': 42, 'importance_type': 'split'}\n"
     ]
    },
    {
     "name": "stderr",
     "output_type": "stream",
     "text": [
      "\u001b[32m[I 2022-11-11 19:10:19,024]\u001b[0m Trial 4 finished with value: 0.7026269702276707 and parameters: {'boosting_type': 'gbdt', 'max_depth': 5, 'learning_rate': 0.1, 'random_state': 42, 'importance_type': 'split'}. Best is trial 6 with value: 0.7026269702276707.\u001b[0m\n",
      "\u001b[32m[I 2022-11-11 19:10:19,119]\u001b[0m Trial 9 finished with value: 0.6962384669978708 and parameters: {'boosting_type': 'gbdt', 'max_depth': 4, 'learning_rate': 0.1, 'random_state': 42, 'importance_type': 'split'}. Best is trial 6 with value: 0.7026269702276707.\u001b[0m\n"
     ]
    },
    {
     "name": "stdout",
     "output_type": "stream",
     "text": [
      "{'boosting_type': 'gbdt', 'max_depth': 5, 'learning_rate': 0.1, 'random_state': 42, 'importance_type': 'split'}\n",
      "{'boosting_type': 'gbdt', 'max_depth': 5, 'learning_rate': 0.1, 'random_state': 42, 'importance_type': 'split'}\n"
     ]
    },
    {
     "name": "stderr",
     "output_type": "stream",
     "text": [
      "\u001b[32m[I 2022-11-11 19:10:20,189]\u001b[0m Trial 8 finished with value: 0.7026269702276707 and parameters: {'boosting_type': 'gbdt', 'max_depth': 5, 'learning_rate': 0.1, 'random_state': 42, 'importance_type': 'split'}. Best is trial 6 with value: 0.7026269702276707.\u001b[0m\n",
      "\u001b[32m[I 2022-11-11 19:10:20,220]\u001b[0m Trial 10 finished with value: 0.7026269702276707 and parameters: {'boosting_type': 'gbdt', 'max_depth': 5, 'learning_rate': 0.1, 'random_state': 42, 'importance_type': 'split'}. Best is trial 6 with value: 0.7026269702276707.\u001b[0m\n",
      "\u001b[32m[I 2022-11-11 19:10:20,231]\u001b[0m Trial 13 finished with value: 0.6962384669978708 and parameters: {'boosting_type': 'gbdt', 'max_depth': 4, 'learning_rate': 0.1, 'random_state': 42, 'importance_type': 'split'}. Best is trial 6 with value: 0.7026269702276707.\u001b[0m\n"
     ]
    },
    {
     "name": "stdout",
     "output_type": "stream",
     "text": [
      "{'boosting_type': 'gbdt', 'max_depth': 5, 'learning_rate': 0.1, 'random_state': 42, 'importance_type': 'split'}\n",
      "{'boosting_type': 'gbdt', 'max_depth': 5, 'learning_rate': 0.1, 'random_state': 42, 'importance_type': 'split'}\n",
      "{'boosting_type': 'gbdt', 'max_depth': 5, 'learning_rate': 0.1, 'random_state': 42, 'importance_type': 'split'}\n"
     ]
    },
    {
     "name": "stderr",
     "output_type": "stream",
     "text": [
      "\u001b[32m[I 2022-11-11 19:10:21,286]\u001b[0m Trial 11 finished with value: 0.7026269702276707 and parameters: {'boosting_type': 'gbdt', 'max_depth': 5, 'learning_rate': 0.1, 'random_state': 42, 'importance_type': 'split'}. Best is trial 6 with value: 0.7026269702276707.\u001b[0m\n",
      "\u001b[32m[I 2022-11-11 19:10:21,315]\u001b[0m Trial 14 finished with value: 0.7026269702276707 and parameters: {'boosting_type': 'gbdt', 'max_depth': 5, 'learning_rate': 0.1, 'random_state': 42, 'importance_type': 'split'}. Best is trial 6 with value: 0.7026269702276707.\u001b[0m\n",
      "\u001b[32m[I 2022-11-11 19:10:21,571]\u001b[0m Trial 15 finished with value: 0.7026269702276707 and parameters: {'boosting_type': 'gbdt', 'max_depth': 5, 'learning_rate': 0.1, 'random_state': 42, 'importance_type': 'split'}. Best is trial 6 with value: 0.7026269702276707.\u001b[0m\n",
      "\u001b[32m[I 2022-11-11 19:10:21,592]\u001b[0m Trial 12 finished with value: 0.7026269702276707 and parameters: {'boosting_type': 'gbdt', 'max_depth': 5, 'learning_rate': 0.1, 'random_state': 42, 'importance_type': 'split'}. Best is trial 6 with value: 0.7026269702276707.\u001b[0m\n",
      "\u001b[32m[I 2022-11-11 19:10:21,626]\u001b[0m Trial 16 finished with value: 0.7026269702276707 and parameters: {'boosting_type': 'gbdt', 'max_depth': 5, 'learning_rate': 0.1, 'random_state': 42, 'importance_type': 'split'}. Best is trial 6 with value: 0.7026269702276707.\u001b[0m\n",
      "\u001b[32m[I 2022-11-11 19:10:21,900]\u001b[0m Trial 17 finished with value: 0.7026269702276707 and parameters: {'boosting_type': 'gbdt', 'max_depth': 5, 'learning_rate': 0.1, 'random_state': 42, 'importance_type': 'split'}. Best is trial 6 with value: 0.7026269702276707.\u001b[0m\n",
      "\u001b[32m[I 2022-11-11 19:10:21,921]\u001b[0m Trial 18 finished with value: 0.7026269702276707 and parameters: {'boosting_type': 'gbdt', 'max_depth': 5, 'learning_rate': 0.1, 'random_state': 42, 'importance_type': 'split'}. Best is trial 6 with value: 0.7026269702276707.\u001b[0m\n",
      "\u001b[32m[I 2022-11-11 19:10:21,924]\u001b[0m Trial 19 finished with value: 0.7026269702276707 and parameters: {'boosting_type': 'gbdt', 'max_depth': 5, 'learning_rate': 0.1, 'random_state': 42, 'importance_type': 'split'}. Best is trial 6 with value: 0.7026269702276707.\u001b[0m\n"
     ]
    }
   ],
   "source": [
    "pipeline.fit(X_train,y_train)\n",
    "y_preds = pipeline.predict(X_test)\n",
    "pred_labels = np.rint(y_preds)\n",
    "\n",
    "\n"
   ]
  },
  {
   "cell_type": "markdown",
   "metadata": {},
   "source": [
    "#### Check performance of the pipeline"
   ]
  },
  {
   "cell_type": "code",
   "execution_count": 10,
   "metadata": {},
   "outputs": [
    {
     "name": "stdout",
     "output_type": "stream",
     "text": [
      "F1 score : \n",
      "0.709161624891962\n",
      "Classification report : \n",
      "              precision    recall  f1-score   support\n",
      "\n",
      "           0       0.90      0.95      0.92      8196\n",
      "           1       0.79      0.64      0.71      2550\n",
      "\n",
      "    accuracy                           0.87     10746\n",
      "   macro avg       0.84      0.80      0.81     10746\n",
      "weighted avg       0.87      0.87      0.87     10746\n",
      "\n",
      "Confusion matrix : \n",
      "[[7759  437]\n",
      " [ 909 1641]]\n"
     ]
    }
   ],
   "source": [
    "print('F1 score : ')\n",
    "print(f1_score(y_test,pred_labels))\n",
    "print('Classification report : ')\n",
    "print(classification_report(y_test,pred_labels))\n",
    "print('Confusion matrix : ')\n",
    "print(confusion_matrix(y_test,pred_labels))\n"
   ]
  },
  {
   "cell_type": "markdown",
   "metadata": {},
   "source": [
    "#### Some estimators have predict_proba method as well"
   ]
  },
  {
   "cell_type": "code",
   "execution_count": 11,
   "metadata": {},
   "outputs": [
    {
     "name": "stdout",
     "output_type": "stream",
     "text": [
      "[[0.9846395  0.0153605 ]\n",
      " [0.58312603 0.41687397]\n",
      " [0.36421549 0.63578451]\n",
      " ...\n",
      " [0.71121761 0.28878239]\n",
      " [0.67598324 0.32401676]\n",
      " [0.9773811  0.0226189 ]]\n"
     ]
    }
   ],
   "source": [
    "y_preds = pipeline.predict_proba(X_test)\n",
    "print(y_preds)"
   ]
  },
  {
   "cell_type": "markdown",
   "metadata": {},
   "source": [
    "# Part 2:  Use BestModel as a standalone estimator "
   ]
  },
  {
   "cell_type": "code",
   "execution_count": 12,
   "metadata": {},
   "outputs": [],
   "source": [
    "X_train, X_test, y_train, y_test =train_test_split(X, y, test_size=0.33, random_state=42)\n"
   ]
  },
  {
   "cell_type": "markdown",
   "metadata": {},
   "source": [
    "#### Transform features to make them ready for model input"
   ]
  },
  {
   "cell_type": "code",
   "execution_count": 13,
   "metadata": {},
   "outputs": [],
   "source": [
    "transform_pipeline =Pipeline([\n",
    "            # int missing values imputers\n",
    "            ('intimputer', MeanMedianImputer(\n",
    "                imputation_method='median', variables=int_cols)),\n",
    "            # category missing values imputers\n",
    "            ('catimputer', CategoricalImputer(variables=cat_cols)),\n",
    "            #\n",
    "            ('catencoder', OrdinalEncoder()),\n",
    "            # classification model\n",
    "\n",
    " ])"
   ]
  },
  {
   "cell_type": "markdown",
   "metadata": {},
   "source": [
    "#### Transform X_train and X_test"
   ]
  },
  {
   "cell_type": "code",
   "execution_count": 14,
   "metadata": {},
   "outputs": [],
   "source": [
    "X_train=transform_pipeline.fit_transform(X_train,y_train)\n",
    "X_test=transform_pipeline.transform(X_test)\n"
   ]
  },
  {
   "cell_type": "markdown",
   "metadata": {},
   "source": [
    "#### Train model and predict"
   ]
  },
  {
   "cell_type": "code",
   "execution_count": 15,
   "metadata": {},
   "outputs": [
    {
     "name": "stdout",
     "output_type": "stream",
     "text": [
      "Warning! labels is not used in f1_score\n",
      "Warning! labels is not used in f1_score\n",
      "Warning! average is not used in f1_score\n",
      "Warning! average is not used in f1_score\n",
      "Warning! sample_weight is not used in f1_score\n",
      "Warning! sample_weight is not used in f1_score\n",
      "Warning! zero_division is not used in f1_score\n",
      "Warning! zero_division is not used in f1_score\n",
      "Warning! labels is not used in f1_score\n",
      "Warning! labels is not used in f1_score\n",
      "Warning! average is not used in f1_score\n",
      "Warning! average is not used in f1_score\n",
      "Warning! sample_weight is not used in f1_score\n",
      "Warning! sample_weight is not used in f1_score\n",
      "Warning! zero_division is not used in f1_score\n",
      "Warning! zero_division is not used in f1_score\n",
      "Warning! labels is not used in f1_score\n",
      "Warning! labels is not used in f1_score\n",
      "Warning! average is not used in f1_score\n",
      "Warning! average is not used in f1_score\n",
      "Warning! sample_weight is not used in f1_score\n",
      "Warning! sample_weight is not used in f1_score\n",
      "Warning! zero_division is not used in f1_score\n",
      "Warning! zero_division is not used in f1_score\n",
      "Warning! labels is not used in f1_score\n",
      "Warning! labels is not used in f1_score\n",
      "Warning! average is not used in f1_score\n",
      "Warning! average is not used in f1_score\n",
      "Warning! sample_weight is not used in f1_score\n",
      "Warning! sample_weight is not used in f1_score\n",
      "Warning! zero_division is not used in f1_score\n",
      "Warning! zero_division is not used in f1_score\n",
      "Warning! labels is not used in f1_score\n",
      "Warning! labels is not used in f1_score\n",
      "Warning! average is not used in f1_score\n",
      "Warning! average is not used in f1_score\n",
      "Warning! sample_weight is not used in f1_score\n",
      "Warning! sample_weight is not used in f1_score\n",
      "Warning! zero_division is not used in f1_score\n",
      "Warning! zero_division is not used in f1_score\n",
      "{'boosting_type': 'gbdt', 'max_depth': 4, 'learning_rate': 0.1, 'random_state': 42, 'importance_type': 'split'}\n",
      "{'boosting_type': 'gbdt', 'max_depth': 4, 'learning_rate': 0.1, 'random_state': 42, 'importance_type': 'split'}\n",
      "{'boosting_type': 'gbdt', 'max_depth': 4, 'learning_rate': 0.1, 'random_state': 42, 'importance_type': 'split'}\n",
      "{'boosting_type': 'gbdt', 'max_depth': 4, 'learning_rate': 0.1, 'random_state': 42, 'importance_type': 'split'}\n",
      "{'boosting_type': 'gbdt', 'max_depth': 4, 'learning_rate': 0.1, 'random_state': 42, 'importance_type': 'split'}\n",
      "{'boosting_type': 'gbdt', 'max_depth': 4, 'learning_rate': 0.1, 'random_state': 42, 'importance_type': 'split'}\n",
      "{'boosting_type': 'gbdt', 'max_depth': 4, 'learning_rate': 0.1, 'random_state': 42, 'importance_type': 'split'}\n",
      "{'boosting_type': 'gbdt', 'max_depth': 4, 'learning_rate': 0.1, 'random_state': 42, 'importance_type': 'split'}\n"
     ]
    },
    {
     "name": "stderr",
     "output_type": "stream",
     "text": [
      "/Users/hjavedani/Documents/Lohrasb/.venv/lib/python3.10/site-packages/optuna/study/study.py:393: FutureWarning: `n_jobs` argument has been deprecated in v2.7.0. This feature will be removed in v4.0.0. See https://github.com/optuna/optuna/releases/tag/v2.7.0.\n",
      "  warnings.warn(\n",
      "\u001b[32m[I 2022-11-11 19:10:24,277]\u001b[0m Trial 21 finished with value: 0.6962384669978708 and parameters: {'boosting_type': 'gbdt', 'max_depth': 4, 'learning_rate': 0.1, 'random_state': 42, 'importance_type': 'split'}. Best is trial 6 with value: 0.7026269702276707.\u001b[0m\n",
      "\u001b[32m[I 2022-11-11 19:10:24,301]\u001b[0m Trial 26 finished with value: 0.6962384669978708 and parameters: {'boosting_type': 'gbdt', 'max_depth': 4, 'learning_rate': 0.1, 'random_state': 42, 'importance_type': 'split'}. Best is trial 6 with value: 0.7026269702276707.\u001b[0m\n",
      "\u001b[32m[I 2022-11-11 19:10:24,305]\u001b[0m Trial 24 finished with value: 0.6962384669978708 and parameters: {'boosting_type': 'gbdt', 'max_depth': 4, 'learning_rate': 0.1, 'random_state': 42, 'importance_type': 'split'}. Best is trial 6 with value: 0.7026269702276707.\u001b[0m\n",
      "\u001b[32m[I 2022-11-11 19:10:24,327]\u001b[0m Trial 25 finished with value: 0.6962384669978708 and parameters: {'boosting_type': 'gbdt', 'max_depth': 4, 'learning_rate': 0.1, 'random_state': 42, 'importance_type': 'split'}. Best is trial 6 with value: 0.7026269702276707.\u001b[0m\n",
      "\u001b[32m[I 2022-11-11 19:10:24,338]\u001b[0m Trial 22 finished with value: 0.6962384669978708 and parameters: {'boosting_type': 'gbdt', 'max_depth': 4, 'learning_rate': 0.1, 'random_state': 42, 'importance_type': 'split'}. Best is trial 6 with value: 0.7026269702276707.\u001b[0m\n",
      "\u001b[32m[I 2022-11-11 19:10:24,346]\u001b[0m Trial 27 finished with value: 0.6962384669978708 and parameters: {'boosting_type': 'gbdt', 'max_depth': 4, 'learning_rate': 0.1, 'random_state': 42, 'importance_type': 'split'}. Best is trial 6 with value: 0.7026269702276707.\u001b[0m\n"
     ]
    },
    {
     "name": "stdout",
     "output_type": "stream",
     "text": [
      "{'boosting_type': 'gbdt', 'max_depth': 5, 'learning_rate': 0.1, 'random_state': 42, 'importance_type': 'split'}\n",
      "{'boosting_type': 'gbdt', 'max_depth': 5, 'learning_rate': 0.1, 'random_state': 42, 'importance_type': 'split'}\n",
      "{'boosting_type': 'gbdt', 'max_depth': 5, 'learning_rate': 0.1, 'random_state': 42, 'importance_type': 'split'}\n",
      "{'boosting_type': 'gbdt', 'max_depth': 5, 'learning_rate': 0.1, 'random_state': 42, 'importance_type': 'split'}\n",
      "{'boosting_type': 'gbdt', 'max_depth': 5, 'learning_rate': 0.1, 'random_state': 42, 'importance_type': 'split'}\n",
      "{'boosting_type': 'gbdt', 'max_depth': 5, 'learning_rate': 0.1, 'random_state': 42, 'importance_type': 'split'}\n"
     ]
    },
    {
     "name": "stderr",
     "output_type": "stream",
     "text": [
      "\u001b[32m[I 2022-11-11 19:10:24,572]\u001b[0m Trial 20 finished with value: 0.6962384669978708 and parameters: {'boosting_type': 'gbdt', 'max_depth': 4, 'learning_rate': 0.1, 'random_state': 42, 'importance_type': 'split'}. Best is trial 6 with value: 0.7026269702276707.\u001b[0m\n",
      "\u001b[32m[I 2022-11-11 19:10:24,586]\u001b[0m Trial 23 finished with value: 0.6962384669978708 and parameters: {'boosting_type': 'gbdt', 'max_depth': 4, 'learning_rate': 0.1, 'random_state': 42, 'importance_type': 'split'}. Best is trial 6 with value: 0.7026269702276707.\u001b[0m\n"
     ]
    },
    {
     "name": "stdout",
     "output_type": "stream",
     "text": [
      "{'boosting_type': 'gbdt', 'max_depth': 5, 'learning_rate': 0.1, 'random_state': 42, 'importance_type': 'split'}\n",
      "{'boosting_type': 'gbdt', 'max_depth': 5, 'learning_rate': 0.1, 'random_state': 42, 'importance_type': 'split'}\n"
     ]
    },
    {
     "name": "stderr",
     "output_type": "stream",
     "text": [
      "\u001b[32m[I 2022-11-11 19:10:27,008]\u001b[0m Trial 28 finished with value: 0.7026269702276707 and parameters: {'boosting_type': 'gbdt', 'max_depth': 5, 'learning_rate': 0.1, 'random_state': 42, 'importance_type': 'split'}. Best is trial 6 with value: 0.7026269702276707.\u001b[0m\n",
      "\u001b[32m[I 2022-11-11 19:10:27,041]\u001b[0m Trial 30 finished with value: 0.7026269702276707 and parameters: {'boosting_type': 'gbdt', 'max_depth': 5, 'learning_rate': 0.1, 'random_state': 42, 'importance_type': 'split'}. Best is trial 6 with value: 0.7026269702276707.\u001b[0m\n",
      "\u001b[32m[I 2022-11-11 19:10:27,078]\u001b[0m Trial 33 finished with value: 0.7026269702276707 and parameters: {'boosting_type': 'gbdt', 'max_depth': 5, 'learning_rate': 0.1, 'random_state': 42, 'importance_type': 'split'}. Best is trial 6 with value: 0.7026269702276707.\u001b[0m\n",
      "\u001b[32m[I 2022-11-11 19:10:27,094]\u001b[0m Trial 32 finished with value: 0.7026269702276707 and parameters: {'boosting_type': 'gbdt', 'max_depth': 5, 'learning_rate': 0.1, 'random_state': 42, 'importance_type': 'split'}. Best is trial 6 with value: 0.7026269702276707.\u001b[0m\n"
     ]
    },
    {
     "name": "stdout",
     "output_type": "stream",
     "text": [
      "{'boosting_type': 'gbdt', 'max_depth': 5, 'learning_rate': 0.1, 'random_state': 42, 'importance_type': 'split'}\n",
      "{'boosting_type': 'gbdt', 'max_depth': 5, 'learning_rate': 0.1, 'random_state': 42, 'importance_type': 'split'}\n",
      "{'boosting_type': 'gbdt', 'max_depth': 5, 'learning_rate': 0.1, 'random_state': 42, 'importance_type': 'split'}\n",
      "{'boosting_type': 'gbdt', 'max_depth': 5, 'learning_rate': 0.1, 'random_state': 42, 'importance_type': 'split'}\n"
     ]
    },
    {
     "name": "stderr",
     "output_type": "stream",
     "text": [
      "\u001b[32m[I 2022-11-11 19:10:27,315]\u001b[0m Trial 34 finished with value: 0.7026269702276707 and parameters: {'boosting_type': 'gbdt', 'max_depth': 5, 'learning_rate': 0.1, 'random_state': 42, 'importance_type': 'split'}. Best is trial 6 with value: 0.7026269702276707.\u001b[0m\n",
      "\u001b[32m[I 2022-11-11 19:10:27,331]\u001b[0m Trial 35 finished with value: 0.7026269702276707 and parameters: {'boosting_type': 'gbdt', 'max_depth': 5, 'learning_rate': 0.1, 'random_state': 42, 'importance_type': 'split'}. Best is trial 6 with value: 0.7026269702276707.\u001b[0m\n",
      "\u001b[32m[I 2022-11-11 19:10:27,452]\u001b[0m Trial 29 finished with value: 0.7026269702276707 and parameters: {'boosting_type': 'gbdt', 'max_depth': 5, 'learning_rate': 0.1, 'random_state': 42, 'importance_type': 'split'}. Best is trial 6 with value: 0.7026269702276707.\u001b[0m\n",
      "\u001b[32m[I 2022-11-11 19:10:27,472]\u001b[0m Trial 31 finished with value: 0.7026269702276707 and parameters: {'boosting_type': 'gbdt', 'max_depth': 5, 'learning_rate': 0.1, 'random_state': 42, 'importance_type': 'split'}. Best is trial 6 with value: 0.7026269702276707.\u001b[0m\n",
      "\u001b[32m[I 2022-11-11 19:10:28,135]\u001b[0m Trial 36 finished with value: 0.7026269702276707 and parameters: {'boosting_type': 'gbdt', 'max_depth': 5, 'learning_rate': 0.1, 'random_state': 42, 'importance_type': 'split'}. Best is trial 6 with value: 0.7026269702276707.\u001b[0m\n",
      "\u001b[32m[I 2022-11-11 19:10:28,154]\u001b[0m Trial 37 finished with value: 0.7026269702276707 and parameters: {'boosting_type': 'gbdt', 'max_depth': 5, 'learning_rate': 0.1, 'random_state': 42, 'importance_type': 'split'}. Best is trial 6 with value: 0.7026269702276707.\u001b[0m\n",
      "\u001b[32m[I 2022-11-11 19:10:28,172]\u001b[0m Trial 38 finished with value: 0.7026269702276707 and parameters: {'boosting_type': 'gbdt', 'max_depth': 5, 'learning_rate': 0.1, 'random_state': 42, 'importance_type': 'split'}. Best is trial 6 with value: 0.7026269702276707.\u001b[0m\n",
      "\u001b[32m[I 2022-11-11 19:10:28,175]\u001b[0m Trial 39 finished with value: 0.7026269702276707 and parameters: {'boosting_type': 'gbdt', 'max_depth': 5, 'learning_rate': 0.1, 'random_state': 42, 'importance_type': 'split'}. Best is trial 6 with value: 0.7026269702276707.\u001b[0m\n"
     ]
    }
   ],
   "source": [
    "obj.fit(X_train,y_train)\n",
    "y_pred = obj.predict(X_test)"
   ]
  },
  {
   "cell_type": "markdown",
   "metadata": {},
   "source": [
    "#### Check performance of the model"
   ]
  },
  {
   "cell_type": "code",
   "execution_count": 16,
   "metadata": {},
   "outputs": [
    {
     "name": "stdout",
     "output_type": "stream",
     "text": [
      "F1 score : \n",
      "0.709161624891962\n",
      "Classification report : \n",
      "              precision    recall  f1-score   support\n",
      "\n",
      "           0       0.90      0.95      0.92      8196\n",
      "           1       0.79      0.64      0.71      2550\n",
      "\n",
      "    accuracy                           0.87     10746\n",
      "   macro avg       0.84      0.80      0.81     10746\n",
      "weighted avg       0.87      0.87      0.87     10746\n",
      "\n",
      "Confusion matrix : \n",
      "[[7759  437]\n",
      " [ 909 1641]]\n"
     ]
    }
   ],
   "source": [
    "print('F1 score : ')\n",
    "print(f1_score(y_test,pred_labels))\n",
    "print('Classification report : ')\n",
    "print(classification_report(y_test,pred_labels))\n",
    "print('Confusion matrix : ')\n",
    "print(confusion_matrix(y_test,pred_labels))"
   ]
  },
  {
   "cell_type": "code",
   "execution_count": 17,
   "metadata": {},
   "outputs": [
    {
     "data": {
      "text/html": [
       "<style>#sk-container-id-1 {color: black;background-color: white;}#sk-container-id-1 pre{padding: 0;}#sk-container-id-1 div.sk-toggleable {background-color: white;}#sk-container-id-1 label.sk-toggleable__label {cursor: pointer;display: block;width: 100%;margin-bottom: 0;padding: 0.3em;box-sizing: border-box;text-align: center;}#sk-container-id-1 label.sk-toggleable__label-arrow:before {content: \"▸\";float: left;margin-right: 0.25em;color: #696969;}#sk-container-id-1 label.sk-toggleable__label-arrow:hover:before {color: black;}#sk-container-id-1 div.sk-estimator:hover label.sk-toggleable__label-arrow:before {color: black;}#sk-container-id-1 div.sk-toggleable__content {max-height: 0;max-width: 0;overflow: hidden;text-align: left;background-color: #f0f8ff;}#sk-container-id-1 div.sk-toggleable__content pre {margin: 0.2em;color: black;border-radius: 0.25em;background-color: #f0f8ff;}#sk-container-id-1 input.sk-toggleable__control:checked~div.sk-toggleable__content {max-height: 200px;max-width: 100%;overflow: auto;}#sk-container-id-1 input.sk-toggleable__control:checked~label.sk-toggleable__label-arrow:before {content: \"▾\";}#sk-container-id-1 div.sk-estimator input.sk-toggleable__control:checked~label.sk-toggleable__label {background-color: #d4ebff;}#sk-container-id-1 div.sk-label input.sk-toggleable__control:checked~label.sk-toggleable__label {background-color: #d4ebff;}#sk-container-id-1 input.sk-hidden--visually {border: 0;clip: rect(1px 1px 1px 1px);clip: rect(1px, 1px, 1px, 1px);height: 1px;margin: -1px;overflow: hidden;padding: 0;position: absolute;width: 1px;}#sk-container-id-1 div.sk-estimator {font-family: monospace;background-color: #f0f8ff;border: 1px dotted black;border-radius: 0.25em;box-sizing: border-box;margin-bottom: 0.5em;}#sk-container-id-1 div.sk-estimator:hover {background-color: #d4ebff;}#sk-container-id-1 div.sk-parallel-item::after {content: \"\";width: 100%;border-bottom: 1px solid gray;flex-grow: 1;}#sk-container-id-1 div.sk-label:hover label.sk-toggleable__label {background-color: #d4ebff;}#sk-container-id-1 div.sk-serial::before {content: \"\";position: absolute;border-left: 1px solid gray;box-sizing: border-box;top: 0;bottom: 0;left: 50%;z-index: 0;}#sk-container-id-1 div.sk-serial {display: flex;flex-direction: column;align-items: center;background-color: white;padding-right: 0.2em;padding-left: 0.2em;position: relative;}#sk-container-id-1 div.sk-item {position: relative;z-index: 1;}#sk-container-id-1 div.sk-parallel {display: flex;align-items: stretch;justify-content: center;background-color: white;position: relative;}#sk-container-id-1 div.sk-item::before, #sk-container-id-1 div.sk-parallel-item::before {content: \"\";position: absolute;border-left: 1px solid gray;box-sizing: border-box;top: 0;bottom: 0;left: 50%;z-index: -1;}#sk-container-id-1 div.sk-parallel-item {display: flex;flex-direction: column;z-index: 1;position: relative;background-color: white;}#sk-container-id-1 div.sk-parallel-item:first-child::after {align-self: flex-end;width: 50%;}#sk-container-id-1 div.sk-parallel-item:last-child::after {align-self: flex-start;width: 50%;}#sk-container-id-1 div.sk-parallel-item:only-child::after {width: 0;}#sk-container-id-1 div.sk-dashed-wrapped {border: 1px dashed gray;margin: 0 0.4em 0.5em 0.4em;box-sizing: border-box;padding-bottom: 0.4em;background-color: white;}#sk-container-id-1 div.sk-label label {font-family: monospace;font-weight: bold;display: inline-block;line-height: 1.2em;}#sk-container-id-1 div.sk-label-container {text-align: center;}#sk-container-id-1 div.sk-container {/* jupyter's `normalize.less` sets `[hidden] { display: none; }` but bootstrap.min.css set `[hidden] { display: none !important; }` so we also need the `!important` here to be able to override the default hidden behavior on the sphinx rendered scikit-learn.org. See: https://github.com/scikit-learn/scikit-learn/issues/21755 */display: inline-block !important;position: relative;}#sk-container-id-1 div.sk-text-repr-fallback {display: none;}</style><div id=\"sk-container-id-1\" class=\"sk-top-container\"><div class=\"sk-text-repr-fallback\"><pre>LGBMClassifier(max_depth=5, random_state=42)</pre><b>In a Jupyter environment, please rerun this cell to show the HTML representation or trust the notebook. <br />On GitHub, the HTML representation is unable to render, please try loading this page with nbviewer.org.</b></div><div class=\"sk-container\" hidden><div class=\"sk-item\"><div class=\"sk-estimator sk-toggleable\"><input class=\"sk-toggleable__control sk-hidden--visually\" id=\"sk-estimator-id-1\" type=\"checkbox\" checked><label for=\"sk-estimator-id-1\" class=\"sk-toggleable__label sk-toggleable__label-arrow\">LGBMClassifier</label><div class=\"sk-toggleable__content\"><pre>LGBMClassifier(max_depth=5, random_state=42)</pre></div></div></div></div></div>"
      ],
      "text/plain": [
       "LGBMClassifier(max_depth=5, random_state=42)"
      ]
     },
     "execution_count": 17,
     "metadata": {},
     "output_type": "execute_result"
    }
   ],
   "source": [
    "obj.get_best_estimator()"
   ]
  },
  {
   "cell_type": "code",
   "execution_count": 18,
   "metadata": {},
   "outputs": [
    {
     "data": {
      "text/html": [
       "<style>#sk-container-id-2 {color: black;background-color: white;}#sk-container-id-2 pre{padding: 0;}#sk-container-id-2 div.sk-toggleable {background-color: white;}#sk-container-id-2 label.sk-toggleable__label {cursor: pointer;display: block;width: 100%;margin-bottom: 0;padding: 0.3em;box-sizing: border-box;text-align: center;}#sk-container-id-2 label.sk-toggleable__label-arrow:before {content: \"▸\";float: left;margin-right: 0.25em;color: #696969;}#sk-container-id-2 label.sk-toggleable__label-arrow:hover:before {color: black;}#sk-container-id-2 div.sk-estimator:hover label.sk-toggleable__label-arrow:before {color: black;}#sk-container-id-2 div.sk-toggleable__content {max-height: 0;max-width: 0;overflow: hidden;text-align: left;background-color: #f0f8ff;}#sk-container-id-2 div.sk-toggleable__content pre {margin: 0.2em;color: black;border-radius: 0.25em;background-color: #f0f8ff;}#sk-container-id-2 input.sk-toggleable__control:checked~div.sk-toggleable__content {max-height: 200px;max-width: 100%;overflow: auto;}#sk-container-id-2 input.sk-toggleable__control:checked~label.sk-toggleable__label-arrow:before {content: \"▾\";}#sk-container-id-2 div.sk-estimator input.sk-toggleable__control:checked~label.sk-toggleable__label {background-color: #d4ebff;}#sk-container-id-2 div.sk-label input.sk-toggleable__control:checked~label.sk-toggleable__label {background-color: #d4ebff;}#sk-container-id-2 input.sk-hidden--visually {border: 0;clip: rect(1px 1px 1px 1px);clip: rect(1px, 1px, 1px, 1px);height: 1px;margin: -1px;overflow: hidden;padding: 0;position: absolute;width: 1px;}#sk-container-id-2 div.sk-estimator {font-family: monospace;background-color: #f0f8ff;border: 1px dotted black;border-radius: 0.25em;box-sizing: border-box;margin-bottom: 0.5em;}#sk-container-id-2 div.sk-estimator:hover {background-color: #d4ebff;}#sk-container-id-2 div.sk-parallel-item::after {content: \"\";width: 100%;border-bottom: 1px solid gray;flex-grow: 1;}#sk-container-id-2 div.sk-label:hover label.sk-toggleable__label {background-color: #d4ebff;}#sk-container-id-2 div.sk-serial::before {content: \"\";position: absolute;border-left: 1px solid gray;box-sizing: border-box;top: 0;bottom: 0;left: 50%;z-index: 0;}#sk-container-id-2 div.sk-serial {display: flex;flex-direction: column;align-items: center;background-color: white;padding-right: 0.2em;padding-left: 0.2em;position: relative;}#sk-container-id-2 div.sk-item {position: relative;z-index: 1;}#sk-container-id-2 div.sk-parallel {display: flex;align-items: stretch;justify-content: center;background-color: white;position: relative;}#sk-container-id-2 div.sk-item::before, #sk-container-id-2 div.sk-parallel-item::before {content: \"\";position: absolute;border-left: 1px solid gray;box-sizing: border-box;top: 0;bottom: 0;left: 50%;z-index: -1;}#sk-container-id-2 div.sk-parallel-item {display: flex;flex-direction: column;z-index: 1;position: relative;background-color: white;}#sk-container-id-2 div.sk-parallel-item:first-child::after {align-self: flex-end;width: 50%;}#sk-container-id-2 div.sk-parallel-item:last-child::after {align-self: flex-start;width: 50%;}#sk-container-id-2 div.sk-parallel-item:only-child::after {width: 0;}#sk-container-id-2 div.sk-dashed-wrapped {border: 1px dashed gray;margin: 0 0.4em 0.5em 0.4em;box-sizing: border-box;padding-bottom: 0.4em;background-color: white;}#sk-container-id-2 div.sk-label label {font-family: monospace;font-weight: bold;display: inline-block;line-height: 1.2em;}#sk-container-id-2 div.sk-label-container {text-align: center;}#sk-container-id-2 div.sk-container {/* jupyter's `normalize.less` sets `[hidden] { display: none; }` but bootstrap.min.css set `[hidden] { display: none !important; }` so we also need the `!important` here to be able to override the default hidden behavior on the sphinx rendered scikit-learn.org. See: https://github.com/scikit-learn/scikit-learn/issues/21755 */display: inline-block !important;position: relative;}#sk-container-id-2 div.sk-text-repr-fallback {display: none;}</style><div id=\"sk-container-id-2\" class=\"sk-top-container\"><div class=\"sk-text-repr-fallback\"><pre>LGBMClassifier(max_depth=5, random_state=42)</pre><b>In a Jupyter environment, please rerun this cell to show the HTML representation or trust the notebook. <br />On GitHub, the HTML representation is unable to render, please try loading this page with nbviewer.org.</b></div><div class=\"sk-container\" hidden><div class=\"sk-item\"><div class=\"sk-estimator sk-toggleable\"><input class=\"sk-toggleable__control sk-hidden--visually\" id=\"sk-estimator-id-2\" type=\"checkbox\" checked><label for=\"sk-estimator-id-2\" class=\"sk-toggleable__label sk-toggleable__label-arrow\">LGBMClassifier</label><div class=\"sk-toggleable__content\"><pre>LGBMClassifier(max_depth=5, random_state=42)</pre></div></div></div></div></div>"
      ],
      "text/plain": [
       "LGBMClassifier(max_depth=5, random_state=42)"
      ]
     },
     "execution_count": 18,
     "metadata": {},
     "output_type": "execute_result"
    }
   ],
   "source": [
    "obj.best_estimator"
   ]
  },
  {
   "cell_type": "markdown",
   "metadata": {},
   "source": [
    "#### Get fitted randomized search object and its attributes"
   ]
  },
  {
   "cell_type": "code",
   "execution_count": 19,
   "metadata": {},
   "outputs": [
    {
     "data": {
      "text/plain": [
       "[FrozenTrial(number=0, values=[0.7026269702276707], datetime_start=datetime.datetime(2022, 11, 11, 19, 10, 15, 861794), datetime_complete=datetime.datetime(2022, 11, 11, 19, 10, 18, 621527), params={'boosting_type': 'gbdt', 'max_depth': 5, 'learning_rate': 0.1, 'random_state': 42, 'importance_type': 'split'}, distributions={'boosting_type': CategoricalDistribution(choices=('gbdt',)), 'max_depth': IntUniformDistribution(high=5, low=4, step=1), 'learning_rate': UniformDistribution(high=0.1, low=0.1), 'random_state': IntUniformDistribution(high=42, low=42, step=1), 'importance_type': CategoricalDistribution(choices=('split',))}, user_attrs={}, system_attrs={}, intermediate_values={}, trial_id=0, state=TrialState.COMPLETE, value=None),\n",
       " FrozenTrial(number=1, values=[0.6962384669978708], datetime_start=datetime.datetime(2022, 11, 11, 19, 10, 15, 863799), datetime_complete=datetime.datetime(2022, 11, 11, 19, 10, 17, 475381), params={'boosting_type': 'gbdt', 'max_depth': 4, 'learning_rate': 0.1, 'random_state': 42, 'importance_type': 'split'}, distributions={'boosting_type': CategoricalDistribution(choices=('gbdt',)), 'max_depth': IntUniformDistribution(high=5, low=4, step=1), 'learning_rate': UniformDistribution(high=0.1, low=0.1), 'random_state': IntUniformDistribution(high=42, low=42, step=1), 'importance_type': CategoricalDistribution(choices=('split',))}, user_attrs={}, system_attrs={}, intermediate_values={}, trial_id=1, state=TrialState.COMPLETE, value=None),\n",
       " FrozenTrial(number=2, values=[0.7026269702276707], datetime_start=datetime.datetime(2022, 11, 11, 19, 10, 15, 864872), datetime_complete=datetime.datetime(2022, 11, 11, 19, 10, 18, 602730), params={'boosting_type': 'gbdt', 'max_depth': 5, 'learning_rate': 0.1, 'random_state': 42, 'importance_type': 'split'}, distributions={'boosting_type': CategoricalDistribution(choices=('gbdt',)), 'max_depth': IntUniformDistribution(high=5, low=4, step=1), 'learning_rate': UniformDistribution(high=0.1, low=0.1), 'random_state': IntUniformDistribution(high=42, low=42, step=1), 'importance_type': CategoricalDistribution(choices=('split',))}, user_attrs={}, system_attrs={}, intermediate_values={}, trial_id=2, state=TrialState.COMPLETE, value=None),\n",
       " FrozenTrial(number=3, values=[0.6962384669978708], datetime_start=datetime.datetime(2022, 11, 11, 19, 10, 15, 865686), datetime_complete=datetime.datetime(2022, 11, 11, 19, 10, 17, 497798), params={'boosting_type': 'gbdt', 'max_depth': 4, 'learning_rate': 0.1, 'random_state': 42, 'importance_type': 'split'}, distributions={'boosting_type': CategoricalDistribution(choices=('gbdt',)), 'max_depth': IntUniformDistribution(high=5, low=4, step=1), 'learning_rate': UniformDistribution(high=0.1, low=0.1), 'random_state': IntUniformDistribution(high=42, low=42, step=1), 'importance_type': CategoricalDistribution(choices=('split',))}, user_attrs={}, system_attrs={}, intermediate_values={}, trial_id=3, state=TrialState.COMPLETE, value=None),\n",
       " FrozenTrial(number=4, values=[0.7026269702276707], datetime_start=datetime.datetime(2022, 11, 11, 19, 10, 15, 868758), datetime_complete=datetime.datetime(2022, 11, 11, 19, 10, 19, 24196), params={'boosting_type': 'gbdt', 'max_depth': 5, 'learning_rate': 0.1, 'random_state': 42, 'importance_type': 'split'}, distributions={'boosting_type': CategoricalDistribution(choices=('gbdt',)), 'max_depth': IntUniformDistribution(high=5, low=4, step=1), 'learning_rate': UniformDistribution(high=0.1, low=0.1), 'random_state': IntUniformDistribution(high=42, low=42, step=1), 'importance_type': CategoricalDistribution(choices=('split',))}, user_attrs={}, system_attrs={}, intermediate_values={}, trial_id=4, state=TrialState.COMPLETE, value=None),\n",
       " FrozenTrial(number=5, values=[0.6962384669978708], datetime_start=datetime.datetime(2022, 11, 11, 19, 10, 15, 870811), datetime_complete=datetime.datetime(2022, 11, 11, 19, 10, 17, 491809), params={'boosting_type': 'gbdt', 'max_depth': 4, 'learning_rate': 0.1, 'random_state': 42, 'importance_type': 'split'}, distributions={'boosting_type': CategoricalDistribution(choices=('gbdt',)), 'max_depth': IntUniformDistribution(high=5, low=4, step=1), 'learning_rate': UniformDistribution(high=0.1, low=0.1), 'random_state': IntUniformDistribution(high=42, low=42, step=1), 'importance_type': CategoricalDistribution(choices=('split',))}, user_attrs={}, system_attrs={}, intermediate_values={}, trial_id=5, state=TrialState.COMPLETE, value=None),\n",
       " FrozenTrial(number=6, values=[0.7026269702276707], datetime_start=datetime.datetime(2022, 11, 11, 19, 10, 15, 872159), datetime_complete=datetime.datetime(2022, 11, 11, 19, 10, 18, 579986), params={'boosting_type': 'gbdt', 'max_depth': 5, 'learning_rate': 0.1, 'random_state': 42, 'importance_type': 'split'}, distributions={'boosting_type': CategoricalDistribution(choices=('gbdt',)), 'max_depth': IntUniformDistribution(high=5, low=4, step=1), 'learning_rate': UniformDistribution(high=0.1, low=0.1), 'random_state': IntUniformDistribution(high=42, low=42, step=1), 'importance_type': CategoricalDistribution(choices=('split',))}, user_attrs={}, system_attrs={}, intermediate_values={}, trial_id=6, state=TrialState.COMPLETE, value=None),\n",
       " FrozenTrial(number=7, values=[0.7026269702276707], datetime_start=datetime.datetime(2022, 11, 11, 19, 10, 15, 873904), datetime_complete=datetime.datetime(2022, 11, 11, 19, 10, 18, 607233), params={'boosting_type': 'gbdt', 'max_depth': 5, 'learning_rate': 0.1, 'random_state': 42, 'importance_type': 'split'}, distributions={'boosting_type': CategoricalDistribution(choices=('gbdt',)), 'max_depth': IntUniformDistribution(high=5, low=4, step=1), 'learning_rate': UniformDistribution(high=0.1, low=0.1), 'random_state': IntUniformDistribution(high=42, low=42, step=1), 'importance_type': CategoricalDistribution(choices=('split',))}, user_attrs={}, system_attrs={}, intermediate_values={}, trial_id=7, state=TrialState.COMPLETE, value=None),\n",
       " FrozenTrial(number=8, values=[0.7026269702276707], datetime_start=datetime.datetime(2022, 11, 11, 19, 10, 17, 481408), datetime_complete=datetime.datetime(2022, 11, 11, 19, 10, 20, 188737), params={'boosting_type': 'gbdt', 'max_depth': 5, 'learning_rate': 0.1, 'random_state': 42, 'importance_type': 'split'}, distributions={'boosting_type': CategoricalDistribution(choices=('gbdt',)), 'max_depth': IntUniformDistribution(high=5, low=4, step=1), 'learning_rate': UniformDistribution(high=0.1, low=0.1), 'random_state': IntUniformDistribution(high=42, low=42, step=1), 'importance_type': CategoricalDistribution(choices=('split',))}, user_attrs={}, system_attrs={}, intermediate_values={}, trial_id=8, state=TrialState.COMPLETE, value=None),\n",
       " FrozenTrial(number=9, values=[0.6962384669978708], datetime_start=datetime.datetime(2022, 11, 11, 19, 10, 17, 495072), datetime_complete=datetime.datetime(2022, 11, 11, 19, 10, 19, 118837), params={'boosting_type': 'gbdt', 'max_depth': 4, 'learning_rate': 0.1, 'random_state': 42, 'importance_type': 'split'}, distributions={'boosting_type': CategoricalDistribution(choices=('gbdt',)), 'max_depth': IntUniformDistribution(high=5, low=4, step=1), 'learning_rate': UniformDistribution(high=0.1, low=0.1), 'random_state': IntUniformDistribution(high=42, low=42, step=1), 'importance_type': CategoricalDistribution(choices=('split',))}, user_attrs={}, system_attrs={}, intermediate_values={}, trial_id=9, state=TrialState.COMPLETE, value=None),\n",
       " FrozenTrial(number=10, values=[0.7026269702276707], datetime_start=datetime.datetime(2022, 11, 11, 19, 10, 17, 502317), datetime_complete=datetime.datetime(2022, 11, 11, 19, 10, 20, 219958), params={'boosting_type': 'gbdt', 'max_depth': 5, 'learning_rate': 0.1, 'random_state': 42, 'importance_type': 'split'}, distributions={'boosting_type': CategoricalDistribution(choices=('gbdt',)), 'max_depth': IntUniformDistribution(high=5, low=4, step=1), 'learning_rate': UniformDistribution(high=0.1, low=0.1), 'random_state': IntUniformDistribution(high=42, low=42, step=1), 'importance_type': CategoricalDistribution(choices=('split',))}, user_attrs={}, system_attrs={}, intermediate_values={}, trial_id=10, state=TrialState.COMPLETE, value=None),\n",
       " FrozenTrial(number=11, values=[0.7026269702276707], datetime_start=datetime.datetime(2022, 11, 11, 19, 10, 18, 587761), datetime_complete=datetime.datetime(2022, 11, 11, 19, 10, 21, 286079), params={'boosting_type': 'gbdt', 'max_depth': 5, 'learning_rate': 0.1, 'random_state': 42, 'importance_type': 'split'}, distributions={'boosting_type': CategoricalDistribution(choices=('gbdt',)), 'max_depth': IntUniformDistribution(high=5, low=4, step=1), 'learning_rate': UniformDistribution(high=0.1, low=0.1), 'random_state': IntUniformDistribution(high=42, low=42, step=1), 'importance_type': CategoricalDistribution(choices=('split',))}, user_attrs={}, system_attrs={}, intermediate_values={}, trial_id=11, state=TrialState.COMPLETE, value=None),\n",
       " FrozenTrial(number=12, values=[0.7026269702276707], datetime_start=datetime.datetime(2022, 11, 11, 19, 10, 18, 609814), datetime_complete=datetime.datetime(2022, 11, 11, 19, 10, 21, 592628), params={'boosting_type': 'gbdt', 'max_depth': 5, 'learning_rate': 0.1, 'random_state': 42, 'importance_type': 'split'}, distributions={'boosting_type': CategoricalDistribution(choices=('gbdt',)), 'max_depth': IntUniformDistribution(high=5, low=4, step=1), 'learning_rate': UniformDistribution(high=0.1, low=0.1), 'random_state': IntUniformDistribution(high=42, low=42, step=1), 'importance_type': CategoricalDistribution(choices=('split',))}, user_attrs={}, system_attrs={}, intermediate_values={}, trial_id=12, state=TrialState.COMPLETE, value=None),\n",
       " FrozenTrial(number=13, values=[0.6962384669978708], datetime_start=datetime.datetime(2022, 11, 11, 19, 10, 18, 611649), datetime_complete=datetime.datetime(2022, 11, 11, 19, 10, 20, 230917), params={'boosting_type': 'gbdt', 'max_depth': 4, 'learning_rate': 0.1, 'random_state': 42, 'importance_type': 'split'}, distributions={'boosting_type': CategoricalDistribution(choices=('gbdt',)), 'max_depth': IntUniformDistribution(high=5, low=4, step=1), 'learning_rate': UniformDistribution(high=0.1, low=0.1), 'random_state': IntUniformDistribution(high=42, low=42, step=1), 'importance_type': CategoricalDistribution(choices=('split',))}, user_attrs={}, system_attrs={}, intermediate_values={}, trial_id=13, state=TrialState.COMPLETE, value=None),\n",
       " FrozenTrial(number=14, values=[0.7026269702276707], datetime_start=datetime.datetime(2022, 11, 11, 19, 10, 18, 624172), datetime_complete=datetime.datetime(2022, 11, 11, 19, 10, 21, 315423), params={'boosting_type': 'gbdt', 'max_depth': 5, 'learning_rate': 0.1, 'random_state': 42, 'importance_type': 'split'}, distributions={'boosting_type': CategoricalDistribution(choices=('gbdt',)), 'max_depth': IntUniformDistribution(high=5, low=4, step=1), 'learning_rate': UniformDistribution(high=0.1, low=0.1), 'random_state': IntUniformDistribution(high=42, low=42, step=1), 'importance_type': CategoricalDistribution(choices=('split',))}, user_attrs={}, system_attrs={}, intermediate_values={}, trial_id=14, state=TrialState.COMPLETE, value=None),\n",
       " FrozenTrial(number=15, values=[0.7026269702276707], datetime_start=datetime.datetime(2022, 11, 11, 19, 10, 19, 26757), datetime_complete=datetime.datetime(2022, 11, 11, 19, 10, 21, 571305), params={'boosting_type': 'gbdt', 'max_depth': 5, 'learning_rate': 0.1, 'random_state': 42, 'importance_type': 'split'}, distributions={'boosting_type': CategoricalDistribution(choices=('gbdt',)), 'max_depth': IntUniformDistribution(high=5, low=4, step=1), 'learning_rate': UniformDistribution(high=0.1, low=0.1), 'random_state': IntUniformDistribution(high=42, low=42, step=1), 'importance_type': CategoricalDistribution(choices=('split',))}, user_attrs={}, system_attrs={}, intermediate_values={}, trial_id=15, state=TrialState.COMPLETE, value=None),\n",
       " FrozenTrial(number=16, values=[0.7026269702276707], datetime_start=datetime.datetime(2022, 11, 11, 19, 10, 19, 121217), datetime_complete=datetime.datetime(2022, 11, 11, 19, 10, 21, 626234), params={'boosting_type': 'gbdt', 'max_depth': 5, 'learning_rate': 0.1, 'random_state': 42, 'importance_type': 'split'}, distributions={'boosting_type': CategoricalDistribution(choices=('gbdt',)), 'max_depth': IntUniformDistribution(high=5, low=4, step=1), 'learning_rate': UniformDistribution(high=0.1, low=0.1), 'random_state': IntUniformDistribution(high=42, low=42, step=1), 'importance_type': CategoricalDistribution(choices=('split',))}, user_attrs={}, system_attrs={}, intermediate_values={}, trial_id=16, state=TrialState.COMPLETE, value=None),\n",
       " FrozenTrial(number=17, values=[0.7026269702276707], datetime_start=datetime.datetime(2022, 11, 11, 19, 10, 20, 191507), datetime_complete=datetime.datetime(2022, 11, 11, 19, 10, 21, 900482), params={'boosting_type': 'gbdt', 'max_depth': 5, 'learning_rate': 0.1, 'random_state': 42, 'importance_type': 'split'}, distributions={'boosting_type': CategoricalDistribution(choices=('gbdt',)), 'max_depth': IntUniformDistribution(high=5, low=4, step=1), 'learning_rate': UniformDistribution(high=0.1, low=0.1), 'random_state': IntUniformDistribution(high=42, low=42, step=1), 'importance_type': CategoricalDistribution(choices=('split',))}, user_attrs={}, system_attrs={}, intermediate_values={}, trial_id=17, state=TrialState.COMPLETE, value=None),\n",
       " FrozenTrial(number=18, values=[0.7026269702276707], datetime_start=datetime.datetime(2022, 11, 11, 19, 10, 20, 222907), datetime_complete=datetime.datetime(2022, 11, 11, 19, 10, 21, 921478), params={'boosting_type': 'gbdt', 'max_depth': 5, 'learning_rate': 0.1, 'random_state': 42, 'importance_type': 'split'}, distributions={'boosting_type': CategoricalDistribution(choices=('gbdt',)), 'max_depth': IntUniformDistribution(high=5, low=4, step=1), 'learning_rate': UniformDistribution(high=0.1, low=0.1), 'random_state': IntUniformDistribution(high=42, low=42, step=1), 'importance_type': CategoricalDistribution(choices=('split',))}, user_attrs={}, system_attrs={}, intermediate_values={}, trial_id=18, state=TrialState.COMPLETE, value=None),\n",
       " FrozenTrial(number=19, values=[0.7026269702276707], datetime_start=datetime.datetime(2022, 11, 11, 19, 10, 20, 233792), datetime_complete=datetime.datetime(2022, 11, 11, 19, 10, 21, 924312), params={'boosting_type': 'gbdt', 'max_depth': 5, 'learning_rate': 0.1, 'random_state': 42, 'importance_type': 'split'}, distributions={'boosting_type': CategoricalDistribution(choices=('gbdt',)), 'max_depth': IntUniformDistribution(high=5, low=4, step=1), 'learning_rate': UniformDistribution(high=0.1, low=0.1), 'random_state': IntUniformDistribution(high=42, low=42, step=1), 'importance_type': CategoricalDistribution(choices=('split',))}, user_attrs={}, system_attrs={}, intermediate_values={}, trial_id=19, state=TrialState.COMPLETE, value=None),\n",
       " FrozenTrial(number=20, values=[0.6962384669978708], datetime_start=datetime.datetime(2022, 11, 11, 19, 10, 22, 653092), datetime_complete=datetime.datetime(2022, 11, 11, 19, 10, 24, 572220), params={'boosting_type': 'gbdt', 'max_depth': 4, 'learning_rate': 0.1, 'random_state': 42, 'importance_type': 'split'}, distributions={'boosting_type': CategoricalDistribution(choices=('gbdt',)), 'max_depth': IntUniformDistribution(high=5, low=4, step=1), 'learning_rate': UniformDistribution(high=0.1, low=0.1), 'random_state': IntUniformDistribution(high=42, low=42, step=1), 'importance_type': CategoricalDistribution(choices=('split',))}, user_attrs={}, system_attrs={}, intermediate_values={}, trial_id=20, state=TrialState.COMPLETE, value=None),\n",
       " FrozenTrial(number=21, values=[0.6962384669978708], datetime_start=datetime.datetime(2022, 11, 11, 19, 10, 22, 654293), datetime_complete=datetime.datetime(2022, 11, 11, 19, 10, 24, 277583), params={'boosting_type': 'gbdt', 'max_depth': 4, 'learning_rate': 0.1, 'random_state': 42, 'importance_type': 'split'}, distributions={'boosting_type': CategoricalDistribution(choices=('gbdt',)), 'max_depth': IntUniformDistribution(high=5, low=4, step=1), 'learning_rate': UniformDistribution(high=0.1, low=0.1), 'random_state': IntUniformDistribution(high=42, low=42, step=1), 'importance_type': CategoricalDistribution(choices=('split',))}, user_attrs={}, system_attrs={}, intermediate_values={}, trial_id=21, state=TrialState.COMPLETE, value=None),\n",
       " FrozenTrial(number=22, values=[0.6962384669978708], datetime_start=datetime.datetime(2022, 11, 11, 19, 10, 22, 658713), datetime_complete=datetime.datetime(2022, 11, 11, 19, 10, 24, 337877), params={'boosting_type': 'gbdt', 'max_depth': 4, 'learning_rate': 0.1, 'random_state': 42, 'importance_type': 'split'}, distributions={'boosting_type': CategoricalDistribution(choices=('gbdt',)), 'max_depth': IntUniformDistribution(high=5, low=4, step=1), 'learning_rate': UniformDistribution(high=0.1, low=0.1), 'random_state': IntUniformDistribution(high=42, low=42, step=1), 'importance_type': CategoricalDistribution(choices=('split',))}, user_attrs={}, system_attrs={}, intermediate_values={}, trial_id=22, state=TrialState.COMPLETE, value=None),\n",
       " FrozenTrial(number=23, values=[0.6962384669978708], datetime_start=datetime.datetime(2022, 11, 11, 19, 10, 22, 661319), datetime_complete=datetime.datetime(2022, 11, 11, 19, 10, 24, 585683), params={'boosting_type': 'gbdt', 'max_depth': 4, 'learning_rate': 0.1, 'random_state': 42, 'importance_type': 'split'}, distributions={'boosting_type': CategoricalDistribution(choices=('gbdt',)), 'max_depth': IntUniformDistribution(high=5, low=4, step=1), 'learning_rate': UniformDistribution(high=0.1, low=0.1), 'random_state': IntUniformDistribution(high=42, low=42, step=1), 'importance_type': CategoricalDistribution(choices=('split',))}, user_attrs={}, system_attrs={}, intermediate_values={}, trial_id=23, state=TrialState.COMPLETE, value=None),\n",
       " FrozenTrial(number=24, values=[0.6962384669978708], datetime_start=datetime.datetime(2022, 11, 11, 19, 10, 22, 663574), datetime_complete=datetime.datetime(2022, 11, 11, 19, 10, 24, 304739), params={'boosting_type': 'gbdt', 'max_depth': 4, 'learning_rate': 0.1, 'random_state': 42, 'importance_type': 'split'}, distributions={'boosting_type': CategoricalDistribution(choices=('gbdt',)), 'max_depth': IntUniformDistribution(high=5, low=4, step=1), 'learning_rate': UniformDistribution(high=0.1, low=0.1), 'random_state': IntUniformDistribution(high=42, low=42, step=1), 'importance_type': CategoricalDistribution(choices=('split',))}, user_attrs={}, system_attrs={}, intermediate_values={}, trial_id=24, state=TrialState.COMPLETE, value=None),\n",
       " FrozenTrial(number=25, values=[0.6962384669978708], datetime_start=datetime.datetime(2022, 11, 11, 19, 10, 22, 667236), datetime_complete=datetime.datetime(2022, 11, 11, 19, 10, 24, 327585), params={'boosting_type': 'gbdt', 'max_depth': 4, 'learning_rate': 0.1, 'random_state': 42, 'importance_type': 'split'}, distributions={'boosting_type': CategoricalDistribution(choices=('gbdt',)), 'max_depth': IntUniformDistribution(high=5, low=4, step=1), 'learning_rate': UniformDistribution(high=0.1, low=0.1), 'random_state': IntUniformDistribution(high=42, low=42, step=1), 'importance_type': CategoricalDistribution(choices=('split',))}, user_attrs={}, system_attrs={}, intermediate_values={}, trial_id=25, state=TrialState.COMPLETE, value=None),\n",
       " FrozenTrial(number=26, values=[0.6962384669978708], datetime_start=datetime.datetime(2022, 11, 11, 19, 10, 22, 668373), datetime_complete=datetime.datetime(2022, 11, 11, 19, 10, 24, 301561), params={'boosting_type': 'gbdt', 'max_depth': 4, 'learning_rate': 0.1, 'random_state': 42, 'importance_type': 'split'}, distributions={'boosting_type': CategoricalDistribution(choices=('gbdt',)), 'max_depth': IntUniformDistribution(high=5, low=4, step=1), 'learning_rate': UniformDistribution(high=0.1, low=0.1), 'random_state': IntUniformDistribution(high=42, low=42, step=1), 'importance_type': CategoricalDistribution(choices=('split',))}, user_attrs={}, system_attrs={}, intermediate_values={}, trial_id=26, state=TrialState.COMPLETE, value=None),\n",
       " FrozenTrial(number=27, values=[0.6962384669978708], datetime_start=datetime.datetime(2022, 11, 11, 19, 10, 22, 672097), datetime_complete=datetime.datetime(2022, 11, 11, 19, 10, 24, 345925), params={'boosting_type': 'gbdt', 'max_depth': 4, 'learning_rate': 0.1, 'random_state': 42, 'importance_type': 'split'}, distributions={'boosting_type': CategoricalDistribution(choices=('gbdt',)), 'max_depth': IntUniformDistribution(high=5, low=4, step=1), 'learning_rate': UniformDistribution(high=0.1, low=0.1), 'random_state': IntUniformDistribution(high=42, low=42, step=1), 'importance_type': CategoricalDistribution(choices=('split',))}, user_attrs={}, system_attrs={}, intermediate_values={}, trial_id=27, state=TrialState.COMPLETE, value=None),\n",
       " FrozenTrial(number=28, values=[0.7026269702276707], datetime_start=datetime.datetime(2022, 11, 11, 19, 10, 24, 282311), datetime_complete=datetime.datetime(2022, 11, 11, 19, 10, 27, 8295), params={'boosting_type': 'gbdt', 'max_depth': 5, 'learning_rate': 0.1, 'random_state': 42, 'importance_type': 'split'}, distributions={'boosting_type': CategoricalDistribution(choices=('gbdt',)), 'max_depth': IntUniformDistribution(high=5, low=4, step=1), 'learning_rate': UniformDistribution(high=0.1, low=0.1), 'random_state': IntUniformDistribution(high=42, low=42, step=1), 'importance_type': CategoricalDistribution(choices=('split',))}, user_attrs={}, system_attrs={}, intermediate_values={}, trial_id=28, state=TrialState.COMPLETE, value=None),\n",
       " FrozenTrial(number=29, values=[0.7026269702276707], datetime_start=datetime.datetime(2022, 11, 11, 19, 10, 24, 310294), datetime_complete=datetime.datetime(2022, 11, 11, 19, 10, 27, 452105), params={'boosting_type': 'gbdt', 'max_depth': 5, 'learning_rate': 0.1, 'random_state': 42, 'importance_type': 'split'}, distributions={'boosting_type': CategoricalDistribution(choices=('gbdt',)), 'max_depth': IntUniformDistribution(high=5, low=4, step=1), 'learning_rate': UniformDistribution(high=0.1, low=0.1), 'random_state': IntUniformDistribution(high=42, low=42, step=1), 'importance_type': CategoricalDistribution(choices=('split',))}, user_attrs={}, system_attrs={}, intermediate_values={}, trial_id=29, state=TrialState.COMPLETE, value=None),\n",
       " FrozenTrial(number=30, values=[0.7026269702276707], datetime_start=datetime.datetime(2022, 11, 11, 19, 10, 24, 311427), datetime_complete=datetime.datetime(2022, 11, 11, 19, 10, 27, 41272), params={'boosting_type': 'gbdt', 'max_depth': 5, 'learning_rate': 0.1, 'random_state': 42, 'importance_type': 'split'}, distributions={'boosting_type': CategoricalDistribution(choices=('gbdt',)), 'max_depth': IntUniformDistribution(high=5, low=4, step=1), 'learning_rate': UniformDistribution(high=0.1, low=0.1), 'random_state': IntUniformDistribution(high=42, low=42, step=1), 'importance_type': CategoricalDistribution(choices=('split',))}, user_attrs={}, system_attrs={}, intermediate_values={}, trial_id=30, state=TrialState.COMPLETE, value=None),\n",
       " FrozenTrial(number=31, values=[0.7026269702276707], datetime_start=datetime.datetime(2022, 11, 11, 19, 10, 24, 333420), datetime_complete=datetime.datetime(2022, 11, 11, 19, 10, 27, 471870), params={'boosting_type': 'gbdt', 'max_depth': 5, 'learning_rate': 0.1, 'random_state': 42, 'importance_type': 'split'}, distributions={'boosting_type': CategoricalDistribution(choices=('gbdt',)), 'max_depth': IntUniformDistribution(high=5, low=4, step=1), 'learning_rate': UniformDistribution(high=0.1, low=0.1), 'random_state': IntUniformDistribution(high=42, low=42, step=1), 'importance_type': CategoricalDistribution(choices=('split',))}, user_attrs={}, system_attrs={}, intermediate_values={}, trial_id=31, state=TrialState.COMPLETE, value=None),\n",
       " FrozenTrial(number=32, values=[0.7026269702276707], datetime_start=datetime.datetime(2022, 11, 11, 19, 10, 24, 343682), datetime_complete=datetime.datetime(2022, 11, 11, 19, 10, 27, 93875), params={'boosting_type': 'gbdt', 'max_depth': 5, 'learning_rate': 0.1, 'random_state': 42, 'importance_type': 'split'}, distributions={'boosting_type': CategoricalDistribution(choices=('gbdt',)), 'max_depth': IntUniformDistribution(high=5, low=4, step=1), 'learning_rate': UniformDistribution(high=0.1, low=0.1), 'random_state': IntUniformDistribution(high=42, low=42, step=1), 'importance_type': CategoricalDistribution(choices=('split',))}, user_attrs={}, system_attrs={}, intermediate_values={}, trial_id=32, state=TrialState.COMPLETE, value=None),\n",
       " FrozenTrial(number=33, values=[0.7026269702276707], datetime_start=datetime.datetime(2022, 11, 11, 19, 10, 24, 350179), datetime_complete=datetime.datetime(2022, 11, 11, 19, 10, 27, 78652), params={'boosting_type': 'gbdt', 'max_depth': 5, 'learning_rate': 0.1, 'random_state': 42, 'importance_type': 'split'}, distributions={'boosting_type': CategoricalDistribution(choices=('gbdt',)), 'max_depth': IntUniformDistribution(high=5, low=4, step=1), 'learning_rate': UniformDistribution(high=0.1, low=0.1), 'random_state': IntUniformDistribution(high=42, low=42, step=1), 'importance_type': CategoricalDistribution(choices=('split',))}, user_attrs={}, system_attrs={}, intermediate_values={}, trial_id=33, state=TrialState.COMPLETE, value=None),\n",
       " FrozenTrial(number=34, values=[0.7026269702276707], datetime_start=datetime.datetime(2022, 11, 11, 19, 10, 24, 576076), datetime_complete=datetime.datetime(2022, 11, 11, 19, 10, 27, 315284), params={'boosting_type': 'gbdt', 'max_depth': 5, 'learning_rate': 0.1, 'random_state': 42, 'importance_type': 'split'}, distributions={'boosting_type': CategoricalDistribution(choices=('gbdt',)), 'max_depth': IntUniformDistribution(high=5, low=4, step=1), 'learning_rate': UniformDistribution(high=0.1, low=0.1), 'random_state': IntUniformDistribution(high=42, low=42, step=1), 'importance_type': CategoricalDistribution(choices=('split',))}, user_attrs={}, system_attrs={}, intermediate_values={}, trial_id=34, state=TrialState.COMPLETE, value=None),\n",
       " FrozenTrial(number=35, values=[0.7026269702276707], datetime_start=datetime.datetime(2022, 11, 11, 19, 10, 24, 589195), datetime_complete=datetime.datetime(2022, 11, 11, 19, 10, 27, 330948), params={'boosting_type': 'gbdt', 'max_depth': 5, 'learning_rate': 0.1, 'random_state': 42, 'importance_type': 'split'}, distributions={'boosting_type': CategoricalDistribution(choices=('gbdt',)), 'max_depth': IntUniformDistribution(high=5, low=4, step=1), 'learning_rate': UniformDistribution(high=0.1, low=0.1), 'random_state': IntUniformDistribution(high=42, low=42, step=1), 'importance_type': CategoricalDistribution(choices=('split',))}, user_attrs={}, system_attrs={}, intermediate_values={}, trial_id=35, state=TrialState.COMPLETE, value=None),\n",
       " FrozenTrial(number=36, values=[0.7026269702276707], datetime_start=datetime.datetime(2022, 11, 11, 19, 10, 27, 10775), datetime_complete=datetime.datetime(2022, 11, 11, 19, 10, 28, 135375), params={'boosting_type': 'gbdt', 'max_depth': 5, 'learning_rate': 0.1, 'random_state': 42, 'importance_type': 'split'}, distributions={'boosting_type': CategoricalDistribution(choices=('gbdt',)), 'max_depth': IntUniformDistribution(high=5, low=4, step=1), 'learning_rate': UniformDistribution(high=0.1, low=0.1), 'random_state': IntUniformDistribution(high=42, low=42, step=1), 'importance_type': CategoricalDistribution(choices=('split',))}, user_attrs={}, system_attrs={}, intermediate_values={}, trial_id=36, state=TrialState.COMPLETE, value=None),\n",
       " FrozenTrial(number=37, values=[0.7026269702276707], datetime_start=datetime.datetime(2022, 11, 11, 19, 10, 27, 43813), datetime_complete=datetime.datetime(2022, 11, 11, 19, 10, 28, 154345), params={'boosting_type': 'gbdt', 'max_depth': 5, 'learning_rate': 0.1, 'random_state': 42, 'importance_type': 'split'}, distributions={'boosting_type': CategoricalDistribution(choices=('gbdt',)), 'max_depth': IntUniformDistribution(high=5, low=4, step=1), 'learning_rate': UniformDistribution(high=0.1, low=0.1), 'random_state': IntUniformDistribution(high=42, low=42, step=1), 'importance_type': CategoricalDistribution(choices=('split',))}, user_attrs={}, system_attrs={}, intermediate_values={}, trial_id=37, state=TrialState.COMPLETE, value=None),\n",
       " FrozenTrial(number=38, values=[0.7026269702276707], datetime_start=datetime.datetime(2022, 11, 11, 19, 10, 27, 84458), datetime_complete=datetime.datetime(2022, 11, 11, 19, 10, 28, 172299), params={'boosting_type': 'gbdt', 'max_depth': 5, 'learning_rate': 0.1, 'random_state': 42, 'importance_type': 'split'}, distributions={'boosting_type': CategoricalDistribution(choices=('gbdt',)), 'max_depth': IntUniformDistribution(high=5, low=4, step=1), 'learning_rate': UniformDistribution(high=0.1, low=0.1), 'random_state': IntUniformDistribution(high=42, low=42, step=1), 'importance_type': CategoricalDistribution(choices=('split',))}, user_attrs={}, system_attrs={}, intermediate_values={}, trial_id=38, state=TrialState.COMPLETE, value=None),\n",
       " FrozenTrial(number=39, values=[0.7026269702276707], datetime_start=datetime.datetime(2022, 11, 11, 19, 10, 27, 97523), datetime_complete=datetime.datetime(2022, 11, 11, 19, 10, 28, 174874), params={'boosting_type': 'gbdt', 'max_depth': 5, 'learning_rate': 0.1, 'random_state': 42, 'importance_type': 'split'}, distributions={'boosting_type': CategoricalDistribution(choices=('gbdt',)), 'max_depth': IntUniformDistribution(high=5, low=4, step=1), 'learning_rate': UniformDistribution(high=0.1, low=0.1), 'random_state': IntUniformDistribution(high=42, low=42, step=1), 'importance_type': CategoricalDistribution(choices=('split',))}, user_attrs={}, system_attrs={}, intermediate_values={}, trial_id=39, state=TrialState.COMPLETE, value=None)]"
      ]
     },
     "execution_count": 19,
     "metadata": {},
     "output_type": "execute_result"
    }
   ],
   "source": [
    "OptunaObj = obj.get_optimized_object()\n",
    "OptunaObj.trials"
   ]
  }
 ],
 "metadata": {
  "kernelspec": {
   "display_name": "Python 3.10.4 ('.venv': poetry)",
   "language": "python",
   "name": "python3"
  },
  "language_info": {
   "codemirror_mode": {
    "name": "ipython",
    "version": 3
   },
   "file_extension": ".py",
   "mimetype": "text/x-python",
   "name": "python",
   "nbconvert_exporter": "python",
   "pygments_lexer": "ipython3",
   "version": "3.10.6"
  },
  "orig_nbformat": 4,
  "vscode": {
   "interpreter": {
    "hash": "7ced68e88e9060e5bcf2eaa5b2d4f8fc97e4d610a52d347137abf879072ffb6d"
   }
  }
 },
 "nbformat": 4,
 "nbformat_minor": 2
}
