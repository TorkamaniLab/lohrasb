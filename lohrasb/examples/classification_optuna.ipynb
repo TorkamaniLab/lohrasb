{
 "cells": [
  {
   "cell_type": "code",
   "execution_count": 1,
   "metadata": {},
   "outputs": [
    {
     "name": "stdout",
     "output_type": "stream",
     "text": [
      "2023-05-02 21:18:54,890 :: dev :: Connected to Ray cluster!\n",
      "2023-05-02 21:18:54,890 :: dev :: Connected to Ray cluster!\n",
      "2023-05-02 21:18:56,551 :: matplotlib :: matplotlib data path: /Users/hjavedani/Documents/Lohrasb/.venv/lib/python3.10/site-packages/matplotlib/mpl-data\n",
      "2023-05-02 21:18:56,561 :: matplotlib :: CONFIGDIR=/Users/hjavedani/.matplotlib\n",
      "2023-05-02 21:18:56,567 :: matplotlib :: interactive is False\n",
      "2023-05-02 21:18:56,568 :: matplotlib :: platform is darwin\n",
      "2023-05-02 21:18:57,480 :: matplotlib :: CACHEDIR=/Users/hjavedani/.matplotlib\n",
      "2023-05-02 21:18:57,483 :: matplotlib.font_manager :: Using fontManager instance from /Users/hjavedani/.matplotlib/fontlist-v330.json\n"
     ]
    }
   ],
   "source": [
    "from lohrasb.best_estimator import BaseModel\n",
    "from optuna.pruners import HyperbandPruner\n",
    "from optuna.samplers._tpe.sampler import TPESampler\n",
    "from sklearn.model_selection import train_test_split\n",
    "import pandas as pd\n",
    "import numpy as np\n",
    "import optuna\n",
    "from sklearn.pipeline import Pipeline\n",
    "from feature_engine.imputation import (\n",
    "    CategoricalImputer,\n",
    "    MeanMedianImputer\n",
    "    )\n",
    "from category_encoders import OrdinalEncoder\n",
    "from sklearn.metrics import (\n",
    "    classification_report,\n",
    "    confusion_matrix,\n",
    "    f1_score)\n",
    "from lightgbm import *\n",
    "from lohrasb.utils.metrics import f1_plus_tn\n"
   ]
  },
  {
   "cell_type": "markdown",
   "metadata": {},
   "source": [
    "#### Example 1 : Use Adult Data Set (a classification problem)\n",
    "  \n",
    "https://archive.ics.uci.edu/ml/datasets/Adult"
   ]
  },
  {
   "cell_type": "markdown",
   "metadata": {},
   "source": [
    "#### Part 1: Use BestModel in sklearn pipeline\n"
   ]
  },
  {
   "cell_type": "code",
   "execution_count": 2,
   "metadata": {},
   "outputs": [
    {
     "data": {
      "text/html": [
       "<div>\n",
       "<style scoped>\n",
       "    .dataframe tbody tr th:only-of-type {\n",
       "        vertical-align: middle;\n",
       "    }\n",
       "\n",
       "    .dataframe tbody tr th {\n",
       "        vertical-align: top;\n",
       "    }\n",
       "\n",
       "    .dataframe thead th {\n",
       "        text-align: right;\n",
       "    }\n",
       "</style>\n",
       "<table border=\"1\" class=\"dataframe\">\n",
       "  <thead>\n",
       "    <tr style=\"text-align: right;\">\n",
       "      <th></th>\n",
       "      <th>age</th>\n",
       "      <th>workclass</th>\n",
       "      <th>fnlwgt</th>\n",
       "      <th>education</th>\n",
       "      <th>education-num</th>\n",
       "      <th>marital-status</th>\n",
       "      <th>occupation</th>\n",
       "      <th>relationship</th>\n",
       "      <th>race</th>\n",
       "      <th>sex</th>\n",
       "      <th>capital-gain</th>\n",
       "      <th>capital-loss</th>\n",
       "      <th>hours-per-week</th>\n",
       "      <th>native-country</th>\n",
       "      <th>label</th>\n",
       "    </tr>\n",
       "  </thead>\n",
       "  <tbody>\n",
       "    <tr>\n",
       "      <th>0</th>\n",
       "      <td>39</td>\n",
       "      <td>State-gov</td>\n",
       "      <td>77516</td>\n",
       "      <td>Bachelors</td>\n",
       "      <td>13</td>\n",
       "      <td>Never-married</td>\n",
       "      <td>Adm-clerical</td>\n",
       "      <td>Not-in-family</td>\n",
       "      <td>White</td>\n",
       "      <td>Male</td>\n",
       "      <td>2174</td>\n",
       "      <td>0</td>\n",
       "      <td>40</td>\n",
       "      <td>United-States</td>\n",
       "      <td>&lt;=50K</td>\n",
       "    </tr>\n",
       "    <tr>\n",
       "      <th>1</th>\n",
       "      <td>50</td>\n",
       "      <td>Self-emp-not-inc</td>\n",
       "      <td>83311</td>\n",
       "      <td>Bachelors</td>\n",
       "      <td>13</td>\n",
       "      <td>Married-civ-spouse</td>\n",
       "      <td>Exec-managerial</td>\n",
       "      <td>Husband</td>\n",
       "      <td>White</td>\n",
       "      <td>Male</td>\n",
       "      <td>0</td>\n",
       "      <td>0</td>\n",
       "      <td>13</td>\n",
       "      <td>United-States</td>\n",
       "      <td>&lt;=50K</td>\n",
       "    </tr>\n",
       "    <tr>\n",
       "      <th>2</th>\n",
       "      <td>38</td>\n",
       "      <td>Private</td>\n",
       "      <td>215646</td>\n",
       "      <td>HS-grad</td>\n",
       "      <td>9</td>\n",
       "      <td>Divorced</td>\n",
       "      <td>Handlers-cleaners</td>\n",
       "      <td>Not-in-family</td>\n",
       "      <td>White</td>\n",
       "      <td>Male</td>\n",
       "      <td>0</td>\n",
       "      <td>0</td>\n",
       "      <td>40</td>\n",
       "      <td>United-States</td>\n",
       "      <td>&lt;=50K</td>\n",
       "    </tr>\n",
       "    <tr>\n",
       "      <th>3</th>\n",
       "      <td>53</td>\n",
       "      <td>Private</td>\n",
       "      <td>234721</td>\n",
       "      <td>11th</td>\n",
       "      <td>7</td>\n",
       "      <td>Married-civ-spouse</td>\n",
       "      <td>Handlers-cleaners</td>\n",
       "      <td>Husband</td>\n",
       "      <td>Black</td>\n",
       "      <td>Male</td>\n",
       "      <td>0</td>\n",
       "      <td>0</td>\n",
       "      <td>40</td>\n",
       "      <td>United-States</td>\n",
       "      <td>&lt;=50K</td>\n",
       "    </tr>\n",
       "    <tr>\n",
       "      <th>4</th>\n",
       "      <td>28</td>\n",
       "      <td>Private</td>\n",
       "      <td>338409</td>\n",
       "      <td>Bachelors</td>\n",
       "      <td>13</td>\n",
       "      <td>Married-civ-spouse</td>\n",
       "      <td>Prof-specialty</td>\n",
       "      <td>Wife</td>\n",
       "      <td>Black</td>\n",
       "      <td>Female</td>\n",
       "      <td>0</td>\n",
       "      <td>0</td>\n",
       "      <td>40</td>\n",
       "      <td>Cuba</td>\n",
       "      <td>&lt;=50K</td>\n",
       "    </tr>\n",
       "  </tbody>\n",
       "</table>\n",
       "</div>"
      ],
      "text/plain": [
       "   age          workclass  fnlwgt   education  education-num  \\\n",
       "0   39          State-gov   77516   Bachelors             13   \n",
       "1   50   Self-emp-not-inc   83311   Bachelors             13   \n",
       "2   38            Private  215646     HS-grad              9   \n",
       "3   53            Private  234721        11th              7   \n",
       "4   28            Private  338409   Bachelors             13   \n",
       "\n",
       "        marital-status          occupation    relationship    race      sex  \\\n",
       "0        Never-married        Adm-clerical   Not-in-family   White     Male   \n",
       "1   Married-civ-spouse     Exec-managerial         Husband   White     Male   \n",
       "2             Divorced   Handlers-cleaners   Not-in-family   White     Male   \n",
       "3   Married-civ-spouse   Handlers-cleaners         Husband   Black     Male   \n",
       "4   Married-civ-spouse      Prof-specialty            Wife   Black   Female   \n",
       "\n",
       "   capital-gain  capital-loss  hours-per-week  native-country   label  \n",
       "0          2174             0              40   United-States   <=50K  \n",
       "1             0             0              13   United-States   <=50K  \n",
       "2             0             0              40   United-States   <=50K  \n",
       "3             0             0              40   United-States   <=50K  \n",
       "4             0             0              40            Cuba   <=50K  "
      ]
     },
     "execution_count": 2,
     "metadata": {},
     "output_type": "execute_result"
    }
   ],
   "source": [
    "urldata= \"https://archive.ics.uci.edu/ml/machine-learning-databases/adult/adult.data\"\n",
    "# column names\n",
    "col_names=[\"age\", \"workclass\", \"fnlwgt\" , \"education\" ,\"education-num\",\n",
    "\"marital-status\",\"occupation\",\"relationship\",\"race\",\"sex\",\"capital-gain\",\"capital-loss\",\"hours-per-week\",\n",
    "\"native-country\",\"label\"\n",
    "]\n",
    "# read data\n",
    "data = pd.read_csv(urldata,header=None,names=col_names,sep=',')\n",
    "data.head()"
   ]
  },
  {
   "cell_type": "markdown",
   "metadata": {},
   "source": [
    "#### Define labels\n"
   ]
  },
  {
   "cell_type": "code",
   "execution_count": 3,
   "metadata": {},
   "outputs": [],
   "source": [
    "data.loc[data['label']=='<=50K','label']=0\n",
    "data.loc[data['label']==' <=50K','label']=0\n",
    "\n",
    "data.loc[data['label']=='>50K','label']=1\n",
    "data.loc[data['label']==' >50K','label']=1\n",
    "\n",
    "data['label']=data['label'].astype(int)"
   ]
  },
  {
   "cell_type": "markdown",
   "metadata": {},
   "source": [
    "#### Train test split"
   ]
  },
  {
   "cell_type": "code",
   "execution_count": 4,
   "metadata": {},
   "outputs": [],
   "source": [
    "X = data.loc[:, data.columns != \"label\"]\n",
    "y = data.loc[:, data.columns == \"label\"]\n",
    "y = y.values.ravel()\n",
    "\n",
    "\n",
    "X_train, X_test, y_train, y_test =train_test_split(X, y, test_size=0.33, random_state=42)\n",
    "\n",
    "# for sample_weights\n",
    "weights = np.ones(len(y_train))\n"
   ]
  },
  {
   "cell_type": "markdown",
   "metadata": {},
   "source": [
    "#### Find feature types for later use"
   ]
  },
  {
   "cell_type": "code",
   "execution_count": 5,
   "metadata": {},
   "outputs": [],
   "source": [
    "int_cols =  X_train.select_dtypes(include=['int']).columns.tolist()\n",
    "float_cols =  X_train.select_dtypes(include=['float']).columns.tolist()\n",
    "cat_cols =  X_train.select_dtypes(include=['object']).columns.tolist()\n"
   ]
  },
  {
   "cell_type": "markdown",
   "metadata": {},
   "source": [
    "#### Define model and set it argumens "
   ]
  },
  {
   "cell_type": "code",
   "execution_count": 6,
   "metadata": {},
   "outputs": [],
   "source": [
    "estimator = LGBMClassifier()\n",
    "estimator_params = {\n",
    "        \"boosting_type\":[\"gbdt\",\"rf\"],\n",
    "        \"boosting_type\":[\"gbdt\"],\n",
    "        \"max_depth\": [4,5],\n",
    "        \"learning_rate\":[0.1, 0.5],\n",
    "        \"random_state\":[42],\n",
    "        \"learning_rate\":[0.1],\n",
    "        \"importance_type\":[\"split\"]\n",
    "\n",
    "    }\n"
   ]
  },
  {
   "cell_type": "code",
   "execution_count": 7,
   "metadata": {},
   "outputs": [
    {
     "name": "stderr",
     "output_type": "stream",
     "text": [
      "\u001b[32m[I 2023-05-02 21:19:01,176]\u001b[0m A new study created in memory with name: example of optuna optimizer\u001b[0m\n"
     ]
    }
   ],
   "source": [
    "obj = BaseModel().optimize_by_optuna(\n",
    "            estimator=estimator,\n",
    "            estimator_params=estimator_params,\n",
    "            # f1_plus_tn is a custom metric \n",
    "            measure_of_accuracy=\"f1_plus_tn(y_true, y_pred)\",\n",
    "            fit_params = {\n",
    "                'sample_weight' : weights\n",
    "            },\n",
    "            with_stratified=True,\n",
    "            test_size=.3,\n",
    "            verbose=3,\n",
    "            n_jobs=-1,\n",
    "            random_state=42,\n",
    "            # optuna params\n",
    "            # optuna study init params\n",
    "            study=optuna.create_study(\n",
    "                storage=None,\n",
    "                sampler=TPESampler(),\n",
    "                pruner=HyperbandPruner(),\n",
    "                study_name=\"example of optuna optimizer\",\n",
    "                direction=\"maximize\",\n",
    "                load_if_exists=False,\n",
    "                directions=None,\n",
    "            ),\n",
    "            # optuna optimization params\n",
    "            study_optimize_objective=None,\n",
    "            study_optimize_objective_n_trials=20,\n",
    "            study_optimize_objective_timeout=600,\n",
    "            study_optimize_n_jobs=-1,\n",
    "            study_optimize_catch=(),\n",
    "            study_optimize_callbacks=None,\n",
    "            study_optimize_gc_after_trial=False,\n",
    "            study_optimize_show_progress_bar=False,\n",
    "        )"
   ]
  },
  {
   "cell_type": "markdown",
   "metadata": {},
   "source": [
    "#### Build sklearn pipeline"
   ]
  },
  {
   "cell_type": "code",
   "execution_count": 8,
   "metadata": {},
   "outputs": [],
   "source": [
    "\n",
    "\n",
    "pipeline =Pipeline([\n",
    "            # int missing values imputers\n",
    "            ('intimputer', MeanMedianImputer(\n",
    "                imputation_method='median', variables=int_cols)),\n",
    "            # category missing values imputers\n",
    "            ('catimputer', CategoricalImputer(variables=cat_cols)),\n",
    "            #\n",
    "            ('catencoder', OrdinalEncoder()),\n",
    "            # classification model\n",
    "            ('obj', obj),\n",
    "\n",
    "\n",
    " ])\n",
    " \n",
    "\n"
   ]
  },
  {
   "cell_type": "markdown",
   "metadata": {},
   "source": [
    "#### Run Pipeline"
   ]
  },
  {
   "cell_type": "code",
   "execution_count": 9,
   "metadata": {},
   "outputs": [
    {
     "name": "stderr",
     "output_type": "stream",
     "text": [
      "/Users/hjavedani/Documents/Lohrasb/.venv/lib/python3.10/site-packages/optuna/study/study.py:393: FutureWarning: `n_jobs` argument has been deprecated in v2.7.0. This feature will be removed in v4.0.0. See https://github.com/optuna/optuna/releases/tag/v2.7.0.\n",
      "  warnings.warn(\n",
      "\u001b[32m[I 2023-05-02 21:19:03,311]\u001b[0m Trial 5 finished with value: 15733.708156329652 and parameters: {'boosting_type': 'gbdt', 'max_depth': 4, 'learning_rate': 0.1, 'random_state': 42, 'importance_type': 'split'}. Best is trial 5 with value: 15733.708156329652.\u001b[0m\n",
      "\u001b[32m[I 2023-05-02 21:19:03,331]\u001b[0m Trial 4 finished with value: 15733.708156329652 and parameters: {'boosting_type': 'gbdt', 'max_depth': 4, 'learning_rate': 0.1, 'random_state': 42, 'importance_type': 'split'}. Best is trial 5 with value: 15733.708156329652.\u001b[0m\n",
      "\u001b[32m[I 2023-05-02 21:19:03,344]\u001b[0m Trial 3 finished with value: 15733.708156329652 and parameters: {'boosting_type': 'gbdt', 'max_depth': 4, 'learning_rate': 0.1, 'random_state': 42, 'importance_type': 'split'}. Best is trial 5 with value: 15733.708156329652.\u001b[0m\n",
      "\u001b[32m[I 2023-05-02 21:19:03,707]\u001b[0m Trial 6 finished with value: 15733.708156329652 and parameters: {'boosting_type': 'gbdt', 'max_depth': 4, 'learning_rate': 0.1, 'random_state': 42, 'importance_type': 'split'}. Best is trial 5 with value: 15733.708156329652.\u001b[0m\n",
      "\u001b[32m[I 2023-05-02 21:19:03,723]\u001b[0m Trial 2 finished with value: 15733.708156329652 and parameters: {'boosting_type': 'gbdt', 'max_depth': 4, 'learning_rate': 0.1, 'random_state': 42, 'importance_type': 'split'}. Best is trial 5 with value: 15733.708156329652.\u001b[0m\n",
      "\u001b[32m[I 2023-05-02 21:19:04,716]\u001b[0m Trial 0 finished with value: 15748.730354713822 and parameters: {'boosting_type': 'gbdt', 'max_depth': 5, 'learning_rate': 0.1, 'random_state': 42, 'importance_type': 'split'}. Best is trial 0 with value: 15748.730354713822.\u001b[0m\n",
      "\u001b[32m[I 2023-05-02 21:19:04,743]\u001b[0m Trial 1 finished with value: 15748.730354713822 and parameters: {'boosting_type': 'gbdt', 'max_depth': 5, 'learning_rate': 0.1, 'random_state': 42, 'importance_type': 'split'}. Best is trial 0 with value: 15748.730354713822.\u001b[0m\n",
      "\u001b[32m[I 2023-05-02 21:19:05,225]\u001b[0m Trial 7 finished with value: 15748.730354713822 and parameters: {'boosting_type': 'gbdt', 'max_depth': 5, 'learning_rate': 0.1, 'random_state': 42, 'importance_type': 'split'}. Best is trial 0 with value: 15748.730354713822.\u001b[0m\n",
      "\u001b[32m[I 2023-05-02 21:19:05,327]\u001b[0m Trial 8 finished with value: 15733.708156329652 and parameters: {'boosting_type': 'gbdt', 'max_depth': 4, 'learning_rate': 0.1, 'random_state': 42, 'importance_type': 'split'}. Best is trial 0 with value: 15748.730354713822.\u001b[0m\n",
      "\u001b[32m[I 2023-05-02 21:19:05,901]\u001b[0m Trial 11 finished with value: 15733.708156329652 and parameters: {'boosting_type': 'gbdt', 'max_depth': 4, 'learning_rate': 0.1, 'random_state': 42, 'importance_type': 'split'}. Best is trial 0 with value: 15748.730354713822.\u001b[0m\n",
      "\u001b[32m[I 2023-05-02 21:19:06,539]\u001b[0m Trial 13 finished with value: 15733.708156329652 and parameters: {'boosting_type': 'gbdt', 'max_depth': 4, 'learning_rate': 0.1, 'random_state': 42, 'importance_type': 'split'}. Best is trial 0 with value: 15748.730354713822.\u001b[0m\n",
      "\u001b[32m[I 2023-05-02 21:19:06,581]\u001b[0m Trial 9 finished with value: 15748.730354713822 and parameters: {'boosting_type': 'gbdt', 'max_depth': 5, 'learning_rate': 0.1, 'random_state': 42, 'importance_type': 'split'}. Best is trial 0 with value: 15748.730354713822.\u001b[0m\n",
      "\u001b[32m[I 2023-05-02 21:19:06,598]\u001b[0m Trial 14 finished with value: 15733.708156329652 and parameters: {'boosting_type': 'gbdt', 'max_depth': 4, 'learning_rate': 0.1, 'random_state': 42, 'importance_type': 'split'}. Best is trial 0 with value: 15748.730354713822.\u001b[0m\n",
      "\u001b[32m[I 2023-05-02 21:19:07,002]\u001b[0m Trial 15 finished with value: 15733.708156329652 and parameters: {'boosting_type': 'gbdt', 'max_depth': 4, 'learning_rate': 0.1, 'random_state': 42, 'importance_type': 'split'}. Best is trial 0 with value: 15748.730354713822.\u001b[0m\n",
      "\u001b[32m[I 2023-05-02 21:19:07,023]\u001b[0m Trial 10 finished with value: 15748.730354713822 and parameters: {'boosting_type': 'gbdt', 'max_depth': 5, 'learning_rate': 0.1, 'random_state': 42, 'importance_type': 'split'}. Best is trial 0 with value: 15748.730354713822.\u001b[0m\n",
      "\u001b[32m[I 2023-05-02 21:19:07,068]\u001b[0m Trial 16 finished with value: 15733.708156329652 and parameters: {'boosting_type': 'gbdt', 'max_depth': 4, 'learning_rate': 0.1, 'random_state': 42, 'importance_type': 'split'}. Best is trial 0 with value: 15748.730354713822.\u001b[0m\n",
      "\u001b[32m[I 2023-05-02 21:19:07,165]\u001b[0m Trial 12 finished with value: 15748.730354713822 and parameters: {'boosting_type': 'gbdt', 'max_depth': 5, 'learning_rate': 0.1, 'random_state': 42, 'importance_type': 'split'}. Best is trial 0 with value: 15748.730354713822.\u001b[0m\n",
      "\u001b[32m[I 2023-05-02 21:19:07,515]\u001b[0m Trial 17 finished with value: 15748.730354713822 and parameters: {'boosting_type': 'gbdt', 'max_depth': 5, 'learning_rate': 0.1, 'random_state': 42, 'importance_type': 'split'}. Best is trial 0 with value: 15748.730354713822.\u001b[0m\n",
      "\u001b[32m[I 2023-05-02 21:19:07,633]\u001b[0m Trial 19 finished with value: 15748.730354713822 and parameters: {'boosting_type': 'gbdt', 'max_depth': 5, 'learning_rate': 0.1, 'random_state': 42, 'importance_type': 'split'}. Best is trial 0 with value: 15748.730354713822.\u001b[0m\n",
      "\u001b[32m[I 2023-05-02 21:19:07,712]\u001b[0m Trial 18 finished with value: 15748.730354713822 and parameters: {'boosting_type': 'gbdt', 'max_depth': 5, 'learning_rate': 0.1, 'random_state': 42, 'importance_type': 'split'}. Best is trial 0 with value: 15748.730354713822.\u001b[0m\n"
     ]
    }
   ],
   "source": [
    "pipeline.fit(X_train,y_train)\n",
    "y_preds = pipeline.predict(X_test)\n",
    "pred_labels = np.rint(y_preds)\n",
    "\n",
    "\n"
   ]
  },
  {
   "cell_type": "markdown",
   "metadata": {},
   "source": [
    "#### Check performance of the pipeline"
   ]
  },
  {
   "cell_type": "code",
   "execution_count": 10,
   "metadata": {},
   "outputs": [
    {
     "name": "stdout",
     "output_type": "stream",
     "text": [
      "F1 score : \n",
      "0.709161624891962\n",
      "Classification report : \n",
      "              precision    recall  f1-score   support\n",
      "\n",
      "           0       0.90      0.95      0.92      8196\n",
      "           1       0.79      0.64      0.71      2550\n",
      "\n",
      "    accuracy                           0.87     10746\n",
      "   macro avg       0.84      0.80      0.81     10746\n",
      "weighted avg       0.87      0.87      0.87     10746\n",
      "\n",
      "Confusion matrix : \n",
      "[[7759  437]\n",
      " [ 909 1641]]\n"
     ]
    }
   ],
   "source": [
    "print('F1 score : ')\n",
    "print(f1_score(y_test,pred_labels))\n",
    "print('Classification report : ')\n",
    "print(classification_report(y_test,pred_labels))\n",
    "print('Confusion matrix : ')\n",
    "print(confusion_matrix(y_test,pred_labels))\n"
   ]
  },
  {
   "cell_type": "markdown",
   "metadata": {},
   "source": [
    "#### Some estimators have predict_proba method as well"
   ]
  },
  {
   "cell_type": "code",
   "execution_count": 11,
   "metadata": {},
   "outputs": [
    {
     "name": "stdout",
     "output_type": "stream",
     "text": [
      "[[0.9846395  0.0153605 ]\n",
      " [0.58312603 0.41687397]\n",
      " [0.36421549 0.63578451]\n",
      " ...\n",
      " [0.71121761 0.28878239]\n",
      " [0.67598324 0.32401676]\n",
      " [0.9773811  0.0226189 ]]\n"
     ]
    }
   ],
   "source": [
    "y_preds = pipeline.predict_proba(X_test)\n",
    "print(y_preds)"
   ]
  },
  {
   "cell_type": "markdown",
   "metadata": {},
   "source": [
    "#### Part 2:  Use BestModel as a standalone estimator "
   ]
  },
  {
   "cell_type": "code",
   "execution_count": 12,
   "metadata": {},
   "outputs": [],
   "source": [
    "X_train, X_test, y_train, y_test =train_test_split(X, y, test_size=0.33, random_state=42)\n"
   ]
  },
  {
   "cell_type": "markdown",
   "metadata": {},
   "source": [
    "#### Transform features to make them ready for model input"
   ]
  },
  {
   "cell_type": "code",
   "execution_count": 13,
   "metadata": {},
   "outputs": [],
   "source": [
    "transform_pipeline =Pipeline([\n",
    "            # int missing values imputers\n",
    "            ('intimputer', MeanMedianImputer(\n",
    "                imputation_method='median', variables=int_cols)),\n",
    "            # category missing values imputers\n",
    "            ('catimputer', CategoricalImputer(variables=cat_cols)),\n",
    "            #\n",
    "            ('catencoder', OrdinalEncoder()),\n",
    "            # classification model\n",
    "\n",
    " ])"
   ]
  },
  {
   "cell_type": "markdown",
   "metadata": {},
   "source": [
    "#### Transform X_train and X_test"
   ]
  },
  {
   "cell_type": "code",
   "execution_count": 14,
   "metadata": {},
   "outputs": [],
   "source": [
    "X_train=transform_pipeline.fit_transform(X_train,y_train)\n",
    "X_test=transform_pipeline.transform(X_test)\n"
   ]
  },
  {
   "cell_type": "markdown",
   "metadata": {},
   "source": [
    "#### Train model and predict"
   ]
  },
  {
   "cell_type": "code",
   "execution_count": 15,
   "metadata": {},
   "outputs": [
    {
     "name": "stderr",
     "output_type": "stream",
     "text": [
      "/Users/hjavedani/Documents/Lohrasb/.venv/lib/python3.10/site-packages/optuna/study/study.py:393: FutureWarning: `n_jobs` argument has been deprecated in v2.7.0. This feature will be removed in v4.0.0. See https://github.com/optuna/optuna/releases/tag/v2.7.0.\n",
      "  warnings.warn(\n",
      "\u001b[32m[I 2023-05-02 21:19:12,150]\u001b[0m Trial 22 finished with value: 15748.730354713822 and parameters: {'boosting_type': 'gbdt', 'max_depth': 5, 'learning_rate': 0.1, 'random_state': 42, 'importance_type': 'split'}. Best is trial 0 with value: 15748.730354713822.\u001b[0m\n",
      "\u001b[32m[I 2023-05-02 21:19:12,233]\u001b[0m Trial 26 finished with value: 15748.730354713822 and parameters: {'boosting_type': 'gbdt', 'max_depth': 5, 'learning_rate': 0.1, 'random_state': 42, 'importance_type': 'split'}. Best is trial 0 with value: 15748.730354713822.\u001b[0m\n",
      "\u001b[32m[I 2023-05-02 21:19:12,235]\u001b[0m Trial 20 finished with value: 15748.730354713822 and parameters: {'boosting_type': 'gbdt', 'max_depth': 5, 'learning_rate': 0.1, 'random_state': 42, 'importance_type': 'split'}. Best is trial 0 with value: 15748.730354713822.\u001b[0m\n",
      "\u001b[32m[I 2023-05-02 21:19:12,238]\u001b[0m Trial 25 finished with value: 15748.730354713822 and parameters: {'boosting_type': 'gbdt', 'max_depth': 5, 'learning_rate': 0.1, 'random_state': 42, 'importance_type': 'split'}. Best is trial 0 with value: 15748.730354713822.\u001b[0m\n",
      "\u001b[32m[I 2023-05-02 21:19:12,253]\u001b[0m Trial 27 finished with value: 15748.730354713822 and parameters: {'boosting_type': 'gbdt', 'max_depth': 5, 'learning_rate': 0.1, 'random_state': 42, 'importance_type': 'split'}. Best is trial 0 with value: 15748.730354713822.\u001b[0m\n",
      "\u001b[32m[I 2023-05-02 21:19:12,256]\u001b[0m Trial 21 finished with value: 15748.730354713822 and parameters: {'boosting_type': 'gbdt', 'max_depth': 5, 'learning_rate': 0.1, 'random_state': 42, 'importance_type': 'split'}. Best is trial 0 with value: 15748.730354713822.\u001b[0m\n",
      "\u001b[32m[I 2023-05-02 21:19:12,257]\u001b[0m Trial 23 finished with value: 15748.730354713822 and parameters: {'boosting_type': 'gbdt', 'max_depth': 5, 'learning_rate': 0.1, 'random_state': 42, 'importance_type': 'split'}. Best is trial 0 with value: 15748.730354713822.\u001b[0m\n",
      "\u001b[32m[I 2023-05-02 21:19:12,805]\u001b[0m Trial 24 finished with value: 15748.730354713822 and parameters: {'boosting_type': 'gbdt', 'max_depth': 5, 'learning_rate': 0.1, 'random_state': 42, 'importance_type': 'split'}. Best is trial 0 with value: 15748.730354713822.\u001b[0m\n",
      "\u001b[32m[I 2023-05-02 21:19:16,091]\u001b[0m Trial 34 finished with value: 15748.730354713822 and parameters: {'boosting_type': 'gbdt', 'max_depth': 5, 'learning_rate': 0.1, 'random_state': 42, 'importance_type': 'split'}. Best is trial 0 with value: 15748.730354713822.\u001b[0m\n",
      "\u001b[32m[I 2023-05-02 21:19:16,140]\u001b[0m Trial 30 finished with value: 15748.730354713822 and parameters: {'boosting_type': 'gbdt', 'max_depth': 5, 'learning_rate': 0.1, 'random_state': 42, 'importance_type': 'split'}. Best is trial 0 with value: 15748.730354713822.\u001b[0m\n",
      "\u001b[32m[I 2023-05-02 21:19:16,156]\u001b[0m Trial 28 finished with value: 15748.730354713822 and parameters: {'boosting_type': 'gbdt', 'max_depth': 5, 'learning_rate': 0.1, 'random_state': 42, 'importance_type': 'split'}. Best is trial 0 with value: 15748.730354713822.\u001b[0m\n",
      "\u001b[32m[I 2023-05-02 21:19:16,176]\u001b[0m Trial 33 finished with value: 15748.730354713822 and parameters: {'boosting_type': 'gbdt', 'max_depth': 5, 'learning_rate': 0.1, 'random_state': 42, 'importance_type': 'split'}. Best is trial 0 with value: 15748.730354713822.\u001b[0m\n",
      "\u001b[32m[I 2023-05-02 21:19:16,189]\u001b[0m Trial 32 finished with value: 15748.730354713822 and parameters: {'boosting_type': 'gbdt', 'max_depth': 5, 'learning_rate': 0.1, 'random_state': 42, 'importance_type': 'split'}. Best is trial 0 with value: 15748.730354713822.\u001b[0m\n",
      "\u001b[32m[I 2023-05-02 21:19:16,492]\u001b[0m Trial 35 finished with value: 15748.730354713822 and parameters: {'boosting_type': 'gbdt', 'max_depth': 5, 'learning_rate': 0.1, 'random_state': 42, 'importance_type': 'split'}. Best is trial 0 with value: 15748.730354713822.\u001b[0m\n",
      "\u001b[32m[I 2023-05-02 21:19:16,582]\u001b[0m Trial 31 finished with value: 15748.730354713822 and parameters: {'boosting_type': 'gbdt', 'max_depth': 5, 'learning_rate': 0.1, 'random_state': 42, 'importance_type': 'split'}. Best is trial 0 with value: 15748.730354713822.\u001b[0m\n",
      "\u001b[32m[I 2023-05-02 21:19:16,593]\u001b[0m Trial 29 finished with value: 15748.730354713822 and parameters: {'boosting_type': 'gbdt', 'max_depth': 5, 'learning_rate': 0.1, 'random_state': 42, 'importance_type': 'split'}. Best is trial 0 with value: 15748.730354713822.\u001b[0m\n",
      "\u001b[32m[I 2023-05-02 21:19:17,492]\u001b[0m Trial 38 finished with value: 15748.730354713822 and parameters: {'boosting_type': 'gbdt', 'max_depth': 5, 'learning_rate': 0.1, 'random_state': 42, 'importance_type': 'split'}. Best is trial 0 with value: 15748.730354713822.\u001b[0m\n",
      "\u001b[32m[I 2023-05-02 21:19:17,514]\u001b[0m Trial 37 finished with value: 15748.730354713822 and parameters: {'boosting_type': 'gbdt', 'max_depth': 5, 'learning_rate': 0.1, 'random_state': 42, 'importance_type': 'split'}. Best is trial 0 with value: 15748.730354713822.\u001b[0m\n",
      "\u001b[32m[I 2023-05-02 21:19:17,526]\u001b[0m Trial 39 finished with value: 15748.730354713822 and parameters: {'boosting_type': 'gbdt', 'max_depth': 5, 'learning_rate': 0.1, 'random_state': 42, 'importance_type': 'split'}. Best is trial 0 with value: 15748.730354713822.\u001b[0m\n",
      "\u001b[32m[I 2023-05-02 21:19:17,620]\u001b[0m Trial 36 finished with value: 15748.730354713822 and parameters: {'boosting_type': 'gbdt', 'max_depth': 5, 'learning_rate': 0.1, 'random_state': 42, 'importance_type': 'split'}. Best is trial 0 with value: 15748.730354713822.\u001b[0m\n"
     ]
    }
   ],
   "source": [
    "obj.fit(X_train,y_train)\n",
    "y_pred = obj.predict(X_test)"
   ]
  },
  {
   "cell_type": "markdown",
   "metadata": {},
   "source": [
    "#### Check performance of the model"
   ]
  },
  {
   "cell_type": "code",
   "execution_count": 16,
   "metadata": {},
   "outputs": [
    {
     "name": "stdout",
     "output_type": "stream",
     "text": [
      "F1 score plus TN : \n",
      "7759.709161624892\n",
      "F1 score : \n",
      "0.709161624891962\n",
      "Classification report : \n",
      "              precision    recall  f1-score   support\n",
      "\n",
      "           0       0.90      0.95      0.92      8196\n",
      "           1       0.79      0.64      0.71      2550\n",
      "\n",
      "    accuracy                           0.87     10746\n",
      "   macro avg       0.84      0.80      0.81     10746\n",
      "weighted avg       0.87      0.87      0.87     10746\n",
      "\n",
      "Confusion matrix : \n",
      "[[7759  437]\n",
      " [ 909 1641]]\n"
     ]
    }
   ],
   "source": [
    "f1_plus_tn\n",
    "print('F1 score plus TN : ')\n",
    "print(f1_plus_tn(y_test,pred_labels))\n",
    "print('F1 score : ')\n",
    "print(f1_score(y_test,pred_labels))\n",
    "print('Classification report : ')\n",
    "print(classification_report(y_test,pred_labels))\n",
    "print('Confusion matrix : ')\n",
    "print(confusion_matrix(y_test,pred_labels))"
   ]
  },
  {
   "cell_type": "code",
   "execution_count": 17,
   "metadata": {},
   "outputs": [
    {
     "data": {
      "text/html": [
       "<style>#sk-container-id-1 {color: black;background-color: white;}#sk-container-id-1 pre{padding: 0;}#sk-container-id-1 div.sk-toggleable {background-color: white;}#sk-container-id-1 label.sk-toggleable__label {cursor: pointer;display: block;width: 100%;margin-bottom: 0;padding: 0.3em;box-sizing: border-box;text-align: center;}#sk-container-id-1 label.sk-toggleable__label-arrow:before {content: \"▸\";float: left;margin-right: 0.25em;color: #696969;}#sk-container-id-1 label.sk-toggleable__label-arrow:hover:before {color: black;}#sk-container-id-1 div.sk-estimator:hover label.sk-toggleable__label-arrow:before {color: black;}#sk-container-id-1 div.sk-toggleable__content {max-height: 0;max-width: 0;overflow: hidden;text-align: left;background-color: #f0f8ff;}#sk-container-id-1 div.sk-toggleable__content pre {margin: 0.2em;color: black;border-radius: 0.25em;background-color: #f0f8ff;}#sk-container-id-1 input.sk-toggleable__control:checked~div.sk-toggleable__content {max-height: 200px;max-width: 100%;overflow: auto;}#sk-container-id-1 input.sk-toggleable__control:checked~label.sk-toggleable__label-arrow:before {content: \"▾\";}#sk-container-id-1 div.sk-estimator input.sk-toggleable__control:checked~label.sk-toggleable__label {background-color: #d4ebff;}#sk-container-id-1 div.sk-label input.sk-toggleable__control:checked~label.sk-toggleable__label {background-color: #d4ebff;}#sk-container-id-1 input.sk-hidden--visually {border: 0;clip: rect(1px 1px 1px 1px);clip: rect(1px, 1px, 1px, 1px);height: 1px;margin: -1px;overflow: hidden;padding: 0;position: absolute;width: 1px;}#sk-container-id-1 div.sk-estimator {font-family: monospace;background-color: #f0f8ff;border: 1px dotted black;border-radius: 0.25em;box-sizing: border-box;margin-bottom: 0.5em;}#sk-container-id-1 div.sk-estimator:hover {background-color: #d4ebff;}#sk-container-id-1 div.sk-parallel-item::after {content: \"\";width: 100%;border-bottom: 1px solid gray;flex-grow: 1;}#sk-container-id-1 div.sk-label:hover label.sk-toggleable__label {background-color: #d4ebff;}#sk-container-id-1 div.sk-serial::before {content: \"\";position: absolute;border-left: 1px solid gray;box-sizing: border-box;top: 0;bottom: 0;left: 50%;z-index: 0;}#sk-container-id-1 div.sk-serial {display: flex;flex-direction: column;align-items: center;background-color: white;padding-right: 0.2em;padding-left: 0.2em;position: relative;}#sk-container-id-1 div.sk-item {position: relative;z-index: 1;}#sk-container-id-1 div.sk-parallel {display: flex;align-items: stretch;justify-content: center;background-color: white;position: relative;}#sk-container-id-1 div.sk-item::before, #sk-container-id-1 div.sk-parallel-item::before {content: \"\";position: absolute;border-left: 1px solid gray;box-sizing: border-box;top: 0;bottom: 0;left: 50%;z-index: -1;}#sk-container-id-1 div.sk-parallel-item {display: flex;flex-direction: column;z-index: 1;position: relative;background-color: white;}#sk-container-id-1 div.sk-parallel-item:first-child::after {align-self: flex-end;width: 50%;}#sk-container-id-1 div.sk-parallel-item:last-child::after {align-self: flex-start;width: 50%;}#sk-container-id-1 div.sk-parallel-item:only-child::after {width: 0;}#sk-container-id-1 div.sk-dashed-wrapped {border: 1px dashed gray;margin: 0 0.4em 0.5em 0.4em;box-sizing: border-box;padding-bottom: 0.4em;background-color: white;}#sk-container-id-1 div.sk-label label {font-family: monospace;font-weight: bold;display: inline-block;line-height: 1.2em;}#sk-container-id-1 div.sk-label-container {text-align: center;}#sk-container-id-1 div.sk-container {/* jupyter's `normalize.less` sets `[hidden] { display: none; }` but bootstrap.min.css set `[hidden] { display: none !important; }` so we also need the `!important` here to be able to override the default hidden behavior on the sphinx rendered scikit-learn.org. See: https://github.com/scikit-learn/scikit-learn/issues/21755 */display: inline-block !important;position: relative;}#sk-container-id-1 div.sk-text-repr-fallback {display: none;}</style><div id=\"sk-container-id-1\" class=\"sk-top-container\"><div class=\"sk-text-repr-fallback\"><pre>LGBMClassifier(max_depth=5, random_state=42)</pre><b>In a Jupyter environment, please rerun this cell to show the HTML representation or trust the notebook. <br />On GitHub, the HTML representation is unable to render, please try loading this page with nbviewer.org.</b></div><div class=\"sk-container\" hidden><div class=\"sk-item\"><div class=\"sk-estimator sk-toggleable\"><input class=\"sk-toggleable__control sk-hidden--visually\" id=\"sk-estimator-id-1\" type=\"checkbox\" checked><label for=\"sk-estimator-id-1\" class=\"sk-toggleable__label sk-toggleable__label-arrow\">LGBMClassifier</label><div class=\"sk-toggleable__content\"><pre>LGBMClassifier(max_depth=5, random_state=42)</pre></div></div></div></div></div>"
      ],
      "text/plain": [
       "LGBMClassifier(max_depth=5, random_state=42)"
      ]
     },
     "execution_count": 17,
     "metadata": {},
     "output_type": "execute_result"
    }
   ],
   "source": [
    "obj.get_best_estimator()"
   ]
  },
  {
   "cell_type": "code",
   "execution_count": 18,
   "metadata": {},
   "outputs": [
    {
     "data": {
      "text/html": [
       "<style>#sk-container-id-2 {color: black;background-color: white;}#sk-container-id-2 pre{padding: 0;}#sk-container-id-2 div.sk-toggleable {background-color: white;}#sk-container-id-2 label.sk-toggleable__label {cursor: pointer;display: block;width: 100%;margin-bottom: 0;padding: 0.3em;box-sizing: border-box;text-align: center;}#sk-container-id-2 label.sk-toggleable__label-arrow:before {content: \"▸\";float: left;margin-right: 0.25em;color: #696969;}#sk-container-id-2 label.sk-toggleable__label-arrow:hover:before {color: black;}#sk-container-id-2 div.sk-estimator:hover label.sk-toggleable__label-arrow:before {color: black;}#sk-container-id-2 div.sk-toggleable__content {max-height: 0;max-width: 0;overflow: hidden;text-align: left;background-color: #f0f8ff;}#sk-container-id-2 div.sk-toggleable__content pre {margin: 0.2em;color: black;border-radius: 0.25em;background-color: #f0f8ff;}#sk-container-id-2 input.sk-toggleable__control:checked~div.sk-toggleable__content {max-height: 200px;max-width: 100%;overflow: auto;}#sk-container-id-2 input.sk-toggleable__control:checked~label.sk-toggleable__label-arrow:before {content: \"▾\";}#sk-container-id-2 div.sk-estimator input.sk-toggleable__control:checked~label.sk-toggleable__label {background-color: #d4ebff;}#sk-container-id-2 div.sk-label input.sk-toggleable__control:checked~label.sk-toggleable__label {background-color: #d4ebff;}#sk-container-id-2 input.sk-hidden--visually {border: 0;clip: rect(1px 1px 1px 1px);clip: rect(1px, 1px, 1px, 1px);height: 1px;margin: -1px;overflow: hidden;padding: 0;position: absolute;width: 1px;}#sk-container-id-2 div.sk-estimator {font-family: monospace;background-color: #f0f8ff;border: 1px dotted black;border-radius: 0.25em;box-sizing: border-box;margin-bottom: 0.5em;}#sk-container-id-2 div.sk-estimator:hover {background-color: #d4ebff;}#sk-container-id-2 div.sk-parallel-item::after {content: \"\";width: 100%;border-bottom: 1px solid gray;flex-grow: 1;}#sk-container-id-2 div.sk-label:hover label.sk-toggleable__label {background-color: #d4ebff;}#sk-container-id-2 div.sk-serial::before {content: \"\";position: absolute;border-left: 1px solid gray;box-sizing: border-box;top: 0;bottom: 0;left: 50%;z-index: 0;}#sk-container-id-2 div.sk-serial {display: flex;flex-direction: column;align-items: center;background-color: white;padding-right: 0.2em;padding-left: 0.2em;position: relative;}#sk-container-id-2 div.sk-item {position: relative;z-index: 1;}#sk-container-id-2 div.sk-parallel {display: flex;align-items: stretch;justify-content: center;background-color: white;position: relative;}#sk-container-id-2 div.sk-item::before, #sk-container-id-2 div.sk-parallel-item::before {content: \"\";position: absolute;border-left: 1px solid gray;box-sizing: border-box;top: 0;bottom: 0;left: 50%;z-index: -1;}#sk-container-id-2 div.sk-parallel-item {display: flex;flex-direction: column;z-index: 1;position: relative;background-color: white;}#sk-container-id-2 div.sk-parallel-item:first-child::after {align-self: flex-end;width: 50%;}#sk-container-id-2 div.sk-parallel-item:last-child::after {align-self: flex-start;width: 50%;}#sk-container-id-2 div.sk-parallel-item:only-child::after {width: 0;}#sk-container-id-2 div.sk-dashed-wrapped {border: 1px dashed gray;margin: 0 0.4em 0.5em 0.4em;box-sizing: border-box;padding-bottom: 0.4em;background-color: white;}#sk-container-id-2 div.sk-label label {font-family: monospace;font-weight: bold;display: inline-block;line-height: 1.2em;}#sk-container-id-2 div.sk-label-container {text-align: center;}#sk-container-id-2 div.sk-container {/* jupyter's `normalize.less` sets `[hidden] { display: none; }` but bootstrap.min.css set `[hidden] { display: none !important; }` so we also need the `!important` here to be able to override the default hidden behavior on the sphinx rendered scikit-learn.org. See: https://github.com/scikit-learn/scikit-learn/issues/21755 */display: inline-block !important;position: relative;}#sk-container-id-2 div.sk-text-repr-fallback {display: none;}</style><div id=\"sk-container-id-2\" class=\"sk-top-container\"><div class=\"sk-text-repr-fallback\"><pre>LGBMClassifier(max_depth=5, random_state=42)</pre><b>In a Jupyter environment, please rerun this cell to show the HTML representation or trust the notebook. <br />On GitHub, the HTML representation is unable to render, please try loading this page with nbviewer.org.</b></div><div class=\"sk-container\" hidden><div class=\"sk-item\"><div class=\"sk-estimator sk-toggleable\"><input class=\"sk-toggleable__control sk-hidden--visually\" id=\"sk-estimator-id-2\" type=\"checkbox\" checked><label for=\"sk-estimator-id-2\" class=\"sk-toggleable__label sk-toggleable__label-arrow\">LGBMClassifier</label><div class=\"sk-toggleable__content\"><pre>LGBMClassifier(max_depth=5, random_state=42)</pre></div></div></div></div></div>"
      ],
      "text/plain": [
       "LGBMClassifier(max_depth=5, random_state=42)"
      ]
     },
     "execution_count": 18,
     "metadata": {},
     "output_type": "execute_result"
    }
   ],
   "source": [
    "obj.best_estimator"
   ]
  },
  {
   "cell_type": "markdown",
   "metadata": {},
   "source": [
    "#### Get fitted randomized search object and its attributes"
   ]
  },
  {
   "cell_type": "code",
   "execution_count": 19,
   "metadata": {},
   "outputs": [
    {
     "data": {
      "text/plain": [
       "[FrozenTrial(number=0, values=[15748.730354713822], datetime_start=datetime.datetime(2023, 5, 2, 21, 19, 1, 378472), datetime_complete=datetime.datetime(2023, 5, 2, 21, 19, 4, 715909), params={'boosting_type': 'gbdt', 'max_depth': 5, 'learning_rate': 0.1, 'random_state': 42, 'importance_type': 'split'}, distributions={'boosting_type': CategoricalDistribution(choices=('gbdt',)), 'max_depth': IntUniformDistribution(high=5, low=4, step=1), 'learning_rate': UniformDistribution(high=0.1, low=0.1), 'random_state': IntUniformDistribution(high=42, low=42, step=1), 'importance_type': CategoricalDistribution(choices=('split',))}, user_attrs={}, system_attrs={}, intermediate_values={}, trial_id=0, state=TrialState.COMPLETE, value=None),\n",
       " FrozenTrial(number=1, values=[15748.730354713822], datetime_start=datetime.datetime(2023, 5, 2, 21, 19, 1, 380092), datetime_complete=datetime.datetime(2023, 5, 2, 21, 19, 4, 743319), params={'boosting_type': 'gbdt', 'max_depth': 5, 'learning_rate': 0.1, 'random_state': 42, 'importance_type': 'split'}, distributions={'boosting_type': CategoricalDistribution(choices=('gbdt',)), 'max_depth': IntUniformDistribution(high=5, low=4, step=1), 'learning_rate': UniformDistribution(high=0.1, low=0.1), 'random_state': IntUniformDistribution(high=42, low=42, step=1), 'importance_type': CategoricalDistribution(choices=('split',))}, user_attrs={}, system_attrs={}, intermediate_values={}, trial_id=1, state=TrialState.COMPLETE, value=None),\n",
       " FrozenTrial(number=2, values=[15733.708156329652], datetime_start=datetime.datetime(2023, 5, 2, 21, 19, 1, 382294), datetime_complete=datetime.datetime(2023, 5, 2, 21, 19, 3, 723047), params={'boosting_type': 'gbdt', 'max_depth': 4, 'learning_rate': 0.1, 'random_state': 42, 'importance_type': 'split'}, distributions={'boosting_type': CategoricalDistribution(choices=('gbdt',)), 'max_depth': IntUniformDistribution(high=5, low=4, step=1), 'learning_rate': UniformDistribution(high=0.1, low=0.1), 'random_state': IntUniformDistribution(high=42, low=42, step=1), 'importance_type': CategoricalDistribution(choices=('split',))}, user_attrs={}, system_attrs={}, intermediate_values={}, trial_id=2, state=TrialState.COMPLETE, value=None),\n",
       " FrozenTrial(number=3, values=[15733.708156329652], datetime_start=datetime.datetime(2023, 5, 2, 21, 19, 1, 383783), datetime_complete=datetime.datetime(2023, 5, 2, 21, 19, 3, 344330), params={'boosting_type': 'gbdt', 'max_depth': 4, 'learning_rate': 0.1, 'random_state': 42, 'importance_type': 'split'}, distributions={'boosting_type': CategoricalDistribution(choices=('gbdt',)), 'max_depth': IntUniformDistribution(high=5, low=4, step=1), 'learning_rate': UniformDistribution(high=0.1, low=0.1), 'random_state': IntUniformDistribution(high=42, low=42, step=1), 'importance_type': CategoricalDistribution(choices=('split',))}, user_attrs={}, system_attrs={}, intermediate_values={}, trial_id=3, state=TrialState.COMPLETE, value=None),\n",
       " FrozenTrial(number=4, values=[15733.708156329652], datetime_start=datetime.datetime(2023, 5, 2, 21, 19, 1, 384764), datetime_complete=datetime.datetime(2023, 5, 2, 21, 19, 3, 331512), params={'boosting_type': 'gbdt', 'max_depth': 4, 'learning_rate': 0.1, 'random_state': 42, 'importance_type': 'split'}, distributions={'boosting_type': CategoricalDistribution(choices=('gbdt',)), 'max_depth': IntUniformDistribution(high=5, low=4, step=1), 'learning_rate': UniformDistribution(high=0.1, low=0.1), 'random_state': IntUniformDistribution(high=42, low=42, step=1), 'importance_type': CategoricalDistribution(choices=('split',))}, user_attrs={}, system_attrs={}, intermediate_values={}, trial_id=4, state=TrialState.COMPLETE, value=None),\n",
       " FrozenTrial(number=5, values=[15733.708156329652], datetime_start=datetime.datetime(2023, 5, 2, 21, 19, 1, 385945), datetime_complete=datetime.datetime(2023, 5, 2, 21, 19, 3, 309416), params={'boosting_type': 'gbdt', 'max_depth': 4, 'learning_rate': 0.1, 'random_state': 42, 'importance_type': 'split'}, distributions={'boosting_type': CategoricalDistribution(choices=('gbdt',)), 'max_depth': IntUniformDistribution(high=5, low=4, step=1), 'learning_rate': UniformDistribution(high=0.1, low=0.1), 'random_state': IntUniformDistribution(high=42, low=42, step=1), 'importance_type': CategoricalDistribution(choices=('split',))}, user_attrs={}, system_attrs={}, intermediate_values={}, trial_id=5, state=TrialState.COMPLETE, value=None),\n",
       " FrozenTrial(number=6, values=[15733.708156329652], datetime_start=datetime.datetime(2023, 5, 2, 21, 19, 1, 386754), datetime_complete=datetime.datetime(2023, 5, 2, 21, 19, 3, 707186), params={'boosting_type': 'gbdt', 'max_depth': 4, 'learning_rate': 0.1, 'random_state': 42, 'importance_type': 'split'}, distributions={'boosting_type': CategoricalDistribution(choices=('gbdt',)), 'max_depth': IntUniformDistribution(high=5, low=4, step=1), 'learning_rate': UniformDistribution(high=0.1, low=0.1), 'random_state': IntUniformDistribution(high=42, low=42, step=1), 'importance_type': CategoricalDistribution(choices=('split',))}, user_attrs={}, system_attrs={}, intermediate_values={}, trial_id=6, state=TrialState.COMPLETE, value=None),\n",
       " FrozenTrial(number=7, values=[15748.730354713822], datetime_start=datetime.datetime(2023, 5, 2, 21, 19, 1, 388168), datetime_complete=datetime.datetime(2023, 5, 2, 21, 19, 5, 225351), params={'boosting_type': 'gbdt', 'max_depth': 5, 'learning_rate': 0.1, 'random_state': 42, 'importance_type': 'split'}, distributions={'boosting_type': CategoricalDistribution(choices=('gbdt',)), 'max_depth': IntUniformDistribution(high=5, low=4, step=1), 'learning_rate': UniformDistribution(high=0.1, low=0.1), 'random_state': IntUniformDistribution(high=42, low=42, step=1), 'importance_type': CategoricalDistribution(choices=('split',))}, user_attrs={}, system_attrs={}, intermediate_values={}, trial_id=7, state=TrialState.COMPLETE, value=None),\n",
       " FrozenTrial(number=8, values=[15733.708156329652], datetime_start=datetime.datetime(2023, 5, 2, 21, 19, 3, 316183), datetime_complete=datetime.datetime(2023, 5, 2, 21, 19, 5, 327004), params={'boosting_type': 'gbdt', 'max_depth': 4, 'learning_rate': 0.1, 'random_state': 42, 'importance_type': 'split'}, distributions={'boosting_type': CategoricalDistribution(choices=('gbdt',)), 'max_depth': IntUniformDistribution(high=5, low=4, step=1), 'learning_rate': UniformDistribution(high=0.1, low=0.1), 'random_state': IntUniformDistribution(high=42, low=42, step=1), 'importance_type': CategoricalDistribution(choices=('split',))}, user_attrs={}, system_attrs={}, intermediate_values={}, trial_id=8, state=TrialState.COMPLETE, value=None),\n",
       " FrozenTrial(number=9, values=[15748.730354713822], datetime_start=datetime.datetime(2023, 5, 2, 21, 19, 3, 334987), datetime_complete=datetime.datetime(2023, 5, 2, 21, 19, 6, 581326), params={'boosting_type': 'gbdt', 'max_depth': 5, 'learning_rate': 0.1, 'random_state': 42, 'importance_type': 'split'}, distributions={'boosting_type': CategoricalDistribution(choices=('gbdt',)), 'max_depth': IntUniformDistribution(high=5, low=4, step=1), 'learning_rate': UniformDistribution(high=0.1, low=0.1), 'random_state': IntUniformDistribution(high=42, low=42, step=1), 'importance_type': CategoricalDistribution(choices=('split',))}, user_attrs={}, system_attrs={}, intermediate_values={}, trial_id=9, state=TrialState.COMPLETE, value=None),\n",
       " FrozenTrial(number=10, values=[15748.730354713822], datetime_start=datetime.datetime(2023, 5, 2, 21, 19, 3, 347584), datetime_complete=datetime.datetime(2023, 5, 2, 21, 19, 7, 22743), params={'boosting_type': 'gbdt', 'max_depth': 5, 'learning_rate': 0.1, 'random_state': 42, 'importance_type': 'split'}, distributions={'boosting_type': CategoricalDistribution(choices=('gbdt',)), 'max_depth': IntUniformDistribution(high=5, low=4, step=1), 'learning_rate': UniformDistribution(high=0.1, low=0.1), 'random_state': IntUniformDistribution(high=42, low=42, step=1), 'importance_type': CategoricalDistribution(choices=('split',))}, user_attrs={}, system_attrs={}, intermediate_values={}, trial_id=10, state=TrialState.COMPLETE, value=None),\n",
       " FrozenTrial(number=11, values=[15733.708156329652], datetime_start=datetime.datetime(2023, 5, 2, 21, 19, 3, 710803), datetime_complete=datetime.datetime(2023, 5, 2, 21, 19, 5, 901146), params={'boosting_type': 'gbdt', 'max_depth': 4, 'learning_rate': 0.1, 'random_state': 42, 'importance_type': 'split'}, distributions={'boosting_type': CategoricalDistribution(choices=('gbdt',)), 'max_depth': IntUniformDistribution(high=5, low=4, step=1), 'learning_rate': UniformDistribution(high=0.1, low=0.1), 'random_state': IntUniformDistribution(high=42, low=42, step=1), 'importance_type': CategoricalDistribution(choices=('split',))}, user_attrs={}, system_attrs={}, intermediate_values={}, trial_id=11, state=TrialState.COMPLETE, value=None),\n",
       " FrozenTrial(number=12, values=[15748.730354713822], datetime_start=datetime.datetime(2023, 5, 2, 21, 19, 3, 729481), datetime_complete=datetime.datetime(2023, 5, 2, 21, 19, 7, 165442), params={'boosting_type': 'gbdt', 'max_depth': 5, 'learning_rate': 0.1, 'random_state': 42, 'importance_type': 'split'}, distributions={'boosting_type': CategoricalDistribution(choices=('gbdt',)), 'max_depth': IntUniformDistribution(high=5, low=4, step=1), 'learning_rate': UniformDistribution(high=0.1, low=0.1), 'random_state': IntUniformDistribution(high=42, low=42, step=1), 'importance_type': CategoricalDistribution(choices=('split',))}, user_attrs={}, system_attrs={}, intermediate_values={}, trial_id=12, state=TrialState.COMPLETE, value=None),\n",
       " FrozenTrial(number=13, values=[15733.708156329652], datetime_start=datetime.datetime(2023, 5, 2, 21, 19, 4, 723914), datetime_complete=datetime.datetime(2023, 5, 2, 21, 19, 6, 536617), params={'boosting_type': 'gbdt', 'max_depth': 4, 'learning_rate': 0.1, 'random_state': 42, 'importance_type': 'split'}, distributions={'boosting_type': CategoricalDistribution(choices=('gbdt',)), 'max_depth': IntUniformDistribution(high=5, low=4, step=1), 'learning_rate': UniformDistribution(high=0.1, low=0.1), 'random_state': IntUniformDistribution(high=42, low=42, step=1), 'importance_type': CategoricalDistribution(choices=('split',))}, user_attrs={}, system_attrs={}, intermediate_values={}, trial_id=13, state=TrialState.COMPLETE, value=None),\n",
       " FrozenTrial(number=14, values=[15733.708156329652], datetime_start=datetime.datetime(2023, 5, 2, 21, 19, 4, 746265), datetime_complete=datetime.datetime(2023, 5, 2, 21, 19, 6, 597925), params={'boosting_type': 'gbdt', 'max_depth': 4, 'learning_rate': 0.1, 'random_state': 42, 'importance_type': 'split'}, distributions={'boosting_type': CategoricalDistribution(choices=('gbdt',)), 'max_depth': IntUniformDistribution(high=5, low=4, step=1), 'learning_rate': UniformDistribution(high=0.1, low=0.1), 'random_state': IntUniformDistribution(high=42, low=42, step=1), 'importance_type': CategoricalDistribution(choices=('split',))}, user_attrs={}, system_attrs={}, intermediate_values={}, trial_id=14, state=TrialState.COMPLETE, value=None),\n",
       " FrozenTrial(number=15, values=[15733.708156329652], datetime_start=datetime.datetime(2023, 5, 2, 21, 19, 5, 228217), datetime_complete=datetime.datetime(2023, 5, 2, 21, 19, 7, 2194), params={'boosting_type': 'gbdt', 'max_depth': 4, 'learning_rate': 0.1, 'random_state': 42, 'importance_type': 'split'}, distributions={'boosting_type': CategoricalDistribution(choices=('gbdt',)), 'max_depth': IntUniformDistribution(high=5, low=4, step=1), 'learning_rate': UniformDistribution(high=0.1, low=0.1), 'random_state': IntUniformDistribution(high=42, low=42, step=1), 'importance_type': CategoricalDistribution(choices=('split',))}, user_attrs={}, system_attrs={}, intermediate_values={}, trial_id=15, state=TrialState.COMPLETE, value=None),\n",
       " FrozenTrial(number=16, values=[15733.708156329652], datetime_start=datetime.datetime(2023, 5, 2, 21, 19, 5, 329856), datetime_complete=datetime.datetime(2023, 5, 2, 21, 19, 7, 68131), params={'boosting_type': 'gbdt', 'max_depth': 4, 'learning_rate': 0.1, 'random_state': 42, 'importance_type': 'split'}, distributions={'boosting_type': CategoricalDistribution(choices=('gbdt',)), 'max_depth': IntUniformDistribution(high=5, low=4, step=1), 'learning_rate': UniformDistribution(high=0.1, low=0.1), 'random_state': IntUniformDistribution(high=42, low=42, step=1), 'importance_type': CategoricalDistribution(choices=('split',))}, user_attrs={}, system_attrs={}, intermediate_values={}, trial_id=16, state=TrialState.COMPLETE, value=None),\n",
       " FrozenTrial(number=17, values=[15748.730354713822], datetime_start=datetime.datetime(2023, 5, 2, 21, 19, 5, 903648), datetime_complete=datetime.datetime(2023, 5, 2, 21, 19, 7, 514924), params={'boosting_type': 'gbdt', 'max_depth': 5, 'learning_rate': 0.1, 'random_state': 42, 'importance_type': 'split'}, distributions={'boosting_type': CategoricalDistribution(choices=('gbdt',)), 'max_depth': IntUniformDistribution(high=5, low=4, step=1), 'learning_rate': UniformDistribution(high=0.1, low=0.1), 'random_state': IntUniformDistribution(high=42, low=42, step=1), 'importance_type': CategoricalDistribution(choices=('split',))}, user_attrs={}, system_attrs={}, intermediate_values={}, trial_id=17, state=TrialState.COMPLETE, value=None),\n",
       " FrozenTrial(number=18, values=[15748.730354713822], datetime_start=datetime.datetime(2023, 5, 2, 21, 19, 6, 547929), datetime_complete=datetime.datetime(2023, 5, 2, 21, 19, 7, 711775), params={'boosting_type': 'gbdt', 'max_depth': 5, 'learning_rate': 0.1, 'random_state': 42, 'importance_type': 'split'}, distributions={'boosting_type': CategoricalDistribution(choices=('gbdt',)), 'max_depth': IntUniformDistribution(high=5, low=4, step=1), 'learning_rate': UniformDistribution(high=0.1, low=0.1), 'random_state': IntUniformDistribution(high=42, low=42, step=1), 'importance_type': CategoricalDistribution(choices=('split',))}, user_attrs={}, system_attrs={}, intermediate_values={}, trial_id=18, state=TrialState.COMPLETE, value=None),\n",
       " FrozenTrial(number=19, values=[15748.730354713822], datetime_start=datetime.datetime(2023, 5, 2, 21, 19, 6, 584216), datetime_complete=datetime.datetime(2023, 5, 2, 21, 19, 7, 633159), params={'boosting_type': 'gbdt', 'max_depth': 5, 'learning_rate': 0.1, 'random_state': 42, 'importance_type': 'split'}, distributions={'boosting_type': CategoricalDistribution(choices=('gbdt',)), 'max_depth': IntUniformDistribution(high=5, low=4, step=1), 'learning_rate': UniformDistribution(high=0.1, low=0.1), 'random_state': IntUniformDistribution(high=42, low=42, step=1), 'importance_type': CategoricalDistribution(choices=('split',))}, user_attrs={}, system_attrs={}, intermediate_values={}, trial_id=19, state=TrialState.COMPLETE, value=None),\n",
       " FrozenTrial(number=20, values=[15748.730354713822], datetime_start=datetime.datetime(2023, 5, 2, 21, 19, 8, 529460), datetime_complete=datetime.datetime(2023, 5, 2, 21, 19, 12, 235377), params={'boosting_type': 'gbdt', 'max_depth': 5, 'learning_rate': 0.1, 'random_state': 42, 'importance_type': 'split'}, distributions={'boosting_type': CategoricalDistribution(choices=('gbdt',)), 'max_depth': IntUniformDistribution(high=5, low=4, step=1), 'learning_rate': UniformDistribution(high=0.1, low=0.1), 'random_state': IntUniformDistribution(high=42, low=42, step=1), 'importance_type': CategoricalDistribution(choices=('split',))}, user_attrs={}, system_attrs={}, intermediate_values={}, trial_id=20, state=TrialState.COMPLETE, value=None),\n",
       " FrozenTrial(number=21, values=[15748.730354713822], datetime_start=datetime.datetime(2023, 5, 2, 21, 19, 8, 531588), datetime_complete=datetime.datetime(2023, 5, 2, 21, 19, 12, 255982), params={'boosting_type': 'gbdt', 'max_depth': 5, 'learning_rate': 0.1, 'random_state': 42, 'importance_type': 'split'}, distributions={'boosting_type': CategoricalDistribution(choices=('gbdt',)), 'max_depth': IntUniformDistribution(high=5, low=4, step=1), 'learning_rate': UniformDistribution(high=0.1, low=0.1), 'random_state': IntUniformDistribution(high=42, low=42, step=1), 'importance_type': CategoricalDistribution(choices=('split',))}, user_attrs={}, system_attrs={}, intermediate_values={}, trial_id=21, state=TrialState.COMPLETE, value=None),\n",
       " FrozenTrial(number=22, values=[15748.730354713822], datetime_start=datetime.datetime(2023, 5, 2, 21, 19, 8, 534100), datetime_complete=datetime.datetime(2023, 5, 2, 21, 19, 12, 149870), params={'boosting_type': 'gbdt', 'max_depth': 5, 'learning_rate': 0.1, 'random_state': 42, 'importance_type': 'split'}, distributions={'boosting_type': CategoricalDistribution(choices=('gbdt',)), 'max_depth': IntUniformDistribution(high=5, low=4, step=1), 'learning_rate': UniformDistribution(high=0.1, low=0.1), 'random_state': IntUniformDistribution(high=42, low=42, step=1), 'importance_type': CategoricalDistribution(choices=('split',))}, user_attrs={}, system_attrs={}, intermediate_values={}, trial_id=22, state=TrialState.COMPLETE, value=None),\n",
       " FrozenTrial(number=23, values=[15748.730354713822], datetime_start=datetime.datetime(2023, 5, 2, 21, 19, 8, 536745), datetime_complete=datetime.datetime(2023, 5, 2, 21, 19, 12, 257356), params={'boosting_type': 'gbdt', 'max_depth': 5, 'learning_rate': 0.1, 'random_state': 42, 'importance_type': 'split'}, distributions={'boosting_type': CategoricalDistribution(choices=('gbdt',)), 'max_depth': IntUniformDistribution(high=5, low=4, step=1), 'learning_rate': UniformDistribution(high=0.1, low=0.1), 'random_state': IntUniformDistribution(high=42, low=42, step=1), 'importance_type': CategoricalDistribution(choices=('split',))}, user_attrs={}, system_attrs={}, intermediate_values={}, trial_id=23, state=TrialState.COMPLETE, value=None),\n",
       " FrozenTrial(number=24, values=[15748.730354713822], datetime_start=datetime.datetime(2023, 5, 2, 21, 19, 8, 544154), datetime_complete=datetime.datetime(2023, 5, 2, 21, 19, 12, 805544), params={'boosting_type': 'gbdt', 'max_depth': 5, 'learning_rate': 0.1, 'random_state': 42, 'importance_type': 'split'}, distributions={'boosting_type': CategoricalDistribution(choices=('gbdt',)), 'max_depth': IntUniformDistribution(high=5, low=4, step=1), 'learning_rate': UniformDistribution(high=0.1, low=0.1), 'random_state': IntUniformDistribution(high=42, low=42, step=1), 'importance_type': CategoricalDistribution(choices=('split',))}, user_attrs={}, system_attrs={}, intermediate_values={}, trial_id=24, state=TrialState.COMPLETE, value=None),\n",
       " FrozenTrial(number=25, values=[15748.730354713822], datetime_start=datetime.datetime(2023, 5, 2, 21, 19, 8, 546315), datetime_complete=datetime.datetime(2023, 5, 2, 21, 19, 12, 237768), params={'boosting_type': 'gbdt', 'max_depth': 5, 'learning_rate': 0.1, 'random_state': 42, 'importance_type': 'split'}, distributions={'boosting_type': CategoricalDistribution(choices=('gbdt',)), 'max_depth': IntUniformDistribution(high=5, low=4, step=1), 'learning_rate': UniformDistribution(high=0.1, low=0.1), 'random_state': IntUniformDistribution(high=42, low=42, step=1), 'importance_type': CategoricalDistribution(choices=('split',))}, user_attrs={}, system_attrs={}, intermediate_values={}, trial_id=25, state=TrialState.COMPLETE, value=None),\n",
       " FrozenTrial(number=26, values=[15748.730354713822], datetime_start=datetime.datetime(2023, 5, 2, 21, 19, 8, 547103), datetime_complete=datetime.datetime(2023, 5, 2, 21, 19, 12, 233501), params={'boosting_type': 'gbdt', 'max_depth': 5, 'learning_rate': 0.1, 'random_state': 42, 'importance_type': 'split'}, distributions={'boosting_type': CategoricalDistribution(choices=('gbdt',)), 'max_depth': IntUniformDistribution(high=5, low=4, step=1), 'learning_rate': UniformDistribution(high=0.1, low=0.1), 'random_state': IntUniformDistribution(high=42, low=42, step=1), 'importance_type': CategoricalDistribution(choices=('split',))}, user_attrs={}, system_attrs={}, intermediate_values={}, trial_id=26, state=TrialState.COMPLETE, value=None),\n",
       " FrozenTrial(number=27, values=[15748.730354713822], datetime_start=datetime.datetime(2023, 5, 2, 21, 19, 8, 549053), datetime_complete=datetime.datetime(2023, 5, 2, 21, 19, 12, 252732), params={'boosting_type': 'gbdt', 'max_depth': 5, 'learning_rate': 0.1, 'random_state': 42, 'importance_type': 'split'}, distributions={'boosting_type': CategoricalDistribution(choices=('gbdt',)), 'max_depth': IntUniformDistribution(high=5, low=4, step=1), 'learning_rate': UniformDistribution(high=0.1, low=0.1), 'random_state': IntUniformDistribution(high=42, low=42, step=1), 'importance_type': CategoricalDistribution(choices=('split',))}, user_attrs={}, system_attrs={}, intermediate_values={}, trial_id=27, state=TrialState.COMPLETE, value=None),\n",
       " FrozenTrial(number=28, values=[15748.730354713822], datetime_start=datetime.datetime(2023, 5, 2, 21, 19, 12, 224163), datetime_complete=datetime.datetime(2023, 5, 2, 21, 19, 16, 155674), params={'boosting_type': 'gbdt', 'max_depth': 5, 'learning_rate': 0.1, 'random_state': 42, 'importance_type': 'split'}, distributions={'boosting_type': CategoricalDistribution(choices=('gbdt',)), 'max_depth': IntUniformDistribution(high=5, low=4, step=1), 'learning_rate': UniformDistribution(high=0.1, low=0.1), 'random_state': IntUniformDistribution(high=42, low=42, step=1), 'importance_type': CategoricalDistribution(choices=('split',))}, user_attrs={}, system_attrs={}, intermediate_values={}, trial_id=28, state=TrialState.COMPLETE, value=None),\n",
       " FrozenTrial(number=29, values=[15748.730354713822], datetime_start=datetime.datetime(2023, 5, 2, 21, 19, 12, 241379), datetime_complete=datetime.datetime(2023, 5, 2, 21, 19, 16, 593195), params={'boosting_type': 'gbdt', 'max_depth': 5, 'learning_rate': 0.1, 'random_state': 42, 'importance_type': 'split'}, distributions={'boosting_type': CategoricalDistribution(choices=('gbdt',)), 'max_depth': IntUniformDistribution(high=5, low=4, step=1), 'learning_rate': UniformDistribution(high=0.1, low=0.1), 'random_state': IntUniformDistribution(high=42, low=42, step=1), 'importance_type': CategoricalDistribution(choices=('split',))}, user_attrs={}, system_attrs={}, intermediate_values={}, trial_id=29, state=TrialState.COMPLETE, value=None),\n",
       " FrozenTrial(number=30, values=[15748.730354713822], datetime_start=datetime.datetime(2023, 5, 2, 21, 19, 12, 247710), datetime_complete=datetime.datetime(2023, 5, 2, 21, 19, 16, 139920), params={'boosting_type': 'gbdt', 'max_depth': 5, 'learning_rate': 0.1, 'random_state': 42, 'importance_type': 'split'}, distributions={'boosting_type': CategoricalDistribution(choices=('gbdt',)), 'max_depth': IntUniformDistribution(high=5, low=4, step=1), 'learning_rate': UniformDistribution(high=0.1, low=0.1), 'random_state': IntUniformDistribution(high=42, low=42, step=1), 'importance_type': CategoricalDistribution(choices=('split',))}, user_attrs={}, system_attrs={}, intermediate_values={}, trial_id=30, state=TrialState.COMPLETE, value=None),\n",
       " FrozenTrial(number=31, values=[15748.730354713822], datetime_start=datetime.datetime(2023, 5, 2, 21, 19, 12, 258426), datetime_complete=datetime.datetime(2023, 5, 2, 21, 19, 16, 581840), params={'boosting_type': 'gbdt', 'max_depth': 5, 'learning_rate': 0.1, 'random_state': 42, 'importance_type': 'split'}, distributions={'boosting_type': CategoricalDistribution(choices=('gbdt',)), 'max_depth': IntUniformDistribution(high=5, low=4, step=1), 'learning_rate': UniformDistribution(high=0.1, low=0.1), 'random_state': IntUniformDistribution(high=42, low=42, step=1), 'importance_type': CategoricalDistribution(choices=('split',))}, user_attrs={}, system_attrs={}, intermediate_values={}, trial_id=31, state=TrialState.COMPLETE, value=None),\n",
       " FrozenTrial(number=32, values=[15748.730354713822], datetime_start=datetime.datetime(2023, 5, 2, 21, 19, 12, 265056), datetime_complete=datetime.datetime(2023, 5, 2, 21, 19, 16, 189580), params={'boosting_type': 'gbdt', 'max_depth': 5, 'learning_rate': 0.1, 'random_state': 42, 'importance_type': 'split'}, distributions={'boosting_type': CategoricalDistribution(choices=('gbdt',)), 'max_depth': IntUniformDistribution(high=5, low=4, step=1), 'learning_rate': UniformDistribution(high=0.1, low=0.1), 'random_state': IntUniformDistribution(high=42, low=42, step=1), 'importance_type': CategoricalDistribution(choices=('split',))}, user_attrs={}, system_attrs={}, intermediate_values={}, trial_id=32, state=TrialState.COMPLETE, value=None),\n",
       " FrozenTrial(number=33, values=[15748.730354713822], datetime_start=datetime.datetime(2023, 5, 2, 21, 19, 12, 268678), datetime_complete=datetime.datetime(2023, 5, 2, 21, 19, 16, 175902), params={'boosting_type': 'gbdt', 'max_depth': 5, 'learning_rate': 0.1, 'random_state': 42, 'importance_type': 'split'}, distributions={'boosting_type': CategoricalDistribution(choices=('gbdt',)), 'max_depth': IntUniformDistribution(high=5, low=4, step=1), 'learning_rate': UniformDistribution(high=0.1, low=0.1), 'random_state': IntUniformDistribution(high=42, low=42, step=1), 'importance_type': CategoricalDistribution(choices=('split',))}, user_attrs={}, system_attrs={}, intermediate_values={}, trial_id=33, state=TrialState.COMPLETE, value=None),\n",
       " FrozenTrial(number=34, values=[15748.730354713822], datetime_start=datetime.datetime(2023, 5, 2, 21, 19, 12, 276360), datetime_complete=datetime.datetime(2023, 5, 2, 21, 19, 16, 91204), params={'boosting_type': 'gbdt', 'max_depth': 5, 'learning_rate': 0.1, 'random_state': 42, 'importance_type': 'split'}, distributions={'boosting_type': CategoricalDistribution(choices=('gbdt',)), 'max_depth': IntUniformDistribution(high=5, low=4, step=1), 'learning_rate': UniformDistribution(high=0.1, low=0.1), 'random_state': IntUniformDistribution(high=42, low=42, step=1), 'importance_type': CategoricalDistribution(choices=('split',))}, user_attrs={}, system_attrs={}, intermediate_values={}, trial_id=34, state=TrialState.COMPLETE, value=None),\n",
       " FrozenTrial(number=35, values=[15748.730354713822], datetime_start=datetime.datetime(2023, 5, 2, 21, 19, 12, 809115), datetime_complete=datetime.datetime(2023, 5, 2, 21, 19, 16, 492162), params={'boosting_type': 'gbdt', 'max_depth': 5, 'learning_rate': 0.1, 'random_state': 42, 'importance_type': 'split'}, distributions={'boosting_type': CategoricalDistribution(choices=('gbdt',)), 'max_depth': IntUniformDistribution(high=5, low=4, step=1), 'learning_rate': UniformDistribution(high=0.1, low=0.1), 'random_state': IntUniformDistribution(high=42, low=42, step=1), 'importance_type': CategoricalDistribution(choices=('split',))}, user_attrs={}, system_attrs={}, intermediate_values={}, trial_id=35, state=TrialState.COMPLETE, value=None),\n",
       " FrozenTrial(number=36, values=[15748.730354713822], datetime_start=datetime.datetime(2023, 5, 2, 21, 19, 16, 99964), datetime_complete=datetime.datetime(2023, 5, 2, 21, 19, 17, 620197), params={'boosting_type': 'gbdt', 'max_depth': 5, 'learning_rate': 0.1, 'random_state': 42, 'importance_type': 'split'}, distributions={'boosting_type': CategoricalDistribution(choices=('gbdt',)), 'max_depth': IntUniformDistribution(high=5, low=4, step=1), 'learning_rate': UniformDistribution(high=0.1, low=0.1), 'random_state': IntUniformDistribution(high=42, low=42, step=1), 'importance_type': CategoricalDistribution(choices=('split',))}, user_attrs={}, system_attrs={}, intermediate_values={}, trial_id=36, state=TrialState.COMPLETE, value=None),\n",
       " FrozenTrial(number=37, values=[15748.730354713822], datetime_start=datetime.datetime(2023, 5, 2, 21, 19, 16, 156878), datetime_complete=datetime.datetime(2023, 5, 2, 21, 19, 17, 513854), params={'boosting_type': 'gbdt', 'max_depth': 5, 'learning_rate': 0.1, 'random_state': 42, 'importance_type': 'split'}, distributions={'boosting_type': CategoricalDistribution(choices=('gbdt',)), 'max_depth': IntUniformDistribution(high=5, low=4, step=1), 'learning_rate': UniformDistribution(high=0.1, low=0.1), 'random_state': IntUniformDistribution(high=42, low=42, step=1), 'importance_type': CategoricalDistribution(choices=('split',))}, user_attrs={}, system_attrs={}, intermediate_values={}, trial_id=37, state=TrialState.COMPLETE, value=None),\n",
       " FrozenTrial(number=38, values=[15748.730354713822], datetime_start=datetime.datetime(2023, 5, 2, 21, 19, 16, 162304), datetime_complete=datetime.datetime(2023, 5, 2, 21, 19, 17, 492444), params={'boosting_type': 'gbdt', 'max_depth': 5, 'learning_rate': 0.1, 'random_state': 42, 'importance_type': 'split'}, distributions={'boosting_type': CategoricalDistribution(choices=('gbdt',)), 'max_depth': IntUniformDistribution(high=5, low=4, step=1), 'learning_rate': UniformDistribution(high=0.1, low=0.1), 'random_state': IntUniformDistribution(high=42, low=42, step=1), 'importance_type': CategoricalDistribution(choices=('split',))}, user_attrs={}, system_attrs={}, intermediate_values={}, trial_id=38, state=TrialState.COMPLETE, value=None),\n",
       " FrozenTrial(number=39, values=[15748.730354713822], datetime_start=datetime.datetime(2023, 5, 2, 21, 19, 16, 180468), datetime_complete=datetime.datetime(2023, 5, 2, 21, 19, 17, 526371), params={'boosting_type': 'gbdt', 'max_depth': 5, 'learning_rate': 0.1, 'random_state': 42, 'importance_type': 'split'}, distributions={'boosting_type': CategoricalDistribution(choices=('gbdt',)), 'max_depth': IntUniformDistribution(high=5, low=4, step=1), 'learning_rate': UniformDistribution(high=0.1, low=0.1), 'random_state': IntUniformDistribution(high=42, low=42, step=1), 'importance_type': CategoricalDistribution(choices=('split',))}, user_attrs={}, system_attrs={}, intermediate_values={}, trial_id=39, state=TrialState.COMPLETE, value=None)]"
      ]
     },
     "execution_count": 19,
     "metadata": {},
     "output_type": "execute_result"
    }
   ],
   "source": [
    "OptunaObj = obj.get_optimized_object()\n",
    "OptunaObj.trials"
   ]
  }
 ],
 "metadata": {
  "kernelspec": {
   "display_name": "Python 3.10.4 ('.venv': poetry)",
   "language": "python",
   "name": "python3"
  },
  "language_info": {
   "codemirror_mode": {
    "name": "ipython",
    "version": 3
   },
   "file_extension": ".py",
   "mimetype": "text/x-python",
   "name": "python",
   "nbconvert_exporter": "python",
   "pygments_lexer": "ipython3",
   "version": "3.10.11"
  },
  "orig_nbformat": 4,
  "vscode": {
   "interpreter": {
    "hash": "7ced68e88e9060e5bcf2eaa5b2d4f8fc97e4d610a52d347137abf879072ffb6d"
   }
  }
 },
 "nbformat": 4,
 "nbformat_minor": 2
}
