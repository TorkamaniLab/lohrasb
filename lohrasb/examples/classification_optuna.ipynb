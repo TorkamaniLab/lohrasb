{
 "cells": [
  {
   "cell_type": "code",
   "execution_count": 10,
   "metadata": {},
   "outputs": [],
   "source": [
    "from lohrasb.best_estimator import BaseModel\n",
    "from optuna.pruners import HyperbandPruner\n",
    "from optuna.samplers._tpe.sampler import TPESampler\n",
    "from sklearn.model_selection import train_test_split\n",
    "import pandas as pd\n",
    "import numpy as np\n",
    "import optuna\n",
    "from sklearn.pipeline import Pipeline\n",
    "from feature_engine.imputation import (\n",
    "    CategoricalImputer,\n",
    "    MeanMedianImputer\n",
    "    )\n",
    "from category_encoders import OrdinalEncoder\n",
    "from sklearn.metrics import (\n",
    "    classification_report,\n",
    "    confusion_matrix,\n",
    "    f1_score)\n",
    "from lightgbm import *\n",
    "from lohrasb.utils.metrics import f1_plus_tn\n"
   ]
  },
  {
   "attachments": {},
   "cell_type": "markdown",
   "metadata": {},
   "source": [
    "#### Example 1 : Use Adult Data Set (a classification problem)\n",
    "  \n",
    "https://archive.ics.uci.edu/ml/datasets/Adult"
   ]
  },
  {
   "attachments": {},
   "cell_type": "markdown",
   "metadata": {},
   "source": [
    "#### Part 1: Use BestModel in sklearn pipeline\n"
   ]
  },
  {
   "cell_type": "code",
   "execution_count": 11,
   "metadata": {},
   "outputs": [
    {
     "data": {
      "text/html": [
       "<div>\n",
       "<style scoped>\n",
       "    .dataframe tbody tr th:only-of-type {\n",
       "        vertical-align: middle;\n",
       "    }\n",
       "\n",
       "    .dataframe tbody tr th {\n",
       "        vertical-align: top;\n",
       "    }\n",
       "\n",
       "    .dataframe thead th {\n",
       "        text-align: right;\n",
       "    }\n",
       "</style>\n",
       "<table border=\"1\" class=\"dataframe\">\n",
       "  <thead>\n",
       "    <tr style=\"text-align: right;\">\n",
       "      <th></th>\n",
       "      <th>age</th>\n",
       "      <th>workclass</th>\n",
       "      <th>fnlwgt</th>\n",
       "      <th>education</th>\n",
       "      <th>education-num</th>\n",
       "      <th>marital-status</th>\n",
       "      <th>occupation</th>\n",
       "      <th>relationship</th>\n",
       "      <th>race</th>\n",
       "      <th>sex</th>\n",
       "      <th>capital-gain</th>\n",
       "      <th>capital-loss</th>\n",
       "      <th>hours-per-week</th>\n",
       "      <th>native-country</th>\n",
       "      <th>label</th>\n",
       "    </tr>\n",
       "  </thead>\n",
       "  <tbody>\n",
       "    <tr>\n",
       "      <th>0</th>\n",
       "      <td>39</td>\n",
       "      <td>State-gov</td>\n",
       "      <td>77516</td>\n",
       "      <td>Bachelors</td>\n",
       "      <td>13</td>\n",
       "      <td>Never-married</td>\n",
       "      <td>Adm-clerical</td>\n",
       "      <td>Not-in-family</td>\n",
       "      <td>White</td>\n",
       "      <td>Male</td>\n",
       "      <td>2174</td>\n",
       "      <td>0</td>\n",
       "      <td>40</td>\n",
       "      <td>United-States</td>\n",
       "      <td>&lt;=50K</td>\n",
       "    </tr>\n",
       "    <tr>\n",
       "      <th>1</th>\n",
       "      <td>50</td>\n",
       "      <td>Self-emp-not-inc</td>\n",
       "      <td>83311</td>\n",
       "      <td>Bachelors</td>\n",
       "      <td>13</td>\n",
       "      <td>Married-civ-spouse</td>\n",
       "      <td>Exec-managerial</td>\n",
       "      <td>Husband</td>\n",
       "      <td>White</td>\n",
       "      <td>Male</td>\n",
       "      <td>0</td>\n",
       "      <td>0</td>\n",
       "      <td>13</td>\n",
       "      <td>United-States</td>\n",
       "      <td>&lt;=50K</td>\n",
       "    </tr>\n",
       "    <tr>\n",
       "      <th>2</th>\n",
       "      <td>38</td>\n",
       "      <td>Private</td>\n",
       "      <td>215646</td>\n",
       "      <td>HS-grad</td>\n",
       "      <td>9</td>\n",
       "      <td>Divorced</td>\n",
       "      <td>Handlers-cleaners</td>\n",
       "      <td>Not-in-family</td>\n",
       "      <td>White</td>\n",
       "      <td>Male</td>\n",
       "      <td>0</td>\n",
       "      <td>0</td>\n",
       "      <td>40</td>\n",
       "      <td>United-States</td>\n",
       "      <td>&lt;=50K</td>\n",
       "    </tr>\n",
       "    <tr>\n",
       "      <th>3</th>\n",
       "      <td>53</td>\n",
       "      <td>Private</td>\n",
       "      <td>234721</td>\n",
       "      <td>11th</td>\n",
       "      <td>7</td>\n",
       "      <td>Married-civ-spouse</td>\n",
       "      <td>Handlers-cleaners</td>\n",
       "      <td>Husband</td>\n",
       "      <td>Black</td>\n",
       "      <td>Male</td>\n",
       "      <td>0</td>\n",
       "      <td>0</td>\n",
       "      <td>40</td>\n",
       "      <td>United-States</td>\n",
       "      <td>&lt;=50K</td>\n",
       "    </tr>\n",
       "    <tr>\n",
       "      <th>4</th>\n",
       "      <td>28</td>\n",
       "      <td>Private</td>\n",
       "      <td>338409</td>\n",
       "      <td>Bachelors</td>\n",
       "      <td>13</td>\n",
       "      <td>Married-civ-spouse</td>\n",
       "      <td>Prof-specialty</td>\n",
       "      <td>Wife</td>\n",
       "      <td>Black</td>\n",
       "      <td>Female</td>\n",
       "      <td>0</td>\n",
       "      <td>0</td>\n",
       "      <td>40</td>\n",
       "      <td>Cuba</td>\n",
       "      <td>&lt;=50K</td>\n",
       "    </tr>\n",
       "  </tbody>\n",
       "</table>\n",
       "</div>"
      ],
      "text/plain": [
       "   age          workclass  fnlwgt   education  education-num  \\\n",
       "0   39          State-gov   77516   Bachelors             13   \n",
       "1   50   Self-emp-not-inc   83311   Bachelors             13   \n",
       "2   38            Private  215646     HS-grad              9   \n",
       "3   53            Private  234721        11th              7   \n",
       "4   28            Private  338409   Bachelors             13   \n",
       "\n",
       "        marital-status          occupation    relationship    race      sex  \\\n",
       "0        Never-married        Adm-clerical   Not-in-family   White     Male   \n",
       "1   Married-civ-spouse     Exec-managerial         Husband   White     Male   \n",
       "2             Divorced   Handlers-cleaners   Not-in-family   White     Male   \n",
       "3   Married-civ-spouse   Handlers-cleaners         Husband   Black     Male   \n",
       "4   Married-civ-spouse      Prof-specialty            Wife   Black   Female   \n",
       "\n",
       "   capital-gain  capital-loss  hours-per-week  native-country   label  \n",
       "0          2174             0              40   United-States   <=50K  \n",
       "1             0             0              13   United-States   <=50K  \n",
       "2             0             0              40   United-States   <=50K  \n",
       "3             0             0              40   United-States   <=50K  \n",
       "4             0             0              40            Cuba   <=50K  "
      ]
     },
     "execution_count": 11,
     "metadata": {},
     "output_type": "execute_result"
    }
   ],
   "source": [
    "urldata= \"https://archive.ics.uci.edu/ml/machine-learning-databases/adult/adult.data\"\n",
    "# column names\n",
    "col_names=[\"age\", \"workclass\", \"fnlwgt\" , \"education\" ,\"education-num\",\n",
    "\"marital-status\",\"occupation\",\"relationship\",\"race\",\"sex\",\"capital-gain\",\"capital-loss\",\"hours-per-week\",\n",
    "\"native-country\",\"label\"\n",
    "]\n",
    "# read data\n",
    "data = pd.read_csv(urldata,header=None,names=col_names,sep=',')\n",
    "data.head()"
   ]
  },
  {
   "attachments": {},
   "cell_type": "markdown",
   "metadata": {},
   "source": [
    "#### Define labels\n"
   ]
  },
  {
   "cell_type": "code",
   "execution_count": 12,
   "metadata": {},
   "outputs": [],
   "source": [
    "data.loc[data['label']=='<=50K','label']=0\n",
    "data.loc[data['label']==' <=50K','label']=0\n",
    "\n",
    "data.loc[data['label']=='>50K','label']=1\n",
    "data.loc[data['label']==' >50K','label']=1\n",
    "\n",
    "data['label']=data['label'].astype(int)"
   ]
  },
  {
   "attachments": {},
   "cell_type": "markdown",
   "metadata": {},
   "source": [
    "#### Train test split"
   ]
  },
  {
   "cell_type": "code",
   "execution_count": 13,
   "metadata": {},
   "outputs": [],
   "source": [
    "X = data.loc[:, data.columns != \"label\"]\n",
    "y = data.loc[:, data.columns == \"label\"]\n",
    "y = y.values.ravel()\n",
    "\n",
    "\n",
    "X_train, X_test, y_train, y_test =train_test_split(X, y, test_size=0.33, random_state=42)\n",
    "\n",
    "# for sample_weights\n",
    "weights = np.ones(len(y_train))\n"
   ]
  },
  {
   "attachments": {},
   "cell_type": "markdown",
   "metadata": {},
   "source": [
    "#### Find feature types for later use"
   ]
  },
  {
   "cell_type": "code",
   "execution_count": 14,
   "metadata": {},
   "outputs": [],
   "source": [
    "int_cols =  X_train.select_dtypes(include=['int']).columns.tolist()\n",
    "float_cols =  X_train.select_dtypes(include=['float']).columns.tolist()\n",
    "cat_cols =  X_train.select_dtypes(include=['object']).columns.tolist()\n"
   ]
  },
  {
   "attachments": {},
   "cell_type": "markdown",
   "metadata": {},
   "source": [
    "#### Define model and set it argumens "
   ]
  },
  {
   "cell_type": "code",
   "execution_count": 15,
   "metadata": {},
   "outputs": [],
   "source": [
    "estimator = LGBMClassifier()\n",
    "estimator_params = {\n",
    "        \"boosting_type\":[\"gbdt\"],\n",
    "        \"max_depth\": [6,15],\n",
    "        \"learning_rate\":[0.01, 0.1],\n",
    "        \"random_state\":[42],\n",
    "\n",
    "    }\n",
    "\n",
    "kwargs = {  # params for fit method  \n",
    "            'fit_optuna_kwargs' :{\n",
    "            'sample_weight':None,\n",
    "            },\n",
    "            # params for OptunaSearch\n",
    "            'main_optuna_kwargs' : {\n",
    "            'estimator':estimator,\n",
    "            'estimator_params':estimator_params,\n",
    "            'refit':True,\n",
    "            'measure_of_accuracy' :'f1_score(y_true, y_pred,average=\"weighted\")',\n",
    "\n",
    "            },\n",
    "            'train_test_split_kwargs':{\n",
    "                'test_size':.3,\n",
    "                            \n",
    "            },\n",
    "            'study_search_kwargs':{\n",
    "                'storage':None,\n",
    "                'sampler':TPESampler(),\n",
    "                'pruner':HyperbandPruner(),\n",
    "                'study_name':\"example of optuna optimizer\",\n",
    "                'direction':\"maximize\",\n",
    "                'load_if_exists':False,\n",
    "            },\n",
    "            'optimize_kwargs':{\n",
    "                # optuna optimization params\n",
    "                'n_trials':20,\n",
    "                'timeout':600,\n",
    "                'catch':(),\n",
    "                'callbacks':None,\n",
    "                'gc_after_trial':False,\n",
    "                'show_progress_bar':False,\n",
    "            }\n",
    "}\n",
    "\n",
    "\n"
   ]
  },
  {
   "cell_type": "code",
   "execution_count": 16,
   "metadata": {},
   "outputs": [],
   "source": [
    "obj = BaseModel().optimize_by_optuna(\n",
    "            kwargs=kwargs\n",
    "        )"
   ]
  },
  {
   "attachments": {},
   "cell_type": "markdown",
   "metadata": {},
   "source": [
    "#### Build sklearn pipeline"
   ]
  },
  {
   "cell_type": "code",
   "execution_count": 17,
   "metadata": {},
   "outputs": [],
   "source": [
    "\n",
    "\n",
    "pipeline =Pipeline([\n",
    "            # int missing values imputers\n",
    "            ('intimputer', MeanMedianImputer(\n",
    "                imputation_method='median', variables=int_cols)),\n",
    "            # category missing values imputers\n",
    "            ('catimputer', CategoricalImputer(variables=cat_cols)),\n",
    "            #\n",
    "            ('catencoder', OrdinalEncoder()),\n",
    "            # classification model\n",
    "            ('obj', obj),\n",
    "\n",
    "\n",
    " ])\n",
    " \n",
    "\n"
   ]
  },
  {
   "attachments": {},
   "cell_type": "markdown",
   "metadata": {},
   "source": [
    "#### Run Pipeline"
   ]
  },
  {
   "cell_type": "code",
   "execution_count": 18,
   "metadata": {},
   "outputs": [
    {
     "name": "stderr",
     "output_type": "stream",
     "text": [
      "[I 2023-07-02 12:51:11,425] A new study created in memory with name: example of optuna optimizer\n",
      "[I 2023-07-02 12:51:12,884] Trial 0 finished with value: 0.8708378541567025 and parameters: {'boosting_type': 'gbdt', 'max_depth': 6, 'learning_rate': 0.08474901727393494, 'random_state': 42}. Best is trial 0 with value: 0.8708378541567025.\n",
      "[I 2023-07-02 12:51:13,647] Trial 1 finished with value: 0.852582531256088 and parameters: {'boosting_type': 'gbdt', 'max_depth': 14, 'learning_rate': 0.013285676707899145, 'random_state': 42}. Best is trial 0 with value: 0.8708378541567025.\n",
      "[I 2023-07-02 12:51:14,399] Trial 2 finished with value: 0.8701739258494435 and parameters: {'boosting_type': 'gbdt', 'max_depth': 13, 'learning_rate': 0.07001673245222276, 'random_state': 42}. Best is trial 0 with value: 0.8708378541567025.\n",
      "[I 2023-07-02 12:51:15,079] Trial 3 finished with value: 0.8675783655603083 and parameters: {'boosting_type': 'gbdt', 'max_depth': 7, 'learning_rate': 0.05254214418602758, 'random_state': 42}. Best is trial 0 with value: 0.8708378541567025.\n",
      "[I 2023-07-02 12:51:15,837] Trial 4 finished with value: 0.8705942872864266 and parameters: {'boosting_type': 'gbdt', 'max_depth': 13, 'learning_rate': 0.05681332015487068, 'random_state': 42}. Best is trial 0 with value: 0.8708378541567025.\n",
      "[I 2023-07-02 12:51:16,651] Trial 5 finished with value: 0.855917593997535 and parameters: {'boosting_type': 'gbdt', 'max_depth': 15, 'learning_rate': 0.018153500106354782, 'random_state': 42}. Best is trial 0 with value: 0.8708378541567025.\n",
      "[I 2023-07-02 12:51:17,356] Trial 6 finished with value: 0.8718902323971662 and parameters: {'boosting_type': 'gbdt', 'max_depth': 9, 'learning_rate': 0.08398959535905805, 'random_state': 42}. Best is trial 6 with value: 0.8718902323971662.\n",
      "[I 2023-07-02 12:51:18,084] Trial 7 finished with value: 0.8726817420318914 and parameters: {'boosting_type': 'gbdt', 'max_depth': 11, 'learning_rate': 0.09822569384073808, 'random_state': 42}. Best is trial 7 with value: 0.8726817420318914.\n",
      "[I 2023-07-02 12:51:18,841] Trial 8 finished with value: 0.8698937111781305 and parameters: {'boosting_type': 'gbdt', 'max_depth': 13, 'learning_rate': 0.061868554562485474, 'random_state': 42}. Best is trial 7 with value: 0.8726817420318914.\n",
      "[I 2023-07-02 12:51:19,610] Trial 9 finished with value: 0.8712080409811831 and parameters: {'boosting_type': 'gbdt', 'max_depth': 15, 'learning_rate': 0.09820120372770803, 'random_state': 42}. Best is trial 7 with value: 0.8726817420318914.\n",
      "[I 2023-07-02 12:51:20,354] Trial 10 finished with value: 0.8721939266576666 and parameters: {'boosting_type': 'gbdt', 'max_depth': 10, 'learning_rate': 0.09352197651313024, 'random_state': 42}. Best is trial 7 with value: 0.8726817420318914.\n",
      "[I 2023-07-02 12:51:21,092] Trial 11 finished with value: 0.8708696248525869 and parameters: {'boosting_type': 'gbdt', 'max_depth': 10, 'learning_rate': 0.09992300628527871, 'random_state': 42}. Best is trial 7 with value: 0.8726817420318914.\n",
      "[I 2023-07-02 12:51:21,827] Trial 12 finished with value: 0.8713196536581963 and parameters: {'boosting_type': 'gbdt', 'max_depth': 11, 'learning_rate': 0.08604733580455662, 'random_state': 42}. Best is trial 7 with value: 0.8726817420318914.\n",
      "[I 2023-07-02 12:51:22,573] Trial 13 finished with value: 0.8715319754718 and parameters: {'boosting_type': 'gbdt', 'max_depth': 11, 'learning_rate': 0.09768060413489854, 'random_state': 42}. Best is trial 7 with value: 0.8726817420318914.\n",
      "[I 2023-07-02 12:51:23,300] Trial 14 finished with value: 0.8699293656824607 and parameters: {'boosting_type': 'gbdt', 'max_depth': 9, 'learning_rate': 0.07860298882185779, 'random_state': 42}. Best is trial 7 with value: 0.8726817420318914.\n",
      "[I 2023-07-02 12:51:24,020] Trial 15 finished with value: 0.8707347932933852 and parameters: {'boosting_type': 'gbdt', 'max_depth': 8, 'learning_rate': 0.07273825345560253, 'random_state': 42}. Best is trial 7 with value: 0.8726817420318914.\n",
      "[I 2023-07-02 12:51:24,753] Trial 16 finished with value: 0.871607386973764 and parameters: {'boosting_type': 'gbdt', 'max_depth': 12, 'learning_rate': 0.09082738887569161, 'random_state': 42}. Best is trial 7 with value: 0.8726817420318914.\n",
      "[I 2023-07-02 12:51:25,486] Trial 17 finished with value: 0.8722419396447348 and parameters: {'boosting_type': 'gbdt', 'max_depth': 10, 'learning_rate': 0.07413999968948307, 'random_state': 42}. Best is trial 7 with value: 0.8726817420318914.\n",
      "[I 2023-07-02 12:51:26,224] Trial 18 finished with value: 0.8700337756385944 and parameters: {'boosting_type': 'gbdt', 'max_depth': 9, 'learning_rate': 0.07614383304195606, 'random_state': 42}. Best is trial 7 with value: 0.8726817420318914.\n",
      "[I 2023-07-02 12:51:26,952] Trial 19 finished with value: 0.871855612492623 and parameters: {'boosting_type': 'gbdt', 'max_depth': 11, 'learning_rate': 0.06673975603674577, 'random_state': 42}. Best is trial 7 with value: 0.8726817420318914.\n"
     ]
    },
    {
     "name": "stdout",
     "output_type": "stream",
     "text": [
      "2023-07-02 12:51:26,953 :: dev :: If refit is set to True, the optimal model will be refit on the entire dataset, i.e., X_train and y_train!\n",
      "2023-07-02 12:51:26,953 :: dev :: If refit is set to True, the optimal model will be refit on the entire dataset, i.e., X_train and y_train!\n"
     ]
    }
   ],
   "source": [
    "pipeline.fit(X_train,y_train)\n",
    "y_preds = pipeline.predict(X_test)\n",
    "pred_labels = np.rint(y_preds)\n",
    "\n",
    "\n"
   ]
  },
  {
   "attachments": {},
   "cell_type": "markdown",
   "metadata": {},
   "source": [
    "#### Check performance of the pipeline"
   ]
  },
  {
   "cell_type": "code",
   "execution_count": 19,
   "metadata": {},
   "outputs": [
    {
     "name": "stdout",
     "output_type": "stream",
     "text": [
      "F1 score : \n",
      "0.7119507535555085\n",
      "Classification report : \n",
      "              precision    recall  f1-score   support\n",
      "\n",
      "           0       0.90      0.94      0.92      8196\n",
      "           1       0.78      0.66      0.71      2550\n",
      "\n",
      "    accuracy                           0.87     10746\n",
      "   macro avg       0.84      0.80      0.82     10746\n",
      "weighted avg       0.87      0.87      0.87     10746\n",
      "\n",
      "Confusion matrix : \n",
      "[[7712  484]\n",
      " [ 873 1677]]\n"
     ]
    }
   ],
   "source": [
    "print('F1 score : ')\n",
    "print(f1_score(y_test,pred_labels))\n",
    "print('Classification report : ')\n",
    "print(classification_report(y_test,pred_labels))\n",
    "print('Confusion matrix : ')\n",
    "print(confusion_matrix(y_test,pred_labels))\n"
   ]
  },
  {
   "attachments": {},
   "cell_type": "markdown",
   "metadata": {},
   "source": [
    "#### Some estimators have predict_proba method as well"
   ]
  },
  {
   "cell_type": "code",
   "execution_count": 20,
   "metadata": {},
   "outputs": [
    {
     "name": "stdout",
     "output_type": "stream",
     "text": [
      "[[0.99165812 0.00834188]\n",
      " [0.60663989 0.39336011]\n",
      " [0.33310401 0.66689599]\n",
      " ...\n",
      " [0.72299323 0.27700677]\n",
      " [0.70300586 0.29699414]\n",
      " [0.98265809 0.01734191]]\n"
     ]
    }
   ],
   "source": [
    "y_preds = pipeline.predict_proba(X_test)\n",
    "print(y_preds)"
   ]
  },
  {
   "attachments": {},
   "cell_type": "markdown",
   "metadata": {},
   "source": [
    "#### Part 2:  Use BestModel as a standalone estimator "
   ]
  },
  {
   "cell_type": "code",
   "execution_count": 21,
   "metadata": {},
   "outputs": [],
   "source": [
    "X_train, X_test, y_train, y_test =train_test_split(X, y, test_size=0.33, random_state=42)\n"
   ]
  },
  {
   "attachments": {},
   "cell_type": "markdown",
   "metadata": {},
   "source": [
    "#### Transform features to make them ready for model input"
   ]
  },
  {
   "cell_type": "code",
   "execution_count": 22,
   "metadata": {},
   "outputs": [],
   "source": [
    "transform_pipeline =Pipeline([\n",
    "            # int missing values imputers\n",
    "            ('intimputer', MeanMedianImputer(\n",
    "                imputation_method='median', variables=int_cols)),\n",
    "            # category missing values imputers\n",
    "            ('catimputer', CategoricalImputer(variables=cat_cols)),\n",
    "            #\n",
    "            ('catencoder', OrdinalEncoder()),\n",
    "            # classification model\n",
    "\n",
    " ])"
   ]
  },
  {
   "attachments": {},
   "cell_type": "markdown",
   "metadata": {},
   "source": [
    "#### Transform X_train and X_test"
   ]
  },
  {
   "cell_type": "code",
   "execution_count": 23,
   "metadata": {},
   "outputs": [],
   "source": [
    "X_train=transform_pipeline.fit_transform(X_train,y_train)\n",
    "X_test=transform_pipeline.transform(X_test)\n"
   ]
  },
  {
   "attachments": {},
   "cell_type": "markdown",
   "metadata": {},
   "source": [
    "#### Train model and predict"
   ]
  },
  {
   "cell_type": "code",
   "execution_count": 24,
   "metadata": {},
   "outputs": [
    {
     "name": "stderr",
     "output_type": "stream",
     "text": [
      "[I 2023-07-02 12:51:28,455] A new study created in memory with name: example of optuna optimizer\n",
      "[I 2023-07-02 12:51:29,415] Trial 0 finished with value: 0.8578221695217014 and parameters: {'boosting_type': 'gbdt', 'max_depth': 13, 'learning_rate': 0.034801052770746674, 'random_state': 42}. Best is trial 0 with value: 0.8578221695217014.\n",
      "[I 2023-07-02 12:51:30,141] Trial 1 finished with value: 0.8629886341902516 and parameters: {'boosting_type': 'gbdt', 'max_depth': 12, 'learning_rate': 0.05509020467459921, 'random_state': 42}. Best is trial 1 with value: 0.8629886341902516.\n",
      "[I 2023-07-02 12:51:31,062] Trial 2 finished with value: 0.862943951793937 and parameters: {'boosting_type': 'gbdt', 'max_depth': 11, 'learning_rate': 0.052136012208795206, 'random_state': 42}. Best is trial 1 with value: 0.8629886341902516.\n",
      "[I 2023-07-02 12:51:31,711] Trial 3 finished with value: 0.8466313668335873 and parameters: {'boosting_type': 'gbdt', 'max_depth': 7, 'learning_rate': 0.017766415568758395, 'random_state': 42}. Best is trial 1 with value: 0.8629886341902516.\n",
      "[I 2023-07-02 12:51:32,412] Trial 4 finished with value: 0.8626911214198374 and parameters: {'boosting_type': 'gbdt', 'max_depth': 13, 'learning_rate': 0.07421324880197959, 'random_state': 42}. Best is trial 1 with value: 0.8629886341902516.\n",
      "[I 2023-07-02 12:51:33,089] Trial 5 finished with value: 0.8594916795835378 and parameters: {'boosting_type': 'gbdt', 'max_depth': 8, 'learning_rate': 0.04576580554816194, 'random_state': 42}. Best is trial 1 with value: 0.8629886341902516.\n",
      "[I 2023-07-02 12:51:33,810] Trial 6 finished with value: 0.8621896037602711 and parameters: {'boosting_type': 'gbdt', 'max_depth': 13, 'learning_rate': 0.052037830455530024, 'random_state': 42}. Best is trial 1 with value: 0.8629886341902516.\n",
      "[I 2023-07-02 12:51:34,561] Trial 7 finished with value: 0.8574331544762472 and parameters: {'boosting_type': 'gbdt', 'max_depth': 9, 'learning_rate': 0.033333576413472635, 'random_state': 42}. Best is trial 1 with value: 0.8629886341902516.\n",
      "[I 2023-07-02 12:51:35,655] Trial 8 finished with value: 0.8498704029164482 and parameters: {'boosting_type': 'gbdt', 'max_depth': 13, 'learning_rate': 0.017639443241107715, 'random_state': 42}. Best is trial 1 with value: 0.8629886341902516.\n",
      "[I 2023-07-02 12:51:36,442] Trial 9 finished with value: 0.8623807955393544 and parameters: {'boosting_type': 'gbdt', 'max_depth': 9, 'learning_rate': 0.04987620617739998, 'random_state': 42}. Best is trial 1 with value: 0.8629886341902516.\n",
      "[I 2023-07-02 12:51:37,467] Trial 10 finished with value: 0.8622120604833856 and parameters: {'boosting_type': 'gbdt', 'max_depth': 15, 'learning_rate': 0.09912255389178279, 'random_state': 42}. Best is trial 1 with value: 0.8629886341902516.\n",
      "[I 2023-07-02 12:51:38,471] Trial 11 finished with value: 0.863737390829966 and parameters: {'boosting_type': 'gbdt', 'max_depth': 11, 'learning_rate': 0.06738047326147253, 'random_state': 42}. Best is trial 11 with value: 0.863737390829966.\n",
      "[I 2023-07-02 12:51:39,206] Trial 12 finished with value: 0.8636856806861304 and parameters: {'boosting_type': 'gbdt', 'max_depth': 11, 'learning_rate': 0.07032542324021228, 'random_state': 42}. Best is trial 11 with value: 0.863737390829966.\n",
      "[I 2023-07-02 12:51:39,932] Trial 13 finished with value: 0.863454725482552 and parameters: {'boosting_type': 'gbdt', 'max_depth': 10, 'learning_rate': 0.07398679626211195, 'random_state': 42}. Best is trial 11 with value: 0.863737390829966.\n",
      "[I 2023-07-02 12:51:40,550] Trial 14 finished with value: 0.8591737874558988 and parameters: {'boosting_type': 'gbdt', 'max_depth': 6, 'learning_rate': 0.07027369485154737, 'random_state': 42}. Best is trial 11 with value: 0.863737390829966.\n",
      "[I 2023-07-02 12:51:41,787] Trial 15 finished with value: 0.8615007677489587 and parameters: {'boosting_type': 'gbdt', 'max_depth': 11, 'learning_rate': 0.08572076696358293, 'random_state': 42}. Best is trial 11 with value: 0.863737390829966.\n",
      "[I 2023-07-02 12:51:43,028] Trial 16 finished with value: 0.8623947374546155 and parameters: {'boosting_type': 'gbdt', 'max_depth': 15, 'learning_rate': 0.062432541778098545, 'random_state': 42}. Best is trial 11 with value: 0.863737390829966.\n",
      "[I 2023-07-02 12:51:43,754] Trial 17 finished with value: 0.8638086335265922 and parameters: {'boosting_type': 'gbdt', 'max_depth': 10, 'learning_rate': 0.0858298629387847, 'random_state': 42}. Best is trial 17 with value: 0.8638086335265922.\n",
      "[I 2023-07-02 12:51:44,822] Trial 18 finished with value: 0.8631040051094443 and parameters: {'boosting_type': 'gbdt', 'max_depth': 9, 'learning_rate': 0.08714994830086138, 'random_state': 42}. Best is trial 17 with value: 0.8638086335265922.\n",
      "[I 2023-07-02 12:51:46,044] Trial 19 finished with value: 0.8614035970463837 and parameters: {'boosting_type': 'gbdt', 'max_depth': 10, 'learning_rate': 0.08618358001182892, 'random_state': 42}. Best is trial 17 with value: 0.8638086335265922.\n"
     ]
    },
    {
     "name": "stdout",
     "output_type": "stream",
     "text": [
      "2023-07-02 12:51:46,046 :: dev :: If refit is set to True, the optimal model will be refit on the entire dataset, i.e., X_train and y_train!\n",
      "2023-07-02 12:51:46,046 :: dev :: If refit is set to True, the optimal model will be refit on the entire dataset, i.e., X_train and y_train!\n"
     ]
    }
   ],
   "source": [
    "obj.fit(X_train,y_train)\n",
    "y_pred = obj.predict(X_test)"
   ]
  },
  {
   "attachments": {},
   "cell_type": "markdown",
   "metadata": {},
   "source": [
    "#### Check performance of the model"
   ]
  },
  {
   "cell_type": "code",
   "execution_count": 25,
   "metadata": {},
   "outputs": [
    {
     "name": "stdout",
     "output_type": "stream",
     "text": [
      "F1 score plus TN : \n",
      "7712.711950753555\n",
      "F1 score : \n",
      "0.7119507535555085\n",
      "Classification report : \n",
      "              precision    recall  f1-score   support\n",
      "\n",
      "           0       0.90      0.94      0.92      8196\n",
      "           1       0.78      0.66      0.71      2550\n",
      "\n",
      "    accuracy                           0.87     10746\n",
      "   macro avg       0.84      0.80      0.82     10746\n",
      "weighted avg       0.87      0.87      0.87     10746\n",
      "\n",
      "Confusion matrix : \n",
      "[[7712  484]\n",
      " [ 873 1677]]\n"
     ]
    }
   ],
   "source": [
    "f1_plus_tn\n",
    "print('F1 score plus TN : ')\n",
    "print(f1_plus_tn(y_test,pred_labels))\n",
    "print('F1 score : ')\n",
    "print(f1_score(y_test,pred_labels))\n",
    "print('Classification report : ')\n",
    "print(classification_report(y_test,pred_labels))\n",
    "print('Confusion matrix : ')\n",
    "print(confusion_matrix(y_test,pred_labels))"
   ]
  },
  {
   "cell_type": "code",
   "execution_count": 26,
   "metadata": {},
   "outputs": [
    {
     "data": {
      "text/html": [
       "<style>#sk-container-id-1 {color: black;background-color: white;}#sk-container-id-1 pre{padding: 0;}#sk-container-id-1 div.sk-toggleable {background-color: white;}#sk-container-id-1 label.sk-toggleable__label {cursor: pointer;display: block;width: 100%;margin-bottom: 0;padding: 0.3em;box-sizing: border-box;text-align: center;}#sk-container-id-1 label.sk-toggleable__label-arrow:before {content: \"▸\";float: left;margin-right: 0.25em;color: #696969;}#sk-container-id-1 label.sk-toggleable__label-arrow:hover:before {color: black;}#sk-container-id-1 div.sk-estimator:hover label.sk-toggleable__label-arrow:before {color: black;}#sk-container-id-1 div.sk-toggleable__content {max-height: 0;max-width: 0;overflow: hidden;text-align: left;background-color: #f0f8ff;}#sk-container-id-1 div.sk-toggleable__content pre {margin: 0.2em;color: black;border-radius: 0.25em;background-color: #f0f8ff;}#sk-container-id-1 input.sk-toggleable__control:checked~div.sk-toggleable__content {max-height: 200px;max-width: 100%;overflow: auto;}#sk-container-id-1 input.sk-toggleable__control:checked~label.sk-toggleable__label-arrow:before {content: \"▾\";}#sk-container-id-1 div.sk-estimator input.sk-toggleable__control:checked~label.sk-toggleable__label {background-color: #d4ebff;}#sk-container-id-1 div.sk-label input.sk-toggleable__control:checked~label.sk-toggleable__label {background-color: #d4ebff;}#sk-container-id-1 input.sk-hidden--visually {border: 0;clip: rect(1px 1px 1px 1px);clip: rect(1px, 1px, 1px, 1px);height: 1px;margin: -1px;overflow: hidden;padding: 0;position: absolute;width: 1px;}#sk-container-id-1 div.sk-estimator {font-family: monospace;background-color: #f0f8ff;border: 1px dotted black;border-radius: 0.25em;box-sizing: border-box;margin-bottom: 0.5em;}#sk-container-id-1 div.sk-estimator:hover {background-color: #d4ebff;}#sk-container-id-1 div.sk-parallel-item::after {content: \"\";width: 100%;border-bottom: 1px solid gray;flex-grow: 1;}#sk-container-id-1 div.sk-label:hover label.sk-toggleable__label {background-color: #d4ebff;}#sk-container-id-1 div.sk-serial::before {content: \"\";position: absolute;border-left: 1px solid gray;box-sizing: border-box;top: 0;bottom: 0;left: 50%;z-index: 0;}#sk-container-id-1 div.sk-serial {display: flex;flex-direction: column;align-items: center;background-color: white;padding-right: 0.2em;padding-left: 0.2em;position: relative;}#sk-container-id-1 div.sk-item {position: relative;z-index: 1;}#sk-container-id-1 div.sk-parallel {display: flex;align-items: stretch;justify-content: center;background-color: white;position: relative;}#sk-container-id-1 div.sk-item::before, #sk-container-id-1 div.sk-parallel-item::before {content: \"\";position: absolute;border-left: 1px solid gray;box-sizing: border-box;top: 0;bottom: 0;left: 50%;z-index: -1;}#sk-container-id-1 div.sk-parallel-item {display: flex;flex-direction: column;z-index: 1;position: relative;background-color: white;}#sk-container-id-1 div.sk-parallel-item:first-child::after {align-self: flex-end;width: 50%;}#sk-container-id-1 div.sk-parallel-item:last-child::after {align-self: flex-start;width: 50%;}#sk-container-id-1 div.sk-parallel-item:only-child::after {width: 0;}#sk-container-id-1 div.sk-dashed-wrapped {border: 1px dashed gray;margin: 0 0.4em 0.5em 0.4em;box-sizing: border-box;padding-bottom: 0.4em;background-color: white;}#sk-container-id-1 div.sk-label label {font-family: monospace;font-weight: bold;display: inline-block;line-height: 1.2em;}#sk-container-id-1 div.sk-label-container {text-align: center;}#sk-container-id-1 div.sk-container {/* jupyter's `normalize.less` sets `[hidden] { display: none; }` but bootstrap.min.css set `[hidden] { display: none !important; }` so we also need the `!important` here to be able to override the default hidden behavior on the sphinx rendered scikit-learn.org. See: https://github.com/scikit-learn/scikit-learn/issues/21755 */display: inline-block !important;position: relative;}#sk-container-id-1 div.sk-text-repr-fallback {display: none;}</style><div id=\"sk-container-id-1\" class=\"sk-top-container\"><div class=\"sk-text-repr-fallback\"><pre>LGBMClassifier(learning_rate=0.0858298629387847, max_depth=10, random_state=42)</pre><b>In a Jupyter environment, please rerun this cell to show the HTML representation or trust the notebook. <br />On GitHub, the HTML representation is unable to render, please try loading this page with nbviewer.org.</b></div><div class=\"sk-container\" hidden><div class=\"sk-item\"><div class=\"sk-estimator sk-toggleable\"><input class=\"sk-toggleable__control sk-hidden--visually\" id=\"sk-estimator-id-1\" type=\"checkbox\" checked><label for=\"sk-estimator-id-1\" class=\"sk-toggleable__label sk-toggleable__label-arrow\">LGBMClassifier</label><div class=\"sk-toggleable__content\"><pre>LGBMClassifier(learning_rate=0.0858298629387847, max_depth=10, random_state=42)</pre></div></div></div></div></div>"
      ],
      "text/plain": [
       "LGBMClassifier(learning_rate=0.0858298629387847, max_depth=10, random_state=42)"
      ]
     },
     "execution_count": 26,
     "metadata": {},
     "output_type": "execute_result"
    }
   ],
   "source": [
    "obj.get_best_estimator()"
   ]
  },
  {
   "cell_type": "code",
   "execution_count": 27,
   "metadata": {},
   "outputs": [
    {
     "data": {
      "text/html": [
       "<style>#sk-container-id-2 {color: black;background-color: white;}#sk-container-id-2 pre{padding: 0;}#sk-container-id-2 div.sk-toggleable {background-color: white;}#sk-container-id-2 label.sk-toggleable__label {cursor: pointer;display: block;width: 100%;margin-bottom: 0;padding: 0.3em;box-sizing: border-box;text-align: center;}#sk-container-id-2 label.sk-toggleable__label-arrow:before {content: \"▸\";float: left;margin-right: 0.25em;color: #696969;}#sk-container-id-2 label.sk-toggleable__label-arrow:hover:before {color: black;}#sk-container-id-2 div.sk-estimator:hover label.sk-toggleable__label-arrow:before {color: black;}#sk-container-id-2 div.sk-toggleable__content {max-height: 0;max-width: 0;overflow: hidden;text-align: left;background-color: #f0f8ff;}#sk-container-id-2 div.sk-toggleable__content pre {margin: 0.2em;color: black;border-radius: 0.25em;background-color: #f0f8ff;}#sk-container-id-2 input.sk-toggleable__control:checked~div.sk-toggleable__content {max-height: 200px;max-width: 100%;overflow: auto;}#sk-container-id-2 input.sk-toggleable__control:checked~label.sk-toggleable__label-arrow:before {content: \"▾\";}#sk-container-id-2 div.sk-estimator input.sk-toggleable__control:checked~label.sk-toggleable__label {background-color: #d4ebff;}#sk-container-id-2 div.sk-label input.sk-toggleable__control:checked~label.sk-toggleable__label {background-color: #d4ebff;}#sk-container-id-2 input.sk-hidden--visually {border: 0;clip: rect(1px 1px 1px 1px);clip: rect(1px, 1px, 1px, 1px);height: 1px;margin: -1px;overflow: hidden;padding: 0;position: absolute;width: 1px;}#sk-container-id-2 div.sk-estimator {font-family: monospace;background-color: #f0f8ff;border: 1px dotted black;border-radius: 0.25em;box-sizing: border-box;margin-bottom: 0.5em;}#sk-container-id-2 div.sk-estimator:hover {background-color: #d4ebff;}#sk-container-id-2 div.sk-parallel-item::after {content: \"\";width: 100%;border-bottom: 1px solid gray;flex-grow: 1;}#sk-container-id-2 div.sk-label:hover label.sk-toggleable__label {background-color: #d4ebff;}#sk-container-id-2 div.sk-serial::before {content: \"\";position: absolute;border-left: 1px solid gray;box-sizing: border-box;top: 0;bottom: 0;left: 50%;z-index: 0;}#sk-container-id-2 div.sk-serial {display: flex;flex-direction: column;align-items: center;background-color: white;padding-right: 0.2em;padding-left: 0.2em;position: relative;}#sk-container-id-2 div.sk-item {position: relative;z-index: 1;}#sk-container-id-2 div.sk-parallel {display: flex;align-items: stretch;justify-content: center;background-color: white;position: relative;}#sk-container-id-2 div.sk-item::before, #sk-container-id-2 div.sk-parallel-item::before {content: \"\";position: absolute;border-left: 1px solid gray;box-sizing: border-box;top: 0;bottom: 0;left: 50%;z-index: -1;}#sk-container-id-2 div.sk-parallel-item {display: flex;flex-direction: column;z-index: 1;position: relative;background-color: white;}#sk-container-id-2 div.sk-parallel-item:first-child::after {align-self: flex-end;width: 50%;}#sk-container-id-2 div.sk-parallel-item:last-child::after {align-self: flex-start;width: 50%;}#sk-container-id-2 div.sk-parallel-item:only-child::after {width: 0;}#sk-container-id-2 div.sk-dashed-wrapped {border: 1px dashed gray;margin: 0 0.4em 0.5em 0.4em;box-sizing: border-box;padding-bottom: 0.4em;background-color: white;}#sk-container-id-2 div.sk-label label {font-family: monospace;font-weight: bold;display: inline-block;line-height: 1.2em;}#sk-container-id-2 div.sk-label-container {text-align: center;}#sk-container-id-2 div.sk-container {/* jupyter's `normalize.less` sets `[hidden] { display: none; }` but bootstrap.min.css set `[hidden] { display: none !important; }` so we also need the `!important` here to be able to override the default hidden behavior on the sphinx rendered scikit-learn.org. See: https://github.com/scikit-learn/scikit-learn/issues/21755 */display: inline-block !important;position: relative;}#sk-container-id-2 div.sk-text-repr-fallback {display: none;}</style><div id=\"sk-container-id-2\" class=\"sk-top-container\"><div class=\"sk-text-repr-fallback\"><pre>LGBMClassifier(learning_rate=0.0858298629387847, max_depth=10, random_state=42)</pre><b>In a Jupyter environment, please rerun this cell to show the HTML representation or trust the notebook. <br />On GitHub, the HTML representation is unable to render, please try loading this page with nbviewer.org.</b></div><div class=\"sk-container\" hidden><div class=\"sk-item\"><div class=\"sk-estimator sk-toggleable\"><input class=\"sk-toggleable__control sk-hidden--visually\" id=\"sk-estimator-id-2\" type=\"checkbox\" checked><label for=\"sk-estimator-id-2\" class=\"sk-toggleable__label sk-toggleable__label-arrow\">LGBMClassifier</label><div class=\"sk-toggleable__content\"><pre>LGBMClassifier(learning_rate=0.0858298629387847, max_depth=10, random_state=42)</pre></div></div></div></div></div>"
      ],
      "text/plain": [
       "LGBMClassifier(learning_rate=0.0858298629387847, max_depth=10, random_state=42)"
      ]
     },
     "execution_count": 27,
     "metadata": {},
     "output_type": "execute_result"
    }
   ],
   "source": [
    "obj.best_estimator"
   ]
  },
  {
   "attachments": {},
   "cell_type": "markdown",
   "metadata": {},
   "source": [
    "#### Get fitted randomized search object and its attributes"
   ]
  },
  {
   "cell_type": "code",
   "execution_count": 28,
   "metadata": {},
   "outputs": [
    {
     "name": "stdout",
     "output_type": "stream",
     "text": [
      "FrozenTrial(number=17, state=TrialState.COMPLETE, values=[0.8638086335265922], datetime_start=datetime.datetime(2023, 7, 2, 12, 51, 43, 29516), datetime_complete=datetime.datetime(2023, 7, 2, 12, 51, 43, 753917), params={'boosting_type': 'gbdt', 'max_depth': 10, 'learning_rate': 0.0858298629387847, 'random_state': 42}, user_attrs={}, system_attrs={}, intermediate_values={}, distributions={'boosting_type': CategoricalDistribution(choices=('gbdt',)), 'max_depth': IntDistribution(high=15, log=False, low=6, step=1), 'learning_rate': FloatDistribution(high=0.1, log=False, low=0.01, step=None), 'random_state': IntDistribution(high=42, log=False, low=42, step=1)}, trial_id=17, value=None)\n"
     ]
    }
   ],
   "source": [
    "OptunaObj = obj.get_optimized_object()\n",
    "print(OptunaObj)"
   ]
  }
 ],
 "metadata": {
  "kernelspec": {
   "display_name": "Python 3.10.4 ('.venv': poetry)",
   "language": "python",
   "name": "python3"
  },
  "language_info": {
   "codemirror_mode": {
    "name": "ipython",
    "version": 3
   },
   "file_extension": ".py",
   "mimetype": "text/x-python",
   "name": "python",
   "nbconvert_exporter": "python",
   "pygments_lexer": "ipython3",
   "version": "3.10.11"
  },
  "orig_nbformat": 4,
  "vscode": {
   "interpreter": {
    "hash": "7ced68e88e9060e5bcf2eaa5b2d4f8fc97e4d610a52d347137abf879072ffb6d"
   }
  }
 },
 "nbformat": 4,
 "nbformat_minor": 2
}
