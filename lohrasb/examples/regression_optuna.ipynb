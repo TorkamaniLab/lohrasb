{
 "cells": [
  {
   "cell_type": "code",
   "execution_count": 1,
   "metadata": {},
   "outputs": [
    {
     "ename": "ModuleNotFoundError",
     "evalue": "No module named 'lohrasb'",
     "output_type": "error",
     "traceback": [
      "\u001b[0;31m---------------------------------------------------------------------------\u001b[0m",
      "\u001b[0;31mModuleNotFoundError\u001b[0m                       Traceback (most recent call last)",
      "\u001b[1;32m/Users/hjavedani/Documents/Lohrasb/lohrasb/examples/regression_optuna.ipynb Cell 1'\u001b[0m in \u001b[0;36m<cell line: 1>\u001b[0;34m()\u001b[0m\n\u001b[0;32m----> <a href='vscode-notebook-cell:/Users/hjavedani/Documents/Lohrasb/lohrasb/examples/regression_optuna.ipynb#ch0000000?line=0'>1</a>\u001b[0m \u001b[39mfrom\u001b[39;00m \u001b[39mlohrasb\u001b[39;00m\u001b[39m.\u001b[39;00m\u001b[39mbest_estimator\u001b[39;00m \u001b[39mimport\u001b[39;00m BaseModel\n\u001b[1;32m      <a href='vscode-notebook-cell:/Users/hjavedani/Documents/Lohrasb/lohrasb/examples/regression_optuna.ipynb#ch0000000?line=1'>2</a>\u001b[0m \u001b[39mimport\u001b[39;00m \u001b[39mxgboost\u001b[39;00m\n\u001b[1;32m      <a href='vscode-notebook-cell:/Users/hjavedani/Documents/Lohrasb/lohrasb/examples/regression_optuna.ipynb#ch0000000?line=2'>3</a>\u001b[0m \u001b[39mfrom\u001b[39;00m \u001b[39moptuna\u001b[39;00m\u001b[39m.\u001b[39;00m\u001b[39mpruners\u001b[39;00m \u001b[39mimport\u001b[39;00m HyperbandPruner\n",
      "\u001b[0;31mModuleNotFoundError\u001b[0m: No module named 'lohrasb'"
     ]
    }
   ],
   "source": [
    "from lohrasb.best_estimator import BaseModel\n",
    "import xgboost\n",
    "from optuna.pruners import HyperbandPruner\n",
    "from optuna.samplers._tpe.sampler import TPESampler\n",
    "from sklearn.model_selection import KFold,train_test_split\n",
    "import pandas as pd\n",
    "from sklearn.pipeline import Pipeline\n",
    "from feature_engine.imputation import (\n",
    "    CategoricalImputer,\n",
    "    MeanMedianImputer\n",
    "    )\n",
    "from category_encoders import OrdinalEncoder\n",
    "from sklearn.linear_model import LinearRegression\n",
    "from sklearn.metrics import (\n",
    "    r2_score\n",
    "    )\n",
    "import catboost\n"
   ]
  },
  {
   "cell_type": "markdown",
   "metadata": {},
   "source": [
    "# Example 1 :Computer Hardware Data Set (a regression problem)\n",
    "  \n",
    "https://archive.ics.uci.edu/ml/datasets/Computer+Hardware"
   ]
  },
  {
   "cell_type": "code",
   "execution_count": null,
   "metadata": {},
   "outputs": [],
   "source": [
    "urldata= \"https://archive.ics.uci.edu/ml/machine-learning-databases/cpu-performance/machine.data\"\n",
    "# column names\n",
    "col_names=[\n",
    "    \"vendor name\",\n",
    "    \"Model Name\",\n",
    "    \"MYCT\",\n",
    "    \"MMIN\",\n",
    "    \"MMAX\",\n",
    "    \"CACH\",\n",
    "    \"CHMIN\",\n",
    "    \"CHMAX\",\n",
    "    \"PRP\"\n",
    "]\n",
    "# read data\n",
    "data = pd.read_csv(urldata,header=None,names=col_names,sep=',')\n",
    "data"
   ]
  },
  {
   "cell_type": "markdown",
   "metadata": {},
   "source": [
    "# Train test split"
   ]
  },
  {
   "cell_type": "code",
   "execution_count": null,
   "metadata": {},
   "outputs": [],
   "source": [
    "X = data.loc[:, data.columns != \"PRP\"]\n",
    "y = data.loc[:, data.columns == \"PRP\"]\n",
    "\n",
    "\n",
    "X_train, X_test, y_train, y_test =train_test_split(X, y, test_size=0.33, random_state=42)\n"
   ]
  },
  {
   "cell_type": "markdown",
   "metadata": {},
   "source": [
    "# Find feature types for later use"
   ]
  },
  {
   "cell_type": "code",
   "execution_count": null,
   "metadata": {},
   "outputs": [],
   "source": [
    "int_cols =  X_train.select_dtypes(include=['int']).columns.tolist()\n",
    "float_cols =  X_train.select_dtypes(include=['float']).columns.tolist()\n",
    "cat_cols =  X_train.select_dtypes(include=['object']).columns.tolist()\n"
   ]
  },
  {
   "cell_type": "markdown",
   "metadata": {},
   "source": [
    "#  Define Feature selector and set its arguments  "
   ]
  },
  {
   "cell_type": "code",
   "execution_count": null,
   "metadata": {},
   "outputs": [],
   "source": [
    "\n",
    "\n",
    "\n",
    "SFC_CATREG_OPTUNA = BaseModel(\n",
    "        estimator=catboost.CatBoostRegressor(),\n",
    "        estimator_params={\n",
    "                  # desired lower bound and upper bound for depth\n",
    "                  'depth'         : [6,10],\n",
    "                  # desired lower bound and upper bound for depth\n",
    "                  'learning_rate' : [0.05, 0.1],  \n",
    "                    },\n",
    "        hyper_parameter_optimization_method=\"optuna\",\n",
    "        measure_of_accuracy=\"r2\",\n",
    "        test_size=0.33,\n",
    "        cv=KFold(n_splits=3, random_state=42, shuffle=True),\n",
    "        with_stratified=False,\n",
    "        verbose=0,\n",
    "        random_state=42,\n",
    "        n_jobs=-1,\n",
    "        n_iter=100,\n",
    "        eval_metric=None,\n",
    "        number_of_trials=20,\n",
    "        sampler=TPESampler(),\n",
    "        pruner=HyperbandPruner(),\n",
    "    )\n"
   ]
  },
  {
   "cell_type": "markdown",
   "metadata": {},
   "source": [
    "# Build sklearn Pipeline"
   ]
  },
  {
   "cell_type": "code",
   "execution_count": null,
   "metadata": {},
   "outputs": [],
   "source": [
    "\n",
    "\n",
    "pipeline =Pipeline([\n",
    "            # int missing values imputers\n",
    "            ('intimputer', MeanMedianImputer(\n",
    "                imputation_method='median', variables=int_cols)),\n",
    "            # category missing values imputers\n",
    "            ('catimputer', CategoricalImputer(variables=cat_cols)),\n",
    "            #\n",
    "            ('catencoder', OrdinalEncoder()),\n",
    "            # regression model \n",
    "            ('SFC_CATREG_OPTUNA', SFC_CATREG_OPTUNA),\n",
    "\n",
    "\n",
    " ])\n",
    "\n"
   ]
  },
  {
   "cell_type": "markdown",
   "metadata": {},
   "source": [
    "# Run Pipeline"
   ]
  },
  {
   "cell_type": "code",
   "execution_count": null,
   "metadata": {},
   "outputs": [],
   "source": [
    "pipeline.fit(X_train,y_train)\n",
    "y_pred = pipeline.predict(X_test)\n"
   ]
  },
  {
   "cell_type": "markdown",
   "metadata": {},
   "source": [
    "# Check performance of the Pipeline"
   ]
  },
  {
   "cell_type": "code",
   "execution_count": null,
   "metadata": {},
   "outputs": [],
   "source": [
    "print('r2 score : ')\n",
    "print(r2_score(y_test,y_pred))\n"
   ]
  }
 ],
 "metadata": {
  "kernelspec": {
   "display_name": "Python 3.10.4 ('.venv': poetry)",
   "language": "python",
   "name": "python3"
  },
  "language_info": {
   "codemirror_mode": {
    "name": "ipython",
    "version": 3
   },
   "file_extension": ".py",
   "mimetype": "text/x-python",
   "name": "python",
   "nbconvert_exporter": "python",
   "pygments_lexer": "ipython3",
   "version": "3.10.4"
  },
  "orig_nbformat": 4,
  "vscode": {
   "interpreter": {
    "hash": "7ced68e88e9060e5bcf2eaa5b2d4f8fc97e4d610a52d347137abf879072ffb6d"
   }
  }
 },
 "nbformat": 4,
 "nbformat_minor": 2
}
