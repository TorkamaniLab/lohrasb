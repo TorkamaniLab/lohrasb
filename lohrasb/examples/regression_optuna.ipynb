{
 "cells": [
  {
   "cell_type": "code",
   "execution_count": 1,
   "metadata": {},
   "outputs": [
    {
     "name": "stdout",
     "output_type": "stream",
     "text": [
      "2023-07-03 17:15:40,392 :: matplotlib :: matplotlib data path: /Users/hjavedani/Documents/Lohrasb/.venv/lib/python3.10/site-packages/matplotlib/mpl-data\n",
      "2023-07-03 17:15:40,398 :: matplotlib :: CONFIGDIR=/Users/hjavedani/.matplotlib\n",
      "2023-07-03 17:15:40,401 :: matplotlib :: interactive is False\n",
      "2023-07-03 17:15:40,402 :: matplotlib :: platform is darwin\n",
      "2023-07-03 17:15:40,416 :: graphviz._tools :: deprecate positional args: graphviz.backend.piping.pipe(['renderer', 'formatter', 'neato_no_op', 'quiet'])\n",
      "2023-07-03 17:15:40,418 :: graphviz._tools :: deprecate positional args: graphviz.backend.rendering.render(['renderer', 'formatter', 'neato_no_op', 'quiet'])\n",
      "2023-07-03 17:15:40,420 :: graphviz._tools :: deprecate positional args: graphviz.backend.unflattening.unflatten(['stagger', 'fanout', 'chain', 'encoding'])\n",
      "2023-07-03 17:15:40,421 :: graphviz._tools :: deprecate positional args: graphviz.backend.viewing.view(['quiet'])\n",
      "2023-07-03 17:15:40,425 :: graphviz._tools :: deprecate positional args: graphviz.quoting.quote(['is_html_string', 'is_valid_id', 'dot_keywords', 'endswith_odd_number_of_backslashes', 'escape_unescaped_quotes'])\n",
      "2023-07-03 17:15:40,425 :: graphviz._tools :: deprecate positional args: graphviz.quoting.a_list(['kwargs', 'attributes'])\n",
      "2023-07-03 17:15:40,426 :: graphviz._tools :: deprecate positional args: graphviz.quoting.attr_list(['kwargs', 'attributes'])\n",
      "2023-07-03 17:15:40,427 :: graphviz._tools :: deprecate positional args: graphviz.dot.Dot.clear(['keep_attrs'])\n",
      "2023-07-03 17:15:40,431 :: graphviz._tools :: deprecate positional args: graphviz.dot.Dot.__iter__(['subgraph'])\n",
      "2023-07-03 17:15:40,433 :: graphviz._tools :: deprecate positional args: graphviz.dot.Dot.node(['_attributes'])\n",
      "2023-07-03 17:15:40,434 :: graphviz._tools :: deprecate positional args: graphviz.dot.Dot.edge(['_attributes'])\n",
      "2023-07-03 17:15:40,435 :: graphviz._tools :: deprecate positional args: graphviz.dot.Dot.attr(['_attributes'])\n",
      "2023-07-03 17:15:40,435 :: graphviz._tools :: deprecate positional args: graphviz.dot.Dot.subgraph(['name', 'comment', 'graph_attr', 'node_attr', 'edge_attr', 'body'])\n",
      "2023-07-03 17:15:40,438 :: graphviz._tools :: deprecate positional args: graphviz.piping.Pipe._pipe_legacy(['renderer', 'formatter', 'neato_no_op', 'quiet'])\n",
      "2023-07-03 17:15:40,441 :: graphviz._tools :: deprecate positional args: graphviz.saving.Save.save(['directory'])\n",
      "2023-07-03 17:15:40,441 :: graphviz._tools :: deprecate positional args: graphviz.rendering.Render.render(['directory', 'view', 'cleanup', 'format', 'renderer', 'formatter', 'neato_no_op', 'quiet', 'quiet_view'])\n",
      "2023-07-03 17:15:40,442 :: graphviz._tools :: deprecate positional args: graphviz.rendering.Render.view(['directory', 'cleanup', 'quiet', 'quiet_view'])\n",
      "2023-07-03 17:15:40,444 :: graphviz._tools :: deprecate positional args: graphviz.unflattening.Unflatten.unflatten(['stagger', 'fanout', 'chain'])\n",
      "2023-07-03 17:15:40,445 :: graphviz._tools :: deprecate positional args: graphviz.graphs.BaseGraph.__init__(['comment', 'filename', 'directory', 'format', 'engine', 'encoding', 'graph_attr', 'node_attr', 'edge_attr', 'body', 'strict'])\n",
      "2023-07-03 17:15:40,447 :: graphviz._tools :: deprecate positional args: graphviz.sources.Source.from_file(['directory', 'format', 'engine', 'encoding', 'renderer', 'formatter'])\n",
      "2023-07-03 17:15:40,447 :: graphviz._tools :: deprecate positional args: graphviz.sources.Source.__init__(['filename', 'directory', 'format', 'engine', 'encoding'])\n",
      "2023-07-03 17:15:40,448 :: graphviz._tools :: deprecate positional args: graphviz.sources.Source.save(['directory'])\n"
     ]
    }
   ],
   "source": [
    "from lohrasb.best_estimator import BaseModel\n",
    "from optuna.pruners import HyperbandPruner\n",
    "from optuna.samplers._tpe.sampler import TPESampler\n",
    "from sklearn.model_selection import KFold,train_test_split\n",
    "import pandas as pd\n",
    "import optuna\n",
    "from sklearn.pipeline import Pipeline\n",
    "from feature_engine.imputation import (\n",
    "    CategoricalImputer,\n",
    "    MeanMedianImputer\n",
    "    )\n",
    "from category_encoders import OrdinalEncoder\n",
    "from sklearn.metrics import (\n",
    "    make_scorer)\n",
    "from sklearn.metrics import mean_absolute_error,r2_score\n",
    "from sklearn.linear_model import *\n"
   ]
  },
  {
   "attachments": {},
   "cell_type": "markdown",
   "metadata": {},
   "source": [
    "#### Example 2 :Computer Hardware Data Set (a regression problem)\n",
    "  \n",
    "https://archive.ics.uci.edu/ml/datasets/Computer+Hardware"
   ]
  },
  {
   "attachments": {},
   "cell_type": "markdown",
   "metadata": {},
   "source": [
    "#### Part 1: Use BestModel in sklearn pipeline\n"
   ]
  },
  {
   "cell_type": "code",
   "execution_count": 2,
   "metadata": {},
   "outputs": [
    {
     "data": {
      "text/html": [
       "<div>\n",
       "<style scoped>\n",
       "    .dataframe tbody tr th:only-of-type {\n",
       "        vertical-align: middle;\n",
       "    }\n",
       "\n",
       "    .dataframe tbody tr th {\n",
       "        vertical-align: top;\n",
       "    }\n",
       "\n",
       "    .dataframe thead th {\n",
       "        text-align: right;\n",
       "    }\n",
       "</style>\n",
       "<table border=\"1\" class=\"dataframe\">\n",
       "  <thead>\n",
       "    <tr style=\"text-align: right;\">\n",
       "      <th></th>\n",
       "      <th>vendor name</th>\n",
       "      <th>Model Name</th>\n",
       "      <th>MYCT</th>\n",
       "      <th>MMIN</th>\n",
       "      <th>MMAX</th>\n",
       "      <th>CACH</th>\n",
       "      <th>CHMIN</th>\n",
       "      <th>CHMAX</th>\n",
       "      <th>PRP</th>\n",
       "    </tr>\n",
       "  </thead>\n",
       "  <tbody>\n",
       "    <tr>\n",
       "      <th>adviser</th>\n",
       "      <td>32/60</td>\n",
       "      <td>125</td>\n",
       "      <td>256</td>\n",
       "      <td>6000</td>\n",
       "      <td>256</td>\n",
       "      <td>16</td>\n",
       "      <td>128</td>\n",
       "      <td>198</td>\n",
       "      <td>199</td>\n",
       "    </tr>\n",
       "    <tr>\n",
       "      <th>amdahl</th>\n",
       "      <td>470v/7</td>\n",
       "      <td>29</td>\n",
       "      <td>8000</td>\n",
       "      <td>32000</td>\n",
       "      <td>32</td>\n",
       "      <td>8</td>\n",
       "      <td>32</td>\n",
       "      <td>269</td>\n",
       "      <td>253</td>\n",
       "    </tr>\n",
       "    <tr>\n",
       "      <th>amdahl</th>\n",
       "      <td>470v/7a</td>\n",
       "      <td>29</td>\n",
       "      <td>8000</td>\n",
       "      <td>32000</td>\n",
       "      <td>32</td>\n",
       "      <td>8</td>\n",
       "      <td>32</td>\n",
       "      <td>220</td>\n",
       "      <td>253</td>\n",
       "    </tr>\n",
       "    <tr>\n",
       "      <th>amdahl</th>\n",
       "      <td>470v/7b</td>\n",
       "      <td>29</td>\n",
       "      <td>8000</td>\n",
       "      <td>32000</td>\n",
       "      <td>32</td>\n",
       "      <td>8</td>\n",
       "      <td>32</td>\n",
       "      <td>172</td>\n",
       "      <td>253</td>\n",
       "    </tr>\n",
       "    <tr>\n",
       "      <th>amdahl</th>\n",
       "      <td>470v/7c</td>\n",
       "      <td>29</td>\n",
       "      <td>8000</td>\n",
       "      <td>16000</td>\n",
       "      <td>32</td>\n",
       "      <td>8</td>\n",
       "      <td>16</td>\n",
       "      <td>132</td>\n",
       "      <td>132</td>\n",
       "    </tr>\n",
       "    <tr>\n",
       "      <th>...</th>\n",
       "      <td>...</td>\n",
       "      <td>...</td>\n",
       "      <td>...</td>\n",
       "      <td>...</td>\n",
       "      <td>...</td>\n",
       "      <td>...</td>\n",
       "      <td>...</td>\n",
       "      <td>...</td>\n",
       "      <td>...</td>\n",
       "    </tr>\n",
       "    <tr>\n",
       "      <th>sperry</th>\n",
       "      <td>80/8</td>\n",
       "      <td>124</td>\n",
       "      <td>1000</td>\n",
       "      <td>8000</td>\n",
       "      <td>0</td>\n",
       "      <td>1</td>\n",
       "      <td>8</td>\n",
       "      <td>42</td>\n",
       "      <td>37</td>\n",
       "    </tr>\n",
       "    <tr>\n",
       "      <th>sperry</th>\n",
       "      <td>90/80-model-3</td>\n",
       "      <td>98</td>\n",
       "      <td>1000</td>\n",
       "      <td>8000</td>\n",
       "      <td>32</td>\n",
       "      <td>2</td>\n",
       "      <td>8</td>\n",
       "      <td>46</td>\n",
       "      <td>50</td>\n",
       "    </tr>\n",
       "    <tr>\n",
       "      <th>sratus</th>\n",
       "      <td>32</td>\n",
       "      <td>125</td>\n",
       "      <td>2000</td>\n",
       "      <td>8000</td>\n",
       "      <td>0</td>\n",
       "      <td>2</td>\n",
       "      <td>14</td>\n",
       "      <td>52</td>\n",
       "      <td>41</td>\n",
       "    </tr>\n",
       "    <tr>\n",
       "      <th>wang</th>\n",
       "      <td>vs-100</td>\n",
       "      <td>480</td>\n",
       "      <td>512</td>\n",
       "      <td>8000</td>\n",
       "      <td>32</td>\n",
       "      <td>0</td>\n",
       "      <td>0</td>\n",
       "      <td>67</td>\n",
       "      <td>47</td>\n",
       "    </tr>\n",
       "    <tr>\n",
       "      <th>wang</th>\n",
       "      <td>vs-90</td>\n",
       "      <td>480</td>\n",
       "      <td>1000</td>\n",
       "      <td>4000</td>\n",
       "      <td>0</td>\n",
       "      <td>0</td>\n",
       "      <td>0</td>\n",
       "      <td>45</td>\n",
       "      <td>25</td>\n",
       "    </tr>\n",
       "  </tbody>\n",
       "</table>\n",
       "<p>209 rows × 9 columns</p>\n",
       "</div>"
      ],
      "text/plain": [
       "           vendor name  Model Name  MYCT   MMIN  MMAX  CACH  CHMIN  CHMAX  PRP\n",
       "adviser          32/60         125   256   6000   256    16    128    198  199\n",
       "amdahl          470v/7          29  8000  32000    32     8     32    269  253\n",
       "amdahl         470v/7a          29  8000  32000    32     8     32    220  253\n",
       "amdahl         470v/7b          29  8000  32000    32     8     32    172  253\n",
       "amdahl         470v/7c          29  8000  16000    32     8     16    132  132\n",
       "...                ...         ...   ...    ...   ...   ...    ...    ...  ...\n",
       "sperry            80/8         124  1000   8000     0     1      8     42   37\n",
       "sperry   90/80-model-3          98  1000   8000    32     2      8     46   50\n",
       "sratus              32         125  2000   8000     0     2     14     52   41\n",
       "wang            vs-100         480   512   8000    32     0      0     67   47\n",
       "wang             vs-90         480  1000   4000     0     0      0     45   25\n",
       "\n",
       "[209 rows x 9 columns]"
      ]
     },
     "execution_count": 2,
     "metadata": {},
     "output_type": "execute_result"
    }
   ],
   "source": [
    "urldata= \"https://archive.ics.uci.edu/ml/machine-learning-databases/cpu-performance/machine.data\"\n",
    "# column names\n",
    "col_names=[\n",
    "    \"vendor name\",\n",
    "    \"Model Name\",\n",
    "    \"MYCT\",\n",
    "    \"MMIN\",\n",
    "    \"MMAX\",\n",
    "    \"CACH\",\n",
    "    \"CHMIN\",\n",
    "    \"CHMAX\",\n",
    "    \"PRP\"\n",
    "]\n",
    "# read data\n",
    "data = pd.read_csv(urldata,header=None,names=col_names,sep=',')\n",
    "data"
   ]
  },
  {
   "attachments": {},
   "cell_type": "markdown",
   "metadata": {},
   "source": [
    "#### Train test split"
   ]
  },
  {
   "cell_type": "code",
   "execution_count": 3,
   "metadata": {},
   "outputs": [],
   "source": [
    "X = data.loc[:, data.columns != \"PRP\"]\n",
    "y = data.loc[:, data.columns == \"PRP\"]\n",
    "y = y.values.ravel()\n",
    "\n",
    "\n",
    "X_train, X_test, y_train, y_test =train_test_split(X, y, test_size=0.33, random_state=42)\n"
   ]
  },
  {
   "attachments": {},
   "cell_type": "markdown",
   "metadata": {},
   "source": [
    "#### Find feature types for later use"
   ]
  },
  {
   "cell_type": "code",
   "execution_count": 4,
   "metadata": {},
   "outputs": [],
   "source": [
    "int_cols =  X_train.select_dtypes(include=['int']).columns.tolist()\n",
    "float_cols =  X_train.select_dtypes(include=['float']).columns.tolist()\n",
    "cat_cols =  X_train.select_dtypes(include=['object']).columns.tolist()\n"
   ]
  },
  {
   "attachments": {},
   "cell_type": "markdown",
   "metadata": {},
   "source": [
    "####  Define estimator and set its arguments  "
   ]
  },
  {
   "cell_type": "code",
   "execution_count": 5,
   "metadata": {},
   "outputs": [],
   "source": [
    "estimator = LinearRegression()\n",
    "estimator_params= {\n",
    "        \"fit_intercept\": [True, False],\n",
    "    }\n",
    "\n",
    "kwargs = {  # params for fit method  \n",
    "            'fit_optuna_kwargs' :{\n",
    "            'sample_weight':None,\n",
    "            },\n",
    "            # params for OptunaSearch\n",
    "            'main_optuna_kwargs' : {\n",
    "            'estimator':estimator,\n",
    "            'estimator_params':estimator_params,\n",
    "            'refit':True,\n",
    "            'measure_of_accuracy' :\"mean_absolute_error(y_true, y_pred, multioutput='uniform_average')\"\n",
    "\n",
    "            },\n",
    "            'train_test_split_kwargs':{\n",
    "                'test_size':.3,\n",
    "                            \n",
    "            },\n",
    "            'study_search_kwargs':{\n",
    "                'storage':None,\n",
    "                'sampler':TPESampler(),\n",
    "                'pruner':HyperbandPruner(),\n",
    "                'study_name':\"example of optuna optimizer\",\n",
    "                'direction':\"maximize\",\n",
    "                'load_if_exists':False,\n",
    "            },\n",
    "            'optimize_kwargs':{\n",
    "                # optuna optimization params\n",
    "                'n_trials':20,\n",
    "                'timeout':600,\n",
    "                'catch':(),\n",
    "                'callbacks':None,\n",
    "                'gc_after_trial':False,\n",
    "                'show_progress_bar':False,\n",
    "            }\n",
    "}\n"
   ]
  },
  {
   "cell_type": "code",
   "execution_count": 6,
   "metadata": {},
   "outputs": [],
   "source": [
    "obj = BaseModel().optimize_by_optuna(\n",
    "        kwargs=kwargs\n",
    "        )\n"
   ]
  },
  {
   "attachments": {},
   "cell_type": "markdown",
   "metadata": {},
   "source": [
    "#### Build sklearn pipeline"
   ]
  },
  {
   "cell_type": "code",
   "execution_count": 7,
   "metadata": {},
   "outputs": [],
   "source": [
    "\n",
    "\n",
    "pipeline =Pipeline([\n",
    "            # int missing values imputers\n",
    "            ('intimputer', MeanMedianImputer(\n",
    "                imputation_method='median', variables=int_cols)),\n",
    "            # category missing values imputers\n",
    "            ('catimputer', CategoricalImputer(variables=cat_cols)),\n",
    "            #\n",
    "            ('catencoder', OrdinalEncoder()),\n",
    "            # regression model \n",
    "            ('obj', obj),\n",
    "\n",
    "\n",
    " ])\n",
    "\n"
   ]
  },
  {
   "attachments": {},
   "cell_type": "markdown",
   "metadata": {},
   "source": [
    "#### Run Pipeline"
   ]
  },
  {
   "cell_type": "code",
   "execution_count": 8,
   "metadata": {},
   "outputs": [
    {
     "name": "stderr",
     "output_type": "stream",
     "text": [
      "[I 2023-07-03 17:15:41,499] A new study created in memory with name: example of optuna optimizer\n",
      "[I 2023-07-03 17:15:41,504] Trial 0 finished with value: 17.224204194190605 and parameters: {'fit_intercept': 0}. Best is trial 0 with value: 17.224204194190605.\n",
      "[I 2023-07-03 17:15:41,509] Trial 1 finished with value: 15.746844270792897 and parameters: {'fit_intercept': 1}. Best is trial 0 with value: 17.224204194190605.\n",
      "[I 2023-07-03 17:15:41,516] Trial 2 finished with value: 17.224204194190605 and parameters: {'fit_intercept': 0}. Best is trial 0 with value: 17.224204194190605.\n",
      "[I 2023-07-03 17:15:41,521] Trial 3 finished with value: 15.746844270792897 and parameters: {'fit_intercept': 1}. Best is trial 0 with value: 17.224204194190605.\n",
      "[I 2023-07-03 17:15:41,526] Trial 4 finished with value: 17.224204194190605 and parameters: {'fit_intercept': 0}. Best is trial 0 with value: 17.224204194190605.\n",
      "[I 2023-07-03 17:15:41,530] Trial 5 finished with value: 15.746844270792897 and parameters: {'fit_intercept': 1}. Best is trial 0 with value: 17.224204194190605.\n",
      "[I 2023-07-03 17:15:41,535] Trial 6 finished with value: 15.746844270792897 and parameters: {'fit_intercept': 1}. Best is trial 0 with value: 17.224204194190605.\n",
      "[I 2023-07-03 17:15:41,540] Trial 7 finished with value: 17.224204194190605 and parameters: {'fit_intercept': 0}. Best is trial 0 with value: 17.224204194190605.\n",
      "[I 2023-07-03 17:15:41,545] Trial 8 finished with value: 15.746844270792897 and parameters: {'fit_intercept': 1}. Best is trial 0 with value: 17.224204194190605.\n",
      "[I 2023-07-03 17:15:41,550] Trial 9 finished with value: 17.224204194190605 and parameters: {'fit_intercept': 0}. Best is trial 0 with value: 17.224204194190605.\n",
      "[I 2023-07-03 17:15:41,560] Trial 10 finished with value: 17.224204194190605 and parameters: {'fit_intercept': 0}. Best is trial 0 with value: 17.224204194190605.\n",
      "[I 2023-07-03 17:15:41,569] Trial 11 finished with value: 17.224204194190605 and parameters: {'fit_intercept': 0}. Best is trial 0 with value: 17.224204194190605.\n",
      "[I 2023-07-03 17:15:41,580] Trial 12 finished with value: 17.224204194190605 and parameters: {'fit_intercept': 0}. Best is trial 0 with value: 17.224204194190605.\n",
      "[I 2023-07-03 17:15:41,589] Trial 13 finished with value: 17.224204194190605 and parameters: {'fit_intercept': 0}. Best is trial 0 with value: 17.224204194190605.\n",
      "[I 2023-07-03 17:15:41,598] Trial 14 finished with value: 17.224204194190605 and parameters: {'fit_intercept': 0}. Best is trial 0 with value: 17.224204194190605.\n",
      "[I 2023-07-03 17:15:41,608] Trial 15 finished with value: 17.224204194190605 and parameters: {'fit_intercept': 0}. Best is trial 0 with value: 17.224204194190605.\n",
      "[I 2023-07-03 17:15:41,619] Trial 16 finished with value: 17.224204194190605 and parameters: {'fit_intercept': 0}. Best is trial 0 with value: 17.224204194190605.\n",
      "[I 2023-07-03 17:15:41,629] Trial 17 finished with value: 17.224204194190605 and parameters: {'fit_intercept': 0}. Best is trial 0 with value: 17.224204194190605.\n",
      "[I 2023-07-03 17:15:41,639] Trial 18 finished with value: 17.224204194190605 and parameters: {'fit_intercept': 0}. Best is trial 0 with value: 17.224204194190605.\n",
      "[I 2023-07-03 17:15:41,648] Trial 19 finished with value: 17.224204194190605 and parameters: {'fit_intercept': 0}. Best is trial 0 with value: 17.224204194190605.\n"
     ]
    },
    {
     "name": "stdout",
     "output_type": "stream",
     "text": [
      "2023-07-03 17:15:41,651 :: dev :: If refit is set to True, the optimal model will be refit on the entire dataset, i.e., X_train and y_train!\n",
      "2023-07-03 17:15:41,651 :: dev :: If refit is set to True, the optimal model will be refit on the entire dataset, i.e., X_train and y_train!\n"
     ]
    }
   ],
   "source": [
    "pipeline.fit(X_train,y_train)\n",
    "y_pred = pipeline.predict(X_test)\n"
   ]
  },
  {
   "attachments": {},
   "cell_type": "markdown",
   "metadata": {},
   "source": [
    "#### Check performance of the pipeline"
   ]
  },
  {
   "cell_type": "code",
   "execution_count": 9,
   "metadata": {},
   "outputs": [
    {
     "name": "stdout",
     "output_type": "stream",
     "text": [
      "r2 score : \n",
      "0.9192355855868294\n"
     ]
    }
   ],
   "source": [
    "print('r2 score : ')\n",
    "print(r2_score(y_test,y_pred))\n"
   ]
  },
  {
   "attachments": {},
   "cell_type": "markdown",
   "metadata": {},
   "source": [
    "#### Part 2: Another way of using it"
   ]
  },
  {
   "cell_type": "code",
   "execution_count": 10,
   "metadata": {},
   "outputs": [],
   "source": [
    "X_train, X_test, y_train, y_test =train_test_split(X, y, test_size=0.33, random_state=42)\n"
   ]
  },
  {
   "attachments": {},
   "cell_type": "markdown",
   "metadata": {},
   "source": [
    "#### Transform features to make them ready for model input"
   ]
  },
  {
   "cell_type": "code",
   "execution_count": 11,
   "metadata": {},
   "outputs": [],
   "source": [
    "transform_pipeline =Pipeline([\n",
    "            # int missing values imputers\n",
    "            ('intimputer', MeanMedianImputer(\n",
    "                imputation_method='median', variables=int_cols)),\n",
    "            # category missing values imputers\n",
    "            ('catimputer', CategoricalImputer(variables=cat_cols)),\n",
    "            #\n",
    "            ('catencoder', OrdinalEncoder()),\n",
    "            # classification model\n",
    "\n",
    " ])"
   ]
  },
  {
   "attachments": {},
   "cell_type": "markdown",
   "metadata": {},
   "source": [
    "#### Transform X_train and X_test"
   ]
  },
  {
   "cell_type": "code",
   "execution_count": 12,
   "metadata": {},
   "outputs": [],
   "source": [
    "X_train=transform_pipeline.fit_transform(X_train,y_train)\n",
    "X_test=transform_pipeline.transform(X_test)\n"
   ]
  },
  {
   "attachments": {},
   "cell_type": "markdown",
   "metadata": {},
   "source": [
    "#### Train model and predict"
   ]
  },
  {
   "cell_type": "code",
   "execution_count": 13,
   "metadata": {},
   "outputs": [
    {
     "name": "stderr",
     "output_type": "stream",
     "text": [
      "[I 2023-07-03 17:15:41,725] A new study created in memory with name: example of optuna optimizer\n",
      "[I 2023-07-03 17:15:41,733] Trial 0 finished with value: 17.30868987281197 and parameters: {'fit_intercept': 1}. Best is trial 0 with value: 17.30868987281197.\n",
      "[I 2023-07-03 17:15:41,739] Trial 1 finished with value: 17.30868987281197 and parameters: {'fit_intercept': 1}. Best is trial 0 with value: 17.30868987281197.\n",
      "[I 2023-07-03 17:15:41,743] Trial 2 finished with value: 17.30868987281197 and parameters: {'fit_intercept': 1}. Best is trial 0 with value: 17.30868987281197.\n",
      "[I 2023-07-03 17:15:41,749] Trial 3 finished with value: 17.536991316420217 and parameters: {'fit_intercept': 0}. Best is trial 3 with value: 17.536991316420217.\n",
      "[I 2023-07-03 17:15:41,754] Trial 4 finished with value: 17.30868987281197 and parameters: {'fit_intercept': 1}. Best is trial 3 with value: 17.536991316420217.\n",
      "[I 2023-07-03 17:15:41,758] Trial 5 finished with value: 17.536991316420217 and parameters: {'fit_intercept': 0}. Best is trial 3 with value: 17.536991316420217.\n",
      "[I 2023-07-03 17:15:41,763] Trial 6 finished with value: 17.536991316420217 and parameters: {'fit_intercept': 0}. Best is trial 3 with value: 17.536991316420217.\n",
      "[I 2023-07-03 17:15:41,767] Trial 7 finished with value: 17.30868987281197 and parameters: {'fit_intercept': 1}. Best is trial 3 with value: 17.536991316420217.\n",
      "[I 2023-07-03 17:15:41,772] Trial 8 finished with value: 17.30868987281197 and parameters: {'fit_intercept': 1}. Best is trial 3 with value: 17.536991316420217.\n",
      "[I 2023-07-03 17:15:41,778] Trial 9 finished with value: 17.30868987281197 and parameters: {'fit_intercept': 1}. Best is trial 3 with value: 17.536991316420217.\n",
      "[I 2023-07-03 17:15:41,787] Trial 10 finished with value: 17.536991316420217 and parameters: {'fit_intercept': 0}. Best is trial 3 with value: 17.536991316420217.\n",
      "[I 2023-07-03 17:15:41,798] Trial 11 finished with value: 17.536991316420217 and parameters: {'fit_intercept': 0}. Best is trial 3 with value: 17.536991316420217.\n",
      "[I 2023-07-03 17:15:41,807] Trial 12 finished with value: 17.536991316420217 and parameters: {'fit_intercept': 0}. Best is trial 3 with value: 17.536991316420217.\n",
      "[I 2023-07-03 17:15:41,820] Trial 13 finished with value: 17.536991316420217 and parameters: {'fit_intercept': 0}. Best is trial 3 with value: 17.536991316420217.\n",
      "[I 2023-07-03 17:15:41,893] Trial 14 finished with value: 17.536991316420217 and parameters: {'fit_intercept': 0}. Best is trial 3 with value: 17.536991316420217.\n",
      "[I 2023-07-03 17:15:41,916] Trial 15 finished with value: 17.536991316420217 and parameters: {'fit_intercept': 0}. Best is trial 3 with value: 17.536991316420217.\n",
      "[I 2023-07-03 17:15:41,940] Trial 16 finished with value: 17.536991316420217 and parameters: {'fit_intercept': 0}. Best is trial 3 with value: 17.536991316420217.\n",
      "[I 2023-07-03 17:15:41,955] Trial 17 finished with value: 17.536991316420217 and parameters: {'fit_intercept': 0}. Best is trial 3 with value: 17.536991316420217.\n",
      "[I 2023-07-03 17:15:41,967] Trial 18 finished with value: 17.536991316420217 and parameters: {'fit_intercept': 0}. Best is trial 3 with value: 17.536991316420217.\n",
      "[I 2023-07-03 17:15:41,976] Trial 19 finished with value: 17.536991316420217 and parameters: {'fit_intercept': 0}. Best is trial 3 with value: 17.536991316420217.\n"
     ]
    },
    {
     "name": "stdout",
     "output_type": "stream",
     "text": [
      "2023-07-03 17:15:41,978 :: dev :: If refit is set to True, the optimal model will be refit on the entire dataset, i.e., X_train and y_train!\n",
      "2023-07-03 17:15:41,978 :: dev :: If refit is set to True, the optimal model will be refit on the entire dataset, i.e., X_train and y_train!\n"
     ]
    }
   ],
   "source": [
    "obj.fit(X_train,y_train)\n",
    "y_pred = obj.predict(X_test)"
   ]
  },
  {
   "attachments": {},
   "cell_type": "markdown",
   "metadata": {},
   "source": [
    "#### Check performance of the model"
   ]
  },
  {
   "cell_type": "code",
   "execution_count": 14,
   "metadata": {},
   "outputs": [
    {
     "name": "stdout",
     "output_type": "stream",
     "text": [
      "r2 score : \n",
      "0.9192355855868294\n",
      "mean_absolute_error : \n",
      "30.288069195735655\n"
     ]
    }
   ],
   "source": [
    "print('r2 score : ')\n",
    "print(r2_score(y_test,y_pred))\n",
    "print('mean_absolute_error : ')\n",
    "print(mean_absolute_error(y_test,y_pred))\n"
   ]
  },
  {
   "cell_type": "code",
   "execution_count": 15,
   "metadata": {},
   "outputs": [
    {
     "data": {
      "text/html": [
       "<style>#sk-container-id-1 {color: black;background-color: white;}#sk-container-id-1 pre{padding: 0;}#sk-container-id-1 div.sk-toggleable {background-color: white;}#sk-container-id-1 label.sk-toggleable__label {cursor: pointer;display: block;width: 100%;margin-bottom: 0;padding: 0.3em;box-sizing: border-box;text-align: center;}#sk-container-id-1 label.sk-toggleable__label-arrow:before {content: \"▸\";float: left;margin-right: 0.25em;color: #696969;}#sk-container-id-1 label.sk-toggleable__label-arrow:hover:before {color: black;}#sk-container-id-1 div.sk-estimator:hover label.sk-toggleable__label-arrow:before {color: black;}#sk-container-id-1 div.sk-toggleable__content {max-height: 0;max-width: 0;overflow: hidden;text-align: left;background-color: #f0f8ff;}#sk-container-id-1 div.sk-toggleable__content pre {margin: 0.2em;color: black;border-radius: 0.25em;background-color: #f0f8ff;}#sk-container-id-1 input.sk-toggleable__control:checked~div.sk-toggleable__content {max-height: 200px;max-width: 100%;overflow: auto;}#sk-container-id-1 input.sk-toggleable__control:checked~label.sk-toggleable__label-arrow:before {content: \"▾\";}#sk-container-id-1 div.sk-estimator input.sk-toggleable__control:checked~label.sk-toggleable__label {background-color: #d4ebff;}#sk-container-id-1 div.sk-label input.sk-toggleable__control:checked~label.sk-toggleable__label {background-color: #d4ebff;}#sk-container-id-1 input.sk-hidden--visually {border: 0;clip: rect(1px 1px 1px 1px);clip: rect(1px, 1px, 1px, 1px);height: 1px;margin: -1px;overflow: hidden;padding: 0;position: absolute;width: 1px;}#sk-container-id-1 div.sk-estimator {font-family: monospace;background-color: #f0f8ff;border: 1px dotted black;border-radius: 0.25em;box-sizing: border-box;margin-bottom: 0.5em;}#sk-container-id-1 div.sk-estimator:hover {background-color: #d4ebff;}#sk-container-id-1 div.sk-parallel-item::after {content: \"\";width: 100%;border-bottom: 1px solid gray;flex-grow: 1;}#sk-container-id-1 div.sk-label:hover label.sk-toggleable__label {background-color: #d4ebff;}#sk-container-id-1 div.sk-serial::before {content: \"\";position: absolute;border-left: 1px solid gray;box-sizing: border-box;top: 0;bottom: 0;left: 50%;z-index: 0;}#sk-container-id-1 div.sk-serial {display: flex;flex-direction: column;align-items: center;background-color: white;padding-right: 0.2em;padding-left: 0.2em;position: relative;}#sk-container-id-1 div.sk-item {position: relative;z-index: 1;}#sk-container-id-1 div.sk-parallel {display: flex;align-items: stretch;justify-content: center;background-color: white;position: relative;}#sk-container-id-1 div.sk-item::before, #sk-container-id-1 div.sk-parallel-item::before {content: \"\";position: absolute;border-left: 1px solid gray;box-sizing: border-box;top: 0;bottom: 0;left: 50%;z-index: -1;}#sk-container-id-1 div.sk-parallel-item {display: flex;flex-direction: column;z-index: 1;position: relative;background-color: white;}#sk-container-id-1 div.sk-parallel-item:first-child::after {align-self: flex-end;width: 50%;}#sk-container-id-1 div.sk-parallel-item:last-child::after {align-self: flex-start;width: 50%;}#sk-container-id-1 div.sk-parallel-item:only-child::after {width: 0;}#sk-container-id-1 div.sk-dashed-wrapped {border: 1px dashed gray;margin: 0 0.4em 0.5em 0.4em;box-sizing: border-box;padding-bottom: 0.4em;background-color: white;}#sk-container-id-1 div.sk-label label {font-family: monospace;font-weight: bold;display: inline-block;line-height: 1.2em;}#sk-container-id-1 div.sk-label-container {text-align: center;}#sk-container-id-1 div.sk-container {/* jupyter's `normalize.less` sets `[hidden] { display: none; }` but bootstrap.min.css set `[hidden] { display: none !important; }` so we also need the `!important` here to be able to override the default hidden behavior on the sphinx rendered scikit-learn.org. See: https://github.com/scikit-learn/scikit-learn/issues/21755 */display: inline-block !important;position: relative;}#sk-container-id-1 div.sk-text-repr-fallback {display: none;}</style><div id=\"sk-container-id-1\" class=\"sk-top-container\"><div class=\"sk-text-repr-fallback\"><pre>LinearRegression(fit_intercept=0)</pre><b>In a Jupyter environment, please rerun this cell to show the HTML representation or trust the notebook. <br />On GitHub, the HTML representation is unable to render, please try loading this page with nbviewer.org.</b></div><div class=\"sk-container\" hidden><div class=\"sk-item\"><div class=\"sk-estimator sk-toggleable\"><input class=\"sk-toggleable__control sk-hidden--visually\" id=\"sk-estimator-id-1\" type=\"checkbox\" checked><label for=\"sk-estimator-id-1\" class=\"sk-toggleable__label sk-toggleable__label-arrow\">LinearRegression</label><div class=\"sk-toggleable__content\"><pre>LinearRegression(fit_intercept=0)</pre></div></div></div></div></div>"
      ],
      "text/plain": [
       "LinearRegression(fit_intercept=0)"
      ]
     },
     "execution_count": 15,
     "metadata": {},
     "output_type": "execute_result"
    }
   ],
   "source": [
    "obj.get_best_estimator()"
   ]
  },
  {
   "cell_type": "code",
   "execution_count": 16,
   "metadata": {},
   "outputs": [
    {
     "data": {
      "text/html": [
       "<style>#sk-container-id-2 {color: black;background-color: white;}#sk-container-id-2 pre{padding: 0;}#sk-container-id-2 div.sk-toggleable {background-color: white;}#sk-container-id-2 label.sk-toggleable__label {cursor: pointer;display: block;width: 100%;margin-bottom: 0;padding: 0.3em;box-sizing: border-box;text-align: center;}#sk-container-id-2 label.sk-toggleable__label-arrow:before {content: \"▸\";float: left;margin-right: 0.25em;color: #696969;}#sk-container-id-2 label.sk-toggleable__label-arrow:hover:before {color: black;}#sk-container-id-2 div.sk-estimator:hover label.sk-toggleable__label-arrow:before {color: black;}#sk-container-id-2 div.sk-toggleable__content {max-height: 0;max-width: 0;overflow: hidden;text-align: left;background-color: #f0f8ff;}#sk-container-id-2 div.sk-toggleable__content pre {margin: 0.2em;color: black;border-radius: 0.25em;background-color: #f0f8ff;}#sk-container-id-2 input.sk-toggleable__control:checked~div.sk-toggleable__content {max-height: 200px;max-width: 100%;overflow: auto;}#sk-container-id-2 input.sk-toggleable__control:checked~label.sk-toggleable__label-arrow:before {content: \"▾\";}#sk-container-id-2 div.sk-estimator input.sk-toggleable__control:checked~label.sk-toggleable__label {background-color: #d4ebff;}#sk-container-id-2 div.sk-label input.sk-toggleable__control:checked~label.sk-toggleable__label {background-color: #d4ebff;}#sk-container-id-2 input.sk-hidden--visually {border: 0;clip: rect(1px 1px 1px 1px);clip: rect(1px, 1px, 1px, 1px);height: 1px;margin: -1px;overflow: hidden;padding: 0;position: absolute;width: 1px;}#sk-container-id-2 div.sk-estimator {font-family: monospace;background-color: #f0f8ff;border: 1px dotted black;border-radius: 0.25em;box-sizing: border-box;margin-bottom: 0.5em;}#sk-container-id-2 div.sk-estimator:hover {background-color: #d4ebff;}#sk-container-id-2 div.sk-parallel-item::after {content: \"\";width: 100%;border-bottom: 1px solid gray;flex-grow: 1;}#sk-container-id-2 div.sk-label:hover label.sk-toggleable__label {background-color: #d4ebff;}#sk-container-id-2 div.sk-serial::before {content: \"\";position: absolute;border-left: 1px solid gray;box-sizing: border-box;top: 0;bottom: 0;left: 50%;z-index: 0;}#sk-container-id-2 div.sk-serial {display: flex;flex-direction: column;align-items: center;background-color: white;padding-right: 0.2em;padding-left: 0.2em;position: relative;}#sk-container-id-2 div.sk-item {position: relative;z-index: 1;}#sk-container-id-2 div.sk-parallel {display: flex;align-items: stretch;justify-content: center;background-color: white;position: relative;}#sk-container-id-2 div.sk-item::before, #sk-container-id-2 div.sk-parallel-item::before {content: \"\";position: absolute;border-left: 1px solid gray;box-sizing: border-box;top: 0;bottom: 0;left: 50%;z-index: -1;}#sk-container-id-2 div.sk-parallel-item {display: flex;flex-direction: column;z-index: 1;position: relative;background-color: white;}#sk-container-id-2 div.sk-parallel-item:first-child::after {align-self: flex-end;width: 50%;}#sk-container-id-2 div.sk-parallel-item:last-child::after {align-self: flex-start;width: 50%;}#sk-container-id-2 div.sk-parallel-item:only-child::after {width: 0;}#sk-container-id-2 div.sk-dashed-wrapped {border: 1px dashed gray;margin: 0 0.4em 0.5em 0.4em;box-sizing: border-box;padding-bottom: 0.4em;background-color: white;}#sk-container-id-2 div.sk-label label {font-family: monospace;font-weight: bold;display: inline-block;line-height: 1.2em;}#sk-container-id-2 div.sk-label-container {text-align: center;}#sk-container-id-2 div.sk-container {/* jupyter's `normalize.less` sets `[hidden] { display: none; }` but bootstrap.min.css set `[hidden] { display: none !important; }` so we also need the `!important` here to be able to override the default hidden behavior on the sphinx rendered scikit-learn.org. See: https://github.com/scikit-learn/scikit-learn/issues/21755 */display: inline-block !important;position: relative;}#sk-container-id-2 div.sk-text-repr-fallback {display: none;}</style><div id=\"sk-container-id-2\" class=\"sk-top-container\"><div class=\"sk-text-repr-fallback\"><pre>LinearRegression(fit_intercept=0)</pre><b>In a Jupyter environment, please rerun this cell to show the HTML representation or trust the notebook. <br />On GitHub, the HTML representation is unable to render, please try loading this page with nbviewer.org.</b></div><div class=\"sk-container\" hidden><div class=\"sk-item\"><div class=\"sk-estimator sk-toggleable\"><input class=\"sk-toggleable__control sk-hidden--visually\" id=\"sk-estimator-id-2\" type=\"checkbox\" checked><label for=\"sk-estimator-id-2\" class=\"sk-toggleable__label sk-toggleable__label-arrow\">LinearRegression</label><div class=\"sk-toggleable__content\"><pre>LinearRegression(fit_intercept=0)</pre></div></div></div></div></div>"
      ],
      "text/plain": [
       "LinearRegression(fit_intercept=0)"
      ]
     },
     "execution_count": 16,
     "metadata": {},
     "output_type": "execute_result"
    }
   ],
   "source": [
    "obj.best_estimator"
   ]
  },
  {
   "attachments": {},
   "cell_type": "markdown",
   "metadata": {},
   "source": [
    "#### Get fitted search object and its attributes"
   ]
  },
  {
   "cell_type": "code",
   "execution_count": 17,
   "metadata": {},
   "outputs": [
    {
     "data": {
      "text/plain": [
       "FrozenTrial(number=3, state=TrialState.COMPLETE, values=[17.536991316420217], datetime_start=datetime.datetime(2023, 7, 3, 17, 15, 41, 744969), datetime_complete=datetime.datetime(2023, 7, 3, 17, 15, 41, 749112), params={'fit_intercept': 0}, user_attrs={}, system_attrs={}, intermediate_values={}, distributions={'fit_intercept': IntDistribution(high=1, log=False, low=0, step=1)}, trial_id=3, value=None)"
      ]
     },
     "execution_count": 17,
     "metadata": {},
     "output_type": "execute_result"
    }
   ],
   "source": [
    "OptunaObj = obj.get_optimized_object()\n",
    "OptunaObj"
   ]
  }
 ],
 "metadata": {
  "kernelspec": {
   "display_name": "Python 3.10.4 ('.venv': poetry)",
   "language": "python",
   "name": "python3"
  },
  "language_info": {
   "codemirror_mode": {
    "name": "ipython",
    "version": 3
   },
   "file_extension": ".py",
   "mimetype": "text/x-python",
   "name": "python",
   "nbconvert_exporter": "python",
   "pygments_lexer": "ipython3",
   "version": "3.10.11"
  },
  "orig_nbformat": 4,
  "vscode": {
   "interpreter": {
    "hash": "7ced68e88e9060e5bcf2eaa5b2d4f8fc97e4d610a52d347137abf879072ffb6d"
   }
  }
 },
 "nbformat": 4,
 "nbformat_minor": 2
}
