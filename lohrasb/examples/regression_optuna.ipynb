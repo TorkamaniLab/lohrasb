{
 "cells": [
  {
   "cell_type": "code",
   "execution_count": 1,
   "metadata": {},
   "outputs": [
    {
     "name": "stdout",
     "output_type": "stream",
     "text": [
      "2023-02-21 20:44:54,610 :: matplotlib :: matplotlib data path: /Users/hjavedani/Documents/Lohrasb/.venv/lib/python3.10/site-packages/matplotlib/mpl-data\n",
      "2023-02-21 20:44:54,615 :: matplotlib :: CONFIGDIR=/Users/hjavedani/.matplotlib\n",
      "2023-02-21 20:44:54,617 :: matplotlib :: interactive is False\n",
      "2023-02-21 20:44:54,618 :: matplotlib :: platform is darwin\n",
      "2023-02-21 20:44:55,569 :: matplotlib :: CACHEDIR=/Users/hjavedani/.matplotlib\n",
      "2023-02-21 20:44:55,572 :: matplotlib.font_manager :: Using fontManager instance from /Users/hjavedani/.matplotlib/fontlist-v330.json\n"
     ]
    }
   ],
   "source": [
    "from lohrasb.best_estimator import BaseModel\n",
    "from optuna.pruners import HyperbandPruner\n",
    "from optuna.samplers._tpe.sampler import TPESampler\n",
    "from sklearn.model_selection import KFold,train_test_split\n",
    "import pandas as pd\n",
    "import optuna\n",
    "from sklearn.pipeline import Pipeline\n",
    "from feature_engine.imputation import (\n",
    "    CategoricalImputer,\n",
    "    MeanMedianImputer\n",
    "    )\n",
    "from category_encoders import OrdinalEncoder\n",
    "from sklearn.metrics import (\n",
    "    make_scorer)\n",
    "from sklearn.metrics import mean_absolute_error,r2_score\n",
    "from sklearn.linear_model import *\n"
   ]
  },
  {
   "cell_type": "markdown",
   "metadata": {},
   "source": [
    "#### Example 2 :Computer Hardware Data Set (a regression problem)\n",
    "  \n",
    "https://archive.ics.uci.edu/ml/datasets/Computer+Hardware"
   ]
  },
  {
   "cell_type": "markdown",
   "metadata": {},
   "source": [
    "#### Part 1: Use BestModel in sklearn pipeline\n"
   ]
  },
  {
   "cell_type": "code",
   "execution_count": 2,
   "metadata": {},
   "outputs": [
    {
     "data": {
      "text/html": [
       "<div>\n",
       "<style scoped>\n",
       "    .dataframe tbody tr th:only-of-type {\n",
       "        vertical-align: middle;\n",
       "    }\n",
       "\n",
       "    .dataframe tbody tr th {\n",
       "        vertical-align: top;\n",
       "    }\n",
       "\n",
       "    .dataframe thead th {\n",
       "        text-align: right;\n",
       "    }\n",
       "</style>\n",
       "<table border=\"1\" class=\"dataframe\">\n",
       "  <thead>\n",
       "    <tr style=\"text-align: right;\">\n",
       "      <th></th>\n",
       "      <th>vendor name</th>\n",
       "      <th>Model Name</th>\n",
       "      <th>MYCT</th>\n",
       "      <th>MMIN</th>\n",
       "      <th>MMAX</th>\n",
       "      <th>CACH</th>\n",
       "      <th>CHMIN</th>\n",
       "      <th>CHMAX</th>\n",
       "      <th>PRP</th>\n",
       "    </tr>\n",
       "  </thead>\n",
       "  <tbody>\n",
       "    <tr>\n",
       "      <th>adviser</th>\n",
       "      <td>32/60</td>\n",
       "      <td>125</td>\n",
       "      <td>256</td>\n",
       "      <td>6000</td>\n",
       "      <td>256</td>\n",
       "      <td>16</td>\n",
       "      <td>128</td>\n",
       "      <td>198</td>\n",
       "      <td>199</td>\n",
       "    </tr>\n",
       "    <tr>\n",
       "      <th>amdahl</th>\n",
       "      <td>470v/7</td>\n",
       "      <td>29</td>\n",
       "      <td>8000</td>\n",
       "      <td>32000</td>\n",
       "      <td>32</td>\n",
       "      <td>8</td>\n",
       "      <td>32</td>\n",
       "      <td>269</td>\n",
       "      <td>253</td>\n",
       "    </tr>\n",
       "    <tr>\n",
       "      <th>amdahl</th>\n",
       "      <td>470v/7a</td>\n",
       "      <td>29</td>\n",
       "      <td>8000</td>\n",
       "      <td>32000</td>\n",
       "      <td>32</td>\n",
       "      <td>8</td>\n",
       "      <td>32</td>\n",
       "      <td>220</td>\n",
       "      <td>253</td>\n",
       "    </tr>\n",
       "    <tr>\n",
       "      <th>amdahl</th>\n",
       "      <td>470v/7b</td>\n",
       "      <td>29</td>\n",
       "      <td>8000</td>\n",
       "      <td>32000</td>\n",
       "      <td>32</td>\n",
       "      <td>8</td>\n",
       "      <td>32</td>\n",
       "      <td>172</td>\n",
       "      <td>253</td>\n",
       "    </tr>\n",
       "    <tr>\n",
       "      <th>amdahl</th>\n",
       "      <td>470v/7c</td>\n",
       "      <td>29</td>\n",
       "      <td>8000</td>\n",
       "      <td>16000</td>\n",
       "      <td>32</td>\n",
       "      <td>8</td>\n",
       "      <td>16</td>\n",
       "      <td>132</td>\n",
       "      <td>132</td>\n",
       "    </tr>\n",
       "    <tr>\n",
       "      <th>...</th>\n",
       "      <td>...</td>\n",
       "      <td>...</td>\n",
       "      <td>...</td>\n",
       "      <td>...</td>\n",
       "      <td>...</td>\n",
       "      <td>...</td>\n",
       "      <td>...</td>\n",
       "      <td>...</td>\n",
       "      <td>...</td>\n",
       "    </tr>\n",
       "    <tr>\n",
       "      <th>sperry</th>\n",
       "      <td>80/8</td>\n",
       "      <td>124</td>\n",
       "      <td>1000</td>\n",
       "      <td>8000</td>\n",
       "      <td>0</td>\n",
       "      <td>1</td>\n",
       "      <td>8</td>\n",
       "      <td>42</td>\n",
       "      <td>37</td>\n",
       "    </tr>\n",
       "    <tr>\n",
       "      <th>sperry</th>\n",
       "      <td>90/80-model-3</td>\n",
       "      <td>98</td>\n",
       "      <td>1000</td>\n",
       "      <td>8000</td>\n",
       "      <td>32</td>\n",
       "      <td>2</td>\n",
       "      <td>8</td>\n",
       "      <td>46</td>\n",
       "      <td>50</td>\n",
       "    </tr>\n",
       "    <tr>\n",
       "      <th>sratus</th>\n",
       "      <td>32</td>\n",
       "      <td>125</td>\n",
       "      <td>2000</td>\n",
       "      <td>8000</td>\n",
       "      <td>0</td>\n",
       "      <td>2</td>\n",
       "      <td>14</td>\n",
       "      <td>52</td>\n",
       "      <td>41</td>\n",
       "    </tr>\n",
       "    <tr>\n",
       "      <th>wang</th>\n",
       "      <td>vs-100</td>\n",
       "      <td>480</td>\n",
       "      <td>512</td>\n",
       "      <td>8000</td>\n",
       "      <td>32</td>\n",
       "      <td>0</td>\n",
       "      <td>0</td>\n",
       "      <td>67</td>\n",
       "      <td>47</td>\n",
       "    </tr>\n",
       "    <tr>\n",
       "      <th>wang</th>\n",
       "      <td>vs-90</td>\n",
       "      <td>480</td>\n",
       "      <td>1000</td>\n",
       "      <td>4000</td>\n",
       "      <td>0</td>\n",
       "      <td>0</td>\n",
       "      <td>0</td>\n",
       "      <td>45</td>\n",
       "      <td>25</td>\n",
       "    </tr>\n",
       "  </tbody>\n",
       "</table>\n",
       "<p>209 rows × 9 columns</p>\n",
       "</div>"
      ],
      "text/plain": [
       "           vendor name  Model Name  MYCT   MMIN  MMAX  CACH  CHMIN  CHMAX  PRP\n",
       "adviser          32/60         125   256   6000   256    16    128    198  199\n",
       "amdahl          470v/7          29  8000  32000    32     8     32    269  253\n",
       "amdahl         470v/7a          29  8000  32000    32     8     32    220  253\n",
       "amdahl         470v/7b          29  8000  32000    32     8     32    172  253\n",
       "amdahl         470v/7c          29  8000  16000    32     8     16    132  132\n",
       "...                ...         ...   ...    ...   ...   ...    ...    ...  ...\n",
       "sperry            80/8         124  1000   8000     0     1      8     42   37\n",
       "sperry   90/80-model-3          98  1000   8000    32     2      8     46   50\n",
       "sratus              32         125  2000   8000     0     2     14     52   41\n",
       "wang            vs-100         480   512   8000    32     0      0     67   47\n",
       "wang             vs-90         480  1000   4000     0     0      0     45   25\n",
       "\n",
       "[209 rows x 9 columns]"
      ]
     },
     "execution_count": 2,
     "metadata": {},
     "output_type": "execute_result"
    }
   ],
   "source": [
    "urldata= \"https://archive.ics.uci.edu/ml/machine-learning-databases/cpu-performance/machine.data\"\n",
    "# column names\n",
    "col_names=[\n",
    "    \"vendor name\",\n",
    "    \"Model Name\",\n",
    "    \"MYCT\",\n",
    "    \"MMIN\",\n",
    "    \"MMAX\",\n",
    "    \"CACH\",\n",
    "    \"CHMIN\",\n",
    "    \"CHMAX\",\n",
    "    \"PRP\"\n",
    "]\n",
    "# read data\n",
    "data = pd.read_csv(urldata,header=None,names=col_names,sep=',')\n",
    "data"
   ]
  },
  {
   "cell_type": "markdown",
   "metadata": {},
   "source": [
    "#### Train test split"
   ]
  },
  {
   "cell_type": "code",
   "execution_count": 3,
   "metadata": {},
   "outputs": [],
   "source": [
    "X = data.loc[:, data.columns != \"PRP\"]\n",
    "y = data.loc[:, data.columns == \"PRP\"]\n",
    "y = y.values.ravel()\n",
    "\n",
    "\n",
    "X_train, X_test, y_train, y_test =train_test_split(X, y, test_size=0.33, random_state=42)\n"
   ]
  },
  {
   "cell_type": "markdown",
   "metadata": {},
   "source": [
    "#### Find feature types for later use"
   ]
  },
  {
   "cell_type": "code",
   "execution_count": 4,
   "metadata": {},
   "outputs": [],
   "source": [
    "int_cols =  X_train.select_dtypes(include=['int']).columns.tolist()\n",
    "float_cols =  X_train.select_dtypes(include=['float']).columns.tolist()\n",
    "cat_cols =  X_train.select_dtypes(include=['object']).columns.tolist()\n"
   ]
  },
  {
   "cell_type": "markdown",
   "metadata": {},
   "source": [
    "####  Define estimator and set its arguments  "
   ]
  },
  {
   "cell_type": "code",
   "execution_count": 5,
   "metadata": {},
   "outputs": [],
   "source": [
    "estimator = LinearRegression()\n",
    "estimator_params= {\n",
    "        \"fit_intercept\": [True, False],\n",
    "    }\n"
   ]
  },
  {
   "cell_type": "code",
   "execution_count": 6,
   "metadata": {},
   "outputs": [
    {
     "name": "stderr",
     "output_type": "stream",
     "text": [
      "\u001b[32m[I 2023-02-21 20:44:56,375]\u001b[0m A new study created in memory with name: no-name-a830b48a-c1a3-4d94-859e-0abda24046ea\u001b[0m\n"
     ]
    }
   ],
   "source": [
    "obj = BaseModel().optimize_by_optuna(\n",
    "            estimator=estimator,\n",
    "            estimator_params=estimator_params,\n",
    "            measure_of_accuracy=\"mean_absolute_error(y_true, y_pred, multioutput='uniform_average')\",\n",
    "            with_stratified=False,\n",
    "            test_size=.3,\n",
    "            verbose=3,\n",
    "            n_jobs=-1,\n",
    "            random_state=42,\n",
    "            # optuna params\n",
    "            # optuna study init params\n",
    "            study=optuna.create_study(\n",
    "                storage=None,\n",
    "                sampler=TPESampler(),\n",
    "                pruner=HyperbandPruner(),\n",
    "                study_name=None,\n",
    "                direction=\"minimize\",\n",
    "                load_if_exists=False,\n",
    "                directions=None,\n",
    "            ),\n",
    "            # optuna optimization params\n",
    "            study_optimize_objective=None,\n",
    "            study_optimize_objective_n_trials=10,\n",
    "            study_optimize_objective_timeout=600,\n",
    "            study_optimize_n_jobs=-1,\n",
    "            study_optimize_catch=(),\n",
    "            study_optimize_callbacks=None,\n",
    "            study_optimize_gc_after_trial=False,\n",
    "            study_optimize_show_progress_bar=False,\n",
    "        )"
   ]
  },
  {
   "cell_type": "markdown",
   "metadata": {},
   "source": [
    "#### Build sklearn pipeline"
   ]
  },
  {
   "cell_type": "code",
   "execution_count": 7,
   "metadata": {},
   "outputs": [],
   "source": [
    "\n",
    "\n",
    "pipeline =Pipeline([\n",
    "            # int missing values imputers\n",
    "            ('intimputer', MeanMedianImputer(\n",
    "                imputation_method='median', variables=int_cols)),\n",
    "            # category missing values imputers\n",
    "            ('catimputer', CategoricalImputer(variables=cat_cols)),\n",
    "            #\n",
    "            ('catencoder', OrdinalEncoder()),\n",
    "            # regression model \n",
    "            ('obj', obj),\n",
    "\n",
    "\n",
    " ])\n",
    "\n"
   ]
  },
  {
   "cell_type": "markdown",
   "metadata": {},
   "source": [
    "#### Run Pipeline"
   ]
  },
  {
   "cell_type": "code",
   "execution_count": 8,
   "metadata": {},
   "outputs": [
    {
     "name": "stderr",
     "output_type": "stream",
     "text": [
      "/Users/hjavedani/Documents/Lohrasb/.venv/lib/python3.10/site-packages/optuna/study/study.py:393: FutureWarning: `n_jobs` argument has been deprecated in v2.7.0. This feature will be removed in v4.0.0. See https://github.com/optuna/optuna/releases/tag/v2.7.0.\n",
      "  warnings.warn(\n",
      "\u001b[32m[I 2023-02-21 20:44:56,515]\u001b[0m Trial 3 finished with value: 13.68505467324601 and parameters: {'fit_intercept': 1}. Best is trial 3 with value: 13.68505467324601.\u001b[0m\n",
      "\u001b[32m[I 2023-02-21 20:44:56,518]\u001b[0m Trial 4 finished with value: 13.68505467324601 and parameters: {'fit_intercept': 1}. Best is trial 3 with value: 13.68505467324601.\u001b[0m\n",
      "\u001b[32m[I 2023-02-21 20:44:56,519]\u001b[0m Trial 2 finished with value: 13.68505467324601 and parameters: {'fit_intercept': 1}. Best is trial 3 with value: 13.68505467324601.\u001b[0m\n",
      "\u001b[32m[I 2023-02-21 20:44:56,520]\u001b[0m Trial 7 finished with value: 14.834664936544758 and parameters: {'fit_intercept': 0}. Best is trial 3 with value: 13.68505467324601.\u001b[0m\n",
      "\u001b[32m[I 2023-02-21 20:44:56,521]\u001b[0m Trial 6 finished with value: 14.834664936544758 and parameters: {'fit_intercept': 0}. Best is trial 3 with value: 13.68505467324601.\u001b[0m\n",
      "\u001b[32m[I 2023-02-21 20:44:56,523]\u001b[0m Trial 0 finished with value: 14.834664936544758 and parameters: {'fit_intercept': 0}. Best is trial 3 with value: 13.68505467324601.\u001b[0m\n",
      "\u001b[32m[I 2023-02-21 20:44:56,524]\u001b[0m Trial 5 finished with value: 13.68505467324601 and parameters: {'fit_intercept': 1}. Best is trial 3 with value: 13.68505467324601.\u001b[0m\n",
      "\u001b[32m[I 2023-02-21 20:44:56,528]\u001b[0m Trial 1 finished with value: 13.68505467324601 and parameters: {'fit_intercept': 1}. Best is trial 3 with value: 13.68505467324601.\u001b[0m\n",
      "\u001b[32m[I 2023-02-21 20:44:56,547]\u001b[0m Trial 8 finished with value: 14.834664936544758 and parameters: {'fit_intercept': 0}. Best is trial 3 with value: 13.68505467324601.\u001b[0m\n",
      "\u001b[32m[I 2023-02-21 20:44:56,548]\u001b[0m Trial 9 finished with value: 14.834664936544758 and parameters: {'fit_intercept': 0}. Best is trial 3 with value: 13.68505467324601.\u001b[0m\n"
     ]
    }
   ],
   "source": [
    "pipeline.fit(X_train,y_train)\n",
    "y_pred = pipeline.predict(X_test)\n"
   ]
  },
  {
   "cell_type": "markdown",
   "metadata": {},
   "source": [
    "#### Check performance of the pipeline"
   ]
  },
  {
   "cell_type": "code",
   "execution_count": 9,
   "metadata": {},
   "outputs": [
    {
     "name": "stdout",
     "output_type": "stream",
     "text": [
      "r2 score : \n",
      "0.9405330793569235\n"
     ]
    }
   ],
   "source": [
    "print('r2 score : ')\n",
    "print(r2_score(y_test,y_pred))\n"
   ]
  },
  {
   "cell_type": "markdown",
   "metadata": {},
   "source": [
    "#### Part 2:  Use BestModel as a standalone estimator "
   ]
  },
  {
   "cell_type": "code",
   "execution_count": 10,
   "metadata": {},
   "outputs": [],
   "source": [
    "X_train, X_test, y_train, y_test =train_test_split(X, y, test_size=0.33, random_state=42)\n"
   ]
  },
  {
   "cell_type": "markdown",
   "metadata": {},
   "source": [
    "#### Transform features to make them ready for model input"
   ]
  },
  {
   "cell_type": "code",
   "execution_count": 11,
   "metadata": {},
   "outputs": [],
   "source": [
    "transform_pipeline =Pipeline([\n",
    "            # int missing values imputers\n",
    "            ('intimputer', MeanMedianImputer(\n",
    "                imputation_method='median', variables=int_cols)),\n",
    "            # category missing values imputers\n",
    "            ('catimputer', CategoricalImputer(variables=cat_cols)),\n",
    "            #\n",
    "            ('catencoder', OrdinalEncoder()),\n",
    "            # classification model\n",
    "\n",
    " ])"
   ]
  },
  {
   "cell_type": "markdown",
   "metadata": {},
   "source": [
    "#### Transform X_train and X_test"
   ]
  },
  {
   "cell_type": "code",
   "execution_count": 12,
   "metadata": {},
   "outputs": [],
   "source": [
    "X_train=transform_pipeline.fit_transform(X_train,y_train)\n",
    "X_test=transform_pipeline.transform(X_test)\n"
   ]
  },
  {
   "cell_type": "markdown",
   "metadata": {},
   "source": [
    "#### Train model and predict"
   ]
  },
  {
   "cell_type": "code",
   "execution_count": 13,
   "metadata": {},
   "outputs": [
    {
     "name": "stderr",
     "output_type": "stream",
     "text": [
      "/Users/hjavedani/Documents/Lohrasb/.venv/lib/python3.10/site-packages/optuna/study/study.py:393: FutureWarning: `n_jobs` argument has been deprecated in v2.7.0. This feature will be removed in v4.0.0. See https://github.com/optuna/optuna/releases/tag/v2.7.0.\n",
      "  warnings.warn(\n",
      "\u001b[32m[I 2023-02-21 20:44:56,777]\u001b[0m Trial 11 finished with value: 13.68505467324601 and parameters: {'fit_intercept': 1}. Best is trial 3 with value: 13.68505467324601.\u001b[0m\n",
      "\u001b[32m[I 2023-02-21 20:44:56,796]\u001b[0m Trial 17 finished with value: 13.68505467324601 and parameters: {'fit_intercept': 1}. Best is trial 3 with value: 13.68505467324601.\u001b[0m\n",
      "\u001b[32m[I 2023-02-21 20:44:56,797]\u001b[0m Trial 12 finished with value: 13.68505467324601 and parameters: {'fit_intercept': 1}. Best is trial 3 with value: 13.68505467324601.\u001b[0m\n",
      "\u001b[32m[I 2023-02-21 20:44:56,800]\u001b[0m Trial 13 finished with value: 13.68505467324601 and parameters: {'fit_intercept': 1}. Best is trial 3 with value: 13.68505467324601.\u001b[0m\n",
      "\u001b[32m[I 2023-02-21 20:44:56,804]\u001b[0m Trial 15 finished with value: 13.68505467324601 and parameters: {'fit_intercept': 1}. Best is trial 3 with value: 13.68505467324601.\u001b[0m\n",
      "\u001b[32m[I 2023-02-21 20:44:56,807]\u001b[0m Trial 16 finished with value: 13.68505467324601 and parameters: {'fit_intercept': 1}. Best is trial 3 with value: 13.68505467324601.\u001b[0m\n",
      "\u001b[32m[I 2023-02-21 20:44:56,810]\u001b[0m Trial 10 finished with value: 13.68505467324601 and parameters: {'fit_intercept': 1}. Best is trial 3 with value: 13.68505467324601.\u001b[0m\n",
      "\u001b[32m[I 2023-02-21 20:44:56,812]\u001b[0m Trial 14 finished with value: 13.68505467324601 and parameters: {'fit_intercept': 1}. Best is trial 3 with value: 13.68505467324601.\u001b[0m\n",
      "\u001b[32m[I 2023-02-21 20:44:56,827]\u001b[0m Trial 18 finished with value: 13.68505467324601 and parameters: {'fit_intercept': 1}. Best is trial 3 with value: 13.68505467324601.\u001b[0m\n",
      "\u001b[32m[I 2023-02-21 20:44:56,832]\u001b[0m Trial 19 finished with value: 13.68505467324601 and parameters: {'fit_intercept': 1}. Best is trial 3 with value: 13.68505467324601.\u001b[0m\n"
     ]
    }
   ],
   "source": [
    "obj.fit(X_train,y_train)\n",
    "y_pred = obj.predict(X_test)"
   ]
  },
  {
   "cell_type": "markdown",
   "metadata": {},
   "source": [
    "#### Check performance of the model"
   ]
  },
  {
   "cell_type": "code",
   "execution_count": 14,
   "metadata": {},
   "outputs": [
    {
     "name": "stdout",
     "output_type": "stream",
     "text": [
      "r2 score : \n",
      "0.9405330793569235\n",
      "mean_absolute_error : \n",
      "26.02008087447524\n"
     ]
    }
   ],
   "source": [
    "print('r2 score : ')\n",
    "print(r2_score(y_test,y_pred))\n",
    "print('mean_absolute_error : ')\n",
    "print(mean_absolute_error(y_test,y_pred))\n"
   ]
  },
  {
   "cell_type": "code",
   "execution_count": 15,
   "metadata": {},
   "outputs": [
    {
     "data": {
      "text/plain": [
       "<interpret.glassbox.linear.LinearRegression at 0x108b32a70>"
      ]
     },
     "execution_count": 15,
     "metadata": {},
     "output_type": "execute_result"
    }
   ],
   "source": [
    "obj.get_best_estimator()"
   ]
  },
  {
   "cell_type": "code",
   "execution_count": 16,
   "metadata": {},
   "outputs": [
    {
     "data": {
      "text/plain": [
       "<interpret.glassbox.linear.LinearRegression at 0x108b32a70>"
      ]
     },
     "execution_count": 16,
     "metadata": {},
     "output_type": "execute_result"
    }
   ],
   "source": [
    "obj.best_estimator"
   ]
  },
  {
   "cell_type": "markdown",
   "metadata": {},
   "source": [
    "#### Get fitted randomized search object and its attributes"
   ]
  },
  {
   "cell_type": "code",
   "execution_count": 17,
   "metadata": {},
   "outputs": [
    {
     "data": {
      "text/plain": [
       "[FrozenTrial(number=0, values=[14.834664936544758], datetime_start=datetime.datetime(2023, 2, 21, 20, 44, 56, 460852), datetime_complete=datetime.datetime(2023, 2, 21, 20, 44, 56, 523211), params={'fit_intercept': 0}, distributions={'fit_intercept': IntUniformDistribution(high=True, low=False, step=1)}, user_attrs={}, system_attrs={}, intermediate_values={}, trial_id=0, state=TrialState.COMPLETE, value=None),\n",
       " FrozenTrial(number=1, values=[13.68505467324601], datetime_start=datetime.datetime(2023, 2, 21, 20, 44, 56, 466013), datetime_complete=datetime.datetime(2023, 2, 21, 20, 44, 56, 528184), params={'fit_intercept': 1}, distributions={'fit_intercept': IntUniformDistribution(high=True, low=False, step=1)}, user_attrs={}, system_attrs={}, intermediate_values={}, trial_id=1, state=TrialState.COMPLETE, value=None),\n",
       " FrozenTrial(number=2, values=[13.68505467324601], datetime_start=datetime.datetime(2023, 2, 21, 20, 44, 56, 466950), datetime_complete=datetime.datetime(2023, 2, 21, 20, 44, 56, 519365), params={'fit_intercept': 1}, distributions={'fit_intercept': IntUniformDistribution(high=True, low=False, step=1)}, user_attrs={}, system_attrs={}, intermediate_values={}, trial_id=2, state=TrialState.COMPLETE, value=None),\n",
       " FrozenTrial(number=3, values=[13.68505467324601], datetime_start=datetime.datetime(2023, 2, 21, 20, 44, 56, 469301), datetime_complete=datetime.datetime(2023, 2, 21, 20, 44, 56, 515291), params={'fit_intercept': 1}, distributions={'fit_intercept': IntUniformDistribution(high=True, low=False, step=1)}, user_attrs={}, system_attrs={}, intermediate_values={}, trial_id=3, state=TrialState.COMPLETE, value=None),\n",
       " FrozenTrial(number=4, values=[13.68505467324601], datetime_start=datetime.datetime(2023, 2, 21, 20, 44, 56, 470370), datetime_complete=datetime.datetime(2023, 2, 21, 20, 44, 56, 518331), params={'fit_intercept': 1}, distributions={'fit_intercept': IntUniformDistribution(high=True, low=False, step=1)}, user_attrs={}, system_attrs={}, intermediate_values={}, trial_id=4, state=TrialState.COMPLETE, value=None),\n",
       " FrozenTrial(number=5, values=[13.68505467324601], datetime_start=datetime.datetime(2023, 2, 21, 20, 44, 56, 477279), datetime_complete=datetime.datetime(2023, 2, 21, 20, 44, 56, 524353), params={'fit_intercept': 1}, distributions={'fit_intercept': IntUniformDistribution(high=True, low=False, step=1)}, user_attrs={}, system_attrs={}, intermediate_values={}, trial_id=5, state=TrialState.COMPLETE, value=None),\n",
       " FrozenTrial(number=6, values=[14.834664936544758], datetime_start=datetime.datetime(2023, 2, 21, 20, 44, 56, 478325), datetime_complete=datetime.datetime(2023, 2, 21, 20, 44, 56, 520972), params={'fit_intercept': 0}, distributions={'fit_intercept': IntUniformDistribution(high=True, low=False, step=1)}, user_attrs={}, system_attrs={}, intermediate_values={}, trial_id=6, state=TrialState.COMPLETE, value=None),\n",
       " FrozenTrial(number=7, values=[14.834664936544758], datetime_start=datetime.datetime(2023, 2, 21, 20, 44, 56, 480155), datetime_complete=datetime.datetime(2023, 2, 21, 20, 44, 56, 520240), params={'fit_intercept': 0}, distributions={'fit_intercept': IntUniformDistribution(high=True, low=False, step=1)}, user_attrs={}, system_attrs={}, intermediate_values={}, trial_id=7, state=TrialState.COMPLETE, value=None),\n",
       " FrozenTrial(number=8, values=[14.834664936544758], datetime_start=datetime.datetime(2023, 2, 21, 20, 44, 56, 529874), datetime_complete=datetime.datetime(2023, 2, 21, 20, 44, 56, 547355), params={'fit_intercept': 0}, distributions={'fit_intercept': IntUniformDistribution(high=True, low=False, step=1)}, user_attrs={}, system_attrs={}, intermediate_values={}, trial_id=8, state=TrialState.COMPLETE, value=None),\n",
       " FrozenTrial(number=9, values=[14.834664936544758], datetime_start=datetime.datetime(2023, 2, 21, 20, 44, 56, 532507), datetime_complete=datetime.datetime(2023, 2, 21, 20, 44, 56, 548757), params={'fit_intercept': 0}, distributions={'fit_intercept': IntUniformDistribution(high=True, low=False, step=1)}, user_attrs={}, system_attrs={}, intermediate_values={}, trial_id=9, state=TrialState.COMPLETE, value=None),\n",
       " FrozenTrial(number=10, values=[13.68505467324601], datetime_start=datetime.datetime(2023, 2, 21, 20, 44, 56, 734521), datetime_complete=datetime.datetime(2023, 2, 21, 20, 44, 56, 810834), params={'fit_intercept': 1}, distributions={'fit_intercept': IntUniformDistribution(high=True, low=False, step=1)}, user_attrs={}, system_attrs={}, intermediate_values={}, trial_id=10, state=TrialState.COMPLETE, value=None),\n",
       " FrozenTrial(number=11, values=[13.68505467324601], datetime_start=datetime.datetime(2023, 2, 21, 20, 44, 56, 737038), datetime_complete=datetime.datetime(2023, 2, 21, 20, 44, 56, 776851), params={'fit_intercept': 1}, distributions={'fit_intercept': IntUniformDistribution(high=True, low=False, step=1)}, user_attrs={}, system_attrs={}, intermediate_values={}, trial_id=11, state=TrialState.COMPLETE, value=None),\n",
       " FrozenTrial(number=12, values=[13.68505467324601], datetime_start=datetime.datetime(2023, 2, 21, 20, 44, 56, 739167), datetime_complete=datetime.datetime(2023, 2, 21, 20, 44, 56, 797665), params={'fit_intercept': 1}, distributions={'fit_intercept': IntUniformDistribution(high=True, low=False, step=1)}, user_attrs={}, system_attrs={}, intermediate_values={}, trial_id=12, state=TrialState.COMPLETE, value=None),\n",
       " FrozenTrial(number=13, values=[13.68505467324601], datetime_start=datetime.datetime(2023, 2, 21, 20, 44, 56, 741082), datetime_complete=datetime.datetime(2023, 2, 21, 20, 44, 56, 800558), params={'fit_intercept': 1}, distributions={'fit_intercept': IntUniformDistribution(high=True, low=False, step=1)}, user_attrs={}, system_attrs={}, intermediate_values={}, trial_id=13, state=TrialState.COMPLETE, value=None),\n",
       " FrozenTrial(number=14, values=[13.68505467324601], datetime_start=datetime.datetime(2023, 2, 21, 20, 44, 56, 745154), datetime_complete=datetime.datetime(2023, 2, 21, 20, 44, 56, 812198), params={'fit_intercept': 1}, distributions={'fit_intercept': IntUniformDistribution(high=True, low=False, step=1)}, user_attrs={}, system_attrs={}, intermediate_values={}, trial_id=14, state=TrialState.COMPLETE, value=None),\n",
       " FrozenTrial(number=15, values=[13.68505467324601], datetime_start=datetime.datetime(2023, 2, 21, 20, 44, 56, 749785), datetime_complete=datetime.datetime(2023, 2, 21, 20, 44, 56, 804639), params={'fit_intercept': 1}, distributions={'fit_intercept': IntUniformDistribution(high=True, low=False, step=1)}, user_attrs={}, system_attrs={}, intermediate_values={}, trial_id=15, state=TrialState.COMPLETE, value=None),\n",
       " FrozenTrial(number=16, values=[13.68505467324601], datetime_start=datetime.datetime(2023, 2, 21, 20, 44, 56, 753600), datetime_complete=datetime.datetime(2023, 2, 21, 20, 44, 56, 807643), params={'fit_intercept': 1}, distributions={'fit_intercept': IntUniformDistribution(high=True, low=False, step=1)}, user_attrs={}, system_attrs={}, intermediate_values={}, trial_id=16, state=TrialState.COMPLETE, value=None),\n",
       " FrozenTrial(number=17, values=[13.68505467324601], datetime_start=datetime.datetime(2023, 2, 21, 20, 44, 56, 757278), datetime_complete=datetime.datetime(2023, 2, 21, 20, 44, 56, 796473), params={'fit_intercept': 1}, distributions={'fit_intercept': IntUniformDistribution(high=True, low=False, step=1)}, user_attrs={}, system_attrs={}, intermediate_values={}, trial_id=17, state=TrialState.COMPLETE, value=None),\n",
       " FrozenTrial(number=18, values=[13.68505467324601], datetime_start=datetime.datetime(2023, 2, 21, 20, 44, 56, 808056), datetime_complete=datetime.datetime(2023, 2, 21, 20, 44, 56, 827835), params={'fit_intercept': 1}, distributions={'fit_intercept': IntUniformDistribution(high=True, low=False, step=1)}, user_attrs={}, system_attrs={}, intermediate_values={}, trial_id=18, state=TrialState.COMPLETE, value=None),\n",
       " FrozenTrial(number=19, values=[13.68505467324601], datetime_start=datetime.datetime(2023, 2, 21, 20, 44, 56, 814629), datetime_complete=datetime.datetime(2023, 2, 21, 20, 44, 56, 832433), params={'fit_intercept': 1}, distributions={'fit_intercept': IntUniformDistribution(high=True, low=False, step=1)}, user_attrs={}, system_attrs={}, intermediate_values={}, trial_id=19, state=TrialState.COMPLETE, value=None)]"
      ]
     },
     "execution_count": 17,
     "metadata": {},
     "output_type": "execute_result"
    }
   ],
   "source": [
    "OptunaObj = obj.get_optimized_object()\n",
    "OptunaObj.trials"
   ]
  }
 ],
 "metadata": {
  "kernelspec": {
   "display_name": "Python 3.10.4 ('.venv': poetry)",
   "language": "python",
   "name": "python3"
  },
  "language_info": {
   "codemirror_mode": {
    "name": "ipython",
    "version": 3
   },
   "file_extension": ".py",
   "mimetype": "text/x-python",
   "name": "python",
   "nbconvert_exporter": "python",
   "pygments_lexer": "ipython3",
   "version": "3.10.9"
  },
  "orig_nbformat": 4,
  "vscode": {
   "interpreter": {
    "hash": "7ced68e88e9060e5bcf2eaa5b2d4f8fc97e4d610a52d347137abf879072ffb6d"
   }
  }
 },
 "nbformat": 4,
 "nbformat_minor": 2
}
