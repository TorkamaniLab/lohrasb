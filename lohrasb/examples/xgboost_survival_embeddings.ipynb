{
 "cells": [
  {
   "cell_type": "markdown",
   "metadata": {},
   "source": [
    "## XGBoost Survival Embeddings\n",
    "\n",
    "examples from : https://github.com/loft-br/xgboost-survival-embeddings"
   ]
  },
  {
   "cell_type": "markdown",
   "metadata": {},
   "source": [
    "#### Install Pytorch  and other imports"
   ]
  },
  {
   "cell_type": "code",
   "execution_count": 1,
   "metadata": {},
   "outputs": [
    {
     "name": "stdout",
     "output_type": "stream",
     "text": [
      "Requirement already satisfied: torch==1.12.1 in /usr/local/lib/python3.10/site-packages (1.12.1)\n",
      "Requirement already satisfied: typing-extensions in /usr/local/lib/python3.10/site-packages (from torch==1.12.1) (4.4.0)\n",
      "\n",
      "\u001b[1m[\u001b[0m\u001b[34;49mnotice\u001b[0m\u001b[1;39;49m]\u001b[0m\u001b[39;49m A new release of pip available: \u001b[0m\u001b[31;49m22.3.1\u001b[0m\u001b[39;49m -> \u001b[0m\u001b[32;49m23.0.1\u001b[0m\n",
      "\u001b[1m[\u001b[0m\u001b[34;49mnotice\u001b[0m\u001b[1;39;49m]\u001b[0m\u001b[39;49m To update, run: \u001b[0m\u001b[32;49mpython3.10 -m pip install --upgrade pip\u001b[0m\n",
      "2023-02-21 20:45:32,287 :: matplotlib :: matplotlib data path: /Users/hjavedani/Documents/Lohrasb/.venv/lib/python3.10/site-packages/matplotlib/mpl-data\n",
      "2023-02-21 20:45:32,294 :: matplotlib :: CONFIGDIR=/Users/hjavedani/.matplotlib\n",
      "2023-02-21 20:45:32,296 :: matplotlib :: interactive is False\n",
      "2023-02-21 20:45:32,297 :: matplotlib :: platform is darwin\n",
      "2023-02-21 20:45:33,387 :: matplotlib :: CACHEDIR=/Users/hjavedani/.matplotlib\n",
      "2023-02-21 20:45:33,391 :: matplotlib.font_manager :: Using fontManager instance from /Users/hjavedani/.matplotlib/fontlist-v330.json\n"
     ]
    }
   ],
   "source": [
    "\n",
    "! pip3 install torch==1.12.1\n",
    "import sys\n",
    "sys.path.append('/usr/local/lib/python3.10/site-packages')\n",
    "import torch\n",
    "import numpy as np\n",
    "from sklearn.model_selection import KFold, train_test_split\n",
    "from lohrasb.best_estimator import BaseModel\n",
    "from sklearn.pipeline import Pipeline\n",
    "from sklearn.metrics import make_scorer\n",
    "from xgbse.converters import convert_to_structured\n",
    "from xgbse.metrics import (\n",
    "    concordance_index,\n",
    "    approx_brier_score\n",
    ")\n",
    "from xgbse import (\n",
    "    XGBSEKaplanNeighbors,\n",
    "    XGBSEKaplanTree,\n",
    "    XGBSEBootstrapEstimator\n",
    ")\n"
   ]
  },
  {
   "cell_type": "markdown",
   "metadata": {},
   "source": [
    "#### Example : XGBoost Survival Embeddings (XGBSEKaplanNeighbors)\n",
    "  \n"
   ]
  },
  {
   "cell_type": "markdown",
   "metadata": {},
   "source": [
    "For more information refer to this link : https://loft-br.github.io/xgboost-survival-embeddings/examples/confidence_interval.html\n",
    "\n"
   ]
  },
  {
   "cell_type": "code",
   "execution_count": 2,
   "metadata": {},
   "outputs": [
    {
     "name": "stdout",
     "output_type": "stream",
     "text": [
      "2023-02-21 20:45:34,011 :: h5py._conv :: Creating converter from 7 to 5\n",
      "2023-02-21 20:45:34,011 :: h5py._conv :: Creating converter from 5 to 7\n",
      "2023-02-21 20:45:34,012 :: h5py._conv :: Creating converter from 7 to 5\n",
      "2023-02-21 20:45:34,013 :: h5py._conv :: Creating converter from 5 to 7\n"
     ]
    },
    {
     "data": {
      "text/html": [
       "<div>\n",
       "<style scoped>\n",
       "    .dataframe tbody tr th:only-of-type {\n",
       "        vertical-align: middle;\n",
       "    }\n",
       "\n",
       "    .dataframe tbody tr th {\n",
       "        vertical-align: top;\n",
       "    }\n",
       "\n",
       "    .dataframe thead th {\n",
       "        text-align: right;\n",
       "    }\n",
       "</style>\n",
       "<table border=\"1\" class=\"dataframe\">\n",
       "  <thead>\n",
       "    <tr style=\"text-align: right;\">\n",
       "      <th></th>\n",
       "      <th>x0</th>\n",
       "      <th>x1</th>\n",
       "      <th>x2</th>\n",
       "      <th>x3</th>\n",
       "      <th>x4</th>\n",
       "      <th>x5</th>\n",
       "      <th>x6</th>\n",
       "      <th>x7</th>\n",
       "      <th>x8</th>\n",
       "      <th>duration</th>\n",
       "      <th>event</th>\n",
       "    </tr>\n",
       "  </thead>\n",
       "  <tbody>\n",
       "    <tr>\n",
       "      <th>0</th>\n",
       "      <td>5.603834</td>\n",
       "      <td>7.811392</td>\n",
       "      <td>10.797988</td>\n",
       "      <td>5.967607</td>\n",
       "      <td>1.0</td>\n",
       "      <td>1.0</td>\n",
       "      <td>0.0</td>\n",
       "      <td>1.0</td>\n",
       "      <td>56.840000</td>\n",
       "      <td>99.333336</td>\n",
       "      <td>0</td>\n",
       "    </tr>\n",
       "    <tr>\n",
       "      <th>1</th>\n",
       "      <td>5.284882</td>\n",
       "      <td>9.581043</td>\n",
       "      <td>10.204620</td>\n",
       "      <td>5.664970</td>\n",
       "      <td>1.0</td>\n",
       "      <td>0.0</td>\n",
       "      <td>0.0</td>\n",
       "      <td>1.0</td>\n",
       "      <td>85.940002</td>\n",
       "      <td>95.733330</td>\n",
       "      <td>1</td>\n",
       "    </tr>\n",
       "    <tr>\n",
       "      <th>2</th>\n",
       "      <td>5.920251</td>\n",
       "      <td>6.776564</td>\n",
       "      <td>12.431715</td>\n",
       "      <td>5.873857</td>\n",
       "      <td>0.0</td>\n",
       "      <td>1.0</td>\n",
       "      <td>0.0</td>\n",
       "      <td>1.0</td>\n",
       "      <td>48.439999</td>\n",
       "      <td>140.233337</td>\n",
       "      <td>0</td>\n",
       "    </tr>\n",
       "    <tr>\n",
       "      <th>3</th>\n",
       "      <td>6.654017</td>\n",
       "      <td>5.341846</td>\n",
       "      <td>8.646379</td>\n",
       "      <td>5.655888</td>\n",
       "      <td>0.0</td>\n",
       "      <td>0.0</td>\n",
       "      <td>0.0</td>\n",
       "      <td>0.0</td>\n",
       "      <td>66.910004</td>\n",
       "      <td>239.300003</td>\n",
       "      <td>0</td>\n",
       "    </tr>\n",
       "    <tr>\n",
       "      <th>4</th>\n",
       "      <td>5.456747</td>\n",
       "      <td>5.339741</td>\n",
       "      <td>10.555724</td>\n",
       "      <td>6.008429</td>\n",
       "      <td>1.0</td>\n",
       "      <td>0.0</td>\n",
       "      <td>0.0</td>\n",
       "      <td>1.0</td>\n",
       "      <td>67.849998</td>\n",
       "      <td>56.933334</td>\n",
       "      <td>1</td>\n",
       "    </tr>\n",
       "  </tbody>\n",
       "</table>\n",
       "</div>"
      ],
      "text/plain": [
       "         x0        x1         x2        x3   x4   x5   x6   x7         x8  \\\n",
       "0  5.603834  7.811392  10.797988  5.967607  1.0  1.0  0.0  1.0  56.840000   \n",
       "1  5.284882  9.581043  10.204620  5.664970  1.0  0.0  0.0  1.0  85.940002   \n",
       "2  5.920251  6.776564  12.431715  5.873857  0.0  1.0  0.0  1.0  48.439999   \n",
       "3  6.654017  5.341846   8.646379  5.655888  0.0  0.0  0.0  0.0  66.910004   \n",
       "4  5.456747  5.339741  10.555724  6.008429  1.0  0.0  0.0  1.0  67.849998   \n",
       "\n",
       "     duration  event  \n",
       "0   99.333336      0  \n",
       "1   95.733330      1  \n",
       "2  140.233337      0  \n",
       "3  239.300003      0  \n",
       "4   56.933334      1  "
      ]
     },
     "execution_count": 2,
     "metadata": {},
     "output_type": "execute_result"
    }
   ],
   "source": [
    "from pycox.datasets import metabric\n",
    "# read data metabric\n",
    "df = metabric.read_df()\n",
    "df.head()"
   ]
  },
  {
   "cell_type": "markdown",
   "metadata": {},
   "source": [
    "#### Define labels and train-test split \n"
   ]
  },
  {
   "cell_type": "code",
   "execution_count": 3,
   "metadata": {},
   "outputs": [],
   "source": [
    "# splitting to X, T, E format\n",
    "X = df.drop(['duration', 'event'], axis=1)\n",
    "y = convert_to_structured(df['duration'], df['event'])\n",
    "\n",
    "# splitting between train, and validation \n",
    "(X_train, X_test,\n",
    " y_train, y_test) = \\\n",
    "train_test_split(X, y, test_size=0.2, random_state=42)"
   ]
  },
  {
   "cell_type": "markdown",
   "metadata": {},
   "source": [
    "#### Example 1: Basic usage\n"
   ]
  },
  {
   "cell_type": "code",
   "execution_count": 4,
   "metadata": {},
   "outputs": [],
   "source": [
    "# estimator params\n",
    "fit_params = None\n",
    "# fitting xgbse model\n",
    "estimator = XGBSEKaplanNeighbors()\n",
    "estimator_params ={\n",
    "     'n_neighbors': [50,70],\n",
    "}\n",
    "#xgbse_model.fit(X, y)\n",
    "\n",
    "# predicting\n",
    "#event_probs = xgbse_model.predict(X)\n",
    "# event_probs.head()"
   ]
  },
  {
   "cell_type": "markdown",
   "metadata": {},
   "source": [
    "#### Define BestModel optimzed by random search"
   ]
  },
  {
   "cell_type": "code",
   "execution_count": 5,
   "metadata": {},
   "outputs": [],
   "source": [
    "obj = BaseModel().optimize_by_randomsearchcv(\n",
    "            estimator=estimator,\n",
    "            fit_params = fit_params,\n",
    "            estimator_params=estimator_params,\n",
    "            measure_of_accuracy=make_scorer(concordance_index, greater_is_better=True),\n",
    "            verbose=3,\n",
    "            n_jobs=-1,\n",
    "            n_iter=2,\n",
    "            random_state=42,\n",
    "            cv=KFold(2),\n",
    "        )\n"
   ]
  },
  {
   "cell_type": "markdown",
   "metadata": {},
   "source": [
    "#### Define Pipeline and predict"
   ]
  },
  {
   "cell_type": "code",
   "execution_count": 6,
   "metadata": {},
   "outputs": [
    {
     "name": "stdout",
     "output_type": "stream",
     "text": [
      "2023-02-21 20:45:34,909 :: dev :: The optimization will be based on make_scorer(concordance_index) metric!\n",
      "2023-02-21 20:45:34,909 :: dev :: The optimization will be based on make_scorer(concordance_index) metric!\n",
      "Fitting 2 folds for each of 2 candidates, totalling 4 fits\n",
      "[CV 1/2] END ....................n_neighbors=50;, score=0.631 total time= 4.1min\n",
      "[CV 2/2] END ....................n_neighbors=50;, score=0.622 total time=  43.7s\n",
      "[CV 1/2] END ....................n_neighbors=70;, score=0.632 total time=  48.6s\n",
      "[CV 2/2] END ....................n_neighbors=70;, score=0.619 total time=  52.4s\n",
      "2023-02-21 20:52:56,014 :: dev :: The optimization will be based on make_scorer(concordance_index) metric!\n",
      "2023-02-21 20:52:56,014 :: dev :: The optimization will be based on make_scorer(concordance_index) metric!\n"
     ]
    }
   ],
   "source": [
    "pipeline =Pipeline([\n",
    "            ('obj', obj)\n",
    "\n",
    " ])\n",
    "\n",
    "pipeline.fit(X_train,y_train)\n",
    "y_pred = pipeline.predict(X_test)"
   ]
  },
  {
   "cell_type": "markdown",
   "metadata": {},
   "source": [
    "#### Metrics"
   ]
  },
  {
   "cell_type": "code",
   "execution_count": 7,
   "metadata": {},
   "outputs": [
    {
     "name": "stdout",
     "output_type": "stream",
     "text": [
      "C-index: 0.6290448103547145\n",
      "Avg. Brier Score: 0.1583786250333026\n"
     ]
    }
   ],
   "source": [
    "\n",
    "\n",
    "print(f'C-index: {concordance_index(y_test, y_pred)}')\n",
    "print(f'Avg. Brier Score: {approx_brier_score(y_test, y_pred)}')\n"
   ]
  },
  {
   "cell_type": "markdown",
   "metadata": {},
   "source": [
    "#### Example 2: Define estimator and set its arguments \n"
   ]
  },
  {
   "cell_type": "code",
   "execution_count": 8,
   "metadata": {},
   "outputs": [],
   "source": [
    "estimator_params = {\n",
    "    'n_estimators' :[100,200]\n",
    "\n",
    "}\n",
    "\n",
    "PARAMS_TREE = {\n",
    "    'objective': 'survival:cox',\n",
    "    'eval_metric': 'cox-nloglik',\n",
    "    'tree_method': 'hist', \n",
    "    'max_depth': 100, \n",
    "    'booster':'dart', \n",
    "    'subsample': 1.0,\n",
    "    'min_child_weight': 50, \n",
    "    'colsample_bynode': 1.0\n",
    "}\n",
    "base_model = XGBSEKaplanTree(PARAMS_TREE)\n"
   ]
  },
  {
   "cell_type": "code",
   "execution_count": 9,
   "metadata": {},
   "outputs": [],
   "source": [
    "TIME_BINS = np.arange(15, 315, 15)"
   ]
  },
  {
   "cell_type": "markdown",
   "metadata": {},
   "source": [
    "#### Define estimator and fit params\n"
   ]
  },
  {
   "cell_type": "code",
   "execution_count": 10,
   "metadata": {},
   "outputs": [],
   "source": [
    "estimator=XGBSEBootstrapEstimator(base_model)\n",
    "fit_params = {\"time_bins\":TIME_BINS}\n"
   ]
  },
  {
   "cell_type": "markdown",
   "metadata": {},
   "source": [
    "#### Define BaseModel estimator using random search CV"
   ]
  },
  {
   "cell_type": "code",
   "execution_count": 11,
   "metadata": {},
   "outputs": [],
   "source": [
    "\n",
    "obj = BaseModel().optimize_by_randomsearchcv(\n",
    "            estimator=estimator,\n",
    "            fit_params = fit_params,\n",
    "            estimator_params=estimator_params,\n",
    "            measure_of_accuracy=make_scorer(approx_brier_score, greater_is_better=False),\n",
    "            verbose=3,\n",
    "            n_jobs=-1,\n",
    "            n_iter=2,\n",
    "            random_state=42,\n",
    "            cv=KFold(2),\n",
    "        )\n",
    "\n"
   ]
  },
  {
   "cell_type": "markdown",
   "metadata": {},
   "source": [
    "#### Build sklearn pipeline"
   ]
  },
  {
   "cell_type": "code",
   "execution_count": 12,
   "metadata": {},
   "outputs": [],
   "source": [
    "\n",
    "\n",
    "pipeline =Pipeline([\n",
    "            ('obj', obj)\n",
    "\n",
    " ])\n"
   ]
  },
  {
   "cell_type": "markdown",
   "metadata": {},
   "source": [
    "#### Run Pipeline"
   ]
  },
  {
   "cell_type": "code",
   "execution_count": 13,
   "metadata": {},
   "outputs": [
    {
     "name": "stdout",
     "output_type": "stream",
     "text": [
      "2023-02-21 20:52:56,942 :: dev :: The optimization will be based on make_scorer(approx_brier_score, greater_is_better=False) metric!\n",
      "2023-02-21 20:52:56,942 :: dev :: The optimization will be based on make_scorer(approx_brier_score, greater_is_better=False) metric!\n",
      "Fitting 2 folds for each of 2 candidates, totalling 4 fits\n",
      "[CV 1/2] END .................n_estimators=100;, score=-0.173 total time=   3.1s\n",
      "[CV 2/2] END .................n_estimators=100;, score=-0.179 total time=   2.8s\n",
      "[CV 1/2] END .................n_estimators=200;, score=-0.173 total time=   5.4s\n",
      "[CV 2/2] END .................n_estimators=200;, score=-0.179 total time=   5.2s\n",
      "2023-02-21 20:53:20,125 :: dev :: The optimization will be based on make_scorer(approx_brier_score, greater_is_better=False) metric!\n",
      "2023-02-21 20:53:20,125 :: dev :: The optimization will be based on make_scorer(approx_brier_score, greater_is_better=False) metric!\n"
     ]
    }
   ],
   "source": [
    "pipeline.fit(X_train,y_train)\n",
    "y_pred = pipeline.predict(X_test)\n"
   ]
  },
  {
   "cell_type": "markdown",
   "metadata": {},
   "source": [
    "#### Check performance of the pipeline"
   ]
  },
  {
   "cell_type": "code",
   "execution_count": 14,
   "metadata": {},
   "outputs": [
    {
     "name": "stdout",
     "output_type": "stream",
     "text": [
      "C-index: 0.6395715573031867\n",
      "Avg. Brier Score: 0.17269133802814857\n"
     ]
    }
   ],
   "source": [
    "print(f'C-index: {concordance_index(y_test, y_pred)}')\n",
    "print(f'Avg. Brier Score: {approx_brier_score(y_test, y_pred)}')\n"
   ]
  }
 ],
 "metadata": {
  "kernelspec": {
   "display_name": "Python 3.10.6 ('.venv': poetry)",
   "language": "python",
   "name": "python3"
  },
  "language_info": {
   "codemirror_mode": {
    "name": "ipython",
    "version": 3
   },
   "file_extension": ".py",
   "mimetype": "text/x-python",
   "name": "python",
   "nbconvert_exporter": "python",
   "pygments_lexer": "ipython3",
   "version": "3.10.9"
  },
  "orig_nbformat": 4,
  "vscode": {
   "interpreter": {
    "hash": "7ced68e88e9060e5bcf2eaa5b2d4f8fc97e4d610a52d347137abf879072ffb6d"
   }
  }
 },
 "nbformat": 4,
 "nbformat_minor": 2
}
