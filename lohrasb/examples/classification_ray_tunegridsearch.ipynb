{
 "cells": [
  {
   "cell_type": "code",
   "execution_count": 1,
   "metadata": {},
   "outputs": [
    {
     "name": "stdout",
     "output_type": "stream",
     "text": [
      "2023-02-21 21:10:13,570 :: matplotlib :: matplotlib data path: /Users/hjavedani/Documents/Lohrasb/.venv/lib/python3.10/site-packages/matplotlib/mpl-data\n",
      "2023-02-21 21:10:13,575 :: matplotlib :: CONFIGDIR=/Users/hjavedani/.matplotlib\n",
      "2023-02-21 21:10:13,578 :: matplotlib :: interactive is False\n",
      "2023-02-21 21:10:13,579 :: matplotlib :: platform is darwin\n",
      "2023-02-21 21:10:14,530 :: matplotlib :: CACHEDIR=/Users/hjavedani/.matplotlib\n",
      "2023-02-21 21:10:14,533 :: matplotlib.font_manager :: Using fontManager instance from /Users/hjavedani/.matplotlib/fontlist-v330.json\n"
     ]
    }
   ],
   "source": [
    "import pandas as pd\n",
    "from sklearn.model_selection import KFold, train_test_split\n",
    "from lohrasb.best_estimator import BaseModel\n",
    "from sklearn.pipeline import Pipeline\n",
    "from feature_engine.imputation import (\n",
    "    CategoricalImputer,\n",
    "    MeanMedianImputer\n",
    "    )\n",
    "from category_encoders import OrdinalEncoder\n",
    "from sklearn.metrics import (\n",
    "    classification_report,\n",
    "    confusion_matrix,\n",
    "    f1_score)\n",
    "from sklearn.metrics import f1_score, make_scorer\n",
    "from xgboost import *\n",
    "\n",
    "from lohrasb import logger\n"
   ]
  },
  {
   "cell_type": "markdown",
   "metadata": {},
   "source": [
    "#### Example: Use Adult Data Set (a classification problem)\n",
    "  \n",
    "https://archive.ics.uci.edu/ml/datasets/Adult"
   ]
  },
  {
   "cell_type": "markdown",
   "metadata": {},
   "source": [
    "#### Part 1: Use BestModel in sklearn pipeline\n"
   ]
  },
  {
   "cell_type": "code",
   "execution_count": 2,
   "metadata": {},
   "outputs": [
    {
     "data": {
      "text/html": [
       "<div>\n",
       "<style scoped>\n",
       "    .dataframe tbody tr th:only-of-type {\n",
       "        vertical-align: middle;\n",
       "    }\n",
       "\n",
       "    .dataframe tbody tr th {\n",
       "        vertical-align: top;\n",
       "    }\n",
       "\n",
       "    .dataframe thead th {\n",
       "        text-align: right;\n",
       "    }\n",
       "</style>\n",
       "<table border=\"1\" class=\"dataframe\">\n",
       "  <thead>\n",
       "    <tr style=\"text-align: right;\">\n",
       "      <th></th>\n",
       "      <th>age</th>\n",
       "      <th>workclass</th>\n",
       "      <th>fnlwgt</th>\n",
       "      <th>education</th>\n",
       "      <th>education-num</th>\n",
       "      <th>marital-status</th>\n",
       "      <th>occupation</th>\n",
       "      <th>relationship</th>\n",
       "      <th>race</th>\n",
       "      <th>sex</th>\n",
       "      <th>capital-gain</th>\n",
       "      <th>capital-loss</th>\n",
       "      <th>hours-per-week</th>\n",
       "      <th>native-country</th>\n",
       "      <th>label</th>\n",
       "    </tr>\n",
       "  </thead>\n",
       "  <tbody>\n",
       "    <tr>\n",
       "      <th>0</th>\n",
       "      <td>39</td>\n",
       "      <td>State-gov</td>\n",
       "      <td>77516</td>\n",
       "      <td>Bachelors</td>\n",
       "      <td>13</td>\n",
       "      <td>Never-married</td>\n",
       "      <td>Adm-clerical</td>\n",
       "      <td>Not-in-family</td>\n",
       "      <td>White</td>\n",
       "      <td>Male</td>\n",
       "      <td>2174</td>\n",
       "      <td>0</td>\n",
       "      <td>40</td>\n",
       "      <td>United-States</td>\n",
       "      <td>&lt;=50K</td>\n",
       "    </tr>\n",
       "    <tr>\n",
       "      <th>1</th>\n",
       "      <td>50</td>\n",
       "      <td>Self-emp-not-inc</td>\n",
       "      <td>83311</td>\n",
       "      <td>Bachelors</td>\n",
       "      <td>13</td>\n",
       "      <td>Married-civ-spouse</td>\n",
       "      <td>Exec-managerial</td>\n",
       "      <td>Husband</td>\n",
       "      <td>White</td>\n",
       "      <td>Male</td>\n",
       "      <td>0</td>\n",
       "      <td>0</td>\n",
       "      <td>13</td>\n",
       "      <td>United-States</td>\n",
       "      <td>&lt;=50K</td>\n",
       "    </tr>\n",
       "    <tr>\n",
       "      <th>2</th>\n",
       "      <td>38</td>\n",
       "      <td>Private</td>\n",
       "      <td>215646</td>\n",
       "      <td>HS-grad</td>\n",
       "      <td>9</td>\n",
       "      <td>Divorced</td>\n",
       "      <td>Handlers-cleaners</td>\n",
       "      <td>Not-in-family</td>\n",
       "      <td>White</td>\n",
       "      <td>Male</td>\n",
       "      <td>0</td>\n",
       "      <td>0</td>\n",
       "      <td>40</td>\n",
       "      <td>United-States</td>\n",
       "      <td>&lt;=50K</td>\n",
       "    </tr>\n",
       "    <tr>\n",
       "      <th>3</th>\n",
       "      <td>53</td>\n",
       "      <td>Private</td>\n",
       "      <td>234721</td>\n",
       "      <td>11th</td>\n",
       "      <td>7</td>\n",
       "      <td>Married-civ-spouse</td>\n",
       "      <td>Handlers-cleaners</td>\n",
       "      <td>Husband</td>\n",
       "      <td>Black</td>\n",
       "      <td>Male</td>\n",
       "      <td>0</td>\n",
       "      <td>0</td>\n",
       "      <td>40</td>\n",
       "      <td>United-States</td>\n",
       "      <td>&lt;=50K</td>\n",
       "    </tr>\n",
       "    <tr>\n",
       "      <th>4</th>\n",
       "      <td>28</td>\n",
       "      <td>Private</td>\n",
       "      <td>338409</td>\n",
       "      <td>Bachelors</td>\n",
       "      <td>13</td>\n",
       "      <td>Married-civ-spouse</td>\n",
       "      <td>Prof-specialty</td>\n",
       "      <td>Wife</td>\n",
       "      <td>Black</td>\n",
       "      <td>Female</td>\n",
       "      <td>0</td>\n",
       "      <td>0</td>\n",
       "      <td>40</td>\n",
       "      <td>Cuba</td>\n",
       "      <td>&lt;=50K</td>\n",
       "    </tr>\n",
       "  </tbody>\n",
       "</table>\n",
       "</div>"
      ],
      "text/plain": [
       "   age          workclass  fnlwgt   education  education-num  \\\n",
       "0   39          State-gov   77516   Bachelors             13   \n",
       "1   50   Self-emp-not-inc   83311   Bachelors             13   \n",
       "2   38            Private  215646     HS-grad              9   \n",
       "3   53            Private  234721        11th              7   \n",
       "4   28            Private  338409   Bachelors             13   \n",
       "\n",
       "        marital-status          occupation    relationship    race      sex  \\\n",
       "0        Never-married        Adm-clerical   Not-in-family   White     Male   \n",
       "1   Married-civ-spouse     Exec-managerial         Husband   White     Male   \n",
       "2             Divorced   Handlers-cleaners   Not-in-family   White     Male   \n",
       "3   Married-civ-spouse   Handlers-cleaners         Husband   Black     Male   \n",
       "4   Married-civ-spouse      Prof-specialty            Wife   Black   Female   \n",
       "\n",
       "   capital-gain  capital-loss  hours-per-week  native-country   label  \n",
       "0          2174             0              40   United-States   <=50K  \n",
       "1             0             0              13   United-States   <=50K  \n",
       "2             0             0              40   United-States   <=50K  \n",
       "3             0             0              40   United-States   <=50K  \n",
       "4             0             0              40            Cuba   <=50K  "
      ]
     },
     "execution_count": 2,
     "metadata": {},
     "output_type": "execute_result"
    }
   ],
   "source": [
    "urldata= \"https://archive.ics.uci.edu/ml/machine-learning-databases/adult/adult.data\"\n",
    "# column names\n",
    "col_names=[\"age\", \"workclass\", \"fnlwgt\" , \"education\" ,\"education-num\",\n",
    "\"marital-status\",\"occupation\",\"relationship\",\"race\",\"sex\",\"capital-gain\",\"capital-loss\",\"hours-per-week\",\n",
    "\"native-country\",\"label\"\n",
    "]\n",
    "# read data\n",
    "data = pd.read_csv(urldata,header=None,names=col_names,sep=',')\n",
    "data.head()"
   ]
  },
  {
   "cell_type": "markdown",
   "metadata": {},
   "source": [
    "#### Define labels\n"
   ]
  },
  {
   "cell_type": "code",
   "execution_count": 3,
   "metadata": {},
   "outputs": [],
   "source": [
    "data.loc[data['label']=='<=50K','label']=0\n",
    "data.loc[data['label']==' <=50K','label']=0\n",
    "\n",
    "data.loc[data['label']=='>50K','label']=1\n",
    "data.loc[data['label']==' >50K','label']=1\n",
    "\n",
    "data['label']=data['label'].astype(int)"
   ]
  },
  {
   "cell_type": "markdown",
   "metadata": {},
   "source": [
    "#### Train test split"
   ]
  },
  {
   "cell_type": "code",
   "execution_count": 4,
   "metadata": {},
   "outputs": [],
   "source": [
    "X = data.loc[:, data.columns != \"label\"]\n",
    "y = data.loc[:, data.columns == \"label\"]\n",
    "\n",
    "\n",
    "X_train, X_test, y_train, y_test =train_test_split(X, y, \\\n",
    "     test_size=0.33, stratify=y['label'], random_state=42)\n"
   ]
  },
  {
   "cell_type": "markdown",
   "metadata": {},
   "source": [
    "#### Find feature types for later use"
   ]
  },
  {
   "cell_type": "code",
   "execution_count": 5,
   "metadata": {},
   "outputs": [],
   "source": [
    "int_cols =  X_train.select_dtypes(include=['int']).columns.tolist()\n",
    "float_cols =  X_train.select_dtypes(include=['float']).columns.tolist()\n",
    "cat_cols =  X_train.select_dtypes(include=['object']).columns.tolist()\n"
   ]
  },
  {
   "cell_type": "markdown",
   "metadata": {},
   "source": [
    "#### Define estimator and set its arguments \n"
   ]
  },
  {
   "cell_type": "code",
   "execution_count": 6,
   "metadata": {},
   "outputs": [],
   "source": [
    "estimator = XGBClassifier()\n",
    "estimator_params = {\n",
    "        \"booster\": [\"gbtree\",\"dart\"],\n",
    "        \"eval_metric\": [\"auc\"],\n",
    "        \"max_depth\": [4, 5],\n",
    "        \"gamma\": [0.1, 1.2],\n",
    "        \"subsample\": [0.8],\n",
    "\n",
    "    }\n",
    "    "
   ]
  },
  {
   "cell_type": "code",
   "execution_count": 7,
   "metadata": {},
   "outputs": [],
   "source": [
    "\n",
    "obj = BaseModel().optimize_by_tunegridsearchcv(\n",
    "            estimator=estimator,\n",
    "            estimator_params=estimator_params,\n",
    "            fit_params = None,\n",
    "            measure_of_accuracy=make_scorer(f1_score, greater_is_better=True),\n",
    "            verbose=3,\n",
    "            n_jobs=None,\n",
    "            cv=KFold(3),\n",
    "            early_stopping=None, \n",
    "            scoring=None, \n",
    "            refit=True, \n",
    "            error_score='raise', \n",
    "            return_train_score=False, \n",
    "            local_dir='~/ray_results', \n",
    "            name=None, \n",
    "            max_iters=1, \n",
    "            use_gpu=False, \n",
    "            loggers=None, \n",
    "            pipeline_auto_early_stop=True, \n",
    "            stopper=None, \n",
    "            time_budget_s=None, \n",
    "            mode=None,\n",
    "\n",
    "        )"
   ]
  },
  {
   "cell_type": "markdown",
   "metadata": {},
   "source": [
    "#### Build sklearn pipeline"
   ]
  },
  {
   "cell_type": "code",
   "execution_count": 8,
   "metadata": {},
   "outputs": [],
   "source": [
    "\n",
    "\n",
    "pipeline =Pipeline([\n",
    "            # int missing values imputers\n",
    "            ('intimputer', MeanMedianImputer(\n",
    "                imputation_method='median', variables=int_cols)),\n",
    "            # category missing values imputers\n",
    "            ('catimputer', CategoricalImputer(variables=cat_cols)),\n",
    "            #\n",
    "            ('catencoder', OrdinalEncoder()),\n",
    "            # classification model\n",
    "            ('obj', obj)\n",
    "\n",
    " ])\n"
   ]
  },
  {
   "cell_type": "markdown",
   "metadata": {},
   "source": [
    "#### Run Pipeline"
   ]
  },
  {
   "cell_type": "code",
   "execution_count": 9,
   "metadata": {},
   "outputs": [
    {
     "name": "stdout",
     "output_type": "stream",
     "text": [
      "2023-02-21 21:10:18,658 :: ray.tune.tune :: Initializing Ray automatically.For cluster usage or custom Ray initialization, call `ray.init(...)` before `tune.run`.\n"
     ]
    },
    {
     "name": "stderr",
     "output_type": "stream",
     "text": [
      "2023-02-21 21:10:20,764\tINFO worker.py:1538 -- Started a local Ray instance.\n"
     ]
    },
    {
     "data": {
      "text/html": [
       "<div class=\"tuneStatus\">\n",
       "  <div style=\"display: flex;flex-direction: row\">\n",
       "    <div style=\"display: flex;flex-direction: column;\">\n",
       "      <h3>Tune Status</h3>\n",
       "      <table>\n",
       "<tbody>\n",
       "<tr><td>Current time:</td><td>2023-02-21 21:10:48</td></tr>\n",
       "<tr><td>Running for: </td><td>00:00:26.22        </td></tr>\n",
       "<tr><td>Memory:      </td><td>17.2/32.0 GiB      </td></tr>\n",
       "</tbody>\n",
       "</table>\n",
       "    </div>\n",
       "    <div class=\"vDivider\"></div>\n",
       "    <div class=\"systemInfo\">\n",
       "      <h3>System Info</h3>\n",
       "      Using FIFO scheduling algorithm.<br>Resources requested: 0/8 CPUs, 0/0 GPUs, 0.0/12.01 GiB heap, 0.0/2.0 GiB objects\n",
       "    </div>\n",
       "    \n",
       "  </div>\n",
       "  <div class=\"hDivider\"></div>\n",
       "  <div class=\"trialStatus\">\n",
       "    <h3>Trial Status</h3>\n",
       "    <table>\n",
       "<thead>\n",
       "<tr><th>Trial name            </th><th>status    </th><th>loc            </th><th>booster  </th><th>eval_metric  </th><th style=\"text-align: right;\">  gamma</th><th style=\"text-align: right;\">  max_depth</th><th style=\"text-align: right;\">  subsample</th><th style=\"text-align: right;\">  iter</th><th style=\"text-align: right;\">  total time (s)</th><th style=\"text-align: right;\">  split0_test_score</th><th style=\"text-align: right;\">  split1_test_score</th><th style=\"text-align: right;\">  split2_test_score</th></tr>\n",
       "</thead>\n",
       "<tbody>\n",
       "<tr><td>_Trainable_356e4_00000</td><td>TERMINATED</td><td>127.0.0.1:40691</td><td>gbtree   </td><td>auc          </td><td style=\"text-align: right;\">    0.1</td><td style=\"text-align: right;\">          4</td><td style=\"text-align: right;\">        0.8</td><td style=\"text-align: right;\">     1</td><td style=\"text-align: right;\">         5.12559</td><td style=\"text-align: right;\">           0.862074</td><td style=\"text-align: right;\">           0.871975</td><td style=\"text-align: right;\">           0.866731</td></tr>\n",
       "<tr><td>_Trainable_356e4_00001</td><td>TERMINATED</td><td>127.0.0.1:40696</td><td>dart     </td><td>auc          </td><td style=\"text-align: right;\">    0.1</td><td style=\"text-align: right;\">          4</td><td style=\"text-align: right;\">        0.8</td><td style=\"text-align: right;\">     1</td><td style=\"text-align: right;\">        14.419  </td><td style=\"text-align: right;\">           0.863861</td><td style=\"text-align: right;\">           0.872525</td><td style=\"text-align: right;\">           0.864805</td></tr>\n",
       "<tr><td>_Trainable_356e4_00002</td><td>TERMINATED</td><td>127.0.0.1:40697</td><td>gbtree   </td><td>auc          </td><td style=\"text-align: right;\">    1.2</td><td style=\"text-align: right;\">          4</td><td style=\"text-align: right;\">        0.8</td><td style=\"text-align: right;\">     1</td><td style=\"text-align: right;\">         4.40365</td><td style=\"text-align: right;\">           0.861936</td><td style=\"text-align: right;\">           0.871425</td><td style=\"text-align: right;\">           0.868381</td></tr>\n",
       "<tr><td>_Trainable_356e4_00003</td><td>TERMINATED</td><td>127.0.0.1:40698</td><td>dart     </td><td>auc          </td><td style=\"text-align: right;\">    1.2</td><td style=\"text-align: right;\">          4</td><td style=\"text-align: right;\">        0.8</td><td style=\"text-align: right;\">     1</td><td style=\"text-align: right;\">        14.432  </td><td style=\"text-align: right;\">           0.862349</td><td style=\"text-align: right;\">           0.872525</td><td style=\"text-align: right;\">           0.866181</td></tr>\n",
       "<tr><td>_Trainable_356e4_00004</td><td>TERMINATED</td><td>127.0.0.1:40699</td><td>gbtree   </td><td>auc          </td><td style=\"text-align: right;\">    0.1</td><td style=\"text-align: right;\">          5</td><td style=\"text-align: right;\">        0.8</td><td style=\"text-align: right;\">     1</td><td style=\"text-align: right;\">         5.35964</td><td style=\"text-align: right;\">           0.863311</td><td style=\"text-align: right;\">           0.870462</td><td style=\"text-align: right;\">           0.86343 </td></tr>\n",
       "<tr><td>_Trainable_356e4_00005</td><td>TERMINATED</td><td>127.0.0.1:40700</td><td>dart     </td><td>auc          </td><td style=\"text-align: right;\">    0.1</td><td style=\"text-align: right;\">          5</td><td style=\"text-align: right;\">        0.8</td><td style=\"text-align: right;\">     1</td><td style=\"text-align: right;\">        15.6321 </td><td style=\"text-align: right;\">           0.861111</td><td style=\"text-align: right;\">           0.866474</td><td style=\"text-align: right;\">           0.861917</td></tr>\n",
       "<tr><td>_Trainable_356e4_00006</td><td>TERMINATED</td><td>127.0.0.1:40701</td><td>gbtree   </td><td>auc          </td><td style=\"text-align: right;\">    1.2</td><td style=\"text-align: right;\">          5</td><td style=\"text-align: right;\">        0.8</td><td style=\"text-align: right;\">     1</td><td style=\"text-align: right;\">         5.30515</td><td style=\"text-align: right;\">           0.862486</td><td style=\"text-align: right;\">           0.8706  </td><td style=\"text-align: right;\">           0.86343 </td></tr>\n",
       "<tr><td>_Trainable_356e4_00007</td><td>TERMINATED</td><td>127.0.0.1:40702</td><td>dart     </td><td>auc          </td><td style=\"text-align: right;\">    1.2</td><td style=\"text-align: right;\">          5</td><td style=\"text-align: right;\">        0.8</td><td style=\"text-align: right;\">     1</td><td style=\"text-align: right;\">        15.8458 </td><td style=\"text-align: right;\">           0.861386</td><td style=\"text-align: right;\">           0.869774</td><td style=\"text-align: right;\">           0.864118</td></tr>\n",
       "</tbody>\n",
       "</table>\n",
       "  </div>\n",
       "</div>\n",
       "<style>\n",
       ".tuneStatus {\n",
       "  color: var(--jp-ui-font-color1);\n",
       "}\n",
       ".tuneStatus .systemInfo {\n",
       "  display: flex;\n",
       "  flex-direction: column;\n",
       "}\n",
       ".tuneStatus td {\n",
       "  white-space: nowrap;\n",
       "}\n",
       ".tuneStatus .trialStatus {\n",
       "  display: flex;\n",
       "  flex-direction: column;\n",
       "}\n",
       ".tuneStatus h3 {\n",
       "  font-weight: bold;\n",
       "}\n",
       ".tuneStatus .hDivider {\n",
       "  border-bottom-width: var(--jp-border-width);\n",
       "  border-bottom-color: var(--jp-border-color0);\n",
       "  border-bottom-style: solid;\n",
       "}\n",
       ".tuneStatus .vDivider {\n",
       "  border-left-width: var(--jp-border-width);\n",
       "  border-left-color: var(--jp-border-color0);\n",
       "  border-left-style: solid;\n",
       "  margin: 0.5em 1em 0.5em 1em;\n",
       "}\n",
       "</style>\n"
      ],
      "text/plain": [
       "<IPython.core.display.HTML object>"
      ]
     },
     "metadata": {},
     "output_type": "display_data"
    },
    {
     "data": {
      "text/html": [
       "<div class=\"trialProgress\">\n",
       "  <h3>Trial Progress</h3>\n",
       "  <table>\n",
       "<thead>\n",
       "<tr><th>Trial name            </th><th style=\"text-align: right;\">  average_test_score</th><th>date               </th><th>done  </th><th>episodes_total  </th><th>experiment_id                   </th><th>hostname    </th><th style=\"text-align: right;\">  iterations_since_restore</th><th>node_ip  </th><th style=\"text-align: right;\">  objective</th><th style=\"text-align: right;\">  pid</th><th style=\"text-align: right;\">  split0_test_score</th><th style=\"text-align: right;\">  split1_test_score</th><th style=\"text-align: right;\">  split2_test_score</th><th style=\"text-align: right;\">  time_since_restore</th><th style=\"text-align: right;\">  time_this_iter_s</th><th style=\"text-align: right;\">  time_total_s</th><th style=\"text-align: right;\">  timestamp</th><th style=\"text-align: right;\">  timesteps_since_restore</th><th>timesteps_total  </th><th style=\"text-align: right;\">  training_iteration</th><th>trial_id   </th><th style=\"text-align: right;\">  warmup_time</th></tr>\n",
       "</thead>\n",
       "<tbody>\n",
       "<tr><td>_Trainable_356e4_00000</td><td style=\"text-align: right;\">            0.866926</td><td>2023-02-21_21-10-32</td><td>True  </td><td>                </td><td>0d4381515722427fbeef94c7d3bc69f2</td><td>hjavedani-MB</td><td style=\"text-align: right;\">                         1</td><td>127.0.0.1</td><td style=\"text-align: right;\">   0.866926</td><td style=\"text-align: right;\">40691</td><td style=\"text-align: right;\">           0.862074</td><td style=\"text-align: right;\">           0.871975</td><td style=\"text-align: right;\">           0.866731</td><td style=\"text-align: right;\">             5.12559</td><td style=\"text-align: right;\">           5.12559</td><td style=\"text-align: right;\">       5.12559</td><td style=\"text-align: right;\"> 1677042632</td><td style=\"text-align: right;\">                        0</td><td>                 </td><td style=\"text-align: right;\">                   1</td><td>356e4_00000</td><td style=\"text-align: right;\">    0.032202 </td></tr>\n",
       "<tr><td>_Trainable_356e4_00001</td><td style=\"text-align: right;\">            0.867064</td><td>2023-02-21_21-10-47</td><td>True  </td><td>                </td><td>9bbd472a46f24d729eb15ad8d5f1fa49</td><td>hjavedani-MB</td><td style=\"text-align: right;\">                         1</td><td>127.0.0.1</td><td style=\"text-align: right;\">   0.867064</td><td style=\"text-align: right;\">40696</td><td style=\"text-align: right;\">           0.863861</td><td style=\"text-align: right;\">           0.872525</td><td style=\"text-align: right;\">           0.864805</td><td style=\"text-align: right;\">            14.419  </td><td style=\"text-align: right;\">          14.419  </td><td style=\"text-align: right;\">      14.419  </td><td style=\"text-align: right;\"> 1677042647</td><td style=\"text-align: right;\">                        0</td><td>                 </td><td style=\"text-align: right;\">                   1</td><td>356e4_00001</td><td style=\"text-align: right;\">    0.0552273</td></tr>\n",
       "<tr><td>_Trainable_356e4_00002</td><td style=\"text-align: right;\">            0.867247</td><td>2023-02-21_21-10-37</td><td>True  </td><td>                </td><td>34bad8a265db41ce960d56c9d5ffa098</td><td>hjavedani-MB</td><td style=\"text-align: right;\">                         1</td><td>127.0.0.1</td><td style=\"text-align: right;\">   0.867247</td><td style=\"text-align: right;\">40697</td><td style=\"text-align: right;\">           0.861936</td><td style=\"text-align: right;\">           0.871425</td><td style=\"text-align: right;\">           0.868381</td><td style=\"text-align: right;\">             4.40365</td><td style=\"text-align: right;\">           4.40365</td><td style=\"text-align: right;\">       4.40365</td><td style=\"text-align: right;\"> 1677042637</td><td style=\"text-align: right;\">                        0</td><td>                 </td><td style=\"text-align: right;\">                   1</td><td>356e4_00002</td><td style=\"text-align: right;\">    0.0407097</td></tr>\n",
       "<tr><td>_Trainable_356e4_00003</td><td style=\"text-align: right;\">            0.867018</td><td>2023-02-21_21-10-47</td><td>True  </td><td>                </td><td>47a48d7d72f043a5a8148086b4206ae6</td><td>hjavedani-MB</td><td style=\"text-align: right;\">                         1</td><td>127.0.0.1</td><td style=\"text-align: right;\">   0.867018</td><td style=\"text-align: right;\">40698</td><td style=\"text-align: right;\">           0.862349</td><td style=\"text-align: right;\">           0.872525</td><td style=\"text-align: right;\">           0.866181</td><td style=\"text-align: right;\">            14.432  </td><td style=\"text-align: right;\">          14.432  </td><td style=\"text-align: right;\">      14.432  </td><td style=\"text-align: right;\"> 1677042647</td><td style=\"text-align: right;\">                        0</td><td>                 </td><td style=\"text-align: right;\">                   1</td><td>356e4_00003</td><td style=\"text-align: right;\">    0.0558712</td></tr>\n",
       "<tr><td>_Trainable_356e4_00004</td><td style=\"text-align: right;\">            0.865734</td><td>2023-02-21_21-10-38</td><td>True  </td><td>                </td><td>ac50bc087876427d8e47b8174705cc9e</td><td>hjavedani-MB</td><td style=\"text-align: right;\">                         1</td><td>127.0.0.1</td><td style=\"text-align: right;\">   0.865734</td><td style=\"text-align: right;\">40699</td><td style=\"text-align: right;\">           0.863311</td><td style=\"text-align: right;\">           0.870462</td><td style=\"text-align: right;\">           0.86343 </td><td style=\"text-align: right;\">             5.35964</td><td style=\"text-align: right;\">           5.35964</td><td style=\"text-align: right;\">       5.35964</td><td style=\"text-align: right;\"> 1677042638</td><td style=\"text-align: right;\">                        0</td><td>                 </td><td style=\"text-align: right;\">                   1</td><td>356e4_00004</td><td style=\"text-align: right;\">    0.0509591</td></tr>\n",
       "<tr><td>_Trainable_356e4_00005</td><td style=\"text-align: right;\">            0.863167</td><td>2023-02-21_21-10-48</td><td>True  </td><td>                </td><td>a4a7b442318449979be19a9801dd539b</td><td>hjavedani-MB</td><td style=\"text-align: right;\">                         1</td><td>127.0.0.1</td><td style=\"text-align: right;\">   0.863167</td><td style=\"text-align: right;\">40700</td><td style=\"text-align: right;\">           0.861111</td><td style=\"text-align: right;\">           0.866474</td><td style=\"text-align: right;\">           0.861917</td><td style=\"text-align: right;\">            15.6321 </td><td style=\"text-align: right;\">          15.6321 </td><td style=\"text-align: right;\">      15.6321 </td><td style=\"text-align: right;\"> 1677042648</td><td style=\"text-align: right;\">                        0</td><td>                 </td><td style=\"text-align: right;\">                   1</td><td>356e4_00005</td><td style=\"text-align: right;\">    0.0574269</td></tr>\n",
       "<tr><td>_Trainable_356e4_00006</td><td style=\"text-align: right;\">            0.865505</td><td>2023-02-21_21-10-38</td><td>True  </td><td>                </td><td>bb51cf3bb679459eaa27e7cec6a6ff27</td><td>hjavedani-MB</td><td style=\"text-align: right;\">                         1</td><td>127.0.0.1</td><td style=\"text-align: right;\">   0.865505</td><td style=\"text-align: right;\">40701</td><td style=\"text-align: right;\">           0.862486</td><td style=\"text-align: right;\">           0.8706  </td><td style=\"text-align: right;\">           0.86343 </td><td style=\"text-align: right;\">             5.30515</td><td style=\"text-align: right;\">           5.30515</td><td style=\"text-align: right;\">       5.30515</td><td style=\"text-align: right;\"> 1677042638</td><td style=\"text-align: right;\">                        0</td><td>                 </td><td style=\"text-align: right;\">                   1</td><td>356e4_00006</td><td style=\"text-align: right;\">    0.0476091</td></tr>\n",
       "<tr><td>_Trainable_356e4_00007</td><td style=\"text-align: right;\">            0.865093</td><td>2023-02-21_21-10-48</td><td>True  </td><td>                </td><td>4178fd25a36e4c0e875f13d7c5d8fa3f</td><td>hjavedani-MB</td><td style=\"text-align: right;\">                         1</td><td>127.0.0.1</td><td style=\"text-align: right;\">   0.865093</td><td style=\"text-align: right;\">40702</td><td style=\"text-align: right;\">           0.861386</td><td style=\"text-align: right;\">           0.869774</td><td style=\"text-align: right;\">           0.864118</td><td style=\"text-align: right;\">            15.8458 </td><td style=\"text-align: right;\">          15.8458 </td><td style=\"text-align: right;\">      15.8458 </td><td style=\"text-align: right;\"> 1677042648</td><td style=\"text-align: right;\">                        0</td><td>                 </td><td style=\"text-align: right;\">                   1</td><td>356e4_00007</td><td style=\"text-align: right;\">    0.05111  </td></tr>\n",
       "</tbody>\n",
       "</table>\n",
       "</div>\n",
       "<style>\n",
       ".trialProgress {\n",
       "  display: flex;\n",
       "  flex-direction: column;\n",
       "  color: var(--jp-ui-font-color1);\n",
       "}\n",
       ".trialProgress h3 {\n",
       "  font-weight: bold;\n",
       "}\n",
       ".trialProgress td {\n",
       "  white-space: nowrap;\n",
       "}\n",
       "</style>\n"
      ],
      "text/plain": [
       "<IPython.core.display.HTML object>"
      ]
     },
     "metadata": {},
     "output_type": "display_data"
    },
    {
     "name": "stderr",
     "output_type": "stream",
     "text": [
      "2023-02-21 21:10:48,950\tINFO tune.py:762 -- Total run time: 26.36 seconds (26.19 seconds for the tuning loop).\n"
     ]
    },
    {
     "name": "stdout",
     "output_type": "stream",
     "text": [
      "2023-02-21 21:10:49,537 :: dev :: The optimization will be based on make_scorer(f1_score) metric!\n",
      "2023-02-21 21:10:49,537 :: dev :: The optimization will be based on make_scorer(f1_score) metric!\n"
     ]
    }
   ],
   "source": [
    "pipeline.fit(X_train,y_train)\n",
    "y_pred = pipeline.predict(X_test)\n"
   ]
  },
  {
   "cell_type": "markdown",
   "metadata": {},
   "source": [
    "#### Check performance of the pipeline"
   ]
  },
  {
   "cell_type": "code",
   "execution_count": 10,
   "metadata": {},
   "outputs": [
    {
     "name": "stdout",
     "output_type": "stream",
     "text": [
      "F1 score : \n",
      "0.7138089278264498\n",
      "Classification report : \n",
      "              precision    recall  f1-score   support\n",
      "\n",
      "           0       0.90      0.94      0.92      8158\n",
      "           1       0.78      0.66      0.71      2588\n",
      "\n",
      "    accuracy                           0.87     10746\n",
      "   macro avg       0.84      0.80      0.82     10746\n",
      "weighted avg       0.87      0.87      0.87     10746\n",
      "\n",
      "Confusion matrix : \n",
      "[[7663  495]\n",
      " [ 877 1711]]\n"
     ]
    }
   ],
   "source": [
    "print('F1 score : ')\n",
    "print(f1_score(y_test,y_pred))\n",
    "print('Classification report : ')\n",
    "print(classification_report(y_test,y_pred))\n",
    "print('Confusion matrix : ')\n",
    "print(confusion_matrix(y_test,y_pred))\n"
   ]
  },
  {
   "cell_type": "markdown",
   "metadata": {},
   "source": [
    "#### Part 2:  Use BestModel as a standalone estimator "
   ]
  },
  {
   "cell_type": "code",
   "execution_count": 11,
   "metadata": {},
   "outputs": [],
   "source": [
    "X_train, X_test, y_train, y_test =train_test_split(X, y, \\\n",
    "     test_size=0.33, stratify=y['label'], random_state=42)"
   ]
  },
  {
   "cell_type": "markdown",
   "metadata": {},
   "source": [
    "#### Transform features to make them ready for model input"
   ]
  },
  {
   "cell_type": "code",
   "execution_count": 12,
   "metadata": {},
   "outputs": [],
   "source": [
    "transform_pipeline =Pipeline([\n",
    "            # int missing values imputers\n",
    "            ('intimputer', MeanMedianImputer(\n",
    "                imputation_method='median', variables=int_cols)),\n",
    "            # category missing values imputers\n",
    "            ('catimputer', CategoricalImputer(variables=cat_cols)),\n",
    "            #\n",
    "            ('catencoder', OrdinalEncoder()),\n",
    "            # classification model\n",
    "\n",
    " ])"
   ]
  },
  {
   "cell_type": "markdown",
   "metadata": {},
   "source": [
    "#### Transform X_train and X_test"
   ]
  },
  {
   "cell_type": "code",
   "execution_count": 13,
   "metadata": {},
   "outputs": [],
   "source": [
    "X_train=transform_pipeline.fit_transform(X_train,y_train)\n",
    "X_test=transform_pipeline.transform(X_test)\n"
   ]
  },
  {
   "cell_type": "markdown",
   "metadata": {},
   "source": [
    "#### Train model and predict"
   ]
  },
  {
   "cell_type": "code",
   "execution_count": 14,
   "metadata": {},
   "outputs": [
    {
     "data": {
      "text/html": [
       "<div class=\"tuneStatus\">\n",
       "  <div style=\"display: flex;flex-direction: row\">\n",
       "    <div style=\"display: flex;flex-direction: column;\">\n",
       "      <h3>Tune Status</h3>\n",
       "      <table>\n",
       "<tbody>\n",
       "<tr><td>Current time:</td><td>2023-02-21 21:11:16</td></tr>\n",
       "<tr><td>Running for: </td><td>00:00:26.50        </td></tr>\n",
       "<tr><td>Memory:      </td><td>17.3/32.0 GiB      </td></tr>\n",
       "</tbody>\n",
       "</table>\n",
       "    </div>\n",
       "    <div class=\"vDivider\"></div>\n",
       "    <div class=\"systemInfo\">\n",
       "      <h3>System Info</h3>\n",
       "      Using FIFO scheduling algorithm.<br>Resources requested: 0/8 CPUs, 0/0 GPUs, 0.0/12.01 GiB heap, 0.0/2.0 GiB objects\n",
       "    </div>\n",
       "    \n",
       "  </div>\n",
       "  <div class=\"hDivider\"></div>\n",
       "  <div class=\"trialStatus\">\n",
       "    <h3>Trial Status</h3>\n",
       "    <table>\n",
       "<thead>\n",
       "<tr><th>Trial name            </th><th>status    </th><th>loc            </th><th>booster  </th><th>eval_metric  </th><th style=\"text-align: right;\">  gamma</th><th style=\"text-align: right;\">  max_depth</th><th style=\"text-align: right;\">  subsample</th><th style=\"text-align: right;\">  iter</th><th style=\"text-align: right;\">  total time (s)</th><th style=\"text-align: right;\">  split0_test_score</th><th style=\"text-align: right;\">  split1_test_score</th><th style=\"text-align: right;\">  split2_test_score</th></tr>\n",
       "</thead>\n",
       "<tbody>\n",
       "<tr><td>_Trainable_45c44_00000</td><td>TERMINATED</td><td>127.0.0.1:40720</td><td>gbtree   </td><td>auc          </td><td style=\"text-align: right;\">    0.1</td><td style=\"text-align: right;\">          4</td><td style=\"text-align: right;\">        0.8</td><td style=\"text-align: right;\">     1</td><td style=\"text-align: right;\">         4.99948</td><td style=\"text-align: right;\">           0.862074</td><td style=\"text-align: right;\">           0.871975</td><td style=\"text-align: right;\">           0.866731</td></tr>\n",
       "<tr><td>_Trainable_45c44_00001</td><td>TERMINATED</td><td>127.0.0.1:40722</td><td>dart     </td><td>auc          </td><td style=\"text-align: right;\">    0.1</td><td style=\"text-align: right;\">          4</td><td style=\"text-align: right;\">        0.8</td><td style=\"text-align: right;\">     1</td><td style=\"text-align: right;\">        14.4355 </td><td style=\"text-align: right;\">           0.863861</td><td style=\"text-align: right;\">           0.872525</td><td style=\"text-align: right;\">           0.864805</td></tr>\n",
       "<tr><td>_Trainable_45c44_00002</td><td>TERMINATED</td><td>127.0.0.1:40723</td><td>gbtree   </td><td>auc          </td><td style=\"text-align: right;\">    1.2</td><td style=\"text-align: right;\">          4</td><td style=\"text-align: right;\">        0.8</td><td style=\"text-align: right;\">     1</td><td style=\"text-align: right;\">         4.38486</td><td style=\"text-align: right;\">           0.861936</td><td style=\"text-align: right;\">           0.871425</td><td style=\"text-align: right;\">           0.868381</td></tr>\n",
       "<tr><td>_Trainable_45c44_00003</td><td>TERMINATED</td><td>127.0.0.1:40724</td><td>dart     </td><td>auc          </td><td style=\"text-align: right;\">    1.2</td><td style=\"text-align: right;\">          4</td><td style=\"text-align: right;\">        0.8</td><td style=\"text-align: right;\">     1</td><td style=\"text-align: right;\">        14.4241 </td><td style=\"text-align: right;\">           0.862349</td><td style=\"text-align: right;\">           0.872525</td><td style=\"text-align: right;\">           0.866181</td></tr>\n",
       "<tr><td>_Trainable_45c44_00004</td><td>TERMINATED</td><td>127.0.0.1:40725</td><td>gbtree   </td><td>auc          </td><td style=\"text-align: right;\">    0.1</td><td style=\"text-align: right;\">          5</td><td style=\"text-align: right;\">        0.8</td><td style=\"text-align: right;\">     1</td><td style=\"text-align: right;\">         5.30335</td><td style=\"text-align: right;\">           0.863311</td><td style=\"text-align: right;\">           0.870462</td><td style=\"text-align: right;\">           0.86343 </td></tr>\n",
       "<tr><td>_Trainable_45c44_00005</td><td>TERMINATED</td><td>127.0.0.1:40726</td><td>dart     </td><td>auc          </td><td style=\"text-align: right;\">    0.1</td><td style=\"text-align: right;\">          5</td><td style=\"text-align: right;\">        0.8</td><td style=\"text-align: right;\">     1</td><td style=\"text-align: right;\">        15.5748 </td><td style=\"text-align: right;\">           0.861111</td><td style=\"text-align: right;\">           0.866474</td><td style=\"text-align: right;\">           0.861917</td></tr>\n",
       "<tr><td>_Trainable_45c44_00006</td><td>TERMINATED</td><td>127.0.0.1:40727</td><td>gbtree   </td><td>auc          </td><td style=\"text-align: right;\">    1.2</td><td style=\"text-align: right;\">          5</td><td style=\"text-align: right;\">        0.8</td><td style=\"text-align: right;\">     1</td><td style=\"text-align: right;\">         5.32495</td><td style=\"text-align: right;\">           0.862486</td><td style=\"text-align: right;\">           0.8706  </td><td style=\"text-align: right;\">           0.86343 </td></tr>\n",
       "<tr><td>_Trainable_45c44_00007</td><td>TERMINATED</td><td>127.0.0.1:40728</td><td>dart     </td><td>auc          </td><td style=\"text-align: right;\">    1.2</td><td style=\"text-align: right;\">          5</td><td style=\"text-align: right;\">        0.8</td><td style=\"text-align: right;\">     1</td><td style=\"text-align: right;\">        15.7379 </td><td style=\"text-align: right;\">           0.861386</td><td style=\"text-align: right;\">           0.869774</td><td style=\"text-align: right;\">           0.864118</td></tr>\n",
       "</tbody>\n",
       "</table>\n",
       "  </div>\n",
       "</div>\n",
       "<style>\n",
       ".tuneStatus {\n",
       "  color: var(--jp-ui-font-color1);\n",
       "}\n",
       ".tuneStatus .systemInfo {\n",
       "  display: flex;\n",
       "  flex-direction: column;\n",
       "}\n",
       ".tuneStatus td {\n",
       "  white-space: nowrap;\n",
       "}\n",
       ".tuneStatus .trialStatus {\n",
       "  display: flex;\n",
       "  flex-direction: column;\n",
       "}\n",
       ".tuneStatus h3 {\n",
       "  font-weight: bold;\n",
       "}\n",
       ".tuneStatus .hDivider {\n",
       "  border-bottom-width: var(--jp-border-width);\n",
       "  border-bottom-color: var(--jp-border-color0);\n",
       "  border-bottom-style: solid;\n",
       "}\n",
       ".tuneStatus .vDivider {\n",
       "  border-left-width: var(--jp-border-width);\n",
       "  border-left-color: var(--jp-border-color0);\n",
       "  border-left-style: solid;\n",
       "  margin: 0.5em 1em 0.5em 1em;\n",
       "}\n",
       "</style>\n"
      ],
      "text/plain": [
       "<IPython.core.display.HTML object>"
      ]
     },
     "metadata": {},
     "output_type": "display_data"
    },
    {
     "data": {
      "text/html": [
       "<div class=\"trialProgress\">\n",
       "  <h3>Trial Progress</h3>\n",
       "  <table>\n",
       "<thead>\n",
       "<tr><th>Trial name            </th><th style=\"text-align: right;\">  average_test_score</th><th>date               </th><th>done  </th><th>episodes_total  </th><th>experiment_id                   </th><th>hostname    </th><th style=\"text-align: right;\">  iterations_since_restore</th><th>node_ip  </th><th style=\"text-align: right;\">  objective</th><th style=\"text-align: right;\">  pid</th><th style=\"text-align: right;\">  split0_test_score</th><th style=\"text-align: right;\">  split1_test_score</th><th style=\"text-align: right;\">  split2_test_score</th><th style=\"text-align: right;\">  time_since_restore</th><th style=\"text-align: right;\">  time_this_iter_s</th><th style=\"text-align: right;\">  time_total_s</th><th style=\"text-align: right;\">  timestamp</th><th style=\"text-align: right;\">  timesteps_since_restore</th><th>timesteps_total  </th><th style=\"text-align: right;\">  training_iteration</th><th>trial_id   </th><th style=\"text-align: right;\">  warmup_time</th></tr>\n",
       "</thead>\n",
       "<tbody>\n",
       "<tr><td>_Trainable_45c44_00000</td><td style=\"text-align: right;\">            0.866926</td><td>2023-02-21_21-10-59</td><td>True  </td><td>                </td><td>8274225a3b1b454d9ffd235edd8d8852</td><td>hjavedani-MB</td><td style=\"text-align: right;\">                         1</td><td>127.0.0.1</td><td style=\"text-align: right;\">   0.866926</td><td style=\"text-align: right;\">40720</td><td style=\"text-align: right;\">           0.862074</td><td style=\"text-align: right;\">           0.871975</td><td style=\"text-align: right;\">           0.866731</td><td style=\"text-align: right;\">             4.99948</td><td style=\"text-align: right;\">           4.99948</td><td style=\"text-align: right;\">       4.99948</td><td style=\"text-align: right;\"> 1677042659</td><td style=\"text-align: right;\">                        0</td><td>                 </td><td style=\"text-align: right;\">                   1</td><td>45c44_00000</td><td style=\"text-align: right;\">    0.027179 </td></tr>\n",
       "<tr><td>_Trainable_45c44_00001</td><td style=\"text-align: right;\">            0.867064</td><td>2023-02-21_21-11-15</td><td>True  </td><td>                </td><td>21042bf62a8042fabf021d4eb30bcaf9</td><td>hjavedani-MB</td><td style=\"text-align: right;\">                         1</td><td>127.0.0.1</td><td style=\"text-align: right;\">   0.867064</td><td style=\"text-align: right;\">40722</td><td style=\"text-align: right;\">           0.863861</td><td style=\"text-align: right;\">           0.872525</td><td style=\"text-align: right;\">           0.864805</td><td style=\"text-align: right;\">            14.4355 </td><td style=\"text-align: right;\">          14.4355 </td><td style=\"text-align: right;\">      14.4355 </td><td style=\"text-align: right;\"> 1677042675</td><td style=\"text-align: right;\">                        0</td><td>                 </td><td style=\"text-align: right;\">                   1</td><td>45c44_00001</td><td style=\"text-align: right;\">    0.0524931</td></tr>\n",
       "<tr><td>_Trainable_45c44_00002</td><td style=\"text-align: right;\">            0.867247</td><td>2023-02-21_21-11-05</td><td>True  </td><td>                </td><td>b3d32857b7ac468d9f450368eae204d8</td><td>hjavedani-MB</td><td style=\"text-align: right;\">                         1</td><td>127.0.0.1</td><td style=\"text-align: right;\">   0.867247</td><td style=\"text-align: right;\">40723</td><td style=\"text-align: right;\">           0.861936</td><td style=\"text-align: right;\">           0.871425</td><td style=\"text-align: right;\">           0.868381</td><td style=\"text-align: right;\">             4.38486</td><td style=\"text-align: right;\">           4.38486</td><td style=\"text-align: right;\">       4.38486</td><td style=\"text-align: right;\"> 1677042665</td><td style=\"text-align: right;\">                        0</td><td>                 </td><td style=\"text-align: right;\">                   1</td><td>45c44_00002</td><td style=\"text-align: right;\">    0.0476198</td></tr>\n",
       "<tr><td>_Trainable_45c44_00003</td><td style=\"text-align: right;\">            0.867018</td><td>2023-02-21_21-11-15</td><td>True  </td><td>                </td><td>1576b582e0d94fb58a61c90f815756c8</td><td>hjavedani-MB</td><td style=\"text-align: right;\">                         1</td><td>127.0.0.1</td><td style=\"text-align: right;\">   0.867018</td><td style=\"text-align: right;\">40724</td><td style=\"text-align: right;\">           0.862349</td><td style=\"text-align: right;\">           0.872525</td><td style=\"text-align: right;\">           0.866181</td><td style=\"text-align: right;\">            14.4241 </td><td style=\"text-align: right;\">          14.4241 </td><td style=\"text-align: right;\">      14.4241 </td><td style=\"text-align: right;\"> 1677042675</td><td style=\"text-align: right;\">                        0</td><td>                 </td><td style=\"text-align: right;\">                   1</td><td>45c44_00003</td><td style=\"text-align: right;\">    0.0466008</td></tr>\n",
       "<tr><td>_Trainable_45c44_00004</td><td style=\"text-align: right;\">            0.865734</td><td>2023-02-21_21-11-06</td><td>True  </td><td>                </td><td>153337592d194ef8a47f8404210f356b</td><td>hjavedani-MB</td><td style=\"text-align: right;\">                         1</td><td>127.0.0.1</td><td style=\"text-align: right;\">   0.865734</td><td style=\"text-align: right;\">40725</td><td style=\"text-align: right;\">           0.863311</td><td style=\"text-align: right;\">           0.870462</td><td style=\"text-align: right;\">           0.86343 </td><td style=\"text-align: right;\">             5.30335</td><td style=\"text-align: right;\">           5.30335</td><td style=\"text-align: right;\">       5.30335</td><td style=\"text-align: right;\"> 1677042666</td><td style=\"text-align: right;\">                        0</td><td>                 </td><td style=\"text-align: right;\">                   1</td><td>45c44_00004</td><td style=\"text-align: right;\">    0.0496831</td></tr>\n",
       "<tr><td>_Trainable_45c44_00005</td><td style=\"text-align: right;\">            0.863167</td><td>2023-02-21_21-11-16</td><td>True  </td><td>                </td><td>8b0587fb4d934b05b77a71b710690e63</td><td>hjavedani-MB</td><td style=\"text-align: right;\">                         1</td><td>127.0.0.1</td><td style=\"text-align: right;\">   0.863167</td><td style=\"text-align: right;\">40726</td><td style=\"text-align: right;\">           0.861111</td><td style=\"text-align: right;\">           0.866474</td><td style=\"text-align: right;\">           0.861917</td><td style=\"text-align: right;\">            15.5748 </td><td style=\"text-align: right;\">          15.5748 </td><td style=\"text-align: right;\">      15.5748 </td><td style=\"text-align: right;\"> 1677042676</td><td style=\"text-align: right;\">                        0</td><td>                 </td><td style=\"text-align: right;\">                   1</td><td>45c44_00005</td><td style=\"text-align: right;\">    0.0537972</td></tr>\n",
       "<tr><td>_Trainable_45c44_00006</td><td style=\"text-align: right;\">            0.865505</td><td>2023-02-21_21-11-06</td><td>True  </td><td>                </td><td>4d25f61c808247b2a93ec3b69e1621be</td><td>hjavedani-MB</td><td style=\"text-align: right;\">                         1</td><td>127.0.0.1</td><td style=\"text-align: right;\">   0.865505</td><td style=\"text-align: right;\">40727</td><td style=\"text-align: right;\">           0.862486</td><td style=\"text-align: right;\">           0.8706  </td><td style=\"text-align: right;\">           0.86343 </td><td style=\"text-align: right;\">             5.32495</td><td style=\"text-align: right;\">           5.32495</td><td style=\"text-align: right;\">       5.32495</td><td style=\"text-align: right;\"> 1677042666</td><td style=\"text-align: right;\">                        0</td><td>                 </td><td style=\"text-align: right;\">                   1</td><td>45c44_00006</td><td style=\"text-align: right;\">    0.0560899</td></tr>\n",
       "<tr><td>_Trainable_45c44_00007</td><td style=\"text-align: right;\">            0.865093</td><td>2023-02-21_21-11-16</td><td>True  </td><td>                </td><td>e314ffa60c4a41279dbe3c2124338e8e</td><td>hjavedani-MB</td><td style=\"text-align: right;\">                         1</td><td>127.0.0.1</td><td style=\"text-align: right;\">   0.865093</td><td style=\"text-align: right;\">40728</td><td style=\"text-align: right;\">           0.861386</td><td style=\"text-align: right;\">           0.869774</td><td style=\"text-align: right;\">           0.864118</td><td style=\"text-align: right;\">            15.7379 </td><td style=\"text-align: right;\">          15.7379 </td><td style=\"text-align: right;\">      15.7379 </td><td style=\"text-align: right;\"> 1677042676</td><td style=\"text-align: right;\">                        0</td><td>                 </td><td style=\"text-align: right;\">                   1</td><td>45c44_00007</td><td style=\"text-align: right;\">    0.0514209</td></tr>\n",
       "</tbody>\n",
       "</table>\n",
       "</div>\n",
       "<style>\n",
       ".trialProgress {\n",
       "  display: flex;\n",
       "  flex-direction: column;\n",
       "  color: var(--jp-ui-font-color1);\n",
       "}\n",
       ".trialProgress h3 {\n",
       "  font-weight: bold;\n",
       "}\n",
       ".trialProgress td {\n",
       "  white-space: nowrap;\n",
       "}\n",
       "</style>\n"
      ],
      "text/plain": [
       "<IPython.core.display.HTML object>"
      ]
     },
     "metadata": {},
     "output_type": "display_data"
    },
    {
     "name": "stderr",
     "output_type": "stream",
     "text": [
      "2023-02-21 21:11:16,612\tINFO tune.py:762 -- Total run time: 26.62 seconds (26.49 seconds for the tuning loop).\n"
     ]
    },
    {
     "name": "stdout",
     "output_type": "stream",
     "text": [
      "2023-02-21 21:11:17,197 :: dev :: The optimization will be based on make_scorer(f1_score) metric!\n",
      "2023-02-21 21:11:17,197 :: dev :: The optimization will be based on make_scorer(f1_score) metric!\n"
     ]
    }
   ],
   "source": [
    "obj.fit(X_train,y_train)\n",
    "y_pred = obj.predict(X_test)"
   ]
  },
  {
   "cell_type": "markdown",
   "metadata": {},
   "source": [
    "#### Check performance of the pipeline"
   ]
  },
  {
   "cell_type": "code",
   "execution_count": 15,
   "metadata": {},
   "outputs": [
    {
     "name": "stdout",
     "output_type": "stream",
     "text": [
      "F1 score : \n",
      "0.7138089278264498\n",
      "Classification report : \n",
      "              precision    recall  f1-score   support\n",
      "\n",
      "           0       0.90      0.94      0.92      8158\n",
      "           1       0.78      0.66      0.71      2588\n",
      "\n",
      "    accuracy                           0.87     10746\n",
      "   macro avg       0.84      0.80      0.82     10746\n",
      "weighted avg       0.87      0.87      0.87     10746\n",
      "\n",
      "Confusion matrix : \n",
      "[[7663  495]\n",
      " [ 877 1711]]\n"
     ]
    }
   ],
   "source": [
    "print('F1 score : ')\n",
    "print(f1_score(y_test,y_pred))\n",
    "print('Classification report : ')\n",
    "print(classification_report(y_test,y_pred))\n",
    "print('Confusion matrix : ')\n",
    "print(confusion_matrix(y_test,y_pred))"
   ]
  },
  {
   "cell_type": "code",
   "execution_count": 16,
   "metadata": {},
   "outputs": [
    {
     "data": {
      "text/html": [
       "<style>#sk-container-id-1 {color: black;background-color: white;}#sk-container-id-1 pre{padding: 0;}#sk-container-id-1 div.sk-toggleable {background-color: white;}#sk-container-id-1 label.sk-toggleable__label {cursor: pointer;display: block;width: 100%;margin-bottom: 0;padding: 0.3em;box-sizing: border-box;text-align: center;}#sk-container-id-1 label.sk-toggleable__label-arrow:before {content: \"▸\";float: left;margin-right: 0.25em;color: #696969;}#sk-container-id-1 label.sk-toggleable__label-arrow:hover:before {color: black;}#sk-container-id-1 div.sk-estimator:hover label.sk-toggleable__label-arrow:before {color: black;}#sk-container-id-1 div.sk-toggleable__content {max-height: 0;max-width: 0;overflow: hidden;text-align: left;background-color: #f0f8ff;}#sk-container-id-1 div.sk-toggleable__content pre {margin: 0.2em;color: black;border-radius: 0.25em;background-color: #f0f8ff;}#sk-container-id-1 input.sk-toggleable__control:checked~div.sk-toggleable__content {max-height: 200px;max-width: 100%;overflow: auto;}#sk-container-id-1 input.sk-toggleable__control:checked~label.sk-toggleable__label-arrow:before {content: \"▾\";}#sk-container-id-1 div.sk-estimator input.sk-toggleable__control:checked~label.sk-toggleable__label {background-color: #d4ebff;}#sk-container-id-1 div.sk-label input.sk-toggleable__control:checked~label.sk-toggleable__label {background-color: #d4ebff;}#sk-container-id-1 input.sk-hidden--visually {border: 0;clip: rect(1px 1px 1px 1px);clip: rect(1px, 1px, 1px, 1px);height: 1px;margin: -1px;overflow: hidden;padding: 0;position: absolute;width: 1px;}#sk-container-id-1 div.sk-estimator {font-family: monospace;background-color: #f0f8ff;border: 1px dotted black;border-radius: 0.25em;box-sizing: border-box;margin-bottom: 0.5em;}#sk-container-id-1 div.sk-estimator:hover {background-color: #d4ebff;}#sk-container-id-1 div.sk-parallel-item::after {content: \"\";width: 100%;border-bottom: 1px solid gray;flex-grow: 1;}#sk-container-id-1 div.sk-label:hover label.sk-toggleable__label {background-color: #d4ebff;}#sk-container-id-1 div.sk-serial::before {content: \"\";position: absolute;border-left: 1px solid gray;box-sizing: border-box;top: 0;bottom: 0;left: 50%;z-index: 0;}#sk-container-id-1 div.sk-serial {display: flex;flex-direction: column;align-items: center;background-color: white;padding-right: 0.2em;padding-left: 0.2em;position: relative;}#sk-container-id-1 div.sk-item {position: relative;z-index: 1;}#sk-container-id-1 div.sk-parallel {display: flex;align-items: stretch;justify-content: center;background-color: white;position: relative;}#sk-container-id-1 div.sk-item::before, #sk-container-id-1 div.sk-parallel-item::before {content: \"\";position: absolute;border-left: 1px solid gray;box-sizing: border-box;top: 0;bottom: 0;left: 50%;z-index: -1;}#sk-container-id-1 div.sk-parallel-item {display: flex;flex-direction: column;z-index: 1;position: relative;background-color: white;}#sk-container-id-1 div.sk-parallel-item:first-child::after {align-self: flex-end;width: 50%;}#sk-container-id-1 div.sk-parallel-item:last-child::after {align-self: flex-start;width: 50%;}#sk-container-id-1 div.sk-parallel-item:only-child::after {width: 0;}#sk-container-id-1 div.sk-dashed-wrapped {border: 1px dashed gray;margin: 0 0.4em 0.5em 0.4em;box-sizing: border-box;padding-bottom: 0.4em;background-color: white;}#sk-container-id-1 div.sk-label label {font-family: monospace;font-weight: bold;display: inline-block;line-height: 1.2em;}#sk-container-id-1 div.sk-label-container {text-align: center;}#sk-container-id-1 div.sk-container {/* jupyter's `normalize.less` sets `[hidden] { display: none; }` but bootstrap.min.css set `[hidden] { display: none !important; }` so we also need the `!important` here to be able to override the default hidden behavior on the sphinx rendered scikit-learn.org. See: https://github.com/scikit-learn/scikit-learn/issues/21755 */display: inline-block !important;position: relative;}#sk-container-id-1 div.sk-text-repr-fallback {display: none;}</style><div id=\"sk-container-id-1\" class=\"sk-top-container\"><div class=\"sk-text-repr-fallback\"><pre>XGBClassifier(base_score=0.5, booster=&#x27;gbtree&#x27;, callbacks=None,\n",
       "              colsample_bylevel=1, colsample_bynode=1, colsample_bytree=1,\n",
       "              early_stopping_rounds=None, enable_categorical=False,\n",
       "              eval_metric=&#x27;auc&#x27;, feature_types=None, gamma=1.2, gpu_id=-1,\n",
       "              grow_policy=&#x27;depthwise&#x27;, importance_type=None,\n",
       "              interaction_constraints=&#x27;&#x27;, learning_rate=0.300000012,\n",
       "              max_bin=256, max_cat_threshold=64, max_cat_to_onehot=4,\n",
       "              max_delta_step=0, max_depth=4, max_leaves=0, min_child_weight=1,\n",
       "              missing=nan, monotone_constraints=&#x27;()&#x27;, n_estimators=100,\n",
       "              n_jobs=0, num_parallel_tree=1, predictor=&#x27;auto&#x27;, random_state=0, ...)</pre><b>In a Jupyter environment, please rerun this cell to show the HTML representation or trust the notebook. <br />On GitHub, the HTML representation is unable to render, please try loading this page with nbviewer.org.</b></div><div class=\"sk-container\" hidden><div class=\"sk-item\"><div class=\"sk-estimator sk-toggleable\"><input class=\"sk-toggleable__control sk-hidden--visually\" id=\"sk-estimator-id-1\" type=\"checkbox\" checked><label for=\"sk-estimator-id-1\" class=\"sk-toggleable__label sk-toggleable__label-arrow\">XGBClassifier</label><div class=\"sk-toggleable__content\"><pre>XGBClassifier(base_score=0.5, booster=&#x27;gbtree&#x27;, callbacks=None,\n",
       "              colsample_bylevel=1, colsample_bynode=1, colsample_bytree=1,\n",
       "              early_stopping_rounds=None, enable_categorical=False,\n",
       "              eval_metric=&#x27;auc&#x27;, feature_types=None, gamma=1.2, gpu_id=-1,\n",
       "              grow_policy=&#x27;depthwise&#x27;, importance_type=None,\n",
       "              interaction_constraints=&#x27;&#x27;, learning_rate=0.300000012,\n",
       "              max_bin=256, max_cat_threshold=64, max_cat_to_onehot=4,\n",
       "              max_delta_step=0, max_depth=4, max_leaves=0, min_child_weight=1,\n",
       "              missing=nan, monotone_constraints=&#x27;()&#x27;, n_estimators=100,\n",
       "              n_jobs=0, num_parallel_tree=1, predictor=&#x27;auto&#x27;, random_state=0, ...)</pre></div></div></div></div></div>"
      ],
      "text/plain": [
       "XGBClassifier(base_score=0.5, booster='gbtree', callbacks=None,\n",
       "              colsample_bylevel=1, colsample_bynode=1, colsample_bytree=1,\n",
       "              early_stopping_rounds=None, enable_categorical=False,\n",
       "              eval_metric='auc', feature_types=None, gamma=1.2, gpu_id=-1,\n",
       "              grow_policy='depthwise', importance_type=None,\n",
       "              interaction_constraints='', learning_rate=0.300000012,\n",
       "              max_bin=256, max_cat_threshold=64, max_cat_to_onehot=4,\n",
       "              max_delta_step=0, max_depth=4, max_leaves=0, min_child_weight=1,\n",
       "              missing=nan, monotone_constraints='()', n_estimators=100,\n",
       "              n_jobs=0, num_parallel_tree=1, predictor='auto', random_state=0, ...)"
      ]
     },
     "execution_count": 16,
     "metadata": {},
     "output_type": "execute_result"
    }
   ],
   "source": [
    "obj.get_best_estimator()"
   ]
  },
  {
   "cell_type": "code",
   "execution_count": 17,
   "metadata": {},
   "outputs": [
    {
     "data": {
      "text/html": [
       "<style>#sk-container-id-2 {color: black;background-color: white;}#sk-container-id-2 pre{padding: 0;}#sk-container-id-2 div.sk-toggleable {background-color: white;}#sk-container-id-2 label.sk-toggleable__label {cursor: pointer;display: block;width: 100%;margin-bottom: 0;padding: 0.3em;box-sizing: border-box;text-align: center;}#sk-container-id-2 label.sk-toggleable__label-arrow:before {content: \"▸\";float: left;margin-right: 0.25em;color: #696969;}#sk-container-id-2 label.sk-toggleable__label-arrow:hover:before {color: black;}#sk-container-id-2 div.sk-estimator:hover label.sk-toggleable__label-arrow:before {color: black;}#sk-container-id-2 div.sk-toggleable__content {max-height: 0;max-width: 0;overflow: hidden;text-align: left;background-color: #f0f8ff;}#sk-container-id-2 div.sk-toggleable__content pre {margin: 0.2em;color: black;border-radius: 0.25em;background-color: #f0f8ff;}#sk-container-id-2 input.sk-toggleable__control:checked~div.sk-toggleable__content {max-height: 200px;max-width: 100%;overflow: auto;}#sk-container-id-2 input.sk-toggleable__control:checked~label.sk-toggleable__label-arrow:before {content: \"▾\";}#sk-container-id-2 div.sk-estimator input.sk-toggleable__control:checked~label.sk-toggleable__label {background-color: #d4ebff;}#sk-container-id-2 div.sk-label input.sk-toggleable__control:checked~label.sk-toggleable__label {background-color: #d4ebff;}#sk-container-id-2 input.sk-hidden--visually {border: 0;clip: rect(1px 1px 1px 1px);clip: rect(1px, 1px, 1px, 1px);height: 1px;margin: -1px;overflow: hidden;padding: 0;position: absolute;width: 1px;}#sk-container-id-2 div.sk-estimator {font-family: monospace;background-color: #f0f8ff;border: 1px dotted black;border-radius: 0.25em;box-sizing: border-box;margin-bottom: 0.5em;}#sk-container-id-2 div.sk-estimator:hover {background-color: #d4ebff;}#sk-container-id-2 div.sk-parallel-item::after {content: \"\";width: 100%;border-bottom: 1px solid gray;flex-grow: 1;}#sk-container-id-2 div.sk-label:hover label.sk-toggleable__label {background-color: #d4ebff;}#sk-container-id-2 div.sk-serial::before {content: \"\";position: absolute;border-left: 1px solid gray;box-sizing: border-box;top: 0;bottom: 0;left: 50%;z-index: 0;}#sk-container-id-2 div.sk-serial {display: flex;flex-direction: column;align-items: center;background-color: white;padding-right: 0.2em;padding-left: 0.2em;position: relative;}#sk-container-id-2 div.sk-item {position: relative;z-index: 1;}#sk-container-id-2 div.sk-parallel {display: flex;align-items: stretch;justify-content: center;background-color: white;position: relative;}#sk-container-id-2 div.sk-item::before, #sk-container-id-2 div.sk-parallel-item::before {content: \"\";position: absolute;border-left: 1px solid gray;box-sizing: border-box;top: 0;bottom: 0;left: 50%;z-index: -1;}#sk-container-id-2 div.sk-parallel-item {display: flex;flex-direction: column;z-index: 1;position: relative;background-color: white;}#sk-container-id-2 div.sk-parallel-item:first-child::after {align-self: flex-end;width: 50%;}#sk-container-id-2 div.sk-parallel-item:last-child::after {align-self: flex-start;width: 50%;}#sk-container-id-2 div.sk-parallel-item:only-child::after {width: 0;}#sk-container-id-2 div.sk-dashed-wrapped {border: 1px dashed gray;margin: 0 0.4em 0.5em 0.4em;box-sizing: border-box;padding-bottom: 0.4em;background-color: white;}#sk-container-id-2 div.sk-label label {font-family: monospace;font-weight: bold;display: inline-block;line-height: 1.2em;}#sk-container-id-2 div.sk-label-container {text-align: center;}#sk-container-id-2 div.sk-container {/* jupyter's `normalize.less` sets `[hidden] { display: none; }` but bootstrap.min.css set `[hidden] { display: none !important; }` so we also need the `!important` here to be able to override the default hidden behavior on the sphinx rendered scikit-learn.org. See: https://github.com/scikit-learn/scikit-learn/issues/21755 */display: inline-block !important;position: relative;}#sk-container-id-2 div.sk-text-repr-fallback {display: none;}</style><div id=\"sk-container-id-2\" class=\"sk-top-container\"><div class=\"sk-text-repr-fallback\"><pre>XGBClassifier(base_score=0.5, booster=&#x27;gbtree&#x27;, callbacks=None,\n",
       "              colsample_bylevel=1, colsample_bynode=1, colsample_bytree=1,\n",
       "              early_stopping_rounds=None, enable_categorical=False,\n",
       "              eval_metric=&#x27;auc&#x27;, feature_types=None, gamma=1.2, gpu_id=-1,\n",
       "              grow_policy=&#x27;depthwise&#x27;, importance_type=None,\n",
       "              interaction_constraints=&#x27;&#x27;, learning_rate=0.300000012,\n",
       "              max_bin=256, max_cat_threshold=64, max_cat_to_onehot=4,\n",
       "              max_delta_step=0, max_depth=4, max_leaves=0, min_child_weight=1,\n",
       "              missing=nan, monotone_constraints=&#x27;()&#x27;, n_estimators=100,\n",
       "              n_jobs=0, num_parallel_tree=1, predictor=&#x27;auto&#x27;, random_state=0, ...)</pre><b>In a Jupyter environment, please rerun this cell to show the HTML representation or trust the notebook. <br />On GitHub, the HTML representation is unable to render, please try loading this page with nbviewer.org.</b></div><div class=\"sk-container\" hidden><div class=\"sk-item\"><div class=\"sk-estimator sk-toggleable\"><input class=\"sk-toggleable__control sk-hidden--visually\" id=\"sk-estimator-id-2\" type=\"checkbox\" checked><label for=\"sk-estimator-id-2\" class=\"sk-toggleable__label sk-toggleable__label-arrow\">XGBClassifier</label><div class=\"sk-toggleable__content\"><pre>XGBClassifier(base_score=0.5, booster=&#x27;gbtree&#x27;, callbacks=None,\n",
       "              colsample_bylevel=1, colsample_bynode=1, colsample_bytree=1,\n",
       "              early_stopping_rounds=None, enable_categorical=False,\n",
       "              eval_metric=&#x27;auc&#x27;, feature_types=None, gamma=1.2, gpu_id=-1,\n",
       "              grow_policy=&#x27;depthwise&#x27;, importance_type=None,\n",
       "              interaction_constraints=&#x27;&#x27;, learning_rate=0.300000012,\n",
       "              max_bin=256, max_cat_threshold=64, max_cat_to_onehot=4,\n",
       "              max_delta_step=0, max_depth=4, max_leaves=0, min_child_weight=1,\n",
       "              missing=nan, monotone_constraints=&#x27;()&#x27;, n_estimators=100,\n",
       "              n_jobs=0, num_parallel_tree=1, predictor=&#x27;auto&#x27;, random_state=0, ...)</pre></div></div></div></div></div>"
      ],
      "text/plain": [
       "XGBClassifier(base_score=0.5, booster='gbtree', callbacks=None,\n",
       "              colsample_bylevel=1, colsample_bynode=1, colsample_bytree=1,\n",
       "              early_stopping_rounds=None, enable_categorical=False,\n",
       "              eval_metric='auc', feature_types=None, gamma=1.2, gpu_id=-1,\n",
       "              grow_policy='depthwise', importance_type=None,\n",
       "              interaction_constraints='', learning_rate=0.300000012,\n",
       "              max_bin=256, max_cat_threshold=64, max_cat_to_onehot=4,\n",
       "              max_delta_step=0, max_depth=4, max_leaves=0, min_child_weight=1,\n",
       "              missing=nan, monotone_constraints='()', n_estimators=100,\n",
       "              n_jobs=0, num_parallel_tree=1, predictor='auto', random_state=0, ...)"
      ]
     },
     "execution_count": 17,
     "metadata": {},
     "output_type": "execute_result"
    }
   ],
   "source": [
    "obj.best_estimator"
   ]
  },
  {
   "cell_type": "markdown",
   "metadata": {},
   "source": [
    "#### Get fitted grid search object and its attributes"
   ]
  },
  {
   "cell_type": "code",
   "execution_count": 18,
   "metadata": {},
   "outputs": [
    {
     "data": {
      "text/plain": [
       "{'params': [{'booster': 'gbtree',\n",
       "   'eval_metric': 'auc',\n",
       "   'max_depth': 4,\n",
       "   'gamma': 0.1,\n",
       "   'subsample': 0.8},\n",
       "  {'booster': 'dart',\n",
       "   'eval_metric': 'auc',\n",
       "   'max_depth': 4,\n",
       "   'gamma': 0.1,\n",
       "   'subsample': 0.8},\n",
       "  {'booster': 'gbtree',\n",
       "   'eval_metric': 'auc',\n",
       "   'max_depth': 4,\n",
       "   'gamma': 1.2,\n",
       "   'subsample': 0.8},\n",
       "  {'booster': 'dart',\n",
       "   'eval_metric': 'auc',\n",
       "   'max_depth': 4,\n",
       "   'gamma': 1.2,\n",
       "   'subsample': 0.8},\n",
       "  {'booster': 'gbtree',\n",
       "   'eval_metric': 'auc',\n",
       "   'max_depth': 5,\n",
       "   'gamma': 0.1,\n",
       "   'subsample': 0.8},\n",
       "  {'booster': 'dart',\n",
       "   'eval_metric': 'auc',\n",
       "   'max_depth': 5,\n",
       "   'gamma': 0.1,\n",
       "   'subsample': 0.8},\n",
       "  {'booster': 'gbtree',\n",
       "   'eval_metric': 'auc',\n",
       "   'max_depth': 5,\n",
       "   'gamma': 1.2,\n",
       "   'subsample': 0.8},\n",
       "  {'booster': 'dart',\n",
       "   'eval_metric': 'auc',\n",
       "   'max_depth': 5,\n",
       "   'gamma': 1.2,\n",
       "   'subsample': 0.8}],\n",
       " 'split0_test_score': array([0.86207371, 0.86386139, 0.86193619, 0.86234873, 0.86331133,\n",
       "        0.86111111, 0.86248625, 0.86138614]),\n",
       " 'split1_test_score': array([0.8719747 , 0.87252475, 0.87142464, 0.87252475, 0.87046205,\n",
       "        0.86647415, 0.87059956, 0.86977448]),\n",
       " 'split2_test_score': array([0.86673085, 0.86480539, 0.86838124, 0.86618072, 0.86343006,\n",
       "        0.86191721, 0.86343006, 0.86411773]),\n",
       " 'mean_test_score': array([0.86692642, 0.86706384, 0.86724736, 0.86701807, 0.86573448,\n",
       "        0.86316749, 0.86550529, 0.86509278]),\n",
       " 'std_test_score': array([0.00404443, 0.00388063, 0.00395575, 0.00419632, 0.00334325,\n",
       "        0.00236121, 0.00362274, 0.00349324]),\n",
       " 'rank_test_score': array([4, 2, 1, 3, 5, 8, 6, 7], dtype=int32),\n",
       " 'time_total_s': array([ 4.99948287, 14.43552375,  4.38485599, 14.4241271 ,  5.30335283,\n",
       "        15.57477689,  5.32495308, 15.73788905]),\n",
       " 'training_iteration': array([1, 1, 1, 1, 1, 1, 1, 1]),\n",
       " 'param_booster': masked_array(data=['gbtree', 'dart', 'gbtree', 'dart', 'gbtree', 'dart',\n",
       "                    'gbtree', 'dart'],\n",
       "              mask=[False, False, False, False, False, False, False, False],\n",
       "        fill_value='?',\n",
       "             dtype=object),\n",
       " 'param_eval_metric': masked_array(data=['auc', 'auc', 'auc', 'auc', 'auc', 'auc', 'auc', 'auc'],\n",
       "              mask=[False, False, False, False, False, False, False, False],\n",
       "        fill_value='?',\n",
       "             dtype=object),\n",
       " 'param_max_depth': masked_array(data=[4, 4, 4, 4, 5, 5, 5, 5],\n",
       "              mask=[False, False, False, False, False, False, False, False],\n",
       "        fill_value='?',\n",
       "             dtype=object),\n",
       " 'param_gamma': masked_array(data=[0.1, 0.1, 1.2, 1.2, 0.1, 0.1, 1.2, 1.2],\n",
       "              mask=[False, False, False, False, False, False, False, False],\n",
       "        fill_value='?',\n",
       "             dtype=object),\n",
       " 'param_subsample': masked_array(data=[0.8, 0.8, 0.8, 0.8, 0.8, 0.8, 0.8, 0.8],\n",
       "              mask=[False, False, False, False, False, False, False, False],\n",
       "        fill_value='?',\n",
       "             dtype=object)}"
      ]
     },
     "execution_count": 18,
     "metadata": {},
     "output_type": "execute_result"
    }
   ],
   "source": [
    "GridSearchObj = obj.get_optimized_object()\n",
    "GridSearchObj.cv_results_"
   ]
  }
 ],
 "metadata": {
  "kernelspec": {
   "display_name": "Python 3.10.4 ('.venv': poetry)",
   "language": "python",
   "name": "python3"
  },
  "language_info": {
   "codemirror_mode": {
    "name": "ipython",
    "version": 3
   },
   "file_extension": ".py",
   "mimetype": "text/x-python",
   "name": "python",
   "nbconvert_exporter": "python",
   "pygments_lexer": "ipython3",
   "version": "3.10.9"
  },
  "orig_nbformat": 4,
  "vscode": {
   "interpreter": {
    "hash": "7ced68e88e9060e5bcf2eaa5b2d4f8fc97e4d610a52d347137abf879072ffb6d"
   }
  }
 },
 "nbformat": 4,
 "nbformat_minor": 2
}
