{
 "cells": [
  {
   "cell_type": "code",
   "execution_count": 1,
   "metadata": {},
   "outputs": [
    {
     "name": "stdout",
     "output_type": "stream",
     "text": [
      "2023-02-21 21:04:56,520 :: matplotlib :: matplotlib data path: /Users/hjavedani/Documents/Lohrasb/.venv/lib/python3.10/site-packages/matplotlib/mpl-data\n",
      "2023-02-21 21:04:56,525 :: matplotlib :: CONFIGDIR=/Users/hjavedani/.matplotlib\n",
      "2023-02-21 21:04:56,527 :: matplotlib :: interactive is False\n",
      "2023-02-21 21:04:56,528 :: matplotlib :: platform is darwin\n",
      "2023-02-21 21:04:57,503 :: matplotlib :: CACHEDIR=/Users/hjavedani/.matplotlib\n",
      "2023-02-21 21:04:57,506 :: matplotlib.font_manager :: Using fontManager instance from /Users/hjavedani/.matplotlib/fontlist-v330.json\n"
     ]
    }
   ],
   "source": [
    "from lohrasb.best_estimator import BaseModel\n",
    "from optuna.pruners import HyperbandPruner\n",
    "from optuna.samplers._tpe.sampler import TPESampler\n",
    "from sklearn.model_selection import train_test_split\n",
    "import pandas as pd\n",
    "import numpy as np\n",
    "import optuna\n",
    "from sklearn.pipeline import Pipeline\n",
    "from feature_engine.imputation import (\n",
    "    CategoricalImputer,\n",
    "    MeanMedianImputer\n",
    "    )\n",
    "from category_encoders import OrdinalEncoder\n",
    "from sklearn.metrics import (\n",
    "    classification_report,\n",
    "    confusion_matrix,\n",
    "    f1_score)\n",
    "from sklearn.metrics import f1_score\n",
    "from interpret.glassbox import LogisticRegression\n",
    "from interpret import show\n",
    "from lohrasb.utils.metrics import f1_plus_tn\n",
    "\n"
   ]
  },
  {
   "cell_type": "markdown",
   "metadata": {},
   "source": [
    "#### Example 1 : Use Adult Data Set (a classification problem)\n",
    "  \n",
    "https://archive.ics.uci.edu/ml/datasets/Adult"
   ]
  },
  {
   "cell_type": "markdown",
   "metadata": {},
   "source": [
    "#### Part 1: Use BestModel in sklearn pipeline\n"
   ]
  },
  {
   "cell_type": "code",
   "execution_count": 2,
   "metadata": {},
   "outputs": [
    {
     "data": {
      "text/html": [
       "<div>\n",
       "<style scoped>\n",
       "    .dataframe tbody tr th:only-of-type {\n",
       "        vertical-align: middle;\n",
       "    }\n",
       "\n",
       "    .dataframe tbody tr th {\n",
       "        vertical-align: top;\n",
       "    }\n",
       "\n",
       "    .dataframe thead th {\n",
       "        text-align: right;\n",
       "    }\n",
       "</style>\n",
       "<table border=\"1\" class=\"dataframe\">\n",
       "  <thead>\n",
       "    <tr style=\"text-align: right;\">\n",
       "      <th></th>\n",
       "      <th>age</th>\n",
       "      <th>workclass</th>\n",
       "      <th>fnlwgt</th>\n",
       "      <th>education</th>\n",
       "      <th>education-num</th>\n",
       "      <th>marital-status</th>\n",
       "      <th>occupation</th>\n",
       "      <th>relationship</th>\n",
       "      <th>race</th>\n",
       "      <th>sex</th>\n",
       "      <th>capital-gain</th>\n",
       "      <th>capital-loss</th>\n",
       "      <th>hours-per-week</th>\n",
       "      <th>native-country</th>\n",
       "      <th>label</th>\n",
       "    </tr>\n",
       "  </thead>\n",
       "  <tbody>\n",
       "    <tr>\n",
       "      <th>0</th>\n",
       "      <td>39</td>\n",
       "      <td>State-gov</td>\n",
       "      <td>77516</td>\n",
       "      <td>Bachelors</td>\n",
       "      <td>13</td>\n",
       "      <td>Never-married</td>\n",
       "      <td>Adm-clerical</td>\n",
       "      <td>Not-in-family</td>\n",
       "      <td>White</td>\n",
       "      <td>Male</td>\n",
       "      <td>2174</td>\n",
       "      <td>0</td>\n",
       "      <td>40</td>\n",
       "      <td>United-States</td>\n",
       "      <td>&lt;=50K</td>\n",
       "    </tr>\n",
       "    <tr>\n",
       "      <th>1</th>\n",
       "      <td>50</td>\n",
       "      <td>Self-emp-not-inc</td>\n",
       "      <td>83311</td>\n",
       "      <td>Bachelors</td>\n",
       "      <td>13</td>\n",
       "      <td>Married-civ-spouse</td>\n",
       "      <td>Exec-managerial</td>\n",
       "      <td>Husband</td>\n",
       "      <td>White</td>\n",
       "      <td>Male</td>\n",
       "      <td>0</td>\n",
       "      <td>0</td>\n",
       "      <td>13</td>\n",
       "      <td>United-States</td>\n",
       "      <td>&lt;=50K</td>\n",
       "    </tr>\n",
       "    <tr>\n",
       "      <th>2</th>\n",
       "      <td>38</td>\n",
       "      <td>Private</td>\n",
       "      <td>215646</td>\n",
       "      <td>HS-grad</td>\n",
       "      <td>9</td>\n",
       "      <td>Divorced</td>\n",
       "      <td>Handlers-cleaners</td>\n",
       "      <td>Not-in-family</td>\n",
       "      <td>White</td>\n",
       "      <td>Male</td>\n",
       "      <td>0</td>\n",
       "      <td>0</td>\n",
       "      <td>40</td>\n",
       "      <td>United-States</td>\n",
       "      <td>&lt;=50K</td>\n",
       "    </tr>\n",
       "    <tr>\n",
       "      <th>3</th>\n",
       "      <td>53</td>\n",
       "      <td>Private</td>\n",
       "      <td>234721</td>\n",
       "      <td>11th</td>\n",
       "      <td>7</td>\n",
       "      <td>Married-civ-spouse</td>\n",
       "      <td>Handlers-cleaners</td>\n",
       "      <td>Husband</td>\n",
       "      <td>Black</td>\n",
       "      <td>Male</td>\n",
       "      <td>0</td>\n",
       "      <td>0</td>\n",
       "      <td>40</td>\n",
       "      <td>United-States</td>\n",
       "      <td>&lt;=50K</td>\n",
       "    </tr>\n",
       "    <tr>\n",
       "      <th>4</th>\n",
       "      <td>28</td>\n",
       "      <td>Private</td>\n",
       "      <td>338409</td>\n",
       "      <td>Bachelors</td>\n",
       "      <td>13</td>\n",
       "      <td>Married-civ-spouse</td>\n",
       "      <td>Prof-specialty</td>\n",
       "      <td>Wife</td>\n",
       "      <td>Black</td>\n",
       "      <td>Female</td>\n",
       "      <td>0</td>\n",
       "      <td>0</td>\n",
       "      <td>40</td>\n",
       "      <td>Cuba</td>\n",
       "      <td>&lt;=50K</td>\n",
       "    </tr>\n",
       "  </tbody>\n",
       "</table>\n",
       "</div>"
      ],
      "text/plain": [
       "   age          workclass  fnlwgt   education  education-num  \\\n",
       "0   39          State-gov   77516   Bachelors             13   \n",
       "1   50   Self-emp-not-inc   83311   Bachelors             13   \n",
       "2   38            Private  215646     HS-grad              9   \n",
       "3   53            Private  234721        11th              7   \n",
       "4   28            Private  338409   Bachelors             13   \n",
       "\n",
       "        marital-status          occupation    relationship    race      sex  \\\n",
       "0        Never-married        Adm-clerical   Not-in-family   White     Male   \n",
       "1   Married-civ-spouse     Exec-managerial         Husband   White     Male   \n",
       "2             Divorced   Handlers-cleaners   Not-in-family   White     Male   \n",
       "3   Married-civ-spouse   Handlers-cleaners         Husband   Black     Male   \n",
       "4   Married-civ-spouse      Prof-specialty            Wife   Black   Female   \n",
       "\n",
       "   capital-gain  capital-loss  hours-per-week  native-country   label  \n",
       "0          2174             0              40   United-States   <=50K  \n",
       "1             0             0              13   United-States   <=50K  \n",
       "2             0             0              40   United-States   <=50K  \n",
       "3             0             0              40   United-States   <=50K  \n",
       "4             0             0              40            Cuba   <=50K  "
      ]
     },
     "execution_count": 2,
     "metadata": {},
     "output_type": "execute_result"
    }
   ],
   "source": [
    "urldata= \"https://archive.ics.uci.edu/ml/machine-learning-databases/adult/adult.data\"\n",
    "# column names\n",
    "col_names=[\"age\", \"workclass\", \"fnlwgt\" , \"education\" ,\"education-num\",\n",
    "\"marital-status\",\"occupation\",\"relationship\",\"race\",\"sex\",\"capital-gain\",\"capital-loss\",\"hours-per-week\",\n",
    "\"native-country\",\"label\"\n",
    "]\n",
    "# read data\n",
    "data = pd.read_csv(urldata,header=None,names=col_names,sep=',')\n",
    "data.head()"
   ]
  },
  {
   "cell_type": "markdown",
   "metadata": {},
   "source": [
    "#### Define labels\n"
   ]
  },
  {
   "cell_type": "code",
   "execution_count": 3,
   "metadata": {},
   "outputs": [],
   "source": [
    "data.loc[data['label']=='<=50K','label']=0\n",
    "data.loc[data['label']==' <=50K','label']=0\n",
    "\n",
    "data.loc[data['label']=='>50K','label']=1\n",
    "data.loc[data['label']==' >50K','label']=1\n",
    "\n",
    "data['label']=data['label'].astype(int)"
   ]
  },
  {
   "cell_type": "markdown",
   "metadata": {},
   "source": [
    "#### Train test split"
   ]
  },
  {
   "cell_type": "code",
   "execution_count": 4,
   "metadata": {},
   "outputs": [],
   "source": [
    "X = data.loc[:, data.columns != \"label\"]\n",
    "y = data.loc[:, data.columns == \"label\"]\n",
    "y = y.values.ravel()\n",
    "\n",
    "\n",
    "X_train, X_test, y_train, y_test =train_test_split(X, y, test_size=0.33, random_state=42)\n",
    "\n",
    "# for sample_weights\n",
    "weights = np.ones(len(y_train))\n"
   ]
  },
  {
   "cell_type": "markdown",
   "metadata": {},
   "source": [
    "#### Find feature types for later use"
   ]
  },
  {
   "cell_type": "code",
   "execution_count": 5,
   "metadata": {},
   "outputs": [],
   "source": [
    "int_cols =  X_train.select_dtypes(include=['int']).columns.tolist()\n",
    "float_cols =  X_train.select_dtypes(include=['float']).columns.tolist()\n",
    "cat_cols =  X_train.select_dtypes(include=['object']).columns.tolist()\n"
   ]
  },
  {
   "cell_type": "markdown",
   "metadata": {},
   "source": [
    "#### Define model and set it argumens "
   ]
  },
  {
   "cell_type": "code",
   "execution_count": 6,
   "metadata": {},
   "outputs": [],
   "source": [
    "estimator = LogisticRegression()\n",
    "estimator_params = {\n",
    "        \"penalty\":[\"l2\"],\n",
    "        \"C\":[0.1,1],\n",
    "        \"max_iter\":[500,700],\n",
    "\n",
    "    }\n"
   ]
  },
  {
   "cell_type": "code",
   "execution_count": 7,
   "metadata": {},
   "outputs": [
    {
     "name": "stderr",
     "output_type": "stream",
     "text": [
      "\u001b[32m[I 2023-02-21 21:05:00,881]\u001b[0m A new study created in memory with name: example of optuna optimizer\u001b[0m\n"
     ]
    }
   ],
   "source": [
    "obj = BaseModel().optimize_by_optuna(\n",
    "            estimator=estimator,\n",
    "            estimator_params=estimator_params,\n",
    "            # f1_plus_tn is a custom metric \n",
    "            measure_of_accuracy=\"f1_plus_tn(y_true, y_pred)\",\n",
    "            fit_params = None,\n",
    "            with_stratified=True,\n",
    "            test_size=.3,\n",
    "            verbose=3,\n",
    "            n_jobs=-1,\n",
    "            random_state=42,\n",
    "            # optuna params\n",
    "            # optuna study init params\n",
    "            study=optuna.create_study(\n",
    "                storage=None,\n",
    "                sampler=TPESampler(),\n",
    "                pruner=HyperbandPruner(),\n",
    "                study_name=\"example of optuna optimizer\",\n",
    "                direction=\"maximize\",\n",
    "                load_if_exists=False,\n",
    "                directions=None,\n",
    "            ),\n",
    "            # optuna optimization params\n",
    "            study_optimize_objective=None,\n",
    "            study_optimize_objective_n_trials=20,\n",
    "            study_optimize_objective_timeout=600,\n",
    "            study_optimize_n_jobs=-1,\n",
    "            study_optimize_catch=(),\n",
    "            study_optimize_callbacks=None,\n",
    "            study_optimize_gc_after_trial=False,\n",
    "            study_optimize_show_progress_bar=False,\n",
    "        )"
   ]
  },
  {
   "cell_type": "markdown",
   "metadata": {},
   "source": [
    "#### Build sklearn pipeline"
   ]
  },
  {
   "cell_type": "code",
   "execution_count": 8,
   "metadata": {},
   "outputs": [],
   "source": [
    "\n",
    "\n",
    "pipeline =Pipeline([\n",
    "            # int missing values imputers\n",
    "            ('intimputer', MeanMedianImputer(\n",
    "                imputation_method='median', variables=int_cols)),\n",
    "            # category missing values imputers\n",
    "            ('catimputer', CategoricalImputer(variables=cat_cols)),\n",
    "            #\n",
    "            ('catencoder', OrdinalEncoder()),\n",
    "            # classification model\n",
    "            ('obj', obj),\n",
    "\n",
    "\n",
    " ])\n",
    " \n",
    "\n"
   ]
  },
  {
   "cell_type": "markdown",
   "metadata": {},
   "source": [
    "#### Run Pipeline"
   ]
  },
  {
   "cell_type": "code",
   "execution_count": 9,
   "metadata": {},
   "outputs": [
    {
     "name": "stderr",
     "output_type": "stream",
     "text": [
      "/Users/hjavedani/Documents/Lohrasb/.venv/lib/python3.10/site-packages/optuna/study/study.py:393: FutureWarning: `n_jobs` argument has been deprecated in v2.7.0. This feature will be removed in v4.0.0. See https://github.com/optuna/optuna/releases/tag/v2.7.0.\n",
      "  warnings.warn(\n",
      "\u001b[32m[I 2023-02-21 21:05:02,674]\u001b[0m Trial 1 finished with value: 15728.495737056715 and parameters: {'penalty': 'l2', 'C': 0.29809905290948, 'max_iter': 543}. Best is trial 1 with value: 15728.495737056715.\u001b[0m\n",
      "\u001b[32m[I 2023-02-21 21:05:02,694]\u001b[0m Trial 4 finished with value: 15728.495737056715 and parameters: {'penalty': 'l2', 'C': 0.38201587010084825, 'max_iter': 691}. Best is trial 1 with value: 15728.495737056715.\u001b[0m\n",
      "\u001b[32m[I 2023-02-21 21:05:02,707]\u001b[0m Trial 6 finished with value: 15729.495798319327 and parameters: {'penalty': 'l2', 'C': 0.11153266444582588, 'max_iter': 690}. Best is trial 6 with value: 15729.495798319327.\u001b[0m\n",
      "\u001b[32m[I 2023-02-21 21:05:02,727]\u001b[0m Trial 3 finished with value: 15728.495922905857 and parameters: {'penalty': 'l2', 'C': 0.52406508711269, 'max_iter': 502}. Best is trial 6 with value: 15729.495798319327.\u001b[0m\n",
      "\u001b[32m[I 2023-02-21 21:05:02,803]\u001b[0m Trial 5 finished with value: 15728.49555116164 and parameters: {'penalty': 'l2', 'C': 0.9876547370793338, 'max_iter': 564}. Best is trial 6 with value: 15729.495798319327.\u001b[0m\n",
      "\u001b[32m[I 2023-02-21 21:05:02,865]\u001b[0m Trial 2 finished with value: 15728.495737056715 and parameters: {'penalty': 'l2', 'C': 0.23132764526634592, 'max_iter': 637}. Best is trial 6 with value: 15729.495798319327.\u001b[0m\n",
      "\u001b[32m[I 2023-02-21 21:05:03,066]\u001b[0m Trial 7 finished with value: 15730.496045477013 and parameters: {'penalty': 'l2', 'C': 0.719627501356973, 'max_iter': 529}. Best is trial 7 with value: 15730.496045477013.\u001b[0m\n",
      "\u001b[32m[I 2023-02-21 21:05:03,273]\u001b[0m Trial 0 finished with value: 15323.585312704294 and parameters: {'penalty': 'l2', 'C': 0.4303715896801801, 'max_iter': 676}. Best is trial 7 with value: 15730.496045477013.\u001b[0m\n",
      "\u001b[32m[I 2023-02-21 21:05:04,424]\u001b[0m Trial 8 finished with value: 15728.495737056715 and parameters: {'penalty': 'l2', 'C': 0.4555328196840308, 'max_iter': 632}. Best is trial 7 with value: 15730.496045477013.\u001b[0m\n",
      "\u001b[32m[I 2023-02-21 21:05:04,503]\u001b[0m Trial 11 finished with value: 15322.585248937792 and parameters: {'penalty': 'l2', 'C': 0.31725477910588673, 'max_iter': 663}. Best is trial 7 with value: 15730.496045477013.\u001b[0m\n",
      "\u001b[32m[I 2023-02-21 21:05:04,520]\u001b[0m Trial 13 finished with value: 15728.495737056715 and parameters: {'penalty': 'l2', 'C': 0.9769856625620768, 'max_iter': 550}. Best is trial 7 with value: 15730.496045477013.\u001b[0m\n",
      "\u001b[32m[I 2023-02-21 21:05:04,553]\u001b[0m Trial 12 finished with value: 15730.496045477013 and parameters: {'penalty': 'l2', 'C': 0.7152523757336685, 'max_iter': 548}. Best is trial 7 with value: 15730.496045477013.\u001b[0m\n",
      "\u001b[32m[I 2023-02-21 21:05:04,604]\u001b[0m Trial 9 finished with value: 15730.496045477013 and parameters: {'penalty': 'l2', 'C': 0.7426631243710438, 'max_iter': 575}. Best is trial 7 with value: 15730.496045477013.\u001b[0m\n",
      "\u001b[32m[I 2023-02-21 21:05:04,742]\u001b[0m Trial 14 finished with value: 15728.495737056715 and parameters: {'penalty': 'l2', 'C': 0.40471478232218794, 'max_iter': 503}. Best is trial 7 with value: 15730.496045477013.\u001b[0m\n",
      "\u001b[32m[I 2023-02-21 21:05:05,030]\u001b[0m Trial 15 finished with value: 15722.495555555555 and parameters: {'penalty': 'l2', 'C': 0.5975904904095583, 'max_iter': 680}. Best is trial 7 with value: 15730.496045477013.\u001b[0m\n",
      "\u001b[32m[I 2023-02-21 21:05:05,125]\u001b[0m Trial 10 finished with value: 15414.594576792184 and parameters: {'penalty': 'l2', 'C': 0.565593605722189, 'max_iter': 696}. Best is trial 7 with value: 15730.496045477013.\u001b[0m\n",
      "\u001b[32m[I 2023-02-21 21:05:05,652]\u001b[0m Trial 16 finished with value: 15727.49586164299 and parameters: {'penalty': 'l2', 'C': 0.818359883370234, 'max_iter': 616}. Best is trial 7 with value: 15730.496045477013.\u001b[0m\n",
      "\u001b[32m[I 2023-02-21 21:05:05,658]\u001b[0m Trial 18 finished with value: 15728.495737056715 and parameters: {'penalty': 'l2', 'C': 0.6760287775604905, 'max_iter': 590}. Best is trial 7 with value: 15730.496045477013.\u001b[0m\n",
      "\u001b[32m[I 2023-02-21 21:05:05,664]\u001b[0m Trial 17 finished with value: 15728.495922905857 and parameters: {'penalty': 'l2', 'C': 0.7639816228077785, 'max_iter': 575}. Best is trial 7 with value: 15730.496045477013.\u001b[0m\n",
      "\u001b[32m[I 2023-02-21 21:05:05,667]\u001b[0m Trial 19 finished with value: 15730.496045477013 and parameters: {'penalty': 'l2', 'C': 0.7267010543344161, 'max_iter': 511}. Best is trial 7 with value: 15730.496045477013.\u001b[0m\n"
     ]
    }
   ],
   "source": [
    "pipeline.fit(X_train,y_train)\n",
    "y_preds = pipeline.predict(X_test)\n",
    "pred_labels = np.rint(y_preds)\n",
    "\n",
    "\n"
   ]
  },
  {
   "cell_type": "markdown",
   "metadata": {},
   "source": [
    "#### Check performance of the pipeline"
   ]
  },
  {
   "cell_type": "code",
   "execution_count": 10,
   "metadata": {},
   "outputs": [
    {
     "name": "stdout",
     "output_type": "stream",
     "text": [
      "F1 score : \n",
      "0.4938849856882644\n",
      "Classification report : \n",
      "              precision    recall  f1-score   support\n",
      "\n",
      "           0       0.83      0.96      0.89      8196\n",
      "           1       0.73      0.37      0.49      2550\n",
      "\n",
      "    accuracy                           0.82     10746\n",
      "   macro avg       0.78      0.67      0.69     10746\n",
      "weighted avg       0.81      0.82      0.80     10746\n",
      "\n",
      "Confusion matrix : \n",
      "[[7852  344]\n",
      " [1601  949]]\n"
     ]
    }
   ],
   "source": [
    "print('F1 score : ')\n",
    "print(f1_score(y_test,pred_labels))\n",
    "print('Classification report : ')\n",
    "print(classification_report(y_test,pred_labels))\n",
    "print('Confusion matrix : ')\n",
    "print(confusion_matrix(y_test,pred_labels))\n"
   ]
  },
  {
   "cell_type": "markdown",
   "metadata": {},
   "source": [
    "#### Some estimators have predict_proba method as well"
   ]
  },
  {
   "cell_type": "code",
   "execution_count": 11,
   "metadata": {},
   "outputs": [
    {
     "name": "stdout",
     "output_type": "stream",
     "text": [
      "[[0.92594476 0.07405524]\n",
      " [0.57011109 0.42988891]\n",
      " [0.47579328 0.52420672]\n",
      " ...\n",
      " [0.52781198 0.47218802]\n",
      " [0.73857442 0.26142558]\n",
      " [0.96454437 0.03545563]]\n"
     ]
    }
   ],
   "source": [
    "y_preds = pipeline.predict_proba(X_test)\n",
    "print(y_preds)"
   ]
  },
  {
   "cell_type": "markdown",
   "metadata": {},
   "source": [
    "#### Part 2:  Use BestModel as a standalone estimator "
   ]
  },
  {
   "cell_type": "code",
   "execution_count": 12,
   "metadata": {},
   "outputs": [],
   "source": [
    "X_train, X_test, y_train, y_test =train_test_split(X, y, test_size=0.33, random_state=42)\n"
   ]
  },
  {
   "cell_type": "markdown",
   "metadata": {},
   "source": [
    "#### Transform features to make them ready for model input"
   ]
  },
  {
   "cell_type": "code",
   "execution_count": 13,
   "metadata": {},
   "outputs": [],
   "source": [
    "transform_pipeline =Pipeline([\n",
    "            # int missing values imputers\n",
    "            ('intimputer', MeanMedianImputer(\n",
    "                imputation_method='median', variables=int_cols)),\n",
    "            # category missing values imputers\n",
    "            ('catimputer', CategoricalImputer(variables=cat_cols)),\n",
    "            #\n",
    "            ('catencoder', OrdinalEncoder()),\n",
    "            # classification model\n",
    "\n",
    " ])"
   ]
  },
  {
   "cell_type": "markdown",
   "metadata": {},
   "source": [
    "#### Transform X_train and X_test"
   ]
  },
  {
   "cell_type": "code",
   "execution_count": 14,
   "metadata": {},
   "outputs": [],
   "source": [
    "X_train=transform_pipeline.fit_transform(X_train,y_train)\n",
    "X_test=transform_pipeline.transform(X_test)\n"
   ]
  },
  {
   "cell_type": "markdown",
   "metadata": {},
   "source": [
    "#### Train model and predict"
   ]
  },
  {
   "cell_type": "code",
   "execution_count": 15,
   "metadata": {},
   "outputs": [
    {
     "name": "stderr",
     "output_type": "stream",
     "text": [
      "/Users/hjavedani/Documents/Lohrasb/.venv/lib/python3.10/site-packages/optuna/study/study.py:393: FutureWarning: `n_jobs` argument has been deprecated in v2.7.0. This feature will be removed in v4.0.0. See https://github.com/optuna/optuna/releases/tag/v2.7.0.\n",
      "  warnings.warn(\n",
      "\u001b[32m[I 2023-02-21 21:05:07,973]\u001b[0m Trial 25 finished with value: 15728.495737056715 and parameters: {'penalty': 'l2', 'C': 0.8416819718282575, 'max_iter': 603}. Best is trial 7 with value: 15730.496045477013.\u001b[0m\n",
      "\u001b[32m[I 2023-02-21 21:05:07,978]\u001b[0m Trial 20 finished with value: 15728.495922905857 and parameters: {'penalty': 'l2', 'C': 0.8583422683695747, 'max_iter': 586}. Best is trial 7 with value: 15730.496045477013.\u001b[0m\n",
      "\u001b[32m[I 2023-02-21 21:05:07,981]\u001b[0m Trial 26 finished with value: 15728.495737056715 and parameters: {'penalty': 'l2', 'C': 0.87723328285712, 'max_iter': 591}. Best is trial 7 with value: 15730.496045477013.\u001b[0m\n",
      "\u001b[32m[I 2023-02-21 21:05:08,001]\u001b[0m Trial 22 finished with value: 15728.495737056715 and parameters: {'penalty': 'l2', 'C': 0.8594062617156379, 'max_iter': 596}. Best is trial 7 with value: 15730.496045477013.\u001b[0m\n",
      "\u001b[32m[I 2023-02-21 21:05:08,046]\u001b[0m Trial 27 finished with value: 15730.496045477013 and parameters: {'penalty': 'l2', 'C': 0.849348842366166, 'max_iter': 598}. Best is trial 7 with value: 15730.496045477013.\u001b[0m\n",
      "\u001b[32m[I 2023-02-21 21:05:08,097]\u001b[0m Trial 21 finished with value: 15728.495737056715 and parameters: {'penalty': 'l2', 'C': 0.8746943207750268, 'max_iter': 595}. Best is trial 7 with value: 15730.496045477013.\u001b[0m\n",
      "\u001b[32m[I 2023-02-21 21:05:08,698]\u001b[0m Trial 23 finished with value: 15322.585248937792 and parameters: {'penalty': 'l2', 'C': 0.8658161875525069, 'max_iter': 593}. Best is trial 7 with value: 15730.496045477013.\u001b[0m\n",
      "\u001b[32m[I 2023-02-21 21:05:09,748]\u001b[0m Trial 29 finished with value: 15729.49561240885 and parameters: {'penalty': 'l2', 'C': 0.657697723427855, 'max_iter': 527}. Best is trial 7 with value: 15730.496045477013.\u001b[0m\n",
      "\u001b[32m[I 2023-02-21 21:05:09,760]\u001b[0m Trial 32 finished with value: 15728.495922905857 and parameters: {'penalty': 'l2', 'C': 0.636163266503479, 'max_iter': 524}. Best is trial 7 with value: 15730.496045477013.\u001b[0m\n",
      "\u001b[32m[I 2023-02-21 21:05:09,770]\u001b[0m Trial 28 finished with value: 15728.495737056715 and parameters: {'penalty': 'l2', 'C': 0.6620082642640177, 'max_iter': 533}. Best is trial 7 with value: 15730.496045477013.\u001b[0m\n",
      "\u001b[32m[I 2023-02-21 21:05:09,873]\u001b[0m Trial 31 finished with value: 15730.496045477013 and parameters: {'penalty': 'l2', 'C': 0.6574983991853315, 'max_iter': 533}. Best is trial 7 with value: 15730.496045477013.\u001b[0m\n",
      "\u001b[32m[I 2023-02-21 21:05:09,889]\u001b[0m Trial 30 finished with value: 15729.495798319327 and parameters: {'penalty': 'l2', 'C': 0.6576854818447634, 'max_iter': 533}. Best is trial 7 with value: 15730.496045477013.\u001b[0m\n",
      "\u001b[32m[I 2023-02-21 21:05:09,951]\u001b[0m Trial 33 finished with value: 15728.495922905857 and parameters: {'penalty': 'l2', 'C': 0.6638120342453566, 'max_iter': 520}. Best is trial 7 with value: 15730.496045477013.\u001b[0m\n",
      "\u001b[32m[I 2023-02-21 21:05:10,436]\u001b[0m Trial 24 finished with value: 15414.594576792184 and parameters: {'penalty': 'l2', 'C': 0.8724339850196202, 'max_iter': 596}. Best is trial 7 with value: 15730.496045477013.\u001b[0m\n",
      "\u001b[32m[I 2023-02-21 21:05:10,657]\u001b[0m Trial 34 finished with value: 15728.49610870908 and parameters: {'penalty': 'l2', 'C': 0.628181796927619, 'max_iter': 521}. Best is trial 7 with value: 15730.496045477013.\u001b[0m\n",
      "\u001b[32m[I 2023-02-21 21:05:11,190]\u001b[0m Trial 36 finished with value: 15728.495922905857 and parameters: {'penalty': 'l2', 'C': 0.7727524654480561, 'max_iter': 567}. Best is trial 7 with value: 15730.496045477013.\u001b[0m\n",
      "\u001b[32m[I 2023-02-21 21:05:11,212]\u001b[0m Trial 38 finished with value: 15728.495922905857 and parameters: {'penalty': 'l2', 'C': 0.49330542120787363, 'max_iter': 513}. Best is trial 7 with value: 15730.496045477013.\u001b[0m\n",
      "\u001b[32m[I 2023-02-21 21:05:11,219]\u001b[0m Trial 37 finished with value: 15728.495737056715 and parameters: {'penalty': 'l2', 'C': 0.7804223576040575, 'max_iter': 512}. Best is trial 7 with value: 15730.496045477013.\u001b[0m\n",
      "\u001b[32m[I 2023-02-21 21:05:11,224]\u001b[0m Trial 35 finished with value: 15729.49561240885 and parameters: {'penalty': 'l2', 'C': 0.7514043459671461, 'max_iter': 522}. Best is trial 7 with value: 15730.496045477013.\u001b[0m\n",
      "\u001b[32m[I 2023-02-21 21:05:11,227]\u001b[0m Trial 39 finished with value: 15728.495922905857 and parameters: {'penalty': 'l2', 'C': 0.49859668213372343, 'max_iter': 511}. Best is trial 7 with value: 15730.496045477013.\u001b[0m\n"
     ]
    }
   ],
   "source": [
    "obj.fit(X_train,y_train)\n",
    "y_pred = obj.predict(X_test)"
   ]
  },
  {
   "cell_type": "markdown",
   "metadata": {},
   "source": [
    "#### Check performance of the model"
   ]
  },
  {
   "cell_type": "code",
   "execution_count": 16,
   "metadata": {},
   "outputs": [
    {
     "name": "stdout",
     "output_type": "stream",
     "text": [
      "F1 score plus TN : \n",
      "7852.493884985688\n",
      "F1 score : \n",
      "0.4938849856882644\n",
      "Classification report : \n",
      "              precision    recall  f1-score   support\n",
      "\n",
      "           0       0.83      0.96      0.89      8196\n",
      "           1       0.73      0.37      0.49      2550\n",
      "\n",
      "    accuracy                           0.82     10746\n",
      "   macro avg       0.78      0.67      0.69     10746\n",
      "weighted avg       0.81      0.82      0.80     10746\n",
      "\n",
      "Confusion matrix : \n",
      "[[7852  344]\n",
      " [1601  949]]\n"
     ]
    }
   ],
   "source": [
    "\n",
    "print('F1 score plus TN : ')\n",
    "print(f1_plus_tn(y_test,pred_labels))\n",
    "print('F1 score : ')\n",
    "print(f1_score(y_test,pred_labels))\n",
    "print('Classification report : ')\n",
    "print(classification_report(y_test,pred_labels))\n",
    "print('Confusion matrix : ')\n",
    "print(confusion_matrix(y_test,pred_labels))"
   ]
  },
  {
   "cell_type": "code",
   "execution_count": 17,
   "metadata": {},
   "outputs": [
    {
     "data": {
      "text/plain": [
       "<interpret.glassbox.linear.LogisticRegression at 0x140f4a9e0>"
      ]
     },
     "execution_count": 17,
     "metadata": {},
     "output_type": "execute_result"
    }
   ],
   "source": [
    "obj.get_best_estimator()"
   ]
  },
  {
   "cell_type": "code",
   "execution_count": 18,
   "metadata": {},
   "outputs": [
    {
     "data": {
      "text/plain": [
       "<interpret.glassbox.linear.LogisticRegression at 0x140f4a9e0>"
      ]
     },
     "execution_count": 18,
     "metadata": {},
     "output_type": "execute_result"
    }
   ],
   "source": [
    "obj.best_estimator"
   ]
  },
  {
   "cell_type": "markdown",
   "metadata": {},
   "source": [
    "#### Get fitted randomized search object and its attributes"
   ]
  },
  {
   "cell_type": "code",
   "execution_count": 19,
   "metadata": {},
   "outputs": [
    {
     "data": {
      "text/plain": [
       "[FrozenTrial(number=0, values=[15323.585312704294], datetime_start=datetime.datetime(2023, 2, 21, 21, 5, 1, 91545), datetime_complete=datetime.datetime(2023, 2, 21, 21, 5, 3, 273687), params={'penalty': 'l2', 'C': 0.4303715896801801, 'max_iter': 676}, distributions={'penalty': CategoricalDistribution(choices=('l2',)), 'C': UniformDistribution(high=1.0, low=0.1), 'max_iter': IntUniformDistribution(high=700, low=500, step=1)}, user_attrs={}, system_attrs={}, intermediate_values={}, trial_id=0, state=TrialState.COMPLETE, value=None),\n",
       " FrozenTrial(number=1, values=[15728.495737056715], datetime_start=datetime.datetime(2023, 2, 21, 21, 5, 1, 93549), datetime_complete=datetime.datetime(2023, 2, 21, 21, 5, 2, 674234), params={'penalty': 'l2', 'C': 0.29809905290948, 'max_iter': 543}, distributions={'penalty': CategoricalDistribution(choices=('l2',)), 'C': UniformDistribution(high=1.0, low=0.1), 'max_iter': IntUniformDistribution(high=700, low=500, step=1)}, user_attrs={}, system_attrs={}, intermediate_values={}, trial_id=1, state=TrialState.COMPLETE, value=None),\n",
       " FrozenTrial(number=2, values=[15728.495737056715], datetime_start=datetime.datetime(2023, 2, 21, 21, 5, 1, 94851), datetime_complete=datetime.datetime(2023, 2, 21, 21, 5, 2, 865422), params={'penalty': 'l2', 'C': 0.23132764526634592, 'max_iter': 637}, distributions={'penalty': CategoricalDistribution(choices=('l2',)), 'C': UniformDistribution(high=1.0, low=0.1), 'max_iter': IntUniformDistribution(high=700, low=500, step=1)}, user_attrs={}, system_attrs={}, intermediate_values={}, trial_id=2, state=TrialState.COMPLETE, value=None),\n",
       " FrozenTrial(number=3, values=[15728.495922905857], datetime_start=datetime.datetime(2023, 2, 21, 21, 5, 1, 95930), datetime_complete=datetime.datetime(2023, 2, 21, 21, 5, 2, 727086), params={'penalty': 'l2', 'C': 0.52406508711269, 'max_iter': 502}, distributions={'penalty': CategoricalDistribution(choices=('l2',)), 'C': UniformDistribution(high=1.0, low=0.1), 'max_iter': IntUniformDistribution(high=700, low=500, step=1)}, user_attrs={}, system_attrs={}, intermediate_values={}, trial_id=3, state=TrialState.COMPLETE, value=None),\n",
       " FrozenTrial(number=4, values=[15728.495737056715], datetime_start=datetime.datetime(2023, 2, 21, 21, 5, 1, 96977), datetime_complete=datetime.datetime(2023, 2, 21, 21, 5, 2, 694234), params={'penalty': 'l2', 'C': 0.38201587010084825, 'max_iter': 691}, distributions={'penalty': CategoricalDistribution(choices=('l2',)), 'C': UniformDistribution(high=1.0, low=0.1), 'max_iter': IntUniformDistribution(high=700, low=500, step=1)}, user_attrs={}, system_attrs={}, intermediate_values={}, trial_id=4, state=TrialState.COMPLETE, value=None),\n",
       " FrozenTrial(number=5, values=[15728.49555116164], datetime_start=datetime.datetime(2023, 2, 21, 21, 5, 1, 100449), datetime_complete=datetime.datetime(2023, 2, 21, 21, 5, 2, 803321), params={'penalty': 'l2', 'C': 0.9876547370793338, 'max_iter': 564}, distributions={'penalty': CategoricalDistribution(choices=('l2',)), 'C': UniformDistribution(high=1.0, low=0.1), 'max_iter': IntUniformDistribution(high=700, low=500, step=1)}, user_attrs={}, system_attrs={}, intermediate_values={}, trial_id=5, state=TrialState.COMPLETE, value=None),\n",
       " FrozenTrial(number=6, values=[15729.495798319327], datetime_start=datetime.datetime(2023, 2, 21, 21, 5, 1, 102046), datetime_complete=datetime.datetime(2023, 2, 21, 21, 5, 2, 707005), params={'penalty': 'l2', 'C': 0.11153266444582588, 'max_iter': 690}, distributions={'penalty': CategoricalDistribution(choices=('l2',)), 'C': UniformDistribution(high=1.0, low=0.1), 'max_iter': IntUniformDistribution(high=700, low=500, step=1)}, user_attrs={}, system_attrs={}, intermediate_values={}, trial_id=6, state=TrialState.COMPLETE, value=None),\n",
       " FrozenTrial(number=7, values=[15730.496045477013], datetime_start=datetime.datetime(2023, 2, 21, 21, 5, 1, 103964), datetime_complete=datetime.datetime(2023, 2, 21, 21, 5, 3, 66348), params={'penalty': 'l2', 'C': 0.719627501356973, 'max_iter': 529}, distributions={'penalty': CategoricalDistribution(choices=('l2',)), 'C': UniformDistribution(high=1.0, low=0.1), 'max_iter': IntUniformDistribution(high=700, low=500, step=1)}, user_attrs={}, system_attrs={}, intermediate_values={}, trial_id=7, state=TrialState.COMPLETE, value=None),\n",
       " FrozenTrial(number=8, values=[15728.495737056715], datetime_start=datetime.datetime(2023, 2, 21, 21, 5, 2, 679716), datetime_complete=datetime.datetime(2023, 2, 21, 21, 5, 4, 424533), params={'penalty': 'l2', 'C': 0.4555328196840308, 'max_iter': 632}, distributions={'penalty': CategoricalDistribution(choices=('l2',)), 'C': UniformDistribution(high=1.0, low=0.1), 'max_iter': IntUniformDistribution(high=700, low=500, step=1)}, user_attrs={}, system_attrs={}, intermediate_values={}, trial_id=8, state=TrialState.COMPLETE, value=None),\n",
       " FrozenTrial(number=9, values=[15730.496045477013], datetime_start=datetime.datetime(2023, 2, 21, 21, 5, 2, 699663), datetime_complete=datetime.datetime(2023, 2, 21, 21, 5, 4, 603954), params={'penalty': 'l2', 'C': 0.7426631243710438, 'max_iter': 575}, distributions={'penalty': CategoricalDistribution(choices=('l2',)), 'C': UniformDistribution(high=1.0, low=0.1), 'max_iter': IntUniformDistribution(high=700, low=500, step=1)}, user_attrs={}, system_attrs={}, intermediate_values={}, trial_id=9, state=TrialState.COMPLETE, value=None),\n",
       " FrozenTrial(number=10, values=[15414.594576792184], datetime_start=datetime.datetime(2023, 2, 21, 21, 5, 2, 713400), datetime_complete=datetime.datetime(2023, 2, 21, 21, 5, 5, 125113), params={'penalty': 'l2', 'C': 0.565593605722189, 'max_iter': 696}, distributions={'penalty': CategoricalDistribution(choices=('l2',)), 'C': UniformDistribution(high=1.0, low=0.1), 'max_iter': IntUniformDistribution(high=700, low=500, step=1)}, user_attrs={}, system_attrs={}, intermediate_values={}, trial_id=10, state=TrialState.COMPLETE, value=None),\n",
       " FrozenTrial(number=11, values=[15322.585248937792], datetime_start=datetime.datetime(2023, 2, 21, 21, 5, 2, 732799), datetime_complete=datetime.datetime(2023, 2, 21, 21, 5, 4, 502798), params={'penalty': 'l2', 'C': 0.31725477910588673, 'max_iter': 663}, distributions={'penalty': CategoricalDistribution(choices=('l2',)), 'C': UniformDistribution(high=1.0, low=0.1), 'max_iter': IntUniformDistribution(high=700, low=500, step=1)}, user_attrs={}, system_attrs={}, intermediate_values={}, trial_id=11, state=TrialState.COMPLETE, value=None),\n",
       " FrozenTrial(number=12, values=[15730.496045477013], datetime_start=datetime.datetime(2023, 2, 21, 21, 5, 2, 821111), datetime_complete=datetime.datetime(2023, 2, 21, 21, 5, 4, 553372), params={'penalty': 'l2', 'C': 0.7152523757336685, 'max_iter': 548}, distributions={'penalty': CategoricalDistribution(choices=('l2',)), 'C': UniformDistribution(high=1.0, low=0.1), 'max_iter': IntUniformDistribution(high=700, low=500, step=1)}, user_attrs={}, system_attrs={}, intermediate_values={}, trial_id=12, state=TrialState.COMPLETE, value=None),\n",
       " FrozenTrial(number=13, values=[15728.495737056715], datetime_start=datetime.datetime(2023, 2, 21, 21, 5, 2, 882021), datetime_complete=datetime.datetime(2023, 2, 21, 21, 5, 4, 520007), params={'penalty': 'l2', 'C': 0.9769856625620768, 'max_iter': 550}, distributions={'penalty': CategoricalDistribution(choices=('l2',)), 'C': UniformDistribution(high=1.0, low=0.1), 'max_iter': IntUniformDistribution(high=700, low=500, step=1)}, user_attrs={}, system_attrs={}, intermediate_values={}, trial_id=13, state=TrialState.COMPLETE, value=None),\n",
       " FrozenTrial(number=14, values=[15728.495737056715], datetime_start=datetime.datetime(2023, 2, 21, 21, 5, 3, 73523), datetime_complete=datetime.datetime(2023, 2, 21, 21, 5, 4, 742455), params={'penalty': 'l2', 'C': 0.40471478232218794, 'max_iter': 503}, distributions={'penalty': CategoricalDistribution(choices=('l2',)), 'C': UniformDistribution(high=1.0, low=0.1), 'max_iter': IntUniformDistribution(high=700, low=500, step=1)}, user_attrs={}, system_attrs={}, intermediate_values={}, trial_id=14, state=TrialState.COMPLETE, value=None),\n",
       " FrozenTrial(number=15, values=[15722.495555555555], datetime_start=datetime.datetime(2023, 2, 21, 21, 5, 3, 280514), datetime_complete=datetime.datetime(2023, 2, 21, 21, 5, 5, 30248), params={'penalty': 'l2', 'C': 0.5975904904095583, 'max_iter': 680}, distributions={'penalty': CategoricalDistribution(choices=('l2',)), 'C': UniformDistribution(high=1.0, low=0.1), 'max_iter': IntUniformDistribution(high=700, low=500, step=1)}, user_attrs={}, system_attrs={}, intermediate_values={}, trial_id=15, state=TrialState.COMPLETE, value=None),\n",
       " FrozenTrial(number=16, values=[15727.49586164299], datetime_start=datetime.datetime(2023, 2, 21, 21, 5, 4, 430425), datetime_complete=datetime.datetime(2023, 2, 21, 21, 5, 5, 652600), params={'penalty': 'l2', 'C': 0.818359883370234, 'max_iter': 616}, distributions={'penalty': CategoricalDistribution(choices=('l2',)), 'C': UniformDistribution(high=1.0, low=0.1), 'max_iter': IntUniformDistribution(high=700, low=500, step=1)}, user_attrs={}, system_attrs={}, intermediate_values={}, trial_id=16, state=TrialState.COMPLETE, value=None),\n",
       " FrozenTrial(number=17, values=[15728.495922905857], datetime_start=datetime.datetime(2023, 2, 21, 21, 5, 4, 509502), datetime_complete=datetime.datetime(2023, 2, 21, 21, 5, 5, 663761), params={'penalty': 'l2', 'C': 0.7639816228077785, 'max_iter': 575}, distributions={'penalty': CategoricalDistribution(choices=('l2',)), 'C': UniformDistribution(high=1.0, low=0.1), 'max_iter': IntUniformDistribution(high=700, low=500, step=1)}, user_attrs={}, system_attrs={}, intermediate_values={}, trial_id=17, state=TrialState.COMPLETE, value=None),\n",
       " FrozenTrial(number=18, values=[15728.495737056715], datetime_start=datetime.datetime(2023, 2, 21, 21, 5, 4, 526620), datetime_complete=datetime.datetime(2023, 2, 21, 21, 5, 5, 658439), params={'penalty': 'l2', 'C': 0.6760287775604905, 'max_iter': 590}, distributions={'penalty': CategoricalDistribution(choices=('l2',)), 'C': UniformDistribution(high=1.0, low=0.1), 'max_iter': IntUniformDistribution(high=700, low=500, step=1)}, user_attrs={}, system_attrs={}, intermediate_values={}, trial_id=18, state=TrialState.COMPLETE, value=None),\n",
       " FrozenTrial(number=19, values=[15730.496045477013], datetime_start=datetime.datetime(2023, 2, 21, 21, 5, 4, 568391), datetime_complete=datetime.datetime(2023, 2, 21, 21, 5, 5, 666904), params={'penalty': 'l2', 'C': 0.7267010543344161, 'max_iter': 511}, distributions={'penalty': CategoricalDistribution(choices=('l2',)), 'C': UniformDistribution(high=1.0, low=0.1), 'max_iter': IntUniformDistribution(high=700, low=500, step=1)}, user_attrs={}, system_attrs={}, intermediate_values={}, trial_id=19, state=TrialState.COMPLETE, value=None),\n",
       " FrozenTrial(number=20, values=[15728.495922905857], datetime_start=datetime.datetime(2023, 2, 21, 21, 5, 6, 399753), datetime_complete=datetime.datetime(2023, 2, 21, 21, 5, 7, 977779), params={'penalty': 'l2', 'C': 0.8583422683695747, 'max_iter': 586}, distributions={'penalty': CategoricalDistribution(choices=('l2',)), 'C': UniformDistribution(high=1.0, low=0.1), 'max_iter': IntUniformDistribution(high=700, low=500, step=1)}, user_attrs={}, system_attrs={}, intermediate_values={}, trial_id=20, state=TrialState.COMPLETE, value=None),\n",
       " FrozenTrial(number=21, values=[15728.495737056715], datetime_start=datetime.datetime(2023, 2, 21, 21, 5, 6, 403159), datetime_complete=datetime.datetime(2023, 2, 21, 21, 5, 8, 97318), params={'penalty': 'l2', 'C': 0.8746943207750268, 'max_iter': 595}, distributions={'penalty': CategoricalDistribution(choices=('l2',)), 'C': UniformDistribution(high=1.0, low=0.1), 'max_iter': IntUniformDistribution(high=700, low=500, step=1)}, user_attrs={}, system_attrs={}, intermediate_values={}, trial_id=21, state=TrialState.COMPLETE, value=None),\n",
       " FrozenTrial(number=22, values=[15728.495737056715], datetime_start=datetime.datetime(2023, 2, 21, 21, 5, 6, 408390), datetime_complete=datetime.datetime(2023, 2, 21, 21, 5, 8, 1195), params={'penalty': 'l2', 'C': 0.8594062617156379, 'max_iter': 596}, distributions={'penalty': CategoricalDistribution(choices=('l2',)), 'C': UniformDistribution(high=1.0, low=0.1), 'max_iter': IntUniformDistribution(high=700, low=500, step=1)}, user_attrs={}, system_attrs={}, intermediate_values={}, trial_id=22, state=TrialState.COMPLETE, value=None),\n",
       " FrozenTrial(number=23, values=[15322.585248937792], datetime_start=datetime.datetime(2023, 2, 21, 21, 5, 6, 410192), datetime_complete=datetime.datetime(2023, 2, 21, 21, 5, 8, 698505), params={'penalty': 'l2', 'C': 0.8658161875525069, 'max_iter': 593}, distributions={'penalty': CategoricalDistribution(choices=('l2',)), 'C': UniformDistribution(high=1.0, low=0.1), 'max_iter': IntUniformDistribution(high=700, low=500, step=1)}, user_attrs={}, system_attrs={}, intermediate_values={}, trial_id=23, state=TrialState.COMPLETE, value=None),\n",
       " FrozenTrial(number=24, values=[15414.594576792184], datetime_start=datetime.datetime(2023, 2, 21, 21, 5, 6, 416239), datetime_complete=datetime.datetime(2023, 2, 21, 21, 5, 10, 436153), params={'penalty': 'l2', 'C': 0.8724339850196202, 'max_iter': 596}, distributions={'penalty': CategoricalDistribution(choices=('l2',)), 'C': UniformDistribution(high=1.0, low=0.1), 'max_iter': IntUniformDistribution(high=700, low=500, step=1)}, user_attrs={}, system_attrs={}, intermediate_values={}, trial_id=24, state=TrialState.COMPLETE, value=None),\n",
       " FrozenTrial(number=25, values=[15728.495737056715], datetime_start=datetime.datetime(2023, 2, 21, 21, 5, 6, 422947), datetime_complete=datetime.datetime(2023, 2, 21, 21, 5, 7, 972791), params={'penalty': 'l2', 'C': 0.8416819718282575, 'max_iter': 603}, distributions={'penalty': CategoricalDistribution(choices=('l2',)), 'C': UniformDistribution(high=1.0, low=0.1), 'max_iter': IntUniformDistribution(high=700, low=500, step=1)}, user_attrs={}, system_attrs={}, intermediate_values={}, trial_id=25, state=TrialState.COMPLETE, value=None),\n",
       " FrozenTrial(number=26, values=[15728.495737056715], datetime_start=datetime.datetime(2023, 2, 21, 21, 5, 6, 423792), datetime_complete=datetime.datetime(2023, 2, 21, 21, 5, 7, 981201), params={'penalty': 'l2', 'C': 0.87723328285712, 'max_iter': 591}, distributions={'penalty': CategoricalDistribution(choices=('l2',)), 'C': UniformDistribution(high=1.0, low=0.1), 'max_iter': IntUniformDistribution(high=700, low=500, step=1)}, user_attrs={}, system_attrs={}, intermediate_values={}, trial_id=26, state=TrialState.COMPLETE, value=None),\n",
       " FrozenTrial(number=27, values=[15730.496045477013], datetime_start=datetime.datetime(2023, 2, 21, 21, 5, 6, 431538), datetime_complete=datetime.datetime(2023, 2, 21, 21, 5, 8, 46785), params={'penalty': 'l2', 'C': 0.849348842366166, 'max_iter': 598}, distributions={'penalty': CategoricalDistribution(choices=('l2',)), 'C': UniformDistribution(high=1.0, low=0.1), 'max_iter': IntUniformDistribution(high=700, low=500, step=1)}, user_attrs={}, system_attrs={}, intermediate_values={}, trial_id=27, state=TrialState.COMPLETE, value=None),\n",
       " FrozenTrial(number=28, values=[15728.495737056715], datetime_start=datetime.datetime(2023, 2, 21, 21, 5, 7, 977109), datetime_complete=datetime.datetime(2023, 2, 21, 21, 5, 9, 770098), params={'penalty': 'l2', 'C': 0.6620082642640177, 'max_iter': 533}, distributions={'penalty': CategoricalDistribution(choices=('l2',)), 'C': UniformDistribution(high=1.0, low=0.1), 'max_iter': IntUniformDistribution(high=700, low=500, step=1)}, user_attrs={}, system_attrs={}, intermediate_values={}, trial_id=28, state=TrialState.COMPLETE, value=None),\n",
       " FrozenTrial(number=29, values=[15729.49561240885], datetime_start=datetime.datetime(2023, 2, 21, 21, 5, 7, 986262), datetime_complete=datetime.datetime(2023, 2, 21, 21, 5, 9, 748220), params={'penalty': 'l2', 'C': 0.657697723427855, 'max_iter': 527}, distributions={'penalty': CategoricalDistribution(choices=('l2',)), 'C': UniformDistribution(high=1.0, low=0.1), 'max_iter': IntUniformDistribution(high=700, low=500, step=1)}, user_attrs={}, system_attrs={}, intermediate_values={}, trial_id=29, state=TrialState.COMPLETE, value=None),\n",
       " FrozenTrial(number=30, values=[15729.495798319327], datetime_start=datetime.datetime(2023, 2, 21, 21, 5, 7, 993726), datetime_complete=datetime.datetime(2023, 2, 21, 21, 5, 9, 889156), params={'penalty': 'l2', 'C': 0.6576854818447634, 'max_iter': 533}, distributions={'penalty': CategoricalDistribution(choices=('l2',)), 'C': UniformDistribution(high=1.0, low=0.1), 'max_iter': IntUniformDistribution(high=700, low=500, step=1)}, user_attrs={}, system_attrs={}, intermediate_values={}, trial_id=30, state=TrialState.COMPLETE, value=None),\n",
       " FrozenTrial(number=31, values=[15730.496045477013], datetime_start=datetime.datetime(2023, 2, 21, 21, 5, 8, 9118), datetime_complete=datetime.datetime(2023, 2, 21, 21, 5, 9, 872947), params={'penalty': 'l2', 'C': 0.6574983991853315, 'max_iter': 533}, distributions={'penalty': CategoricalDistribution(choices=('l2',)), 'C': UniformDistribution(high=1.0, low=0.1), 'max_iter': IntUniformDistribution(high=700, low=500, step=1)}, user_attrs={}, system_attrs={}, intermediate_values={}, trial_id=31, state=TrialState.COMPLETE, value=None),\n",
       " FrozenTrial(number=32, values=[15728.495922905857], datetime_start=datetime.datetime(2023, 2, 21, 21, 5, 8, 57511), datetime_complete=datetime.datetime(2023, 2, 21, 21, 5, 9, 759720), params={'penalty': 'l2', 'C': 0.636163266503479, 'max_iter': 524}, distributions={'penalty': CategoricalDistribution(choices=('l2',)), 'C': UniformDistribution(high=1.0, low=0.1), 'max_iter': IntUniformDistribution(high=700, low=500, step=1)}, user_attrs={}, system_attrs={}, intermediate_values={}, trial_id=32, state=TrialState.COMPLETE, value=None),\n",
       " FrozenTrial(number=33, values=[15728.495922905857], datetime_start=datetime.datetime(2023, 2, 21, 21, 5, 8, 103880), datetime_complete=datetime.datetime(2023, 2, 21, 21, 5, 9, 950839), params={'penalty': 'l2', 'C': 0.6638120342453566, 'max_iter': 520}, distributions={'penalty': CategoricalDistribution(choices=('l2',)), 'C': UniformDistribution(high=1.0, low=0.1), 'max_iter': IntUniformDistribution(high=700, low=500, step=1)}, user_attrs={}, system_attrs={}, intermediate_values={}, trial_id=33, state=TrialState.COMPLETE, value=None),\n",
       " FrozenTrial(number=34, values=[15728.49610870908], datetime_start=datetime.datetime(2023, 2, 21, 21, 5, 8, 709389), datetime_complete=datetime.datetime(2023, 2, 21, 21, 5, 10, 656841), params={'penalty': 'l2', 'C': 0.628181796927619, 'max_iter': 521}, distributions={'penalty': CategoricalDistribution(choices=('l2',)), 'C': UniformDistribution(high=1.0, low=0.1), 'max_iter': IntUniformDistribution(high=700, low=500, step=1)}, user_attrs={}, system_attrs={}, intermediate_values={}, trial_id=34, state=TrialState.COMPLETE, value=None),\n",
       " FrozenTrial(number=35, values=[15729.49561240885], datetime_start=datetime.datetime(2023, 2, 21, 21, 5, 9, 753926), datetime_complete=datetime.datetime(2023, 2, 21, 21, 5, 11, 224261), params={'penalty': 'l2', 'C': 0.7514043459671461, 'max_iter': 522}, distributions={'penalty': CategoricalDistribution(choices=('l2',)), 'C': UniformDistribution(high=1.0, low=0.1), 'max_iter': IntUniformDistribution(high=700, low=500, step=1)}, user_attrs={}, system_attrs={}, intermediate_values={}, trial_id=35, state=TrialState.COMPLETE, value=None),\n",
       " FrozenTrial(number=36, values=[15728.495922905857], datetime_start=datetime.datetime(2023, 2, 21, 21, 5, 9, 767120), datetime_complete=datetime.datetime(2023, 2, 21, 21, 5, 11, 190733), params={'penalty': 'l2', 'C': 0.7727524654480561, 'max_iter': 567}, distributions={'penalty': CategoricalDistribution(choices=('l2',)), 'C': UniformDistribution(high=1.0, low=0.1), 'max_iter': IntUniformDistribution(high=700, low=500, step=1)}, user_attrs={}, system_attrs={}, intermediate_values={}, trial_id=36, state=TrialState.COMPLETE, value=None),\n",
       " FrozenTrial(number=37, values=[15728.495737056715], datetime_start=datetime.datetime(2023, 2, 21, 21, 5, 9, 778325), datetime_complete=datetime.datetime(2023, 2, 21, 21, 5, 11, 218883), params={'penalty': 'l2', 'C': 0.7804223576040575, 'max_iter': 512}, distributions={'penalty': CategoricalDistribution(choices=('l2',)), 'C': UniformDistribution(high=1.0, low=0.1), 'max_iter': IntUniformDistribution(high=700, low=500, step=1)}, user_attrs={}, system_attrs={}, intermediate_values={}, trial_id=37, state=TrialState.COMPLETE, value=None),\n",
       " FrozenTrial(number=38, values=[15728.495922905857], datetime_start=datetime.datetime(2023, 2, 21, 21, 5, 9, 890364), datetime_complete=datetime.datetime(2023, 2, 21, 21, 5, 11, 211828), params={'penalty': 'l2', 'C': 0.49330542120787363, 'max_iter': 513}, distributions={'penalty': CategoricalDistribution(choices=('l2',)), 'C': UniformDistribution(high=1.0, low=0.1), 'max_iter': IntUniformDistribution(high=700, low=500, step=1)}, user_attrs={}, system_attrs={}, intermediate_values={}, trial_id=38, state=TrialState.COMPLETE, value=None),\n",
       " FrozenTrial(number=39, values=[15728.495922905857], datetime_start=datetime.datetime(2023, 2, 21, 21, 5, 9, 907989), datetime_complete=datetime.datetime(2023, 2, 21, 21, 5, 11, 227611), params={'penalty': 'l2', 'C': 0.49859668213372343, 'max_iter': 511}, distributions={'penalty': CategoricalDistribution(choices=('l2',)), 'C': UniformDistribution(high=1.0, low=0.1), 'max_iter': IntUniformDistribution(high=700, low=500, step=1)}, user_attrs={}, system_attrs={}, intermediate_values={}, trial_id=39, state=TrialState.COMPLETE, value=None)]"
      ]
     },
     "execution_count": 19,
     "metadata": {},
     "output_type": "execute_result"
    }
   ],
   "source": [
    "OptunaObj = obj.get_optimized_object()\n",
    "OptunaObj.trials"
   ]
  },
  {
   "cell_type": "code",
   "execution_count": 20,
   "metadata": {},
   "outputs": [
    {
     "name": "stdout",
     "output_type": "stream",
     "text": [
      "2023-02-21 21:05:11,801 :: interpret.provider.visualize :: Detected non-cloud environment.\n",
      "2023-02-21 21:05:11,986 :: urllib3.connectionpool :: Starting new HTTP connection (1): 127.0.0.1:7001\n",
      "2023-02-21 21:05:11,990 :: interpret.visual.udash :: Generating mini dash\n",
      "2023-02-21 21:05:12,002 :: interpret.visual.udash :: Generated mini dash\n"
     ]
    },
    {
     "data": {
      "text/html": [
       "<!-- http://127.0.0.1:7001/5384743056/ -->\n",
       "<iframe src=\"http://127.0.0.1:7001/5384743056/\" width=100% height=800 frameBorder=\"0\"></iframe>"
      ]
     },
     "metadata": {},
     "output_type": "display_data"
    }
   ],
   "source": [
    "lr_global = obj.get_best_estimator().explain_global()\n",
    "show(lr_global)\n"
   ]
  },
  {
   "cell_type": "code",
   "execution_count": 21,
   "metadata": {},
   "outputs": [
    {
     "name": "stdout",
     "output_type": "stream",
     "text": [
      "2023-02-21 21:05:12,040 :: urllib3.connectionpool :: Starting new HTTP connection (1): 127.0.0.1:7001\n",
      "2023-02-21 21:05:12,044 :: urllib3.connectionpool :: http://127.0.0.1:7001 \"GET / HTTP/1.1\" 200 2067\n",
      "2023-02-21 21:05:12,046 :: interpret.visual.udash :: Generating mini dash\n",
      "2023-02-21 21:05:12,066 :: interpret.visual.udash :: Generated mini dash\n"
     ]
    },
    {
     "data": {
      "text/html": [
       "<!-- http://127.0.0.1:7001/5493858912/ -->\n",
       "<iframe src=\"http://127.0.0.1:7001/5493858912/\" width=100% height=800 frameBorder=\"0\"></iframe>"
      ]
     },
     "metadata": {},
     "output_type": "display_data"
    },
    {
     "name": "stdout",
     "output_type": "stream",
     "text": [
      "2023-02-21 21:05:20,186 :: interpret.visual.udash :: No overall plot to display: -1|LogisticRegression_1\n"
     ]
    }
   ],
   "source": [
    "lr_local = obj.get_best_estimator().explain_local(X_test[:50], y_test[:50])\n",
    "show(lr_local)\n"
   ]
  }
 ],
 "metadata": {
  "kernelspec": {
   "display_name": "Python 3.10.4 ('.venv': poetry)",
   "language": "python",
   "name": "python3"
  },
  "language_info": {
   "codemirror_mode": {
    "name": "ipython",
    "version": 3
   },
   "file_extension": ".py",
   "mimetype": "text/x-python",
   "name": "python",
   "nbconvert_exporter": "python",
   "pygments_lexer": "ipython3",
   "version": "3.10.9"
  },
  "orig_nbformat": 4,
  "vscode": {
   "interpreter": {
    "hash": "7ced68e88e9060e5bcf2eaa5b2d4f8fc97e4d610a52d347137abf879072ffb6d"
   }
  }
 },
 "nbformat": 4,
 "nbformat_minor": 2
}
