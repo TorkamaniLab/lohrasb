{
 "cells": [
  {
   "cell_type": "code",
   "execution_count": 1,
   "metadata": {},
   "outputs": [
    {
     "name": "stderr",
     "output_type": "stream",
     "text": [
      "/Users/hjavedani/Documents/Lohrasb/.venv/lib/python3.10/site-packages/tqdm/auto.py:22: TqdmWarning: IProgress not found. Please update jupyter and ipywidgets. See https://ipywidgets.readthedocs.io/en/stable/user_install.html\n",
      "  from .autonotebook import tqdm as notebook_tqdm\n"
     ]
    }
   ],
   "source": [
    "from lohrasb.best_estimator import BaseModel\n",
    "import xgboost\n",
    "from optuna.pruners import HyperbandPruner\n",
    "from optuna.samplers._tpe.sampler import TPESampler\n",
    "from sklearn.model_selection import KFold,train_test_split\n",
    "import pandas as pd\n",
    "from sklearn.pipeline import Pipeline\n",
    "from feature_engine.imputation import (\n",
    "    CategoricalImputer,\n",
    "    MeanMedianImputer\n",
    "    )\n",
    "from category_encoders import OrdinalEncoder\n",
    "from sklearn.linear_model import LogisticRegression\n",
    "from sklearn.metrics import (\n",
    "    classification_report,\n",
    "    confusion_matrix,\n",
    "    f1_score)"
   ]
  },
  {
   "cell_type": "markdown",
   "metadata": {},
   "source": [
    "# Example 1 : Use Adult Data Set (a classification problem)\n",
    "  \n",
    "https://archive.ics.uci.edu/ml/datasets/Adult"
   ]
  },
  {
   "cell_type": "code",
   "execution_count": 2,
   "metadata": {},
   "outputs": [
    {
     "data": {
      "text/html": [
       "<div>\n",
       "<style scoped>\n",
       "    .dataframe tbody tr th:only-of-type {\n",
       "        vertical-align: middle;\n",
       "    }\n",
       "\n",
       "    .dataframe tbody tr th {\n",
       "        vertical-align: top;\n",
       "    }\n",
       "\n",
       "    .dataframe thead th {\n",
       "        text-align: right;\n",
       "    }\n",
       "</style>\n",
       "<table border=\"1\" class=\"dataframe\">\n",
       "  <thead>\n",
       "    <tr style=\"text-align: right;\">\n",
       "      <th></th>\n",
       "      <th>age</th>\n",
       "      <th>workclass</th>\n",
       "      <th>fnlwgt</th>\n",
       "      <th>education</th>\n",
       "      <th>education-num</th>\n",
       "      <th>marital-status</th>\n",
       "      <th>occupation</th>\n",
       "      <th>relationship</th>\n",
       "      <th>race</th>\n",
       "      <th>sex</th>\n",
       "      <th>capital-gain</th>\n",
       "      <th>capital-loss</th>\n",
       "      <th>hours-per-week</th>\n",
       "      <th>native-country</th>\n",
       "      <th>label</th>\n",
       "    </tr>\n",
       "  </thead>\n",
       "  <tbody>\n",
       "    <tr>\n",
       "      <th>0</th>\n",
       "      <td>39</td>\n",
       "      <td>State-gov</td>\n",
       "      <td>77516</td>\n",
       "      <td>Bachelors</td>\n",
       "      <td>13</td>\n",
       "      <td>Never-married</td>\n",
       "      <td>Adm-clerical</td>\n",
       "      <td>Not-in-family</td>\n",
       "      <td>White</td>\n",
       "      <td>Male</td>\n",
       "      <td>2174</td>\n",
       "      <td>0</td>\n",
       "      <td>40</td>\n",
       "      <td>United-States</td>\n",
       "      <td>&lt;=50K</td>\n",
       "    </tr>\n",
       "    <tr>\n",
       "      <th>1</th>\n",
       "      <td>50</td>\n",
       "      <td>Self-emp-not-inc</td>\n",
       "      <td>83311</td>\n",
       "      <td>Bachelors</td>\n",
       "      <td>13</td>\n",
       "      <td>Married-civ-spouse</td>\n",
       "      <td>Exec-managerial</td>\n",
       "      <td>Husband</td>\n",
       "      <td>White</td>\n",
       "      <td>Male</td>\n",
       "      <td>0</td>\n",
       "      <td>0</td>\n",
       "      <td>13</td>\n",
       "      <td>United-States</td>\n",
       "      <td>&lt;=50K</td>\n",
       "    </tr>\n",
       "    <tr>\n",
       "      <th>2</th>\n",
       "      <td>38</td>\n",
       "      <td>Private</td>\n",
       "      <td>215646</td>\n",
       "      <td>HS-grad</td>\n",
       "      <td>9</td>\n",
       "      <td>Divorced</td>\n",
       "      <td>Handlers-cleaners</td>\n",
       "      <td>Not-in-family</td>\n",
       "      <td>White</td>\n",
       "      <td>Male</td>\n",
       "      <td>0</td>\n",
       "      <td>0</td>\n",
       "      <td>40</td>\n",
       "      <td>United-States</td>\n",
       "      <td>&lt;=50K</td>\n",
       "    </tr>\n",
       "    <tr>\n",
       "      <th>3</th>\n",
       "      <td>53</td>\n",
       "      <td>Private</td>\n",
       "      <td>234721</td>\n",
       "      <td>11th</td>\n",
       "      <td>7</td>\n",
       "      <td>Married-civ-spouse</td>\n",
       "      <td>Handlers-cleaners</td>\n",
       "      <td>Husband</td>\n",
       "      <td>Black</td>\n",
       "      <td>Male</td>\n",
       "      <td>0</td>\n",
       "      <td>0</td>\n",
       "      <td>40</td>\n",
       "      <td>United-States</td>\n",
       "      <td>&lt;=50K</td>\n",
       "    </tr>\n",
       "    <tr>\n",
       "      <th>4</th>\n",
       "      <td>28</td>\n",
       "      <td>Private</td>\n",
       "      <td>338409</td>\n",
       "      <td>Bachelors</td>\n",
       "      <td>13</td>\n",
       "      <td>Married-civ-spouse</td>\n",
       "      <td>Prof-specialty</td>\n",
       "      <td>Wife</td>\n",
       "      <td>Black</td>\n",
       "      <td>Female</td>\n",
       "      <td>0</td>\n",
       "      <td>0</td>\n",
       "      <td>40</td>\n",
       "      <td>Cuba</td>\n",
       "      <td>&lt;=50K</td>\n",
       "    </tr>\n",
       "  </tbody>\n",
       "</table>\n",
       "</div>"
      ],
      "text/plain": [
       "   age          workclass  fnlwgt   education  education-num  \\\n",
       "0   39          State-gov   77516   Bachelors             13   \n",
       "1   50   Self-emp-not-inc   83311   Bachelors             13   \n",
       "2   38            Private  215646     HS-grad              9   \n",
       "3   53            Private  234721        11th              7   \n",
       "4   28            Private  338409   Bachelors             13   \n",
       "\n",
       "        marital-status          occupation    relationship    race      sex  \\\n",
       "0        Never-married        Adm-clerical   Not-in-family   White     Male   \n",
       "1   Married-civ-spouse     Exec-managerial         Husband   White     Male   \n",
       "2             Divorced   Handlers-cleaners   Not-in-family   White     Male   \n",
       "3   Married-civ-spouse   Handlers-cleaners         Husband   Black     Male   \n",
       "4   Married-civ-spouse      Prof-specialty            Wife   Black   Female   \n",
       "\n",
       "   capital-gain  capital-loss  hours-per-week  native-country   label  \n",
       "0          2174             0              40   United-States   <=50K  \n",
       "1             0             0              13   United-States   <=50K  \n",
       "2             0             0              40   United-States   <=50K  \n",
       "3             0             0              40   United-States   <=50K  \n",
       "4             0             0              40            Cuba   <=50K  "
      ]
     },
     "execution_count": 2,
     "metadata": {},
     "output_type": "execute_result"
    }
   ],
   "source": [
    "urldata= \"https://archive.ics.uci.edu/ml/machine-learning-databases/adult/adult.data\"\n",
    "# column names\n",
    "col_names=[\"age\", \"workclass\", \"fnlwgt\" , \"education\" ,\"education-num\",\n",
    "\"marital-status\",\"occupation\",\"relationship\",\"race\",\"sex\",\"capital-gain\",\"capital-loss\",\"hours-per-week\",\n",
    "\"native-country\",\"label\"\n",
    "]\n",
    "# read data\n",
    "data = pd.read_csv(urldata,header=None,names=col_names,sep=',')\n",
    "data.head()"
   ]
  },
  {
   "cell_type": "markdown",
   "metadata": {},
   "source": [
    "# Define labels\n"
   ]
  },
  {
   "cell_type": "code",
   "execution_count": 3,
   "metadata": {},
   "outputs": [],
   "source": [
    "data.loc[data['label']=='<=50K','label']=0\n",
    "data.loc[data['label']==' <=50K','label']=0\n",
    "\n",
    "data.loc[data['label']=='>50K','label']=1\n",
    "data.loc[data['label']==' >50K','label']=1\n",
    "\n",
    "data['label']=data['label'].astype(int)"
   ]
  },
  {
   "cell_type": "markdown",
   "metadata": {},
   "source": [
    "# Train test split"
   ]
  },
  {
   "cell_type": "code",
   "execution_count": 4,
   "metadata": {},
   "outputs": [],
   "source": [
    "X = data.loc[:, data.columns != \"label\"]\n",
    "y = data.loc[:, data.columns == \"label\"]\n",
    "\n",
    "\n",
    "X_train, X_test, y_train, y_test =train_test_split(X, y, test_size=0.33, stratify=y['label'], random_state=42)\n"
   ]
  },
  {
   "cell_type": "markdown",
   "metadata": {},
   "source": [
    "# Find feature types for later use"
   ]
  },
  {
   "cell_type": "code",
   "execution_count": 5,
   "metadata": {},
   "outputs": [],
   "source": [
    "int_cols =  X_train.select_dtypes(include=['int']).columns.tolist()\n",
    "float_cols =  X_train.select_dtypes(include=['float']).columns.tolist()\n",
    "cat_cols =  X_train.select_dtypes(include=['object']).columns.tolist()\n"
   ]
  },
  {
   "cell_type": "markdown",
   "metadata": {},
   "source": [
    "# Define estimator and set its arguments \n"
   ]
  },
  {
   "cell_type": "code",
   "execution_count": 6,
   "metadata": {},
   "outputs": [
    {
     "name": "stdout",
     "output_type": "stream",
     "text": [
      "Setting value for estimator\n",
      "Getting value for estimator\n",
      "XGBClassifier(base_score=None, booster=None, callbacks=None,\n",
      "              colsample_bylevel=None, colsample_bynode=None,\n",
      "              colsample_bytree=None, early_stopping_rounds=None,\n",
      "              enable_categorical=False, eval_metric=None, gamma=None,\n",
      "              gpu_id=None, grow_policy=None, importance_type=None,\n",
      "              interaction_constraints=None, learning_rate=None, max_bin=None,\n",
      "              max_cat_to_onehot=None, max_delta_step=None, max_depth=None,\n",
      "              max_leaves=None, min_child_weight=None, missing=nan,\n",
      "              monotone_constraints=None, n_estimators=100, n_jobs=None,\n",
      "              num_parallel_tree=None, predictor=None, random_state=None,\n",
      "              reg_alpha=None, reg_lambda=None, ...)\n",
      "Getting value for estimator\n",
      "Getting value for estimator\n",
      "Getting value for estimator\n",
      "Getting value for estimator\n",
      "Getting value for estimator\n",
      "Getting value for estimator\n",
      "Getting value for estimator\n",
      "Setting value for estimator_params\n",
      "Getting value for estimator\n",
      "Getting value for estimator\n",
      "Setting value for hyper_parameter_optimization_method\n",
      "Setting value for measure_of_accuracy\n",
      "Setting value for test_size\n",
      "Setting value for Cross Validation object\n",
      "Setting value for with_stratified\n",
      "Setting value for verbose\n",
      "Setting value for random_state\n",
      "Setting value for n_jobs\n",
      "Setting value for n_iter\n",
      "Setting value for eval_metric\n",
      "Setting value for number_of_trials\n",
      "Setting value for sampler\n",
      "Setting value for pruner\n",
      "Setting value for best_estimator\n"
     ]
    }
   ],
   "source": [
    "\n",
    "SFC_XGBCLS_GRID = BaseModel(\n",
    "        estimator=xgboost.XGBClassifier(),\n",
    "        estimator_params={\n",
    "            \"max_depth\": [4, 5],\n",
    "            \"min_child_weight\": [0.1, 0.9],\n",
    "            \"gamma\": [1, 9],\n",
    "            \"booster\": [\"gbtree\"],\n",
    "        },\n",
    "        hyper_parameter_optimization_method=\"grid\",\n",
    "        measure_of_accuracy=\"f1\",\n",
    "        test_size=0.33,\n",
    "        cv=KFold(n_splits=3,random_state=42,shuffle=True),\n",
    "        with_stratified=True,\n",
    "        verbose=3,\n",
    "        random_state=42,\n",
    "        n_jobs=-1,\n",
    "        n_iter=100,\n",
    "        eval_metric=\"auc\",\n",
    "        number_of_trials=10,\n",
    "        sampler=TPESampler(),\n",
    "        pruner=HyperbandPruner(),\n",
    "\n",
    "    )\n"
   ]
  },
  {
   "cell_type": "markdown",
   "metadata": {},
   "source": [
    "# Build sklearn Pipeline"
   ]
  },
  {
   "cell_type": "code",
   "execution_count": 7,
   "metadata": {},
   "outputs": [],
   "source": [
    "\n",
    "\n",
    "pipeline =Pipeline([\n",
    "            # int missing values imputers\n",
    "            ('intimputer', MeanMedianImputer(\n",
    "                imputation_method='median', variables=int_cols)),\n",
    "            # category missing values imputers\n",
    "            ('catimputer', CategoricalImputer(variables=cat_cols)),\n",
    "            #\n",
    "            ('catencoder', OrdinalEncoder()),\n",
    "            # classification model\n",
    "            ('xgboost', SFC_XGBCLS_GRID)\n",
    "\n",
    "\n",
    " ])\n"
   ]
  },
  {
   "cell_type": "markdown",
   "metadata": {},
   "source": [
    "# Run Pipeline"
   ]
  },
  {
   "cell_type": "code",
   "execution_count": 8,
   "metadata": {},
   "outputs": [
    {
     "name": "stdout",
     "output_type": "stream",
     "text": [
      "Getting value for hyper_parameter_optimization_method\n",
      "Getting value for estimator\n",
      "Getting value for estimator_params\n",
      "Getting value for measure_of_accuracy\n",
      "Getting value for verbose\n",
      "Getting value for n_jobs\n",
      "Getting value for Cross Validation object\n",
      "Fitting 3 folds for each of 8 candidates, totalling 24 fits\n",
      "[CV 2/3] END booster=gbtree, gamma=1, max_depth=4, min_child_weight=0.1;, score=0.702 total time=   2.0s\n",
      "[CV 1/3] END booster=gbtree, gamma=1, max_depth=4, min_child_weight=0.1;, score=0.714 total time=   2.0s\n",
      "[CV 1/3] END booster=gbtree, gamma=1, max_depth=4, min_child_weight=0.9;, score=0.716 total time=   2.0s\n",
      "[CV 3/3] END booster=gbtree, gamma=1, max_depth=4, min_child_weight=0.1;, score=0.702 total time=   2.0s\n",
      "[CV 3/3] END booster=gbtree, gamma=1, max_depth=4, min_child_weight=0.9;, score=0.699 total time=   2.0s\n",
      "[CV 2/3] END booster=gbtree, gamma=1, max_depth=4, min_child_weight=0.9;, score=0.705 total time=   2.0s\n",
      "[CV 1/3] END booster=gbtree, gamma=1, max_depth=5, min_child_weight=0.1;, score=0.722 total time=   2.5s\n",
      "[CV 2/3] END booster=gbtree, gamma=1, max_depth=5, min_child_weight=0.1;, score=0.700 total time=   2.6s\n",
      "[CV 1/3] END booster=gbtree, gamma=9, max_depth=4, min_child_weight=0.1;, score=0.700 total time=   3.6s\n",
      "[CV 2/3] END booster=gbtree, gamma=9, max_depth=4, min_child_weight=0.1;, score=0.670 total time=   3.7s\n",
      "[CV 1/3] END booster=gbtree, gamma=1, max_depth=5, min_child_weight=0.9;, score=0.720 total time=   4.3s\n",
      "[CV 3/3] END booster=gbtree, gamma=1, max_depth=5, min_child_weight=0.1;, score=0.702 total time=   4.4s\n",
      "[CV 2/3] END booster=gbtree, gamma=1, max_depth=5, min_child_weight=0.9;, score=0.698 total time=   4.4s\n",
      "[CV 3/3] END booster=gbtree, gamma=1, max_depth=5, min_child_weight=0.9;, score=0.705 total time=   4.4s\n",
      "[CV 3/3] END booster=gbtree, gamma=9, max_depth=4, min_child_weight=0.1;, score=0.680 total time=   4.0s\n",
      "[CV 1/3] END booster=gbtree, gamma=9, max_depth=4, min_child_weight=0.9;, score=0.700 total time=   3.9s\n",
      "[CV 2/3] END booster=gbtree, gamma=9, max_depth=4, min_child_weight=0.9;, score=0.666 total time=   2.7s\n",
      "[CV 3/3] END booster=gbtree, gamma=9, max_depth=4, min_child_weight=0.9;, score=0.680 total time=   2.6s\n",
      "[CV 3/3] END booster=gbtree, gamma=9, max_depth=5, min_child_weight=0.1;, score=0.686 total time=   3.0s\n",
      "[CV 2/3] END booster=gbtree, gamma=9, max_depth=5, min_child_weight=0.1;, score=0.674 total time=   3.1s\n",
      "[CV 1/3] END booster=gbtree, gamma=9, max_depth=5, min_child_weight=0.1;, score=0.702 total time=   3.1s\n",
      "[CV 1/3] END booster=gbtree, gamma=9, max_depth=5, min_child_weight=0.9;, score=0.702 total time=   3.0s\n",
      "[CV 2/3] END booster=gbtree, gamma=9, max_depth=5, min_child_weight=0.9;, score=0.679 total time=   2.8s\n",
      "[CV 3/3] END booster=gbtree, gamma=9, max_depth=5, min_child_weight=0.9;, score=0.687 total time=   2.7s\n",
      "Setting value for best_estimator\n",
      "Getting value for hyper_parameter_optimization_method\n",
      "Getting value for hyper_parameter_optimization_method\n",
      "Getting value for estimator\n",
      "Getting value for estimator\n",
      "Getting value for hyper_parameter_optimization_method\n",
      "Getting value for best_estimator\n"
     ]
    }
   ],
   "source": [
    "pipeline.fit(X_train,y_train)\n",
    "y_pred = pipeline.predict(X_test)\n"
   ]
  },
  {
   "cell_type": "markdown",
   "metadata": {},
   "source": [
    "# Check performance of the Pipeline"
   ]
  },
  {
   "cell_type": "code",
   "execution_count": 9,
   "metadata": {},
   "outputs": [
    {
     "name": "stdout",
     "output_type": "stream",
     "text": [
      "F1 score : \n",
      "0.7117867555185341\n",
      "Classification report : \n",
      "              precision    recall  f1-score   support\n",
      "\n",
      "           0       0.90      0.94      0.92      8158\n",
      "           1       0.77      0.66      0.71      2588\n",
      "\n",
      "    accuracy                           0.87     10746\n",
      "   macro avg       0.83      0.80      0.81     10746\n",
      "weighted avg       0.87      0.87      0.87     10746\n",
      "\n",
      "Confusion matrix : \n",
      "[[7653  505]\n",
      " [ 879 1709]]\n"
     ]
    }
   ],
   "source": [
    "print('F1 score : ')\n",
    "print(f1_score(y_test,y_pred))\n",
    "print('Classification report : ')\n",
    "print(classification_report(y_test,y_pred))\n",
    "print('Confusion matrix : ')\n",
    "print(confusion_matrix(y_test,y_pred))\n"
   ]
  }
 ],
 "metadata": {
  "kernelspec": {
   "display_name": "Python 3.10.4 ('.venv': poetry)",
   "language": "python",
   "name": "python3"
  },
  "language_info": {
   "codemirror_mode": {
    "name": "ipython",
    "version": 3
   },
   "file_extension": ".py",
   "mimetype": "text/x-python",
   "name": "python",
   "nbconvert_exporter": "python",
   "pygments_lexer": "ipython3",
   "version": "3.10.4"
  },
  "orig_nbformat": 4,
  "vscode": {
   "interpreter": {
    "hash": "7ced68e88e9060e5bcf2eaa5b2d4f8fc97e4d610a52d347137abf879072ffb6d"
   }
  }
 },
 "nbformat": 4,
 "nbformat_minor": 2
}
