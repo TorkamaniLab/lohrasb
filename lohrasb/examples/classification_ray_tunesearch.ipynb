{
 "cells": [
  {
   "cell_type": "code",
   "execution_count": 1,
   "metadata": {},
   "outputs": [
    {
     "name": "stdout",
     "output_type": "stream",
     "text": [
      "2023-07-02 16:19:38,329 :: matplotlib :: matplotlib data path: /Users/hjavedani/Documents/Lohrasb/.venv/lib/python3.10/site-packages/matplotlib/mpl-data\n",
      "2023-07-02 16:19:38,334 :: matplotlib :: CONFIGDIR=/Users/hjavedani/.matplotlib\n",
      "2023-07-02 16:19:38,337 :: matplotlib :: interactive is False\n",
      "2023-07-02 16:19:38,339 :: matplotlib :: platform is darwin\n",
      "2023-07-02 16:19:38,353 :: graphviz._tools :: deprecate positional args: graphviz.backend.piping.pipe(['renderer', 'formatter', 'neato_no_op', 'quiet'])\n",
      "2023-07-02 16:19:38,355 :: graphviz._tools :: deprecate positional args: graphviz.backend.rendering.render(['renderer', 'formatter', 'neato_no_op', 'quiet'])\n",
      "2023-07-02 16:19:38,357 :: graphviz._tools :: deprecate positional args: graphviz.backend.unflattening.unflatten(['stagger', 'fanout', 'chain', 'encoding'])\n",
      "2023-07-02 16:19:38,360 :: graphviz._tools :: deprecate positional args: graphviz.backend.viewing.view(['quiet'])\n",
      "2023-07-02 16:19:38,364 :: graphviz._tools :: deprecate positional args: graphviz.quoting.quote(['is_html_string', 'is_valid_id', 'dot_keywords', 'endswith_odd_number_of_backslashes', 'escape_unescaped_quotes'])\n",
      "2023-07-02 16:19:38,365 :: graphviz._tools :: deprecate positional args: graphviz.quoting.a_list(['kwargs', 'attributes'])\n",
      "2023-07-02 16:19:38,365 :: graphviz._tools :: deprecate positional args: graphviz.quoting.attr_list(['kwargs', 'attributes'])\n",
      "2023-07-02 16:19:38,366 :: graphviz._tools :: deprecate positional args: graphviz.dot.Dot.clear(['keep_attrs'])\n",
      "2023-07-02 16:19:38,367 :: graphviz._tools :: deprecate positional args: graphviz.dot.Dot.__iter__(['subgraph'])\n",
      "2023-07-02 16:19:38,367 :: graphviz._tools :: deprecate positional args: graphviz.dot.Dot.node(['_attributes'])\n",
      "2023-07-02 16:19:38,369 :: graphviz._tools :: deprecate positional args: graphviz.dot.Dot.edge(['_attributes'])\n",
      "2023-07-02 16:19:38,369 :: graphviz._tools :: deprecate positional args: graphviz.dot.Dot.attr(['_attributes'])\n",
      "2023-07-02 16:19:38,370 :: graphviz._tools :: deprecate positional args: graphviz.dot.Dot.subgraph(['name', 'comment', 'graph_attr', 'node_attr', 'edge_attr', 'body'])\n",
      "2023-07-02 16:19:38,373 :: graphviz._tools :: deprecate positional args: graphviz.piping.Pipe._pipe_legacy(['renderer', 'formatter', 'neato_no_op', 'quiet'])\n",
      "2023-07-02 16:19:38,376 :: graphviz._tools :: deprecate positional args: graphviz.saving.Save.save(['directory'])\n",
      "2023-07-02 16:19:38,378 :: graphviz._tools :: deprecate positional args: graphviz.rendering.Render.render(['directory', 'view', 'cleanup', 'format', 'renderer', 'formatter', 'neato_no_op', 'quiet', 'quiet_view'])\n",
      "2023-07-02 16:19:38,379 :: graphviz._tools :: deprecate positional args: graphviz.rendering.Render.view(['directory', 'cleanup', 'quiet', 'quiet_view'])\n",
      "2023-07-02 16:19:38,380 :: graphviz._tools :: deprecate positional args: graphviz.unflattening.Unflatten.unflatten(['stagger', 'fanout', 'chain'])\n",
      "2023-07-02 16:19:38,381 :: graphviz._tools :: deprecate positional args: graphviz.graphs.BaseGraph.__init__(['comment', 'filename', 'directory', 'format', 'engine', 'encoding', 'graph_attr', 'node_attr', 'edge_attr', 'body', 'strict'])\n",
      "2023-07-02 16:19:38,383 :: graphviz._tools :: deprecate positional args: graphviz.sources.Source.from_file(['directory', 'format', 'engine', 'encoding', 'renderer', 'formatter'])\n",
      "2023-07-02 16:19:38,384 :: graphviz._tools :: deprecate positional args: graphviz.sources.Source.__init__(['filename', 'directory', 'format', 'engine', 'encoding'])\n",
      "2023-07-02 16:19:38,384 :: graphviz._tools :: deprecate positional args: graphviz.sources.Source.save(['directory'])\n",
      "2023-07-02 16:19:39,093 :: dev :: Using Scikit-Learn API (tune-sklearn) for an example of classification\n",
      "2023-07-02 16:19:39,093 :: dev :: Using Scikit-Learn API (tune-sklearn) for an example of classification\n"
     ]
    }
   ],
   "source": [
    "import pandas as pd\n",
    "from sklearn.model_selection import KFold, train_test_split\n",
    "from lohrasb.best_estimator import BaseModel\n",
    "from sklearn.pipeline import Pipeline\n",
    "from feature_engine.imputation import (\n",
    "    CategoricalImputer,\n",
    "    MeanMedianImputer\n",
    "    )\n",
    "from category_encoders import OrdinalEncoder\n",
    "from sklearn.metrics import (\n",
    "    classification_report,\n",
    "    confusion_matrix,\n",
    "    f1_score)\n",
    "from sklearn.metrics import f1_score, make_scorer\n",
    "from xgboost import *\n",
    "from lohrasb import logger\n",
    "\n",
    "logger.info(\"Using Scikit-Learn API (tune-sklearn) for an example of classification\")\n"
   ]
  },
  {
   "attachments": {},
   "cell_type": "markdown",
   "metadata": {},
   "source": [
    "#### Example: Use Adult Data Set (a classification problem)\n",
    "  \n",
    "https://archive.ics.uci.edu/ml/datasets/Adult"
   ]
  },
  {
   "attachments": {},
   "cell_type": "markdown",
   "metadata": {},
   "source": [
    "#### Part 1: Use BestModel in sklearn pipeline\n"
   ]
  },
  {
   "cell_type": "code",
   "execution_count": 2,
   "metadata": {},
   "outputs": [
    {
     "data": {
      "text/html": [
       "<div>\n",
       "<style scoped>\n",
       "    .dataframe tbody tr th:only-of-type {\n",
       "        vertical-align: middle;\n",
       "    }\n",
       "\n",
       "    .dataframe tbody tr th {\n",
       "        vertical-align: top;\n",
       "    }\n",
       "\n",
       "    .dataframe thead th {\n",
       "        text-align: right;\n",
       "    }\n",
       "</style>\n",
       "<table border=\"1\" class=\"dataframe\">\n",
       "  <thead>\n",
       "    <tr style=\"text-align: right;\">\n",
       "      <th></th>\n",
       "      <th>age</th>\n",
       "      <th>workclass</th>\n",
       "      <th>fnlwgt</th>\n",
       "      <th>education</th>\n",
       "      <th>education-num</th>\n",
       "      <th>marital-status</th>\n",
       "      <th>occupation</th>\n",
       "      <th>relationship</th>\n",
       "      <th>race</th>\n",
       "      <th>sex</th>\n",
       "      <th>capital-gain</th>\n",
       "      <th>capital-loss</th>\n",
       "      <th>hours-per-week</th>\n",
       "      <th>native-country</th>\n",
       "      <th>label</th>\n",
       "    </tr>\n",
       "  </thead>\n",
       "  <tbody>\n",
       "    <tr>\n",
       "      <th>0</th>\n",
       "      <td>39</td>\n",
       "      <td>State-gov</td>\n",
       "      <td>77516</td>\n",
       "      <td>Bachelors</td>\n",
       "      <td>13</td>\n",
       "      <td>Never-married</td>\n",
       "      <td>Adm-clerical</td>\n",
       "      <td>Not-in-family</td>\n",
       "      <td>White</td>\n",
       "      <td>Male</td>\n",
       "      <td>2174</td>\n",
       "      <td>0</td>\n",
       "      <td>40</td>\n",
       "      <td>United-States</td>\n",
       "      <td>&lt;=50K</td>\n",
       "    </tr>\n",
       "    <tr>\n",
       "      <th>1</th>\n",
       "      <td>50</td>\n",
       "      <td>Self-emp-not-inc</td>\n",
       "      <td>83311</td>\n",
       "      <td>Bachelors</td>\n",
       "      <td>13</td>\n",
       "      <td>Married-civ-spouse</td>\n",
       "      <td>Exec-managerial</td>\n",
       "      <td>Husband</td>\n",
       "      <td>White</td>\n",
       "      <td>Male</td>\n",
       "      <td>0</td>\n",
       "      <td>0</td>\n",
       "      <td>13</td>\n",
       "      <td>United-States</td>\n",
       "      <td>&lt;=50K</td>\n",
       "    </tr>\n",
       "    <tr>\n",
       "      <th>2</th>\n",
       "      <td>38</td>\n",
       "      <td>Private</td>\n",
       "      <td>215646</td>\n",
       "      <td>HS-grad</td>\n",
       "      <td>9</td>\n",
       "      <td>Divorced</td>\n",
       "      <td>Handlers-cleaners</td>\n",
       "      <td>Not-in-family</td>\n",
       "      <td>White</td>\n",
       "      <td>Male</td>\n",
       "      <td>0</td>\n",
       "      <td>0</td>\n",
       "      <td>40</td>\n",
       "      <td>United-States</td>\n",
       "      <td>&lt;=50K</td>\n",
       "    </tr>\n",
       "    <tr>\n",
       "      <th>3</th>\n",
       "      <td>53</td>\n",
       "      <td>Private</td>\n",
       "      <td>234721</td>\n",
       "      <td>11th</td>\n",
       "      <td>7</td>\n",
       "      <td>Married-civ-spouse</td>\n",
       "      <td>Handlers-cleaners</td>\n",
       "      <td>Husband</td>\n",
       "      <td>Black</td>\n",
       "      <td>Male</td>\n",
       "      <td>0</td>\n",
       "      <td>0</td>\n",
       "      <td>40</td>\n",
       "      <td>United-States</td>\n",
       "      <td>&lt;=50K</td>\n",
       "    </tr>\n",
       "    <tr>\n",
       "      <th>4</th>\n",
       "      <td>28</td>\n",
       "      <td>Private</td>\n",
       "      <td>338409</td>\n",
       "      <td>Bachelors</td>\n",
       "      <td>13</td>\n",
       "      <td>Married-civ-spouse</td>\n",
       "      <td>Prof-specialty</td>\n",
       "      <td>Wife</td>\n",
       "      <td>Black</td>\n",
       "      <td>Female</td>\n",
       "      <td>0</td>\n",
       "      <td>0</td>\n",
       "      <td>40</td>\n",
       "      <td>Cuba</td>\n",
       "      <td>&lt;=50K</td>\n",
       "    </tr>\n",
       "  </tbody>\n",
       "</table>\n",
       "</div>"
      ],
      "text/plain": [
       "   age          workclass  fnlwgt   education  education-num  \\\n",
       "0   39          State-gov   77516   Bachelors             13   \n",
       "1   50   Self-emp-not-inc   83311   Bachelors             13   \n",
       "2   38            Private  215646     HS-grad              9   \n",
       "3   53            Private  234721        11th              7   \n",
       "4   28            Private  338409   Bachelors             13   \n",
       "\n",
       "        marital-status          occupation    relationship    race      sex  \\\n",
       "0        Never-married        Adm-clerical   Not-in-family   White     Male   \n",
       "1   Married-civ-spouse     Exec-managerial         Husband   White     Male   \n",
       "2             Divorced   Handlers-cleaners   Not-in-family   White     Male   \n",
       "3   Married-civ-spouse   Handlers-cleaners         Husband   Black     Male   \n",
       "4   Married-civ-spouse      Prof-specialty            Wife   Black   Female   \n",
       "\n",
       "   capital-gain  capital-loss  hours-per-week  native-country   label  \n",
       "0          2174             0              40   United-States   <=50K  \n",
       "1             0             0              13   United-States   <=50K  \n",
       "2             0             0              40   United-States   <=50K  \n",
       "3             0             0              40   United-States   <=50K  \n",
       "4             0             0              40            Cuba   <=50K  "
      ]
     },
     "execution_count": 2,
     "metadata": {},
     "output_type": "execute_result"
    }
   ],
   "source": [
    "urldata= \"https://archive.ics.uci.edu/ml/machine-learning-databases/adult/adult.data\"\n",
    "# column names\n",
    "col_names=[\"age\", \"workclass\", \"fnlwgt\" , \"education\" ,\"education-num\",\n",
    "\"marital-status\",\"occupation\",\"relationship\",\"race\",\"sex\",\"capital-gain\",\"capital-loss\",\"hours-per-week\",\n",
    "\"native-country\",\"label\"\n",
    "]\n",
    "# read data\n",
    "data = pd.read_csv(urldata,header=None,names=col_names,sep=',')\n",
    "data.head()"
   ]
  },
  {
   "attachments": {},
   "cell_type": "markdown",
   "metadata": {},
   "source": [
    "#### Define labels\n"
   ]
  },
  {
   "cell_type": "code",
   "execution_count": 3,
   "metadata": {},
   "outputs": [],
   "source": [
    "data.loc[data['label']=='<=50K','label']=0\n",
    "data.loc[data['label']==' <=50K','label']=0\n",
    "\n",
    "data.loc[data['label']=='>50K','label']=1\n",
    "data.loc[data['label']==' >50K','label']=1\n",
    "\n",
    "data['label']=data['label'].astype(int)"
   ]
  },
  {
   "attachments": {},
   "cell_type": "markdown",
   "metadata": {},
   "source": [
    "#### Train test split"
   ]
  },
  {
   "cell_type": "code",
   "execution_count": 4,
   "metadata": {},
   "outputs": [],
   "source": [
    "X = data.loc[:, data.columns != \"label\"]\n",
    "y = data.loc[:, data.columns == \"label\"]\n",
    "\n",
    "\n",
    "X_train, X_test, y_train, y_test =train_test_split(X, y, \\\n",
    "     test_size=0.33, stratify=y['label'], random_state=42)\n"
   ]
  },
  {
   "attachments": {},
   "cell_type": "markdown",
   "metadata": {},
   "source": [
    "#### Find feature types for later use"
   ]
  },
  {
   "cell_type": "code",
   "execution_count": 5,
   "metadata": {},
   "outputs": [],
   "source": [
    "int_cols =  X_train.select_dtypes(include=['int']).columns.tolist()\n",
    "float_cols =  X_train.select_dtypes(include=['float']).columns.tolist()\n",
    "cat_cols =  X_train.select_dtypes(include=['object']).columns.tolist()\n"
   ]
  },
  {
   "attachments": {},
   "cell_type": "markdown",
   "metadata": {},
   "source": [
    "#### Define estimator and set its arguments \n"
   ]
  },
  {
   "cell_type": "code",
   "execution_count": 6,
   "metadata": {},
   "outputs": [],
   "source": [
    "estimator = XGBClassifier()\n",
    "estimator_params = {\n",
    "        \"booster\": [\"gbtree\",\"dart\"],\n",
    "        \"eval_metric\": [\"auc\"],\n",
    "        \"max_depth\": [4, 5],\n",
    "        \"gamma\": [0.1, 1.2],\n",
    "        \"subsample\": [0.5,0.8],\n",
    "\n",
    "    }\n",
    "    "
   ]
  },
  {
   "cell_type": "code",
   "execution_count": 7,
   "metadata": {},
   "outputs": [],
   "source": [
    "kwargs = {  # params for fit method or fit_params \n",
    "            'fit_tunegrid_kwargs' :{\n",
    "            'sample_weight':None,\n",
    "            },\n",
    "            # params for RandomSearchCV \n",
    "            'tune_search_kwargs' : {\n",
    "            'estimator':estimator,\n",
    "            'param_distributions':estimator_params,\n",
    "            'n_jobs':None,\n",
    "            'cv':KFold(3),\n",
    "            'early_stopping':None, \n",
    "            'scoring':'f1', \n",
    "            'refit':True, \n",
    "            'error_score':'raise', \n",
    "            'return_train_score':False, \n",
    "            'local_dir':'~/ray_results', \n",
    "            'name':None, \n",
    "            'max_iters':1, \n",
    "            'use_gpu':False, \n",
    "            'loggers':None, \n",
    "            'pipeline_auto_early_stop':True, \n",
    "            'stopper':None, \n",
    "            'time_budget_s':None, \n",
    "            'mode':None,\n",
    "            'max_iters':1, \n",
    "                }\n",
    "            }\n"
   ]
  },
  {
   "cell_type": "code",
   "execution_count": 8,
   "metadata": {},
   "outputs": [
    {
     "ename": "NameError",
     "evalue": "name 'TuneSearchBestEstimator' is not defined",
     "output_type": "error",
     "traceback": [
      "\u001b[0;31m---------------------------------------------------------------------------\u001b[0m",
      "\u001b[0;31mNameError\u001b[0m                                 Traceback (most recent call last)",
      "Cell \u001b[0;32mIn[8], line 1\u001b[0m\n\u001b[0;32m----> 1\u001b[0m obj \u001b[39m=\u001b[39m BaseModel()\u001b[39m.\u001b[39;49moptimize_by_tunesearchcv(kwargs\u001b[39m=\u001b[39;49mkwargs)\n",
      "File \u001b[0;32m~/Documents/Lohrasb/lohrasb/best_estimator.py:1203\u001b[0m, in \u001b[0;36mBaseModel.optimize_by_tunesearchcv\u001b[0;34m(self, *args, **tune_search_kwargs)\u001b[0m\n\u001b[1;32m   1193\u001b[0m \u001b[39m@classmethod\u001b[39m\n\u001b[1;32m   1194\u001b[0m \u001b[39mdef\u001b[39;00m \u001b[39moptimize_by_tunesearchcv\u001b[39m(\n\u001b[1;32m   1195\u001b[0m     \u001b[39mself\u001b[39m,\n\u001b[0;32m   (...)\u001b[0m\n\u001b[1;32m   1200\u001b[0m ):\n\u001b[1;32m   1201\u001b[0m     \u001b[39m# general argument setting\u001b[39;00m\n\u001b[1;32m   1202\u001b[0m     \u001b[39mself\u001b[39m\u001b[39m.\u001b[39mtune_search_kwargs \u001b[39m=\u001b[39m tune_search_kwargs\n\u001b[0;32m-> 1203\u001b[0m     tse \u001b[39m=\u001b[39m TuneSearchBestEstimator(\u001b[39m*\u001b[39m\u001b[39m*\u001b[39m\u001b[39mself\u001b[39m\u001b[39m.\u001b[39mtune_search_kwargs)\n\u001b[1;32m   1204\u001b[0m     \u001b[39mreturn\u001b[39;00m tse\n",
      "\u001b[0;31mNameError\u001b[0m: name 'TuneSearchBestEstimator' is not defined"
     ]
    }
   ],
   "source": [
    "\n",
    "obj = BaseModel().optimize_by_tunesearchcv(kwargs=kwargs)"
   ]
  },
  {
   "attachments": {},
   "cell_type": "markdown",
   "metadata": {},
   "source": [
    "#### Build sklearn pipeline"
   ]
  },
  {
   "cell_type": "code",
   "execution_count": null,
   "metadata": {},
   "outputs": [],
   "source": [
    "\n",
    "\n",
    "pipeline =Pipeline([\n",
    "            # int missing values imputers\n",
    "            ('intimputer', MeanMedianImputer(\n",
    "                imputation_method='median', variables=int_cols)),\n",
    "            # category missing values imputers\n",
    "            ('catimputer', CategoricalImputer(variables=cat_cols)),\n",
    "            #\n",
    "            ('catencoder', OrdinalEncoder()),\n",
    "            # classification model\n",
    "            ('obj', obj)\n",
    "\n",
    " ])\n"
   ]
  },
  {
   "attachments": {},
   "cell_type": "markdown",
   "metadata": {},
   "source": [
    "#### Run Pipeline"
   ]
  },
  {
   "cell_type": "code",
   "execution_count": null,
   "metadata": {},
   "outputs": [],
   "source": [
    "pipeline.fit(X_train,y_train)\n",
    "y_pred = pipeline.predict(X_test)\n"
   ]
  },
  {
   "attachments": {},
   "cell_type": "markdown",
   "metadata": {},
   "source": [
    "#### Check performance of the pipeline"
   ]
  },
  {
   "cell_type": "code",
   "execution_count": null,
   "metadata": {},
   "outputs": [],
   "source": [
    "print('F1 score : ')\n",
    "print(f1_score(y_test,y_pred))\n",
    "print('Classification report : ')\n",
    "print(classification_report(y_test,y_pred))\n",
    "print('Confusion matrix : ')\n",
    "print(confusion_matrix(y_test,y_pred))\n"
   ]
  },
  {
   "attachments": {},
   "cell_type": "markdown",
   "metadata": {},
   "source": [
    "#### Part 2:  Use BestModel as a standalone estimator "
   ]
  },
  {
   "cell_type": "code",
   "execution_count": null,
   "metadata": {},
   "outputs": [],
   "source": [
    "X_train, X_test, y_train, y_test =train_test_split(X, y, \\\n",
    "     test_size=0.33, stratify=y['label'], random_state=42)"
   ]
  },
  {
   "attachments": {},
   "cell_type": "markdown",
   "metadata": {},
   "source": [
    "#### Transform features to make them ready for model input"
   ]
  },
  {
   "cell_type": "code",
   "execution_count": null,
   "metadata": {},
   "outputs": [],
   "source": [
    "transform_pipeline =Pipeline([\n",
    "            # int missing values imputers\n",
    "            ('intimputer', MeanMedianImputer(\n",
    "                imputation_method='median', variables=int_cols)),\n",
    "            # category missing values imputers\n",
    "            ('catimputer', CategoricalImputer(variables=cat_cols)),\n",
    "            #\n",
    "            ('catencoder', OrdinalEncoder()),\n",
    "            # classification model\n",
    "\n",
    " ])"
   ]
  },
  {
   "attachments": {},
   "cell_type": "markdown",
   "metadata": {},
   "source": [
    "#### Transform X_train and X_test"
   ]
  },
  {
   "cell_type": "code",
   "execution_count": null,
   "metadata": {},
   "outputs": [],
   "source": [
    "X_train=transform_pipeline.fit_transform(X_train,y_train)\n",
    "X_test=transform_pipeline.transform(X_test)\n"
   ]
  },
  {
   "attachments": {},
   "cell_type": "markdown",
   "metadata": {},
   "source": [
    "#### Train model and predict"
   ]
  },
  {
   "cell_type": "code",
   "execution_count": null,
   "metadata": {},
   "outputs": [],
   "source": [
    "obj.fit(X_train,y_train)\n",
    "y_pred = obj.predict(X_test)"
   ]
  },
  {
   "attachments": {},
   "cell_type": "markdown",
   "metadata": {},
   "source": [
    "#### Check performance of the pipeline"
   ]
  },
  {
   "cell_type": "code",
   "execution_count": null,
   "metadata": {},
   "outputs": [],
   "source": [
    "print('F1 score : ')\n",
    "print(f1_score(y_test,y_pred))\n",
    "print('Classification report : ')\n",
    "print(classification_report(y_test,y_pred))\n",
    "print('Confusion matrix : ')\n",
    "print(confusion_matrix(y_test,y_pred))"
   ]
  },
  {
   "cell_type": "code",
   "execution_count": null,
   "metadata": {},
   "outputs": [],
   "source": [
    "obj.get_best_estimator()"
   ]
  },
  {
   "cell_type": "code",
   "execution_count": null,
   "metadata": {},
   "outputs": [],
   "source": [
    "obj.best_estimator"
   ]
  },
  {
   "attachments": {},
   "cell_type": "markdown",
   "metadata": {},
   "source": [
    "#### Get fitted grid search object and its attributes"
   ]
  },
  {
   "cell_type": "code",
   "execution_count": null,
   "metadata": {},
   "outputs": [],
   "source": [
    "GridSearchObj = obj.get_optimized_object()\n",
    "GridSearchObj.cv_results_"
   ]
  }
 ],
 "metadata": {
  "kernelspec": {
   "display_name": "Python 3.10.4 ('.venv': poetry)",
   "language": "python",
   "name": "python3"
  },
  "language_info": {
   "codemirror_mode": {
    "name": "ipython",
    "version": 3
   },
   "file_extension": ".py",
   "mimetype": "text/x-python",
   "name": "python",
   "nbconvert_exporter": "python",
   "pygments_lexer": "ipython3",
   "version": "3.10.11"
  },
  "orig_nbformat": 4,
  "vscode": {
   "interpreter": {
    "hash": "7ced68e88e9060e5bcf2eaa5b2d4f8fc97e4d610a52d347137abf879072ffb6d"
   }
  }
 },
 "nbformat": 4,
 "nbformat_minor": 2
}
