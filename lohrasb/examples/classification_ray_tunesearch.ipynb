{
 "cells": [
  {
   "cell_type": "code",
   "execution_count": 1,
   "metadata": {},
   "outputs": [
    {
     "name": "stdout",
     "output_type": "stream",
     "text": [
      "2023-02-21 20:40:10,046 :: matplotlib :: matplotlib data path: /Users/hjavedani/Documents/Lohrasb/.venv/lib/python3.10/site-packages/matplotlib/mpl-data\n",
      "2023-02-21 20:40:10,053 :: matplotlib :: CONFIGDIR=/Users/hjavedani/.matplotlib\n",
      "2023-02-21 20:40:10,055 :: matplotlib :: interactive is False\n",
      "2023-02-21 20:40:10,056 :: matplotlib :: platform is darwin\n",
      "2023-02-21 20:40:11,206 :: matplotlib :: CACHEDIR=/Users/hjavedani/.matplotlib\n",
      "2023-02-21 20:40:11,208 :: matplotlib.font_manager :: Using fontManager instance from /Users/hjavedani/.matplotlib/fontlist-v330.json\n",
      "2023-02-21 20:40:11,748 :: dev :: Using Scikit-Learn API (tune-sklearn) for an example of classification\n",
      "2023-02-21 20:40:11,748 :: dev :: Using Scikit-Learn API (tune-sklearn) for an example of classification\n"
     ]
    }
   ],
   "source": [
    "import pandas as pd\n",
    "from sklearn.model_selection import KFold, train_test_split\n",
    "from lohrasb.best_estimator import BaseModel\n",
    "from sklearn.pipeline import Pipeline\n",
    "from feature_engine.imputation import (\n",
    "    CategoricalImputer,\n",
    "    MeanMedianImputer\n",
    "    )\n",
    "from category_encoders import OrdinalEncoder\n",
    "from sklearn.metrics import (\n",
    "    classification_report,\n",
    "    confusion_matrix,\n",
    "    f1_score)\n",
    "from sklearn.metrics import f1_score, make_scorer\n",
    "from xgboost import *\n",
    "from lohrasb import logger\n",
    "\n",
    "logger.info(\"Using Scikit-Learn API (tune-sklearn) for an example of classification\")\n"
   ]
  },
  {
   "cell_type": "markdown",
   "metadata": {},
   "source": [
    "#### Example: Use Adult Data Set (a classification problem)\n",
    "  \n",
    "https://archive.ics.uci.edu/ml/datasets/Adult"
   ]
  },
  {
   "cell_type": "markdown",
   "metadata": {},
   "source": [
    "#### Part 1: Use BestModel in sklearn pipeline\n"
   ]
  },
  {
   "cell_type": "code",
   "execution_count": 2,
   "metadata": {},
   "outputs": [
    {
     "data": {
      "text/html": [
       "<div>\n",
       "<style scoped>\n",
       "    .dataframe tbody tr th:only-of-type {\n",
       "        vertical-align: middle;\n",
       "    }\n",
       "\n",
       "    .dataframe tbody tr th {\n",
       "        vertical-align: top;\n",
       "    }\n",
       "\n",
       "    .dataframe thead th {\n",
       "        text-align: right;\n",
       "    }\n",
       "</style>\n",
       "<table border=\"1\" class=\"dataframe\">\n",
       "  <thead>\n",
       "    <tr style=\"text-align: right;\">\n",
       "      <th></th>\n",
       "      <th>age</th>\n",
       "      <th>workclass</th>\n",
       "      <th>fnlwgt</th>\n",
       "      <th>education</th>\n",
       "      <th>education-num</th>\n",
       "      <th>marital-status</th>\n",
       "      <th>occupation</th>\n",
       "      <th>relationship</th>\n",
       "      <th>race</th>\n",
       "      <th>sex</th>\n",
       "      <th>capital-gain</th>\n",
       "      <th>capital-loss</th>\n",
       "      <th>hours-per-week</th>\n",
       "      <th>native-country</th>\n",
       "      <th>label</th>\n",
       "    </tr>\n",
       "  </thead>\n",
       "  <tbody>\n",
       "    <tr>\n",
       "      <th>0</th>\n",
       "      <td>39</td>\n",
       "      <td>State-gov</td>\n",
       "      <td>77516</td>\n",
       "      <td>Bachelors</td>\n",
       "      <td>13</td>\n",
       "      <td>Never-married</td>\n",
       "      <td>Adm-clerical</td>\n",
       "      <td>Not-in-family</td>\n",
       "      <td>White</td>\n",
       "      <td>Male</td>\n",
       "      <td>2174</td>\n",
       "      <td>0</td>\n",
       "      <td>40</td>\n",
       "      <td>United-States</td>\n",
       "      <td>&lt;=50K</td>\n",
       "    </tr>\n",
       "    <tr>\n",
       "      <th>1</th>\n",
       "      <td>50</td>\n",
       "      <td>Self-emp-not-inc</td>\n",
       "      <td>83311</td>\n",
       "      <td>Bachelors</td>\n",
       "      <td>13</td>\n",
       "      <td>Married-civ-spouse</td>\n",
       "      <td>Exec-managerial</td>\n",
       "      <td>Husband</td>\n",
       "      <td>White</td>\n",
       "      <td>Male</td>\n",
       "      <td>0</td>\n",
       "      <td>0</td>\n",
       "      <td>13</td>\n",
       "      <td>United-States</td>\n",
       "      <td>&lt;=50K</td>\n",
       "    </tr>\n",
       "    <tr>\n",
       "      <th>2</th>\n",
       "      <td>38</td>\n",
       "      <td>Private</td>\n",
       "      <td>215646</td>\n",
       "      <td>HS-grad</td>\n",
       "      <td>9</td>\n",
       "      <td>Divorced</td>\n",
       "      <td>Handlers-cleaners</td>\n",
       "      <td>Not-in-family</td>\n",
       "      <td>White</td>\n",
       "      <td>Male</td>\n",
       "      <td>0</td>\n",
       "      <td>0</td>\n",
       "      <td>40</td>\n",
       "      <td>United-States</td>\n",
       "      <td>&lt;=50K</td>\n",
       "    </tr>\n",
       "    <tr>\n",
       "      <th>3</th>\n",
       "      <td>53</td>\n",
       "      <td>Private</td>\n",
       "      <td>234721</td>\n",
       "      <td>11th</td>\n",
       "      <td>7</td>\n",
       "      <td>Married-civ-spouse</td>\n",
       "      <td>Handlers-cleaners</td>\n",
       "      <td>Husband</td>\n",
       "      <td>Black</td>\n",
       "      <td>Male</td>\n",
       "      <td>0</td>\n",
       "      <td>0</td>\n",
       "      <td>40</td>\n",
       "      <td>United-States</td>\n",
       "      <td>&lt;=50K</td>\n",
       "    </tr>\n",
       "    <tr>\n",
       "      <th>4</th>\n",
       "      <td>28</td>\n",
       "      <td>Private</td>\n",
       "      <td>338409</td>\n",
       "      <td>Bachelors</td>\n",
       "      <td>13</td>\n",
       "      <td>Married-civ-spouse</td>\n",
       "      <td>Prof-specialty</td>\n",
       "      <td>Wife</td>\n",
       "      <td>Black</td>\n",
       "      <td>Female</td>\n",
       "      <td>0</td>\n",
       "      <td>0</td>\n",
       "      <td>40</td>\n",
       "      <td>Cuba</td>\n",
       "      <td>&lt;=50K</td>\n",
       "    </tr>\n",
       "  </tbody>\n",
       "</table>\n",
       "</div>"
      ],
      "text/plain": [
       "   age          workclass  fnlwgt   education  education-num  \\\n",
       "0   39          State-gov   77516   Bachelors             13   \n",
       "1   50   Self-emp-not-inc   83311   Bachelors             13   \n",
       "2   38            Private  215646     HS-grad              9   \n",
       "3   53            Private  234721        11th              7   \n",
       "4   28            Private  338409   Bachelors             13   \n",
       "\n",
       "        marital-status          occupation    relationship    race      sex  \\\n",
       "0        Never-married        Adm-clerical   Not-in-family   White     Male   \n",
       "1   Married-civ-spouse     Exec-managerial         Husband   White     Male   \n",
       "2             Divorced   Handlers-cleaners   Not-in-family   White     Male   \n",
       "3   Married-civ-spouse   Handlers-cleaners         Husband   Black     Male   \n",
       "4   Married-civ-spouse      Prof-specialty            Wife   Black   Female   \n",
       "\n",
       "   capital-gain  capital-loss  hours-per-week  native-country   label  \n",
       "0          2174             0              40   United-States   <=50K  \n",
       "1             0             0              13   United-States   <=50K  \n",
       "2             0             0              40   United-States   <=50K  \n",
       "3             0             0              40   United-States   <=50K  \n",
       "4             0             0              40            Cuba   <=50K  "
      ]
     },
     "execution_count": 2,
     "metadata": {},
     "output_type": "execute_result"
    }
   ],
   "source": [
    "urldata= \"https://archive.ics.uci.edu/ml/machine-learning-databases/adult/adult.data\"\n",
    "# column names\n",
    "col_names=[\"age\", \"workclass\", \"fnlwgt\" , \"education\" ,\"education-num\",\n",
    "\"marital-status\",\"occupation\",\"relationship\",\"race\",\"sex\",\"capital-gain\",\"capital-loss\",\"hours-per-week\",\n",
    "\"native-country\",\"label\"\n",
    "]\n",
    "# read data\n",
    "data = pd.read_csv(urldata,header=None,names=col_names,sep=',')\n",
    "data.head()"
   ]
  },
  {
   "cell_type": "markdown",
   "metadata": {},
   "source": [
    "#### Define labels\n"
   ]
  },
  {
   "cell_type": "code",
   "execution_count": 3,
   "metadata": {},
   "outputs": [],
   "source": [
    "data.loc[data['label']=='<=50K','label']=0\n",
    "data.loc[data['label']==' <=50K','label']=0\n",
    "\n",
    "data.loc[data['label']=='>50K','label']=1\n",
    "data.loc[data['label']==' >50K','label']=1\n",
    "\n",
    "data['label']=data['label'].astype(int)"
   ]
  },
  {
   "cell_type": "markdown",
   "metadata": {},
   "source": [
    "#### Train test split"
   ]
  },
  {
   "cell_type": "code",
   "execution_count": 4,
   "metadata": {},
   "outputs": [],
   "source": [
    "X = data.loc[:, data.columns != \"label\"]\n",
    "y = data.loc[:, data.columns == \"label\"]\n",
    "\n",
    "\n",
    "X_train, X_test, y_train, y_test =train_test_split(X, y, \\\n",
    "     test_size=0.33, stratify=y['label'], random_state=42)\n"
   ]
  },
  {
   "cell_type": "markdown",
   "metadata": {},
   "source": [
    "#### Find feature types for later use"
   ]
  },
  {
   "cell_type": "code",
   "execution_count": 5,
   "metadata": {},
   "outputs": [],
   "source": [
    "int_cols =  X_train.select_dtypes(include=['int']).columns.tolist()\n",
    "float_cols =  X_train.select_dtypes(include=['float']).columns.tolist()\n",
    "cat_cols =  X_train.select_dtypes(include=['object']).columns.tolist()\n"
   ]
  },
  {
   "cell_type": "markdown",
   "metadata": {},
   "source": [
    "#### Define estimator and set its arguments \n"
   ]
  },
  {
   "cell_type": "code",
   "execution_count": 6,
   "metadata": {},
   "outputs": [],
   "source": [
    "estimator = XGBClassifier()\n",
    "estimator_params = {\n",
    "        \"booster\": [\"gbtree\",\"dart\"],\n",
    "        \"eval_metric\": [\"auc\"],\n",
    "        \"max_depth\": [4, 5],\n",
    "        \"gamma\": [0.1, 1.2],\n",
    "        \"subsample\": [0.8],\n",
    "\n",
    "    }\n",
    "    "
   ]
  },
  {
   "cell_type": "code",
   "execution_count": 7,
   "metadata": {},
   "outputs": [],
   "source": [
    "\n",
    "obj = BaseModel().optimize_by_tunesearchcv(\n",
    "            estimator=estimator,\n",
    "            estimator_params=estimator_params,\n",
    "            fit_params = None,\n",
    "            measure_of_accuracy=make_scorer(f1_score, greater_is_better=True),\n",
    "            verbose=3,\n",
    "            random_state=44,\n",
    "            n_jobs=None,\n",
    "            cv=KFold(3),\n",
    "            early_stopping=None, \n",
    "            n_trials=10,\n",
    "            scoring=None, \n",
    "            refit=True, \n",
    "            error_score='raise', \n",
    "            return_train_score=False, \n",
    "            local_dir='~/ray_results', \n",
    "            name=None, \n",
    "            max_iters=1, \n",
    "            search_optimization='hyperopt',\n",
    "            use_gpu=False, \n",
    "            loggers=None, \n",
    "            pipeline_auto_early_stop=True, \n",
    "            stopper=None, \n",
    "            time_budget_s=None, \n",
    "            mode=None,\n",
    "            search_kwargs=None, \n",
    "\n",
    "        )"
   ]
  },
  {
   "cell_type": "markdown",
   "metadata": {},
   "source": [
    "#### Build sklearn pipeline"
   ]
  },
  {
   "cell_type": "code",
   "execution_count": 8,
   "metadata": {},
   "outputs": [],
   "source": [
    "\n",
    "\n",
    "pipeline =Pipeline([\n",
    "            # int missing values imputers\n",
    "            ('intimputer', MeanMedianImputer(\n",
    "                imputation_method='median', variables=int_cols)),\n",
    "            # category missing values imputers\n",
    "            ('catimputer', CategoricalImputer(variables=cat_cols)),\n",
    "            #\n",
    "            ('catencoder', OrdinalEncoder()),\n",
    "            # classification model\n",
    "            ('obj', obj)\n",
    "\n",
    " ])\n"
   ]
  },
  {
   "cell_type": "markdown",
   "metadata": {},
   "source": [
    "#### Run Pipeline"
   ]
  },
  {
   "cell_type": "code",
   "execution_count": 9,
   "metadata": {},
   "outputs": [
    {
     "name": "stdout",
     "output_type": "stream",
     "text": [
      "2023-02-21 20:40:12,712 :: dev :: The optimization will be based on make_scorer(f1_score) metric!\n",
      "2023-02-21 20:40:12,712 :: dev :: The optimization will be based on make_scorer(f1_score) metric!\n",
      "2023-02-21 20:40:12,717 :: ray.tune.tune :: Initializing Ray automatically.For cluster usage or custom Ray initialization, call `ray.init(...)` before `tune.run`.\n"
     ]
    },
    {
     "name": "stderr",
     "output_type": "stream",
     "text": [
      "2023-02-21 20:40:14,798\tINFO worker.py:1538 -- Started a local Ray instance.\n"
     ]
    },
    {
     "data": {
      "text/html": [
       "<div class=\"tuneStatus\">\n",
       "  <div style=\"display: flex;flex-direction: row\">\n",
       "    <div style=\"display: flex;flex-direction: column;\">\n",
       "      <h3>Tune Status</h3>\n",
       "      <table>\n",
       "<tbody>\n",
       "<tr><td>Current time:</td><td>2023-02-21 20:40:50</td></tr>\n",
       "<tr><td>Running for: </td><td>00:00:34.78        </td></tr>\n",
       "<tr><td>Memory:      </td><td>16.2/32.0 GiB      </td></tr>\n",
       "</tbody>\n",
       "</table>\n",
       "    </div>\n",
       "    <div class=\"vDivider\"></div>\n",
       "    <div class=\"systemInfo\">\n",
       "      <h3>System Info</h3>\n",
       "      Using FIFO scheduling algorithm.<br>Resources requested: 0/8 CPUs, 0/0 GPUs, 0.0/13.15 GiB heap, 0.0/2.0 GiB objects\n",
       "    </div>\n",
       "    \n",
       "  </div>\n",
       "  <div class=\"hDivider\"></div>\n",
       "  <div class=\"trialStatus\">\n",
       "    <h3>Trial Status</h3>\n",
       "    <table>\n",
       "<thead>\n",
       "<tr><th>Trial name         </th><th>status    </th><th>loc            </th><th>booster  </th><th>eval_metric  </th><th style=\"text-align: right;\">  gamma</th><th style=\"text-align: right;\">  max_depth</th><th style=\"text-align: right;\">  subsample</th><th style=\"text-align: right;\">  iter</th><th style=\"text-align: right;\">  total time (s)</th><th style=\"text-align: right;\">  split0_test_score</th><th style=\"text-align: right;\">  split1_test_score</th><th style=\"text-align: right;\">  split2_test_score</th></tr>\n",
       "</thead>\n",
       "<tbody>\n",
       "<tr><td>_Trainable_de80cc66</td><td>TERMINATED</td><td>127.0.0.1:39677</td><td>dart     </td><td>auc          </td><td style=\"text-align: right;\">    1.2</td><td style=\"text-align: right;\">          4</td><td style=\"text-align: right;\">        0.8</td><td style=\"text-align: right;\">     1</td><td style=\"text-align: right;\">        21.5517 </td><td style=\"text-align: right;\">           0.690763</td><td style=\"text-align: right;\">           0.710764</td><td style=\"text-align: right;\">           0.703444</td></tr>\n",
       "<tr><td>_Trainable_ff7a5643</td><td>TERMINATED</td><td>127.0.0.1:39684</td><td>dart     </td><td>auc          </td><td style=\"text-align: right;\">    1.2</td><td style=\"text-align: right;\">          4</td><td style=\"text-align: right;\">        0.8</td><td style=\"text-align: right;\">     1</td><td style=\"text-align: right;\">        20.4548 </td><td style=\"text-align: right;\">           0.690763</td><td style=\"text-align: right;\">           0.710764</td><td style=\"text-align: right;\">           0.703444</td></tr>\n",
       "<tr><td>_Trainable_ad2069fe</td><td>TERMINATED</td><td>127.0.0.1:39685</td><td>dart     </td><td>auc          </td><td style=\"text-align: right;\">    1.2</td><td style=\"text-align: right;\">          5</td><td style=\"text-align: right;\">        0.8</td><td style=\"text-align: right;\">     1</td><td style=\"text-align: right;\">        21.9464 </td><td style=\"text-align: right;\">           0.690608</td><td style=\"text-align: right;\">           0.708166</td><td style=\"text-align: right;\">           0.699513</td></tr>\n",
       "<tr><td>_Trainable_2e697a67</td><td>TERMINATED</td><td>127.0.0.1:39686</td><td>gbtree   </td><td>auc          </td><td style=\"text-align: right;\">    0.1</td><td style=\"text-align: right;\">          4</td><td style=\"text-align: right;\">        0.8</td><td style=\"text-align: right;\">     1</td><td style=\"text-align: right;\">         4.88987</td><td style=\"text-align: right;\">           0.688992</td><td style=\"text-align: right;\">           0.709335</td><td style=\"text-align: right;\">           0.703579</td></tr>\n",
       "<tr><td>_Trainable_56854210</td><td>TERMINATED</td><td>127.0.0.1:39687</td><td>gbtree   </td><td>auc          </td><td style=\"text-align: right;\">    0.1</td><td style=\"text-align: right;\">          5</td><td style=\"text-align: right;\">        0.8</td><td style=\"text-align: right;\">     1</td><td style=\"text-align: right;\">         6.42787</td><td style=\"text-align: right;\">           0.69092 </td><td style=\"text-align: right;\">           0.70872 </td><td style=\"text-align: right;\">           0.698085</td></tr>\n",
       "<tr><td>_Trainable_42df8ab4</td><td>TERMINATED</td><td>127.0.0.1:39688</td><td>dart     </td><td>auc          </td><td style=\"text-align: right;\">    1.2</td><td style=\"text-align: right;\">          5</td><td style=\"text-align: right;\">        0.8</td><td style=\"text-align: right;\">     1</td><td style=\"text-align: right;\">        21.8084 </td><td style=\"text-align: right;\">           0.690608</td><td style=\"text-align: right;\">           0.708166</td><td style=\"text-align: right;\">           0.699513</td></tr>\n",
       "<tr><td>_Trainable_6c680d50</td><td>TERMINATED</td><td>127.0.0.1:39689</td><td>gbtree   </td><td>auc          </td><td style=\"text-align: right;\">    1.2</td><td style=\"text-align: right;\">          5</td><td style=\"text-align: right;\">        0.8</td><td style=\"text-align: right;\">     1</td><td style=\"text-align: right;\">         6.41556</td><td style=\"text-align: right;\">           0.691739</td><td style=\"text-align: right;\">           0.711261</td><td style=\"text-align: right;\">           0.695492</td></tr>\n",
       "<tr><td>_Trainable_301723da</td><td>TERMINATED</td><td>127.0.0.1:39690</td><td>dart     </td><td>auc          </td><td style=\"text-align: right;\">    1.2</td><td style=\"text-align: right;\">          4</td><td style=\"text-align: right;\">        0.8</td><td style=\"text-align: right;\">     1</td><td style=\"text-align: right;\">        20.5216 </td><td style=\"text-align: right;\">           0.690763</td><td style=\"text-align: right;\">           0.710764</td><td style=\"text-align: right;\">           0.703444</td></tr>\n",
       "<tr><td>_Trainable_5d52e37b</td><td>TERMINATED</td><td>127.0.0.1:39686</td><td>gbtree   </td><td>auc          </td><td style=\"text-align: right;\">    1.2</td><td style=\"text-align: right;\">          4</td><td style=\"text-align: right;\">        0.8</td><td style=\"text-align: right;\">     1</td><td style=\"text-align: right;\">         5.39843</td><td style=\"text-align: right;\">           0.688971</td><td style=\"text-align: right;\">           0.712573</td><td style=\"text-align: right;\">           0.708321</td></tr>\n",
       "<tr><td>_Trainable_f23ee3be</td><td>TERMINATED</td><td>127.0.0.1:39689</td><td>dart     </td><td>auc          </td><td style=\"text-align: right;\">    0.1</td><td style=\"text-align: right;\">          5</td><td style=\"text-align: right;\">        0.8</td><td style=\"text-align: right;\">     1</td><td style=\"text-align: right;\">        18.6943 </td><td style=\"text-align: right;\">           0.690374</td><td style=\"text-align: right;\">           0.702056</td><td style=\"text-align: right;\">           0.694275</td></tr>\n",
       "</tbody>\n",
       "</table>\n",
       "  </div>\n",
       "</div>\n",
       "<style>\n",
       ".tuneStatus {\n",
       "  color: var(--jp-ui-font-color1);\n",
       "}\n",
       ".tuneStatus .systemInfo {\n",
       "  display: flex;\n",
       "  flex-direction: column;\n",
       "}\n",
       ".tuneStatus td {\n",
       "  white-space: nowrap;\n",
       "}\n",
       ".tuneStatus .trialStatus {\n",
       "  display: flex;\n",
       "  flex-direction: column;\n",
       "}\n",
       ".tuneStatus h3 {\n",
       "  font-weight: bold;\n",
       "}\n",
       ".tuneStatus .hDivider {\n",
       "  border-bottom-width: var(--jp-border-width);\n",
       "  border-bottom-color: var(--jp-border-color0);\n",
       "  border-bottom-style: solid;\n",
       "}\n",
       ".tuneStatus .vDivider {\n",
       "  border-left-width: var(--jp-border-width);\n",
       "  border-left-color: var(--jp-border-color0);\n",
       "  border-left-style: solid;\n",
       "  margin: 0.5em 1em 0.5em 1em;\n",
       "}\n",
       "</style>\n"
      ],
      "text/plain": [
       "<IPython.core.display.HTML object>"
      ]
     },
     "metadata": {},
     "output_type": "display_data"
    },
    {
     "data": {
      "text/html": [
       "<div class=\"trialProgress\">\n",
       "  <h3>Trial Progress</h3>\n",
       "  <table>\n",
       "<thead>\n",
       "<tr><th>Trial name         </th><th style=\"text-align: right;\">  average_test_score</th><th>date               </th><th>done  </th><th>episodes_total  </th><th>experiment_id                   </th><th>hostname    </th><th style=\"text-align: right;\">  iterations_since_restore</th><th>node_ip  </th><th style=\"text-align: right;\">  objective</th><th style=\"text-align: right;\">  pid</th><th style=\"text-align: right;\">  split0_test_score</th><th style=\"text-align: right;\">  split1_test_score</th><th style=\"text-align: right;\">  split2_test_score</th><th style=\"text-align: right;\">  time_since_restore</th><th style=\"text-align: right;\">  time_this_iter_s</th><th style=\"text-align: right;\">  time_total_s</th><th style=\"text-align: right;\">  timestamp</th><th style=\"text-align: right;\">  timesteps_since_restore</th><th>timesteps_total  </th><th style=\"text-align: right;\">  training_iteration</th><th>trial_id  </th><th style=\"text-align: right;\">  warmup_time</th></tr>\n",
       "</thead>\n",
       "<tbody>\n",
       "<tr><td>_Trainable_2e697a67</td><td style=\"text-align: right;\">            0.700635</td><td>2023-02-21_20-40-30</td><td>True  </td><td>                </td><td>5f64110662404ee49c98c46d5e4b9950</td><td>hjavedani-MB</td><td style=\"text-align: right;\">                         1</td><td>127.0.0.1</td><td style=\"text-align: right;\">   0.700635</td><td style=\"text-align: right;\">39686</td><td style=\"text-align: right;\">           0.688992</td><td style=\"text-align: right;\">           0.709335</td><td style=\"text-align: right;\">           0.703579</td><td style=\"text-align: right;\">             4.88987</td><td style=\"text-align: right;\">           4.88987</td><td style=\"text-align: right;\">       4.88987</td><td style=\"text-align: right;\"> 1677040830</td><td style=\"text-align: right;\">                        0</td><td>                 </td><td style=\"text-align: right;\">                   1</td><td>2e697a67  </td><td style=\"text-align: right;\">    0.0622981</td></tr>\n",
       "<tr><td>_Trainable_301723da</td><td style=\"text-align: right;\">            0.701657</td><td>2023-02-21_20-40-46</td><td>True  </td><td>                </td><td>77b6cf91e3474c6bbc7a0dafe0f2b72a</td><td>hjavedani-MB</td><td style=\"text-align: right;\">                         1</td><td>127.0.0.1</td><td style=\"text-align: right;\">   0.701657</td><td style=\"text-align: right;\">39690</td><td style=\"text-align: right;\">           0.690763</td><td style=\"text-align: right;\">           0.710764</td><td style=\"text-align: right;\">           0.703444</td><td style=\"text-align: right;\">            20.5216 </td><td style=\"text-align: right;\">          20.5216 </td><td style=\"text-align: right;\">      20.5216 </td><td style=\"text-align: right;\"> 1677040846</td><td style=\"text-align: right;\">                        0</td><td>                 </td><td style=\"text-align: right;\">                   1</td><td>301723da  </td><td style=\"text-align: right;\">    0.0554409</td></tr>\n",
       "<tr><td>_Trainable_42df8ab4</td><td style=\"text-align: right;\">            0.699429</td><td>2023-02-21_20-40-47</td><td>True  </td><td>                </td><td>f2ef9d3aee8841768e47e8a76191959f</td><td>hjavedani-MB</td><td style=\"text-align: right;\">                         1</td><td>127.0.0.1</td><td style=\"text-align: right;\">   0.699429</td><td style=\"text-align: right;\">39688</td><td style=\"text-align: right;\">           0.690608</td><td style=\"text-align: right;\">           0.708166</td><td style=\"text-align: right;\">           0.699513</td><td style=\"text-align: right;\">            21.8084 </td><td style=\"text-align: right;\">          21.8084 </td><td style=\"text-align: right;\">      21.8084 </td><td style=\"text-align: right;\"> 1677040847</td><td style=\"text-align: right;\">                        0</td><td>                 </td><td style=\"text-align: right;\">                   1</td><td>42df8ab4  </td><td style=\"text-align: right;\">    0.058208 </td></tr>\n",
       "<tr><td>_Trainable_56854210</td><td style=\"text-align: right;\">            0.699242</td><td>2023-02-21_20-40-32</td><td>True  </td><td>                </td><td>8d60d6c955e4442aa5f0808f10caf8e9</td><td>hjavedani-MB</td><td style=\"text-align: right;\">                         1</td><td>127.0.0.1</td><td style=\"text-align: right;\">   0.699242</td><td style=\"text-align: right;\">39687</td><td style=\"text-align: right;\">           0.69092 </td><td style=\"text-align: right;\">           0.70872 </td><td style=\"text-align: right;\">           0.698085</td><td style=\"text-align: right;\">             6.42787</td><td style=\"text-align: right;\">           6.42787</td><td style=\"text-align: right;\">       6.42787</td><td style=\"text-align: right;\"> 1677040832</td><td style=\"text-align: right;\">                        0</td><td>                 </td><td style=\"text-align: right;\">                   1</td><td>56854210  </td><td style=\"text-align: right;\">    0.049335 </td></tr>\n",
       "<tr><td>_Trainable_5d52e37b</td><td style=\"text-align: right;\">            0.703288</td><td>2023-02-21_20-40-36</td><td>True  </td><td>                </td><td>5f64110662404ee49c98c46d5e4b9950</td><td>hjavedani-MB</td><td style=\"text-align: right;\">                         1</td><td>127.0.0.1</td><td style=\"text-align: right;\">   0.703288</td><td style=\"text-align: right;\">39686</td><td style=\"text-align: right;\">           0.688971</td><td style=\"text-align: right;\">           0.712573</td><td style=\"text-align: right;\">           0.708321</td><td style=\"text-align: right;\">             5.39843</td><td style=\"text-align: right;\">           5.39843</td><td style=\"text-align: right;\">       5.39843</td><td style=\"text-align: right;\"> 1677040836</td><td style=\"text-align: right;\">                        0</td><td>                 </td><td style=\"text-align: right;\">                   1</td><td>5d52e37b  </td><td style=\"text-align: right;\">    0.0622981</td></tr>\n",
       "<tr><td>_Trainable_6c680d50</td><td style=\"text-align: right;\">            0.699497</td><td>2023-02-21_20-40-32</td><td>True  </td><td>                </td><td>3524ce49e0534244a5942cdfc69f8196</td><td>hjavedani-MB</td><td style=\"text-align: right;\">                         1</td><td>127.0.0.1</td><td style=\"text-align: right;\">   0.699497</td><td style=\"text-align: right;\">39689</td><td style=\"text-align: right;\">           0.691739</td><td style=\"text-align: right;\">           0.711261</td><td style=\"text-align: right;\">           0.695492</td><td style=\"text-align: right;\">             6.41556</td><td style=\"text-align: right;\">           6.41556</td><td style=\"text-align: right;\">       6.41556</td><td style=\"text-align: right;\"> 1677040832</td><td style=\"text-align: right;\">                        0</td><td>                 </td><td style=\"text-align: right;\">                   1</td><td>6c680d50  </td><td style=\"text-align: right;\">    0.0582979</td></tr>\n",
       "<tr><td>_Trainable_ad2069fe</td><td style=\"text-align: right;\">            0.699429</td><td>2023-02-21_20-40-47</td><td>True  </td><td>                </td><td>523931c2c7e44c06bc28f83c670e5057</td><td>hjavedani-MB</td><td style=\"text-align: right;\">                         1</td><td>127.0.0.1</td><td style=\"text-align: right;\">   0.699429</td><td style=\"text-align: right;\">39685</td><td style=\"text-align: right;\">           0.690608</td><td style=\"text-align: right;\">           0.708166</td><td style=\"text-align: right;\">           0.699513</td><td style=\"text-align: right;\">            21.9464 </td><td style=\"text-align: right;\">          21.9464 </td><td style=\"text-align: right;\">      21.9464 </td><td style=\"text-align: right;\"> 1677040847</td><td style=\"text-align: right;\">                        0</td><td>                 </td><td style=\"text-align: right;\">                   1</td><td>ad2069fe  </td><td style=\"text-align: right;\">    0.0525839</td></tr>\n",
       "<tr><td>_Trainable_de80cc66</td><td style=\"text-align: right;\">            0.701657</td><td>2023-02-21_20-40-41</td><td>True  </td><td>                </td><td>c86463da80b64b38b7ed20bd815508e8</td><td>hjavedani-MB</td><td style=\"text-align: right;\">                         1</td><td>127.0.0.1</td><td style=\"text-align: right;\">   0.701657</td><td style=\"text-align: right;\">39677</td><td style=\"text-align: right;\">           0.690763</td><td style=\"text-align: right;\">           0.710764</td><td style=\"text-align: right;\">           0.703444</td><td style=\"text-align: right;\">            21.5517 </td><td style=\"text-align: right;\">          21.5517 </td><td style=\"text-align: right;\">      21.5517 </td><td style=\"text-align: right;\"> 1677040841</td><td style=\"text-align: right;\">                        0</td><td>                 </td><td style=\"text-align: right;\">                   1</td><td>de80cc66  </td><td style=\"text-align: right;\">    0.0299792</td></tr>\n",
       "<tr><td>_Trainable_f23ee3be</td><td style=\"text-align: right;\">            0.695568</td><td>2023-02-21_20-40-50</td><td>True  </td><td>                </td><td>3524ce49e0534244a5942cdfc69f8196</td><td>hjavedani-MB</td><td style=\"text-align: right;\">                         1</td><td>127.0.0.1</td><td style=\"text-align: right;\">   0.695568</td><td style=\"text-align: right;\">39689</td><td style=\"text-align: right;\">           0.690374</td><td style=\"text-align: right;\">           0.702056</td><td style=\"text-align: right;\">           0.694275</td><td style=\"text-align: right;\">            18.6943 </td><td style=\"text-align: right;\">          18.6943 </td><td style=\"text-align: right;\">      18.6943 </td><td style=\"text-align: right;\"> 1677040850</td><td style=\"text-align: right;\">                        0</td><td>                 </td><td style=\"text-align: right;\">                   1</td><td>f23ee3be  </td><td style=\"text-align: right;\">    0.0582979</td></tr>\n",
       "<tr><td>_Trainable_ff7a5643</td><td style=\"text-align: right;\">            0.701657</td><td>2023-02-21_20-40-46</td><td>True  </td><td>                </td><td>b1c0877d500e45b7a934e2d81581e288</td><td>hjavedani-MB</td><td style=\"text-align: right;\">                         1</td><td>127.0.0.1</td><td style=\"text-align: right;\">   0.701657</td><td style=\"text-align: right;\">39684</td><td style=\"text-align: right;\">           0.690763</td><td style=\"text-align: right;\">           0.710764</td><td style=\"text-align: right;\">           0.703444</td><td style=\"text-align: right;\">            20.4548 </td><td style=\"text-align: right;\">          20.4548 </td><td style=\"text-align: right;\">      20.4548 </td><td style=\"text-align: right;\"> 1677040846</td><td style=\"text-align: right;\">                        0</td><td>                 </td><td style=\"text-align: right;\">                   1</td><td>ff7a5643  </td><td style=\"text-align: right;\">    0.0482981</td></tr>\n",
       "</tbody>\n",
       "</table>\n",
       "</div>\n",
       "<style>\n",
       ".trialProgress {\n",
       "  display: flex;\n",
       "  flex-direction: column;\n",
       "  color: var(--jp-ui-font-color1);\n",
       "}\n",
       ".trialProgress h3 {\n",
       "  font-weight: bold;\n",
       "}\n",
       ".trialProgress td {\n",
       "  white-space: nowrap;\n",
       "}\n",
       "</style>\n"
      ],
      "text/plain": [
       "<IPython.core.display.HTML object>"
      ]
     },
     "metadata": {},
     "output_type": "display_data"
    },
    {
     "name": "stderr",
     "output_type": "stream",
     "text": [
      "2023-02-21 20:40:51,193\tINFO tune.py:762 -- Total run time: 35.03 seconds (34.77 seconds for the tuning loop).\n"
     ]
    }
   ],
   "source": [
    "pipeline.fit(X_train,y_train)\n",
    "y_pred = pipeline.predict(X_test)\n"
   ]
  },
  {
   "cell_type": "markdown",
   "metadata": {},
   "source": [
    "#### Check performance of the pipeline"
   ]
  },
  {
   "cell_type": "code",
   "execution_count": 10,
   "metadata": {},
   "outputs": [
    {
     "name": "stdout",
     "output_type": "stream",
     "text": [
      "F1 score : \n",
      "0.7138089278264498\n",
      "Classification report : \n",
      "              precision    recall  f1-score   support\n",
      "\n",
      "           0       0.90      0.94      0.92      8158\n",
      "           1       0.78      0.66      0.71      2588\n",
      "\n",
      "    accuracy                           0.87     10746\n",
      "   macro avg       0.84      0.80      0.82     10746\n",
      "weighted avg       0.87      0.87      0.87     10746\n",
      "\n",
      "Confusion matrix : \n",
      "[[7663  495]\n",
      " [ 877 1711]]\n"
     ]
    }
   ],
   "source": [
    "print('F1 score : ')\n",
    "print(f1_score(y_test,y_pred))\n",
    "print('Classification report : ')\n",
    "print(classification_report(y_test,y_pred))\n",
    "print('Confusion matrix : ')\n",
    "print(confusion_matrix(y_test,y_pred))\n"
   ]
  },
  {
   "cell_type": "markdown",
   "metadata": {},
   "source": [
    "#### Part 2:  Use BestModel as a standalone estimator "
   ]
  },
  {
   "cell_type": "code",
   "execution_count": 11,
   "metadata": {},
   "outputs": [],
   "source": [
    "X_train, X_test, y_train, y_test =train_test_split(X, y, \\\n",
    "     test_size=0.33, stratify=y['label'], random_state=42)"
   ]
  },
  {
   "cell_type": "markdown",
   "metadata": {},
   "source": [
    "#### Transform features to make them ready for model input"
   ]
  },
  {
   "cell_type": "code",
   "execution_count": 12,
   "metadata": {},
   "outputs": [],
   "source": [
    "transform_pipeline =Pipeline([\n",
    "            # int missing values imputers\n",
    "            ('intimputer', MeanMedianImputer(\n",
    "                imputation_method='median', variables=int_cols)),\n",
    "            # category missing values imputers\n",
    "            ('catimputer', CategoricalImputer(variables=cat_cols)),\n",
    "            #\n",
    "            ('catencoder', OrdinalEncoder()),\n",
    "            # classification model\n",
    "\n",
    " ])"
   ]
  },
  {
   "cell_type": "markdown",
   "metadata": {},
   "source": [
    "#### Transform X_train and X_test"
   ]
  },
  {
   "cell_type": "code",
   "execution_count": 13,
   "metadata": {},
   "outputs": [],
   "source": [
    "X_train=transform_pipeline.fit_transform(X_train,y_train)\n",
    "X_test=transform_pipeline.transform(X_test)\n"
   ]
  },
  {
   "cell_type": "markdown",
   "metadata": {},
   "source": [
    "#### Train model and predict"
   ]
  },
  {
   "cell_type": "code",
   "execution_count": 14,
   "metadata": {},
   "outputs": [
    {
     "name": "stdout",
     "output_type": "stream",
     "text": [
      "2023-02-21 20:40:52,203 :: dev :: The optimization will be based on make_scorer(f1_score) metric!\n",
      "2023-02-21 20:40:52,203 :: dev :: The optimization will be based on make_scorer(f1_score) metric!\n"
     ]
    },
    {
     "data": {
      "text/html": [
       "<div class=\"tuneStatus\">\n",
       "  <div style=\"display: flex;flex-direction: row\">\n",
       "    <div style=\"display: flex;flex-direction: column;\">\n",
       "      <h3>Tune Status</h3>\n",
       "      <table>\n",
       "<tbody>\n",
       "<tr><td>Current time:</td><td>2023-02-21 20:41:56</td></tr>\n",
       "<tr><td>Running for: </td><td>00:01:04.11        </td></tr>\n",
       "<tr><td>Memory:      </td><td>16.3/32.0 GiB      </td></tr>\n",
       "</tbody>\n",
       "</table>\n",
       "    </div>\n",
       "    <div class=\"vDivider\"></div>\n",
       "    <div class=\"systemInfo\">\n",
       "      <h3>System Info</h3>\n",
       "      Using FIFO scheduling algorithm.<br>Resources requested: 0/8 CPUs, 0/0 GPUs, 0.0/13.15 GiB heap, 0.0/2.0 GiB objects\n",
       "    </div>\n",
       "    \n",
       "  </div>\n",
       "  <div class=\"hDivider\"></div>\n",
       "  <div class=\"trialStatus\">\n",
       "    <h3>Trial Status</h3>\n",
       "    <table>\n",
       "<thead>\n",
       "<tr><th>Trial name         </th><th>status    </th><th>loc            </th><th>booster  </th><th>eval_metric  </th><th style=\"text-align: right;\">  gamma</th><th style=\"text-align: right;\">  max_depth</th><th style=\"text-align: right;\">  subsample</th><th style=\"text-align: right;\">  iter</th><th style=\"text-align: right;\">  total time (s)</th><th style=\"text-align: right;\">  split0_test_score</th><th style=\"text-align: right;\">  split1_test_score</th><th style=\"text-align: right;\">  split2_test_score</th></tr>\n",
       "</thead>\n",
       "<tbody>\n",
       "<tr><td>_Trainable_ce330c5c</td><td>TERMINATED</td><td>127.0.0.1:39701</td><td>dart     </td><td>auc          </td><td style=\"text-align: right;\">    1.2</td><td style=\"text-align: right;\">          4</td><td style=\"text-align: right;\">        0.8</td><td style=\"text-align: right;\">     1</td><td style=\"text-align: right;\">        46.5532 </td><td style=\"text-align: right;\">           0.690763</td><td style=\"text-align: right;\">           0.710764</td><td style=\"text-align: right;\">           0.703444</td></tr>\n",
       "<tr><td>_Trainable_caa2eb1f</td><td>TERMINATED</td><td>127.0.0.1:39702</td><td>dart     </td><td>auc          </td><td style=\"text-align: right;\">    1.2</td><td style=\"text-align: right;\">          4</td><td style=\"text-align: right;\">        0.8</td><td style=\"text-align: right;\">     1</td><td style=\"text-align: right;\">        46.2493 </td><td style=\"text-align: right;\">           0.690763</td><td style=\"text-align: right;\">           0.710764</td><td style=\"text-align: right;\">           0.703444</td></tr>\n",
       "<tr><td>_Trainable_5e99056f</td><td>TERMINATED</td><td>127.0.0.1:39703</td><td>dart     </td><td>auc          </td><td style=\"text-align: right;\">    1.2</td><td style=\"text-align: right;\">          5</td><td style=\"text-align: right;\">        0.8</td><td style=\"text-align: right;\">     1</td><td style=\"text-align: right;\">        48.0512 </td><td style=\"text-align: right;\">           0.690608</td><td style=\"text-align: right;\">           0.708166</td><td style=\"text-align: right;\">           0.699513</td></tr>\n",
       "<tr><td>_Trainable_4eb979ff</td><td>TERMINATED</td><td>127.0.0.1:39704</td><td>gbtree   </td><td>auc          </td><td style=\"text-align: right;\">    0.1</td><td style=\"text-align: right;\">          4</td><td style=\"text-align: right;\">        0.8</td><td style=\"text-align: right;\">     1</td><td style=\"text-align: right;\">         6.63711</td><td style=\"text-align: right;\">           0.688992</td><td style=\"text-align: right;\">           0.709335</td><td style=\"text-align: right;\">           0.703579</td></tr>\n",
       "<tr><td>_Trainable_49da35cf</td><td>TERMINATED</td><td>127.0.0.1:39705</td><td>gbtree   </td><td>auc          </td><td style=\"text-align: right;\">    0.1</td><td style=\"text-align: right;\">          5</td><td style=\"text-align: right;\">        0.8</td><td style=\"text-align: right;\">     1</td><td style=\"text-align: right;\">         8.25524</td><td style=\"text-align: right;\">           0.69092 </td><td style=\"text-align: right;\">           0.70872 </td><td style=\"text-align: right;\">           0.698085</td></tr>\n",
       "<tr><td>_Trainable_3a7a7eaf</td><td>TERMINATED</td><td>127.0.0.1:39706</td><td>dart     </td><td>auc          </td><td style=\"text-align: right;\">    1.2</td><td style=\"text-align: right;\">          5</td><td style=\"text-align: right;\">        0.8</td><td style=\"text-align: right;\">     1</td><td style=\"text-align: right;\">        48.0103 </td><td style=\"text-align: right;\">           0.690608</td><td style=\"text-align: right;\">           0.708166</td><td style=\"text-align: right;\">           0.699513</td></tr>\n",
       "<tr><td>_Trainable_f1708c91</td><td>TERMINATED</td><td>127.0.0.1:39707</td><td>gbtree   </td><td>auc          </td><td style=\"text-align: right;\">    1.2</td><td style=\"text-align: right;\">          5</td><td style=\"text-align: right;\">        0.8</td><td style=\"text-align: right;\">     1</td><td style=\"text-align: right;\">         8.21885</td><td style=\"text-align: right;\">           0.691739</td><td style=\"text-align: right;\">           0.711261</td><td style=\"text-align: right;\">           0.695492</td></tr>\n",
       "<tr><td>_Trainable_07cc4156</td><td>TERMINATED</td><td>127.0.0.1:39708</td><td>dart     </td><td>auc          </td><td style=\"text-align: right;\">    1.2</td><td style=\"text-align: right;\">          4</td><td style=\"text-align: right;\">        0.8</td><td style=\"text-align: right;\">     1</td><td style=\"text-align: right;\">        46.202  </td><td style=\"text-align: right;\">           0.690763</td><td style=\"text-align: right;\">           0.710764</td><td style=\"text-align: right;\">           0.703444</td></tr>\n",
       "<tr><td>_Trainable_0141c9e2</td><td>TERMINATED</td><td>127.0.0.1:39704</td><td>gbtree   </td><td>auc          </td><td style=\"text-align: right;\">    1.2</td><td style=\"text-align: right;\">          4</td><td style=\"text-align: right;\">        0.8</td><td style=\"text-align: right;\">     1</td><td style=\"text-align: right;\">        12.3708 </td><td style=\"text-align: right;\">           0.688971</td><td style=\"text-align: right;\">           0.712573</td><td style=\"text-align: right;\">           0.708321</td></tr>\n",
       "<tr><td>_Trainable_7b7e064a</td><td>TERMINATED</td><td>127.0.0.1:39705</td><td>dart     </td><td>auc          </td><td style=\"text-align: right;\">    0.1</td><td style=\"text-align: right;\">          5</td><td style=\"text-align: right;\">        0.8</td><td style=\"text-align: right;\">     1</td><td style=\"text-align: right;\">        44.048  </td><td style=\"text-align: right;\">           0.690374</td><td style=\"text-align: right;\">           0.702056</td><td style=\"text-align: right;\">           0.694275</td></tr>\n",
       "</tbody>\n",
       "</table>\n",
       "  </div>\n",
       "</div>\n",
       "<style>\n",
       ".tuneStatus {\n",
       "  color: var(--jp-ui-font-color1);\n",
       "}\n",
       ".tuneStatus .systemInfo {\n",
       "  display: flex;\n",
       "  flex-direction: column;\n",
       "}\n",
       ".tuneStatus td {\n",
       "  white-space: nowrap;\n",
       "}\n",
       ".tuneStatus .trialStatus {\n",
       "  display: flex;\n",
       "  flex-direction: column;\n",
       "}\n",
       ".tuneStatus h3 {\n",
       "  font-weight: bold;\n",
       "}\n",
       ".tuneStatus .hDivider {\n",
       "  border-bottom-width: var(--jp-border-width);\n",
       "  border-bottom-color: var(--jp-border-color0);\n",
       "  border-bottom-style: solid;\n",
       "}\n",
       ".tuneStatus .vDivider {\n",
       "  border-left-width: var(--jp-border-width);\n",
       "  border-left-color: var(--jp-border-color0);\n",
       "  border-left-style: solid;\n",
       "  margin: 0.5em 1em 0.5em 1em;\n",
       "}\n",
       "</style>\n"
      ],
      "text/plain": [
       "<IPython.core.display.HTML object>"
      ]
     },
     "metadata": {},
     "output_type": "display_data"
    },
    {
     "data": {
      "text/html": [
       "<div class=\"trialProgress\">\n",
       "  <h3>Trial Progress</h3>\n",
       "  <table>\n",
       "<thead>\n",
       "<tr><th>Trial name         </th><th style=\"text-align: right;\">  average_test_score</th><th>date               </th><th>done  </th><th>episodes_total  </th><th>experiment_id                   </th><th>hostname    </th><th style=\"text-align: right;\">  iterations_since_restore</th><th>node_ip  </th><th style=\"text-align: right;\">  objective</th><th style=\"text-align: right;\">  pid</th><th style=\"text-align: right;\">  split0_test_score</th><th style=\"text-align: right;\">  split1_test_score</th><th style=\"text-align: right;\">  split2_test_score</th><th style=\"text-align: right;\">  time_since_restore</th><th style=\"text-align: right;\">  time_this_iter_s</th><th style=\"text-align: right;\">  time_total_s</th><th style=\"text-align: right;\">  timestamp</th><th style=\"text-align: right;\">  timesteps_since_restore</th><th>timesteps_total  </th><th style=\"text-align: right;\">  training_iteration</th><th>trial_id  </th><th style=\"text-align: right;\">  warmup_time</th></tr>\n",
       "</thead>\n",
       "<tbody>\n",
       "<tr><td>_Trainable_0141c9e2</td><td style=\"text-align: right;\">            0.703288</td><td>2023-02-21_20-41-22</td><td>True  </td><td>                </td><td>ed5041f84790447191bb7afa911dcbf2</td><td>hjavedani-MB</td><td style=\"text-align: right;\">                         1</td><td>127.0.0.1</td><td style=\"text-align: right;\">   0.703288</td><td style=\"text-align: right;\">39704</td><td style=\"text-align: right;\">           0.688971</td><td style=\"text-align: right;\">           0.712573</td><td style=\"text-align: right;\">           0.708321</td><td style=\"text-align: right;\">            12.3708 </td><td style=\"text-align: right;\">          12.3708 </td><td style=\"text-align: right;\">      12.3708 </td><td style=\"text-align: right;\"> 1677040882</td><td style=\"text-align: right;\">                        0</td><td>                 </td><td style=\"text-align: right;\">                   1</td><td>0141c9e2  </td><td style=\"text-align: right;\">    0.109459 </td></tr>\n",
       "<tr><td>_Trainable_07cc4156</td><td style=\"text-align: right;\">            0.701657</td><td>2023-02-21_20-41-50</td><td>True  </td><td>                </td><td>2b8b033f65e94fb7bfbb30fbc4a32115</td><td>hjavedani-MB</td><td style=\"text-align: right;\">                         1</td><td>127.0.0.1</td><td style=\"text-align: right;\">   0.701657</td><td style=\"text-align: right;\">39708</td><td style=\"text-align: right;\">           0.690763</td><td style=\"text-align: right;\">           0.710764</td><td style=\"text-align: right;\">           0.703444</td><td style=\"text-align: right;\">            46.202  </td><td style=\"text-align: right;\">          46.202  </td><td style=\"text-align: right;\">      46.202  </td><td style=\"text-align: right;\"> 1677040910</td><td style=\"text-align: right;\">                        0</td><td>                 </td><td style=\"text-align: right;\">                   1</td><td>07cc4156  </td><td style=\"text-align: right;\">    0.0706971</td></tr>\n",
       "<tr><td>_Trainable_3a7a7eaf</td><td style=\"text-align: right;\">            0.699429</td><td>2023-02-21_20-41-51</td><td>True  </td><td>                </td><td>9ba5847b30564bdc96571946574be320</td><td>hjavedani-MB</td><td style=\"text-align: right;\">                         1</td><td>127.0.0.1</td><td style=\"text-align: right;\">   0.699429</td><td style=\"text-align: right;\">39706</td><td style=\"text-align: right;\">           0.690608</td><td style=\"text-align: right;\">           0.708166</td><td style=\"text-align: right;\">           0.699513</td><td style=\"text-align: right;\">            48.0103 </td><td style=\"text-align: right;\">          48.0103 </td><td style=\"text-align: right;\">      48.0103 </td><td style=\"text-align: right;\"> 1677040911</td><td style=\"text-align: right;\">                        0</td><td>                 </td><td style=\"text-align: right;\">                   1</td><td>3a7a7eaf  </td><td style=\"text-align: right;\">    0.0964878</td></tr>\n",
       "<tr><td>_Trainable_49da35cf</td><td style=\"text-align: right;\">            0.699242</td><td>2023-02-21_20-41-12</td><td>True  </td><td>                </td><td>4714254bd8ed406fa26656c26253574a</td><td>hjavedani-MB</td><td style=\"text-align: right;\">                         1</td><td>127.0.0.1</td><td style=\"text-align: right;\">   0.699242</td><td style=\"text-align: right;\">39705</td><td style=\"text-align: right;\">           0.69092 </td><td style=\"text-align: right;\">           0.70872 </td><td style=\"text-align: right;\">           0.698085</td><td style=\"text-align: right;\">             8.25524</td><td style=\"text-align: right;\">           8.25524</td><td style=\"text-align: right;\">       8.25524</td><td style=\"text-align: right;\"> 1677040872</td><td style=\"text-align: right;\">                        0</td><td>                 </td><td style=\"text-align: right;\">                   1</td><td>49da35cf  </td><td style=\"text-align: right;\">    0.091363 </td></tr>\n",
       "<tr><td>_Trainable_4eb979ff</td><td style=\"text-align: right;\">            0.700635</td><td>2023-02-21_20-41-10</td><td>True  </td><td>                </td><td>ed5041f84790447191bb7afa911dcbf2</td><td>hjavedani-MB</td><td style=\"text-align: right;\">                         1</td><td>127.0.0.1</td><td style=\"text-align: right;\">   0.700635</td><td style=\"text-align: right;\">39704</td><td style=\"text-align: right;\">           0.688992</td><td style=\"text-align: right;\">           0.709335</td><td style=\"text-align: right;\">           0.703579</td><td style=\"text-align: right;\">             6.63711</td><td style=\"text-align: right;\">           6.63711</td><td style=\"text-align: right;\">       6.63711</td><td style=\"text-align: right;\"> 1677040870</td><td style=\"text-align: right;\">                        0</td><td>                 </td><td style=\"text-align: right;\">                   1</td><td>4eb979ff  </td><td style=\"text-align: right;\">    0.109459 </td></tr>\n",
       "<tr><td>_Trainable_5e99056f</td><td style=\"text-align: right;\">            0.699429</td><td>2023-02-21_20-41-51</td><td>True  </td><td>                </td><td>546e81e2322b41d7974065879aabdec5</td><td>hjavedani-MB</td><td style=\"text-align: right;\">                         1</td><td>127.0.0.1</td><td style=\"text-align: right;\">   0.699429</td><td style=\"text-align: right;\">39703</td><td style=\"text-align: right;\">           0.690608</td><td style=\"text-align: right;\">           0.708166</td><td style=\"text-align: right;\">           0.699513</td><td style=\"text-align: right;\">            48.0512 </td><td style=\"text-align: right;\">          48.0512 </td><td style=\"text-align: right;\">      48.0512 </td><td style=\"text-align: right;\"> 1677040911</td><td style=\"text-align: right;\">                        0</td><td>                 </td><td style=\"text-align: right;\">                   1</td><td>5e99056f  </td><td style=\"text-align: right;\">    0.0796759</td></tr>\n",
       "<tr><td>_Trainable_7b7e064a</td><td style=\"text-align: right;\">            0.695568</td><td>2023-02-21_20-41-56</td><td>True  </td><td>                </td><td>4714254bd8ed406fa26656c26253574a</td><td>hjavedani-MB</td><td style=\"text-align: right;\">                         1</td><td>127.0.0.1</td><td style=\"text-align: right;\">   0.695568</td><td style=\"text-align: right;\">39705</td><td style=\"text-align: right;\">           0.690374</td><td style=\"text-align: right;\">           0.702056</td><td style=\"text-align: right;\">           0.694275</td><td style=\"text-align: right;\">            44.048  </td><td style=\"text-align: right;\">          44.048  </td><td style=\"text-align: right;\">      44.048  </td><td style=\"text-align: right;\"> 1677040916</td><td style=\"text-align: right;\">                        0</td><td>                 </td><td style=\"text-align: right;\">                   1</td><td>7b7e064a  </td><td style=\"text-align: right;\">    0.091363 </td></tr>\n",
       "<tr><td>_Trainable_caa2eb1f</td><td style=\"text-align: right;\">            0.701657</td><td>2023-02-21_20-41-50</td><td>True  </td><td>                </td><td>12811884c94e4249a4a640e371e0bd9a</td><td>hjavedani-MB</td><td style=\"text-align: right;\">                         1</td><td>127.0.0.1</td><td style=\"text-align: right;\">   0.701657</td><td style=\"text-align: right;\">39702</td><td style=\"text-align: right;\">           0.690763</td><td style=\"text-align: right;\">           0.710764</td><td style=\"text-align: right;\">           0.703444</td><td style=\"text-align: right;\">            46.2493 </td><td style=\"text-align: right;\">          46.2493 </td><td style=\"text-align: right;\">      46.2493 </td><td style=\"text-align: right;\"> 1677040910</td><td style=\"text-align: right;\">                        0</td><td>                 </td><td style=\"text-align: right;\">                   1</td><td>caa2eb1f  </td><td style=\"text-align: right;\">    0.0988958</td></tr>\n",
       "<tr><td>_Trainable_ce330c5c</td><td style=\"text-align: right;\">            0.701657</td><td>2023-02-21_20-41-43</td><td>True  </td><td>                </td><td>24963d7026c1459fb8394b21322fc9e0</td><td>hjavedani-MB</td><td style=\"text-align: right;\">                         1</td><td>127.0.0.1</td><td style=\"text-align: right;\">   0.701657</td><td style=\"text-align: right;\">39701</td><td style=\"text-align: right;\">           0.690763</td><td style=\"text-align: right;\">           0.710764</td><td style=\"text-align: right;\">           0.703444</td><td style=\"text-align: right;\">            46.5532 </td><td style=\"text-align: right;\">          46.5532 </td><td style=\"text-align: right;\">      46.5532 </td><td style=\"text-align: right;\"> 1677040903</td><td style=\"text-align: right;\">                        0</td><td>                 </td><td style=\"text-align: right;\">                   1</td><td>ce330c5c  </td><td style=\"text-align: right;\">    0.0317891</td></tr>\n",
       "<tr><td>_Trainable_f1708c91</td><td style=\"text-align: right;\">            0.699497</td><td>2023-02-21_20-41-12</td><td>True  </td><td>                </td><td>d0f3194581854d6494e46a8289f75e36</td><td>hjavedani-MB</td><td style=\"text-align: right;\">                         1</td><td>127.0.0.1</td><td style=\"text-align: right;\">   0.699497</td><td style=\"text-align: right;\">39707</td><td style=\"text-align: right;\">           0.691739</td><td style=\"text-align: right;\">           0.711261</td><td style=\"text-align: right;\">           0.695492</td><td style=\"text-align: right;\">             8.21885</td><td style=\"text-align: right;\">           8.21885</td><td style=\"text-align: right;\">       8.21885</td><td style=\"text-align: right;\"> 1677040872</td><td style=\"text-align: right;\">                        0</td><td>                 </td><td style=\"text-align: right;\">                   1</td><td>f1708c91  </td><td style=\"text-align: right;\">    0.1222   </td></tr>\n",
       "</tbody>\n",
       "</table>\n",
       "</div>\n",
       "<style>\n",
       ".trialProgress {\n",
       "  display: flex;\n",
       "  flex-direction: column;\n",
       "  color: var(--jp-ui-font-color1);\n",
       "}\n",
       ".trialProgress h3 {\n",
       "  font-weight: bold;\n",
       "}\n",
       ".trialProgress td {\n",
       "  white-space: nowrap;\n",
       "}\n",
       "</style>\n"
      ],
      "text/plain": [
       "<IPython.core.display.HTML object>"
      ]
     },
     "metadata": {},
     "output_type": "display_data"
    },
    {
     "name": "stderr",
     "output_type": "stream",
     "text": [
      "2023-02-21 20:41:56,553\tINFO tune.py:762 -- Total run time: 64.34 seconds (64.10 seconds for the tuning loop).\n"
     ]
    }
   ],
   "source": [
    "obj.fit(X_train,y_train)\n",
    "y_pred = obj.predict(X_test)"
   ]
  },
  {
   "cell_type": "markdown",
   "metadata": {},
   "source": [
    "#### Check performance of the pipeline"
   ]
  },
  {
   "cell_type": "code",
   "execution_count": 15,
   "metadata": {},
   "outputs": [
    {
     "name": "stdout",
     "output_type": "stream",
     "text": [
      "F1 score : \n",
      "0.7138089278264498\n",
      "Classification report : \n",
      "              precision    recall  f1-score   support\n",
      "\n",
      "           0       0.90      0.94      0.92      8158\n",
      "           1       0.78      0.66      0.71      2588\n",
      "\n",
      "    accuracy                           0.87     10746\n",
      "   macro avg       0.84      0.80      0.82     10746\n",
      "weighted avg       0.87      0.87      0.87     10746\n",
      "\n",
      "Confusion matrix : \n",
      "[[7663  495]\n",
      " [ 877 1711]]\n"
     ]
    }
   ],
   "source": [
    "print('F1 score : ')\n",
    "print(f1_score(y_test,y_pred))\n",
    "print('Classification report : ')\n",
    "print(classification_report(y_test,y_pred))\n",
    "print('Confusion matrix : ')\n",
    "print(confusion_matrix(y_test,y_pred))"
   ]
  },
  {
   "cell_type": "code",
   "execution_count": 16,
   "metadata": {},
   "outputs": [
    {
     "data": {
      "text/html": [
       "<style>#sk-container-id-1 {color: black;background-color: white;}#sk-container-id-1 pre{padding: 0;}#sk-container-id-1 div.sk-toggleable {background-color: white;}#sk-container-id-1 label.sk-toggleable__label {cursor: pointer;display: block;width: 100%;margin-bottom: 0;padding: 0.3em;box-sizing: border-box;text-align: center;}#sk-container-id-1 label.sk-toggleable__label-arrow:before {content: \"▸\";float: left;margin-right: 0.25em;color: #696969;}#sk-container-id-1 label.sk-toggleable__label-arrow:hover:before {color: black;}#sk-container-id-1 div.sk-estimator:hover label.sk-toggleable__label-arrow:before {color: black;}#sk-container-id-1 div.sk-toggleable__content {max-height: 0;max-width: 0;overflow: hidden;text-align: left;background-color: #f0f8ff;}#sk-container-id-1 div.sk-toggleable__content pre {margin: 0.2em;color: black;border-radius: 0.25em;background-color: #f0f8ff;}#sk-container-id-1 input.sk-toggleable__control:checked~div.sk-toggleable__content {max-height: 200px;max-width: 100%;overflow: auto;}#sk-container-id-1 input.sk-toggleable__control:checked~label.sk-toggleable__label-arrow:before {content: \"▾\";}#sk-container-id-1 div.sk-estimator input.sk-toggleable__control:checked~label.sk-toggleable__label {background-color: #d4ebff;}#sk-container-id-1 div.sk-label input.sk-toggleable__control:checked~label.sk-toggleable__label {background-color: #d4ebff;}#sk-container-id-1 input.sk-hidden--visually {border: 0;clip: rect(1px 1px 1px 1px);clip: rect(1px, 1px, 1px, 1px);height: 1px;margin: -1px;overflow: hidden;padding: 0;position: absolute;width: 1px;}#sk-container-id-1 div.sk-estimator {font-family: monospace;background-color: #f0f8ff;border: 1px dotted black;border-radius: 0.25em;box-sizing: border-box;margin-bottom: 0.5em;}#sk-container-id-1 div.sk-estimator:hover {background-color: #d4ebff;}#sk-container-id-1 div.sk-parallel-item::after {content: \"\";width: 100%;border-bottom: 1px solid gray;flex-grow: 1;}#sk-container-id-1 div.sk-label:hover label.sk-toggleable__label {background-color: #d4ebff;}#sk-container-id-1 div.sk-serial::before {content: \"\";position: absolute;border-left: 1px solid gray;box-sizing: border-box;top: 0;bottom: 0;left: 50%;z-index: 0;}#sk-container-id-1 div.sk-serial {display: flex;flex-direction: column;align-items: center;background-color: white;padding-right: 0.2em;padding-left: 0.2em;position: relative;}#sk-container-id-1 div.sk-item {position: relative;z-index: 1;}#sk-container-id-1 div.sk-parallel {display: flex;align-items: stretch;justify-content: center;background-color: white;position: relative;}#sk-container-id-1 div.sk-item::before, #sk-container-id-1 div.sk-parallel-item::before {content: \"\";position: absolute;border-left: 1px solid gray;box-sizing: border-box;top: 0;bottom: 0;left: 50%;z-index: -1;}#sk-container-id-1 div.sk-parallel-item {display: flex;flex-direction: column;z-index: 1;position: relative;background-color: white;}#sk-container-id-1 div.sk-parallel-item:first-child::after {align-self: flex-end;width: 50%;}#sk-container-id-1 div.sk-parallel-item:last-child::after {align-self: flex-start;width: 50%;}#sk-container-id-1 div.sk-parallel-item:only-child::after {width: 0;}#sk-container-id-1 div.sk-dashed-wrapped {border: 1px dashed gray;margin: 0 0.4em 0.5em 0.4em;box-sizing: border-box;padding-bottom: 0.4em;background-color: white;}#sk-container-id-1 div.sk-label label {font-family: monospace;font-weight: bold;display: inline-block;line-height: 1.2em;}#sk-container-id-1 div.sk-label-container {text-align: center;}#sk-container-id-1 div.sk-container {/* jupyter's `normalize.less` sets `[hidden] { display: none; }` but bootstrap.min.css set `[hidden] { display: none !important; }` so we also need the `!important` here to be able to override the default hidden behavior on the sphinx rendered scikit-learn.org. See: https://github.com/scikit-learn/scikit-learn/issues/21755 */display: inline-block !important;position: relative;}#sk-container-id-1 div.sk-text-repr-fallback {display: none;}</style><div id=\"sk-container-id-1\" class=\"sk-top-container\"><div class=\"sk-text-repr-fallback\"><pre>XGBClassifier(base_score=0.5, booster=&#x27;gbtree&#x27;, callbacks=None,\n",
       "              colsample_bylevel=1, colsample_bynode=1, colsample_bytree=1,\n",
       "              early_stopping_rounds=None, enable_categorical=False,\n",
       "              eval_metric=&#x27;auc&#x27;, feature_types=None, gamma=1.2, gpu_id=-1,\n",
       "              grow_policy=&#x27;depthwise&#x27;, importance_type=None,\n",
       "              interaction_constraints=&#x27;&#x27;, learning_rate=0.300000012,\n",
       "              max_bin=256, max_cat_threshold=64, max_cat_to_onehot=4,\n",
       "              max_delta_step=0, max_depth=4, max_leaves=0, min_child_weight=1,\n",
       "              missing=nan, monotone_constraints=&#x27;()&#x27;, n_estimators=100,\n",
       "              n_jobs=0, num_parallel_tree=1, predictor=&#x27;auto&#x27;, random_state=0, ...)</pre><b>In a Jupyter environment, please rerun this cell to show the HTML representation or trust the notebook. <br />On GitHub, the HTML representation is unable to render, please try loading this page with nbviewer.org.</b></div><div class=\"sk-container\" hidden><div class=\"sk-item\"><div class=\"sk-estimator sk-toggleable\"><input class=\"sk-toggleable__control sk-hidden--visually\" id=\"sk-estimator-id-1\" type=\"checkbox\" checked><label for=\"sk-estimator-id-1\" class=\"sk-toggleable__label sk-toggleable__label-arrow\">XGBClassifier</label><div class=\"sk-toggleable__content\"><pre>XGBClassifier(base_score=0.5, booster=&#x27;gbtree&#x27;, callbacks=None,\n",
       "              colsample_bylevel=1, colsample_bynode=1, colsample_bytree=1,\n",
       "              early_stopping_rounds=None, enable_categorical=False,\n",
       "              eval_metric=&#x27;auc&#x27;, feature_types=None, gamma=1.2, gpu_id=-1,\n",
       "              grow_policy=&#x27;depthwise&#x27;, importance_type=None,\n",
       "              interaction_constraints=&#x27;&#x27;, learning_rate=0.300000012,\n",
       "              max_bin=256, max_cat_threshold=64, max_cat_to_onehot=4,\n",
       "              max_delta_step=0, max_depth=4, max_leaves=0, min_child_weight=1,\n",
       "              missing=nan, monotone_constraints=&#x27;()&#x27;, n_estimators=100,\n",
       "              n_jobs=0, num_parallel_tree=1, predictor=&#x27;auto&#x27;, random_state=0, ...)</pre></div></div></div></div></div>"
      ],
      "text/plain": [
       "XGBClassifier(base_score=0.5, booster='gbtree', callbacks=None,\n",
       "              colsample_bylevel=1, colsample_bynode=1, colsample_bytree=1,\n",
       "              early_stopping_rounds=None, enable_categorical=False,\n",
       "              eval_metric='auc', feature_types=None, gamma=1.2, gpu_id=-1,\n",
       "              grow_policy='depthwise', importance_type=None,\n",
       "              interaction_constraints='', learning_rate=0.300000012,\n",
       "              max_bin=256, max_cat_threshold=64, max_cat_to_onehot=4,\n",
       "              max_delta_step=0, max_depth=4, max_leaves=0, min_child_weight=1,\n",
       "              missing=nan, monotone_constraints='()', n_estimators=100,\n",
       "              n_jobs=0, num_parallel_tree=1, predictor='auto', random_state=0, ...)"
      ]
     },
     "execution_count": 16,
     "metadata": {},
     "output_type": "execute_result"
    }
   ],
   "source": [
    "obj.get_best_estimator()"
   ]
  },
  {
   "cell_type": "code",
   "execution_count": 17,
   "metadata": {},
   "outputs": [
    {
     "data": {
      "text/html": [
       "<style>#sk-container-id-2 {color: black;background-color: white;}#sk-container-id-2 pre{padding: 0;}#sk-container-id-2 div.sk-toggleable {background-color: white;}#sk-container-id-2 label.sk-toggleable__label {cursor: pointer;display: block;width: 100%;margin-bottom: 0;padding: 0.3em;box-sizing: border-box;text-align: center;}#sk-container-id-2 label.sk-toggleable__label-arrow:before {content: \"▸\";float: left;margin-right: 0.25em;color: #696969;}#sk-container-id-2 label.sk-toggleable__label-arrow:hover:before {color: black;}#sk-container-id-2 div.sk-estimator:hover label.sk-toggleable__label-arrow:before {color: black;}#sk-container-id-2 div.sk-toggleable__content {max-height: 0;max-width: 0;overflow: hidden;text-align: left;background-color: #f0f8ff;}#sk-container-id-2 div.sk-toggleable__content pre {margin: 0.2em;color: black;border-radius: 0.25em;background-color: #f0f8ff;}#sk-container-id-2 input.sk-toggleable__control:checked~div.sk-toggleable__content {max-height: 200px;max-width: 100%;overflow: auto;}#sk-container-id-2 input.sk-toggleable__control:checked~label.sk-toggleable__label-arrow:before {content: \"▾\";}#sk-container-id-2 div.sk-estimator input.sk-toggleable__control:checked~label.sk-toggleable__label {background-color: #d4ebff;}#sk-container-id-2 div.sk-label input.sk-toggleable__control:checked~label.sk-toggleable__label {background-color: #d4ebff;}#sk-container-id-2 input.sk-hidden--visually {border: 0;clip: rect(1px 1px 1px 1px);clip: rect(1px, 1px, 1px, 1px);height: 1px;margin: -1px;overflow: hidden;padding: 0;position: absolute;width: 1px;}#sk-container-id-2 div.sk-estimator {font-family: monospace;background-color: #f0f8ff;border: 1px dotted black;border-radius: 0.25em;box-sizing: border-box;margin-bottom: 0.5em;}#sk-container-id-2 div.sk-estimator:hover {background-color: #d4ebff;}#sk-container-id-2 div.sk-parallel-item::after {content: \"\";width: 100%;border-bottom: 1px solid gray;flex-grow: 1;}#sk-container-id-2 div.sk-label:hover label.sk-toggleable__label {background-color: #d4ebff;}#sk-container-id-2 div.sk-serial::before {content: \"\";position: absolute;border-left: 1px solid gray;box-sizing: border-box;top: 0;bottom: 0;left: 50%;z-index: 0;}#sk-container-id-2 div.sk-serial {display: flex;flex-direction: column;align-items: center;background-color: white;padding-right: 0.2em;padding-left: 0.2em;position: relative;}#sk-container-id-2 div.sk-item {position: relative;z-index: 1;}#sk-container-id-2 div.sk-parallel {display: flex;align-items: stretch;justify-content: center;background-color: white;position: relative;}#sk-container-id-2 div.sk-item::before, #sk-container-id-2 div.sk-parallel-item::before {content: \"\";position: absolute;border-left: 1px solid gray;box-sizing: border-box;top: 0;bottom: 0;left: 50%;z-index: -1;}#sk-container-id-2 div.sk-parallel-item {display: flex;flex-direction: column;z-index: 1;position: relative;background-color: white;}#sk-container-id-2 div.sk-parallel-item:first-child::after {align-self: flex-end;width: 50%;}#sk-container-id-2 div.sk-parallel-item:last-child::after {align-self: flex-start;width: 50%;}#sk-container-id-2 div.sk-parallel-item:only-child::after {width: 0;}#sk-container-id-2 div.sk-dashed-wrapped {border: 1px dashed gray;margin: 0 0.4em 0.5em 0.4em;box-sizing: border-box;padding-bottom: 0.4em;background-color: white;}#sk-container-id-2 div.sk-label label {font-family: monospace;font-weight: bold;display: inline-block;line-height: 1.2em;}#sk-container-id-2 div.sk-label-container {text-align: center;}#sk-container-id-2 div.sk-container {/* jupyter's `normalize.less` sets `[hidden] { display: none; }` but bootstrap.min.css set `[hidden] { display: none !important; }` so we also need the `!important` here to be able to override the default hidden behavior on the sphinx rendered scikit-learn.org. See: https://github.com/scikit-learn/scikit-learn/issues/21755 */display: inline-block !important;position: relative;}#sk-container-id-2 div.sk-text-repr-fallback {display: none;}</style><div id=\"sk-container-id-2\" class=\"sk-top-container\"><div class=\"sk-text-repr-fallback\"><pre>XGBClassifier(base_score=0.5, booster=&#x27;gbtree&#x27;, callbacks=None,\n",
       "              colsample_bylevel=1, colsample_bynode=1, colsample_bytree=1,\n",
       "              early_stopping_rounds=None, enable_categorical=False,\n",
       "              eval_metric=&#x27;auc&#x27;, feature_types=None, gamma=1.2, gpu_id=-1,\n",
       "              grow_policy=&#x27;depthwise&#x27;, importance_type=None,\n",
       "              interaction_constraints=&#x27;&#x27;, learning_rate=0.300000012,\n",
       "              max_bin=256, max_cat_threshold=64, max_cat_to_onehot=4,\n",
       "              max_delta_step=0, max_depth=4, max_leaves=0, min_child_weight=1,\n",
       "              missing=nan, monotone_constraints=&#x27;()&#x27;, n_estimators=100,\n",
       "              n_jobs=0, num_parallel_tree=1, predictor=&#x27;auto&#x27;, random_state=0, ...)</pre><b>In a Jupyter environment, please rerun this cell to show the HTML representation or trust the notebook. <br />On GitHub, the HTML representation is unable to render, please try loading this page with nbviewer.org.</b></div><div class=\"sk-container\" hidden><div class=\"sk-item\"><div class=\"sk-estimator sk-toggleable\"><input class=\"sk-toggleable__control sk-hidden--visually\" id=\"sk-estimator-id-2\" type=\"checkbox\" checked><label for=\"sk-estimator-id-2\" class=\"sk-toggleable__label sk-toggleable__label-arrow\">XGBClassifier</label><div class=\"sk-toggleable__content\"><pre>XGBClassifier(base_score=0.5, booster=&#x27;gbtree&#x27;, callbacks=None,\n",
       "              colsample_bylevel=1, colsample_bynode=1, colsample_bytree=1,\n",
       "              early_stopping_rounds=None, enable_categorical=False,\n",
       "              eval_metric=&#x27;auc&#x27;, feature_types=None, gamma=1.2, gpu_id=-1,\n",
       "              grow_policy=&#x27;depthwise&#x27;, importance_type=None,\n",
       "              interaction_constraints=&#x27;&#x27;, learning_rate=0.300000012,\n",
       "              max_bin=256, max_cat_threshold=64, max_cat_to_onehot=4,\n",
       "              max_delta_step=0, max_depth=4, max_leaves=0, min_child_weight=1,\n",
       "              missing=nan, monotone_constraints=&#x27;()&#x27;, n_estimators=100,\n",
       "              n_jobs=0, num_parallel_tree=1, predictor=&#x27;auto&#x27;, random_state=0, ...)</pre></div></div></div></div></div>"
      ],
      "text/plain": [
       "XGBClassifier(base_score=0.5, booster='gbtree', callbacks=None,\n",
       "              colsample_bylevel=1, colsample_bynode=1, colsample_bytree=1,\n",
       "              early_stopping_rounds=None, enable_categorical=False,\n",
       "              eval_metric='auc', feature_types=None, gamma=1.2, gpu_id=-1,\n",
       "              grow_policy='depthwise', importance_type=None,\n",
       "              interaction_constraints='', learning_rate=0.300000012,\n",
       "              max_bin=256, max_cat_threshold=64, max_cat_to_onehot=4,\n",
       "              max_delta_step=0, max_depth=4, max_leaves=0, min_child_weight=1,\n",
       "              missing=nan, monotone_constraints='()', n_estimators=100,\n",
       "              n_jobs=0, num_parallel_tree=1, predictor='auto', random_state=0, ...)"
      ]
     },
     "execution_count": 17,
     "metadata": {},
     "output_type": "execute_result"
    }
   ],
   "source": [
    "obj.best_estimator"
   ]
  },
  {
   "cell_type": "markdown",
   "metadata": {},
   "source": [
    "#### Get fitted grid search object and its attributes"
   ]
  },
  {
   "cell_type": "code",
   "execution_count": 18,
   "metadata": {},
   "outputs": [
    {
     "data": {
      "text/plain": [
       "{'params': [{'booster': 'dart',\n",
       "   'eval_metric': 'auc',\n",
       "   'gamma': 1.2,\n",
       "   'max_depth': 4,\n",
       "   'subsample': 0.8},\n",
       "  {'booster': 'dart',\n",
       "   'eval_metric': 'auc',\n",
       "   'gamma': 1.2,\n",
       "   'max_depth': 4,\n",
       "   'subsample': 0.8},\n",
       "  {'booster': 'dart',\n",
       "   'eval_metric': 'auc',\n",
       "   'gamma': 1.2,\n",
       "   'max_depth': 5,\n",
       "   'subsample': 0.8},\n",
       "  {'booster': 'gbtree',\n",
       "   'eval_metric': 'auc',\n",
       "   'gamma': 0.1,\n",
       "   'max_depth': 4,\n",
       "   'subsample': 0.8},\n",
       "  {'booster': 'gbtree',\n",
       "   'eval_metric': 'auc',\n",
       "   'gamma': 0.1,\n",
       "   'max_depth': 5,\n",
       "   'subsample': 0.8},\n",
       "  {'booster': 'dart',\n",
       "   'eval_metric': 'auc',\n",
       "   'gamma': 1.2,\n",
       "   'max_depth': 5,\n",
       "   'subsample': 0.8},\n",
       "  {'booster': 'gbtree',\n",
       "   'eval_metric': 'auc',\n",
       "   'gamma': 1.2,\n",
       "   'max_depth': 5,\n",
       "   'subsample': 0.8},\n",
       "  {'booster': 'dart',\n",
       "   'eval_metric': 'auc',\n",
       "   'gamma': 1.2,\n",
       "   'max_depth': 4,\n",
       "   'subsample': 0.8},\n",
       "  {'booster': 'gbtree',\n",
       "   'eval_metric': 'auc',\n",
       "   'gamma': 1.2,\n",
       "   'max_depth': 4,\n",
       "   'subsample': 0.8},\n",
       "  {'booster': 'dart',\n",
       "   'eval_metric': 'auc',\n",
       "   'gamma': 0.1,\n",
       "   'max_depth': 5,\n",
       "   'subsample': 0.8}],\n",
       " 'split0_test_score': array([0.69076305, 0.69076305, 0.69060773, 0.68899225, 0.6909204 ,\n",
       "        0.69060773, 0.69173859, 0.69076305, 0.6889715 , 0.690374  ]),\n",
       " 'split1_test_score': array([0.71076443, 0.71076443, 0.70816641, 0.709335  , 0.70871985,\n",
       "        0.70816641, 0.71126112, 0.71076443, 0.71257301, 0.70205585]),\n",
       " 'split2_test_score': array([0.70344407, 0.70344407, 0.69951338, 0.70357908, 0.69808452,\n",
       "        0.69951338, 0.69549218, 0.70344407, 0.70832063, 0.69427527]),\n",
       " 'mean_test_score': array([0.70165718, 0.70165718, 0.69942918, 0.70063544, 0.69924159,\n",
       "        0.69942918, 0.6994973 , 0.70165718, 0.70328838, 0.69556837]),\n",
       " 'std_test_score': array([0.00826271, 0.00826271, 0.00716855, 0.00856176, 0.00731251,\n",
       "        0.00716855, 0.00845825, 0.00826271, 0.01027134, 0.00485595]),\n",
       " 'rank_test_score': array([ 2,  2,  7,  5,  9,  7,  6,  2,  1, 10], dtype=int32),\n",
       " 'time_total_s': array([46.55323911, 46.24927497, 48.05118895,  6.63710904,  8.2552371 ,\n",
       "        48.01026917,  8.21885395, 46.20197701, 12.37081599, 44.0479691 ]),\n",
       " 'training_iteration': array([1, 1, 1, 1, 1, 1, 1, 1, 1, 1]),\n",
       " 'param_booster': masked_array(data=['dart', 'dart', 'dart', 'gbtree', 'gbtree', 'dart',\n",
       "                    'gbtree', 'dart', 'gbtree', 'dart'],\n",
       "              mask=[False, False, False, False, False, False, False, False,\n",
       "                    False, False],\n",
       "        fill_value='?',\n",
       "             dtype=object),\n",
       " 'param_eval_metric': masked_array(data=['auc', 'auc', 'auc', 'auc', 'auc', 'auc', 'auc', 'auc',\n",
       "                    'auc', 'auc'],\n",
       "              mask=[False, False, False, False, False, False, False, False,\n",
       "                    False, False],\n",
       "        fill_value='?',\n",
       "             dtype=object),\n",
       " 'param_gamma': masked_array(data=[1.2, 1.2, 1.2, 0.1, 0.1, 1.2, 1.2, 1.2, 1.2, 0.1],\n",
       "              mask=[False, False, False, False, False, False, False, False,\n",
       "                    False, False],\n",
       "        fill_value='?',\n",
       "             dtype=object),\n",
       " 'param_max_depth': masked_array(data=[4, 4, 5, 4, 5, 5, 5, 4, 4, 5],\n",
       "              mask=[False, False, False, False, False, False, False, False,\n",
       "                    False, False],\n",
       "        fill_value='?',\n",
       "             dtype=object),\n",
       " 'param_subsample': masked_array(data=[0.8, 0.8, 0.8, 0.8, 0.8, 0.8, 0.8, 0.8, 0.8, 0.8],\n",
       "              mask=[False, False, False, False, False, False, False, False,\n",
       "                    False, False],\n",
       "        fill_value='?',\n",
       "             dtype=object)}"
      ]
     },
     "execution_count": 18,
     "metadata": {},
     "output_type": "execute_result"
    }
   ],
   "source": [
    "GridSearchObj = obj.get_optimized_object()\n",
    "GridSearchObj.cv_results_"
   ]
  }
 ],
 "metadata": {
  "kernelspec": {
   "display_name": "Python 3.10.4 ('.venv': poetry)",
   "language": "python",
   "name": "python3"
  },
  "language_info": {
   "codemirror_mode": {
    "name": "ipython",
    "version": 3
   },
   "file_extension": ".py",
   "mimetype": "text/x-python",
   "name": "python",
   "nbconvert_exporter": "python",
   "pygments_lexer": "ipython3",
   "version": "3.10.9"
  },
  "orig_nbformat": 4,
  "vscode": {
   "interpreter": {
    "hash": "7ced68e88e9060e5bcf2eaa5b2d4f8fc97e4d610a52d347137abf879072ffb6d"
   }
  }
 },
 "nbformat": 4,
 "nbformat_minor": 2
}
