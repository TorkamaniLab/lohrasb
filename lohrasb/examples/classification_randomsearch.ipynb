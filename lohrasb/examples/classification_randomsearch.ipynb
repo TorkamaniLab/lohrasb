{
 "cells": [
  {
   "cell_type": "code",
   "execution_count": 1,
   "metadata": {},
   "outputs": [
    {
     "name": "stdout",
     "output_type": "stream",
     "text": [
      "2023-07-01 20:11:13,790 :: matplotlib :: matplotlib data path: /Users/hjavedani/Documents/Lohrasb/.venv/lib/python3.10/site-packages/matplotlib/mpl-data\n",
      "2023-07-01 20:11:13,797 :: matplotlib :: CONFIGDIR=/Users/hjavedani/.matplotlib\n",
      "2023-07-01 20:11:13,799 :: matplotlib :: interactive is False\n",
      "2023-07-01 20:11:13,800 :: matplotlib :: platform is darwin\n"
     ]
    }
   ],
   "source": [
    "import pandas as pd\n",
    "from sklearn.model_selection import KFold, train_test_split\n",
    "from lohrasb.best_estimator import BaseModel\n",
    "from sklearn.pipeline import Pipeline\n",
    "from feature_engine.imputation import (\n",
    "    CategoricalImputer,\n",
    "    MeanMedianImputer\n",
    "    )\n",
    "from category_encoders import OrdinalEncoder\n",
    "from sklearn.metrics import (\n",
    "    classification_report,\n",
    "    confusion_matrix,\n",
    "    f1_score)\n",
    "from sklearn.metrics import f1_score, accuracy_score, make_scorer\n",
    "from lightgbm import *\n"
   ]
  },
  {
   "attachments": {},
   "cell_type": "markdown",
   "metadata": {},
   "source": [
    "# Example: Use Adult Data Set (a classification problem)\n",
    "  \n",
    "https://archive.ics.uci.edu/ml/datasets/Adult"
   ]
  },
  {
   "attachments": {},
   "cell_type": "markdown",
   "metadata": {},
   "source": [
    "# Part 1: Use BestModel in sklearn pipeline\n"
   ]
  },
  {
   "cell_type": "code",
   "execution_count": 2,
   "metadata": {},
   "outputs": [
    {
     "data": {
      "text/html": [
       "<div>\n",
       "<style scoped>\n",
       "    .dataframe tbody tr th:only-of-type {\n",
       "        vertical-align: middle;\n",
       "    }\n",
       "\n",
       "    .dataframe tbody tr th {\n",
       "        vertical-align: top;\n",
       "    }\n",
       "\n",
       "    .dataframe thead th {\n",
       "        text-align: right;\n",
       "    }\n",
       "</style>\n",
       "<table border=\"1\" class=\"dataframe\">\n",
       "  <thead>\n",
       "    <tr style=\"text-align: right;\">\n",
       "      <th></th>\n",
       "      <th>age</th>\n",
       "      <th>workclass</th>\n",
       "      <th>fnlwgt</th>\n",
       "      <th>education</th>\n",
       "      <th>education-num</th>\n",
       "      <th>marital-status</th>\n",
       "      <th>occupation</th>\n",
       "      <th>relationship</th>\n",
       "      <th>race</th>\n",
       "      <th>sex</th>\n",
       "      <th>capital-gain</th>\n",
       "      <th>capital-loss</th>\n",
       "      <th>hours-per-week</th>\n",
       "      <th>native-country</th>\n",
       "      <th>label</th>\n",
       "    </tr>\n",
       "  </thead>\n",
       "  <tbody>\n",
       "    <tr>\n",
       "      <th>0</th>\n",
       "      <td>39</td>\n",
       "      <td>State-gov</td>\n",
       "      <td>77516</td>\n",
       "      <td>Bachelors</td>\n",
       "      <td>13</td>\n",
       "      <td>Never-married</td>\n",
       "      <td>Adm-clerical</td>\n",
       "      <td>Not-in-family</td>\n",
       "      <td>White</td>\n",
       "      <td>Male</td>\n",
       "      <td>2174</td>\n",
       "      <td>0</td>\n",
       "      <td>40</td>\n",
       "      <td>United-States</td>\n",
       "      <td>&lt;=50K</td>\n",
       "    </tr>\n",
       "    <tr>\n",
       "      <th>1</th>\n",
       "      <td>50</td>\n",
       "      <td>Self-emp-not-inc</td>\n",
       "      <td>83311</td>\n",
       "      <td>Bachelors</td>\n",
       "      <td>13</td>\n",
       "      <td>Married-civ-spouse</td>\n",
       "      <td>Exec-managerial</td>\n",
       "      <td>Husband</td>\n",
       "      <td>White</td>\n",
       "      <td>Male</td>\n",
       "      <td>0</td>\n",
       "      <td>0</td>\n",
       "      <td>13</td>\n",
       "      <td>United-States</td>\n",
       "      <td>&lt;=50K</td>\n",
       "    </tr>\n",
       "    <tr>\n",
       "      <th>2</th>\n",
       "      <td>38</td>\n",
       "      <td>Private</td>\n",
       "      <td>215646</td>\n",
       "      <td>HS-grad</td>\n",
       "      <td>9</td>\n",
       "      <td>Divorced</td>\n",
       "      <td>Handlers-cleaners</td>\n",
       "      <td>Not-in-family</td>\n",
       "      <td>White</td>\n",
       "      <td>Male</td>\n",
       "      <td>0</td>\n",
       "      <td>0</td>\n",
       "      <td>40</td>\n",
       "      <td>United-States</td>\n",
       "      <td>&lt;=50K</td>\n",
       "    </tr>\n",
       "    <tr>\n",
       "      <th>3</th>\n",
       "      <td>53</td>\n",
       "      <td>Private</td>\n",
       "      <td>234721</td>\n",
       "      <td>11th</td>\n",
       "      <td>7</td>\n",
       "      <td>Married-civ-spouse</td>\n",
       "      <td>Handlers-cleaners</td>\n",
       "      <td>Husband</td>\n",
       "      <td>Black</td>\n",
       "      <td>Male</td>\n",
       "      <td>0</td>\n",
       "      <td>0</td>\n",
       "      <td>40</td>\n",
       "      <td>United-States</td>\n",
       "      <td>&lt;=50K</td>\n",
       "    </tr>\n",
       "    <tr>\n",
       "      <th>4</th>\n",
       "      <td>28</td>\n",
       "      <td>Private</td>\n",
       "      <td>338409</td>\n",
       "      <td>Bachelors</td>\n",
       "      <td>13</td>\n",
       "      <td>Married-civ-spouse</td>\n",
       "      <td>Prof-specialty</td>\n",
       "      <td>Wife</td>\n",
       "      <td>Black</td>\n",
       "      <td>Female</td>\n",
       "      <td>0</td>\n",
       "      <td>0</td>\n",
       "      <td>40</td>\n",
       "      <td>Cuba</td>\n",
       "      <td>&lt;=50K</td>\n",
       "    </tr>\n",
       "  </tbody>\n",
       "</table>\n",
       "</div>"
      ],
      "text/plain": [
       "   age          workclass  fnlwgt   education  education-num  \\\n",
       "0   39          State-gov   77516   Bachelors             13   \n",
       "1   50   Self-emp-not-inc   83311   Bachelors             13   \n",
       "2   38            Private  215646     HS-grad              9   \n",
       "3   53            Private  234721        11th              7   \n",
       "4   28            Private  338409   Bachelors             13   \n",
       "\n",
       "        marital-status          occupation    relationship    race      sex  \\\n",
       "0        Never-married        Adm-clerical   Not-in-family   White     Male   \n",
       "1   Married-civ-spouse     Exec-managerial         Husband   White     Male   \n",
       "2             Divorced   Handlers-cleaners   Not-in-family   White     Male   \n",
       "3   Married-civ-spouse   Handlers-cleaners         Husband   Black     Male   \n",
       "4   Married-civ-spouse      Prof-specialty            Wife   Black   Female   \n",
       "\n",
       "   capital-gain  capital-loss  hours-per-week  native-country   label  \n",
       "0          2174             0              40   United-States   <=50K  \n",
       "1             0             0              13   United-States   <=50K  \n",
       "2             0             0              40   United-States   <=50K  \n",
       "3             0             0              40   United-States   <=50K  \n",
       "4             0             0              40            Cuba   <=50K  "
      ]
     },
     "execution_count": 2,
     "metadata": {},
     "output_type": "execute_result"
    }
   ],
   "source": [
    "urldata= \"https://archive.ics.uci.edu/ml/machine-learning-databases/adult/adult.data\"\n",
    "# column names\n",
    "col_names=[\"age\", \"workclass\", \"fnlwgt\" , \"education\" ,\"education-num\",\n",
    "\"marital-status\",\"occupation\",\"relationship\",\"race\",\"sex\",\"capital-gain\",\"capital-loss\",\"hours-per-week\",\n",
    "\"native-country\",\"label\"\n",
    "]\n",
    "# read data\n",
    "data = pd.read_csv(urldata,header=None,names=col_names,sep=',')\n",
    "data.head()"
   ]
  },
  {
   "attachments": {},
   "cell_type": "markdown",
   "metadata": {},
   "source": [
    "#### Define labels\n"
   ]
  },
  {
   "cell_type": "code",
   "execution_count": 3,
   "metadata": {},
   "outputs": [],
   "source": [
    "data.loc[data['label']=='<=50K','label']=0\n",
    "data.loc[data['label']==' <=50K','label']=0\n",
    "\n",
    "data.loc[data['label']=='>50K','label']=1\n",
    "data.loc[data['label']==' >50K','label']=1\n",
    "\n",
    "data['label']=data['label'].astype(int)"
   ]
  },
  {
   "attachments": {},
   "cell_type": "markdown",
   "metadata": {},
   "source": [
    "#### Train test split"
   ]
  },
  {
   "cell_type": "code",
   "execution_count": 4,
   "metadata": {},
   "outputs": [],
   "source": [
    "X = data.loc[:, data.columns != \"label\"]\n",
    "y = data.loc[:, data.columns == \"label\"]\n",
    "\n",
    "\n",
    "X_train, X_test, y_train, y_test =train_test_split(X, y, \\\n",
    "     test_size=0.33, stratify=y['label'], random_state=42)\n"
   ]
  },
  {
   "attachments": {},
   "cell_type": "markdown",
   "metadata": {},
   "source": [
    "#### Find feature types for later use"
   ]
  },
  {
   "cell_type": "code",
   "execution_count": 5,
   "metadata": {},
   "outputs": [],
   "source": [
    "int_cols =  X_train.select_dtypes(include=['int']).columns.tolist()\n",
    "float_cols =  X_train.select_dtypes(include=['float']).columns.tolist()\n",
    "cat_cols =  X_train.select_dtypes(include=['object']).columns.tolist()\n"
   ]
  },
  {
   "attachments": {},
   "cell_type": "markdown",
   "metadata": {},
   "source": [
    "#### Define estimator and set its arguments \n"
   ]
  },
  {
   "cell_type": "code",
   "execution_count": 6,
   "metadata": {},
   "outputs": [],
   "source": [
    "estimator = LGBMClassifier()\n",
    "estimator_params = {\n",
    "        \"max_depth\": [6,30],\n",
    "        \"learning_rate\": [0.001,0.01, 0.1],\n",
    "        \"n_estimators\": [100,200,1000],\n",
    "        \"boosting_type\": [\"gbdt\"],\n",
    "\n",
    "    }\n",
    "    "
   ]
  },
  {
   "cell_type": "code",
   "execution_count": 7,
   "metadata": {},
   "outputs": [],
   "source": [
    "\n",
    "kwargs = {  # params for fit method or fit_params \n",
    "            'fit_random_kwargs' :{\n",
    "            'sample_weight':None,\n",
    "            },\n",
    "            # params for RandomSearchCV \n",
    "            'random_search_kwargs' : {\n",
    "            'estimator':estimator,\n",
    "            'param_distributions':estimator_params,\n",
    "            'scoring' :'f1',\n",
    "            'verbose':3,\n",
    "            'n_jobs':-1,\n",
    "            'cv':KFold(2),\n",
    "            'n_iter':10,\n",
    "            'refit':True,\n",
    "            }\n",
    "            }\n",
    "\n"
   ]
  },
  {
   "cell_type": "code",
   "execution_count": 8,
   "metadata": {},
   "outputs": [],
   "source": [
    "\n",
    "obj = BaseModel().optimize_by_randomsearchcv(\n",
    "    kwargs=kwargs\n",
    " )"
   ]
  },
  {
   "attachments": {},
   "cell_type": "markdown",
   "metadata": {},
   "source": [
    "#### Build sklearn pipeline"
   ]
  },
  {
   "cell_type": "code",
   "execution_count": 9,
   "metadata": {},
   "outputs": [],
   "source": [
    "\n",
    "\n",
    "pipeline =Pipeline([\n",
    "            # int missing values imputers\n",
    "            ('intimputer', MeanMedianImputer(\n",
    "                imputation_method='median', variables=int_cols)),\n",
    "            # category missing values imputers\n",
    "            ('catimputer', CategoricalImputer(variables=cat_cols)),\n",
    "            #\n",
    "            ('catencoder', OrdinalEncoder()),\n",
    "            # classification model\n",
    "            ('obj', obj)\n",
    "\n",
    " ])\n"
   ]
  },
  {
   "attachments": {},
   "cell_type": "markdown",
   "metadata": {},
   "source": [
    "#### Run Pipeline"
   ]
  },
  {
   "cell_type": "code",
   "execution_count": 10,
   "metadata": {},
   "outputs": [
    {
     "name": "stdout",
     "output_type": "stream",
     "text": [
      "Fitting 2 folds for each of 10 candidates, totalling 20 fits\n",
      "[CV 2/2] END boosting_type=gbdt, learning_rate=0.001, max_depth=30, n_estimators=100;, score=0.000 total time=   0.5s\n",
      "[CV 1/2] END boosting_type=gbdt, learning_rate=0.001, max_depth=30, n_estimators=100;, score=0.000 total time=   0.5s\n",
      "[CV 1/2] END boosting_type=gbdt, learning_rate=0.1, max_depth=30, n_estimators=100;, score=0.696 total time=   0.5s\n",
      "[CV 2/2] END boosting_type=gbdt, learning_rate=0.1, max_depth=30, n_estimators=100;, score=0.705 total time=   0.5s\n",
      "[CV 1/2] END boosting_type=gbdt, learning_rate=0.01, max_depth=30, n_estimators=200;, score=0.660 total time=   0.8s\n",
      "[CV 2/2] END boosting_type=gbdt, learning_rate=0.01, max_depth=30, n_estimators=200;, score=0.652 total time=   0.8s\n",
      "[CV 1/2] END boosting_type=gbdt, learning_rate=0.001, max_depth=30, n_estimators=200;, score=0.000 total time=   0.7s\n",
      "[CV 2/2] END boosting_type=gbdt, learning_rate=0.001, max_depth=30, n_estimators=200;, score=0.000 total time=   0.7s\n",
      "[CV 1/2] END boosting_type=gbdt, learning_rate=0.001, max_depth=6, n_estimators=200;, score=0.000 total time=   0.6s\n",
      "[CV 2/2] END boosting_type=gbdt, learning_rate=0.001, max_depth=6, n_estimators=200;, score=0.000 total time=   0.6s\n",
      "[CV 2/2] END boosting_type=gbdt, learning_rate=0.1, max_depth=6, n_estimators=100;, score=0.703 total time=   0.3s\n",
      "[CV 1/2] END boosting_type=gbdt, learning_rate=0.1, max_depth=6, n_estimators=100;, score=0.696 total time=   0.3s\n",
      "[CV 2/2] END boosting_type=gbdt, learning_rate=0.01, max_depth=6, n_estimators=1000;, score=0.700 total time=   5.6s\n",
      "[CV 1/2] END boosting_type=gbdt, learning_rate=0.001, max_depth=6, n_estimators=1000;, score=0.604 total time=   6.3s\n",
      "[CV 1/2] END boosting_type=gbdt, learning_rate=0.01, max_depth=6, n_estimators=1000;, score=0.695 total time=   6.1s\n",
      "[CV 2/2] END boosting_type=gbdt, learning_rate=0.001, max_depth=30, n_estimators=1000;, score=0.562 total time=   6.3s\n",
      "[CV 2/2] END boosting_type=gbdt, learning_rate=0.1, max_depth=30, n_estimators=1000;, score=0.678 total time=   6.1s\n",
      "[CV 1/2] END boosting_type=gbdt, learning_rate=0.001, max_depth=30, n_estimators=1000;, score=0.605 total time=   6.4s\n",
      "[CV 2/2] END boosting_type=gbdt, learning_rate=0.001, max_depth=6, n_estimators=1000;, score=0.542 total time=   6.9s\n",
      "[CV 1/2] END boosting_type=gbdt, learning_rate=0.1, max_depth=30, n_estimators=1000;, score=0.675 total time=   6.3s\n",
      "Fitting 2 folds for each of 10 candidates, totalling 20 fits\n",
      "[CV 1/2] END boosting_type=gbdt, learning_rate=0.1, max_depth=30, n_estimators=100;, score=0.696 total time=   0.3s\n",
      "[CV 2/2] END boosting_type=gbdt, learning_rate=0.1, max_depth=30, n_estimators=100;, score=0.705 total time=   0.3s\n",
      "[CV 1/2] END boosting_type=gbdt, learning_rate=0.01, max_depth=30, n_estimators=200;, score=0.660 total time=   0.7s\n",
      "[CV 2/2] END boosting_type=gbdt, learning_rate=0.1, max_depth=30, n_estimators=200;, score=0.703 total time=   0.6s\n",
      "[CV 1/2] END boosting_type=gbdt, learning_rate=0.1, max_depth=30, n_estimators=200;, score=0.695 total time=   0.6s\n",
      "[CV 2/2] END boosting_type=gbdt, learning_rate=0.01, max_depth=30, n_estimators=200;, score=0.652 total time=   0.7s\n",
      "[CV 1/2] END boosting_type=gbdt, learning_rate=0.01, max_depth=6, n_estimators=200;, score=0.657 total time=   0.6s\n",
      "[CV 2/2] END boosting_type=gbdt, learning_rate=0.01, max_depth=6, n_estimators=200;, score=0.648 total time=   0.6s\n",
      "[CV 1/2] END boosting_type=gbdt, learning_rate=0.01, max_depth=30, n_estimators=100;, score=0.608 total time=   0.3s\n",
      "[CV 2/2] END boosting_type=gbdt, learning_rate=0.01, max_depth=30, n_estimators=100;, score=0.564 total time=   0.3s\n",
      "[CV 1/2] END boosting_type=gbdt, learning_rate=0.01, max_depth=6, n_estimators=100;, score=0.604 total time=   0.3s\n",
      "[CV 2/2] END boosting_type=gbdt, learning_rate=0.01, max_depth=6, n_estimators=100;, score=0.542 total time=   0.3s\n",
      "[CV 1/2] END boosting_type=gbdt, learning_rate=0.001, max_depth=30, n_estimators=100;, score=0.000 total time=   0.3s\n",
      "[CV 2/2] END boosting_type=gbdt, learning_rate=0.001, max_depth=30, n_estimators=100;, score=0.000 total time=   0.3s\n",
      "[CV 1/2] END boosting_type=gbdt, learning_rate=0.1, max_depth=6, n_estimators=1000;, score=0.675 total time=   3.6s\n",
      "[CV 2/2] END boosting_type=gbdt, learning_rate=0.1, max_depth=6, n_estimators=1000;, score=0.676 total time=   3.6s\n",
      "[CV 2/2] END boosting_type=gbdt, learning_rate=0.1, max_depth=30, n_estimators=1000;, score=0.678 total time=   3.6s\n",
      "[CV 1/2] END boosting_type=gbdt, learning_rate=0.1, max_depth=30, n_estimators=1000;, score=0.675 total time=   3.6s\n",
      "[CV 1/2] END boosting_type=gbdt, learning_rate=0.001, max_depth=6, n_estimators=1000;, score=0.604 total time=   3.6s\n",
      "[CV 2/2] END boosting_type=gbdt, learning_rate=0.001, max_depth=6, n_estimators=1000;, score=0.542 total time=   3.6s\n",
      "2023-07-01 20:11:32,381 :: dev :: If refit is set to True, the optimal model will be refit on the entire dataset again!\n",
      "2023-07-01 20:11:32,381 :: dev :: If refit is set to True, the optimal model will be refit on the entire dataset again!\n"
     ]
    }
   ],
   "source": [
    "pipeline.fit(X_train,y_train.values.ravel())\n",
    "y_pred = pipeline.predict(X_test)\n"
   ]
  },
  {
   "attachments": {},
   "cell_type": "markdown",
   "metadata": {},
   "source": [
    "#### Check performance of the pipeline"
   ]
  },
  {
   "cell_type": "code",
   "execution_count": 11,
   "metadata": {},
   "outputs": [
    {
     "name": "stdout",
     "output_type": "stream",
     "text": [
      "F1 score : \n",
      "0.7190357439733999\n",
      "Classification report : \n",
      "              precision    recall  f1-score   support\n",
      "\n",
      "           0       0.90      0.94      0.92      8158\n",
      "           1       0.78      0.67      0.72      2588\n",
      "\n",
      "    accuracy                           0.87     10746\n",
      "   macro avg       0.84      0.80      0.82     10746\n",
      "weighted avg       0.87      0.87      0.87     10746\n",
      "\n",
      "Confusion matrix : \n",
      "[[7664  494]\n",
      " [ 858 1730]]\n"
     ]
    }
   ],
   "source": [
    "print('F1 score : ')\n",
    "print(f1_score(y_test,y_pred))\n",
    "print('Classification report : ')\n",
    "print(classification_report(y_test,y_pred))\n",
    "print('Confusion matrix : ')\n",
    "print(confusion_matrix(y_test,y_pred))\n"
   ]
  },
  {
   "attachments": {},
   "cell_type": "markdown",
   "metadata": {},
   "source": [
    "# Part 2:  Use BestModel as a standalone estimator "
   ]
  },
  {
   "cell_type": "code",
   "execution_count": 12,
   "metadata": {},
   "outputs": [],
   "source": [
    "X_train, X_test, y_train, y_test =train_test_split(X, y, \\\n",
    "     test_size=0.33, stratify=y['label'], random_state=42)"
   ]
  },
  {
   "attachments": {},
   "cell_type": "markdown",
   "metadata": {},
   "source": [
    "#### Transform features to make them ready for model input"
   ]
  },
  {
   "cell_type": "code",
   "execution_count": 13,
   "metadata": {},
   "outputs": [],
   "source": [
    "transform_pipeline =Pipeline([\n",
    "            # int missing values imputers\n",
    "            ('intimputer', MeanMedianImputer(\n",
    "                imputation_method='median', variables=int_cols)),\n",
    "            # category missing values imputers\n",
    "            ('catimputer', CategoricalImputer(variables=cat_cols)),\n",
    "            #\n",
    "            ('catencoder', OrdinalEncoder()),\n",
    "            # classification model\n",
    "\n",
    " ])"
   ]
  },
  {
   "attachments": {},
   "cell_type": "markdown",
   "metadata": {},
   "source": [
    "#### Transform X_train and X_test"
   ]
  },
  {
   "cell_type": "code",
   "execution_count": 14,
   "metadata": {},
   "outputs": [],
   "source": [
    "X_train=transform_pipeline.fit_transform(X_train,y_train)\n",
    "X_test=transform_pipeline.transform(X_test)\n"
   ]
  },
  {
   "attachments": {},
   "cell_type": "markdown",
   "metadata": {},
   "source": [
    "#### Train model and predict"
   ]
  },
  {
   "cell_type": "code",
   "execution_count": 15,
   "metadata": {},
   "outputs": [
    {
     "name": "stdout",
     "output_type": "stream",
     "text": [
      "Fitting 2 folds for each of 10 candidates, totalling 20 fits\n",
      "[CV 1/2] END boosting_type=gbdt, learning_rate=0.001, max_depth=30, n_estimators=100;, score=0.000 total time=   0.3s\n",
      "[CV 1/2] END boosting_type=gbdt, learning_rate=0.1, max_depth=30, n_estimators=100;, score=0.696 total time=   0.3s\n",
      "[CV 2/2] END boosting_type=gbdt, learning_rate=0.1, max_depth=30, n_estimators=100;, score=0.705 total time=   0.3s\n",
      "[CV 2/2] END boosting_type=gbdt, learning_rate=0.001, max_depth=30, n_estimators=100;, score=0.000 total time=   0.3s\n",
      "[CV 1/2] END boosting_type=gbdt, learning_rate=0.01, max_depth=6, n_estimators=200;, score=0.657 total time=   0.6s\n",
      "[CV 2/2] END boosting_type=gbdt, learning_rate=0.01, max_depth=6, n_estimators=200;, score=0.648 total time=   0.6s\n",
      "[CV 1/2] END boosting_type=gbdt, learning_rate=0.01, max_depth=30, n_estimators=200;, score=0.660 total time=   0.6s\n",
      "[CV 2/2] END boosting_type=gbdt, learning_rate=0.01, max_depth=30, n_estimators=200;, score=0.652 total time=   0.6s\n",
      "[CV 1/2] END boosting_type=gbdt, learning_rate=0.001, max_depth=6, n_estimators=100;, score=0.000 total time=   0.3s\n",
      "[CV 2/2] END boosting_type=gbdt, learning_rate=0.001, max_depth=6, n_estimators=100;, score=0.000 total time=   0.3s\n",
      "[CV 1/2] END boosting_type=gbdt, learning_rate=0.01, max_depth=6, n_estimators=100;, score=0.604 total time=   0.3s\n",
      "[CV 2/2] END boosting_type=gbdt, learning_rate=0.01, max_depth=6, n_estimators=100;, score=0.542 total time=   0.3s\n",
      "[CV 1/2] END boosting_type=gbdt, learning_rate=0.001, max_depth=6, n_estimators=200;, score=0.000 total time=   0.6s\n",
      "[CV 2/2] END boosting_type=gbdt, learning_rate=0.001, max_depth=6, n_estimators=200;, score=0.000 total time=   0.6s\n",
      "[CV 2/2] END boosting_type=gbdt, learning_rate=0.01, max_depth=6, n_estimators=1000;, score=0.700 total time=   3.5s\n",
      "[CV 1/2] END boosting_type=gbdt, learning_rate=0.01, max_depth=6, n_estimators=1000;, score=0.695 total time=   3.6s\n",
      "[CV 2/2] END boosting_type=gbdt, learning_rate=0.001, max_depth=6, n_estimators=1000;, score=0.542 total time=   3.5s\n",
      "[CV 1/2] END boosting_type=gbdt, learning_rate=0.1, max_depth=6, n_estimators=1000;, score=0.675 total time=   3.7s\n",
      "[CV 1/2] END boosting_type=gbdt, learning_rate=0.001, max_depth=6, n_estimators=1000;, score=0.604 total time=   3.5s\n",
      "[CV 2/2] END boosting_type=gbdt, learning_rate=0.1, max_depth=6, n_estimators=1000;, score=0.676 total time=   3.7s\n",
      "Fitting 2 folds for each of 10 candidates, totalling 20 fits\n",
      "[CV 2/2] END boosting_type=gbdt, learning_rate=0.1, max_depth=6, n_estimators=100;, score=0.703 total time=   0.3s\n",
      "[CV 1/2] END boosting_type=gbdt, learning_rate=0.1, max_depth=6, n_estimators=100;, score=0.696 total time=   0.3s\n",
      "[CV 1/2] END boosting_type=gbdt, learning_rate=0.01, max_depth=30, n_estimators=100;, score=0.608 total time=   0.3s\n",
      "[CV 2/2] END boosting_type=gbdt, learning_rate=0.01, max_depth=30, n_estimators=100;, score=0.564 total time=   0.3s\n",
      "[CV 2/2] END boosting_type=gbdt, learning_rate=0.001, max_depth=6, n_estimators=200;, score=0.000 total time=   0.6s\n",
      "[CV 1/2] END boosting_type=gbdt, learning_rate=0.001, max_depth=6, n_estimators=200;, score=0.000 total time=   0.6s\n",
      "[CV 2/2] END boosting_type=gbdt, learning_rate=0.1, max_depth=30, n_estimators=1000;, score=0.678 total time=   4.8s\n",
      "[CV 1/2] END boosting_type=gbdt, learning_rate=0.1, max_depth=30, n_estimators=1000;, score=0.675 total time=   5.3s\n",
      "[CV 1/2] END boosting_type=gbdt, learning_rate=0.1, max_depth=30, n_estimators=100;, score=0.696 total time=   0.4s\n",
      "[CV 2/2] END boosting_type=gbdt, learning_rate=0.001, max_depth=30, n_estimators=1000;, score=0.562 total time=   5.4s\n",
      "[CV 2/2] END boosting_type=gbdt, learning_rate=0.001, max_depth=6, n_estimators=1000;, score=0.542 total time=   5.5s\n",
      "[CV 1/2] END boosting_type=gbdt, learning_rate=0.001, max_depth=30, n_estimators=1000;, score=0.605 total time=   5.6s\n",
      "[CV 2/2] END boosting_type=gbdt, learning_rate=0.1, max_depth=30, n_estimators=100;, score=0.705 total time=   0.4s\n",
      "[CV 1/2] END boosting_type=gbdt, learning_rate=0.001, max_depth=6, n_estimators=1000;, score=0.604 total time=   5.7s\n",
      "[CV 1/2] END boosting_type=gbdt, learning_rate=0.001, max_depth=30, n_estimators=100;, score=0.000 total time=   0.3s\n",
      "[CV 2/2] END boosting_type=gbdt, learning_rate=0.001, max_depth=30, n_estimators=100;, score=0.000 total time=   0.3s\n",
      "[CV 1/2] END boosting_type=gbdt, learning_rate=0.01, max_depth=30, n_estimators=200;, score=0.660 total time=   0.6s\n",
      "[CV 1/2] END boosting_type=gbdt, learning_rate=0.01, max_depth=6, n_estimators=1000;, score=0.695 total time=   4.8s\n",
      "[CV 2/2] END boosting_type=gbdt, learning_rate=0.01, max_depth=6, n_estimators=1000;, score=0.700 total time=   4.8s\n",
      "[CV 2/2] END boosting_type=gbdt, learning_rate=0.01, max_depth=30, n_estimators=200;, score=0.652 total time=   0.6s\n",
      "2023-07-01 20:11:43,470 :: dev :: If refit is set to True, the optimal model will be refit on the entire dataset again!\n",
      "2023-07-01 20:11:43,470 :: dev :: If refit is set to True, the optimal model will be refit on the entire dataset again!\n"
     ]
    }
   ],
   "source": [
    "obj.fit(X_train,y_train.values.ravel())\n",
    "y_pred = obj.predict(X_test)"
   ]
  },
  {
   "attachments": {},
   "cell_type": "markdown",
   "metadata": {},
   "source": [
    "#### Check performance of the model"
   ]
  },
  {
   "cell_type": "code",
   "execution_count": 16,
   "metadata": {},
   "outputs": [
    {
     "name": "stdout",
     "output_type": "stream",
     "text": [
      "accuracy score score : \n",
      "0.8741857435324772\n",
      "F1 score : \n",
      "0.7190357439733999\n",
      "Classification report : \n",
      "              precision    recall  f1-score   support\n",
      "\n",
      "           0       0.90      0.94      0.92      8158\n",
      "           1       0.78      0.67      0.72      2588\n",
      "\n",
      "    accuracy                           0.87     10746\n",
      "   macro avg       0.84      0.80      0.82     10746\n",
      "weighted avg       0.87      0.87      0.87     10746\n",
      "\n",
      "Confusion matrix : \n",
      "[[7664  494]\n",
      " [ 858 1730]]\n"
     ]
    }
   ],
   "source": [
    "print('accuracy score score : ')\n",
    "print(accuracy_score(y_test,y_pred))\n",
    "print('F1 score : ')\n",
    "print(f1_score(y_test,y_pred))\n",
    "print('Classification report : ')\n",
    "print(classification_report(y_test,y_pred))\n",
    "print('Confusion matrix : ')\n",
    "print(confusion_matrix(y_test,y_pred))"
   ]
  },
  {
   "cell_type": "code",
   "execution_count": 17,
   "metadata": {},
   "outputs": [
    {
     "data": {
      "text/html": [
       "<style>#sk-container-id-1 {color: black;background-color: white;}#sk-container-id-1 pre{padding: 0;}#sk-container-id-1 div.sk-toggleable {background-color: white;}#sk-container-id-1 label.sk-toggleable__label {cursor: pointer;display: block;width: 100%;margin-bottom: 0;padding: 0.3em;box-sizing: border-box;text-align: center;}#sk-container-id-1 label.sk-toggleable__label-arrow:before {content: \"▸\";float: left;margin-right: 0.25em;color: #696969;}#sk-container-id-1 label.sk-toggleable__label-arrow:hover:before {color: black;}#sk-container-id-1 div.sk-estimator:hover label.sk-toggleable__label-arrow:before {color: black;}#sk-container-id-1 div.sk-toggleable__content {max-height: 0;max-width: 0;overflow: hidden;text-align: left;background-color: #f0f8ff;}#sk-container-id-1 div.sk-toggleable__content pre {margin: 0.2em;color: black;border-radius: 0.25em;background-color: #f0f8ff;}#sk-container-id-1 input.sk-toggleable__control:checked~div.sk-toggleable__content {max-height: 200px;max-width: 100%;overflow: auto;}#sk-container-id-1 input.sk-toggleable__control:checked~label.sk-toggleable__label-arrow:before {content: \"▾\";}#sk-container-id-1 div.sk-estimator input.sk-toggleable__control:checked~label.sk-toggleable__label {background-color: #d4ebff;}#sk-container-id-1 div.sk-label input.sk-toggleable__control:checked~label.sk-toggleable__label {background-color: #d4ebff;}#sk-container-id-1 input.sk-hidden--visually {border: 0;clip: rect(1px 1px 1px 1px);clip: rect(1px, 1px, 1px, 1px);height: 1px;margin: -1px;overflow: hidden;padding: 0;position: absolute;width: 1px;}#sk-container-id-1 div.sk-estimator {font-family: monospace;background-color: #f0f8ff;border: 1px dotted black;border-radius: 0.25em;box-sizing: border-box;margin-bottom: 0.5em;}#sk-container-id-1 div.sk-estimator:hover {background-color: #d4ebff;}#sk-container-id-1 div.sk-parallel-item::after {content: \"\";width: 100%;border-bottom: 1px solid gray;flex-grow: 1;}#sk-container-id-1 div.sk-label:hover label.sk-toggleable__label {background-color: #d4ebff;}#sk-container-id-1 div.sk-serial::before {content: \"\";position: absolute;border-left: 1px solid gray;box-sizing: border-box;top: 0;bottom: 0;left: 50%;z-index: 0;}#sk-container-id-1 div.sk-serial {display: flex;flex-direction: column;align-items: center;background-color: white;padding-right: 0.2em;padding-left: 0.2em;position: relative;}#sk-container-id-1 div.sk-item {position: relative;z-index: 1;}#sk-container-id-1 div.sk-parallel {display: flex;align-items: stretch;justify-content: center;background-color: white;position: relative;}#sk-container-id-1 div.sk-item::before, #sk-container-id-1 div.sk-parallel-item::before {content: \"\";position: absolute;border-left: 1px solid gray;box-sizing: border-box;top: 0;bottom: 0;left: 50%;z-index: -1;}#sk-container-id-1 div.sk-parallel-item {display: flex;flex-direction: column;z-index: 1;position: relative;background-color: white;}#sk-container-id-1 div.sk-parallel-item:first-child::after {align-self: flex-end;width: 50%;}#sk-container-id-1 div.sk-parallel-item:last-child::after {align-self: flex-start;width: 50%;}#sk-container-id-1 div.sk-parallel-item:only-child::after {width: 0;}#sk-container-id-1 div.sk-dashed-wrapped {border: 1px dashed gray;margin: 0 0.4em 0.5em 0.4em;box-sizing: border-box;padding-bottom: 0.4em;background-color: white;}#sk-container-id-1 div.sk-label label {font-family: monospace;font-weight: bold;display: inline-block;line-height: 1.2em;}#sk-container-id-1 div.sk-label-container {text-align: center;}#sk-container-id-1 div.sk-container {/* jupyter's `normalize.less` sets `[hidden] { display: none; }` but bootstrap.min.css set `[hidden] { display: none !important; }` so we also need the `!important` here to be able to override the default hidden behavior on the sphinx rendered scikit-learn.org. See: https://github.com/scikit-learn/scikit-learn/issues/21755 */display: inline-block !important;position: relative;}#sk-container-id-1 div.sk-text-repr-fallback {display: none;}</style><div id=\"sk-container-id-1\" class=\"sk-top-container\"><div class=\"sk-text-repr-fallback\"><pre>LGBMClassifier(max_depth=30)</pre><b>In a Jupyter environment, please rerun this cell to show the HTML representation or trust the notebook. <br />On GitHub, the HTML representation is unable to render, please try loading this page with nbviewer.org.</b></div><div class=\"sk-container\" hidden><div class=\"sk-item\"><div class=\"sk-estimator sk-toggleable\"><input class=\"sk-toggleable__control sk-hidden--visually\" id=\"sk-estimator-id-1\" type=\"checkbox\" checked><label for=\"sk-estimator-id-1\" class=\"sk-toggleable__label sk-toggleable__label-arrow\">LGBMClassifier</label><div class=\"sk-toggleable__content\"><pre>LGBMClassifier(max_depth=30)</pre></div></div></div></div></div>"
      ],
      "text/plain": [
       "LGBMClassifier(max_depth=30)"
      ]
     },
     "execution_count": 17,
     "metadata": {},
     "output_type": "execute_result"
    }
   ],
   "source": [
    "obj.get_best_estimator()"
   ]
  },
  {
   "cell_type": "code",
   "execution_count": 18,
   "metadata": {},
   "outputs": [
    {
     "data": {
      "text/html": [
       "<style>#sk-container-id-2 {color: black;background-color: white;}#sk-container-id-2 pre{padding: 0;}#sk-container-id-2 div.sk-toggleable {background-color: white;}#sk-container-id-2 label.sk-toggleable__label {cursor: pointer;display: block;width: 100%;margin-bottom: 0;padding: 0.3em;box-sizing: border-box;text-align: center;}#sk-container-id-2 label.sk-toggleable__label-arrow:before {content: \"▸\";float: left;margin-right: 0.25em;color: #696969;}#sk-container-id-2 label.sk-toggleable__label-arrow:hover:before {color: black;}#sk-container-id-2 div.sk-estimator:hover label.sk-toggleable__label-arrow:before {color: black;}#sk-container-id-2 div.sk-toggleable__content {max-height: 0;max-width: 0;overflow: hidden;text-align: left;background-color: #f0f8ff;}#sk-container-id-2 div.sk-toggleable__content pre {margin: 0.2em;color: black;border-radius: 0.25em;background-color: #f0f8ff;}#sk-container-id-2 input.sk-toggleable__control:checked~div.sk-toggleable__content {max-height: 200px;max-width: 100%;overflow: auto;}#sk-container-id-2 input.sk-toggleable__control:checked~label.sk-toggleable__label-arrow:before {content: \"▾\";}#sk-container-id-2 div.sk-estimator input.sk-toggleable__control:checked~label.sk-toggleable__label {background-color: #d4ebff;}#sk-container-id-2 div.sk-label input.sk-toggleable__control:checked~label.sk-toggleable__label {background-color: #d4ebff;}#sk-container-id-2 input.sk-hidden--visually {border: 0;clip: rect(1px 1px 1px 1px);clip: rect(1px, 1px, 1px, 1px);height: 1px;margin: -1px;overflow: hidden;padding: 0;position: absolute;width: 1px;}#sk-container-id-2 div.sk-estimator {font-family: monospace;background-color: #f0f8ff;border: 1px dotted black;border-radius: 0.25em;box-sizing: border-box;margin-bottom: 0.5em;}#sk-container-id-2 div.sk-estimator:hover {background-color: #d4ebff;}#sk-container-id-2 div.sk-parallel-item::after {content: \"\";width: 100%;border-bottom: 1px solid gray;flex-grow: 1;}#sk-container-id-2 div.sk-label:hover label.sk-toggleable__label {background-color: #d4ebff;}#sk-container-id-2 div.sk-serial::before {content: \"\";position: absolute;border-left: 1px solid gray;box-sizing: border-box;top: 0;bottom: 0;left: 50%;z-index: 0;}#sk-container-id-2 div.sk-serial {display: flex;flex-direction: column;align-items: center;background-color: white;padding-right: 0.2em;padding-left: 0.2em;position: relative;}#sk-container-id-2 div.sk-item {position: relative;z-index: 1;}#sk-container-id-2 div.sk-parallel {display: flex;align-items: stretch;justify-content: center;background-color: white;position: relative;}#sk-container-id-2 div.sk-item::before, #sk-container-id-2 div.sk-parallel-item::before {content: \"\";position: absolute;border-left: 1px solid gray;box-sizing: border-box;top: 0;bottom: 0;left: 50%;z-index: -1;}#sk-container-id-2 div.sk-parallel-item {display: flex;flex-direction: column;z-index: 1;position: relative;background-color: white;}#sk-container-id-2 div.sk-parallel-item:first-child::after {align-self: flex-end;width: 50%;}#sk-container-id-2 div.sk-parallel-item:last-child::after {align-self: flex-start;width: 50%;}#sk-container-id-2 div.sk-parallel-item:only-child::after {width: 0;}#sk-container-id-2 div.sk-dashed-wrapped {border: 1px dashed gray;margin: 0 0.4em 0.5em 0.4em;box-sizing: border-box;padding-bottom: 0.4em;background-color: white;}#sk-container-id-2 div.sk-label label {font-family: monospace;font-weight: bold;display: inline-block;line-height: 1.2em;}#sk-container-id-2 div.sk-label-container {text-align: center;}#sk-container-id-2 div.sk-container {/* jupyter's `normalize.less` sets `[hidden] { display: none; }` but bootstrap.min.css set `[hidden] { display: none !important; }` so we also need the `!important` here to be able to override the default hidden behavior on the sphinx rendered scikit-learn.org. See: https://github.com/scikit-learn/scikit-learn/issues/21755 */display: inline-block !important;position: relative;}#sk-container-id-2 div.sk-text-repr-fallback {display: none;}</style><div id=\"sk-container-id-2\" class=\"sk-top-container\"><div class=\"sk-text-repr-fallback\"><pre>LGBMClassifier(max_depth=30)</pre><b>In a Jupyter environment, please rerun this cell to show the HTML representation or trust the notebook. <br />On GitHub, the HTML representation is unable to render, please try loading this page with nbviewer.org.</b></div><div class=\"sk-container\" hidden><div class=\"sk-item\"><div class=\"sk-estimator sk-toggleable\"><input class=\"sk-toggleable__control sk-hidden--visually\" id=\"sk-estimator-id-2\" type=\"checkbox\" checked><label for=\"sk-estimator-id-2\" class=\"sk-toggleable__label sk-toggleable__label-arrow\">LGBMClassifier</label><div class=\"sk-toggleable__content\"><pre>LGBMClassifier(max_depth=30)</pre></div></div></div></div></div>"
      ],
      "text/plain": [
       "LGBMClassifier(max_depth=30)"
      ]
     },
     "execution_count": 18,
     "metadata": {},
     "output_type": "execute_result"
    }
   ],
   "source": [
    "obj.best_estimator"
   ]
  },
  {
   "attachments": {},
   "cell_type": "markdown",
   "metadata": {},
   "source": [
    "#### Get fitted randomized search object and its attributes"
   ]
  },
  {
   "cell_type": "code",
   "execution_count": 19,
   "metadata": {},
   "outputs": [
    {
     "data": {
      "text/plain": [
       "{'mean_fit_time': array([2.11612499, 0.18156648, 1.59549356, 1.92535949, 0.22555506,\n",
       "        0.37494814, 1.73480213, 0.23203754, 0.42063749, 0.20732236]),\n",
       " 'std_fit_time': array([0.00757682, 0.01568961, 0.00621438, 0.01926565, 0.00424111,\n",
       "        0.0124768 , 0.0201093 , 0.00796533, 0.00585258, 0.00321746]),\n",
       " 'mean_score_time': array([3.40414405, 0.09584236, 3.45511556, 3.65223122, 0.10418904,\n",
       "        0.19641626, 3.0220654 , 0.17844296, 0.17994237, 0.08740711]),\n",
       " 'std_score_time': array([0.08468509, 0.00179648, 0.23433661, 0.09037399, 0.00112712,\n",
       "        0.00260746, 0.0142715 , 0.02060413, 0.00128841, 0.00283599]),\n",
       " 'param_n_estimators': masked_array(data=[1000, 100, 1000, 1000, 100, 200, 1000, 100, 200, 100],\n",
       "              mask=[False, False, False, False, False, False, False, False,\n",
       "                    False, False],\n",
       "        fill_value='?',\n",
       "             dtype=object),\n",
       " 'param_max_depth': masked_array(data=[30, 6, 30, 6, 30, 6, 6, 30, 30, 30],\n",
       "              mask=[False, False, False, False, False, False, False, False,\n",
       "                    False, False],\n",
       "        fill_value='?',\n",
       "             dtype=object),\n",
       " 'param_learning_rate': masked_array(data=[0.001, 0.1, 0.1, 0.001, 0.01, 0.001, 0.01, 0.1, 0.01,\n",
       "                    0.001],\n",
       "              mask=[False, False, False, False, False, False, False, False,\n",
       "                    False, False],\n",
       "        fill_value='?',\n",
       "             dtype=object),\n",
       " 'param_boosting_type': masked_array(data=['gbdt', 'gbdt', 'gbdt', 'gbdt', 'gbdt', 'gbdt', 'gbdt',\n",
       "                    'gbdt', 'gbdt', 'gbdt'],\n",
       "              mask=[False, False, False, False, False, False, False, False,\n",
       "                    False, False],\n",
       "        fill_value='?',\n",
       "             dtype=object),\n",
       " 'params': [{'n_estimators': 1000,\n",
       "   'max_depth': 30,\n",
       "   'learning_rate': 0.001,\n",
       "   'boosting_type': 'gbdt'},\n",
       "  {'n_estimators': 100,\n",
       "   'max_depth': 6,\n",
       "   'learning_rate': 0.1,\n",
       "   'boosting_type': 'gbdt'},\n",
       "  {'n_estimators': 1000,\n",
       "   'max_depth': 30,\n",
       "   'learning_rate': 0.1,\n",
       "   'boosting_type': 'gbdt'},\n",
       "  {'n_estimators': 1000,\n",
       "   'max_depth': 6,\n",
       "   'learning_rate': 0.001,\n",
       "   'boosting_type': 'gbdt'},\n",
       "  {'n_estimators': 100,\n",
       "   'max_depth': 30,\n",
       "   'learning_rate': 0.01,\n",
       "   'boosting_type': 'gbdt'},\n",
       "  {'n_estimators': 200,\n",
       "   'max_depth': 6,\n",
       "   'learning_rate': 0.001,\n",
       "   'boosting_type': 'gbdt'},\n",
       "  {'n_estimators': 1000,\n",
       "   'max_depth': 6,\n",
       "   'learning_rate': 0.01,\n",
       "   'boosting_type': 'gbdt'},\n",
       "  {'n_estimators': 100,\n",
       "   'max_depth': 30,\n",
       "   'learning_rate': 0.1,\n",
       "   'boosting_type': 'gbdt'},\n",
       "  {'n_estimators': 200,\n",
       "   'max_depth': 30,\n",
       "   'learning_rate': 0.01,\n",
       "   'boosting_type': 'gbdt'},\n",
       "  {'n_estimators': 100,\n",
       "   'max_depth': 30,\n",
       "   'learning_rate': 0.001,\n",
       "   'boosting_type': 'gbdt'}],\n",
       " 'split0_test_score': array([0.60473139, 0.69616027, 0.6752346 , 0.60447945, 0.60835381,\n",
       "        0.        , 0.69532554, 0.69559801, 0.66037312, 0.        ]),\n",
       " 'split1_test_score': array([0.56183837, 0.70332427, 0.6780478 , 0.54166667, 0.563627  ,\n",
       "        0.        , 0.70018935, 0.70522619, 0.65157347, 0.        ]),\n",
       " 'mean_test_score': array([0.58328488, 0.69974227, 0.6766412 , 0.57307306, 0.5859904 ,\n",
       "        0.        , 0.69775745, 0.7004121 , 0.65597329, 0.        ]),\n",
       " 'std_test_score': array([0.02144651, 0.003582  , 0.0014066 , 0.03140639, 0.02236341,\n",
       "        0.        , 0.00243191, 0.00481409, 0.00439983, 0.        ]),\n",
       " 'rank_test_score': array([7, 2, 4, 8, 6, 9, 3, 1, 5, 9], dtype=int32)}"
      ]
     },
     "execution_count": 19,
     "metadata": {},
     "output_type": "execute_result"
    }
   ],
   "source": [
    "RandomSearchObj = obj.get_optimized_object()\n",
    "RandomSearchObj.cv_results_"
   ]
  }
 ],
 "metadata": {
  "kernelspec": {
   "display_name": "Python 3.10.4 ('.venv': poetry)",
   "language": "python",
   "name": "python3"
  },
  "language_info": {
   "codemirror_mode": {
    "name": "ipython",
    "version": 3
   },
   "file_extension": ".py",
   "mimetype": "text/x-python",
   "name": "python",
   "nbconvert_exporter": "python",
   "pygments_lexer": "ipython3",
   "version": "3.10.11"
  },
  "orig_nbformat": 4,
  "vscode": {
   "interpreter": {
    "hash": "7ced68e88e9060e5bcf2eaa5b2d4f8fc97e4d610a52d347137abf879072ffb6d"
   }
  }
 },
 "nbformat": 4,
 "nbformat_minor": 2
}
