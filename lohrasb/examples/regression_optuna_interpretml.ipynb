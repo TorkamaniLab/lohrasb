{
 "cells": [
  {
   "cell_type": "code",
   "execution_count": 1,
   "metadata": {},
   "outputs": [
    {
     "name": "stdout",
     "output_type": "stream",
     "text": [
      "2023-07-03 02:55:44,017 :: matplotlib :: matplotlib data path: /Users/hjavedani/Documents/Lohrasb/.venv/lib/python3.10/site-packages/matplotlib/mpl-data\n",
      "2023-07-03 02:55:44,022 :: matplotlib :: CONFIGDIR=/Users/hjavedani/.matplotlib\n",
      "2023-07-03 02:55:44,025 :: matplotlib :: interactive is False\n",
      "2023-07-03 02:55:44,026 :: matplotlib :: platform is darwin\n",
      "2023-07-03 02:55:44,041 :: graphviz._tools :: deprecate positional args: graphviz.backend.piping.pipe(['renderer', 'formatter', 'neato_no_op', 'quiet'])\n",
      "2023-07-03 02:55:44,043 :: graphviz._tools :: deprecate positional args: graphviz.backend.rendering.render(['renderer', 'formatter', 'neato_no_op', 'quiet'])\n",
      "2023-07-03 02:55:44,044 :: graphviz._tools :: deprecate positional args: graphviz.backend.unflattening.unflatten(['stagger', 'fanout', 'chain', 'encoding'])\n",
      "2023-07-03 02:55:44,046 :: graphviz._tools :: deprecate positional args: graphviz.backend.viewing.view(['quiet'])\n",
      "2023-07-03 02:55:44,051 :: graphviz._tools :: deprecate positional args: graphviz.quoting.quote(['is_html_string', 'is_valid_id', 'dot_keywords', 'endswith_odd_number_of_backslashes', 'escape_unescaped_quotes'])\n",
      "2023-07-03 02:55:44,052 :: graphviz._tools :: deprecate positional args: graphviz.quoting.a_list(['kwargs', 'attributes'])\n",
      "2023-07-03 02:55:44,053 :: graphviz._tools :: deprecate positional args: graphviz.quoting.attr_list(['kwargs', 'attributes'])\n",
      "2023-07-03 02:55:44,054 :: graphviz._tools :: deprecate positional args: graphviz.dot.Dot.clear(['keep_attrs'])\n",
      "2023-07-03 02:55:44,055 :: graphviz._tools :: deprecate positional args: graphviz.dot.Dot.__iter__(['subgraph'])\n",
      "2023-07-03 02:55:44,056 :: graphviz._tools :: deprecate positional args: graphviz.dot.Dot.node(['_attributes'])\n",
      "2023-07-03 02:55:44,057 :: graphviz._tools :: deprecate positional args: graphviz.dot.Dot.edge(['_attributes'])\n",
      "2023-07-03 02:55:44,058 :: graphviz._tools :: deprecate positional args: graphviz.dot.Dot.attr(['_attributes'])\n",
      "2023-07-03 02:55:44,059 :: graphviz._tools :: deprecate positional args: graphviz.dot.Dot.subgraph(['name', 'comment', 'graph_attr', 'node_attr', 'edge_attr', 'body'])\n",
      "2023-07-03 02:55:44,062 :: graphviz._tools :: deprecate positional args: graphviz.piping.Pipe._pipe_legacy(['renderer', 'formatter', 'neato_no_op', 'quiet'])\n",
      "2023-07-03 02:55:44,065 :: graphviz._tools :: deprecate positional args: graphviz.saving.Save.save(['directory'])\n",
      "2023-07-03 02:55:44,066 :: graphviz._tools :: deprecate positional args: graphviz.rendering.Render.render(['directory', 'view', 'cleanup', 'format', 'renderer', 'formatter', 'neato_no_op', 'quiet', 'quiet_view'])\n",
      "2023-07-03 02:55:44,066 :: graphviz._tools :: deprecate positional args: graphviz.rendering.Render.view(['directory', 'cleanup', 'quiet', 'quiet_view'])\n",
      "2023-07-03 02:55:44,068 :: graphviz._tools :: deprecate positional args: graphviz.unflattening.Unflatten.unflatten(['stagger', 'fanout', 'chain'])\n",
      "2023-07-03 02:55:44,069 :: graphviz._tools :: deprecate positional args: graphviz.graphs.BaseGraph.__init__(['comment', 'filename', 'directory', 'format', 'engine', 'encoding', 'graph_attr', 'node_attr', 'edge_attr', 'body', 'strict'])\n",
      "2023-07-03 02:55:44,072 :: graphviz._tools :: deprecate positional args: graphviz.sources.Source.from_file(['directory', 'format', 'engine', 'encoding', 'renderer', 'formatter'])\n",
      "2023-07-03 02:55:44,073 :: graphviz._tools :: deprecate positional args: graphviz.sources.Source.__init__(['filename', 'directory', 'format', 'engine', 'encoding'])\n",
      "2023-07-03 02:55:44,075 :: graphviz._tools :: deprecate positional args: graphviz.sources.Source.save(['directory'])\n"
     ]
    }
   ],
   "source": [
    "from lohrasb.best_estimator import BaseModel\n",
    "from optuna.pruners import HyperbandPruner\n",
    "from optuna.samplers._tpe.sampler import TPESampler\n",
    "from sklearn.model_selection import KFold,train_test_split\n",
    "import pandas as pd\n",
    "import optuna\n",
    "from sklearn.pipeline import Pipeline\n",
    "from feature_engine.imputation import (\n",
    "    CategoricalImputer,\n",
    "    MeanMedianImputer\n",
    "    )\n",
    "from category_encoders import OrdinalEncoder\n",
    "from sklearn.metrics import mean_absolute_error,r2_score\n",
    "from interpret.glassbox import ExplainableBoostingRegressor\n",
    "from interpret import show\n"
   ]
  },
  {
   "attachments": {},
   "cell_type": "markdown",
   "metadata": {},
   "source": [
    "#### Example 2 :Computer Hardware Data Set (a regression problem)\n",
    "  \n",
    "https://archive.ics.uci.edu/ml/datasets/Computer+Hardware"
   ]
  },
  {
   "attachments": {},
   "cell_type": "markdown",
   "metadata": {},
   "source": [
    "#### Part 1: Use BestModel in sklearn pipeline\n"
   ]
  },
  {
   "cell_type": "code",
   "execution_count": 2,
   "metadata": {},
   "outputs": [
    {
     "data": {
      "text/html": [
       "<div>\n",
       "<style scoped>\n",
       "    .dataframe tbody tr th:only-of-type {\n",
       "        vertical-align: middle;\n",
       "    }\n",
       "\n",
       "    .dataframe tbody tr th {\n",
       "        vertical-align: top;\n",
       "    }\n",
       "\n",
       "    .dataframe thead th {\n",
       "        text-align: right;\n",
       "    }\n",
       "</style>\n",
       "<table border=\"1\" class=\"dataframe\">\n",
       "  <thead>\n",
       "    <tr style=\"text-align: right;\">\n",
       "      <th></th>\n",
       "      <th>vendor name</th>\n",
       "      <th>Model Name</th>\n",
       "      <th>MYCT</th>\n",
       "      <th>MMIN</th>\n",
       "      <th>MMAX</th>\n",
       "      <th>CACH</th>\n",
       "      <th>CHMIN</th>\n",
       "      <th>CHMAX</th>\n",
       "      <th>PRP</th>\n",
       "    </tr>\n",
       "  </thead>\n",
       "  <tbody>\n",
       "    <tr>\n",
       "      <th>adviser</th>\n",
       "      <td>32/60</td>\n",
       "      <td>125</td>\n",
       "      <td>256</td>\n",
       "      <td>6000</td>\n",
       "      <td>256</td>\n",
       "      <td>16</td>\n",
       "      <td>128</td>\n",
       "      <td>198</td>\n",
       "      <td>199</td>\n",
       "    </tr>\n",
       "    <tr>\n",
       "      <th>amdahl</th>\n",
       "      <td>470v/7</td>\n",
       "      <td>29</td>\n",
       "      <td>8000</td>\n",
       "      <td>32000</td>\n",
       "      <td>32</td>\n",
       "      <td>8</td>\n",
       "      <td>32</td>\n",
       "      <td>269</td>\n",
       "      <td>253</td>\n",
       "    </tr>\n",
       "    <tr>\n",
       "      <th>amdahl</th>\n",
       "      <td>470v/7a</td>\n",
       "      <td>29</td>\n",
       "      <td>8000</td>\n",
       "      <td>32000</td>\n",
       "      <td>32</td>\n",
       "      <td>8</td>\n",
       "      <td>32</td>\n",
       "      <td>220</td>\n",
       "      <td>253</td>\n",
       "    </tr>\n",
       "    <tr>\n",
       "      <th>amdahl</th>\n",
       "      <td>470v/7b</td>\n",
       "      <td>29</td>\n",
       "      <td>8000</td>\n",
       "      <td>32000</td>\n",
       "      <td>32</td>\n",
       "      <td>8</td>\n",
       "      <td>32</td>\n",
       "      <td>172</td>\n",
       "      <td>253</td>\n",
       "    </tr>\n",
       "    <tr>\n",
       "      <th>amdahl</th>\n",
       "      <td>470v/7c</td>\n",
       "      <td>29</td>\n",
       "      <td>8000</td>\n",
       "      <td>16000</td>\n",
       "      <td>32</td>\n",
       "      <td>8</td>\n",
       "      <td>16</td>\n",
       "      <td>132</td>\n",
       "      <td>132</td>\n",
       "    </tr>\n",
       "    <tr>\n",
       "      <th>...</th>\n",
       "      <td>...</td>\n",
       "      <td>...</td>\n",
       "      <td>...</td>\n",
       "      <td>...</td>\n",
       "      <td>...</td>\n",
       "      <td>...</td>\n",
       "      <td>...</td>\n",
       "      <td>...</td>\n",
       "      <td>...</td>\n",
       "    </tr>\n",
       "    <tr>\n",
       "      <th>sperry</th>\n",
       "      <td>80/8</td>\n",
       "      <td>124</td>\n",
       "      <td>1000</td>\n",
       "      <td>8000</td>\n",
       "      <td>0</td>\n",
       "      <td>1</td>\n",
       "      <td>8</td>\n",
       "      <td>42</td>\n",
       "      <td>37</td>\n",
       "    </tr>\n",
       "    <tr>\n",
       "      <th>sperry</th>\n",
       "      <td>90/80-model-3</td>\n",
       "      <td>98</td>\n",
       "      <td>1000</td>\n",
       "      <td>8000</td>\n",
       "      <td>32</td>\n",
       "      <td>2</td>\n",
       "      <td>8</td>\n",
       "      <td>46</td>\n",
       "      <td>50</td>\n",
       "    </tr>\n",
       "    <tr>\n",
       "      <th>sratus</th>\n",
       "      <td>32</td>\n",
       "      <td>125</td>\n",
       "      <td>2000</td>\n",
       "      <td>8000</td>\n",
       "      <td>0</td>\n",
       "      <td>2</td>\n",
       "      <td>14</td>\n",
       "      <td>52</td>\n",
       "      <td>41</td>\n",
       "    </tr>\n",
       "    <tr>\n",
       "      <th>wang</th>\n",
       "      <td>vs-100</td>\n",
       "      <td>480</td>\n",
       "      <td>512</td>\n",
       "      <td>8000</td>\n",
       "      <td>32</td>\n",
       "      <td>0</td>\n",
       "      <td>0</td>\n",
       "      <td>67</td>\n",
       "      <td>47</td>\n",
       "    </tr>\n",
       "    <tr>\n",
       "      <th>wang</th>\n",
       "      <td>vs-90</td>\n",
       "      <td>480</td>\n",
       "      <td>1000</td>\n",
       "      <td>4000</td>\n",
       "      <td>0</td>\n",
       "      <td>0</td>\n",
       "      <td>0</td>\n",
       "      <td>45</td>\n",
       "      <td>25</td>\n",
       "    </tr>\n",
       "  </tbody>\n",
       "</table>\n",
       "<p>209 rows × 9 columns</p>\n",
       "</div>"
      ],
      "text/plain": [
       "           vendor name  Model Name  MYCT   MMIN  MMAX  CACH  CHMIN  CHMAX  PRP\n",
       "adviser          32/60         125   256   6000   256    16    128    198  199\n",
       "amdahl          470v/7          29  8000  32000    32     8     32    269  253\n",
       "amdahl         470v/7a          29  8000  32000    32     8     32    220  253\n",
       "amdahl         470v/7b          29  8000  32000    32     8     32    172  253\n",
       "amdahl         470v/7c          29  8000  16000    32     8     16    132  132\n",
       "...                ...         ...   ...    ...   ...   ...    ...    ...  ...\n",
       "sperry            80/8         124  1000   8000     0     1      8     42   37\n",
       "sperry   90/80-model-3          98  1000   8000    32     2      8     46   50\n",
       "sratus              32         125  2000   8000     0     2     14     52   41\n",
       "wang            vs-100         480   512   8000    32     0      0     67   47\n",
       "wang             vs-90         480  1000   4000     0     0      0     45   25\n",
       "\n",
       "[209 rows x 9 columns]"
      ]
     },
     "execution_count": 2,
     "metadata": {},
     "output_type": "execute_result"
    }
   ],
   "source": [
    "urldata= \"https://archive.ics.uci.edu/ml/machine-learning-databases/cpu-performance/machine.data\"\n",
    "# column names\n",
    "col_names=[\n",
    "    \"vendor name\",\n",
    "    \"Model Name\",\n",
    "    \"MYCT\",\n",
    "    \"MMIN\",\n",
    "    \"MMAX\",\n",
    "    \"CACH\",\n",
    "    \"CHMIN\",\n",
    "    \"CHMAX\",\n",
    "    \"PRP\"\n",
    "]\n",
    "# read data\n",
    "data = pd.read_csv(urldata,header=None,names=col_names,sep=',')\n",
    "data"
   ]
  },
  {
   "attachments": {},
   "cell_type": "markdown",
   "metadata": {},
   "source": [
    "#### Train test split"
   ]
  },
  {
   "cell_type": "code",
   "execution_count": 3,
   "metadata": {},
   "outputs": [],
   "source": [
    "X = data.loc[:, data.columns != \"PRP\"]\n",
    "y = data.loc[:, data.columns == \"PRP\"]\n",
    "y = y.values.ravel()\n",
    "\n",
    "\n",
    "X_train, X_test, y_train, y_test =train_test_split(X, y, test_size=0.33, random_state=42)\n"
   ]
  },
  {
   "attachments": {},
   "cell_type": "markdown",
   "metadata": {},
   "source": [
    "#### Find feature types for later use"
   ]
  },
  {
   "cell_type": "code",
   "execution_count": 4,
   "metadata": {},
   "outputs": [],
   "source": [
    "int_cols =  X_train.select_dtypes(include=['int']).columns.tolist()\n",
    "float_cols =  X_train.select_dtypes(include=['float']).columns.tolist()\n",
    "cat_cols =  X_train.select_dtypes(include=['object']).columns.tolist()\n"
   ]
  },
  {
   "attachments": {},
   "cell_type": "markdown",
   "metadata": {},
   "source": [
    "####  Define estimator and set its arguments  "
   ]
  },
  {
   "cell_type": "code",
   "execution_count": 5,
   "metadata": {},
   "outputs": [],
   "source": [
    "estimator = ExplainableBoostingRegressor()\n",
    "estimator_params= {\n",
    "                    \"learning_rate\":[0.01,0.1], \n",
    "                    \"validation_size\":[0.15,0.20],\n",
    "                    \"early_stopping_rounds\":[50,200], \n",
    "                    \"early_stopping_tolerance\":[0.00001,0.001], \n",
    "                    \"max_rounds\":[5000,20000], \n",
    "                    \"min_samples_leaf\":[2,5], \n",
    "                    \"max_leaves\":[2,5]  \n",
    "                      }\n",
    "\n",
    "kwargs = {  # params for fit method  \n",
    "            'fit_optuna_kwargs' :{\n",
    "            'sample_weight':None,\n",
    "            },\n",
    "            # params for OptunaSearch\n",
    "            'main_optuna_kwargs' : {\n",
    "            'estimator':estimator,\n",
    "            'estimator_params':estimator_params,\n",
    "            'refit':True,\n",
    "            'measure_of_accuracy':\"mean_absolute_error(y_true, y_pred, multioutput='uniform_average')\",\n",
    "\n",
    "            },\n",
    "            'train_test_split_kwargs':{\n",
    "                'test_size':.3,\n",
    "                            \n",
    "            },\n",
    "            'study_search_kwargs':{\n",
    "                'storage':None,\n",
    "                'sampler':TPESampler(),\n",
    "                'pruner':HyperbandPruner(),\n",
    "                'study_name':\"example of optuna optimizer\",\n",
    "                'direction':\"maximize\",\n",
    "                'load_if_exists':False,\n",
    "            },\n",
    "            'optimize_kwargs':{\n",
    "                # optuna optimization params\n",
    "                'n_trials':20,\n",
    "                'timeout':600,\n",
    "                'catch':(),\n",
    "                'callbacks':None,\n",
    "                'gc_after_trial':False,\n",
    "                'show_progress_bar':False,\n",
    "            }\n",
    "}\n",
    "\n"
   ]
  },
  {
   "cell_type": "code",
   "execution_count": 6,
   "metadata": {},
   "outputs": [],
   "source": [
    "obj = BaseModel().optimize_by_optuna(\n",
    "    kwargs=kwargs\n",
    "        )"
   ]
  },
  {
   "attachments": {},
   "cell_type": "markdown",
   "metadata": {},
   "source": [
    "#### Build sklearn pipeline"
   ]
  },
  {
   "cell_type": "code",
   "execution_count": 7,
   "metadata": {},
   "outputs": [],
   "source": [
    "\n",
    "\n",
    "pipeline =Pipeline([\n",
    "            # int missing values imputers\n",
    "            ('intimputer', MeanMedianImputer(\n",
    "                imputation_method='median', variables=int_cols)),\n",
    "            # category missing values imputers\n",
    "            ('catimputer', CategoricalImputer(variables=cat_cols)),\n",
    "            #\n",
    "            ('catencoder', OrdinalEncoder()),\n",
    "            # regression model \n",
    "            ('obj', obj),\n",
    "\n",
    "\n",
    " ])\n",
    "\n"
   ]
  },
  {
   "attachments": {},
   "cell_type": "markdown",
   "metadata": {},
   "source": [
    "#### Run Pipeline"
   ]
  },
  {
   "cell_type": "code",
   "execution_count": 8,
   "metadata": {},
   "outputs": [
    {
     "name": "stderr",
     "output_type": "stream",
     "text": [
      "[I 2023-07-03 02:55:45,049] A new study created in memory with name: example of optuna optimizer\n"
     ]
    },
    {
     "name": "stdout",
     "output_type": "stream",
     "text": [
      "2023-07-03 02:55:45,053 :: interpret.utils._native :: EBM lib loading.\n",
      "2023-07-03 02:55:45,054 :: interpret.utils._native :: Loading native on Darwin | debug = False\n",
      "2023-07-03 02:55:45,097 :: interpret.utils._binning :: Creating native dataset\n",
      "2023-07-03 02:55:48,555 :: interpret.glassbox.ebm.bin :: eval_terms\n",
      "2023-07-03 02:55:48,560 :: interpret.glassbox.ebm.bin :: eval_terms\n",
      "2023-07-03 02:55:48,564 :: interpret.glassbox.ebm.bin :: eval_terms\n",
      "2023-07-03 02:55:48,567 :: interpret.glassbox.ebm.bin :: eval_terms\n",
      "2023-07-03 02:55:48,569 :: interpret.glassbox.ebm.bin :: eval_terms\n",
      "2023-07-03 02:55:48,572 :: interpret.glassbox.ebm.bin :: eval_terms\n",
      "2023-07-03 02:55:48,574 :: interpret.glassbox.ebm.bin :: eval_terms\n",
      "2023-07-03 02:55:48,577 :: interpret.glassbox.ebm.bin :: eval_terms\n",
      "2023-07-03 02:55:48,580 :: interpret.utils._binning :: Creating native dataset\n",
      "2023-07-03 02:55:48,584 :: interpret.glassbox.ebm.ebm :: Estimating with FAST\n",
      "2023-07-03 02:55:49,113 :: interpret.glassbox.ebm.bin :: eval_terms\n",
      "2023-07-03 02:55:49,122 :: interpret.glassbox.ebm.bin :: eval_terms\n"
     ]
    },
    {
     "name": "stderr",
     "output_type": "stream",
     "text": [
      "[I 2023-07-03 02:55:49,127] Trial 0 finished with value: 15.28016061904285 and parameters: {'learning_rate': 0.08442422226849397, 'validation_size': 0.18890402842276124, 'early_stopping_rounds': 150, 'early_stopping_tolerance': 0.0006031334270084262, 'max_rounds': 15702, 'min_samples_leaf': 2, 'max_leaves': 4}. Best is trial 0 with value: 15.28016061904285.\n"
     ]
    },
    {
     "name": "stdout",
     "output_type": "stream",
     "text": [
      "2023-07-03 02:55:49,139 :: interpret.utils._binning :: Creating native dataset\n",
      "2023-07-03 02:55:49,205 :: interpret.glassbox.ebm.bin :: eval_terms\n",
      "2023-07-03 02:55:49,207 :: interpret.glassbox.ebm.bin :: eval_terms\n",
      "2023-07-03 02:55:49,213 :: interpret.glassbox.ebm.bin :: eval_terms\n",
      "2023-07-03 02:55:49,217 :: interpret.glassbox.ebm.bin :: eval_terms\n",
      "2023-07-03 02:55:49,219 :: interpret.glassbox.ebm.bin :: eval_terms\n",
      "2023-07-03 02:55:49,221 :: interpret.glassbox.ebm.bin :: eval_terms\n",
      "2023-07-03 02:55:49,223 :: interpret.glassbox.ebm.bin :: eval_terms\n",
      "2023-07-03 02:55:49,225 :: interpret.glassbox.ebm.bin :: eval_terms\n",
      "2023-07-03 02:55:49,228 :: interpret.utils._binning :: Creating native dataset\n",
      "2023-07-03 02:55:49,232 :: interpret.glassbox.ebm.ebm :: Estimating with FAST\n",
      "2023-07-03 02:55:49,377 :: interpret.glassbox.ebm.bin :: eval_terms\n",
      "2023-07-03 02:55:49,387 :: interpret.glassbox.ebm.bin :: eval_terms\n"
     ]
    },
    {
     "name": "stderr",
     "output_type": "stream",
     "text": [
      "[I 2023-07-03 02:55:49,390] Trial 1 finished with value: 15.87785888056342 and parameters: {'learning_rate': 0.09187904123448502, 'validation_size': 0.1982819193337451, 'early_stopping_rounds': 78, 'early_stopping_tolerance': 0.0003846010921962016, 'max_rounds': 14889, 'min_samples_leaf': 3, 'max_leaves': 5}. Best is trial 1 with value: 15.87785888056342.\n"
     ]
    },
    {
     "name": "stdout",
     "output_type": "stream",
     "text": [
      "2023-07-03 02:55:49,402 :: interpret.utils._binning :: Creating native dataset\n",
      "2023-07-03 02:55:49,504 :: interpret.glassbox.ebm.bin :: eval_terms\n",
      "2023-07-03 02:55:49,506 :: interpret.glassbox.ebm.bin :: eval_terms\n",
      "2023-07-03 02:55:49,508 :: interpret.glassbox.ebm.bin :: eval_terms\n",
      "2023-07-03 02:55:49,511 :: interpret.glassbox.ebm.bin :: eval_terms\n",
      "2023-07-03 02:55:49,513 :: interpret.glassbox.ebm.bin :: eval_terms\n",
      "2023-07-03 02:55:49,516 :: interpret.glassbox.ebm.bin :: eval_terms\n",
      "2023-07-03 02:55:49,519 :: interpret.glassbox.ebm.bin :: eval_terms\n",
      "2023-07-03 02:55:49,523 :: interpret.glassbox.ebm.bin :: eval_terms\n",
      "2023-07-03 02:55:49,526 :: interpret.utils._binning :: Creating native dataset\n",
      "2023-07-03 02:55:49,530 :: interpret.glassbox.ebm.ebm :: Estimating with FAST\n",
      "2023-07-03 02:55:49,807 :: interpret.glassbox.ebm.bin :: eval_terms\n",
      "2023-07-03 02:55:49,817 :: interpret.glassbox.ebm.bin :: eval_terms\n"
     ]
    },
    {
     "name": "stderr",
     "output_type": "stream",
     "text": [
      "[I 2023-07-03 02:55:49,820] Trial 2 finished with value: 16.995655798459644 and parameters: {'learning_rate': 0.08166916059860907, 'validation_size': 0.1610041881610929, 'early_stopping_rounds': 159, 'early_stopping_tolerance': 0.00046075830989397113, 'max_rounds': 8316, 'min_samples_leaf': 5, 'max_leaves': 3}. Best is trial 2 with value: 16.995655798459644.\n"
     ]
    },
    {
     "name": "stdout",
     "output_type": "stream",
     "text": [
      "2023-07-03 02:55:49,833 :: interpret.utils._binning :: Creating native dataset\n",
      "2023-07-03 02:55:49,920 :: interpret.glassbox.ebm.bin :: eval_terms\n",
      "2023-07-03 02:55:49,921 :: interpret.glassbox.ebm.bin :: eval_terms\n",
      "2023-07-03 02:55:49,923 :: interpret.glassbox.ebm.bin :: eval_terms\n",
      "2023-07-03 02:55:49,928 :: interpret.glassbox.ebm.bin :: eval_terms\n",
      "2023-07-03 02:55:49,932 :: interpret.glassbox.ebm.bin :: eval_terms\n",
      "2023-07-03 02:55:49,935 :: interpret.glassbox.ebm.bin :: eval_terms\n",
      "2023-07-03 02:55:49,937 :: interpret.glassbox.ebm.bin :: eval_terms\n",
      "2023-07-03 02:55:49,940 :: interpret.glassbox.ebm.bin :: eval_terms\n",
      "2023-07-03 02:55:49,942 :: interpret.utils._binning :: Creating native dataset\n",
      "2023-07-03 02:55:49,948 :: interpret.glassbox.ebm.ebm :: Estimating with FAST\n",
      "2023-07-03 02:55:50,096 :: interpret.glassbox.ebm.bin :: eval_terms\n",
      "2023-07-03 02:55:50,104 :: interpret.glassbox.ebm.bin :: eval_terms\n"
     ]
    },
    {
     "name": "stderr",
     "output_type": "stream",
     "text": [
      "[I 2023-07-03 02:55:50,107] Trial 3 finished with value: 16.477546018822824 and parameters: {'learning_rate': 0.018693649772087182, 'validation_size': 0.15840841089661303, 'early_stopping_rounds': 91, 'early_stopping_tolerance': 0.0009010301673465095, 'max_rounds': 5214, 'min_samples_leaf': 4, 'max_leaves': 3}. Best is trial 2 with value: 16.995655798459644.\n"
     ]
    },
    {
     "name": "stdout",
     "output_type": "stream",
     "text": [
      "2023-07-03 02:55:50,122 :: interpret.utils._binning :: Creating native dataset\n",
      "2023-07-03 02:55:50,174 :: interpret.glassbox.ebm.bin :: eval_terms\n",
      "2023-07-03 02:55:50,177 :: interpret.glassbox.ebm.bin :: eval_terms\n",
      "2023-07-03 02:55:50,179 :: interpret.glassbox.ebm.bin :: eval_terms\n",
      "2023-07-03 02:55:50,183 :: interpret.glassbox.ebm.bin :: eval_terms\n",
      "2023-07-03 02:55:50,186 :: interpret.glassbox.ebm.bin :: eval_terms\n",
      "2023-07-03 02:55:50,187 :: interpret.glassbox.ebm.bin :: eval_terms\n",
      "2023-07-03 02:55:50,192 :: interpret.glassbox.ebm.bin :: eval_terms\n",
      "2023-07-03 02:55:50,196 :: interpret.glassbox.ebm.bin :: eval_terms\n",
      "2023-07-03 02:55:50,199 :: interpret.utils._binning :: Creating native dataset\n",
      "2023-07-03 02:55:50,202 :: interpret.glassbox.ebm.ebm :: Estimating with FAST\n",
      "2023-07-03 02:55:50,864 :: interpret.glassbox.ebm.bin :: eval_terms\n",
      "2023-07-03 02:55:50,874 :: interpret.glassbox.ebm.bin :: eval_terms\n"
     ]
    },
    {
     "name": "stderr",
     "output_type": "stream",
     "text": [
      "[I 2023-07-03 02:55:50,878] Trial 4 finished with value: 15.624246018708142 and parameters: {'learning_rate': 0.08448307641515387, 'validation_size': 0.19127894214872881, 'early_stopping_rounds': 81, 'early_stopping_tolerance': 0.0001466726795261464, 'max_rounds': 8953, 'min_samples_leaf': 4, 'max_leaves': 4}. Best is trial 2 with value: 16.995655798459644.\n"
     ]
    },
    {
     "name": "stdout",
     "output_type": "stream",
     "text": [
      "2023-07-03 02:55:50,899 :: interpret.utils._binning :: Creating native dataset\n",
      "2023-07-03 02:55:51,047 :: interpret.glassbox.ebm.bin :: eval_terms\n",
      "2023-07-03 02:55:51,049 :: interpret.glassbox.ebm.bin :: eval_terms\n",
      "2023-07-03 02:55:51,052 :: interpret.glassbox.ebm.bin :: eval_terms\n",
      "2023-07-03 02:55:51,054 :: interpret.glassbox.ebm.bin :: eval_terms\n",
      "2023-07-03 02:55:51,056 :: interpret.glassbox.ebm.bin :: eval_terms\n",
      "2023-07-03 02:55:51,059 :: interpret.glassbox.ebm.bin :: eval_terms\n",
      "2023-07-03 02:55:51,063 :: interpret.glassbox.ebm.bin :: eval_terms\n",
      "2023-07-03 02:55:51,065 :: interpret.glassbox.ebm.bin :: eval_terms\n",
      "2023-07-03 02:55:51,067 :: interpret.utils._binning :: Creating native dataset\n",
      "2023-07-03 02:55:51,071 :: interpret.glassbox.ebm.ebm :: Estimating with FAST\n",
      "2023-07-03 02:55:51,592 :: interpret.glassbox.ebm.bin :: eval_terms\n",
      "2023-07-03 02:55:51,601 :: interpret.glassbox.ebm.bin :: eval_terms\n"
     ]
    },
    {
     "name": "stderr",
     "output_type": "stream",
     "text": [
      "[I 2023-07-03 02:55:51,604] Trial 5 finished with value: 14.875159172420654 and parameters: {'learning_rate': 0.02845589304532569, 'validation_size': 0.17153903312632643, 'early_stopping_rounds': 119, 'early_stopping_tolerance': 0.0005459392301634576, 'max_rounds': 18443, 'min_samples_leaf': 2, 'max_leaves': 4}. Best is trial 2 with value: 16.995655798459644.\n"
     ]
    },
    {
     "name": "stdout",
     "output_type": "stream",
     "text": [
      "2023-07-03 02:55:51,616 :: interpret.utils._binning :: Creating native dataset\n",
      "2023-07-03 02:55:51,726 :: interpret.glassbox.ebm.bin :: eval_terms\n",
      "2023-07-03 02:55:51,729 :: interpret.glassbox.ebm.bin :: eval_terms\n",
      "2023-07-03 02:55:51,733 :: interpret.glassbox.ebm.bin :: eval_terms\n",
      "2023-07-03 02:55:51,735 :: interpret.glassbox.ebm.bin :: eval_terms\n",
      "2023-07-03 02:55:51,739 :: interpret.glassbox.ebm.bin :: eval_terms\n",
      "2023-07-03 02:55:51,743 :: interpret.glassbox.ebm.bin :: eval_terms\n",
      "2023-07-03 02:55:51,749 :: interpret.glassbox.ebm.bin :: eval_terms\n",
      "2023-07-03 02:55:51,752 :: interpret.glassbox.ebm.bin :: eval_terms\n",
      "2023-07-03 02:55:51,755 :: interpret.utils._binning :: Creating native dataset\n",
      "2023-07-03 02:55:51,758 :: interpret.glassbox.ebm.ebm :: Estimating with FAST\n",
      "2023-07-03 02:55:52,097 :: interpret.glassbox.ebm.bin :: eval_terms\n",
      "2023-07-03 02:55:52,108 :: interpret.glassbox.ebm.bin :: eval_terms\n"
     ]
    },
    {
     "name": "stderr",
     "output_type": "stream",
     "text": [
      "[I 2023-07-03 02:55:52,112] Trial 6 finished with value: 16.493484331034757 and parameters: {'learning_rate': 0.06162137718151508, 'validation_size': 0.17023609400499745, 'early_stopping_rounds': 98, 'early_stopping_tolerance': 0.00035396010789572665, 'max_rounds': 14127, 'min_samples_leaf': 4, 'max_leaves': 3}. Best is trial 2 with value: 16.995655798459644.\n"
     ]
    },
    {
     "name": "stdout",
     "output_type": "stream",
     "text": [
      "2023-07-03 02:55:52,127 :: interpret.utils._binning :: Creating native dataset\n",
      "2023-07-03 02:55:52,241 :: interpret.glassbox.ebm.bin :: eval_terms\n",
      "2023-07-03 02:55:52,244 :: interpret.glassbox.ebm.bin :: eval_terms\n",
      "2023-07-03 02:55:52,248 :: interpret.glassbox.ebm.bin :: eval_terms\n",
      "2023-07-03 02:55:52,249 :: interpret.glassbox.ebm.bin :: eval_terms\n",
      "2023-07-03 02:55:52,251 :: interpret.glassbox.ebm.bin :: eval_terms\n",
      "2023-07-03 02:55:52,252 :: interpret.glassbox.ebm.bin :: eval_terms\n",
      "2023-07-03 02:55:52,254 :: interpret.glassbox.ebm.bin :: eval_terms\n",
      "2023-07-03 02:55:52,256 :: interpret.glassbox.ebm.bin :: eval_terms\n",
      "2023-07-03 02:55:52,260 :: interpret.utils._binning :: Creating native dataset\n",
      "2023-07-03 02:55:52,266 :: interpret.glassbox.ebm.ebm :: Estimating with FAST\n",
      "2023-07-03 02:55:52,605 :: interpret.glassbox.ebm.bin :: eval_terms\n",
      "2023-07-03 02:55:52,616 :: interpret.glassbox.ebm.bin :: eval_terms\n"
     ]
    },
    {
     "name": "stderr",
     "output_type": "stream",
     "text": [
      "[I 2023-07-03 02:55:52,620] Trial 7 finished with value: 15.77564389641027 and parameters: {'learning_rate': 0.08658479046575943, 'validation_size': 0.1667230702518083, 'early_stopping_rounds': 175, 'early_stopping_tolerance': 0.00021498541748998055, 'max_rounds': 6496, 'min_samples_leaf': 3, 'max_leaves': 5}. Best is trial 2 with value: 16.995655798459644.\n"
     ]
    },
    {
     "name": "stdout",
     "output_type": "stream",
     "text": [
      "2023-07-03 02:55:52,636 :: interpret.utils._binning :: Creating native dataset\n",
      "2023-07-03 02:55:52,698 :: interpret.glassbox.ebm.bin :: eval_terms\n",
      "2023-07-03 02:55:52,699 :: interpret.glassbox.ebm.bin :: eval_terms\n",
      "2023-07-03 02:55:52,701 :: interpret.glassbox.ebm.bin :: eval_terms\n",
      "2023-07-03 02:55:52,704 :: interpret.glassbox.ebm.bin :: eval_terms\n",
      "2023-07-03 02:55:52,709 :: interpret.glassbox.ebm.bin :: eval_terms\n",
      "2023-07-03 02:55:52,713 :: interpret.glassbox.ebm.bin :: eval_terms\n",
      "2023-07-03 02:55:52,716 :: interpret.glassbox.ebm.bin :: eval_terms\n",
      "2023-07-03 02:55:52,719 :: interpret.glassbox.ebm.bin :: eval_terms\n",
      "2023-07-03 02:55:52,720 :: interpret.utils._binning :: Creating native dataset\n",
      "2023-07-03 02:55:52,727 :: interpret.glassbox.ebm.ebm :: Estimating with FAST\n",
      "2023-07-03 02:55:52,864 :: interpret.glassbox.ebm.bin :: eval_terms\n",
      "2023-07-03 02:55:52,878 :: interpret.glassbox.ebm.bin :: eval_terms\n"
     ]
    },
    {
     "name": "stderr",
     "output_type": "stream",
     "text": [
      "[I 2023-07-03 02:55:52,881] Trial 8 finished with value: 16.179784711946027 and parameters: {'learning_rate': 0.036322449708574754, 'validation_size': 0.17480287672207398, 'early_stopping_rounds': 72, 'early_stopping_tolerance': 0.00029964265786690237, 'max_rounds': 15000, 'min_samples_leaf': 4, 'max_leaves': 4}. Best is trial 2 with value: 16.995655798459644.\n"
     ]
    },
    {
     "name": "stdout",
     "output_type": "stream",
     "text": [
      "2023-07-03 02:55:52,905 :: interpret.utils._binning :: Creating native dataset\n",
      "2023-07-03 02:55:53,002 :: interpret.glassbox.ebm.bin :: eval_terms\n",
      "2023-07-03 02:55:53,004 :: interpret.glassbox.ebm.bin :: eval_terms\n",
      "2023-07-03 02:55:53,009 :: interpret.glassbox.ebm.bin :: eval_terms\n",
      "2023-07-03 02:55:53,011 :: interpret.glassbox.ebm.bin :: eval_terms\n",
      "2023-07-03 02:55:53,013 :: interpret.glassbox.ebm.bin :: eval_terms\n",
      "2023-07-03 02:55:53,017 :: interpret.glassbox.ebm.bin :: eval_terms\n",
      "2023-07-03 02:55:53,020 :: interpret.glassbox.ebm.bin :: eval_terms\n",
      "2023-07-03 02:55:53,023 :: interpret.glassbox.ebm.bin :: eval_terms\n",
      "2023-07-03 02:55:53,026 :: interpret.utils._binning :: Creating native dataset\n",
      "2023-07-03 02:55:53,030 :: interpret.glassbox.ebm.ebm :: Estimating with FAST\n",
      "2023-07-03 02:55:53,228 :: interpret.glassbox.ebm.bin :: eval_terms\n",
      "2023-07-03 02:55:53,238 :: interpret.glassbox.ebm.bin :: eval_terms\n"
     ]
    },
    {
     "name": "stderr",
     "output_type": "stream",
     "text": [
      "[I 2023-07-03 02:55:53,242] Trial 9 finished with value: 15.767287457202482 and parameters: {'learning_rate': 0.08116678783144168, 'validation_size': 0.19829492282043443, 'early_stopping_rounds': 119, 'early_stopping_tolerance': 0.0005532189291571852, 'max_rounds': 10955, 'min_samples_leaf': 5, 'max_leaves': 4}. Best is trial 2 with value: 16.995655798459644.\n"
     ]
    },
    {
     "name": "stdout",
     "output_type": "stream",
     "text": [
      "2023-07-03 02:55:53,294 :: interpret.utils._binning :: Creating native dataset\n",
      "2023-07-03 02:55:53,500 :: interpret.glassbox.ebm.bin :: eval_terms\n",
      "2023-07-03 02:55:53,502 :: interpret.glassbox.ebm.bin :: eval_terms\n",
      "2023-07-03 02:55:53,504 :: interpret.glassbox.ebm.bin :: eval_terms\n",
      "2023-07-03 02:55:53,507 :: interpret.glassbox.ebm.bin :: eval_terms\n",
      "2023-07-03 02:55:53,509 :: interpret.glassbox.ebm.bin :: eval_terms\n",
      "2023-07-03 02:55:53,511 :: interpret.glassbox.ebm.bin :: eval_terms\n",
      "2023-07-03 02:55:53,513 :: interpret.glassbox.ebm.bin :: eval_terms\n",
      "2023-07-03 02:55:53,522 :: interpret.glassbox.ebm.bin :: eval_terms\n",
      "2023-07-03 02:55:53,527 :: interpret.utils._binning :: Creating native dataset\n",
      "2023-07-03 02:55:53,529 :: interpret.glassbox.ebm.ebm :: Estimating with FAST\n",
      "2023-07-03 02:55:53,865 :: interpret.glassbox.ebm.bin :: eval_terms\n",
      "2023-07-03 02:55:53,876 :: interpret.glassbox.ebm.bin :: eval_terms\n"
     ]
    },
    {
     "name": "stderr",
     "output_type": "stream",
     "text": [
      "[I 2023-07-03 02:55:53,879] Trial 10 finished with value: 15.096529848306277 and parameters: {'learning_rate': 0.05864724592351261, 'validation_size': 0.15035920196344008, 'early_stopping_rounds': 199, 'early_stopping_tolerance': 1.5045017149415123e-05, 'max_rounds': 9243, 'min_samples_leaf': 5, 'max_leaves': 2}. Best is trial 2 with value: 16.995655798459644.\n"
     ]
    },
    {
     "name": "stdout",
     "output_type": "stream",
     "text": [
      "2023-07-03 02:55:53,929 :: interpret.utils._binning :: Creating native dataset\n",
      "2023-07-03 02:55:54,107 :: interpret.glassbox.ebm.bin :: eval_terms\n",
      "2023-07-03 02:55:54,109 :: interpret.glassbox.ebm.bin :: eval_terms\n",
      "2023-07-03 02:55:54,112 :: interpret.glassbox.ebm.bin :: eval_terms\n",
      "2023-07-03 02:55:54,114 :: interpret.glassbox.ebm.bin :: eval_terms\n",
      "2023-07-03 02:55:54,116 :: interpret.glassbox.ebm.bin :: eval_terms\n",
      "2023-07-03 02:55:54,118 :: interpret.glassbox.ebm.bin :: eval_terms\n",
      "2023-07-03 02:55:54,120 :: interpret.glassbox.ebm.bin :: eval_terms\n",
      "2023-07-03 02:55:54,123 :: interpret.glassbox.ebm.bin :: eval_terms\n",
      "2023-07-03 02:55:54,126 :: interpret.utils._binning :: Creating native dataset\n",
      "2023-07-03 02:55:54,131 :: interpret.glassbox.ebm.ebm :: Estimating with FAST\n",
      "2023-07-03 02:55:54,369 :: interpret.glassbox.ebm.bin :: eval_terms\n",
      "2023-07-03 02:55:54,379 :: interpret.glassbox.ebm.bin :: eval_terms\n"
     ]
    },
    {
     "name": "stderr",
     "output_type": "stream",
     "text": [
      "[I 2023-07-03 02:55:54,382] Trial 11 finished with value: 14.428971918202077 and parameters: {'learning_rate': 0.06195578123191537, 'validation_size': 0.16311858789995493, 'early_stopping_rounds': 147, 'early_stopping_tolerance': 0.0004062798030932446, 'max_rounds': 12490, 'min_samples_leaf': 5, 'max_leaves': 2}. Best is trial 2 with value: 16.995655798459644.\n"
     ]
    },
    {
     "name": "stdout",
     "output_type": "stream",
     "text": [
      "2023-07-03 02:55:54,432 :: interpret.utils._binning :: Creating native dataset\n",
      "2023-07-03 02:55:54,479 :: interpret.glassbox.ebm.bin :: eval_terms\n",
      "2023-07-03 02:55:54,481 :: interpret.glassbox.ebm.bin :: eval_terms\n",
      "2023-07-03 02:55:54,483 :: interpret.glassbox.ebm.bin :: eval_terms\n",
      "2023-07-03 02:55:54,485 :: interpret.glassbox.ebm.bin :: eval_terms\n",
      "2023-07-03 02:55:54,490 :: interpret.glassbox.ebm.bin :: eval_terms\n",
      "2023-07-03 02:55:54,494 :: interpret.glassbox.ebm.bin :: eval_terms\n",
      "2023-07-03 02:55:54,496 :: interpret.glassbox.ebm.bin :: eval_terms\n",
      "2023-07-03 02:55:54,499 :: interpret.glassbox.ebm.bin :: eval_terms\n",
      "2023-07-03 02:55:54,501 :: interpret.utils._binning :: Creating native dataset\n",
      "2023-07-03 02:55:54,507 :: interpret.glassbox.ebm.ebm :: Estimating with FAST\n",
      "2023-07-03 02:55:54,617 :: interpret.glassbox.ebm.bin :: eval_terms\n",
      "2023-07-03 02:55:54,627 :: interpret.glassbox.ebm.bin :: eval_terms\n"
     ]
    },
    {
     "name": "stderr",
     "output_type": "stream",
     "text": [
      "[I 2023-07-03 02:55:54,630] Trial 12 finished with value: 16.415174885485637 and parameters: {'learning_rate': 0.0673156685811086, 'validation_size': 0.1784265578722245, 'early_stopping_rounds': 52, 'early_stopping_tolerance': 0.0007327545798301925, 'max_rounds': 8305, 'min_samples_leaf': 5, 'max_leaves': 3}. Best is trial 2 with value: 16.995655798459644.\n"
     ]
    },
    {
     "name": "stdout",
     "output_type": "stream",
     "text": [
      "2023-07-03 02:55:54,689 :: interpret.utils._binning :: Creating native dataset\n",
      "2023-07-03 02:55:54,789 :: interpret.glassbox.ebm.bin :: eval_terms\n",
      "2023-07-03 02:55:54,790 :: interpret.glassbox.ebm.bin :: eval_terms\n",
      "2023-07-03 02:55:54,795 :: interpret.glassbox.ebm.bin :: eval_terms\n",
      "2023-07-03 02:55:54,797 :: interpret.glassbox.ebm.bin :: eval_terms\n",
      "2023-07-03 02:55:54,800 :: interpret.glassbox.ebm.bin :: eval_terms\n",
      "2023-07-03 02:55:54,801 :: interpret.glassbox.ebm.bin :: eval_terms\n",
      "2023-07-03 02:55:54,804 :: interpret.glassbox.ebm.bin :: eval_terms\n",
      "2023-07-03 02:55:54,827 :: interpret.glassbox.ebm.bin :: eval_terms\n",
      "2023-07-03 02:55:54,840 :: interpret.utils._binning :: Creating native dataset\n",
      "2023-07-03 02:55:54,846 :: interpret.glassbox.ebm.ebm :: Estimating with FAST\n",
      "2023-07-03 02:55:55,209 :: interpret.glassbox.ebm.bin :: eval_terms\n",
      "2023-07-03 02:55:55,218 :: interpret.glassbox.ebm.bin :: eval_terms\n"
     ]
    },
    {
     "name": "stderr",
     "output_type": "stream",
     "text": [
      "[I 2023-07-03 02:55:55,221] Trial 13 finished with value: 16.335630059374544 and parameters: {'learning_rate': 0.04907384298720277, 'validation_size': 0.15814319826980697, 'early_stopping_rounds': 144, 'early_stopping_tolerance': 0.0004262372189987185, 'max_rounds': 19765, 'min_samples_leaf': 4, 'max_leaves': 3}. Best is trial 2 with value: 16.995655798459644.\n"
     ]
    },
    {
     "name": "stdout",
     "output_type": "stream",
     "text": [
      "2023-07-03 02:55:55,276 :: interpret.utils._binning :: Creating native dataset\n",
      "2023-07-03 02:55:55,602 :: interpret.glassbox.ebm.bin :: eval_terms\n",
      "2023-07-03 02:55:55,604 :: interpret.glassbox.ebm.bin :: eval_terms\n",
      "2023-07-03 02:55:55,607 :: interpret.glassbox.ebm.bin :: eval_terms\n",
      "2023-07-03 02:55:55,609 :: interpret.glassbox.ebm.bin :: eval_terms\n",
      "2023-07-03 02:55:55,611 :: interpret.glassbox.ebm.bin :: eval_terms\n",
      "2023-07-03 02:55:55,613 :: interpret.glassbox.ebm.bin :: eval_terms\n",
      "2023-07-03 02:55:55,616 :: interpret.glassbox.ebm.bin :: eval_terms\n",
      "2023-07-03 02:55:55,617 :: interpret.glassbox.ebm.bin :: eval_terms\n",
      "2023-07-03 02:55:55,619 :: interpret.utils._binning :: Creating native dataset\n",
      "2023-07-03 02:55:55,625 :: interpret.glassbox.ebm.ebm :: Estimating with FAST\n",
      "2023-07-03 02:55:55,881 :: interpret.glassbox.ebm.bin :: eval_terms\n",
      "2023-07-03 02:55:55,891 :: interpret.glassbox.ebm.bin :: eval_terms\n"
     ]
    },
    {
     "name": "stderr",
     "output_type": "stream",
     "text": [
      "[I 2023-07-03 02:55:55,894] Trial 14 finished with value: 11.856324264597472 and parameters: {'learning_rate': 0.09792452259047327, 'validation_size': 0.16871274434215397, 'early_stopping_rounds': 102, 'early_stopping_tolerance': 0.00028875978529248043, 'max_rounds': 12003, 'min_samples_leaf': 3, 'max_leaves': 2}. Best is trial 2 with value: 16.995655798459644.\n"
     ]
    },
    {
     "name": "stdout",
     "output_type": "stream",
     "text": [
      "2023-07-03 02:55:55,945 :: interpret.utils._binning :: Creating native dataset\n",
      "2023-07-03 02:55:56,045 :: interpret.glassbox.ebm.bin :: eval_terms\n",
      "2023-07-03 02:55:56,047 :: interpret.glassbox.ebm.bin :: eval_terms\n",
      "2023-07-03 02:55:56,050 :: interpret.glassbox.ebm.bin :: eval_terms\n",
      "2023-07-03 02:55:56,052 :: interpret.glassbox.ebm.bin :: eval_terms\n",
      "2023-07-03 02:55:56,055 :: interpret.glassbox.ebm.bin :: eval_terms\n",
      "2023-07-03 02:55:56,058 :: interpret.glassbox.ebm.bin :: eval_terms\n",
      "2023-07-03 02:55:56,061 :: interpret.glassbox.ebm.bin :: eval_terms\n",
      "2023-07-03 02:55:56,064 :: interpret.glassbox.ebm.bin :: eval_terms\n",
      "2023-07-03 02:55:56,066 :: interpret.utils._binning :: Creating native dataset\n",
      "2023-07-03 02:55:56,070 :: interpret.glassbox.ebm.ebm :: Estimating with FAST\n",
      "2023-07-03 02:55:56,357 :: interpret.glassbox.ebm.bin :: eval_terms\n",
      "2023-07-03 02:55:56,365 :: interpret.glassbox.ebm.bin :: eval_terms\n"
     ]
    },
    {
     "name": "stderr",
     "output_type": "stream",
     "text": [
      "[I 2023-07-03 02:55:56,368] Trial 15 finished with value: 16.662342940070705 and parameters: {'learning_rate': 0.06910525491100411, 'validation_size': 0.17885041745691135, 'early_stopping_rounds': 177, 'early_stopping_tolerance': 0.000676940644989011, 'max_rounds': 14250, 'min_samples_leaf': 5, 'max_leaves': 3}. Best is trial 2 with value: 16.995655798459644.\n"
     ]
    },
    {
     "name": "stdout",
     "output_type": "stream",
     "text": [
      "2023-07-03 02:55:56,425 :: interpret.utils._binning :: Creating native dataset\n",
      "2023-07-03 02:55:56,528 :: interpret.glassbox.ebm.bin :: eval_terms\n",
      "2023-07-03 02:55:56,529 :: interpret.glassbox.ebm.bin :: eval_terms\n",
      "2023-07-03 02:55:56,531 :: interpret.glassbox.ebm.bin :: eval_terms\n",
      "2023-07-03 02:55:56,534 :: interpret.glassbox.ebm.bin :: eval_terms\n",
      "2023-07-03 02:55:56,537 :: interpret.glassbox.ebm.bin :: eval_terms\n",
      "2023-07-03 02:55:56,540 :: interpret.glassbox.ebm.bin :: eval_terms\n",
      "2023-07-03 02:55:56,543 :: interpret.glassbox.ebm.bin :: eval_terms\n",
      "2023-07-03 02:55:56,545 :: interpret.glassbox.ebm.bin :: eval_terms\n",
      "2023-07-03 02:55:56,549 :: interpret.utils._binning :: Creating native dataset\n",
      "2023-07-03 02:55:56,555 :: interpret.glassbox.ebm.ebm :: Estimating with FAST\n",
      "2023-07-03 02:55:56,867 :: interpret.glassbox.ebm.bin :: eval_terms\n",
      "2023-07-03 02:55:56,877 :: interpret.glassbox.ebm.bin :: eval_terms\n"
     ]
    },
    {
     "name": "stderr",
     "output_type": "stream",
     "text": [
      "[I 2023-07-03 02:55:56,880] Trial 16 finished with value: 15.788756184253307 and parameters: {'learning_rate': 0.07391644346079196, 'validation_size': 0.17936592272871793, 'early_stopping_rounds': 178, 'early_stopping_tolerance': 0.0007026756482563328, 'max_rounds': 17480, 'min_samples_leaf': 5, 'max_leaves': 3}. Best is trial 2 with value: 16.995655798459644.\n"
     ]
    },
    {
     "name": "stdout",
     "output_type": "stream",
     "text": [
      "2023-07-03 02:55:56,931 :: interpret.utils._binning :: Creating native dataset\n",
      "2023-07-03 02:55:57,048 :: interpret.glassbox.ebm.bin :: eval_terms\n",
      "2023-07-03 02:55:57,050 :: interpret.glassbox.ebm.bin :: eval_terms\n",
      "2023-07-03 02:55:57,052 :: interpret.glassbox.ebm.bin :: eval_terms\n",
      "2023-07-03 02:55:57,056 :: interpret.glassbox.ebm.bin :: eval_terms\n",
      "2023-07-03 02:55:57,058 :: interpret.glassbox.ebm.bin :: eval_terms\n",
      "2023-07-03 02:55:57,060 :: interpret.glassbox.ebm.bin :: eval_terms\n",
      "2023-07-03 02:55:57,062 :: interpret.glassbox.ebm.bin :: eval_terms\n",
      "2023-07-03 02:55:57,064 :: interpret.glassbox.ebm.bin :: eval_terms\n",
      "2023-07-03 02:55:57,067 :: interpret.utils._binning :: Creating native dataset\n",
      "2023-07-03 02:55:57,070 :: interpret.glassbox.ebm.ebm :: Estimating with FAST\n",
      "2023-07-03 02:55:57,350 :: interpret.glassbox.ebm.bin :: eval_terms\n",
      "2023-07-03 02:55:57,359 :: interpret.glassbox.ebm.bin :: eval_terms\n"
     ]
    },
    {
     "name": "stderr",
     "output_type": "stream",
     "text": [
      "[I 2023-07-03 02:55:57,362] Trial 17 finished with value: 15.882381189277002 and parameters: {'learning_rate': 0.07303316762307598, 'validation_size': 0.1820888909199236, 'early_stopping_rounds': 172, 'early_stopping_tolerance': 0.0009739527818754533, 'max_rounds': 10556, 'min_samples_leaf': 5, 'max_leaves': 2}. Best is trial 2 with value: 16.995655798459644.\n"
     ]
    },
    {
     "name": "stdout",
     "output_type": "stream",
     "text": [
      "2023-07-03 02:55:57,427 :: interpret.utils._binning :: Creating native dataset\n",
      "2023-07-03 02:55:57,549 :: interpret.glassbox.ebm.bin :: eval_terms\n",
      "2023-07-03 02:55:57,550 :: interpret.glassbox.ebm.bin :: eval_terms\n",
      "2023-07-03 02:55:57,552 :: interpret.glassbox.ebm.bin :: eval_terms\n",
      "2023-07-03 02:55:57,555 :: interpret.glassbox.ebm.bin :: eval_terms\n",
      "2023-07-03 02:55:57,558 :: interpret.glassbox.ebm.bin :: eval_terms\n",
      "2023-07-03 02:55:57,560 :: interpret.glassbox.ebm.bin :: eval_terms\n",
      "2023-07-03 02:55:57,563 :: interpret.glassbox.ebm.bin :: eval_terms\n",
      "2023-07-03 02:55:57,566 :: interpret.glassbox.ebm.bin :: eval_terms\n",
      "2023-07-03 02:55:57,568 :: interpret.utils._binning :: Creating native dataset\n",
      "2023-07-03 02:55:57,571 :: interpret.glassbox.ebm.ebm :: Estimating with FAST\n",
      "2023-07-03 02:55:57,995 :: interpret.glassbox.ebm.bin :: eval_terms\n",
      "2023-07-03 02:55:58,005 :: interpret.glassbox.ebm.bin :: eval_terms\n"
     ]
    },
    {
     "name": "stderr",
     "output_type": "stream",
     "text": [
      "[I 2023-07-03 02:55:58,008] Trial 18 finished with value: 15.698614655927363 and parameters: {'learning_rate': 0.05191375995802262, 'validation_size': 0.1751006734398278, 'early_stopping_rounds': 199, 'early_stopping_tolerance': 0.0004874140803316499, 'max_rounds': 13732, 'min_samples_leaf': 5, 'max_leaves': 3}. Best is trial 2 with value: 16.995655798459644.\n"
     ]
    },
    {
     "name": "stdout",
     "output_type": "stream",
     "text": [
      "2023-07-03 02:55:58,065 :: interpret.utils._binning :: Creating native dataset\n",
      "2023-07-03 02:55:58,246 :: interpret.glassbox.ebm.bin :: eval_terms\n",
      "2023-07-03 02:55:58,248 :: interpret.glassbox.ebm.bin :: eval_terms\n",
      "2023-07-03 02:55:58,250 :: interpret.glassbox.ebm.bin :: eval_terms\n",
      "2023-07-03 02:55:58,253 :: interpret.glassbox.ebm.bin :: eval_terms\n",
      "2023-07-03 02:55:58,255 :: interpret.glassbox.ebm.bin :: eval_terms\n",
      "2023-07-03 02:55:58,257 :: interpret.glassbox.ebm.bin :: eval_terms\n",
      "2023-07-03 02:55:58,259 :: interpret.glassbox.ebm.bin :: eval_terms\n",
      "2023-07-03 02:55:58,261 :: interpret.glassbox.ebm.bin :: eval_terms\n",
      "2023-07-03 02:55:58,263 :: interpret.utils._binning :: Creating native dataset\n",
      "2023-07-03 02:55:58,266 :: interpret.glassbox.ebm.ebm :: Estimating with FAST\n",
      "2023-07-03 02:55:59,058 :: interpret.glassbox.ebm.bin :: eval_terms\n",
      "2023-07-03 02:55:59,067 :: interpret.glassbox.ebm.bin :: eval_terms\n"
     ]
    },
    {
     "name": "stderr",
     "output_type": "stream",
     "text": [
      "[I 2023-07-03 02:55:59,071] Trial 19 finished with value: 12.61626762327645 and parameters: {'learning_rate': 0.0742443457806828, 'validation_size': 0.18420476974063638, 'early_stopping_rounds': 160, 'early_stopping_tolerance': 0.0006741898133747349, 'max_rounds': 7258, 'min_samples_leaf': 4, 'max_leaves': 2}. Best is trial 2 with value: 16.995655798459644.\n"
     ]
    },
    {
     "name": "stdout",
     "output_type": "stream",
     "text": [
      "2023-07-03 02:55:59,072 :: dev :: If refit is set to True, the optimal model will be refit on the entire dataset, i.e., X_train and y_train!\n",
      "2023-07-03 02:55:59,072 :: dev :: If refit is set to True, the optimal model will be refit on the entire dataset, i.e., X_train and y_train!\n",
      "2023-07-03 02:55:59,087 :: interpret.utils._binning :: Creating native dataset\n",
      "2023-07-03 02:56:00,316 :: interpret.glassbox.ebm.bin :: eval_terms\n",
      "2023-07-03 02:56:00,318 :: interpret.glassbox.ebm.bin :: eval_terms\n",
      "2023-07-03 02:56:00,321 :: interpret.glassbox.ebm.bin :: eval_terms\n",
      "2023-07-03 02:56:00,323 :: interpret.glassbox.ebm.bin :: eval_terms\n",
      "2023-07-03 02:56:00,325 :: interpret.glassbox.ebm.bin :: eval_terms\n",
      "2023-07-03 02:56:00,327 :: interpret.glassbox.ebm.bin :: eval_terms\n",
      "2023-07-03 02:56:00,329 :: interpret.glassbox.ebm.bin :: eval_terms\n",
      "2023-07-03 02:56:00,332 :: interpret.glassbox.ebm.bin :: eval_terms\n",
      "2023-07-03 02:56:00,338 :: interpret.utils._binning :: Creating native dataset\n",
      "2023-07-03 02:56:00,342 :: interpret.glassbox.ebm.ebm :: Estimating with FAST\n",
      "2023-07-03 02:56:00,604 :: interpret.glassbox.ebm.bin :: eval_terms\n",
      "2023-07-03 02:56:00,620 :: interpret.glassbox.ebm.bin :: eval_terms\n"
     ]
    }
   ],
   "source": [
    "pipeline.fit(X_train,y_train)\n",
    "y_pred = pipeline.predict(X_test)\n"
   ]
  },
  {
   "attachments": {},
   "cell_type": "markdown",
   "metadata": {},
   "source": [
    "#### Check performance of the pipeline"
   ]
  },
  {
   "cell_type": "code",
   "execution_count": 9,
   "metadata": {},
   "outputs": [
    {
     "name": "stdout",
     "output_type": "stream",
     "text": [
      "r2 score : \n",
      "0.5503945238854855\n"
     ]
    }
   ],
   "source": [
    "print('r2 score : ')\n",
    "print(r2_score(y_test,y_pred))\n"
   ]
  },
  {
   "attachments": {},
   "cell_type": "markdown",
   "metadata": {},
   "source": [
    "#### Part 2:  Use BestModel as a standalone estimator "
   ]
  },
  {
   "cell_type": "code",
   "execution_count": 10,
   "metadata": {},
   "outputs": [],
   "source": [
    "X_train, X_test, y_train, y_test =train_test_split(X, y, test_size=0.33, random_state=42)\n"
   ]
  },
  {
   "attachments": {},
   "cell_type": "markdown",
   "metadata": {},
   "source": [
    "#### Transform features to make them ready for model input"
   ]
  },
  {
   "cell_type": "code",
   "execution_count": 11,
   "metadata": {},
   "outputs": [],
   "source": [
    "transform_pipeline =Pipeline([\n",
    "            # int missing values imputers\n",
    "            ('intimputer', MeanMedianImputer(\n",
    "                imputation_method='median', variables=int_cols)),\n",
    "            # category missing values imputers\n",
    "            ('catimputer', CategoricalImputer(variables=cat_cols)),\n",
    "            #\n",
    "            ('catencoder', OrdinalEncoder()),\n",
    "            # classification model\n",
    "\n",
    " ])"
   ]
  },
  {
   "attachments": {},
   "cell_type": "markdown",
   "metadata": {},
   "source": [
    "#### Transform X_train and X_test"
   ]
  },
  {
   "cell_type": "code",
   "execution_count": 12,
   "metadata": {},
   "outputs": [],
   "source": [
    "X_train=transform_pipeline.fit_transform(X_train,y_train)\n",
    "X_test=transform_pipeline.transform(X_test)\n"
   ]
  },
  {
   "attachments": {},
   "cell_type": "markdown",
   "metadata": {},
   "source": [
    "#### Train model and predict"
   ]
  },
  {
   "cell_type": "code",
   "execution_count": 13,
   "metadata": {},
   "outputs": [
    {
     "name": "stderr",
     "output_type": "stream",
     "text": [
      "[I 2023-07-03 02:56:00,765] A new study created in memory with name: example of optuna optimizer\n"
     ]
    },
    {
     "name": "stdout",
     "output_type": "stream",
     "text": [
      "2023-07-03 02:56:00,777 :: interpret.utils._binning :: Creating native dataset\n",
      "2023-07-03 02:56:01,359 :: interpret.glassbox.ebm.bin :: eval_terms\n",
      "2023-07-03 02:56:01,362 :: interpret.glassbox.ebm.bin :: eval_terms\n",
      "2023-07-03 02:56:01,363 :: interpret.glassbox.ebm.bin :: eval_terms\n",
      "2023-07-03 02:56:01,366 :: interpret.glassbox.ebm.bin :: eval_terms\n",
      "2023-07-03 02:56:01,369 :: interpret.glassbox.ebm.bin :: eval_terms\n",
      "2023-07-03 02:56:01,371 :: interpret.glassbox.ebm.bin :: eval_terms\n",
      "2023-07-03 02:56:01,373 :: interpret.glassbox.ebm.bin :: eval_terms\n",
      "2023-07-03 02:56:01,375 :: interpret.glassbox.ebm.bin :: eval_terms\n",
      "2023-07-03 02:56:01,378 :: interpret.utils._binning :: Creating native dataset\n",
      "2023-07-03 02:56:01,381 :: interpret.glassbox.ebm.ebm :: Estimating with FAST\n",
      "2023-07-03 02:56:03,511 :: interpret.glassbox.ebm.bin :: eval_terms\n",
      "2023-07-03 02:56:03,523 :: interpret.glassbox.ebm.bin :: eval_terms\n"
     ]
    },
    {
     "name": "stderr",
     "output_type": "stream",
     "text": [
      "[I 2023-07-03 02:56:03,529] Trial 0 finished with value: 11.822874873776374 and parameters: {'learning_rate': 0.014962451796605002, 'validation_size': 0.16245501695446754, 'early_stopping_rounds': 86, 'early_stopping_tolerance': 0.00039942659093249487, 'max_rounds': 10597, 'min_samples_leaf': 2, 'max_leaves': 5}. Best is trial 0 with value: 11.822874873776374.\n"
     ]
    },
    {
     "name": "stdout",
     "output_type": "stream",
     "text": [
      "2023-07-03 02:56:03,543 :: interpret.utils._binning :: Creating native dataset\n",
      "2023-07-03 02:56:03,828 :: interpret.glassbox.ebm.bin :: eval_terms\n",
      "2023-07-03 02:56:03,830 :: interpret.glassbox.ebm.bin :: eval_terms\n",
      "2023-07-03 02:56:03,832 :: interpret.glassbox.ebm.bin :: eval_terms\n",
      "2023-07-03 02:56:03,834 :: interpret.glassbox.ebm.bin :: eval_terms\n",
      "2023-07-03 02:56:03,837 :: interpret.glassbox.ebm.bin :: eval_terms\n",
      "2023-07-03 02:56:03,840 :: interpret.glassbox.ebm.bin :: eval_terms\n",
      "2023-07-03 02:56:03,841 :: interpret.glassbox.ebm.bin :: eval_terms\n",
      "2023-07-03 02:56:03,844 :: interpret.glassbox.ebm.bin :: eval_terms\n",
      "2023-07-03 02:56:03,846 :: interpret.utils._binning :: Creating native dataset\n",
      "2023-07-03 02:56:03,849 :: interpret.glassbox.ebm.ebm :: Estimating with FAST\n",
      "2023-07-03 02:56:04,374 :: interpret.glassbox.ebm.bin :: eval_terms\n",
      "2023-07-03 02:56:04,383 :: interpret.glassbox.ebm.bin :: eval_terms\n"
     ]
    },
    {
     "name": "stderr",
     "output_type": "stream",
     "text": [
      "[I 2023-07-03 02:56:04,387] Trial 1 finished with value: 12.132147968812092 and parameters: {'learning_rate': 0.053511462599148234, 'validation_size': 0.16198141168617516, 'early_stopping_rounds': 64, 'early_stopping_tolerance': 0.0003788489842755574, 'max_rounds': 16401, 'min_samples_leaf': 2, 'max_leaves': 4}. Best is trial 1 with value: 12.132147968812092.\n"
     ]
    },
    {
     "name": "stdout",
     "output_type": "stream",
     "text": [
      "2023-07-03 02:56:04,400 :: interpret.utils._binning :: Creating native dataset\n",
      "2023-07-03 02:56:05,004 :: interpret.glassbox.ebm.bin :: eval_terms\n",
      "2023-07-03 02:56:05,007 :: interpret.glassbox.ebm.bin :: eval_terms\n",
      "2023-07-03 02:56:05,009 :: interpret.glassbox.ebm.bin :: eval_terms\n",
      "2023-07-03 02:56:05,011 :: interpret.glassbox.ebm.bin :: eval_terms\n",
      "2023-07-03 02:56:05,012 :: interpret.glassbox.ebm.bin :: eval_terms\n",
      "2023-07-03 02:56:05,016 :: interpret.glassbox.ebm.bin :: eval_terms\n",
      "2023-07-03 02:56:05,017 :: interpret.glassbox.ebm.bin :: eval_terms\n",
      "2023-07-03 02:56:05,020 :: interpret.glassbox.ebm.bin :: eval_terms\n",
      "2023-07-03 02:56:05,023 :: interpret.utils._binning :: Creating native dataset\n",
      "2023-07-03 02:56:05,026 :: interpret.glassbox.ebm.ebm :: Estimating with FAST\n",
      "2023-07-03 02:56:05,606 :: interpret.glassbox.ebm.bin :: eval_terms\n",
      "2023-07-03 02:56:05,617 :: interpret.glassbox.ebm.bin :: eval_terms\n"
     ]
    },
    {
     "name": "stderr",
     "output_type": "stream",
     "text": [
      "[I 2023-07-03 02:56:05,619] Trial 2 finished with value: 12.951896015391283 and parameters: {'learning_rate': 0.081336707948686, 'validation_size': 0.19237664472613447, 'early_stopping_rounds': 138, 'early_stopping_tolerance': 0.0005625454797369169, 'max_rounds': 18777, 'min_samples_leaf': 3, 'max_leaves': 4}. Best is trial 2 with value: 12.951896015391283.\n"
     ]
    },
    {
     "name": "stdout",
     "output_type": "stream",
     "text": [
      "2023-07-03 02:56:05,631 :: interpret.utils._binning :: Creating native dataset\n",
      "2023-07-03 02:56:06,839 :: interpret.glassbox.ebm.bin :: eval_terms\n",
      "2023-07-03 02:56:06,841 :: interpret.glassbox.ebm.bin :: eval_terms\n",
      "2023-07-03 02:56:06,843 :: interpret.glassbox.ebm.bin :: eval_terms\n",
      "2023-07-03 02:56:06,845 :: interpret.glassbox.ebm.bin :: eval_terms\n",
      "2023-07-03 02:56:06,848 :: interpret.glassbox.ebm.bin :: eval_terms\n",
      "2023-07-03 02:56:06,850 :: interpret.glassbox.ebm.bin :: eval_terms\n",
      "2023-07-03 02:56:06,852 :: interpret.glassbox.ebm.bin :: eval_terms\n",
      "2023-07-03 02:56:06,854 :: interpret.glassbox.ebm.bin :: eval_terms\n",
      "2023-07-03 02:56:06,858 :: interpret.utils._binning :: Creating native dataset\n",
      "2023-07-03 02:56:06,861 :: interpret.glassbox.ebm.ebm :: Estimating with FAST\n",
      "2023-07-03 02:56:07,251 :: interpret.glassbox.ebm.bin :: eval_terms\n",
      "2023-07-03 02:56:07,261 :: interpret.glassbox.ebm.bin :: eval_terms\n"
     ]
    },
    {
     "name": "stderr",
     "output_type": "stream",
     "text": [
      "[I 2023-07-03 02:56:07,265] Trial 3 finished with value: 9.4032227466048 and parameters: {'learning_rate': 0.048927009498917255, 'validation_size': 0.17176674664960506, 'early_stopping_rounds': 120, 'early_stopping_tolerance': 0.0009157350503438005, 'max_rounds': 8306, 'min_samples_leaf': 3, 'max_leaves': 2}. Best is trial 2 with value: 12.951896015391283.\n"
     ]
    },
    {
     "name": "stdout",
     "output_type": "stream",
     "text": [
      "2023-07-03 02:56:07,280 :: interpret.utils._binning :: Creating native dataset\n",
      "2023-07-03 02:56:07,776 :: interpret.glassbox.ebm.bin :: eval_terms\n",
      "2023-07-03 02:56:07,778 :: interpret.glassbox.ebm.bin :: eval_terms\n",
      "2023-07-03 02:56:07,780 :: interpret.glassbox.ebm.bin :: eval_terms\n",
      "2023-07-03 02:56:07,782 :: interpret.glassbox.ebm.bin :: eval_terms\n",
      "2023-07-03 02:56:07,784 :: interpret.glassbox.ebm.bin :: eval_terms\n",
      "2023-07-03 02:56:07,787 :: interpret.glassbox.ebm.bin :: eval_terms\n",
      "2023-07-03 02:56:07,791 :: interpret.glassbox.ebm.bin :: eval_terms\n",
      "2023-07-03 02:56:07,793 :: interpret.glassbox.ebm.bin :: eval_terms\n",
      "2023-07-03 02:56:07,798 :: interpret.utils._binning :: Creating native dataset\n",
      "2023-07-03 02:56:07,801 :: interpret.glassbox.ebm.ebm :: Estimating with FAST\n",
      "2023-07-03 02:56:07,918 :: interpret.glassbox.ebm.bin :: eval_terms\n",
      "2023-07-03 02:56:07,928 :: interpret.glassbox.ebm.bin :: eval_terms\n"
     ]
    },
    {
     "name": "stderr",
     "output_type": "stream",
     "text": [
      "[I 2023-07-03 02:56:07,931] Trial 4 finished with value: 11.246292933881554 and parameters: {'learning_rate': 0.08270524741110473, 'validation_size': 0.15211345031325543, 'early_stopping_rounds': 71, 'early_stopping_tolerance': 0.0001731087342333663, 'max_rounds': 12891, 'min_samples_leaf': 4, 'max_leaves': 5}. Best is trial 2 with value: 12.951896015391283.\n"
     ]
    },
    {
     "name": "stdout",
     "output_type": "stream",
     "text": [
      "2023-07-03 02:56:07,942 :: interpret.utils._binning :: Creating native dataset\n",
      "2023-07-03 02:56:10,415 :: interpret.glassbox.ebm.bin :: eval_terms\n",
      "2023-07-03 02:56:10,417 :: interpret.glassbox.ebm.bin :: eval_terms\n",
      "2023-07-03 02:56:10,419 :: interpret.glassbox.ebm.bin :: eval_terms\n",
      "2023-07-03 02:56:10,421 :: interpret.glassbox.ebm.bin :: eval_terms\n",
      "2023-07-03 02:56:10,423 :: interpret.glassbox.ebm.bin :: eval_terms\n",
      "2023-07-03 02:56:10,425 :: interpret.glassbox.ebm.bin :: eval_terms\n",
      "2023-07-03 02:56:10,427 :: interpret.glassbox.ebm.bin :: eval_terms\n",
      "2023-07-03 02:56:10,430 :: interpret.glassbox.ebm.bin :: eval_terms\n",
      "2023-07-03 02:56:10,433 :: interpret.utils._binning :: Creating native dataset\n",
      "2023-07-03 02:56:10,437 :: interpret.glassbox.ebm.ebm :: Estimating with FAST\n",
      "2023-07-03 02:56:11,431 :: interpret.glassbox.ebm.bin :: eval_terms\n",
      "2023-07-03 02:56:11,439 :: interpret.glassbox.ebm.bin :: eval_terms\n"
     ]
    },
    {
     "name": "stderr",
     "output_type": "stream",
     "text": [
      "[I 2023-07-03 02:56:11,442] Trial 5 finished with value: 6.611618610916583 and parameters: {'learning_rate': 0.048482254736410574, 'validation_size': 0.16389399927186524, 'early_stopping_rounds': 140, 'early_stopping_tolerance': 0.0004178368506749909, 'max_rounds': 18822, 'min_samples_leaf': 2, 'max_leaves': 2}. Best is trial 2 with value: 12.951896015391283.\n"
     ]
    },
    {
     "name": "stdout",
     "output_type": "stream",
     "text": [
      "2023-07-03 02:56:11,455 :: interpret.utils._binning :: Creating native dataset\n",
      "2023-07-03 02:56:11,742 :: interpret.glassbox.ebm.bin :: eval_terms\n",
      "2023-07-03 02:56:11,744 :: interpret.glassbox.ebm.bin :: eval_terms\n",
      "2023-07-03 02:56:11,748 :: interpret.glassbox.ebm.bin :: eval_terms\n",
      "2023-07-03 02:56:11,751 :: interpret.glassbox.ebm.bin :: eval_terms\n",
      "2023-07-03 02:56:11,756 :: interpret.glassbox.ebm.bin :: eval_terms\n",
      "2023-07-03 02:56:11,759 :: interpret.glassbox.ebm.bin :: eval_terms\n",
      "2023-07-03 02:56:11,762 :: interpret.glassbox.ebm.bin :: eval_terms\n",
      "2023-07-03 02:56:11,766 :: interpret.glassbox.ebm.bin :: eval_terms\n",
      "2023-07-03 02:56:11,768 :: interpret.utils._binning :: Creating native dataset\n",
      "2023-07-03 02:56:11,771 :: interpret.glassbox.ebm.ebm :: Estimating with FAST\n",
      "2023-07-03 02:56:12,169 :: interpret.glassbox.ebm.bin :: eval_terms\n",
      "2023-07-03 02:56:12,181 :: interpret.glassbox.ebm.bin :: eval_terms\n"
     ]
    },
    {
     "name": "stderr",
     "output_type": "stream",
     "text": [
      "[I 2023-07-03 02:56:12,185] Trial 6 finished with value: 11.381411742071064 and parameters: {'learning_rate': 0.05181470916648903, 'validation_size': 0.19304896711969582, 'early_stopping_rounds': 50, 'early_stopping_tolerance': 0.000578923193324877, 'max_rounds': 12377, 'min_samples_leaf': 2, 'max_leaves': 5}. Best is trial 2 with value: 12.951896015391283.\n"
     ]
    },
    {
     "name": "stdout",
     "output_type": "stream",
     "text": [
      "2023-07-03 02:56:12,202 :: interpret.utils._binning :: Creating native dataset\n",
      "2023-07-03 02:56:12,972 :: interpret.glassbox.ebm.bin :: eval_terms\n",
      "2023-07-03 02:56:12,974 :: interpret.glassbox.ebm.bin :: eval_terms\n",
      "2023-07-03 02:56:12,980 :: interpret.glassbox.ebm.bin :: eval_terms\n",
      "2023-07-03 02:56:12,983 :: interpret.glassbox.ebm.bin :: eval_terms\n",
      "2023-07-03 02:56:12,986 :: interpret.glassbox.ebm.bin :: eval_terms\n",
      "2023-07-03 02:56:12,988 :: interpret.glassbox.ebm.bin :: eval_terms\n",
      "2023-07-03 02:56:12,993 :: interpret.glassbox.ebm.bin :: eval_terms\n",
      "2023-07-03 02:56:13,001 :: interpret.glassbox.ebm.bin :: eval_terms\n",
      "2023-07-03 02:56:13,005 :: interpret.utils._binning :: Creating native dataset\n",
      "2023-07-03 02:56:13,008 :: interpret.glassbox.ebm.ebm :: Estimating with FAST\n",
      "2023-07-03 02:56:13,702 :: interpret.glassbox.ebm.bin :: eval_terms\n",
      "2023-07-03 02:56:13,711 :: interpret.glassbox.ebm.bin :: eval_terms\n"
     ]
    },
    {
     "name": "stderr",
     "output_type": "stream",
     "text": [
      "[I 2023-07-03 02:56:13,714] Trial 7 finished with value: 13.505300699278237 and parameters: {'learning_rate': 0.09367780775661878, 'validation_size': 0.15199958834009505, 'early_stopping_rounds': 111, 'early_stopping_tolerance': 0.0006321009327072976, 'max_rounds': 17800, 'min_samples_leaf': 3, 'max_leaves': 3}. Best is trial 7 with value: 13.505300699278237.\n"
     ]
    },
    {
     "name": "stdout",
     "output_type": "stream",
     "text": [
      "2023-07-03 02:56:13,726 :: interpret.utils._binning :: Creating native dataset\n",
      "2023-07-03 02:56:13,962 :: interpret.glassbox.ebm.bin :: eval_terms\n",
      "2023-07-03 02:56:13,965 :: interpret.glassbox.ebm.bin :: eval_terms\n",
      "2023-07-03 02:56:13,966 :: interpret.glassbox.ebm.bin :: eval_terms\n",
      "2023-07-03 02:56:13,969 :: interpret.glassbox.ebm.bin :: eval_terms\n",
      "2023-07-03 02:56:13,971 :: interpret.glassbox.ebm.bin :: eval_terms\n",
      "2023-07-03 02:56:13,973 :: interpret.glassbox.ebm.bin :: eval_terms\n",
      "2023-07-03 02:56:13,974 :: interpret.glassbox.ebm.bin :: eval_terms\n",
      "2023-07-03 02:56:13,977 :: interpret.glassbox.ebm.bin :: eval_terms\n",
      "2023-07-03 02:56:13,979 :: interpret.utils._binning :: Creating native dataset\n",
      "2023-07-03 02:56:13,982 :: interpret.glassbox.ebm.ebm :: Estimating with FAST\n",
      "2023-07-03 02:56:14,189 :: interpret.glassbox.ebm.bin :: eval_terms\n",
      "2023-07-03 02:56:14,198 :: interpret.glassbox.ebm.bin :: eval_terms\n"
     ]
    },
    {
     "name": "stderr",
     "output_type": "stream",
     "text": [
      "[I 2023-07-03 02:56:14,201] Trial 8 finished with value: 11.060213424858073 and parameters: {'learning_rate': 0.062156083411118945, 'validation_size': 0.16206359384139, 'early_stopping_rounds': 150, 'early_stopping_tolerance': 0.0003701788237536344, 'max_rounds': 10611, 'min_samples_leaf': 4, 'max_leaves': 4}. Best is trial 7 with value: 13.505300699278237.\n"
     ]
    },
    {
     "name": "stdout",
     "output_type": "stream",
     "text": [
      "2023-07-03 02:56:14,212 :: interpret.utils._binning :: Creating native dataset\n",
      "2023-07-03 02:56:16,065 :: interpret.glassbox.ebm.bin :: eval_terms\n",
      "2023-07-03 02:56:16,067 :: interpret.glassbox.ebm.bin :: eval_terms\n",
      "2023-07-03 02:56:16,069 :: interpret.glassbox.ebm.bin :: eval_terms\n",
      "2023-07-03 02:56:16,071 :: interpret.glassbox.ebm.bin :: eval_terms\n",
      "2023-07-03 02:56:16,075 :: interpret.glassbox.ebm.bin :: eval_terms\n",
      "2023-07-03 02:56:16,076 :: interpret.glassbox.ebm.bin :: eval_terms\n",
      "2023-07-03 02:56:16,079 :: interpret.glassbox.ebm.bin :: eval_terms\n",
      "2023-07-03 02:56:16,080 :: interpret.glassbox.ebm.bin :: eval_terms\n",
      "2023-07-03 02:56:16,083 :: interpret.utils._binning :: Creating native dataset\n",
      "2023-07-03 02:56:16,086 :: interpret.glassbox.ebm.ebm :: Estimating with FAST\n",
      "2023-07-03 02:56:16,753 :: interpret.glassbox.ebm.bin :: eval_terms\n",
      "2023-07-03 02:56:16,765 :: interpret.glassbox.ebm.bin :: eval_terms\n"
     ]
    },
    {
     "name": "stderr",
     "output_type": "stream",
     "text": [
      "[I 2023-07-03 02:56:16,770] Trial 9 finished with value: 9.472161383867467 and parameters: {'learning_rate': 0.015088324442291943, 'validation_size': 0.1862514552095268, 'early_stopping_rounds': 137, 'early_stopping_tolerance': 0.0006973697500840859, 'max_rounds': 12260, 'min_samples_leaf': 3, 'max_leaves': 2}. Best is trial 7 with value: 13.505300699278237.\n"
     ]
    },
    {
     "name": "stdout",
     "output_type": "stream",
     "text": [
      "2023-07-03 02:56:16,832 :: interpret.utils._binning :: Creating native dataset\n",
      "2023-07-03 02:56:17,041 :: interpret.glassbox.ebm.bin :: eval_terms\n",
      "2023-07-03 02:56:17,043 :: interpret.glassbox.ebm.bin :: eval_terms\n",
      "2023-07-03 02:56:17,044 :: interpret.glassbox.ebm.bin :: eval_terms\n",
      "2023-07-03 02:56:17,047 :: interpret.glassbox.ebm.bin :: eval_terms\n",
      "2023-07-03 02:56:17,048 :: interpret.glassbox.ebm.bin :: eval_terms\n",
      "2023-07-03 02:56:17,051 :: interpret.glassbox.ebm.bin :: eval_terms\n",
      "2023-07-03 02:56:17,052 :: interpret.glassbox.ebm.bin :: eval_terms\n",
      "2023-07-03 02:56:17,055 :: interpret.glassbox.ebm.bin :: eval_terms\n",
      "2023-07-03 02:56:17,057 :: interpret.utils._binning :: Creating native dataset\n",
      "2023-07-03 02:56:17,061 :: interpret.glassbox.ebm.ebm :: Estimating with FAST\n",
      "2023-07-03 02:56:17,341 :: interpret.glassbox.ebm.bin :: eval_terms\n",
      "2023-07-03 02:56:17,351 :: interpret.glassbox.ebm.bin :: eval_terms\n"
     ]
    },
    {
     "name": "stderr",
     "output_type": "stream",
     "text": [
      "[I 2023-07-03 02:56:17,354] Trial 10 finished with value: 13.282324124979827 and parameters: {'learning_rate': 0.0901097346663616, 'validation_size': 0.15116053334805868, 'early_stopping_rounds': 194, 'early_stopping_tolerance': 1.544611693887212e-05, 'max_rounds': 15904, 'min_samples_leaf': 5, 'max_leaves': 3}. Best is trial 7 with value: 13.505300699278237.\n"
     ]
    },
    {
     "name": "stdout",
     "output_type": "stream",
     "text": [
      "2023-07-03 02:56:17,400 :: interpret.utils._binning :: Creating native dataset\n",
      "2023-07-03 02:56:17,547 :: interpret.glassbox.ebm.bin :: eval_terms\n",
      "2023-07-03 02:56:17,549 :: interpret.glassbox.ebm.bin :: eval_terms\n",
      "2023-07-03 02:56:17,550 :: interpret.glassbox.ebm.bin :: eval_terms\n",
      "2023-07-03 02:56:17,553 :: interpret.glassbox.ebm.bin :: eval_terms\n",
      "2023-07-03 02:56:17,555 :: interpret.glassbox.ebm.bin :: eval_terms\n",
      "2023-07-03 02:56:17,558 :: interpret.glassbox.ebm.bin :: eval_terms\n",
      "2023-07-03 02:56:17,560 :: interpret.glassbox.ebm.bin :: eval_terms\n",
      "2023-07-03 02:56:17,562 :: interpret.glassbox.ebm.bin :: eval_terms\n",
      "2023-07-03 02:56:17,564 :: interpret.utils._binning :: Creating native dataset\n",
      "2023-07-03 02:56:17,567 :: interpret.glassbox.ebm.ebm :: Estimating with FAST\n",
      "2023-07-03 02:56:17,844 :: interpret.glassbox.ebm.bin :: eval_terms\n",
      "2023-07-03 02:56:17,852 :: interpret.glassbox.ebm.bin :: eval_terms\n"
     ]
    },
    {
     "name": "stderr",
     "output_type": "stream",
     "text": [
      "[I 2023-07-03 02:56:17,855] Trial 11 finished with value: 13.25120306496205 and parameters: {'learning_rate': 0.09878079996236279, 'validation_size': 0.15090799354218937, 'early_stopping_rounds': 195, 'early_stopping_tolerance': 6.17789732659998e-05, 'max_rounds': 15606, 'min_samples_leaf': 5, 'max_leaves': 3}. Best is trial 7 with value: 13.505300699278237.\n"
     ]
    },
    {
     "name": "stdout",
     "output_type": "stream",
     "text": [
      "2023-07-03 02:56:17,897 :: interpret.utils._binning :: Creating native dataset\n",
      "2023-07-03 02:56:18,035 :: interpret.glassbox.ebm.bin :: eval_terms\n",
      "2023-07-03 02:56:18,038 :: interpret.glassbox.ebm.bin :: eval_terms\n",
      "2023-07-03 02:56:18,040 :: interpret.glassbox.ebm.bin :: eval_terms\n",
      "2023-07-03 02:56:18,042 :: interpret.glassbox.ebm.bin :: eval_terms\n",
      "2023-07-03 02:56:18,044 :: interpret.glassbox.ebm.bin :: eval_terms\n",
      "2023-07-03 02:56:18,046 :: interpret.glassbox.ebm.bin :: eval_terms\n",
      "2023-07-03 02:56:18,049 :: interpret.glassbox.ebm.bin :: eval_terms\n",
      "2023-07-03 02:56:18,052 :: interpret.glassbox.ebm.bin :: eval_terms\n",
      "2023-07-03 02:56:18,053 :: interpret.utils._binning :: Creating native dataset\n",
      "2023-07-03 02:56:18,057 :: interpret.glassbox.ebm.ebm :: Estimating with FAST\n",
      "2023-07-03 02:56:18,327 :: interpret.glassbox.ebm.bin :: eval_terms\n",
      "2023-07-03 02:56:18,334 :: interpret.glassbox.ebm.bin :: eval_terms\n"
     ]
    },
    {
     "name": "stderr",
     "output_type": "stream",
     "text": [
      "[I 2023-07-03 02:56:18,338] Trial 12 finished with value: 13.195649503248333 and parameters: {'learning_rate': 0.09929010960588712, 'validation_size': 0.15001094787989575, 'early_stopping_rounds': 190, 'early_stopping_tolerance': 3.1653877957513795e-05, 'max_rounds': 16061, 'min_samples_leaf': 5, 'max_leaves': 3}. Best is trial 7 with value: 13.505300699278237.\n"
     ]
    },
    {
     "name": "stdout",
     "output_type": "stream",
     "text": [
      "2023-07-03 02:56:18,384 :: interpret.utils._binning :: Creating native dataset\n",
      "2023-07-03 02:56:18,476 :: interpret.glassbox.ebm.bin :: eval_terms\n",
      "2023-07-03 02:56:18,478 :: interpret.glassbox.ebm.bin :: eval_terms\n",
      "2023-07-03 02:56:18,480 :: interpret.glassbox.ebm.bin :: eval_terms\n",
      "2023-07-03 02:56:18,482 :: interpret.glassbox.ebm.bin :: eval_terms\n",
      "2023-07-03 02:56:18,485 :: interpret.glassbox.ebm.bin :: eval_terms\n",
      "2023-07-03 02:56:18,486 :: interpret.glassbox.ebm.bin :: eval_terms\n",
      "2023-07-03 02:56:18,490 :: interpret.glassbox.ebm.bin :: eval_terms\n",
      "2023-07-03 02:56:18,492 :: interpret.glassbox.ebm.bin :: eval_terms\n",
      "2023-07-03 02:56:18,494 :: interpret.utils._binning :: Creating native dataset\n",
      "2023-07-03 02:56:18,498 :: interpret.glassbox.ebm.ebm :: Estimating with FAST\n",
      "2023-07-03 02:56:18,651 :: interpret.glassbox.ebm.bin :: eval_terms\n",
      "2023-07-03 02:56:18,661 :: interpret.glassbox.ebm.bin :: eval_terms\n"
     ]
    },
    {
     "name": "stderr",
     "output_type": "stream",
     "text": [
      "[I 2023-07-03 02:56:18,664] Trial 13 finished with value: 13.599222995997005 and parameters: {'learning_rate': 0.08707773912887662, 'validation_size': 0.1570564294745042, 'early_stopping_rounds': 105, 'early_stopping_tolerance': 0.0002046649627731466, 'max_rounds': 17510, 'min_samples_leaf': 4, 'max_leaves': 3}. Best is trial 13 with value: 13.599222995997005.\n"
     ]
    },
    {
     "name": "stdout",
     "output_type": "stream",
     "text": [
      "2023-07-03 02:56:18,708 :: interpret.utils._binning :: Creating native dataset\n",
      "2023-07-03 02:56:19,537 :: interpret.glassbox.ebm.bin :: eval_terms\n",
      "2023-07-03 02:56:19,540 :: interpret.glassbox.ebm.bin :: eval_terms\n",
      "2023-07-03 02:56:19,542 :: interpret.glassbox.ebm.bin :: eval_terms\n",
      "2023-07-03 02:56:19,544 :: interpret.glassbox.ebm.bin :: eval_terms\n",
      "2023-07-03 02:56:19,546 :: interpret.glassbox.ebm.bin :: eval_terms\n",
      "2023-07-03 02:56:19,548 :: interpret.glassbox.ebm.bin :: eval_terms\n",
      "2023-07-03 02:56:19,549 :: interpret.glassbox.ebm.bin :: eval_terms\n",
      "2023-07-03 02:56:19,551 :: interpret.glassbox.ebm.bin :: eval_terms\n",
      "2023-07-03 02:56:19,553 :: interpret.utils._binning :: Creating native dataset\n",
      "2023-07-03 02:56:19,557 :: interpret.glassbox.ebm.ebm :: Estimating with FAST\n",
      "2023-07-03 02:56:19,708 :: interpret.glassbox.ebm.bin :: eval_terms\n",
      "2023-07-03 02:56:19,716 :: interpret.glassbox.ebm.bin :: eval_terms\n"
     ]
    },
    {
     "name": "stderr",
     "output_type": "stream",
     "text": [
      "[I 2023-07-03 02:56:19,719] Trial 14 finished with value: 12.259288726459385 and parameters: {'learning_rate': 0.07361256741148793, 'validation_size': 0.17566337984009947, 'early_stopping_rounds': 102, 'early_stopping_tolerance': 0.0002356666684443405, 'max_rounds': 19758, 'min_samples_leaf': 4, 'max_leaves': 3}. Best is trial 13 with value: 13.599222995997005.\n"
     ]
    },
    {
     "name": "stdout",
     "output_type": "stream",
     "text": [
      "2023-07-03 02:56:19,767 :: interpret.utils._binning :: Creating native dataset\n",
      "2023-07-03 02:56:19,893 :: interpret.glassbox.ebm.bin :: eval_terms\n",
      "2023-07-03 02:56:19,896 :: interpret.glassbox.ebm.bin :: eval_terms\n",
      "2023-07-03 02:56:19,897 :: interpret.glassbox.ebm.bin :: eval_terms\n",
      "2023-07-03 02:56:19,900 :: interpret.glassbox.ebm.bin :: eval_terms\n",
      "2023-07-03 02:56:19,901 :: interpret.glassbox.ebm.bin :: eval_terms\n",
      "2023-07-03 02:56:19,903 :: interpret.glassbox.ebm.bin :: eval_terms\n",
      "2023-07-03 02:56:19,906 :: interpret.glassbox.ebm.bin :: eval_terms\n",
      "2023-07-03 02:56:19,909 :: interpret.glassbox.ebm.bin :: eval_terms\n",
      "2023-07-03 02:56:19,911 :: interpret.utils._binning :: Creating native dataset\n",
      "2023-07-03 02:56:19,914 :: interpret.glassbox.ebm.ebm :: Estimating with FAST\n",
      "2023-07-03 02:56:20,069 :: interpret.glassbox.ebm.bin :: eval_terms\n",
      "2023-07-03 02:56:20,079 :: interpret.glassbox.ebm.bin :: eval_terms\n"
     ]
    },
    {
     "name": "stderr",
     "output_type": "stream",
     "text": [
      "[I 2023-07-03 02:56:20,083] Trial 15 finished with value: 13.747992725666455 and parameters: {'learning_rate': 0.07082906383268768, 'validation_size': 0.1571077038156805, 'early_stopping_rounds': 106, 'early_stopping_tolerance': 0.0007106660286424488, 'max_rounds': 17841, 'min_samples_leaf': 4, 'max_leaves': 3}. Best is trial 15 with value: 13.747992725666455.\n"
     ]
    },
    {
     "name": "stdout",
     "output_type": "stream",
     "text": [
      "2023-07-03 02:56:20,126 :: interpret.utils._binning :: Creating native dataset\n",
      "2023-07-03 02:56:20,314 :: interpret.glassbox.ebm.bin :: eval_terms\n",
      "2023-07-03 02:56:20,316 :: interpret.glassbox.ebm.bin :: eval_terms\n",
      "2023-07-03 02:56:20,318 :: interpret.glassbox.ebm.bin :: eval_terms\n",
      "2023-07-03 02:56:20,320 :: interpret.glassbox.ebm.bin :: eval_terms\n",
      "2023-07-03 02:56:20,323 :: interpret.glassbox.ebm.bin :: eval_terms\n",
      "2023-07-03 02:56:20,326 :: interpret.glassbox.ebm.bin :: eval_terms\n",
      "2023-07-03 02:56:20,327 :: interpret.glassbox.ebm.bin :: eval_terms\n",
      "2023-07-03 02:56:20,329 :: interpret.glassbox.ebm.bin :: eval_terms\n",
      "2023-07-03 02:56:20,331 :: interpret.utils._binning :: Creating native dataset\n",
      "2023-07-03 02:56:20,333 :: interpret.glassbox.ebm.ebm :: Estimating with FAST\n",
      "2023-07-03 02:56:20,626 :: interpret.glassbox.ebm.bin :: eval_terms\n",
      "2023-07-03 02:56:20,634 :: interpret.glassbox.ebm.bin :: eval_terms\n"
     ]
    },
    {
     "name": "stderr",
     "output_type": "stream",
     "text": [
      "[I 2023-07-03 02:56:20,637] Trial 16 finished with value: 11.64141933312089 and parameters: {'learning_rate': 0.06839460230901494, 'validation_size': 0.1564363169975624, 'early_stopping_rounds': 94, 'early_stopping_tolerance': 0.0007666288166529462, 'max_rounds': 14156, 'min_samples_leaf': 4, 'max_leaves': 4}. Best is trial 15 with value: 13.747992725666455.\n"
     ]
    },
    {
     "name": "stdout",
     "output_type": "stream",
     "text": [
      "2023-07-03 02:56:20,681 :: interpret.utils._binning :: Creating native dataset\n",
      "2023-07-03 02:56:21,424 :: interpret.glassbox.ebm.bin :: eval_terms\n",
      "2023-07-03 02:56:21,426 :: interpret.glassbox.ebm.bin :: eval_terms\n",
      "2023-07-03 02:56:21,428 :: interpret.glassbox.ebm.bin :: eval_terms\n",
      "2023-07-03 02:56:21,430 :: interpret.glassbox.ebm.bin :: eval_terms\n",
      "2023-07-03 02:56:21,433 :: interpret.glassbox.ebm.bin :: eval_terms\n",
      "2023-07-03 02:56:21,435 :: interpret.glassbox.ebm.bin :: eval_terms\n",
      "2023-07-03 02:56:21,436 :: interpret.glassbox.ebm.bin :: eval_terms\n",
      "2023-07-03 02:56:21,439 :: interpret.glassbox.ebm.bin :: eval_terms\n",
      "2023-07-03 02:56:21,442 :: interpret.utils._binning :: Creating native dataset\n",
      "2023-07-03 02:56:21,446 :: interpret.glassbox.ebm.ebm :: Estimating with FAST\n",
      "2023-07-03 02:56:21,712 :: interpret.glassbox.ebm.bin :: eval_terms\n",
      "2023-07-03 02:56:21,721 :: interpret.glassbox.ebm.bin :: eval_terms\n"
     ]
    },
    {
     "name": "stderr",
     "output_type": "stream",
     "text": [
      "[I 2023-07-03 02:56:21,724] Trial 17 finished with value: 10.875591146340385 and parameters: {'learning_rate': 0.08306288695516426, 'validation_size': 0.17069938679913768, 'early_stopping_rounds': 167, 'early_stopping_tolerance': 0.0008047237536491934, 'max_rounds': 5315, 'min_samples_leaf': 4, 'max_leaves': 2}. Best is trial 15 with value: 13.747992725666455.\n"
     ]
    },
    {
     "name": "stdout",
     "output_type": "stream",
     "text": [
      "2023-07-03 02:56:21,765 :: interpret.utils._binning :: Creating native dataset\n",
      "2023-07-03 02:56:21,885 :: interpret.glassbox.ebm.bin :: eval_terms\n",
      "2023-07-03 02:56:21,887 :: interpret.glassbox.ebm.bin :: eval_terms\n",
      "2023-07-03 02:56:21,890 :: interpret.glassbox.ebm.bin :: eval_terms\n",
      "2023-07-03 02:56:21,892 :: interpret.glassbox.ebm.bin :: eval_terms\n",
      "2023-07-03 02:56:21,893 :: interpret.glassbox.ebm.bin :: eval_terms\n",
      "2023-07-03 02:56:21,895 :: interpret.glassbox.ebm.bin :: eval_terms\n",
      "2023-07-03 02:56:21,897 :: interpret.glassbox.ebm.bin :: eval_terms\n",
      "2023-07-03 02:56:21,899 :: interpret.glassbox.ebm.bin :: eval_terms\n",
      "2023-07-03 02:56:21,901 :: interpret.utils._binning :: Creating native dataset\n",
      "2023-07-03 02:56:21,904 :: interpret.glassbox.ebm.ebm :: Estimating with FAST\n",
      "2023-07-03 02:56:22,046 :: interpret.glassbox.ebm.bin :: eval_terms\n",
      "2023-07-03 02:56:22,055 :: interpret.glassbox.ebm.bin :: eval_terms\n"
     ]
    },
    {
     "name": "stderr",
     "output_type": "stream",
     "text": [
      "[I 2023-07-03 02:56:22,058] Trial 18 finished with value: 12.9140692377137 and parameters: {'learning_rate': 0.07523395236314588, 'validation_size': 0.15702857187364452, 'early_stopping_rounds': 87, 'early_stopping_tolerance': 0.0004886705615876085, 'max_rounds': 17440, 'min_samples_leaf': 5, 'max_leaves': 3}. Best is trial 15 with value: 13.747992725666455.\n"
     ]
    },
    {
     "name": "stdout",
     "output_type": "stream",
     "text": [
      "2023-07-03 02:56:22,104 :: interpret.utils._binning :: Creating native dataset\n",
      "2023-07-03 02:56:22,288 :: interpret.glassbox.ebm.bin :: eval_terms\n",
      "2023-07-03 02:56:22,290 :: interpret.glassbox.ebm.bin :: eval_terms\n",
      "2023-07-03 02:56:22,292 :: interpret.glassbox.ebm.bin :: eval_terms\n",
      "2023-07-03 02:56:22,295 :: interpret.glassbox.ebm.bin :: eval_terms\n",
      "2023-07-03 02:56:22,296 :: interpret.glassbox.ebm.bin :: eval_terms\n",
      "2023-07-03 02:56:22,298 :: interpret.glassbox.ebm.bin :: eval_terms\n",
      "2023-07-03 02:56:22,300 :: interpret.glassbox.ebm.bin :: eval_terms\n",
      "2023-07-03 02:56:22,302 :: interpret.glassbox.ebm.bin :: eval_terms\n",
      "2023-07-03 02:56:22,305 :: interpret.utils._binning :: Creating native dataset\n",
      "2023-07-03 02:56:22,309 :: interpret.glassbox.ebm.ebm :: Estimating with FAST\n",
      "2023-07-03 02:56:22,463 :: interpret.glassbox.ebm.bin :: eval_terms\n",
      "2023-07-03 02:56:22,472 :: interpret.glassbox.ebm.bin :: eval_terms\n"
     ]
    },
    {
     "name": "stderr",
     "output_type": "stream",
     "text": [
      "[I 2023-07-03 02:56:22,475] Trial 19 finished with value: 11.056757570733762 and parameters: {'learning_rate': 0.06233583214233987, 'validation_size': 0.15716162724245503, 'early_stopping_rounds': 119, 'early_stopping_tolerance': 0.0009977902394311248, 'max_rounds': 19971, 'min_samples_leaf': 4, 'max_leaves': 4}. Best is trial 15 with value: 13.747992725666455.\n"
     ]
    },
    {
     "name": "stdout",
     "output_type": "stream",
     "text": [
      "2023-07-03 02:56:22,475 :: dev :: If refit is set to True, the optimal model will be refit on the entire dataset, i.e., X_train and y_train!\n",
      "2023-07-03 02:56:22,475 :: dev :: If refit is set to True, the optimal model will be refit on the entire dataset, i.e., X_train and y_train!\n",
      "2023-07-03 02:56:22,485 :: interpret.utils._binning :: Creating native dataset\n",
      "2023-07-03 02:56:23,368 :: interpret.glassbox.ebm.bin :: eval_terms\n",
      "2023-07-03 02:56:23,370 :: interpret.glassbox.ebm.bin :: eval_terms\n",
      "2023-07-03 02:56:23,373 :: interpret.glassbox.ebm.bin :: eval_terms\n",
      "2023-07-03 02:56:23,375 :: interpret.glassbox.ebm.bin :: eval_terms\n",
      "2023-07-03 02:56:23,377 :: interpret.glassbox.ebm.bin :: eval_terms\n",
      "2023-07-03 02:56:23,379 :: interpret.glassbox.ebm.bin :: eval_terms\n",
      "2023-07-03 02:56:23,381 :: interpret.glassbox.ebm.bin :: eval_terms\n",
      "2023-07-03 02:56:23,384 :: interpret.glassbox.ebm.bin :: eval_terms\n",
      "2023-07-03 02:56:23,387 :: interpret.utils._binning :: Creating native dataset\n",
      "2023-07-03 02:56:23,390 :: interpret.glassbox.ebm.ebm :: Estimating with FAST\n",
      "2023-07-03 02:56:23,584 :: interpret.glassbox.ebm.bin :: eval_terms\n",
      "2023-07-03 02:56:23,594 :: interpret.glassbox.ebm.bin :: eval_terms\n"
     ]
    }
   ],
   "source": [
    "obj.fit(X_train,y_train)\n",
    "y_pred = obj.predict(X_test)"
   ]
  },
  {
   "attachments": {},
   "cell_type": "markdown",
   "metadata": {},
   "source": [
    "#### Check performance of the model"
   ]
  },
  {
   "cell_type": "code",
   "execution_count": 14,
   "metadata": {},
   "outputs": [
    {
     "name": "stdout",
     "output_type": "stream",
     "text": [
      "r2 score : \n",
      "0.5644799870799552\n",
      "mean_absolute_error : \n",
      "43.10811650673652\n"
     ]
    }
   ],
   "source": [
    "print('r2 score : ')\n",
    "print(r2_score(y_test,y_pred))\n",
    "print('mean_absolute_error : ')\n",
    "print(mean_absolute_error(y_test,y_pred))\n"
   ]
  },
  {
   "cell_type": "code",
   "execution_count": 15,
   "metadata": {},
   "outputs": [
    {
     "name": "stdout",
     "output_type": "stream",
     "text": [
      "ExplainableBoostingRegressor(early_stopping_rounds=106,\n",
      "                             early_stopping_tolerance=0.0007106660286424488,\n",
      "                             learning_rate=0.07082906383268768,\n",
      "                             max_rounds=17841, min_samples_leaf=4,\n",
      "                             validation_size=0.1571077038156805)\n"
     ]
    }
   ],
   "source": [
    "ebm=obj.get_best_estimator()\n",
    "print(ebm)"
   ]
  },
  {
   "cell_type": "code",
   "execution_count": 16,
   "metadata": {},
   "outputs": [
    {
     "data": {
      "text/html": [
       "<style>#sk-container-id-1 {color: black;background-color: white;}#sk-container-id-1 pre{padding: 0;}#sk-container-id-1 div.sk-toggleable {background-color: white;}#sk-container-id-1 label.sk-toggleable__label {cursor: pointer;display: block;width: 100%;margin-bottom: 0;padding: 0.3em;box-sizing: border-box;text-align: center;}#sk-container-id-1 label.sk-toggleable__label-arrow:before {content: \"▸\";float: left;margin-right: 0.25em;color: #696969;}#sk-container-id-1 label.sk-toggleable__label-arrow:hover:before {color: black;}#sk-container-id-1 div.sk-estimator:hover label.sk-toggleable__label-arrow:before {color: black;}#sk-container-id-1 div.sk-toggleable__content {max-height: 0;max-width: 0;overflow: hidden;text-align: left;background-color: #f0f8ff;}#sk-container-id-1 div.sk-toggleable__content pre {margin: 0.2em;color: black;border-radius: 0.25em;background-color: #f0f8ff;}#sk-container-id-1 input.sk-toggleable__control:checked~div.sk-toggleable__content {max-height: 200px;max-width: 100%;overflow: auto;}#sk-container-id-1 input.sk-toggleable__control:checked~label.sk-toggleable__label-arrow:before {content: \"▾\";}#sk-container-id-1 div.sk-estimator input.sk-toggleable__control:checked~label.sk-toggleable__label {background-color: #d4ebff;}#sk-container-id-1 div.sk-label input.sk-toggleable__control:checked~label.sk-toggleable__label {background-color: #d4ebff;}#sk-container-id-1 input.sk-hidden--visually {border: 0;clip: rect(1px 1px 1px 1px);clip: rect(1px, 1px, 1px, 1px);height: 1px;margin: -1px;overflow: hidden;padding: 0;position: absolute;width: 1px;}#sk-container-id-1 div.sk-estimator {font-family: monospace;background-color: #f0f8ff;border: 1px dotted black;border-radius: 0.25em;box-sizing: border-box;margin-bottom: 0.5em;}#sk-container-id-1 div.sk-estimator:hover {background-color: #d4ebff;}#sk-container-id-1 div.sk-parallel-item::after {content: \"\";width: 100%;border-bottom: 1px solid gray;flex-grow: 1;}#sk-container-id-1 div.sk-label:hover label.sk-toggleable__label {background-color: #d4ebff;}#sk-container-id-1 div.sk-serial::before {content: \"\";position: absolute;border-left: 1px solid gray;box-sizing: border-box;top: 0;bottom: 0;left: 50%;z-index: 0;}#sk-container-id-1 div.sk-serial {display: flex;flex-direction: column;align-items: center;background-color: white;padding-right: 0.2em;padding-left: 0.2em;position: relative;}#sk-container-id-1 div.sk-item {position: relative;z-index: 1;}#sk-container-id-1 div.sk-parallel {display: flex;align-items: stretch;justify-content: center;background-color: white;position: relative;}#sk-container-id-1 div.sk-item::before, #sk-container-id-1 div.sk-parallel-item::before {content: \"\";position: absolute;border-left: 1px solid gray;box-sizing: border-box;top: 0;bottom: 0;left: 50%;z-index: -1;}#sk-container-id-1 div.sk-parallel-item {display: flex;flex-direction: column;z-index: 1;position: relative;background-color: white;}#sk-container-id-1 div.sk-parallel-item:first-child::after {align-self: flex-end;width: 50%;}#sk-container-id-1 div.sk-parallel-item:last-child::after {align-self: flex-start;width: 50%;}#sk-container-id-1 div.sk-parallel-item:only-child::after {width: 0;}#sk-container-id-1 div.sk-dashed-wrapped {border: 1px dashed gray;margin: 0 0.4em 0.5em 0.4em;box-sizing: border-box;padding-bottom: 0.4em;background-color: white;}#sk-container-id-1 div.sk-label label {font-family: monospace;font-weight: bold;display: inline-block;line-height: 1.2em;}#sk-container-id-1 div.sk-label-container {text-align: center;}#sk-container-id-1 div.sk-container {/* jupyter's `normalize.less` sets `[hidden] { display: none; }` but bootstrap.min.css set `[hidden] { display: none !important; }` so we also need the `!important` here to be able to override the default hidden behavior on the sphinx rendered scikit-learn.org. See: https://github.com/scikit-learn/scikit-learn/issues/21755 */display: inline-block !important;position: relative;}#sk-container-id-1 div.sk-text-repr-fallback {display: none;}</style><div id=\"sk-container-id-1\" class=\"sk-top-container\"><div class=\"sk-text-repr-fallback\"><pre>ExplainableBoostingRegressor(early_stopping_rounds=106,\n",
       "                             early_stopping_tolerance=0.0007106660286424488,\n",
       "                             learning_rate=0.07082906383268768,\n",
       "                             max_rounds=17841, min_samples_leaf=4,\n",
       "                             validation_size=0.1571077038156805)</pre><b>In a Jupyter environment, please rerun this cell to show the HTML representation or trust the notebook. <br />On GitHub, the HTML representation is unable to render, please try loading this page with nbviewer.org.</b></div><div class=\"sk-container\" hidden><div class=\"sk-item\"><div class=\"sk-estimator sk-toggleable\"><input class=\"sk-toggleable__control sk-hidden--visually\" id=\"sk-estimator-id-1\" type=\"checkbox\" checked><label for=\"sk-estimator-id-1\" class=\"sk-toggleable__label sk-toggleable__label-arrow\">ExplainableBoostingRegressor</label><div class=\"sk-toggleable__content\"><pre>ExplainableBoostingRegressor(early_stopping_rounds=106,\n",
       "                             early_stopping_tolerance=0.0007106660286424488,\n",
       "                             learning_rate=0.07082906383268768,\n",
       "                             max_rounds=17841, min_samples_leaf=4,\n",
       "                             validation_size=0.1571077038156805)</pre></div></div></div></div></div>"
      ],
      "text/plain": [
       "ExplainableBoostingRegressor(early_stopping_rounds=106,\n",
       "                             early_stopping_tolerance=0.0007106660286424488,\n",
       "                             learning_rate=0.07082906383268768,\n",
       "                             max_rounds=17841, min_samples_leaf=4,\n",
       "                             validation_size=0.1571077038156805)"
      ]
     },
     "execution_count": 16,
     "metadata": {},
     "output_type": "execute_result"
    }
   ],
   "source": [
    "obj.best_estimator"
   ]
  },
  {
   "attachments": {},
   "cell_type": "markdown",
   "metadata": {},
   "source": [
    "#### Get fitted randomized search object and its attributes"
   ]
  },
  {
   "cell_type": "code",
   "execution_count": 18,
   "metadata": {},
   "outputs": [
    {
     "data": {
      "text/plain": [
       "FrozenTrial(number=15, state=TrialState.COMPLETE, values=[13.747992725666455], datetime_start=datetime.datetime(2023, 7, 3, 2, 56, 19, 720698), datetime_complete=datetime.datetime(2023, 7, 3, 2, 56, 20, 83106), params={'learning_rate': 0.07082906383268768, 'validation_size': 0.1571077038156805, 'early_stopping_rounds': 106, 'early_stopping_tolerance': 0.0007106660286424488, 'max_rounds': 17841, 'min_samples_leaf': 4, 'max_leaves': 3}, user_attrs={}, system_attrs={}, intermediate_values={}, distributions={'learning_rate': FloatDistribution(high=0.1, log=False, low=0.01, step=None), 'validation_size': FloatDistribution(high=0.2, log=False, low=0.15, step=None), 'early_stopping_rounds': IntDistribution(high=200, log=False, low=50, step=1), 'early_stopping_tolerance': FloatDistribution(high=0.001, log=False, low=1e-05, step=None), 'max_rounds': IntDistribution(high=20000, log=False, low=5000, step=1), 'min_samples_leaf': IntDistribution(high=5, log=False, low=2, step=1), 'max_leaves': IntDistribution(high=5, log=False, low=2, step=1)}, trial_id=15, value=None)"
      ]
     },
     "execution_count": 18,
     "metadata": {},
     "output_type": "execute_result"
    }
   ],
   "source": [
    "OptunaObj = obj.get_optimized_object()\n",
    "OptunaObj"
   ]
  },
  {
   "attachments": {},
   "cell_type": "markdown",
   "metadata": {},
   "source": [
    "#### This visualizations provided is for global explanations.\n",
    "\n"
   ]
  },
  {
   "cell_type": "code",
   "execution_count": null,
   "metadata": {},
   "outputs": [
    {
     "name": "stdout",
     "output_type": "stream",
     "text": [
      "2023-07-03 02:56:40,033 :: interpret.provider.visualize :: Detected non-cloud environment.\n",
      "2023-07-03 02:56:40,957 :: interpret.visual.udash :: Generating mini dash\n",
      "2023-07-03 02:56:40,970 :: interpret.visual.udash :: Generated mini dash\n"
     ]
    },
    {
     "data": {
      "text/html": [
       "<!-- http://127.0.0.1:7001/5215382416/ -->\n",
       "<iframe src=\"http://127.0.0.1:7001/5215382416/\" width=100% height=800 frameBorder=\"0\"></iframe>"
      ]
     },
     "metadata": {},
     "output_type": "display_data"
    },
    {
     "name": "stdout",
     "output_type": "stream",
     "text": [
      "2023-07-03 02:56:41,555 :: matplotlib :: CACHEDIR=/Users/hjavedani/.matplotlib\n",
      "2023-07-03 02:56:41,563 :: matplotlib.font_manager :: Using fontManager instance from /Users/hjavedani/.matplotlib/fontlist-v330.json\n"
     ]
    }
   ],
   "source": [
    "ebm_global = ebm.explain_global()\n",
    "show(ebm_global)\n"
   ]
  },
  {
   "attachments": {},
   "cell_type": "markdown",
   "metadata": {},
   "source": [
    "#### This visualizations provided is for local explanations.\n"
   ]
  },
  {
   "cell_type": "code",
   "execution_count": null,
   "metadata": {},
   "outputs": [],
   "source": [
    "ebm_local = ebm.explain_local(X_test[:5], y_test[:5])\n",
    "show(ebm_local)\n"
   ]
  }
 ],
 "metadata": {
  "kernelspec": {
   "display_name": "Python 3.10.4 ('.venv': poetry)",
   "language": "python",
   "name": "python3"
  },
  "language_info": {
   "codemirror_mode": {
    "name": "ipython",
    "version": 3
   },
   "file_extension": ".py",
   "mimetype": "text/x-python",
   "name": "python",
   "nbconvert_exporter": "python",
   "pygments_lexer": "ipython3",
   "version": "3.10.11"
  },
  "orig_nbformat": 4,
  "vscode": {
   "interpreter": {
    "hash": "7ced68e88e9060e5bcf2eaa5b2d4f8fc97e4d610a52d347137abf879072ffb6d"
   }
  }
 },
 "nbformat": 4,
 "nbformat_minor": 2
}
