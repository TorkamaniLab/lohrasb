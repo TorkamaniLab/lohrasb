{
 "cells": [
  {
   "cell_type": "code",
   "execution_count": 1,
   "metadata": {},
   "outputs": [
    {
     "name": "stdout",
     "output_type": "stream",
     "text": [
      "2023-02-21 20:42:30,980 :: matplotlib :: matplotlib data path: /Users/hjavedani/Documents/Lohrasb/.venv/lib/python3.10/site-packages/matplotlib/mpl-data\n",
      "2023-02-21 20:42:30,985 :: matplotlib :: CONFIGDIR=/Users/hjavedani/.matplotlib\n",
      "2023-02-21 20:42:30,988 :: matplotlib :: interactive is False\n",
      "2023-02-21 20:42:30,990 :: matplotlib :: platform is darwin\n",
      "2023-02-21 20:42:32,246 :: matplotlib :: CACHEDIR=/Users/hjavedani/.matplotlib\n",
      "2023-02-21 20:42:32,248 :: matplotlib.font_manager :: Using fontManager instance from /Users/hjavedani/.matplotlib/fontlist-v330.json\n"
     ]
    }
   ],
   "source": [
    "from lohrasb.best_estimator import BaseModel\n",
    "from optuna.pruners import HyperbandPruner\n",
    "from optuna.samplers._tpe.sampler import TPESampler\n",
    "from sklearn.model_selection import KFold,train_test_split\n",
    "import pandas as pd\n",
    "import optuna\n",
    "from sklearn.pipeline import Pipeline\n",
    "from feature_engine.imputation import (\n",
    "    CategoricalImputer,\n",
    "    MeanMedianImputer\n",
    "    )\n",
    "from category_encoders import OrdinalEncoder\n",
    "from sklearn.metrics import mean_absolute_error,r2_score\n",
    "from interpret.glassbox import ExplainableBoostingRegressor\n",
    "from interpret import show\n"
   ]
  },
  {
   "cell_type": "markdown",
   "metadata": {},
   "source": [
    "#### Example 2 :Computer Hardware Data Set (a regression problem)\n",
    "  \n",
    "https://archive.ics.uci.edu/ml/datasets/Computer+Hardware"
   ]
  },
  {
   "cell_type": "markdown",
   "metadata": {},
   "source": [
    "#### Part 1: Use BestModel in sklearn pipeline\n"
   ]
  },
  {
   "cell_type": "code",
   "execution_count": 2,
   "metadata": {},
   "outputs": [
    {
     "data": {
      "text/html": [
       "<div>\n",
       "<style scoped>\n",
       "    .dataframe tbody tr th:only-of-type {\n",
       "        vertical-align: middle;\n",
       "    }\n",
       "\n",
       "    .dataframe tbody tr th {\n",
       "        vertical-align: top;\n",
       "    }\n",
       "\n",
       "    .dataframe thead th {\n",
       "        text-align: right;\n",
       "    }\n",
       "</style>\n",
       "<table border=\"1\" class=\"dataframe\">\n",
       "  <thead>\n",
       "    <tr style=\"text-align: right;\">\n",
       "      <th></th>\n",
       "      <th>vendor name</th>\n",
       "      <th>Model Name</th>\n",
       "      <th>MYCT</th>\n",
       "      <th>MMIN</th>\n",
       "      <th>MMAX</th>\n",
       "      <th>CACH</th>\n",
       "      <th>CHMIN</th>\n",
       "      <th>CHMAX</th>\n",
       "      <th>PRP</th>\n",
       "    </tr>\n",
       "  </thead>\n",
       "  <tbody>\n",
       "    <tr>\n",
       "      <th>adviser</th>\n",
       "      <td>32/60</td>\n",
       "      <td>125</td>\n",
       "      <td>256</td>\n",
       "      <td>6000</td>\n",
       "      <td>256</td>\n",
       "      <td>16</td>\n",
       "      <td>128</td>\n",
       "      <td>198</td>\n",
       "      <td>199</td>\n",
       "    </tr>\n",
       "    <tr>\n",
       "      <th>amdahl</th>\n",
       "      <td>470v/7</td>\n",
       "      <td>29</td>\n",
       "      <td>8000</td>\n",
       "      <td>32000</td>\n",
       "      <td>32</td>\n",
       "      <td>8</td>\n",
       "      <td>32</td>\n",
       "      <td>269</td>\n",
       "      <td>253</td>\n",
       "    </tr>\n",
       "    <tr>\n",
       "      <th>amdahl</th>\n",
       "      <td>470v/7a</td>\n",
       "      <td>29</td>\n",
       "      <td>8000</td>\n",
       "      <td>32000</td>\n",
       "      <td>32</td>\n",
       "      <td>8</td>\n",
       "      <td>32</td>\n",
       "      <td>220</td>\n",
       "      <td>253</td>\n",
       "    </tr>\n",
       "    <tr>\n",
       "      <th>amdahl</th>\n",
       "      <td>470v/7b</td>\n",
       "      <td>29</td>\n",
       "      <td>8000</td>\n",
       "      <td>32000</td>\n",
       "      <td>32</td>\n",
       "      <td>8</td>\n",
       "      <td>32</td>\n",
       "      <td>172</td>\n",
       "      <td>253</td>\n",
       "    </tr>\n",
       "    <tr>\n",
       "      <th>amdahl</th>\n",
       "      <td>470v/7c</td>\n",
       "      <td>29</td>\n",
       "      <td>8000</td>\n",
       "      <td>16000</td>\n",
       "      <td>32</td>\n",
       "      <td>8</td>\n",
       "      <td>16</td>\n",
       "      <td>132</td>\n",
       "      <td>132</td>\n",
       "    </tr>\n",
       "    <tr>\n",
       "      <th>...</th>\n",
       "      <td>...</td>\n",
       "      <td>...</td>\n",
       "      <td>...</td>\n",
       "      <td>...</td>\n",
       "      <td>...</td>\n",
       "      <td>...</td>\n",
       "      <td>...</td>\n",
       "      <td>...</td>\n",
       "      <td>...</td>\n",
       "    </tr>\n",
       "    <tr>\n",
       "      <th>sperry</th>\n",
       "      <td>80/8</td>\n",
       "      <td>124</td>\n",
       "      <td>1000</td>\n",
       "      <td>8000</td>\n",
       "      <td>0</td>\n",
       "      <td>1</td>\n",
       "      <td>8</td>\n",
       "      <td>42</td>\n",
       "      <td>37</td>\n",
       "    </tr>\n",
       "    <tr>\n",
       "      <th>sperry</th>\n",
       "      <td>90/80-model-3</td>\n",
       "      <td>98</td>\n",
       "      <td>1000</td>\n",
       "      <td>8000</td>\n",
       "      <td>32</td>\n",
       "      <td>2</td>\n",
       "      <td>8</td>\n",
       "      <td>46</td>\n",
       "      <td>50</td>\n",
       "    </tr>\n",
       "    <tr>\n",
       "      <th>sratus</th>\n",
       "      <td>32</td>\n",
       "      <td>125</td>\n",
       "      <td>2000</td>\n",
       "      <td>8000</td>\n",
       "      <td>0</td>\n",
       "      <td>2</td>\n",
       "      <td>14</td>\n",
       "      <td>52</td>\n",
       "      <td>41</td>\n",
       "    </tr>\n",
       "    <tr>\n",
       "      <th>wang</th>\n",
       "      <td>vs-100</td>\n",
       "      <td>480</td>\n",
       "      <td>512</td>\n",
       "      <td>8000</td>\n",
       "      <td>32</td>\n",
       "      <td>0</td>\n",
       "      <td>0</td>\n",
       "      <td>67</td>\n",
       "      <td>47</td>\n",
       "    </tr>\n",
       "    <tr>\n",
       "      <th>wang</th>\n",
       "      <td>vs-90</td>\n",
       "      <td>480</td>\n",
       "      <td>1000</td>\n",
       "      <td>4000</td>\n",
       "      <td>0</td>\n",
       "      <td>0</td>\n",
       "      <td>0</td>\n",
       "      <td>45</td>\n",
       "      <td>25</td>\n",
       "    </tr>\n",
       "  </tbody>\n",
       "</table>\n",
       "<p>209 rows × 9 columns</p>\n",
       "</div>"
      ],
      "text/plain": [
       "           vendor name  Model Name  MYCT   MMIN  MMAX  CACH  CHMIN  CHMAX  PRP\n",
       "adviser          32/60         125   256   6000   256    16    128    198  199\n",
       "amdahl          470v/7          29  8000  32000    32     8     32    269  253\n",
       "amdahl         470v/7a          29  8000  32000    32     8     32    220  253\n",
       "amdahl         470v/7b          29  8000  32000    32     8     32    172  253\n",
       "amdahl         470v/7c          29  8000  16000    32     8     16    132  132\n",
       "...                ...         ...   ...    ...   ...   ...    ...    ...  ...\n",
       "sperry            80/8         124  1000   8000     0     1      8     42   37\n",
       "sperry   90/80-model-3          98  1000   8000    32     2      8     46   50\n",
       "sratus              32         125  2000   8000     0     2     14     52   41\n",
       "wang            vs-100         480   512   8000    32     0      0     67   47\n",
       "wang             vs-90         480  1000   4000     0     0      0     45   25\n",
       "\n",
       "[209 rows x 9 columns]"
      ]
     },
     "execution_count": 2,
     "metadata": {},
     "output_type": "execute_result"
    }
   ],
   "source": [
    "urldata= \"https://archive.ics.uci.edu/ml/machine-learning-databases/cpu-performance/machine.data\"\n",
    "# column names\n",
    "col_names=[\n",
    "    \"vendor name\",\n",
    "    \"Model Name\",\n",
    "    \"MYCT\",\n",
    "    \"MMIN\",\n",
    "    \"MMAX\",\n",
    "    \"CACH\",\n",
    "    \"CHMIN\",\n",
    "    \"CHMAX\",\n",
    "    \"PRP\"\n",
    "]\n",
    "# read data\n",
    "data = pd.read_csv(urldata,header=None,names=col_names,sep=',')\n",
    "data"
   ]
  },
  {
   "cell_type": "markdown",
   "metadata": {},
   "source": [
    "#### Train test split"
   ]
  },
  {
   "cell_type": "code",
   "execution_count": 3,
   "metadata": {},
   "outputs": [],
   "source": [
    "X = data.loc[:, data.columns != \"PRP\"]\n",
    "y = data.loc[:, data.columns == \"PRP\"]\n",
    "y = y.values.ravel()\n",
    "\n",
    "\n",
    "X_train, X_test, y_train, y_test =train_test_split(X, y, test_size=0.33, random_state=42)\n"
   ]
  },
  {
   "cell_type": "markdown",
   "metadata": {},
   "source": [
    "#### Find feature types for later use"
   ]
  },
  {
   "cell_type": "code",
   "execution_count": 4,
   "metadata": {},
   "outputs": [],
   "source": [
    "int_cols =  X_train.select_dtypes(include=['int']).columns.tolist()\n",
    "float_cols =  X_train.select_dtypes(include=['float']).columns.tolist()\n",
    "cat_cols =  X_train.select_dtypes(include=['object']).columns.tolist()\n"
   ]
  },
  {
   "cell_type": "markdown",
   "metadata": {},
   "source": [
    "####  Define estimator and set its arguments  "
   ]
  },
  {
   "cell_type": "code",
   "execution_count": 5,
   "metadata": {},
   "outputs": [],
   "source": [
    "estimator = ExplainableBoostingRegressor()\n",
    "estimator_params= {\n",
    "                    \"learning_rate\":[0.01,0.1], \n",
    "                    \"validation_size\":[0.15,0.20],\n",
    "                    \"early_stopping_rounds\":[50,200], \n",
    "                    \"early_stopping_tolerance\":[0.00001,0.001], \n",
    "                    \"max_rounds\":[5000,20000], \n",
    "                    \"min_samples_leaf\":[2,5], \n",
    "                    \"max_leaves\":[2,5]  \n",
    "                      }\n"
   ]
  },
  {
   "cell_type": "code",
   "execution_count": 6,
   "metadata": {},
   "outputs": [
    {
     "name": "stderr",
     "output_type": "stream",
     "text": [
      "\u001b[32m[I 2023-02-21 20:42:33,032]\u001b[0m A new study created in memory with name: no-name-6b1583af-5ffc-4166-bbe5-3f562c08d0be\u001b[0m\n"
     ]
    }
   ],
   "source": [
    "obj = BaseModel().optimize_by_optuna(\n",
    "            estimator=estimator,\n",
    "            estimator_params=estimator_params,\n",
    "            fit_params=None,\n",
    "            measure_of_accuracy=\"mean_absolute_error(y_true, y_pred, multioutput='uniform_average')\",\n",
    "            with_stratified=False,\n",
    "            test_size=.3,\n",
    "            verbose=3,\n",
    "            n_jobs=-1,\n",
    "            random_state=42,\n",
    "            # optuna params\n",
    "            # optuna study init params\n",
    "            study=optuna.create_study(\n",
    "                storage=None,\n",
    "                sampler=TPESampler(),\n",
    "                pruner=HyperbandPruner(),\n",
    "                study_name=None,\n",
    "                direction=\"minimize\",\n",
    "                load_if_exists=False,\n",
    "                directions=None,\n",
    "            ),\n",
    "            # optuna optimization params\n",
    "            study_optimize_objective=None,\n",
    "            study_optimize_objective_n_trials=100,\n",
    "            study_optimize_objective_timeout=600,\n",
    "            study_optimize_n_jobs=-1,\n",
    "            study_optimize_catch=(),\n",
    "            study_optimize_callbacks=None,\n",
    "            study_optimize_gc_after_trial=False,\n",
    "            study_optimize_show_progress_bar=False,\n",
    "        )"
   ]
  },
  {
   "cell_type": "markdown",
   "metadata": {},
   "source": [
    "#### Build sklearn pipeline"
   ]
  },
  {
   "cell_type": "code",
   "execution_count": 7,
   "metadata": {},
   "outputs": [],
   "source": [
    "\n",
    "\n",
    "pipeline =Pipeline([\n",
    "            # int missing values imputers\n",
    "            ('intimputer', MeanMedianImputer(\n",
    "                imputation_method='median', variables=int_cols)),\n",
    "            # category missing values imputers\n",
    "            ('catimputer', CategoricalImputer(variables=cat_cols)),\n",
    "            #\n",
    "            ('catencoder', OrdinalEncoder()),\n",
    "            # regression model \n",
    "            ('obj', obj),\n",
    "\n",
    "\n",
    " ])\n",
    "\n"
   ]
  },
  {
   "cell_type": "markdown",
   "metadata": {},
   "source": [
    "#### Run Pipeline"
   ]
  },
  {
   "cell_type": "code",
   "execution_count": 8,
   "metadata": {},
   "outputs": [
    {
     "name": "stdout",
     "output_type": "stream",
     "text": [
      "2023-02-21 20:42:33,119 :: interpret.utils._native :: EBM lib loading.\n",
      "2023-02-21 20:42:33,122 :: interpret.utils._native :: EBM lib loading.\n",
      "2023-02-21 20:42:33,125 :: interpret.utils._native :: EBM lib loading.\n",
      "2023-02-21 20:42:33,128 :: interpret.utils._native :: EBM lib loading.\n",
      "2023-02-21 20:42:33,130 :: interpret.utils._native :: EBM lib loading.\n",
      "2023-02-21 20:42:33,131 :: interpret.utils._native :: EBM lib loading.\n",
      "2023-02-21 20:42:33,131 :: interpret.utils._native :: Loading native on Darwin | debug = False\n",
      "2023-02-21 20:42:33,134 :: interpret.utils._native :: EBM lib loading.\n",
      "2023-02-21 20:42:33,136 :: interpret.utils._native :: EBM lib loading.\n",
      "2023-02-21 20:42:33,137 :: interpret.utils._native :: Loading native on Darwin | debug = False\n",
      "2023-02-21 20:42:33,138 :: interpret.utils._native :: Loading native on Darwin | debug = False\n",
      "2023-02-21 20:42:33,139 :: interpret.utils._native :: Loading native on Darwin | debug = False\n",
      "2023-02-21 20:42:33,140 :: interpret.utils._native :: Loading native on Darwin | debug = False\n",
      "2023-02-21 20:42:33,141 :: interpret.utils._native :: Loading native on Darwin | debug = False\n",
      "2023-02-21 20:42:33,149 :: interpret.utils._native :: Loading native on Darwin | debug = False\n",
      "2023-02-21 20:42:33,151 :: interpret.utils._native :: Loading native on Darwin | debug = False\n",
      "2023-02-21 20:42:33,207 :: interpret.utils._binning :: Creating native dataset\n",
      "2023-02-21 20:42:33,209 :: interpret.utils._binning :: Creating native dataset\n"
     ]
    },
    {
     "name": "stderr",
     "output_type": "stream",
     "text": [
      "/Users/hjavedani/Documents/Lohrasb/.venv/lib/python3.10/site-packages/optuna/study/study.py:393: FutureWarning: `n_jobs` argument has been deprecated in v2.7.0. This feature will be removed in v4.0.0. See https://github.com/optuna/optuna/releases/tag/v2.7.0.\n",
      "  warnings.warn(\n"
     ]
    },
    {
     "name": "stdout",
     "output_type": "stream",
     "text": [
      "2023-02-21 20:42:33,244 :: interpret.utils._binning :: Creating native dataset\n",
      "2023-02-21 20:42:33,247 :: interpret.utils._binning :: Creating native dataset\n",
      "2023-02-21 20:42:33,249 :: interpret.utils._binning :: Creating native dataset\n",
      "2023-02-21 20:42:33,253 :: interpret.utils._binning :: Creating native dataset\n",
      "2023-02-21 20:42:33,255 :: interpret.utils._binning :: Creating native dataset\n",
      "2023-02-21 20:42:33,258 :: interpret.utils._binning :: Creating native dataset\n",
      "2023-02-21 20:42:40,641 :: interpret.glassbox.ebm.bin :: eval_terms\n",
      "2023-02-21 20:42:40,648 :: interpret.glassbox.ebm.bin :: eval_terms\n",
      "2023-02-21 20:42:40,651 :: interpret.glassbox.ebm.bin :: eval_terms\n",
      "2023-02-21 20:42:40,653 :: interpret.glassbox.ebm.bin :: eval_terms\n",
      "2023-02-21 20:42:40,656 :: interpret.glassbox.ebm.bin :: eval_terms\n",
      "2023-02-21 20:42:40,657 :: interpret.glassbox.ebm.bin :: eval_terms\n",
      "2023-02-21 20:42:40,660 :: interpret.glassbox.ebm.bin :: eval_terms\n",
      "2023-02-21 20:42:40,664 :: interpret.glassbox.ebm.bin :: eval_terms\n",
      "2023-02-21 20:42:40,667 :: interpret.glassbox.ebm.bin :: eval_terms\n",
      "2023-02-21 20:42:40,670 :: interpret.glassbox.ebm.bin :: eval_terms\n",
      "2023-02-21 20:42:40,672 :: interpret.glassbox.ebm.bin :: eval_terms\n",
      "2023-02-21 20:42:40,675 :: interpret.glassbox.ebm.bin :: eval_terms\n",
      "2023-02-21 20:42:40,678 :: interpret.glassbox.ebm.bin :: eval_terms\n",
      "2023-02-21 20:42:40,681 :: interpret.glassbox.ebm.bin :: eval_terms\n",
      "2023-02-21 20:42:40,683 :: interpret.glassbox.ebm.bin :: eval_terms\n",
      "2023-02-21 20:42:40,686 :: interpret.glassbox.ebm.bin :: eval_terms\n",
      "2023-02-21 20:42:40,689 :: interpret.glassbox.ebm.bin :: eval_terms\n",
      "2023-02-21 20:42:40,694 :: interpret.glassbox.ebm.bin :: eval_terms\n",
      "2023-02-21 20:42:40,697 :: interpret.glassbox.ebm.bin :: eval_terms\n",
      "2023-02-21 20:42:40,700 :: interpret.utils._binning :: Creating native dataset\n",
      "2023-02-21 20:42:40,703 :: interpret.glassbox.ebm.bin :: eval_terms\n",
      "2023-02-21 20:42:40,706 :: interpret.glassbox.ebm.bin :: eval_terms\n",
      "2023-02-21 20:42:40,715 :: interpret.glassbox.ebm.ebm :: Estimating with FAST\n",
      "2023-02-21 20:42:40,716 :: interpret.glassbox.ebm.bin :: eval_terms\n",
      "2023-02-21 20:42:40,720 :: interpret.glassbox.ebm.bin :: eval_terms\n",
      "2023-02-21 20:42:40,726 :: interpret.glassbox.ebm.bin :: eval_terms\n",
      "2023-02-21 20:42:40,730 :: interpret.utils._binning :: Creating native dataset\n",
      "2023-02-21 20:42:40,734 :: interpret.utils._binning :: Creating native dataset\n",
      "2023-02-21 20:42:40,742 :: interpret.glassbox.ebm.ebm :: Estimating with FAST\n",
      "2023-02-21 20:42:40,748 :: interpret.glassbox.ebm.ebm :: Estimating with FAST\n",
      "2023-02-21 20:42:40,771 :: interpret.glassbox.ebm.bin :: eval_terms\n",
      "2023-02-21 20:42:40,775 :: interpret.glassbox.ebm.bin :: eval_terms\n",
      "2023-02-21 20:42:40,778 :: interpret.glassbox.ebm.bin :: eval_terms\n",
      "2023-02-21 20:42:40,781 :: interpret.glassbox.ebm.bin :: eval_terms\n",
      "2023-02-21 20:42:40,785 :: interpret.glassbox.ebm.bin :: eval_terms\n",
      "2023-02-21 20:42:40,790 :: interpret.glassbox.ebm.bin :: eval_terms\n",
      "2023-02-21 20:42:40,802 :: interpret.glassbox.ebm.bin :: eval_terms\n",
      "2023-02-21 20:42:40,805 :: interpret.glassbox.ebm.bin :: eval_terms\n",
      "2023-02-21 20:42:40,813 :: interpret.glassbox.ebm.bin :: eval_terms\n",
      "2023-02-21 20:42:40,823 :: interpret.glassbox.ebm.bin :: eval_terms\n",
      "2023-02-21 20:42:40,828 :: interpret.glassbox.ebm.bin :: eval_terms\n",
      "2023-02-21 20:42:40,833 :: interpret.glassbox.ebm.bin :: eval_terms\n",
      "2023-02-21 20:42:40,839 :: interpret.glassbox.ebm.bin :: eval_terms\n",
      "2023-02-21 20:42:40,842 :: interpret.glassbox.ebm.bin :: eval_terms\n",
      "2023-02-21 20:42:40,846 :: interpret.glassbox.ebm.bin :: eval_terms\n",
      "2023-02-21 20:42:40,849 :: interpret.glassbox.ebm.bin :: eval_terms\n",
      "2023-02-21 20:42:40,852 :: interpret.glassbox.ebm.bin :: eval_terms\n",
      "2023-02-21 20:42:40,856 :: interpret.glassbox.ebm.bin :: eval_terms\n",
      "2023-02-21 20:42:40,859 :: interpret.utils._binning :: Creating native dataset\n",
      "2023-02-21 20:42:40,863 :: interpret.glassbox.ebm.bin :: eval_terms\n",
      "2023-02-21 20:42:40,868 :: interpret.glassbox.ebm.bin :: eval_terms\n",
      "2023-02-21 20:42:40,874 :: interpret.glassbox.ebm.ebm :: Estimating with FAST\n",
      "2023-02-21 20:42:40,877 :: interpret.glassbox.ebm.bin :: eval_terms\n",
      "2023-02-21 20:42:40,882 :: interpret.glassbox.ebm.bin :: eval_terms\n",
      "2023-02-21 20:42:40,888 :: interpret.glassbox.ebm.bin :: eval_terms\n",
      "2023-02-21 20:42:40,892 :: interpret.utils._binning :: Creating native dataset\n",
      "2023-02-21 20:42:40,897 :: interpret.glassbox.ebm.bin :: eval_terms\n",
      "2023-02-21 20:42:40,901 :: interpret.glassbox.ebm.ebm :: Estimating with FAST\n",
      "2023-02-21 20:42:40,904 :: interpret.utils._binning :: Creating native dataset\n",
      "2023-02-21 20:42:40,912 :: interpret.glassbox.ebm.ebm :: Estimating with FAST\n",
      "2023-02-21 20:42:40,916 :: interpret.glassbox.ebm.bin :: eval_terms\n",
      "2023-02-21 20:42:40,917 :: interpret.glassbox.ebm.bin :: eval_terms\n",
      "2023-02-21 20:42:40,923 :: interpret.glassbox.ebm.bin :: eval_terms\n",
      "2023-02-21 20:42:40,926 :: interpret.glassbox.ebm.bin :: eval_terms\n",
      "2023-02-21 20:42:40,930 :: interpret.glassbox.ebm.bin :: eval_terms\n",
      "2023-02-21 20:42:40,933 :: interpret.glassbox.ebm.bin :: eval_terms\n",
      "2023-02-21 20:42:40,940 :: interpret.glassbox.ebm.bin :: eval_terms\n",
      "2023-02-21 20:42:40,943 :: interpret.glassbox.ebm.bin :: eval_terms\n",
      "2023-02-21 20:42:40,947 :: interpret.glassbox.ebm.bin :: eval_terms\n",
      "2023-02-21 20:42:40,952 :: interpret.glassbox.ebm.bin :: eval_terms\n",
      "2023-02-21 20:42:40,956 :: interpret.glassbox.ebm.bin :: eval_terms\n",
      "2023-02-21 20:42:40,960 :: interpret.glassbox.ebm.bin :: eval_terms\n",
      "2023-02-21 20:42:40,963 :: interpret.glassbox.ebm.bin :: eval_terms\n",
      "2023-02-21 20:42:40,968 :: interpret.glassbox.ebm.bin :: eval_terms\n",
      "2023-02-21 20:42:40,973 :: interpret.glassbox.ebm.bin :: eval_terms\n",
      "2023-02-21 20:42:40,976 :: interpret.glassbox.ebm.bin :: eval_terms\n",
      "2023-02-21 20:42:40,981 :: interpret.utils._binning :: Creating native dataset\n",
      "2023-02-21 20:42:40,985 :: interpret.utils._binning :: Creating native dataset\n",
      "2023-02-21 20:42:40,991 :: interpret.glassbox.ebm.ebm :: Estimating with FAST\n",
      "2023-02-21 20:42:40,997 :: interpret.glassbox.ebm.ebm :: Estimating with FAST\n",
      "2023-02-21 20:42:41,018 :: interpret.glassbox.ebm.bin :: eval_terms\n",
      "2023-02-21 20:42:41,033 :: interpret.glassbox.ebm.bin :: eval_terms\n"
     ]
    },
    {
     "name": "stderr",
     "output_type": "stream",
     "text": [
      "\u001b[32m[I 2023-02-21 20:42:41,039]\u001b[0m Trial 5 finished with value: 16.127718993135634 and parameters: {'learning_rate': 0.028370999072418572, 'validation_size': 0.1994533179448228, 'early_stopping_rounds': 61, 'early_stopping_tolerance': 0.0005785155693317803, 'max_rounds': 17247, 'min_samples_leaf': 4, 'max_leaves': 3}. Best is trial 5 with value: 16.127718993135634.\u001b[0m\n"
     ]
    },
    {
     "name": "stdout",
     "output_type": "stream",
     "text": [
      "2023-02-21 20:42:41,055 :: interpret.utils._binning :: Creating native dataset\n",
      "2023-02-21 20:42:41,597 :: interpret.glassbox.ebm.bin :: eval_terms\n",
      "2023-02-21 20:42:41,604 :: interpret.glassbox.ebm.bin :: eval_terms\n",
      "2023-02-21 20:42:41,610 :: interpret.glassbox.ebm.bin :: eval_terms\n",
      "2023-02-21 20:42:41,613 :: interpret.glassbox.ebm.bin :: eval_terms\n",
      "2023-02-21 20:42:41,617 :: interpret.glassbox.ebm.bin :: eval_terms\n",
      "2023-02-21 20:42:41,621 :: interpret.glassbox.ebm.bin :: eval_terms\n",
      "2023-02-21 20:42:41,624 :: interpret.glassbox.ebm.bin :: eval_terms\n",
      "2023-02-21 20:42:41,627 :: interpret.glassbox.ebm.bin :: eval_terms\n",
      "2023-02-21 20:42:41,631 :: interpret.utils._binning :: Creating native dataset\n",
      "2023-02-21 20:42:41,636 :: interpret.glassbox.ebm.ebm :: Estimating with FAST\n",
      "2023-02-21 20:42:41,829 :: interpret.glassbox.ebm.bin :: eval_terms\n",
      "2023-02-21 20:42:41,846 :: interpret.glassbox.ebm.bin :: eval_terms\n"
     ]
    },
    {
     "name": "stderr",
     "output_type": "stream",
     "text": [
      "\u001b[32m[I 2023-02-21 20:42:41,850]\u001b[0m Trial 0 finished with value: 14.511573530646379 and parameters: {'learning_rate': 0.021463880765159656, 'validation_size': 0.16540686977778507, 'early_stopping_rounds': 127, 'early_stopping_tolerance': 0.0005243365242405249, 'max_rounds': 12211, 'min_samples_leaf': 4, 'max_leaves': 4}. Best is trial 0 with value: 14.511573530646379.\u001b[0m\n"
     ]
    },
    {
     "name": "stdout",
     "output_type": "stream",
     "text": [
      "2023-02-21 20:42:41,869 :: interpret.utils._binning :: Creating native dataset\n",
      "2023-02-21 20:42:41,957 :: interpret.glassbox.ebm.bin :: eval_terms\n",
      "2023-02-21 20:42:41,975 :: interpret.glassbox.ebm.bin :: eval_terms\n"
     ]
    },
    {
     "name": "stderr",
     "output_type": "stream",
     "text": [
      "\u001b[32m[I 2023-02-21 20:42:41,981]\u001b[0m Trial 6 finished with value: 14.594966318975064 and parameters: {'learning_rate': 0.06077653521555337, 'validation_size': 0.17714441896035338, 'early_stopping_rounds': 128, 'early_stopping_tolerance': 5.8865918082844265e-05, 'max_rounds': 10997, 'min_samples_leaf': 4, 'max_leaves': 4}. Best is trial 0 with value: 14.511573530646379.\u001b[0m\n"
     ]
    },
    {
     "name": "stdout",
     "output_type": "stream",
     "text": [
      "2023-02-21 20:42:42,005 :: interpret.utils._binning :: Creating native dataset\n",
      "2023-02-21 20:42:42,312 :: interpret.glassbox.ebm.bin :: eval_terms\n",
      "2023-02-21 20:42:42,338 :: interpret.glassbox.ebm.bin :: eval_terms\n"
     ]
    },
    {
     "name": "stderr",
     "output_type": "stream",
     "text": [
      "\u001b[32m[I 2023-02-21 20:42:42,362]\u001b[0m Trial 2 finished with value: 15.312102040683632 and parameters: {'learning_rate': 0.057454262696059334, 'validation_size': 0.19727028629246368, 'early_stopping_rounds': 137, 'early_stopping_tolerance': 0.0007870287857805252, 'max_rounds': 13812, 'min_samples_leaf': 4, 'max_leaves': 4}. Best is trial 0 with value: 14.511573530646379.\u001b[0m\n"
     ]
    },
    {
     "name": "stdout",
     "output_type": "stream",
     "text": [
      "2023-02-21 20:42:42,437 :: interpret.utils._binning :: Creating native dataset\n",
      "2023-02-21 20:42:42,726 :: interpret.glassbox.ebm.bin :: eval_terms\n",
      "2023-02-21 20:42:42,757 :: interpret.glassbox.ebm.bin :: eval_terms\n"
     ]
    },
    {
     "name": "stderr",
     "output_type": "stream",
     "text": [
      "\u001b[32m[I 2023-02-21 20:42:42,763]\u001b[0m Trial 3 finished with value: 14.925737313205625 and parameters: {'learning_rate': 0.05683068249057315, 'validation_size': 0.17416922452132266, 'early_stopping_rounds': 195, 'early_stopping_tolerance': 0.00088767495223048, 'max_rounds': 17413, 'min_samples_leaf': 3, 'max_leaves': 4}. Best is trial 0 with value: 14.511573530646379.\u001b[0m\n"
     ]
    },
    {
     "name": "stdout",
     "output_type": "stream",
     "text": [
      "2023-02-21 20:42:42,782 :: interpret.utils._binning :: Creating native dataset\n",
      "2023-02-21 20:42:42,858 :: interpret.glassbox.ebm.bin :: eval_terms\n",
      "2023-02-21 20:42:42,878 :: interpret.glassbox.ebm.bin :: eval_terms\n"
     ]
    },
    {
     "name": "stderr",
     "output_type": "stream",
     "text": [
      "\u001b[32m[I 2023-02-21 20:42:42,885]\u001b[0m Trial 7 finished with value: 18.08946759640773 and parameters: {'learning_rate': 0.017752390598381657, 'validation_size': 0.19810687350188344, 'early_stopping_rounds': 79, 'early_stopping_tolerance': 7.773759162847377e-05, 'max_rounds': 7607, 'min_samples_leaf': 5, 'max_leaves': 3}. Best is trial 0 with value: 14.511573530646379.\u001b[0m\n"
     ]
    },
    {
     "name": "stdout",
     "output_type": "stream",
     "text": [
      "2023-02-21 20:42:42,890 :: interpret.glassbox.ebm.bin :: eval_terms\n",
      "2023-02-21 20:42:42,898 :: interpret.glassbox.ebm.bin :: eval_terms\n",
      "2023-02-21 20:42:42,905 :: interpret.glassbox.ebm.bin :: eval_terms\n",
      "2023-02-21 20:42:42,911 :: interpret.glassbox.ebm.bin :: eval_terms\n",
      "2023-02-21 20:42:42,915 :: interpret.glassbox.ebm.bin :: eval_terms\n",
      "2023-02-21 20:42:42,920 :: interpret.glassbox.ebm.bin :: eval_terms\n",
      "2023-02-21 20:42:42,929 :: interpret.glassbox.ebm.bin :: eval_terms\n",
      "2023-02-21 20:42:42,936 :: interpret.utils._binning :: Creating native dataset\n",
      "2023-02-21 20:42:42,939 :: interpret.glassbox.ebm.bin :: eval_terms\n",
      "2023-02-21 20:42:42,950 :: interpret.utils._binning :: Creating native dataset\n",
      "2023-02-21 20:42:42,960 :: interpret.glassbox.ebm.ebm :: Estimating with FAST\n",
      "2023-02-21 20:42:43,021 :: interpret.glassbox.ebm.bin :: eval_terms\n",
      "2023-02-21 20:42:43,028 :: interpret.glassbox.ebm.bin :: eval_terms\n",
      "2023-02-21 20:42:43,031 :: interpret.glassbox.ebm.bin :: eval_terms\n",
      "2023-02-21 20:42:43,034 :: interpret.glassbox.ebm.bin :: eval_terms\n",
      "2023-02-21 20:42:43,054 :: interpret.glassbox.ebm.bin :: eval_terms\n",
      "2023-02-21 20:42:43,058 :: interpret.glassbox.ebm.bin :: eval_terms\n"
     ]
    },
    {
     "name": "stderr",
     "output_type": "stream",
     "text": [
      "\u001b[32m[I 2023-02-21 20:42:43,065]\u001b[0m Trial 1 finished with value: 11.721424841576487 and parameters: {'learning_rate': 0.06690112263802735, 'validation_size': 0.15016834123967274, 'early_stopping_rounds': 148, 'early_stopping_tolerance': 0.00027189927051028944, 'max_rounds': 19277, 'min_samples_leaf': 2, 'max_leaves': 4}. Best is trial 1 with value: 11.721424841576487.\u001b[0m\n"
     ]
    },
    {
     "name": "stdout",
     "output_type": "stream",
     "text": [
      "2023-02-21 20:42:43,070 :: interpret.glassbox.ebm.bin :: eval_terms\n",
      "2023-02-21 20:42:43,081 :: interpret.glassbox.ebm.bin :: eval_terms\n",
      "2023-02-21 20:42:43,092 :: interpret.glassbox.ebm.bin :: eval_terms\n",
      "2023-02-21 20:42:43,099 :: interpret.utils._binning :: Creating native dataset\n",
      "2023-02-21 20:42:43,102 :: interpret.glassbox.ebm.bin :: eval_terms\n",
      "2023-02-21 20:42:43,114 :: interpret.utils._binning :: Creating native dataset\n",
      "2023-02-21 20:42:43,122 :: interpret.glassbox.ebm.ebm :: Estimating with FAST\n",
      "2023-02-21 20:42:43,194 :: interpret.glassbox.ebm.bin :: eval_terms\n",
      "2023-02-21 20:42:43,199 :: interpret.glassbox.ebm.bin :: eval_terms\n",
      "2023-02-21 20:42:43,203 :: interpret.glassbox.ebm.bin :: eval_terms\n",
      "2023-02-21 20:42:43,207 :: interpret.glassbox.ebm.bin :: eval_terms\n",
      "2023-02-21 20:42:43,211 :: interpret.glassbox.ebm.bin :: eval_terms\n",
      "2023-02-21 20:42:43,214 :: interpret.glassbox.ebm.bin :: eval_terms\n",
      "2023-02-21 20:42:43,219 :: interpret.glassbox.ebm.bin :: eval_terms\n",
      "2023-02-21 20:42:43,223 :: interpret.glassbox.ebm.bin :: eval_terms\n",
      "2023-02-21 20:42:43,227 :: interpret.utils._binning :: Creating native dataset\n",
      "2023-02-21 20:42:43,232 :: interpret.glassbox.ebm.ebm :: Estimating with FAST\n",
      "2023-02-21 20:42:43,488 :: interpret.glassbox.ebm.bin :: eval_terms\n",
      "2023-02-21 20:42:43,493 :: interpret.glassbox.ebm.bin :: eval_terms\n",
      "2023-02-21 20:42:43,497 :: interpret.glassbox.ebm.bin :: eval_terms\n",
      "2023-02-21 20:42:43,502 :: interpret.glassbox.ebm.bin :: eval_terms\n",
      "2023-02-21 20:42:43,505 :: interpret.glassbox.ebm.bin :: eval_terms\n",
      "2023-02-21 20:42:43,512 :: interpret.glassbox.ebm.bin :: eval_terms\n",
      "2023-02-21 20:42:43,516 :: interpret.glassbox.ebm.bin :: eval_terms\n",
      "2023-02-21 20:42:43,519 :: interpret.glassbox.ebm.bin :: eval_terms\n",
      "2023-02-21 20:42:43,537 :: interpret.utils._binning :: Creating native dataset\n",
      "2023-02-21 20:42:43,543 :: interpret.glassbox.ebm.ebm :: Estimating with FAST\n",
      "2023-02-21 20:42:43,667 :: interpret.glassbox.ebm.bin :: eval_terms\n",
      "2023-02-21 20:42:43,686 :: interpret.glassbox.ebm.bin :: eval_terms\n"
     ]
    },
    {
     "name": "stderr",
     "output_type": "stream",
     "text": [
      "\u001b[32m[I 2023-02-21 20:42:43,691]\u001b[0m Trial 8 finished with value: 16.778648797179194 and parameters: {'learning_rate': 0.09735521786978932, 'validation_size': 0.16516038277426295, 'early_stopping_rounds': 167, 'early_stopping_tolerance': 4.38585063488816e-05, 'max_rounds': 14339, 'min_samples_leaf': 5, 'max_leaves': 5}. Best is trial 1 with value: 11.721424841576487.\u001b[0m\n"
     ]
    },
    {
     "name": "stdout",
     "output_type": "stream",
     "text": [
      "2023-02-21 20:42:43,713 :: interpret.glassbox.ebm.bin :: eval_terms\n",
      "2023-02-21 20:42:43,723 :: interpret.glassbox.ebm.bin :: eval_terms\n",
      "2023-02-21 20:42:43,730 :: interpret.utils._binning :: Creating native dataset\n",
      "2023-02-21 20:42:43,733 :: interpret.glassbox.ebm.bin :: eval_terms\n",
      "2023-02-21 20:42:43,745 :: interpret.glassbox.ebm.bin :: eval_terms\n",
      "2023-02-21 20:42:43,749 :: interpret.glassbox.ebm.bin :: eval_terms\n",
      "2023-02-21 20:42:43,753 :: interpret.glassbox.ebm.bin :: eval_terms\n",
      "2023-02-21 20:42:43,757 :: interpret.glassbox.ebm.bin :: eval_terms\n",
      "2023-02-21 20:42:43,762 :: interpret.glassbox.ebm.bin :: eval_terms\n",
      "2023-02-21 20:42:43,766 :: interpret.utils._binning :: Creating native dataset\n",
      "2023-02-21 20:42:43,773 :: interpret.glassbox.ebm.ebm :: Estimating with FAST\n",
      "2023-02-21 20:42:43,904 :: interpret.glassbox.ebm.bin :: eval_terms\n",
      "2023-02-21 20:42:43,909 :: interpret.glassbox.ebm.bin :: eval_terms\n",
      "2023-02-21 20:42:43,914 :: interpret.glassbox.ebm.bin :: eval_terms\n",
      "2023-02-21 20:42:43,918 :: interpret.glassbox.ebm.bin :: eval_terms\n",
      "2023-02-21 20:42:43,922 :: interpret.glassbox.ebm.bin :: eval_terms\n",
      "2023-02-21 20:42:43,925 :: interpret.glassbox.ebm.bin :: eval_terms\n",
      "2023-02-21 20:42:43,929 :: interpret.glassbox.ebm.bin :: eval_terms\n",
      "2023-02-21 20:42:43,933 :: interpret.glassbox.ebm.bin :: eval_terms\n",
      "2023-02-21 20:42:43,938 :: interpret.utils._binning :: Creating native dataset\n",
      "2023-02-21 20:42:43,945 :: interpret.glassbox.ebm.ebm :: Estimating with FAST\n",
      "2023-02-21 20:42:44,090 :: interpret.glassbox.ebm.bin :: eval_terms\n",
      "2023-02-21 20:42:44,109 :: interpret.glassbox.ebm.bin :: eval_terms\n"
     ]
    },
    {
     "name": "stderr",
     "output_type": "stream",
     "text": [
      "\u001b[32m[I 2023-02-21 20:42:44,119]\u001b[0m Trial 9 finished with value: 19.279309436107802 and parameters: {'learning_rate': 0.0261941546647639, 'validation_size': 0.18404751535923214, 'early_stopping_rounds': 75, 'early_stopping_tolerance': 0.0007314837875152607, 'max_rounds': 16364, 'min_samples_leaf': 5, 'max_leaves': 2}. Best is trial 1 with value: 11.721424841576487.\u001b[0m\n"
     ]
    },
    {
     "name": "stdout",
     "output_type": "stream",
     "text": [
      "2023-02-21 20:42:44,144 :: interpret.glassbox.ebm.bin :: eval_terms\n",
      "2023-02-21 20:42:44,146 :: interpret.utils._binning :: Creating native dataset\n",
      "2023-02-21 20:42:44,149 :: interpret.glassbox.ebm.bin :: eval_terms\n",
      "2023-02-21 20:42:44,160 :: interpret.glassbox.ebm.bin :: eval_terms\n",
      "2023-02-21 20:42:44,164 :: interpret.glassbox.ebm.bin :: eval_terms\n",
      "2023-02-21 20:42:44,168 :: interpret.glassbox.ebm.bin :: eval_terms\n",
      "2023-02-21 20:42:44,172 :: interpret.glassbox.ebm.bin :: eval_terms\n",
      "2023-02-21 20:42:44,177 :: interpret.glassbox.ebm.bin :: eval_terms\n",
      "2023-02-21 20:42:44,182 :: interpret.glassbox.ebm.bin :: eval_terms\n",
      "2023-02-21 20:42:44,185 :: interpret.utils._binning :: Creating native dataset\n",
      "2023-02-21 20:42:44,192 :: interpret.glassbox.ebm.ebm :: Estimating with FAST\n",
      "2023-02-21 20:42:44,466 :: interpret.glassbox.ebm.bin :: eval_terms\n",
      "2023-02-21 20:42:44,486 :: interpret.glassbox.ebm.bin :: eval_terms\n"
     ]
    },
    {
     "name": "stderr",
     "output_type": "stream",
     "text": [
      "\u001b[32m[I 2023-02-21 20:42:44,494]\u001b[0m Trial 10 finished with value: 14.37501228658033 and parameters: {'learning_rate': 0.04224713688453146, 'validation_size': 0.1568345945106202, 'early_stopping_rounds': 86, 'early_stopping_tolerance': 0.0002628765369968033, 'max_rounds': 8932, 'min_samples_leaf': 4, 'max_leaves': 4}. Best is trial 1 with value: 11.721424841576487.\u001b[0m\n"
     ]
    },
    {
     "name": "stdout",
     "output_type": "stream",
     "text": [
      "2023-02-21 20:42:44,536 :: interpret.utils._binning :: Creating native dataset\n",
      "2023-02-21 20:42:44,850 :: interpret.glassbox.ebm.bin :: eval_terms\n",
      "2023-02-21 20:42:44,873 :: interpret.glassbox.ebm.bin :: eval_terms\n"
     ]
    },
    {
     "name": "stderr",
     "output_type": "stream",
     "text": [
      "\u001b[32m[I 2023-02-21 20:42:44,881]\u001b[0m Trial 11 finished with value: 14.7935367630571 and parameters: {'learning_rate': 0.08903412500229016, 'validation_size': 0.16557285214875198, 'early_stopping_rounds': 152, 'early_stopping_tolerance': 0.00015271756944315473, 'max_rounds': 7562, 'min_samples_leaf': 3, 'max_leaves': 5}. Best is trial 1 with value: 11.721424841576487.\u001b[0m\n"
     ]
    },
    {
     "name": "stdout",
     "output_type": "stream",
     "text": [
      "2023-02-21 20:42:44,925 :: interpret.utils._binning :: Creating native dataset\n",
      "2023-02-21 20:42:44,993 :: interpret.glassbox.ebm.bin :: eval_terms\n",
      "2023-02-21 20:42:45,013 :: interpret.glassbox.ebm.bin :: eval_terms\n"
     ]
    },
    {
     "name": "stderr",
     "output_type": "stream",
     "text": [
      "\u001b[32m[I 2023-02-21 20:42:45,022]\u001b[0m Trial 12 finished with value: 15.643120144534171 and parameters: {'learning_rate': 0.0594196973414422, 'validation_size': 0.1919454246076997, 'early_stopping_rounds': 63, 'early_stopping_tolerance': 0.00016521428478085388, 'max_rounds': 16673, 'min_samples_leaf': 4, 'max_leaves': 3}. Best is trial 1 with value: 11.721424841576487.\u001b[0m\n"
     ]
    },
    {
     "name": "stdout",
     "output_type": "stream",
     "text": [
      "2023-02-21 20:42:45,059 :: interpret.utils._binning :: Creating native dataset\n",
      "2023-02-21 20:42:45,267 :: interpret.glassbox.ebm.bin :: eval_terms\n",
      "2023-02-21 20:42:45,290 :: interpret.glassbox.ebm.bin :: eval_terms\n"
     ]
    },
    {
     "name": "stderr",
     "output_type": "stream",
     "text": [
      "\u001b[32m[I 2023-02-21 20:42:45,299]\u001b[0m Trial 4 finished with value: 14.411364964102116 and parameters: {'learning_rate': 0.013500913566281572, 'validation_size': 0.16426920847547685, 'early_stopping_rounds': 51, 'early_stopping_tolerance': 0.00047287380225572936, 'max_rounds': 12941, 'min_samples_leaf': 2, 'max_leaves': 4}. Best is trial 1 with value: 11.721424841576487.\u001b[0m\n"
     ]
    },
    {
     "name": "stdout",
     "output_type": "stream",
     "text": [
      "2023-02-21 20:42:45,340 :: interpret.utils._binning :: Creating native dataset\n",
      "2023-02-21 20:42:45,554 :: interpret.glassbox.ebm.bin :: eval_terms\n",
      "2023-02-21 20:42:45,558 :: interpret.glassbox.ebm.bin :: eval_terms\n",
      "2023-02-21 20:42:45,563 :: interpret.glassbox.ebm.bin :: eval_terms\n",
      "2023-02-21 20:42:45,567 :: interpret.glassbox.ebm.bin :: eval_terms\n",
      "2023-02-21 20:42:45,571 :: interpret.glassbox.ebm.bin :: eval_terms\n",
      "2023-02-21 20:42:45,576 :: interpret.glassbox.ebm.bin :: eval_terms\n",
      "2023-02-21 20:42:45,580 :: interpret.glassbox.ebm.bin :: eval_terms\n",
      "2023-02-21 20:42:45,584 :: interpret.glassbox.ebm.bin :: eval_terms\n",
      "2023-02-21 20:42:45,588 :: interpret.utils._binning :: Creating native dataset\n",
      "2023-02-21 20:42:45,595 :: interpret.glassbox.ebm.ebm :: Estimating with FAST\n",
      "2023-02-21 20:42:45,748 :: interpret.glassbox.ebm.bin :: eval_terms\n",
      "2023-02-21 20:42:45,752 :: interpret.glassbox.ebm.bin :: eval_terms\n",
      "2023-02-21 20:42:45,759 :: interpret.glassbox.ebm.bin :: eval_terms\n",
      "2023-02-21 20:42:45,763 :: interpret.glassbox.ebm.bin :: eval_terms\n",
      "2023-02-21 20:42:45,767 :: interpret.glassbox.ebm.bin :: eval_terms\n",
      "2023-02-21 20:42:45,772 :: interpret.glassbox.ebm.bin :: eval_terms\n",
      "2023-02-21 20:42:45,775 :: interpret.glassbox.ebm.bin :: eval_terms\n",
      "2023-02-21 20:42:45,780 :: interpret.glassbox.ebm.bin :: eval_terms\n",
      "2023-02-21 20:42:45,784 :: interpret.utils._binning :: Creating native dataset\n",
      "2023-02-21 20:42:45,791 :: interpret.glassbox.ebm.ebm :: Estimating with FAST\n",
      "2023-02-21 20:42:46,356 :: interpret.glassbox.ebm.bin :: eval_terms\n",
      "2023-02-21 20:42:46,360 :: interpret.glassbox.ebm.bin :: eval_terms\n",
      "2023-02-21 20:42:46,364 :: interpret.glassbox.ebm.bin :: eval_terms\n",
      "2023-02-21 20:42:46,369 :: interpret.glassbox.ebm.bin :: eval_terms\n",
      "2023-02-21 20:42:46,373 :: interpret.glassbox.ebm.bin :: eval_terms\n",
      "2023-02-21 20:42:46,378 :: interpret.glassbox.ebm.bin :: eval_terms\n",
      "2023-02-21 20:42:46,383 :: interpret.glassbox.ebm.bin :: eval_terms\n",
      "2023-02-21 20:42:46,387 :: interpret.glassbox.ebm.bin :: eval_terms\n",
      "2023-02-21 20:42:46,393 :: interpret.utils._binning :: Creating native dataset\n",
      "2023-02-21 20:42:46,399 :: interpret.glassbox.ebm.ebm :: Estimating with FAST\n",
      "2023-02-21 20:42:46,538 :: interpret.glassbox.ebm.bin :: eval_terms\n",
      "2023-02-21 20:42:46,542 :: interpret.glassbox.ebm.bin :: eval_terms\n",
      "2023-02-21 20:42:46,549 :: interpret.glassbox.ebm.bin :: eval_terms\n",
      "2023-02-21 20:42:46,554 :: interpret.glassbox.ebm.bin :: eval_terms\n",
      "2023-02-21 20:42:46,558 :: interpret.glassbox.ebm.bin :: eval_terms\n",
      "2023-02-21 20:42:46,561 :: interpret.glassbox.ebm.bin :: eval_terms\n",
      "2023-02-21 20:42:46,566 :: interpret.glassbox.ebm.bin :: eval_terms\n",
      "2023-02-21 20:42:46,570 :: interpret.glassbox.ebm.bin :: eval_terms\n",
      "2023-02-21 20:42:46,576 :: interpret.utils._binning :: Creating native dataset\n",
      "2023-02-21 20:42:46,582 :: interpret.glassbox.ebm.ebm :: Estimating with FAST\n",
      "2023-02-21 20:42:46,680 :: interpret.glassbox.ebm.bin :: eval_terms\n",
      "2023-02-21 20:42:46,699 :: interpret.glassbox.ebm.bin :: eval_terms\n"
     ]
    },
    {
     "name": "stderr",
     "output_type": "stream",
     "text": [
      "\u001b[32m[I 2023-02-21 20:42:46,705]\u001b[0m Trial 14 finished with value: 15.688042158170509 and parameters: {'learning_rate': 0.08556660595489339, 'validation_size': 0.19339940483464743, 'early_stopping_rounds': 196, 'early_stopping_tolerance': 0.0007602873295942636, 'max_rounds': 8473, 'min_samples_leaf': 3, 'max_leaves': 3}. Best is trial 1 with value: 11.721424841576487.\u001b[0m\n"
     ]
    },
    {
     "name": "stdout",
     "output_type": "stream",
     "text": [
      "2023-02-21 20:42:46,751 :: interpret.utils._binning :: Creating native dataset\n",
      "2023-02-21 20:42:46,763 :: interpret.glassbox.ebm.bin :: eval_terms\n",
      "2023-02-21 20:42:46,772 :: interpret.glassbox.ebm.bin :: eval_terms\n",
      "2023-02-21 20:42:46,775 :: interpret.glassbox.ebm.bin :: eval_terms\n",
      "2023-02-21 20:42:46,780 :: interpret.glassbox.ebm.bin :: eval_terms\n",
      "2023-02-21 20:42:46,784 :: interpret.glassbox.ebm.bin :: eval_terms\n",
      "2023-02-21 20:42:46,789 :: interpret.glassbox.ebm.bin :: eval_terms\n",
      "2023-02-21 20:42:46,793 :: interpret.glassbox.ebm.bin :: eval_terms\n",
      "2023-02-21 20:42:46,797 :: interpret.glassbox.ebm.bin :: eval_terms\n",
      "2023-02-21 20:42:46,803 :: interpret.utils._binning :: Creating native dataset\n",
      "2023-02-21 20:42:46,809 :: interpret.glassbox.ebm.ebm :: Estimating with FAST\n",
      "2023-02-21 20:42:47,242 :: interpret.glassbox.ebm.bin :: eval_terms\n",
      "2023-02-21 20:42:47,277 :: interpret.glassbox.ebm.bin :: eval_terms\n"
     ]
    },
    {
     "name": "stderr",
     "output_type": "stream",
     "text": [
      "\u001b[32m[I 2023-02-21 20:42:47,288]\u001b[0m Trial 15 finished with value: 17.84574753419937 and parameters: {'learning_rate': 0.07843875551828455, 'validation_size': 0.19826519746947896, 'early_stopping_rounds': 101, 'early_stopping_tolerance': 0.0005234911313677967, 'max_rounds': 10381, 'min_samples_leaf': 5, 'max_leaves': 3}. Best is trial 1 with value: 11.721424841576487.\u001b[0m\n"
     ]
    },
    {
     "name": "stdout",
     "output_type": "stream",
     "text": [
      "2023-02-21 20:42:47,316 :: interpret.glassbox.ebm.bin :: eval_terms\n",
      "2023-02-21 20:42:47,326 :: interpret.glassbox.ebm.bin :: eval_terms\n",
      "2023-02-21 20:42:47,333 :: interpret.glassbox.ebm.bin :: eval_terms\n",
      "2023-02-21 20:42:47,344 :: interpret.glassbox.ebm.bin :: eval_terms\n",
      "2023-02-21 20:42:47,351 :: interpret.glassbox.ebm.bin :: eval_terms\n",
      "2023-02-21 20:42:47,358 :: interpret.glassbox.ebm.bin :: eval_terms\n",
      "2023-02-21 20:42:47,365 :: interpret.glassbox.ebm.bin :: eval_terms\n",
      "2023-02-21 20:42:47,369 :: interpret.utils._binning :: Creating native dataset\n",
      "2023-02-21 20:42:47,374 :: interpret.glassbox.ebm.bin :: eval_terms\n",
      "2023-02-21 20:42:47,387 :: interpret.utils._binning :: Creating native dataset\n",
      "2023-02-21 20:42:47,396 :: interpret.glassbox.ebm.ebm :: Estimating with FAST\n",
      "2023-02-21 20:42:47,628 :: interpret.glassbox.ebm.bin :: eval_terms\n",
      "2023-02-21 20:42:47,651 :: interpret.glassbox.ebm.bin :: eval_terms\n"
     ]
    },
    {
     "name": "stderr",
     "output_type": "stream",
     "text": [
      "\u001b[32m[I 2023-02-21 20:42:47,660]\u001b[0m Trial 13 finished with value: 13.076770746126925 and parameters: {'learning_rate': 0.0927324820298681, 'validation_size': 0.19951558010553444, 'early_stopping_rounds': 154, 'early_stopping_tolerance': 0.0003807766312331485, 'max_rounds': 7071, 'min_samples_leaf': 2, 'max_leaves': 3}. Best is trial 1 with value: 11.721424841576487.\u001b[0m\n"
     ]
    },
    {
     "name": "stdout",
     "output_type": "stream",
     "text": [
      "2023-02-21 20:42:47,731 :: interpret.utils._binning :: Creating native dataset\n",
      "2023-02-21 20:42:47,960 :: interpret.glassbox.ebm.bin :: eval_terms\n",
      "2023-02-21 20:42:47,982 :: interpret.glassbox.ebm.bin :: eval_terms\n"
     ]
    },
    {
     "name": "stderr",
     "output_type": "stream",
     "text": [
      "\u001b[32m[I 2023-02-21 20:42:47,990]\u001b[0m Trial 16 finished with value: 17.085461978343357 and parameters: {'learning_rate': 0.08454674953235086, 'validation_size': 0.1682766699716077, 'early_stopping_rounds': 129, 'early_stopping_tolerance': 0.00034982975816076807, 'max_rounds': 5369, 'min_samples_leaf': 5, 'max_leaves': 3}. Best is trial 1 with value: 11.721424841576487.\u001b[0m\n"
     ]
    },
    {
     "name": "stdout",
     "output_type": "stream",
     "text": [
      "2023-02-21 20:42:48,033 :: interpret.utils._binning :: Creating native dataset\n",
      "2023-02-21 20:42:49,921 :: interpret.glassbox.ebm.bin :: eval_terms\n",
      "2023-02-21 20:42:49,930 :: interpret.glassbox.ebm.bin :: eval_terms\n",
      "2023-02-21 20:42:49,936 :: interpret.glassbox.ebm.bin :: eval_terms\n",
      "2023-02-21 20:42:49,942 :: interpret.glassbox.ebm.bin :: eval_terms\n",
      "2023-02-21 20:42:49,947 :: interpret.glassbox.ebm.bin :: eval_terms\n",
      "2023-02-21 20:42:49,951 :: interpret.glassbox.ebm.bin :: eval_terms\n",
      "2023-02-21 20:42:49,956 :: interpret.glassbox.ebm.bin :: eval_terms\n",
      "2023-02-21 20:42:49,961 :: interpret.glassbox.ebm.bin :: eval_terms\n",
      "2023-02-21 20:42:49,966 :: interpret.utils._binning :: Creating native dataset\n",
      "2023-02-21 20:42:49,973 :: interpret.glassbox.ebm.ebm :: Estimating with FAST\n",
      "2023-02-21 20:42:50,352 :: interpret.glassbox.ebm.bin :: eval_terms\n",
      "2023-02-21 20:42:50,356 :: interpret.glassbox.ebm.bin :: eval_terms\n",
      "2023-02-21 20:42:50,361 :: interpret.glassbox.ebm.bin :: eval_terms\n",
      "2023-02-21 20:42:50,365 :: interpret.glassbox.ebm.bin :: eval_terms\n",
      "2023-02-21 20:42:50,370 :: interpret.glassbox.ebm.bin :: eval_terms\n",
      "2023-02-21 20:42:50,374 :: interpret.glassbox.ebm.bin :: eval_terms\n",
      "2023-02-21 20:42:50,379 :: interpret.glassbox.ebm.bin :: eval_terms\n",
      "2023-02-21 20:42:50,386 :: interpret.glassbox.ebm.bin :: eval_terms\n",
      "2023-02-21 20:42:50,391 :: interpret.utils._binning :: Creating native dataset\n",
      "2023-02-21 20:42:50,399 :: interpret.glassbox.ebm.ebm :: Estimating with FAST\n",
      "2023-02-21 20:42:50,689 :: interpret.glassbox.ebm.bin :: eval_terms\n",
      "2023-02-21 20:42:50,696 :: interpret.glassbox.ebm.bin :: eval_terms\n",
      "2023-02-21 20:42:50,702 :: interpret.glassbox.ebm.bin :: eval_terms\n",
      "2023-02-21 20:42:50,706 :: interpret.glassbox.ebm.bin :: eval_terms\n",
      "2023-02-21 20:42:50,711 :: interpret.glassbox.ebm.bin :: eval_terms\n",
      "2023-02-21 20:42:50,718 :: interpret.glassbox.ebm.bin :: eval_terms\n",
      "2023-02-21 20:42:50,722 :: interpret.glassbox.ebm.bin :: eval_terms\n",
      "2023-02-21 20:42:50,728 :: interpret.glassbox.ebm.bin :: eval_terms\n",
      "2023-02-21 20:42:50,732 :: interpret.utils._binning :: Creating native dataset\n",
      "2023-02-21 20:42:50,740 :: interpret.glassbox.ebm.ebm :: Estimating with FAST\n",
      "2023-02-21 20:42:50,783 :: interpret.glassbox.ebm.bin :: eval_terms\n",
      "2023-02-21 20:42:50,808 :: interpret.glassbox.ebm.bin :: eval_terms\n"
     ]
    },
    {
     "name": "stderr",
     "output_type": "stream",
     "text": [
      "\u001b[32m[I 2023-02-21 20:42:50,815]\u001b[0m Trial 17 finished with value: 12.64703467855227 and parameters: {'learning_rate': 0.08184651520797012, 'validation_size': 0.1517439394500295, 'early_stopping_rounds': 163, 'early_stopping_tolerance': 0.0003144689860759142, 'max_rounds': 5297, 'min_samples_leaf': 2, 'max_leaves': 5}. Best is trial 1 with value: 11.721424841576487.\u001b[0m\n"
     ]
    },
    {
     "name": "stdout",
     "output_type": "stream",
     "text": [
      "2023-02-21 20:42:50,861 :: interpret.utils._binning :: Creating native dataset\n",
      "2023-02-21 20:42:51,350 :: interpret.glassbox.ebm.bin :: eval_terms\n",
      "2023-02-21 20:42:51,376 :: interpret.glassbox.ebm.bin :: eval_terms\n"
     ]
    },
    {
     "name": "stderr",
     "output_type": "stream",
     "text": [
      "\u001b[32m[I 2023-02-21 20:42:51,385]\u001b[0m Trial 19 finished with value: 12.37145229615045 and parameters: {'learning_rate': 0.07439768722644471, 'validation_size': 0.15006224836971474, 'early_stopping_rounds': 96, 'early_stopping_tolerance': 0.00039817928401058103, 'max_rounds': 19513, 'min_samples_leaf': 2, 'max_leaves': 5}. Best is trial 1 with value: 11.721424841576487.\u001b[0m\n"
     ]
    },
    {
     "name": "stdout",
     "output_type": "stream",
     "text": [
      "2023-02-21 20:42:51,433 :: interpret.utils._binning :: Creating native dataset\n",
      "2023-02-21 20:42:51,573 :: interpret.glassbox.ebm.bin :: eval_terms\n",
      "2023-02-21 20:42:51,618 :: interpret.glassbox.ebm.bin :: eval_terms\n",
      "2023-02-21 20:42:51,680 :: interpret.glassbox.ebm.bin :: eval_terms\n",
      "2023-02-21 20:42:51,689 :: interpret.glassbox.ebm.bin :: eval_terms\n",
      "2023-02-21 20:42:51,694 :: interpret.glassbox.ebm.bin :: eval_terms\n",
      "2023-02-21 20:42:51,701 :: interpret.glassbox.ebm.bin :: eval_terms\n",
      "2023-02-21 20:42:51,706 :: interpret.glassbox.ebm.bin :: eval_terms\n",
      "2023-02-21 20:42:51,711 :: interpret.glassbox.ebm.bin :: eval_terms\n",
      "2023-02-21 20:42:51,718 :: interpret.utils._binning :: Creating native dataset\n",
      "2023-02-21 20:42:51,726 :: interpret.glassbox.ebm.ebm :: Estimating with FAST\n",
      "2023-02-21 20:42:52,428 :: interpret.glassbox.ebm.bin :: eval_terms\n",
      "2023-02-21 20:42:52,453 :: interpret.glassbox.ebm.bin :: eval_terms\n"
     ]
    },
    {
     "name": "stderr",
     "output_type": "stream",
     "text": [
      "\u001b[32m[I 2023-02-21 20:42:52,462]\u001b[0m Trial 18 finished with value: 13.198086449305048 and parameters: {'learning_rate': 0.040446628670865604, 'validation_size': 0.15290201043507498, 'early_stopping_rounds': 99, 'early_stopping_tolerance': 0.00032879200275056286, 'max_rounds': 19491, 'min_samples_leaf': 2, 'max_leaves': 3}. Best is trial 1 with value: 11.721424841576487.\u001b[0m\n"
     ]
    },
    {
     "name": "stdout",
     "output_type": "stream",
     "text": [
      "2023-02-21 20:42:52,508 :: interpret.utils._binning :: Creating native dataset\n",
      "2023-02-21 20:42:53,232 :: interpret.glassbox.ebm.bin :: eval_terms\n",
      "2023-02-21 20:42:53,256 :: interpret.glassbox.ebm.bin :: eval_terms\n"
     ]
    },
    {
     "name": "stderr",
     "output_type": "stream",
     "text": [
      "\u001b[32m[I 2023-02-21 20:42:53,263]\u001b[0m Trial 23 finished with value: 12.35994370759909 and parameters: {'learning_rate': 0.07505932258888366, 'validation_size': 0.15133953723989357, 'early_stopping_rounds': 169, 'early_stopping_tolerance': 0.00033821904665785624, 'max_rounds': 19470, 'min_samples_leaf': 2, 'max_leaves': 2}. Best is trial 1 with value: 11.721424841576487.\u001b[0m\n"
     ]
    },
    {
     "name": "stdout",
     "output_type": "stream",
     "text": [
      "2023-02-21 20:42:53,310 :: interpret.utils._binning :: Creating native dataset\n",
      "2023-02-21 20:42:53,855 :: interpret.glassbox.ebm.bin :: eval_terms\n",
      "2023-02-21 20:42:53,890 :: interpret.glassbox.ebm.bin :: eval_terms\n"
     ]
    },
    {
     "name": "stderr",
     "output_type": "stream",
     "text": [
      "\u001b[32m[I 2023-02-21 20:42:53,901]\u001b[0m Trial 20 finished with value: 12.545437718041695 and parameters: {'learning_rate': 0.04072064928166874, 'validation_size': 0.1507145724990648, 'early_stopping_rounds': 100, 'early_stopping_tolerance': 0.0002986791225567021, 'max_rounds': 19558, 'min_samples_leaf': 2, 'max_leaves': 5}. Best is trial 1 with value: 11.721424841576487.\u001b[0m\n"
     ]
    },
    {
     "name": "stdout",
     "output_type": "stream",
     "text": [
      "2023-02-21 20:42:53,949 :: interpret.glassbox.ebm.bin :: eval_terms\n",
      "2023-02-21 20:42:53,955 :: interpret.glassbox.ebm.bin :: eval_terms\n",
      "2023-02-21 20:42:53,960 :: interpret.glassbox.ebm.bin :: eval_terms\n",
      "2023-02-21 20:42:53,968 :: interpret.glassbox.ebm.bin :: eval_terms\n",
      "2023-02-21 20:42:53,976 :: interpret.glassbox.ebm.bin :: eval_terms\n",
      "2023-02-21 20:42:53,982 :: interpret.glassbox.ebm.bin :: eval_terms\n",
      "2023-02-21 20:42:53,988 :: interpret.glassbox.ebm.bin :: eval_terms\n",
      "2023-02-21 20:42:53,995 :: interpret.glassbox.ebm.bin :: eval_terms\n",
      "2023-02-21 20:42:54,001 :: interpret.utils._binning :: Creating native dataset\n",
      "2023-02-21 20:42:54,010 :: interpret.glassbox.ebm.ebm :: Estimating with FAST\n",
      "2023-02-21 20:42:54,029 :: interpret.utils._binning :: Creating native dataset\n",
      "2023-02-21 20:42:54,172 :: interpret.glassbox.ebm.bin :: eval_terms\n",
      "2023-02-21 20:42:54,180 :: interpret.glassbox.ebm.bin :: eval_terms\n",
      "2023-02-21 20:42:54,186 :: interpret.glassbox.ebm.bin :: eval_terms\n",
      "2023-02-21 20:42:54,192 :: interpret.glassbox.ebm.bin :: eval_terms\n",
      "2023-02-21 20:42:54,198 :: interpret.glassbox.ebm.bin :: eval_terms\n",
      "2023-02-21 20:42:54,204 :: interpret.glassbox.ebm.bin :: eval_terms\n",
      "2023-02-21 20:42:54,209 :: interpret.glassbox.ebm.bin :: eval_terms\n",
      "2023-02-21 20:42:54,215 :: interpret.glassbox.ebm.bin :: eval_terms\n",
      "2023-02-21 20:42:54,220 :: interpret.utils._binning :: Creating native dataset\n",
      "2023-02-21 20:42:54,229 :: interpret.glassbox.ebm.ebm :: Estimating with FAST\n",
      "2023-02-21 20:42:54,414 :: interpret.glassbox.ebm.bin :: eval_terms\n",
      "2023-02-21 20:42:54,419 :: interpret.glassbox.ebm.bin :: eval_terms\n",
      "2023-02-21 20:42:54,424 :: interpret.glassbox.ebm.bin :: eval_terms\n",
      "2023-02-21 20:42:54,430 :: interpret.glassbox.ebm.bin :: eval_terms\n",
      "2023-02-21 20:42:54,435 :: interpret.glassbox.ebm.bin :: eval_terms\n",
      "2023-02-21 20:42:54,440 :: interpret.glassbox.ebm.bin :: eval_terms\n",
      "2023-02-21 20:42:54,445 :: interpret.glassbox.ebm.bin :: eval_terms\n",
      "2023-02-21 20:42:54,451 :: interpret.glassbox.ebm.bin :: eval_terms\n",
      "2023-02-21 20:42:54,457 :: interpret.utils._binning :: Creating native dataset\n",
      "2023-02-21 20:42:54,465 :: interpret.glassbox.ebm.ebm :: Estimating with FAST\n",
      "2023-02-21 20:42:55,059 :: interpret.glassbox.ebm.bin :: eval_terms\n",
      "2023-02-21 20:42:55,086 :: interpret.glassbox.ebm.bin :: eval_terms\n"
     ]
    },
    {
     "name": "stderr",
     "output_type": "stream",
     "text": [
      "\u001b[32m[I 2023-02-21 20:42:55,093]\u001b[0m Trial 21 finished with value: 12.429740723650363 and parameters: {'learning_rate': 0.045590412772701455, 'validation_size': 0.15067936614226574, 'early_stopping_rounds': 100, 'early_stopping_tolerance': 0.00032631626525522674, 'max_rounds': 19658, 'min_samples_leaf': 2, 'max_leaves': 5}. Best is trial 1 with value: 11.721424841576487.\u001b[0m\n"
     ]
    },
    {
     "name": "stdout",
     "output_type": "stream",
     "text": [
      "2023-02-21 20:42:55,163 :: interpret.utils._binning :: Creating native dataset\n",
      "2023-02-21 20:42:55,897 :: interpret.glassbox.ebm.bin :: eval_terms\n",
      "2023-02-21 20:42:55,923 :: interpret.glassbox.ebm.bin :: eval_terms\n",
      "2023-02-21 20:42:55,954 :: interpret.glassbox.ebm.bin :: eval_terms\n",
      "2023-02-21 20:42:55,958 :: interpret.glassbox.ebm.bin :: eval_terms\n",
      "2023-02-21 20:42:55,963 :: interpret.glassbox.ebm.bin :: eval_terms\n",
      "2023-02-21 20:42:55,968 :: interpret.glassbox.ebm.bin :: eval_terms\n",
      "2023-02-21 20:42:55,974 :: interpret.glassbox.ebm.bin :: eval_terms\n",
      "2023-02-21 20:42:55,979 :: interpret.glassbox.ebm.bin :: eval_terms\n",
      "2023-02-21 20:42:55,984 :: interpret.utils._binning :: Creating native dataset\n",
      "2023-02-21 20:42:55,992 :: interpret.glassbox.ebm.ebm :: Estimating with FAST\n",
      "2023-02-21 20:42:56,241 :: interpret.glassbox.ebm.bin :: eval_terms\n",
      "2023-02-21 20:42:56,276 :: interpret.glassbox.ebm.bin :: eval_terms\n"
     ]
    },
    {
     "name": "stderr",
     "output_type": "stream",
     "text": [
      "\u001b[32m[I 2023-02-21 20:42:56,286]\u001b[0m Trial 22 finished with value: 12.565425684500838 and parameters: {'learning_rate': 0.04076615629767783, 'validation_size': 0.15076674643873034, 'early_stopping_rounds': 98, 'early_stopping_tolerance': 0.0002988408106075843, 'max_rounds': 19403, 'min_samples_leaf': 2, 'max_leaves': 5}. Best is trial 1 with value: 11.721424841576487.\u001b[0m\n"
     ]
    },
    {
     "name": "stdout",
     "output_type": "stream",
     "text": [
      "2023-02-21 20:42:56,289 :: interpret.glassbox.ebm.bin :: eval_terms\n",
      "2023-02-21 20:42:56,342 :: interpret.glassbox.ebm.bin :: eval_terms\n"
     ]
    },
    {
     "name": "stderr",
     "output_type": "stream",
     "text": [
      "\u001b[32m[I 2023-02-21 20:42:56,374]\u001b[0m Trial 24 finished with value: 12.170332476782791 and parameters: {'learning_rate': 0.07022457926651866, 'validation_size': 0.1531867291847099, 'early_stopping_rounds': 158, 'early_stopping_tolerance': 0.0003550826647128451, 'max_rounds': 19574, 'min_samples_leaf': 2, 'max_leaves': 2}. Best is trial 1 with value: 11.721424841576487.\u001b[0m\n"
     ]
    },
    {
     "name": "stdout",
     "output_type": "stream",
     "text": [
      "2023-02-21 20:42:56,403 :: interpret.utils._binning :: Creating native dataset\n",
      "2023-02-21 20:42:56,451 :: interpret.utils._binning :: Creating native dataset\n",
      "2023-02-21 20:42:56,921 :: interpret.glassbox.ebm.bin :: eval_terms\n",
      "2023-02-21 20:42:56,945 :: interpret.glassbox.ebm.bin :: eval_terms\n"
     ]
    },
    {
     "name": "stderr",
     "output_type": "stream",
     "text": [
      "\u001b[32m[I 2023-02-21 20:42:56,954]\u001b[0m Trial 27 finished with value: 14.752894914657144 and parameters: {'learning_rate': 0.07110721963357827, 'validation_size': 0.15782834435842977, 'early_stopping_rounds': 107, 'early_stopping_tolerance': 0.0006494066467187108, 'max_rounds': 19314, 'min_samples_leaf': 3, 'max_leaves': 5}. Best is trial 1 with value: 11.721424841576487.\u001b[0m\n"
     ]
    },
    {
     "name": "stdout",
     "output_type": "stream",
     "text": [
      "2023-02-21 20:42:56,994 :: interpret.glassbox.ebm.bin :: eval_terms\n",
      "2023-02-21 20:42:57,000 :: interpret.glassbox.ebm.bin :: eval_terms\n",
      "2023-02-21 20:42:57,006 :: interpret.glassbox.ebm.bin :: eval_terms\n",
      "2023-02-21 20:42:57,011 :: interpret.glassbox.ebm.bin :: eval_terms\n",
      "2023-02-21 20:42:57,017 :: interpret.glassbox.ebm.bin :: eval_terms\n",
      "2023-02-21 20:42:57,023 :: interpret.glassbox.ebm.bin :: eval_terms\n",
      "2023-02-21 20:42:57,027 :: interpret.utils._binning :: Creating native dataset\n",
      "2023-02-21 20:42:57,030 :: interpret.glassbox.ebm.bin :: eval_terms\n",
      "2023-02-21 20:42:57,039 :: interpret.glassbox.ebm.bin :: eval_terms\n",
      "2023-02-21 20:42:57,048 :: interpret.utils._binning :: Creating native dataset\n",
      "2023-02-21 20:42:57,056 :: interpret.glassbox.ebm.ebm :: Estimating with FAST\n",
      "2023-02-21 20:42:57,385 :: interpret.glassbox.ebm.bin :: eval_terms\n",
      "2023-02-21 20:42:57,461 :: interpret.glassbox.ebm.bin :: eval_terms\n"
     ]
    },
    {
     "name": "stderr",
     "output_type": "stream",
     "text": [
      "\u001b[32m[I 2023-02-21 20:42:57,470]\u001b[0m Trial 25 finished with value: 12.173917410255367 and parameters: {'learning_rate': 0.0728658631951279, 'validation_size': 0.15214824209364874, 'early_stopping_rounds': 177, 'early_stopping_tolerance': 0.0002869597118263806, 'max_rounds': 19916, 'min_samples_leaf': 2, 'max_leaves': 5}. Best is trial 1 with value: 11.721424841576487.\u001b[0m\n"
     ]
    },
    {
     "name": "stdout",
     "output_type": "stream",
     "text": [
      "2023-02-21 20:42:57,522 :: interpret.utils._binning :: Creating native dataset\n",
      "2023-02-21 20:42:57,572 :: interpret.glassbox.ebm.bin :: eval_terms\n",
      "2023-02-21 20:42:57,599 :: interpret.glassbox.ebm.bin :: eval_terms\n"
     ]
    },
    {
     "name": "stderr",
     "output_type": "stream",
     "text": [
      "\u001b[32m[I 2023-02-21 20:42:57,608]\u001b[0m Trial 28 finished with value: 14.534352879220343 and parameters: {'learning_rate': 0.07168449940257864, 'validation_size': 0.15790460110910293, 'early_stopping_rounds': 108, 'early_stopping_tolerance': 0.00043405462474969557, 'max_rounds': 19757, 'min_samples_leaf': 2, 'max_leaves': 2}. Best is trial 1 with value: 11.721424841576487.\u001b[0m\n"
     ]
    },
    {
     "name": "stdout",
     "output_type": "stream",
     "text": [
      "2023-02-21 20:42:57,666 :: interpret.utils._binning :: Creating native dataset\n",
      "2023-02-21 20:42:58,044 :: interpret.glassbox.ebm.bin :: eval_terms\n",
      "2023-02-21 20:42:58,049 :: interpret.glassbox.ebm.bin :: eval_terms\n",
      "2023-02-21 20:42:58,054 :: interpret.glassbox.ebm.bin :: eval_terms\n",
      "2023-02-21 20:42:58,059 :: interpret.glassbox.ebm.bin :: eval_terms\n",
      "2023-02-21 20:42:58,064 :: interpret.glassbox.ebm.bin :: eval_terms\n",
      "2023-02-21 20:42:58,069 :: interpret.glassbox.ebm.bin :: eval_terms\n",
      "2023-02-21 20:42:58,074 :: interpret.glassbox.ebm.bin :: eval_terms\n",
      "2023-02-21 20:42:58,078 :: interpret.glassbox.ebm.bin :: eval_terms\n",
      "2023-02-21 20:42:58,082 :: interpret.utils._binning :: Creating native dataset\n",
      "2023-02-21 20:42:58,090 :: interpret.glassbox.ebm.ebm :: Estimating with FAST\n",
      "2023-02-21 20:42:58,129 :: interpret.glassbox.ebm.bin :: eval_terms\n",
      "2023-02-21 20:42:58,134 :: interpret.glassbox.ebm.bin :: eval_terms\n",
      "2023-02-21 20:42:58,142 :: interpret.glassbox.ebm.bin :: eval_terms\n",
      "2023-02-21 20:42:58,148 :: interpret.glassbox.ebm.bin :: eval_terms\n",
      "2023-02-21 20:42:58,153 :: interpret.glassbox.ebm.bin :: eval_terms\n",
      "2023-02-21 20:42:58,158 :: interpret.glassbox.ebm.bin :: eval_terms\n",
      "2023-02-21 20:42:58,163 :: interpret.glassbox.ebm.bin :: eval_terms\n",
      "2023-02-21 20:42:58,167 :: interpret.glassbox.ebm.bin :: eval_terms\n",
      "2023-02-21 20:42:58,175 :: interpret.utils._binning :: Creating native dataset\n",
      "2023-02-21 20:42:58,182 :: interpret.glassbox.ebm.ebm :: Estimating with FAST\n",
      "2023-02-21 20:42:58,439 :: interpret.glassbox.ebm.bin :: eval_terms\n",
      "2023-02-21 20:42:58,443 :: interpret.glassbox.ebm.bin :: eval_terms\n",
      "2023-02-21 20:42:58,449 :: interpret.glassbox.ebm.bin :: eval_terms\n",
      "2023-02-21 20:42:58,454 :: interpret.glassbox.ebm.bin :: eval_terms\n",
      "2023-02-21 20:42:58,458 :: interpret.glassbox.ebm.bin :: eval_terms\n",
      "2023-02-21 20:42:58,464 :: interpret.glassbox.ebm.bin :: eval_terms\n",
      "2023-02-21 20:42:58,470 :: interpret.glassbox.ebm.bin :: eval_terms\n",
      "2023-02-21 20:42:58,475 :: interpret.glassbox.ebm.bin :: eval_terms\n",
      "2023-02-21 20:42:58,479 :: interpret.utils._binning :: Creating native dataset\n",
      "2023-02-21 20:42:58,485 :: interpret.glassbox.ebm.ebm :: Estimating with FAST\n",
      "2023-02-21 20:42:58,568 :: interpret.glassbox.ebm.bin :: eval_terms\n",
      "2023-02-21 20:42:58,594 :: interpret.glassbox.ebm.bin :: eval_terms\n"
     ]
    },
    {
     "name": "stderr",
     "output_type": "stream",
     "text": [
      "\u001b[32m[I 2023-02-21 20:42:58,603]\u001b[0m Trial 26 finished with value: 12.29806755693385 and parameters: {'learning_rate': 0.0702363108395874, 'validation_size': 0.15013082074736273, 'early_stopping_rounds': 104, 'early_stopping_tolerance': 0.0002134901829704239, 'max_rounds': 18334, 'min_samples_leaf': 2, 'max_leaves': 5}. Best is trial 1 with value: 11.721424841576487.\u001b[0m\n"
     ]
    },
    {
     "name": "stdout",
     "output_type": "stream",
     "text": [
      "2023-02-21 20:42:58,653 :: interpret.utils._binning :: Creating native dataset\n",
      "2023-02-21 20:42:58,728 :: interpret.glassbox.ebm.bin :: eval_terms\n",
      "2023-02-21 20:42:58,759 :: interpret.glassbox.ebm.bin :: eval_terms\n"
     ]
    },
    {
     "name": "stderr",
     "output_type": "stream",
     "text": [
      "\u001b[32m[I 2023-02-21 20:42:58,768]\u001b[0m Trial 29 finished with value: 14.914260203207709 and parameters: {'learning_rate': 0.07448318392171349, 'validation_size': 0.1580397487301273, 'early_stopping_rounds': 175, 'early_stopping_tolerance': 0.00042757503268322155, 'max_rounds': 18482, 'min_samples_leaf': 3, 'max_leaves': 2}. Best is trial 1 with value: 11.721424841576487.\u001b[0m\n"
     ]
    },
    {
     "name": "stdout",
     "output_type": "stream",
     "text": [
      "2023-02-21 20:42:58,818 :: interpret.utils._binning :: Creating native dataset\n",
      "2023-02-21 20:42:59,123 :: interpret.glassbox.ebm.bin :: eval_terms\n",
      "2023-02-21 20:42:59,127 :: interpret.glassbox.ebm.bin :: eval_terms\n",
      "2023-02-21 20:42:59,132 :: interpret.glassbox.ebm.bin :: eval_terms\n",
      "2023-02-21 20:42:59,136 :: interpret.glassbox.ebm.bin :: eval_terms\n",
      "2023-02-21 20:42:59,141 :: interpret.glassbox.ebm.bin :: eval_terms\n",
      "2023-02-21 20:42:59,145 :: interpret.glassbox.ebm.bin :: eval_terms\n",
      "2023-02-21 20:42:59,150 :: interpret.glassbox.ebm.bin :: eval_terms\n",
      "2023-02-21 20:42:59,155 :: interpret.glassbox.ebm.bin :: eval_terms\n",
      "2023-02-21 20:42:59,159 :: interpret.utils._binning :: Creating native dataset\n",
      "2023-02-21 20:42:59,167 :: interpret.glassbox.ebm.ebm :: Estimating with FAST\n",
      "2023-02-21 20:42:59,462 :: interpret.glassbox.ebm.bin :: eval_terms\n",
      "2023-02-21 20:42:59,467 :: interpret.glassbox.ebm.bin :: eval_terms\n",
      "2023-02-21 20:42:59,472 :: interpret.glassbox.ebm.bin :: eval_terms\n",
      "2023-02-21 20:42:59,476 :: interpret.glassbox.ebm.bin :: eval_terms\n",
      "2023-02-21 20:42:59,480 :: interpret.glassbox.ebm.bin :: eval_terms\n",
      "2023-02-21 20:42:59,485 :: interpret.glassbox.ebm.bin :: eval_terms\n",
      "2023-02-21 20:42:59,489 :: interpret.glassbox.ebm.bin :: eval_terms\n",
      "2023-02-21 20:42:59,493 :: interpret.glassbox.ebm.bin :: eval_terms\n",
      "2023-02-21 20:42:59,498 :: interpret.utils._binning :: Creating native dataset\n",
      "2023-02-21 20:42:59,505 :: interpret.glassbox.ebm.ebm :: Estimating with FAST\n",
      "2023-02-21 20:42:59,537 :: interpret.glassbox.ebm.bin :: eval_terms\n",
      "2023-02-21 20:42:59,559 :: interpret.glassbox.ebm.bin :: eval_terms\n"
     ]
    },
    {
     "name": "stderr",
     "output_type": "stream",
     "text": [
      "\u001b[32m[I 2023-02-21 20:42:59,568]\u001b[0m Trial 30 finished with value: 15.566150412568748 and parameters: {'learning_rate': 0.07088533145446924, 'validation_size': 0.1580268132312604, 'early_stopping_rounds': 175, 'early_stopping_tolerance': 0.0004386340510502082, 'max_rounds': 18499, 'min_samples_leaf': 3, 'max_leaves': 2}. Best is trial 1 with value: 11.721424841576487.\u001b[0m\n"
     ]
    },
    {
     "name": "stdout",
     "output_type": "stream",
     "text": [
      "2023-02-21 20:42:59,617 :: interpret.utils._binning :: Creating native dataset\n",
      "2023-02-21 20:42:59,747 :: interpret.glassbox.ebm.bin :: eval_terms\n",
      "2023-02-21 20:42:59,751 :: interpret.glassbox.ebm.bin :: eval_terms\n",
      "2023-02-21 20:42:59,757 :: interpret.glassbox.ebm.bin :: eval_terms\n",
      "2023-02-21 20:42:59,761 :: interpret.glassbox.ebm.bin :: eval_terms\n",
      "2023-02-21 20:42:59,767 :: interpret.glassbox.ebm.bin :: eval_terms\n",
      "2023-02-21 20:42:59,771 :: interpret.glassbox.ebm.bin :: eval_terms\n",
      "2023-02-21 20:42:59,778 :: interpret.glassbox.ebm.bin :: eval_terms\n",
      "2023-02-21 20:42:59,784 :: interpret.glassbox.ebm.bin :: eval_terms\n",
      "2023-02-21 20:42:59,787 :: interpret.utils._binning :: Creating native dataset\n",
      "2023-02-21 20:42:59,795 :: interpret.glassbox.ebm.ebm :: Estimating with FAST\n",
      "2023-02-21 20:42:59,981 :: interpret.glassbox.ebm.bin :: eval_terms\n",
      "2023-02-21 20:42:59,987 :: interpret.glassbox.ebm.bin :: eval_terms\n",
      "2023-02-21 20:42:59,992 :: interpret.glassbox.ebm.bin :: eval_terms\n",
      "2023-02-21 20:42:59,997 :: interpret.glassbox.ebm.bin :: eval_terms\n",
      "2023-02-21 20:43:00,002 :: interpret.glassbox.ebm.bin :: eval_terms\n",
      "2023-02-21 20:43:00,007 :: interpret.glassbox.ebm.bin :: eval_terms\n",
      "2023-02-21 20:43:00,013 :: interpret.glassbox.ebm.bin :: eval_terms\n",
      "2023-02-21 20:43:00,019 :: interpret.glassbox.ebm.bin :: eval_terms\n",
      "2023-02-21 20:43:00,024 :: interpret.utils._binning :: Creating native dataset\n",
      "2023-02-21 20:43:00,031 :: interpret.glassbox.ebm.ebm :: Estimating with FAST\n",
      "2023-02-21 20:43:00,311 :: interpret.glassbox.ebm.bin :: eval_terms\n",
      "2023-02-21 20:43:00,333 :: interpret.glassbox.ebm.bin :: eval_terms\n"
     ]
    },
    {
     "name": "stderr",
     "output_type": "stream",
     "text": [
      "\u001b[32m[I 2023-02-21 20:43:00,341]\u001b[0m Trial 31 finished with value: 14.765516238222238 and parameters: {'learning_rate': 0.07128539214889959, 'validation_size': 0.15779826814610512, 'early_stopping_rounds': 176, 'early_stopping_tolerance': 0.00019731539173474527, 'max_rounds': 18148, 'min_samples_leaf': 3, 'max_leaves': 2}. Best is trial 1 with value: 11.721424841576487.\u001b[0m\n"
     ]
    },
    {
     "name": "stdout",
     "output_type": "stream",
     "text": [
      "2023-02-21 20:43:00,391 :: interpret.utils._binning :: Creating native dataset\n",
      "2023-02-21 20:43:00,675 :: interpret.glassbox.ebm.bin :: eval_terms\n",
      "2023-02-21 20:43:00,698 :: interpret.glassbox.ebm.bin :: eval_terms\n"
     ]
    },
    {
     "name": "stderr",
     "output_type": "stream",
     "text": [
      "\u001b[32m[I 2023-02-21 20:43:00,705]\u001b[0m Trial 32 finished with value: 15.116205610625112 and parameters: {'learning_rate': 0.06969331345411259, 'validation_size': 0.15792227334313824, 'early_stopping_rounds': 180, 'early_stopping_tolerance': 0.00020315011915438604, 'max_rounds': 18121, 'min_samples_leaf': 3, 'max_leaves': 2}. Best is trial 1 with value: 11.721424841576487.\u001b[0m\n"
     ]
    },
    {
     "name": "stdout",
     "output_type": "stream",
     "text": [
      "2023-02-21 20:43:00,766 :: interpret.utils._binning :: Creating native dataset\n",
      "2023-02-21 20:43:00,971 :: interpret.glassbox.ebm.bin :: eval_terms\n",
      "2023-02-21 20:43:00,977 :: interpret.glassbox.ebm.bin :: eval_terms\n",
      "2023-02-21 20:43:00,982 :: interpret.glassbox.ebm.bin :: eval_terms\n",
      "2023-02-21 20:43:00,986 :: interpret.glassbox.ebm.bin :: eval_terms\n",
      "2023-02-21 20:43:00,992 :: interpret.glassbox.ebm.bin :: eval_terms\n",
      "2023-02-21 20:43:00,997 :: interpret.glassbox.ebm.bin :: eval_terms\n",
      "2023-02-21 20:43:01,001 :: interpret.glassbox.ebm.bin :: eval_terms\n",
      "2023-02-21 20:43:01,006 :: interpret.glassbox.ebm.bin :: eval_terms\n",
      "2023-02-21 20:43:01,010 :: interpret.utils._binning :: Creating native dataset\n",
      "2023-02-21 20:43:01,017 :: interpret.glassbox.ebm.ebm :: Estimating with FAST\n",
      "2023-02-21 20:43:01,043 :: interpret.glassbox.ebm.bin :: eval_terms\n",
      "2023-02-21 20:43:01,063 :: interpret.glassbox.ebm.bin :: eval_terms\n"
     ]
    },
    {
     "name": "stderr",
     "output_type": "stream",
     "text": [
      "\u001b[32m[I 2023-02-21 20:43:01,069]\u001b[0m Trial 33 finished with value: 14.827691446256013 and parameters: {'learning_rate': 0.07011839443132926, 'validation_size': 0.15813732066202538, 'early_stopping_rounds': 182, 'early_stopping_tolerance': 0.00021077068415803262, 'max_rounds': 18030, 'min_samples_leaf': 3, 'max_leaves': 2}. Best is trial 1 with value: 11.721424841576487.\u001b[0m\n"
     ]
    },
    {
     "name": "stdout",
     "output_type": "stream",
     "text": [
      "2023-02-21 20:43:01,109 :: interpret.utils._binning :: Creating native dataset\n",
      "2023-02-21 20:43:01,440 :: interpret.glassbox.ebm.bin :: eval_terms\n",
      "2023-02-21 20:43:01,444 :: interpret.glassbox.ebm.bin :: eval_terms\n",
      "2023-02-21 20:43:01,450 :: interpret.glassbox.ebm.bin :: eval_terms\n",
      "2023-02-21 20:43:01,454 :: interpret.glassbox.ebm.bin :: eval_terms\n",
      "2023-02-21 20:43:01,460 :: interpret.glassbox.ebm.bin :: eval_terms\n",
      "2023-02-21 20:43:01,465 :: interpret.glassbox.ebm.bin :: eval_terms\n",
      "2023-02-21 20:43:01,469 :: interpret.glassbox.ebm.bin :: eval_terms\n",
      "2023-02-21 20:43:01,474 :: interpret.glassbox.ebm.bin :: eval_terms\n",
      "2023-02-21 20:43:01,478 :: interpret.utils._binning :: Creating native dataset\n",
      "2023-02-21 20:43:01,485 :: interpret.glassbox.ebm.ebm :: Estimating with FAST\n",
      "2023-02-21 20:43:01,536 :: interpret.glassbox.ebm.bin :: eval_terms\n",
      "2023-02-21 20:43:01,559 :: interpret.glassbox.ebm.bin :: eval_terms\n"
     ]
    },
    {
     "name": "stderr",
     "output_type": "stream",
     "text": [
      "\u001b[32m[I 2023-02-21 20:43:01,566]\u001b[0m Trial 34 finished with value: 14.80876039602032 and parameters: {'learning_rate': 0.0680826680187184, 'validation_size': 0.1593975812330764, 'early_stopping_rounds': 181, 'early_stopping_tolerance': 0.0002103887360559235, 'max_rounds': 15388, 'min_samples_leaf': 3, 'max_leaves': 2}. Best is trial 1 with value: 11.721424841576487.\u001b[0m\n"
     ]
    },
    {
     "name": "stdout",
     "output_type": "stream",
     "text": [
      "2023-02-21 20:43:01,609 :: interpret.utils._binning :: Creating native dataset\n",
      "2023-02-21 20:43:01,979 :: interpret.glassbox.ebm.bin :: eval_terms\n",
      "2023-02-21 20:43:02,004 :: interpret.glassbox.ebm.bin :: eval_terms\n"
     ]
    },
    {
     "name": "stderr",
     "output_type": "stream",
     "text": [
      "\u001b[32m[I 2023-02-21 20:43:02,011]\u001b[0m Trial 35 finished with value: 14.679377215927436 and parameters: {'learning_rate': 0.06517928266730648, 'validation_size': 0.16100779155034817, 'early_stopping_rounds': 182, 'early_stopping_tolerance': 0.0002576135519133523, 'max_rounds': 18027, 'min_samples_leaf': 3, 'max_leaves': 2}. Best is trial 1 with value: 11.721424841576487.\u001b[0m\n"
     ]
    },
    {
     "name": "stdout",
     "output_type": "stream",
     "text": [
      "2023-02-21 20:43:02,023 :: interpret.glassbox.ebm.bin :: eval_terms\n",
      "2023-02-21 20:43:02,034 :: interpret.glassbox.ebm.bin :: eval_terms\n",
      "2023-02-21 20:43:02,041 :: interpret.glassbox.ebm.bin :: eval_terms\n",
      "2023-02-21 20:43:02,049 :: interpret.glassbox.ebm.bin :: eval_terms\n",
      "2023-02-21 20:43:02,056 :: interpret.glassbox.ebm.bin :: eval_terms\n",
      "2023-02-21 20:43:02,065 :: interpret.glassbox.ebm.bin :: eval_terms\n",
      "2023-02-21 20:43:02,071 :: interpret.glassbox.ebm.bin :: eval_terms\n",
      "2023-02-21 20:43:02,076 :: interpret.glassbox.ebm.bin :: eval_terms\n",
      "2023-02-21 20:43:02,084 :: interpret.utils._binning :: Creating native dataset\n",
      "2023-02-21 20:43:02,094 :: interpret.glassbox.ebm.ebm :: Estimating with FAST\n",
      "2023-02-21 20:43:02,099 :: interpret.utils._binning :: Creating native dataset\n",
      "2023-02-21 20:43:02,517 :: interpret.glassbox.ebm.bin :: eval_terms\n",
      "2023-02-21 20:43:02,536 :: interpret.glassbox.ebm.bin :: eval_terms\n"
     ]
    },
    {
     "name": "stderr",
     "output_type": "stream",
     "text": [
      "\u001b[32m[I 2023-02-21 20:43:02,542]\u001b[0m Trial 37 finished with value: 14.886873567365388 and parameters: {'learning_rate': 0.06634898741102216, 'validation_size': 0.16162226171191288, 'early_stopping_rounds': 183, 'early_stopping_tolerance': 0.0002137733034883874, 'max_rounds': 15901, 'min_samples_leaf': 3, 'max_leaves': 4}. Best is trial 1 with value: 11.721424841576487.\u001b[0m\n"
     ]
    },
    {
     "name": "stdout",
     "output_type": "stream",
     "text": [
      "2023-02-21 20:43:02,574 :: interpret.glassbox.ebm.bin :: eval_terms\n",
      "2023-02-21 20:43:02,577 :: interpret.glassbox.ebm.bin :: eval_terms\n",
      "2023-02-21 20:43:02,586 :: interpret.glassbox.ebm.bin :: eval_terms\n",
      "2023-02-21 20:43:02,599 :: interpret.glassbox.ebm.bin :: eval_terms\n",
      "2023-02-21 20:43:02,611 :: interpret.glassbox.ebm.bin :: eval_terms\n",
      "2023-02-21 20:43:02,621 :: interpret.glassbox.ebm.bin :: eval_terms\n",
      "2023-02-21 20:43:02,629 :: interpret.glassbox.ebm.bin :: eval_terms\n",
      "2023-02-21 20:43:02,635 :: interpret.glassbox.ebm.bin :: eval_terms\n",
      "2023-02-21 20:43:02,645 :: interpret.utils._binning :: Creating native dataset\n",
      "2023-02-21 20:43:02,648 :: interpret.utils._binning :: Creating native dataset\n",
      "2023-02-21 20:43:02,661 :: interpret.glassbox.ebm.ebm :: Estimating with FAST\n",
      "2023-02-21 20:43:02,830 :: interpret.glassbox.ebm.bin :: eval_terms\n",
      "2023-02-21 20:43:02,834 :: interpret.glassbox.ebm.bin :: eval_terms\n",
      "2023-02-21 20:43:02,839 :: interpret.glassbox.ebm.bin :: eval_terms\n",
      "2023-02-21 20:43:02,843 :: interpret.glassbox.ebm.bin :: eval_terms\n",
      "2023-02-21 20:43:02,847 :: interpret.glassbox.ebm.bin :: eval_terms\n",
      "2023-02-21 20:43:02,851 :: interpret.glassbox.ebm.bin :: eval_terms\n",
      "2023-02-21 20:43:02,855 :: interpret.glassbox.ebm.bin :: eval_terms\n",
      "2023-02-21 20:43:02,859 :: interpret.glassbox.ebm.bin :: eval_terms\n",
      "2023-02-21 20:43:02,864 :: interpret.utils._binning :: Creating native dataset\n",
      "2023-02-21 20:43:02,869 :: interpret.glassbox.ebm.ebm :: Estimating with FAST\n",
      "2023-02-21 20:43:02,895 :: interpret.glassbox.ebm.bin :: eval_terms\n",
      "2023-02-21 20:43:02,914 :: interpret.glassbox.ebm.bin :: eval_terms\n"
     ]
    },
    {
     "name": "stderr",
     "output_type": "stream",
     "text": [
      "\u001b[32m[I 2023-02-21 20:43:02,922]\u001b[0m Trial 36 finished with value: 14.654868689469968 and parameters: {'learning_rate': 0.06635272861552799, 'validation_size': 0.16140118114587682, 'early_stopping_rounds': 182, 'early_stopping_tolerance': 0.00023523901962782618, 'max_rounds': 15380, 'min_samples_leaf': 3, 'max_leaves': 2}. Best is trial 1 with value: 11.721424841576487.\u001b[0m\n"
     ]
    },
    {
     "name": "stdout",
     "output_type": "stream",
     "text": [
      "2023-02-21 20:43:02,966 :: interpret.utils._binning :: Creating native dataset\n",
      "2023-02-21 20:43:03,239 :: interpret.glassbox.ebm.bin :: eval_terms\n",
      "2023-02-21 20:43:03,244 :: interpret.glassbox.ebm.bin :: eval_terms\n",
      "2023-02-21 20:43:03,248 :: interpret.glassbox.ebm.bin :: eval_terms\n",
      "2023-02-21 20:43:03,253 :: interpret.glassbox.ebm.bin :: eval_terms\n",
      "2023-02-21 20:43:03,257 :: interpret.glassbox.ebm.bin :: eval_terms\n",
      "2023-02-21 20:43:03,262 :: interpret.glassbox.ebm.bin :: eval_terms\n",
      "2023-02-21 20:43:03,266 :: interpret.glassbox.ebm.bin :: eval_terms\n",
      "2023-02-21 20:43:03,270 :: interpret.glassbox.ebm.bin :: eval_terms\n",
      "2023-02-21 20:43:03,275 :: interpret.utils._binning :: Creating native dataset\n",
      "2023-02-21 20:43:03,281 :: interpret.glassbox.ebm.ebm :: Estimating with FAST\n",
      "2023-02-21 20:43:03,664 :: interpret.glassbox.ebm.bin :: eval_terms\n",
      "2023-02-21 20:43:03,668 :: interpret.glassbox.ebm.bin :: eval_terms\n",
      "2023-02-21 20:43:03,672 :: interpret.glassbox.ebm.bin :: eval_terms\n",
      "2023-02-21 20:43:03,675 :: interpret.glassbox.ebm.bin :: eval_terms\n",
      "2023-02-21 20:43:03,679 :: interpret.glassbox.ebm.bin :: eval_terms\n",
      "2023-02-21 20:43:03,683 :: interpret.glassbox.ebm.bin :: eval_terms\n",
      "2023-02-21 20:43:03,687 :: interpret.glassbox.ebm.bin :: eval_terms\n",
      "2023-02-21 20:43:03,690 :: interpret.glassbox.ebm.bin :: eval_terms\n",
      "2023-02-21 20:43:03,694 :: interpret.utils._binning :: Creating native dataset\n",
      "2023-02-21 20:43:03,700 :: interpret.glassbox.ebm.ebm :: Estimating with FAST\n",
      "2023-02-21 20:43:03,814 :: interpret.glassbox.ebm.bin :: eval_terms\n",
      "2023-02-21 20:43:03,822 :: interpret.glassbox.ebm.bin :: eval_terms\n",
      "2023-02-21 20:43:03,828 :: interpret.glassbox.ebm.bin :: eval_terms\n",
      "2023-02-21 20:43:03,833 :: interpret.glassbox.ebm.bin :: eval_terms\n",
      "2023-02-21 20:43:03,837 :: interpret.glassbox.ebm.bin :: eval_terms\n",
      "2023-02-21 20:43:03,842 :: interpret.glassbox.ebm.bin :: eval_terms\n",
      "2023-02-21 20:43:03,845 :: interpret.glassbox.ebm.bin :: eval_terms\n",
      "2023-02-21 20:43:03,850 :: interpret.glassbox.ebm.bin :: eval_terms\n",
      "2023-02-21 20:43:03,854 :: interpret.utils._binning :: Creating native dataset\n",
      "2023-02-21 20:43:03,860 :: interpret.glassbox.ebm.ebm :: Estimating with FAST\n",
      "2023-02-21 20:43:05,338 :: interpret.glassbox.ebm.bin :: eval_terms\n",
      "2023-02-21 20:43:05,354 :: interpret.glassbox.ebm.bin :: eval_terms\n"
     ]
    },
    {
     "name": "stderr",
     "output_type": "stream",
     "text": [
      "\u001b[32m[I 2023-02-21 20:43:05,360]\u001b[0m Trial 38 finished with value: 12.542596574198328 and parameters: {'learning_rate': 0.06443976845724253, 'validation_size': 0.15506809166568336, 'early_stopping_rounds': 146, 'early_stopping_tolerance': 0.00021242210603864597, 'max_rounds': 15224, 'min_samples_leaf': 2, 'max_leaves': 4}. Best is trial 1 with value: 11.721424841576487.\u001b[0m\n"
     ]
    },
    {
     "name": "stdout",
     "output_type": "stream",
     "text": [
      "2023-02-21 20:43:05,393 :: interpret.utils._binning :: Creating native dataset\n",
      "2023-02-21 20:43:05,602 :: interpret.glassbox.ebm.bin :: eval_terms\n",
      "2023-02-21 20:43:05,619 :: interpret.glassbox.ebm.bin :: eval_terms\n"
     ]
    },
    {
     "name": "stderr",
     "output_type": "stream",
     "text": [
      "\u001b[32m[I 2023-02-21 20:43:05,625]\u001b[0m Trial 39 finished with value: 12.54696393363433 and parameters: {'learning_rate': 0.0645114746678784, 'validation_size': 0.15438500023029592, 'early_stopping_rounds': 143, 'early_stopping_tolerance': 0.00022611214659727473, 'max_rounds': 15065, 'min_samples_leaf': 2, 'max_leaves': 4}. Best is trial 1 with value: 11.721424841576487.\u001b[0m\n"
     ]
    },
    {
     "name": "stdout",
     "output_type": "stream",
     "text": [
      "2023-02-21 20:43:05,659 :: interpret.utils._binning :: Creating native dataset\n",
      "2023-02-21 20:43:06,018 :: interpret.glassbox.ebm.bin :: eval_terms\n",
      "2023-02-21 20:43:06,036 :: interpret.glassbox.ebm.bin :: eval_terms\n"
     ]
    },
    {
     "name": "stderr",
     "output_type": "stream",
     "text": [
      "\u001b[32m[I 2023-02-21 20:43:06,042]\u001b[0m Trial 41 finished with value: 12.658037547167783 and parameters: {'learning_rate': 0.06693526607541858, 'validation_size': 0.15477067168482472, 'early_stopping_rounds': 141, 'early_stopping_tolerance': 0.00013519276545319466, 'max_rounds': 16143, 'min_samples_leaf': 2, 'max_leaves': 4}. Best is trial 1 with value: 11.721424841576487.\u001b[0m\n"
     ]
    },
    {
     "name": "stdout",
     "output_type": "stream",
     "text": [
      "2023-02-21 20:43:06,078 :: interpret.utils._binning :: Creating native dataset\n",
      "2023-02-21 20:43:06,175 :: interpret.glassbox.ebm.bin :: eval_terms\n",
      "2023-02-21 20:43:06,179 :: interpret.glassbox.ebm.bin :: eval_terms\n",
      "2023-02-21 20:43:06,183 :: interpret.glassbox.ebm.bin :: eval_terms\n",
      "2023-02-21 20:43:06,186 :: interpret.glassbox.ebm.bin :: eval_terms\n",
      "2023-02-21 20:43:06,189 :: interpret.glassbox.ebm.bin :: eval_terms\n",
      "2023-02-21 20:43:06,193 :: interpret.glassbox.ebm.bin :: eval_terms\n",
      "2023-02-21 20:43:06,197 :: interpret.glassbox.ebm.bin :: eval_terms\n",
      "2023-02-21 20:43:06,200 :: interpret.glassbox.ebm.bin :: eval_terms\n",
      "2023-02-21 20:43:06,203 :: interpret.utils._binning :: Creating native dataset\n",
      "2023-02-21 20:43:06,209 :: interpret.glassbox.ebm.ebm :: Estimating with FAST\n",
      "2023-02-21 20:43:06,239 :: interpret.glassbox.ebm.bin :: eval_terms\n",
      "2023-02-21 20:43:06,258 :: interpret.glassbox.ebm.bin :: eval_terms\n"
     ]
    },
    {
     "name": "stderr",
     "output_type": "stream",
     "text": [
      "\u001b[32m[I 2023-02-21 20:43:06,265]\u001b[0m Trial 40 finished with value: 11.938692859033164 and parameters: {'learning_rate': 0.06469797337965247, 'validation_size': 0.15432934521526112, 'early_stopping_rounds': 141, 'early_stopping_tolerance': 0.0002351789433259289, 'max_rounds': 15336, 'min_samples_leaf': 2, 'max_leaves': 4}. Best is trial 1 with value: 11.721424841576487.\u001b[0m\n"
     ]
    },
    {
     "name": "stdout",
     "output_type": "stream",
     "text": [
      "2023-02-21 20:43:06,302 :: interpret.utils._binning :: Creating native dataset\n",
      "2023-02-21 20:43:07,144 :: interpret.glassbox.ebm.bin :: eval_terms\n",
      "2023-02-21 20:43:07,147 :: interpret.glassbox.ebm.bin :: eval_terms\n",
      "2023-02-21 20:43:07,152 :: interpret.glassbox.ebm.bin :: eval_terms\n",
      "2023-02-21 20:43:07,154 :: interpret.glassbox.ebm.bin :: eval_terms\n",
      "2023-02-21 20:43:07,157 :: interpret.glassbox.ebm.bin :: eval_terms\n",
      "2023-02-21 20:43:07,160 :: interpret.glassbox.ebm.bin :: eval_terms\n",
      "2023-02-21 20:43:07,163 :: interpret.glassbox.ebm.bin :: eval_terms\n",
      "2023-02-21 20:43:07,166 :: interpret.glassbox.ebm.bin :: eval_terms\n",
      "2023-02-21 20:43:07,169 :: interpret.utils._binning :: Creating native dataset\n",
      "2023-02-21 20:43:07,174 :: interpret.glassbox.ebm.ebm :: Estimating with FAST\n",
      "2023-02-21 20:43:07,345 :: interpret.glassbox.ebm.bin :: eval_terms\n",
      "2023-02-21 20:43:07,349 :: interpret.glassbox.ebm.bin :: eval_terms\n",
      "2023-02-21 20:43:07,352 :: interpret.glassbox.ebm.bin :: eval_terms\n",
      "2023-02-21 20:43:07,356 :: interpret.glassbox.ebm.bin :: eval_terms\n",
      "2023-02-21 20:43:07,359 :: interpret.glassbox.ebm.bin :: eval_terms\n",
      "2023-02-21 20:43:07,364 :: interpret.glassbox.ebm.bin :: eval_terms\n",
      "2023-02-21 20:43:07,366 :: interpret.glassbox.ebm.bin :: eval_terms\n",
      "2023-02-21 20:43:07,369 :: interpret.glassbox.ebm.bin :: eval_terms\n",
      "2023-02-21 20:43:07,372 :: interpret.utils._binning :: Creating native dataset\n",
      "2023-02-21 20:43:07,378 :: interpret.glassbox.ebm.ebm :: Estimating with FAST\n",
      "2023-02-21 20:43:07,390 :: interpret.glassbox.ebm.bin :: eval_terms\n",
      "2023-02-21 20:43:07,408 :: interpret.glassbox.ebm.bin :: eval_terms\n"
     ]
    },
    {
     "name": "stderr",
     "output_type": "stream",
     "text": [
      "\u001b[32m[I 2023-02-21 20:43:07,415]\u001b[0m Trial 42 finished with value: 12.647972491200738 and parameters: {'learning_rate': 0.06267921787912102, 'validation_size': 0.15432531330884328, 'early_stopping_rounds': 146, 'early_stopping_tolerance': 0.00011542764054930239, 'max_rounds': 14962, 'min_samples_leaf': 2, 'max_leaves': 4}. Best is trial 1 with value: 11.721424841576487.\u001b[0m\n"
     ]
    },
    {
     "name": "stdout",
     "output_type": "stream",
     "text": [
      "2023-02-21 20:43:07,465 :: interpret.utils._binning :: Creating native dataset\n",
      "2023-02-21 20:43:07,501 :: interpret.glassbox.ebm.bin :: eval_terms\n",
      "2023-02-21 20:43:07,510 :: interpret.glassbox.ebm.bin :: eval_terms\n",
      "2023-02-21 20:43:07,516 :: interpret.glassbox.ebm.bin :: eval_terms\n",
      "2023-02-21 20:43:07,519 :: interpret.glassbox.ebm.bin :: eval_terms\n",
      "2023-02-21 20:43:07,523 :: interpret.glassbox.ebm.bin :: eval_terms\n",
      "2023-02-21 20:43:07,526 :: interpret.glassbox.ebm.bin :: eval_terms\n",
      "2023-02-21 20:43:07,530 :: interpret.glassbox.ebm.bin :: eval_terms\n",
      "2023-02-21 20:43:07,534 :: interpret.glassbox.ebm.bin :: eval_terms\n",
      "2023-02-21 20:43:07,538 :: interpret.utils._binning :: Creating native dataset\n",
      "2023-02-21 20:43:07,543 :: interpret.glassbox.ebm.ebm :: Estimating with FAST\n",
      "2023-02-21 20:43:07,770 :: interpret.glassbox.ebm.bin :: eval_terms\n",
      "2023-02-21 20:43:07,795 :: interpret.glassbox.ebm.bin :: eval_terms\n"
     ]
    },
    {
     "name": "stderr",
     "output_type": "stream",
     "text": [
      "\u001b[32m[I 2023-02-21 20:43:07,803]\u001b[0m Trial 43 finished with value: 12.693693661206064 and parameters: {'learning_rate': 0.052340445530422525, 'validation_size': 0.1541483539316472, 'early_stopping_rounds': 153, 'early_stopping_tolerance': 0.0009786923802617663, 'max_rounds': 15922, 'min_samples_leaf': 2, 'max_leaves': 4}. Best is trial 1 with value: 11.721424841576487.\u001b[0m\n"
     ]
    },
    {
     "name": "stdout",
     "output_type": "stream",
     "text": [
      "2023-02-21 20:43:07,839 :: interpret.utils._binning :: Creating native dataset\n",
      "2023-02-21 20:43:08,374 :: interpret.glassbox.ebm.bin :: eval_terms\n",
      "2023-02-21 20:43:08,377 :: interpret.glassbox.ebm.bin :: eval_terms\n",
      "2023-02-21 20:43:08,381 :: interpret.glassbox.ebm.bin :: eval_terms\n",
      "2023-02-21 20:43:08,385 :: interpret.glassbox.ebm.bin :: eval_terms\n",
      "2023-02-21 20:43:08,388 :: interpret.glassbox.ebm.bin :: eval_terms\n",
      "2023-02-21 20:43:08,391 :: interpret.glassbox.ebm.bin :: eval_terms\n",
      "2023-02-21 20:43:08,394 :: interpret.glassbox.ebm.bin :: eval_terms\n",
      "2023-02-21 20:43:08,397 :: interpret.glassbox.ebm.bin :: eval_terms\n",
      "2023-02-21 20:43:08,400 :: interpret.utils._binning :: Creating native dataset\n",
      "2023-02-21 20:43:08,405 :: interpret.glassbox.ebm.ebm :: Estimating with FAST\n",
      "2023-02-21 20:43:08,792 :: interpret.glassbox.ebm.bin :: eval_terms\n",
      "2023-02-21 20:43:08,818 :: interpret.glassbox.ebm.bin :: eval_terms\n"
     ]
    },
    {
     "name": "stderr",
     "output_type": "stream",
     "text": [
      "\u001b[32m[I 2023-02-21 20:43:08,847]\u001b[0m Trial 45 finished with value: 12.640116016736531 and parameters: {'learning_rate': 0.04904160093844953, 'validation_size': 0.15475375953503717, 'early_stopping_rounds': 145, 'early_stopping_tolerance': 0.0009656883342385966, 'max_rounds': 17104, 'min_samples_leaf': 2, 'max_leaves': 4}. Best is trial 1 with value: 11.721424841576487.\u001b[0m\n"
     ]
    },
    {
     "name": "stdout",
     "output_type": "stream",
     "text": [
      "2023-02-21 20:43:08,862 :: interpret.glassbox.ebm.bin :: eval_terms\n",
      "2023-02-21 20:43:08,915 :: interpret.glassbox.ebm.bin :: eval_terms\n"
     ]
    },
    {
     "name": "stderr",
     "output_type": "stream",
     "text": [
      "\u001b[32m[I 2023-02-21 20:43:08,923]\u001b[0m Trial 44 finished with value: 12.853028894092581 and parameters: {'learning_rate': 0.05155656666396578, 'validation_size': 0.15477685682098594, 'early_stopping_rounds': 145, 'early_stopping_tolerance': 9.525062320293892e-05, 'max_rounds': 14704, 'min_samples_leaf': 2, 'max_leaves': 4}. Best is trial 1 with value: 11.721424841576487.\u001b[0m\n"
     ]
    },
    {
     "name": "stdout",
     "output_type": "stream",
     "text": [
      "2023-02-21 20:43:08,952 :: interpret.utils._binning :: Creating native dataset\n",
      "2023-02-21 20:43:08,976 :: interpret.utils._binning :: Creating native dataset\n",
      "2023-02-21 20:43:09,078 :: interpret.glassbox.ebm.bin :: eval_terms\n",
      "2023-02-21 20:43:09,082 :: interpret.glassbox.ebm.bin :: eval_terms\n",
      "2023-02-21 20:43:09,087 :: interpret.glassbox.ebm.bin :: eval_terms\n",
      "2023-02-21 20:43:09,091 :: interpret.glassbox.ebm.bin :: eval_terms\n",
      "2023-02-21 20:43:09,096 :: interpret.glassbox.ebm.bin :: eval_terms\n",
      "2023-02-21 20:43:09,099 :: interpret.glassbox.ebm.bin :: eval_terms\n",
      "2023-02-21 20:43:09,103 :: interpret.glassbox.ebm.bin :: eval_terms\n",
      "2023-02-21 20:43:09,106 :: interpret.glassbox.ebm.bin :: eval_terms\n",
      "2023-02-21 20:43:09,112 :: interpret.utils._binning :: Creating native dataset\n",
      "2023-02-21 20:43:09,116 :: interpret.glassbox.ebm.ebm :: Estimating with FAST\n",
      "2023-02-21 20:43:09,569 :: interpret.glassbox.ebm.bin :: eval_terms\n",
      "2023-02-21 20:43:09,573 :: interpret.glassbox.ebm.bin :: eval_terms\n",
      "2023-02-21 20:43:09,576 :: interpret.glassbox.ebm.bin :: eval_terms\n",
      "2023-02-21 20:43:09,580 :: interpret.glassbox.ebm.bin :: eval_terms\n",
      "2023-02-21 20:43:09,583 :: interpret.glassbox.ebm.bin :: eval_terms\n",
      "2023-02-21 20:43:09,586 :: interpret.glassbox.ebm.bin :: eval_terms\n",
      "2023-02-21 20:43:09,589 :: interpret.glassbox.ebm.bin :: eval_terms\n",
      "2023-02-21 20:43:09,592 :: interpret.glassbox.ebm.bin :: eval_terms\n",
      "2023-02-21 20:43:09,595 :: interpret.utils._binning :: Creating native dataset\n",
      "2023-02-21 20:43:09,600 :: interpret.glassbox.ebm.ebm :: Estimating with FAST\n",
      "2023-02-21 20:43:09,715 :: interpret.glassbox.ebm.bin :: eval_terms\n",
      "2023-02-21 20:43:09,720 :: interpret.glassbox.ebm.bin :: eval_terms\n",
      "2023-02-21 20:43:09,725 :: interpret.glassbox.ebm.bin :: eval_terms\n",
      "2023-02-21 20:43:09,731 :: interpret.glassbox.ebm.bin :: eval_terms\n",
      "2023-02-21 20:43:09,732 :: interpret.glassbox.ebm.bin :: eval_terms\n",
      "2023-02-21 20:43:09,736 :: interpret.glassbox.ebm.bin :: eval_terms\n",
      "2023-02-21 20:43:09,754 :: interpret.glassbox.ebm.bin :: eval_terms\n",
      "2023-02-21 20:43:09,756 :: interpret.glassbox.ebm.bin :: eval_terms\n"
     ]
    },
    {
     "name": "stderr",
     "output_type": "stream",
     "text": [
      "\u001b[32m[I 2023-02-21 20:43:09,764]\u001b[0m Trial 47 finished with value: 12.714994161163984 and parameters: {'learning_rate': 0.051991797557100185, 'validation_size': 0.1736578453552098, 'early_stopping_rounds': 119, 'early_stopping_tolerance': 0.0001150743873326706, 'max_rounds': 17142, 'min_samples_leaf': 2, 'max_leaves': 4}. Best is trial 1 with value: 11.721424841576487.\u001b[0m\n"
     ]
    },
    {
     "name": "stdout",
     "output_type": "stream",
     "text": [
      "2023-02-21 20:43:09,768 :: interpret.glassbox.ebm.bin :: eval_terms\n",
      "2023-02-21 20:43:09,800 :: interpret.glassbox.ebm.bin :: eval_terms\n",
      "2023-02-21 20:43:09,804 :: interpret.utils._binning :: Creating native dataset\n",
      "2023-02-21 20:43:09,806 :: interpret.utils._binning :: Creating native dataset\n",
      "2023-02-21 20:43:09,819 :: interpret.glassbox.ebm.ebm :: Estimating with FAST\n",
      "2023-02-21 20:43:10,017 :: interpret.glassbox.ebm.bin :: eval_terms\n",
      "2023-02-21 20:43:10,048 :: interpret.glassbox.ebm.bin :: eval_terms\n"
     ]
    },
    {
     "name": "stderr",
     "output_type": "stream",
     "text": [
      "\u001b[32m[I 2023-02-21 20:43:10,058]\u001b[0m Trial 46 finished with value: 12.691553452282383 and parameters: {'learning_rate': 0.05226237675706839, 'validation_size': 0.15453291731088784, 'early_stopping_rounds': 116, 'early_stopping_tolerance': 0.00011140928437796568, 'max_rounds': 13098, 'min_samples_leaf': 2, 'max_leaves': 4}. Best is trial 1 with value: 11.721424841576487.\u001b[0m\n"
     ]
    },
    {
     "name": "stdout",
     "output_type": "stream",
     "text": [
      "2023-02-21 20:43:10,094 :: interpret.utils._binning :: Creating native dataset\n",
      "2023-02-21 20:43:10,581 :: interpret.glassbox.ebm.bin :: eval_terms\n",
      "2023-02-21 20:43:10,604 :: interpret.glassbox.ebm.bin :: eval_terms\n"
     ]
    },
    {
     "name": "stderr",
     "output_type": "stream",
     "text": [
      "\u001b[32m[I 2023-02-21 20:43:10,611]\u001b[0m Trial 51 finished with value: 12.314035048101985 and parameters: {'learning_rate': 0.0793509047995132, 'validation_size': 0.17176970117135026, 'early_stopping_rounds': 117, 'early_stopping_tolerance': 8.857850309471722e-05, 'max_rounds': 17165, 'min_samples_leaf': 2, 'max_leaves': 5}. Best is trial 1 with value: 11.721424841576487.\u001b[0m\n"
     ]
    },
    {
     "name": "stdout",
     "output_type": "stream",
     "text": [
      "2023-02-21 20:43:10,620 :: interpret.glassbox.ebm.bin :: eval_terms\n",
      "2023-02-21 20:43:10,626 :: interpret.glassbox.ebm.bin :: eval_terms\n",
      "2023-02-21 20:43:10,635 :: interpret.glassbox.ebm.bin :: eval_terms\n",
      "2023-02-21 20:43:10,643 :: interpret.glassbox.ebm.bin :: eval_terms\n",
      "2023-02-21 20:43:10,648 :: interpret.glassbox.ebm.bin :: eval_terms\n",
      "2023-02-21 20:43:10,652 :: interpret.glassbox.ebm.bin :: eval_terms\n",
      "2023-02-21 20:43:10,656 :: interpret.glassbox.ebm.bin :: eval_terms\n",
      "2023-02-21 20:43:10,660 :: interpret.glassbox.ebm.bin :: eval_terms\n",
      "2023-02-21 20:43:10,663 :: interpret.utils._binning :: Creating native dataset\n",
      "2023-02-21 20:43:10,669 :: interpret.glassbox.ebm.ebm :: Estimating with FAST\n",
      "2023-02-21 20:43:10,685 :: interpret.utils._binning :: Creating native dataset\n",
      "2023-02-21 20:43:10,866 :: interpret.glassbox.ebm.bin :: eval_terms\n",
      "2023-02-21 20:43:10,892 :: interpret.glassbox.ebm.bin :: eval_terms\n"
     ]
    },
    {
     "name": "stderr",
     "output_type": "stream",
     "text": [
      "\u001b[32m[I 2023-02-21 20:43:10,896]\u001b[0m Trial 48 finished with value: 12.566562502896048 and parameters: {'learning_rate': 0.05259089820324195, 'validation_size': 0.1537776473728562, 'early_stopping_rounds': 164, 'early_stopping_tolerance': 8.886719679858894e-05, 'max_rounds': 17193, 'min_samples_leaf': 2, 'max_leaves': 5}. Best is trial 1 with value: 11.721424841576487.\u001b[0m\n"
     ]
    },
    {
     "name": "stdout",
     "output_type": "stream",
     "text": [
      "2023-02-21 20:43:10,935 :: interpret.utils._binning :: Creating native dataset\n",
      "2023-02-21 20:43:11,075 :: interpret.glassbox.ebm.bin :: eval_terms\n",
      "2023-02-21 20:43:11,078 :: interpret.glassbox.ebm.bin :: eval_terms\n",
      "2023-02-21 20:43:11,082 :: interpret.glassbox.ebm.bin :: eval_terms\n",
      "2023-02-21 20:43:11,086 :: interpret.glassbox.ebm.bin :: eval_terms\n",
      "2023-02-21 20:43:11,090 :: interpret.glassbox.ebm.bin :: eval_terms\n",
      "2023-02-21 20:43:11,094 :: interpret.glassbox.ebm.bin :: eval_terms\n",
      "2023-02-21 20:43:11,098 :: interpret.glassbox.ebm.bin :: eval_terms\n",
      "2023-02-21 20:43:11,102 :: interpret.glassbox.ebm.bin :: eval_terms\n",
      "2023-02-21 20:43:11,105 :: interpret.utils._binning :: Creating native dataset\n",
      "2023-02-21 20:43:11,110 :: interpret.glassbox.ebm.ebm :: Estimating with FAST\n",
      "2023-02-21 20:43:11,546 :: interpret.glassbox.ebm.bin :: eval_terms\n",
      "2023-02-21 20:43:11,563 :: interpret.glassbox.ebm.bin :: eval_terms\n"
     ]
    },
    {
     "name": "stderr",
     "output_type": "stream",
     "text": [
      "\u001b[32m[I 2023-02-21 20:43:11,569]\u001b[0m Trial 49 finished with value: 12.782011144275224 and parameters: {'learning_rate': 0.05428006297125382, 'validation_size': 0.15431137130918177, 'early_stopping_rounds': 118, 'early_stopping_tolerance': 0.00013265208469778004, 'max_rounds': 17299, 'min_samples_leaf': 2, 'max_leaves': 4}. Best is trial 1 with value: 11.721424841576487.\u001b[0m\n"
     ]
    },
    {
     "name": "stdout",
     "output_type": "stream",
     "text": [
      "2023-02-21 20:43:11,577 :: interpret.glassbox.ebm.bin :: eval_terms\n",
      "2023-02-21 20:43:11,584 :: interpret.glassbox.ebm.bin :: eval_terms\n",
      "2023-02-21 20:43:11,589 :: interpret.glassbox.ebm.bin :: eval_terms\n",
      "2023-02-21 20:43:11,600 :: interpret.glassbox.ebm.bin :: eval_terms\n",
      "2023-02-21 20:43:11,604 :: interpret.glassbox.ebm.bin :: eval_terms\n",
      "2023-02-21 20:43:11,612 :: interpret.glassbox.ebm.bin :: eval_terms\n",
      "2023-02-21 20:43:11,617 :: interpret.glassbox.ebm.bin :: eval_terms\n",
      "2023-02-21 20:43:11,622 :: interpret.glassbox.ebm.bin :: eval_terms\n",
      "2023-02-21 20:43:11,627 :: interpret.utils._binning :: Creating native dataset\n",
      "2023-02-21 20:43:11,640 :: interpret.glassbox.ebm.ebm :: Estimating with FAST\n",
      "2023-02-21 20:43:11,650 :: interpret.utils._binning :: Creating native dataset\n",
      "2023-02-21 20:43:11,703 :: interpret.glassbox.ebm.bin :: eval_terms\n",
      "2023-02-21 20:43:11,706 :: interpret.glassbox.ebm.bin :: eval_terms\n",
      "2023-02-21 20:43:11,710 :: interpret.glassbox.ebm.bin :: eval_terms\n",
      "2023-02-21 20:43:11,713 :: interpret.glassbox.ebm.bin :: eval_terms\n",
      "2023-02-21 20:43:11,717 :: interpret.glassbox.ebm.bin :: eval_terms\n",
      "2023-02-21 20:43:11,720 :: interpret.glassbox.ebm.bin :: eval_terms\n",
      "2023-02-21 20:43:11,725 :: interpret.glassbox.ebm.bin :: eval_terms\n",
      "2023-02-21 20:43:11,729 :: interpret.glassbox.ebm.bin :: eval_terms\n",
      "2023-02-21 20:43:11,732 :: interpret.utils._binning :: Creating native dataset\n",
      "2023-02-21 20:43:11,736 :: interpret.glassbox.ebm.ebm :: Estimating with FAST\n",
      "2023-02-21 20:43:12,229 :: interpret.glassbox.ebm.bin :: eval_terms\n",
      "2023-02-21 20:43:12,253 :: interpret.glassbox.ebm.bin :: eval_terms\n",
      "2023-02-21 20:43:12,259 :: interpret.glassbox.ebm.bin :: eval_terms\n",
      "2023-02-21 20:43:12,263 :: interpret.glassbox.ebm.bin :: eval_terms\n",
      "2023-02-21 20:43:12,267 :: interpret.glassbox.ebm.bin :: eval_terms\n",
      "2023-02-21 20:43:12,271 :: interpret.glassbox.ebm.bin :: eval_terms\n",
      "2023-02-21 20:43:12,273 :: interpret.glassbox.ebm.bin :: eval_terms\n",
      "2023-02-21 20:43:12,278 :: interpret.glassbox.ebm.bin :: eval_terms\n",
      "2023-02-21 20:43:12,281 :: interpret.utils._binning :: Creating native dataset\n",
      "2023-02-21 20:43:12,287 :: interpret.glassbox.ebm.ebm :: Estimating with FAST\n",
      "2023-02-21 20:43:12,294 :: interpret.glassbox.ebm.bin :: eval_terms\n",
      "2023-02-21 20:43:12,312 :: interpret.glassbox.ebm.bin :: eval_terms\n"
     ]
    },
    {
     "name": "stderr",
     "output_type": "stream",
     "text": [
      "\u001b[32m[I 2023-02-21 20:43:12,317]\u001b[0m Trial 50 finished with value: 12.629714193162542 and parameters: {'learning_rate': 0.05246739739683604, 'validation_size': 0.17922665402800078, 'early_stopping_rounds': 132, 'early_stopping_tolerance': 2.3113138840464767e-05, 'max_rounds': 13028, 'min_samples_leaf': 2, 'max_leaves': 5}. Best is trial 1 with value: 11.721424841576487.\u001b[0m\n"
     ]
    },
    {
     "name": "stdout",
     "output_type": "stream",
     "text": [
      "2023-02-21 20:43:12,348 :: interpret.utils._binning :: Creating native dataset\n",
      "2023-02-21 20:43:12,534 :: interpret.glassbox.ebm.bin :: eval_terms\n",
      "2023-02-21 20:43:12,567 :: interpret.glassbox.ebm.bin :: eval_terms\n"
     ]
    },
    {
     "name": "stderr",
     "output_type": "stream",
     "text": [
      "\u001b[32m[I 2023-02-21 20:43:12,573]\u001b[0m Trial 52 finished with value: 12.38102447603978 and parameters: {'learning_rate': 0.05579069340198899, 'validation_size': 0.1736693070617147, 'early_stopping_rounds': 123, 'early_stopping_tolerance': 0.0005710998046048798, 'max_rounds': 13025, 'min_samples_leaf': 2, 'max_leaves': 5}. Best is trial 1 with value: 11.721424841576487.\u001b[0m\n"
     ]
    },
    {
     "name": "stdout",
     "output_type": "stream",
     "text": [
      "2023-02-21 20:43:12,609 :: interpret.utils._binning :: Creating native dataset\n",
      "2023-02-21 20:43:13,053 :: interpret.glassbox.ebm.bin :: eval_terms\n",
      "2023-02-21 20:43:13,069 :: interpret.glassbox.ebm.bin :: eval_terms\n"
     ]
    },
    {
     "name": "stderr",
     "output_type": "stream",
     "text": [
      "\u001b[32m[I 2023-02-21 20:43:13,074]\u001b[0m Trial 53 finished with value: 12.365196141640233 and parameters: {'learning_rate': 0.05633150147007003, 'validation_size': 0.1813954327686941, 'early_stopping_rounds': 118, 'early_stopping_tolerance': 0.000603175797475998, 'max_rounds': 13796, 'min_samples_leaf': 2, 'max_leaves': 5}. Best is trial 1 with value: 11.721424841576487.\u001b[0m\n"
     ]
    },
    {
     "name": "stdout",
     "output_type": "stream",
     "text": [
      "2023-02-21 20:43:13,110 :: interpret.utils._binning :: Creating native dataset\n",
      "2023-02-21 20:43:13,166 :: interpret.glassbox.ebm.bin :: eval_terms\n",
      "2023-02-21 20:43:13,171 :: interpret.glassbox.ebm.bin :: eval_terms\n",
      "2023-02-21 20:43:13,174 :: interpret.glassbox.ebm.bin :: eval_terms\n",
      "2023-02-21 20:43:13,178 :: interpret.glassbox.ebm.bin :: eval_terms\n",
      "2023-02-21 20:43:13,182 :: interpret.glassbox.ebm.bin :: eval_terms\n",
      "2023-02-21 20:43:13,186 :: interpret.glassbox.ebm.bin :: eval_terms\n",
      "2023-02-21 20:43:13,189 :: interpret.glassbox.ebm.bin :: eval_terms\n",
      "2023-02-21 20:43:13,193 :: interpret.glassbox.ebm.bin :: eval_terms\n",
      "2023-02-21 20:43:13,197 :: interpret.utils._binning :: Creating native dataset\n",
      "2023-02-21 20:43:13,202 :: interpret.glassbox.ebm.ebm :: Estimating with FAST\n",
      "2023-02-21 20:43:13,500 :: interpret.glassbox.ebm.bin :: eval_terms\n",
      "2023-02-21 20:43:13,515 :: interpret.glassbox.ebm.bin :: eval_terms\n"
     ]
    },
    {
     "name": "stderr",
     "output_type": "stream",
     "text": [
      "\u001b[32m[I 2023-02-21 20:43:13,520]\u001b[0m Trial 57 finished with value: 14.278454534380154 and parameters: {'learning_rate': 0.05889022561838547, 'validation_size': 0.17843721043533645, 'early_stopping_rounds': 132, 'early_stopping_tolerance': 2.2643996937200632e-05, 'max_rounds': 11782, 'min_samples_leaf': 4, 'max_leaves': 5}. Best is trial 1 with value: 11.721424841576487.\u001b[0m\n"
     ]
    },
    {
     "name": "stdout",
     "output_type": "stream",
     "text": [
      "2023-02-21 20:43:13,553 :: interpret.utils._binning :: Creating native dataset\n",
      "2023-02-21 20:43:13,603 :: interpret.glassbox.ebm.bin :: eval_terms\n",
      "2023-02-21 20:43:13,608 :: interpret.glassbox.ebm.bin :: eval_terms\n",
      "2023-02-21 20:43:13,615 :: interpret.glassbox.ebm.bin :: eval_terms\n",
      "2023-02-21 20:43:13,623 :: interpret.glassbox.ebm.bin :: eval_terms\n",
      "2023-02-21 20:43:13,628 :: interpret.glassbox.ebm.bin :: eval_terms\n",
      "2023-02-21 20:43:13,632 :: interpret.glassbox.ebm.bin :: eval_terms\n",
      "2023-02-21 20:43:13,638 :: interpret.glassbox.ebm.bin :: eval_terms\n",
      "2023-02-21 20:43:13,640 :: interpret.glassbox.ebm.bin :: eval_terms\n"
     ]
    },
    {
     "name": "stderr",
     "output_type": "stream",
     "text": [
      "\u001b[32m[I 2023-02-21 20:43:13,646]\u001b[0m Trial 54 finished with value: 12.202101689646419 and parameters: {'learning_rate': 0.056380411084051854, 'validation_size': 0.16881526457986468, 'early_stopping_rounds': 131, 'early_stopping_tolerance': 0.0005740191595330429, 'max_rounds': 18823, 'min_samples_leaf': 2, 'max_leaves': 5}. Best is trial 1 with value: 11.721424841576487.\u001b[0m\n"
     ]
    },
    {
     "name": "stdout",
     "output_type": "stream",
     "text": [
      "2023-02-21 20:43:13,650 :: interpret.glassbox.ebm.bin :: eval_terms\n",
      "2023-02-21 20:43:13,666 :: interpret.glassbox.ebm.bin :: eval_terms\n",
      "2023-02-21 20:43:13,671 :: interpret.utils._binning :: Creating native dataset\n",
      "2023-02-21 20:43:13,686 :: interpret.glassbox.ebm.ebm :: Estimating with FAST\n",
      "2023-02-21 20:43:13,699 :: interpret.utils._binning :: Creating native dataset\n",
      "2023-02-21 20:43:14,028 :: interpret.glassbox.ebm.bin :: eval_terms\n",
      "2023-02-21 20:43:14,032 :: interpret.glassbox.ebm.bin :: eval_terms\n",
      "2023-02-21 20:43:14,037 :: interpret.glassbox.ebm.bin :: eval_terms\n",
      "2023-02-21 20:43:14,041 :: interpret.glassbox.ebm.bin :: eval_terms\n",
      "2023-02-21 20:43:14,044 :: interpret.glassbox.ebm.bin :: eval_terms\n",
      "2023-02-21 20:43:14,047 :: interpret.glassbox.ebm.bin :: eval_terms\n",
      "2023-02-21 20:43:14,051 :: interpret.glassbox.ebm.bin :: eval_terms\n",
      "2023-02-21 20:43:14,054 :: interpret.glassbox.ebm.bin :: eval_terms\n",
      "2023-02-21 20:43:14,058 :: interpret.utils._binning :: Creating native dataset\n",
      "2023-02-21 20:43:14,063 :: interpret.glassbox.ebm.ebm :: Estimating with FAST\n",
      "2023-02-21 20:43:14,169 :: interpret.glassbox.ebm.bin :: eval_terms\n",
      "2023-02-21 20:43:14,187 :: interpret.glassbox.ebm.bin :: eval_terms\n",
      "2023-02-21 20:43:14,218 :: interpret.glassbox.ebm.bin :: eval_terms\n",
      "2023-02-21 20:43:14,271 :: interpret.glassbox.ebm.bin :: eval_terms\n"
     ]
    },
    {
     "name": "stderr",
     "output_type": "stream",
     "text": [
      "\u001b[32m[I 2023-02-21 20:43:14,277]\u001b[0m Trial 55 finished with value: 12.32432354584635 and parameters: {'learning_rate': 0.05888078182289367, 'validation_size': 0.1680665498045602, 'early_stopping_rounds': 135, 'early_stopping_tolerance': 0.0005005551282033051, 'max_rounds': 18806, 'min_samples_leaf': 2, 'max_leaves': 5}. Best is trial 1 with value: 11.721424841576487.\u001b[0m\n"
     ]
    },
    {
     "name": "stdout",
     "output_type": "stream",
     "text": [
      "2023-02-21 20:43:14,281 :: interpret.glassbox.ebm.bin :: eval_terms\n",
      "2023-02-21 20:43:14,293 :: interpret.glassbox.ebm.bin :: eval_terms\n",
      "2023-02-21 20:43:14,310 :: interpret.glassbox.ebm.bin :: eval_terms\n",
      "2023-02-21 20:43:14,320 :: interpret.glassbox.ebm.bin :: eval_terms\n",
      "2023-02-21 20:43:14,321 :: interpret.utils._binning :: Creating native dataset\n",
      "2023-02-21 20:43:14,324 :: interpret.glassbox.ebm.bin :: eval_terms\n",
      "2023-02-21 20:43:14,328 :: interpret.glassbox.ebm.bin :: eval_terms\n",
      "2023-02-21 20:43:14,340 :: interpret.glassbox.ebm.bin :: eval_terms\n",
      "2023-02-21 20:43:14,343 :: interpret.glassbox.ebm.bin :: eval_terms\n",
      "2023-02-21 20:43:14,346 :: interpret.glassbox.ebm.bin :: eval_terms\n",
      "2023-02-21 20:43:14,350 :: interpret.glassbox.ebm.bin :: eval_terms\n",
      "2023-02-21 20:43:14,353 :: interpret.utils._binning :: Creating native dataset\n",
      "2023-02-21 20:43:14,358 :: interpret.glassbox.ebm.bin :: eval_terms\n",
      "2023-02-21 20:43:14,363 :: interpret.glassbox.ebm.ebm :: Estimating with FAST\n",
      "2023-02-21 20:43:14,367 :: interpret.glassbox.ebm.bin :: eval_terms\n",
      "2023-02-21 20:43:14,375 :: interpret.glassbox.ebm.bin :: eval_terms\n",
      "2023-02-21 20:43:14,379 :: interpret.glassbox.ebm.bin :: eval_terms\n",
      "2023-02-21 20:43:14,383 :: interpret.utils._binning :: Creating native dataset\n",
      "2023-02-21 20:43:14,388 :: interpret.glassbox.ebm.ebm :: Estimating with FAST\n",
      "2023-02-21 20:43:14,470 :: interpret.glassbox.ebm.bin :: eval_terms\n",
      "2023-02-21 20:43:14,485 :: interpret.glassbox.ebm.bin :: eval_terms\n"
     ]
    },
    {
     "name": "stderr",
     "output_type": "stream",
     "text": [
      "\u001b[32m[I 2023-02-21 20:43:14,494]\u001b[0m Trial 56 finished with value: 12.56326156133539 and parameters: {'learning_rate': 0.05584230925586581, 'validation_size': 0.1845996878288954, 'early_stopping_rounds': 134, 'early_stopping_tolerance': 0.0002788840285766793, 'max_rounds': 18853, 'min_samples_leaf': 2, 'max_leaves': 5}. Best is trial 1 with value: 11.721424841576487.\u001b[0m\n"
     ]
    },
    {
     "name": "stdout",
     "output_type": "stream",
     "text": [
      "2023-02-21 20:43:14,541 :: interpret.utils._binning :: Creating native dataset\n",
      "2023-02-21 20:43:14,801 :: interpret.glassbox.ebm.bin :: eval_terms\n",
      "2023-02-21 20:43:14,816 :: interpret.glassbox.ebm.bin :: eval_terms\n"
     ]
    },
    {
     "name": "stderr",
     "output_type": "stream",
     "text": [
      "\u001b[32m[I 2023-02-21 20:43:14,824]\u001b[0m Trial 59 finished with value: 12.331238732533953 and parameters: {'learning_rate': 0.07910839763467405, 'validation_size': 0.16774183865472891, 'early_stopping_rounds': 133, 'early_stopping_tolerance': 0.00027066316281934403, 'max_rounds': 18729, 'min_samples_leaf': 2, 'max_leaves': 5}. Best is trial 1 with value: 11.721424841576487.\u001b[0m\n"
     ]
    },
    {
     "name": "stdout",
     "output_type": "stream",
     "text": [
      "2023-02-21 20:43:14,864 :: interpret.utils._binning :: Creating native dataset\n",
      "2023-02-21 20:43:15,050 :: interpret.glassbox.ebm.bin :: eval_terms\n",
      "2023-02-21 20:43:15,054 :: interpret.glassbox.ebm.bin :: eval_terms\n",
      "2023-02-21 20:43:15,057 :: interpret.glassbox.ebm.bin :: eval_terms\n",
      "2023-02-21 20:43:15,061 :: interpret.glassbox.ebm.bin :: eval_terms\n",
      "2023-02-21 20:43:15,064 :: interpret.glassbox.ebm.bin :: eval_terms\n",
      "2023-02-21 20:43:15,067 :: interpret.glassbox.ebm.bin :: eval_terms\n",
      "2023-02-21 20:43:15,071 :: interpret.glassbox.ebm.bin :: eval_terms\n",
      "2023-02-21 20:43:15,075 :: interpret.glassbox.ebm.bin :: eval_terms\n",
      "2023-02-21 20:43:15,078 :: interpret.utils._binning :: Creating native dataset\n",
      "2023-02-21 20:43:15,083 :: interpret.glassbox.ebm.ebm :: Estimating with FAST\n",
      "2023-02-21 20:43:15,286 :: interpret.glassbox.ebm.bin :: eval_terms\n",
      "2023-02-21 20:43:15,305 :: interpret.glassbox.ebm.bin :: eval_terms\n"
     ]
    },
    {
     "name": "stderr",
     "output_type": "stream",
     "text": [
      "\u001b[32m[I 2023-02-21 20:43:15,310]\u001b[0m Trial 60 finished with value: 12.302176274764461 and parameters: {'learning_rate': 0.07924414962650782, 'validation_size': 0.17045716247169146, 'early_stopping_rounds': 134, 'early_stopping_tolerance': 0.0002618503933067834, 'max_rounds': 18591, 'min_samples_leaf': 2, 'max_leaves': 5}. Best is trial 1 with value: 11.721424841576487.\u001b[0m\n"
     ]
    },
    {
     "name": "stdout",
     "output_type": "stream",
     "text": [
      "2023-02-21 20:43:15,347 :: interpret.utils._binning :: Creating native dataset\n",
      "2023-02-21 20:43:15,501 :: interpret.glassbox.ebm.bin :: eval_terms\n",
      "2023-02-21 20:43:15,506 :: interpret.glassbox.ebm.bin :: eval_terms\n",
      "2023-02-21 20:43:15,509 :: interpret.glassbox.ebm.bin :: eval_terms\n",
      "2023-02-21 20:43:15,513 :: interpret.glassbox.ebm.bin :: eval_terms\n",
      "2023-02-21 20:43:15,516 :: interpret.glassbox.ebm.bin :: eval_terms\n",
      "2023-02-21 20:43:15,521 :: interpret.glassbox.ebm.bin :: eval_terms\n",
      "2023-02-21 20:43:15,525 :: interpret.glassbox.ebm.bin :: eval_terms\n",
      "2023-02-21 20:43:15,530 :: interpret.glassbox.ebm.bin :: eval_terms\n",
      "2023-02-21 20:43:15,535 :: interpret.utils._binning :: Creating native dataset\n",
      "2023-02-21 20:43:15,541 :: interpret.glassbox.ebm.ebm :: Estimating with FAST\n",
      "2023-02-21 20:43:15,646 :: interpret.glassbox.ebm.bin :: eval_terms\n",
      "2023-02-21 20:43:15,654 :: interpret.glassbox.ebm.bin :: eval_terms\n",
      "2023-02-21 20:43:15,672 :: interpret.glassbox.ebm.bin :: eval_terms\n",
      "2023-02-21 20:43:15,717 :: interpret.glassbox.ebm.bin :: eval_terms\n",
      "2023-02-21 20:43:15,693 :: interpret.glassbox.ebm.bin :: eval_terms\n",
      "2023-02-21 20:43:15,774 :: interpret.glassbox.ebm.bin :: eval_terms\n",
      "2023-02-21 20:43:15,791 :: interpret.glassbox.ebm.bin :: eval_terms\n",
      "2023-02-21 20:43:15,794 :: interpret.glassbox.ebm.bin :: eval_terms\n"
     ]
    },
    {
     "name": "stderr",
     "output_type": "stream",
     "text": [
      "\u001b[32m[I 2023-02-21 20:43:15,800]\u001b[0m Trial 61 finished with value: 12.329276404558264 and parameters: {'learning_rate': 0.07941978763871482, 'validation_size': 0.17020820255034141, 'early_stopping_rounds': 158, 'early_stopping_tolerance': 0.0002689720775990004, 'max_rounds': 18793, 'min_samples_leaf': 2, 'max_leaves': 5}. Best is trial 1 with value: 11.721424841576487.\u001b[0m\n"
     ]
    },
    {
     "name": "stdout",
     "output_type": "stream",
     "text": [
      "2023-02-21 20:43:15,803 :: interpret.glassbox.ebm.bin :: eval_terms\n",
      "2023-02-21 20:43:15,831 :: interpret.glassbox.ebm.bin :: eval_terms\n",
      "2023-02-21 20:43:15,839 :: interpret.utils._binning :: Creating native dataset\n",
      "2023-02-21 20:43:15,842 :: interpret.utils._binning :: Creating native dataset\n",
      "2023-02-21 20:43:15,854 :: interpret.glassbox.ebm.ebm :: Estimating with FAST\n",
      "2023-02-21 20:43:16,474 :: interpret.glassbox.ebm.bin :: eval_terms\n",
      "2023-02-21 20:43:16,499 :: interpret.glassbox.ebm.bin :: eval_terms\n"
     ]
    },
    {
     "name": "stderr",
     "output_type": "stream",
     "text": [
      "\u001b[32m[I 2023-02-21 20:43:16,503]\u001b[0m Trial 58 finished with value: 12.328281483693852 and parameters: {'learning_rate': 0.0589861579647532, 'validation_size': 0.1704953274149585, 'early_stopping_rounds': 132, 'early_stopping_tolerance': 4.289936855978287e-05, 'max_rounds': 18794, 'min_samples_leaf': 2, 'max_leaves': 5}. Best is trial 1 with value: 11.721424841576487.\u001b[0m\n"
     ]
    },
    {
     "name": "stdout",
     "output_type": "stream",
     "text": [
      "2023-02-21 20:43:16,537 :: interpret.utils._binning :: Creating native dataset\n",
      "2023-02-21 20:43:16,725 :: interpret.glassbox.ebm.bin :: eval_terms\n",
      "2023-02-21 20:43:16,728 :: interpret.glassbox.ebm.bin :: eval_terms\n",
      "2023-02-21 20:43:16,732 :: interpret.glassbox.ebm.bin :: eval_terms\n",
      "2023-02-21 20:43:16,736 :: interpret.glassbox.ebm.bin :: eval_terms\n",
      "2023-02-21 20:43:16,739 :: interpret.glassbox.ebm.bin :: eval_terms\n",
      "2023-02-21 20:43:16,742 :: interpret.glassbox.ebm.bin :: eval_terms\n",
      "2023-02-21 20:43:16,745 :: interpret.glassbox.ebm.bin :: eval_terms\n",
      "2023-02-21 20:43:16,748 :: interpret.glassbox.ebm.bin :: eval_terms\n",
      "2023-02-21 20:43:16,751 :: interpret.utils._binning :: Creating native dataset\n",
      "2023-02-21 20:43:16,756 :: interpret.glassbox.ebm.ebm :: Estimating with FAST\n",
      "2023-02-21 20:43:16,962 :: interpret.glassbox.ebm.bin :: eval_terms\n",
      "2023-02-21 20:43:16,979 :: interpret.glassbox.ebm.bin :: eval_terms\n"
     ]
    },
    {
     "name": "stderr",
     "output_type": "stream",
     "text": [
      "\u001b[32m[I 2023-02-21 20:43:16,983]\u001b[0m Trial 63 finished with value: 14.857673024636977 and parameters: {'learning_rate': 0.06203786185443133, 'validation_size': 0.16335063010142375, 'early_stopping_rounds': 158, 'early_stopping_tolerance': 0.00026763524942623125, 'max_rounds': 18860, 'min_samples_leaf': 2, 'max_leaves': 3}. Best is trial 1 with value: 11.721424841576487.\u001b[0m\n"
     ]
    },
    {
     "name": "stdout",
     "output_type": "stream",
     "text": [
      "2023-02-21 20:43:17,025 :: interpret.glassbox.ebm.bin :: eval_terms\n",
      "2023-02-21 20:43:17,031 :: interpret.utils._binning :: Creating native dataset\n",
      "2023-02-21 20:43:17,033 :: interpret.glassbox.ebm.bin :: eval_terms\n",
      "2023-02-21 20:43:17,043 :: interpret.glassbox.ebm.bin :: eval_terms\n",
      "2023-02-21 20:43:17,049 :: interpret.glassbox.ebm.bin :: eval_terms\n",
      "2023-02-21 20:43:17,052 :: interpret.glassbox.ebm.bin :: eval_terms\n",
      "2023-02-21 20:43:17,055 :: interpret.glassbox.ebm.bin :: eval_terms\n",
      "2023-02-21 20:43:17,059 :: interpret.glassbox.ebm.bin :: eval_terms\n",
      "2023-02-21 20:43:17,062 :: interpret.glassbox.ebm.bin :: eval_terms\n",
      "2023-02-21 20:43:17,067 :: interpret.utils._binning :: Creating native dataset\n",
      "2023-02-21 20:43:17,073 :: interpret.glassbox.ebm.ebm :: Estimating with FAST\n",
      "2023-02-21 20:43:17,427 :: interpret.glassbox.ebm.bin :: eval_terms\n",
      "2023-02-21 20:43:17,431 :: interpret.glassbox.ebm.bin :: eval_terms\n",
      "2023-02-21 20:43:17,434 :: interpret.glassbox.ebm.bin :: eval_terms\n",
      "2023-02-21 20:43:17,437 :: interpret.glassbox.ebm.bin :: eval_terms\n",
      "2023-02-21 20:43:17,441 :: interpret.glassbox.ebm.bin :: eval_terms\n",
      "2023-02-21 20:43:17,445 :: interpret.glassbox.ebm.bin :: eval_terms\n",
      "2023-02-21 20:43:17,448 :: interpret.glassbox.ebm.bin :: eval_terms\n",
      "2023-02-21 20:43:17,451 :: interpret.glassbox.ebm.bin :: eval_terms\n",
      "2023-02-21 20:43:17,454 :: interpret.utils._binning :: Creating native dataset\n",
      "2023-02-21 20:43:17,462 :: interpret.glassbox.ebm.ebm :: Estimating with FAST\n",
      "2023-02-21 20:43:17,874 :: interpret.glassbox.ebm.bin :: eval_terms\n",
      "2023-02-21 20:43:17,892 :: interpret.glassbox.ebm.bin :: eval_terms\n"
     ]
    },
    {
     "name": "stderr",
     "output_type": "stream",
     "text": [
      "\u001b[32m[I 2023-02-21 20:43:17,897]\u001b[0m Trial 62 finished with value: 12.287833061849817 and parameters: {'learning_rate': 0.07939654639669252, 'validation_size': 0.16764403025547062, 'early_stopping_rounds': 158, 'early_stopping_tolerance': 0.00016493288342105214, 'max_rounds': 18947, 'min_samples_leaf': 2, 'max_leaves': 5}. Best is trial 1 with value: 11.721424841576487.\u001b[0m\n"
     ]
    },
    {
     "name": "stdout",
     "output_type": "stream",
     "text": [
      "2023-02-21 20:43:17,938 :: interpret.utils._binning :: Creating native dataset\n",
      "2023-02-21 20:43:18,060 :: interpret.glassbox.ebm.bin :: eval_terms\n",
      "2023-02-21 20:43:18,108 :: interpret.glassbox.ebm.bin :: eval_terms\n"
     ]
    },
    {
     "name": "stderr",
     "output_type": "stream",
     "text": [
      "\u001b[32m[I 2023-02-21 20:43:18,131]\u001b[0m Trial 65 finished with value: 13.42342146510953 and parameters: {'learning_rate': 0.03450564874218671, 'validation_size': 0.1522572542066919, 'early_stopping_rounds': 158, 'early_stopping_tolerance': 0.0003741967030727177, 'max_rounds': 19981, 'min_samples_leaf': 2, 'max_leaves': 3}. Best is trial 1 with value: 11.721424841576487.\u001b[0m\n"
     ]
    },
    {
     "name": "stdout",
     "output_type": "stream",
     "text": [
      "2023-02-21 20:43:18,189 :: interpret.utils._binning :: Creating native dataset\n",
      "2023-02-21 20:43:18,280 :: interpret.glassbox.ebm.bin :: eval_terms\n",
      "2023-02-21 20:43:18,283 :: interpret.glassbox.ebm.bin :: eval_terms\n",
      "2023-02-21 20:43:18,287 :: interpret.glassbox.ebm.bin :: eval_terms\n",
      "2023-02-21 20:43:18,291 :: interpret.glassbox.ebm.bin :: eval_terms\n",
      "2023-02-21 20:43:18,295 :: interpret.glassbox.ebm.bin :: eval_terms\n",
      "2023-02-21 20:43:18,298 :: interpret.glassbox.ebm.bin :: eval_terms\n",
      "2023-02-21 20:43:18,302 :: interpret.glassbox.ebm.bin :: eval_terms\n",
      "2023-02-21 20:43:18,305 :: interpret.glassbox.ebm.bin :: eval_terms\n",
      "2023-02-21 20:43:18,309 :: interpret.utils._binning :: Creating native dataset\n",
      "2023-02-21 20:43:18,315 :: interpret.glassbox.ebm.ebm :: Estimating with FAST\n",
      "2023-02-21 20:43:18,731 :: interpret.glassbox.ebm.bin :: eval_terms\n",
      "2023-02-21 20:43:18,734 :: interpret.glassbox.ebm.bin :: eval_terms\n",
      "2023-02-21 20:43:18,737 :: interpret.glassbox.ebm.bin :: eval_terms\n",
      "2023-02-21 20:43:18,742 :: interpret.glassbox.ebm.bin :: eval_terms\n",
      "2023-02-21 20:43:18,745 :: interpret.glassbox.ebm.bin :: eval_terms\n",
      "2023-02-21 20:43:18,749 :: interpret.glassbox.ebm.bin :: eval_terms\n",
      "2023-02-21 20:43:18,752 :: interpret.glassbox.ebm.bin :: eval_terms\n",
      "2023-02-21 20:43:18,756 :: interpret.glassbox.ebm.bin :: eval_terms\n",
      "2023-02-21 20:43:18,759 :: interpret.utils._binning :: Creating native dataset\n",
      "2023-02-21 20:43:18,766 :: interpret.glassbox.ebm.ebm :: Estimating with FAST\n",
      "2023-02-21 20:43:18,901 :: interpret.glassbox.ebm.bin :: eval_terms\n",
      "2023-02-21 20:43:18,905 :: interpret.glassbox.ebm.bin :: eval_terms\n",
      "2023-02-21 20:43:18,909 :: interpret.glassbox.ebm.bin :: eval_terms\n",
      "2023-02-21 20:43:18,914 :: interpret.glassbox.ebm.bin :: eval_terms\n",
      "2023-02-21 20:43:18,918 :: interpret.glassbox.ebm.bin :: eval_terms\n",
      "2023-02-21 20:43:18,921 :: interpret.glassbox.ebm.bin :: eval_terms\n",
      "2023-02-21 20:43:18,924 :: interpret.glassbox.ebm.bin :: eval_terms\n",
      "2023-02-21 20:43:18,928 :: interpret.glassbox.ebm.bin :: eval_terms\n",
      "2023-02-21 20:43:18,932 :: interpret.utils._binning :: Creating native dataset\n",
      "2023-02-21 20:43:18,937 :: interpret.glassbox.ebm.ebm :: Estimating with FAST\n",
      "2023-02-21 20:43:19,069 :: interpret.glassbox.ebm.bin :: eval_terms\n",
      "2023-02-21 20:43:19,089 :: interpret.glassbox.ebm.bin :: eval_terms\n"
     ]
    },
    {
     "name": "stderr",
     "output_type": "stream",
     "text": [
      "\u001b[32m[I 2023-02-21 20:43:19,094]\u001b[0m Trial 64 finished with value: 13.30226484013958 and parameters: {'learning_rate': 0.035169443522265996, 'validation_size': 0.16411196929041547, 'early_stopping_rounds': 162, 'early_stopping_tolerance': 0.0003695569470005582, 'max_rounds': 19070, 'min_samples_leaf': 2, 'max_leaves': 3}. Best is trial 1 with value: 11.721424841576487.\u001b[0m\n"
     ]
    },
    {
     "name": "stdout",
     "output_type": "stream",
     "text": [
      "2023-02-21 20:43:19,141 :: interpret.utils._binning :: Creating native dataset\n",
      "2023-02-21 20:43:19,535 :: interpret.glassbox.ebm.bin :: eval_terms\n",
      "2023-02-21 20:43:19,626 :: interpret.glassbox.ebm.bin :: eval_terms\n"
     ]
    },
    {
     "name": "stderr",
     "output_type": "stream",
     "text": [
      "\u001b[32m[I 2023-02-21 20:43:19,665]\u001b[0m Trial 68 finished with value: 13.236702046541067 and parameters: {'learning_rate': 0.08642234121622491, 'validation_size': 0.16377972798745977, 'early_stopping_rounds': 159, 'early_stopping_tolerance': 0.0003717160462560414, 'max_rounds': 17796, 'min_samples_leaf': 2, 'max_leaves': 3}. Best is trial 1 with value: 11.721424841576487.\u001b[0m\n"
     ]
    },
    {
     "name": "stdout",
     "output_type": "stream",
     "text": [
      "2023-02-21 20:43:19,713 :: interpret.utils._binning :: Creating native dataset\n",
      "2023-02-21 20:43:19,871 :: interpret.glassbox.ebm.bin :: eval_terms\n",
      "2023-02-21 20:43:19,889 :: interpret.glassbox.ebm.bin :: eval_terms\n",
      "2023-02-21 20:43:19,912 :: interpret.glassbox.ebm.bin :: eval_terms\n",
      "2023-02-21 20:43:19,915 :: interpret.glassbox.ebm.bin :: eval_terms\n",
      "2023-02-21 20:43:19,919 :: interpret.glassbox.ebm.bin :: eval_terms\n",
      "2023-02-21 20:43:19,922 :: interpret.glassbox.ebm.bin :: eval_terms\n",
      "2023-02-21 20:43:19,925 :: interpret.glassbox.ebm.bin :: eval_terms\n",
      "2023-02-21 20:43:19,929 :: interpret.glassbox.ebm.bin :: eval_terms\n",
      "2023-02-21 20:43:19,932 :: interpret.utils._binning :: Creating native dataset\n",
      "2023-02-21 20:43:19,939 :: interpret.glassbox.ebm.ebm :: Estimating with FAST\n",
      "2023-02-21 20:43:20,384 :: interpret.glassbox.ebm.bin :: eval_terms\n",
      "2023-02-21 20:43:20,425 :: interpret.glassbox.ebm.bin :: eval_terms\n"
     ]
    },
    {
     "name": "stderr",
     "output_type": "stream",
     "text": [
      "\u001b[32m[I 2023-02-21 20:43:20,432]\u001b[0m Trial 67 finished with value: 14.803629797821136 and parameters: {'learning_rate': 0.061471136123850675, 'validation_size': 0.16515612361298443, 'early_stopping_rounds': 156, 'early_stopping_tolerance': 0.0003743015176775717, 'max_rounds': 16600, 'min_samples_leaf': 2, 'max_leaves': 3}. Best is trial 1 with value: 11.721424841576487.\u001b[0m\n"
     ]
    },
    {
     "name": "stdout",
     "output_type": "stream",
     "text": [
      "2023-02-21 20:43:20,467 :: interpret.utils._binning :: Creating native dataset\n",
      "2023-02-21 20:43:20,870 :: interpret.glassbox.ebm.bin :: eval_terms\n",
      "2023-02-21 20:43:20,887 :: interpret.glassbox.ebm.bin :: eval_terms\n"
     ]
    },
    {
     "name": "stderr",
     "output_type": "stream",
     "text": [
      "\u001b[32m[I 2023-02-21 20:43:20,893]\u001b[0m Trial 69 finished with value: 11.832356806034998 and parameters: {'learning_rate': 0.08379779449611278, 'validation_size': 0.1521045981761161, 'early_stopping_rounds': 139, 'early_stopping_tolerance': 0.0003879274294352396, 'max_rounds': 19995, 'min_samples_leaf': 2, 'max_leaves': 3}. Best is trial 1 with value: 11.721424841576487.\u001b[0m\n"
     ]
    },
    {
     "name": "stdout",
     "output_type": "stream",
     "text": [
      "2023-02-21 20:43:20,928 :: interpret.utils._binning :: Creating native dataset\n",
      "2023-02-21 20:43:21,364 :: interpret.glassbox.ebm.bin :: eval_terms\n",
      "2023-02-21 20:43:21,386 :: interpret.glassbox.ebm.bin :: eval_terms\n"
     ]
    },
    {
     "name": "stderr",
     "output_type": "stream",
     "text": [
      "\u001b[32m[I 2023-02-21 20:43:21,393]\u001b[0m Trial 66 finished with value: 13.16343208595091 and parameters: {'learning_rate': 0.03578772431427015, 'validation_size': 0.15181925571994245, 'early_stopping_rounds': 160, 'early_stopping_tolerance': 0.0003828537803712192, 'max_rounds': 19945, 'min_samples_leaf': 2, 'max_leaves': 3}. Best is trial 1 with value: 11.721424841576487.\u001b[0m\n"
     ]
    },
    {
     "name": "stdout",
     "output_type": "stream",
     "text": [
      "2023-02-21 20:43:21,405 :: interpret.glassbox.ebm.bin :: eval_terms\n",
      "2023-02-21 20:43:21,430 :: interpret.glassbox.ebm.bin :: eval_terms\n"
     ]
    },
    {
     "name": "stderr",
     "output_type": "stream",
     "text": [
      "\u001b[32m[I 2023-02-21 20:43:21,440]\u001b[0m Trial 70 finished with value: 12.328869948523186 and parameters: {'learning_rate': 0.09013776656972478, 'validation_size': 0.15245390101529058, 'early_stopping_rounds': 126, 'early_stopping_tolerance': 0.0003626942164454859, 'max_rounds': 19885, 'min_samples_leaf': 2, 'max_leaves': 5}. Best is trial 1 with value: 11.721424841576487.\u001b[0m\n"
     ]
    },
    {
     "name": "stdout",
     "output_type": "stream",
     "text": [
      "2023-02-21 20:43:21,486 :: interpret.utils._binning :: Creating native dataset\n",
      "2023-02-21 20:43:21,526 :: interpret.utils._binning :: Creating native dataset\n",
      "2023-02-21 20:43:21,569 :: interpret.glassbox.ebm.bin :: eval_terms\n",
      "2023-02-21 20:43:21,573 :: interpret.glassbox.ebm.bin :: eval_terms\n",
      "2023-02-21 20:43:21,580 :: interpret.glassbox.ebm.bin :: eval_terms\n",
      "2023-02-21 20:43:21,584 :: interpret.glassbox.ebm.bin :: eval_terms\n",
      "2023-02-21 20:43:21,588 :: interpret.glassbox.ebm.bin :: eval_terms\n",
      "2023-02-21 20:43:21,594 :: interpret.glassbox.ebm.bin :: eval_terms\n",
      "2023-02-21 20:43:21,598 :: interpret.glassbox.ebm.bin :: eval_terms\n",
      "2023-02-21 20:43:21,602 :: interpret.glassbox.ebm.bin :: eval_terms\n",
      "2023-02-21 20:43:21,606 :: interpret.utils._binning :: Creating native dataset\n",
      "2023-02-21 20:43:21,612 :: interpret.glassbox.ebm.ebm :: Estimating with FAST\n",
      "2023-02-21 20:43:21,682 :: interpret.glassbox.ebm.bin :: eval_terms\n",
      "2023-02-21 20:43:21,687 :: interpret.glassbox.ebm.bin :: eval_terms\n",
      "2023-02-21 20:43:21,691 :: interpret.glassbox.ebm.bin :: eval_terms\n",
      "2023-02-21 20:43:21,697 :: interpret.glassbox.ebm.bin :: eval_terms\n",
      "2023-02-21 20:43:21,701 :: interpret.glassbox.ebm.bin :: eval_terms\n",
      "2023-02-21 20:43:21,705 :: interpret.glassbox.ebm.bin :: eval_terms\n",
      "2023-02-21 20:43:21,709 :: interpret.glassbox.ebm.bin :: eval_terms\n",
      "2023-02-21 20:43:21,716 :: interpret.glassbox.ebm.bin :: eval_terms\n",
      "2023-02-21 20:43:21,719 :: interpret.utils._binning :: Creating native dataset\n",
      "2023-02-21 20:43:21,726 :: interpret.glassbox.ebm.ebm :: Estimating with FAST\n",
      "2023-02-21 20:43:21,832 :: interpret.glassbox.ebm.bin :: eval_terms\n",
      "2023-02-21 20:43:21,837 :: interpret.glassbox.ebm.bin :: eval_terms\n",
      "2023-02-21 20:43:21,843 :: interpret.glassbox.ebm.bin :: eval_terms\n",
      "2023-02-21 20:43:21,846 :: interpret.glassbox.ebm.bin :: eval_terms\n",
      "2023-02-21 20:43:21,852 :: interpret.glassbox.ebm.bin :: eval_terms\n",
      "2023-02-21 20:43:21,856 :: interpret.glassbox.ebm.bin :: eval_terms\n",
      "2023-02-21 20:43:21,865 :: interpret.glassbox.ebm.bin :: eval_terms\n",
      "2023-02-21 20:43:21,872 :: interpret.glassbox.ebm.bin :: eval_terms\n",
      "2023-02-21 20:43:21,876 :: interpret.utils._binning :: Creating native dataset\n",
      "2023-02-21 20:43:21,882 :: interpret.glassbox.ebm.ebm :: Estimating with FAST\n",
      "2023-02-21 20:43:21,914 :: interpret.glassbox.ebm.bin :: eval_terms\n",
      "2023-02-21 20:43:21,938 :: interpret.glassbox.ebm.bin :: eval_terms\n"
     ]
    },
    {
     "name": "stderr",
     "output_type": "stream",
     "text": [
      "\u001b[32m[I 2023-02-21 20:43:21,945]\u001b[0m Trial 71 finished with value: 12.18789451511796 and parameters: {'learning_rate': 0.08459940935290494, 'validation_size': 0.15237472291099396, 'early_stopping_rounds': 89, 'early_stopping_tolerance': 0.00036894448009129935, 'max_rounds': 19975, 'min_samples_leaf': 2, 'max_leaves': 3}. Best is trial 1 with value: 11.721424841576487.\u001b[0m\n"
     ]
    },
    {
     "name": "stdout",
     "output_type": "stream",
     "text": [
      "2023-02-21 20:43:21,980 :: interpret.glassbox.ebm.bin :: eval_terms\n",
      "2023-02-21 20:43:21,993 :: interpret.glassbox.ebm.bin :: eval_terms\n",
      "2023-02-21 20:43:21,995 :: interpret.utils._binning :: Creating native dataset\n",
      "2023-02-21 20:43:22,000 :: interpret.glassbox.ebm.bin :: eval_terms\n",
      "2023-02-21 20:43:22,010 :: interpret.glassbox.ebm.bin :: eval_terms\n",
      "2023-02-21 20:43:22,014 :: interpret.glassbox.ebm.bin :: eval_terms\n",
      "2023-02-21 20:43:22,017 :: interpret.glassbox.ebm.bin :: eval_terms\n",
      "2023-02-21 20:43:22,021 :: interpret.glassbox.ebm.bin :: eval_terms\n",
      "2023-02-21 20:43:22,026 :: interpret.glassbox.ebm.bin :: eval_terms\n",
      "2023-02-21 20:43:22,031 :: interpret.utils._binning :: Creating native dataset\n",
      "2023-02-21 20:43:22,039 :: interpret.glassbox.ebm.ebm :: Estimating with FAST\n",
      "2023-02-21 20:43:22,491 :: interpret.glassbox.ebm.bin :: eval_terms\n",
      "2023-02-21 20:43:22,498 :: interpret.glassbox.ebm.bin :: eval_terms\n",
      "2023-02-21 20:43:22,503 :: interpret.glassbox.ebm.bin :: eval_terms\n",
      "2023-02-21 20:43:22,507 :: interpret.glassbox.ebm.bin :: eval_terms\n",
      "2023-02-21 20:43:22,512 :: interpret.glassbox.ebm.bin :: eval_terms\n",
      "2023-02-21 20:43:22,518 :: interpret.glassbox.ebm.bin :: eval_terms\n",
      "2023-02-21 20:43:22,525 :: interpret.glassbox.ebm.bin :: eval_terms\n",
      "2023-02-21 20:43:22,532 :: interpret.glassbox.ebm.bin :: eval_terms\n",
      "2023-02-21 20:43:22,540 :: interpret.utils._binning :: Creating native dataset\n",
      "2023-02-21 20:43:22,546 :: interpret.glassbox.ebm.ebm :: Estimating with FAST\n",
      "2023-02-21 20:43:22,551 :: interpret.glassbox.ebm.bin :: eval_terms\n",
      "2023-02-21 20:43:22,555 :: interpret.glassbox.ebm.bin :: eval_terms\n",
      "2023-02-21 20:43:22,560 :: interpret.glassbox.ebm.bin :: eval_terms\n",
      "2023-02-21 20:43:22,563 :: interpret.glassbox.ebm.bin :: eval_terms\n",
      "2023-02-21 20:43:22,567 :: interpret.glassbox.ebm.bin :: eval_terms\n",
      "2023-02-21 20:43:22,571 :: interpret.glassbox.ebm.bin :: eval_terms\n",
      "2023-02-21 20:43:22,575 :: interpret.glassbox.ebm.bin :: eval_terms\n",
      "2023-02-21 20:43:22,579 :: interpret.glassbox.ebm.bin :: eval_terms\n",
      "2023-02-21 20:43:22,583 :: interpret.utils._binning :: Creating native dataset\n",
      "2023-02-21 20:43:22,589 :: interpret.glassbox.ebm.ebm :: Estimating with FAST\n",
      "2023-02-21 20:43:22,773 :: interpret.glassbox.ebm.bin :: eval_terms\n",
      "2023-02-21 20:43:22,808 :: interpret.glassbox.ebm.bin :: eval_terms\n"
     ]
    },
    {
     "name": "stderr",
     "output_type": "stream",
     "text": [
      "\u001b[32m[I 2023-02-21 20:43:22,817]\u001b[0m Trial 72 finished with value: 12.242837917200472 and parameters: {'learning_rate': 0.08785917583353924, 'validation_size': 0.15248854287088073, 'early_stopping_rounds': 191, 'early_stopping_tolerance': 0.0001644106266471287, 'max_rounds': 17721, 'min_samples_leaf': 2, 'max_leaves': 5}. Best is trial 1 with value: 11.721424841576487.\u001b[0m\n"
     ]
    },
    {
     "name": "stdout",
     "output_type": "stream",
     "text": [
      "2023-02-21 20:43:22,863 :: interpret.utils._binning :: Creating native dataset\n",
      "2023-02-21 20:43:23,493 :: interpret.glassbox.ebm.bin :: eval_terms\n",
      "2023-02-21 20:43:23,513 :: interpret.glassbox.ebm.bin :: eval_terms\n"
     ]
    },
    {
     "name": "stderr",
     "output_type": "stream",
     "text": [
      "\u001b[32m[I 2023-02-21 20:43:23,522]\u001b[0m Trial 75 finished with value: 14.066196474359817 and parameters: {'learning_rate': 0.07418706701742071, 'validation_size': 0.1563127832663104, 'early_stopping_rounds': 169, 'early_stopping_tolerance': 0.0006486241669190029, 'max_rounds': 17606, 'min_samples_leaf': 4, 'max_leaves': 5}. Best is trial 1 with value: 11.721424841576487.\u001b[0m\n"
     ]
    },
    {
     "name": "stdout",
     "output_type": "stream",
     "text": [
      "2023-02-21 20:43:23,559 :: interpret.utils._binning :: Creating native dataset\n",
      "2023-02-21 20:43:23,778 :: interpret.glassbox.ebm.bin :: eval_terms\n",
      "2023-02-21 20:43:23,795 :: interpret.glassbox.ebm.bin :: eval_terms\n"
     ]
    },
    {
     "name": "stderr",
     "output_type": "stream",
     "text": [
      "\u001b[32m[I 2023-02-21 20:43:23,801]\u001b[0m Trial 76 finished with value: 14.420997601101462 and parameters: {'learning_rate': 0.09615609378578889, 'validation_size': 0.15677355419439507, 'early_stopping_rounds': 171, 'early_stopping_tolerance': 0.0001709773638750243, 'max_rounds': 19892, 'min_samples_leaf': 4, 'max_leaves': 4}. Best is trial 1 with value: 11.721424841576487.\u001b[0m\n"
     ]
    },
    {
     "name": "stdout",
     "output_type": "stream",
     "text": [
      "2023-02-21 20:43:23,839 :: interpret.utils._binning :: Creating native dataset\n",
      "2023-02-21 20:43:23,991 :: interpret.glassbox.ebm.bin :: eval_terms\n",
      "2023-02-21 20:43:24,009 :: interpret.glassbox.ebm.bin :: eval_terms\n"
     ]
    },
    {
     "name": "stderr",
     "output_type": "stream",
     "text": [
      "\u001b[32m[I 2023-02-21 20:43:24,014]\u001b[0m Trial 73 finished with value: 12.32645848372452 and parameters: {'learning_rate': 0.08804829196576978, 'validation_size': 0.1500914945537264, 'early_stopping_rounds': 188, 'early_stopping_tolerance': 0.00017011733322653215, 'max_rounds': 19972, 'min_samples_leaf': 2, 'max_leaves': 5}. Best is trial 1 with value: 11.721424841576487.\u001b[0m\n"
     ]
    },
    {
     "name": "stdout",
     "output_type": "stream",
     "text": [
      "2023-02-21 20:43:24,075 :: interpret.utils._binning :: Creating native dataset\n",
      "2023-02-21 20:43:24,331 :: interpret.glassbox.ebm.bin :: eval_terms\n",
      "2023-02-21 20:43:24,342 :: interpret.glassbox.ebm.bin :: eval_terms\n",
      "2023-02-21 20:43:24,346 :: interpret.glassbox.ebm.bin :: eval_terms\n",
      "2023-02-21 20:43:24,365 :: interpret.glassbox.ebm.bin :: eval_terms\n",
      "2023-02-21 20:43:24,408 :: interpret.glassbox.ebm.bin :: eval_terms\n",
      "2023-02-21 20:43:24,427 :: interpret.glassbox.ebm.bin :: eval_terms\n",
      "2023-02-21 20:43:24,430 :: interpret.glassbox.ebm.bin :: eval_terms\n",
      "2023-02-21 20:43:24,434 :: interpret.glassbox.ebm.bin :: eval_terms\n",
      "2023-02-21 20:43:24,438 :: interpret.utils._binning :: Creating native dataset\n",
      "2023-02-21 20:43:24,443 :: interpret.glassbox.ebm.ebm :: Estimating with FAST\n",
      "2023-02-21 20:43:24,478 :: interpret.glassbox.ebm.bin :: eval_terms\n",
      "2023-02-21 20:43:24,497 :: interpret.glassbox.ebm.bin :: eval_terms\n"
     ]
    },
    {
     "name": "stderr",
     "output_type": "stream",
     "text": [
      "\u001b[32m[I 2023-02-21 20:43:24,504]\u001b[0m Trial 74 finished with value: 12.489858359909208 and parameters: {'learning_rate': 0.09359515077406913, 'validation_size': 0.1562272728493609, 'early_stopping_rounds': 190, 'early_stopping_tolerance': 0.0001601757929379748, 'max_rounds': 16521, 'min_samples_leaf': 2, 'max_leaves': 5}. Best is trial 1 with value: 11.721424841576487.\u001b[0m\n"
     ]
    },
    {
     "name": "stdout",
     "output_type": "stream",
     "text": [
      "2023-02-21 20:43:24,543 :: interpret.utils._binning :: Creating native dataset\n",
      "2023-02-21 20:43:24,594 :: interpret.glassbox.ebm.bin :: eval_terms\n",
      "2023-02-21 20:43:24,599 :: interpret.glassbox.ebm.bin :: eval_terms\n",
      "2023-02-21 20:43:24,606 :: interpret.glassbox.ebm.bin :: eval_terms\n",
      "2023-02-21 20:43:24,609 :: interpret.glassbox.ebm.bin :: eval_terms\n",
      "2023-02-21 20:43:24,614 :: interpret.glassbox.ebm.bin :: eval_terms\n",
      "2023-02-21 20:43:24,618 :: interpret.glassbox.ebm.bin :: eval_terms\n",
      "2023-02-21 20:43:24,622 :: interpret.glassbox.ebm.bin :: eval_terms\n",
      "2023-02-21 20:43:24,625 :: interpret.glassbox.ebm.bin :: eval_terms\n",
      "2023-02-21 20:43:24,629 :: interpret.utils._binning :: Creating native dataset\n",
      "2023-02-21 20:43:24,634 :: interpret.glassbox.ebm.ebm :: Estimating with FAST\n",
      "2023-02-21 20:43:24,682 :: interpret.glassbox.ebm.bin :: eval_terms\n",
      "2023-02-21 20:43:24,686 :: interpret.glassbox.ebm.bin :: eval_terms\n",
      "2023-02-21 20:43:24,691 :: interpret.glassbox.ebm.bin :: eval_terms\n",
      "2023-02-21 20:43:24,696 :: interpret.glassbox.ebm.bin :: eval_terms\n",
      "2023-02-21 20:43:24,701 :: interpret.glassbox.ebm.bin :: eval_terms\n",
      "2023-02-21 20:43:24,705 :: interpret.glassbox.ebm.bin :: eval_terms\n",
      "2023-02-21 20:43:24,709 :: interpret.glassbox.ebm.bin :: eval_terms\n",
      "2023-02-21 20:43:24,712 :: interpret.glassbox.ebm.bin :: eval_terms\n",
      "2023-02-21 20:43:24,717 :: interpret.utils._binning :: Creating native dataset\n",
      "2023-02-21 20:43:24,723 :: interpret.glassbox.ebm.ebm :: Estimating with FAST\n",
      "2023-02-21 20:43:25,545 :: interpret.glassbox.ebm.bin :: eval_terms\n",
      "2023-02-21 20:43:25,558 :: interpret.glassbox.ebm.bin :: eval_terms\n",
      "2023-02-21 20:43:25,561 :: interpret.glassbox.ebm.bin :: eval_terms\n",
      "2023-02-21 20:43:25,565 :: interpret.glassbox.ebm.bin :: eval_terms\n",
      "2023-02-21 20:43:25,568 :: interpret.glassbox.ebm.bin :: eval_terms\n",
      "2023-02-21 20:43:25,573 :: interpret.glassbox.ebm.bin :: eval_terms\n",
      "2023-02-21 20:43:25,576 :: interpret.glassbox.ebm.bin :: eval_terms\n",
      "2023-02-21 20:43:25,579 :: interpret.glassbox.ebm.bin :: eval_terms\n",
      "2023-02-21 20:43:25,583 :: interpret.utils._binning :: Creating native dataset\n",
      "2023-02-21 20:43:25,589 :: interpret.glassbox.ebm.ebm :: Estimating with FAST\n",
      "2023-02-21 20:43:25,631 :: interpret.glassbox.ebm.bin :: eval_terms\n",
      "2023-02-21 20:43:25,661 :: interpret.glassbox.ebm.bin :: eval_terms\n"
     ]
    },
    {
     "name": "stderr",
     "output_type": "stream",
     "text": [
      "\u001b[32m[I 2023-02-21 20:43:25,667]\u001b[0m Trial 79 finished with value: 14.469701406006426 and parameters: {'learning_rate': 0.09396097756320493, 'validation_size': 0.1565705021955583, 'early_stopping_rounds': 54, 'early_stopping_tolerance': 0.0004580729697102225, 'max_rounds': 19278, 'min_samples_leaf': 2, 'max_leaves': 3}. Best is trial 1 with value: 11.721424841576487.\u001b[0m\n"
     ]
    },
    {
     "name": "stdout",
     "output_type": "stream",
     "text": [
      "2023-02-21 20:43:25,703 :: interpret.glassbox.ebm.bin :: eval_terms\n",
      "2023-02-21 20:43:25,715 :: interpret.glassbox.ebm.bin :: eval_terms\n",
      "2023-02-21 20:43:25,718 :: interpret.utils._binning :: Creating native dataset\n",
      "2023-02-21 20:43:25,721 :: interpret.glassbox.ebm.bin :: eval_terms\n",
      "2023-02-21 20:43:25,735 :: interpret.glassbox.ebm.bin :: eval_terms\n",
      "2023-02-21 20:43:25,739 :: interpret.glassbox.ebm.bin :: eval_terms\n",
      "2023-02-21 20:43:25,743 :: interpret.glassbox.ebm.bin :: eval_terms\n",
      "2023-02-21 20:43:25,747 :: interpret.glassbox.ebm.bin :: eval_terms\n",
      "2023-02-21 20:43:25,752 :: interpret.glassbox.ebm.bin :: eval_terms\n",
      "2023-02-21 20:43:25,756 :: interpret.utils._binning :: Creating native dataset\n",
      "2023-02-21 20:43:25,761 :: interpret.glassbox.ebm.ebm :: Estimating with FAST\n",
      "2023-02-21 20:43:26,121 :: interpret.glassbox.ebm.bin :: eval_terms\n",
      "2023-02-21 20:43:26,140 :: interpret.glassbox.ebm.bin :: eval_terms\n"
     ]
    },
    {
     "name": "stderr",
     "output_type": "stream",
     "text": [
      "\u001b[32m[I 2023-02-21 20:43:26,146]\u001b[0m Trial 78 finished with value: 12.561622296595836 and parameters: {'learning_rate': 0.07400013844037404, 'validation_size': 0.1560532082891733, 'early_stopping_rounds': 171, 'early_stopping_tolerance': 0.0004609326937319732, 'max_rounds': 17607, 'min_samples_leaf': 2, 'max_leaves': 5}. Best is trial 1 with value: 11.721424841576487.\u001b[0m\n"
     ]
    },
    {
     "name": "stdout",
     "output_type": "stream",
     "text": [
      "2023-02-21 20:43:26,185 :: interpret.utils._binning :: Creating native dataset\n",
      "2023-02-21 20:43:26,465 :: interpret.glassbox.ebm.bin :: eval_terms\n",
      "2023-02-21 20:43:26,482 :: interpret.glassbox.ebm.bin :: eval_terms\n"
     ]
    },
    {
     "name": "stderr",
     "output_type": "stream",
     "text": [
      "\u001b[32m[I 2023-02-21 20:43:26,487]\u001b[0m Trial 80 finished with value: 13.437310875639854 and parameters: {'learning_rate': 0.09381256722855144, 'validation_size': 0.15652316522659415, 'early_stopping_rounds': 190, 'early_stopping_tolerance': 0.00040912868391593943, 'max_rounds': 19388, 'min_samples_leaf': 2, 'max_leaves': 3}. Best is trial 1 with value: 11.721424841576487.\u001b[0m\n"
     ]
    },
    {
     "name": "stdout",
     "output_type": "stream",
     "text": [
      "2023-02-21 20:43:26,524 :: interpret.utils._binning :: Creating native dataset\n",
      "2023-02-21 20:43:26,723 :: interpret.glassbox.ebm.bin :: eval_terms\n",
      "2023-02-21 20:43:26,767 :: interpret.glassbox.ebm.bin :: eval_terms\n"
     ]
    },
    {
     "name": "stderr",
     "output_type": "stream",
     "text": [
      "\u001b[32m[I 2023-02-21 20:43:26,807]\u001b[0m Trial 77 finished with value: 12.388651148719559 and parameters: {'learning_rate': 0.09142430284181044, 'validation_size': 0.15659312447636217, 'early_stopping_rounds': 192, 'early_stopping_tolerance': 0.00016789594676482977, 'max_rounds': 17690, 'min_samples_leaf': 2, 'max_leaves': 5}. Best is trial 1 with value: 11.721424841576487.\u001b[0m\n"
     ]
    },
    {
     "name": "stdout",
     "output_type": "stream",
     "text": [
      "2023-02-21 20:43:26,844 :: interpret.utils._binning :: Creating native dataset\n",
      "2023-02-21 20:43:26,862 :: interpret.glassbox.ebm.bin :: eval_terms\n",
      "2023-02-21 20:43:26,880 :: interpret.glassbox.ebm.bin :: eval_terms\n"
     ]
    },
    {
     "name": "stderr",
     "output_type": "stream",
     "text": [
      "\u001b[32m[I 2023-02-21 20:43:26,885]\u001b[0m Trial 81 finished with value: 13.453017504036756 and parameters: {'learning_rate': 0.0962652037437719, 'validation_size': 0.1560499623682858, 'early_stopping_rounds': 190, 'early_stopping_tolerance': 0.0004588021129373533, 'max_rounds': 19242, 'min_samples_leaf': 2, 'max_leaves': 3}. Best is trial 1 with value: 11.721424841576487.\u001b[0m\n"
     ]
    },
    {
     "name": "stdout",
     "output_type": "stream",
     "text": [
      "2023-02-21 20:43:26,963 :: interpret.utils._binning :: Creating native dataset\n",
      "2023-02-21 20:43:27,212 :: interpret.glassbox.ebm.bin :: eval_terms\n",
      "2023-02-21 20:43:27,216 :: interpret.glassbox.ebm.bin :: eval_terms\n",
      "2023-02-21 20:43:27,219 :: interpret.glassbox.ebm.bin :: eval_terms\n",
      "2023-02-21 20:43:27,223 :: interpret.glassbox.ebm.bin :: eval_terms\n",
      "2023-02-21 20:43:27,227 :: interpret.glassbox.ebm.bin :: eval_terms\n",
      "2023-02-21 20:43:27,231 :: interpret.glassbox.ebm.bin :: eval_terms\n",
      "2023-02-21 20:43:27,235 :: interpret.glassbox.ebm.bin :: eval_terms\n",
      "2023-02-21 20:43:27,238 :: interpret.glassbox.ebm.bin :: eval_terms\n",
      "2023-02-21 20:43:27,241 :: interpret.utils._binning :: Creating native dataset\n",
      "2023-02-21 20:43:27,247 :: interpret.glassbox.ebm.ebm :: Estimating with FAST\n",
      "2023-02-21 20:43:27,457 :: interpret.glassbox.ebm.bin :: eval_terms\n",
      "2023-02-21 20:43:27,478 :: interpret.glassbox.ebm.bin :: eval_terms\n"
     ]
    },
    {
     "name": "stderr",
     "output_type": "stream",
     "text": [
      "\u001b[32m[I 2023-02-21 20:43:27,484]\u001b[0m Trial 82 finished with value: 13.187558544564604 and parameters: {'learning_rate': 0.08321362854549216, 'validation_size': 0.1599241523604372, 'early_stopping_rounds': 192, 'early_stopping_tolerance': 0.00047141674953706225, 'max_rounds': 19475, 'min_samples_leaf': 2, 'max_leaves': 3}. Best is trial 1 with value: 11.721424841576487.\u001b[0m\n"
     ]
    },
    {
     "name": "stdout",
     "output_type": "stream",
     "text": [
      "2023-02-21 20:43:27,524 :: interpret.utils._binning :: Creating native dataset\n",
      "2023-02-21 20:43:27,659 :: interpret.glassbox.ebm.bin :: eval_terms\n",
      "2023-02-21 20:43:27,664 :: interpret.glassbox.ebm.bin :: eval_terms\n",
      "2023-02-21 20:43:27,669 :: interpret.glassbox.ebm.bin :: eval_terms\n",
      "2023-02-21 20:43:27,672 :: interpret.glassbox.ebm.bin :: eval_terms\n",
      "2023-02-21 20:43:27,681 :: interpret.glassbox.ebm.bin :: eval_terms\n",
      "2023-02-21 20:43:27,688 :: interpret.glassbox.ebm.bin :: eval_terms\n",
      "2023-02-21 20:43:27,692 :: interpret.glassbox.ebm.bin :: eval_terms\n",
      "2023-02-21 20:43:27,696 :: interpret.glassbox.ebm.bin :: eval_terms\n",
      "2023-02-21 20:43:27,700 :: interpret.utils._binning :: Creating native dataset\n",
      "2023-02-21 20:43:27,708 :: interpret.glassbox.ebm.ebm :: Estimating with FAST\n",
      "2023-02-21 20:43:27,773 :: interpret.glassbox.ebm.bin :: eval_terms\n",
      "2023-02-21 20:43:27,779 :: interpret.glassbox.ebm.bin :: eval_terms\n",
      "2023-02-21 20:43:27,786 :: interpret.glassbox.ebm.bin :: eval_terms\n",
      "2023-02-21 20:43:27,790 :: interpret.glassbox.ebm.bin :: eval_terms\n",
      "2023-02-21 20:43:27,794 :: interpret.glassbox.ebm.bin :: eval_terms\n",
      "2023-02-21 20:43:27,798 :: interpret.glassbox.ebm.bin :: eval_terms\n",
      "2023-02-21 20:43:27,804 :: interpret.glassbox.ebm.bin :: eval_terms\n",
      "2023-02-21 20:43:27,808 :: interpret.glassbox.ebm.bin :: eval_terms\n",
      "2023-02-21 20:43:27,812 :: interpret.utils._binning :: Creating native dataset\n",
      "2023-02-21 20:43:27,818 :: interpret.glassbox.ebm.ebm :: Estimating with FAST\n",
      "2023-02-21 20:43:28,084 :: interpret.glassbox.ebm.bin :: eval_terms\n",
      "2023-02-21 20:43:28,090 :: interpret.glassbox.ebm.bin :: eval_terms\n",
      "2023-02-21 20:43:28,096 :: interpret.glassbox.ebm.bin :: eval_terms\n",
      "2023-02-21 20:43:28,097 :: interpret.glassbox.ebm.bin :: eval_terms\n",
      "2023-02-21 20:43:28,103 :: interpret.glassbox.ebm.bin :: eval_terms\n",
      "2023-02-21 20:43:28,106 :: interpret.glassbox.ebm.bin :: eval_terms\n",
      "2023-02-21 20:43:28,110 :: interpret.glassbox.ebm.bin :: eval_terms\n",
      "2023-02-21 20:43:28,116 :: interpret.glassbox.ebm.bin :: eval_terms\n",
      "2023-02-21 20:43:28,119 :: interpret.glassbox.ebm.bin :: eval_terms\n",
      "2023-02-21 20:43:28,125 :: interpret.glassbox.ebm.bin :: eval_terms\n",
      "2023-02-21 20:43:28,129 :: interpret.glassbox.ebm.bin :: eval_terms\n",
      "2023-02-21 20:43:28,133 :: interpret.glassbox.ebm.bin :: eval_terms\n",
      "2023-02-21 20:43:28,138 :: interpret.glassbox.ebm.bin :: eval_terms\n",
      "2023-02-21 20:43:28,147 :: interpret.glassbox.ebm.bin :: eval_terms\n",
      "2023-02-21 20:43:28,151 :: interpret.utils._binning :: Creating native dataset\n",
      "2023-02-21 20:43:28,155 :: interpret.glassbox.ebm.bin :: eval_terms\n",
      "2023-02-21 20:43:28,160 :: interpret.glassbox.ebm.ebm :: Estimating with FAST\n",
      "2023-02-21 20:43:28,166 :: interpret.glassbox.ebm.bin :: eval_terms\n",
      "2023-02-21 20:43:28,173 :: interpret.utils._binning :: Creating native dataset\n",
      "2023-02-21 20:43:28,178 :: interpret.glassbox.ebm.ebm :: Estimating with FAST\n",
      "2023-02-21 20:43:28,411 :: interpret.glassbox.ebm.bin :: eval_terms\n",
      "2023-02-21 20:43:28,468 :: interpret.glassbox.ebm.bin :: eval_terms\n"
     ]
    },
    {
     "name": "stderr",
     "output_type": "stream",
     "text": [
      "\u001b[32m[I 2023-02-21 20:43:28,482]\u001b[0m Trial 84 finished with value: 16.80034456173803 and parameters: {'learning_rate': 0.09972144862620393, 'validation_size': 0.16016728357491739, 'early_stopping_rounds': 139, 'early_stopping_tolerance': 0.00042599494953079813, 'max_rounds': 19356, 'min_samples_leaf': 5, 'max_leaves': 3}. Best is trial 1 with value: 11.721424841576487.\u001b[0m\n"
     ]
    },
    {
     "name": "stdout",
     "output_type": "stream",
     "text": [
      "2023-02-21 20:43:28,503 :: interpret.glassbox.ebm.bin :: eval_terms\n",
      "2023-02-21 20:43:28,512 :: interpret.glassbox.ebm.bin :: eval_terms\n",
      "2023-02-21 20:43:28,530 :: interpret.glassbox.ebm.bin :: eval_terms\n",
      "2023-02-21 20:43:28,540 :: interpret.glassbox.ebm.bin :: eval_terms\n",
      "2023-02-21 20:43:28,547 :: interpret.utils._binning :: Creating native dataset\n",
      "2023-02-21 20:43:28,551 :: interpret.glassbox.ebm.bin :: eval_terms\n",
      "2023-02-21 20:43:28,560 :: interpret.glassbox.ebm.bin :: eval_terms\n",
      "2023-02-21 20:43:28,570 :: interpret.glassbox.ebm.bin :: eval_terms\n",
      "2023-02-21 20:43:28,575 :: interpret.glassbox.ebm.bin :: eval_terms\n",
      "2023-02-21 20:43:28,579 :: interpret.utils._binning :: Creating native dataset\n",
      "2023-02-21 20:43:28,584 :: interpret.glassbox.ebm.ebm :: Estimating with FAST\n",
      "2023-02-21 20:43:28,944 :: interpret.glassbox.ebm.bin :: eval_terms\n",
      "2023-02-21 20:43:28,963 :: interpret.glassbox.ebm.bin :: eval_terms\n"
     ]
    },
    {
     "name": "stderr",
     "output_type": "stream",
     "text": [
      "\u001b[32m[I 2023-02-21 20:43:28,969]\u001b[0m Trial 83 finished with value: 11.843000843163702 and parameters: {'learning_rate': 0.08354304219498321, 'validation_size': 0.15277723502720555, 'early_stopping_rounds': 193, 'early_stopping_tolerance': 0.0004517163929328941, 'max_rounds': 19170, 'min_samples_leaf': 2, 'max_leaves': 3}. Best is trial 1 with value: 11.721424841576487.\u001b[0m\n"
     ]
    },
    {
     "name": "stdout",
     "output_type": "stream",
     "text": [
      "2023-02-21 20:43:29,006 :: interpret.utils._binning :: Creating native dataset\n",
      "2023-02-21 20:43:29,243 :: interpret.glassbox.ebm.bin :: eval_terms\n",
      "2023-02-21 20:43:29,261 :: interpret.glassbox.ebm.bin :: eval_terms\n"
     ]
    },
    {
     "name": "stderr",
     "output_type": "stream",
     "text": [
      "\u001b[32m[I 2023-02-21 20:43:29,267]\u001b[0m Trial 85 finished with value: 13.030235658304088 and parameters: {'learning_rate': 0.08244164211893243, 'validation_size': 0.1597273278768304, 'early_stopping_rounds': 199, 'early_stopping_tolerance': 0.00040658741716542403, 'max_rounds': 19406, 'min_samples_leaf': 2, 'max_leaves': 3}. Best is trial 1 with value: 11.721424841576487.\u001b[0m\n"
     ]
    },
    {
     "name": "stdout",
     "output_type": "stream",
     "text": [
      "2023-02-21 20:43:29,303 :: interpret.utils._binning :: Creating native dataset\n",
      "2023-02-21 20:43:29,387 :: interpret.glassbox.ebm.bin :: eval_terms\n",
      "2023-02-21 20:43:29,405 :: interpret.glassbox.ebm.bin :: eval_terms\n"
     ]
    },
    {
     "name": "stderr",
     "output_type": "stream",
     "text": [
      "\u001b[32m[I 2023-02-21 20:43:29,411]\u001b[0m Trial 86 finished with value: 13.1264434916733 and parameters: {'learning_rate': 0.08374452772970774, 'validation_size': 0.15970196050470767, 'early_stopping_rounds': 140, 'early_stopping_tolerance': 0.000309121772913349, 'max_rounds': 19344, 'min_samples_leaf': 2, 'max_leaves': 3}. Best is trial 1 with value: 11.721424841576487.\u001b[0m\n"
     ]
    },
    {
     "name": "stdout",
     "output_type": "stream",
     "text": [
      "2023-02-21 20:43:29,449 :: interpret.utils._binning :: Creating native dataset\n",
      "2023-02-21 20:43:29,460 :: interpret.glassbox.ebm.bin :: eval_terms\n",
      "2023-02-21 20:43:29,477 :: interpret.glassbox.ebm.bin :: eval_terms\n"
     ]
    },
    {
     "name": "stderr",
     "output_type": "stream",
     "text": [
      "\u001b[32m[I 2023-02-21 20:43:29,482]\u001b[0m Trial 87 finished with value: 15.247647086007259 and parameters: {'learning_rate': 0.08226143262625578, 'validation_size': 0.1527640325261684, 'early_stopping_rounds': 149, 'early_stopping_tolerance': 0.0003014929780791622, 'max_rounds': 18276, 'min_samples_leaf': 3, 'max_leaves': 4}. Best is trial 1 with value: 11.721424841576487.\u001b[0m\n"
     ]
    },
    {
     "name": "stdout",
     "output_type": "stream",
     "text": [
      "2023-02-21 20:43:29,520 :: interpret.utils._binning :: Creating native dataset\n",
      "2023-02-21 20:43:29,853 :: interpret.glassbox.ebm.bin :: eval_terms\n",
      "2023-02-21 20:43:29,915 :: interpret.glassbox.ebm.bin :: eval_terms\n"
     ]
    },
    {
     "name": "stderr",
     "output_type": "stream",
     "text": [
      "\u001b[32m[I 2023-02-21 20:43:29,949]\u001b[0m Trial 88 finished with value: 16.780780030980832 and parameters: {'learning_rate': 0.08147968180344393, 'validation_size': 0.15967226445113814, 'early_stopping_rounds': 199, 'early_stopping_tolerance': 0.00031171394467394316, 'max_rounds': 18288, 'min_samples_leaf': 5, 'max_leaves': 4}. Best is trial 1 with value: 11.721424841576487.\u001b[0m\n"
     ]
    },
    {
     "name": "stdout",
     "output_type": "stream",
     "text": [
      "2023-02-21 20:43:29,996 :: interpret.utils._binning :: Creating native dataset\n",
      "2023-02-21 20:43:30,022 :: interpret.glassbox.ebm.bin :: eval_terms\n",
      "2023-02-21 20:43:30,026 :: interpret.glassbox.ebm.bin :: eval_terms\n",
      "2023-02-21 20:43:30,029 :: interpret.glassbox.ebm.bin :: eval_terms\n",
      "2023-02-21 20:43:30,034 :: interpret.glassbox.ebm.bin :: eval_terms\n",
      "2023-02-21 20:43:30,040 :: interpret.glassbox.ebm.bin :: eval_terms\n",
      "2023-02-21 20:43:30,043 :: interpret.glassbox.ebm.bin :: eval_terms\n",
      "2023-02-21 20:43:30,049 :: interpret.glassbox.ebm.bin :: eval_terms\n",
      "2023-02-21 20:43:30,054 :: interpret.glassbox.ebm.bin :: eval_terms\n",
      "2023-02-21 20:43:30,057 :: interpret.utils._binning :: Creating native dataset\n",
      "2023-02-21 20:43:30,064 :: interpret.glassbox.ebm.ebm :: Estimating with FAST\n",
      "2023-02-21 20:43:30,067 :: interpret.glassbox.ebm.bin :: eval_terms\n",
      "2023-02-21 20:43:30,088 :: interpret.glassbox.ebm.bin :: eval_terms\n"
     ]
    },
    {
     "name": "stderr",
     "output_type": "stream",
     "text": [
      "\u001b[32m[I 2023-02-21 20:43:30,098]\u001b[0m Trial 89 finished with value: 15.567793631792675 and parameters: {'learning_rate': 0.08292659870369344, 'validation_size': 0.15962771957948285, 'early_stopping_rounds': 140, 'early_stopping_tolerance': 0.00031042122257377225, 'max_rounds': 18197, 'min_samples_leaf': 5, 'max_leaves': 4}. Best is trial 1 with value: 11.721424841576487.\u001b[0m\n"
     ]
    },
    {
     "name": "stdout",
     "output_type": "stream",
     "text": [
      "2023-02-21 20:43:30,140 :: interpret.utils._binning :: Creating native dataset\n",
      "2023-02-21 20:43:30,195 :: interpret.glassbox.ebm.bin :: eval_terms\n",
      "2023-02-21 20:43:30,201 :: interpret.glassbox.ebm.bin :: eval_terms\n",
      "2023-02-21 20:43:30,204 :: interpret.glassbox.ebm.bin :: eval_terms\n",
      "2023-02-21 20:43:30,209 :: interpret.glassbox.ebm.bin :: eval_terms\n",
      "2023-02-21 20:43:30,215 :: interpret.glassbox.ebm.bin :: eval_terms\n",
      "2023-02-21 20:43:30,218 :: interpret.glassbox.ebm.bin :: eval_terms\n",
      "2023-02-21 20:43:30,223 :: interpret.glassbox.ebm.bin :: eval_terms\n",
      "2023-02-21 20:43:30,228 :: interpret.glassbox.ebm.bin :: eval_terms\n",
      "2023-02-21 20:43:30,232 :: interpret.glassbox.ebm.bin :: eval_terms\n",
      "2023-02-21 20:43:30,236 :: interpret.glassbox.ebm.bin :: eval_terms\n",
      "2023-02-21 20:43:30,239 :: interpret.glassbox.ebm.bin :: eval_terms\n",
      "2023-02-21 20:43:30,244 :: interpret.glassbox.ebm.bin :: eval_terms\n",
      "2023-02-21 20:43:30,247 :: interpret.glassbox.ebm.bin :: eval_terms\n",
      "2023-02-21 20:43:30,251 :: interpret.glassbox.ebm.bin :: eval_terms\n",
      "2023-02-21 20:43:30,255 :: interpret.glassbox.ebm.bin :: eval_terms\n",
      "2023-02-21 20:43:30,262 :: interpret.utils._binning :: Creating native dataset\n",
      "2023-02-21 20:43:30,265 :: interpret.glassbox.ebm.bin :: eval_terms\n",
      "2023-02-21 20:43:30,271 :: interpret.glassbox.ebm.ebm :: Estimating with FAST\n",
      "2023-02-21 20:43:30,275 :: interpret.utils._binning :: Creating native dataset\n",
      "2023-02-21 20:43:30,286 :: interpret.glassbox.ebm.ebm :: Estimating with FAST\n",
      "2023-02-21 20:43:30,355 :: interpret.glassbox.ebm.bin :: eval_terms\n",
      "2023-02-21 20:43:30,362 :: interpret.glassbox.ebm.bin :: eval_terms\n",
      "2023-02-21 20:43:30,367 :: interpret.glassbox.ebm.bin :: eval_terms\n",
      "2023-02-21 20:43:30,371 :: interpret.glassbox.ebm.bin :: eval_terms\n",
      "2023-02-21 20:43:30,375 :: interpret.glassbox.ebm.bin :: eval_terms\n",
      "2023-02-21 20:43:30,379 :: interpret.glassbox.ebm.bin :: eval_terms\n",
      "2023-02-21 20:43:30,382 :: interpret.glassbox.ebm.bin :: eval_terms\n",
      "2023-02-21 20:43:30,389 :: interpret.glassbox.ebm.bin :: eval_terms\n",
      "2023-02-21 20:43:30,392 :: interpret.utils._binning :: Creating native dataset\n",
      "2023-02-21 20:43:30,397 :: interpret.glassbox.ebm.ebm :: Estimating with FAST\n",
      "2023-02-21 20:43:30,431 :: interpret.glassbox.ebm.bin :: eval_terms\n",
      "2023-02-21 20:43:30,434 :: interpret.glassbox.ebm.bin :: eval_terms\n",
      "2023-02-21 20:43:30,438 :: interpret.glassbox.ebm.bin :: eval_terms\n",
      "2023-02-21 20:43:30,441 :: interpret.glassbox.ebm.bin :: eval_terms\n",
      "2023-02-21 20:43:30,445 :: interpret.glassbox.ebm.bin :: eval_terms\n",
      "2023-02-21 20:43:30,449 :: interpret.glassbox.ebm.bin :: eval_terms\n",
      "2023-02-21 20:43:30,453 :: interpret.glassbox.ebm.bin :: eval_terms\n",
      "2023-02-21 20:43:30,457 :: interpret.glassbox.ebm.bin :: eval_terms\n",
      "2023-02-21 20:43:30,461 :: interpret.utils._binning :: Creating native dataset\n",
      "2023-02-21 20:43:30,467 :: interpret.glassbox.ebm.ebm :: Estimating with FAST\n",
      "2023-02-21 20:43:30,787 :: interpret.glassbox.ebm.bin :: eval_terms\n",
      "2023-02-21 20:43:30,803 :: interpret.glassbox.ebm.bin :: eval_terms\n",
      "2023-02-21 20:43:30,809 :: interpret.glassbox.ebm.bin :: eval_terms\n",
      "2023-02-21 20:43:30,820 :: interpret.glassbox.ebm.bin :: eval_terms\n",
      "2023-02-21 20:43:30,825 :: interpret.glassbox.ebm.bin :: eval_terms\n",
      "2023-02-21 20:43:30,832 :: interpret.glassbox.ebm.bin :: eval_terms\n",
      "2023-02-21 20:43:30,835 :: interpret.glassbox.ebm.bin :: eval_terms\n",
      "2023-02-21 20:43:30,839 :: interpret.glassbox.ebm.bin :: eval_terms\n",
      "2023-02-21 20:43:30,846 :: interpret.utils._binning :: Creating native dataset\n",
      "2023-02-21 20:43:30,851 :: interpret.glassbox.ebm.ebm :: Estimating with FAST\n",
      "2023-02-21 20:43:30,867 :: interpret.glassbox.ebm.bin :: eval_terms\n",
      "2023-02-21 20:43:30,873 :: interpret.glassbox.ebm.bin :: eval_terms\n",
      "2023-02-21 20:43:30,877 :: interpret.glassbox.ebm.bin :: eval_terms\n",
      "2023-02-21 20:43:30,882 :: interpret.glassbox.ebm.bin :: eval_terms\n",
      "2023-02-21 20:43:30,886 :: interpret.glassbox.ebm.bin :: eval_terms\n",
      "2023-02-21 20:43:30,894 :: interpret.glassbox.ebm.bin :: eval_terms\n",
      "2023-02-21 20:43:30,898 :: interpret.glassbox.ebm.bin :: eval_terms\n",
      "2023-02-21 20:43:30,902 :: interpret.glassbox.ebm.bin :: eval_terms\n",
      "2023-02-21 20:43:30,906 :: interpret.utils._binning :: Creating native dataset\n",
      "2023-02-21 20:43:30,911 :: interpret.glassbox.ebm.ebm :: Estimating with FAST\n",
      "2023-02-21 20:43:30,934 :: interpret.glassbox.ebm.bin :: eval_terms\n",
      "2023-02-21 20:43:30,965 :: interpret.glassbox.ebm.bin :: eval_terms\n"
     ]
    },
    {
     "name": "stderr",
     "output_type": "stream",
     "text": [
      "\u001b[32m[I 2023-02-21 20:43:30,975]\u001b[0m Trial 90 finished with value: 16.59441432834173 and parameters: {'learning_rate': 0.08452951092706593, 'validation_size': 0.15262526139088145, 'early_stopping_rounds': 199, 'early_stopping_tolerance': 0.0003108801008828701, 'max_rounds': 18289, 'min_samples_leaf': 5, 'max_leaves': 4}. Best is trial 1 with value: 11.721424841576487.\u001b[0m\n"
     ]
    },
    {
     "name": "stdout",
     "output_type": "stream",
     "text": [
      "2023-02-21 20:43:31,017 :: interpret.utils._binning :: Creating native dataset\n",
      "2023-02-21 20:43:32,208 :: interpret.glassbox.ebm.bin :: eval_terms\n",
      "2023-02-21 20:43:32,224 :: interpret.glassbox.ebm.bin :: eval_terms\n"
     ]
    },
    {
     "name": "stderr",
     "output_type": "stream",
     "text": [
      "\u001b[32m[I 2023-02-21 20:43:32,231]\u001b[0m Trial 94 finished with value: 15.284845400601746 and parameters: {'learning_rate': 0.08551600663519433, 'validation_size': 0.15308735216175462, 'early_stopping_rounds': 151, 'early_stopping_tolerance': 0.0003379728662992467, 'max_rounds': 18425, 'min_samples_leaf': 3, 'max_leaves': 4}. Best is trial 1 with value: 11.721424841576487.\u001b[0m\n"
     ]
    },
    {
     "name": "stdout",
     "output_type": "stream",
     "text": [
      "2023-02-21 20:43:32,268 :: interpret.utils._binning :: Creating native dataset\n",
      "2023-02-21 20:43:32,509 :: interpret.glassbox.ebm.bin :: eval_terms\n",
      "2023-02-21 20:43:32,526 :: interpret.glassbox.ebm.bin :: eval_terms\n"
     ]
    },
    {
     "name": "stderr",
     "output_type": "stream",
     "text": [
      "\u001b[32m[I 2023-02-21 20:43:32,532]\u001b[0m Trial 95 finished with value: 12.202727190833873 and parameters: {'learning_rate': 0.08711473276359354, 'validation_size': 0.15106978550735803, 'early_stopping_rounds': 86, 'early_stopping_tolerance': 0.0003334071080492149, 'max_rounds': 18318, 'min_samples_leaf': 2, 'max_leaves': 2}. Best is trial 1 with value: 11.721424841576487.\u001b[0m\n"
     ]
    },
    {
     "name": "stdout",
     "output_type": "stream",
     "text": [
      "2023-02-21 20:43:32,709 :: interpret.glassbox.ebm.bin :: eval_terms\n",
      "2023-02-21 20:43:32,713 :: interpret.glassbox.ebm.bin :: eval_terms\n",
      "2023-02-21 20:43:32,716 :: interpret.glassbox.ebm.bin :: eval_terms\n",
      "2023-02-21 20:43:32,720 :: interpret.glassbox.ebm.bin :: eval_terms\n",
      "2023-02-21 20:43:32,724 :: interpret.glassbox.ebm.bin :: eval_terms\n",
      "2023-02-21 20:43:32,727 :: interpret.glassbox.ebm.bin :: eval_terms\n",
      "2023-02-21 20:43:32,731 :: interpret.glassbox.ebm.bin :: eval_terms\n",
      "2023-02-21 20:43:32,735 :: interpret.glassbox.ebm.bin :: eval_terms\n",
      "2023-02-21 20:43:32,738 :: interpret.utils._binning :: Creating native dataset\n",
      "2023-02-21 20:43:32,745 :: interpret.glassbox.ebm.ebm :: Estimating with FAST\n",
      "2023-02-21 20:43:32,832 :: interpret.glassbox.ebm.bin :: eval_terms\n",
      "2023-02-21 20:43:32,837 :: interpret.glassbox.ebm.bin :: eval_terms\n",
      "2023-02-21 20:43:32,844 :: interpret.glassbox.ebm.bin :: eval_terms\n",
      "2023-02-21 20:43:32,849 :: interpret.glassbox.ebm.bin :: eval_terms\n",
      "2023-02-21 20:43:32,851 :: interpret.glassbox.ebm.bin :: eval_terms\n",
      "2023-02-21 20:43:32,871 :: interpret.glassbox.ebm.bin :: eval_terms\n",
      "2023-02-21 20:43:32,875 :: interpret.glassbox.ebm.bin :: eval_terms\n"
     ]
    },
    {
     "name": "stderr",
     "output_type": "stream",
     "text": [
      "\u001b[32m[I 2023-02-21 20:43:32,883]\u001b[0m Trial 91 finished with value: 12.603776545408323 and parameters: {'learning_rate': 0.07691848744140678, 'validation_size': 0.1529306577716849, 'early_stopping_rounds': 198, 'early_stopping_tolerance': 0.00031090342176410293, 'max_rounds': 18387, 'min_samples_leaf': 2, 'max_leaves': 4}. Best is trial 1 with value: 11.721424841576487.\u001b[0m\n"
     ]
    },
    {
     "name": "stdout",
     "output_type": "stream",
     "text": [
      "2023-02-21 20:43:32,885 :: interpret.glassbox.ebm.bin :: eval_terms\n",
      "2023-02-21 20:43:32,888 :: interpret.glassbox.ebm.bin :: eval_terms\n",
      "2023-02-21 20:43:32,892 :: interpret.glassbox.ebm.bin :: eval_terms\n",
      "2023-02-21 20:43:32,895 :: interpret.utils._binning :: Creating native dataset\n",
      "2023-02-21 20:43:32,900 :: interpret.glassbox.ebm.ebm :: Estimating with FAST\n",
      "2023-02-21 20:43:33,045 :: interpret.glassbox.ebm.bin :: eval_terms\n",
      "2023-02-21 20:43:33,060 :: interpret.glassbox.ebm.bin :: eval_terms\n"
     ]
    },
    {
     "name": "stderr",
     "output_type": "stream",
     "text": [
      "\u001b[32m[I 2023-02-21 20:43:33,065]\u001b[0m Trial 92 finished with value: 11.882842801484149 and parameters: {'learning_rate': 0.08342525439309365, 'validation_size': 0.1529247207025802, 'early_stopping_rounds': 200, 'early_stopping_tolerance': 0.00030416025757881357, 'max_rounds': 9725, 'min_samples_leaf': 2, 'max_leaves': 3}. Best is trial 1 with value: 11.721424841576487.\u001b[0m\n"
     ]
    },
    {
     "name": "stdout",
     "output_type": "stream",
     "text": [
      "2023-02-21 20:43:33,177 :: interpret.glassbox.ebm.bin :: eval_terms\n",
      "2023-02-21 20:43:33,206 :: interpret.glassbox.ebm.bin :: eval_terms\n",
      "2023-02-21 20:43:33,218 :: interpret.glassbox.ebm.bin :: eval_terms\n"
     ]
    },
    {
     "name": "stderr",
     "output_type": "stream",
     "text": [
      "\u001b[32m[I 2023-02-21 20:43:33,222]\u001b[0m Trial 93 finished with value: 12.623765622083766 and parameters: {'learning_rate': 0.0770430868695376, 'validation_size': 0.15290154152849356, 'early_stopping_rounds': 72, 'early_stopping_tolerance': 0.00031579065259473073, 'max_rounds': 18510, 'min_samples_leaf': 2, 'max_leaves': 4}. Best is trial 1 with value: 11.721424841576487.\u001b[0m\n"
     ]
    },
    {
     "name": "stdout",
     "output_type": "stream",
     "text": [
      "2023-02-21 20:43:33,237 :: interpret.glassbox.ebm.bin :: eval_terms\n"
     ]
    },
    {
     "name": "stderr",
     "output_type": "stream",
     "text": [
      "\u001b[32m[I 2023-02-21 20:43:33,243]\u001b[0m Trial 96 finished with value: 12.733070655786445 and parameters: {'learning_rate': 0.07658238669765474, 'validation_size': 0.1527916151887576, 'early_stopping_rounds': 88, 'early_stopping_tolerance': 0.0005130940585572309, 'max_rounds': 9814, 'min_samples_leaf': 2, 'max_leaves': 2}. Best is trial 1 with value: 11.721424841576487.\u001b[0m\n"
     ]
    },
    {
     "name": "stdout",
     "output_type": "stream",
     "text": [
      "2023-02-21 20:43:33,777 :: interpret.glassbox.ebm.bin :: eval_terms\n",
      "2023-02-21 20:43:33,792 :: interpret.glassbox.ebm.bin :: eval_terms\n"
     ]
    },
    {
     "name": "stderr",
     "output_type": "stream",
     "text": [
      "\u001b[32m[I 2023-02-21 20:43:33,799]\u001b[0m Trial 98 finished with value: 12.37921068705551 and parameters: {'learning_rate': 0.07639918202607064, 'validation_size': 0.15115168070759982, 'early_stopping_rounds': 148, 'early_stopping_tolerance': 0.0005455068546851854, 'max_rounds': 19034, 'min_samples_leaf': 2, 'max_leaves': 2}. Best is trial 1 with value: 11.721424841576487.\u001b[0m\n"
     ]
    },
    {
     "name": "stdout",
     "output_type": "stream",
     "text": [
      "2023-02-21 20:43:33,816 :: interpret.glassbox.ebm.bin :: eval_terms\n",
      "2023-02-21 20:43:33,826 :: interpret.glassbox.ebm.bin :: eval_terms\n"
     ]
    },
    {
     "name": "stderr",
     "output_type": "stream",
     "text": [
      "\u001b[32m[I 2023-02-21 20:43:33,832]\u001b[0m Trial 99 finished with value: 12.413506228251295 and parameters: {'learning_rate': 0.07650446528794591, 'validation_size': 0.1511693718216853, 'early_stopping_rounds': 86, 'early_stopping_tolerance': 0.000534411620475753, 'max_rounds': 18960, 'min_samples_leaf': 2, 'max_leaves': 2}. Best is trial 1 with value: 11.721424841576487.\u001b[0m\n"
     ]
    },
    {
     "name": "stdout",
     "output_type": "stream",
     "text": [
      "2023-02-21 20:43:34,188 :: interpret.glassbox.ebm.bin :: eval_terms\n",
      "2023-02-21 20:43:34,199 :: interpret.glassbox.ebm.bin :: eval_terms\n"
     ]
    },
    {
     "name": "stderr",
     "output_type": "stream",
     "text": [
      "\u001b[32m[I 2023-02-21 20:43:34,202]\u001b[0m Trial 97 finished with value: 12.570293677483841 and parameters: {'learning_rate': 0.07603290793260943, 'validation_size': 0.15315156449060469, 'early_stopping_rounds': 84, 'early_stopping_tolerance': 0.0005022009190367052, 'max_rounds': 13958, 'min_samples_leaf': 2, 'max_leaves': 2}. Best is trial 1 with value: 11.721424841576487.\u001b[0m\n"
     ]
    },
    {
     "name": "stdout",
     "output_type": "stream",
     "text": [
      "2023-02-21 20:43:34,212 :: interpret.utils._binning :: Creating native dataset\n",
      "2023-02-21 20:43:34,348 :: interpret.glassbox.ebm.bin :: eval_terms\n",
      "2023-02-21 20:43:34,350 :: interpret.glassbox.ebm.bin :: eval_terms\n",
      "2023-02-21 20:43:34,352 :: interpret.glassbox.ebm.bin :: eval_terms\n",
      "2023-02-21 20:43:34,354 :: interpret.glassbox.ebm.bin :: eval_terms\n",
      "2023-02-21 20:43:34,356 :: interpret.glassbox.ebm.bin :: eval_terms\n",
      "2023-02-21 20:43:34,359 :: interpret.glassbox.ebm.bin :: eval_terms\n",
      "2023-02-21 20:43:34,362 :: interpret.glassbox.ebm.bin :: eval_terms\n",
      "2023-02-21 20:43:34,364 :: interpret.glassbox.ebm.bin :: eval_terms\n",
      "2023-02-21 20:43:34,366 :: interpret.utils._binning :: Creating native dataset\n",
      "2023-02-21 20:43:34,370 :: interpret.glassbox.ebm.ebm :: Estimating with FAST\n",
      "2023-02-21 20:43:35,472 :: interpret.glassbox.ebm.bin :: eval_terms\n",
      "2023-02-21 20:43:35,488 :: interpret.glassbox.ebm.bin :: eval_terms\n"
     ]
    }
   ],
   "source": [
    "pipeline.fit(X_train,y_train)\n",
    "y_pred = pipeline.predict(X_test)\n"
   ]
  },
  {
   "cell_type": "markdown",
   "metadata": {},
   "source": [
    "#### Check performance of the pipeline"
   ]
  },
  {
   "cell_type": "code",
   "execution_count": 9,
   "metadata": {},
   "outputs": [
    {
     "name": "stdout",
     "output_type": "stream",
     "text": [
      "r2 score : \n",
      "0.5375864927331135\n"
     ]
    }
   ],
   "source": [
    "print('r2 score : ')\n",
    "print(r2_score(y_test,y_pred))\n"
   ]
  },
  {
   "cell_type": "markdown",
   "metadata": {},
   "source": [
    "#### Part 2:  Use BestModel as a standalone estimator "
   ]
  },
  {
   "cell_type": "code",
   "execution_count": 10,
   "metadata": {},
   "outputs": [],
   "source": [
    "X_train, X_test, y_train, y_test =train_test_split(X, y, test_size=0.33, random_state=42)\n"
   ]
  },
  {
   "cell_type": "markdown",
   "metadata": {},
   "source": [
    "#### Transform features to make them ready for model input"
   ]
  },
  {
   "cell_type": "code",
   "execution_count": 11,
   "metadata": {},
   "outputs": [],
   "source": [
    "transform_pipeline =Pipeline([\n",
    "            # int missing values imputers\n",
    "            ('intimputer', MeanMedianImputer(\n",
    "                imputation_method='median', variables=int_cols)),\n",
    "            # category missing values imputers\n",
    "            ('catimputer', CategoricalImputer(variables=cat_cols)),\n",
    "            #\n",
    "            ('catencoder', OrdinalEncoder()),\n",
    "            # classification model\n",
    "\n",
    " ])"
   ]
  },
  {
   "cell_type": "markdown",
   "metadata": {},
   "source": [
    "#### Transform X_train and X_test"
   ]
  },
  {
   "cell_type": "code",
   "execution_count": 12,
   "metadata": {},
   "outputs": [],
   "source": [
    "X_train=transform_pipeline.fit_transform(X_train,y_train)\n",
    "X_test=transform_pipeline.transform(X_test)\n"
   ]
  },
  {
   "cell_type": "markdown",
   "metadata": {},
   "source": [
    "#### Train model and predict"
   ]
  },
  {
   "cell_type": "code",
   "execution_count": 13,
   "metadata": {},
   "outputs": [
    {
     "name": "stdout",
     "output_type": "stream",
     "text": [
      "2023-02-21 20:43:35,869 :: interpret.utils._binning :: Creating native dataset\n",
      "2023-02-21 20:43:35,875 :: interpret.utils._binning :: Creating native dataset\n",
      "2023-02-21 20:43:35,885 :: interpret.utils._binning :: Creating native dataset\n",
      "2023-02-21 20:43:35,886 :: interpret.utils._binning :: Creating native dataset\n"
     ]
    },
    {
     "name": "stderr",
     "output_type": "stream",
     "text": [
      "/Users/hjavedani/Documents/Lohrasb/.venv/lib/python3.10/site-packages/optuna/study/study.py:393: FutureWarning: `n_jobs` argument has been deprecated in v2.7.0. This feature will be removed in v4.0.0. See https://github.com/optuna/optuna/releases/tag/v2.7.0.\n",
      "  warnings.warn(\n"
     ]
    },
    {
     "name": "stdout",
     "output_type": "stream",
     "text": [
      "2023-02-21 20:43:35,890 :: interpret.utils._binning :: Creating native dataset\n",
      "2023-02-21 20:43:35,893 :: interpret.utils._binning :: Creating native dataset\n",
      "2023-02-21 20:43:35,894 :: interpret.utils._binning :: Creating native dataset\n",
      "2023-02-21 20:43:35,895 :: interpret.utils._binning :: Creating native dataset\n",
      "2023-02-21 20:43:36,041 :: interpret.glassbox.ebm.bin :: eval_terms\n",
      "2023-02-21 20:43:36,044 :: interpret.glassbox.ebm.bin :: eval_terms\n",
      "2023-02-21 20:43:36,047 :: interpret.glassbox.ebm.bin :: eval_terms\n",
      "2023-02-21 20:43:36,050 :: interpret.glassbox.ebm.bin :: eval_terms\n",
      "2023-02-21 20:43:36,053 :: interpret.glassbox.ebm.bin :: eval_terms\n",
      "2023-02-21 20:43:36,058 :: interpret.glassbox.ebm.bin :: eval_terms\n",
      "2023-02-21 20:43:36,062 :: interpret.glassbox.ebm.bin :: eval_terms\n",
      "2023-02-21 20:43:36,066 :: interpret.glassbox.ebm.bin :: eval_terms\n",
      "2023-02-21 20:43:36,070 :: interpret.utils._binning :: Creating native dataset\n",
      "2023-02-21 20:43:36,074 :: interpret.glassbox.ebm.ebm :: Estimating with FAST\n",
      "2023-02-21 20:43:36,088 :: interpret.glassbox.ebm.bin :: eval_terms\n",
      "2023-02-21 20:43:36,095 :: interpret.glassbox.ebm.bin :: eval_terms\n",
      "2023-02-21 20:43:36,101 :: interpret.glassbox.ebm.bin :: eval_terms\n",
      "2023-02-21 20:43:36,105 :: interpret.glassbox.ebm.bin :: eval_terms\n",
      "2023-02-21 20:43:36,109 :: interpret.glassbox.ebm.bin :: eval_terms\n",
      "2023-02-21 20:43:36,113 :: interpret.glassbox.ebm.bin :: eval_terms\n",
      "2023-02-21 20:43:36,117 :: interpret.glassbox.ebm.bin :: eval_terms\n",
      "2023-02-21 20:43:36,120 :: interpret.glassbox.ebm.bin :: eval_terms\n",
      "2023-02-21 20:43:36,124 :: interpret.utils._binning :: Creating native dataset\n",
      "2023-02-21 20:43:36,129 :: interpret.glassbox.ebm.ebm :: Estimating with FAST\n",
      "2023-02-21 20:43:36,214 :: interpret.glassbox.ebm.bin :: eval_terms\n",
      "2023-02-21 20:43:36,222 :: interpret.glassbox.ebm.bin :: eval_terms\n",
      "2023-02-21 20:43:36,228 :: interpret.glassbox.ebm.bin :: eval_terms\n",
      "2023-02-21 20:43:36,231 :: interpret.glassbox.ebm.bin :: eval_terms\n",
      "2023-02-21 20:43:36,235 :: interpret.glassbox.ebm.bin :: eval_terms\n",
      "2023-02-21 20:43:36,240 :: interpret.glassbox.ebm.bin :: eval_terms\n",
      "2023-02-21 20:43:36,243 :: interpret.glassbox.ebm.bin :: eval_terms\n",
      "2023-02-21 20:43:36,247 :: interpret.glassbox.ebm.bin :: eval_terms\n",
      "2023-02-21 20:43:36,251 :: interpret.glassbox.ebm.bin :: eval_terms\n",
      "2023-02-21 20:43:36,254 :: interpret.glassbox.ebm.bin :: eval_terms\n",
      "2023-02-21 20:43:36,258 :: interpret.glassbox.ebm.bin :: eval_terms\n",
      "2023-02-21 20:43:36,262 :: interpret.glassbox.ebm.bin :: eval_terms\n",
      "2023-02-21 20:43:36,265 :: interpret.glassbox.ebm.bin :: eval_terms\n",
      "2023-02-21 20:43:36,268 :: interpret.glassbox.ebm.bin :: eval_terms\n",
      "2023-02-21 20:43:36,272 :: interpret.utils._binning :: Creating native dataset\n",
      "2023-02-21 20:43:36,276 :: interpret.glassbox.ebm.bin :: eval_terms\n",
      "2023-02-21 20:43:36,281 :: interpret.glassbox.ebm.ebm :: Estimating with FAST\n",
      "2023-02-21 20:43:36,285 :: interpret.glassbox.ebm.bin :: eval_terms\n",
      "2023-02-21 20:43:36,295 :: interpret.utils._binning :: Creating native dataset\n",
      "2023-02-21 20:43:36,302 :: interpret.glassbox.ebm.ebm :: Estimating with FAST\n",
      "2023-02-21 20:43:36,391 :: interpret.glassbox.ebm.bin :: eval_terms\n",
      "2023-02-21 20:43:36,396 :: interpret.glassbox.ebm.bin :: eval_terms\n",
      "2023-02-21 20:43:36,400 :: interpret.glassbox.ebm.bin :: eval_terms\n",
      "2023-02-21 20:43:36,403 :: interpret.glassbox.ebm.bin :: eval_terms\n",
      "2023-02-21 20:43:36,407 :: interpret.glassbox.ebm.bin :: eval_terms\n",
      "2023-02-21 20:43:36,411 :: interpret.glassbox.ebm.bin :: eval_terms\n",
      "2023-02-21 20:43:36,415 :: interpret.glassbox.ebm.bin :: eval_terms\n",
      "2023-02-21 20:43:36,419 :: interpret.glassbox.ebm.bin :: eval_terms\n",
      "2023-02-21 20:43:36,423 :: interpret.utils._binning :: Creating native dataset\n",
      "2023-02-21 20:43:36,429 :: interpret.glassbox.ebm.ebm :: Estimating with FAST\n",
      "2023-02-21 20:43:36,431 :: interpret.glassbox.ebm.bin :: eval_terms\n",
      "2023-02-21 20:43:36,437 :: interpret.glassbox.ebm.bin :: eval_terms\n",
      "2023-02-21 20:43:36,440 :: interpret.glassbox.ebm.bin :: eval_terms\n",
      "2023-02-21 20:43:36,444 :: interpret.glassbox.ebm.bin :: eval_terms\n",
      "2023-02-21 20:43:36,447 :: interpret.glassbox.ebm.bin :: eval_terms\n",
      "2023-02-21 20:43:36,451 :: interpret.glassbox.ebm.bin :: eval_terms\n",
      "2023-02-21 20:43:36,454 :: interpret.glassbox.ebm.bin :: eval_terms\n",
      "2023-02-21 20:43:36,457 :: interpret.glassbox.ebm.bin :: eval_terms\n",
      "2023-02-21 20:43:36,463 :: interpret.utils._binning :: Creating native dataset\n",
      "2023-02-21 20:43:36,469 :: interpret.glassbox.ebm.ebm :: Estimating with FAST\n",
      "2023-02-21 20:43:36,584 :: interpret.glassbox.ebm.bin :: eval_terms\n",
      "2023-02-21 20:43:36,593 :: interpret.glassbox.ebm.bin :: eval_terms\n",
      "2023-02-21 20:43:36,595 :: interpret.glassbox.ebm.bin :: eval_terms\n",
      "2023-02-21 20:43:36,598 :: interpret.glassbox.ebm.bin :: eval_terms\n",
      "2023-02-21 20:43:36,601 :: interpret.glassbox.ebm.bin :: eval_terms\n",
      "2023-02-21 20:43:36,605 :: interpret.glassbox.ebm.bin :: eval_terms\n",
      "2023-02-21 20:43:36,610 :: interpret.glassbox.ebm.bin :: eval_terms\n",
      "2023-02-21 20:43:36,614 :: interpret.glassbox.ebm.bin :: eval_terms\n",
      "2023-02-21 20:43:36,617 :: interpret.glassbox.ebm.bin :: eval_terms\n",
      "2023-02-21 20:43:36,620 :: interpret.glassbox.ebm.bin :: eval_terms\n",
      "2023-02-21 20:43:36,626 :: interpret.glassbox.ebm.bin :: eval_terms\n",
      "2023-02-21 20:43:36,629 :: interpret.glassbox.ebm.bin :: eval_terms\n",
      "2023-02-21 20:43:36,635 :: interpret.glassbox.ebm.bin :: eval_terms\n",
      "2023-02-21 20:43:36,640 :: interpret.glassbox.ebm.bin :: eval_terms\n",
      "2023-02-21 20:43:36,644 :: interpret.glassbox.ebm.bin :: eval_terms\n",
      "2023-02-21 20:43:36,647 :: interpret.utils._binning :: Creating native dataset\n",
      "2023-02-21 20:43:36,651 :: interpret.glassbox.ebm.bin :: eval_terms\n",
      "2023-02-21 20:43:36,656 :: interpret.glassbox.ebm.ebm :: Estimating with FAST\n",
      "2023-02-21 20:43:36,661 :: interpret.utils._binning :: Creating native dataset\n",
      "2023-02-21 20:43:36,672 :: interpret.glassbox.ebm.ebm :: Estimating with FAST\n",
      "2023-02-21 20:43:37,546 :: interpret.glassbox.ebm.bin :: eval_terms\n",
      "2023-02-21 20:43:37,569 :: interpret.glassbox.ebm.bin :: eval_terms\n"
     ]
    },
    {
     "name": "stderr",
     "output_type": "stream",
     "text": [
      "\u001b[32m[I 2023-02-21 20:43:37,595]\u001b[0m Trial 104 finished with value: 13.191656545184102 and parameters: {'learning_rate': 0.07289259509556328, 'validation_size': 0.1503872948311201, 'early_stopping_rounds': 185, 'early_stopping_tolerance': 0.0003474951462319508, 'max_rounds': 10998, 'min_samples_leaf': 2, 'max_leaves': 3}. Best is trial 1 with value: 11.721424841576487.\u001b[0m\n"
     ]
    },
    {
     "name": "stdout",
     "output_type": "stream",
     "text": [
      "2023-02-21 20:43:37,624 :: interpret.glassbox.ebm.bin :: eval_terms\n",
      "2023-02-21 20:43:37,641 :: interpret.glassbox.ebm.bin :: eval_terms\n"
     ]
    },
    {
     "name": "stderr",
     "output_type": "stream",
     "text": [
      "\u001b[32m[I 2023-02-21 20:43:37,647]\u001b[0m Trial 100 finished with value: 12.953119535521937 and parameters: {'learning_rate': 0.06862414279003742, 'validation_size': 0.1510375859924349, 'early_stopping_rounds': 92, 'early_stopping_tolerance': 0.00025020589543663666, 'max_rounds': 7777, 'min_samples_leaf': 2, 'max_leaves': 3}. Best is trial 1 with value: 11.721424841576487.\u001b[0m\n"
     ]
    },
    {
     "name": "stdout",
     "output_type": "stream",
     "text": [
      "2023-02-21 20:43:37,686 :: interpret.utils._binning :: Creating native dataset\n",
      "2023-02-21 20:43:37,691 :: interpret.utils._binning :: Creating native dataset\n",
      "2023-02-21 20:43:38,129 :: interpret.glassbox.ebm.bin :: eval_terms\n",
      "2023-02-21 20:43:38,146 :: interpret.glassbox.ebm.bin :: eval_terms\n"
     ]
    },
    {
     "name": "stderr",
     "output_type": "stream",
     "text": [
      "\u001b[32m[I 2023-02-21 20:43:38,150]\u001b[0m Trial 102 finished with value: 13.216929553948328 and parameters: {'learning_rate': 0.06946542088133931, 'validation_size': 0.1941698721940844, 'early_stopping_rounds': 94, 'early_stopping_tolerance': 0.00034703859225213387, 'max_rounds': 8728, 'min_samples_leaf': 2, 'max_leaves': 3}. Best is trial 1 with value: 11.721424841576487.\u001b[0m\n"
     ]
    },
    {
     "name": "stdout",
     "output_type": "stream",
     "text": [
      "2023-02-21 20:43:38,206 :: interpret.utils._binning :: Creating native dataset\n",
      "2023-02-21 20:43:38,241 :: interpret.glassbox.ebm.bin :: eval_terms\n",
      "2023-02-21 20:43:38,257 :: interpret.glassbox.ebm.bin :: eval_terms\n"
     ]
    },
    {
     "name": "stderr",
     "output_type": "stream",
     "text": [
      "\u001b[32m[I 2023-02-21 20:43:38,264]\u001b[0m Trial 106 finished with value: 17.973672849332896 and parameters: {'learning_rate': 0.011177739454163706, 'validation_size': 0.15028247621039262, 'early_stopping_rounds': 72, 'early_stopping_tolerance': 0.00034633181435065463, 'max_rounds': 5922, 'min_samples_leaf': 2, 'max_leaves': 3}. Best is trial 1 with value: 11.721424841576487.\u001b[0m\n"
     ]
    },
    {
     "name": "stdout",
     "output_type": "stream",
     "text": [
      "2023-02-21 20:43:38,300 :: interpret.utils._binning :: Creating native dataset\n",
      "2023-02-21 20:43:38,443 :: interpret.glassbox.ebm.bin :: eval_terms\n",
      "2023-02-21 20:43:38,446 :: interpret.glassbox.ebm.bin :: eval_terms\n",
      "2023-02-21 20:43:38,449 :: interpret.glassbox.ebm.bin :: eval_terms\n",
      "2023-02-21 20:43:38,452 :: interpret.glassbox.ebm.bin :: eval_terms\n",
      "2023-02-21 20:43:38,455 :: interpret.glassbox.ebm.bin :: eval_terms\n",
      "2023-02-21 20:43:38,458 :: interpret.glassbox.ebm.bin :: eval_terms\n",
      "2023-02-21 20:43:38,462 :: interpret.glassbox.ebm.bin :: eval_terms\n",
      "2023-02-21 20:43:38,467 :: interpret.glassbox.ebm.bin :: eval_terms\n",
      "2023-02-21 20:43:38,470 :: interpret.utils._binning :: Creating native dataset\n",
      "2023-02-21 20:43:38,475 :: interpret.glassbox.ebm.ebm :: Estimating with FAST\n",
      "2023-02-21 20:43:38,516 :: interpret.glassbox.ebm.bin :: eval_terms\n",
      "2023-02-21 20:43:38,520 :: interpret.glassbox.ebm.bin :: eval_terms\n",
      "2023-02-21 20:43:38,526 :: interpret.glassbox.ebm.bin :: eval_terms\n",
      "2023-02-21 20:43:38,529 :: interpret.glassbox.ebm.bin :: eval_terms\n",
      "2023-02-21 20:43:38,533 :: interpret.glassbox.ebm.bin :: eval_terms\n",
      "2023-02-21 20:43:38,536 :: interpret.glassbox.ebm.bin :: eval_terms\n",
      "2023-02-21 20:43:38,540 :: interpret.glassbox.ebm.bin :: eval_terms\n",
      "2023-02-21 20:43:38,543 :: interpret.glassbox.ebm.bin :: eval_terms\n",
      "2023-02-21 20:43:38,546 :: interpret.utils._binning :: Creating native dataset\n",
      "2023-02-21 20:43:38,552 :: interpret.glassbox.ebm.ebm :: Estimating with FAST\n",
      "2023-02-21 20:43:38,602 :: interpret.glassbox.ebm.bin :: eval_terms\n",
      "2023-02-21 20:43:38,628 :: interpret.glassbox.ebm.bin :: eval_terms\n"
     ]
    },
    {
     "name": "stderr",
     "output_type": "stream",
     "text": [
      "\u001b[32m[I 2023-02-21 20:43:38,660]\u001b[0m Trial 101 finished with value: 12.959600134816451 and parameters: {'learning_rate': 0.06827459592311402, 'validation_size': 0.1516882632889635, 'early_stopping_rounds': 186, 'early_stopping_tolerance': 0.00024509311218723877, 'max_rounds': 8395, 'min_samples_leaf': 2, 'max_leaves': 3}. Best is trial 1 with value: 11.721424841576487.\u001b[0m\n"
     ]
    },
    {
     "name": "stdout",
     "output_type": "stream",
     "text": [
      "2023-02-21 20:43:38,736 :: interpret.utils._binning :: Creating native dataset\n",
      "2023-02-21 20:43:39,246 :: interpret.glassbox.ebm.bin :: eval_terms\n",
      "2023-02-21 20:43:39,262 :: interpret.glassbox.ebm.bin :: eval_terms\n"
     ]
    },
    {
     "name": "stderr",
     "output_type": "stream",
     "text": [
      "\u001b[32m[I 2023-02-21 20:43:39,267]\u001b[0m Trial 107 finished with value: 13.000756508567486 and parameters: {'learning_rate': 0.0689743681389774, 'validation_size': 0.15033980004699218, 'early_stopping_rounds': 186, 'early_stopping_tolerance': 0.00023919672606103205, 'max_rounds': 10556, 'min_samples_leaf': 2, 'max_leaves': 3}. Best is trial 1 with value: 11.721424841576487.\u001b[0m\n"
     ]
    },
    {
     "name": "stdout",
     "output_type": "stream",
     "text": [
      "2023-02-21 20:43:39,305 :: interpret.utils._binning :: Creating native dataset\n",
      "2023-02-21 20:43:39,329 :: interpret.glassbox.ebm.bin :: eval_terms\n",
      "2023-02-21 20:43:39,333 :: interpret.glassbox.ebm.bin :: eval_terms\n",
      "2023-02-21 20:43:39,339 :: interpret.glassbox.ebm.bin :: eval_terms\n",
      "2023-02-21 20:43:39,347 :: interpret.glassbox.ebm.bin :: eval_terms\n",
      "2023-02-21 20:43:39,350 :: interpret.glassbox.ebm.bin :: eval_terms\n",
      "2023-02-21 20:43:39,361 :: interpret.glassbox.ebm.bin :: eval_terms\n",
      "2023-02-21 20:43:39,366 :: interpret.glassbox.ebm.bin :: eval_terms\n",
      "2023-02-21 20:43:39,369 :: interpret.glassbox.ebm.bin :: eval_terms\n",
      "2023-02-21 20:43:39,374 :: interpret.utils._binning :: Creating native dataset\n",
      "2023-02-21 20:43:39,381 :: interpret.glassbox.ebm.ebm :: Estimating with FAST\n",
      "2023-02-21 20:43:39,435 :: interpret.glassbox.ebm.bin :: eval_terms\n",
      "2023-02-21 20:43:39,438 :: interpret.glassbox.ebm.bin :: eval_terms\n",
      "2023-02-21 20:43:39,442 :: interpret.glassbox.ebm.bin :: eval_terms\n",
      "2023-02-21 20:43:39,446 :: interpret.glassbox.ebm.bin :: eval_terms\n",
      "2023-02-21 20:43:39,448 :: interpret.glassbox.ebm.bin :: eval_terms\n",
      "2023-02-21 20:43:39,452 :: interpret.glassbox.ebm.bin :: eval_terms\n",
      "2023-02-21 20:43:39,455 :: interpret.glassbox.ebm.bin :: eval_terms\n",
      "2023-02-21 20:43:39,459 :: interpret.glassbox.ebm.bin :: eval_terms\n",
      "2023-02-21 20:43:39,461 :: interpret.utils._binning :: Creating native dataset\n",
      "2023-02-21 20:43:39,466 :: interpret.glassbox.ebm.ebm :: Estimating with FAST\n",
      "2023-02-21 20:43:39,604 :: interpret.glassbox.ebm.bin :: eval_terms\n",
      "2023-02-21 20:43:39,607 :: interpret.glassbox.ebm.bin :: eval_terms\n",
      "2023-02-21 20:43:39,613 :: interpret.glassbox.ebm.bin :: eval_terms\n",
      "2023-02-21 20:43:39,616 :: interpret.glassbox.ebm.bin :: eval_terms\n",
      "2023-02-21 20:43:39,620 :: interpret.glassbox.ebm.bin :: eval_terms\n",
      "2023-02-21 20:43:39,626 :: interpret.glassbox.ebm.bin :: eval_terms\n",
      "2023-02-21 20:43:39,629 :: interpret.glassbox.ebm.bin :: eval_terms\n",
      "2023-02-21 20:43:39,648 :: interpret.glassbox.ebm.bin :: eval_terms\n",
      "2023-02-21 20:43:39,651 :: interpret.glassbox.ebm.bin :: eval_terms\n"
     ]
    },
    {
     "name": "stderr",
     "output_type": "stream",
     "text": [
      "\u001b[32m[I 2023-02-21 20:43:39,660]\u001b[0m Trial 103 finished with value: 12.980165411386354 and parameters: {'learning_rate': 0.06906326785309472, 'validation_size': 0.15090876084628188, 'early_stopping_rounds': 93, 'early_stopping_tolerance': 0.00035115154954852015, 'max_rounds': 12457, 'min_samples_leaf': 2, 'max_leaves': 3}. Best is trial 1 with value: 11.721424841576487.\u001b[0m\n"
     ]
    },
    {
     "name": "stdout",
     "output_type": "stream",
     "text": [
      "2023-02-21 20:43:39,666 :: interpret.glassbox.ebm.bin :: eval_terms\n",
      "2023-02-21 20:43:39,682 :: interpret.utils._binning :: Creating native dataset\n",
      "2023-02-21 20:43:39,706 :: interpret.glassbox.ebm.ebm :: Estimating with FAST\n",
      "2023-02-21 20:43:39,712 :: interpret.utils._binning :: Creating native dataset\n",
      "2023-02-21 20:43:39,722 :: interpret.glassbox.ebm.bin :: eval_terms\n",
      "2023-02-21 20:43:39,725 :: interpret.glassbox.ebm.bin :: eval_terms\n",
      "2023-02-21 20:43:39,729 :: interpret.glassbox.ebm.bin :: eval_terms\n",
      "2023-02-21 20:43:39,732 :: interpret.glassbox.ebm.bin :: eval_terms\n",
      "2023-02-21 20:43:39,736 :: interpret.glassbox.ebm.bin :: eval_terms\n",
      "2023-02-21 20:43:39,739 :: interpret.glassbox.ebm.bin :: eval_terms\n",
      "2023-02-21 20:43:39,742 :: interpret.glassbox.ebm.bin :: eval_terms\n",
      "2023-02-21 20:43:39,745 :: interpret.glassbox.ebm.bin :: eval_terms\n",
      "2023-02-21 20:43:39,748 :: interpret.utils._binning :: Creating native dataset\n",
      "2023-02-21 20:43:39,753 :: interpret.glassbox.ebm.ebm :: Estimating with FAST\n",
      "2023-02-21 20:43:40,022 :: interpret.glassbox.ebm.bin :: eval_terms\n",
      "2023-02-21 20:43:40,035 :: interpret.glassbox.ebm.bin :: eval_terms\n"
     ]
    },
    {
     "name": "stderr",
     "output_type": "stream",
     "text": [
      "\u001b[32m[I 2023-02-21 20:43:40,043]\u001b[0m Trial 105 finished with value: 13.283845595761942 and parameters: {'learning_rate': 0.06802783422388159, 'validation_size': 0.1868431250359463, 'early_stopping_rounds': 186, 'early_stopping_tolerance': 0.00024066955747905228, 'max_rounds': 6572, 'min_samples_leaf': 2, 'max_leaves': 3}. Best is trial 1 with value: 11.721424841576487.\u001b[0m\n"
     ]
    },
    {
     "name": "stdout",
     "output_type": "stream",
     "text": [
      "2023-02-21 20:43:40,082 :: interpret.utils._binning :: Creating native dataset\n",
      "2023-02-21 20:43:40,487 :: interpret.glassbox.ebm.bin :: eval_terms\n",
      "2023-02-21 20:43:40,490 :: interpret.glassbox.ebm.bin :: eval_terms\n",
      "2023-02-21 20:43:40,493 :: interpret.glassbox.ebm.bin :: eval_terms\n",
      "2023-02-21 20:43:40,497 :: interpret.glassbox.ebm.bin :: eval_terms\n",
      "2023-02-21 20:43:40,501 :: interpret.glassbox.ebm.bin :: eval_terms\n",
      "2023-02-21 20:43:40,504 :: interpret.glassbox.ebm.bin :: eval_terms\n",
      "2023-02-21 20:43:40,507 :: interpret.glassbox.ebm.bin :: eval_terms\n",
      "2023-02-21 20:43:40,511 :: interpret.glassbox.ebm.bin :: eval_terms\n",
      "2023-02-21 20:43:40,514 :: interpret.utils._binning :: Creating native dataset\n",
      "2023-02-21 20:43:40,519 :: interpret.glassbox.ebm.ebm :: Estimating with FAST\n",
      "2023-02-21 20:43:40,660 :: interpret.glassbox.ebm.bin :: eval_terms\n",
      "2023-02-21 20:43:40,687 :: interpret.glassbox.ebm.bin :: eval_terms\n",
      "2023-02-21 20:43:40,710 :: interpret.glassbox.ebm.bin :: eval_terms\n",
      "2023-02-21 20:43:40,737 :: interpret.glassbox.ebm.bin :: eval_terms\n",
      "2023-02-21 20:43:40,740 :: interpret.glassbox.ebm.bin :: eval_terms\n",
      "2023-02-21 20:43:40,743 :: interpret.glassbox.ebm.bin :: eval_terms\n",
      "2023-02-21 20:43:40,747 :: interpret.glassbox.ebm.bin :: eval_terms\n",
      "2023-02-21 20:43:40,752 :: interpret.glassbox.ebm.bin :: eval_terms\n",
      "2023-02-21 20:43:40,755 :: interpret.utils._binning :: Creating native dataset\n",
      "2023-02-21 20:43:40,760 :: interpret.glassbox.ebm.ebm :: Estimating with FAST\n",
      "2023-02-21 20:43:41,203 :: interpret.glassbox.ebm.bin :: eval_terms\n",
      "2023-02-21 20:43:41,219 :: interpret.glassbox.ebm.bin :: eval_terms\n"
     ]
    },
    {
     "name": "stderr",
     "output_type": "stream",
     "text": [
      "\u001b[32m[I 2023-02-21 20:43:41,226]\u001b[0m Trial 109 finished with value: 12.150013983599807 and parameters: {'learning_rate': 0.08760539725571419, 'validation_size': 0.15533337152785562, 'early_stopping_rounds': 195, 'early_stopping_tolerance': 0.0002458957573952588, 'max_rounds': 19604, 'min_samples_leaf': 2, 'max_leaves': 2}. Best is trial 1 with value: 11.721424841576487.\u001b[0m\n"
     ]
    },
    {
     "name": "stdout",
     "output_type": "stream",
     "text": [
      "2023-02-21 20:43:41,262 :: interpret.utils._binning :: Creating native dataset\n",
      "2023-02-21 20:43:41,438 :: interpret.glassbox.ebm.bin :: eval_terms\n",
      "2023-02-21 20:43:41,463 :: interpret.glassbox.ebm.bin :: eval_terms\n"
     ]
    },
    {
     "name": "stderr",
     "output_type": "stream",
     "text": [
      "\u001b[32m[I 2023-02-21 20:43:41,477]\u001b[0m Trial 108 finished with value: 13.1826595847684 and parameters: {'learning_rate': 0.06821239719947886, 'validation_size': 0.15144019168121567, 'early_stopping_rounds': 177, 'early_stopping_tolerance': 0.0002814336950280214, 'max_rounds': 6451, 'min_samples_leaf': 2, 'max_leaves': 3}. Best is trial 1 with value: 11.721424841576487.\u001b[0m\n"
     ]
    },
    {
     "name": "stdout",
     "output_type": "stream",
     "text": [
      "2023-02-21 20:43:41,522 :: interpret.utils._binning :: Creating native dataset\n",
      "2023-02-21 20:43:42,130 :: interpret.glassbox.ebm.bin :: eval_terms\n",
      "2023-02-21 20:43:42,158 :: interpret.glassbox.ebm.bin :: eval_terms\n"
     ]
    },
    {
     "name": "stderr",
     "output_type": "stream",
     "text": [
      "\u001b[32m[I 2023-02-21 20:43:42,166]\u001b[0m Trial 110 finished with value: 12.121075599784106 and parameters: {'learning_rate': 0.08774339247070234, 'validation_size': 0.15534620003168695, 'early_stopping_rounds': 196, 'early_stopping_tolerance': 0.00024134601040062738, 'max_rounds': 5647, 'min_samples_leaf': 2, 'max_leaves': 2}. Best is trial 1 with value: 11.721424841576487.\u001b[0m\n"
     ]
    },
    {
     "name": "stdout",
     "output_type": "stream",
     "text": [
      "2023-02-21 20:43:42,201 :: interpret.utils._binning :: Creating native dataset\n",
      "2023-02-21 20:43:42,434 :: interpret.glassbox.ebm.bin :: eval_terms\n",
      "2023-02-21 20:43:42,437 :: interpret.glassbox.ebm.bin :: eval_terms\n",
      "2023-02-21 20:43:42,441 :: interpret.glassbox.ebm.bin :: eval_terms\n",
      "2023-02-21 20:43:42,445 :: interpret.glassbox.ebm.bin :: eval_terms\n",
      "2023-02-21 20:43:42,448 :: interpret.glassbox.ebm.bin :: eval_terms\n",
      "2023-02-21 20:43:42,451 :: interpret.glassbox.ebm.bin :: eval_terms\n",
      "2023-02-21 20:43:42,455 :: interpret.glassbox.ebm.bin :: eval_terms\n",
      "2023-02-21 20:43:42,459 :: interpret.glassbox.ebm.bin :: eval_terms\n",
      "2023-02-21 20:43:42,462 :: interpret.utils._binning :: Creating native dataset\n",
      "2023-02-21 20:43:42,466 :: interpret.glassbox.ebm.ebm :: Estimating with FAST\n",
      "2023-02-21 20:43:42,483 :: interpret.glassbox.ebm.bin :: eval_terms\n",
      "2023-02-21 20:43:42,499 :: interpret.glassbox.ebm.bin :: eval_terms\n"
     ]
    },
    {
     "name": "stderr",
     "output_type": "stream",
     "text": [
      "\u001b[32m[I 2023-02-21 20:43:42,509]\u001b[0m Trial 111 finished with value: 12.043991468129535 and parameters: {'learning_rate': 0.08832398679230437, 'validation_size': 0.15390057868501672, 'early_stopping_rounds': 129, 'early_stopping_tolerance': 0.00023996262256559362, 'max_rounds': 16912, 'min_samples_leaf': 2, 'max_leaves': 2}. Best is trial 1 with value: 11.721424841576487.\u001b[0m\n"
     ]
    },
    {
     "name": "stdout",
     "output_type": "stream",
     "text": [
      "2023-02-21 20:43:42,552 :: interpret.utils._binning :: Creating native dataset\n",
      "2023-02-21 20:43:42,604 :: interpret.glassbox.ebm.bin :: eval_terms\n",
      "2023-02-21 20:43:42,607 :: interpret.glassbox.ebm.bin :: eval_terms\n",
      "2023-02-21 20:43:42,611 :: interpret.glassbox.ebm.bin :: eval_terms\n",
      "2023-02-21 20:43:42,615 :: interpret.glassbox.ebm.bin :: eval_terms\n",
      "2023-02-21 20:43:42,619 :: interpret.glassbox.ebm.bin :: eval_terms\n",
      "2023-02-21 20:43:42,623 :: interpret.glassbox.ebm.bin :: eval_terms\n",
      "2023-02-21 20:43:42,628 :: interpret.glassbox.ebm.bin :: eval_terms\n",
      "2023-02-21 20:43:42,632 :: interpret.glassbox.ebm.bin :: eval_terms\n",
      "2023-02-21 20:43:42,637 :: interpret.utils._binning :: Creating native dataset\n",
      "2023-02-21 20:43:42,642 :: interpret.glassbox.ebm.ebm :: Estimating with FAST\n",
      "2023-02-21 20:43:43,070 :: interpret.glassbox.ebm.bin :: eval_terms\n",
      "2023-02-21 20:43:43,107 :: interpret.glassbox.ebm.bin :: eval_terms\n",
      "2023-02-21 20:43:43,148 :: interpret.glassbox.ebm.bin :: eval_terms\n",
      "2023-02-21 20:43:43,152 :: interpret.glassbox.ebm.bin :: eval_terms\n"
     ]
    },
    {
     "name": "stderr",
     "output_type": "stream",
     "text": [
      "\u001b[32m[I 2023-02-21 20:43:43,158]\u001b[0m Trial 112 finished with value: 12.176221058210565 and parameters: {'learning_rate': 0.0874230921923441, 'validation_size': 0.1555267319559224, 'early_stopping_rounds': 195, 'early_stopping_tolerance': 0.00028379951163712996, 'max_rounds': 19667, 'min_samples_leaf': 2, 'max_leaves': 2}. Best is trial 1 with value: 11.721424841576487.\u001b[0m\n",
      "\u001b[32m[I 2023-02-21 20:43:43,165]\u001b[0m Trial 113 finished with value: 12.668364973187805 and parameters: {'learning_rate': 0.08915047247858787, 'validation_size': 0.15373290502487927, 'early_stopping_rounds': 177, 'early_stopping_tolerance': 0.0002809792523931145, 'max_rounds': 19739, 'min_samples_leaf': 2, 'max_leaves': 2}. Best is trial 1 with value: 11.721424841576487.\u001b[0m\n"
     ]
    },
    {
     "name": "stdout",
     "output_type": "stream",
     "text": [
      "2023-02-21 20:43:43,243 :: interpret.utils._binning :: Creating native dataset\n",
      "2023-02-21 20:43:43,245 :: interpret.utils._binning :: Creating native dataset\n",
      "2023-02-21 20:43:43,470 :: interpret.glassbox.ebm.bin :: eval_terms\n",
      "2023-02-21 20:43:43,473 :: interpret.glassbox.ebm.bin :: eval_terms\n",
      "2023-02-21 20:43:43,476 :: interpret.glassbox.ebm.bin :: eval_terms\n",
      "2023-02-21 20:43:43,480 :: interpret.glassbox.ebm.bin :: eval_terms\n",
      "2023-02-21 20:43:43,483 :: interpret.glassbox.ebm.bin :: eval_terms\n",
      "2023-02-21 20:43:43,487 :: interpret.glassbox.ebm.bin :: eval_terms\n",
      "2023-02-21 20:43:43,490 :: interpret.glassbox.ebm.bin :: eval_terms\n",
      "2023-02-21 20:43:43,493 :: interpret.glassbox.ebm.bin :: eval_terms\n",
      "2023-02-21 20:43:43,497 :: interpret.utils._binning :: Creating native dataset\n",
      "2023-02-21 20:43:43,502 :: interpret.glassbox.ebm.ebm :: Estimating with FAST\n",
      "2023-02-21 20:43:43,593 :: interpret.glassbox.ebm.bin :: eval_terms\n",
      "2023-02-21 20:43:43,599 :: interpret.glassbox.ebm.bin :: eval_terms\n",
      "2023-02-21 20:43:43,606 :: interpret.glassbox.ebm.bin :: eval_terms\n",
      "2023-02-21 20:43:43,609 :: interpret.glassbox.ebm.bin :: eval_terms\n",
      "2023-02-21 20:43:43,614 :: interpret.glassbox.ebm.bin :: eval_terms\n",
      "2023-02-21 20:43:43,619 :: interpret.glassbox.ebm.bin :: eval_terms\n",
      "2023-02-21 20:43:43,624 :: interpret.glassbox.ebm.bin :: eval_terms\n",
      "2023-02-21 20:43:43,628 :: interpret.glassbox.ebm.bin :: eval_terms\n",
      "2023-02-21 20:43:43,631 :: interpret.utils._binning :: Creating native dataset\n",
      "2023-02-21 20:43:43,636 :: interpret.glassbox.ebm.ebm :: Estimating with FAST\n",
      "2023-02-21 20:43:43,737 :: interpret.glassbox.ebm.bin :: eval_terms\n",
      "2023-02-21 20:43:43,740 :: interpret.glassbox.ebm.bin :: eval_terms\n",
      "2023-02-21 20:43:43,743 :: interpret.glassbox.ebm.bin :: eval_terms\n",
      "2023-02-21 20:43:43,749 :: interpret.glassbox.ebm.bin :: eval_terms\n",
      "2023-02-21 20:43:43,755 :: interpret.glassbox.ebm.bin :: eval_terms\n",
      "2023-02-21 20:43:43,758 :: interpret.glassbox.ebm.bin :: eval_terms\n",
      "2023-02-21 20:43:43,763 :: interpret.glassbox.ebm.bin :: eval_terms\n",
      "2023-02-21 20:43:43,766 :: interpret.glassbox.ebm.bin :: eval_terms\n",
      "2023-02-21 20:43:43,769 :: interpret.utils._binning :: Creating native dataset\n",
      "2023-02-21 20:43:43,775 :: interpret.glassbox.ebm.ebm :: Estimating with FAST\n",
      "2023-02-21 20:43:43,887 :: interpret.glassbox.ebm.bin :: eval_terms\n",
      "2023-02-21 20:43:43,905 :: interpret.glassbox.ebm.bin :: eval_terms\n",
      "2023-02-21 20:43:43,909 :: interpret.glassbox.ebm.bin :: eval_terms\n",
      "2023-02-21 20:43:43,913 :: interpret.glassbox.ebm.bin :: eval_terms\n"
     ]
    },
    {
     "name": "stderr",
     "output_type": "stream",
     "text": [
      "\u001b[32m[I 2023-02-21 20:43:43,919]\u001b[0m Trial 114 finished with value: 12.69341722386994 and parameters: {'learning_rate': 0.0888946200000532, 'validation_size': 0.15381099777177862, 'early_stopping_rounds': 195, 'early_stopping_tolerance': 0.0002885639646926073, 'max_rounds': 19669, 'min_samples_leaf': 2, 'max_leaves': 2}. Best is trial 1 with value: 11.721424841576487.\u001b[0m\n"
     ]
    },
    {
     "name": "stdout",
     "output_type": "stream",
     "text": [
      "2023-02-21 20:43:43,923 :: interpret.glassbox.ebm.bin :: eval_terms\n",
      "2023-02-21 20:43:43,958 :: interpret.utils._binning :: Creating native dataset\n",
      "2023-02-21 20:43:43,963 :: interpret.glassbox.ebm.bin :: eval_terms\n",
      "2023-02-21 20:43:43,975 :: interpret.glassbox.ebm.bin :: eval_terms\n",
      "2023-02-21 20:43:43,979 :: interpret.glassbox.ebm.bin :: eval_terms\n",
      "2023-02-21 20:43:43,982 :: interpret.glassbox.ebm.bin :: eval_terms\n",
      "2023-02-21 20:43:43,985 :: interpret.glassbox.ebm.bin :: eval_terms\n",
      "2023-02-21 20:43:43,989 :: interpret.utils._binning :: Creating native dataset\n",
      "2023-02-21 20:43:43,994 :: interpret.glassbox.ebm.ebm :: Estimating with FAST\n",
      "2023-02-21 20:43:44,165 :: interpret.glassbox.ebm.bin :: eval_terms\n",
      "2023-02-21 20:43:44,183 :: interpret.glassbox.ebm.bin :: eval_terms\n"
     ]
    },
    {
     "name": "stderr",
     "output_type": "stream",
     "text": [
      "\u001b[32m[I 2023-02-21 20:43:44,189]\u001b[0m Trial 115 finished with value: 12.326559986844147 and parameters: {'learning_rate': 0.08784008987250991, 'validation_size': 0.1539258145752277, 'early_stopping_rounds': 130, 'early_stopping_tolerance': 0.0006106355308363859, 'max_rounds': 19708, 'min_samples_leaf': 2, 'max_leaves': 2}. Best is trial 1 with value: 11.721424841576487.\u001b[0m\n"
     ]
    },
    {
     "name": "stdout",
     "output_type": "stream",
     "text": [
      "2023-02-21 20:43:44,233 :: interpret.utils._binning :: Creating native dataset\n",
      "2023-02-21 20:43:44,684 :: interpret.glassbox.ebm.bin :: eval_terms\n",
      "2023-02-21 20:43:44,716 :: interpret.glassbox.ebm.bin :: eval_terms\n",
      "2023-02-21 20:43:44,739 :: interpret.glassbox.ebm.bin :: eval_terms\n",
      "2023-02-21 20:43:44,751 :: interpret.glassbox.ebm.bin :: eval_terms\n",
      "2023-02-21 20:43:44,755 :: interpret.glassbox.ebm.bin :: eval_terms\n",
      "2023-02-21 20:43:44,759 :: interpret.glassbox.ebm.bin :: eval_terms\n",
      "2023-02-21 20:43:44,762 :: interpret.glassbox.ebm.bin :: eval_terms\n",
      "2023-02-21 20:43:44,766 :: interpret.glassbox.ebm.bin :: eval_terms\n",
      "2023-02-21 20:43:44,769 :: interpret.utils._binning :: Creating native dataset\n",
      "2023-02-21 20:43:44,776 :: interpret.glassbox.ebm.ebm :: Estimating with FAST\n",
      "2023-02-21 20:43:45,186 :: interpret.glassbox.ebm.bin :: eval_terms\n",
      "2023-02-21 20:43:45,189 :: interpret.glassbox.ebm.bin :: eval_terms\n",
      "2023-02-21 20:43:45,193 :: interpret.glassbox.ebm.bin :: eval_terms\n",
      "2023-02-21 20:43:45,195 :: interpret.glassbox.ebm.bin :: eval_terms\n",
      "2023-02-21 20:43:45,199 :: interpret.glassbox.ebm.bin :: eval_terms\n",
      "2023-02-21 20:43:45,202 :: interpret.glassbox.ebm.bin :: eval_terms\n",
      "2023-02-21 20:43:45,206 :: interpret.glassbox.ebm.bin :: eval_terms\n",
      "2023-02-21 20:43:45,210 :: interpret.glassbox.ebm.bin :: eval_terms\n",
      "2023-02-21 20:43:45,214 :: interpret.utils._binning :: Creating native dataset\n",
      "2023-02-21 20:43:45,219 :: interpret.glassbox.ebm.ebm :: Estimating with FAST\n",
      "2023-02-21 20:43:45,552 :: interpret.glassbox.ebm.bin :: eval_terms\n",
      "2023-02-21 20:43:45,568 :: interpret.glassbox.ebm.bin :: eval_terms\n"
     ]
    },
    {
     "name": "stderr",
     "output_type": "stream",
     "text": [
      "\u001b[32m[I 2023-02-21 20:43:45,575]\u001b[0m Trial 116 finished with value: 11.91227088026334 and parameters: {'learning_rate': 0.09034391245264344, 'validation_size': 0.15515529519538082, 'early_stopping_rounds': 195, 'early_stopping_tolerance': 0.00039449023675045073, 'max_rounds': 19686, 'min_samples_leaf': 2, 'max_leaves': 2}. Best is trial 1 with value: 11.721424841576487.\u001b[0m\n"
     ]
    },
    {
     "name": "stdout",
     "output_type": "stream",
     "text": [
      "2023-02-21 20:43:45,611 :: interpret.utils._binning :: Creating native dataset\n",
      "2023-02-21 20:43:45,710 :: interpret.glassbox.ebm.bin :: eval_terms\n",
      "2023-02-21 20:43:45,726 :: interpret.glassbox.ebm.bin :: eval_terms\n"
     ]
    },
    {
     "name": "stderr",
     "output_type": "stream",
     "text": [
      "\u001b[32m[I 2023-02-21 20:43:45,731]\u001b[0m Trial 117 finished with value: 12.098939692941922 and parameters: {'learning_rate': 0.0902057715288184, 'validation_size': 0.1552721868124306, 'early_stopping_rounds': 130, 'early_stopping_tolerance': 0.0002869669460561024, 'max_rounds': 19607, 'min_samples_leaf': 2, 'max_leaves': 2}. Best is trial 1 with value: 11.721424841576487.\u001b[0m\n"
     ]
    },
    {
     "name": "stdout",
     "output_type": "stream",
     "text": [
      "2023-02-21 20:43:45,768 :: interpret.utils._binning :: Creating native dataset\n",
      "2023-02-21 20:43:46,388 :: interpret.glassbox.ebm.bin :: eval_terms\n",
      "2023-02-21 20:43:46,405 :: interpret.glassbox.ebm.bin :: eval_terms\n"
     ]
    },
    {
     "name": "stderr",
     "output_type": "stream",
     "text": [
      "\u001b[32m[I 2023-02-21 20:43:46,411]\u001b[0m Trial 118 finished with value: 12.102554964052247 and parameters: {'learning_rate': 0.08653969375830547, 'validation_size': 0.15549918951886393, 'early_stopping_rounds': 129, 'early_stopping_tolerance': 0.00019205502519242202, 'max_rounds': 19660, 'min_samples_leaf': 2, 'max_leaves': 2}. Best is trial 1 with value: 11.721424841576487.\u001b[0m\n"
     ]
    },
    {
     "name": "stdout",
     "output_type": "stream",
     "text": [
      "2023-02-21 20:43:46,449 :: interpret.utils._binning :: Creating native dataset\n",
      "2023-02-21 20:43:46,458 :: interpret.glassbox.ebm.bin :: eval_terms\n",
      "2023-02-21 20:43:46,479 :: interpret.glassbox.ebm.bin :: eval_terms\n"
     ]
    },
    {
     "name": "stderr",
     "output_type": "stream",
     "text": [
      "\u001b[32m[I 2023-02-21 20:43:46,485]\u001b[0m Trial 121 finished with value: 11.842269275118957 and parameters: {'learning_rate': 0.09105521486761338, 'validation_size': 0.15508616148242782, 'early_stopping_rounds': 193, 'early_stopping_tolerance': 0.00019913815569696754, 'max_rounds': 9597, 'min_samples_leaf': 2, 'max_leaves': 2}. Best is trial 1 with value: 11.721424841576487.\u001b[0m\n"
     ]
    },
    {
     "name": "stdout",
     "output_type": "stream",
     "text": [
      "2023-02-21 20:43:46,528 :: interpret.utils._binning :: Creating native dataset\n",
      "2023-02-21 20:43:46,788 :: interpret.glassbox.ebm.bin :: eval_terms\n",
      "2023-02-21 20:43:46,809 :: interpret.glassbox.ebm.bin :: eval_terms\n"
     ]
    },
    {
     "name": "stderr",
     "output_type": "stream",
     "text": [
      "\u001b[32m[I 2023-02-21 20:43:46,814]\u001b[0m Trial 119 finished with value: 12.246540407404957 and parameters: {'learning_rate': 0.08955732961274747, 'validation_size': 0.15502340720665703, 'early_stopping_rounds': 194, 'early_stopping_tolerance': 0.00018563946089976318, 'max_rounds': 19732, 'min_samples_leaf': 2, 'max_leaves': 2}. Best is trial 1 with value: 11.721424841576487.\u001b[0m\n"
     ]
    },
    {
     "name": "stdout",
     "output_type": "stream",
     "text": [
      "2023-02-21 20:43:46,859 :: interpret.utils._binning :: Creating native dataset\n",
      "2023-02-21 20:43:46,880 :: interpret.glassbox.ebm.bin :: eval_terms\n",
      "2023-02-21 20:43:46,894 :: interpret.glassbox.ebm.bin :: eval_terms\n",
      "2023-02-21 20:43:46,900 :: interpret.glassbox.ebm.bin :: eval_terms\n",
      "2023-02-21 20:43:46,909 :: interpret.glassbox.ebm.bin :: eval_terms\n",
      "2023-02-21 20:43:46,913 :: interpret.glassbox.ebm.bin :: eval_terms\n",
      "2023-02-21 20:43:46,916 :: interpret.glassbox.ebm.bin :: eval_terms\n"
     ]
    },
    {
     "name": "stderr",
     "output_type": "stream",
     "text": [
      "\u001b[32m[I 2023-02-21 20:43:46,922]\u001b[0m Trial 120 finished with value: 12.13996734408109 and parameters: {'learning_rate': 0.08977558147033456, 'validation_size': 0.15539099353537045, 'early_stopping_rounds': 195, 'early_stopping_tolerance': 0.0002261518573920536, 'max_rounds': 19570, 'min_samples_leaf': 2, 'max_leaves': 2}. Best is trial 1 with value: 11.721424841576487.\u001b[0m\n"
     ]
    },
    {
     "name": "stdout",
     "output_type": "stream",
     "text": [
      "2023-02-21 20:43:46,926 :: interpret.glassbox.ebm.bin :: eval_terms\n",
      "2023-02-21 20:43:46,935 :: interpret.glassbox.ebm.bin :: eval_terms\n",
      "2023-02-21 20:43:46,950 :: interpret.glassbox.ebm.bin :: eval_terms\n",
      "2023-02-21 20:43:46,959 :: interpret.glassbox.ebm.bin :: eval_terms\n",
      "2023-02-21 20:43:46,967 :: interpret.utils._binning :: Creating native dataset\n",
      "2023-02-21 20:43:46,974 :: interpret.glassbox.ebm.ebm :: Estimating with FAST\n",
      "2023-02-21 20:43:47,005 :: interpret.utils._binning :: Creating native dataset\n",
      "2023-02-21 20:43:47,023 :: interpret.glassbox.ebm.bin :: eval_terms\n",
      "2023-02-21 20:43:47,027 :: interpret.glassbox.ebm.bin :: eval_terms\n",
      "2023-02-21 20:43:47,033 :: interpret.glassbox.ebm.bin :: eval_terms\n",
      "2023-02-21 20:43:47,037 :: interpret.glassbox.ebm.bin :: eval_terms\n",
      "2023-02-21 20:43:47,041 :: interpret.glassbox.ebm.bin :: eval_terms\n",
      "2023-02-21 20:43:47,045 :: interpret.glassbox.ebm.bin :: eval_terms\n",
      "2023-02-21 20:43:47,051 :: interpret.glassbox.ebm.bin :: eval_terms\n",
      "2023-02-21 20:43:47,055 :: interpret.glassbox.ebm.bin :: eval_terms\n",
      "2023-02-21 20:43:47,059 :: interpret.utils._binning :: Creating native dataset\n",
      "2023-02-21 20:43:47,068 :: interpret.glassbox.ebm.ebm :: Estimating with FAST\n",
      "2023-02-21 20:43:47,106 :: interpret.glassbox.ebm.bin :: eval_terms\n",
      "2023-02-21 20:43:47,112 :: interpret.glassbox.ebm.bin :: eval_terms\n",
      "2023-02-21 20:43:47,117 :: interpret.glassbox.ebm.bin :: eval_terms\n",
      "2023-02-21 20:43:47,120 :: interpret.glassbox.ebm.bin :: eval_terms\n",
      "2023-02-21 20:43:47,124 :: interpret.glassbox.ebm.bin :: eval_terms\n",
      "2023-02-21 20:43:47,129 :: interpret.glassbox.ebm.bin :: eval_terms\n",
      "2023-02-21 20:43:47,133 :: interpret.glassbox.ebm.bin :: eval_terms\n",
      "2023-02-21 20:43:47,137 :: interpret.glassbox.ebm.bin :: eval_terms\n",
      "2023-02-21 20:43:47,141 :: interpret.utils._binning :: Creating native dataset\n",
      "2023-02-21 20:43:47,146 :: interpret.glassbox.ebm.ebm :: Estimating with FAST\n",
      "2023-02-21 20:43:47,202 :: interpret.glassbox.ebm.bin :: eval_terms\n",
      "2023-02-21 20:43:47,208 :: interpret.glassbox.ebm.bin :: eval_terms\n",
      "2023-02-21 20:43:47,214 :: interpret.glassbox.ebm.bin :: eval_terms\n",
      "2023-02-21 20:43:47,217 :: interpret.glassbox.ebm.bin :: eval_terms\n",
      "2023-02-21 20:43:47,220 :: interpret.glassbox.ebm.bin :: eval_terms\n",
      "2023-02-21 20:43:47,225 :: interpret.glassbox.ebm.bin :: eval_terms\n",
      "2023-02-21 20:43:47,229 :: interpret.glassbox.ebm.bin :: eval_terms\n",
      "2023-02-21 20:43:47,235 :: interpret.glassbox.ebm.bin :: eval_terms\n",
      "2023-02-21 20:43:47,239 :: interpret.utils._binning :: Creating native dataset\n",
      "2023-02-21 20:43:47,244 :: interpret.glassbox.ebm.ebm :: Estimating with FAST\n",
      "2023-02-21 20:43:48,011 :: interpret.glassbox.ebm.bin :: eval_terms\n",
      "2023-02-21 20:43:48,015 :: interpret.glassbox.ebm.bin :: eval_terms\n",
      "2023-02-21 20:43:48,018 :: interpret.glassbox.ebm.bin :: eval_terms\n",
      "2023-02-21 20:43:48,021 :: interpret.glassbox.ebm.bin :: eval_terms\n",
      "2023-02-21 20:43:48,024 :: interpret.glassbox.ebm.bin :: eval_terms\n",
      "2023-02-21 20:43:48,028 :: interpret.glassbox.ebm.bin :: eval_terms\n",
      "2023-02-21 20:43:48,032 :: interpret.glassbox.ebm.bin :: eval_terms\n",
      "2023-02-21 20:43:48,035 :: interpret.glassbox.ebm.bin :: eval_terms\n",
      "2023-02-21 20:43:48,038 :: interpret.utils._binning :: Creating native dataset\n",
      "2023-02-21 20:43:48,045 :: interpret.glassbox.ebm.ebm :: Estimating with FAST\n",
      "2023-02-21 20:43:48,132 :: interpret.glassbox.ebm.bin :: eval_terms\n",
      "2023-02-21 20:43:48,136 :: interpret.glassbox.ebm.bin :: eval_terms\n",
      "2023-02-21 20:43:48,140 :: interpret.glassbox.ebm.bin :: eval_terms\n",
      "2023-02-21 20:43:48,144 :: interpret.glassbox.ebm.bin :: eval_terms\n",
      "2023-02-21 20:43:48,149 :: interpret.glassbox.ebm.bin :: eval_terms\n",
      "2023-02-21 20:43:48,153 :: interpret.glassbox.ebm.bin :: eval_terms\n",
      "2023-02-21 20:43:48,157 :: interpret.glassbox.ebm.bin :: eval_terms\n",
      "2023-02-21 20:43:48,161 :: interpret.glassbox.ebm.bin :: eval_terms\n",
      "2023-02-21 20:43:48,165 :: interpret.utils._binning :: Creating native dataset\n",
      "2023-02-21 20:43:48,170 :: interpret.glassbox.ebm.ebm :: Estimating with FAST\n",
      "2023-02-21 20:43:48,533 :: interpret.glassbox.ebm.bin :: eval_terms\n",
      "2023-02-21 20:43:48,551 :: interpret.glassbox.ebm.bin :: eval_terms\n"
     ]
    },
    {
     "name": "stderr",
     "output_type": "stream",
     "text": [
      "\u001b[32m[I 2023-02-21 20:43:48,557]\u001b[0m Trial 122 finished with value: 11.91017100166051 and parameters: {'learning_rate': 0.09183005463733791, 'validation_size': 0.15527702727094564, 'early_stopping_rounds': 195, 'early_stopping_tolerance': 0.0003992013144609102, 'max_rounds': 19680, 'min_samples_leaf': 2, 'max_leaves': 2}. Best is trial 1 with value: 11.721424841576487.\u001b[0m\n"
     ]
    },
    {
     "name": "stdout",
     "output_type": "stream",
     "text": [
      "2023-02-21 20:43:48,603 :: interpret.utils._binning :: Creating native dataset\n",
      "2023-02-21 20:43:49,524 :: interpret.glassbox.ebm.bin :: eval_terms\n",
      "2023-02-21 20:43:49,541 :: interpret.glassbox.ebm.bin :: eval_terms\n"
     ]
    },
    {
     "name": "stderr",
     "output_type": "stream",
     "text": [
      "\u001b[32m[I 2023-02-21 20:43:49,547]\u001b[0m Trial 123 finished with value: 11.920014931375986 and parameters: {'learning_rate': 0.08131122014925046, 'validation_size': 0.154939014257559, 'early_stopping_rounds': 193, 'early_stopping_tolerance': 0.0002167075741108917, 'max_rounds': 16845, 'min_samples_leaf': 2, 'max_leaves': 2}. Best is trial 1 with value: 11.721424841576487.\u001b[0m\n"
     ]
    },
    {
     "name": "stdout",
     "output_type": "stream",
     "text": [
      "2023-02-21 20:43:49,588 :: interpret.utils._binning :: Creating native dataset\n",
      "2023-02-21 20:43:49,619 :: interpret.glassbox.ebm.bin :: eval_terms\n",
      "2023-02-21 20:43:49,635 :: interpret.glassbox.ebm.bin :: eval_terms\n"
     ]
    },
    {
     "name": "stderr",
     "output_type": "stream",
     "text": [
      "\u001b[32m[I 2023-02-21 20:43:49,642]\u001b[0m Trial 126 finished with value: 12.444679595743436 and parameters: {'learning_rate': 0.0926109349968129, 'validation_size': 0.1581152298619643, 'early_stopping_rounds': 123, 'early_stopping_tolerance': 0.00019045307186273903, 'max_rounds': 16933, 'min_samples_leaf': 2, 'max_leaves': 2}. Best is trial 1 with value: 11.721424841576487.\u001b[0m\n"
     ]
    },
    {
     "name": "stdout",
     "output_type": "stream",
     "text": [
      "2023-02-21 20:43:49,681 :: interpret.utils._binning :: Creating native dataset\n",
      "2023-02-21 20:43:49,737 :: interpret.glassbox.ebm.bin :: eval_terms\n",
      "2023-02-21 20:43:49,754 :: interpret.glassbox.ebm.bin :: eval_terms\n"
     ]
    },
    {
     "name": "stderr",
     "output_type": "stream",
     "text": [
      "\u001b[32m[I 2023-02-21 20:43:49,761]\u001b[0m Trial 124 finished with value: 11.911007661291933 and parameters: {'learning_rate': 0.09021940057670745, 'validation_size': 0.15554805898549937, 'early_stopping_rounds': 194, 'early_stopping_tolerance': 0.000186244172586615, 'max_rounds': 19147, 'min_samples_leaf': 2, 'max_leaves': 2}. Best is trial 1 with value: 11.721424841576487.\u001b[0m\n"
     ]
    },
    {
     "name": "stdout",
     "output_type": "stream",
     "text": [
      "2023-02-21 20:43:49,809 :: interpret.utils._binning :: Creating native dataset\n",
      "2023-02-21 20:43:49,825 :: interpret.glassbox.ebm.bin :: eval_terms\n",
      "2023-02-21 20:43:49,842 :: interpret.glassbox.ebm.bin :: eval_terms\n"
     ]
    },
    {
     "name": "stderr",
     "output_type": "stream",
     "text": [
      "\u001b[32m[I 2023-02-21 20:43:49,847]\u001b[0m Trial 125 finished with value: 11.827869438129545 and parameters: {'learning_rate': 0.09109967287696973, 'validation_size': 0.15494775095412977, 'early_stopping_rounds': 127, 'early_stopping_tolerance': 0.0002016169993044184, 'max_rounds': 16834, 'min_samples_leaf': 2, 'max_leaves': 2}. Best is trial 1 with value: 11.721424841576487.\u001b[0m\n"
     ]
    },
    {
     "name": "stdout",
     "output_type": "stream",
     "text": [
      "2023-02-21 20:43:49,887 :: interpret.utils._binning :: Creating native dataset\n",
      "2023-02-21 20:43:49,922 :: interpret.glassbox.ebm.bin :: eval_terms\n",
      "2023-02-21 20:43:49,945 :: interpret.glassbox.ebm.bin :: eval_terms\n"
     ]
    },
    {
     "name": "stderr",
     "output_type": "stream",
     "text": [
      "\u001b[32m[I 2023-02-21 20:43:49,951]\u001b[0m Trial 127 finished with value: 11.856031721120544 and parameters: {'learning_rate': 0.09082417333279866, 'validation_size': 0.15870565179003918, 'early_stopping_rounds': 124, 'early_stopping_tolerance': 0.00019800234490776453, 'max_rounds': 11909, 'min_samples_leaf': 2, 'max_leaves': 2}. Best is trial 1 with value: 11.721424841576487.\u001b[0m\n"
     ]
    },
    {
     "name": "stdout",
     "output_type": "stream",
     "text": [
      "2023-02-21 20:43:50,000 :: interpret.utils._binning :: Creating native dataset\n",
      "2023-02-21 20:43:50,135 :: interpret.glassbox.ebm.bin :: eval_terms\n",
      "2023-02-21 20:43:50,140 :: interpret.glassbox.ebm.bin :: eval_terms\n",
      "2023-02-21 20:43:50,145 :: interpret.glassbox.ebm.bin :: eval_terms\n",
      "2023-02-21 20:43:50,149 :: interpret.glassbox.ebm.bin :: eval_terms\n",
      "2023-02-21 20:43:50,153 :: interpret.glassbox.ebm.bin :: eval_terms\n",
      "2023-02-21 20:43:50,159 :: interpret.glassbox.ebm.bin :: eval_terms\n",
      "2023-02-21 20:43:50,163 :: interpret.glassbox.ebm.bin :: eval_terms\n",
      "2023-02-21 20:43:50,168 :: interpret.glassbox.ebm.bin :: eval_terms\n",
      "2023-02-21 20:43:50,172 :: interpret.utils._binning :: Creating native dataset\n",
      "2023-02-21 20:43:50,179 :: interpret.glassbox.ebm.ebm :: Estimating with FAST\n",
      "2023-02-21 20:43:50,250 :: interpret.glassbox.ebm.bin :: eval_terms\n",
      "2023-02-21 20:43:50,254 :: interpret.glassbox.ebm.bin :: eval_terms\n",
      "2023-02-21 20:43:50,261 :: interpret.glassbox.ebm.bin :: eval_terms\n",
      "2023-02-21 20:43:50,265 :: interpret.glassbox.ebm.bin :: eval_terms\n",
      "2023-02-21 20:43:50,269 :: interpret.glassbox.ebm.bin :: eval_terms\n",
      "2023-02-21 20:43:50,274 :: interpret.glassbox.ebm.bin :: eval_terms\n",
      "2023-02-21 20:43:50,279 :: interpret.glassbox.ebm.bin :: eval_terms\n",
      "2023-02-21 20:43:50,283 :: interpret.glassbox.ebm.bin :: eval_terms\n",
      "2023-02-21 20:43:50,287 :: interpret.utils._binning :: Creating native dataset\n",
      "2023-02-21 20:43:50,294 :: interpret.glassbox.ebm.ebm :: Estimating with FAST\n",
      "2023-02-21 20:43:50,406 :: interpret.glassbox.ebm.bin :: eval_terms\n",
      "2023-02-21 20:43:50,410 :: interpret.glassbox.ebm.bin :: eval_terms\n",
      "2023-02-21 20:43:50,414 :: interpret.glassbox.ebm.bin :: eval_terms\n",
      "2023-02-21 20:43:50,418 :: interpret.glassbox.ebm.bin :: eval_terms\n",
      "2023-02-21 20:43:50,421 :: interpret.glassbox.ebm.bin :: eval_terms\n",
      "2023-02-21 20:43:50,425 :: interpret.glassbox.ebm.bin :: eval_terms\n",
      "2023-02-21 20:43:50,429 :: interpret.glassbox.ebm.bin :: eval_terms\n",
      "2023-02-21 20:43:50,435 :: interpret.glassbox.ebm.bin :: eval_terms\n",
      "2023-02-21 20:43:50,439 :: interpret.utils._binning :: Creating native dataset\n",
      "2023-02-21 20:43:50,444 :: interpret.glassbox.ebm.ebm :: Estimating with FAST\n",
      "2023-02-21 20:43:50,574 :: interpret.glassbox.ebm.bin :: eval_terms\n",
      "2023-02-21 20:43:50,593 :: interpret.glassbox.ebm.bin :: eval_terms\n"
     ]
    },
    {
     "name": "stderr",
     "output_type": "stream",
     "text": [
      "\u001b[32m[I 2023-02-21 20:43:50,599]\u001b[0m Trial 128 finished with value: 12.248593795300392 and parameters: {'learning_rate': 0.0951208172255329, 'validation_size': 0.1575602248816935, 'early_stopping_rounds': 125, 'early_stopping_tolerance': 0.00019076328073660396, 'max_rounds': 9369, 'min_samples_leaf': 2, 'max_leaves': 2}. Best is trial 1 with value: 11.721424841576487.\u001b[0m\n"
     ]
    },
    {
     "name": "stdout",
     "output_type": "stream",
     "text": [
      "2023-02-21 20:43:50,653 :: interpret.utils._binning :: Creating native dataset\n",
      "2023-02-21 20:43:50,744 :: interpret.glassbox.ebm.bin :: eval_terms\n",
      "2023-02-21 20:43:50,749 :: interpret.glassbox.ebm.bin :: eval_terms\n",
      "2023-02-21 20:43:50,756 :: interpret.glassbox.ebm.bin :: eval_terms\n",
      "2023-02-21 20:43:50,761 :: interpret.glassbox.ebm.bin :: eval_terms\n",
      "2023-02-21 20:43:50,765 :: interpret.glassbox.ebm.bin :: eval_terms\n",
      "2023-02-21 20:43:50,769 :: interpret.glassbox.ebm.bin :: eval_terms\n",
      "2023-02-21 20:43:50,775 :: interpret.glassbox.ebm.bin :: eval_terms\n",
      "2023-02-21 20:43:50,779 :: interpret.glassbox.ebm.bin :: eval_terms\n",
      "2023-02-21 20:43:50,783 :: interpret.utils._binning :: Creating native dataset\n",
      "2023-02-21 20:43:50,791 :: interpret.glassbox.ebm.ebm :: Estimating with FAST\n",
      "2023-02-21 20:43:50,869 :: interpret.glassbox.ebm.bin :: eval_terms\n",
      "2023-02-21 20:43:50,873 :: interpret.glassbox.ebm.bin :: eval_terms\n",
      "2023-02-21 20:43:50,878 :: interpret.glassbox.ebm.bin :: eval_terms\n",
      "2023-02-21 20:43:50,881 :: interpret.glassbox.ebm.bin :: eval_terms\n",
      "2023-02-21 20:43:50,886 :: interpret.glassbox.ebm.bin :: eval_terms\n",
      "2023-02-21 20:43:50,890 :: interpret.glassbox.ebm.bin :: eval_terms\n",
      "2023-02-21 20:43:50,895 :: interpret.glassbox.ebm.bin :: eval_terms\n",
      "2023-02-21 20:43:50,899 :: interpret.glassbox.ebm.bin :: eval_terms\n",
      "2023-02-21 20:43:50,903 :: interpret.utils._binning :: Creating native dataset\n",
      "2023-02-21 20:43:50,908 :: interpret.glassbox.ebm.ebm :: Estimating with FAST\n",
      "2023-02-21 20:43:51,066 :: interpret.glassbox.ebm.bin :: eval_terms\n",
      "2023-02-21 20:43:51,072 :: interpret.glassbox.ebm.bin :: eval_terms\n",
      "2023-02-21 20:43:51,092 :: interpret.glassbox.ebm.bin :: eval_terms\n",
      "2023-02-21 20:43:51,096 :: interpret.glassbox.ebm.bin :: eval_terms\n",
      "2023-02-21 20:43:51,101 :: interpret.glassbox.ebm.bin :: eval_terms\n",
      "2023-02-21 20:43:51,105 :: interpret.glassbox.ebm.bin :: eval_terms\n",
      "2023-02-21 20:43:51,109 :: interpret.glassbox.ebm.bin :: eval_terms\n",
      "2023-02-21 20:43:51,113 :: interpret.glassbox.ebm.bin :: eval_terms\n",
      "2023-02-21 20:43:51,117 :: interpret.utils._binning :: Creating native dataset\n",
      "2023-02-21 20:43:51,126 :: interpret.glassbox.ebm.ebm :: Estimating with FAST\n",
      "2023-02-21 20:43:51,223 :: interpret.glassbox.ebm.bin :: eval_terms\n",
      "2023-02-21 20:43:51,228 :: interpret.glassbox.ebm.bin :: eval_terms\n",
      "2023-02-21 20:43:51,232 :: interpret.glassbox.ebm.bin :: eval_terms\n",
      "2023-02-21 20:43:51,236 :: interpret.glassbox.ebm.bin :: eval_terms\n",
      "2023-02-21 20:43:51,242 :: interpret.glassbox.ebm.bin :: eval_terms\n",
      "2023-02-21 20:43:51,246 :: interpret.glassbox.ebm.bin :: eval_terms\n",
      "2023-02-21 20:43:51,250 :: interpret.glassbox.ebm.bin :: eval_terms\n",
      "2023-02-21 20:43:51,254 :: interpret.glassbox.ebm.bin :: eval_terms\n",
      "2023-02-21 20:43:51,258 :: interpret.utils._binning :: Creating native dataset\n",
      "2023-02-21 20:43:51,264 :: interpret.glassbox.ebm.ebm :: Estimating with FAST\n",
      "2023-02-21 20:43:51,687 :: interpret.glassbox.ebm.bin :: eval_terms\n",
      "2023-02-21 20:43:51,721 :: interpret.glassbox.ebm.bin :: eval_terms\n"
     ]
    },
    {
     "name": "stderr",
     "output_type": "stream",
     "text": [
      "\u001b[32m[I 2023-02-21 20:43:51,754]\u001b[0m Trial 129 finished with value: 12.175092359054142 and parameters: {'learning_rate': 0.09187108516039924, 'validation_size': 0.15757024432069353, 'early_stopping_rounds': 126, 'early_stopping_tolerance': 0.00020017617316796452, 'max_rounds': 5020, 'min_samples_leaf': 2, 'max_leaves': 2}. Best is trial 1 with value: 11.721424841576487.\u001b[0m\n"
     ]
    },
    {
     "name": "stdout",
     "output_type": "stream",
     "text": [
      "2023-02-21 20:43:51,803 :: interpret.utils._binning :: Creating native dataset\n",
      "2023-02-21 20:43:52,849 :: interpret.glassbox.ebm.bin :: eval_terms\n",
      "2023-02-21 20:43:52,918 :: interpret.glassbox.ebm.bin :: eval_terms\n"
     ]
    },
    {
     "name": "stderr",
     "output_type": "stream",
     "text": [
      "\u001b[32m[I 2023-02-21 20:43:52,933]\u001b[0m Trial 130 finished with value: 12.476020561794677 and parameters: {'learning_rate': 0.09207756375018344, 'validation_size': 0.1583644594640196, 'early_stopping_rounds': 122, 'early_stopping_tolerance': 0.0001984582434962506, 'max_rounds': 10086, 'min_samples_leaf': 2, 'max_leaves': 2}. Best is trial 1 with value: 11.721424841576487.\u001b[0m\n"
     ]
    },
    {
     "name": "stdout",
     "output_type": "stream",
     "text": [
      "2023-02-21 20:43:52,972 :: interpret.glassbox.ebm.bin :: eval_terms\n",
      "2023-02-21 20:43:52,992 :: interpret.glassbox.ebm.bin :: eval_terms\n",
      "2023-02-21 20:43:53,022 :: interpret.glassbox.ebm.bin :: eval_terms\n",
      "2023-02-21 20:43:53,036 :: interpret.glassbox.ebm.bin :: eval_terms\n"
     ]
    },
    {
     "name": "stderr",
     "output_type": "stream",
     "text": [
      "\u001b[32m[I 2023-02-21 20:43:53,041]\u001b[0m Trial 133 finished with value: 11.739806213350741 and parameters: {'learning_rate': 0.09158785494967354, 'validation_size': 0.15771986003798488, 'early_stopping_rounds': 114, 'early_stopping_tolerance': 0.00014349231317820405, 'max_rounds': 9940, 'min_samples_leaf': 2, 'max_leaves': 2}. Best is trial 1 with value: 11.721424841576487.\u001b[0m\n",
      "\u001b[32m[I 2023-02-21 20:43:53,048]\u001b[0m Trial 131 finished with value: 12.576099661371758 and parameters: {'learning_rate': 0.09240269863711702, 'validation_size': 0.15755592346569028, 'early_stopping_rounds': 112, 'early_stopping_tolerance': 0.00019508683559103776, 'max_rounds': 5014, 'min_samples_leaf': 2, 'max_leaves': 2}. Best is trial 1 with value: 11.721424841576487.\u001b[0m\n"
     ]
    },
    {
     "name": "stdout",
     "output_type": "stream",
     "text": [
      "2023-02-21 20:43:53,083 :: interpret.utils._binning :: Creating native dataset\n",
      "2023-02-21 20:43:53,104 :: interpret.glassbox.ebm.bin :: eval_terms\n",
      "2023-02-21 20:43:53,121 :: interpret.utils._binning :: Creating native dataset\n",
      "2023-02-21 20:43:53,137 :: interpret.glassbox.ebm.bin :: eval_terms\n",
      "2023-02-21 20:43:53,163 :: interpret.glassbox.ebm.bin :: eval_terms\n",
      "2023-02-21 20:43:53,168 :: interpret.utils._binning :: Creating native dataset\n",
      "2023-02-21 20:43:53,183 :: interpret.glassbox.ebm.bin :: eval_terms\n",
      "2023-02-21 20:43:53,206 :: interpret.glassbox.ebm.bin :: eval_terms\n",
      "2023-02-21 20:43:53,217 :: interpret.glassbox.ebm.bin :: eval_terms\n"
     ]
    },
    {
     "name": "stderr",
     "output_type": "stream",
     "text": [
      "\u001b[32m[I 2023-02-21 20:43:53,229]\u001b[0m Trial 134 finished with value: 12.178778542711493 and parameters: {'learning_rate': 0.091691831262616, 'validation_size': 0.15883238317405146, 'early_stopping_rounds': 112, 'early_stopping_tolerance': 0.0002118530131858457, 'max_rounds': 9364, 'min_samples_leaf': 2, 'max_leaves': 2}. Best is trial 1 with value: 11.721424841576487.\u001b[0m\n"
     ]
    },
    {
     "name": "stdout",
     "output_type": "stream",
     "text": [
      "2023-02-21 20:43:53,232 :: interpret.glassbox.ebm.bin :: eval_terms\n",
      "2023-02-21 20:43:53,244 :: interpret.glassbox.ebm.bin :: eval_terms\n",
      "2023-02-21 20:43:53,269 :: interpret.glassbox.ebm.bin :: eval_terms\n",
      "2023-02-21 20:43:53,282 :: interpret.glassbox.ebm.bin :: eval_terms\n",
      "2023-02-21 20:43:53,291 :: interpret.utils._binning :: Creating native dataset\n",
      "2023-02-21 20:43:53,296 :: interpret.utils._binning :: Creating native dataset\n",
      "2023-02-21 20:43:53,307 :: interpret.glassbox.ebm.ebm :: Estimating with FAST\n",
      "2023-02-21 20:43:53,367 :: interpret.glassbox.ebm.bin :: eval_terms\n",
      "2023-02-21 20:43:53,386 :: interpret.glassbox.ebm.bin :: eval_terms\n"
     ]
    },
    {
     "name": "stderr",
     "output_type": "stream",
     "text": [
      "\u001b[32m[I 2023-02-21 20:43:53,393]\u001b[0m Trial 132 finished with value: 11.768681560853098 and parameters: {'learning_rate': 0.09756491695115509, 'validation_size': 0.15764733305316006, 'early_stopping_rounds': 114, 'early_stopping_tolerance': 0.0002001099819109407, 'max_rounds': 9727, 'min_samples_leaf': 2, 'max_leaves': 2}. Best is trial 1 with value: 11.721424841576487.\u001b[0m\n"
     ]
    },
    {
     "name": "stdout",
     "output_type": "stream",
     "text": [
      "2023-02-21 20:43:53,440 :: interpret.utils._binning :: Creating native dataset\n",
      "2023-02-21 20:43:53,865 :: interpret.glassbox.ebm.bin :: eval_terms\n",
      "2023-02-21 20:43:53,868 :: interpret.glassbox.ebm.bin :: eval_terms\n",
      "2023-02-21 20:43:53,871 :: interpret.glassbox.ebm.bin :: eval_terms\n",
      "2023-02-21 20:43:53,875 :: interpret.glassbox.ebm.bin :: eval_terms\n",
      "2023-02-21 20:43:53,879 :: interpret.glassbox.ebm.bin :: eval_terms\n",
      "2023-02-21 20:43:53,883 :: interpret.glassbox.ebm.bin :: eval_terms\n",
      "2023-02-21 20:43:53,886 :: interpret.glassbox.ebm.bin :: eval_terms\n",
      "2023-02-21 20:43:53,890 :: interpret.glassbox.ebm.bin :: eval_terms\n",
      "2023-02-21 20:43:53,896 :: interpret.utils._binning :: Creating native dataset\n",
      "2023-02-21 20:43:53,902 :: interpret.glassbox.ebm.ebm :: Estimating with FAST\n",
      "2023-02-21 20:43:54,007 :: interpret.glassbox.ebm.bin :: eval_terms\n",
      "2023-02-21 20:43:54,011 :: interpret.glassbox.ebm.bin :: eval_terms\n",
      "2023-02-21 20:43:54,017 :: interpret.glassbox.ebm.bin :: eval_terms\n",
      "2023-02-21 20:43:54,021 :: interpret.glassbox.ebm.bin :: eval_terms\n",
      "2023-02-21 20:43:54,025 :: interpret.glassbox.ebm.bin :: eval_terms\n",
      "2023-02-21 20:43:54,029 :: interpret.glassbox.ebm.bin :: eval_terms\n",
      "2023-02-21 20:43:54,033 :: interpret.glassbox.ebm.bin :: eval_terms\n",
      "2023-02-21 20:43:54,038 :: interpret.glassbox.ebm.bin :: eval_terms\n",
      "2023-02-21 20:43:54,042 :: interpret.utils._binning :: Creating native dataset\n",
      "2023-02-21 20:43:54,048 :: interpret.glassbox.ebm.ebm :: Estimating with FAST\n",
      "2023-02-21 20:43:54,162 :: interpret.glassbox.ebm.bin :: eval_terms\n",
      "2023-02-21 20:43:54,169 :: interpret.glassbox.ebm.bin :: eval_terms\n",
      "2023-02-21 20:43:54,176 :: interpret.glassbox.ebm.bin :: eval_terms\n",
      "2023-02-21 20:43:54,182 :: interpret.glassbox.ebm.bin :: eval_terms\n",
      "2023-02-21 20:43:54,188 :: interpret.glassbox.ebm.bin :: eval_terms\n",
      "2023-02-21 20:43:54,191 :: interpret.glassbox.ebm.bin :: eval_terms\n",
      "2023-02-21 20:43:54,195 :: interpret.glassbox.ebm.bin :: eval_terms\n",
      "2023-02-21 20:43:54,199 :: interpret.glassbox.ebm.bin :: eval_terms\n",
      "2023-02-21 20:43:54,202 :: interpret.utils._binning :: Creating native dataset\n",
      "2023-02-21 20:43:54,208 :: interpret.glassbox.ebm.ebm :: Estimating with FAST\n",
      "2023-02-21 20:43:54,274 :: interpret.glassbox.ebm.bin :: eval_terms\n",
      "2023-02-21 20:43:54,281 :: interpret.glassbox.ebm.bin :: eval_terms\n",
      "2023-02-21 20:43:54,287 :: interpret.glassbox.ebm.bin :: eval_terms\n",
      "2023-02-21 20:43:54,291 :: interpret.glassbox.ebm.bin :: eval_terms\n",
      "2023-02-21 20:43:54,295 :: interpret.glassbox.ebm.bin :: eval_terms\n",
      "2023-02-21 20:43:54,299 :: interpret.glassbox.ebm.bin :: eval_terms\n",
      "2023-02-21 20:43:54,303 :: interpret.glassbox.ebm.bin :: eval_terms\n",
      "2023-02-21 20:43:54,307 :: interpret.glassbox.ebm.bin :: eval_terms\n",
      "2023-02-21 20:43:54,311 :: interpret.utils._binning :: Creating native dataset\n",
      "2023-02-21 20:43:54,319 :: interpret.glassbox.ebm.ebm :: Estimating with FAST\n",
      "2023-02-21 20:43:54,436 :: interpret.glassbox.ebm.bin :: eval_terms\n",
      "2023-02-21 20:43:54,446 :: interpret.glassbox.ebm.bin :: eval_terms\n",
      "2023-02-21 20:43:54,451 :: interpret.glassbox.ebm.bin :: eval_terms\n",
      "2023-02-21 20:43:54,456 :: interpret.glassbox.ebm.bin :: eval_terms\n",
      "2023-02-21 20:43:54,461 :: interpret.glassbox.ebm.bin :: eval_terms\n",
      "2023-02-21 20:43:54,465 :: interpret.glassbox.ebm.bin :: eval_terms\n",
      "2023-02-21 20:43:54,469 :: interpret.glassbox.ebm.bin :: eval_terms\n",
      "2023-02-21 20:43:54,473 :: interpret.glassbox.ebm.bin :: eval_terms\n",
      "2023-02-21 20:43:54,476 :: interpret.utils._binning :: Creating native dataset\n",
      "2023-02-21 20:43:54,481 :: interpret.glassbox.ebm.ebm :: Estimating with FAST\n",
      "2023-02-21 20:43:54,756 :: interpret.glassbox.ebm.bin :: eval_terms\n",
      "2023-02-21 20:43:54,774 :: interpret.glassbox.ebm.bin :: eval_terms\n"
     ]
    },
    {
     "name": "stderr",
     "output_type": "stream",
     "text": [
      "\u001b[32m[I 2023-02-21 20:43:54,780]\u001b[0m Trial 135 finished with value: 11.938772454812062 and parameters: {'learning_rate': 0.09158360677463699, 'validation_size': 0.1582732810820088, 'early_stopping_rounds': 114, 'early_stopping_tolerance': 0.00014383844671538671, 'max_rounds': 9479, 'min_samples_leaf': 2, 'max_leaves': 2}. Best is trial 1 with value: 11.721424841576487.\u001b[0m\n"
     ]
    },
    {
     "name": "stdout",
     "output_type": "stream",
     "text": [
      "2023-02-21 20:43:54,830 :: interpret.utils._binning :: Creating native dataset\n",
      "2023-02-21 20:43:55,101 :: interpret.glassbox.ebm.bin :: eval_terms\n",
      "2023-02-21 20:43:55,118 :: interpret.glassbox.ebm.bin :: eval_terms\n"
     ]
    },
    {
     "name": "stderr",
     "output_type": "stream",
     "text": [
      "\u001b[32m[I 2023-02-21 20:43:55,123]\u001b[0m Trial 136 finished with value: 11.717498291897297 and parameters: {'learning_rate': 0.09740051475479909, 'validation_size': 0.15880868368853937, 'early_stopping_rounds': 136, 'early_stopping_tolerance': 0.00013710838471780898, 'max_rounds': 15716, 'min_samples_leaf': 2, 'max_leaves': 2}. Best is trial 136 with value: 11.717498291897297.\u001b[0m\n"
     ]
    },
    {
     "name": "stdout",
     "output_type": "stream",
     "text": [
      "2023-02-21 20:43:55,165 :: interpret.utils._binning :: Creating native dataset\n",
      "2023-02-21 20:43:55,937 :: interpret.glassbox.ebm.bin :: eval_terms\n",
      "2023-02-21 20:43:55,993 :: interpret.glassbox.ebm.bin :: eval_terms\n"
     ]
    },
    {
     "name": "stderr",
     "output_type": "stream",
     "text": [
      "\u001b[32m[I 2023-02-21 20:43:56,030]\u001b[0m Trial 137 finished with value: 11.989712592254689 and parameters: {'learning_rate': 0.09782549828137362, 'validation_size': 0.16216715109110957, 'early_stopping_rounds': 114, 'early_stopping_tolerance': 0.00014198854525282521, 'max_rounds': 11519, 'min_samples_leaf': 2, 'max_leaves': 2}. Best is trial 136 with value: 11.717498291897297.\u001b[0m\n"
     ]
    },
    {
     "name": "stdout",
     "output_type": "stream",
     "text": [
      "2023-02-21 20:43:56,072 :: interpret.utils._binning :: Creating native dataset\n",
      "2023-02-21 20:43:56,314 :: interpret.glassbox.ebm.bin :: eval_terms\n",
      "2023-02-21 20:43:56,333 :: interpret.glassbox.ebm.bin :: eval_terms\n"
     ]
    },
    {
     "name": "stderr",
     "output_type": "stream",
     "text": [
      "\u001b[32m[I 2023-02-21 20:43:56,339]\u001b[0m Trial 138 finished with value: 11.876497779122145 and parameters: {'learning_rate': 0.0979443977416833, 'validation_size': 0.1541469660223986, 'early_stopping_rounds': 137, 'early_stopping_tolerance': 0.00014005620775746577, 'max_rounds': 15755, 'min_samples_leaf': 2, 'max_leaves': 2}. Best is trial 136 with value: 11.717498291897297.\u001b[0m\n"
     ]
    },
    {
     "name": "stdout",
     "output_type": "stream",
     "text": [
      "2023-02-21 20:43:56,384 :: interpret.utils._binning :: Creating native dataset\n",
      "2023-02-21 20:43:56,535 :: interpret.glassbox.ebm.bin :: eval_terms\n",
      "2023-02-21 20:43:56,539 :: interpret.glassbox.ebm.bin :: eval_terms\n",
      "2023-02-21 20:43:56,542 :: interpret.glassbox.ebm.bin :: eval_terms\n",
      "2023-02-21 20:43:56,546 :: interpret.glassbox.ebm.bin :: eval_terms\n",
      "2023-02-21 20:43:56,550 :: interpret.glassbox.ebm.bin :: eval_terms\n",
      "2023-02-21 20:43:56,553 :: interpret.glassbox.ebm.bin :: eval_terms\n",
      "2023-02-21 20:43:56,557 :: interpret.glassbox.ebm.bin :: eval_terms\n",
      "2023-02-21 20:43:56,560 :: interpret.glassbox.ebm.bin :: eval_terms\n",
      "2023-02-21 20:43:56,566 :: interpret.utils._binning :: Creating native dataset\n",
      "2023-02-21 20:43:56,570 :: interpret.glassbox.ebm.ebm :: Estimating with FAST\n",
      "2023-02-21 20:43:56,643 :: interpret.glassbox.ebm.bin :: eval_terms\n",
      "2023-02-21 20:43:56,658 :: interpret.glassbox.ebm.bin :: eval_terms\n",
      "2023-02-21 20:43:56,671 :: interpret.glassbox.ebm.bin :: eval_terms\n",
      "2023-02-21 20:43:56,671 :: interpret.glassbox.ebm.bin :: eval_terms\n"
     ]
    },
    {
     "name": "stderr",
     "output_type": "stream",
     "text": [
      "\u001b[32m[I 2023-02-21 20:43:56,677]\u001b[0m Trial 139 finished with value: 11.835491071090475 and parameters: {'learning_rate': 0.0980232123299974, 'validation_size': 0.15389737234583042, 'early_stopping_rounds': 113, 'early_stopping_tolerance': 0.00014689017342695473, 'max_rounds': 11782, 'min_samples_leaf': 2, 'max_leaves': 2}. Best is trial 136 with value: 11.717498291897297.\u001b[0m\n"
     ]
    },
    {
     "name": "stdout",
     "output_type": "stream",
     "text": [
      "2023-02-21 20:43:56,681 :: interpret.glassbox.ebm.bin :: eval_terms\n",
      "2023-02-21 20:43:56,722 :: interpret.glassbox.ebm.bin :: eval_terms\n",
      "2023-02-21 20:43:56,727 :: interpret.utils._binning :: Creating native dataset\n",
      "2023-02-21 20:43:56,731 :: interpret.glassbox.ebm.bin :: eval_terms\n",
      "2023-02-21 20:43:56,744 :: interpret.glassbox.ebm.bin :: eval_terms\n",
      "2023-02-21 20:43:56,747 :: interpret.glassbox.ebm.bin :: eval_terms\n",
      "2023-02-21 20:43:56,751 :: interpret.glassbox.ebm.bin :: eval_terms\n",
      "2023-02-21 20:43:56,756 :: interpret.utils._binning :: Creating native dataset\n",
      "2023-02-21 20:43:56,761 :: interpret.glassbox.ebm.ebm :: Estimating with FAST\n",
      "2023-02-21 20:43:57,070 :: interpret.glassbox.ebm.bin :: eval_terms\n",
      "2023-02-21 20:43:57,087 :: interpret.glassbox.ebm.bin :: eval_terms\n"
     ]
    },
    {
     "name": "stderr",
     "output_type": "stream",
     "text": [
      "\u001b[32m[I 2023-02-21 20:43:57,092]\u001b[0m Trial 140 finished with value: 11.764911408294306 and parameters: {'learning_rate': 0.0983025183208508, 'validation_size': 0.15447591749080672, 'early_stopping_rounds': 136, 'early_stopping_tolerance': 0.00013880724212827144, 'max_rounds': 9417, 'min_samples_leaf': 2, 'max_leaves': 2}. Best is trial 136 with value: 11.717498291897297.\u001b[0m\n"
     ]
    },
    {
     "name": "stdout",
     "output_type": "stream",
     "text": [
      "2023-02-21 20:43:57,149 :: interpret.utils._binning :: Creating native dataset\n",
      "2023-02-21 20:43:57,213 :: interpret.glassbox.ebm.bin :: eval_terms\n",
      "2023-02-21 20:43:57,219 :: interpret.glassbox.ebm.bin :: eval_terms\n",
      "2023-02-21 20:43:57,224 :: interpret.glassbox.ebm.bin :: eval_terms\n",
      "2023-02-21 20:43:57,234 :: interpret.glassbox.ebm.bin :: eval_terms\n",
      "2023-02-21 20:43:57,245 :: interpret.glassbox.ebm.bin :: eval_terms\n",
      "2023-02-21 20:43:57,250 :: interpret.glassbox.ebm.bin :: eval_terms\n",
      "2023-02-21 20:43:57,255 :: interpret.glassbox.ebm.bin :: eval_terms\n",
      "2023-02-21 20:43:57,259 :: interpret.glassbox.ebm.bin :: eval_terms\n",
      "2023-02-21 20:43:57,266 :: interpret.utils._binning :: Creating native dataset\n",
      "2023-02-21 20:43:57,272 :: interpret.glassbox.ebm.ebm :: Estimating with FAST\n",
      "2023-02-21 20:43:57,316 :: interpret.glassbox.ebm.bin :: eval_terms\n",
      "2023-02-21 20:43:57,324 :: interpret.glassbox.ebm.bin :: eval_terms\n",
      "2023-02-21 20:43:57,329 :: interpret.glassbox.ebm.bin :: eval_terms\n",
      "2023-02-21 20:43:57,333 :: interpret.glassbox.ebm.bin :: eval_terms\n",
      "2023-02-21 20:43:57,338 :: interpret.glassbox.ebm.bin :: eval_terms\n",
      "2023-02-21 20:43:57,343 :: interpret.glassbox.ebm.bin :: eval_terms\n",
      "2023-02-21 20:43:57,349 :: interpret.glassbox.ebm.bin :: eval_terms\n",
      "2023-02-21 20:43:57,357 :: interpret.glassbox.ebm.bin :: eval_terms\n",
      "2023-02-21 20:43:57,361 :: interpret.utils._binning :: Creating native dataset\n",
      "2023-02-21 20:43:57,371 :: interpret.glassbox.ebm.ebm :: Estimating with FAST\n",
      "2023-02-21 20:43:57,471 :: interpret.glassbox.ebm.bin :: eval_terms\n",
      "2023-02-21 20:43:57,480 :: interpret.glassbox.ebm.bin :: eval_terms\n",
      "2023-02-21 20:43:57,483 :: interpret.glassbox.ebm.bin :: eval_terms\n",
      "2023-02-21 20:43:57,487 :: interpret.glassbox.ebm.bin :: eval_terms\n",
      "2023-02-21 20:43:57,491 :: interpret.glassbox.ebm.bin :: eval_terms\n",
      "2023-02-21 20:43:57,495 :: interpret.glassbox.ebm.bin :: eval_terms\n",
      "2023-02-21 20:43:57,499 :: interpret.glassbox.ebm.bin :: eval_terms\n",
      "2023-02-21 20:43:57,503 :: interpret.glassbox.ebm.bin :: eval_terms\n",
      "2023-02-21 20:43:57,508 :: interpret.utils._binning :: Creating native dataset\n",
      "2023-02-21 20:43:57,516 :: interpret.glassbox.ebm.ebm :: Estimating with FAST\n",
      "2023-02-21 20:43:57,586 :: interpret.glassbox.ebm.bin :: eval_terms\n",
      "2023-02-21 20:43:57,591 :: interpret.glassbox.ebm.bin :: eval_terms\n",
      "2023-02-21 20:43:57,595 :: interpret.glassbox.ebm.bin :: eval_terms\n",
      "2023-02-21 20:43:57,599 :: interpret.glassbox.ebm.bin :: eval_terms\n",
      "2023-02-21 20:43:57,603 :: interpret.glassbox.ebm.bin :: eval_terms\n",
      "2023-02-21 20:43:57,608 :: interpret.glassbox.ebm.bin :: eval_terms\n",
      "2023-02-21 20:43:57,612 :: interpret.glassbox.ebm.bin :: eval_terms\n",
      "2023-02-21 20:43:57,616 :: interpret.glassbox.ebm.bin :: eval_terms\n",
      "2023-02-21 20:43:57,620 :: interpret.utils._binning :: Creating native dataset\n",
      "2023-02-21 20:43:57,626 :: interpret.glassbox.ebm.ebm :: Estimating with FAST\n",
      "2023-02-21 20:43:58,029 :: interpret.glassbox.ebm.bin :: eval_terms\n",
      "2023-02-21 20:43:58,068 :: interpret.glassbox.ebm.bin :: eval_terms\n"
     ]
    },
    {
     "name": "stderr",
     "output_type": "stream",
     "text": [
      "\u001b[32m[I 2023-02-21 20:43:58,077]\u001b[0m Trial 141 finished with value: 12.233193901224235 and parameters: {'learning_rate': 0.08091960612012165, 'validation_size': 0.15422847742188045, 'early_stopping_rounds': 136, 'early_stopping_tolerance': 0.0001283101145783849, 'max_rounds': 15785, 'min_samples_leaf': 2, 'max_leaves': 2}. Best is trial 136 with value: 11.717498291897297.\u001b[0m\n"
     ]
    },
    {
     "name": "stdout",
     "output_type": "stream",
     "text": [
      "2023-02-21 20:43:58,132 :: interpret.utils._binning :: Creating native dataset\n",
      "2023-02-21 20:43:58,346 :: interpret.glassbox.ebm.bin :: eval_terms\n",
      "2023-02-21 20:43:58,360 :: interpret.glassbox.ebm.bin :: eval_terms\n"
     ]
    },
    {
     "name": "stderr",
     "output_type": "stream",
     "text": [
      "\u001b[32m[I 2023-02-21 20:43:58,366]\u001b[0m Trial 142 finished with value: 11.805823571025664 and parameters: {'learning_rate': 0.09891306082498466, 'validation_size': 0.15722694737147866, 'early_stopping_rounds': 106, 'early_stopping_tolerance': 0.00015110736956560364, 'max_rounds': 10777, 'min_samples_leaf': 2, 'max_leaves': 2}. Best is trial 136 with value: 11.717498291897297.\u001b[0m\n"
     ]
    },
    {
     "name": "stdout",
     "output_type": "stream",
     "text": [
      "2023-02-21 20:43:58,407 :: interpret.utils._binning :: Creating native dataset\n",
      "2023-02-21 20:43:59,095 :: interpret.glassbox.ebm.bin :: eval_terms\n",
      "2023-02-21 20:43:59,137 :: interpret.glassbox.ebm.bin :: eval_terms\n"
     ]
    },
    {
     "name": "stderr",
     "output_type": "stream",
     "text": [
      "\u001b[32m[I 2023-02-21 20:43:59,159]\u001b[0m Trial 143 finished with value: 11.891252162000548 and parameters: {'learning_rate': 0.09908420672727794, 'validation_size': 0.15673683646849113, 'early_stopping_rounds': 107, 'early_stopping_tolerance': 0.00012142271467992787, 'max_rounds': 11577, 'min_samples_leaf': 2, 'max_leaves': 2}. Best is trial 136 with value: 11.717498291897297.\u001b[0m\n"
     ]
    },
    {
     "name": "stdout",
     "output_type": "stream",
     "text": [
      "2023-02-21 20:43:59,203 :: interpret.utils._binning :: Creating native dataset\n",
      "2023-02-21 20:43:59,258 :: interpret.glassbox.ebm.bin :: eval_terms\n",
      "2023-02-21 20:43:59,275 :: interpret.glassbox.ebm.bin :: eval_terms\n"
     ]
    },
    {
     "name": "stderr",
     "output_type": "stream",
     "text": [
      "\u001b[32m[I 2023-02-21 20:43:59,282]\u001b[0m Trial 144 finished with value: 11.945852579342821 and parameters: {'learning_rate': 0.09874516937524654, 'validation_size': 0.16238972414279376, 'early_stopping_rounds': 105, 'early_stopping_tolerance': 6.692269051991998e-05, 'max_rounds': 10393, 'min_samples_leaf': 2, 'max_leaves': 2}. Best is trial 136 with value: 11.717498291897297.\u001b[0m\n"
     ]
    },
    {
     "name": "stdout",
     "output_type": "stream",
     "text": [
      "2023-02-21 20:43:59,325 :: interpret.utils._binning :: Creating native dataset\n",
      "2023-02-21 20:43:59,913 :: interpret.glassbox.ebm.bin :: eval_terms\n",
      "2023-02-21 20:43:59,930 :: interpret.glassbox.ebm.bin :: eval_terms\n"
     ]
    },
    {
     "name": "stderr",
     "output_type": "stream",
     "text": [
      "\u001b[32m[I 2023-02-21 20:43:59,937]\u001b[0m Trial 145 finished with value: 11.791840181612555 and parameters: {'learning_rate': 0.09928362780393121, 'validation_size': 0.1611522979968714, 'early_stopping_rounds': 200, 'early_stopping_tolerance': 6.558155031276164e-05, 'max_rounds': 9050, 'min_samples_leaf': 2, 'max_leaves': 2}. Best is trial 136 with value: 11.717498291897297.\u001b[0m\n"
     ]
    },
    {
     "name": "stdout",
     "output_type": "stream",
     "text": [
      "2023-02-21 20:43:59,984 :: interpret.utils._binning :: Creating native dataset\n",
      "2023-02-21 20:44:00,107 :: interpret.glassbox.ebm.bin :: eval_terms\n",
      "2023-02-21 20:44:00,112 :: interpret.glassbox.ebm.bin :: eval_terms\n",
      "2023-02-21 20:44:00,116 :: interpret.glassbox.ebm.bin :: eval_terms\n",
      "2023-02-21 20:44:00,120 :: interpret.glassbox.ebm.bin :: eval_terms\n",
      "2023-02-21 20:44:00,123 :: interpret.glassbox.ebm.bin :: eval_terms\n",
      "2023-02-21 20:44:00,127 :: interpret.glassbox.ebm.bin :: eval_terms\n",
      "2023-02-21 20:44:00,131 :: interpret.glassbox.ebm.bin :: eval_terms\n",
      "2023-02-21 20:44:00,134 :: interpret.glassbox.ebm.bin :: eval_terms\n",
      "2023-02-21 20:44:00,138 :: interpret.utils._binning :: Creating native dataset\n",
      "2023-02-21 20:44:00,143 :: interpret.glassbox.ebm.ebm :: Estimating with FAST\n",
      "2023-02-21 20:44:00,255 :: interpret.glassbox.ebm.bin :: eval_terms\n",
      "2023-02-21 20:44:00,258 :: interpret.glassbox.ebm.bin :: eval_terms\n",
      "2023-02-21 20:44:00,263 :: interpret.glassbox.ebm.bin :: eval_terms\n",
      "2023-02-21 20:44:00,266 :: interpret.glassbox.ebm.bin :: eval_terms\n",
      "2023-02-21 20:44:00,272 :: interpret.glassbox.ebm.bin :: eval_terms\n",
      "2023-02-21 20:44:00,275 :: interpret.glassbox.ebm.bin :: eval_terms\n",
      "2023-02-21 20:44:00,280 :: interpret.glassbox.ebm.bin :: eval_terms\n",
      "2023-02-21 20:44:00,284 :: interpret.glassbox.ebm.bin :: eval_terms\n",
      "2023-02-21 20:44:00,288 :: interpret.glassbox.ebm.bin :: eval_terms\n",
      "2023-02-21 20:44:00,291 :: interpret.utils._binning :: Creating native dataset\n",
      "2023-02-21 20:44:00,315 :: interpret.glassbox.ebm.bin :: eval_terms\n",
      "2023-02-21 20:44:00,320 :: interpret.glassbox.ebm.ebm :: Estimating with FAST\n"
     ]
    },
    {
     "name": "stderr",
     "output_type": "stream",
     "text": [
      "\u001b[32m[I 2023-02-21 20:44:00,327]\u001b[0m Trial 146 finished with value: 11.825061663403078 and parameters: {'learning_rate': 0.09947079116648251, 'validation_size': 0.16269608483588094, 'early_stopping_rounds': 135, 'early_stopping_tolerance': 0.0001229122123037355, 'max_rounds': 15738, 'min_samples_leaf': 2, 'max_leaves': 2}. Best is trial 136 with value: 11.717498291897297.\u001b[0m\n"
     ]
    },
    {
     "name": "stdout",
     "output_type": "stream",
     "text": [
      "2023-02-21 20:44:00,386 :: interpret.utils._binning :: Creating native dataset\n",
      "2023-02-21 20:44:00,422 :: interpret.glassbox.ebm.bin :: eval_terms\n",
      "2023-02-21 20:44:00,428 :: interpret.glassbox.ebm.bin :: eval_terms\n",
      "2023-02-21 20:44:00,433 :: interpret.glassbox.ebm.bin :: eval_terms\n",
      "2023-02-21 20:44:00,437 :: interpret.glassbox.ebm.bin :: eval_terms\n",
      "2023-02-21 20:44:00,442 :: interpret.glassbox.ebm.bin :: eval_terms\n",
      "2023-02-21 20:44:00,446 :: interpret.glassbox.ebm.bin :: eval_terms\n",
      "2023-02-21 20:44:00,450 :: interpret.glassbox.ebm.bin :: eval_terms\n",
      "2023-02-21 20:44:00,454 :: interpret.glassbox.ebm.bin :: eval_terms\n",
      "2023-02-21 20:44:00,460 :: interpret.utils._binning :: Creating native dataset\n",
      "2023-02-21 20:44:00,466 :: interpret.glassbox.ebm.ebm :: Estimating with FAST\n",
      "2023-02-21 20:44:00,497 :: interpret.glassbox.ebm.bin :: eval_terms\n",
      "2023-02-21 20:44:00,502 :: interpret.glassbox.ebm.bin :: eval_terms\n",
      "2023-02-21 20:44:00,507 :: interpret.glassbox.ebm.bin :: eval_terms\n",
      "2023-02-21 20:44:00,512 :: interpret.glassbox.ebm.bin :: eval_terms\n",
      "2023-02-21 20:44:00,515 :: interpret.glassbox.ebm.bin :: eval_terms\n",
      "2023-02-21 20:44:00,519 :: interpret.glassbox.ebm.bin :: eval_terms\n",
      "2023-02-21 20:44:00,523 :: interpret.glassbox.ebm.bin :: eval_terms\n",
      "2023-02-21 20:44:00,528 :: interpret.glassbox.ebm.bin :: eval_terms\n",
      "2023-02-21 20:44:00,532 :: interpret.utils._binning :: Creating native dataset\n",
      "2023-02-21 20:44:00,538 :: interpret.glassbox.ebm.ebm :: Estimating with FAST\n",
      "2023-02-21 20:44:00,636 :: interpret.glassbox.ebm.bin :: eval_terms\n",
      "2023-02-21 20:44:00,641 :: interpret.glassbox.ebm.bin :: eval_terms\n",
      "2023-02-21 20:44:00,646 :: interpret.glassbox.ebm.bin :: eval_terms\n",
      "2023-02-21 20:44:00,652 :: interpret.glassbox.ebm.bin :: eval_terms\n",
      "2023-02-21 20:44:00,655 :: interpret.glassbox.ebm.bin :: eval_terms\n",
      "2023-02-21 20:44:00,660 :: interpret.glassbox.ebm.bin :: eval_terms\n",
      "2023-02-21 20:44:00,664 :: interpret.glassbox.ebm.bin :: eval_terms\n",
      "2023-02-21 20:44:00,667 :: interpret.glassbox.ebm.bin :: eval_terms\n",
      "2023-02-21 20:44:00,672 :: interpret.utils._binning :: Creating native dataset\n",
      "2023-02-21 20:44:00,680 :: interpret.glassbox.ebm.ebm :: Estimating with FAST\n",
      "2023-02-21 20:44:00,801 :: interpret.glassbox.ebm.bin :: eval_terms\n",
      "2023-02-21 20:44:00,823 :: interpret.glassbox.ebm.bin :: eval_terms\n"
     ]
    },
    {
     "name": "stderr",
     "output_type": "stream",
     "text": [
      "\u001b[32m[I 2023-02-21 20:44:00,829]\u001b[0m Trial 147 finished with value: 11.763995383904946 and parameters: {'learning_rate': 0.09995619610493203, 'validation_size': 0.16207231889344226, 'early_stopping_rounds': 102, 'early_stopping_tolerance': 0.00011688988280469768, 'max_rounds': 15697, 'min_samples_leaf': 2, 'max_leaves': 2}. Best is trial 136 with value: 11.717498291897297.\u001b[0m\n"
     ]
    },
    {
     "name": "stdout",
     "output_type": "stream",
     "text": [
      "2023-02-21 20:44:00,842 :: interpret.glassbox.ebm.bin :: eval_terms\n",
      "2023-02-21 20:44:00,864 :: interpret.glassbox.ebm.bin :: eval_terms\n",
      "2023-02-21 20:44:00,888 :: interpret.utils._binning :: Creating native dataset\n",
      "2023-02-21 20:44:00,889 :: interpret.glassbox.ebm.bin :: eval_terms\n",
      "2023-02-21 20:44:00,905 :: interpret.glassbox.ebm.bin :: eval_terms\n",
      "2023-02-21 20:44:00,910 :: interpret.glassbox.ebm.bin :: eval_terms\n",
      "2023-02-21 20:44:00,914 :: interpret.glassbox.ebm.bin :: eval_terms\n",
      "2023-02-21 20:44:00,917 :: interpret.glassbox.ebm.bin :: eval_terms\n",
      "2023-02-21 20:44:00,921 :: interpret.glassbox.ebm.bin :: eval_terms\n",
      "2023-02-21 20:44:00,928 :: interpret.utils._binning :: Creating native dataset\n",
      "2023-02-21 20:44:00,933 :: interpret.glassbox.ebm.ebm :: Estimating with FAST\n",
      "2023-02-21 20:44:01,216 :: interpret.glassbox.ebm.bin :: eval_terms\n",
      "2023-02-21 20:44:01,239 :: interpret.glassbox.ebm.bin :: eval_terms\n"
     ]
    },
    {
     "name": "stderr",
     "output_type": "stream",
     "text": [
      "\u001b[32m[I 2023-02-21 20:44:01,246]\u001b[0m Trial 148 finished with value: 11.804635413766944 and parameters: {'learning_rate': 0.09977277672797714, 'validation_size': 0.16096415423346128, 'early_stopping_rounds': 104, 'early_stopping_tolerance': 6.881908085911216e-05, 'max_rounds': 10384, 'min_samples_leaf': 2, 'max_leaves': 2}. Best is trial 136 with value: 11.717498291897297.\u001b[0m\n"
     ]
    },
    {
     "name": "stdout",
     "output_type": "stream",
     "text": [
      "2023-02-21 20:44:01,299 :: interpret.utils._binning :: Creating native dataset\n",
      "2023-02-21 20:44:02,165 :: interpret.glassbox.ebm.bin :: eval_terms\n",
      "2023-02-21 20:44:02,173 :: interpret.glassbox.ebm.bin :: eval_terms\n",
      "2023-02-21 20:44:02,190 :: interpret.glassbox.ebm.bin :: eval_terms\n",
      "2023-02-21 20:44:02,241 :: interpret.glassbox.ebm.bin :: eval_terms\n",
      "2023-02-21 20:44:02,288 :: interpret.glassbox.ebm.bin :: eval_terms\n",
      "2023-02-21 20:44:02,292 :: interpret.glassbox.ebm.bin :: eval_terms\n",
      "2023-02-21 20:44:02,295 :: interpret.glassbox.ebm.bin :: eval_terms\n",
      "2023-02-21 20:44:02,299 :: interpret.glassbox.ebm.bin :: eval_terms\n",
      "2023-02-21 20:44:02,302 :: interpret.utils._binning :: Creating native dataset\n",
      "2023-02-21 20:44:02,308 :: interpret.glassbox.ebm.ebm :: Estimating with FAST\n",
      "2023-02-21 20:44:02,366 :: interpret.glassbox.ebm.bin :: eval_terms\n",
      "2023-02-21 20:44:02,384 :: interpret.glassbox.ebm.bin :: eval_terms\n"
     ]
    },
    {
     "name": "stderr",
     "output_type": "stream",
     "text": [
      "\u001b[32m[I 2023-02-21 20:44:02,389]\u001b[0m Trial 149 finished with value: 11.823111637826202 and parameters: {'learning_rate': 0.0989531180102981, 'validation_size': 0.15695707775851953, 'early_stopping_rounds': 111, 'early_stopping_tolerance': 6.199766141062627e-05, 'max_rounds': 10517, 'min_samples_leaf': 2, 'max_leaves': 2}. Best is trial 136 with value: 11.717498291897297.\u001b[0m\n"
     ]
    },
    {
     "name": "stdout",
     "output_type": "stream",
     "text": [
      "2023-02-21 20:44:02,433 :: interpret.utils._binning :: Creating native dataset\n",
      "2023-02-21 20:44:02,644 :: interpret.glassbox.ebm.bin :: eval_terms\n",
      "2023-02-21 20:44:02,663 :: interpret.glassbox.ebm.bin :: eval_terms\n"
     ]
    },
    {
     "name": "stderr",
     "output_type": "stream",
     "text": [
      "\u001b[32m[I 2023-02-21 20:44:02,669]\u001b[0m Trial 150 finished with value: 11.845591362805004 and parameters: {'learning_rate': 0.099504853428684, 'validation_size': 0.1612276819955685, 'early_stopping_rounds': 109, 'early_stopping_tolerance': 6.341668470833035e-05, 'max_rounds': 10636, 'min_samples_leaf': 2, 'max_leaves': 2}. Best is trial 136 with value: 11.717498291897297.\u001b[0m\n"
     ]
    },
    {
     "name": "stdout",
     "output_type": "stream",
     "text": [
      "2023-02-21 20:44:02,717 :: interpret.utils._binning :: Creating native dataset\n",
      "2023-02-21 20:44:02,826 :: interpret.glassbox.ebm.bin :: eval_terms\n",
      "2023-02-21 20:44:02,830 :: interpret.glassbox.ebm.bin :: eval_terms\n",
      "2023-02-21 20:44:02,833 :: interpret.glassbox.ebm.bin :: eval_terms\n",
      "2023-02-21 20:44:02,837 :: interpret.glassbox.ebm.bin :: eval_terms\n",
      "2023-02-21 20:44:02,840 :: interpret.glassbox.ebm.bin :: eval_terms\n",
      "2023-02-21 20:44:02,844 :: interpret.glassbox.ebm.bin :: eval_terms\n",
      "2023-02-21 20:44:02,847 :: interpret.glassbox.ebm.bin :: eval_terms\n",
      "2023-02-21 20:44:02,851 :: interpret.glassbox.ebm.bin :: eval_terms\n",
      "2023-02-21 20:44:02,855 :: interpret.utils._binning :: Creating native dataset\n",
      "2023-02-21 20:44:02,861 :: interpret.glassbox.ebm.ebm :: Estimating with FAST\n",
      "2023-02-21 20:44:03,033 :: interpret.glassbox.ebm.bin :: eval_terms\n",
      "2023-02-21 20:44:03,051 :: interpret.glassbox.ebm.bin :: eval_terms\n"
     ]
    },
    {
     "name": "stderr",
     "output_type": "stream",
     "text": [
      "\u001b[32m[I 2023-02-21 20:44:03,057]\u001b[0m Trial 151 finished with value: 11.85379778201492 and parameters: {'learning_rate': 0.09985336979779903, 'validation_size': 0.1606372352801457, 'early_stopping_rounds': 104, 'early_stopping_tolerance': 5.261457631603307e-05, 'max_rounds': 10881, 'min_samples_leaf': 2, 'max_leaves': 2}. Best is trial 136 with value: 11.717498291897297.\u001b[0m\n"
     ]
    },
    {
     "name": "stdout",
     "output_type": "stream",
     "text": [
      "2023-02-21 20:44:03,122 :: interpret.utils._binning :: Creating native dataset\n",
      "2023-02-21 20:44:03,370 :: interpret.glassbox.ebm.bin :: eval_terms\n",
      "2023-02-21 20:44:03,373 :: interpret.glassbox.ebm.bin :: eval_terms\n",
      "2023-02-21 20:44:03,374 :: interpret.glassbox.ebm.bin :: eval_terms\n",
      "2023-02-21 20:44:03,378 :: interpret.glassbox.ebm.bin :: eval_terms\n",
      "2023-02-21 20:44:03,390 :: interpret.glassbox.ebm.bin :: eval_terms\n",
      "2023-02-21 20:44:03,405 :: interpret.glassbox.ebm.bin :: eval_terms\n",
      "2023-02-21 20:44:03,411 :: interpret.glassbox.ebm.bin :: eval_terms\n",
      "2023-02-21 20:44:03,421 :: interpret.glassbox.ebm.bin :: eval_terms\n"
     ]
    },
    {
     "name": "stderr",
     "output_type": "stream",
     "text": [
      "\u001b[32m[I 2023-02-21 20:44:03,432]\u001b[0m Trial 152 finished with value: 12.222917397772019 and parameters: {'learning_rate': 0.09642513735193838, 'validation_size': 0.1568065875905011, 'early_stopping_rounds': 108, 'early_stopping_tolerance': 0.00011653891347097328, 'max_rounds': 11880, 'min_samples_leaf': 2, 'max_leaves': 2}. Best is trial 136 with value: 11.717498291897297.\u001b[0m\n"
     ]
    },
    {
     "name": "stdout",
     "output_type": "stream",
     "text": [
      "2023-02-21 20:44:03,424 :: interpret.glassbox.ebm.bin :: eval_terms\n",
      "2023-02-21 20:44:03,439 :: interpret.glassbox.ebm.bin :: eval_terms\n",
      "2023-02-21 20:44:03,482 :: interpret.utils._binning :: Creating native dataset\n",
      "2023-02-21 20:44:03,495 :: interpret.glassbox.ebm.ebm :: Estimating with FAST\n",
      "2023-02-21 20:44:03,497 :: interpret.utils._binning :: Creating native dataset\n",
      "2023-02-21 20:44:03,566 :: interpret.glassbox.ebm.bin :: eval_terms\n",
      "2023-02-21 20:44:03,572 :: interpret.glassbox.ebm.bin :: eval_terms\n",
      "2023-02-21 20:44:03,577 :: interpret.glassbox.ebm.bin :: eval_terms\n",
      "2023-02-21 20:44:03,582 :: interpret.glassbox.ebm.bin :: eval_terms\n",
      "2023-02-21 20:44:03,588 :: interpret.glassbox.ebm.bin :: eval_terms\n",
      "2023-02-21 20:44:03,592 :: interpret.glassbox.ebm.bin :: eval_terms\n",
      "2023-02-21 20:44:03,595 :: interpret.glassbox.ebm.bin :: eval_terms\n",
      "2023-02-21 20:44:03,600 :: interpret.glassbox.ebm.bin :: eval_terms\n",
      "2023-02-21 20:44:03,603 :: interpret.utils._binning :: Creating native dataset\n",
      "2023-02-21 20:44:03,609 :: interpret.glassbox.ebm.ebm :: Estimating with FAST\n",
      "2023-02-21 20:44:03,882 :: interpret.glassbox.ebm.bin :: eval_terms\n",
      "2023-02-21 20:44:03,886 :: interpret.glassbox.ebm.bin :: eval_terms\n",
      "2023-02-21 20:44:03,891 :: interpret.glassbox.ebm.bin :: eval_terms\n",
      "2023-02-21 20:44:03,895 :: interpret.glassbox.ebm.bin :: eval_terms\n",
      "2023-02-21 20:44:03,900 :: interpret.glassbox.ebm.bin :: eval_terms\n",
      "2023-02-21 20:44:03,903 :: interpret.glassbox.ebm.bin :: eval_terms\n",
      "2023-02-21 20:44:03,907 :: interpret.glassbox.ebm.bin :: eval_terms\n",
      "2023-02-21 20:44:03,911 :: interpret.glassbox.ebm.bin :: eval_terms\n",
      "2023-02-21 20:44:03,914 :: interpret.utils._binning :: Creating native dataset\n",
      "2023-02-21 20:44:03,920 :: interpret.glassbox.ebm.ebm :: Estimating with FAST\n",
      "2023-02-21 20:44:04,100 :: interpret.glassbox.ebm.bin :: eval_terms\n",
      "2023-02-21 20:44:04,121 :: interpret.glassbox.ebm.bin :: eval_terms\n"
     ]
    },
    {
     "name": "stderr",
     "output_type": "stream",
     "text": [
      "\u001b[32m[I 2023-02-21 20:44:04,127]\u001b[0m Trial 153 finished with value: 12.245983135400555 and parameters: {'learning_rate': 0.09618590691199927, 'validation_size': 0.15875759666115746, 'early_stopping_rounds': 122, 'early_stopping_tolerance': 8.92065197674034e-05, 'max_rounds': 10757, 'min_samples_leaf': 2, 'max_leaves': 2}. Best is trial 136 with value: 11.717498291897297.\u001b[0m\n"
     ]
    },
    {
     "name": "stdout",
     "output_type": "stream",
     "text": [
      "2023-02-21 20:44:04,197 :: interpret.utils._binning :: Creating native dataset\n",
      "2023-02-21 20:44:04,375 :: interpret.glassbox.ebm.bin :: eval_terms\n",
      "2023-02-21 20:44:04,381 :: interpret.glassbox.ebm.bin :: eval_terms\n",
      "2023-02-21 20:44:04,388 :: interpret.glassbox.ebm.bin :: eval_terms\n",
      "2023-02-21 20:44:04,394 :: interpret.glassbox.ebm.bin :: eval_terms\n",
      "2023-02-21 20:44:04,397 :: interpret.glassbox.ebm.bin :: eval_terms\n",
      "2023-02-21 20:44:04,401 :: interpret.glassbox.ebm.bin :: eval_terms\n",
      "2023-02-21 20:44:04,407 :: interpret.glassbox.ebm.bin :: eval_terms\n",
      "2023-02-21 20:44:04,411 :: interpret.glassbox.ebm.bin :: eval_terms\n",
      "2023-02-21 20:44:04,415 :: interpret.utils._binning :: Creating native dataset\n",
      "2023-02-21 20:44:04,420 :: interpret.glassbox.ebm.ebm :: Estimating with FAST\n",
      "2023-02-21 20:44:04,557 :: interpret.glassbox.ebm.bin :: eval_terms\n",
      "2023-02-21 20:44:04,592 :: interpret.glassbox.ebm.bin :: eval_terms\n"
     ]
    },
    {
     "name": "stderr",
     "output_type": "stream",
     "text": [
      "\u001b[32m[I 2023-02-21 20:44:04,643]\u001b[0m Trial 154 finished with value: 12.112325247564117 and parameters: {'learning_rate': 0.09667956693702998, 'validation_size': 0.16065649751332584, 'early_stopping_rounds': 120, 'early_stopping_tolerance': 0.00010436437043525102, 'max_rounds': 10847, 'min_samples_leaf': 2, 'max_leaves': 2}. Best is trial 136 with value: 11.717498291897297.\u001b[0m\n"
     ]
    },
    {
     "name": "stdout",
     "output_type": "stream",
     "text": [
      "2023-02-21 20:44:04,718 :: interpret.utils._binning :: Creating native dataset\n",
      "2023-02-21 20:44:04,850 :: interpret.glassbox.ebm.bin :: eval_terms\n",
      "2023-02-21 20:44:04,855 :: interpret.glassbox.ebm.bin :: eval_terms\n",
      "2023-02-21 20:44:04,860 :: interpret.glassbox.ebm.bin :: eval_terms\n",
      "2023-02-21 20:44:04,863 :: interpret.glassbox.ebm.bin :: eval_terms\n",
      "2023-02-21 20:44:04,867 :: interpret.glassbox.ebm.bin :: eval_terms\n",
      "2023-02-21 20:44:04,872 :: interpret.glassbox.ebm.bin :: eval_terms\n",
      "2023-02-21 20:44:04,876 :: interpret.glassbox.ebm.bin :: eval_terms\n",
      "2023-02-21 20:44:04,881 :: interpret.glassbox.ebm.bin :: eval_terms\n",
      "2023-02-21 20:44:04,885 :: interpret.utils._binning :: Creating native dataset\n",
      "2023-02-21 20:44:04,892 :: interpret.glassbox.ebm.ebm :: Estimating with FAST\n",
      "2023-02-21 20:44:05,269 :: interpret.glassbox.ebm.bin :: eval_terms\n",
      "2023-02-21 20:44:05,287 :: interpret.glassbox.ebm.bin :: eval_terms\n"
     ]
    },
    {
     "name": "stderr",
     "output_type": "stream",
     "text": [
      "\u001b[32m[I 2023-02-21 20:44:05,292]\u001b[0m Trial 155 finished with value: 12.09654436147577 and parameters: {'learning_rate': 0.09627176465291454, 'validation_size': 0.1611159816064669, 'early_stopping_rounds': 103, 'early_stopping_tolerance': 9.634024410313418e-05, 'max_rounds': 10976, 'min_samples_leaf': 2, 'max_leaves': 2}. Best is trial 136 with value: 11.717498291897297.\u001b[0m\n"
     ]
    },
    {
     "name": "stdout",
     "output_type": "stream",
     "text": [
      "2023-02-21 20:44:05,340 :: interpret.utils._binning :: Creating native dataset\n",
      "2023-02-21 20:44:05,559 :: interpret.glassbox.ebm.bin :: eval_terms\n",
      "2023-02-21 20:44:05,583 :: interpret.glassbox.ebm.bin :: eval_terms\n"
     ]
    },
    {
     "name": "stderr",
     "output_type": "stream",
     "text": [
      "\u001b[32m[I 2023-02-21 20:44:05,588]\u001b[0m Trial 156 finished with value: 12.152696595794366 and parameters: {'learning_rate': 0.09603434705143572, 'validation_size': 0.16144441497268805, 'early_stopping_rounds': 101, 'early_stopping_tolerance': 4.673560997619731e-05, 'max_rounds': 11010, 'min_samples_leaf': 2, 'max_leaves': 2}. Best is trial 136 with value: 11.717498291897297.\u001b[0m\n"
     ]
    },
    {
     "name": "stdout",
     "output_type": "stream",
     "text": [
      "2023-02-21 20:44:05,637 :: interpret.utils._binning :: Creating native dataset\n",
      "2023-02-21 20:44:05,820 :: interpret.glassbox.ebm.bin :: eval_terms\n",
      "2023-02-21 20:44:05,824 :: interpret.glassbox.ebm.bin :: eval_terms\n",
      "2023-02-21 20:44:05,828 :: interpret.glassbox.ebm.bin :: eval_terms\n",
      "2023-02-21 20:44:05,833 :: interpret.glassbox.ebm.bin :: eval_terms\n",
      "2023-02-21 20:44:05,836 :: interpret.glassbox.ebm.bin :: eval_terms\n",
      "2023-02-21 20:44:05,839 :: interpret.glassbox.ebm.bin :: eval_terms\n",
      "2023-02-21 20:44:05,843 :: interpret.glassbox.ebm.bin :: eval_terms\n",
      "2023-02-21 20:44:05,848 :: interpret.glassbox.ebm.bin :: eval_terms\n",
      "2023-02-21 20:44:05,852 :: interpret.utils._binning :: Creating native dataset\n",
      "2023-02-21 20:44:05,861 :: interpret.glassbox.ebm.ebm :: Estimating with FAST\n",
      "2023-02-21 20:44:05,948 :: interpret.glassbox.ebm.bin :: eval_terms\n",
      "2023-02-21 20:44:05,951 :: interpret.glassbox.ebm.bin :: eval_terms\n",
      "2023-02-21 20:44:05,957 :: interpret.glassbox.ebm.bin :: eval_terms\n",
      "2023-02-21 20:44:05,961 :: interpret.glassbox.ebm.bin :: eval_terms\n",
      "2023-02-21 20:44:05,965 :: interpret.glassbox.ebm.bin :: eval_terms\n",
      "2023-02-21 20:44:05,969 :: interpret.glassbox.ebm.bin :: eval_terms\n",
      "2023-02-21 20:44:05,975 :: interpret.glassbox.ebm.bin :: eval_terms\n",
      "2023-02-21 20:44:05,977 :: interpret.glassbox.ebm.bin :: eval_terms\n",
      "2023-02-21 20:44:05,980 :: interpret.utils._binning :: Creating native dataset\n",
      "2023-02-21 20:44:05,986 :: interpret.glassbox.ebm.ebm :: Estimating with FAST\n",
      "2023-02-21 20:44:06,112 :: interpret.glassbox.ebm.bin :: eval_terms\n",
      "2023-02-21 20:44:06,130 :: interpret.glassbox.ebm.bin :: eval_terms\n"
     ]
    },
    {
     "name": "stderr",
     "output_type": "stream",
     "text": [
      "\u001b[32m[I 2023-02-21 20:44:06,136]\u001b[0m Trial 157 finished with value: 12.058876369813001 and parameters: {'learning_rate': 0.09629328476614298, 'validation_size': 0.16049091457731116, 'early_stopping_rounds': 99, 'early_stopping_tolerance': 4.87756901176855e-05, 'max_rounds': 11010, 'min_samples_leaf': 2, 'max_leaves': 2}. Best is trial 136 with value: 11.717498291897297.\u001b[0m\n"
     ]
    },
    {
     "name": "stdout",
     "output_type": "stream",
     "text": [
      "2023-02-21 20:44:06,186 :: interpret.utils._binning :: Creating native dataset\n",
      "2023-02-21 20:44:06,435 :: interpret.glassbox.ebm.bin :: eval_terms\n",
      "2023-02-21 20:44:06,439 :: interpret.glassbox.ebm.bin :: eval_terms\n",
      "2023-02-21 20:44:06,443 :: interpret.glassbox.ebm.bin :: eval_terms\n",
      "2023-02-21 20:44:06,446 :: interpret.glassbox.ebm.bin :: eval_terms\n",
      "2023-02-21 20:44:06,450 :: interpret.glassbox.ebm.bin :: eval_terms\n",
      "2023-02-21 20:44:06,453 :: interpret.glassbox.ebm.bin :: eval_terms\n",
      "2023-02-21 20:44:06,456 :: interpret.glassbox.ebm.bin :: eval_terms\n",
      "2023-02-21 20:44:06,460 :: interpret.glassbox.ebm.bin :: eval_terms\n",
      "2023-02-21 20:44:06,464 :: interpret.utils._binning :: Creating native dataset\n",
      "2023-02-21 20:44:06,470 :: interpret.glassbox.ebm.ebm :: Estimating with FAST\n",
      "2023-02-21 20:44:06,516 :: interpret.glassbox.ebm.bin :: eval_terms\n",
      "2023-02-21 20:44:06,533 :: interpret.glassbox.ebm.bin :: eval_terms\n"
     ]
    },
    {
     "name": "stderr",
     "output_type": "stream",
     "text": [
      "\u001b[32m[I 2023-02-21 20:44:06,541]\u001b[0m Trial 158 finished with value: 12.10732125566781 and parameters: {'learning_rate': 0.09591594619569899, 'validation_size': 0.16059576344098572, 'early_stopping_rounds': 101, 'early_stopping_tolerance': 8.997882722946209e-05, 'max_rounds': 10970, 'min_samples_leaf': 2, 'max_leaves': 2}. Best is trial 136 with value: 11.717498291897297.\u001b[0m\n"
     ]
    },
    {
     "name": "stdout",
     "output_type": "stream",
     "text": [
      "2023-02-21 20:44:06,584 :: interpret.utils._binning :: Creating native dataset\n",
      "2023-02-21 20:44:06,929 :: interpret.glassbox.ebm.bin :: eval_terms\n",
      "2023-02-21 20:44:06,933 :: interpret.glassbox.ebm.bin :: eval_terms\n",
      "2023-02-21 20:44:06,936 :: interpret.glassbox.ebm.bin :: eval_terms\n",
      "2023-02-21 20:44:06,940 :: interpret.glassbox.ebm.bin :: eval_terms\n",
      "2023-02-21 20:44:06,945 :: interpret.glassbox.ebm.bin :: eval_terms\n",
      "2023-02-21 20:44:06,950 :: interpret.glassbox.ebm.bin :: eval_terms\n",
      "2023-02-21 20:44:06,955 :: interpret.glassbox.ebm.bin :: eval_terms\n",
      "2023-02-21 20:44:06,959 :: interpret.glassbox.ebm.bin :: eval_terms\n",
      "2023-02-21 20:44:06,962 :: interpret.utils._binning :: Creating native dataset\n",
      "2023-02-21 20:44:06,967 :: interpret.glassbox.ebm.ebm :: Estimating with FAST\n",
      "2023-02-21 20:44:07,024 :: interpret.glassbox.ebm.bin :: eval_terms\n",
      "2023-02-21 20:44:07,042 :: interpret.glassbox.ebm.bin :: eval_terms\n"
     ]
    },
    {
     "name": "stderr",
     "output_type": "stream",
     "text": [
      "\u001b[32m[I 2023-02-21 20:44:07,048]\u001b[0m Trial 159 finished with value: 12.192891003603728 and parameters: {'learning_rate': 0.09613054120776111, 'validation_size': 0.16308786264631878, 'early_stopping_rounds': 101, 'early_stopping_tolerance': 0.00010192781908182399, 'max_rounds': 10060, 'min_samples_leaf': 2, 'max_leaves': 2}. Best is trial 136 with value: 11.717498291897297.\u001b[0m\n"
     ]
    },
    {
     "name": "stdout",
     "output_type": "stream",
     "text": [
      "2023-02-21 20:44:07,097 :: interpret.utils._binning :: Creating native dataset\n",
      "2023-02-21 20:44:07,111 :: interpret.glassbox.ebm.bin :: eval_terms\n",
      "2023-02-21 20:44:07,118 :: interpret.glassbox.ebm.bin :: eval_terms\n",
      "2023-02-21 20:44:07,123 :: interpret.glassbox.ebm.bin :: eval_terms\n",
      "2023-02-21 20:44:07,126 :: interpret.glassbox.ebm.bin :: eval_terms\n",
      "2023-02-21 20:44:07,130 :: interpret.glassbox.ebm.bin :: eval_terms\n",
      "2023-02-21 20:44:07,134 :: interpret.glassbox.ebm.bin :: eval_terms\n",
      "2023-02-21 20:44:07,138 :: interpret.glassbox.ebm.bin :: eval_terms\n",
      "2023-02-21 20:44:07,142 :: interpret.glassbox.ebm.bin :: eval_terms\n",
      "2023-02-21 20:44:07,145 :: interpret.utils._binning :: Creating native dataset\n",
      "2023-02-21 20:44:07,152 :: interpret.glassbox.ebm.ebm :: Estimating with FAST\n",
      "2023-02-21 20:44:07,263 :: interpret.glassbox.ebm.bin :: eval_terms\n",
      "2023-02-21 20:44:07,282 :: interpret.glassbox.ebm.bin :: eval_terms\n"
     ]
    },
    {
     "name": "stderr",
     "output_type": "stream",
     "text": [
      "\u001b[32m[I 2023-02-21 20:44:07,288]\u001b[0m Trial 160 finished with value: 11.849362441088813 and parameters: {'learning_rate': 0.09491523623702182, 'validation_size': 0.1628110091877366, 'early_stopping_rounds': 98, 'early_stopping_tolerance': 9.253555880343944e-05, 'max_rounds': 9967, 'min_samples_leaf': 2, 'max_leaves': 2}. Best is trial 136 with value: 11.717498291897297.\u001b[0m\n"
     ]
    },
    {
     "name": "stdout",
     "output_type": "stream",
     "text": [
      "2023-02-21 20:44:07,335 :: interpret.utils._binning :: Creating native dataset\n",
      "2023-02-21 20:44:07,873 :: interpret.glassbox.ebm.bin :: eval_terms\n",
      "2023-02-21 20:44:07,893 :: interpret.glassbox.ebm.bin :: eval_terms\n"
     ]
    },
    {
     "name": "stderr",
     "output_type": "stream",
     "text": [
      "\u001b[32m[I 2023-02-21 20:44:07,898]\u001b[0m Trial 161 finished with value: 12.527492728043123 and parameters: {'learning_rate': 0.09484436794717788, 'validation_size': 0.16660480341609252, 'early_stopping_rounds': 111, 'early_stopping_tolerance': 0.00010075564429455047, 'max_rounds': 10106, 'min_samples_leaf': 2, 'max_leaves': 2}. Best is trial 136 with value: 11.717498291897297.\u001b[0m\n"
     ]
    },
    {
     "name": "stdout",
     "output_type": "stream",
     "text": [
      "2023-02-21 20:44:07,944 :: interpret.utils._binning :: Creating native dataset\n",
      "2023-02-21 20:44:08,113 :: interpret.glassbox.ebm.bin :: eval_terms\n",
      "2023-02-21 20:44:08,116 :: interpret.glassbox.ebm.bin :: eval_terms\n",
      "2023-02-21 20:44:08,119 :: interpret.glassbox.ebm.bin :: eval_terms\n",
      "2023-02-21 20:44:08,124 :: interpret.glassbox.ebm.bin :: eval_terms\n",
      "2023-02-21 20:44:08,127 :: interpret.glassbox.ebm.bin :: eval_terms\n",
      "2023-02-21 20:44:08,131 :: interpret.glassbox.ebm.bin :: eval_terms\n",
      "2023-02-21 20:44:08,134 :: interpret.glassbox.ebm.bin :: eval_terms\n",
      "2023-02-21 20:44:08,138 :: interpret.glassbox.ebm.bin :: eval_terms\n",
      "2023-02-21 20:44:08,142 :: interpret.utils._binning :: Creating native dataset\n",
      "2023-02-21 20:44:08,147 :: interpret.glassbox.ebm.ebm :: Estimating with FAST\n",
      "2023-02-21 20:44:08,249 :: interpret.glassbox.ebm.bin :: eval_terms\n",
      "2023-02-21 20:44:08,254 :: interpret.glassbox.ebm.bin :: eval_terms\n",
      "2023-02-21 20:44:08,258 :: interpret.glassbox.ebm.bin :: eval_terms\n",
      "2023-02-21 20:44:08,262 :: interpret.glassbox.ebm.bin :: eval_terms\n",
      "2023-02-21 20:44:08,265 :: interpret.glassbox.ebm.bin :: eval_terms\n",
      "2023-02-21 20:44:08,269 :: interpret.glassbox.ebm.bin :: eval_terms\n",
      "2023-02-21 20:44:08,273 :: interpret.glassbox.ebm.bin :: eval_terms\n",
      "2023-02-21 20:44:08,276 :: interpret.glassbox.ebm.bin :: eval_terms\n",
      "2023-02-21 20:44:08,281 :: interpret.utils._binning :: Creating native dataset\n",
      "2023-02-21 20:44:08,287 :: interpret.glassbox.ebm.ebm :: Estimating with FAST\n",
      "2023-02-21 20:44:08,685 :: interpret.glassbox.ebm.bin :: eval_terms\n",
      "2023-02-21 20:44:08,703 :: interpret.glassbox.ebm.bin :: eval_terms\n"
     ]
    },
    {
     "name": "stderr",
     "output_type": "stream",
     "text": [
      "\u001b[32m[I 2023-02-21 20:44:08,718]\u001b[0m Trial 164 finished with value: 11.833636004293535 and parameters: {'learning_rate': 0.09393743978107272, 'validation_size': 0.16299332786729573, 'early_stopping_rounds': 111, 'early_stopping_tolerance': 1.1376857110883645e-05, 'max_rounds': 10010, 'min_samples_leaf': 2, 'max_leaves': 2}. Best is trial 136 with value: 11.717498291897297.\u001b[0m\n"
     ]
    },
    {
     "name": "stdout",
     "output_type": "stream",
     "text": [
      "2023-02-21 20:44:08,804 :: interpret.utils._binning :: Creating native dataset\n",
      "2023-02-21 20:44:08,811 :: interpret.glassbox.ebm.bin :: eval_terms\n",
      "2023-02-21 20:44:08,818 :: interpret.glassbox.ebm.bin :: eval_terms\n",
      "2023-02-21 20:44:08,825 :: interpret.glassbox.ebm.bin :: eval_terms\n",
      "2023-02-21 20:44:08,831 :: interpret.glassbox.ebm.bin :: eval_terms\n",
      "2023-02-21 20:44:08,835 :: interpret.glassbox.ebm.bin :: eval_terms\n",
      "2023-02-21 20:44:08,839 :: interpret.glassbox.ebm.bin :: eval_terms\n",
      "2023-02-21 20:44:08,842 :: interpret.glassbox.ebm.bin :: eval_terms\n",
      "2023-02-21 20:44:08,844 :: interpret.glassbox.ebm.bin :: eval_terms\n",
      "2023-02-21 20:44:08,857 :: interpret.glassbox.ebm.bin :: eval_terms\n",
      "2023-02-21 20:44:08,863 :: interpret.utils._binning :: Creating native dataset\n",
      "2023-02-21 20:44:08,872 :: interpret.glassbox.ebm.ebm :: Estimating with FAST\n",
      "2023-02-21 20:44:08,881 :: interpret.glassbox.ebm.bin :: eval_terms\n"
     ]
    },
    {
     "name": "stderr",
     "output_type": "stream",
     "text": [
      "\u001b[32m[I 2023-02-21 20:44:08,889]\u001b[0m Trial 162 finished with value: 12.212157917431384 and parameters: {'learning_rate': 0.09502668370308423, 'validation_size': 0.16318345169240828, 'early_stopping_rounds': 101, 'early_stopping_tolerance': 3.618316367632479e-05, 'max_rounds': 9121, 'min_samples_leaf': 2, 'max_leaves': 2}. Best is trial 136 with value: 11.717498291897297.\u001b[0m\n"
     ]
    },
    {
     "name": "stdout",
     "output_type": "stream",
     "text": [
      "2023-02-21 20:44:08,932 :: interpret.utils._binning :: Creating native dataset\n",
      "2023-02-21 20:44:09,112 :: interpret.glassbox.ebm.bin :: eval_terms\n",
      "2023-02-21 20:44:09,133 :: interpret.glassbox.ebm.bin :: eval_terms\n"
     ]
    },
    {
     "name": "stderr",
     "output_type": "stream",
     "text": [
      "\u001b[32m[I 2023-02-21 20:44:09,139]\u001b[0m Trial 163 finished with value: 12.562861557631312 and parameters: {'learning_rate': 0.09767595195536485, 'validation_size': 0.164502540844868, 'early_stopping_rounds': 99, 'early_stopping_tolerance': 2.155597602491518e-05, 'max_rounds': 9094, 'min_samples_leaf': 2, 'max_leaves': 2}. Best is trial 136 with value: 11.717498291897297.\u001b[0m\n"
     ]
    },
    {
     "name": "stdout",
     "output_type": "stream",
     "text": [
      "2023-02-21 20:44:09,202 :: interpret.utils._binning :: Creating native dataset\n",
      "2023-02-21 20:44:09,228 :: interpret.glassbox.ebm.bin :: eval_terms\n",
      "2023-02-21 20:44:09,232 :: interpret.glassbox.ebm.bin :: eval_terms\n",
      "2023-02-21 20:44:09,237 :: interpret.glassbox.ebm.bin :: eval_terms\n",
      "2023-02-21 20:44:09,241 :: interpret.glassbox.ebm.bin :: eval_terms\n",
      "2023-02-21 20:44:09,246 :: interpret.glassbox.ebm.bin :: eval_terms\n",
      "2023-02-21 20:44:09,252 :: interpret.glassbox.ebm.bin :: eval_terms\n",
      "2023-02-21 20:44:09,258 :: interpret.glassbox.ebm.bin :: eval_terms\n",
      "2023-02-21 20:44:09,262 :: interpret.glassbox.ebm.bin :: eval_terms\n",
      "2023-02-21 20:44:09,266 :: interpret.utils._binning :: Creating native dataset\n",
      "2023-02-21 20:44:09,272 :: interpret.glassbox.ebm.ebm :: Estimating with FAST\n",
      "2023-02-21 20:44:09,367 :: interpret.glassbox.ebm.bin :: eval_terms\n",
      "2023-02-21 20:44:09,372 :: interpret.glassbox.ebm.bin :: eval_terms\n",
      "2023-02-21 20:44:09,377 :: interpret.glassbox.ebm.bin :: eval_terms\n",
      "2023-02-21 20:44:09,381 :: interpret.glassbox.ebm.bin :: eval_terms\n",
      "2023-02-21 20:44:09,384 :: interpret.glassbox.ebm.bin :: eval_terms\n",
      "2023-02-21 20:44:09,388 :: interpret.glassbox.ebm.bin :: eval_terms\n",
      "2023-02-21 20:44:09,392 :: interpret.glassbox.ebm.bin :: eval_terms\n",
      "2023-02-21 20:44:09,395 :: interpret.glassbox.ebm.bin :: eval_terms\n",
      "2023-02-21 20:44:09,399 :: interpret.utils._binning :: Creating native dataset\n",
      "2023-02-21 20:44:09,405 :: interpret.glassbox.ebm.ebm :: Estimating with FAST\n",
      "2023-02-21 20:44:09,916 :: interpret.glassbox.ebm.bin :: eval_terms\n",
      "2023-02-21 20:44:09,934 :: interpret.glassbox.ebm.bin :: eval_terms\n"
     ]
    },
    {
     "name": "stderr",
     "output_type": "stream",
     "text": [
      "\u001b[32m[I 2023-02-21 20:44:09,941]\u001b[0m Trial 165 finished with value: 11.821053255219557 and parameters: {'learning_rate': 0.09442074221700346, 'validation_size': 0.1594189496741251, 'early_stopping_rounds': 111, 'early_stopping_tolerance': 2.214714871785337e-05, 'max_rounds': 10016, 'min_samples_leaf': 2, 'max_leaves': 2}. Best is trial 136 with value: 11.717498291897297.\u001b[0m\n"
     ]
    },
    {
     "name": "stdout",
     "output_type": "stream",
     "text": [
      "2023-02-21 20:44:09,984 :: interpret.utils._binning :: Creating native dataset\n",
      "2023-02-21 20:44:10,577 :: interpret.glassbox.ebm.bin :: eval_terms\n",
      "2023-02-21 20:44:10,635 :: interpret.glassbox.ebm.bin :: eval_terms\n",
      "2023-02-21 20:44:10,689 :: interpret.glassbox.ebm.bin :: eval_terms\n",
      "2023-02-21 20:44:10,693 :: interpret.glassbox.ebm.bin :: eval_terms\n",
      "2023-02-21 20:44:10,696 :: interpret.glassbox.ebm.bin :: eval_terms\n",
      "2023-02-21 20:44:10,700 :: interpret.glassbox.ebm.bin :: eval_terms\n",
      "2023-02-21 20:44:10,704 :: interpret.glassbox.ebm.bin :: eval_terms\n",
      "2023-02-21 20:44:10,707 :: interpret.glassbox.ebm.bin :: eval_terms\n",
      "2023-02-21 20:44:10,710 :: interpret.glassbox.ebm.bin :: eval_terms\n",
      "2023-02-21 20:44:10,712 :: interpret.utils._binning :: Creating native dataset\n",
      "2023-02-21 20:44:10,722 :: interpret.glassbox.ebm.ebm :: Estimating with FAST\n",
      "2023-02-21 20:44:10,726 :: interpret.glassbox.ebm.bin :: eval_terms\n",
      "2023-02-21 20:44:10,738 :: interpret.glassbox.ebm.bin :: eval_terms\n",
      "2023-02-21 20:44:10,743 :: interpret.glassbox.ebm.bin :: eval_terms\n",
      "2023-02-21 20:44:10,751 :: interpret.glassbox.ebm.bin :: eval_terms\n",
      "2023-02-21 20:44:10,757 :: interpret.glassbox.ebm.bin :: eval_terms\n",
      "2023-02-21 20:44:10,760 :: interpret.glassbox.ebm.bin :: eval_terms\n"
     ]
    },
    {
     "name": "stderr",
     "output_type": "stream",
     "text": [
      "\u001b[32m[I 2023-02-21 20:44:10,765]\u001b[0m Trial 166 finished with value: 12.437678813564245 and parameters: {'learning_rate': 0.09453962194319851, 'validation_size': 0.1644119924770239, 'early_stopping_rounds': 110, 'early_stopping_tolerance': 2.582413233976467e-05, 'max_rounds': 10086, 'min_samples_leaf': 2, 'max_leaves': 2}. Best is trial 136 with value: 11.717498291897297.\u001b[0m\n"
     ]
    },
    {
     "name": "stdout",
     "output_type": "stream",
     "text": [
      "2023-02-21 20:44:10,768 :: interpret.glassbox.ebm.bin :: eval_terms\n",
      "2023-02-21 20:44:10,780 :: interpret.glassbox.ebm.bin :: eval_terms\n",
      "2023-02-21 20:44:10,787 :: interpret.glassbox.ebm.bin :: eval_terms\n",
      "2023-02-21 20:44:10,793 :: interpret.utils._binning :: Creating native dataset\n",
      "2023-02-21 20:44:10,805 :: interpret.glassbox.ebm.ebm :: Estimating with FAST\n",
      "2023-02-21 20:44:10,834 :: interpret.utils._binning :: Creating native dataset\n",
      "2023-02-21 20:44:11,016 :: interpret.glassbox.ebm.bin :: eval_terms\n",
      "2023-02-21 20:44:11,035 :: interpret.glassbox.ebm.bin :: eval_terms\n"
     ]
    },
    {
     "name": "stderr",
     "output_type": "stream",
     "text": [
      "\u001b[32m[I 2023-02-21 20:44:11,042]\u001b[0m Trial 167 finished with value: 12.746069950946572 and parameters: {'learning_rate': 0.09453127040077729, 'validation_size': 0.16507715145929877, 'early_stopping_rounds': 96, 'early_stopping_tolerance': 7.262908197079423e-05, 'max_rounds': 9099, 'min_samples_leaf': 2, 'max_leaves': 2}. Best is trial 136 with value: 11.717498291897297.\u001b[0m\n"
     ]
    },
    {
     "name": "stdout",
     "output_type": "stream",
     "text": [
      "2023-02-21 20:44:11,092 :: interpret.utils._binning :: Creating native dataset\n",
      "2023-02-21 20:44:11,108 :: interpret.glassbox.ebm.bin :: eval_terms\n",
      "2023-02-21 20:44:11,110 :: interpret.glassbox.ebm.bin :: eval_terms\n",
      "2023-02-21 20:44:11,127 :: interpret.glassbox.ebm.bin :: eval_terms\n",
      "2023-02-21 20:44:11,148 :: interpret.glassbox.ebm.bin :: eval_terms\n"
     ]
    },
    {
     "name": "stderr",
     "output_type": "stream",
     "text": [
      "\u001b[32m[I 2023-02-21 20:44:11,155]\u001b[0m Trial 168 finished with value: 11.851176752881935 and parameters: {'learning_rate': 0.09954200920808035, 'validation_size': 0.16549745075933933, 'early_stopping_rounds': 143, 'early_stopping_tolerance': 7.892474474390941e-05, 'max_rounds': 8862, 'min_samples_leaf': 2, 'max_leaves': 2}. Best is trial 136 with value: 11.717498291897297.\u001b[0m\n",
      "\u001b[32m[I 2023-02-21 20:44:11,162]\u001b[0m Trial 170 finished with value: 17.470099072642643 and parameters: {'learning_rate': 0.09810137764465977, 'validation_size': 0.15957071852153068, 'early_stopping_rounds': 117, 'early_stopping_tolerance': 0.00015259135301906837, 'max_rounds': 9173, 'min_samples_leaf': 4, 'max_leaves': 2}. Best is trial 136 with value: 11.717498291897297.\u001b[0m\n"
     ]
    },
    {
     "name": "stdout",
     "output_type": "stream",
     "text": [
      "2023-02-21 20:44:11,265 :: interpret.utils._binning :: Creating native dataset\n",
      "2023-02-21 20:44:11,296 :: interpret.utils._binning :: Creating native dataset\n",
      "2023-02-21 20:44:11,493 :: interpret.glassbox.ebm.bin :: eval_terms\n",
      "2023-02-21 20:44:11,500 :: interpret.glassbox.ebm.bin :: eval_terms\n",
      "2023-02-21 20:44:11,504 :: interpret.glassbox.ebm.bin :: eval_terms\n",
      "2023-02-21 20:44:11,507 :: interpret.glassbox.ebm.bin :: eval_terms\n",
      "2023-02-21 20:44:11,510 :: interpret.glassbox.ebm.bin :: eval_terms\n",
      "2023-02-21 20:44:11,515 :: interpret.glassbox.ebm.bin :: eval_terms\n",
      "2023-02-21 20:44:11,519 :: interpret.glassbox.ebm.bin :: eval_terms\n",
      "2023-02-21 20:44:11,523 :: interpret.glassbox.ebm.bin :: eval_terms\n",
      "2023-02-21 20:44:11,528 :: interpret.utils._binning :: Creating native dataset\n",
      "2023-02-21 20:44:11,538 :: interpret.glassbox.ebm.ebm :: Estimating with FAST\n",
      "2023-02-21 20:44:11,546 :: interpret.glassbox.ebm.bin :: eval_terms\n",
      "2023-02-21 20:44:11,563 :: interpret.glassbox.ebm.bin :: eval_terms\n"
     ]
    },
    {
     "name": "stderr",
     "output_type": "stream",
     "text": [
      "\u001b[32m[I 2023-02-21 20:44:11,571]\u001b[0m Trial 169 finished with value: 11.831029561191741 and parameters: {'learning_rate': 0.09995920827550693, 'validation_size': 0.16522151138751687, 'early_stopping_rounds': 108, 'early_stopping_tolerance': 2.7543976718318742e-05, 'max_rounds': 9139, 'min_samples_leaf': 2, 'max_leaves': 2}. Best is trial 136 with value: 11.717498291897297.\u001b[0m\n"
     ]
    },
    {
     "name": "stdout",
     "output_type": "stream",
     "text": [
      "2023-02-21 20:44:11,625 :: interpret.utils._binning :: Creating native dataset\n",
      "2023-02-21 20:44:11,635 :: interpret.glassbox.ebm.bin :: eval_terms\n",
      "2023-02-21 20:44:11,639 :: interpret.glassbox.ebm.bin :: eval_terms\n",
      "2023-02-21 20:44:11,643 :: interpret.glassbox.ebm.bin :: eval_terms\n",
      "2023-02-21 20:44:11,646 :: interpret.glassbox.ebm.bin :: eval_terms\n",
      "2023-02-21 20:44:11,650 :: interpret.glassbox.ebm.bin :: eval_terms\n",
      "2023-02-21 20:44:11,653 :: interpret.glassbox.ebm.bin :: eval_terms\n",
      "2023-02-21 20:44:11,657 :: interpret.glassbox.ebm.bin :: eval_terms\n",
      "2023-02-21 20:44:11,661 :: interpret.glassbox.ebm.bin :: eval_terms\n",
      "2023-02-21 20:44:11,664 :: interpret.utils._binning :: Creating native dataset\n",
      "2023-02-21 20:44:11,669 :: interpret.glassbox.ebm.ebm :: Estimating with FAST\n",
      "2023-02-21 20:44:11,835 :: interpret.glassbox.ebm.bin :: eval_terms\n",
      "2023-02-21 20:44:11,851 :: interpret.glassbox.ebm.bin :: eval_terms\n"
     ]
    },
    {
     "name": "stderr",
     "output_type": "stream",
     "text": [
      "\u001b[32m[I 2023-02-21 20:44:11,857]\u001b[0m Trial 171 finished with value: 11.900029974111064 and parameters: {'learning_rate': 0.09836365916067796, 'validation_size': 0.1655235994418298, 'early_stopping_rounds': 116, 'early_stopping_tolerance': 0.00015467109276541392, 'max_rounds': 8844, 'min_samples_leaf': 2, 'max_leaves': 2}. Best is trial 136 with value: 11.717498291897297.\u001b[0m\n"
     ]
    },
    {
     "name": "stdout",
     "output_type": "stream",
     "text": [
      "2023-02-21 20:44:11,904 :: interpret.utils._binning :: Creating native dataset\n",
      "2023-02-21 20:44:11,968 :: interpret.glassbox.ebm.bin :: eval_terms\n",
      "2023-02-21 20:44:11,971 :: interpret.glassbox.ebm.bin :: eval_terms\n",
      "2023-02-21 20:44:11,977 :: interpret.glassbox.ebm.bin :: eval_terms\n",
      "2023-02-21 20:44:11,981 :: interpret.glassbox.ebm.bin :: eval_terms\n",
      "2023-02-21 20:44:11,984 :: interpret.glassbox.ebm.bin :: eval_terms\n",
      "2023-02-21 20:44:11,988 :: interpret.glassbox.ebm.bin :: eval_terms\n",
      "2023-02-21 20:44:11,992 :: interpret.glassbox.ebm.bin :: eval_terms\n",
      "2023-02-21 20:44:11,999 :: interpret.glassbox.ebm.bin :: eval_terms\n",
      "2023-02-21 20:44:12,003 :: interpret.utils._binning :: Creating native dataset\n",
      "2023-02-21 20:44:12,009 :: interpret.glassbox.ebm.ebm :: Estimating with FAST\n",
      "2023-02-21 20:44:12,271 :: interpret.glassbox.ebm.bin :: eval_terms\n",
      "2023-02-21 20:44:12,288 :: interpret.glassbox.ebm.bin :: eval_terms\n"
     ]
    },
    {
     "name": "stderr",
     "output_type": "stream",
     "text": [
      "\u001b[32m[I 2023-02-21 20:44:12,293]\u001b[0m Trial 173 finished with value: 17.503613590368158 and parameters: {'learning_rate': 0.09803122224759524, 'validation_size': 0.1595004547561454, 'early_stopping_rounds': 116, 'early_stopping_tolerance': 1.5296321027210874e-05, 'max_rounds': 9641, 'min_samples_leaf': 4, 'max_leaves': 2}. Best is trial 136 with value: 11.717498291897297.\u001b[0m\n"
     ]
    },
    {
     "name": "stdout",
     "output_type": "stream",
     "text": [
      "2023-02-21 20:44:12,323 :: interpret.glassbox.ebm.bin :: eval_terms\n",
      "2023-02-21 20:44:12,332 :: interpret.glassbox.ebm.bin :: eval_terms\n",
      "2023-02-21 20:44:12,343 :: interpret.glassbox.ebm.bin :: eval_terms\n",
      "2023-02-21 20:44:12,352 :: interpret.glassbox.ebm.bin :: eval_terms\n",
      "2023-02-21 20:44:12,361 :: interpret.glassbox.ebm.bin :: eval_terms\n",
      "2023-02-21 20:44:12,373 :: interpret.glassbox.ebm.bin :: eval_terms\n",
      "2023-02-21 20:44:12,383 :: interpret.glassbox.ebm.bin :: eval_terms\n",
      "2023-02-21 20:44:12,392 :: interpret.glassbox.ebm.bin :: eval_terms\n",
      "2023-02-21 20:44:12,401 :: interpret.utils._binning :: Creating native dataset\n",
      "2023-02-21 20:44:12,406 :: interpret.utils._binning :: Creating native dataset\n",
      "2023-02-21 20:44:12,419 :: interpret.glassbox.ebm.ebm :: Estimating with FAST\n",
      "2023-02-21 20:44:12,462 :: interpret.glassbox.ebm.bin :: eval_terms\n",
      "2023-02-21 20:44:12,470 :: interpret.glassbox.ebm.bin :: eval_terms\n",
      "2023-02-21 20:44:12,474 :: interpret.glassbox.ebm.bin :: eval_terms\n",
      "2023-02-21 20:44:12,478 :: interpret.glassbox.ebm.bin :: eval_terms\n",
      "2023-02-21 20:44:12,481 :: interpret.glassbox.ebm.bin :: eval_terms\n",
      "2023-02-21 20:44:12,486 :: interpret.glassbox.ebm.bin :: eval_terms\n",
      "2023-02-21 20:44:12,489 :: interpret.glassbox.ebm.bin :: eval_terms\n",
      "2023-02-21 20:44:12,493 :: interpret.glassbox.ebm.bin :: eval_terms\n",
      "2023-02-21 20:44:12,498 :: interpret.utils._binning :: Creating native dataset\n",
      "2023-02-21 20:44:12,504 :: interpret.glassbox.ebm.ebm :: Estimating with FAST\n",
      "2023-02-21 20:44:12,557 :: interpret.glassbox.ebm.bin :: eval_terms\n",
      "2023-02-21 20:44:12,562 :: interpret.glassbox.ebm.bin :: eval_terms\n",
      "2023-02-21 20:44:12,568 :: interpret.glassbox.ebm.bin :: eval_terms\n",
      "2023-02-21 20:44:12,572 :: interpret.glassbox.ebm.bin :: eval_terms\n",
      "2023-02-21 20:44:12,575 :: interpret.glassbox.ebm.bin :: eval_terms\n",
      "2023-02-21 20:44:12,579 :: interpret.glassbox.ebm.bin :: eval_terms\n",
      "2023-02-21 20:44:12,582 :: interpret.glassbox.ebm.bin :: eval_terms\n",
      "2023-02-21 20:44:12,586 :: interpret.glassbox.ebm.bin :: eval_terms\n",
      "2023-02-21 20:44:12,590 :: interpret.utils._binning :: Creating native dataset\n",
      "2023-02-21 20:44:12,597 :: interpret.glassbox.ebm.ebm :: Estimating with FAST\n",
      "2023-02-21 20:44:13,198 :: interpret.glassbox.ebm.bin :: eval_terms\n",
      "2023-02-21 20:44:13,202 :: interpret.glassbox.ebm.bin :: eval_terms\n",
      "2023-02-21 20:44:13,205 :: interpret.glassbox.ebm.bin :: eval_terms\n",
      "2023-02-21 20:44:13,208 :: interpret.glassbox.ebm.bin :: eval_terms\n",
      "2023-02-21 20:44:13,212 :: interpret.glassbox.ebm.bin :: eval_terms\n",
      "2023-02-21 20:44:13,215 :: interpret.glassbox.ebm.bin :: eval_terms\n",
      "2023-02-21 20:44:13,218 :: interpret.glassbox.ebm.bin :: eval_terms\n",
      "2023-02-21 20:44:13,222 :: interpret.glassbox.ebm.bin :: eval_terms\n",
      "2023-02-21 20:44:13,225 :: interpret.utils._binning :: Creating native dataset\n",
      "2023-02-21 20:44:13,231 :: interpret.glassbox.ebm.ebm :: Estimating with FAST\n",
      "2023-02-21 20:44:13,283 :: interpret.glassbox.ebm.bin :: eval_terms\n",
      "2023-02-21 20:44:13,300 :: interpret.glassbox.ebm.bin :: eval_terms\n"
     ]
    },
    {
     "name": "stderr",
     "output_type": "stream",
     "text": [
      "\u001b[32m[I 2023-02-21 20:44:13,307]\u001b[0m Trial 172 finished with value: 12.262814091090172 and parameters: {'learning_rate': 0.09996399423793952, 'validation_size': 0.17538877151323187, 'early_stopping_rounds': 143, 'early_stopping_tolerance': 1.3866366648033053e-05, 'max_rounds': 14639, 'min_samples_leaf': 2, 'max_leaves': 2}. Best is trial 136 with value: 11.717498291897297.\u001b[0m\n"
     ]
    },
    {
     "name": "stdout",
     "output_type": "stream",
     "text": [
      "2023-02-21 20:44:13,353 :: interpret.utils._binning :: Creating native dataset\n",
      "2023-02-21 20:44:13,690 :: interpret.glassbox.ebm.bin :: eval_terms\n",
      "2023-02-21 20:44:13,715 :: interpret.glassbox.ebm.bin :: eval_terms\n"
     ]
    },
    {
     "name": "stderr",
     "output_type": "stream",
     "text": [
      "\u001b[32m[I 2023-02-21 20:44:13,721]\u001b[0m Trial 177 finished with value: 15.268815100320287 and parameters: {'learning_rate': 0.019580792265862443, 'validation_size': 0.16208012464946966, 'early_stopping_rounds': 113, 'early_stopping_tolerance': 0.00015705882449278854, 'max_rounds': 8460, 'min_samples_leaf': 2, 'max_leaves': 2}. Best is trial 136 with value: 11.717498291897297.\u001b[0m\n"
     ]
    },
    {
     "name": "stdout",
     "output_type": "stream",
     "text": [
      "2023-02-21 20:44:13,767 :: interpret.utils._binning :: Creating native dataset\n",
      "2023-02-21 20:44:13,936 :: interpret.glassbox.ebm.bin :: eval_terms\n",
      "2023-02-21 20:44:13,939 :: interpret.glassbox.ebm.bin :: eval_terms\n",
      "2023-02-21 20:44:13,943 :: interpret.glassbox.ebm.bin :: eval_terms\n",
      "2023-02-21 20:44:13,947 :: interpret.glassbox.ebm.bin :: eval_terms\n",
      "2023-02-21 20:44:13,951 :: interpret.glassbox.ebm.bin :: eval_terms\n",
      "2023-02-21 20:44:13,955 :: interpret.glassbox.ebm.bin :: eval_terms\n",
      "2023-02-21 20:44:13,959 :: interpret.glassbox.ebm.bin :: eval_terms\n",
      "2023-02-21 20:44:13,963 :: interpret.glassbox.ebm.bin :: eval_terms\n",
      "2023-02-21 20:44:13,966 :: interpret.utils._binning :: Creating native dataset\n",
      "2023-02-21 20:44:13,973 :: interpret.glassbox.ebm.ebm :: Estimating with FAST\n",
      "2023-02-21 20:44:14,205 :: interpret.glassbox.ebm.bin :: eval_terms\n",
      "2023-02-21 20:44:14,234 :: interpret.glassbox.ebm.bin :: eval_terms\n"
     ]
    },
    {
     "name": "stderr",
     "output_type": "stream",
     "text": [
      "\u001b[32m[I 2023-02-21 20:44:14,242]\u001b[0m Trial 174 finished with value: 11.798096787274087 and parameters: {'learning_rate': 0.0982689651704654, 'validation_size': 0.16205567937242357, 'early_stopping_rounds': 117, 'early_stopping_tolerance': 6.843650854933808e-05, 'max_rounds': 14622, 'min_samples_leaf': 2, 'max_leaves': 2}. Best is trial 136 with value: 11.717498291897297.\u001b[0m\n"
     ]
    },
    {
     "name": "stdout",
     "output_type": "stream",
     "text": [
      "2023-02-21 20:44:14,246 :: interpret.glassbox.ebm.bin :: eval_terms\n",
      "2023-02-21 20:44:14,294 :: interpret.glassbox.ebm.bin :: eval_terms\n"
     ]
    },
    {
     "name": "stderr",
     "output_type": "stream",
     "text": [
      "\u001b[32m[I 2023-02-21 20:44:14,313]\u001b[0m Trial 175 finished with value: 11.764734891034863 and parameters: {'learning_rate': 0.09989028326869745, 'validation_size': 0.15924880160529756, 'early_stopping_rounds': 117, 'early_stopping_tolerance': 0.00015762707328733863, 'max_rounds': 8645, 'min_samples_leaf': 2, 'max_leaves': 2}. Best is trial 136 with value: 11.717498291897297.\u001b[0m\n"
     ]
    },
    {
     "name": "stdout",
     "output_type": "stream",
     "text": [
      "2023-02-21 20:44:14,346 :: interpret.utils._binning :: Creating native dataset\n",
      "2023-02-21 20:44:14,390 :: interpret.utils._binning :: Creating native dataset\n",
      "2023-02-21 20:44:15,171 :: interpret.glassbox.ebm.bin :: eval_terms\n",
      "2023-02-21 20:44:15,175 :: interpret.glassbox.ebm.bin :: eval_terms\n",
      "2023-02-21 20:44:15,178 :: interpret.glassbox.ebm.bin :: eval_terms\n",
      "2023-02-21 20:44:15,181 :: interpret.glassbox.ebm.bin :: eval_terms\n",
      "2023-02-21 20:44:15,185 :: interpret.glassbox.ebm.bin :: eval_terms\n",
      "2023-02-21 20:44:15,189 :: interpret.glassbox.ebm.bin :: eval_terms\n",
      "2023-02-21 20:44:15,192 :: interpret.glassbox.ebm.bin :: eval_terms\n",
      "2023-02-21 20:44:15,195 :: interpret.glassbox.ebm.bin :: eval_terms\n",
      "2023-02-21 20:44:15,199 :: interpret.utils._binning :: Creating native dataset\n",
      "2023-02-21 20:44:15,206 :: interpret.glassbox.ebm.ebm :: Estimating with FAST\n",
      "2023-02-21 20:44:15,371 :: interpret.glassbox.ebm.bin :: eval_terms\n",
      "2023-02-21 20:44:15,375 :: interpret.glassbox.ebm.bin :: eval_terms\n",
      "2023-02-21 20:44:15,378 :: interpret.glassbox.ebm.bin :: eval_terms\n",
      "2023-02-21 20:44:15,381 :: interpret.glassbox.ebm.bin :: eval_terms\n",
      "2023-02-21 20:44:15,385 :: interpret.glassbox.ebm.bin :: eval_terms\n",
      "2023-02-21 20:44:15,389 :: interpret.glassbox.ebm.bin :: eval_terms\n",
      "2023-02-21 20:44:15,393 :: interpret.glassbox.ebm.bin :: eval_terms\n",
      "2023-02-21 20:44:15,397 :: interpret.glassbox.ebm.bin :: eval_terms\n",
      "2023-02-21 20:44:15,402 :: interpret.utils._binning :: Creating native dataset\n",
      "2023-02-21 20:44:15,409 :: interpret.glassbox.ebm.ebm :: Estimating with FAST\n",
      "2023-02-21 20:44:15,415 :: interpret.glassbox.ebm.bin :: eval_terms\n",
      "2023-02-21 20:44:15,436 :: interpret.glassbox.ebm.bin :: eval_terms\n"
     ]
    },
    {
     "name": "stderr",
     "output_type": "stream",
     "text": [
      "\u001b[32m[I 2023-02-21 20:44:15,440]\u001b[0m Trial 176 finished with value: 11.86824226440322 and parameters: {'learning_rate': 0.09798195562214936, 'validation_size': 0.15728678676284577, 'early_stopping_rounds': 115, 'early_stopping_tolerance': 1.02229322632718e-05, 'max_rounds': 9590, 'min_samples_leaf': 2, 'max_leaves': 2}. Best is trial 136 with value: 11.717498291897297.\u001b[0m\n"
     ]
    },
    {
     "name": "stdout",
     "output_type": "stream",
     "text": [
      "2023-02-21 20:44:15,489 :: interpret.utils._binning :: Creating native dataset\n",
      "2023-02-21 20:44:15,539 :: interpret.glassbox.ebm.bin :: eval_terms\n",
      "2023-02-21 20:44:15,543 :: interpret.glassbox.ebm.bin :: eval_terms\n",
      "2023-02-21 20:44:15,546 :: interpret.glassbox.ebm.bin :: eval_terms\n",
      "2023-02-21 20:44:15,550 :: interpret.glassbox.ebm.bin :: eval_terms\n",
      "2023-02-21 20:44:15,554 :: interpret.glassbox.ebm.bin :: eval_terms\n",
      "2023-02-21 20:44:15,558 :: interpret.glassbox.ebm.bin :: eval_terms\n",
      "2023-02-21 20:44:15,565 :: interpret.glassbox.ebm.bin :: eval_terms\n",
      "2023-02-21 20:44:15,568 :: interpret.glassbox.ebm.bin :: eval_terms\n",
      "2023-02-21 20:44:15,572 :: interpret.utils._binning :: Creating native dataset\n",
      "2023-02-21 20:44:15,581 :: interpret.glassbox.ebm.ebm :: Estimating with FAST\n",
      "2023-02-21 20:44:15,817 :: interpret.glassbox.ebm.bin :: eval_terms\n",
      "2023-02-21 20:44:15,837 :: interpret.glassbox.ebm.bin :: eval_terms\n"
     ]
    },
    {
     "name": "stderr",
     "output_type": "stream",
     "text": [
      "\u001b[32m[I 2023-02-21 20:44:15,843]\u001b[0m Trial 178 finished with value: 12.562823529544147 and parameters: {'learning_rate': 0.09787285988154515, 'validation_size': 0.1755796422706337, 'early_stopping_rounds': 117, 'early_stopping_tolerance': 1.2919446370093817e-05, 'max_rounds': 8241, 'min_samples_leaf': 2, 'max_leaves': 2}. Best is trial 136 with value: 11.717498291897297.\u001b[0m\n"
     ]
    },
    {
     "name": "stdout",
     "output_type": "stream",
     "text": [
      "2023-02-21 20:44:15,895 :: interpret.utils._binning :: Creating native dataset\n",
      "2023-02-21 20:44:16,068 :: interpret.glassbox.ebm.bin :: eval_terms\n",
      "2023-02-21 20:44:16,072 :: interpret.glassbox.ebm.bin :: eval_terms\n",
      "2023-02-21 20:44:16,076 :: interpret.glassbox.ebm.bin :: eval_terms\n",
      "2023-02-21 20:44:16,080 :: interpret.glassbox.ebm.bin :: eval_terms\n",
      "2023-02-21 20:44:16,083 :: interpret.glassbox.ebm.bin :: eval_terms\n",
      "2023-02-21 20:44:16,088 :: interpret.glassbox.ebm.bin :: eval_terms\n",
      "2023-02-21 20:44:16,091 :: interpret.glassbox.ebm.bin :: eval_terms\n",
      "2023-02-21 20:44:16,095 :: interpret.glassbox.ebm.bin :: eval_terms\n",
      "2023-02-21 20:44:16,099 :: interpret.utils._binning :: Creating native dataset\n",
      "2023-02-21 20:44:16,105 :: interpret.glassbox.ebm.ebm :: Estimating with FAST\n",
      "2023-02-21 20:44:16,185 :: interpret.glassbox.ebm.bin :: eval_terms\n",
      "2023-02-21 20:44:16,202 :: interpret.glassbox.ebm.bin :: eval_terms\n",
      "2023-02-21 20:44:16,208 :: interpret.glassbox.ebm.bin :: eval_terms\n",
      "2023-02-21 20:44:16,225 :: interpret.glassbox.ebm.bin :: eval_terms\n"
     ]
    },
    {
     "name": "stderr",
     "output_type": "stream",
     "text": [
      "\u001b[32m[I 2023-02-21 20:44:16,231]\u001b[0m Trial 180 finished with value: 11.888034194869046 and parameters: {'learning_rate': 0.09985873224430743, 'validation_size': 0.16208010187724217, 'early_stopping_rounds': 105, 'early_stopping_tolerance': 7.031043742718009e-05, 'max_rounds': 14527, 'min_samples_leaf': 2, 'max_leaves': 2}. Best is trial 136 with value: 11.717498291897297.\u001b[0m\n",
      "\u001b[32m[I 2023-02-21 20:44:16,236]\u001b[0m Trial 179 finished with value: 11.770028334142259 and parameters: {'learning_rate': 0.099709460645588, 'validation_size': 0.15915366319773616, 'early_stopping_rounds': 105, 'early_stopping_tolerance': 1.4999822622304768e-05, 'max_rounds': 9615, 'min_samples_leaf': 2, 'max_leaves': 2}. Best is trial 136 with value: 11.717498291897297.\u001b[0m\n"
     ]
    },
    {
     "name": "stdout",
     "output_type": "stream",
     "text": [
      "2023-02-21 20:44:16,341 :: interpret.utils._binning :: Creating native dataset\n",
      "2023-02-21 20:44:16,352 :: interpret.utils._binning :: Creating native dataset\n",
      "2023-02-21 20:44:16,716 :: interpret.glassbox.ebm.bin :: eval_terms\n",
      "2023-02-21 20:44:16,721 :: interpret.glassbox.ebm.bin :: eval_terms\n",
      "2023-02-21 20:44:16,725 :: interpret.glassbox.ebm.bin :: eval_terms\n",
      "2023-02-21 20:44:16,730 :: interpret.glassbox.ebm.bin :: eval_terms\n",
      "2023-02-21 20:44:16,734 :: interpret.glassbox.ebm.bin :: eval_terms\n",
      "2023-02-21 20:44:16,738 :: interpret.glassbox.ebm.bin :: eval_terms\n",
      "2023-02-21 20:44:16,741 :: interpret.glassbox.ebm.bin :: eval_terms\n",
      "2023-02-21 20:44:16,745 :: interpret.glassbox.ebm.bin :: eval_terms\n",
      "2023-02-21 20:44:16,748 :: interpret.utils._binning :: Creating native dataset\n",
      "2023-02-21 20:44:16,753 :: interpret.glassbox.ebm.ebm :: Estimating with FAST\n",
      "2023-02-21 20:44:17,183 :: interpret.glassbox.ebm.bin :: eval_terms\n",
      "2023-02-21 20:44:17,201 :: interpret.glassbox.ebm.bin :: eval_terms\n"
     ]
    },
    {
     "name": "stderr",
     "output_type": "stream",
     "text": [
      "\u001b[32m[I 2023-02-21 20:44:17,206]\u001b[0m Trial 181 finished with value: 11.769802735658628 and parameters: {'learning_rate': 0.09754213920428559, 'validation_size': 0.16180838988825136, 'early_stopping_rounds': 105, 'early_stopping_tolerance': 6.78878736193018e-05, 'max_rounds': 10348, 'min_samples_leaf': 2, 'max_leaves': 2}. Best is trial 136 with value: 11.717498291897297.\u001b[0m\n"
     ]
    },
    {
     "name": "stdout",
     "output_type": "stream",
     "text": [
      "2023-02-21 20:44:17,256 :: interpret.utils._binning :: Creating native dataset\n",
      "2023-02-21 20:44:17,294 :: interpret.glassbox.ebm.bin :: eval_terms\n",
      "2023-02-21 20:44:17,298 :: interpret.glassbox.ebm.bin :: eval_terms\n",
      "2023-02-21 20:44:17,301 :: interpret.glassbox.ebm.bin :: eval_terms\n",
      "2023-02-21 20:44:17,305 :: interpret.glassbox.ebm.bin :: eval_terms\n",
      "2023-02-21 20:44:17,308 :: interpret.glassbox.ebm.bin :: eval_terms\n",
      "2023-02-21 20:44:17,311 :: interpret.glassbox.ebm.bin :: eval_terms\n",
      "2023-02-21 20:44:17,314 :: interpret.glassbox.ebm.bin :: eval_terms\n",
      "2023-02-21 20:44:17,318 :: interpret.glassbox.ebm.bin :: eval_terms\n",
      "2023-02-21 20:44:17,322 :: interpret.utils._binning :: Creating native dataset\n",
      "2023-02-21 20:44:17,327 :: interpret.glassbox.ebm.ebm :: Estimating with FAST\n",
      "2023-02-21 20:44:17,400 :: interpret.glassbox.ebm.bin :: eval_terms\n",
      "2023-02-21 20:44:17,406 :: interpret.glassbox.ebm.bin :: eval_terms\n",
      "2023-02-21 20:44:17,408 :: interpret.glassbox.ebm.bin :: eval_terms\n",
      "2023-02-21 20:44:17,412 :: interpret.glassbox.ebm.bin :: eval_terms\n",
      "2023-02-21 20:44:17,430 :: interpret.glassbox.ebm.bin :: eval_terms\n",
      "2023-02-21 20:44:17,434 :: interpret.glassbox.ebm.bin :: eval_terms\n"
     ]
    },
    {
     "name": "stderr",
     "output_type": "stream",
     "text": [
      "\u001b[32m[I 2023-02-21 20:44:17,440]\u001b[0m Trial 182 finished with value: 12.020825517121844 and parameters: {'learning_rate': 0.09358152490814434, 'validation_size': 0.15696614942524087, 'early_stopping_rounds': 106, 'early_stopping_tolerance': 6.261294338907728e-05, 'max_rounds': 10324, 'min_samples_leaf': 2, 'max_leaves': 2}. Best is trial 136 with value: 11.717498291897297.\u001b[0m\n"
     ]
    },
    {
     "name": "stdout",
     "output_type": "stream",
     "text": [
      "2023-02-21 20:44:17,445 :: interpret.glassbox.ebm.bin :: eval_terms\n",
      "2023-02-21 20:44:17,471 :: interpret.glassbox.ebm.bin :: eval_terms\n",
      "2023-02-21 20:44:17,478 :: interpret.glassbox.ebm.bin :: eval_terms\n",
      "2023-02-21 20:44:17,483 :: interpret.glassbox.ebm.bin :: eval_terms\n",
      "2023-02-21 20:44:17,493 :: interpret.glassbox.ebm.bin :: eval_terms\n",
      "2023-02-21 20:44:17,514 :: interpret.utils._binning :: Creating native dataset\n",
      "2023-02-21 20:44:17,526 :: interpret.glassbox.ebm.ebm :: Estimating with FAST\n",
      "2023-02-21 20:44:17,536 :: interpret.glassbox.ebm.bin :: eval_terms\n"
     ]
    },
    {
     "name": "stderr",
     "output_type": "stream",
     "text": [
      "\u001b[32m[I 2023-02-21 20:44:17,546]\u001b[0m Trial 183 finished with value: 11.834319094658186 and parameters: {'learning_rate': 0.09349365247731552, 'validation_size': 0.16186454992673507, 'early_stopping_rounds': 105, 'early_stopping_tolerance': 6.140957852897721e-05, 'max_rounds': 16157, 'min_samples_leaf': 2, 'max_leaves': 2}. Best is trial 136 with value: 11.717498291897297.\u001b[0m\n"
     ]
    },
    {
     "name": "stdout",
     "output_type": "stream",
     "text": [
      "2023-02-21 20:44:17,567 :: interpret.utils._binning :: Creating native dataset\n",
      "2023-02-21 20:44:17,610 :: interpret.utils._binning :: Creating native dataset\n",
      "2023-02-21 20:44:17,778 :: interpret.glassbox.ebm.bin :: eval_terms\n",
      "2023-02-21 20:44:17,820 :: interpret.glassbox.ebm.bin :: eval_terms\n",
      "2023-02-21 20:44:17,832 :: interpret.glassbox.ebm.bin :: eval_terms\n"
     ]
    },
    {
     "name": "stderr",
     "output_type": "stream",
     "text": [
      "\u001b[32m[I 2023-02-21 20:44:17,837]\u001b[0m Trial 184 finished with value: 12.378529019680915 and parameters: {'learning_rate': 0.09371772711037558, 'validation_size': 0.16153132880730395, 'early_stopping_rounds': 120, 'early_stopping_tolerance': 6.617132430950598e-05, 'max_rounds': 8278, 'min_samples_leaf': 2, 'max_leaves': 2}. Best is trial 136 with value: 11.717498291897297.\u001b[0m\n"
     ]
    },
    {
     "name": "stdout",
     "output_type": "stream",
     "text": [
      "2023-02-21 20:44:17,843 :: interpret.glassbox.ebm.bin :: eval_terms\n",
      "2023-02-21 20:44:17,873 :: interpret.glassbox.ebm.bin :: eval_terms\n",
      "2023-02-21 20:44:17,882 :: interpret.glassbox.ebm.bin :: eval_terms\n",
      "2023-02-21 20:44:17,886 :: interpret.glassbox.ebm.bin :: eval_terms\n",
      "2023-02-21 20:44:17,891 :: interpret.glassbox.ebm.bin :: eval_terms\n",
      "2023-02-21 20:44:17,899 :: interpret.glassbox.ebm.bin :: eval_terms\n",
      "2023-02-21 20:44:17,908 :: interpret.glassbox.ebm.bin :: eval_terms\n",
      "2023-02-21 20:44:17,913 :: interpret.utils._binning :: Creating native dataset\n",
      "2023-02-21 20:44:17,921 :: interpret.utils._binning :: Creating native dataset\n",
      "2023-02-21 20:44:17,927 :: interpret.glassbox.ebm.ebm :: Estimating with FAST\n",
      "2023-02-21 20:44:18,140 :: interpret.glassbox.ebm.bin :: eval_terms\n",
      "2023-02-21 20:44:18,145 :: interpret.glassbox.ebm.bin :: eval_terms\n",
      "2023-02-21 20:44:18,149 :: interpret.glassbox.ebm.bin :: eval_terms\n",
      "2023-02-21 20:44:18,154 :: interpret.glassbox.ebm.bin :: eval_terms\n",
      "2023-02-21 20:44:18,157 :: interpret.glassbox.ebm.bin :: eval_terms\n",
      "2023-02-21 20:44:18,161 :: interpret.glassbox.ebm.bin :: eval_terms\n",
      "2023-02-21 20:44:18,165 :: interpret.glassbox.ebm.bin :: eval_terms\n",
      "2023-02-21 20:44:18,170 :: interpret.glassbox.ebm.bin :: eval_terms\n",
      "2023-02-21 20:44:18,173 :: interpret.utils._binning :: Creating native dataset\n",
      "2023-02-21 20:44:18,179 :: interpret.glassbox.ebm.ebm :: Estimating with FAST\n",
      "2023-02-21 20:44:18,260 :: interpret.glassbox.ebm.bin :: eval_terms\n",
      "2023-02-21 20:44:18,263 :: interpret.glassbox.ebm.bin :: eval_terms\n",
      "2023-02-21 20:44:18,267 :: interpret.glassbox.ebm.bin :: eval_terms\n",
      "2023-02-21 20:44:18,270 :: interpret.glassbox.ebm.bin :: eval_terms\n",
      "2023-02-21 20:44:18,274 :: interpret.glassbox.ebm.bin :: eval_terms\n",
      "2023-02-21 20:44:18,277 :: interpret.glassbox.ebm.bin :: eval_terms\n",
      "2023-02-21 20:44:18,281 :: interpret.glassbox.ebm.bin :: eval_terms\n",
      "2023-02-21 20:44:18,286 :: interpret.glassbox.ebm.bin :: eval_terms\n",
      "2023-02-21 20:44:18,290 :: interpret.utils._binning :: Creating native dataset\n",
      "2023-02-21 20:44:18,295 :: interpret.glassbox.ebm.ebm :: Estimating with FAST\n",
      "2023-02-21 20:44:18,847 :: interpret.glassbox.ebm.bin :: eval_terms\n",
      "2023-02-21 20:44:18,864 :: interpret.glassbox.ebm.bin :: eval_terms\n"
     ]
    },
    {
     "name": "stderr",
     "output_type": "stream",
     "text": [
      "\u001b[32m[I 2023-02-21 20:44:18,870]\u001b[0m Trial 185 finished with value: 11.958220049979403 and parameters: {'learning_rate': 0.09398611102983725, 'validation_size': 0.16173252789992132, 'early_stopping_rounds': 106, 'early_stopping_tolerance': 6.410875889203662e-05, 'max_rounds': 13413, 'min_samples_leaf': 2, 'max_leaves': 2}. Best is trial 136 with value: 11.717498291897297.\u001b[0m\n"
     ]
    },
    {
     "name": "stdout",
     "output_type": "stream",
     "text": [
      "2023-02-21 20:44:18,951 :: interpret.utils._binning :: Creating native dataset\n",
      "2023-02-21 20:44:19,026 :: interpret.glassbox.ebm.bin :: eval_terms\n",
      "2023-02-21 20:44:19,030 :: interpret.glassbox.ebm.bin :: eval_terms\n",
      "2023-02-21 20:44:19,034 :: interpret.glassbox.ebm.bin :: eval_terms\n",
      "2023-02-21 20:44:19,038 :: interpret.glassbox.ebm.bin :: eval_terms\n",
      "2023-02-21 20:44:19,042 :: interpret.glassbox.ebm.bin :: eval_terms\n",
      "2023-02-21 20:44:19,046 :: interpret.glassbox.ebm.bin :: eval_terms\n",
      "2023-02-21 20:44:19,049 :: interpret.glassbox.ebm.bin :: eval_terms\n",
      "2023-02-21 20:44:19,053 :: interpret.glassbox.ebm.bin :: eval_terms\n",
      "2023-02-21 20:44:19,056 :: interpret.utils._binning :: Creating native dataset\n",
      "2023-02-21 20:44:19,060 :: interpret.glassbox.ebm.ebm :: Estimating with FAST\n",
      "2023-02-21 20:44:19,365 :: interpret.glassbox.ebm.bin :: eval_terms\n",
      "2023-02-21 20:44:19,381 :: interpret.glassbox.ebm.bin :: eval_terms\n"
     ]
    },
    {
     "name": "stderr",
     "output_type": "stream",
     "text": [
      "\u001b[32m[I 2023-02-21 20:44:19,386]\u001b[0m Trial 186 finished with value: 12.458615984938199 and parameters: {'learning_rate': 0.09350142297357403, 'validation_size': 0.16196302234841162, 'early_stopping_rounds': 106, 'early_stopping_tolerance': 6.356372881150275e-05, 'max_rounds': 16367, 'min_samples_leaf': 2, 'max_leaves': 2}. Best is trial 136 with value: 11.717498291897297.\u001b[0m\n"
     ]
    },
    {
     "name": "stdout",
     "output_type": "stream",
     "text": [
      "2023-02-21 20:44:19,433 :: interpret.utils._binning :: Creating native dataset\n",
      "2023-02-21 20:44:19,887 :: interpret.glassbox.ebm.bin :: eval_terms\n",
      "2023-02-21 20:44:19,905 :: interpret.glassbox.ebm.bin :: eval_terms\n"
     ]
    },
    {
     "name": "stderr",
     "output_type": "stream",
     "text": [
      "\u001b[32m[I 2023-02-21 20:44:19,910]\u001b[0m Trial 188 finished with value: 11.78972375888937 and parameters: {'learning_rate': 0.09992901412383513, 'validation_size': 0.15895540202410374, 'early_stopping_rounds': 106, 'early_stopping_tolerance': 4.364949553125846e-05, 'max_rounds': 10366, 'min_samples_leaf': 2, 'max_leaves': 2}. Best is trial 136 with value: 11.717498291897297.\u001b[0m\n"
     ]
    },
    {
     "name": "stdout",
     "output_type": "stream",
     "text": [
      "2023-02-21 20:44:19,953 :: interpret.utils._binning :: Creating native dataset\n",
      "2023-02-21 20:44:20,010 :: interpret.glassbox.ebm.bin :: eval_terms\n",
      "2023-02-21 20:44:20,027 :: interpret.glassbox.ebm.bin :: eval_terms\n"
     ]
    },
    {
     "name": "stderr",
     "output_type": "stream",
     "text": [
      "\u001b[32m[I 2023-02-21 20:44:20,032]\u001b[0m Trial 189 finished with value: 11.96547383451825 and parameters: {'learning_rate': 0.09344101501227284, 'validation_size': 0.16144781723251167, 'early_stopping_rounds': 107, 'early_stopping_tolerance': 4.840382079162037e-05, 'max_rounds': 16324, 'min_samples_leaf': 2, 'max_leaves': 2}. Best is trial 136 with value: 11.717498291897297.\u001b[0m\n"
     ]
    },
    {
     "name": "stdout",
     "output_type": "stream",
     "text": [
      "2023-02-21 20:44:20,080 :: interpret.utils._binning :: Creating native dataset\n",
      "2023-02-21 20:44:20,199 :: interpret.glassbox.ebm.bin :: eval_terms\n",
      "2023-02-21 20:44:20,217 :: interpret.glassbox.ebm.bin :: eval_terms\n"
     ]
    },
    {
     "name": "stderr",
     "output_type": "stream",
     "text": [
      "\u001b[32m[I 2023-02-21 20:44:20,222]\u001b[0m Trial 187 finished with value: 12.571780460131697 and parameters: {'learning_rate': 0.0941490051818676, 'validation_size': 0.16361591427475977, 'early_stopping_rounds': 107, 'early_stopping_tolerance': 3.499644237760093e-05, 'max_rounds': 16183, 'min_samples_leaf': 2, 'max_leaves': 2}. Best is trial 136 with value: 11.717498291897297.\u001b[0m\n"
     ]
    },
    {
     "name": "stdout",
     "output_type": "stream",
     "text": [
      "2023-02-21 20:44:20,279 :: interpret.utils._binning :: Creating native dataset\n",
      "2023-02-21 20:44:20,350 :: interpret.glassbox.ebm.bin :: eval_terms\n",
      "2023-02-21 20:44:20,353 :: interpret.glassbox.ebm.bin :: eval_terms\n",
      "2023-02-21 20:44:20,356 :: interpret.glassbox.ebm.bin :: eval_terms\n",
      "2023-02-21 20:44:20,360 :: interpret.glassbox.ebm.bin :: eval_terms\n",
      "2023-02-21 20:44:20,363 :: interpret.glassbox.ebm.bin :: eval_terms\n",
      "2023-02-21 20:44:20,366 :: interpret.glassbox.ebm.bin :: eval_terms\n",
      "2023-02-21 20:44:20,370 :: interpret.glassbox.ebm.bin :: eval_terms\n",
      "2023-02-21 20:44:20,374 :: interpret.glassbox.ebm.bin :: eval_terms\n",
      "2023-02-21 20:44:20,377 :: interpret.utils._binning :: Creating native dataset\n",
      "2023-02-21 20:44:20,384 :: interpret.glassbox.ebm.ebm :: Estimating with FAST\n",
      "2023-02-21 20:44:20,491 :: interpret.glassbox.ebm.bin :: eval_terms\n",
      "2023-02-21 20:44:20,497 :: interpret.glassbox.ebm.bin :: eval_terms\n",
      "2023-02-21 20:44:20,504 :: interpret.glassbox.ebm.bin :: eval_terms\n",
      "2023-02-21 20:44:20,508 :: interpret.glassbox.ebm.bin :: eval_terms\n",
      "2023-02-21 20:44:20,514 :: interpret.glassbox.ebm.bin :: eval_terms\n",
      "2023-02-21 20:44:20,518 :: interpret.glassbox.ebm.bin :: eval_terms\n",
      "2023-02-21 20:44:20,522 :: interpret.glassbox.ebm.bin :: eval_terms\n",
      "2023-02-21 20:44:20,526 :: interpret.glassbox.ebm.bin :: eval_terms\n",
      "2023-02-21 20:44:20,529 :: interpret.utils._binning :: Creating native dataset\n",
      "2023-02-21 20:44:20,535 :: interpret.glassbox.ebm.ebm :: Estimating with FAST\n",
      "2023-02-21 20:44:20,639 :: interpret.glassbox.ebm.bin :: eval_terms\n",
      "2023-02-21 20:44:20,646 :: interpret.glassbox.ebm.bin :: eval_terms\n",
      "2023-02-21 20:44:20,651 :: interpret.glassbox.ebm.bin :: eval_terms\n",
      "2023-02-21 20:44:20,655 :: interpret.glassbox.ebm.bin :: eval_terms\n",
      "2023-02-21 20:44:20,661 :: interpret.glassbox.ebm.bin :: eval_terms\n",
      "2023-02-21 20:44:20,665 :: interpret.glassbox.ebm.bin :: eval_terms\n",
      "2023-02-21 20:44:20,670 :: interpret.glassbox.ebm.bin :: eval_terms\n",
      "2023-02-21 20:44:20,674 :: interpret.glassbox.ebm.bin :: eval_terms\n",
      "2023-02-21 20:44:20,678 :: interpret.utils._binning :: Creating native dataset\n",
      "2023-02-21 20:44:20,684 :: interpret.glassbox.ebm.ebm :: Estimating with FAST\n",
      "2023-02-21 20:44:20,739 :: interpret.glassbox.ebm.bin :: eval_terms\n",
      "2023-02-21 20:44:20,745 :: interpret.glassbox.ebm.bin :: eval_terms\n",
      "2023-02-21 20:44:20,749 :: interpret.glassbox.ebm.bin :: eval_terms\n",
      "2023-02-21 20:44:20,752 :: interpret.glassbox.ebm.bin :: eval_terms\n",
      "2023-02-21 20:44:20,756 :: interpret.glassbox.ebm.bin :: eval_terms\n",
      "2023-02-21 20:44:20,762 :: interpret.glassbox.ebm.bin :: eval_terms\n",
      "2023-02-21 20:44:20,766 :: interpret.glassbox.ebm.bin :: eval_terms\n",
      "2023-02-21 20:44:20,774 :: interpret.glassbox.ebm.bin :: eval_terms\n",
      "2023-02-21 20:44:20,778 :: interpret.utils._binning :: Creating native dataset\n",
      "2023-02-21 20:44:20,784 :: interpret.glassbox.ebm.ebm :: Estimating with FAST\n",
      "2023-02-21 20:44:21,004 :: interpret.glassbox.ebm.bin :: eval_terms\n",
      "2023-02-21 20:44:21,021 :: interpret.glassbox.ebm.bin :: eval_terms\n"
     ]
    },
    {
     "name": "stderr",
     "output_type": "stream",
     "text": [
      "\u001b[32m[I 2023-02-21 20:44:21,029]\u001b[0m Trial 190 finished with value: 11.808816032624451 and parameters: {'learning_rate': 0.09987198132048213, 'validation_size': 0.15925045492710938, 'early_stopping_rounds': 108, 'early_stopping_tolerance': 0.00012613638275379467, 'max_rounds': 16275, 'min_samples_leaf': 2, 'max_leaves': 2}. Best is trial 136 with value: 11.717498291897297.\u001b[0m\n"
     ]
    },
    {
     "name": "stdout",
     "output_type": "stream",
     "text": [
      "2023-02-21 20:44:21,112 :: interpret.utils._binning :: Creating native dataset\n",
      "2023-02-21 20:44:21,142 :: interpret.glassbox.ebm.bin :: eval_terms\n",
      "2023-02-21 20:44:21,149 :: interpret.glassbox.ebm.bin :: eval_terms\n",
      "2023-02-21 20:44:21,154 :: interpret.glassbox.ebm.bin :: eval_terms\n",
      "2023-02-21 20:44:21,157 :: interpret.glassbox.ebm.bin :: eval_terms\n",
      "2023-02-21 20:44:21,161 :: interpret.glassbox.ebm.bin :: eval_terms\n",
      "2023-02-21 20:44:21,165 :: interpret.glassbox.ebm.bin :: eval_terms\n",
      "2023-02-21 20:44:21,169 :: interpret.glassbox.ebm.bin :: eval_terms\n",
      "2023-02-21 20:44:21,172 :: interpret.glassbox.ebm.bin :: eval_terms\n",
      "2023-02-21 20:44:21,177 :: interpret.utils._binning :: Creating native dataset\n",
      "2023-02-21 20:44:21,182 :: interpret.glassbox.ebm.ebm :: Estimating with FAST\n",
      "2023-02-21 20:44:21,408 :: interpret.glassbox.ebm.bin :: eval_terms\n",
      "2023-02-21 20:44:21,424 :: interpret.glassbox.ebm.bin :: eval_terms\n"
     ]
    },
    {
     "name": "stderr",
     "output_type": "stream",
     "text": [
      "\u001b[32m[I 2023-02-21 20:44:21,429]\u001b[0m Trial 191 finished with value: 11.826017699577152 and parameters: {'learning_rate': 0.09993488880832681, 'validation_size': 0.15887803853128382, 'early_stopping_rounds': 109, 'early_stopping_tolerance': 4.0723890183429644e-05, 'max_rounds': 15410, 'min_samples_leaf': 2, 'max_leaves': 2}. Best is trial 136 with value: 11.717498291897297.\u001b[0m\n"
     ]
    },
    {
     "name": "stdout",
     "output_type": "stream",
     "text": [
      "2023-02-21 20:44:21,480 :: interpret.utils._binning :: Creating native dataset\n",
      "2023-02-21 20:44:22,107 :: interpret.glassbox.ebm.bin :: eval_terms\n",
      "2023-02-21 20:44:22,123 :: interpret.glassbox.ebm.bin :: eval_terms\n"
     ]
    },
    {
     "name": "stderr",
     "output_type": "stream",
     "text": [
      "\u001b[32m[I 2023-02-21 20:44:22,128]\u001b[0m Trial 192 finished with value: 12.375321791951302 and parameters: {'learning_rate': 0.09983384961302484, 'validation_size': 0.15931486821616575, 'early_stopping_rounds': 108, 'early_stopping_tolerance': 0.00012589581684304047, 'max_rounds': 16314, 'min_samples_leaf': 2, 'max_leaves': 2}. Best is trial 136 with value: 11.717498291897297.\u001b[0m\n"
     ]
    },
    {
     "name": "stdout",
     "output_type": "stream",
     "text": [
      "2023-02-21 20:44:22,498 :: interpret.glassbox.ebm.bin :: eval_terms\n",
      "2023-02-21 20:44:22,516 :: interpret.glassbox.ebm.bin :: eval_terms\n"
     ]
    },
    {
     "name": "stderr",
     "output_type": "stream",
     "text": [
      "\u001b[32m[I 2023-02-21 20:44:22,522]\u001b[0m Trial 193 finished with value: 11.736911264913099 and parameters: {'learning_rate': 0.09710888664514326, 'validation_size': 0.15929085290425374, 'early_stopping_rounds': 108, 'early_stopping_tolerance': 0.00012810460676643395, 'max_rounds': 14965, 'min_samples_leaf': 2, 'max_leaves': 2}. Best is trial 136 with value: 11.717498291897297.\u001b[0m\n"
     ]
    },
    {
     "name": "stdout",
     "output_type": "stream",
     "text": [
      "2023-02-21 20:44:22,554 :: interpret.glassbox.ebm.bin :: eval_terms\n",
      "2023-02-21 20:44:22,558 :: interpret.glassbox.ebm.bin :: eval_terms\n",
      "2023-02-21 20:44:22,561 :: interpret.glassbox.ebm.bin :: eval_terms\n",
      "2023-02-21 20:44:22,564 :: interpret.glassbox.ebm.bin :: eval_terms\n",
      "2023-02-21 20:44:22,567 :: interpret.glassbox.ebm.bin :: eval_terms\n",
      "2023-02-21 20:44:22,571 :: interpret.glassbox.ebm.bin :: eval_terms\n",
      "2023-02-21 20:44:22,574 :: interpret.glassbox.ebm.bin :: eval_terms\n",
      "2023-02-21 20:44:22,577 :: interpret.glassbox.ebm.bin :: eval_terms\n",
      "2023-02-21 20:44:22,580 :: interpret.utils._binning :: Creating native dataset\n",
      "2023-02-21 20:44:22,585 :: interpret.glassbox.ebm.ebm :: Estimating with FAST\n",
      "2023-02-21 20:44:22,694 :: interpret.glassbox.ebm.bin :: eval_terms\n",
      "2023-02-21 20:44:22,699 :: interpret.glassbox.ebm.bin :: eval_terms\n",
      "2023-02-21 20:44:22,702 :: interpret.glassbox.ebm.bin :: eval_terms\n",
      "2023-02-21 20:44:22,705 :: interpret.glassbox.ebm.bin :: eval_terms\n",
      "2023-02-21 20:44:22,709 :: interpret.glassbox.ebm.bin :: eval_terms\n",
      "2023-02-21 20:44:22,713 :: interpret.glassbox.ebm.bin :: eval_terms\n",
      "2023-02-21 20:44:22,717 :: interpret.glassbox.ebm.bin :: eval_terms\n",
      "2023-02-21 20:44:22,720 :: interpret.glassbox.ebm.bin :: eval_terms\n",
      "2023-02-21 20:44:22,723 :: interpret.utils._binning :: Creating native dataset\n",
      "2023-02-21 20:44:22,728 :: interpret.glassbox.ebm.ebm :: Estimating with FAST\n",
      "2023-02-21 20:44:22,837 :: interpret.glassbox.ebm.bin :: eval_terms\n",
      "2023-02-21 20:44:22,854 :: interpret.glassbox.ebm.bin :: eval_terms\n"
     ]
    },
    {
     "name": "stderr",
     "output_type": "stream",
     "text": [
      "\u001b[32m[I 2023-02-21 20:44:22,860]\u001b[0m Trial 194 finished with value: 11.827960484034604 and parameters: {'learning_rate': 0.09980968439472789, 'validation_size': 0.1592279946558217, 'early_stopping_rounds': 110, 'early_stopping_tolerance': 0.0001236464315995058, 'max_rounds': 15144, 'min_samples_leaf': 2, 'max_leaves': 2}. Best is trial 136 with value: 11.717498291897297.\u001b[0m\n"
     ]
    },
    {
     "name": "stdout",
     "output_type": "stream",
     "text": [
      "2023-02-21 20:44:23,146 :: interpret.glassbox.ebm.bin :: eval_terms\n",
      "2023-02-21 20:44:23,175 :: interpret.glassbox.ebm.bin :: eval_terms\n"
     ]
    },
    {
     "name": "stderr",
     "output_type": "stream",
     "text": [
      "\u001b[32m[I 2023-02-21 20:44:23,233]\u001b[0m Trial 195 finished with value: 12.390118547127557 and parameters: {'learning_rate': 0.09998534446939136, 'validation_size': 0.15900545168484304, 'early_stopping_rounds': 109, 'early_stopping_tolerance': 0.00011631946820312462, 'max_rounds': 10521, 'min_samples_leaf': 2, 'max_leaves': 2}. Best is trial 136 with value: 11.717498291897297.\u001b[0m\n"
     ]
    },
    {
     "name": "stdout",
     "output_type": "stream",
     "text": [
      "2023-02-21 20:44:23,422 :: interpret.glassbox.ebm.bin :: eval_terms\n",
      "2023-02-21 20:44:23,438 :: interpret.glassbox.ebm.bin :: eval_terms\n"
     ]
    },
    {
     "name": "stderr",
     "output_type": "stream",
     "text": [
      "\u001b[32m[I 2023-02-21 20:44:23,443]\u001b[0m Trial 196 finished with value: 11.900474834467055 and parameters: {'learning_rate': 0.09999592215457356, 'validation_size': 0.15889720043891792, 'early_stopping_rounds': 109, 'early_stopping_tolerance': 0.00011698604664147964, 'max_rounds': 15338, 'min_samples_leaf': 2, 'max_leaves': 2}. Best is trial 136 with value: 11.717498291897297.\u001b[0m\n"
     ]
    },
    {
     "name": "stdout",
     "output_type": "stream",
     "text": [
      "2023-02-21 20:44:23,841 :: interpret.glassbox.ebm.bin :: eval_terms\n",
      "2023-02-21 20:44:23,854 :: interpret.glassbox.ebm.bin :: eval_terms\n"
     ]
    },
    {
     "name": "stderr",
     "output_type": "stream",
     "text": [
      "\u001b[32m[I 2023-02-21 20:44:23,857]\u001b[0m Trial 197 finished with value: 11.854618322129332 and parameters: {'learning_rate': 0.09986620452794831, 'validation_size': 0.15923337895578726, 'early_stopping_rounds': 109, 'early_stopping_tolerance': 0.00011951019862226805, 'max_rounds': 15474, 'min_samples_leaf': 2, 'max_leaves': 2}. Best is trial 136 with value: 11.717498291897297.\u001b[0m\n"
     ]
    },
    {
     "name": "stdout",
     "output_type": "stream",
     "text": [
      "2023-02-21 20:44:23,987 :: interpret.glassbox.ebm.bin :: eval_terms\n",
      "2023-02-21 20:44:23,999 :: interpret.glassbox.ebm.bin :: eval_terms\n"
     ]
    },
    {
     "name": "stderr",
     "output_type": "stream",
     "text": [
      "\u001b[32m[I 2023-02-21 20:44:24,002]\u001b[0m Trial 198 finished with value: 11.840990220139274 and parameters: {'learning_rate': 0.09977092181181958, 'validation_size': 0.15913209047234922, 'early_stopping_rounds': 109, 'early_stopping_tolerance': 0.00012215452353886452, 'max_rounds': 15279, 'min_samples_leaf': 2, 'max_leaves': 2}. Best is trial 136 with value: 11.717498291897297.\u001b[0m\n"
     ]
    },
    {
     "name": "stdout",
     "output_type": "stream",
     "text": [
      "2023-02-21 20:44:24,149 :: interpret.glassbox.ebm.bin :: eval_terms\n",
      "2023-02-21 20:44:24,158 :: interpret.glassbox.ebm.bin :: eval_terms\n"
     ]
    },
    {
     "name": "stderr",
     "output_type": "stream",
     "text": [
      "\u001b[32m[I 2023-02-21 20:44:24,162]\u001b[0m Trial 199 finished with value: 11.847504716391132 and parameters: {'learning_rate': 0.09990829269631057, 'validation_size': 0.15877039784293784, 'early_stopping_rounds': 110, 'early_stopping_tolerance': 0.00011740120810099084, 'max_rounds': 15834, 'min_samples_leaf': 2, 'max_leaves': 2}. Best is trial 136 with value: 11.717498291897297.\u001b[0m\n"
     ]
    },
    {
     "name": "stdout",
     "output_type": "stream",
     "text": [
      "2023-02-21 20:44:24,172 :: interpret.utils._binning :: Creating native dataset\n",
      "2023-02-21 20:44:24,305 :: interpret.glassbox.ebm.bin :: eval_terms\n",
      "2023-02-21 20:44:24,307 :: interpret.glassbox.ebm.bin :: eval_terms\n",
      "2023-02-21 20:44:24,309 :: interpret.glassbox.ebm.bin :: eval_terms\n",
      "2023-02-21 20:44:24,312 :: interpret.glassbox.ebm.bin :: eval_terms\n",
      "2023-02-21 20:44:24,315 :: interpret.glassbox.ebm.bin :: eval_terms\n",
      "2023-02-21 20:44:24,317 :: interpret.glassbox.ebm.bin :: eval_terms\n",
      "2023-02-21 20:44:24,320 :: interpret.glassbox.ebm.bin :: eval_terms\n",
      "2023-02-21 20:44:24,322 :: interpret.glassbox.ebm.bin :: eval_terms\n",
      "2023-02-21 20:44:24,325 :: interpret.utils._binning :: Creating native dataset\n",
      "2023-02-21 20:44:24,330 :: interpret.glassbox.ebm.ebm :: Estimating with FAST\n",
      "2023-02-21 20:44:25,186 :: interpret.glassbox.ebm.bin :: eval_terms\n",
      "2023-02-21 20:44:25,198 :: interpret.glassbox.ebm.bin :: eval_terms\n"
     ]
    }
   ],
   "source": [
    "obj.fit(X_train,y_train)\n",
    "y_pred = obj.predict(X_test)"
   ]
  },
  {
   "cell_type": "markdown",
   "metadata": {},
   "source": [
    "#### Check performance of the model"
   ]
  },
  {
   "cell_type": "code",
   "execution_count": 14,
   "metadata": {},
   "outputs": [
    {
     "name": "stdout",
     "output_type": "stream",
     "text": [
      "r2 score : \n",
      "0.5767150008250387\n",
      "mean_absolute_error : \n",
      "41.90232547571242\n"
     ]
    }
   ],
   "source": [
    "print('r2 score : ')\n",
    "print(r2_score(y_test,y_pred))\n",
    "print('mean_absolute_error : ')\n",
    "print(mean_absolute_error(y_test,y_pred))\n"
   ]
  },
  {
   "cell_type": "code",
   "execution_count": 15,
   "metadata": {},
   "outputs": [
    {
     "name": "stdout",
     "output_type": "stream",
     "text": [
      "ExplainableBoostingRegressor(early_stopping_rounds=136,\n",
      "                             early_stopping_tolerance=0.00013710838471780898,\n",
      "                             learning_rate=0.09740051475479909, max_leaves=2,\n",
      "                             max_rounds=15716,\n",
      "                             validation_size=0.15880868368853937)\n"
     ]
    }
   ],
   "source": [
    "ebm=obj.get_best_estimator()\n",
    "print(ebm)"
   ]
  },
  {
   "cell_type": "code",
   "execution_count": 16,
   "metadata": {},
   "outputs": [
    {
     "data": {
      "text/html": [
       "<style>#sk-container-id-1 {color: black;background-color: white;}#sk-container-id-1 pre{padding: 0;}#sk-container-id-1 div.sk-toggleable {background-color: white;}#sk-container-id-1 label.sk-toggleable__label {cursor: pointer;display: block;width: 100%;margin-bottom: 0;padding: 0.3em;box-sizing: border-box;text-align: center;}#sk-container-id-1 label.sk-toggleable__label-arrow:before {content: \"▸\";float: left;margin-right: 0.25em;color: #696969;}#sk-container-id-1 label.sk-toggleable__label-arrow:hover:before {color: black;}#sk-container-id-1 div.sk-estimator:hover label.sk-toggleable__label-arrow:before {color: black;}#sk-container-id-1 div.sk-toggleable__content {max-height: 0;max-width: 0;overflow: hidden;text-align: left;background-color: #f0f8ff;}#sk-container-id-1 div.sk-toggleable__content pre {margin: 0.2em;color: black;border-radius: 0.25em;background-color: #f0f8ff;}#sk-container-id-1 input.sk-toggleable__control:checked~div.sk-toggleable__content {max-height: 200px;max-width: 100%;overflow: auto;}#sk-container-id-1 input.sk-toggleable__control:checked~label.sk-toggleable__label-arrow:before {content: \"▾\";}#sk-container-id-1 div.sk-estimator input.sk-toggleable__control:checked~label.sk-toggleable__label {background-color: #d4ebff;}#sk-container-id-1 div.sk-label input.sk-toggleable__control:checked~label.sk-toggleable__label {background-color: #d4ebff;}#sk-container-id-1 input.sk-hidden--visually {border: 0;clip: rect(1px 1px 1px 1px);clip: rect(1px, 1px, 1px, 1px);height: 1px;margin: -1px;overflow: hidden;padding: 0;position: absolute;width: 1px;}#sk-container-id-1 div.sk-estimator {font-family: monospace;background-color: #f0f8ff;border: 1px dotted black;border-radius: 0.25em;box-sizing: border-box;margin-bottom: 0.5em;}#sk-container-id-1 div.sk-estimator:hover {background-color: #d4ebff;}#sk-container-id-1 div.sk-parallel-item::after {content: \"\";width: 100%;border-bottom: 1px solid gray;flex-grow: 1;}#sk-container-id-1 div.sk-label:hover label.sk-toggleable__label {background-color: #d4ebff;}#sk-container-id-1 div.sk-serial::before {content: \"\";position: absolute;border-left: 1px solid gray;box-sizing: border-box;top: 0;bottom: 0;left: 50%;z-index: 0;}#sk-container-id-1 div.sk-serial {display: flex;flex-direction: column;align-items: center;background-color: white;padding-right: 0.2em;padding-left: 0.2em;position: relative;}#sk-container-id-1 div.sk-item {position: relative;z-index: 1;}#sk-container-id-1 div.sk-parallel {display: flex;align-items: stretch;justify-content: center;background-color: white;position: relative;}#sk-container-id-1 div.sk-item::before, #sk-container-id-1 div.sk-parallel-item::before {content: \"\";position: absolute;border-left: 1px solid gray;box-sizing: border-box;top: 0;bottom: 0;left: 50%;z-index: -1;}#sk-container-id-1 div.sk-parallel-item {display: flex;flex-direction: column;z-index: 1;position: relative;background-color: white;}#sk-container-id-1 div.sk-parallel-item:first-child::after {align-self: flex-end;width: 50%;}#sk-container-id-1 div.sk-parallel-item:last-child::after {align-self: flex-start;width: 50%;}#sk-container-id-1 div.sk-parallel-item:only-child::after {width: 0;}#sk-container-id-1 div.sk-dashed-wrapped {border: 1px dashed gray;margin: 0 0.4em 0.5em 0.4em;box-sizing: border-box;padding-bottom: 0.4em;background-color: white;}#sk-container-id-1 div.sk-label label {font-family: monospace;font-weight: bold;display: inline-block;line-height: 1.2em;}#sk-container-id-1 div.sk-label-container {text-align: center;}#sk-container-id-1 div.sk-container {/* jupyter's `normalize.less` sets `[hidden] { display: none; }` but bootstrap.min.css set `[hidden] { display: none !important; }` so we also need the `!important` here to be able to override the default hidden behavior on the sphinx rendered scikit-learn.org. See: https://github.com/scikit-learn/scikit-learn/issues/21755 */display: inline-block !important;position: relative;}#sk-container-id-1 div.sk-text-repr-fallback {display: none;}</style><div id=\"sk-container-id-1\" class=\"sk-top-container\"><div class=\"sk-text-repr-fallback\"><pre>ExplainableBoostingRegressor(early_stopping_rounds=136,\n",
       "                             early_stopping_tolerance=0.00013710838471780898,\n",
       "                             learning_rate=0.09740051475479909, max_leaves=2,\n",
       "                             max_rounds=15716,\n",
       "                             validation_size=0.15880868368853937)</pre><b>In a Jupyter environment, please rerun this cell to show the HTML representation or trust the notebook. <br />On GitHub, the HTML representation is unable to render, please try loading this page with nbviewer.org.</b></div><div class=\"sk-container\" hidden><div class=\"sk-item\"><div class=\"sk-estimator sk-toggleable\"><input class=\"sk-toggleable__control sk-hidden--visually\" id=\"sk-estimator-id-1\" type=\"checkbox\" checked><label for=\"sk-estimator-id-1\" class=\"sk-toggleable__label sk-toggleable__label-arrow\">ExplainableBoostingRegressor</label><div class=\"sk-toggleable__content\"><pre>ExplainableBoostingRegressor(early_stopping_rounds=136,\n",
       "                             early_stopping_tolerance=0.00013710838471780898,\n",
       "                             learning_rate=0.09740051475479909, max_leaves=2,\n",
       "                             max_rounds=15716,\n",
       "                             validation_size=0.15880868368853937)</pre></div></div></div></div></div>"
      ],
      "text/plain": [
       "ExplainableBoostingRegressor(early_stopping_rounds=136,\n",
       "                             early_stopping_tolerance=0.00013710838471780898,\n",
       "                             learning_rate=0.09740051475479909, max_leaves=2,\n",
       "                             max_rounds=15716,\n",
       "                             validation_size=0.15880868368853937)"
      ]
     },
     "execution_count": 16,
     "metadata": {},
     "output_type": "execute_result"
    }
   ],
   "source": [
    "obj.best_estimator"
   ]
  },
  {
   "cell_type": "markdown",
   "metadata": {},
   "source": [
    "#### Get fitted randomized search object and its attributes"
   ]
  },
  {
   "cell_type": "code",
   "execution_count": 17,
   "metadata": {},
   "outputs": [
    {
     "data": {
      "text/plain": [
       "[FrozenTrial(number=0, values=[14.511573530646379], datetime_start=datetime.datetime(2023, 2, 21, 20, 42, 33, 118432), datetime_complete=datetime.datetime(2023, 2, 21, 20, 42, 41, 850140), params={'learning_rate': 0.021463880765159656, 'validation_size': 0.16540686977778507, 'early_stopping_rounds': 127, 'early_stopping_tolerance': 0.0005243365242405249, 'max_rounds': 12211, 'min_samples_leaf': 4, 'max_leaves': 4}, distributions={'learning_rate': UniformDistribution(high=0.1, low=0.01), 'validation_size': UniformDistribution(high=0.2, low=0.15), 'early_stopping_rounds': IntUniformDistribution(high=200, low=50, step=1), 'early_stopping_tolerance': UniformDistribution(high=0.001, low=1e-05), 'max_rounds': IntUniformDistribution(high=20000, low=5000, step=1), 'min_samples_leaf': IntUniformDistribution(high=5, low=2, step=1), 'max_leaves': IntUniformDistribution(high=5, low=2, step=1)}, user_attrs={}, system_attrs={}, intermediate_values={}, trial_id=0, state=TrialState.COMPLETE, value=None),\n",
       " FrozenTrial(number=1, values=[11.721424841576487], datetime_start=datetime.datetime(2023, 2, 21, 20, 42, 33, 120910), datetime_complete=datetime.datetime(2023, 2, 21, 20, 42, 43, 65039), params={'learning_rate': 0.06690112263802735, 'validation_size': 0.15016834123967274, 'early_stopping_rounds': 148, 'early_stopping_tolerance': 0.00027189927051028944, 'max_rounds': 19277, 'min_samples_leaf': 2, 'max_leaves': 4}, distributions={'learning_rate': UniformDistribution(high=0.1, low=0.01), 'validation_size': UniformDistribution(high=0.2, low=0.15), 'early_stopping_rounds': IntUniformDistribution(high=200, low=50, step=1), 'early_stopping_tolerance': UniformDistribution(high=0.001, low=1e-05), 'max_rounds': IntUniformDistribution(high=20000, low=5000, step=1), 'min_samples_leaf': IntUniformDistribution(high=5, low=2, step=1), 'max_leaves': IntUniformDistribution(high=5, low=2, step=1)}, user_attrs={}, system_attrs={}, intermediate_values={}, trial_id=1, state=TrialState.COMPLETE, value=None),\n",
       " FrozenTrial(number=2, values=[15.312102040683632], datetime_start=datetime.datetime(2023, 2, 21, 20, 42, 33, 124042), datetime_complete=datetime.datetime(2023, 2, 21, 20, 42, 42, 361635), params={'learning_rate': 0.057454262696059334, 'validation_size': 0.19727028629246368, 'early_stopping_rounds': 137, 'early_stopping_tolerance': 0.0007870287857805252, 'max_rounds': 13812, 'min_samples_leaf': 4, 'max_leaves': 4}, distributions={'learning_rate': UniformDistribution(high=0.1, low=0.01), 'validation_size': UniformDistribution(high=0.2, low=0.15), 'early_stopping_rounds': IntUniformDistribution(high=200, low=50, step=1), 'early_stopping_tolerance': UniformDistribution(high=0.001, low=1e-05), 'max_rounds': IntUniformDistribution(high=20000, low=5000, step=1), 'min_samples_leaf': IntUniformDistribution(high=5, low=2, step=1), 'max_leaves': IntUniformDistribution(high=5, low=2, step=1)}, user_attrs={}, system_attrs={}, intermediate_values={}, trial_id=2, state=TrialState.COMPLETE, value=None),\n",
       " FrozenTrial(number=3, values=[14.925737313205625], datetime_start=datetime.datetime(2023, 2, 21, 20, 42, 33, 126641), datetime_complete=datetime.datetime(2023, 2, 21, 20, 42, 42, 762745), params={'learning_rate': 0.05683068249057315, 'validation_size': 0.17416922452132266, 'early_stopping_rounds': 195, 'early_stopping_tolerance': 0.00088767495223048, 'max_rounds': 17413, 'min_samples_leaf': 3, 'max_leaves': 4}, distributions={'learning_rate': UniformDistribution(high=0.1, low=0.01), 'validation_size': UniformDistribution(high=0.2, low=0.15), 'early_stopping_rounds': IntUniformDistribution(high=200, low=50, step=1), 'early_stopping_tolerance': UniformDistribution(high=0.001, low=1e-05), 'max_rounds': IntUniformDistribution(high=20000, low=5000, step=1), 'min_samples_leaf': IntUniformDistribution(high=5, low=2, step=1), 'max_leaves': IntUniformDistribution(high=5, low=2, step=1)}, user_attrs={}, system_attrs={}, intermediate_values={}, trial_id=3, state=TrialState.COMPLETE, value=None),\n",
       " FrozenTrial(number=4, values=[14.411364964102116], datetime_start=datetime.datetime(2023, 2, 21, 20, 42, 33, 128894), datetime_complete=datetime.datetime(2023, 2, 21, 20, 42, 45, 298866), params={'learning_rate': 0.013500913566281572, 'validation_size': 0.16426920847547685, 'early_stopping_rounds': 51, 'early_stopping_tolerance': 0.00047287380225572936, 'max_rounds': 12941, 'min_samples_leaf': 2, 'max_leaves': 4}, distributions={'learning_rate': UniformDistribution(high=0.1, low=0.01), 'validation_size': UniformDistribution(high=0.2, low=0.15), 'early_stopping_rounds': IntUniformDistribution(high=200, low=50, step=1), 'early_stopping_tolerance': UniformDistribution(high=0.001, low=1e-05), 'max_rounds': IntUniformDistribution(high=20000, low=5000, step=1), 'min_samples_leaf': IntUniformDistribution(high=5, low=2, step=1), 'max_leaves': IntUniformDistribution(high=5, low=2, step=1)}, user_attrs={}, system_attrs={}, intermediate_values={}, trial_id=4, state=TrialState.COMPLETE, value=None),\n",
       " FrozenTrial(number=5, values=[16.127718993135634], datetime_start=datetime.datetime(2023, 2, 21, 20, 42, 33, 130416), datetime_complete=datetime.datetime(2023, 2, 21, 20, 42, 41, 39192), params={'learning_rate': 0.028370999072418572, 'validation_size': 0.1994533179448228, 'early_stopping_rounds': 61, 'early_stopping_tolerance': 0.0005785155693317803, 'max_rounds': 17247, 'min_samples_leaf': 4, 'max_leaves': 3}, distributions={'learning_rate': UniformDistribution(high=0.1, low=0.01), 'validation_size': UniformDistribution(high=0.2, low=0.15), 'early_stopping_rounds': IntUniformDistribution(high=200, low=50, step=1), 'early_stopping_tolerance': UniformDistribution(high=0.001, low=1e-05), 'max_rounds': IntUniformDistribution(high=20000, low=5000, step=1), 'min_samples_leaf': IntUniformDistribution(high=5, low=2, step=1), 'max_leaves': IntUniformDistribution(high=5, low=2, step=1)}, user_attrs={}, system_attrs={}, intermediate_values={}, trial_id=5, state=TrialState.COMPLETE, value=None),\n",
       " FrozenTrial(number=6, values=[14.594966318975064], datetime_start=datetime.datetime(2023, 2, 21, 20, 42, 33, 133334), datetime_complete=datetime.datetime(2023, 2, 21, 20, 42, 41, 980767), params={'learning_rate': 0.06077653521555337, 'validation_size': 0.17714441896035338, 'early_stopping_rounds': 128, 'early_stopping_tolerance': 5.8865918082844265e-05, 'max_rounds': 10997, 'min_samples_leaf': 4, 'max_leaves': 4}, distributions={'learning_rate': UniformDistribution(high=0.1, low=0.01), 'validation_size': UniformDistribution(high=0.2, low=0.15), 'early_stopping_rounds': IntUniformDistribution(high=200, low=50, step=1), 'early_stopping_tolerance': UniformDistribution(high=0.001, low=1e-05), 'max_rounds': IntUniformDistribution(high=20000, low=5000, step=1), 'min_samples_leaf': IntUniformDistribution(high=5, low=2, step=1), 'max_leaves': IntUniformDistribution(high=5, low=2, step=1)}, user_attrs={}, system_attrs={}, intermediate_values={}, trial_id=6, state=TrialState.COMPLETE, value=None),\n",
       " FrozenTrial(number=7, values=[18.08946759640773], datetime_start=datetime.datetime(2023, 2, 21, 20, 42, 33, 135427), datetime_complete=datetime.datetime(2023, 2, 21, 20, 42, 42, 885280), params={'learning_rate': 0.017752390598381657, 'validation_size': 0.19810687350188344, 'early_stopping_rounds': 79, 'early_stopping_tolerance': 7.773759162847377e-05, 'max_rounds': 7607, 'min_samples_leaf': 5, 'max_leaves': 3}, distributions={'learning_rate': UniformDistribution(high=0.1, low=0.01), 'validation_size': UniformDistribution(high=0.2, low=0.15), 'early_stopping_rounds': IntUniformDistribution(high=200, low=50, step=1), 'early_stopping_tolerance': UniformDistribution(high=0.001, low=1e-05), 'max_rounds': IntUniformDistribution(high=20000, low=5000, step=1), 'min_samples_leaf': IntUniformDistribution(high=5, low=2, step=1), 'max_leaves': IntUniformDistribution(high=5, low=2, step=1)}, user_attrs={}, system_attrs={}, intermediate_values={}, trial_id=7, state=TrialState.COMPLETE, value=None),\n",
       " FrozenTrial(number=8, values=[16.778648797179194], datetime_start=datetime.datetime(2023, 2, 21, 20, 42, 41, 43402), datetime_complete=datetime.datetime(2023, 2, 21, 20, 42, 43, 690607), params={'learning_rate': 0.09735521786978932, 'validation_size': 0.16516038277426295, 'early_stopping_rounds': 167, 'early_stopping_tolerance': 4.38585063488816e-05, 'max_rounds': 14339, 'min_samples_leaf': 5, 'max_leaves': 5}, distributions={'learning_rate': UniformDistribution(high=0.1, low=0.01), 'validation_size': UniformDistribution(high=0.2, low=0.15), 'early_stopping_rounds': IntUniformDistribution(high=200, low=50, step=1), 'early_stopping_tolerance': UniformDistribution(high=0.001, low=1e-05), 'max_rounds': IntUniformDistribution(high=20000, low=5000, step=1), 'min_samples_leaf': IntUniformDistribution(high=5, low=2, step=1), 'max_leaves': IntUniformDistribution(high=5, low=2, step=1)}, user_attrs={}, system_attrs={}, intermediate_values={}, trial_id=8, state=TrialState.COMPLETE, value=None),\n",
       " FrozenTrial(number=9, values=[19.279309436107802], datetime_start=datetime.datetime(2023, 2, 21, 20, 42, 41, 854365), datetime_complete=datetime.datetime(2023, 2, 21, 20, 42, 44, 118557), params={'learning_rate': 0.0261941546647639, 'validation_size': 0.18404751535923214, 'early_stopping_rounds': 75, 'early_stopping_tolerance': 0.0007314837875152607, 'max_rounds': 16364, 'min_samples_leaf': 5, 'max_leaves': 2}, distributions={'learning_rate': UniformDistribution(high=0.1, low=0.01), 'validation_size': UniformDistribution(high=0.2, low=0.15), 'early_stopping_rounds': IntUniformDistribution(high=200, low=50, step=1), 'early_stopping_tolerance': UniformDistribution(high=0.001, low=1e-05), 'max_rounds': IntUniformDistribution(high=20000, low=5000, step=1), 'min_samples_leaf': IntUniformDistribution(high=5, low=2, step=1), 'max_leaves': IntUniformDistribution(high=5, low=2, step=1)}, user_attrs={}, system_attrs={}, intermediate_values={}, trial_id=9, state=TrialState.COMPLETE, value=None),\n",
       " FrozenTrial(number=10, values=[14.37501228658033], datetime_start=datetime.datetime(2023, 2, 21, 20, 42, 41, 984425), datetime_complete=datetime.datetime(2023, 2, 21, 20, 42, 44, 493804), params={'learning_rate': 0.04224713688453146, 'validation_size': 0.1568345945106202, 'early_stopping_rounds': 86, 'early_stopping_tolerance': 0.0002628765369968033, 'max_rounds': 8932, 'min_samples_leaf': 4, 'max_leaves': 4}, distributions={'learning_rate': UniformDistribution(high=0.1, low=0.01), 'validation_size': UniformDistribution(high=0.2, low=0.15), 'early_stopping_rounds': IntUniformDistribution(high=200, low=50, step=1), 'early_stopping_tolerance': UniformDistribution(high=0.001, low=1e-05), 'max_rounds': IntUniformDistribution(high=20000, low=5000, step=1), 'min_samples_leaf': IntUniformDistribution(high=5, low=2, step=1), 'max_leaves': IntUniformDistribution(high=5, low=2, step=1)}, user_attrs={}, system_attrs={}, intermediate_values={}, trial_id=10, state=TrialState.COMPLETE, value=None),\n",
       " FrozenTrial(number=11, values=[14.7935367630571], datetime_start=datetime.datetime(2023, 2, 21, 20, 42, 42, 420942), datetime_complete=datetime.datetime(2023, 2, 21, 20, 42, 44, 880474), params={'learning_rate': 0.08903412500229016, 'validation_size': 0.16557285214875198, 'early_stopping_rounds': 152, 'early_stopping_tolerance': 0.00015271756944315473, 'max_rounds': 7562, 'min_samples_leaf': 3, 'max_leaves': 5}, distributions={'learning_rate': UniformDistribution(high=0.1, low=0.01), 'validation_size': UniformDistribution(high=0.2, low=0.15), 'early_stopping_rounds': IntUniformDistribution(high=200, low=50, step=1), 'early_stopping_tolerance': UniformDistribution(high=0.001, low=1e-05), 'max_rounds': IntUniformDistribution(high=20000, low=5000, step=1), 'min_samples_leaf': IntUniformDistribution(high=5, low=2, step=1), 'max_leaves': IntUniformDistribution(high=5, low=2, step=1)}, user_attrs={}, system_attrs={}, intermediate_values={}, trial_id=11, state=TrialState.COMPLETE, value=None),\n",
       " FrozenTrial(number=12, values=[15.643120144534171], datetime_start=datetime.datetime(2023, 2, 21, 20, 42, 42, 766265), datetime_complete=datetime.datetime(2023, 2, 21, 20, 42, 45, 21779), params={'learning_rate': 0.0594196973414422, 'validation_size': 0.1919454246076997, 'early_stopping_rounds': 63, 'early_stopping_tolerance': 0.00016521428478085388, 'max_rounds': 16673, 'min_samples_leaf': 4, 'max_leaves': 3}, distributions={'learning_rate': UniformDistribution(high=0.1, low=0.01), 'validation_size': UniformDistribution(high=0.2, low=0.15), 'early_stopping_rounds': IntUniformDistribution(high=200, low=50, step=1), 'early_stopping_tolerance': UniformDistribution(high=0.001, low=1e-05), 'max_rounds': IntUniformDistribution(high=20000, low=5000, step=1), 'min_samples_leaf': IntUniformDistribution(high=5, low=2, step=1), 'max_leaves': IntUniformDistribution(high=5, low=2, step=1)}, user_attrs={}, system_attrs={}, intermediate_values={}, trial_id=12, state=TrialState.COMPLETE, value=None),\n",
       " FrozenTrial(number=13, values=[13.076770746126925], datetime_start=datetime.datetime(2023, 2, 21, 20, 42, 42, 891963), datetime_complete=datetime.datetime(2023, 2, 21, 20, 42, 47, 659710), params={'learning_rate': 0.0927324820298681, 'validation_size': 0.19951558010553444, 'early_stopping_rounds': 154, 'early_stopping_tolerance': 0.0003807766312331485, 'max_rounds': 7071, 'min_samples_leaf': 2, 'max_leaves': 3}, distributions={'learning_rate': UniformDistribution(high=0.1, low=0.01), 'validation_size': UniformDistribution(high=0.2, low=0.15), 'early_stopping_rounds': IntUniformDistribution(high=200, low=50, step=1), 'early_stopping_tolerance': UniformDistribution(high=0.001, low=1e-05), 'max_rounds': IntUniformDistribution(high=20000, low=5000, step=1), 'min_samples_leaf': IntUniformDistribution(high=5, low=2, step=1), 'max_leaves': IntUniformDistribution(high=5, low=2, step=1)}, user_attrs={}, system_attrs={}, intermediate_values={}, trial_id=13, state=TrialState.COMPLETE, value=None),\n",
       " FrozenTrial(number=14, values=[15.688042158170509], datetime_start=datetime.datetime(2023, 2, 21, 20, 42, 43, 73370), datetime_complete=datetime.datetime(2023, 2, 21, 20, 42, 46, 704852), params={'learning_rate': 0.08556660595489339, 'validation_size': 0.19339940483464743, 'early_stopping_rounds': 196, 'early_stopping_tolerance': 0.0007602873295942636, 'max_rounds': 8473, 'min_samples_leaf': 3, 'max_leaves': 3}, distributions={'learning_rate': UniformDistribution(high=0.1, low=0.01), 'validation_size': UniformDistribution(high=0.2, low=0.15), 'early_stopping_rounds': IntUniformDistribution(high=200, low=50, step=1), 'early_stopping_tolerance': UniformDistribution(high=0.001, low=1e-05), 'max_rounds': IntUniformDistribution(high=20000, low=5000, step=1), 'min_samples_leaf': IntUniformDistribution(high=5, low=2, step=1), 'max_leaves': IntUniformDistribution(high=5, low=2, step=1)}, user_attrs={}, system_attrs={}, intermediate_values={}, trial_id=14, state=TrialState.COMPLETE, value=None),\n",
       " FrozenTrial(number=15, values=[17.84574753419937], datetime_start=datetime.datetime(2023, 2, 21, 20, 42, 43, 696321), datetime_complete=datetime.datetime(2023, 2, 21, 20, 42, 47, 287574), params={'learning_rate': 0.07843875551828455, 'validation_size': 0.19826519746947896, 'early_stopping_rounds': 101, 'early_stopping_tolerance': 0.0005234911313677967, 'max_rounds': 10381, 'min_samples_leaf': 5, 'max_leaves': 3}, distributions={'learning_rate': UniformDistribution(high=0.1, low=0.01), 'validation_size': UniformDistribution(high=0.2, low=0.15), 'early_stopping_rounds': IntUniformDistribution(high=200, low=50, step=1), 'early_stopping_tolerance': UniformDistribution(high=0.001, low=1e-05), 'max_rounds': IntUniformDistribution(high=20000, low=5000, step=1), 'min_samples_leaf': IntUniformDistribution(high=5, low=2, step=1), 'max_leaves': IntUniformDistribution(high=5, low=2, step=1)}, user_attrs={}, system_attrs={}, intermediate_values={}, trial_id=15, state=TrialState.COMPLETE, value=None),\n",
       " FrozenTrial(number=16, values=[17.085461978343357], datetime_start=datetime.datetime(2023, 2, 21, 20, 42, 44, 124757), datetime_complete=datetime.datetime(2023, 2, 21, 20, 42, 47, 989540), params={'learning_rate': 0.08454674953235086, 'validation_size': 0.1682766699716077, 'early_stopping_rounds': 129, 'early_stopping_tolerance': 0.00034982975816076807, 'max_rounds': 5369, 'min_samples_leaf': 5, 'max_leaves': 3}, distributions={'learning_rate': UniformDistribution(high=0.1, low=0.01), 'validation_size': UniformDistribution(high=0.2, low=0.15), 'early_stopping_rounds': IntUniformDistribution(high=200, low=50, step=1), 'early_stopping_tolerance': UniformDistribution(high=0.001, low=1e-05), 'max_rounds': IntUniformDistribution(high=20000, low=5000, step=1), 'min_samples_leaf': IntUniformDistribution(high=5, low=2, step=1), 'max_leaves': IntUniformDistribution(high=5, low=2, step=1)}, user_attrs={}, system_attrs={}, intermediate_values={}, trial_id=16, state=TrialState.COMPLETE, value=None),\n",
       " FrozenTrial(number=17, values=[12.64703467855227], datetime_start=datetime.datetime(2023, 2, 21, 20, 42, 44, 498212), datetime_complete=datetime.datetime(2023, 2, 21, 20, 42, 50, 814574), params={'learning_rate': 0.08184651520797012, 'validation_size': 0.1517439394500295, 'early_stopping_rounds': 163, 'early_stopping_tolerance': 0.0003144689860759142, 'max_rounds': 5297, 'min_samples_leaf': 2, 'max_leaves': 5}, distributions={'learning_rate': UniformDistribution(high=0.1, low=0.01), 'validation_size': UniformDistribution(high=0.2, low=0.15), 'early_stopping_rounds': IntUniformDistribution(high=200, low=50, step=1), 'early_stopping_tolerance': UniformDistribution(high=0.001, low=1e-05), 'max_rounds': IntUniformDistribution(high=20000, low=5000, step=1), 'min_samples_leaf': IntUniformDistribution(high=5, low=2, step=1), 'max_leaves': IntUniformDistribution(high=5, low=2, step=1)}, user_attrs={}, system_attrs={}, intermediate_values={}, trial_id=17, state=TrialState.COMPLETE, value=None),\n",
       " FrozenTrial(number=18, values=[13.198086449305048], datetime_start=datetime.datetime(2023, 2, 21, 20, 42, 44, 885819), datetime_complete=datetime.datetime(2023, 2, 21, 20, 42, 52, 461316), params={'learning_rate': 0.040446628670865604, 'validation_size': 0.15290201043507498, 'early_stopping_rounds': 99, 'early_stopping_tolerance': 0.00032879200275056286, 'max_rounds': 19491, 'min_samples_leaf': 2, 'max_leaves': 3}, distributions={'learning_rate': UniformDistribution(high=0.1, low=0.01), 'validation_size': UniformDistribution(high=0.2, low=0.15), 'early_stopping_rounds': IntUniformDistribution(high=200, low=50, step=1), 'early_stopping_tolerance': UniformDistribution(high=0.001, low=1e-05), 'max_rounds': IntUniformDistribution(high=20000, low=5000, step=1), 'min_samples_leaf': IntUniformDistribution(high=5, low=2, step=1), 'max_leaves': IntUniformDistribution(high=5, low=2, step=1)}, user_attrs={}, system_attrs={}, intermediate_values={}, trial_id=18, state=TrialState.COMPLETE, value=None),\n",
       " FrozenTrial(number=19, values=[12.37145229615045], datetime_start=datetime.datetime(2023, 2, 21, 20, 42, 45, 25870), datetime_complete=datetime.datetime(2023, 2, 21, 20, 42, 51, 384220), params={'learning_rate': 0.07439768722644471, 'validation_size': 0.15006224836971474, 'early_stopping_rounds': 96, 'early_stopping_tolerance': 0.00039817928401058103, 'max_rounds': 19513, 'min_samples_leaf': 2, 'max_leaves': 5}, distributions={'learning_rate': UniformDistribution(high=0.1, low=0.01), 'validation_size': UniformDistribution(high=0.2, low=0.15), 'early_stopping_rounds': IntUniformDistribution(high=200, low=50, step=1), 'early_stopping_tolerance': UniformDistribution(high=0.001, low=1e-05), 'max_rounds': IntUniformDistribution(high=20000, low=5000, step=1), 'min_samples_leaf': IntUniformDistribution(high=5, low=2, step=1), 'max_leaves': IntUniformDistribution(high=5, low=2, step=1)}, user_attrs={}, system_attrs={}, intermediate_values={}, trial_id=19, state=TrialState.COMPLETE, value=None),\n",
       " FrozenTrial(number=20, values=[12.545437718041695], datetime_start=datetime.datetime(2023, 2, 21, 20, 42, 45, 304943), datetime_complete=datetime.datetime(2023, 2, 21, 20, 42, 53, 900593), params={'learning_rate': 0.04072064928166874, 'validation_size': 0.1507145724990648, 'early_stopping_rounds': 100, 'early_stopping_tolerance': 0.0002986791225567021, 'max_rounds': 19558, 'min_samples_leaf': 2, 'max_leaves': 5}, distributions={'learning_rate': UniformDistribution(high=0.1, low=0.01), 'validation_size': UniformDistribution(high=0.2, low=0.15), 'early_stopping_rounds': IntUniformDistribution(high=200, low=50, step=1), 'early_stopping_tolerance': UniformDistribution(high=0.001, low=1e-05), 'max_rounds': IntUniformDistribution(high=20000, low=5000, step=1), 'min_samples_leaf': IntUniformDistribution(high=5, low=2, step=1), 'max_leaves': IntUniformDistribution(high=5, low=2, step=1)}, user_attrs={}, system_attrs={}, intermediate_values={}, trial_id=20, state=TrialState.COMPLETE, value=None),\n",
       " FrozenTrial(number=21, values=[12.429740723650363], datetime_start=datetime.datetime(2023, 2, 21, 20, 42, 46, 709707), datetime_complete=datetime.datetime(2023, 2, 21, 20, 42, 55, 93086), params={'learning_rate': 0.045590412772701455, 'validation_size': 0.15067936614226574, 'early_stopping_rounds': 100, 'early_stopping_tolerance': 0.00032631626525522674, 'max_rounds': 19658, 'min_samples_leaf': 2, 'max_leaves': 5}, distributions={'learning_rate': UniformDistribution(high=0.1, low=0.01), 'validation_size': UniformDistribution(high=0.2, low=0.15), 'early_stopping_rounds': IntUniformDistribution(high=200, low=50, step=1), 'early_stopping_tolerance': UniformDistribution(high=0.001, low=1e-05), 'max_rounds': IntUniformDistribution(high=20000, low=5000, step=1), 'min_samples_leaf': IntUniformDistribution(high=5, low=2, step=1), 'max_leaves': IntUniformDistribution(high=5, low=2, step=1)}, user_attrs={}, system_attrs={}, intermediate_values={}, trial_id=21, state=TrialState.COMPLETE, value=None),\n",
       " FrozenTrial(number=22, values=[12.565425684500838], datetime_start=datetime.datetime(2023, 2, 21, 20, 42, 47, 293087), datetime_complete=datetime.datetime(2023, 2, 21, 20, 42, 56, 285486), params={'learning_rate': 0.04076615629767783, 'validation_size': 0.15076674643873034, 'early_stopping_rounds': 98, 'early_stopping_tolerance': 0.0002988408106075843, 'max_rounds': 19403, 'min_samples_leaf': 2, 'max_leaves': 5}, distributions={'learning_rate': UniformDistribution(high=0.1, low=0.01), 'validation_size': UniformDistribution(high=0.2, low=0.15), 'early_stopping_rounds': IntUniformDistribution(high=200, low=50, step=1), 'early_stopping_tolerance': UniformDistribution(high=0.001, low=1e-05), 'max_rounds': IntUniformDistribution(high=20000, low=5000, step=1), 'min_samples_leaf': IntUniformDistribution(high=5, low=2, step=1), 'max_leaves': IntUniformDistribution(high=5, low=2, step=1)}, user_attrs={}, system_attrs={}, intermediate_values={}, trial_id=22, state=TrialState.COMPLETE, value=None),\n",
       " FrozenTrial(number=23, values=[12.35994370759909], datetime_start=datetime.datetime(2023, 2, 21, 20, 42, 47, 666578), datetime_complete=datetime.datetime(2023, 2, 21, 20, 42, 53, 262151), params={'learning_rate': 0.07505932258888366, 'validation_size': 0.15133953723989357, 'early_stopping_rounds': 169, 'early_stopping_tolerance': 0.00033821904665785624, 'max_rounds': 19470, 'min_samples_leaf': 2, 'max_leaves': 2}, distributions={'learning_rate': UniformDistribution(high=0.1, low=0.01), 'validation_size': UniformDistribution(high=0.2, low=0.15), 'early_stopping_rounds': IntUniformDistribution(high=200, low=50, step=1), 'early_stopping_tolerance': UniformDistribution(high=0.001, low=1e-05), 'max_rounds': IntUniformDistribution(high=20000, low=5000, step=1), 'min_samples_leaf': IntUniformDistribution(high=5, low=2, step=1), 'max_leaves': IntUniformDistribution(high=5, low=2, step=1)}, user_attrs={}, system_attrs={}, intermediate_values={}, trial_id=23, state=TrialState.COMPLETE, value=None),\n",
       " FrozenTrial(number=24, values=[12.170332476782791], datetime_start=datetime.datetime(2023, 2, 21, 20, 42, 47, 994051), datetime_complete=datetime.datetime(2023, 2, 21, 20, 42, 56, 372877), params={'learning_rate': 0.07022457926651866, 'validation_size': 0.1531867291847099, 'early_stopping_rounds': 158, 'early_stopping_tolerance': 0.0003550826647128451, 'max_rounds': 19574, 'min_samples_leaf': 2, 'max_leaves': 2}, distributions={'learning_rate': UniformDistribution(high=0.1, low=0.01), 'validation_size': UniformDistribution(high=0.2, low=0.15), 'early_stopping_rounds': IntUniformDistribution(high=200, low=50, step=1), 'early_stopping_tolerance': UniformDistribution(high=0.001, low=1e-05), 'max_rounds': IntUniformDistribution(high=20000, low=5000, step=1), 'min_samples_leaf': IntUniformDistribution(high=5, low=2, step=1), 'max_leaves': IntUniformDistribution(high=5, low=2, step=1)}, user_attrs={}, system_attrs={}, intermediate_values={}, trial_id=24, state=TrialState.COMPLETE, value=None),\n",
       " FrozenTrial(number=25, values=[12.173917410255367], datetime_start=datetime.datetime(2023, 2, 21, 20, 42, 50, 819979), datetime_complete=datetime.datetime(2023, 2, 21, 20, 42, 57, 469090), params={'learning_rate': 0.0728658631951279, 'validation_size': 0.15214824209364874, 'early_stopping_rounds': 177, 'early_stopping_tolerance': 0.0002869597118263806, 'max_rounds': 19916, 'min_samples_leaf': 2, 'max_leaves': 5}, distributions={'learning_rate': UniformDistribution(high=0.1, low=0.01), 'validation_size': UniformDistribution(high=0.2, low=0.15), 'early_stopping_rounds': IntUniformDistribution(high=200, low=50, step=1), 'early_stopping_tolerance': UniformDistribution(high=0.001, low=1e-05), 'max_rounds': IntUniformDistribution(high=20000, low=5000, step=1), 'min_samples_leaf': IntUniformDistribution(high=5, low=2, step=1), 'max_leaves': IntUniformDistribution(high=5, low=2, step=1)}, user_attrs={}, system_attrs={}, intermediate_values={}, trial_id=25, state=TrialState.COMPLETE, value=None),\n",
       " FrozenTrial(number=26, values=[12.29806755693385], datetime_start=datetime.datetime(2023, 2, 21, 20, 42, 51, 389818), datetime_complete=datetime.datetime(2023, 2, 21, 20, 42, 58, 602384), params={'learning_rate': 0.0702363108395874, 'validation_size': 0.15013082074736273, 'early_stopping_rounds': 104, 'early_stopping_tolerance': 0.0002134901829704239, 'max_rounds': 18334, 'min_samples_leaf': 2, 'max_leaves': 5}, distributions={'learning_rate': UniformDistribution(high=0.1, low=0.01), 'validation_size': UniformDistribution(high=0.2, low=0.15), 'early_stopping_rounds': IntUniformDistribution(high=200, low=50, step=1), 'early_stopping_tolerance': UniformDistribution(high=0.001, low=1e-05), 'max_rounds': IntUniformDistribution(high=20000, low=5000, step=1), 'min_samples_leaf': IntUniformDistribution(high=5, low=2, step=1), 'max_leaves': IntUniformDistribution(high=5, low=2, step=1)}, user_attrs={}, system_attrs={}, intermediate_values={}, trial_id=26, state=TrialState.COMPLETE, value=None),\n",
       " FrozenTrial(number=27, values=[14.752894914657144], datetime_start=datetime.datetime(2023, 2, 21, 20, 42, 52, 466529), datetime_complete=datetime.datetime(2023, 2, 21, 20, 42, 56, 953486), params={'learning_rate': 0.07110721963357827, 'validation_size': 0.15782834435842977, 'early_stopping_rounds': 107, 'early_stopping_tolerance': 0.0006494066467187108, 'max_rounds': 19314, 'min_samples_leaf': 3, 'max_leaves': 5}, distributions={'learning_rate': UniformDistribution(high=0.1, low=0.01), 'validation_size': UniformDistribution(high=0.2, low=0.15), 'early_stopping_rounds': IntUniformDistribution(high=200, low=50, step=1), 'early_stopping_tolerance': UniformDistribution(high=0.001, low=1e-05), 'max_rounds': IntUniformDistribution(high=20000, low=5000, step=1), 'min_samples_leaf': IntUniformDistribution(high=5, low=2, step=1), 'max_leaves': IntUniformDistribution(high=5, low=2, step=1)}, user_attrs={}, system_attrs={}, intermediate_values={}, trial_id=27, state=TrialState.COMPLETE, value=None),\n",
       " FrozenTrial(number=28, values=[14.534352879220343], datetime_start=datetime.datetime(2023, 2, 21, 20, 42, 53, 269323), datetime_complete=datetime.datetime(2023, 2, 21, 20, 42, 57, 607501), params={'learning_rate': 0.07168449940257864, 'validation_size': 0.15790460110910293, 'early_stopping_rounds': 108, 'early_stopping_tolerance': 0.00043405462474969557, 'max_rounds': 19757, 'min_samples_leaf': 2, 'max_leaves': 2}, distributions={'learning_rate': UniformDistribution(high=0.1, low=0.01), 'validation_size': UniformDistribution(high=0.2, low=0.15), 'early_stopping_rounds': IntUniformDistribution(high=200, low=50, step=1), 'early_stopping_tolerance': UniformDistribution(high=0.001, low=1e-05), 'max_rounds': IntUniformDistribution(high=20000, low=5000, step=1), 'min_samples_leaf': IntUniformDistribution(high=5, low=2, step=1), 'max_leaves': IntUniformDistribution(high=5, low=2, step=1)}, user_attrs={}, system_attrs={}, intermediate_values={}, trial_id=28, state=TrialState.COMPLETE, value=None),\n",
       " FrozenTrial(number=29, values=[14.914260203207709], datetime_start=datetime.datetime(2023, 2, 21, 20, 42, 53, 907275), datetime_complete=datetime.datetime(2023, 2, 21, 20, 42, 58, 768042), params={'learning_rate': 0.07448318392171349, 'validation_size': 0.1580397487301273, 'early_stopping_rounds': 175, 'early_stopping_tolerance': 0.00042757503268322155, 'max_rounds': 18482, 'min_samples_leaf': 3, 'max_leaves': 2}, distributions={'learning_rate': UniformDistribution(high=0.1, low=0.01), 'validation_size': UniformDistribution(high=0.2, low=0.15), 'early_stopping_rounds': IntUniformDistribution(high=200, low=50, step=1), 'early_stopping_tolerance': UniformDistribution(high=0.001, low=1e-05), 'max_rounds': IntUniformDistribution(high=20000, low=5000, step=1), 'min_samples_leaf': IntUniformDistribution(high=5, low=2, step=1), 'max_leaves': IntUniformDistribution(high=5, low=2, step=1)}, user_attrs={}, system_attrs={}, intermediate_values={}, trial_id=29, state=TrialState.COMPLETE, value=None),\n",
       " FrozenTrial(number=30, values=[15.566150412568748], datetime_start=datetime.datetime(2023, 2, 21, 20, 42, 55, 99827), datetime_complete=datetime.datetime(2023, 2, 21, 20, 42, 59, 568174), params={'learning_rate': 0.07088533145446924, 'validation_size': 0.1580268132312604, 'early_stopping_rounds': 175, 'early_stopping_tolerance': 0.0004386340510502082, 'max_rounds': 18499, 'min_samples_leaf': 3, 'max_leaves': 2}, distributions={'learning_rate': UniformDistribution(high=0.1, low=0.01), 'validation_size': UniformDistribution(high=0.2, low=0.15), 'early_stopping_rounds': IntUniformDistribution(high=200, low=50, step=1), 'early_stopping_tolerance': UniformDistribution(high=0.001, low=1e-05), 'max_rounds': IntUniformDistribution(high=20000, low=5000, step=1), 'min_samples_leaf': IntUniformDistribution(high=5, low=2, step=1), 'max_leaves': IntUniformDistribution(high=5, low=2, step=1)}, user_attrs={}, system_attrs={}, intermediate_values={}, trial_id=30, state=TrialState.COMPLETE, value=None),\n",
       " FrozenTrial(number=31, values=[14.765516238222238], datetime_start=datetime.datetime(2023, 2, 21, 20, 42, 56, 291605), datetime_complete=datetime.datetime(2023, 2, 21, 20, 43, 0, 340904), params={'learning_rate': 0.07128539214889959, 'validation_size': 0.15779826814610512, 'early_stopping_rounds': 176, 'early_stopping_tolerance': 0.00019731539173474527, 'max_rounds': 18148, 'min_samples_leaf': 3, 'max_leaves': 2}, distributions={'learning_rate': UniformDistribution(high=0.1, low=0.01), 'validation_size': UniformDistribution(high=0.2, low=0.15), 'early_stopping_rounds': IntUniformDistribution(high=200, low=50, step=1), 'early_stopping_tolerance': UniformDistribution(high=0.001, low=1e-05), 'max_rounds': IntUniformDistribution(high=20000, low=5000, step=1), 'min_samples_leaf': IntUniformDistribution(high=5, low=2, step=1), 'max_leaves': IntUniformDistribution(high=5, low=2, step=1)}, user_attrs={}, system_attrs={}, intermediate_values={}, trial_id=31, state=TrialState.COMPLETE, value=None),\n",
       " FrozenTrial(number=32, values=[15.116205610625112], datetime_start=datetime.datetime(2023, 2, 21, 20, 42, 56, 382758), datetime_complete=datetime.datetime(2023, 2, 21, 20, 43, 0, 704903), params={'learning_rate': 0.06969331345411259, 'validation_size': 0.15792227334313824, 'early_stopping_rounds': 180, 'early_stopping_tolerance': 0.00020315011915438604, 'max_rounds': 18121, 'min_samples_leaf': 3, 'max_leaves': 2}, distributions={'learning_rate': UniformDistribution(high=0.1, low=0.01), 'validation_size': UniformDistribution(high=0.2, low=0.15), 'early_stopping_rounds': IntUniformDistribution(high=200, low=50, step=1), 'early_stopping_tolerance': UniformDistribution(high=0.001, low=1e-05), 'max_rounds': IntUniformDistribution(high=20000, low=5000, step=1), 'min_samples_leaf': IntUniformDistribution(high=5, low=2, step=1), 'max_leaves': IntUniformDistribution(high=5, low=2, step=1)}, user_attrs={}, system_attrs={}, intermediate_values={}, trial_id=32, state=TrialState.COMPLETE, value=None),\n",
       " FrozenTrial(number=33, values=[14.827691446256013], datetime_start=datetime.datetime(2023, 2, 21, 20, 42, 56, 958268), datetime_complete=datetime.datetime(2023, 2, 21, 20, 43, 1, 69215), params={'learning_rate': 0.07011839443132926, 'validation_size': 0.15813732066202538, 'early_stopping_rounds': 182, 'early_stopping_tolerance': 0.00021077068415803262, 'max_rounds': 18030, 'min_samples_leaf': 3, 'max_leaves': 2}, distributions={'learning_rate': UniformDistribution(high=0.1, low=0.01), 'validation_size': UniformDistribution(high=0.2, low=0.15), 'early_stopping_rounds': IntUniformDistribution(high=200, low=50, step=1), 'early_stopping_tolerance': UniformDistribution(high=0.001, low=1e-05), 'max_rounds': IntUniformDistribution(high=20000, low=5000, step=1), 'min_samples_leaf': IntUniformDistribution(high=5, low=2, step=1), 'max_leaves': IntUniformDistribution(high=5, low=2, step=1)}, user_attrs={}, system_attrs={}, intermediate_values={}, trial_id=33, state=TrialState.COMPLETE, value=None),\n",
       " FrozenTrial(number=34, values=[14.80876039602032], datetime_start=datetime.datetime(2023, 2, 21, 20, 42, 57, 474210), datetime_complete=datetime.datetime(2023, 2, 21, 20, 43, 1, 566135), params={'learning_rate': 0.0680826680187184, 'validation_size': 0.1593975812330764, 'early_stopping_rounds': 181, 'early_stopping_tolerance': 0.0002103887360559235, 'max_rounds': 15388, 'min_samples_leaf': 3, 'max_leaves': 2}, distributions={'learning_rate': UniformDistribution(high=0.1, low=0.01), 'validation_size': UniformDistribution(high=0.2, low=0.15), 'early_stopping_rounds': IntUniformDistribution(high=200, low=50, step=1), 'early_stopping_tolerance': UniformDistribution(high=0.001, low=1e-05), 'max_rounds': IntUniformDistribution(high=20000, low=5000, step=1), 'min_samples_leaf': IntUniformDistribution(high=5, low=2, step=1), 'max_leaves': IntUniformDistribution(high=5, low=2, step=1)}, user_attrs={}, system_attrs={}, intermediate_values={}, trial_id=34, state=TrialState.COMPLETE, value=None),\n",
       " FrozenTrial(number=35, values=[14.679377215927436], datetime_start=datetime.datetime(2023, 2, 21, 20, 42, 57, 615041), datetime_complete=datetime.datetime(2023, 2, 21, 20, 43, 2, 10245), params={'learning_rate': 0.06517928266730648, 'validation_size': 0.16100779155034817, 'early_stopping_rounds': 182, 'early_stopping_tolerance': 0.0002576135519133523, 'max_rounds': 18027, 'min_samples_leaf': 3, 'max_leaves': 2}, distributions={'learning_rate': UniformDistribution(high=0.1, low=0.01), 'validation_size': UniformDistribution(high=0.2, low=0.15), 'early_stopping_rounds': IntUniformDistribution(high=200, low=50, step=1), 'early_stopping_tolerance': UniformDistribution(high=0.001, low=1e-05), 'max_rounds': IntUniformDistribution(high=20000, low=5000, step=1), 'min_samples_leaf': IntUniformDistribution(high=5, low=2, step=1), 'max_leaves': IntUniformDistribution(high=5, low=2, step=1)}, user_attrs={}, system_attrs={}, intermediate_values={}, trial_id=35, state=TrialState.COMPLETE, value=None),\n",
       " FrozenTrial(number=36, values=[14.654868689469968], datetime_start=datetime.datetime(2023, 2, 21, 20, 42, 58, 607292), datetime_complete=datetime.datetime(2023, 2, 21, 20, 43, 2, 921516), params={'learning_rate': 0.06635272861552799, 'validation_size': 0.16140118114587682, 'early_stopping_rounds': 182, 'early_stopping_tolerance': 0.00023523901962782618, 'max_rounds': 15380, 'min_samples_leaf': 3, 'max_leaves': 2}, distributions={'learning_rate': UniformDistribution(high=0.1, low=0.01), 'validation_size': UniformDistribution(high=0.2, low=0.15), 'early_stopping_rounds': IntUniformDistribution(high=200, low=50, step=1), 'early_stopping_tolerance': UniformDistribution(high=0.001, low=1e-05), 'max_rounds': IntUniformDistribution(high=20000, low=5000, step=1), 'min_samples_leaf': IntUniformDistribution(high=5, low=2, step=1), 'max_leaves': IntUniformDistribution(high=5, low=2, step=1)}, user_attrs={}, system_attrs={}, intermediate_values={}, trial_id=36, state=TrialState.COMPLETE, value=None),\n",
       " FrozenTrial(number=37, values=[14.886873567365388], datetime_start=datetime.datetime(2023, 2, 21, 20, 42, 58, 775795), datetime_complete=datetime.datetime(2023, 2, 21, 20, 43, 2, 541587), params={'learning_rate': 0.06634898741102216, 'validation_size': 0.16162226171191288, 'early_stopping_rounds': 183, 'early_stopping_tolerance': 0.0002137733034883874, 'max_rounds': 15901, 'min_samples_leaf': 3, 'max_leaves': 4}, distributions={'learning_rate': UniformDistribution(high=0.1, low=0.01), 'validation_size': UniformDistribution(high=0.2, low=0.15), 'early_stopping_rounds': IntUniformDistribution(high=200, low=50, step=1), 'early_stopping_tolerance': UniformDistribution(high=0.001, low=1e-05), 'max_rounds': IntUniformDistribution(high=20000, low=5000, step=1), 'min_samples_leaf': IntUniformDistribution(high=5, low=2, step=1), 'max_leaves': IntUniformDistribution(high=5, low=2, step=1)}, user_attrs={}, system_attrs={}, intermediate_values={}, trial_id=37, state=TrialState.COMPLETE, value=None),\n",
       " FrozenTrial(number=38, values=[12.542596574198328], datetime_start=datetime.datetime(2023, 2, 21, 20, 42, 59, 572786), datetime_complete=datetime.datetime(2023, 2, 21, 20, 43, 5, 360356), params={'learning_rate': 0.06443976845724253, 'validation_size': 0.15506809166568336, 'early_stopping_rounds': 146, 'early_stopping_tolerance': 0.00021242210603864597, 'max_rounds': 15224, 'min_samples_leaf': 2, 'max_leaves': 4}, distributions={'learning_rate': UniformDistribution(high=0.1, low=0.01), 'validation_size': UniformDistribution(high=0.2, low=0.15), 'early_stopping_rounds': IntUniformDistribution(high=200, low=50, step=1), 'early_stopping_tolerance': UniformDistribution(high=0.001, low=1e-05), 'max_rounds': IntUniformDistribution(high=20000, low=5000, step=1), 'min_samples_leaf': IntUniformDistribution(high=5, low=2, step=1), 'max_leaves': IntUniformDistribution(high=5, low=2, step=1)}, user_attrs={}, system_attrs={}, intermediate_values={}, trial_id=38, state=TrialState.COMPLETE, value=None),\n",
       " FrozenTrial(number=39, values=[12.54696393363433], datetime_start=datetime.datetime(2023, 2, 21, 20, 43, 0, 345919), datetime_complete=datetime.datetime(2023, 2, 21, 20, 43, 5, 624881), params={'learning_rate': 0.0645114746678784, 'validation_size': 0.15438500023029592, 'early_stopping_rounds': 143, 'early_stopping_tolerance': 0.00022611214659727473, 'max_rounds': 15065, 'min_samples_leaf': 2, 'max_leaves': 4}, distributions={'learning_rate': UniformDistribution(high=0.1, low=0.01), 'validation_size': UniformDistribution(high=0.2, low=0.15), 'early_stopping_rounds': IntUniformDistribution(high=200, low=50, step=1), 'early_stopping_tolerance': UniformDistribution(high=0.001, low=1e-05), 'max_rounds': IntUniformDistribution(high=20000, low=5000, step=1), 'min_samples_leaf': IntUniformDistribution(high=5, low=2, step=1), 'max_leaves': IntUniformDistribution(high=5, low=2, step=1)}, user_attrs={}, system_attrs={}, intermediate_values={}, trial_id=39, state=TrialState.COMPLETE, value=None),\n",
       " FrozenTrial(number=40, values=[11.938692859033164], datetime_start=datetime.datetime(2023, 2, 21, 20, 43, 0, 710145), datetime_complete=datetime.datetime(2023, 2, 21, 20, 43, 6, 264669), params={'learning_rate': 0.06469797337965247, 'validation_size': 0.15432934521526112, 'early_stopping_rounds': 141, 'early_stopping_tolerance': 0.0002351789433259289, 'max_rounds': 15336, 'min_samples_leaf': 2, 'max_leaves': 4}, distributions={'learning_rate': UniformDistribution(high=0.1, low=0.01), 'validation_size': UniformDistribution(high=0.2, low=0.15), 'early_stopping_rounds': IntUniformDistribution(high=200, low=50, step=1), 'early_stopping_tolerance': UniformDistribution(high=0.001, low=1e-05), 'max_rounds': IntUniformDistribution(high=20000, low=5000, step=1), 'min_samples_leaf': IntUniformDistribution(high=5, low=2, step=1), 'max_leaves': IntUniformDistribution(high=5, low=2, step=1)}, user_attrs={}, system_attrs={}, intermediate_values={}, trial_id=40, state=TrialState.COMPLETE, value=None),\n",
       " FrozenTrial(number=41, values=[12.658037547167783], datetime_start=datetime.datetime(2023, 2, 21, 20, 43, 1, 74391), datetime_complete=datetime.datetime(2023, 2, 21, 20, 43, 6, 41503), params={'learning_rate': 0.06693526607541858, 'validation_size': 0.15477067168482472, 'early_stopping_rounds': 141, 'early_stopping_tolerance': 0.00013519276545319466, 'max_rounds': 16143, 'min_samples_leaf': 2, 'max_leaves': 4}, distributions={'learning_rate': UniformDistribution(high=0.1, low=0.01), 'validation_size': UniformDistribution(high=0.2, low=0.15), 'early_stopping_rounds': IntUniformDistribution(high=200, low=50, step=1), 'early_stopping_tolerance': UniformDistribution(high=0.001, low=1e-05), 'max_rounds': IntUniformDistribution(high=20000, low=5000, step=1), 'min_samples_leaf': IntUniformDistribution(high=5, low=2, step=1), 'max_leaves': IntUniformDistribution(high=5, low=2, step=1)}, user_attrs={}, system_attrs={}, intermediate_values={}, trial_id=41, state=TrialState.COMPLETE, value=None),\n",
       " FrozenTrial(number=42, values=[12.647972491200738], datetime_start=datetime.datetime(2023, 2, 21, 20, 43, 1, 570503), datetime_complete=datetime.datetime(2023, 2, 21, 20, 43, 7, 414452), params={'learning_rate': 0.06267921787912102, 'validation_size': 0.15432531330884328, 'early_stopping_rounds': 146, 'early_stopping_tolerance': 0.00011542764054930239, 'max_rounds': 14962, 'min_samples_leaf': 2, 'max_leaves': 4}, distributions={'learning_rate': UniformDistribution(high=0.1, low=0.01), 'validation_size': UniformDistribution(high=0.2, low=0.15), 'early_stopping_rounds': IntUniformDistribution(high=200, low=50, step=1), 'early_stopping_tolerance': UniformDistribution(high=0.001, low=1e-05), 'max_rounds': IntUniformDistribution(high=20000, low=5000, step=1), 'min_samples_leaf': IntUniformDistribution(high=5, low=2, step=1), 'max_leaves': IntUniformDistribution(high=5, low=2, step=1)}, user_attrs={}, system_attrs={}, intermediate_values={}, trial_id=42, state=TrialState.COMPLETE, value=None),\n",
       " FrozenTrial(number=43, values=[12.693693661206064], datetime_start=datetime.datetime(2023, 2, 21, 20, 43, 2, 13804), datetime_complete=datetime.datetime(2023, 2, 21, 20, 43, 7, 802612), params={'learning_rate': 0.052340445530422525, 'validation_size': 0.1541483539316472, 'early_stopping_rounds': 153, 'early_stopping_tolerance': 0.0009786923802617663, 'max_rounds': 15922, 'min_samples_leaf': 2, 'max_leaves': 4}, distributions={'learning_rate': UniformDistribution(high=0.1, low=0.01), 'validation_size': UniformDistribution(high=0.2, low=0.15), 'early_stopping_rounds': IntUniformDistribution(high=200, low=50, step=1), 'early_stopping_tolerance': UniformDistribution(high=0.001, low=1e-05), 'max_rounds': IntUniformDistribution(high=20000, low=5000, step=1), 'min_samples_leaf': IntUniformDistribution(high=5, low=2, step=1), 'max_leaves': IntUniformDistribution(high=5, low=2, step=1)}, user_attrs={}, system_attrs={}, intermediate_values={}, trial_id=43, state=TrialState.COMPLETE, value=None),\n",
       " FrozenTrial(number=44, values=[12.853028894092581], datetime_start=datetime.datetime(2023, 2, 21, 20, 43, 2, 545174), datetime_complete=datetime.datetime(2023, 2, 21, 20, 43, 8, 922576), params={'learning_rate': 0.05155656666396578, 'validation_size': 0.15477685682098594, 'early_stopping_rounds': 145, 'early_stopping_tolerance': 9.525062320293892e-05, 'max_rounds': 14704, 'min_samples_leaf': 2, 'max_leaves': 4}, distributions={'learning_rate': UniformDistribution(high=0.1, low=0.01), 'validation_size': UniformDistribution(high=0.2, low=0.15), 'early_stopping_rounds': IntUniformDistribution(high=200, low=50, step=1), 'early_stopping_tolerance': UniformDistribution(high=0.001, low=1e-05), 'max_rounds': IntUniformDistribution(high=20000, low=5000, step=1), 'min_samples_leaf': IntUniformDistribution(high=5, low=2, step=1), 'max_leaves': IntUniformDistribution(high=5, low=2, step=1)}, user_attrs={}, system_attrs={}, intermediate_values={}, trial_id=44, state=TrialState.COMPLETE, value=None),\n",
       " FrozenTrial(number=45, values=[12.640116016736531], datetime_start=datetime.datetime(2023, 2, 21, 20, 43, 2, 925914), datetime_complete=datetime.datetime(2023, 2, 21, 20, 43, 8, 847200), params={'learning_rate': 0.04904160093844953, 'validation_size': 0.15475375953503717, 'early_stopping_rounds': 145, 'early_stopping_tolerance': 0.0009656883342385966, 'max_rounds': 17104, 'min_samples_leaf': 2, 'max_leaves': 4}, distributions={'learning_rate': UniformDistribution(high=0.1, low=0.01), 'validation_size': UniformDistribution(high=0.2, low=0.15), 'early_stopping_rounds': IntUniformDistribution(high=200, low=50, step=1), 'early_stopping_tolerance': UniformDistribution(high=0.001, low=1e-05), 'max_rounds': IntUniformDistribution(high=20000, low=5000, step=1), 'min_samples_leaf': IntUniformDistribution(high=5, low=2, step=1), 'max_leaves': IntUniformDistribution(high=5, low=2, step=1)}, user_attrs={}, system_attrs={}, intermediate_values={}, trial_id=45, state=TrialState.COMPLETE, value=None),\n",
       " FrozenTrial(number=46, values=[12.691553452282383], datetime_start=datetime.datetime(2023, 2, 21, 20, 43, 5, 364529), datetime_complete=datetime.datetime(2023, 2, 21, 20, 43, 10, 57947), params={'learning_rate': 0.05226237675706839, 'validation_size': 0.15453291731088784, 'early_stopping_rounds': 116, 'early_stopping_tolerance': 0.00011140928437796568, 'max_rounds': 13098, 'min_samples_leaf': 2, 'max_leaves': 4}, distributions={'learning_rate': UniformDistribution(high=0.1, low=0.01), 'validation_size': UniformDistribution(high=0.2, low=0.15), 'early_stopping_rounds': IntUniformDistribution(high=200, low=50, step=1), 'early_stopping_tolerance': UniformDistribution(high=0.001, low=1e-05), 'max_rounds': IntUniformDistribution(high=20000, low=5000, step=1), 'min_samples_leaf': IntUniformDistribution(high=5, low=2, step=1), 'max_leaves': IntUniformDistribution(high=5, low=2, step=1)}, user_attrs={}, system_attrs={}, intermediate_values={}, trial_id=46, state=TrialState.COMPLETE, value=None),\n",
       " FrozenTrial(number=47, values=[12.714994161163984], datetime_start=datetime.datetime(2023, 2, 21, 20, 43, 5, 628552), datetime_complete=datetime.datetime(2023, 2, 21, 20, 43, 9, 763770), params={'learning_rate': 0.051991797557100185, 'validation_size': 0.1736578453552098, 'early_stopping_rounds': 119, 'early_stopping_tolerance': 0.0001150743873326706, 'max_rounds': 17142, 'min_samples_leaf': 2, 'max_leaves': 4}, distributions={'learning_rate': UniformDistribution(high=0.1, low=0.01), 'validation_size': UniformDistribution(high=0.2, low=0.15), 'early_stopping_rounds': IntUniformDistribution(high=200, low=50, step=1), 'early_stopping_tolerance': UniformDistribution(high=0.001, low=1e-05), 'max_rounds': IntUniformDistribution(high=20000, low=5000, step=1), 'min_samples_leaf': IntUniformDistribution(high=5, low=2, step=1), 'max_leaves': IntUniformDistribution(high=5, low=2, step=1)}, user_attrs={}, system_attrs={}, intermediate_values={}, trial_id=47, state=TrialState.COMPLETE, value=None),\n",
       " FrozenTrial(number=48, values=[12.566562502896048], datetime_start=datetime.datetime(2023, 2, 21, 20, 43, 6, 46036), datetime_complete=datetime.datetime(2023, 2, 21, 20, 43, 10, 896206), params={'learning_rate': 0.05259089820324195, 'validation_size': 0.1537776473728562, 'early_stopping_rounds': 164, 'early_stopping_tolerance': 8.886719679858894e-05, 'max_rounds': 17193, 'min_samples_leaf': 2, 'max_leaves': 5}, distributions={'learning_rate': UniformDistribution(high=0.1, low=0.01), 'validation_size': UniformDistribution(high=0.2, low=0.15), 'early_stopping_rounds': IntUniformDistribution(high=200, low=50, step=1), 'early_stopping_tolerance': UniformDistribution(high=0.001, low=1e-05), 'max_rounds': IntUniformDistribution(high=20000, low=5000, step=1), 'min_samples_leaf': IntUniformDistribution(high=5, low=2, step=1), 'max_leaves': IntUniformDistribution(high=5, low=2, step=1)}, user_attrs={}, system_attrs={}, intermediate_values={}, trial_id=48, state=TrialState.COMPLETE, value=None),\n",
       " FrozenTrial(number=49, values=[12.782011144275224], datetime_start=datetime.datetime(2023, 2, 21, 20, 43, 6, 274052), datetime_complete=datetime.datetime(2023, 2, 21, 20, 43, 11, 568895), params={'learning_rate': 0.05428006297125382, 'validation_size': 0.15431137130918177, 'early_stopping_rounds': 118, 'early_stopping_tolerance': 0.00013265208469778004, 'max_rounds': 17299, 'min_samples_leaf': 2, 'max_leaves': 4}, distributions={'learning_rate': UniformDistribution(high=0.1, low=0.01), 'validation_size': UniformDistribution(high=0.2, low=0.15), 'early_stopping_rounds': IntUniformDistribution(high=200, low=50, step=1), 'early_stopping_tolerance': UniformDistribution(high=0.001, low=1e-05), 'max_rounds': IntUniformDistribution(high=20000, low=5000, step=1), 'min_samples_leaf': IntUniformDistribution(high=5, low=2, step=1), 'max_leaves': IntUniformDistribution(high=5, low=2, step=1)}, user_attrs={}, system_attrs={}, intermediate_values={}, trial_id=49, state=TrialState.COMPLETE, value=None),\n",
       " FrozenTrial(number=50, values=[12.629714193162542], datetime_start=datetime.datetime(2023, 2, 21, 20, 43, 7, 419993), datetime_complete=datetime.datetime(2023, 2, 21, 20, 43, 12, 316521), params={'learning_rate': 0.05246739739683604, 'validation_size': 0.17922665402800078, 'early_stopping_rounds': 132, 'early_stopping_tolerance': 2.3113138840464767e-05, 'max_rounds': 13028, 'min_samples_leaf': 2, 'max_leaves': 5}, distributions={'learning_rate': UniformDistribution(high=0.1, low=0.01), 'validation_size': UniformDistribution(high=0.2, low=0.15), 'early_stopping_rounds': IntUniformDistribution(high=200, low=50, step=1), 'early_stopping_tolerance': UniformDistribution(high=0.001, low=1e-05), 'max_rounds': IntUniformDistribution(high=20000, low=5000, step=1), 'min_samples_leaf': IntUniformDistribution(high=5, low=2, step=1), 'max_leaves': IntUniformDistribution(high=5, low=2, step=1)}, user_attrs={}, system_attrs={}, intermediate_values={}, trial_id=50, state=TrialState.COMPLETE, value=None),\n",
       " FrozenTrial(number=51, values=[12.314035048101985], datetime_start=datetime.datetime(2023, 2, 21, 20, 43, 7, 809823), datetime_complete=datetime.datetime(2023, 2, 21, 20, 43, 10, 610622), params={'learning_rate': 0.0793509047995132, 'validation_size': 0.17176970117135026, 'early_stopping_rounds': 117, 'early_stopping_tolerance': 8.857850309471722e-05, 'max_rounds': 17165, 'min_samples_leaf': 2, 'max_leaves': 5}, distributions={'learning_rate': UniformDistribution(high=0.1, low=0.01), 'validation_size': UniformDistribution(high=0.2, low=0.15), 'early_stopping_rounds': IntUniformDistribution(high=200, low=50, step=1), 'early_stopping_tolerance': UniformDistribution(high=0.001, low=1e-05), 'max_rounds': IntUniformDistribution(high=20000, low=5000, step=1), 'min_samples_leaf': IntUniformDistribution(high=5, low=2, step=1), 'max_leaves': IntUniformDistribution(high=5, low=2, step=1)}, user_attrs={}, system_attrs={}, intermediate_values={}, trial_id=51, state=TrialState.COMPLETE, value=None),\n",
       " FrozenTrial(number=52, values=[12.38102447603978], datetime_start=datetime.datetime(2023, 2, 21, 20, 43, 8, 874945), datetime_complete=datetime.datetime(2023, 2, 21, 20, 43, 12, 572657), params={'learning_rate': 0.05579069340198899, 'validation_size': 0.1736693070617147, 'early_stopping_rounds': 123, 'early_stopping_tolerance': 0.0005710998046048798, 'max_rounds': 13025, 'min_samples_leaf': 2, 'max_leaves': 5}, distributions={'learning_rate': UniformDistribution(high=0.1, low=0.01), 'validation_size': UniformDistribution(high=0.2, low=0.15), 'early_stopping_rounds': IntUniformDistribution(high=200, low=50, step=1), 'early_stopping_tolerance': UniformDistribution(high=0.001, low=1e-05), 'max_rounds': IntUniformDistribution(high=20000, low=5000, step=1), 'min_samples_leaf': IntUniformDistribution(high=5, low=2, step=1), 'max_leaves': IntUniformDistribution(high=5, low=2, step=1)}, user_attrs={}, system_attrs={}, intermediate_values={}, trial_id=52, state=TrialState.COMPLETE, value=None),\n",
       " FrozenTrial(number=53, values=[12.365196141640233], datetime_start=datetime.datetime(2023, 2, 21, 20, 43, 8, 928688), datetime_complete=datetime.datetime(2023, 2, 21, 20, 43, 13, 73598), params={'learning_rate': 0.05633150147007003, 'validation_size': 0.1813954327686941, 'early_stopping_rounds': 118, 'early_stopping_tolerance': 0.000603175797475998, 'max_rounds': 13796, 'min_samples_leaf': 2, 'max_leaves': 5}, distributions={'learning_rate': UniformDistribution(high=0.1, low=0.01), 'validation_size': UniformDistribution(high=0.2, low=0.15), 'early_stopping_rounds': IntUniformDistribution(high=200, low=50, step=1), 'early_stopping_tolerance': UniformDistribution(high=0.001, low=1e-05), 'max_rounds': IntUniformDistribution(high=20000, low=5000, step=1), 'min_samples_leaf': IntUniformDistribution(high=5, low=2, step=1), 'max_leaves': IntUniformDistribution(high=5, low=2, step=1)}, user_attrs={}, system_attrs={}, intermediate_values={}, trial_id=53, state=TrialState.COMPLETE, value=None),\n",
       " FrozenTrial(number=54, values=[12.202101689646419], datetime_start=datetime.datetime(2023, 2, 21, 20, 43, 9, 770408), datetime_complete=datetime.datetime(2023, 2, 21, 20, 43, 13, 646285), params={'learning_rate': 0.056380411084051854, 'validation_size': 0.16881526457986468, 'early_stopping_rounds': 131, 'early_stopping_tolerance': 0.0005740191595330429, 'max_rounds': 18823, 'min_samples_leaf': 2, 'max_leaves': 5}, distributions={'learning_rate': UniformDistribution(high=0.1, low=0.01), 'validation_size': UniformDistribution(high=0.2, low=0.15), 'early_stopping_rounds': IntUniformDistribution(high=200, low=50, step=1), 'early_stopping_tolerance': UniformDistribution(high=0.001, low=1e-05), 'max_rounds': IntUniformDistribution(high=20000, low=5000, step=1), 'min_samples_leaf': IntUniformDistribution(high=5, low=2, step=1), 'max_leaves': IntUniformDistribution(high=5, low=2, step=1)}, user_attrs={}, system_attrs={}, intermediate_values={}, trial_id=54, state=TrialState.COMPLETE, value=None),\n",
       " FrozenTrial(number=55, values=[12.32432354584635], datetime_start=datetime.datetime(2023, 2, 21, 20, 43, 10, 63320), datetime_complete=datetime.datetime(2023, 2, 21, 20, 43, 14, 277141), params={'learning_rate': 0.05888078182289367, 'validation_size': 0.1680665498045602, 'early_stopping_rounds': 135, 'early_stopping_tolerance': 0.0005005551282033051, 'max_rounds': 18806, 'min_samples_leaf': 2, 'max_leaves': 5}, distributions={'learning_rate': UniformDistribution(high=0.1, low=0.01), 'validation_size': UniformDistribution(high=0.2, low=0.15), 'early_stopping_rounds': IntUniformDistribution(high=200, low=50, step=1), 'early_stopping_tolerance': UniformDistribution(high=0.001, low=1e-05), 'max_rounds': IntUniformDistribution(high=20000, low=5000, step=1), 'min_samples_leaf': IntUniformDistribution(high=5, low=2, step=1), 'max_leaves': IntUniformDistribution(high=5, low=2, step=1)}, user_attrs={}, system_attrs={}, intermediate_values={}, trial_id=55, state=TrialState.COMPLETE, value=None),\n",
       " FrozenTrial(number=56, values=[12.56326156133539], datetime_start=datetime.datetime(2023, 2, 21, 20, 43, 10, 613895), datetime_complete=datetime.datetime(2023, 2, 21, 20, 43, 14, 493950), params={'learning_rate': 0.05584230925586581, 'validation_size': 0.1845996878288954, 'early_stopping_rounds': 134, 'early_stopping_tolerance': 0.0002788840285766793, 'max_rounds': 18853, 'min_samples_leaf': 2, 'max_leaves': 5}, distributions={'learning_rate': UniformDistribution(high=0.1, low=0.01), 'validation_size': UniformDistribution(high=0.2, low=0.15), 'early_stopping_rounds': IntUniformDistribution(high=200, low=50, step=1), 'early_stopping_tolerance': UniformDistribution(high=0.001, low=1e-05), 'max_rounds': IntUniformDistribution(high=20000, low=5000, step=1), 'min_samples_leaf': IntUniformDistribution(high=5, low=2, step=1), 'max_leaves': IntUniformDistribution(high=5, low=2, step=1)}, user_attrs={}, system_attrs={}, intermediate_values={}, trial_id=56, state=TrialState.COMPLETE, value=None),\n",
       " FrozenTrial(number=57, values=[14.278454534380154], datetime_start=datetime.datetime(2023, 2, 21, 20, 43, 10, 902527), datetime_complete=datetime.datetime(2023, 2, 21, 20, 43, 13, 520097), params={'learning_rate': 0.05889022561838547, 'validation_size': 0.17843721043533645, 'early_stopping_rounds': 132, 'early_stopping_tolerance': 2.2643996937200632e-05, 'max_rounds': 11782, 'min_samples_leaf': 4, 'max_leaves': 5}, distributions={'learning_rate': UniformDistribution(high=0.1, low=0.01), 'validation_size': UniformDistribution(high=0.2, low=0.15), 'early_stopping_rounds': IntUniformDistribution(high=200, low=50, step=1), 'early_stopping_tolerance': UniformDistribution(high=0.001, low=1e-05), 'max_rounds': IntUniformDistribution(high=20000, low=5000, step=1), 'min_samples_leaf': IntUniformDistribution(high=5, low=2, step=1), 'max_leaves': IntUniformDistribution(high=5, low=2, step=1)}, user_attrs={}, system_attrs={}, intermediate_values={}, trial_id=57, state=TrialState.COMPLETE, value=None),\n",
       " FrozenTrial(number=58, values=[12.328281483693852], datetime_start=datetime.datetime(2023, 2, 21, 20, 43, 11, 571892), datetime_complete=datetime.datetime(2023, 2, 21, 20, 43, 16, 503336), params={'learning_rate': 0.0589861579647532, 'validation_size': 0.1704953274149585, 'early_stopping_rounds': 132, 'early_stopping_tolerance': 4.289936855978287e-05, 'max_rounds': 18794, 'min_samples_leaf': 2, 'max_leaves': 5}, distributions={'learning_rate': UniformDistribution(high=0.1, low=0.01), 'validation_size': UniformDistribution(high=0.2, low=0.15), 'early_stopping_rounds': IntUniformDistribution(high=200, low=50, step=1), 'early_stopping_tolerance': UniformDistribution(high=0.001, low=1e-05), 'max_rounds': IntUniformDistribution(high=20000, low=5000, step=1), 'min_samples_leaf': IntUniformDistribution(high=5, low=2, step=1), 'max_leaves': IntUniformDistribution(high=5, low=2, step=1)}, user_attrs={}, system_attrs={}, intermediate_values={}, trial_id=58, state=TrialState.COMPLETE, value=None),\n",
       " FrozenTrial(number=59, values=[12.331238732533953], datetime_start=datetime.datetime(2023, 2, 21, 20, 43, 12, 319603), datetime_complete=datetime.datetime(2023, 2, 21, 20, 43, 14, 823720), params={'learning_rate': 0.07910839763467405, 'validation_size': 0.16774183865472891, 'early_stopping_rounds': 133, 'early_stopping_tolerance': 0.00027066316281934403, 'max_rounds': 18729, 'min_samples_leaf': 2, 'max_leaves': 5}, distributions={'learning_rate': UniformDistribution(high=0.1, low=0.01), 'validation_size': UniformDistribution(high=0.2, low=0.15), 'early_stopping_rounds': IntUniformDistribution(high=200, low=50, step=1), 'early_stopping_tolerance': UniformDistribution(high=0.001, low=1e-05), 'max_rounds': IntUniformDistribution(high=20000, low=5000, step=1), 'min_samples_leaf': IntUniformDistribution(high=5, low=2, step=1), 'max_leaves': IntUniformDistribution(high=5, low=2, step=1)}, user_attrs={}, system_attrs={}, intermediate_values={}, trial_id=59, state=TrialState.COMPLETE, value=None),\n",
       " FrozenTrial(number=60, values=[12.302176274764461], datetime_start=datetime.datetime(2023, 2, 21, 20, 43, 12, 577634), datetime_complete=datetime.datetime(2023, 2, 21, 20, 43, 15, 309445), params={'learning_rate': 0.07924414962650782, 'validation_size': 0.17045716247169146, 'early_stopping_rounds': 134, 'early_stopping_tolerance': 0.0002618503933067834, 'max_rounds': 18591, 'min_samples_leaf': 2, 'max_leaves': 5}, distributions={'learning_rate': UniformDistribution(high=0.1, low=0.01), 'validation_size': UniformDistribution(high=0.2, low=0.15), 'early_stopping_rounds': IntUniformDistribution(high=200, low=50, step=1), 'early_stopping_tolerance': UniformDistribution(high=0.001, low=1e-05), 'max_rounds': IntUniformDistribution(high=20000, low=5000, step=1), 'min_samples_leaf': IntUniformDistribution(high=5, low=2, step=1), 'max_leaves': IntUniformDistribution(high=5, low=2, step=1)}, user_attrs={}, system_attrs={}, intermediate_values={}, trial_id=60, state=TrialState.COMPLETE, value=None),\n",
       " FrozenTrial(number=61, values=[12.329276404558264], datetime_start=datetime.datetime(2023, 2, 21, 20, 43, 13, 77144), datetime_complete=datetime.datetime(2023, 2, 21, 20, 43, 15, 799849), params={'learning_rate': 0.07941978763871482, 'validation_size': 0.17020820255034141, 'early_stopping_rounds': 158, 'early_stopping_tolerance': 0.0002689720775990004, 'max_rounds': 18793, 'min_samples_leaf': 2, 'max_leaves': 5}, distributions={'learning_rate': UniformDistribution(high=0.1, low=0.01), 'validation_size': UniformDistribution(high=0.2, low=0.15), 'early_stopping_rounds': IntUniformDistribution(high=200, low=50, step=1), 'early_stopping_tolerance': UniformDistribution(high=0.001, low=1e-05), 'max_rounds': IntUniformDistribution(high=20000, low=5000, step=1), 'min_samples_leaf': IntUniformDistribution(high=5, low=2, step=1), 'max_leaves': IntUniformDistribution(high=5, low=2, step=1)}, user_attrs={}, system_attrs={}, intermediate_values={}, trial_id=61, state=TrialState.COMPLETE, value=None),\n",
       " FrozenTrial(number=62, values=[12.287833061849817], datetime_start=datetime.datetime(2023, 2, 21, 20, 43, 13, 523350), datetime_complete=datetime.datetime(2023, 2, 21, 20, 43, 17, 897113), params={'learning_rate': 0.07939654639669252, 'validation_size': 0.16764403025547062, 'early_stopping_rounds': 158, 'early_stopping_tolerance': 0.00016493288342105214, 'max_rounds': 18947, 'min_samples_leaf': 2, 'max_leaves': 5}, distributions={'learning_rate': UniformDistribution(high=0.1, low=0.01), 'validation_size': UniformDistribution(high=0.2, low=0.15), 'early_stopping_rounds': IntUniformDistribution(high=200, low=50, step=1), 'early_stopping_tolerance': UniformDistribution(high=0.001, low=1e-05), 'max_rounds': IntUniformDistribution(high=20000, low=5000, step=1), 'min_samples_leaf': IntUniformDistribution(high=5, low=2, step=1), 'max_leaves': IntUniformDistribution(high=5, low=2, step=1)}, user_attrs={}, system_attrs={}, intermediate_values={}, trial_id=62, state=TrialState.COMPLETE, value=None),\n",
       " FrozenTrial(number=63, values=[14.857673024636977], datetime_start=datetime.datetime(2023, 2, 21, 20, 43, 13, 652402), datetime_complete=datetime.datetime(2023, 2, 21, 20, 43, 16, 983278), params={'learning_rate': 0.06203786185443133, 'validation_size': 0.16335063010142375, 'early_stopping_rounds': 158, 'early_stopping_tolerance': 0.00026763524942623125, 'max_rounds': 18860, 'min_samples_leaf': 2, 'max_leaves': 3}, distributions={'learning_rate': UniformDistribution(high=0.1, low=0.01), 'validation_size': UniformDistribution(high=0.2, low=0.15), 'early_stopping_rounds': IntUniformDistribution(high=200, low=50, step=1), 'early_stopping_tolerance': UniformDistribution(high=0.001, low=1e-05), 'max_rounds': IntUniformDistribution(high=20000, low=5000, step=1), 'min_samples_leaf': IntUniformDistribution(high=5, low=2, step=1), 'max_leaves': IntUniformDistribution(high=5, low=2, step=1)}, user_attrs={}, system_attrs={}, intermediate_values={}, trial_id=63, state=TrialState.COMPLETE, value=None),\n",
       " FrozenTrial(number=64, values=[13.30226484013958], datetime_start=datetime.datetime(2023, 2, 21, 20, 43, 14, 284771), datetime_complete=datetime.datetime(2023, 2, 21, 20, 43, 19, 93852), params={'learning_rate': 0.035169443522265996, 'validation_size': 0.16411196929041547, 'early_stopping_rounds': 162, 'early_stopping_tolerance': 0.0003695569470005582, 'max_rounds': 19070, 'min_samples_leaf': 2, 'max_leaves': 3}, distributions={'learning_rate': UniformDistribution(high=0.1, low=0.01), 'validation_size': UniformDistribution(high=0.2, low=0.15), 'early_stopping_rounds': IntUniformDistribution(high=200, low=50, step=1), 'early_stopping_tolerance': UniformDistribution(high=0.001, low=1e-05), 'max_rounds': IntUniformDistribution(high=20000, low=5000, step=1), 'min_samples_leaf': IntUniformDistribution(high=5, low=2, step=1), 'max_leaves': IntUniformDistribution(high=5, low=2, step=1)}, user_attrs={}, system_attrs={}, intermediate_values={}, trial_id=64, state=TrialState.COMPLETE, value=None),\n",
       " FrozenTrial(number=65, values=[13.42342146510953], datetime_start=datetime.datetime(2023, 2, 21, 20, 43, 14, 503938), datetime_complete=datetime.datetime(2023, 2, 21, 20, 43, 18, 131111), params={'learning_rate': 0.03450564874218671, 'validation_size': 0.1522572542066919, 'early_stopping_rounds': 158, 'early_stopping_tolerance': 0.0003741967030727177, 'max_rounds': 19981, 'min_samples_leaf': 2, 'max_leaves': 3}, distributions={'learning_rate': UniformDistribution(high=0.1, low=0.01), 'validation_size': UniformDistribution(high=0.2, low=0.15), 'early_stopping_rounds': IntUniformDistribution(high=200, low=50, step=1), 'early_stopping_tolerance': UniformDistribution(high=0.001, low=1e-05), 'max_rounds': IntUniformDistribution(high=20000, low=5000, step=1), 'min_samples_leaf': IntUniformDistribution(high=5, low=2, step=1), 'max_leaves': IntUniformDistribution(high=5, low=2, step=1)}, user_attrs={}, system_attrs={}, intermediate_values={}, trial_id=65, state=TrialState.COMPLETE, value=None),\n",
       " FrozenTrial(number=66, values=[13.16343208595091], datetime_start=datetime.datetime(2023, 2, 21, 20, 43, 14, 828160), datetime_complete=datetime.datetime(2023, 2, 21, 20, 43, 21, 392553), params={'learning_rate': 0.03578772431427015, 'validation_size': 0.15181925571994245, 'early_stopping_rounds': 160, 'early_stopping_tolerance': 0.0003828537803712192, 'max_rounds': 19945, 'min_samples_leaf': 2, 'max_leaves': 3}, distributions={'learning_rate': UniformDistribution(high=0.1, low=0.01), 'validation_size': UniformDistribution(high=0.2, low=0.15), 'early_stopping_rounds': IntUniformDistribution(high=200, low=50, step=1), 'early_stopping_tolerance': UniformDistribution(high=0.001, low=1e-05), 'max_rounds': IntUniformDistribution(high=20000, low=5000, step=1), 'min_samples_leaf': IntUniformDistribution(high=5, low=2, step=1), 'max_leaves': IntUniformDistribution(high=5, low=2, step=1)}, user_attrs={}, system_attrs={}, intermediate_values={}, trial_id=66, state=TrialState.COMPLETE, value=None),\n",
       " FrozenTrial(number=67, values=[14.803629797821136], datetime_start=datetime.datetime(2023, 2, 21, 20, 43, 15, 314191), datetime_complete=datetime.datetime(2023, 2, 21, 20, 43, 20, 431625), params={'learning_rate': 0.061471136123850675, 'validation_size': 0.16515612361298443, 'early_stopping_rounds': 156, 'early_stopping_tolerance': 0.0003743015176775717, 'max_rounds': 16600, 'min_samples_leaf': 2, 'max_leaves': 3}, distributions={'learning_rate': UniformDistribution(high=0.1, low=0.01), 'validation_size': UniformDistribution(high=0.2, low=0.15), 'early_stopping_rounds': IntUniformDistribution(high=200, low=50, step=1), 'early_stopping_tolerance': UniformDistribution(high=0.001, low=1e-05), 'max_rounds': IntUniformDistribution(high=20000, low=5000, step=1), 'min_samples_leaf': IntUniformDistribution(high=5, low=2, step=1), 'max_leaves': IntUniformDistribution(high=5, low=2, step=1)}, user_attrs={}, system_attrs={}, intermediate_values={}, trial_id=67, state=TrialState.COMPLETE, value=None),\n",
       " FrozenTrial(number=68, values=[13.236702046541067], datetime_start=datetime.datetime(2023, 2, 21, 20, 43, 15, 806567), datetime_complete=datetime.datetime(2023, 2, 21, 20, 43, 19, 664891), params={'learning_rate': 0.08642234121622491, 'validation_size': 0.16377972798745977, 'early_stopping_rounds': 159, 'early_stopping_tolerance': 0.0003717160462560414, 'max_rounds': 17796, 'min_samples_leaf': 2, 'max_leaves': 3}, distributions={'learning_rate': UniformDistribution(high=0.1, low=0.01), 'validation_size': UniformDistribution(high=0.2, low=0.15), 'early_stopping_rounds': IntUniformDistribution(high=200, low=50, step=1), 'early_stopping_tolerance': UniformDistribution(high=0.001, low=1e-05), 'max_rounds': IntUniformDistribution(high=20000, low=5000, step=1), 'min_samples_leaf': IntUniformDistribution(high=5, low=2, step=1), 'max_leaves': IntUniformDistribution(high=5, low=2, step=1)}, user_attrs={}, system_attrs={}, intermediate_values={}, trial_id=68, state=TrialState.COMPLETE, value=None),\n",
       " FrozenTrial(number=69, values=[11.832356806034998], datetime_start=datetime.datetime(2023, 2, 21, 20, 43, 16, 507106), datetime_complete=datetime.datetime(2023, 2, 21, 20, 43, 20, 892812), params={'learning_rate': 0.08379779449611278, 'validation_size': 0.1521045981761161, 'early_stopping_rounds': 139, 'early_stopping_tolerance': 0.0003879274294352396, 'max_rounds': 19995, 'min_samples_leaf': 2, 'max_leaves': 3}, distributions={'learning_rate': UniformDistribution(high=0.1, low=0.01), 'validation_size': UniformDistribution(high=0.2, low=0.15), 'early_stopping_rounds': IntUniformDistribution(high=200, low=50, step=1), 'early_stopping_tolerance': UniformDistribution(high=0.001, low=1e-05), 'max_rounds': IntUniformDistribution(high=20000, low=5000, step=1), 'min_samples_leaf': IntUniformDistribution(high=5, low=2, step=1), 'max_leaves': IntUniformDistribution(high=5, low=2, step=1)}, user_attrs={}, system_attrs={}, intermediate_values={}, trial_id=69, state=TrialState.COMPLETE, value=None),\n",
       " FrozenTrial(number=70, values=[12.328869948523186], datetime_start=datetime.datetime(2023, 2, 21, 20, 43, 16, 987132), datetime_complete=datetime.datetime(2023, 2, 21, 20, 43, 21, 439713), params={'learning_rate': 0.09013776656972478, 'validation_size': 0.15245390101529058, 'early_stopping_rounds': 126, 'early_stopping_tolerance': 0.0003626942164454859, 'max_rounds': 19885, 'min_samples_leaf': 2, 'max_leaves': 5}, distributions={'learning_rate': UniformDistribution(high=0.1, low=0.01), 'validation_size': UniformDistribution(high=0.2, low=0.15), 'early_stopping_rounds': IntUniformDistribution(high=200, low=50, step=1), 'early_stopping_tolerance': UniformDistribution(high=0.001, low=1e-05), 'max_rounds': IntUniformDistribution(high=20000, low=5000, step=1), 'min_samples_leaf': IntUniformDistribution(high=5, low=2, step=1), 'max_leaves': IntUniformDistribution(high=5, low=2, step=1)}, user_attrs={}, system_attrs={}, intermediate_values={}, trial_id=70, state=TrialState.COMPLETE, value=None),\n",
       " FrozenTrial(number=71, values=[12.18789451511796], datetime_start=datetime.datetime(2023, 2, 21, 20, 43, 17, 905660), datetime_complete=datetime.datetime(2023, 2, 21, 20, 43, 21, 944637), params={'learning_rate': 0.08459940935290494, 'validation_size': 0.15237472291099396, 'early_stopping_rounds': 89, 'early_stopping_tolerance': 0.00036894448009129935, 'max_rounds': 19975, 'min_samples_leaf': 2, 'max_leaves': 3}, distributions={'learning_rate': UniformDistribution(high=0.1, low=0.01), 'validation_size': UniformDistribution(high=0.2, low=0.15), 'early_stopping_rounds': IntUniformDistribution(high=200, low=50, step=1), 'early_stopping_tolerance': UniformDistribution(high=0.001, low=1e-05), 'max_rounds': IntUniformDistribution(high=20000, low=5000, step=1), 'min_samples_leaf': IntUniformDistribution(high=5, low=2, step=1), 'max_leaves': IntUniformDistribution(high=5, low=2, step=1)}, user_attrs={}, system_attrs={}, intermediate_values={}, trial_id=71, state=TrialState.COMPLETE, value=None),\n",
       " FrozenTrial(number=72, values=[12.242837917200472], datetime_start=datetime.datetime(2023, 2, 21, 20, 43, 18, 157322), datetime_complete=datetime.datetime(2023, 2, 21, 20, 43, 22, 817262), params={'learning_rate': 0.08785917583353924, 'validation_size': 0.15248854287088073, 'early_stopping_rounds': 191, 'early_stopping_tolerance': 0.0001644106266471287, 'max_rounds': 17721, 'min_samples_leaf': 2, 'max_leaves': 5}, distributions={'learning_rate': UniformDistribution(high=0.1, low=0.01), 'validation_size': UniformDistribution(high=0.2, low=0.15), 'early_stopping_rounds': IntUniformDistribution(high=200, low=50, step=1), 'early_stopping_tolerance': UniformDistribution(high=0.001, low=1e-05), 'max_rounds': IntUniformDistribution(high=20000, low=5000, step=1), 'min_samples_leaf': IntUniformDistribution(high=5, low=2, step=1), 'max_leaves': IntUniformDistribution(high=5, low=2, step=1)}, user_attrs={}, system_attrs={}, intermediate_values={}, trial_id=72, state=TrialState.COMPLETE, value=None),\n",
       " FrozenTrial(number=73, values=[12.32645848372452], datetime_start=datetime.datetime(2023, 2, 21, 20, 43, 19, 99320), datetime_complete=datetime.datetime(2023, 2, 21, 20, 43, 24, 14329), params={'learning_rate': 0.08804829196576978, 'validation_size': 0.1500914945537264, 'early_stopping_rounds': 188, 'early_stopping_tolerance': 0.00017011733322653215, 'max_rounds': 19972, 'min_samples_leaf': 2, 'max_leaves': 5}, distributions={'learning_rate': UniformDistribution(high=0.1, low=0.01), 'validation_size': UniformDistribution(high=0.2, low=0.15), 'early_stopping_rounds': IntUniformDistribution(high=200, low=50, step=1), 'early_stopping_tolerance': UniformDistribution(high=0.001, low=1e-05), 'max_rounds': IntUniformDistribution(high=20000, low=5000, step=1), 'min_samples_leaf': IntUniformDistribution(high=5, low=2, step=1), 'max_leaves': IntUniformDistribution(high=5, low=2, step=1)}, user_attrs={}, system_attrs={}, intermediate_values={}, trial_id=73, state=TrialState.COMPLETE, value=None),\n",
       " FrozenTrial(number=74, values=[12.489858359909208], datetime_start=datetime.datetime(2023, 2, 21, 20, 43, 19, 669858), datetime_complete=datetime.datetime(2023, 2, 21, 20, 43, 24, 504250), params={'learning_rate': 0.09359515077406913, 'validation_size': 0.1562272728493609, 'early_stopping_rounds': 190, 'early_stopping_tolerance': 0.0001601757929379748, 'max_rounds': 16521, 'min_samples_leaf': 2, 'max_leaves': 5}, distributions={'learning_rate': UniformDistribution(high=0.1, low=0.01), 'validation_size': UniformDistribution(high=0.2, low=0.15), 'early_stopping_rounds': IntUniformDistribution(high=200, low=50, step=1), 'early_stopping_tolerance': UniformDistribution(high=0.001, low=1e-05), 'max_rounds': IntUniformDistribution(high=20000, low=5000, step=1), 'min_samples_leaf': IntUniformDistribution(high=5, low=2, step=1), 'max_leaves': IntUniformDistribution(high=5, low=2, step=1)}, user_attrs={}, system_attrs={}, intermediate_values={}, trial_id=74, state=TrialState.COMPLETE, value=None),\n",
       " FrozenTrial(number=75, values=[14.066196474359817], datetime_start=datetime.datetime(2023, 2, 21, 20, 43, 20, 437903), datetime_complete=datetime.datetime(2023, 2, 21, 20, 43, 23, 521538), params={'learning_rate': 0.07418706701742071, 'validation_size': 0.1563127832663104, 'early_stopping_rounds': 169, 'early_stopping_tolerance': 0.0006486241669190029, 'max_rounds': 17606, 'min_samples_leaf': 4, 'max_leaves': 5}, distributions={'learning_rate': UniformDistribution(high=0.1, low=0.01), 'validation_size': UniformDistribution(high=0.2, low=0.15), 'early_stopping_rounds': IntUniformDistribution(high=200, low=50, step=1), 'early_stopping_tolerance': UniformDistribution(high=0.001, low=1e-05), 'max_rounds': IntUniformDistribution(high=20000, low=5000, step=1), 'min_samples_leaf': IntUniformDistribution(high=5, low=2, step=1), 'max_leaves': IntUniformDistribution(high=5, low=2, step=1)}, user_attrs={}, system_attrs={}, intermediate_values={}, trial_id=75, state=TrialState.COMPLETE, value=None),\n",
       " FrozenTrial(number=76, values=[14.420997601101462], datetime_start=datetime.datetime(2023, 2, 21, 20, 43, 20, 896304), datetime_complete=datetime.datetime(2023, 2, 21, 20, 43, 23, 800899), params={'learning_rate': 0.09615609378578889, 'validation_size': 0.15677355419439507, 'early_stopping_rounds': 171, 'early_stopping_tolerance': 0.0001709773638750243, 'max_rounds': 19892, 'min_samples_leaf': 4, 'max_leaves': 4}, distributions={'learning_rate': UniformDistribution(high=0.1, low=0.01), 'validation_size': UniformDistribution(high=0.2, low=0.15), 'early_stopping_rounds': IntUniformDistribution(high=200, low=50, step=1), 'early_stopping_tolerance': UniformDistribution(high=0.001, low=1e-05), 'max_rounds': IntUniformDistribution(high=20000, low=5000, step=1), 'min_samples_leaf': IntUniformDistribution(high=5, low=2, step=1), 'max_leaves': IntUniformDistribution(high=5, low=2, step=1)}, user_attrs={}, system_attrs={}, intermediate_values={}, trial_id=76, state=TrialState.COMPLETE, value=None),\n",
       " FrozenTrial(number=77, values=[12.388651148719559], datetime_start=datetime.datetime(2023, 2, 21, 20, 43, 21, 396199), datetime_complete=datetime.datetime(2023, 2, 21, 20, 43, 26, 806931), params={'learning_rate': 0.09142430284181044, 'validation_size': 0.15659312447636217, 'early_stopping_rounds': 192, 'early_stopping_tolerance': 0.00016789594676482977, 'max_rounds': 17690, 'min_samples_leaf': 2, 'max_leaves': 5}, distributions={'learning_rate': UniformDistribution(high=0.1, low=0.01), 'validation_size': UniformDistribution(high=0.2, low=0.15), 'early_stopping_rounds': IntUniformDistribution(high=200, low=50, step=1), 'early_stopping_tolerance': UniformDistribution(high=0.001, low=1e-05), 'max_rounds': IntUniformDistribution(high=20000, low=5000, step=1), 'min_samples_leaf': IntUniformDistribution(high=5, low=2, step=1), 'max_leaves': IntUniformDistribution(high=5, low=2, step=1)}, user_attrs={}, system_attrs={}, intermediate_values={}, trial_id=77, state=TrialState.COMPLETE, value=None),\n",
       " FrozenTrial(number=78, values=[12.561622296595836], datetime_start=datetime.datetime(2023, 2, 21, 20, 43, 21, 445400), datetime_complete=datetime.datetime(2023, 2, 21, 20, 43, 26, 145473), params={'learning_rate': 0.07400013844037404, 'validation_size': 0.1560532082891733, 'early_stopping_rounds': 171, 'early_stopping_tolerance': 0.0004609326937319732, 'max_rounds': 17607, 'min_samples_leaf': 2, 'max_leaves': 5}, distributions={'learning_rate': UniformDistribution(high=0.1, low=0.01), 'validation_size': UniformDistribution(high=0.2, low=0.15), 'early_stopping_rounds': IntUniformDistribution(high=200, low=50, step=1), 'early_stopping_tolerance': UniformDistribution(high=0.001, low=1e-05), 'max_rounds': IntUniformDistribution(high=20000, low=5000, step=1), 'min_samples_leaf': IntUniformDistribution(high=5, low=2, step=1), 'max_leaves': IntUniformDistribution(high=5, low=2, step=1)}, user_attrs={}, system_attrs={}, intermediate_values={}, trial_id=78, state=TrialState.COMPLETE, value=None),\n",
       " FrozenTrial(number=79, values=[14.469701406006426], datetime_start=datetime.datetime(2023, 2, 21, 20, 43, 21, 949424), datetime_complete=datetime.datetime(2023, 2, 21, 20, 43, 25, 666783), params={'learning_rate': 0.09396097756320493, 'validation_size': 0.1565705021955583, 'early_stopping_rounds': 54, 'early_stopping_tolerance': 0.0004580729697102225, 'max_rounds': 19278, 'min_samples_leaf': 2, 'max_leaves': 3}, distributions={'learning_rate': UniformDistribution(high=0.1, low=0.01), 'validation_size': UniformDistribution(high=0.2, low=0.15), 'early_stopping_rounds': IntUniformDistribution(high=200, low=50, step=1), 'early_stopping_tolerance': UniformDistribution(high=0.001, low=1e-05), 'max_rounds': IntUniformDistribution(high=20000, low=5000, step=1), 'min_samples_leaf': IntUniformDistribution(high=5, low=2, step=1), 'max_leaves': IntUniformDistribution(high=5, low=2, step=1)}, user_attrs={}, system_attrs={}, intermediate_values={}, trial_id=79, state=TrialState.COMPLETE, value=None),\n",
       " FrozenTrial(number=80, values=[13.437310875639854], datetime_start=datetime.datetime(2023, 2, 21, 20, 43, 22, 823805), datetime_complete=datetime.datetime(2023, 2, 21, 20, 43, 26, 487315), params={'learning_rate': 0.09381256722855144, 'validation_size': 0.15652316522659415, 'early_stopping_rounds': 190, 'early_stopping_tolerance': 0.00040912868391593943, 'max_rounds': 19388, 'min_samples_leaf': 2, 'max_leaves': 3}, distributions={'learning_rate': UniformDistribution(high=0.1, low=0.01), 'validation_size': UniformDistribution(high=0.2, low=0.15), 'early_stopping_rounds': IntUniformDistribution(high=200, low=50, step=1), 'early_stopping_tolerance': UniformDistribution(high=0.001, low=1e-05), 'max_rounds': IntUniformDistribution(high=20000, low=5000, step=1), 'min_samples_leaf': IntUniformDistribution(high=5, low=2, step=1), 'max_leaves': IntUniformDistribution(high=5, low=2, step=1)}, user_attrs={}, system_attrs={}, intermediate_values={}, trial_id=80, state=TrialState.COMPLETE, value=None),\n",
       " FrozenTrial(number=81, values=[13.453017504036756], datetime_start=datetime.datetime(2023, 2, 21, 20, 43, 23, 525191), datetime_complete=datetime.datetime(2023, 2, 21, 20, 43, 26, 885171), params={'learning_rate': 0.0962652037437719, 'validation_size': 0.1560499623682858, 'early_stopping_rounds': 190, 'early_stopping_tolerance': 0.0004588021129373533, 'max_rounds': 19242, 'min_samples_leaf': 2, 'max_leaves': 3}, distributions={'learning_rate': UniformDistribution(high=0.1, low=0.01), 'validation_size': UniformDistribution(high=0.2, low=0.15), 'early_stopping_rounds': IntUniformDistribution(high=200, low=50, step=1), 'early_stopping_tolerance': UniformDistribution(high=0.001, low=1e-05), 'max_rounds': IntUniformDistribution(high=20000, low=5000, step=1), 'min_samples_leaf': IntUniformDistribution(high=5, low=2, step=1), 'max_leaves': IntUniformDistribution(high=5, low=2, step=1)}, user_attrs={}, system_attrs={}, intermediate_values={}, trial_id=81, state=TrialState.COMPLETE, value=None),\n",
       " FrozenTrial(number=82, values=[13.187558544564604], datetime_start=datetime.datetime(2023, 2, 21, 20, 43, 23, 805199), datetime_complete=datetime.datetime(2023, 2, 21, 20, 43, 27, 483623), params={'learning_rate': 0.08321362854549216, 'validation_size': 0.1599241523604372, 'early_stopping_rounds': 192, 'early_stopping_tolerance': 0.00047141674953706225, 'max_rounds': 19475, 'min_samples_leaf': 2, 'max_leaves': 3}, distributions={'learning_rate': UniformDistribution(high=0.1, low=0.01), 'validation_size': UniformDistribution(high=0.2, low=0.15), 'early_stopping_rounds': IntUniformDistribution(high=200, low=50, step=1), 'early_stopping_tolerance': UniformDistribution(high=0.001, low=1e-05), 'max_rounds': IntUniformDistribution(high=20000, low=5000, step=1), 'min_samples_leaf': IntUniformDistribution(high=5, low=2, step=1), 'max_leaves': IntUniformDistribution(high=5, low=2, step=1)}, user_attrs={}, system_attrs={}, intermediate_values={}, trial_id=82, state=TrialState.COMPLETE, value=None),\n",
       " FrozenTrial(number=83, values=[11.843000843163702], datetime_start=datetime.datetime(2023, 2, 21, 20, 43, 24, 17817), datetime_complete=datetime.datetime(2023, 2, 21, 20, 43, 28, 968466), params={'learning_rate': 0.08354304219498321, 'validation_size': 0.15277723502720555, 'early_stopping_rounds': 193, 'early_stopping_tolerance': 0.0004517163929328941, 'max_rounds': 19170, 'min_samples_leaf': 2, 'max_leaves': 3}, distributions={'learning_rate': UniformDistribution(high=0.1, low=0.01), 'validation_size': UniformDistribution(high=0.2, low=0.15), 'early_stopping_rounds': IntUniformDistribution(high=200, low=50, step=1), 'early_stopping_tolerance': UniformDistribution(high=0.001, low=1e-05), 'max_rounds': IntUniformDistribution(high=20000, low=5000, step=1), 'min_samples_leaf': IntUniformDistribution(high=5, low=2, step=1), 'max_leaves': IntUniformDistribution(high=5, low=2, step=1)}, user_attrs={}, system_attrs={}, intermediate_values={}, trial_id=83, state=TrialState.COMPLETE, value=None),\n",
       " FrozenTrial(number=84, values=[16.80034456173803], datetime_start=datetime.datetime(2023, 2, 21, 20, 43, 24, 508829), datetime_complete=datetime.datetime(2023, 2, 21, 20, 43, 28, 481426), params={'learning_rate': 0.09972144862620393, 'validation_size': 0.16016728357491739, 'early_stopping_rounds': 139, 'early_stopping_tolerance': 0.00042599494953079813, 'max_rounds': 19356, 'min_samples_leaf': 5, 'max_leaves': 3}, distributions={'learning_rate': UniformDistribution(high=0.1, low=0.01), 'validation_size': UniformDistribution(high=0.2, low=0.15), 'early_stopping_rounds': IntUniformDistribution(high=200, low=50, step=1), 'early_stopping_tolerance': UniformDistribution(high=0.001, low=1e-05), 'max_rounds': IntUniformDistribution(high=20000, low=5000, step=1), 'min_samples_leaf': IntUniformDistribution(high=5, low=2, step=1), 'max_leaves': IntUniformDistribution(high=5, low=2, step=1)}, user_attrs={}, system_attrs={}, intermediate_values={}, trial_id=84, state=TrialState.COMPLETE, value=None),\n",
       " FrozenTrial(number=85, values=[13.030235658304088], datetime_start=datetime.datetime(2023, 2, 21, 20, 43, 25, 670265), datetime_complete=datetime.datetime(2023, 2, 21, 20, 43, 29, 267139), params={'learning_rate': 0.08244164211893243, 'validation_size': 0.1597273278768304, 'early_stopping_rounds': 199, 'early_stopping_tolerance': 0.00040658741716542403, 'max_rounds': 19406, 'min_samples_leaf': 2, 'max_leaves': 3}, distributions={'learning_rate': UniformDistribution(high=0.1, low=0.01), 'validation_size': UniformDistribution(high=0.2, low=0.15), 'early_stopping_rounds': IntUniformDistribution(high=200, low=50, step=1), 'early_stopping_tolerance': UniformDistribution(high=0.001, low=1e-05), 'max_rounds': IntUniformDistribution(high=20000, low=5000, step=1), 'min_samples_leaf': IntUniformDistribution(high=5, low=2, step=1), 'max_leaves': IntUniformDistribution(high=5, low=2, step=1)}, user_attrs={}, system_attrs={}, intermediate_values={}, trial_id=85, state=TrialState.COMPLETE, value=None),\n",
       " FrozenTrial(number=86, values=[13.1264434916733], datetime_start=datetime.datetime(2023, 2, 21, 20, 43, 26, 150423), datetime_complete=datetime.datetime(2023, 2, 21, 20, 43, 29, 410934), params={'learning_rate': 0.08374452772970774, 'validation_size': 0.15970196050470767, 'early_stopping_rounds': 140, 'early_stopping_tolerance': 0.000309121772913349, 'max_rounds': 19344, 'min_samples_leaf': 2, 'max_leaves': 3}, distributions={'learning_rate': UniformDistribution(high=0.1, low=0.01), 'validation_size': UniformDistribution(high=0.2, low=0.15), 'early_stopping_rounds': IntUniformDistribution(high=200, low=50, step=1), 'early_stopping_tolerance': UniformDistribution(high=0.001, low=1e-05), 'max_rounds': IntUniformDistribution(high=20000, low=5000, step=1), 'min_samples_leaf': IntUniformDistribution(high=5, low=2, step=1), 'max_leaves': IntUniformDistribution(high=5, low=2, step=1)}, user_attrs={}, system_attrs={}, intermediate_values={}, trial_id=86, state=TrialState.COMPLETE, value=None),\n",
       " FrozenTrial(number=87, values=[15.247647086007259], datetime_start=datetime.datetime(2023, 2, 21, 20, 43, 26, 491325), datetime_complete=datetime.datetime(2023, 2, 21, 20, 43, 29, 481899), params={'learning_rate': 0.08226143262625578, 'validation_size': 0.1527640325261684, 'early_stopping_rounds': 149, 'early_stopping_tolerance': 0.0003014929780791622, 'max_rounds': 18276, 'min_samples_leaf': 3, 'max_leaves': 4}, distributions={'learning_rate': UniformDistribution(high=0.1, low=0.01), 'validation_size': UniformDistribution(high=0.2, low=0.15), 'early_stopping_rounds': IntUniformDistribution(high=200, low=50, step=1), 'early_stopping_tolerance': UniformDistribution(high=0.001, low=1e-05), 'max_rounds': IntUniformDistribution(high=20000, low=5000, step=1), 'min_samples_leaf': IntUniformDistribution(high=5, low=2, step=1), 'max_leaves': IntUniformDistribution(high=5, low=2, step=1)}, user_attrs={}, system_attrs={}, intermediate_values={}, trial_id=87, state=TrialState.COMPLETE, value=None),\n",
       " FrozenTrial(number=88, values=[16.780780030980832], datetime_start=datetime.datetime(2023, 2, 21, 20, 43, 26, 810842), datetime_complete=datetime.datetime(2023, 2, 21, 20, 43, 29, 949298), params={'learning_rate': 0.08147968180344393, 'validation_size': 0.15967226445113814, 'early_stopping_rounds': 199, 'early_stopping_tolerance': 0.00031171394467394316, 'max_rounds': 18288, 'min_samples_leaf': 5, 'max_leaves': 4}, distributions={'learning_rate': UniformDistribution(high=0.1, low=0.01), 'validation_size': UniformDistribution(high=0.2, low=0.15), 'early_stopping_rounds': IntUniformDistribution(high=200, low=50, step=1), 'early_stopping_tolerance': UniformDistribution(high=0.001, low=1e-05), 'max_rounds': IntUniformDistribution(high=20000, low=5000, step=1), 'min_samples_leaf': IntUniformDistribution(high=5, low=2, step=1), 'max_leaves': IntUniformDistribution(high=5, low=2, step=1)}, user_attrs={}, system_attrs={}, intermediate_values={}, trial_id=88, state=TrialState.COMPLETE, value=None),\n",
       " FrozenTrial(number=89, values=[15.567793631792675], datetime_start=datetime.datetime(2023, 2, 21, 20, 43, 26, 890405), datetime_complete=datetime.datetime(2023, 2, 21, 20, 43, 30, 97411), params={'learning_rate': 0.08292659870369344, 'validation_size': 0.15962771957948285, 'early_stopping_rounds': 140, 'early_stopping_tolerance': 0.00031042122257377225, 'max_rounds': 18197, 'min_samples_leaf': 5, 'max_leaves': 4}, distributions={'learning_rate': UniformDistribution(high=0.1, low=0.01), 'validation_size': UniformDistribution(high=0.2, low=0.15), 'early_stopping_rounds': IntUniformDistribution(high=200, low=50, step=1), 'early_stopping_tolerance': UniformDistribution(high=0.001, low=1e-05), 'max_rounds': IntUniformDistribution(high=20000, low=5000, step=1), 'min_samples_leaf': IntUniformDistribution(high=5, low=2, step=1), 'max_leaves': IntUniformDistribution(high=5, low=2, step=1)}, user_attrs={}, system_attrs={}, intermediate_values={}, trial_id=89, state=TrialState.COMPLETE, value=None),\n",
       " FrozenTrial(number=90, values=[16.59441432834173], datetime_start=datetime.datetime(2023, 2, 21, 20, 43, 27, 488229), datetime_complete=datetime.datetime(2023, 2, 21, 20, 43, 30, 975167), params={'learning_rate': 0.08452951092706593, 'validation_size': 0.15262526139088145, 'early_stopping_rounds': 199, 'early_stopping_tolerance': 0.0003108801008828701, 'max_rounds': 18289, 'min_samples_leaf': 5, 'max_leaves': 4}, distributions={'learning_rate': UniformDistribution(high=0.1, low=0.01), 'validation_size': UniformDistribution(high=0.2, low=0.15), 'early_stopping_rounds': IntUniformDistribution(high=200, low=50, step=1), 'early_stopping_tolerance': UniformDistribution(high=0.001, low=1e-05), 'max_rounds': IntUniformDistribution(high=20000, low=5000, step=1), 'min_samples_leaf': IntUniformDistribution(high=5, low=2, step=1), 'max_leaves': IntUniformDistribution(high=5, low=2, step=1)}, user_attrs={}, system_attrs={}, intermediate_values={}, trial_id=90, state=TrialState.COMPLETE, value=None),\n",
       " FrozenTrial(number=91, values=[12.603776545408323], datetime_start=datetime.datetime(2023, 2, 21, 20, 43, 28, 490873), datetime_complete=datetime.datetime(2023, 2, 21, 20, 43, 32, 882487), params={'learning_rate': 0.07691848744140678, 'validation_size': 0.1529306577716849, 'early_stopping_rounds': 198, 'early_stopping_tolerance': 0.00031090342176410293, 'max_rounds': 18387, 'min_samples_leaf': 2, 'max_leaves': 4}, distributions={'learning_rate': UniformDistribution(high=0.1, low=0.01), 'validation_size': UniformDistribution(high=0.2, low=0.15), 'early_stopping_rounds': IntUniformDistribution(high=200, low=50, step=1), 'early_stopping_tolerance': UniformDistribution(high=0.001, low=1e-05), 'max_rounds': IntUniformDistribution(high=20000, low=5000, step=1), 'min_samples_leaf': IntUniformDistribution(high=5, low=2, step=1), 'max_leaves': IntUniformDistribution(high=5, low=2, step=1)}, user_attrs={}, system_attrs={}, intermediate_values={}, trial_id=91, state=TrialState.COMPLETE, value=None),\n",
       " FrozenTrial(number=92, values=[11.882842801484149], datetime_start=datetime.datetime(2023, 2, 21, 20, 43, 28, 972042), datetime_complete=datetime.datetime(2023, 2, 21, 20, 43, 33, 65100), params={'learning_rate': 0.08342525439309365, 'validation_size': 0.1529247207025802, 'early_stopping_rounds': 200, 'early_stopping_tolerance': 0.00030416025757881357, 'max_rounds': 9725, 'min_samples_leaf': 2, 'max_leaves': 3}, distributions={'learning_rate': UniformDistribution(high=0.1, low=0.01), 'validation_size': UniformDistribution(high=0.2, low=0.15), 'early_stopping_rounds': IntUniformDistribution(high=200, low=50, step=1), 'early_stopping_tolerance': UniformDistribution(high=0.001, low=1e-05), 'max_rounds': IntUniformDistribution(high=20000, low=5000, step=1), 'min_samples_leaf': IntUniformDistribution(high=5, low=2, step=1), 'max_leaves': IntUniformDistribution(high=5, low=2, step=1)}, user_attrs={}, system_attrs={}, intermediate_values={}, trial_id=92, state=TrialState.COMPLETE, value=None),\n",
       " FrozenTrial(number=93, values=[12.623765622083766], datetime_start=datetime.datetime(2023, 2, 21, 20, 43, 29, 271259), datetime_complete=datetime.datetime(2023, 2, 21, 20, 43, 33, 221606), params={'learning_rate': 0.0770430868695376, 'validation_size': 0.15290154152849356, 'early_stopping_rounds': 72, 'early_stopping_tolerance': 0.00031579065259473073, 'max_rounds': 18510, 'min_samples_leaf': 2, 'max_leaves': 4}, distributions={'learning_rate': UniformDistribution(high=0.1, low=0.01), 'validation_size': UniformDistribution(high=0.2, low=0.15), 'early_stopping_rounds': IntUniformDistribution(high=200, low=50, step=1), 'early_stopping_tolerance': UniformDistribution(high=0.001, low=1e-05), 'max_rounds': IntUniformDistribution(high=20000, low=5000, step=1), 'min_samples_leaf': IntUniformDistribution(high=5, low=2, step=1), 'max_leaves': IntUniformDistribution(high=5, low=2, step=1)}, user_attrs={}, system_attrs={}, intermediate_values={}, trial_id=93, state=TrialState.COMPLETE, value=None),\n",
       " FrozenTrial(number=94, values=[15.284845400601746], datetime_start=datetime.datetime(2023, 2, 21, 20, 43, 29, 415265), datetime_complete=datetime.datetime(2023, 2, 21, 20, 43, 32, 230339), params={'learning_rate': 0.08551600663519433, 'validation_size': 0.15308735216175462, 'early_stopping_rounds': 151, 'early_stopping_tolerance': 0.0003379728662992467, 'max_rounds': 18425, 'min_samples_leaf': 3, 'max_leaves': 4}, distributions={'learning_rate': UniformDistribution(high=0.1, low=0.01), 'validation_size': UniformDistribution(high=0.2, low=0.15), 'early_stopping_rounds': IntUniformDistribution(high=200, low=50, step=1), 'early_stopping_tolerance': UniformDistribution(high=0.001, low=1e-05), 'max_rounds': IntUniformDistribution(high=20000, low=5000, step=1), 'min_samples_leaf': IntUniformDistribution(high=5, low=2, step=1), 'max_leaves': IntUniformDistribution(high=5, low=2, step=1)}, user_attrs={}, system_attrs={}, intermediate_values={}, trial_id=94, state=TrialState.COMPLETE, value=None),\n",
       " FrozenTrial(number=95, values=[12.202727190833873], datetime_start=datetime.datetime(2023, 2, 21, 20, 43, 29, 485333), datetime_complete=datetime.datetime(2023, 2, 21, 20, 43, 32, 532349), params={'learning_rate': 0.08711473276359354, 'validation_size': 0.15106978550735803, 'early_stopping_rounds': 86, 'early_stopping_tolerance': 0.0003334071080492149, 'max_rounds': 18318, 'min_samples_leaf': 2, 'max_leaves': 2}, distributions={'learning_rate': UniformDistribution(high=0.1, low=0.01), 'validation_size': UniformDistribution(high=0.2, low=0.15), 'early_stopping_rounds': IntUniformDistribution(high=200, low=50, step=1), 'early_stopping_tolerance': UniformDistribution(high=0.001, low=1e-05), 'max_rounds': IntUniformDistribution(high=20000, low=5000, step=1), 'min_samples_leaf': IntUniformDistribution(high=5, low=2, step=1), 'max_leaves': IntUniformDistribution(high=5, low=2, step=1)}, user_attrs={}, system_attrs={}, intermediate_values={}, trial_id=95, state=TrialState.COMPLETE, value=None),\n",
       " FrozenTrial(number=96, values=[12.733070655786445], datetime_start=datetime.datetime(2023, 2, 21, 20, 43, 29, 954206), datetime_complete=datetime.datetime(2023, 2, 21, 20, 43, 33, 242796), params={'learning_rate': 0.07658238669765474, 'validation_size': 0.1527916151887576, 'early_stopping_rounds': 88, 'early_stopping_tolerance': 0.0005130940585572309, 'max_rounds': 9814, 'min_samples_leaf': 2, 'max_leaves': 2}, distributions={'learning_rate': UniformDistribution(high=0.1, low=0.01), 'validation_size': UniformDistribution(high=0.2, low=0.15), 'early_stopping_rounds': IntUniformDistribution(high=200, low=50, step=1), 'early_stopping_tolerance': UniformDistribution(high=0.001, low=1e-05), 'max_rounds': IntUniformDistribution(high=20000, low=5000, step=1), 'min_samples_leaf': IntUniformDistribution(high=5, low=2, step=1), 'max_leaves': IntUniformDistribution(high=5, low=2, step=1)}, user_attrs={}, system_attrs={}, intermediate_values={}, trial_id=96, state=TrialState.COMPLETE, value=None),\n",
       " FrozenTrial(number=97, values=[12.570293677483841], datetime_start=datetime.datetime(2023, 2, 21, 20, 43, 30, 102338), datetime_complete=datetime.datetime(2023, 2, 21, 20, 43, 34, 202239), params={'learning_rate': 0.07603290793260943, 'validation_size': 0.15315156449060469, 'early_stopping_rounds': 84, 'early_stopping_tolerance': 0.0005022009190367052, 'max_rounds': 13958, 'min_samples_leaf': 2, 'max_leaves': 2}, distributions={'learning_rate': UniformDistribution(high=0.1, low=0.01), 'validation_size': UniformDistribution(high=0.2, low=0.15), 'early_stopping_rounds': IntUniformDistribution(high=200, low=50, step=1), 'early_stopping_tolerance': UniformDistribution(high=0.001, low=1e-05), 'max_rounds': IntUniformDistribution(high=20000, low=5000, step=1), 'min_samples_leaf': IntUniformDistribution(high=5, low=2, step=1), 'max_leaves': IntUniformDistribution(high=5, low=2, step=1)}, user_attrs={}, system_attrs={}, intermediate_values={}, trial_id=97, state=TrialState.COMPLETE, value=None),\n",
       " FrozenTrial(number=98, values=[12.37921068705551], datetime_start=datetime.datetime(2023, 2, 21, 20, 43, 30, 979108), datetime_complete=datetime.datetime(2023, 2, 21, 20, 43, 33, 798491), params={'learning_rate': 0.07639918202607064, 'validation_size': 0.15115168070759982, 'early_stopping_rounds': 148, 'early_stopping_tolerance': 0.0005455068546851854, 'max_rounds': 19034, 'min_samples_leaf': 2, 'max_leaves': 2}, distributions={'learning_rate': UniformDistribution(high=0.1, low=0.01), 'validation_size': UniformDistribution(high=0.2, low=0.15), 'early_stopping_rounds': IntUniformDistribution(high=200, low=50, step=1), 'early_stopping_tolerance': UniformDistribution(high=0.001, low=1e-05), 'max_rounds': IntUniformDistribution(high=20000, low=5000, step=1), 'min_samples_leaf': IntUniformDistribution(high=5, low=2, step=1), 'max_leaves': IntUniformDistribution(high=5, low=2, step=1)}, user_attrs={}, system_attrs={}, intermediate_values={}, trial_id=98, state=TrialState.COMPLETE, value=None),\n",
       " FrozenTrial(number=99, values=[12.413506228251295], datetime_start=datetime.datetime(2023, 2, 21, 20, 43, 32, 234294), datetime_complete=datetime.datetime(2023, 2, 21, 20, 43, 33, 831513), params={'learning_rate': 0.07650446528794591, 'validation_size': 0.1511693718216853, 'early_stopping_rounds': 86, 'early_stopping_tolerance': 0.000534411620475753, 'max_rounds': 18960, 'min_samples_leaf': 2, 'max_leaves': 2}, distributions={'learning_rate': UniformDistribution(high=0.1, low=0.01), 'validation_size': UniformDistribution(high=0.2, low=0.15), 'early_stopping_rounds': IntUniformDistribution(high=200, low=50, step=1), 'early_stopping_tolerance': UniformDistribution(high=0.001, low=1e-05), 'max_rounds': IntUniformDistribution(high=20000, low=5000, step=1), 'min_samples_leaf': IntUniformDistribution(high=5, low=2, step=1), 'max_leaves': IntUniformDistribution(high=5, low=2, step=1)}, user_attrs={}, system_attrs={}, intermediate_values={}, trial_id=99, state=TrialState.COMPLETE, value=None),\n",
       " FrozenTrial(number=100, values=[12.953119535521937], datetime_start=datetime.datetime(2023, 2, 21, 20, 43, 35, 690230), datetime_complete=datetime.datetime(2023, 2, 21, 20, 43, 37, 646759), params={'learning_rate': 0.06862414279003742, 'validation_size': 0.1510375859924349, 'early_stopping_rounds': 92, 'early_stopping_tolerance': 0.00025020589543663666, 'max_rounds': 7777, 'min_samples_leaf': 2, 'max_leaves': 3}, distributions={'learning_rate': UniformDistribution(high=0.1, low=0.01), 'validation_size': UniformDistribution(high=0.2, low=0.15), 'early_stopping_rounds': IntUniformDistribution(high=200, low=50, step=1), 'early_stopping_tolerance': UniformDistribution(high=0.001, low=1e-05), 'max_rounds': IntUniformDistribution(high=20000, low=5000, step=1), 'min_samples_leaf': IntUniformDistribution(high=5, low=2, step=1), 'max_leaves': IntUniformDistribution(high=5, low=2, step=1)}, user_attrs={}, system_attrs={}, intermediate_values={}, trial_id=100, state=TrialState.COMPLETE, value=None),\n",
       " FrozenTrial(number=101, values=[12.959600134816451], datetime_start=datetime.datetime(2023, 2, 21, 20, 43, 35, 698358), datetime_complete=datetime.datetime(2023, 2, 21, 20, 43, 38, 660017), params={'learning_rate': 0.06827459592311402, 'validation_size': 0.1516882632889635, 'early_stopping_rounds': 186, 'early_stopping_tolerance': 0.00024509311218723877, 'max_rounds': 8395, 'min_samples_leaf': 2, 'max_leaves': 3}, distributions={'learning_rate': UniformDistribution(high=0.1, low=0.01), 'validation_size': UniformDistribution(high=0.2, low=0.15), 'early_stopping_rounds': IntUniformDistribution(high=200, low=50, step=1), 'early_stopping_tolerance': UniformDistribution(high=0.001, low=1e-05), 'max_rounds': IntUniformDistribution(high=20000, low=5000, step=1), 'min_samples_leaf': IntUniformDistribution(high=5, low=2, step=1), 'max_leaves': IntUniformDistribution(high=5, low=2, step=1)}, user_attrs={}, system_attrs={}, intermediate_values={}, trial_id=101, state=TrialState.COMPLETE, value=None),\n",
       " FrozenTrial(number=102, values=[13.216929553948328], datetime_start=datetime.datetime(2023, 2, 21, 20, 43, 35, 701146), datetime_complete=datetime.datetime(2023, 2, 21, 20, 43, 38, 149950), params={'learning_rate': 0.06946542088133931, 'validation_size': 0.1941698721940844, 'early_stopping_rounds': 94, 'early_stopping_tolerance': 0.00034703859225213387, 'max_rounds': 8728, 'min_samples_leaf': 2, 'max_leaves': 3}, distributions={'learning_rate': UniformDistribution(high=0.1, low=0.01), 'validation_size': UniformDistribution(high=0.2, low=0.15), 'early_stopping_rounds': IntUniformDistribution(high=200, low=50, step=1), 'early_stopping_tolerance': UniformDistribution(high=0.001, low=1e-05), 'max_rounds': IntUniformDistribution(high=20000, low=5000, step=1), 'min_samples_leaf': IntUniformDistribution(high=5, low=2, step=1), 'max_leaves': IntUniformDistribution(high=5, low=2, step=1)}, user_attrs={}, system_attrs={}, intermediate_values={}, trial_id=102, state=TrialState.COMPLETE, value=None),\n",
       " FrozenTrial(number=103, values=[12.980165411386354], datetime_start=datetime.datetime(2023, 2, 21, 20, 43, 35, 705954), datetime_complete=datetime.datetime(2023, 2, 21, 20, 43, 39, 660078), params={'learning_rate': 0.06906326785309472, 'validation_size': 0.15090876084628188, 'early_stopping_rounds': 93, 'early_stopping_tolerance': 0.00035115154954852015, 'max_rounds': 12457, 'min_samples_leaf': 2, 'max_leaves': 3}, distributions={'learning_rate': UniformDistribution(high=0.1, low=0.01), 'validation_size': UniformDistribution(high=0.2, low=0.15), 'early_stopping_rounds': IntUniformDistribution(high=200, low=50, step=1), 'early_stopping_tolerance': UniformDistribution(high=0.001, low=1e-05), 'max_rounds': IntUniformDistribution(high=20000, low=5000, step=1), 'min_samples_leaf': IntUniformDistribution(high=5, low=2, step=1), 'max_leaves': IntUniformDistribution(high=5, low=2, step=1)}, user_attrs={}, system_attrs={}, intermediate_values={}, trial_id=103, state=TrialState.COMPLETE, value=None),\n",
       " FrozenTrial(number=104, values=[13.191656545184102], datetime_start=datetime.datetime(2023, 2, 21, 20, 43, 35, 711540), datetime_complete=datetime.datetime(2023, 2, 21, 20, 43, 37, 594763), params={'learning_rate': 0.07289259509556328, 'validation_size': 0.1503872948311201, 'early_stopping_rounds': 185, 'early_stopping_tolerance': 0.0003474951462319508, 'max_rounds': 10998, 'min_samples_leaf': 2, 'max_leaves': 3}, distributions={'learning_rate': UniformDistribution(high=0.1, low=0.01), 'validation_size': UniformDistribution(high=0.2, low=0.15), 'early_stopping_rounds': IntUniformDistribution(high=200, low=50, step=1), 'early_stopping_tolerance': UniformDistribution(high=0.001, low=1e-05), 'max_rounds': IntUniformDistribution(high=20000, low=5000, step=1), 'min_samples_leaf': IntUniformDistribution(high=5, low=2, step=1), 'max_leaves': IntUniformDistribution(high=5, low=2, step=1)}, user_attrs={}, system_attrs={}, intermediate_values={}, trial_id=104, state=TrialState.COMPLETE, value=None),\n",
       " FrozenTrial(number=105, values=[13.283845595761942], datetime_start=datetime.datetime(2023, 2, 21, 20, 43, 35, 715112), datetime_complete=datetime.datetime(2023, 2, 21, 20, 43, 40, 42446), params={'learning_rate': 0.06802783422388159, 'validation_size': 0.1868431250359463, 'early_stopping_rounds': 186, 'early_stopping_tolerance': 0.00024066955747905228, 'max_rounds': 6572, 'min_samples_leaf': 2, 'max_leaves': 3}, distributions={'learning_rate': UniformDistribution(high=0.1, low=0.01), 'validation_size': UniformDistribution(high=0.2, low=0.15), 'early_stopping_rounds': IntUniformDistribution(high=200, low=50, step=1), 'early_stopping_tolerance': UniformDistribution(high=0.001, low=1e-05), 'max_rounds': IntUniformDistribution(high=20000, low=5000, step=1), 'min_samples_leaf': IntUniformDistribution(high=5, low=2, step=1), 'max_leaves': IntUniformDistribution(high=5, low=2, step=1)}, user_attrs={}, system_attrs={}, intermediate_values={}, trial_id=105, state=TrialState.COMPLETE, value=None),\n",
       " FrozenTrial(number=106, values=[17.973672849332896], datetime_start=datetime.datetime(2023, 2, 21, 20, 43, 35, 717590), datetime_complete=datetime.datetime(2023, 2, 21, 20, 43, 38, 263419), params={'learning_rate': 0.011177739454163706, 'validation_size': 0.15028247621039262, 'early_stopping_rounds': 72, 'early_stopping_tolerance': 0.00034633181435065463, 'max_rounds': 5922, 'min_samples_leaf': 2, 'max_leaves': 3}, distributions={'learning_rate': UniformDistribution(high=0.1, low=0.01), 'validation_size': UniformDistribution(high=0.2, low=0.15), 'early_stopping_rounds': IntUniformDistribution(high=200, low=50, step=1), 'early_stopping_tolerance': UniformDistribution(high=0.001, low=1e-05), 'max_rounds': IntUniformDistribution(high=20000, low=5000, step=1), 'min_samples_leaf': IntUniformDistribution(high=5, low=2, step=1), 'max_leaves': IntUniformDistribution(high=5, low=2, step=1)}, user_attrs={}, system_attrs={}, intermediate_values={}, trial_id=106, state=TrialState.COMPLETE, value=None),\n",
       " FrozenTrial(number=107, values=[13.000756508567486], datetime_start=datetime.datetime(2023, 2, 21, 20, 43, 35, 718645), datetime_complete=datetime.datetime(2023, 2, 21, 20, 43, 39, 267142), params={'learning_rate': 0.0689743681389774, 'validation_size': 0.15033980004699218, 'early_stopping_rounds': 186, 'early_stopping_tolerance': 0.00023919672606103205, 'max_rounds': 10556, 'min_samples_leaf': 2, 'max_leaves': 3}, distributions={'learning_rate': UniformDistribution(high=0.1, low=0.01), 'validation_size': UniformDistribution(high=0.2, low=0.15), 'early_stopping_rounds': IntUniformDistribution(high=200, low=50, step=1), 'early_stopping_tolerance': UniformDistribution(high=0.001, low=1e-05), 'max_rounds': IntUniformDistribution(high=20000, low=5000, step=1), 'min_samples_leaf': IntUniformDistribution(high=5, low=2, step=1), 'max_leaves': IntUniformDistribution(high=5, low=2, step=1)}, user_attrs={}, system_attrs={}, intermediate_values={}, trial_id=107, state=TrialState.COMPLETE, value=None),\n",
       " FrozenTrial(number=108, values=[13.1826595847684], datetime_start=datetime.datetime(2023, 2, 21, 20, 43, 37, 597903), datetime_complete=datetime.datetime(2023, 2, 21, 20, 43, 41, 476606), params={'learning_rate': 0.06821239719947886, 'validation_size': 0.15144019168121567, 'early_stopping_rounds': 177, 'early_stopping_tolerance': 0.0002814336950280214, 'max_rounds': 6451, 'min_samples_leaf': 2, 'max_leaves': 3}, distributions={'learning_rate': UniformDistribution(high=0.1, low=0.01), 'validation_size': UniformDistribution(high=0.2, low=0.15), 'early_stopping_rounds': IntUniformDistribution(high=200, low=50, step=1), 'early_stopping_tolerance': UniformDistribution(high=0.001, low=1e-05), 'max_rounds': IntUniformDistribution(high=20000, low=5000, step=1), 'min_samples_leaf': IntUniformDistribution(high=5, low=2, step=1), 'max_leaves': IntUniformDistribution(high=5, low=2, step=1)}, user_attrs={}, system_attrs={}, intermediate_values={}, trial_id=108, state=TrialState.COMPLETE, value=None),\n",
       " FrozenTrial(number=109, values=[12.150013983599807], datetime_start=datetime.datetime(2023, 2, 21, 20, 43, 37, 651604), datetime_complete=datetime.datetime(2023, 2, 21, 20, 43, 41, 225721), params={'learning_rate': 0.08760539725571419, 'validation_size': 0.15533337152785562, 'early_stopping_rounds': 195, 'early_stopping_tolerance': 0.0002458957573952588, 'max_rounds': 19604, 'min_samples_leaf': 2, 'max_leaves': 2}, distributions={'learning_rate': UniformDistribution(high=0.1, low=0.01), 'validation_size': UniformDistribution(high=0.2, low=0.15), 'early_stopping_rounds': IntUniformDistribution(high=200, low=50, step=1), 'early_stopping_tolerance': UniformDistribution(high=0.001, low=1e-05), 'max_rounds': IntUniformDistribution(high=20000, low=5000, step=1), 'min_samples_leaf': IntUniformDistribution(high=5, low=2, step=1), 'max_leaves': IntUniformDistribution(high=5, low=2, step=1)}, user_attrs={}, system_attrs={}, intermediate_values={}, trial_id=109, state=TrialState.COMPLETE, value=None),\n",
       " FrozenTrial(number=110, values=[12.121075599784106], datetime_start=datetime.datetime(2023, 2, 21, 20, 43, 38, 153146), datetime_complete=datetime.datetime(2023, 2, 21, 20, 43, 42, 166257), params={'learning_rate': 0.08774339247070234, 'validation_size': 0.15534620003168695, 'early_stopping_rounds': 196, 'early_stopping_tolerance': 0.00024134601040062738, 'max_rounds': 5647, 'min_samples_leaf': 2, 'max_leaves': 2}, distributions={'learning_rate': UniformDistribution(high=0.1, low=0.01), 'validation_size': UniformDistribution(high=0.2, low=0.15), 'early_stopping_rounds': IntUniformDistribution(high=200, low=50, step=1), 'early_stopping_tolerance': UniformDistribution(high=0.001, low=1e-05), 'max_rounds': IntUniformDistribution(high=20000, low=5000, step=1), 'min_samples_leaf': IntUniformDistribution(high=5, low=2, step=1), 'max_leaves': IntUniformDistribution(high=5, low=2, step=1)}, user_attrs={}, system_attrs={}, intermediate_values={}, trial_id=110, state=TrialState.COMPLETE, value=None),\n",
       " FrozenTrial(number=111, values=[12.043991468129535], datetime_start=datetime.datetime(2023, 2, 21, 20, 43, 38, 267353), datetime_complete=datetime.datetime(2023, 2, 21, 20, 43, 42, 509251), params={'learning_rate': 0.08832398679230437, 'validation_size': 0.15390057868501672, 'early_stopping_rounds': 129, 'early_stopping_tolerance': 0.00023996262256559362, 'max_rounds': 16912, 'min_samples_leaf': 2, 'max_leaves': 2}, distributions={'learning_rate': UniformDistribution(high=0.1, low=0.01), 'validation_size': UniformDistribution(high=0.2, low=0.15), 'early_stopping_rounds': IntUniformDistribution(high=200, low=50, step=1), 'early_stopping_tolerance': UniformDistribution(high=0.001, low=1e-05), 'max_rounds': IntUniformDistribution(high=20000, low=5000, step=1), 'min_samples_leaf': IntUniformDistribution(high=5, low=2, step=1), 'max_leaves': IntUniformDistribution(high=5, low=2, step=1)}, user_attrs={}, system_attrs={}, intermediate_values={}, trial_id=111, state=TrialState.COMPLETE, value=None),\n",
       " FrozenTrial(number=112, values=[12.176221058210565], datetime_start=datetime.datetime(2023, 2, 21, 20, 43, 38, 701180), datetime_complete=datetime.datetime(2023, 2, 21, 20, 43, 43, 158328), params={'learning_rate': 0.0874230921923441, 'validation_size': 0.1555267319559224, 'early_stopping_rounds': 195, 'early_stopping_tolerance': 0.00028379951163712996, 'max_rounds': 19667, 'min_samples_leaf': 2, 'max_leaves': 2}, distributions={'learning_rate': UniformDistribution(high=0.1, low=0.01), 'validation_size': UniformDistribution(high=0.2, low=0.15), 'early_stopping_rounds': IntUniformDistribution(high=200, low=50, step=1), 'early_stopping_tolerance': UniformDistribution(high=0.001, low=1e-05), 'max_rounds': IntUniformDistribution(high=20000, low=5000, step=1), 'min_samples_leaf': IntUniformDistribution(high=5, low=2, step=1), 'max_leaves': IntUniformDistribution(high=5, low=2, step=1)}, user_attrs={}, system_attrs={}, intermediate_values={}, trial_id=112, state=TrialState.COMPLETE, value=None),\n",
       " FrozenTrial(number=113, values=[12.668364973187805], datetime_start=datetime.datetime(2023, 2, 21, 20, 43, 39, 271068), datetime_complete=datetime.datetime(2023, 2, 21, 20, 43, 43, 164792), params={'learning_rate': 0.08915047247858787, 'validation_size': 0.15373290502487927, 'early_stopping_rounds': 177, 'early_stopping_tolerance': 0.0002809792523931145, 'max_rounds': 19739, 'min_samples_leaf': 2, 'max_leaves': 2}, distributions={'learning_rate': UniformDistribution(high=0.1, low=0.01), 'validation_size': UniformDistribution(high=0.2, low=0.15), 'early_stopping_rounds': IntUniformDistribution(high=200, low=50, step=1), 'early_stopping_tolerance': UniformDistribution(high=0.001, low=1e-05), 'max_rounds': IntUniformDistribution(high=20000, low=5000, step=1), 'min_samples_leaf': IntUniformDistribution(high=5, low=2, step=1), 'max_leaves': IntUniformDistribution(high=5, low=2, step=1)}, user_attrs={}, system_attrs={}, intermediate_values={}, trial_id=113, state=TrialState.COMPLETE, value=None),\n",
       " FrozenTrial(number=114, values=[12.69341722386994], datetime_start=datetime.datetime(2023, 2, 21, 20, 43, 39, 668426), datetime_complete=datetime.datetime(2023, 2, 21, 20, 43, 43, 918396), params={'learning_rate': 0.0888946200000532, 'validation_size': 0.15381099777177862, 'early_stopping_rounds': 195, 'early_stopping_tolerance': 0.0002885639646926073, 'max_rounds': 19669, 'min_samples_leaf': 2, 'max_leaves': 2}, distributions={'learning_rate': UniformDistribution(high=0.1, low=0.01), 'validation_size': UniformDistribution(high=0.2, low=0.15), 'early_stopping_rounds': IntUniformDistribution(high=200, low=50, step=1), 'early_stopping_tolerance': UniformDistribution(high=0.001, low=1e-05), 'max_rounds': IntUniformDistribution(high=20000, low=5000, step=1), 'min_samples_leaf': IntUniformDistribution(high=5, low=2, step=1), 'max_leaves': IntUniformDistribution(high=5, low=2, step=1)}, user_attrs={}, system_attrs={}, intermediate_values={}, trial_id=114, state=TrialState.COMPLETE, value=None),\n",
       " FrozenTrial(number=115, values=[12.326559986844147], datetime_start=datetime.datetime(2023, 2, 21, 20, 43, 40, 46111), datetime_complete=datetime.datetime(2023, 2, 21, 20, 43, 44, 188626), params={'learning_rate': 0.08784008987250991, 'validation_size': 0.1539258145752277, 'early_stopping_rounds': 130, 'early_stopping_tolerance': 0.0006106355308363859, 'max_rounds': 19708, 'min_samples_leaf': 2, 'max_leaves': 2}, distributions={'learning_rate': UniformDistribution(high=0.1, low=0.01), 'validation_size': UniformDistribution(high=0.2, low=0.15), 'early_stopping_rounds': IntUniformDistribution(high=200, low=50, step=1), 'early_stopping_tolerance': UniformDistribution(high=0.001, low=1e-05), 'max_rounds': IntUniformDistribution(high=20000, low=5000, step=1), 'min_samples_leaf': IntUniformDistribution(high=5, low=2, step=1), 'max_leaves': IntUniformDistribution(high=5, low=2, step=1)}, user_attrs={}, system_attrs={}, intermediate_values={}, trial_id=115, state=TrialState.COMPLETE, value=None),\n",
       " FrozenTrial(number=116, values=[11.91227088026334], datetime_start=datetime.datetime(2023, 2, 21, 20, 43, 41, 228908), datetime_complete=datetime.datetime(2023, 2, 21, 20, 43, 45, 574582), params={'learning_rate': 0.09034391245264344, 'validation_size': 0.15515529519538082, 'early_stopping_rounds': 195, 'early_stopping_tolerance': 0.00039449023675045073, 'max_rounds': 19686, 'min_samples_leaf': 2, 'max_leaves': 2}, distributions={'learning_rate': UniformDistribution(high=0.1, low=0.01), 'validation_size': UniformDistribution(high=0.2, low=0.15), 'early_stopping_rounds': IntUniformDistribution(high=200, low=50, step=1), 'early_stopping_tolerance': UniformDistribution(high=0.001, low=1e-05), 'max_rounds': IntUniformDistribution(high=20000, low=5000, step=1), 'min_samples_leaf': IntUniformDistribution(high=5, low=2, step=1), 'max_leaves': IntUniformDistribution(high=5, low=2, step=1)}, user_attrs={}, system_attrs={}, intermediate_values={}, trial_id=116, state=TrialState.COMPLETE, value=None),\n",
       " FrozenTrial(number=117, values=[12.098939692941922], datetime_start=datetime.datetime(2023, 2, 21, 20, 43, 41, 487915), datetime_complete=datetime.datetime(2023, 2, 21, 20, 43, 45, 730485), params={'learning_rate': 0.0902057715288184, 'validation_size': 0.1552721868124306, 'early_stopping_rounds': 130, 'early_stopping_tolerance': 0.0002869669460561024, 'max_rounds': 19607, 'min_samples_leaf': 2, 'max_leaves': 2}, distributions={'learning_rate': UniformDistribution(high=0.1, low=0.01), 'validation_size': UniformDistribution(high=0.2, low=0.15), 'early_stopping_rounds': IntUniformDistribution(high=200, low=50, step=1), 'early_stopping_tolerance': UniformDistribution(high=0.001, low=1e-05), 'max_rounds': IntUniformDistribution(high=20000, low=5000, step=1), 'min_samples_leaf': IntUniformDistribution(high=5, low=2, step=1), 'max_leaves': IntUniformDistribution(high=5, low=2, step=1)}, user_attrs={}, system_attrs={}, intermediate_values={}, trial_id=117, state=TrialState.COMPLETE, value=None),\n",
       " FrozenTrial(number=118, values=[12.102554964052247], datetime_start=datetime.datetime(2023, 2, 21, 20, 43, 42, 169712), datetime_complete=datetime.datetime(2023, 2, 21, 20, 43, 46, 410769), params={'learning_rate': 0.08653969375830547, 'validation_size': 0.15549918951886393, 'early_stopping_rounds': 129, 'early_stopping_tolerance': 0.00019205502519242202, 'max_rounds': 19660, 'min_samples_leaf': 2, 'max_leaves': 2}, distributions={'learning_rate': UniformDistribution(high=0.1, low=0.01), 'validation_size': UniformDistribution(high=0.2, low=0.15), 'early_stopping_rounds': IntUniformDistribution(high=200, low=50, step=1), 'early_stopping_tolerance': UniformDistribution(high=0.001, low=1e-05), 'max_rounds': IntUniformDistribution(high=20000, low=5000, step=1), 'min_samples_leaf': IntUniformDistribution(high=5, low=2, step=1), 'max_leaves': IntUniformDistribution(high=5, low=2, step=1)}, user_attrs={}, system_attrs={}, intermediate_values={}, trial_id=118, state=TrialState.COMPLETE, value=None),\n",
       " FrozenTrial(number=119, values=[12.246540407404957], datetime_start=datetime.datetime(2023, 2, 21, 20, 43, 42, 512535), datetime_complete=datetime.datetime(2023, 2, 21, 20, 43, 46, 814108), params={'learning_rate': 0.08955732961274747, 'validation_size': 0.15502340720665703, 'early_stopping_rounds': 194, 'early_stopping_tolerance': 0.00018563946089976318, 'max_rounds': 19732, 'min_samples_leaf': 2, 'max_leaves': 2}, distributions={'learning_rate': UniformDistribution(high=0.1, low=0.01), 'validation_size': UniformDistribution(high=0.2, low=0.15), 'early_stopping_rounds': IntUniformDistribution(high=200, low=50, step=1), 'early_stopping_tolerance': UniformDistribution(high=0.001, low=1e-05), 'max_rounds': IntUniformDistribution(high=20000, low=5000, step=1), 'min_samples_leaf': IntUniformDistribution(high=5, low=2, step=1), 'max_leaves': IntUniformDistribution(high=5, low=2, step=1)}, user_attrs={}, system_attrs={}, intermediate_values={}, trial_id=119, state=TrialState.COMPLETE, value=None),\n",
       " FrozenTrial(number=120, values=[12.13996734408109], datetime_start=datetime.datetime(2023, 2, 21, 20, 43, 43, 167134), datetime_complete=datetime.datetime(2023, 2, 21, 20, 43, 46, 922092), params={'learning_rate': 0.08977558147033456, 'validation_size': 0.15539099353537045, 'early_stopping_rounds': 195, 'early_stopping_tolerance': 0.0002261518573920536, 'max_rounds': 19570, 'min_samples_leaf': 2, 'max_leaves': 2}, distributions={'learning_rate': UniformDistribution(high=0.1, low=0.01), 'validation_size': UniformDistribution(high=0.2, low=0.15), 'early_stopping_rounds': IntUniformDistribution(high=200, low=50, step=1), 'early_stopping_tolerance': UniformDistribution(high=0.001, low=1e-05), 'max_rounds': IntUniformDistribution(high=20000, low=5000, step=1), 'min_samples_leaf': IntUniformDistribution(high=5, low=2, step=1), 'max_leaves': IntUniformDistribution(high=5, low=2, step=1)}, user_attrs={}, system_attrs={}, intermediate_values={}, trial_id=120, state=TrialState.COMPLETE, value=None),\n",
       " FrozenTrial(number=121, values=[11.842269275118957], datetime_start=datetime.datetime(2023, 2, 21, 20, 43, 43, 178952), datetime_complete=datetime.datetime(2023, 2, 21, 20, 43, 46, 484932), params={'learning_rate': 0.09105521486761338, 'validation_size': 0.15508616148242782, 'early_stopping_rounds': 193, 'early_stopping_tolerance': 0.00019913815569696754, 'max_rounds': 9597, 'min_samples_leaf': 2, 'max_leaves': 2}, distributions={'learning_rate': UniformDistribution(high=0.1, low=0.01), 'validation_size': UniformDistribution(high=0.2, low=0.15), 'early_stopping_rounds': IntUniformDistribution(high=200, low=50, step=1), 'early_stopping_tolerance': UniformDistribution(high=0.001, low=1e-05), 'max_rounds': IntUniformDistribution(high=20000, low=5000, step=1), 'min_samples_leaf': IntUniformDistribution(high=5, low=2, step=1), 'max_leaves': IntUniformDistribution(high=5, low=2, step=1)}, user_attrs={}, system_attrs={}, intermediate_values={}, trial_id=121, state=TrialState.COMPLETE, value=None),\n",
       " FrozenTrial(number=122, values=[11.91017100166051], datetime_start=datetime.datetime(2023, 2, 21, 20, 43, 43, 924966), datetime_complete=datetime.datetime(2023, 2, 21, 20, 43, 48, 557270), params={'learning_rate': 0.09183005463733791, 'validation_size': 0.15527702727094564, 'early_stopping_rounds': 195, 'early_stopping_tolerance': 0.0003992013144609102, 'max_rounds': 19680, 'min_samples_leaf': 2, 'max_leaves': 2}, distributions={'learning_rate': UniformDistribution(high=0.1, low=0.01), 'validation_size': UniformDistribution(high=0.2, low=0.15), 'early_stopping_rounds': IntUniformDistribution(high=200, low=50, step=1), 'early_stopping_tolerance': UniformDistribution(high=0.001, low=1e-05), 'max_rounds': IntUniformDistribution(high=20000, low=5000, step=1), 'min_samples_leaf': IntUniformDistribution(high=5, low=2, step=1), 'max_leaves': IntUniformDistribution(high=5, low=2, step=1)}, user_attrs={}, system_attrs={}, intermediate_values={}, trial_id=122, state=TrialState.COMPLETE, value=None),\n",
       " FrozenTrial(number=123, values=[11.920014931375986], datetime_start=datetime.datetime(2023, 2, 21, 20, 43, 44, 193991), datetime_complete=datetime.datetime(2023, 2, 21, 20, 43, 49, 546439), params={'learning_rate': 0.08131122014925046, 'validation_size': 0.154939014257559, 'early_stopping_rounds': 193, 'early_stopping_tolerance': 0.0002167075741108917, 'max_rounds': 16845, 'min_samples_leaf': 2, 'max_leaves': 2}, distributions={'learning_rate': UniformDistribution(high=0.1, low=0.01), 'validation_size': UniformDistribution(high=0.2, low=0.15), 'early_stopping_rounds': IntUniformDistribution(high=200, low=50, step=1), 'early_stopping_tolerance': UniformDistribution(high=0.001, low=1e-05), 'max_rounds': IntUniformDistribution(high=20000, low=5000, step=1), 'min_samples_leaf': IntUniformDistribution(high=5, low=2, step=1), 'max_leaves': IntUniformDistribution(high=5, low=2, step=1)}, user_attrs={}, system_attrs={}, intermediate_values={}, trial_id=123, state=TrialState.COMPLETE, value=None),\n",
       " FrozenTrial(number=124, values=[11.911007661291933], datetime_start=datetime.datetime(2023, 2, 21, 20, 43, 45, 577919), datetime_complete=datetime.datetime(2023, 2, 21, 20, 43, 49, 760681), params={'learning_rate': 0.09021940057670745, 'validation_size': 0.15554805898549937, 'early_stopping_rounds': 194, 'early_stopping_tolerance': 0.000186244172586615, 'max_rounds': 19147, 'min_samples_leaf': 2, 'max_leaves': 2}, distributions={'learning_rate': UniformDistribution(high=0.1, low=0.01), 'validation_size': UniformDistribution(high=0.2, low=0.15), 'early_stopping_rounds': IntUniformDistribution(high=200, low=50, step=1), 'early_stopping_tolerance': UniformDistribution(high=0.001, low=1e-05), 'max_rounds': IntUniformDistribution(high=20000, low=5000, step=1), 'min_samples_leaf': IntUniformDistribution(high=5, low=2, step=1), 'max_leaves': IntUniformDistribution(high=5, low=2, step=1)}, user_attrs={}, system_attrs={}, intermediate_values={}, trial_id=124, state=TrialState.COMPLETE, value=None),\n",
       " FrozenTrial(number=125, values=[11.827869438129545], datetime_start=datetime.datetime(2023, 2, 21, 20, 43, 45, 733847), datetime_complete=datetime.datetime(2023, 2, 21, 20, 43, 49, 847104), params={'learning_rate': 0.09109967287696973, 'validation_size': 0.15494775095412977, 'early_stopping_rounds': 127, 'early_stopping_tolerance': 0.0002016169993044184, 'max_rounds': 16834, 'min_samples_leaf': 2, 'max_leaves': 2}, distributions={'learning_rate': UniformDistribution(high=0.1, low=0.01), 'validation_size': UniformDistribution(high=0.2, low=0.15), 'early_stopping_rounds': IntUniformDistribution(high=200, low=50, step=1), 'early_stopping_tolerance': UniformDistribution(high=0.001, low=1e-05), 'max_rounds': IntUniformDistribution(high=20000, low=5000, step=1), 'min_samples_leaf': IntUniformDistribution(high=5, low=2, step=1), 'max_leaves': IntUniformDistribution(high=5, low=2, step=1)}, user_attrs={}, system_attrs={}, intermediate_values={}, trial_id=125, state=TrialState.COMPLETE, value=None),\n",
       " FrozenTrial(number=126, values=[12.444679595743436], datetime_start=datetime.datetime(2023, 2, 21, 20, 43, 46, 414336), datetime_complete=datetime.datetime(2023, 2, 21, 20, 43, 49, 641694), params={'learning_rate': 0.0926109349968129, 'validation_size': 0.1581152298619643, 'early_stopping_rounds': 123, 'early_stopping_tolerance': 0.00019045307186273903, 'max_rounds': 16933, 'min_samples_leaf': 2, 'max_leaves': 2}, distributions={'learning_rate': UniformDistribution(high=0.1, low=0.01), 'validation_size': UniformDistribution(high=0.2, low=0.15), 'early_stopping_rounds': IntUniformDistribution(high=200, low=50, step=1), 'early_stopping_tolerance': UniformDistribution(high=0.001, low=1e-05), 'max_rounds': IntUniformDistribution(high=20000, low=5000, step=1), 'min_samples_leaf': IntUniformDistribution(high=5, low=2, step=1), 'max_leaves': IntUniformDistribution(high=5, low=2, step=1)}, user_attrs={}, system_attrs={}, intermediate_values={}, trial_id=126, state=TrialState.COMPLETE, value=None),\n",
       " FrozenTrial(number=127, values=[11.856031721120544], datetime_start=datetime.datetime(2023, 2, 21, 20, 43, 46, 490108), datetime_complete=datetime.datetime(2023, 2, 21, 20, 43, 49, 951071), params={'learning_rate': 0.09082417333279866, 'validation_size': 0.15870565179003918, 'early_stopping_rounds': 124, 'early_stopping_tolerance': 0.00019800234490776453, 'max_rounds': 11909, 'min_samples_leaf': 2, 'max_leaves': 2}, distributions={'learning_rate': UniformDistribution(high=0.1, low=0.01), 'validation_size': UniformDistribution(high=0.2, low=0.15), 'early_stopping_rounds': IntUniformDistribution(high=200, low=50, step=1), 'early_stopping_tolerance': UniformDistribution(high=0.001, low=1e-05), 'max_rounds': IntUniformDistribution(high=20000, low=5000, step=1), 'min_samples_leaf': IntUniformDistribution(high=5, low=2, step=1), 'max_leaves': IntUniformDistribution(high=5, low=2, step=1)}, user_attrs={}, system_attrs={}, intermediate_values={}, trial_id=127, state=TrialState.COMPLETE, value=None),\n",
       " FrozenTrial(number=128, values=[12.248593795300392], datetime_start=datetime.datetime(2023, 2, 21, 20, 43, 46, 817721), datetime_complete=datetime.datetime(2023, 2, 21, 20, 43, 50, 598564), params={'learning_rate': 0.0951208172255329, 'validation_size': 0.1575602248816935, 'early_stopping_rounds': 125, 'early_stopping_tolerance': 0.00019076328073660396, 'max_rounds': 9369, 'min_samples_leaf': 2, 'max_leaves': 2}, distributions={'learning_rate': UniformDistribution(high=0.1, low=0.01), 'validation_size': UniformDistribution(high=0.2, low=0.15), 'early_stopping_rounds': IntUniformDistribution(high=200, low=50, step=1), 'early_stopping_tolerance': UniformDistribution(high=0.001, low=1e-05), 'max_rounds': IntUniformDistribution(high=20000, low=5000, step=1), 'min_samples_leaf': IntUniformDistribution(high=5, low=2, step=1), 'max_leaves': IntUniformDistribution(high=5, low=2, step=1)}, user_attrs={}, system_attrs={}, intermediate_values={}, trial_id=128, state=TrialState.COMPLETE, value=None),\n",
       " FrozenTrial(number=129, values=[12.175092359054142], datetime_start=datetime.datetime(2023, 2, 21, 20, 43, 46, 929080), datetime_complete=datetime.datetime(2023, 2, 21, 20, 43, 51, 754020), params={'learning_rate': 0.09187108516039924, 'validation_size': 0.15757024432069353, 'early_stopping_rounds': 126, 'early_stopping_tolerance': 0.00020017617316796452, 'max_rounds': 5020, 'min_samples_leaf': 2, 'max_leaves': 2}, distributions={'learning_rate': UniformDistribution(high=0.1, low=0.01), 'validation_size': UniformDistribution(high=0.2, low=0.15), 'early_stopping_rounds': IntUniformDistribution(high=200, low=50, step=1), 'early_stopping_tolerance': UniformDistribution(high=0.001, low=1e-05), 'max_rounds': IntUniformDistribution(high=20000, low=5000, step=1), 'min_samples_leaf': IntUniformDistribution(high=5, low=2, step=1), 'max_leaves': IntUniformDistribution(high=5, low=2, step=1)}, user_attrs={}, system_attrs={}, intermediate_values={}, trial_id=129, state=TrialState.COMPLETE, value=None),\n",
       " FrozenTrial(number=130, values=[12.476020561794677], datetime_start=datetime.datetime(2023, 2, 21, 20, 43, 48, 561405), datetime_complete=datetime.datetime(2023, 2, 21, 20, 43, 52, 933286), params={'learning_rate': 0.09207756375018344, 'validation_size': 0.1583644594640196, 'early_stopping_rounds': 122, 'early_stopping_tolerance': 0.0001984582434962506, 'max_rounds': 10086, 'min_samples_leaf': 2, 'max_leaves': 2}, distributions={'learning_rate': UniformDistribution(high=0.1, low=0.01), 'validation_size': UniformDistribution(high=0.2, low=0.15), 'early_stopping_rounds': IntUniformDistribution(high=200, low=50, step=1), 'early_stopping_tolerance': UniformDistribution(high=0.001, low=1e-05), 'max_rounds': IntUniformDistribution(high=20000, low=5000, step=1), 'min_samples_leaf': IntUniformDistribution(high=5, low=2, step=1), 'max_leaves': IntUniformDistribution(high=5, low=2, step=1)}, user_attrs={}, system_attrs={}, intermediate_values={}, trial_id=130, state=TrialState.COMPLETE, value=None),\n",
       " FrozenTrial(number=131, values=[12.576099661371758], datetime_start=datetime.datetime(2023, 2, 21, 20, 43, 49, 551662), datetime_complete=datetime.datetime(2023, 2, 21, 20, 43, 53, 47854), params={'learning_rate': 0.09240269863711702, 'validation_size': 0.15755592346569028, 'early_stopping_rounds': 112, 'early_stopping_tolerance': 0.00019508683559103776, 'max_rounds': 5014, 'min_samples_leaf': 2, 'max_leaves': 2}, distributions={'learning_rate': UniformDistribution(high=0.1, low=0.01), 'validation_size': UniformDistribution(high=0.2, low=0.15), 'early_stopping_rounds': IntUniformDistribution(high=200, low=50, step=1), 'early_stopping_tolerance': UniformDistribution(high=0.001, low=1e-05), 'max_rounds': IntUniformDistribution(high=20000, low=5000, step=1), 'min_samples_leaf': IntUniformDistribution(high=5, low=2, step=1), 'max_leaves': IntUniformDistribution(high=5, low=2, step=1)}, user_attrs={}, system_attrs={}, intermediate_values={}, trial_id=131, state=TrialState.COMPLETE, value=None),\n",
       " FrozenTrial(number=132, values=[11.768681560853098], datetime_start=datetime.datetime(2023, 2, 21, 20, 43, 49, 645221), datetime_complete=datetime.datetime(2023, 2, 21, 20, 43, 53, 393125), params={'learning_rate': 0.09756491695115509, 'validation_size': 0.15764733305316006, 'early_stopping_rounds': 114, 'early_stopping_tolerance': 0.0002001099819109407, 'max_rounds': 9727, 'min_samples_leaf': 2, 'max_leaves': 2}, distributions={'learning_rate': UniformDistribution(high=0.1, low=0.01), 'validation_size': UniformDistribution(high=0.2, low=0.15), 'early_stopping_rounds': IntUniformDistribution(high=200, low=50, step=1), 'early_stopping_tolerance': UniformDistribution(high=0.001, low=1e-05), 'max_rounds': IntUniformDistribution(high=20000, low=5000, step=1), 'min_samples_leaf': IntUniformDistribution(high=5, low=2, step=1), 'max_leaves': IntUniformDistribution(high=5, low=2, step=1)}, user_attrs={}, system_attrs={}, intermediate_values={}, trial_id=132, state=TrialState.COMPLETE, value=None),\n",
       " FrozenTrial(number=133, values=[11.739806213350741], datetime_start=datetime.datetime(2023, 2, 21, 20, 43, 49, 764485), datetime_complete=datetime.datetime(2023, 2, 21, 20, 43, 53, 40715), params={'learning_rate': 0.09158785494967354, 'validation_size': 0.15771986003798488, 'early_stopping_rounds': 114, 'early_stopping_tolerance': 0.00014349231317820405, 'max_rounds': 9940, 'min_samples_leaf': 2, 'max_leaves': 2}, distributions={'learning_rate': UniformDistribution(high=0.1, low=0.01), 'validation_size': UniformDistribution(high=0.2, low=0.15), 'early_stopping_rounds': IntUniformDistribution(high=200, low=50, step=1), 'early_stopping_tolerance': UniformDistribution(high=0.001, low=1e-05), 'max_rounds': IntUniformDistribution(high=20000, low=5000, step=1), 'min_samples_leaf': IntUniformDistribution(high=5, low=2, step=1), 'max_leaves': IntUniformDistribution(high=5, low=2, step=1)}, user_attrs={}, system_attrs={}, intermediate_values={}, trial_id=133, state=TrialState.COMPLETE, value=None),\n",
       " FrozenTrial(number=134, values=[12.178778542711493], datetime_start=datetime.datetime(2023, 2, 21, 20, 43, 49, 851064), datetime_complete=datetime.datetime(2023, 2, 21, 20, 43, 53, 228344), params={'learning_rate': 0.091691831262616, 'validation_size': 0.15883238317405146, 'early_stopping_rounds': 112, 'early_stopping_tolerance': 0.0002118530131858457, 'max_rounds': 9364, 'min_samples_leaf': 2, 'max_leaves': 2}, distributions={'learning_rate': UniformDistribution(high=0.1, low=0.01), 'validation_size': UniformDistribution(high=0.2, low=0.15), 'early_stopping_rounds': IntUniformDistribution(high=200, low=50, step=1), 'early_stopping_tolerance': UniformDistribution(high=0.001, low=1e-05), 'max_rounds': IntUniformDistribution(high=20000, low=5000, step=1), 'min_samples_leaf': IntUniformDistribution(high=5, low=2, step=1), 'max_leaves': IntUniformDistribution(high=5, low=2, step=1)}, user_attrs={}, system_attrs={}, intermediate_values={}, trial_id=134, state=TrialState.COMPLETE, value=None),\n",
       " FrozenTrial(number=135, values=[11.938772454812062], datetime_start=datetime.datetime(2023, 2, 21, 20, 43, 49, 955498), datetime_complete=datetime.datetime(2023, 2, 21, 20, 43, 54, 779622), params={'learning_rate': 0.09158360677463699, 'validation_size': 0.1582732810820088, 'early_stopping_rounds': 114, 'early_stopping_tolerance': 0.00014383844671538671, 'max_rounds': 9479, 'min_samples_leaf': 2, 'max_leaves': 2}, distributions={'learning_rate': UniformDistribution(high=0.1, low=0.01), 'validation_size': UniformDistribution(high=0.2, low=0.15), 'early_stopping_rounds': IntUniformDistribution(high=200, low=50, step=1), 'early_stopping_tolerance': UniformDistribution(high=0.001, low=1e-05), 'max_rounds': IntUniformDistribution(high=20000, low=5000, step=1), 'min_samples_leaf': IntUniformDistribution(high=5, low=2, step=1), 'max_leaves': IntUniformDistribution(high=5, low=2, step=1)}, user_attrs={}, system_attrs={}, intermediate_values={}, trial_id=135, state=TrialState.COMPLETE, value=None),\n",
       " FrozenTrial(number=136, values=[11.717498291897297], datetime_start=datetime.datetime(2023, 2, 21, 20, 43, 50, 604019), datetime_complete=datetime.datetime(2023, 2, 21, 20, 43, 55, 122968), params={'learning_rate': 0.09740051475479909, 'validation_size': 0.15880868368853937, 'early_stopping_rounds': 136, 'early_stopping_tolerance': 0.00013710838471780898, 'max_rounds': 15716, 'min_samples_leaf': 2, 'max_leaves': 2}, distributions={'learning_rate': UniformDistribution(high=0.1, low=0.01), 'validation_size': UniformDistribution(high=0.2, low=0.15), 'early_stopping_rounds': IntUniformDistribution(high=200, low=50, step=1), 'early_stopping_tolerance': UniformDistribution(high=0.001, low=1e-05), 'max_rounds': IntUniformDistribution(high=20000, low=5000, step=1), 'min_samples_leaf': IntUniformDistribution(high=5, low=2, step=1), 'max_leaves': IntUniformDistribution(high=5, low=2, step=1)}, user_attrs={}, system_attrs={}, intermediate_values={}, trial_id=136, state=TrialState.COMPLETE, value=None),\n",
       " FrozenTrial(number=137, values=[11.989712592254689], datetime_start=datetime.datetime(2023, 2, 21, 20, 43, 51, 760812), datetime_complete=datetime.datetime(2023, 2, 21, 20, 43, 56, 29834), params={'learning_rate': 0.09782549828137362, 'validation_size': 0.16216715109110957, 'early_stopping_rounds': 114, 'early_stopping_tolerance': 0.00014198854525282521, 'max_rounds': 11519, 'min_samples_leaf': 2, 'max_leaves': 2}, distributions={'learning_rate': UniformDistribution(high=0.1, low=0.01), 'validation_size': UniformDistribution(high=0.2, low=0.15), 'early_stopping_rounds': IntUniformDistribution(high=200, low=50, step=1), 'early_stopping_tolerance': UniformDistribution(high=0.001, low=1e-05), 'max_rounds': IntUniformDistribution(high=20000, low=5000, step=1), 'min_samples_leaf': IntUniformDistribution(high=5, low=2, step=1), 'max_leaves': IntUniformDistribution(high=5, low=2, step=1)}, user_attrs={}, system_attrs={}, intermediate_values={}, trial_id=137, state=TrialState.COMPLETE, value=None),\n",
       " FrozenTrial(number=138, values=[11.876497779122145], datetime_start=datetime.datetime(2023, 2, 21, 20, 43, 52, 937904), datetime_complete=datetime.datetime(2023, 2, 21, 20, 43, 56, 339329), params={'learning_rate': 0.0979443977416833, 'validation_size': 0.1541469660223986, 'early_stopping_rounds': 137, 'early_stopping_tolerance': 0.00014005620775746577, 'max_rounds': 15755, 'min_samples_leaf': 2, 'max_leaves': 2}, distributions={'learning_rate': UniformDistribution(high=0.1, low=0.01), 'validation_size': UniformDistribution(high=0.2, low=0.15), 'early_stopping_rounds': IntUniformDistribution(high=200, low=50, step=1), 'early_stopping_tolerance': UniformDistribution(high=0.001, low=1e-05), 'max_rounds': IntUniformDistribution(high=20000, low=5000, step=1), 'min_samples_leaf': IntUniformDistribution(high=5, low=2, step=1), 'max_leaves': IntUniformDistribution(high=5, low=2, step=1)}, user_attrs={}, system_attrs={}, intermediate_values={}, trial_id=138, state=TrialState.COMPLETE, value=None),\n",
       " FrozenTrial(number=139, values=[11.835491071090475], datetime_start=datetime.datetime(2023, 2, 21, 20, 43, 53, 51555), datetime_complete=datetime.datetime(2023, 2, 21, 20, 43, 56, 677000), params={'learning_rate': 0.0980232123299974, 'validation_size': 0.15389737234583042, 'early_stopping_rounds': 113, 'early_stopping_tolerance': 0.00014689017342695473, 'max_rounds': 11782, 'min_samples_leaf': 2, 'max_leaves': 2}, distributions={'learning_rate': UniformDistribution(high=0.1, low=0.01), 'validation_size': UniformDistribution(high=0.2, low=0.15), 'early_stopping_rounds': IntUniformDistribution(high=200, low=50, step=1), 'early_stopping_tolerance': UniformDistribution(high=0.001, low=1e-05), 'max_rounds': IntUniformDistribution(high=20000, low=5000, step=1), 'min_samples_leaf': IntUniformDistribution(high=5, low=2, step=1), 'max_leaves': IntUniformDistribution(high=5, low=2, step=1)}, user_attrs={}, system_attrs={}, intermediate_values={}, trial_id=139, state=TrialState.COMPLETE, value=None),\n",
       " FrozenTrial(number=140, values=[11.764911408294306], datetime_start=datetime.datetime(2023, 2, 21, 20, 43, 53, 73486), datetime_complete=datetime.datetime(2023, 2, 21, 20, 43, 57, 92435), params={'learning_rate': 0.0983025183208508, 'validation_size': 0.15447591749080672, 'early_stopping_rounds': 136, 'early_stopping_tolerance': 0.00013880724212827144, 'max_rounds': 9417, 'min_samples_leaf': 2, 'max_leaves': 2}, distributions={'learning_rate': UniformDistribution(high=0.1, low=0.01), 'validation_size': UniformDistribution(high=0.2, low=0.15), 'early_stopping_rounds': IntUniformDistribution(high=200, low=50, step=1), 'early_stopping_tolerance': UniformDistribution(high=0.001, low=1e-05), 'max_rounds': IntUniformDistribution(high=20000, low=5000, step=1), 'min_samples_leaf': IntUniformDistribution(high=5, low=2, step=1), 'max_leaves': IntUniformDistribution(high=5, low=2, step=1)}, user_attrs={}, system_attrs={}, intermediate_values={}, trial_id=140, state=TrialState.COMPLETE, value=None),\n",
       " FrozenTrial(number=141, values=[12.233193901224235], datetime_start=datetime.datetime(2023, 2, 21, 20, 43, 53, 235481), datetime_complete=datetime.datetime(2023, 2, 21, 20, 43, 58, 77110), params={'learning_rate': 0.08091960612012165, 'validation_size': 0.15422847742188045, 'early_stopping_rounds': 136, 'early_stopping_tolerance': 0.0001283101145783849, 'max_rounds': 15785, 'min_samples_leaf': 2, 'max_leaves': 2}, distributions={'learning_rate': UniformDistribution(high=0.1, low=0.01), 'validation_size': UniformDistribution(high=0.2, low=0.15), 'early_stopping_rounds': IntUniformDistribution(high=200, low=50, step=1), 'early_stopping_tolerance': UniformDistribution(high=0.001, low=1e-05), 'max_rounds': IntUniformDistribution(high=20000, low=5000, step=1), 'min_samples_leaf': IntUniformDistribution(high=5, low=2, step=1), 'max_leaves': IntUniformDistribution(high=5, low=2, step=1)}, user_attrs={}, system_attrs={}, intermediate_values={}, trial_id=141, state=TrialState.COMPLETE, value=None),\n",
       " FrozenTrial(number=142, values=[11.805823571025664], datetime_start=datetime.datetime(2023, 2, 21, 20, 43, 53, 398490), datetime_complete=datetime.datetime(2023, 2, 21, 20, 43, 58, 365655), params={'learning_rate': 0.09891306082498466, 'validation_size': 0.15722694737147866, 'early_stopping_rounds': 106, 'early_stopping_tolerance': 0.00015110736956560364, 'max_rounds': 10777, 'min_samples_leaf': 2, 'max_leaves': 2}, distributions={'learning_rate': UniformDistribution(high=0.1, low=0.01), 'validation_size': UniformDistribution(high=0.2, low=0.15), 'early_stopping_rounds': IntUniformDistribution(high=200, low=50, step=1), 'early_stopping_tolerance': UniformDistribution(high=0.001, low=1e-05), 'max_rounds': IntUniformDistribution(high=20000, low=5000, step=1), 'min_samples_leaf': IntUniformDistribution(high=5, low=2, step=1), 'max_leaves': IntUniformDistribution(high=5, low=2, step=1)}, user_attrs={}, system_attrs={}, intermediate_values={}, trial_id=142, state=TrialState.COMPLETE, value=None),\n",
       " FrozenTrial(number=143, values=[11.891252162000548], datetime_start=datetime.datetime(2023, 2, 21, 20, 43, 54, 785201), datetime_complete=datetime.datetime(2023, 2, 21, 20, 43, 59, 158506), params={'learning_rate': 0.09908420672727794, 'validation_size': 0.15673683646849113, 'early_stopping_rounds': 107, 'early_stopping_tolerance': 0.00012142271467992787, 'max_rounds': 11577, 'min_samples_leaf': 2, 'max_leaves': 2}, distributions={'learning_rate': UniformDistribution(high=0.1, low=0.01), 'validation_size': UniformDistribution(high=0.2, low=0.15), 'early_stopping_rounds': IntUniformDistribution(high=200, low=50, step=1), 'early_stopping_tolerance': UniformDistribution(high=0.001, low=1e-05), 'max_rounds': IntUniformDistribution(high=20000, low=5000, step=1), 'min_samples_leaf': IntUniformDistribution(high=5, low=2, step=1), 'max_leaves': IntUniformDistribution(high=5, low=2, step=1)}, user_attrs={}, system_attrs={}, intermediate_values={}, trial_id=143, state=TrialState.COMPLETE, value=None),\n",
       " FrozenTrial(number=144, values=[11.945852579342821], datetime_start=datetime.datetime(2023, 2, 21, 20, 43, 55, 126826), datetime_complete=datetime.datetime(2023, 2, 21, 20, 43, 59, 282244), params={'learning_rate': 0.09874516937524654, 'validation_size': 0.16238972414279376, 'early_stopping_rounds': 105, 'early_stopping_tolerance': 6.692269051991998e-05, 'max_rounds': 10393, 'min_samples_leaf': 2, 'max_leaves': 2}, distributions={'learning_rate': UniformDistribution(high=0.1, low=0.01), 'validation_size': UniformDistribution(high=0.2, low=0.15), 'early_stopping_rounds': IntUniformDistribution(high=200, low=50, step=1), 'early_stopping_tolerance': UniformDistribution(high=0.001, low=1e-05), 'max_rounds': IntUniformDistribution(high=20000, low=5000, step=1), 'min_samples_leaf': IntUniformDistribution(high=5, low=2, step=1), 'max_leaves': IntUniformDistribution(high=5, low=2, step=1)}, user_attrs={}, system_attrs={}, intermediate_values={}, trial_id=144, state=TrialState.COMPLETE, value=None),\n",
       " FrozenTrial(number=145, values=[11.791840181612555], datetime_start=datetime.datetime(2023, 2, 21, 20, 43, 56, 33414), datetime_complete=datetime.datetime(2023, 2, 21, 20, 43, 59, 936683), params={'learning_rate': 0.09928362780393121, 'validation_size': 0.1611522979968714, 'early_stopping_rounds': 200, 'early_stopping_tolerance': 6.558155031276164e-05, 'max_rounds': 9050, 'min_samples_leaf': 2, 'max_leaves': 2}, distributions={'learning_rate': UniformDistribution(high=0.1, low=0.01), 'validation_size': UniformDistribution(high=0.2, low=0.15), 'early_stopping_rounds': IntUniformDistribution(high=200, low=50, step=1), 'early_stopping_tolerance': UniformDistribution(high=0.001, low=1e-05), 'max_rounds': IntUniformDistribution(high=20000, low=5000, step=1), 'min_samples_leaf': IntUniformDistribution(high=5, low=2, step=1), 'max_leaves': IntUniformDistribution(high=5, low=2, step=1)}, user_attrs={}, system_attrs={}, intermediate_values={}, trial_id=145, state=TrialState.COMPLETE, value=None),\n",
       " FrozenTrial(number=146, values=[11.825061663403078], datetime_start=datetime.datetime(2023, 2, 21, 20, 43, 56, 342822), datetime_complete=datetime.datetime(2023, 2, 21, 20, 44, 0, 326814), params={'learning_rate': 0.09947079116648251, 'validation_size': 0.16269608483588094, 'early_stopping_rounds': 135, 'early_stopping_tolerance': 0.0001229122123037355, 'max_rounds': 15738, 'min_samples_leaf': 2, 'max_leaves': 2}, distributions={'learning_rate': UniformDistribution(high=0.1, low=0.01), 'validation_size': UniformDistribution(high=0.2, low=0.15), 'early_stopping_rounds': IntUniformDistribution(high=200, low=50, step=1), 'early_stopping_tolerance': UniformDistribution(high=0.001, low=1e-05), 'max_rounds': IntUniformDistribution(high=20000, low=5000, step=1), 'min_samples_leaf': IntUniformDistribution(high=5, low=2, step=1), 'max_leaves': IntUniformDistribution(high=5, low=2, step=1)}, user_attrs={}, system_attrs={}, intermediate_values={}, trial_id=146, state=TrialState.COMPLETE, value=None),\n",
       " FrozenTrial(number=147, values=[11.763995383904946], datetime_start=datetime.datetime(2023, 2, 21, 20, 43, 56, 684057), datetime_complete=datetime.datetime(2023, 2, 21, 20, 44, 0, 828418), params={'learning_rate': 0.09995619610493203, 'validation_size': 0.16207231889344226, 'early_stopping_rounds': 102, 'early_stopping_tolerance': 0.00011688988280469768, 'max_rounds': 15697, 'min_samples_leaf': 2, 'max_leaves': 2}, distributions={'learning_rate': UniformDistribution(high=0.1, low=0.01), 'validation_size': UniformDistribution(high=0.2, low=0.15), 'early_stopping_rounds': IntUniformDistribution(high=200, low=50, step=1), 'early_stopping_tolerance': UniformDistribution(high=0.001, low=1e-05), 'max_rounds': IntUniformDistribution(high=20000, low=5000, step=1), 'min_samples_leaf': IntUniformDistribution(high=5, low=2, step=1), 'max_leaves': IntUniformDistribution(high=5, low=2, step=1)}, user_attrs={}, system_attrs={}, intermediate_values={}, trial_id=147, state=TrialState.COMPLETE, value=None),\n",
       " FrozenTrial(number=148, values=[11.804635413766944], datetime_start=datetime.datetime(2023, 2, 21, 20, 43, 57, 97235), datetime_complete=datetime.datetime(2023, 2, 21, 20, 44, 1, 246259), params={'learning_rate': 0.09977277672797714, 'validation_size': 0.16096415423346128, 'early_stopping_rounds': 104, 'early_stopping_tolerance': 6.881908085911216e-05, 'max_rounds': 10384, 'min_samples_leaf': 2, 'max_leaves': 2}, distributions={'learning_rate': UniformDistribution(high=0.1, low=0.01), 'validation_size': UniformDistribution(high=0.2, low=0.15), 'early_stopping_rounds': IntUniformDistribution(high=200, low=50, step=1), 'early_stopping_tolerance': UniformDistribution(high=0.001, low=1e-05), 'max_rounds': IntUniformDistribution(high=20000, low=5000, step=1), 'min_samples_leaf': IntUniformDistribution(high=5, low=2, step=1), 'max_leaves': IntUniformDistribution(high=5, low=2, step=1)}, user_attrs={}, system_attrs={}, intermediate_values={}, trial_id=148, state=TrialState.COMPLETE, value=None),\n",
       " FrozenTrial(number=149, values=[11.823111637826202], datetime_start=datetime.datetime(2023, 2, 21, 20, 43, 58, 82275), datetime_complete=datetime.datetime(2023, 2, 21, 20, 44, 2, 388882), params={'learning_rate': 0.0989531180102981, 'validation_size': 0.15695707775851953, 'early_stopping_rounds': 111, 'early_stopping_tolerance': 6.199766141062627e-05, 'max_rounds': 10517, 'min_samples_leaf': 2, 'max_leaves': 2}, distributions={'learning_rate': UniformDistribution(high=0.1, low=0.01), 'validation_size': UniformDistribution(high=0.2, low=0.15), 'early_stopping_rounds': IntUniformDistribution(high=200, low=50, step=1), 'early_stopping_tolerance': UniformDistribution(high=0.001, low=1e-05), 'max_rounds': IntUniformDistribution(high=20000, low=5000, step=1), 'min_samples_leaf': IntUniformDistribution(high=5, low=2, step=1), 'max_leaves': IntUniformDistribution(high=5, low=2, step=1)}, user_attrs={}, system_attrs={}, intermediate_values={}, trial_id=149, state=TrialState.COMPLETE, value=None),\n",
       " FrozenTrial(number=150, values=[11.845591362805004], datetime_start=datetime.datetime(2023, 2, 21, 20, 43, 58, 369236), datetime_complete=datetime.datetime(2023, 2, 21, 20, 44, 2, 668620), params={'learning_rate': 0.099504853428684, 'validation_size': 0.1612276819955685, 'early_stopping_rounds': 109, 'early_stopping_tolerance': 6.341668470833035e-05, 'max_rounds': 10636, 'min_samples_leaf': 2, 'max_leaves': 2}, distributions={'learning_rate': UniformDistribution(high=0.1, low=0.01), 'validation_size': UniformDistribution(high=0.2, low=0.15), 'early_stopping_rounds': IntUniformDistribution(high=200, low=50, step=1), 'early_stopping_tolerance': UniformDistribution(high=0.001, low=1e-05), 'max_rounds': IntUniformDistribution(high=20000, low=5000, step=1), 'min_samples_leaf': IntUniformDistribution(high=5, low=2, step=1), 'max_leaves': IntUniformDistribution(high=5, low=2, step=1)}, user_attrs={}, system_attrs={}, intermediate_values={}, trial_id=150, state=TrialState.COMPLETE, value=None),\n",
       " FrozenTrial(number=151, values=[11.85379778201492], datetime_start=datetime.datetime(2023, 2, 21, 20, 43, 59, 161817), datetime_complete=datetime.datetime(2023, 2, 21, 20, 44, 3, 57152), params={'learning_rate': 0.09985336979779903, 'validation_size': 0.1606372352801457, 'early_stopping_rounds': 104, 'early_stopping_tolerance': 5.261457631603307e-05, 'max_rounds': 10881, 'min_samples_leaf': 2, 'max_leaves': 2}, distributions={'learning_rate': UniformDistribution(high=0.1, low=0.01), 'validation_size': UniformDistribution(high=0.2, low=0.15), 'early_stopping_rounds': IntUniformDistribution(high=200, low=50, step=1), 'early_stopping_tolerance': UniformDistribution(high=0.001, low=1e-05), 'max_rounds': IntUniformDistribution(high=20000, low=5000, step=1), 'min_samples_leaf': IntUniformDistribution(high=5, low=2, step=1), 'max_leaves': IntUniformDistribution(high=5, low=2, step=1)}, user_attrs={}, system_attrs={}, intermediate_values={}, trial_id=151, state=TrialState.COMPLETE, value=None),\n",
       " FrozenTrial(number=152, values=[12.222917397772019], datetime_start=datetime.datetime(2023, 2, 21, 20, 43, 59, 286343), datetime_complete=datetime.datetime(2023, 2, 21, 20, 44, 3, 431705), params={'learning_rate': 0.09642513735193838, 'validation_size': 0.1568065875905011, 'early_stopping_rounds': 108, 'early_stopping_tolerance': 0.00011653891347097328, 'max_rounds': 11880, 'min_samples_leaf': 2, 'max_leaves': 2}, distributions={'learning_rate': UniformDistribution(high=0.1, low=0.01), 'validation_size': UniformDistribution(high=0.2, low=0.15), 'early_stopping_rounds': IntUniformDistribution(high=200, low=50, step=1), 'early_stopping_tolerance': UniformDistribution(high=0.001, low=1e-05), 'max_rounds': IntUniformDistribution(high=20000, low=5000, step=1), 'min_samples_leaf': IntUniformDistribution(high=5, low=2, step=1), 'max_leaves': IntUniformDistribution(high=5, low=2, step=1)}, user_attrs={}, system_attrs={}, intermediate_values={}, trial_id=152, state=TrialState.COMPLETE, value=None),\n",
       " FrozenTrial(number=153, values=[12.245983135400555], datetime_start=datetime.datetime(2023, 2, 21, 20, 43, 59, 942932), datetime_complete=datetime.datetime(2023, 2, 21, 20, 44, 4, 126858), params={'learning_rate': 0.09618590691199927, 'validation_size': 0.15875759666115746, 'early_stopping_rounds': 122, 'early_stopping_tolerance': 8.92065197674034e-05, 'max_rounds': 10757, 'min_samples_leaf': 2, 'max_leaves': 2}, distributions={'learning_rate': UniformDistribution(high=0.1, low=0.01), 'validation_size': UniformDistribution(high=0.2, low=0.15), 'early_stopping_rounds': IntUniformDistribution(high=200, low=50, step=1), 'early_stopping_tolerance': UniformDistribution(high=0.001, low=1e-05), 'max_rounds': IntUniformDistribution(high=20000, low=5000, step=1), 'min_samples_leaf': IntUniformDistribution(high=5, low=2, step=1), 'max_leaves': IntUniformDistribution(high=5, low=2, step=1)}, user_attrs={}, system_attrs={}, intermediate_values={}, trial_id=153, state=TrialState.COMPLETE, value=None),\n",
       " FrozenTrial(number=154, values=[12.112325247564117], datetime_start=datetime.datetime(2023, 2, 21, 20, 44, 0, 331506), datetime_complete=datetime.datetime(2023, 2, 21, 20, 44, 4, 642743), params={'learning_rate': 0.09667956693702998, 'validation_size': 0.16065649751332584, 'early_stopping_rounds': 120, 'early_stopping_tolerance': 0.00010436437043525102, 'max_rounds': 10847, 'min_samples_leaf': 2, 'max_leaves': 2}, distributions={'learning_rate': UniformDistribution(high=0.1, low=0.01), 'validation_size': UniformDistribution(high=0.2, low=0.15), 'early_stopping_rounds': IntUniformDistribution(high=200, low=50, step=1), 'early_stopping_tolerance': UniformDistribution(high=0.001, low=1e-05), 'max_rounds': IntUniformDistribution(high=20000, low=5000, step=1), 'min_samples_leaf': IntUniformDistribution(high=5, low=2, step=1), 'max_leaves': IntUniformDistribution(high=5, low=2, step=1)}, user_attrs={}, system_attrs={}, intermediate_values={}, trial_id=154, state=TrialState.COMPLETE, value=None),\n",
       " FrozenTrial(number=155, values=[12.09654436147577], datetime_start=datetime.datetime(2023, 2, 21, 20, 44, 0, 832631), datetime_complete=datetime.datetime(2023, 2, 21, 20, 44, 5, 291810), params={'learning_rate': 0.09627176465291454, 'validation_size': 0.1611159816064669, 'early_stopping_rounds': 103, 'early_stopping_tolerance': 9.634024410313418e-05, 'max_rounds': 10976, 'min_samples_leaf': 2, 'max_leaves': 2}, distributions={'learning_rate': UniformDistribution(high=0.1, low=0.01), 'validation_size': UniformDistribution(high=0.2, low=0.15), 'early_stopping_rounds': IntUniformDistribution(high=200, low=50, step=1), 'early_stopping_tolerance': UniformDistribution(high=0.001, low=1e-05), 'max_rounds': IntUniformDistribution(high=20000, low=5000, step=1), 'min_samples_leaf': IntUniformDistribution(high=5, low=2, step=1), 'max_leaves': IntUniformDistribution(high=5, low=2, step=1)}, user_attrs={}, system_attrs={}, intermediate_values={}, trial_id=155, state=TrialState.COMPLETE, value=None),\n",
       " FrozenTrial(number=156, values=[12.152696595794366], datetime_start=datetime.datetime(2023, 2, 21, 20, 44, 1, 253964), datetime_complete=datetime.datetime(2023, 2, 21, 20, 44, 5, 587835), params={'learning_rate': 0.09603434705143572, 'validation_size': 0.16144441497268805, 'early_stopping_rounds': 101, 'early_stopping_tolerance': 4.673560997619731e-05, 'max_rounds': 11010, 'min_samples_leaf': 2, 'max_leaves': 2}, distributions={'learning_rate': UniformDistribution(high=0.1, low=0.01), 'validation_size': UniformDistribution(high=0.2, low=0.15), 'early_stopping_rounds': IntUniformDistribution(high=200, low=50, step=1), 'early_stopping_tolerance': UniformDistribution(high=0.001, low=1e-05), 'max_rounds': IntUniformDistribution(high=20000, low=5000, step=1), 'min_samples_leaf': IntUniformDistribution(high=5, low=2, step=1), 'max_leaves': IntUniformDistribution(high=5, low=2, step=1)}, user_attrs={}, system_attrs={}, intermediate_values={}, trial_id=156, state=TrialState.COMPLETE, value=None),\n",
       " FrozenTrial(number=157, values=[12.058876369813001], datetime_start=datetime.datetime(2023, 2, 21, 20, 44, 2, 392553), datetime_complete=datetime.datetime(2023, 2, 21, 20, 44, 6, 136105), params={'learning_rate': 0.09629328476614298, 'validation_size': 0.16049091457731116, 'early_stopping_rounds': 99, 'early_stopping_tolerance': 4.87756901176855e-05, 'max_rounds': 11010, 'min_samples_leaf': 2, 'max_leaves': 2}, distributions={'learning_rate': UniformDistribution(high=0.1, low=0.01), 'validation_size': UniformDistribution(high=0.2, low=0.15), 'early_stopping_rounds': IntUniformDistribution(high=200, low=50, step=1), 'early_stopping_tolerance': UniformDistribution(high=0.001, low=1e-05), 'max_rounds': IntUniformDistribution(high=20000, low=5000, step=1), 'min_samples_leaf': IntUniformDistribution(high=5, low=2, step=1), 'max_leaves': IntUniformDistribution(high=5, low=2, step=1)}, user_attrs={}, system_attrs={}, intermediate_values={}, trial_id=157, state=TrialState.COMPLETE, value=None),\n",
       " FrozenTrial(number=158, values=[12.10732125566781], datetime_start=datetime.datetime(2023, 2, 21, 20, 44, 2, 672644), datetime_complete=datetime.datetime(2023, 2, 21, 20, 44, 6, 541281), params={'learning_rate': 0.09591594619569899, 'validation_size': 0.16059576344098572, 'early_stopping_rounds': 101, 'early_stopping_tolerance': 8.997882722946209e-05, 'max_rounds': 10970, 'min_samples_leaf': 2, 'max_leaves': 2}, distributions={'learning_rate': UniformDistribution(high=0.1, low=0.01), 'validation_size': UniformDistribution(high=0.2, low=0.15), 'early_stopping_rounds': IntUniformDistribution(high=200, low=50, step=1), 'early_stopping_tolerance': UniformDistribution(high=0.001, low=1e-05), 'max_rounds': IntUniformDistribution(high=20000, low=5000, step=1), 'min_samples_leaf': IntUniformDistribution(high=5, low=2, step=1), 'max_leaves': IntUniformDistribution(high=5, low=2, step=1)}, user_attrs={}, system_attrs={}, intermediate_values={}, trial_id=158, state=TrialState.COMPLETE, value=None),\n",
       " FrozenTrial(number=159, values=[12.192891003603728], datetime_start=datetime.datetime(2023, 2, 21, 20, 44, 3, 61858), datetime_complete=datetime.datetime(2023, 2, 21, 20, 44, 7, 47866), params={'learning_rate': 0.09613054120776111, 'validation_size': 0.16308786264631878, 'early_stopping_rounds': 101, 'early_stopping_tolerance': 0.00010192781908182399, 'max_rounds': 10060, 'min_samples_leaf': 2, 'max_leaves': 2}, distributions={'learning_rate': UniformDistribution(high=0.1, low=0.01), 'validation_size': UniformDistribution(high=0.2, low=0.15), 'early_stopping_rounds': IntUniformDistribution(high=200, low=50, step=1), 'early_stopping_tolerance': UniformDistribution(high=0.001, low=1e-05), 'max_rounds': IntUniformDistribution(high=20000, low=5000, step=1), 'min_samples_leaf': IntUniformDistribution(high=5, low=2, step=1), 'max_leaves': IntUniformDistribution(high=5, low=2, step=1)}, user_attrs={}, system_attrs={}, intermediate_values={}, trial_id=159, state=TrialState.COMPLETE, value=None),\n",
       " FrozenTrial(number=160, values=[11.849362441088813], datetime_start=datetime.datetime(2023, 2, 21, 20, 44, 3, 441000), datetime_complete=datetime.datetime(2023, 2, 21, 20, 44, 7, 288105), params={'learning_rate': 0.09491523623702182, 'validation_size': 0.1628110091877366, 'early_stopping_rounds': 98, 'early_stopping_tolerance': 9.253555880343944e-05, 'max_rounds': 9967, 'min_samples_leaf': 2, 'max_leaves': 2}, distributions={'learning_rate': UniformDistribution(high=0.1, low=0.01), 'validation_size': UniformDistribution(high=0.2, low=0.15), 'early_stopping_rounds': IntUniformDistribution(high=200, low=50, step=1), 'early_stopping_tolerance': UniformDistribution(high=0.001, low=1e-05), 'max_rounds': IntUniformDistribution(high=20000, low=5000, step=1), 'min_samples_leaf': IntUniformDistribution(high=5, low=2, step=1), 'max_leaves': IntUniformDistribution(high=5, low=2, step=1)}, user_attrs={}, system_attrs={}, intermediate_values={}, trial_id=160, state=TrialState.COMPLETE, value=None),\n",
       " FrozenTrial(number=161, values=[12.527492728043123], datetime_start=datetime.datetime(2023, 2, 21, 20, 44, 4, 132019), datetime_complete=datetime.datetime(2023, 2, 21, 20, 44, 7, 898139), params={'learning_rate': 0.09484436794717788, 'validation_size': 0.16660480341609252, 'early_stopping_rounds': 111, 'early_stopping_tolerance': 0.00010075564429455047, 'max_rounds': 10106, 'min_samples_leaf': 2, 'max_leaves': 2}, distributions={'learning_rate': UniformDistribution(high=0.1, low=0.01), 'validation_size': UniformDistribution(high=0.2, low=0.15), 'early_stopping_rounds': IntUniformDistribution(high=200, low=50, step=1), 'early_stopping_tolerance': UniformDistribution(high=0.001, low=1e-05), 'max_rounds': IntUniformDistribution(high=20000, low=5000, step=1), 'min_samples_leaf': IntUniformDistribution(high=5, low=2, step=1), 'max_leaves': IntUniformDistribution(high=5, low=2, step=1)}, user_attrs={}, system_attrs={}, intermediate_values={}, trial_id=161, state=TrialState.COMPLETE, value=None),\n",
       " FrozenTrial(number=162, values=[12.212157917431384], datetime_start=datetime.datetime(2023, 2, 21, 20, 44, 4, 670619), datetime_complete=datetime.datetime(2023, 2, 21, 20, 44, 8, 888458), params={'learning_rate': 0.09502668370308423, 'validation_size': 0.16318345169240828, 'early_stopping_rounds': 101, 'early_stopping_tolerance': 3.618316367632479e-05, 'max_rounds': 9121, 'min_samples_leaf': 2, 'max_leaves': 2}, distributions={'learning_rate': UniformDistribution(high=0.1, low=0.01), 'validation_size': UniformDistribution(high=0.2, low=0.15), 'early_stopping_rounds': IntUniformDistribution(high=200, low=50, step=1), 'early_stopping_tolerance': UniformDistribution(high=0.001, low=1e-05), 'max_rounds': IntUniformDistribution(high=20000, low=5000, step=1), 'min_samples_leaf': IntUniformDistribution(high=5, low=2, step=1), 'max_leaves': IntUniformDistribution(high=5, low=2, step=1)}, user_attrs={}, system_attrs={}, intermediate_values={}, trial_id=162, state=TrialState.COMPLETE, value=None),\n",
       " FrozenTrial(number=163, values=[12.562861557631312], datetime_start=datetime.datetime(2023, 2, 21, 20, 44, 5, 295722), datetime_complete=datetime.datetime(2023, 2, 21, 20, 44, 9, 139290), params={'learning_rate': 0.09767595195536485, 'validation_size': 0.164502540844868, 'early_stopping_rounds': 99, 'early_stopping_tolerance': 2.155597602491518e-05, 'max_rounds': 9094, 'min_samples_leaf': 2, 'max_leaves': 2}, distributions={'learning_rate': UniformDistribution(high=0.1, low=0.01), 'validation_size': UniformDistribution(high=0.2, low=0.15), 'early_stopping_rounds': IntUniformDistribution(high=200, low=50, step=1), 'early_stopping_tolerance': UniformDistribution(high=0.001, low=1e-05), 'max_rounds': IntUniformDistribution(high=20000, low=5000, step=1), 'min_samples_leaf': IntUniformDistribution(high=5, low=2, step=1), 'max_leaves': IntUniformDistribution(high=5, low=2, step=1)}, user_attrs={}, system_attrs={}, intermediate_values={}, trial_id=163, state=TrialState.COMPLETE, value=None),\n",
       " FrozenTrial(number=164, values=[11.833636004293535], datetime_start=datetime.datetime(2023, 2, 21, 20, 44, 5, 591826), datetime_complete=datetime.datetime(2023, 2, 21, 20, 44, 8, 717451), params={'learning_rate': 0.09393743978107272, 'validation_size': 0.16299332786729573, 'early_stopping_rounds': 111, 'early_stopping_tolerance': 1.1376857110883645e-05, 'max_rounds': 10010, 'min_samples_leaf': 2, 'max_leaves': 2}, distributions={'learning_rate': UniformDistribution(high=0.1, low=0.01), 'validation_size': UniformDistribution(high=0.2, low=0.15), 'early_stopping_rounds': IntUniformDistribution(high=200, low=50, step=1), 'early_stopping_tolerance': UniformDistribution(high=0.001, low=1e-05), 'max_rounds': IntUniformDistribution(high=20000, low=5000, step=1), 'min_samples_leaf': IntUniformDistribution(high=5, low=2, step=1), 'max_leaves': IntUniformDistribution(high=5, low=2, step=1)}, user_attrs={}, system_attrs={}, intermediate_values={}, trial_id=164, state=TrialState.COMPLETE, value=None),\n",
       " FrozenTrial(number=165, values=[11.821053255219557], datetime_start=datetime.datetime(2023, 2, 21, 20, 44, 6, 141879), datetime_complete=datetime.datetime(2023, 2, 21, 20, 44, 9, 941175), params={'learning_rate': 0.09442074221700346, 'validation_size': 0.1594189496741251, 'early_stopping_rounds': 111, 'early_stopping_tolerance': 2.214714871785337e-05, 'max_rounds': 10016, 'min_samples_leaf': 2, 'max_leaves': 2}, distributions={'learning_rate': UniformDistribution(high=0.1, low=0.01), 'validation_size': UniformDistribution(high=0.2, low=0.15), 'early_stopping_rounds': IntUniformDistribution(high=200, low=50, step=1), 'early_stopping_tolerance': UniformDistribution(high=0.001, low=1e-05), 'max_rounds': IntUniformDistribution(high=20000, low=5000, step=1), 'min_samples_leaf': IntUniformDistribution(high=5, low=2, step=1), 'max_leaves': IntUniformDistribution(high=5, low=2, step=1)}, user_attrs={}, system_attrs={}, intermediate_values={}, trial_id=165, state=TrialState.COMPLETE, value=None),\n",
       " FrozenTrial(number=166, values=[12.437678813564245], datetime_start=datetime.datetime(2023, 2, 21, 20, 44, 6, 544982), datetime_complete=datetime.datetime(2023, 2, 21, 20, 44, 10, 764605), params={'learning_rate': 0.09453962194319851, 'validation_size': 0.1644119924770239, 'early_stopping_rounds': 110, 'early_stopping_tolerance': 2.582413233976467e-05, 'max_rounds': 10086, 'min_samples_leaf': 2, 'max_leaves': 2}, distributions={'learning_rate': UniformDistribution(high=0.1, low=0.01), 'validation_size': UniformDistribution(high=0.2, low=0.15), 'early_stopping_rounds': IntUniformDistribution(high=200, low=50, step=1), 'early_stopping_tolerance': UniformDistribution(high=0.001, low=1e-05), 'max_rounds': IntUniformDistribution(high=20000, low=5000, step=1), 'min_samples_leaf': IntUniformDistribution(high=5, low=2, step=1), 'max_leaves': IntUniformDistribution(high=5, low=2, step=1)}, user_attrs={}, system_attrs={}, intermediate_values={}, trial_id=166, state=TrialState.COMPLETE, value=None),\n",
       " FrozenTrial(number=167, values=[12.746069950946572], datetime_start=datetime.datetime(2023, 2, 21, 20, 44, 7, 54747), datetime_complete=datetime.datetime(2023, 2, 21, 20, 44, 11, 41756), params={'learning_rate': 0.09453127040077729, 'validation_size': 0.16507715145929877, 'early_stopping_rounds': 96, 'early_stopping_tolerance': 7.262908197079423e-05, 'max_rounds': 9099, 'min_samples_leaf': 2, 'max_leaves': 2}, distributions={'learning_rate': UniformDistribution(high=0.1, low=0.01), 'validation_size': UniformDistribution(high=0.2, low=0.15), 'early_stopping_rounds': IntUniformDistribution(high=200, low=50, step=1), 'early_stopping_tolerance': UniformDistribution(high=0.001, low=1e-05), 'max_rounds': IntUniformDistribution(high=20000, low=5000, step=1), 'min_samples_leaf': IntUniformDistribution(high=5, low=2, step=1), 'max_leaves': IntUniformDistribution(high=5, low=2, step=1)}, user_attrs={}, system_attrs={}, intermediate_values={}, trial_id=167, state=TrialState.COMPLETE, value=None),\n",
       " FrozenTrial(number=168, values=[11.851176752881935], datetime_start=datetime.datetime(2023, 2, 21, 20, 44, 7, 292854), datetime_complete=datetime.datetime(2023, 2, 21, 20, 44, 11, 154506), params={'learning_rate': 0.09954200920808035, 'validation_size': 0.16549745075933933, 'early_stopping_rounds': 143, 'early_stopping_tolerance': 7.892474474390941e-05, 'max_rounds': 8862, 'min_samples_leaf': 2, 'max_leaves': 2}, distributions={'learning_rate': UniformDistribution(high=0.1, low=0.01), 'validation_size': UniformDistribution(high=0.2, low=0.15), 'early_stopping_rounds': IntUniformDistribution(high=200, low=50, step=1), 'early_stopping_tolerance': UniformDistribution(high=0.001, low=1e-05), 'max_rounds': IntUniformDistribution(high=20000, low=5000, step=1), 'min_samples_leaf': IntUniformDistribution(high=5, low=2, step=1), 'max_leaves': IntUniformDistribution(high=5, low=2, step=1)}, user_attrs={}, system_attrs={}, intermediate_values={}, trial_id=168, state=TrialState.COMPLETE, value=None),\n",
       " FrozenTrial(number=169, values=[11.831029561191741], datetime_start=datetime.datetime(2023, 2, 21, 20, 44, 7, 901885), datetime_complete=datetime.datetime(2023, 2, 21, 20, 44, 11, 570360), params={'learning_rate': 0.09995920827550693, 'validation_size': 0.16522151138751687, 'early_stopping_rounds': 108, 'early_stopping_tolerance': 2.7543976718318742e-05, 'max_rounds': 9139, 'min_samples_leaf': 2, 'max_leaves': 2}, distributions={'learning_rate': UniformDistribution(high=0.1, low=0.01), 'validation_size': UniformDistribution(high=0.2, low=0.15), 'early_stopping_rounds': IntUniformDistribution(high=200, low=50, step=1), 'early_stopping_tolerance': UniformDistribution(high=0.001, low=1e-05), 'max_rounds': IntUniformDistribution(high=20000, low=5000, step=1), 'min_samples_leaf': IntUniformDistribution(high=5, low=2, step=1), 'max_leaves': IntUniformDistribution(high=5, low=2, step=1)}, user_attrs={}, system_attrs={}, intermediate_values={}, trial_id=169, state=TrialState.COMPLETE, value=None),\n",
       " FrozenTrial(number=170, values=[17.470099072642643], datetime_start=datetime.datetime(2023, 2, 21, 20, 44, 8, 750595), datetime_complete=datetime.datetime(2023, 2, 21, 20, 44, 11, 161592), params={'learning_rate': 0.09810137764465977, 'validation_size': 0.15957071852153068, 'early_stopping_rounds': 117, 'early_stopping_tolerance': 0.00015259135301906837, 'max_rounds': 9173, 'min_samples_leaf': 4, 'max_leaves': 2}, distributions={'learning_rate': UniformDistribution(high=0.1, low=0.01), 'validation_size': UniformDistribution(high=0.2, low=0.15), 'early_stopping_rounds': IntUniformDistribution(high=200, low=50, step=1), 'early_stopping_tolerance': UniformDistribution(high=0.001, low=1e-05), 'max_rounds': IntUniformDistribution(high=20000, low=5000, step=1), 'min_samples_leaf': IntUniformDistribution(high=5, low=2, step=1), 'max_leaves': IntUniformDistribution(high=5, low=2, step=1)}, user_attrs={}, system_attrs={}, intermediate_values={}, trial_id=170, state=TrialState.COMPLETE, value=None),\n",
       " FrozenTrial(number=171, values=[11.900029974111064], datetime_start=datetime.datetime(2023, 2, 21, 20, 44, 8, 892335), datetime_complete=datetime.datetime(2023, 2, 21, 20, 44, 11, 856650), params={'learning_rate': 0.09836365916067796, 'validation_size': 0.1655235994418298, 'early_stopping_rounds': 116, 'early_stopping_tolerance': 0.00015467109276541392, 'max_rounds': 8844, 'min_samples_leaf': 2, 'max_leaves': 2}, distributions={'learning_rate': UniformDistribution(high=0.1, low=0.01), 'validation_size': UniformDistribution(high=0.2, low=0.15), 'early_stopping_rounds': IntUniformDistribution(high=200, low=50, step=1), 'early_stopping_tolerance': UniformDistribution(high=0.001, low=1e-05), 'max_rounds': IntUniformDistribution(high=20000, low=5000, step=1), 'min_samples_leaf': IntUniformDistribution(high=5, low=2, step=1), 'max_leaves': IntUniformDistribution(high=5, low=2, step=1)}, user_attrs={}, system_attrs={}, intermediate_values={}, trial_id=171, state=TrialState.COMPLETE, value=None),\n",
       " FrozenTrial(number=172, values=[12.262814091090172], datetime_start=datetime.datetime(2023, 2, 21, 20, 44, 9, 144848), datetime_complete=datetime.datetime(2023, 2, 21, 20, 44, 13, 307027), params={'learning_rate': 0.09996399423793952, 'validation_size': 0.17538877151323187, 'early_stopping_rounds': 143, 'early_stopping_tolerance': 1.3866366648033053e-05, 'max_rounds': 14639, 'min_samples_leaf': 2, 'max_leaves': 2}, distributions={'learning_rate': UniformDistribution(high=0.1, low=0.01), 'validation_size': UniformDistribution(high=0.2, low=0.15), 'early_stopping_rounds': IntUniformDistribution(high=200, low=50, step=1), 'early_stopping_tolerance': UniformDistribution(high=0.001, low=1e-05), 'max_rounds': IntUniformDistribution(high=20000, low=5000, step=1), 'min_samples_leaf': IntUniformDistribution(high=5, low=2, step=1), 'max_leaves': IntUniformDistribution(high=5, low=2, step=1)}, user_attrs={}, system_attrs={}, intermediate_values={}, trial_id=172, state=TrialState.COMPLETE, value=None),\n",
       " FrozenTrial(number=173, values=[17.503613590368158], datetime_start=datetime.datetime(2023, 2, 21, 20, 44, 9, 944748), datetime_complete=datetime.datetime(2023, 2, 21, 20, 44, 12, 293180), params={'learning_rate': 0.09803122224759524, 'validation_size': 0.1595004547561454, 'early_stopping_rounds': 116, 'early_stopping_tolerance': 1.5296321027210874e-05, 'max_rounds': 9641, 'min_samples_leaf': 4, 'max_leaves': 2}, distributions={'learning_rate': UniformDistribution(high=0.1, low=0.01), 'validation_size': UniformDistribution(high=0.2, low=0.15), 'early_stopping_rounds': IntUniformDistribution(high=200, low=50, step=1), 'early_stopping_tolerance': UniformDistribution(high=0.001, low=1e-05), 'max_rounds': IntUniformDistribution(high=20000, low=5000, step=1), 'min_samples_leaf': IntUniformDistribution(high=5, low=2, step=1), 'max_leaves': IntUniformDistribution(high=5, low=2, step=1)}, user_attrs={}, system_attrs={}, intermediate_values={}, trial_id=173, state=TrialState.COMPLETE, value=None),\n",
       " FrozenTrial(number=174, values=[11.798096787274087], datetime_start=datetime.datetime(2023, 2, 21, 20, 44, 10, 770696), datetime_complete=datetime.datetime(2023, 2, 21, 20, 44, 14, 242235), params={'learning_rate': 0.0982689651704654, 'validation_size': 0.16205567937242357, 'early_stopping_rounds': 117, 'early_stopping_tolerance': 6.843650854933808e-05, 'max_rounds': 14622, 'min_samples_leaf': 2, 'max_leaves': 2}, distributions={'learning_rate': UniformDistribution(high=0.1, low=0.01), 'validation_size': UniformDistribution(high=0.2, low=0.15), 'early_stopping_rounds': IntUniformDistribution(high=200, low=50, step=1), 'early_stopping_tolerance': UniformDistribution(high=0.001, low=1e-05), 'max_rounds': IntUniformDistribution(high=20000, low=5000, step=1), 'min_samples_leaf': IntUniformDistribution(high=5, low=2, step=1), 'max_leaves': IntUniformDistribution(high=5, low=2, step=1)}, user_attrs={}, system_attrs={}, intermediate_values={}, trial_id=174, state=TrialState.COMPLETE, value=None),\n",
       " FrozenTrial(number=175, values=[11.764734891034863], datetime_start=datetime.datetime(2023, 2, 21, 20, 44, 11, 47570), datetime_complete=datetime.datetime(2023, 2, 21, 20, 44, 14, 312757), params={'learning_rate': 0.09989028326869745, 'validation_size': 0.15924880160529756, 'early_stopping_rounds': 117, 'early_stopping_tolerance': 0.00015762707328733863, 'max_rounds': 8645, 'min_samples_leaf': 2, 'max_leaves': 2}, distributions={'learning_rate': UniformDistribution(high=0.1, low=0.01), 'validation_size': UniformDistribution(high=0.2, low=0.15), 'early_stopping_rounds': IntUniformDistribution(high=200, low=50, step=1), 'early_stopping_tolerance': UniformDistribution(high=0.001, low=1e-05), 'max_rounds': IntUniformDistribution(high=20000, low=5000, step=1), 'min_samples_leaf': IntUniformDistribution(high=5, low=2, step=1), 'max_leaves': IntUniformDistribution(high=5, low=2, step=1)}, user_attrs={}, system_attrs={}, intermediate_values={}, trial_id=175, state=TrialState.COMPLETE, value=None),\n",
       " FrozenTrial(number=176, values=[11.86824226440322], datetime_start=datetime.datetime(2023, 2, 21, 20, 44, 11, 167233), datetime_complete=datetime.datetime(2023, 2, 21, 20, 44, 15, 440069), params={'learning_rate': 0.09798195562214936, 'validation_size': 0.15728678676284577, 'early_stopping_rounds': 115, 'early_stopping_tolerance': 1.02229322632718e-05, 'max_rounds': 9590, 'min_samples_leaf': 2, 'max_leaves': 2}, distributions={'learning_rate': UniformDistribution(high=0.1, low=0.01), 'validation_size': UniformDistribution(high=0.2, low=0.15), 'early_stopping_rounds': IntUniformDistribution(high=200, low=50, step=1), 'early_stopping_tolerance': UniformDistribution(high=0.001, low=1e-05), 'max_rounds': IntUniformDistribution(high=20000, low=5000, step=1), 'min_samples_leaf': IntUniformDistribution(high=5, low=2, step=1), 'max_leaves': IntUniformDistribution(high=5, low=2, step=1)}, user_attrs={}, system_attrs={}, intermediate_values={}, trial_id=176, state=TrialState.COMPLETE, value=None),\n",
       " FrozenTrial(number=177, values=[15.268815100320287], datetime_start=datetime.datetime(2023, 2, 21, 20, 44, 11, 175040), datetime_complete=datetime.datetime(2023, 2, 21, 20, 44, 13, 720436), params={'learning_rate': 0.019580792265862443, 'validation_size': 0.16208012464946966, 'early_stopping_rounds': 113, 'early_stopping_tolerance': 0.00015705882449278854, 'max_rounds': 8460, 'min_samples_leaf': 2, 'max_leaves': 2}, distributions={'learning_rate': UniformDistribution(high=0.1, low=0.01), 'validation_size': UniformDistribution(high=0.2, low=0.15), 'early_stopping_rounds': IntUniformDistribution(high=200, low=50, step=1), 'early_stopping_tolerance': UniformDistribution(high=0.001, low=1e-05), 'max_rounds': IntUniformDistribution(high=20000, low=5000, step=1), 'min_samples_leaf': IntUniformDistribution(high=5, low=2, step=1), 'max_leaves': IntUniformDistribution(high=5, low=2, step=1)}, user_attrs={}, system_attrs={}, intermediate_values={}, trial_id=177, state=TrialState.COMPLETE, value=None),\n",
       " FrozenTrial(number=178, values=[12.562823529544147], datetime_start=datetime.datetime(2023, 2, 21, 20, 44, 11, 575553), datetime_complete=datetime.datetime(2023, 2, 21, 20, 44, 15, 842644), params={'learning_rate': 0.09787285988154515, 'validation_size': 0.1755796422706337, 'early_stopping_rounds': 117, 'early_stopping_tolerance': 1.2919446370093817e-05, 'max_rounds': 8241, 'min_samples_leaf': 2, 'max_leaves': 2}, distributions={'learning_rate': UniformDistribution(high=0.1, low=0.01), 'validation_size': UniformDistribution(high=0.2, low=0.15), 'early_stopping_rounds': IntUniformDistribution(high=200, low=50, step=1), 'early_stopping_tolerance': UniformDistribution(high=0.001, low=1e-05), 'max_rounds': IntUniformDistribution(high=20000, low=5000, step=1), 'min_samples_leaf': IntUniformDistribution(high=5, low=2, step=1), 'max_leaves': IntUniformDistribution(high=5, low=2, step=1)}, user_attrs={}, system_attrs={}, intermediate_values={}, trial_id=178, state=TrialState.COMPLETE, value=None),\n",
       " FrozenTrial(number=179, values=[11.770028334142259], datetime_start=datetime.datetime(2023, 2, 21, 20, 44, 11, 861420), datetime_complete=datetime.datetime(2023, 2, 21, 20, 44, 16, 235932), params={'learning_rate': 0.099709460645588, 'validation_size': 0.15915366319773616, 'early_stopping_rounds': 105, 'early_stopping_tolerance': 1.4999822622304768e-05, 'max_rounds': 9615, 'min_samples_leaf': 2, 'max_leaves': 2}, distributions={'learning_rate': UniformDistribution(high=0.1, low=0.01), 'validation_size': UniformDistribution(high=0.2, low=0.15), 'early_stopping_rounds': IntUniformDistribution(high=200, low=50, step=1), 'early_stopping_tolerance': UniformDistribution(high=0.001, low=1e-05), 'max_rounds': IntUniformDistribution(high=20000, low=5000, step=1), 'min_samples_leaf': IntUniformDistribution(high=5, low=2, step=1), 'max_leaves': IntUniformDistribution(high=5, low=2, step=1)}, user_attrs={}, system_attrs={}, intermediate_values={}, trial_id=179, state=TrialState.COMPLETE, value=None),\n",
       " FrozenTrial(number=180, values=[11.888034194869046], datetime_start=datetime.datetime(2023, 2, 21, 20, 44, 12, 298807), datetime_complete=datetime.datetime(2023, 2, 21, 20, 44, 16, 231187), params={'learning_rate': 0.09985873224430743, 'validation_size': 0.16208010187724217, 'early_stopping_rounds': 105, 'early_stopping_tolerance': 7.031043742718009e-05, 'max_rounds': 14527, 'min_samples_leaf': 2, 'max_leaves': 2}, distributions={'learning_rate': UniformDistribution(high=0.1, low=0.01), 'validation_size': UniformDistribution(high=0.2, low=0.15), 'early_stopping_rounds': IntUniformDistribution(high=200, low=50, step=1), 'early_stopping_tolerance': UniformDistribution(high=0.001, low=1e-05), 'max_rounds': IntUniformDistribution(high=20000, low=5000, step=1), 'min_samples_leaf': IntUniformDistribution(high=5, low=2, step=1), 'max_leaves': IntUniformDistribution(high=5, low=2, step=1)}, user_attrs={}, system_attrs={}, intermediate_values={}, trial_id=180, state=TrialState.COMPLETE, value=None),\n",
       " FrozenTrial(number=181, values=[11.769802735658628], datetime_start=datetime.datetime(2023, 2, 21, 20, 44, 13, 310465), datetime_complete=datetime.datetime(2023, 2, 21, 20, 44, 17, 206276), params={'learning_rate': 0.09754213920428559, 'validation_size': 0.16180838988825136, 'early_stopping_rounds': 105, 'early_stopping_tolerance': 6.78878736193018e-05, 'max_rounds': 10348, 'min_samples_leaf': 2, 'max_leaves': 2}, distributions={'learning_rate': UniformDistribution(high=0.1, low=0.01), 'validation_size': UniformDistribution(high=0.2, low=0.15), 'early_stopping_rounds': IntUniformDistribution(high=200, low=50, step=1), 'early_stopping_tolerance': UniformDistribution(high=0.001, low=1e-05), 'max_rounds': IntUniformDistribution(high=20000, low=5000, step=1), 'min_samples_leaf': IntUniformDistribution(high=5, low=2, step=1), 'max_leaves': IntUniformDistribution(high=5, low=2, step=1)}, user_attrs={}, system_attrs={}, intermediate_values={}, trial_id=181, state=TrialState.COMPLETE, value=None),\n",
       " FrozenTrial(number=182, values=[12.020825517121844], datetime_start=datetime.datetime(2023, 2, 21, 20, 44, 13, 724050), datetime_complete=datetime.datetime(2023, 2, 21, 20, 44, 17, 439812), params={'learning_rate': 0.09358152490814434, 'validation_size': 0.15696614942524087, 'early_stopping_rounds': 106, 'early_stopping_tolerance': 6.261294338907728e-05, 'max_rounds': 10324, 'min_samples_leaf': 2, 'max_leaves': 2}, distributions={'learning_rate': UniformDistribution(high=0.1, low=0.01), 'validation_size': UniformDistribution(high=0.2, low=0.15), 'early_stopping_rounds': IntUniformDistribution(high=200, low=50, step=1), 'early_stopping_tolerance': UniformDistribution(high=0.001, low=1e-05), 'max_rounds': IntUniformDistribution(high=20000, low=5000, step=1), 'min_samples_leaf': IntUniformDistribution(high=5, low=2, step=1), 'max_leaves': IntUniformDistribution(high=5, low=2, step=1)}, user_attrs={}, system_attrs={}, intermediate_values={}, trial_id=182, state=TrialState.COMPLETE, value=None),\n",
       " FrozenTrial(number=183, values=[11.834319094658186], datetime_start=datetime.datetime(2023, 2, 21, 20, 44, 14, 250573), datetime_complete=datetime.datetime(2023, 2, 21, 20, 44, 17, 545626), params={'learning_rate': 0.09349365247731552, 'validation_size': 0.16186454992673507, 'early_stopping_rounds': 105, 'early_stopping_tolerance': 6.140957852897721e-05, 'max_rounds': 16157, 'min_samples_leaf': 2, 'max_leaves': 2}, distributions={'learning_rate': UniformDistribution(high=0.1, low=0.01), 'validation_size': UniformDistribution(high=0.2, low=0.15), 'early_stopping_rounds': IntUniformDistribution(high=200, low=50, step=1), 'early_stopping_tolerance': UniformDistribution(high=0.001, low=1e-05), 'max_rounds': IntUniformDistribution(high=20000, low=5000, step=1), 'min_samples_leaf': IntUniformDistribution(high=5, low=2, step=1), 'max_leaves': IntUniformDistribution(high=5, low=2, step=1)}, user_attrs={}, system_attrs={}, intermediate_values={}, trial_id=183, state=TrialState.COMPLETE, value=None),\n",
       " FrozenTrial(number=184, values=[12.378529019680915], datetime_start=datetime.datetime(2023, 2, 21, 20, 44, 14, 326312), datetime_complete=datetime.datetime(2023, 2, 21, 20, 44, 17, 836920), params={'learning_rate': 0.09371772711037558, 'validation_size': 0.16153132880730395, 'early_stopping_rounds': 120, 'early_stopping_tolerance': 6.617132430950598e-05, 'max_rounds': 8278, 'min_samples_leaf': 2, 'max_leaves': 2}, distributions={'learning_rate': UniformDistribution(high=0.1, low=0.01), 'validation_size': UniformDistribution(high=0.2, low=0.15), 'early_stopping_rounds': IntUniformDistribution(high=200, low=50, step=1), 'early_stopping_tolerance': UniformDistribution(high=0.001, low=1e-05), 'max_rounds': IntUniformDistribution(high=20000, low=5000, step=1), 'min_samples_leaf': IntUniformDistribution(high=5, low=2, step=1), 'max_leaves': IntUniformDistribution(high=5, low=2, step=1)}, user_attrs={}, system_attrs={}, intermediate_values={}, trial_id=184, state=TrialState.COMPLETE, value=None),\n",
       " FrozenTrial(number=185, values=[11.958220049979403], datetime_start=datetime.datetime(2023, 2, 21, 20, 44, 15, 443860), datetime_complete=datetime.datetime(2023, 2, 21, 20, 44, 18, 870318), params={'learning_rate': 0.09398611102983725, 'validation_size': 0.16173252789992132, 'early_stopping_rounds': 106, 'early_stopping_tolerance': 6.410875889203662e-05, 'max_rounds': 13413, 'min_samples_leaf': 2, 'max_leaves': 2}, distributions={'learning_rate': UniformDistribution(high=0.1, low=0.01), 'validation_size': UniformDistribution(high=0.2, low=0.15), 'early_stopping_rounds': IntUniformDistribution(high=200, low=50, step=1), 'early_stopping_tolerance': UniformDistribution(high=0.001, low=1e-05), 'max_rounds': IntUniformDistribution(high=20000, low=5000, step=1), 'min_samples_leaf': IntUniformDistribution(high=5, low=2, step=1), 'max_leaves': IntUniformDistribution(high=5, low=2, step=1)}, user_attrs={}, system_attrs={}, intermediate_values={}, trial_id=185, state=TrialState.COMPLETE, value=None),\n",
       " FrozenTrial(number=186, values=[12.458615984938199], datetime_start=datetime.datetime(2023, 2, 21, 20, 44, 15, 849730), datetime_complete=datetime.datetime(2023, 2, 21, 20, 44, 19, 385651), params={'learning_rate': 0.09350142297357403, 'validation_size': 0.16196302234841162, 'early_stopping_rounds': 106, 'early_stopping_tolerance': 6.356372881150275e-05, 'max_rounds': 16367, 'min_samples_leaf': 2, 'max_leaves': 2}, distributions={'learning_rate': UniformDistribution(high=0.1, low=0.01), 'validation_size': UniformDistribution(high=0.2, low=0.15), 'early_stopping_rounds': IntUniformDistribution(high=200, low=50, step=1), 'early_stopping_tolerance': UniformDistribution(high=0.001, low=1e-05), 'max_rounds': IntUniformDistribution(high=20000, low=5000, step=1), 'min_samples_leaf': IntUniformDistribution(high=5, low=2, step=1), 'max_leaves': IntUniformDistribution(high=5, low=2, step=1)}, user_attrs={}, system_attrs={}, intermediate_values={}, trial_id=186, state=TrialState.COMPLETE, value=None),\n",
       " FrozenTrial(number=187, values=[12.571780460131697], datetime_start=datetime.datetime(2023, 2, 21, 20, 44, 16, 240973), datetime_complete=datetime.datetime(2023, 2, 21, 20, 44, 20, 222003), params={'learning_rate': 0.0941490051818676, 'validation_size': 0.16361591427475977, 'early_stopping_rounds': 107, 'early_stopping_tolerance': 3.499644237760093e-05, 'max_rounds': 16183, 'min_samples_leaf': 2, 'max_leaves': 2}, distributions={'learning_rate': UniformDistribution(high=0.1, low=0.01), 'validation_size': UniformDistribution(high=0.2, low=0.15), 'early_stopping_rounds': IntUniformDistribution(high=200, low=50, step=1), 'early_stopping_tolerance': UniformDistribution(high=0.001, low=1e-05), 'max_rounds': IntUniformDistribution(high=20000, low=5000, step=1), 'min_samples_leaf': IntUniformDistribution(high=5, low=2, step=1), 'max_leaves': IntUniformDistribution(high=5, low=2, step=1)}, user_attrs={}, system_attrs={}, intermediate_values={}, trial_id=187, state=TrialState.COMPLETE, value=None),\n",
       " FrozenTrial(number=188, values=[11.78972375888937], datetime_start=datetime.datetime(2023, 2, 21, 20, 44, 16, 273500), datetime_complete=datetime.datetime(2023, 2, 21, 20, 44, 19, 910221), params={'learning_rate': 0.09992901412383513, 'validation_size': 0.15895540202410374, 'early_stopping_rounds': 106, 'early_stopping_tolerance': 4.364949553125846e-05, 'max_rounds': 10366, 'min_samples_leaf': 2, 'max_leaves': 2}, distributions={'learning_rate': UniformDistribution(high=0.1, low=0.01), 'validation_size': UniformDistribution(high=0.2, low=0.15), 'early_stopping_rounds': IntUniformDistribution(high=200, low=50, step=1), 'early_stopping_tolerance': UniformDistribution(high=0.001, low=1e-05), 'max_rounds': IntUniformDistribution(high=20000, low=5000, step=1), 'min_samples_leaf': IntUniformDistribution(high=5, low=2, step=1), 'max_leaves': IntUniformDistribution(high=5, low=2, step=1)}, user_attrs={}, system_attrs={}, intermediate_values={}, trial_id=188, state=TrialState.COMPLETE, value=None),\n",
       " FrozenTrial(number=189, values=[11.96547383451825], datetime_start=datetime.datetime(2023, 2, 21, 20, 44, 17, 209801), datetime_complete=datetime.datetime(2023, 2, 21, 20, 44, 20, 32385), params={'learning_rate': 0.09344101501227284, 'validation_size': 0.16144781723251167, 'early_stopping_rounds': 107, 'early_stopping_tolerance': 4.840382079162037e-05, 'max_rounds': 16324, 'min_samples_leaf': 2, 'max_leaves': 2}, distributions={'learning_rate': UniformDistribution(high=0.1, low=0.01), 'validation_size': UniformDistribution(high=0.2, low=0.15), 'early_stopping_rounds': IntUniformDistribution(high=200, low=50, step=1), 'early_stopping_tolerance': UniformDistribution(high=0.001, low=1e-05), 'max_rounds': IntUniformDistribution(high=20000, low=5000, step=1), 'min_samples_leaf': IntUniformDistribution(high=5, low=2, step=1), 'max_leaves': IntUniformDistribution(high=5, low=2, step=1)}, user_attrs={}, system_attrs={}, intermediate_values={}, trial_id=189, state=TrialState.COMPLETE, value=None),\n",
       " FrozenTrial(number=190, values=[11.808816032624451], datetime_start=datetime.datetime(2023, 2, 21, 20, 44, 17, 446630), datetime_complete=datetime.datetime(2023, 2, 21, 20, 44, 21, 29217), params={'learning_rate': 0.09987198132048213, 'validation_size': 0.15925045492710938, 'early_stopping_rounds': 108, 'early_stopping_tolerance': 0.00012613638275379467, 'max_rounds': 16275, 'min_samples_leaf': 2, 'max_leaves': 2}, distributions={'learning_rate': UniformDistribution(high=0.1, low=0.01), 'validation_size': UniformDistribution(high=0.2, low=0.15), 'early_stopping_rounds': IntUniformDistribution(high=200, low=50, step=1), 'early_stopping_tolerance': UniformDistribution(high=0.001, low=1e-05), 'max_rounds': IntUniformDistribution(high=20000, low=5000, step=1), 'min_samples_leaf': IntUniformDistribution(high=5, low=2, step=1), 'max_leaves': IntUniformDistribution(high=5, low=2, step=1)}, user_attrs={}, system_attrs={}, intermediate_values={}, trial_id=190, state=TrialState.COMPLETE, value=None),\n",
       " FrozenTrial(number=191, values=[11.826017699577152], datetime_start=datetime.datetime(2023, 2, 21, 20, 44, 17, 551379), datetime_complete=datetime.datetime(2023, 2, 21, 20, 44, 21, 429312), params={'learning_rate': 0.09993488880832681, 'validation_size': 0.15887803853128382, 'early_stopping_rounds': 109, 'early_stopping_tolerance': 4.0723890183429644e-05, 'max_rounds': 15410, 'min_samples_leaf': 2, 'max_leaves': 2}, distributions={'learning_rate': UniformDistribution(high=0.1, low=0.01), 'validation_size': UniformDistribution(high=0.2, low=0.15), 'early_stopping_rounds': IntUniformDistribution(high=200, low=50, step=1), 'early_stopping_tolerance': UniformDistribution(high=0.001, low=1e-05), 'max_rounds': IntUniformDistribution(high=20000, low=5000, step=1), 'min_samples_leaf': IntUniformDistribution(high=5, low=2, step=1), 'max_leaves': IntUniformDistribution(high=5, low=2, step=1)}, user_attrs={}, system_attrs={}, intermediate_values={}, trial_id=191, state=TrialState.COMPLETE, value=None),\n",
       " FrozenTrial(number=192, values=[12.375321791951302], datetime_start=datetime.datetime(2023, 2, 21, 20, 44, 17, 845617), datetime_complete=datetime.datetime(2023, 2, 21, 20, 44, 22, 127676), params={'learning_rate': 0.09983384961302484, 'validation_size': 0.15931486821616575, 'early_stopping_rounds': 108, 'early_stopping_tolerance': 0.00012589581684304047, 'max_rounds': 16314, 'min_samples_leaf': 2, 'max_leaves': 2}, distributions={'learning_rate': UniformDistribution(high=0.1, low=0.01), 'validation_size': UniformDistribution(high=0.2, low=0.15), 'early_stopping_rounds': IntUniformDistribution(high=200, low=50, step=1), 'early_stopping_tolerance': UniformDistribution(high=0.001, low=1e-05), 'max_rounds': IntUniformDistribution(high=20000, low=5000, step=1), 'min_samples_leaf': IntUniformDistribution(high=5, low=2, step=1), 'max_leaves': IntUniformDistribution(high=5, low=2, step=1)}, user_attrs={}, system_attrs={}, intermediate_values={}, trial_id=192, state=TrialState.COMPLETE, value=None),\n",
       " FrozenTrial(number=193, values=[11.736911264913099], datetime_start=datetime.datetime(2023, 2, 21, 20, 44, 18, 874387), datetime_complete=datetime.datetime(2023, 2, 21, 20, 44, 22, 522187), params={'learning_rate': 0.09710888664514326, 'validation_size': 0.15929085290425374, 'early_stopping_rounds': 108, 'early_stopping_tolerance': 0.00012810460676643395, 'max_rounds': 14965, 'min_samples_leaf': 2, 'max_leaves': 2}, distributions={'learning_rate': UniformDistribution(high=0.1, low=0.01), 'validation_size': UniformDistribution(high=0.2, low=0.15), 'early_stopping_rounds': IntUniformDistribution(high=200, low=50, step=1), 'early_stopping_tolerance': UniformDistribution(high=0.001, low=1e-05), 'max_rounds': IntUniformDistribution(high=20000, low=5000, step=1), 'min_samples_leaf': IntUniformDistribution(high=5, low=2, step=1), 'max_leaves': IntUniformDistribution(high=5, low=2, step=1)}, user_attrs={}, system_attrs={}, intermediate_values={}, trial_id=193, state=TrialState.COMPLETE, value=None),\n",
       " FrozenTrial(number=194, values=[11.827960484034604], datetime_start=datetime.datetime(2023, 2, 21, 20, 44, 19, 390091), datetime_complete=datetime.datetime(2023, 2, 21, 20, 44, 22, 859421), params={'learning_rate': 0.09980968439472789, 'validation_size': 0.1592279946558217, 'early_stopping_rounds': 110, 'early_stopping_tolerance': 0.0001236464315995058, 'max_rounds': 15144, 'min_samples_leaf': 2, 'max_leaves': 2}, distributions={'learning_rate': UniformDistribution(high=0.1, low=0.01), 'validation_size': UniformDistribution(high=0.2, low=0.15), 'early_stopping_rounds': IntUniformDistribution(high=200, low=50, step=1), 'early_stopping_tolerance': UniformDistribution(high=0.001, low=1e-05), 'max_rounds': IntUniformDistribution(high=20000, low=5000, step=1), 'min_samples_leaf': IntUniformDistribution(high=5, low=2, step=1), 'max_leaves': IntUniformDistribution(high=5, low=2, step=1)}, user_attrs={}, system_attrs={}, intermediate_values={}, trial_id=194, state=TrialState.COMPLETE, value=None),\n",
       " FrozenTrial(number=195, values=[12.390118547127557], datetime_start=datetime.datetime(2023, 2, 21, 20, 44, 19, 913988), datetime_complete=datetime.datetime(2023, 2, 21, 20, 44, 23, 232926), params={'learning_rate': 0.09998534446939136, 'validation_size': 0.15900545168484304, 'early_stopping_rounds': 109, 'early_stopping_tolerance': 0.00011631946820312462, 'max_rounds': 10521, 'min_samples_leaf': 2, 'max_leaves': 2}, distributions={'learning_rate': UniformDistribution(high=0.1, low=0.01), 'validation_size': UniformDistribution(high=0.2, low=0.15), 'early_stopping_rounds': IntUniformDistribution(high=200, low=50, step=1), 'early_stopping_tolerance': UniformDistribution(high=0.001, low=1e-05), 'max_rounds': IntUniformDistribution(high=20000, low=5000, step=1), 'min_samples_leaf': IntUniformDistribution(high=5, low=2, step=1), 'max_leaves': IntUniformDistribution(high=5, low=2, step=1)}, user_attrs={}, system_attrs={}, intermediate_values={}, trial_id=195, state=TrialState.COMPLETE, value=None),\n",
       " FrozenTrial(number=196, values=[11.900474834467055], datetime_start=datetime.datetime(2023, 2, 21, 20, 44, 20, 35995), datetime_complete=datetime.datetime(2023, 2, 21, 20, 44, 23, 442803), params={'learning_rate': 0.09999592215457356, 'validation_size': 0.15889720043891792, 'early_stopping_rounds': 109, 'early_stopping_tolerance': 0.00011698604664147964, 'max_rounds': 15338, 'min_samples_leaf': 2, 'max_leaves': 2}, distributions={'learning_rate': UniformDistribution(high=0.1, low=0.01), 'validation_size': UniformDistribution(high=0.2, low=0.15), 'early_stopping_rounds': IntUniformDistribution(high=200, low=50, step=1), 'early_stopping_tolerance': UniformDistribution(high=0.001, low=1e-05), 'max_rounds': IntUniformDistribution(high=20000, low=5000, step=1), 'min_samples_leaf': IntUniformDistribution(high=5, low=2, step=1), 'max_leaves': IntUniformDistribution(high=5, low=2, step=1)}, user_attrs={}, system_attrs={}, intermediate_values={}, trial_id=196, state=TrialState.COMPLETE, value=None),\n",
       " FrozenTrial(number=197, values=[11.854618322129332], datetime_start=datetime.datetime(2023, 2, 21, 20, 44, 20, 225588), datetime_complete=datetime.datetime(2023, 2, 21, 20, 44, 23, 857417), params={'learning_rate': 0.09986620452794831, 'validation_size': 0.15923337895578726, 'early_stopping_rounds': 109, 'early_stopping_tolerance': 0.00011951019862226805, 'max_rounds': 15474, 'min_samples_leaf': 2, 'max_leaves': 2}, distributions={'learning_rate': UniformDistribution(high=0.1, low=0.01), 'validation_size': UniformDistribution(high=0.2, low=0.15), 'early_stopping_rounds': IntUniformDistribution(high=200, low=50, step=1), 'early_stopping_tolerance': UniformDistribution(high=0.001, low=1e-05), 'max_rounds': IntUniformDistribution(high=20000, low=5000, step=1), 'min_samples_leaf': IntUniformDistribution(high=5, low=2, step=1), 'max_leaves': IntUniformDistribution(high=5, low=2, step=1)}, user_attrs={}, system_attrs={}, intermediate_values={}, trial_id=197, state=TrialState.COMPLETE, value=None),\n",
       " FrozenTrial(number=198, values=[11.840990220139274], datetime_start=datetime.datetime(2023, 2, 21, 20, 44, 21, 36564), datetime_complete=datetime.datetime(2023, 2, 21, 20, 44, 24, 2382), params={'learning_rate': 0.09977092181181958, 'validation_size': 0.15913209047234922, 'early_stopping_rounds': 109, 'early_stopping_tolerance': 0.00012215452353886452, 'max_rounds': 15279, 'min_samples_leaf': 2, 'max_leaves': 2}, distributions={'learning_rate': UniformDistribution(high=0.1, low=0.01), 'validation_size': UniformDistribution(high=0.2, low=0.15), 'early_stopping_rounds': IntUniformDistribution(high=200, low=50, step=1), 'early_stopping_tolerance': UniformDistribution(high=0.001, low=1e-05), 'max_rounds': IntUniformDistribution(high=20000, low=5000, step=1), 'min_samples_leaf': IntUniformDistribution(high=5, low=2, step=1), 'max_leaves': IntUniformDistribution(high=5, low=2, step=1)}, user_attrs={}, system_attrs={}, intermediate_values={}, trial_id=198, state=TrialState.COMPLETE, value=None),\n",
       " FrozenTrial(number=199, values=[11.847504716391132], datetime_start=datetime.datetime(2023, 2, 21, 20, 44, 21, 433789), datetime_complete=datetime.datetime(2023, 2, 21, 20, 44, 24, 162200), params={'learning_rate': 0.09990829269631057, 'validation_size': 0.15877039784293784, 'early_stopping_rounds': 110, 'early_stopping_tolerance': 0.00011740120810099084, 'max_rounds': 15834, 'min_samples_leaf': 2, 'max_leaves': 2}, distributions={'learning_rate': UniformDistribution(high=0.1, low=0.01), 'validation_size': UniformDistribution(high=0.2, low=0.15), 'early_stopping_rounds': IntUniformDistribution(high=200, low=50, step=1), 'early_stopping_tolerance': UniformDistribution(high=0.001, low=1e-05), 'max_rounds': IntUniformDistribution(high=20000, low=5000, step=1), 'min_samples_leaf': IntUniformDistribution(high=5, low=2, step=1), 'max_leaves': IntUniformDistribution(high=5, low=2, step=1)}, user_attrs={}, system_attrs={}, intermediate_values={}, trial_id=199, state=TrialState.COMPLETE, value=None)]"
      ]
     },
     "execution_count": 17,
     "metadata": {},
     "output_type": "execute_result"
    }
   ],
   "source": [
    "OptunaObj = obj.get_optimized_object()\n",
    "OptunaObj.trials"
   ]
  },
  {
   "cell_type": "markdown",
   "metadata": {},
   "source": [
    "#### This visualizations provided is for global explanations.\n",
    "\n"
   ]
  },
  {
   "cell_type": "code",
   "execution_count": 18,
   "metadata": {},
   "outputs": [
    {
     "name": "stdout",
     "output_type": "stream",
     "text": [
      "2023-02-21 20:44:25,496 :: interpret.provider.visualize :: Detected non-cloud environment.\n",
      "2023-02-21 20:44:26,359 :: urllib3.connectionpool :: Starting new HTTP connection (1): 127.0.0.1:7001\n",
      "2023-02-21 20:44:26,368 :: interpret.visual.udash :: Generating mini dash\n",
      "2023-02-21 20:44:26,389 :: interpret.visual.udash :: Generated mini dash\n"
     ]
    },
    {
     "data": {
      "text/html": [
       "<!-- http://127.0.0.1:7001/5197223520/ -->\n",
       "<iframe src=\"http://127.0.0.1:7001/5197223520/\" width=100% height=800 frameBorder=\"0\"></iframe>"
      ]
     },
     "metadata": {},
     "output_type": "display_data"
    }
   ],
   "source": [
    "ebm_global = ebm.explain_global()\n",
    "show(ebm_global)\n"
   ]
  },
  {
   "cell_type": "markdown",
   "metadata": {},
   "source": [
    "#### This visualizations provided is for local explanations.\n"
   ]
  },
  {
   "cell_type": "code",
   "execution_count": 19,
   "metadata": {},
   "outputs": [
    {
     "name": "stdout",
     "output_type": "stream",
     "text": [
      "2023-02-21 20:44:26,452 :: interpret.utils._binning :: Unifying data\n",
      "2023-02-21 20:44:26,455 :: interpret.glassbox.ebm.bin :: eval_terms\n",
      "2023-02-21 20:44:26,459 :: interpret.glassbox.ebm.bin :: eval_terms\n",
      "2023-02-21 20:44:26,552 :: urllib3.connectionpool :: Starting new HTTP connection (1): 127.0.0.1:7001\n",
      "2023-02-21 20:44:26,562 :: urllib3.connectionpool :: http://127.0.0.1:7001 \"GET / HTTP/1.1\" 200 2067\n",
      "2023-02-21 20:44:26,564 :: interpret.visual.udash :: Generating mini dash\n",
      "2023-02-21 20:44:26,575 :: interpret.visual.udash :: Generated mini dash\n"
     ]
    },
    {
     "data": {
      "text/html": [
       "<!-- http://127.0.0.1:7001/5208628560/ -->\n",
       "<iframe src=\"http://127.0.0.1:7001/5208628560/\" width=100% height=800 frameBorder=\"0\"></iframe>"
      ]
     },
     "metadata": {},
     "output_type": "display_data"
    },
    {
     "name": "stdout",
     "output_type": "stream",
     "text": [
      "2023-02-21 20:44:26,966 :: interpret.visual.udash :: No overall plot to display: -1|ExplainableBoostingRegressor_1\n"
     ]
    }
   ],
   "source": [
    "ebm_local = ebm.explain_local(X_test[:5], y_test[:5])\n",
    "show(ebm_local)\n"
   ]
  }
 ],
 "metadata": {
  "kernelspec": {
   "display_name": "Python 3.10.4 ('.venv': poetry)",
   "language": "python",
   "name": "python3"
  },
  "language_info": {
   "codemirror_mode": {
    "name": "ipython",
    "version": 3
   },
   "file_extension": ".py",
   "mimetype": "text/x-python",
   "name": "python",
   "nbconvert_exporter": "python",
   "pygments_lexer": "ipython3",
   "version": "3.10.9"
  },
  "orig_nbformat": 4,
  "vscode": {
   "interpreter": {
    "hash": "7ced68e88e9060e5bcf2eaa5b2d4f8fc97e4d610a52d347137abf879072ffb6d"
   }
  }
 },
 "nbformat": 4,
 "nbformat_minor": 2
}
